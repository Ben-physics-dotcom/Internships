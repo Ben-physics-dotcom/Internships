{
  "cells": [
    {
      "cell_type": "markdown",
      "metadata": {
        "id": "-dGESPh2h1Zg"
      },
      "source": [
        "# Arten von Python-Dateien\n",
        "Es gibt zwei Arten von Python Dateien. Zum einen gibt es die .py Datei, die beim Ausführen komplett ausgeführt wird. Das Datei-Format ist eine .ipynb-Datei. Diese Dateien werden auch als Notebooks bezeichnet. Diese haben einzelne Zellen (Cells), die man einzelnd ausführen kann. Bspw. ist diese Datei ein Notebook. Das Format .py wird oft verwenden, um Funktionen und Klassen zu speichern.  "
      ]
    },
    {
      "cell_type": "markdown",
      "metadata": {
        "id": "xE_cZKzIBq_j"
      },
      "source": [
        "# Imports"
      ]
    },
    {
      "cell_type": "code",
      "execution_count": 6,
      "metadata": {
        "id": "XN5eU_38Bkth"
      },
      "outputs": [],
      "source": [
        "import numpy as np\n",
        "import pandas as pd\n",
        "import matplotlib.pyplot as plt\n",
        "plt.style.use('classic')"
      ]
    },
    {
      "cell_type": "code",
      "execution_count": 7,
      "metadata": {
        "id": "QYhnld-Nn1fN"
      },
      "outputs": [],
      "source": [
        "import statsmodels.api as sm"
      ]
    },
    {
      "cell_type": "code",
      "execution_count": 8,
      "metadata": {
        "id": "nPyI70vpRhDV"
      },
      "outputs": [],
      "source": [
        "# hallo, ich bin ein Kommentar, der nicht ausgeführt wird."
      ]
    },
    {
      "cell_type": "markdown",
      "metadata": {
        "id": "pEuu-gVZrcK6"
      },
      "source": [
        "# Functions"
      ]
    },
    {
      "cell_type": "code",
      "execution_count": 9,
      "metadata": {
        "id": "pgCw5DusremI"
      },
      "outputs": [],
      "source": [
        "def chi_sq(observations, expected, error, p=2):\n",
        "    \"\"\"\n",
        "      Variables:\n",
        "        observed [numpy array]:     That are the values that you observed.\n",
        "        expected [numpy array]:     These values are the expected values. i.e. you get this through\n",
        "                                a linear regression\n",
        "        error [numpy array]:        uncertainties of the observed values or the standard derivation\n",
        "        p [integer (int)]:          Number of regression parameters\n",
        "    \"\"\"\n",
        "\n",
        "    cs = 1 / (len(observations) - p) * np.sum((observations - expected)**2 / error**2)\n",
        "    return cs"
      ]
    },
    {
      "cell_type": "markdown",
      "metadata": {
        "id": "cOvOx4IXB14Y"
      },
      "source": [
        "# Data"
      ]
    },
    {
      "cell_type": "code",
      "execution_count": 10,
      "metadata": {},
      "outputs": [],
      "source": [
        "mass = pd.read_csv('20_21_Data/Masse.csv')\n",
        "fd1 = pd.read_csv('20_21_Data/fadenpendel_mr_1.csv')\n",
        "fd2 = pd.read_csv('20_21_Data/fadenpendel_mr_2.csv')\n",
        "rz = pd.read_csv('20_21_Data/reaktionzeit.csv')"
      ]
    },
    {
      "cell_type": "code",
      "execution_count": 11,
      "metadata": {
        "id": "QLGg-UCHDWbm"
      },
      "outputs": [],
      "source": [
        "# in cm\n",
        "u_fd = 0.07\n",
        "\n",
        "# in cm\n",
        "u_al = 0.07\n",
        "\n",
        "# in seconds\n",
        "# u_t20 = 0.25 #s\n",
        "# u_T = u_t20/20\n",
        "\n",
        "# in gramm\n",
        "u_m = 1\n",
        "\n",
        "# in cm\n",
        "u_dm = 0.05"
      ]
    },
    {
      "cell_type": "markdown",
      "metadata": {
        "id": "eABbRnxPQJp0"
      },
      "source": [
        "# Python Grundlagen"
      ]
    },
    {
      "cell_type": "markdown",
      "metadata": {
        "id": "DJlkt_5UTBax"
      },
      "source": [
        "## Datentypen"
      ]
    },
    {
      "cell_type": "code",
      "execution_count": 12,
      "metadata": {
        "colab": {
          "base_uri": "https://localhost:8080/"
        },
        "id": "8llT3hqMQhVs",
        "outputId": "28b34c8e-15d4-4345-ef8e-b8bcd0d505cd"
      },
      "outputs": [
        {
          "name": "stdout",
          "output_type": "stream",
          "text": [
            "Hallo, ich bin ein String.\n",
            "Hallo, ich bin ein f-String.\n",
            " Man kann bpsw. 2 verwenden.\n",
            "Ich bin ein sehr langer String\n",
            "            über mehrere Zeilen.\n"
          ]
        }
      ],
      "source": [
        "# String\n",
        "string_bsp = 'Hallo, ich bin ein String.'\n",
        "print(string_bsp)\n",
        "string2 = f'Hallo, ich bin ein f-String.\\n Man kann bpsw. {1 + 1} verwenden.'\n",
        "print(string2)\n",
        "string3 = '''Ich bin ein sehr langer String\n",
        "            über mehrere Zeilen.'''\n",
        "print(string3)"
      ]
    },
    {
      "cell_type": "code",
      "execution_count": 13,
      "metadata": {
        "colab": {
          "base_uri": "https://localhost:8080/"
        },
        "id": "7saHdxC_RVSg",
        "outputId": "8cff4720-cce4-4151-d6dd-8584fb69114a"
      },
      "outputs": [
        {
          "name": "stdout",
          "output_type": "stream",
          "text": [
            "(1+3j)\n",
            "(3+3j)\n",
            "3\n",
            "1.0\n"
          ]
        }
      ],
      "source": [
        "# int: integers sind ganze Zahlen\n",
        "integer = 1\n",
        "integer2 = -2\n",
        "\n",
        "# float: dt. Gleitkommazahlen. Damit sind 'alle' reellen Zahlen gemeint. Bspw. pi und e (Eulerzahl)\n",
        "# müssen importiert werden, Bsp.: np.pi\n",
        "float1 = 0.1\n",
        "\n",
        "# Komplexe Zahlen\n",
        "komplex = complex(1, 3)\n",
        "print(komplex)\n",
        "k1 = 3 + 3j\n",
        "print(k1)\n",
        "\n",
        "# Umwandlung von float nach int und int nach float\n",
        "int3 = int(np.pi)\n",
        "print(int3)\n",
        "float2 = float(integer)\n",
        "print(float2)"
      ]
    },
    {
      "cell_type": "code",
      "execution_count": 14,
      "metadata": {
        "colab": {
          "base_uri": "https://localhost:8080/"
        },
        "id": "68BsOR25QPNp",
        "outputId": "2ca44c8f-a204-4061-9260-6ff6e474e3fc"
      },
      "outputs": [
        {
          "name": "stdout",
          "output_type": "stream",
          "text": [
            "{0, 1, 2, 3, 4, 5, 6, 7, 9}\n"
          ]
        }
      ],
      "source": [
        "# Listen\n",
        "liste1 = [1, 'a', 1.4]\n",
        "list2 = []\n",
        "list3 = list()\n",
        "# Tuple\n",
        "tple = (1, 2, 3, 4)\n",
        "# set (Menge)\n",
        "lst = [1, 3, 3, 4, 3, 2, 3, 4, 2, 4, 5, 6, 3, 4, 3, 3, 4, 4, 3, 2, 4, 5, 6, 7, 9, 9, 3, 0, 9, 0, 4, 3, 0]\n",
        "st = set(lst)\n",
        "print(st)"
      ]
    },
    {
      "cell_type": "code",
      "execution_count": 15,
      "metadata": {
        "colab": {
          "base_uri": "https://localhost:8080/"
        },
        "id": "ET4hImbZUGKT",
        "outputId": "e85486b3-63a4-4532-e948-c8cfb96e9afb"
      },
      "outputs": [
        {
          "name": "stdout",
          "output_type": "stream",
          "text": [
            "{'val1': 1, 'val2': 'text', 'val3': 3.141592653589793}\n",
            "dict_keys(['val1', 'val2', 'val3'])\n",
            "dict_values([1, 'text', 3.141592653589793])\n"
          ]
        }
      ],
      "source": [
        "# dictionary\n",
        "dictionary = {'val1': 1,\n",
        "              'val2': 'text',\n",
        "              'val3': np.pi\n",
        "              }\n",
        "print(dictionary)\n",
        "print(dictionary.keys())\n",
        "print(dictionary.values())"
      ]
    },
    {
      "cell_type": "code",
      "execution_count": 16,
      "metadata": {
        "colab": {
          "base_uri": "https://localhost:8080/"
        },
        "id": "nfA05bQCY6zf",
        "outputId": "bde2ea4e-75b7-4148-c3e6-425e0a56bc32"
      },
      "outputs": [
        {
          "data": {
            "text/plain": [
              "True"
            ]
          },
          "execution_count": 16,
          "metadata": {},
          "output_type": "execute_result"
        }
      ],
      "source": [
        "# boolean\n",
        "true = True\n",
        "false = False\n",
        "true"
      ]
    },
    {
      "cell_type": "markdown",
      "metadata": {
        "id": "P0NmArMfU57Q"
      },
      "source": [
        "Was soll ich machen, wenn ich nicht weiß, was der Datentyp von einer Variablen ist?"
      ]
    },
    {
      "cell_type": "code",
      "execution_count": 17,
      "metadata": {
        "colab": {
          "base_uri": "https://localhost:8080/"
        },
        "id": "6NE4XDY9VBmj",
        "outputId": "72c90e58-ee4f-4945-c846-67ed2e2bfa60"
      },
      "outputs": [
        {
          "data": {
            "text/plain": [
              "dict"
            ]
          },
          "execution_count": 17,
          "metadata": {},
          "output_type": "execute_result"
        }
      ],
      "source": [
        "type(dictionary)"
      ]
    },
    {
      "cell_type": "code",
      "execution_count": 18,
      "metadata": {
        "colab": {
          "base_uri": "https://localhost:8080/"
        },
        "id": "ASCvEdm1Vp1u",
        "outputId": "9f087c13-b7ed-48cc-ef0b-77c823234bca"
      },
      "outputs": [
        {
          "data": {
            "text/plain": [
              "3.142"
            ]
          },
          "execution_count": 18,
          "metadata": {},
          "output_type": "execute_result"
        }
      ],
      "source": [
        "# runden\n",
        "pi = round(np.pi, 3)\n",
        "pi"
      ]
    },
    {
      "cell_type": "markdown",
      "metadata": {
        "id": "GdwBOzt5QJl6"
      },
      "source": [
        "## Schleifen und if-Bedingung"
      ]
    },
    {
      "cell_type": "code",
      "execution_count": 19,
      "metadata": {
        "colab": {
          "base_uri": "https://localhost:8080/"
        },
        "id": "k0fe4ypHVKYo",
        "outputId": "41261f44-bea6-4c70-c2a5-aeed9420ed2a"
      },
      "outputs": [
        {
          "name": "stdout",
          "output_type": "stream",
          "text": [
            "Liste lst2:\n",
            " [0.0, 3.142, 6.284, 9.426, 12.568, 15.709999999999999, 18.852, 21.994, 25.136, 28.278]\n",
            "Liste lst3:\n",
            " [np.float64(0.0), np.float64(0.1357228337), np.float64(0.0117254536), np.float64(0.0007597446), np.float64(4.37576e-05), np.float64(2.3627e-06), np.float64(1.225e-07), np.float64(6.2e-09), np.float64(3e-10), np.float64(0.0)]\n"
          ]
        },
        {
          "data": {
            "text/plain": [
              "[np.float64(0.0),\n",
              " np.float64(0.0),\n",
              " np.float64(3e-10),\n",
              " np.float64(6.2e-09),\n",
              " np.float64(1.225e-07),\n",
              " np.float64(2.3627e-06),\n",
              " np.float64(4.37576e-05),\n",
              " np.float64(0.0007597446),\n",
              " np.float64(0.0117254536),\n",
              " np.float64(0.1357228337)]"
            ]
          },
          "execution_count": 19,
          "metadata": {},
          "output_type": "execute_result"
        }
      ],
      "source": [
        "# for loop\n",
        "lst2 = []\n",
        "for i in range(10):\n",
        "    x = i * pi\n",
        "    lst2.append(x)\n",
        "print(f'Liste lst2:\\n {lst2}')\n",
        "lst3 = []\n",
        "for x in lst2:\n",
        "    y = round(x * np.exp(-x), 10)\n",
        "    lst3.append(y)\n",
        "\n",
        "print(f'Liste lst3:\\n {lst3}')\n",
        "\n",
        "# sort funktion von Listen\n",
        "lst3.sort()\n",
        "lst3"
      ]
    },
    {
      "cell_type": "code",
      "execution_count": 20,
      "metadata": {
        "colab": {
          "base_uri": "https://localhost:8080/"
        },
        "id": "sx6IaNlhZUAc",
        "outputId": "8e819d91-ca5c-467f-a34f-8909356a6948"
      },
      "outputs": [
        {
          "name": "stdout",
          "output_type": "stream",
          "text": [
            "2.5\n",
            "False\n"
          ]
        }
      ],
      "source": [
        "x = 2.5\n",
        "y = 2.5\n",
        "z = 3.0\n",
        "a = 3\n",
        "# if-Bedingung 1:\n",
        "if x == y:\n",
        "    print(x)\n",
        "elif z == y:\n",
        "    print(z)\n",
        "else:\n",
        "    print(False)\n",
        "\n",
        "# if-Bedingung 2:\n",
        "if x == a:\n",
        "    print(x)\n",
        "elif z == y:\n",
        "    print(z)\n",
        "else:\n",
        "    print(False)"
      ]
    },
    {
      "cell_type": "markdown",
      "metadata": {
        "id": "8ZqEK2rva5Ac"
      },
      "source": [
        "## Arithmetik"
      ]
    },
    {
      "cell_type": "code",
      "execution_count": 21,
      "metadata": {
        "colab": {
          "base_uri": "https://localhost:8080/"
        },
        "id": "CMdJZlBMZT9W",
        "outputId": "c6f2b59d-3ddd-433e-a58b-f418675fd19e"
      },
      "outputs": [
        {
          "name": "stdout",
          "output_type": "stream",
          "text": [
            "3\n",
            "-1\n",
            "6\n",
            "1.5\n",
            "9\n",
            "1.0\n"
          ]
        }
      ],
      "source": [
        "# Addition\n",
        "print(1 + 2)\n",
        "\n",
        "# Subtraktion\n",
        "print(2 - 3)\n",
        "\n",
        "# Multiplikation\n",
        "print(3 * 2)\n",
        "\n",
        "# Division\n",
        "print(3 / 2)\n",
        "# Potenzen\n",
        "print(3**2)\n",
        "# natürlicher Logarithmus\n",
        "print(np.log(np.exp(1)))"
      ]
    },
    {
      "cell_type": "markdown",
      "metadata": {
        "id": "5ckuED6PcXek"
      },
      "source": [
        "## Data Frames"
      ]
    },
    {
      "cell_type": "code",
      "execution_count": 22,
      "metadata": {
        "colab": {
          "base_uri": "https://localhost:8080/",
          "height": 206
        },
        "id": "UQultjNRccPP",
        "outputId": "6268b1af-6243-4dce-b546-5a100804835a"
      },
      "outputs": [
        {
          "data": {
            "text/html": [
              "<div>\n",
              "<style scoped>\n",
              "    .dataframe tbody tr th:only-of-type {\n",
              "        vertical-align: middle;\n",
              "    }\n",
              "\n",
              "    .dataframe tbody tr th {\n",
              "        vertical-align: top;\n",
              "    }\n",
              "\n",
              "    .dataframe thead th {\n",
              "        text-align: right;\n",
              "    }\n",
              "</style>\n",
              "<table border=\"1\" class=\"dataframe\">\n",
              "  <thead>\n",
              "    <tr style=\"text-align: right;\">\n",
              "      <th></th>\n",
              "      <th>Name</th>\n",
              "      <th>Alter</th>\n",
              "      <th>Groesse</th>\n",
              "    </tr>\n",
              "  </thead>\n",
              "  <tbody>\n",
              "    <tr>\n",
              "      <th>0</th>\n",
              "      <td>Alex</td>\n",
              "      <td>18</td>\n",
              "      <td>1.70</td>\n",
              "    </tr>\n",
              "    <tr>\n",
              "      <th>1</th>\n",
              "      <td>Bernhard</td>\n",
              "      <td>35</td>\n",
              "      <td>1.80</td>\n",
              "    </tr>\n",
              "    <tr>\n",
              "      <th>2</th>\n",
              "      <td>Carlotta</td>\n",
              "      <td>25</td>\n",
              "      <td>1.57</td>\n",
              "    </tr>\n",
              "    <tr>\n",
              "      <th>3</th>\n",
              "      <td>Bernd</td>\n",
              "      <td>17</td>\n",
              "      <td>1.89</td>\n",
              "    </tr>\n",
              "    <tr>\n",
              "      <th>4</th>\n",
              "      <td>Tom</td>\n",
              "      <td>28</td>\n",
              "      <td>1.19</td>\n",
              "    </tr>\n",
              "  </tbody>\n",
              "</table>\n",
              "</div>"
            ],
            "text/plain": [
              "       Name  Alter  Groesse\n",
              "0      Alex     18     1.70\n",
              "1  Bernhard     35     1.80\n",
              "2  Carlotta     25     1.57\n",
              "3     Bernd     17     1.89\n",
              "4       Tom     28     1.19"
            ]
          },
          "execution_count": 22,
          "metadata": {},
          "output_type": "execute_result"
        }
      ],
      "source": [
        "name = ['Alex', 'Bernhard', 'Carlotta', 'Bernd', 'Tom', 'Naeem', 'Kevin']\n",
        "alter = [18, 35, 25, 17, 28, 39, 30]\n",
        "groesse = [1.70, 1.80, 1.57, 1.89, 1.19, None, None]\n",
        "\n",
        "df = pd.DataFrame({\n",
        "    'Name': name,\n",
        "    'Alter': alter,\n",
        "    'Groesse': groesse\n",
        "})\n",
        "df.head()"
      ]
    },
    {
      "cell_type": "code",
      "execution_count": 23,
      "metadata": {
        "colab": {
          "base_uri": "https://localhost:8080/",
          "height": 206
        },
        "id": "yQIZmzbrdvN3",
        "outputId": "8f6e33e0-21bb-4316-f7c4-cbb980bdee31"
      },
      "outputs": [
        {
          "data": {
            "text/html": [
              "<div>\n",
              "<style scoped>\n",
              "    .dataframe tbody tr th:only-of-type {\n",
              "        vertical-align: middle;\n",
              "    }\n",
              "\n",
              "    .dataframe tbody tr th {\n",
              "        vertical-align: top;\n",
              "    }\n",
              "\n",
              "    .dataframe thead th {\n",
              "        text-align: right;\n",
              "    }\n",
              "</style>\n",
              "<table border=\"1\" class=\"dataframe\">\n",
              "  <thead>\n",
              "    <tr style=\"text-align: right;\">\n",
              "      <th></th>\n",
              "      <th>Name</th>\n",
              "      <th>Alter</th>\n",
              "      <th>Groesse</th>\n",
              "    </tr>\n",
              "  </thead>\n",
              "  <tbody>\n",
              "    <tr>\n",
              "      <th>2</th>\n",
              "      <td>Carlotta</td>\n",
              "      <td>25</td>\n",
              "      <td>1.57</td>\n",
              "    </tr>\n",
              "    <tr>\n",
              "      <th>3</th>\n",
              "      <td>Bernd</td>\n",
              "      <td>17</td>\n",
              "      <td>1.89</td>\n",
              "    </tr>\n",
              "    <tr>\n",
              "      <th>4</th>\n",
              "      <td>Tom</td>\n",
              "      <td>28</td>\n",
              "      <td>1.19</td>\n",
              "    </tr>\n",
              "    <tr>\n",
              "      <th>5</th>\n",
              "      <td>Naeem</td>\n",
              "      <td>39</td>\n",
              "      <td>NaN</td>\n",
              "    </tr>\n",
              "    <tr>\n",
              "      <th>6</th>\n",
              "      <td>Kevin</td>\n",
              "      <td>30</td>\n",
              "      <td>NaN</td>\n",
              "    </tr>\n",
              "  </tbody>\n",
              "</table>\n",
              "</div>"
            ],
            "text/plain": [
              "       Name  Alter  Groesse\n",
              "2  Carlotta     25     1.57\n",
              "3     Bernd     17     1.89\n",
              "4       Tom     28     1.19\n",
              "5     Naeem     39      NaN\n",
              "6     Kevin     30      NaN"
            ]
          },
          "execution_count": 23,
          "metadata": {},
          "output_type": "execute_result"
        }
      ],
      "source": [
        "df.tail()"
      ]
    },
    {
      "cell_type": "code",
      "execution_count": 24,
      "metadata": {
        "colab": {
          "base_uri": "https://localhost:8080/",
          "height": 238
        },
        "id": "RmykDhzCd1B9",
        "outputId": "320e7fd6-e804-48c6-dc06-e87831b7fd24"
      },
      "outputs": [
        {
          "data": {
            "text/html": [
              "<div>\n",
              "<style scoped>\n",
              "    .dataframe tbody tr th:only-of-type {\n",
              "        vertical-align: middle;\n",
              "    }\n",
              "\n",
              "    .dataframe tbody tr th {\n",
              "        vertical-align: top;\n",
              "    }\n",
              "\n",
              "    .dataframe thead th {\n",
              "        text-align: right;\n",
              "    }\n",
              "</style>\n",
              "<table border=\"1\" class=\"dataframe\">\n",
              "  <thead>\n",
              "    <tr style=\"text-align: right;\">\n",
              "      <th></th>\n",
              "      <th>Name</th>\n",
              "      <th>Alter</th>\n",
              "      <th>Groesse</th>\n",
              "      <th>Groess/Alter Ratio</th>\n",
              "    </tr>\n",
              "  </thead>\n",
              "  <tbody>\n",
              "    <tr>\n",
              "      <th>0</th>\n",
              "      <td>Alex</td>\n",
              "      <td>18</td>\n",
              "      <td>1.70</td>\n",
              "      <td>0.094444</td>\n",
              "    </tr>\n",
              "    <tr>\n",
              "      <th>1</th>\n",
              "      <td>Bernhard</td>\n",
              "      <td>35</td>\n",
              "      <td>1.80</td>\n",
              "      <td>0.051429</td>\n",
              "    </tr>\n",
              "    <tr>\n",
              "      <th>2</th>\n",
              "      <td>Carlotta</td>\n",
              "      <td>25</td>\n",
              "      <td>1.57</td>\n",
              "      <td>0.062800</td>\n",
              "    </tr>\n",
              "    <tr>\n",
              "      <th>3</th>\n",
              "      <td>Bernd</td>\n",
              "      <td>17</td>\n",
              "      <td>1.89</td>\n",
              "      <td>0.111176</td>\n",
              "    </tr>\n",
              "    <tr>\n",
              "      <th>4</th>\n",
              "      <td>Tom</td>\n",
              "      <td>28</td>\n",
              "      <td>1.19</td>\n",
              "      <td>0.042500</td>\n",
              "    </tr>\n",
              "    <tr>\n",
              "      <th>5</th>\n",
              "      <td>Naeem</td>\n",
              "      <td>39</td>\n",
              "      <td>NaN</td>\n",
              "      <td>NaN</td>\n",
              "    </tr>\n",
              "  </tbody>\n",
              "</table>\n",
              "</div>"
            ],
            "text/plain": [
              "       Name  Alter  Groesse  Groess/Alter Ratio\n",
              "0      Alex     18     1.70            0.094444\n",
              "1  Bernhard     35     1.80            0.051429\n",
              "2  Carlotta     25     1.57            0.062800\n",
              "3     Bernd     17     1.89            0.111176\n",
              "4       Tom     28     1.19            0.042500\n",
              "5     Naeem     39      NaN                 NaN"
            ]
          },
          "execution_count": 24,
          "metadata": {},
          "output_type": "execute_result"
        }
      ],
      "source": [
        "df['Groess/Alter Ratio'] = df['Groesse'] / df['Alter']\n",
        "df.head(6)"
      ]
    },
    {
      "cell_type": "code",
      "execution_count": 25,
      "metadata": {
        "colab": {
          "base_uri": "https://localhost:8080/"
        },
        "id": "aPRe_YGHeHVs",
        "outputId": "9bfad42d-8a6c-41fb-d35a-9f0a06e39ef0"
      },
      "outputs": [
        {
          "name": "stdout",
          "output_type": "stream",
          "text": [
            "[0, 1, 2, 3, 4, 5, 6]\n",
            "Index(['Name', 'Alter', 'Groesse', 'Groess/Alter Ratio'], dtype='object')\n"
          ]
        }
      ],
      "source": [
        "print(list(df.index))\n",
        "print(df.columns)"
      ]
    },
    {
      "cell_type": "markdown",
      "metadata": {
        "id": "kmfvHCAFegRu"
      },
      "source": [
        "## Numpy"
      ]
    },
    {
      "cell_type": "code",
      "execution_count": 26,
      "metadata": {
        "colab": {
          "base_uri": "https://localhost:8080/"
        },
        "id": "zqYmpuCMef5d",
        "outputId": "08c66559-f8ca-45c5-ecca-9e18dc9c22db"
      },
      "outputs": [
        {
          "name": "stdout",
          "output_type": "stream",
          "text": [
            "[0. 0. 0. 0. 0. 0. 0. 0.]\n",
            "[1. 1. 1. 1. 1. 1. 1. 1.]\n",
            "<class 'numpy.ndarray'>\n",
            "[[ 1]\n",
            " [32]\n",
            " [ 4]\n",
            " [ 5]\n",
            " [ 6]]\n"
          ]
        }
      ],
      "source": [
        "# Vektoren\n",
        "vec = np.array([1, 3, 4, 5, 6, 7, 8])\n",
        "vec1 = np.array([[1, 32, 4, 5, 6]])\n",
        "Null_vektor = np.zeros(8)\n",
        "print(Null_vektor)\n",
        "Einser_vektor = np.ones(8)\n",
        "print(Einser_vektor)\n",
        "print(type(Einser_vektor))\n",
        "print(vec1.T)"
      ]
    },
    {
      "cell_type": "code",
      "execution_count": 27,
      "metadata": {
        "colab": {
          "base_uri": "https://localhost:8080/"
        },
        "id": "aZoSYUIUfhm2",
        "outputId": "90d08dff-348b-46e2-9177-f440a7b0e7f5"
      },
      "outputs": [
        {
          "name": "stdout",
          "output_type": "stream",
          "text": [
            "[[0. 0. 0. 0. 0.]\n",
            " [0. 0. 0. 0. 0.]\n",
            " [0. 0. 0. 0. 0.]\n",
            " [0. 0. 0. 0. 0.]\n",
            " [0. 0. 0. 0. 0.]]\n",
            "[[1. 1. 1. 1. 1.]\n",
            " [1. 1. 1. 1. 1.]\n",
            " [1. 1. 1. 1. 1.]\n",
            " [1. 1. 1. 1. 1.]\n",
            " [1. 1. 1. 1. 1.]]\n"
          ]
        }
      ],
      "source": [
        "# Matrizen\n",
        "Null_mat = np.zeros((5, 5))\n",
        "print(Null_mat)\n",
        "eins_mat = np.ones((5, 5))\n",
        "print(eins_mat)"
      ]
    },
    {
      "cell_type": "code",
      "execution_count": 28,
      "metadata": {
        "colab": {
          "base_uri": "https://localhost:8080/"
        },
        "id": "EBeVWqvtfvAG",
        "outputId": "d6a6b17d-cc87-4512-acc0-897aca4b7077"
      },
      "outputs": [
        {
          "name": "stdout",
          "output_type": "stream",
          "text": [
            "[[5. 5. 5. 5. 5.]\n",
            " [5. 5. 5. 5. 5.]\n",
            " [5. 5. 5. 5. 5.]\n",
            " [5. 5. 5. 5. 5.]\n",
            " [5. 5. 5. 5. 5.]]\n",
            "[[0. 0. 0. 0. 0.]\n",
            " [0. 0. 0. 0. 0.]\n",
            " [0. 0. 0. 0. 0.]\n",
            " [0. 0. 0. 0. 0.]\n",
            " [0. 0. 0. 0. 0.]]\n"
          ]
        },
        {
          "data": {
            "text/plain": [
              "array([[25., 25., 25., 25., 25.],\n",
              "       [25., 25., 25., 25., 25.],\n",
              "       [25., 25., 25., 25., 25.],\n",
              "       [25., 25., 25., 25., 25.],\n",
              "       [25., 25., 25., 25., 25.]])"
            ]
          },
          "execution_count": 28,
          "metadata": {},
          "output_type": "execute_result"
        }
      ],
      "source": [
        "# Elementweise Multiplikation\n",
        "A = 5 * eins_mat\n",
        "print(A)\n",
        "B = A * Null_mat\n",
        "print(B)\n",
        "# Matrix Multiplikation\n",
        "A @ eins_mat"
      ]
    },
    {
      "cell_type": "code",
      "execution_count": 29,
      "metadata": {
        "id": "xj0u4ojxg0SL"
      },
      "outputs": [],
      "source": [
        "C = np.array([\n",
        "    [1, 3, 5],\n",
        "    [1, 13, 17],\n",
        "    [np.pi, np.exp(2.5), 9]\n",
        "    ])"
      ]
    },
    {
      "cell_type": "code",
      "execution_count": 30,
      "metadata": {
        "id": "27LJP--9g0OT"
      },
      "outputs": [
        {
          "data": {
            "text/plain": [
              "array([[ 1.        ,  3.        ,  5.        ],\n",
              "       [ 1.        , 13.        , 17.        ],\n",
              "       [ 3.14159265, 12.18249396,  9.        ]])"
            ]
          },
          "execution_count": 30,
          "metadata": {},
          "output_type": "execute_result"
        }
      ],
      "source": [
        "C"
      ]
    },
    {
      "cell_type": "code",
      "execution_count": 31,
      "metadata": {
        "colab": {
          "base_uri": "https://localhost:8080/"
        },
        "id": "CJ8ghEi0gcRN",
        "outputId": "6e8ff4bd-9516-4a33-fcde-1126e0b1a151"
      },
      "outputs": [
        {
          "name": "stdout",
          "output_type": "stream",
          "text": [
            "EigResult(eigenvalues=array([0.00000000e+00, 2.50000000e+01, 4.93038066e-32, 4.44089210e-16,\n",
            "       0.00000000e+00]), eigenvectors=array([[-0.89442719, -0.4472136 ,  0.85220764, -0.2236068 , -0.89442719],\n",
            "       [ 0.2236068 , -0.4472136 , -0.21305191, -0.2236068 ,  0.2236068 ],\n",
            "       [ 0.2236068 , -0.4472136 , -0.33699926, -0.2236068 ,  0.2236068 ],\n",
            "       [ 0.2236068 , -0.4472136 , -0.33699926, -0.2236068 ,  0.2236068 ],\n",
            "       [ 0.2236068 , -0.4472136 ,  0.0348428 ,  0.89442719,  0.2236068 ]])) \n",
            "\n",
            "-100.17222467869883 \n",
            "\n",
            "[[ 0.89947486 -0.33854165  0.1397593 ]\n",
            " [-0.44330727  0.0669643   0.11979369]\n",
            " [ 0.28608939  0.02752975 -0.09982807]] \n",
            "\n",
            "1 \n",
            "\n",
            "3 \n",
            "\n"
          ]
        }
      ],
      "source": [
        "# Lineare Algebra\n",
        "from numpy import linalg\n",
        "# Eigenwerte/-vektoren\n",
        "print(linalg.eig(A), '\\n')\n",
        "# Determinante\n",
        "print(linalg.det(C), '\\n')\n",
        "# Inverse\n",
        "print(linalg.inv(C), '\\n')\n",
        "# Rang\n",
        "print(linalg.matrix_rank(A), '\\n')\n",
        "print(linalg.matrix_rank(C), '\\n')"
      ]
    },
    {
      "cell_type": "markdown",
      "metadata": {
        "id": "Z09pXkBtD_2P"
      },
      "source": [
        "# Analyse"
      ]
    },
    {
      "cell_type": "markdown",
      "metadata": {
        "id": "Mxv9brUZx59v"
      },
      "source": [
        "## Durchmesser und Massenmittelwert"
      ]
    },
    {
      "cell_type": "code",
      "execution_count": 32,
      "metadata": {
        "colab": {
          "base_uri": "https://localhost:8080/",
          "height": 206
        },
        "id": "n3ezXJWhDWZn",
        "outputId": "eaf861cd-eb5d-4395-9d75-de46a4d78da5"
      },
      "outputs": [
        {
          "data": {
            "text/html": [
              "<div>\n",
              "<style scoped>\n",
              "    .dataframe tbody tr th:only-of-type {\n",
              "        vertical-align: middle;\n",
              "    }\n",
              "\n",
              "    .dataframe tbody tr th {\n",
              "        vertical-align: top;\n",
              "    }\n",
              "\n",
              "    .dataframe thead th {\n",
              "        text-align: right;\n",
              "    }\n",
              "</style>\n",
              "<table border=\"1\" class=\"dataframe\">\n",
              "  <thead>\n",
              "    <tr style=\"text-align: right;\">\n",
              "      <th></th>\n",
              "      <th>Messung</th>\n",
              "      <th>Masse [g]</th>\n",
              "      <th>Durchmesser [cm]</th>\n",
              "    </tr>\n",
              "  </thead>\n",
              "  <tbody>\n",
              "    <tr>\n",
              "      <th>0</th>\n",
              "      <td>1</td>\n",
              "      <td>197</td>\n",
              "      <td>4.30</td>\n",
              "    </tr>\n",
              "    <tr>\n",
              "      <th>1</th>\n",
              "      <td>2</td>\n",
              "      <td>197</td>\n",
              "      <td>4.00</td>\n",
              "    </tr>\n",
              "    <tr>\n",
              "      <th>2</th>\n",
              "      <td>3</td>\n",
              "      <td>197</td>\n",
              "      <td>4.05</td>\n",
              "    </tr>\n",
              "    <tr>\n",
              "      <th>3</th>\n",
              "      <td>4</td>\n",
              "      <td>197</td>\n",
              "      <td>4.45</td>\n",
              "    </tr>\n",
              "    <tr>\n",
              "      <th>4</th>\n",
              "      <td>5</td>\n",
              "      <td>196</td>\n",
              "      <td>4.15</td>\n",
              "    </tr>\n",
              "  </tbody>\n",
              "</table>\n",
              "</div>"
            ],
            "text/plain": [
              "   Messung  Masse [g]  Durchmesser [cm]\n",
              "0        1        197              4.30\n",
              "1        2        197              4.00\n",
              "2        3        197              4.05\n",
              "3        4        197              4.45\n",
              "4        5        196              4.15"
            ]
          },
          "execution_count": 32,
          "metadata": {},
          "output_type": "execute_result"
        }
      ],
      "source": [
        "mass.head()"
      ]
    },
    {
      "cell_type": "code",
      "execution_count": 33,
      "metadata": {
        "colab": {
          "base_uri": "https://localhost:8080/"
        },
        "id": "83QHeaR5EIEC",
        "outputId": "64baf052-536f-4004-9558-24357d821a1b"
      },
      "outputs": [
        {
          "name": "stdout",
          "output_type": "stream",
          "text": [
            "Masse: 196.8+-2.8\n"
          ]
        }
      ],
      "source": [
        "m = round(mass['Masse [g]'].mean(), 1)\n",
        "u_m = round(u_m * np.sqrt(len(mass)), 1)\n",
        "print(f'Masse: {m}+-{u_m}')"
      ]
    },
    {
      "cell_type": "code",
      "execution_count": 34,
      "metadata": {
        "colab": {
          "base_uri": "https://localhost:8080/"
        },
        "id": "2ROB1yUyE1ny",
        "outputId": "5c32bb88-bf08-47ec-d546-7762948e5d9d"
      },
      "outputs": [
        {
          "data": {
            "text/plain": [
              "np.float64(0.14)"
            ]
          },
          "execution_count": 34,
          "metadata": {},
          "output_type": "execute_result"
        }
      ],
      "source": [
        "u_d = round(u_dm * np.sqrt(len(mass['Durchmesser [cm]'])), 2)\n",
        "u_d"
      ]
    },
    {
      "cell_type": "code",
      "execution_count": 35,
      "metadata": {
        "colab": {
          "base_uri": "https://localhost:8080/"
        },
        "id": "pzM56-msE1lp",
        "outputId": "bc8f0b6e-d919-4c05-b6e1-b8ca915e1acd"
      },
      "outputs": [
        {
          "name": "stdout",
          "output_type": "stream",
          "text": [
            "Durchmesser: 4.21+-0.14\n"
          ]
        }
      ],
      "source": [
        "d = round(np.mean(mass['Durchmesser [cm]']), 2)\n",
        "print(f'Durchmesser: {d}+-{u_d}')"
      ]
    },
    {
      "cell_type": "markdown",
      "metadata": {
        "id": "np9XWoDTyBVF"
      },
      "source": [
        "## Reaktionszeit"
      ]
    },
    {
      "cell_type": "code",
      "execution_count": 36,
      "metadata": {
        "colab": {
          "base_uri": "https://localhost:8080/",
          "height": 206
        },
        "id": "RVCnotr4yDUP",
        "outputId": "2e950e3f-c7a7-40df-ab2f-299d38015a40"
      },
      "outputs": [
        {
          "data": {
            "text/html": [
              "<div>\n",
              "<style scoped>\n",
              "    .dataframe tbody tr th:only-of-type {\n",
              "        vertical-align: middle;\n",
              "    }\n",
              "\n",
              "    .dataframe tbody tr th {\n",
              "        vertical-align: top;\n",
              "    }\n",
              "\n",
              "    .dataframe thead th {\n",
              "        text-align: right;\n",
              "    }\n",
              "</style>\n",
              "<table border=\"1\" class=\"dataframe\">\n",
              "  <thead>\n",
              "    <tr style=\"text-align: right;\">\n",
              "      <th></th>\n",
              "      <th>h1 [cm]</th>\n",
              "      <th>h2 [cm]</th>\n",
              "    </tr>\n",
              "  </thead>\n",
              "  <tbody>\n",
              "    <tr>\n",
              "      <th>0</th>\n",
              "      <td>141.2</td>\n",
              "      <td>105.95</td>\n",
              "    </tr>\n",
              "    <tr>\n",
              "      <th>1</th>\n",
              "      <td>T1 [s]</td>\n",
              "      <td>T2 [s]</td>\n",
              "    </tr>\n",
              "    <tr>\n",
              "      <th>2</th>\n",
              "      <td>0.67</td>\n",
              "      <td>0.47</td>\n",
              "    </tr>\n",
              "    <tr>\n",
              "      <th>3</th>\n",
              "      <td>0.73</td>\n",
              "      <td>0.41</td>\n",
              "    </tr>\n",
              "    <tr>\n",
              "      <th>4</th>\n",
              "      <td>0.47</td>\n",
              "      <td>0.48</td>\n",
              "    </tr>\n",
              "  </tbody>\n",
              "</table>\n",
              "</div>"
            ],
            "text/plain": [
              "  h1 [cm]  h2 [cm]\n",
              "0   141.2   105.95\n",
              "1  T1 [s]   T2 [s]\n",
              "2    0.67     0.47\n",
              "3    0.73     0.41\n",
              "4    0.47     0.48"
            ]
          },
          "execution_count": 36,
          "metadata": {},
          "output_type": "execute_result"
        }
      ],
      "source": [
        "rz.head()"
      ]
    },
    {
      "cell_type": "code",
      "execution_count": 37,
      "metadata": {
        "id": "Y08aRzCZyPww"
      },
      "outputs": [],
      "source": [
        "h1 = 141.2\n",
        "h2 = 105.95\n",
        "u_h = 0.05"
      ]
    },
    {
      "cell_type": "code",
      "execution_count": 38,
      "metadata": {
        "colab": {
          "base_uri": "https://localhost:8080/",
          "height": 206
        },
        "id": "LEjGLbE9yeaB",
        "outputId": "507401f3-0de1-4ffa-e2e7-7cc59f2f22ae"
      },
      "outputs": [
        {
          "data": {
            "text/html": [
              "<div>\n",
              "<style scoped>\n",
              "    .dataframe tbody tr th:only-of-type {\n",
              "        vertical-align: middle;\n",
              "    }\n",
              "\n",
              "    .dataframe tbody tr th {\n",
              "        vertical-align: top;\n",
              "    }\n",
              "\n",
              "    .dataframe thead th {\n",
              "        text-align: right;\n",
              "    }\n",
              "</style>\n",
              "<table border=\"1\" class=\"dataframe\">\n",
              "  <thead>\n",
              "    <tr style=\"text-align: right;\">\n",
              "      <th></th>\n",
              "      <th>h1 [cm]</th>\n",
              "      <th>h2 [cm]</th>\n",
              "    </tr>\n",
              "  </thead>\n",
              "  <tbody>\n",
              "    <tr>\n",
              "      <th>2</th>\n",
              "      <td>0.67</td>\n",
              "      <td>0.47</td>\n",
              "    </tr>\n",
              "    <tr>\n",
              "      <th>3</th>\n",
              "      <td>0.73</td>\n",
              "      <td>0.41</td>\n",
              "    </tr>\n",
              "    <tr>\n",
              "      <th>4</th>\n",
              "      <td>0.47</td>\n",
              "      <td>0.48</td>\n",
              "    </tr>\n",
              "    <tr>\n",
              "      <th>5</th>\n",
              "      <td>0.61</td>\n",
              "      <td>0.28</td>\n",
              "    </tr>\n",
              "    <tr>\n",
              "      <th>6</th>\n",
              "      <td>0.67</td>\n",
              "      <td>0.47</td>\n",
              "    </tr>\n",
              "  </tbody>\n",
              "</table>\n",
              "</div>"
            ],
            "text/plain": [
              "  h1 [cm] h2 [cm]\n",
              "2    0.67    0.47\n",
              "3    0.73    0.41\n",
              "4    0.47    0.48\n",
              "5    0.61    0.28\n",
              "6    0.67    0.47"
            ]
          },
          "execution_count": 38,
          "metadata": {},
          "output_type": "execute_result"
        }
      ],
      "source": [
        "rz = rz.drop([0, 1], axis=0)\n",
        "rz.head()"
      ]
    },
    {
      "cell_type": "code",
      "execution_count": 39,
      "metadata": {
        "colab": {
          "base_uri": "https://localhost:8080/",
          "height": 206
        },
        "id": "FRHGXAtcyeXf",
        "outputId": "c6189d93-7979-4fe1-ed23-631a8da2d0e9"
      },
      "outputs": [
        {
          "data": {
            "text/html": [
              "<div>\n",
              "<style scoped>\n",
              "    .dataframe tbody tr th:only-of-type {\n",
              "        vertical-align: middle;\n",
              "    }\n",
              "\n",
              "    .dataframe tbody tr th {\n",
              "        vertical-align: top;\n",
              "    }\n",
              "\n",
              "    .dataframe thead th {\n",
              "        text-align: right;\n",
              "    }\n",
              "</style>\n",
              "<table border=\"1\" class=\"dataframe\">\n",
              "  <thead>\n",
              "    <tr style=\"text-align: right;\">\n",
              "      <th></th>\n",
              "      <th>T1 [s]</th>\n",
              "      <th>T2 [s]</th>\n",
              "    </tr>\n",
              "  </thead>\n",
              "  <tbody>\n",
              "    <tr>\n",
              "      <th>0</th>\n",
              "      <td>0.67</td>\n",
              "      <td>0.47</td>\n",
              "    </tr>\n",
              "    <tr>\n",
              "      <th>1</th>\n",
              "      <td>0.73</td>\n",
              "      <td>0.41</td>\n",
              "    </tr>\n",
              "    <tr>\n",
              "      <th>2</th>\n",
              "      <td>0.47</td>\n",
              "      <td>0.48</td>\n",
              "    </tr>\n",
              "    <tr>\n",
              "      <th>3</th>\n",
              "      <td>0.61</td>\n",
              "      <td>0.28</td>\n",
              "    </tr>\n",
              "    <tr>\n",
              "      <th>4</th>\n",
              "      <td>0.67</td>\n",
              "      <td>0.47</td>\n",
              "    </tr>\n",
              "  </tbody>\n",
              "</table>\n",
              "</div>"
            ],
            "text/plain": [
              "  T1 [s] T2 [s]\n",
              "0   0.67   0.47\n",
              "1   0.73   0.41\n",
              "2   0.47   0.48\n",
              "3   0.61   0.28\n",
              "4   0.67   0.47"
            ]
          },
          "execution_count": 39,
          "metadata": {},
          "output_type": "execute_result"
        }
      ],
      "source": [
        "rz.index = range(len(rz))\n",
        "rz.columns = ['T1 [s]', 'T2 [s]']\n",
        "rz.head()"
      ]
    },
    {
      "cell_type": "code",
      "execution_count": 40,
      "metadata": {
        "id": "Fg32bLd6zhxn"
      },
      "outputs": [],
      "source": [
        "rz['T1 [s]'] = pd.to_numeric(rz['T1 [s]'])\n",
        "rz['T2 [s]'] = pd.to_numeric(rz['T2 [s]'])"
      ]
    },
    {
      "cell_type": "code",
      "execution_count": 41,
      "metadata": {
        "colab": {
          "base_uri": "https://localhost:8080/",
          "height": 477
        },
        "id": "bJ4ryvpCy5he",
        "outputId": "0fb1c9cc-5c5c-4fce-c713-f63d22316267"
      },
      "outputs": [
        {
          "data": {
            "text/plain": [
              "Text(0, 0.5, 'Counts')"
            ]
          },
          "execution_count": 41,
          "metadata": {},
          "output_type": "execute_result"
        }
      ],
      "source": [
        "plt.hist(rz['T1 [s]'], bins=10, label='T1', alpha=0.75)\n",
        "plt.hist(rz['T2 [s]'], bins=10, label='T2', alpha=0.75)\n",
        "plt.legend()\n",
        "plt.xticks(rotation=45)\n",
        "plt.xlabel('Time [s]', fontsize=20)\n",
        "plt.ylabel('Counts', fontsize=20)\n",
        "# plt.savefig('hist_rk.png', dpi=600, transparent=True, bbox_inches='tight')"
      ]
    },
    {
      "cell_type": "code",
      "execution_count": 42,
      "metadata": {
        "id": "2J5ATywYz97h"
      },
      "outputs": [],
      "source": [
        "t1 = rz['T1 [s]'].mean()\n",
        "u_t1 = rz['T1 [s]'].std()\n",
        "t2 = rz['T2 [s]'].mean()\n",
        "u_t2 = rz['T2 [s]'].std()"
      ]
    },
    {
      "cell_type": "code",
      "execution_count": 43,
      "metadata": {
        "colab": {
          "base_uri": "https://localhost:8080/"
        },
        "id": "oGJzSqp-PgwJ",
        "outputId": "172eb0f0-fc4f-4de6-8a86-7e408ae295cb"
      },
      "outputs": [
        {
          "name": "stdout",
          "output_type": "stream",
          "text": [
            "0.64 0.09\n",
            "0.52 0.1\n"
          ]
        }
      ],
      "source": [
        "print(round(t1, 2), round(u_t1, 2))\n",
        "print(round(t2, 2), round(u_t2, 2))"
      ]
    },
    {
      "cell_type": "code",
      "execution_count": 44,
      "metadata": {
        "colab": {
          "base_uri": "https://localhost:8080/"
        },
        "id": "WPHhAg7iP1ly",
        "outputId": "6cb0bcca-e3aa-4366-ed2a-3b70cb36dd94"
      },
      "outputs": [
        {
          "name": "stdout",
          "output_type": "stream",
          "text": [
            "0.0319 0.0045\n",
            "0.0262 0.0051\n"
          ]
        }
      ],
      "source": [
        "print(round(t1 / 20, 4), round(u_t1 / 20, 4))\n",
        "print(round(t2 / 20, 4), round(u_t2 / 20, 4))"
      ]
    },
    {
      "cell_type": "code",
      "execution_count": 45,
      "metadata": {
        "colab": {
          "base_uri": "https://localhost:8080/"
        },
        "id": "YmsUnKEA0XbP",
        "outputId": "bc490e55-8224-447c-8d3b-951408c2bad4"
      },
      "outputs": [
        {
          "name": "stdout",
          "output_type": "stream",
          "text": [
            "Reaktionszeit über 20 Perioden: 0.58+-0.14\n",
            "Prozentualer Anteil des Fehlers: 24.14%\n",
            "\n",
            "Reaktionszeit über eine Periode: 0.029+-0.007\n",
            "Prozentualer Anteil des Fehlers: 24.14%\n"
          ]
        }
      ],
      "source": [
        "rzt = round((t1 + t2) / 2, 2)\n",
        "u_rzt = round(np.sqrt(u_t1**2 + u_t2**2), 2)\n",
        "print(f'Reaktionszeit über 20 Perioden: {rzt}+-{u_rzt}')\n",
        "print(f'Prozentualer Anteil des Fehlers: {round(u_rzt / rzt, 4) * 100}%\\n')\n",
        "print(f'Reaktionszeit über eine Periode: {round(rzt / 20, 3)}+-{round(u_rzt / 20, 3)}')\n",
        "print(f'Prozentualer Anteil des Fehlers: {round(u_rzt / rzt, 4) * 100}%')"
      ]
    },
    {
      "cell_type": "code",
      "execution_count": 46,
      "metadata": {
        "colab": {
          "base_uri": "https://localhost:8080/"
        },
        "id": "xeH7U3f_Qrel",
        "outputId": "481da593-e410-4358-b4e0-f34c4e6e29b3"
      },
      "outputs": [
        {
          "data": {
            "text/plain": [
              "np.float64(0.007071067811865475)"
            ]
          },
          "execution_count": 46,
          "metadata": {},
          "output_type": "execute_result"
        }
      ],
      "source": [
        "np.sqrt(0.005**2 * 2)"
      ]
    },
    {
      "cell_type": "markdown",
      "metadata": {
        "id": "_aXgtYP0yBPa"
      },
      "source": [
        "## Messpunkte"
      ]
    },
    {
      "cell_type": "code",
      "execution_count": 47,
      "metadata": {
        "colab": {
          "base_uri": "https://localhost:8080/",
          "height": 224
        },
        "id": "RXeoEL9zyJwf",
        "outputId": "6ffa8beb-bb6c-415f-b1bb-e185346f9edd"
      },
      "outputs": [
        {
          "data": {
            "text/html": [
              "<div>\n",
              "<style scoped>\n",
              "    .dataframe tbody tr th:only-of-type {\n",
              "        vertical-align: middle;\n",
              "    }\n",
              "\n",
              "    .dataframe tbody tr th {\n",
              "        vertical-align: top;\n",
              "    }\n",
              "\n",
              "    .dataframe thead th {\n",
              "        text-align: right;\n",
              "    }\n",
              "</style>\n",
              "<table border=\"1\" class=\"dataframe\">\n",
              "  <thead>\n",
              "    <tr style=\"text-align: right;\">\n",
              "      <th></th>\n",
              "      <th>Messung</th>\n",
              "      <th>Fadenlänge [cm]</th>\n",
              "      <th>FL Fehler [cm]</th>\n",
              "      <th>Auslenkung [cm]</th>\n",
              "      <th>AL Fehler [cm]</th>\n",
              "      <th>T20 [s]</th>\n",
              "    </tr>\n",
              "  </thead>\n",
              "  <tbody>\n",
              "    <tr>\n",
              "      <th>0</th>\n",
              "      <td>1</td>\n",
              "      <td>44.40</td>\n",
              "      <td>0.15</td>\n",
              "      <td>5.9</td>\n",
              "      <td>0.05</td>\n",
              "      <td>26.83</td>\n",
              "    </tr>\n",
              "    <tr>\n",
              "      <th>1</th>\n",
              "      <td>2</td>\n",
              "      <td>49.75</td>\n",
              "      <td>0.15</td>\n",
              "      <td>10.0</td>\n",
              "      <td>0.05</td>\n",
              "      <td>29.48</td>\n",
              "    </tr>\n",
              "    <tr>\n",
              "      <th>2</th>\n",
              "      <td>3</td>\n",
              "      <td>54.45</td>\n",
              "      <td>0.15</td>\n",
              "      <td>15.0</td>\n",
              "      <td>0.05</td>\n",
              "      <td>30.89</td>\n",
              "    </tr>\n",
              "    <tr>\n",
              "      <th>3</th>\n",
              "      <td>4</td>\n",
              "      <td>59.60</td>\n",
              "      <td>0.15</td>\n",
              "      <td>20.0</td>\n",
              "      <td>0.05</td>\n",
              "      <td>32.08</td>\n",
              "    </tr>\n",
              "    <tr>\n",
              "      <th>4</th>\n",
              "      <td>5</td>\n",
              "      <td>64.95</td>\n",
              "      <td>0.15</td>\n",
              "      <td>20.0</td>\n",
              "      <td>0.05</td>\n",
              "      <td>33.27</td>\n",
              "    </tr>\n",
              "  </tbody>\n",
              "</table>\n",
              "</div>"
            ],
            "text/plain": [
              "   Messung  Fadenlänge [cm]  FL Fehler [cm]  Auslenkung [cm]   AL Fehler [cm]  \\\n",
              "0        1            44.40            0.15              5.9             0.05   \n",
              "1        2            49.75            0.15             10.0             0.05   \n",
              "2        3            54.45            0.15             15.0             0.05   \n",
              "3        4            59.60            0.15             20.0             0.05   \n",
              "4        5            64.95            0.15             20.0             0.05   \n",
              "\n",
              "    T20 [s]  \n",
              "0     26.83  \n",
              "1     29.48  \n",
              "2     30.89  \n",
              "3     32.08  \n",
              "4     33.27  "
            ]
          },
          "execution_count": 47,
          "metadata": {},
          "output_type": "execute_result"
        }
      ],
      "source": [
        "fd1.head()"
      ]
    },
    {
      "cell_type": "code",
      "execution_count": 48,
      "metadata": {
        "colab": {
          "base_uri": "https://localhost:8080/"
        },
        "id": "XVjLirmclKvq",
        "outputId": "18c0fb80-d64c-4316-d4a9-4a18fa061d12"
      },
      "outputs": [
        {
          "data": {
            "text/plain": [
              "array([1.3415, 1.474 , 1.5445, 1.604 , 1.6635, 1.746 , 1.809 , 1.872 ,\n",
              "       1.9635, 2.0255])"
            ]
          },
          "execution_count": 48,
          "metadata": {},
          "output_type": "execute_result"
        }
      ],
      "source": [
        "T_1 = fd1[' T20 [s]']\n",
        "T_1 = np.array(T_1) / 20\n",
        "T_1"
      ]
    },
    {
      "cell_type": "code",
      "execution_count": 49,
      "metadata": {
        "colab": {
          "base_uri": "https://localhost:8080/"
        },
        "id": "kJI8a7ermqlU",
        "outputId": "e7967f90-2b77-4ef7-eb42-9e36d00ce84e"
      },
      "outputs": [
        {
          "data": {
            "text/plain": [
              "array([44.4 , 49.75, 54.45, 59.6 , 64.95, 69.4 , 75.5 , 81.1 , 88.75,\n",
              "       93.65])"
            ]
          },
          "execution_count": 49,
          "metadata": {},
          "output_type": "execute_result"
        }
      ],
      "source": [
        "l1 = np.array(fd1['Fadenlänge [cm]'])\n",
        "l1"
      ]
    },
    {
      "cell_type": "code",
      "execution_count": 50,
      "metadata": {
        "id": "9KgWliV-moQg"
      },
      "outputs": [],
      "source": [
        "# plt.plot(l,T_1,'.')"
      ]
    },
    {
      "cell_type": "code",
      "execution_count": 51,
      "metadata": {
        "colab": {
          "base_uri": "https://localhost:8080/",
          "height": 496
        },
        "id": "HborReNpm_s_",
        "outputId": "5cb33cc9-610e-4f57-fb92-24b54c978002"
      },
      "outputs": [
        {
          "data": {
            "text/plain": [
              "<matplotlib.legend.Legend at 0x297a6f95e20>"
            ]
          },
          "execution_count": 51,
          "metadata": {},
          "output_type": "execute_result"
        }
      ],
      "source": [
        "plt.title('Übersichtsplot', fontsize=30)\n",
        "plt.plot(l1, T_1, 'bo', label='Messreihe 1')\n",
        "plt.xlabel('Fadenlänge [cm]', fontsize=20)\n",
        "plt.ylabel('Zeit pro Periode [s]', fontsize=20)\n",
        "plt.legend()\n",
        "# plt.show()\n",
        "# plt.savefig('Übersichtsplot.png', dpi=600, transparent=True, bbox_inches='tight')"
      ]
    },
    {
      "cell_type": "markdown",
      "metadata": {
        "id": "IdioVUu3mneC"
      },
      "source": [
        "## Regression"
      ]
    },
    {
      "cell_type": "code",
      "execution_count": 53,
      "metadata": {},
      "outputs": [
        {
          "data": {
            "text/html": [
              "<div>\n",
              "<style scoped>\n",
              "    .dataframe tbody tr th:only-of-type {\n",
              "        vertical-align: middle;\n",
              "    }\n",
              "\n",
              "    .dataframe tbody tr th {\n",
              "        vertical-align: top;\n",
              "    }\n",
              "\n",
              "    .dataframe thead th {\n",
              "        text-align: right;\n",
              "    }\n",
              "</style>\n",
              "<table border=\"1\" class=\"dataframe\">\n",
              "  <thead>\n",
              "    <tr style=\"text-align: right;\">\n",
              "      <th></th>\n",
              "      <th>Messung</th>\n",
              "      <th>Fadenlänge [cm]</th>\n",
              "      <th>FL Fehler [cm]</th>\n",
              "      <th>Auslenkung [cm]</th>\n",
              "      <th>AL Fehler [cm]</th>\n",
              "      <th>T20 [s]</th>\n",
              "    </tr>\n",
              "  </thead>\n",
              "  <tbody>\n",
              "    <tr>\n",
              "      <th>0</th>\n",
              "      <td>1</td>\n",
              "      <td>44.40</td>\n",
              "      <td>0.15</td>\n",
              "      <td>5.9</td>\n",
              "      <td>0.05</td>\n",
              "      <td>26.83</td>\n",
              "    </tr>\n",
              "    <tr>\n",
              "      <th>1</th>\n",
              "      <td>2</td>\n",
              "      <td>49.75</td>\n",
              "      <td>0.15</td>\n",
              "      <td>10.0</td>\n",
              "      <td>0.05</td>\n",
              "      <td>29.48</td>\n",
              "    </tr>\n",
              "    <tr>\n",
              "      <th>2</th>\n",
              "      <td>3</td>\n",
              "      <td>54.45</td>\n",
              "      <td>0.15</td>\n",
              "      <td>15.0</td>\n",
              "      <td>0.05</td>\n",
              "      <td>30.89</td>\n",
              "    </tr>\n",
              "    <tr>\n",
              "      <th>3</th>\n",
              "      <td>4</td>\n",
              "      <td>59.60</td>\n",
              "      <td>0.15</td>\n",
              "      <td>20.0</td>\n",
              "      <td>0.05</td>\n",
              "      <td>32.08</td>\n",
              "    </tr>\n",
              "    <tr>\n",
              "      <th>4</th>\n",
              "      <td>5</td>\n",
              "      <td>64.95</td>\n",
              "      <td>0.15</td>\n",
              "      <td>20.0</td>\n",
              "      <td>0.05</td>\n",
              "      <td>33.27</td>\n",
              "    </tr>\n",
              "  </tbody>\n",
              "</table>\n",
              "</div>"
            ],
            "text/plain": [
              "   Messung  Fadenlänge [cm]  FL Fehler [cm]  Auslenkung [cm]   AL Fehler [cm]  \\\n",
              "0        1            44.40            0.15              5.9             0.05   \n",
              "1        2            49.75            0.15             10.0             0.05   \n",
              "2        3            54.45            0.15             15.0             0.05   \n",
              "3        4            59.60            0.15             20.0             0.05   \n",
              "4        5            64.95            0.15             20.0             0.05   \n",
              "\n",
              "    T20 [s]  \n",
              "0     26.83  \n",
              "1     29.48  \n",
              "2     30.89  \n",
              "3     32.08  \n",
              "4     33.27  "
            ]
          },
          "execution_count": 53,
          "metadata": {},
          "output_type": "execute_result"
        }
      ],
      "source": [
        "fd1.head()"
      ]
    },
    {
      "cell_type": "code",
      "execution_count": 54,
      "metadata": {
        "id": "9laBTxEvnGO9"
      },
      "outputs": [],
      "source": [
        "T1 = fd1[' T20 [s]'] / 20\n",
        "T2 = fd2['T20'] / 20\n",
        "l1 = fd1['Fadenlänge [cm]']\n",
        "l2 = fd2['Fadenlänge']"
      ]
    },
    {
      "cell_type": "code",
      "execution_count": 55,
      "metadata": {
        "id": "xZ-gAZCPn5E8"
      },
      "outputs": [],
      "source": [
        "x1 = sm.add_constant(l1)\n",
        "x2 = sm.add_constant(l2)"
      ]
    },
    {
      "cell_type": "code",
      "execution_count": 56,
      "metadata": {
        "id": "ArTQiD5gHlNR"
      },
      "outputs": [],
      "source": [
        "# gemittelte Unsicherheit für die Zeit, siehe Reaktionszeit\n",
        "ut = rzt / 20"
      ]
    },
    {
      "cell_type": "code",
      "execution_count": 57,
      "metadata": {
        "colab": {
          "base_uri": "https://localhost:8080/"
        },
        "id": "sTo3uUN4oC-b",
        "outputId": "dfa83a46-e346-455f-ca1b-17858ac944a3"
      },
      "outputs": [
        {
          "name": "stdout",
          "output_type": "stream",
          "text": [
            "                            WLS Regression Results                            \n",
            "==============================================================================\n",
            "Dep. Variable:                T20 [s]   R-squared:                       0.990\n",
            "Model:                            WLS   Adj. R-squared:                  0.989\n",
            "Method:                 Least Squares   F-statistic:                     799.1\n",
            "Date:                Thu, 06 Mar 2025   Prob (F-statistic):           2.65e-09\n",
            "Time:                        14:38:54   Log-Likelihood:                 24.578\n",
            "No. Observations:                  10   AIC:                            -45.16\n",
            "Df Residuals:                       8   BIC:                            -44.55\n",
            "Df Model:                           1                                         \n",
            "Covariance Type:            nonrobust                                         \n",
            "===================================================================================\n",
            "                      coef    std err          t      P>|t|      [0.025      0.975]\n",
            "-----------------------------------------------------------------------------------\n",
            "const               0.8066      0.033     24.750      0.000       0.731       0.882\n",
            "Fadenlänge [cm]     0.0132      0.000     28.269      0.000       0.012       0.014\n",
            "==============================================================================\n",
            "Omnibus:                        6.206   Durbin-Watson:                   1.209\n",
            "Prob(Omnibus):                  0.045   Jarque-Bera (JB):                2.371\n",
            "Skew:                          -1.130   Prob(JB):                        0.306\n",
            "Kurtosis:                       3.762   Cond. No.                         311.\n",
            "==============================================================================\n",
            "\n",
            "Notes:\n",
            "[1] Standard Errors assume that the covariance matrix of the errors is correctly specified.\n"
          ]
        },
        {
          "name": "stderr",
          "output_type": "stream",
          "text": [
            "c:\\Users\\benjf\\anaconda3\\envs\\projects\\Lib\\site-packages\\scipy\\stats\\_axis_nan_policy.py:430: UserWarning: `kurtosistest` p-value may be inaccurate with fewer than 20 observations; only n=10 observations were given.\n",
            "  return hypotest_fun_in(*args, **kwds)\n"
          ]
        }
      ],
      "source": [
        "model = sm.WLS(T1, x1, weights=ut)\n",
        "results = model.fit()\n",
        "print(results.summary())"
      ]
    },
    {
      "cell_type": "code",
      "execution_count": 58,
      "metadata": {
        "colab": {
          "base_uri": "https://localhost:8080/"
        },
        "id": "rkIJxOpvoC6B",
        "outputId": "1a5362b0-6e6c-4840-a203-739bb4e56d80"
      },
      "outputs": [
        {
          "name": "stdout",
          "output_type": "stream",
          "text": [
            "                            WLS Regression Results                            \n",
            "==============================================================================\n",
            "Dep. Variable:                    T20   R-squared:                       0.990\n",
            "Model:                            WLS   Adj. R-squared:                  0.990\n",
            "Method:                 Least Squares   F-statistic:                     1829.\n",
            "Date:                Thu, 06 Mar 2025   Prob (F-statistic):           1.48e-19\n",
            "Time:                        14:38:54   Log-Likelihood:                 39.314\n",
            "No. Observations:                  20   AIC:                            -74.63\n",
            "Df Residuals:                      18   BIC:                            -72.64\n",
            "Df Model:                           1                                         \n",
            "Covariance Type:            nonrobust                                         \n",
            "==============================================================================\n",
            "                 coef    std err          t      P>|t|      [0.025      0.975]\n",
            "------------------------------------------------------------------------------\n",
            "const          1.0184      0.024     42.358      0.000       0.968       1.069\n",
            "Fadenlänge     0.0101      0.000     42.764      0.000       0.010       0.011\n",
            "==============================================================================\n",
            "Omnibus:                        5.465   Durbin-Watson:                   0.350\n",
            "Prob(Omnibus):                  0.065   Jarque-Bera (JB):                3.877\n",
            "Skew:                          -1.075   Prob(JB):                        0.144\n",
            "Kurtosis:                       3.162   Cond. No.                         306.\n",
            "==============================================================================\n",
            "\n",
            "Notes:\n",
            "[1] Standard Errors assume that the covariance matrix of the errors is correctly specified.\n"
          ]
        }
      ],
      "source": [
        "model2 = sm.WLS(T2, x2, weights=ut)\n",
        "results2 = model2.fit()\n",
        "print(results2.summary())"
      ]
    },
    {
      "cell_type": "markdown",
      "metadata": {
        "id": "wPwZZ2Xdo0Bk"
      },
      "source": [
        "### Parameters"
      ]
    },
    {
      "cell_type": "code",
      "execution_count": 59,
      "metadata": {
        "colab": {
          "base_uri": "https://localhost:8080/"
        },
        "id": "AhzQANgLry7o",
        "outputId": "38affb52-d26a-4593-c9a3-417a22ad3d81"
      },
      "outputs": [
        {
          "name": "stdout",
          "output_type": "stream",
          "text": [
            "Steigung der ersten Messreihe: 0.0132+-0.0005\n"
          ]
        },
        {
          "name": "stderr",
          "output_type": "stream",
          "text": [
            "C:\\Users\\benjf\\AppData\\Local\\Temp\\ipykernel_31936\\816802856.py:1: FutureWarning: Series.__getitem__ treating keys as positions is deprecated. In a future version, integer keys will always be treated as labels (consistent with DataFrame behavior). To access a value by position, use `ser.iloc[pos]`\n",
            "  b1 = round(results.params[0], 2)\n",
            "C:\\Users\\benjf\\AppData\\Local\\Temp\\ipykernel_31936\\816802856.py:2: FutureWarning: Series.__getitem__ treating keys as positions is deprecated. In a future version, integer keys will always be treated as labels (consistent with DataFrame behavior). To access a value by position, use `ser.iloc[pos]`\n",
            "  ub1 = round(results.bse[0], 2)\n",
            "C:\\Users\\benjf\\AppData\\Local\\Temp\\ipykernel_31936\\816802856.py:3: FutureWarning: Series.__getitem__ treating keys as positions is deprecated. In a future version, integer keys will always be treated as labels (consistent with DataFrame behavior). To access a value by position, use `ser.iloc[pos]`\n",
            "  a1 = round(results.params[1], 4)\n",
            "C:\\Users\\benjf\\AppData\\Local\\Temp\\ipykernel_31936\\816802856.py:4: FutureWarning: Series.__getitem__ treating keys as positions is deprecated. In a future version, integer keys will always be treated as labels (consistent with DataFrame behavior). To access a value by position, use `ser.iloc[pos]`\n",
            "  ua1 = round(results.bse[1], 4)\n"
          ]
        }
      ],
      "source": [
        "b1 = round(results.params[0], 2)\n",
        "ub1 = round(results.bse[0], 2)\n",
        "a1 = round(results.params[1], 4)\n",
        "ua1 = round(results.bse[1], 4)\n",
        "R1 = round(results.rsquared, 2)\n",
        "print(f'Steigung der ersten Messreihe: {a1}+-{ua1}')"
      ]
    },
    {
      "cell_type": "code",
      "execution_count": 60,
      "metadata": {
        "colab": {
          "base_uri": "https://localhost:8080/",
          "height": 147
        },
        "id": "TEfnhye-pWo1",
        "outputId": "bfe29bdd-6834-47c4-f727-fe6d8a229541"
      },
      "outputs": [
        {
          "data": {
            "text/plain": [
              "const         1.018408\n",
              "Fadenlänge    0.010111\n",
              "dtype: float64"
            ]
          },
          "execution_count": 60,
          "metadata": {},
          "output_type": "execute_result"
        }
      ],
      "source": [
        "results2.params"
      ]
    },
    {
      "cell_type": "code",
      "execution_count": 61,
      "metadata": {
        "colab": {
          "base_uri": "https://localhost:8080/",
          "height": 147
        },
        "id": "duY_YNqQsthC",
        "outputId": "0817241a-af58-4ec7-f06c-5a50eaf3dff9"
      },
      "outputs": [
        {
          "data": {
            "text/plain": [
              "const         0.024043\n",
              "Fadenlänge    0.000236\n",
              "dtype: float64"
            ]
          },
          "execution_count": 61,
          "metadata": {},
          "output_type": "execute_result"
        }
      ],
      "source": [
        "results2.bse"
      ]
    },
    {
      "cell_type": "code",
      "execution_count": 62,
      "metadata": {
        "colab": {
          "base_uri": "https://localhost:8080/"
        },
        "id": "ftidF-GQstdx",
        "outputId": "bef52c89-85c5-49f2-e4f1-dc84ac2dfaa6"
      },
      "outputs": [
        {
          "name": "stdout",
          "output_type": "stream",
          "text": [
            "Steigung der zweiten Messreihe: 0.0101+-0.0002\n"
          ]
        },
        {
          "name": "stderr",
          "output_type": "stream",
          "text": [
            "C:\\Users\\benjf\\AppData\\Local\\Temp\\ipykernel_31936\\1727593458.py:1: FutureWarning: Series.__getitem__ treating keys as positions is deprecated. In a future version, integer keys will always be treated as labels (consistent with DataFrame behavior). To access a value by position, use `ser.iloc[pos]`\n",
            "  b2 = round(results2.params[0], 2)\n",
            "C:\\Users\\benjf\\AppData\\Local\\Temp\\ipykernel_31936\\1727593458.py:2: FutureWarning: Series.__getitem__ treating keys as positions is deprecated. In a future version, integer keys will always be treated as labels (consistent with DataFrame behavior). To access a value by position, use `ser.iloc[pos]`\n",
            "  ub2 = round(results2.bse[0], 2)\n",
            "C:\\Users\\benjf\\AppData\\Local\\Temp\\ipykernel_31936\\1727593458.py:3: FutureWarning: Series.__getitem__ treating keys as positions is deprecated. In a future version, integer keys will always be treated as labels (consistent with DataFrame behavior). To access a value by position, use `ser.iloc[pos]`\n",
            "  a2 = round(results2.params[1], 4)\n",
            "C:\\Users\\benjf\\AppData\\Local\\Temp\\ipykernel_31936\\1727593458.py:4: FutureWarning: Series.__getitem__ treating keys as positions is deprecated. In a future version, integer keys will always be treated as labels (consistent with DataFrame behavior). To access a value by position, use `ser.iloc[pos]`\n",
            "  ua2 = round(results2.bse[1], 4)\n"
          ]
        }
      ],
      "source": [
        "b2 = round(results2.params[0], 2)\n",
        "ub2 = round(results2.bse[0], 2)\n",
        "a2 = round(results2.params[1], 4)\n",
        "ua2 = round(results2.bse[1], 4)\n",
        "R2 = round(results2.rsquared, 2)\n",
        "print(f'Steigung der zweiten Messreihe: {a2}+-{ua2}')"
      ]
    },
    {
      "cell_type": "code",
      "execution_count": 63,
      "metadata": {
        "colab": {
          "base_uri": "https://localhost:8080/"
        },
        "id": "kf-AvIe6I5G4",
        "outputId": "18889fc3-27c2-49a8-9e8c-eaf843fba307"
      },
      "outputs": [
        {
          "name": "stdout",
          "output_type": "stream",
          "text": [
            "Chi squared der ersten Messreihe: 0.68\n",
            "Chi squared der zweiten Messreihe: 1.52\n"
          ]
        }
      ],
      "source": [
        "# chi squared\n",
        "cs1 = round(chi_sq(T1, a1 * l1 + b1, ut, p=2), 2)\n",
        "cs2 = round(chi_sq(T2, a2 * l2 + b2, ut, p=2), 2)\n",
        "print(f'Chi squared der ersten Messreihe: {cs1}')\n",
        "print(f'Chi squared der zweiten Messreihe: {cs2}')"
      ]
    },
    {
      "cell_type": "code",
      "execution_count": 64,
      "metadata": {
        "colab": {
          "base_uri": "https://localhost:8080/"
        },
        "id": "ZDXjEDxcpsYI",
        "outputId": "225718b1-a26c-49c7-99e5-71195777cf02"
      },
      "outputs": [
        {
          "name": "stdout",
          "output_type": "stream",
          "text": [
            "      Variable  Messreihe 1  Messreihe 2\n",
            "0            a       0.0132       0.0101\n",
            "1          u_a       0.0005       0.0002\n",
            "2            b       0.8100       1.0200\n",
            "3          u_b       0.0300       0.0200\n",
            "4          R^2       0.9900       0.9900\n",
            "5  chi quadrat       0.6800       1.5200\n"
          ]
        }
      ],
      "source": [
        "params_names = ['a', 'u_a', 'b', 'u_b', 'R^2', 'chi quadrat']\n",
        "mr1 = [a1, ua1, b1, ub1, R1, cs1]\n",
        "mr2 = [a2, ua2, b2, ub2, R2, cs2]\n",
        "df_params = pd.DataFrame({'Variable': params_names,\n",
        "                        'Messreihe 1': mr1,\n",
        "                        'Messreihe 2': mr2})\n",
        "print(df_params)"
      ]
    },
    {
      "cell_type": "markdown",
      "metadata": {
        "id": "jpCbEoePoz8c"
      },
      "source": [
        "## Regressionsplot"
      ]
    },
    {
      "cell_type": "code",
      "execution_count": 65,
      "metadata": {
        "id": "DhPm2MHwt3hp"
      },
      "outputs": [],
      "source": [
        "x = np.linspace(40, 100, 1000)\n",
        "y1 = a1 * x + b1\n",
        "y2 = a2 * x + b2"
      ]
    },
    {
      "cell_type": "code",
      "execution_count": 66,
      "metadata": {
        "id": "FFhX0CjJDSC0"
      },
      "outputs": [],
      "source": [
        "xx = np.linspace(40, 190, 1000)\n",
        "y2 = a2 * xx + b2"
      ]
    },
    {
      "cell_type": "code",
      "execution_count": 67,
      "metadata": {
        "colab": {
          "base_uri": "https://localhost:8080/"
        },
        "id": "9x0XqwrFulkE",
        "outputId": "27d0f84b-2e5d-40c8-9a7e-7f65b20cd779"
      },
      "outputs": [
        {
          "name": "stdout",
          "output_type": "stream",
          "text": [
            "Chi squared der ersten Messreihe: 0.68\n",
            "Chi squared der zweiten Messreihe: 1.52\n"
          ]
        }
      ],
      "source": [
        "# chi squared\n",
        "cs1 = round(chi_sq(T1, a1 * l1 + b1, ut, p=2), 2)\n",
        "cs2 = round(chi_sq(T2, a2 * l2 + b2, ut, p=2), 2)\n",
        "print(f'Chi squared der ersten Messreihe: {cs1}')\n",
        "print(f'Chi squared der zweiten Messreihe: {cs2}')"
      ]
    },
    {
      "cell_type": "code",
      "execution_count": 70,
      "metadata": {
        "colab": {
          "base_uri": "https://localhost:8080/",
          "height": 466
        },
        "id": "14xfHvH0voJO",
        "outputId": "0c27a27c-30d0-4575-8c22-9dd7dbbe203f"
      },
      "outputs": [
        {
          "data": {
            "image/png": "[encoded data removed]",
            "text/plain": [
              "<Figure size 640x480 with 1 Axes>"
            ]
          },
          "metadata": {},
          "output_type": "display_data"
        }
      ],
      "source": [
        "# plt.title(f'Regressionsresultate',fontsize=30)\n",
        "plt.errorbar(l1, T1, yerr=ut, fmt='.', capsize=3, label='MR 1', color='blue')\n",
        "# plt.errorbar(l2,T2,yerr=ut,fmt='.',capsize=3,label='MR 2',color='red')\n",
        "plt.plot(x, y1, c='blue', label='$T(l)=a_1/cdot l +b_1$')\n",
        "# plt.plot(xx,y2,label='$T(l)=a_2\\cdot l +b_2$',color='red')\n",
        "plt.legend(loc=0)\n",
        "plt.xlabel('Fadenlänge [cm]', fontsize=20)\n",
        "plt.ylabel('T(l) [s]', fontsize=20)\n",
        "# plt.savefig('MR_1_reg.png', transparent=True, dpi=600, bbox_inches='tight')\n",
        "plt.show()"
      ]
    },
    {
      "cell_type": "markdown",
      "metadata": {
        "id": "JH1Ysx5pyD_Z"
      },
      "source": [
        "Interpretations des $\\chi^2$ der ersten Messreihe ist, dass die Fehler minimal zu groß geschätzt wurden."
      ]
    },
    {
      "cell_type": "code",
      "execution_count": 71,
      "metadata": {
        "id": "dz3Vs5wVxoEP"
      },
      "outputs": [],
      "source": [
        "xx = np.linspace(40, 190, 1000)\n",
        "y2 = a2 * xx + b2"
      ]
    },
    {
      "cell_type": "code",
      "execution_count": 72,
      "metadata": {
        "id": "OEep0zEDIjcd"
      },
      "outputs": [],
      "source": [
        "chi = r'$\\chi^2$'"
      ]
    },
    {
      "cell_type": "code",
      "execution_count": 76,
      "metadata": {
        "colab": {
          "base_uri": "https://localhost:8080/",
          "height": 466
        },
        "id": "0u1iYECoxhOg",
        "outputId": "650e3c4a-bb07-4370-ba2b-9be3230bbe38"
      },
      "outputs": [
        {
          "name": "stderr",
          "output_type": "stream",
          "text": [
            "<>:5: SyntaxWarning: invalid escape sequence '\\c'\n",
            "<>:5: SyntaxWarning: invalid escape sequence '\\c'\n",
            "C:\\Users\\benjf\\AppData\\Local\\Temp\\ipykernel_31936\\4209204500.py:5: SyntaxWarning: invalid escape sequence '\\c'\n",
            "  plt.plot(xx, y2, label='$T(l)=a_2 \\cdot l +b_2$')\n"
          ]
        },
        {
          "data": {
            "image/png": "[encoded data removed]",
            "text/plain": [
              "<Figure size 640x480 with 1 Axes>"
            ]
          },
          "metadata": {},
          "output_type": "display_data"
        }
      ],
      "source": [
        "# plt.title(f'Regressionsresultate, $\\chi^2_2$: {cs2}',fontsize=30)\n",
        "# plt.errorbar(l1,T1,yerr=u_t1,fmt='.',capsize=3,label='MR 1')\n",
        "plt.errorbar(l2, T2, yerr=ut, fmt='.', capsize=3, label='MR 2')\n",
        "# plt.plot(x,y1,c='blue',label='$T(l)=a_2\\cdot l +b_2$')\n",
        "plt.plot(xx, y2, label='$T(l)=a_2 \\cdot l +b_2$')\n",
        "plt.legend(loc=0)\n",
        "plt.xlabel('Fadenlänge [cm]', fontsize=20)\n",
        "plt.ylabel('T(l) [s]', fontsize=20)\n",
        "# plt.savefig('MR_2_reg.png', transparent=True, dpi=600, bbox_inches='tight')\n",
        "plt.show()"
      ]
    },
    {
      "cell_type": "markdown",
      "metadata": {
        "id": "uSomJALAlgbd"
      },
      "source": [
        "# Residuen\n"
      ]
    },
    {
      "cell_type": "markdown",
      "metadata": {
        "id": "TPAUOynGmQGp"
      },
      "source": [
        "## Erste Messreihe"
      ]
    },
    {
      "cell_type": "code",
      "execution_count": 77,
      "metadata": {
        "colab": {
          "base_uri": "https://localhost:8080/"
        },
        "id": "BnyEK-tPySO_",
        "outputId": "fd8c3cab-fd53-45d4-aa10-cbf47282940c"
      },
      "outputs": [
        {
          "name": "stdout",
          "output_type": "stream",
          "text": [
            "[-0.04995278  0.01207784  0.02067016  0.01233515  0.00136577  0.02525105\n",
            "  0.00790279 -0.00285956 -0.01212418 -0.01466623]\n"
          ]
        }
      ],
      "source": [
        "inf1 = np.array(results.resid)\n",
        "print(inf1)"
      ]
    },
    {
      "cell_type": "code",
      "execution_count": 82,
      "metadata": {
        "colab": {
          "base_uri": "https://localhost:8080/",
          "height": 466
        },
        "id": "E_P3ywfmpERn",
        "outputId": "0ca015af-4b30-49b7-e4c7-fe92c70a67dc"
      },
      "outputs": [
        {
          "data": {
            "image/png": "[encoded data removed]",
            "text/plain": [
              "<Figure size 640x480 with 1 Axes>"
            ]
          },
          "metadata": {},
          "output_type": "display_data"
        }
      ],
      "source": [
        "plt.scatter(l1, inf1, label='Residuen')\n",
        "plt.axhline(y=0, color='red', linestyle='--', label='Model')\n",
        "plt.ylabel('Resiuden', fontsize=20)\n",
        "plt.xlabel('Länge [cm]', fontsize=20)\n",
        "plt.legend()\n",
        "# plt.savefig('Residuen_mr1.png', dpi=600,\n",
        "#             transparent=True, bbox_inches='tight')\n",
        "plt.show()"
      ]
    },
    {
      "cell_type": "markdown",
      "metadata": {
        "id": "wNvGkCnUI1Qt"
      },
      "source": [
        "## Messreihe 2"
      ]
    },
    {
      "cell_type": "code",
      "execution_count": 79,
      "metadata": {
        "colab": {
          "base_uri": "https://localhost:8080/"
        },
        "id": "ikXz1yIep1zw",
        "outputId": "b73277bd-a854-440f-9db7-3dd53b734a5f"
      },
      "outputs": [
        {
          "name": "stdout",
          "output_type": "stream",
          "text": [
            "[-0.06543611 -0.04798238 -0.03846733 -0.01151917  0.01533423  0.01144237\n",
            "  0.02063022  0.0124223   0.01813802  0.03630357  0.02353991  0.03317202\n",
            "  0.03033422  0.03587157  0.0286971   0.00780133 -0.00426723 -0.00517414\n",
            " -0.01646177 -0.08437872]\n"
          ]
        }
      ],
      "source": [
        "inf2 = np.array(results2.resid)\n",
        "print(inf2)"
      ]
    },
    {
      "cell_type": "code",
      "execution_count": 84,
      "metadata": {
        "colab": {
          "base_uri": "https://localhost:8080/",
          "height": 466
        },
        "id": "qBh5Mi54p7l9",
        "outputId": "05a35eac-56bf-47d8-e2d3-3fcc78d465ab"
      },
      "outputs": [
        {
          "data": {
            "image/png": "[encoded data removed]",
            "text/plain": [
              "<Figure size 640x480 with 1 Axes>"
            ]
          },
          "metadata": {},
          "output_type": "display_data"
        }
      ],
      "source": [
        "plt.scatter(l2, inf2, label='Residuen')\n",
        "plt.axhline(y=0, color='red', linestyle='--', label='Model')\n",
        "plt.ylabel('Resiuden', fontsize=20)\n",
        "plt.xlabel('Länge [cm]', fontsize=20)\n",
        "plt.legend()\n",
        "# plt.savefig('Residuen_mr2.png', dpi=600,\n",
        "#             transparent=True, bbox_inches='tight')\n",
        "plt.show()"
      ]
    },
    {
      "cell_type": "code",
      "execution_count": null,
      "metadata": {},
      "outputs": [],
      "source": []
    }
  ],
  "metadata": {
    "colab": {
      "collapsed_sections": [
        "xE_cZKzIBq_j",
        "pEuu-gVZrcK6",
        "cOvOx4IXB14Y",
        "DJlkt_5UTBax",
        "GdwBOzt5QJl6",
        "8ZqEK2rva5Ac",
        "Z09pXkBtD_2P",
        "Mxv9brUZx59v",
        "np9XWoDTyBVF",
        "_aXgtYP0yBPa",
        "IdioVUu3mneC",
        "jpCbEoePoz8c",
        "uSomJALAlgbd"
      ],
      "provenance": []
    },
    "kernelspec": {
      "display_name": "projects",
      "language": "python",
      "name": "python3"
    },
    "language_info": {
      "codemirror_mode": {
        "name": "ipython",
        "version": 3
      },
      "file_extension": ".py",
      "mimetype": "text/x-python",
      "name": "python",
      "nbconvert_exporter": "python",
      "pygments_lexer": "ipython3",
      "version": "3.12.8"
    }
  },
  "nbformat": 4,
  "nbformat_minor": 0
}
