{
 "cells": [
  {
   "cell_type": "markdown",
   "metadata": {
    "id": "RZA8PDLEEXhu"
   },
   "source": [
    "# Imports"
   ]
  },
  {
   "cell_type": "code",
   "execution_count": 1,
   "metadata": {
    "executionInfo": {
     "elapsed": 2825,
     "status": "ok",
     "timestamp": 1703086329839,
     "user": {
      "displayName": "Ben Joshua Fliegener",
      "userId": "06969016385245233563"
     },
     "user_tz": -60
    },
    "id": "4q_WOGK9EXSw"
   },
   "outputs": [],
   "source": [
    "import pandas as pd\n",
    "import matplotlib.pyplot as plt\n",
    "import numpy as np\n",
    "from scipy.optimize import curve_fit\n",
    "import statsmodels.api as sm\n",
    "from uncertainties import ufloat"
   ]
  },
  {
   "cell_type": "markdown",
   "metadata": {
    "id": "ZXb0Fhe8FIYh"
   },
   "source": [
    "# Functions"
   ]
  },
  {
   "cell_type": "code",
   "execution_count": 2,
   "metadata": {},
   "outputs": [],
   "source": [
    "class reg():\n",
    "  def C1(R1,R2,tbin,tint):\n",
    "    return R1*R2*tbin*tint\n",
    "  def g20(c0):\n",
    "    return c0/(1+c0)\n",
    "  def f0(x,c0,c1,K,k1,k2):\n",
    "    return c1*(1-(K+1)*np.exp(k1*np.abs(x-1072.708))+K*np.exp(k2*np.abs(x-1072.708))+c0)\n",
    "  def f3(x,c0,c1,K,k1,k2):\n",
    "    return c1*(1-(K+1)*np.exp(k1*np.abs(x-1072.4133))+K*np.exp(k2*np.abs(x-1072.4133))+c0)\n",
    "  def f5(x,c0,c1,K,k1,k2):\n",
    "    return c1*(1-(K+1)*np.exp(k1*np.abs(x-1072.1186))+K*np.exp(k2*np.abs(x-1072.1186))+c0)\n",
    "  def f7(x,c0,c1,K,k1,k2):\n",
    "    return c1*(1-(K+1)*np.exp(k1*np.abs(x-1071.8239))+K*np.exp(k2*np.abs(x-1071.8239))+c0)\n"
   ]
  },
  {
   "cell_type": "code",
   "execution_count": 3,
   "metadata": {
    "executionInfo": {
     "elapsed": 10,
     "status": "ok",
     "timestamp": 1703086329839,
     "user": {
      "displayName": "Ben Joshua Fliegener",
      "userId": "06969016385245233563"
     },
     "user_tz": -60
    },
    "id": "8kO4MdMeFJ9q"
   },
   "outputs": [],
   "source": [
    "class QKD():\n",
    "    @staticmethod\n",
    "    def df(file, path='../Quantenkryptographie/QKD'):\n",
    "        # the file must be a txt file\n",
    "        if '/' in file:\n",
    "            return pd.read_csv(path + file, sep=' ')\n",
    "        else:\n",
    "            return pd.read_csv(path + '/' + file, sep=' ')\n",
    "\n",
    "    # function to get the str formatation from df to int formatation\n",
    "    @staticmethod\n",
    "    def func_df(df, string=True):\n",
    "        df = df['#TimeHarp']\n",
    "        if string == True:\n",
    "            df = df.drop([0,1,2,4,7,5,6,8],axis=0)\n",
    "            df.index = range(len(df))\n",
    "            df = df.str.split('\\t', expand=True)\n",
    "            df = df.drop([7],axis=1)\n",
    "            df.columns = df.iloc[0]\n",
    "            df = df.drop([0],axis=0)\n",
    "            df.index = range(len(df))\n",
    "            for i in df.columns:\n",
    "                df[i] = df[i].astype(int)\n",
    "            return df\n",
    "        else:\n",
    "            df = df.drop([0,1,2,4,7,5,6,8],axis=0)\n",
    "            df.index = range(len(df))\n",
    "            df = df.drop([7],axis=1)\n",
    "            df.columns = df.iloc[0]\n",
    "            df = df.drop([0],axis=0)\n",
    "            df.index = range(len(df))\n",
    "            for i in df.columns:\n",
    "                df[i] = df[i].astype(int)\n",
    "            return df\n"
   ]
  },
  {
   "cell_type": "code",
   "execution_count": 4,
   "metadata": {},
   "outputs": [],
   "source": [
    "def f(x, c0, c1, K, k1, k2, x0=0):\n",
    "    y = c1 * (1 - (K + 1) * np.exp(k1 * np.abs(x - x0)) + K * np.exp(k2 * np.abs(x - x0)) + c0)\n",
    "    return y\n",
    "\n",
    "\n",
    "def g(c0):\n",
    "    return round(c0 / (1 + c0), 4)"
   ]
  },
  {
   "cell_type": "markdown",
   "metadata": {
    "id": "8ZtkJ-eHEWo6"
   },
   "source": [
    "# Getting Data"
   ]
  },
  {
   "cell_type": "markdown",
   "metadata": {
    "id": "E739dR_p8XJt"
   },
   "source": [
    "## from github"
   ]
  },
  {
   "cell_type": "markdown",
   "metadata": {
    "id": "LovQJJZFEec9"
   },
   "source": [
    "## Data frames"
   ]
  },
  {
   "cell_type": "code",
   "execution_count": 5,
   "metadata": {
    "executionInfo": {
     "elapsed": 487,
     "status": "ok",
     "timestamp": 1703086331463,
     "user": {
      "displayName": "Ben Joshua Fliegener",
      "userId": "06969016385245233563"
     },
     "user_tz": -60
    },
    "id": "L7L4xFRkEmD-"
   },
   "outputs": [],
   "source": [
    "dp = '../Quantenkryptographie/QKD'\n",
    "# bob und alic\n",
    "df_AB = QKD.df('/Alice-bob.txt')\n",
    "# Autokorrelation\n",
    "df_ak = QKD.df('Autokorrelation.txt')\n",
    "df_ak = QKD.func_df(df_ak)\n",
    "df_AK = QKD.df('Autokorrelation_2.txt')\n",
    "df_AK = QKD.func_df(df_AK)\n",
    "# crytal\n",
    "df_nf = QKD.df('Crystal-NF.txt')\n",
    "# laser dauer\n",
    "df_ld = pd.read_csv(dp + '/Laser-Dauer.txt', sep=' ', on_bad_lines='skip')\n",
    "# laser puls\n",
    "df_lp = pd.read_csv(dp + '/Laser-Puls.txt', sep=' ', on_bad_lines='skip')"
   ]
  },
  {
   "cell_type": "markdown",
   "metadata": {
    "id": "9LWHu8cRRCnm"
   },
   "source": [
    "### Autokorrelation"
   ]
  },
  {
   "cell_type": "code",
   "execution_count": 6,
   "metadata": {
    "colab": {
     "base_uri": "https://localhost:8080/",
     "height": 206
    },
    "executionInfo": {
     "elapsed": 185,
     "status": "ok",
     "timestamp": 1703086331464,
     "user": {
      "displayName": "Ben Joshua Fliegener",
      "userId": "06969016385245233563"
     },
     "user_tz": -60
    },
    "id": "WQHdXtjW9-cY",
    "outputId": "5c599858-166f-4db2-b4aa-a3af0034bc94"
   },
   "outputs": [
    {
     "data": {
      "text/html": [
       "<div>\n",
       "<style scoped>\n",
       "    .dataframe tbody tr th:only-of-type {\n",
       "        vertical-align: middle;\n",
       "    }\n",
       "\n",
       "    .dataframe tbody tr th {\n",
       "        vertical-align: top;\n",
       "    }\n",
       "\n",
       "    .dataframe thead th {\n",
       "        text-align: right;\n",
       "    }\n",
       "</style>\n",
       "<table border=\"1\" class=\"dataframe\">\n",
       "  <thead>\n",
       "    <tr style=\"text-align: right;\">\n",
       "      <th></th>\n",
       "      <th>0</th>\n",
       "      <th>1</th>\n",
       "      <th>2</th>\n",
       "      <th>3</th>\n",
       "      <th>5</th>\n",
       "      <th>6</th>\n",
       "      <th>7</th>\n",
       "    </tr>\n",
       "  </thead>\n",
       "  <tbody>\n",
       "    <tr>\n",
       "      <th>0</th>\n",
       "      <td>62</td>\n",
       "      <td>3</td>\n",
       "      <td>23</td>\n",
       "      <td>0</td>\n",
       "      <td>22</td>\n",
       "      <td>0</td>\n",
       "      <td>111</td>\n",
       "    </tr>\n",
       "    <tr>\n",
       "      <th>1</th>\n",
       "      <td>76</td>\n",
       "      <td>1</td>\n",
       "      <td>11</td>\n",
       "      <td>0</td>\n",
       "      <td>19</td>\n",
       "      <td>0</td>\n",
       "      <td>129</td>\n",
       "    </tr>\n",
       "    <tr>\n",
       "      <th>2</th>\n",
       "      <td>71</td>\n",
       "      <td>1</td>\n",
       "      <td>16</td>\n",
       "      <td>0</td>\n",
       "      <td>17</td>\n",
       "      <td>0</td>\n",
       "      <td>121</td>\n",
       "    </tr>\n",
       "    <tr>\n",
       "      <th>3</th>\n",
       "      <td>58</td>\n",
       "      <td>4</td>\n",
       "      <td>16</td>\n",
       "      <td>0</td>\n",
       "      <td>19</td>\n",
       "      <td>0</td>\n",
       "      <td>133</td>\n",
       "    </tr>\n",
       "    <tr>\n",
       "      <th>4</th>\n",
       "      <td>79</td>\n",
       "      <td>3</td>\n",
       "      <td>14</td>\n",
       "      <td>0</td>\n",
       "      <td>17</td>\n",
       "      <td>0</td>\n",
       "      <td>107</td>\n",
       "    </tr>\n",
       "  </tbody>\n",
       "</table>\n",
       "</div>"
      ],
      "text/plain": [
       "0   0  1   2  3   5  6    7\n",
       "0  62  3  23  0  22  0  111\n",
       "1  76  1  11  0  19  0  129\n",
       "2  71  1  16  0  17  0  121\n",
       "3  58  4  16  0  19  0  133\n",
       "4  79  3  14  0  17  0  107"
      ]
     },
     "execution_count": 6,
     "metadata": {},
     "output_type": "execute_result"
    }
   ],
   "source": [
    "df_ak.head()"
   ]
  },
  {
   "cell_type": "code",
   "execution_count": 7,
   "metadata": {
    "colab": {
     "base_uri": "https://localhost:8080/",
     "height": 206
    },
    "executionInfo": {
     "elapsed": 181,
     "status": "ok",
     "timestamp": 1703086331464,
     "user": {
      "displayName": "Ben Joshua Fliegener",
      "userId": "06969016385245233563"
     },
     "user_tz": -60
    },
    "id": "2CU2JG2LGUtf",
    "outputId": "0ba8951d-cf90-4d69-fba8-bb6d759f86c6"
   },
   "outputs": [
    {
     "data": {
      "text/html": [
       "<div>\n",
       "<style scoped>\n",
       "    .dataframe tbody tr th:only-of-type {\n",
       "        vertical-align: middle;\n",
       "    }\n",
       "\n",
       "    .dataframe tbody tr th {\n",
       "        vertical-align: top;\n",
       "    }\n",
       "\n",
       "    .dataframe thead th {\n",
       "        text-align: right;\n",
       "    }\n",
       "</style>\n",
       "<table border=\"1\" class=\"dataframe\">\n",
       "  <thead>\n",
       "    <tr style=\"text-align: right;\">\n",
       "      <th></th>\n",
       "      <th>0</th>\n",
       "      <th>1</th>\n",
       "      <th>2</th>\n",
       "      <th>3</th>\n",
       "      <th>5</th>\n",
       "      <th>6</th>\n",
       "      <th>7</th>\n",
       "    </tr>\n",
       "  </thead>\n",
       "  <tbody>\n",
       "    <tr>\n",
       "      <th>0</th>\n",
       "      <td>62</td>\n",
       "      <td>3</td>\n",
       "      <td>23</td>\n",
       "      <td>8</td>\n",
       "      <td>22</td>\n",
       "      <td>0</td>\n",
       "      <td>111</td>\n",
       "    </tr>\n",
       "    <tr>\n",
       "      <th>1</th>\n",
       "      <td>76</td>\n",
       "      <td>1</td>\n",
       "      <td>11</td>\n",
       "      <td>9</td>\n",
       "      <td>19</td>\n",
       "      <td>0</td>\n",
       "      <td>129</td>\n",
       "    </tr>\n",
       "    <tr>\n",
       "      <th>2</th>\n",
       "      <td>71</td>\n",
       "      <td>1</td>\n",
       "      <td>16</td>\n",
       "      <td>12</td>\n",
       "      <td>17</td>\n",
       "      <td>0</td>\n",
       "      <td>121</td>\n",
       "    </tr>\n",
       "    <tr>\n",
       "      <th>3</th>\n",
       "      <td>58</td>\n",
       "      <td>4</td>\n",
       "      <td>16</td>\n",
       "      <td>16</td>\n",
       "      <td>19</td>\n",
       "      <td>0</td>\n",
       "      <td>133</td>\n",
       "    </tr>\n",
       "    <tr>\n",
       "      <th>4</th>\n",
       "      <td>79</td>\n",
       "      <td>3</td>\n",
       "      <td>14</td>\n",
       "      <td>8</td>\n",
       "      <td>17</td>\n",
       "      <td>0</td>\n",
       "      <td>107</td>\n",
       "    </tr>\n",
       "  </tbody>\n",
       "</table>\n",
       "</div>"
      ],
      "text/plain": [
       "0   0  1   2   3   5  6    7\n",
       "0  62  3  23   8  22  0  111\n",
       "1  76  1  11   9  19  0  129\n",
       "2  71  1  16  12  17  0  121\n",
       "3  58  4  16  16  19  0  133\n",
       "4  79  3  14   8  17  0  107"
      ]
     },
     "execution_count": 7,
     "metadata": {},
     "output_type": "execute_result"
    }
   ],
   "source": [
    "df_AK.head()"
   ]
  },
  {
   "cell_type": "code",
   "execution_count": 8,
   "metadata": {
    "executionInfo": {
     "elapsed": 180,
     "status": "ok",
     "timestamp": 1703086331465,
     "user": {
      "displayName": "Ben Joshua Fliegener",
      "userId": "06969016385245233563"
     },
     "user_tz": -60
    },
    "id": "zxZQK9BVRVfu"
   },
   "outputs": [],
   "source": [
    "# time steps in nano seconds\n",
    "t = np.array(range(len(df_AK)))*0.2947"
   ]
  },
  {
   "cell_type": "code",
   "execution_count": 9,
   "metadata": {
    "colab": {
     "base_uri": "https://localhost:8080/",
     "height": 206
    },
    "executionInfo": {
     "elapsed": 179,
     "status": "ok",
     "timestamp": 1703086331465,
     "user": {
      "displayName": "Ben Joshua Fliegener",
      "userId": "06969016385245233563"
     },
     "user_tz": -60
    },
    "id": "9umAhWdFRmF3",
    "outputId": "348588f8-0067-48c4-a571-7de5466ba8d9"
   },
   "outputs": [
    {
     "data": {
      "text/html": [
       "<div>\n",
       "<style scoped>\n",
       "    .dataframe tbody tr th:only-of-type {\n",
       "        vertical-align: middle;\n",
       "    }\n",
       "\n",
       "    .dataframe tbody tr th {\n",
       "        vertical-align: top;\n",
       "    }\n",
       "\n",
       "    .dataframe thead th {\n",
       "        text-align: right;\n",
       "    }\n",
       "</style>\n",
       "<table border=\"1\" class=\"dataframe\">\n",
       "  <thead>\n",
       "    <tr style=\"text-align: right;\">\n",
       "      <th></th>\n",
       "      <th>0</th>\n",
       "      <th>1</th>\n",
       "      <th>2</th>\n",
       "      <th>3</th>\n",
       "      <th>5</th>\n",
       "      <th>6</th>\n",
       "      <th>7</th>\n",
       "      <th>Time</th>\n",
       "    </tr>\n",
       "  </thead>\n",
       "  <tbody>\n",
       "    <tr>\n",
       "      <th>0</th>\n",
       "      <td>62</td>\n",
       "      <td>3</td>\n",
       "      <td>23</td>\n",
       "      <td>8</td>\n",
       "      <td>22</td>\n",
       "      <td>0</td>\n",
       "      <td>111</td>\n",
       "      <td>0.0000</td>\n",
       "    </tr>\n",
       "    <tr>\n",
       "      <th>1</th>\n",
       "      <td>76</td>\n",
       "      <td>1</td>\n",
       "      <td>11</td>\n",
       "      <td>9</td>\n",
       "      <td>19</td>\n",
       "      <td>0</td>\n",
       "      <td>129</td>\n",
       "      <td>0.2947</td>\n",
       "    </tr>\n",
       "    <tr>\n",
       "      <th>2</th>\n",
       "      <td>71</td>\n",
       "      <td>1</td>\n",
       "      <td>16</td>\n",
       "      <td>12</td>\n",
       "      <td>17</td>\n",
       "      <td>0</td>\n",
       "      <td>121</td>\n",
       "      <td>0.5894</td>\n",
       "    </tr>\n",
       "    <tr>\n",
       "      <th>3</th>\n",
       "      <td>58</td>\n",
       "      <td>4</td>\n",
       "      <td>16</td>\n",
       "      <td>16</td>\n",
       "      <td>19</td>\n",
       "      <td>0</td>\n",
       "      <td>133</td>\n",
       "      <td>0.8841</td>\n",
       "    </tr>\n",
       "    <tr>\n",
       "      <th>4</th>\n",
       "      <td>79</td>\n",
       "      <td>3</td>\n",
       "      <td>14</td>\n",
       "      <td>8</td>\n",
       "      <td>17</td>\n",
       "      <td>0</td>\n",
       "      <td>107</td>\n",
       "      <td>1.1788</td>\n",
       "    </tr>\n",
       "  </tbody>\n",
       "</table>\n",
       "</div>"
      ],
      "text/plain": [
       "0   0  1   2   3   5  6    7    Time\n",
       "0  62  3  23   8  22  0  111  0.0000\n",
       "1  76  1  11   9  19  0  129  0.2947\n",
       "2  71  1  16  12  17  0  121  0.5894\n",
       "3  58  4  16  16  19  0  133  0.8841\n",
       "4  79  3  14   8  17  0  107  1.1788"
      ]
     },
     "execution_count": 9,
     "metadata": {},
     "output_type": "execute_result"
    }
   ],
   "source": [
    "df_AK['Time'] = t\n",
    "df_AK.head()"
   ]
  },
  {
   "cell_type": "code",
   "execution_count": 10,
   "metadata": {
    "colab": {
     "base_uri": "https://localhost:8080/"
    },
    "executionInfo": {
     "elapsed": 181,
     "status": "ok",
     "timestamp": 1703086331467,
     "user": {
      "displayName": "Ben Joshua Fliegener",
      "userId": "06969016385245233563"
     },
     "user_tz": -60
    },
    "id": "69wwyDA8ZHHN",
    "outputId": "aa303921-9701-4f9f-ba43-d471b4260df4"
   },
   "outputs": [
    {
     "data": {
      "text/plain": [
       "4096"
      ]
     },
     "execution_count": 10,
     "metadata": {},
     "output_type": "execute_result"
    }
   ],
   "source": [
    "len(df_AK)"
   ]
  },
  {
   "cell_type": "markdown",
   "metadata": {
    "id": "N2dH108jraue"
   },
   "source": [
    "# Alice und Bob"
   ]
  },
  {
   "cell_type": "code",
   "execution_count": 11,
   "metadata": {
    "colab": {
     "base_uri": "https://localhost:8080/",
     "height": 238
    },
    "executionInfo": {
     "elapsed": 172,
     "status": "ok",
     "timestamp": 1703086331469,
     "user": {
      "displayName": "Ben Joshua Fliegener",
      "userId": "06969016385245233563"
     },
     "user_tz": -60
    },
    "id": "2dyCwGJ8rddI",
    "outputId": "ccbb9b9b-d4df-4f30-e0e7-7bab7d44265c"
   },
   "outputs": [
    {
     "data": {
      "text/html": [
       "<div>\n",
       "<style scoped>\n",
       "    .dataframe tbody tr th:only-of-type {\n",
       "        vertical-align: middle;\n",
       "    }\n",
       "\n",
       "    .dataframe tbody tr th {\n",
       "        vertical-align: top;\n",
       "    }\n",
       "\n",
       "    .dataframe thead th {\n",
       "        text-align: right;\n",
       "    }\n",
       "</style>\n",
       "<table border=\"1\" class=\"dataframe\">\n",
       "  <thead>\n",
       "    <tr style=\"text-align: right;\">\n",
       "      <th></th>\n",
       "      <th>Name</th>\n",
       "      <th>Basis</th>\n",
       "      <th>Bit</th>\n",
       "      <th>Volt</th>\n",
       "    </tr>\n",
       "  </thead>\n",
       "  <tbody>\n",
       "    <tr>\n",
       "      <th>0</th>\n",
       "      <td>Alice</td>\n",
       "      <td>0</td>\n",
       "      <td>0.0</td>\n",
       "      <td>250</td>\n",
       "    </tr>\n",
       "    <tr>\n",
       "      <th>1</th>\n",
       "      <td>Alice</td>\n",
       "      <td>0</td>\n",
       "      <td>1.0</td>\n",
       "      <td>540</td>\n",
       "    </tr>\n",
       "    <tr>\n",
       "      <th>2</th>\n",
       "      <td>Alice</td>\n",
       "      <td>1</td>\n",
       "      <td>0.0</td>\n",
       "      <td>410</td>\n",
       "    </tr>\n",
       "    <tr>\n",
       "      <th>3</th>\n",
       "      <td>Alice</td>\n",
       "      <td>1</td>\n",
       "      <td>1.0</td>\n",
       "      <td>680</td>\n",
       "    </tr>\n",
       "    <tr>\n",
       "      <th>4</th>\n",
       "      <td>Bob</td>\n",
       "      <td>0</td>\n",
       "      <td>NaN</td>\n",
       "      <td>360</td>\n",
       "    </tr>\n",
       "    <tr>\n",
       "      <th>5</th>\n",
       "      <td>Bob</td>\n",
       "      <td>1</td>\n",
       "      <td>NaN</td>\n",
       "      <td>520</td>\n",
       "    </tr>\n",
       "  </tbody>\n",
       "</table>\n",
       "</div>"
      ],
      "text/plain": [
       "    Name  Basis  Bit  Volt\n",
       "0  Alice      0  0.0   250\n",
       "1  Alice      0  1.0   540\n",
       "2  Alice      1  0.0   410\n",
       "3  Alice      1  1.0   680\n",
       "4    Bob      0  NaN   360\n",
       "5    Bob      1  NaN   520"
      ]
     },
     "execution_count": 11,
     "metadata": {},
     "output_type": "execute_result"
    }
   ],
   "source": [
    "df_AB"
   ]
  },
  {
   "cell_type": "markdown",
   "metadata": {
    "id": "aqgMhQIiRHT5"
   },
   "source": [
    "# NF"
   ]
  },
  {
   "cell_type": "code",
   "execution_count": 12,
   "metadata": {
    "colab": {
     "base_uri": "https://localhost:8080/",
     "height": 206
    },
    "executionInfo": {
     "elapsed": 169,
     "status": "ok",
     "timestamp": 1703086331469,
     "user": {
      "displayName": "Ben Joshua Fliegener",
      "userId": "06969016385245233563"
     },
     "user_tz": -60
    },
    "id": "5WXS2JrhRczk",
    "outputId": "b20481bc-240c-4758-8dbb-5ec9aa24e314"
   },
   "outputs": [
    {
     "data": {
      "text/html": [
       "<div>\n",
       "<style scoped>\n",
       "    .dataframe tbody tr th:only-of-type {\n",
       "        vertical-align: middle;\n",
       "    }\n",
       "\n",
       "    .dataframe tbody tr th {\n",
       "        vertical-align: top;\n",
       "    }\n",
       "\n",
       "    .dataframe thead th {\n",
       "        text-align: right;\n",
       "    }\n",
       "</style>\n",
       "<table border=\"1\" class=\"dataframe\">\n",
       "  <thead>\n",
       "    <tr style=\"text-align: right;\">\n",
       "      <th></th>\n",
       "      <th>Messung</th>\n",
       "      <th>Übertragungsrate</th>\n",
       "      <th>P[myW]</th>\n",
       "    </tr>\n",
       "  </thead>\n",
       "  <tbody>\n",
       "    <tr>\n",
       "      <th>0</th>\n",
       "      <td>1</td>\n",
       "      <td>2.23</td>\n",
       "      <td>NaN</td>\n",
       "    </tr>\n",
       "    <tr>\n",
       "      <th>1</th>\n",
       "      <td>1</td>\n",
       "      <td>2.15</td>\n",
       "      <td>NaN</td>\n",
       "    </tr>\n",
       "    <tr>\n",
       "      <th>2</th>\n",
       "      <td>1</td>\n",
       "      <td>2.13</td>\n",
       "      <td>NaN</td>\n",
       "    </tr>\n",
       "    <tr>\n",
       "      <th>3</th>\n",
       "      <td>1</td>\n",
       "      <td>2.16</td>\n",
       "      <td>NaN</td>\n",
       "    </tr>\n",
       "    <tr>\n",
       "      <th>4</th>\n",
       "      <td>1</td>\n",
       "      <td>2.25</td>\n",
       "      <td>NaN</td>\n",
       "    </tr>\n",
       "  </tbody>\n",
       "</table>\n",
       "</div>"
      ],
      "text/plain": [
       "   Messung  Übertragungsrate  P[myW]\n",
       "0        1              2.23     NaN\n",
       "1        1              2.15     NaN\n",
       "2        1              2.13     NaN\n",
       "3        1              2.16     NaN\n",
       "4        1              2.25     NaN"
      ]
     },
     "execution_count": 12,
     "metadata": {},
     "output_type": "execute_result"
    }
   ],
   "source": [
    "df_nf.head()"
   ]
  },
  {
   "cell_type": "code",
   "execution_count": 13,
   "metadata": {
    "colab": {
     "base_uri": "https://localhost:8080/"
    },
    "executionInfo": {
     "elapsed": 168,
     "status": "ok",
     "timestamp": 1703086331469,
     "user": {
      "displayName": "Ben Joshua Fliegener",
      "userId": "06969016385245233563"
     },
     "user_tz": -60
    },
    "id": "eMKO-4IMmZrJ",
    "outputId": "baa9f51b-598e-4f3d-b453-63f6c5957635"
   },
   "outputs": [
    {
     "name": "stdout",
     "output_type": "stream",
     "text": [
      "0    2.23\n",
      "1    2.15\n",
      "2    2.13\n",
      "3    2.16\n",
      "4    2.25\n",
      "5    2.26\n",
      "Name: Übertragungsrate, dtype: float64\n"
     ]
    }
   ],
   "source": [
    "print(df_nf['Übertragungsrate'][0:6])"
   ]
  },
  {
   "cell_type": "code",
   "execution_count": 14,
   "metadata": {
    "colab": {
     "base_uri": "https://localhost:8080/"
    },
    "executionInfo": {
     "elapsed": 163,
     "status": "ok",
     "timestamp": 1703086331469,
     "user": {
      "displayName": "Ben Joshua Fliegener",
      "userId": "06969016385245233563"
     },
     "user_tz": -60
    },
    "id": "UgfROqvCRHEM",
    "outputId": "0e58816a-7e32-4ba5-df9d-6d46f294067b"
   },
   "outputs": [
    {
     "name": "stdout",
     "output_type": "stream",
     "text": [
      "0.0024122448979591823\n"
     ]
    }
   ],
   "source": [
    "mean_1 = np.mean(df_nf['Übertragungsrate'][0:7])\n",
    "var_1 = np.var(df_nf['Übertragungsrate'][0:7])\n",
    "mean_2 = np.mean(df_nf['Übertragungsrate'][7:13])\n",
    "var_2 = np.var(df_nf['Übertragungsrate'][7:13])\n",
    "mean_3 = np.mean(df_nf['Übertragungsrate'][13:17])\n",
    "var_3 = np.var(df_nf['Übertragungsrate'][13:17])\n",
    "mean_4 = np.mean(df_nf['Übertragungsrate'][17:22])\n",
    "var_4 = np.var(df_nf['Übertragungsrate'][17:22])\n",
    "print(var_1)"
   ]
  },
  {
   "cell_type": "code",
   "execution_count": 15,
   "metadata": {
    "colab": {
     "base_uri": "https://localhost:8080/",
     "height": 143
    },
    "executionInfo": {
     "elapsed": 160,
     "status": "ok",
     "timestamp": 1703086331470,
     "user": {
      "displayName": "Ben Joshua Fliegener",
      "userId": "06969016385245233563"
     },
     "user_tz": -60
    },
    "id": "zekJqqCOjUsg",
    "outputId": "af5ddcfd-4fb3-4864-c932-f51484c9aa13"
   },
   "outputs": [
    {
     "data": {
      "text/html": [
       "<div>\n",
       "<style scoped>\n",
       "    .dataframe tbody tr th:only-of-type {\n",
       "        vertical-align: middle;\n",
       "    }\n",
       "\n",
       "    .dataframe tbody tr th {\n",
       "        vertical-align: top;\n",
       "    }\n",
       "\n",
       "    .dataframe thead th {\n",
       "        text-align: right;\n",
       "    }\n",
       "</style>\n",
       "<table border=\"1\" class=\"dataframe\">\n",
       "  <thead>\n",
       "    <tr style=\"text-align: right;\">\n",
       "      <th></th>\n",
       "      <th>Messung</th>\n",
       "      <th>Mean</th>\n",
       "      <th>Std</th>\n",
       "      <th>Var</th>\n",
       "      <th>P [microW]</th>\n",
       "    </tr>\n",
       "  </thead>\n",
       "  <tbody>\n",
       "    <tr>\n",
       "      <th>0</th>\n",
       "      <td>2</td>\n",
       "      <td>2.445</td>\n",
       "      <td>0.024</td>\n",
       "      <td>0.000558</td>\n",
       "      <td>NaN</td>\n",
       "    </tr>\n",
       "    <tr>\n",
       "      <th>1</th>\n",
       "      <td>3</td>\n",
       "      <td>1.278</td>\n",
       "      <td>0.018</td>\n",
       "      <td>0.000319</td>\n",
       "      <td>0.13</td>\n",
       "    </tr>\n",
       "    <tr>\n",
       "      <th>2</th>\n",
       "      <td>4</td>\n",
       "      <td>0.720</td>\n",
       "      <td>0.006</td>\n",
       "      <td>0.000040</td>\n",
       "      <td>0.02</td>\n",
       "    </tr>\n",
       "  </tbody>\n",
       "</table>\n",
       "</div>"
      ],
      "text/plain": [
       "   Messung   Mean    Std       Var  P [microW]\n",
       "0        2  2.445  0.024  0.000558         NaN\n",
       "1        3  1.278  0.018  0.000319        0.13\n",
       "2        4  0.720  0.006  0.000040        0.02"
      ]
     },
     "execution_count": 15,
     "metadata": {},
     "output_type": "execute_result"
    }
   ],
   "source": [
    "mean = np.array([mean_1,mean_2,mean_3,mean_4])\n",
    "mean[0] = round(mean[0],2)\n",
    "mean[1] = round(mean[1],3)\n",
    "mean[2] = round(mean[2],3)\n",
    "mean[3] = round(mean[3],3)\n",
    "var = np.array([var_1,var_2,var_3,var_4])\n",
    "std = np.sqrt(var)\n",
    "std[0] = round(std[0],2)\n",
    "std[1] = round(std[1],3)\n",
    "std[2] = round(std[2],3)\n",
    "std[3] = round(std[3],3)\n",
    "messung = [1,2,3,4]\n",
    "P = [np.nan,np.nan,0.13,0.02]\n",
    "nf_df = pd.DataFrame({\n",
    "    'Messung':messung,\n",
    "    'Mean':mean,\n",
    "    'Std':std,\n",
    "    'Var':var,\n",
    "    'P [microW]':P\n",
    "})\n",
    "nf_df = nf_df.drop([0],axis=0)\n",
    "nf_df.index = range(3)\n",
    "nf_df"
   ]
  },
  {
   "cell_type": "markdown",
   "metadata": {
    "id": "HGu_hDEIkb86"
   },
   "source": [
    "# Laser Dauerbetrieb"
   ]
  },
  {
   "cell_type": "code",
   "execution_count": 16,
   "metadata": {
    "colab": {
     "base_uri": "https://localhost:8080/",
     "height": 0
    },
    "executionInfo": {
     "elapsed": 158,
     "status": "ok",
     "timestamp": 1703086331470,
     "user": {
      "displayName": "Ben Joshua Fliegener",
      "userId": "06969016385245233563"
     },
     "user_tz": -60
    },
    "id": "9AnytUkukr95",
    "outputId": "c9933443-ff1e-430f-de97-c82e9aa9ae9c"
   },
   "outputs": [
    {
     "data": {
      "text/html": [
       "<div>\n",
       "<style scoped>\n",
       "    .dataframe tbody tr th:only-of-type {\n",
       "        vertical-align: middle;\n",
       "    }\n",
       "\n",
       "    .dataframe tbody tr th {\n",
       "        vertical-align: top;\n",
       "    }\n",
       "\n",
       "    .dataframe thead th {\n",
       "        text-align: right;\n",
       "    }\n",
       "</style>\n",
       "<table border=\"1\" class=\"dataframe\">\n",
       "  <thead>\n",
       "    <tr style=\"text-align: right;\">\n",
       "      <th></th>\n",
       "      <th>Messung</th>\n",
       "      <th>Übertragungsrate</th>\n",
       "      <th>Dämpfung</th>\n",
       "    </tr>\n",
       "  </thead>\n",
       "  <tbody>\n",
       "    <tr>\n",
       "      <th>0</th>\n",
       "      <td>1</td>\n",
       "      <td>28.65</td>\n",
       "      <td>7.5</td>\n",
       "    </tr>\n",
       "    <tr>\n",
       "      <th>1</th>\n",
       "      <td>1</td>\n",
       "      <td>29.33</td>\n",
       "      <td>7.5</td>\n",
       "    </tr>\n",
       "    <tr>\n",
       "      <th>2</th>\n",
       "      <td>1</td>\n",
       "      <td>30.03</td>\n",
       "      <td>7.5</td>\n",
       "    </tr>\n",
       "    <tr>\n",
       "      <th>3</th>\n",
       "      <td>1</td>\n",
       "      <td>28.74</td>\n",
       "      <td>7.5</td>\n",
       "    </tr>\n",
       "    <tr>\n",
       "      <th>4</th>\n",
       "      <td>2</td>\n",
       "      <td>9.29</td>\n",
       "      <td>8.0</td>\n",
       "    </tr>\n",
       "    <tr>\n",
       "      <th>5</th>\n",
       "      <td>2</td>\n",
       "      <td>9.04</td>\n",
       "      <td>8.0</td>\n",
       "    </tr>\n",
       "    <tr>\n",
       "      <th>6</th>\n",
       "      <td>2</td>\n",
       "      <td>9.15</td>\n",
       "      <td>8.0</td>\n",
       "    </tr>\n",
       "    <tr>\n",
       "      <th>7</th>\n",
       "      <td>2</td>\n",
       "      <td>9.17</td>\n",
       "      <td>8.0</td>\n",
       "    </tr>\n",
       "    <tr>\n",
       "      <th>8</th>\n",
       "      <td>3</td>\n",
       "      <td>2.67</td>\n",
       "      <td>8.5</td>\n",
       "    </tr>\n",
       "    <tr>\n",
       "      <th>9</th>\n",
       "      <td>3</td>\n",
       "      <td>2.68</td>\n",
       "      <td>8.5</td>\n",
       "    </tr>\n",
       "    <tr>\n",
       "      <th>10</th>\n",
       "      <td>3</td>\n",
       "      <td>2.66</td>\n",
       "      <td>8.5</td>\n",
       "    </tr>\n",
       "    <tr>\n",
       "      <th>11</th>\n",
       "      <td>3</td>\n",
       "      <td>2.67</td>\n",
       "      <td>8.5</td>\n",
       "    </tr>\n",
       "    <tr>\n",
       "      <th>12</th>\n",
       "      <td>4</td>\n",
       "      <td>0.89</td>\n",
       "      <td>9.0</td>\n",
       "    </tr>\n",
       "    <tr>\n",
       "      <th>13</th>\n",
       "      <td>4</td>\n",
       "      <td>0.87</td>\n",
       "      <td>9.0</td>\n",
       "    </tr>\n",
       "    <tr>\n",
       "      <th>14</th>\n",
       "      <td>4</td>\n",
       "      <td>0.88</td>\n",
       "      <td>9.0</td>\n",
       "    </tr>\n",
       "    <tr>\n",
       "      <th>15</th>\n",
       "      <td>4</td>\n",
       "      <td>0.87</td>\n",
       "      <td>9.0</td>\n",
       "    </tr>\n",
       "    <tr>\n",
       "      <th>16</th>\n",
       "      <td>5</td>\n",
       "      <td>0.32</td>\n",
       "      <td>9.5</td>\n",
       "    </tr>\n",
       "    <tr>\n",
       "      <th>17</th>\n",
       "      <td>5</td>\n",
       "      <td>0.32</td>\n",
       "      <td>9.5</td>\n",
       "    </tr>\n",
       "    <tr>\n",
       "      <th>18</th>\n",
       "      <td>5</td>\n",
       "      <td>0.33</td>\n",
       "      <td>9.5</td>\n",
       "    </tr>\n",
       "    <tr>\n",
       "      <th>19</th>\n",
       "      <td>5</td>\n",
       "      <td>0.32</td>\n",
       "      <td>9.5</td>\n",
       "    </tr>\n",
       "  </tbody>\n",
       "</table>\n",
       "</div>"
      ],
      "text/plain": [
       "    Messung  Übertragungsrate  Dämpfung\n",
       "0         1             28.65       7.5\n",
       "1         1             29.33       7.5\n",
       "2         1             30.03       7.5\n",
       "3         1             28.74       7.5\n",
       "4         2              9.29       8.0\n",
       "5         2              9.04       8.0\n",
       "6         2              9.15       8.0\n",
       "7         2              9.17       8.0\n",
       "8         3              2.67       8.5\n",
       "9         3              2.68       8.5\n",
       "10        3              2.66       8.5\n",
       "11        3              2.67       8.5\n",
       "12        4              0.89       9.0\n",
       "13        4              0.87       9.0\n",
       "14        4              0.88       9.0\n",
       "15        4              0.87       9.0\n",
       "16        5              0.32       9.5\n",
       "17        5              0.32       9.5\n",
       "18        5              0.33       9.5\n",
       "19        5              0.32       9.5"
      ]
     },
     "execution_count": 16,
     "metadata": {},
     "output_type": "execute_result"
    }
   ],
   "source": [
    "df_ld"
   ]
  },
  {
   "cell_type": "code",
   "execution_count": 17,
   "metadata": {
    "colab": {
     "base_uri": "https://localhost:8080/",
     "height": 0
    },
    "executionInfo": {
     "elapsed": 155,
     "status": "ok",
     "timestamp": 1703086331470,
     "user": {
      "displayName": "Ben Joshua Fliegener",
      "userId": "06969016385245233563"
     },
     "user_tz": -60
    },
    "id": "wcWg30iRkx2B",
    "outputId": "9a94d7df-8822-4a0a-8ba0-d36f54917daa"
   },
   "outputs": [
    {
     "name": "stdout",
     "output_type": "stream",
     "text": [
      "[29.2    9.16   2.67   0.878  0.323]\n",
      "[0.6   0.09  0.007 0.008 0.005]\n"
     ]
    },
    {
     "data": {
      "text/html": [
       "<div>\n",
       "<style scoped>\n",
       "    .dataframe tbody tr th:only-of-type {\n",
       "        vertical-align: middle;\n",
       "    }\n",
       "\n",
       "    .dataframe tbody tr th {\n",
       "        vertical-align: top;\n",
       "    }\n",
       "\n",
       "    .dataframe thead th {\n",
       "        text-align: right;\n",
       "    }\n",
       "</style>\n",
       "<table border=\"1\" class=\"dataframe\">\n",
       "  <thead>\n",
       "    <tr style=\"text-align: right;\">\n",
       "      <th></th>\n",
       "      <th>Messung</th>\n",
       "      <th>Mean</th>\n",
       "      <th>Std</th>\n",
       "      <th>Var</th>\n",
       "      <th>Dämpfung</th>\n",
       "    </tr>\n",
       "  </thead>\n",
       "  <tbody>\n",
       "    <tr>\n",
       "      <th>0</th>\n",
       "      <td>1</td>\n",
       "      <td>29.200</td>\n",
       "      <td>0.600</td>\n",
       "      <td>0.304819</td>\n",
       "      <td>7.5</td>\n",
       "    </tr>\n",
       "    <tr>\n",
       "      <th>1</th>\n",
       "      <td>2</td>\n",
       "      <td>9.160</td>\n",
       "      <td>0.090</td>\n",
       "      <td>0.007869</td>\n",
       "      <td>8.0</td>\n",
       "    </tr>\n",
       "    <tr>\n",
       "      <th>2</th>\n",
       "      <td>3</td>\n",
       "      <td>2.670</td>\n",
       "      <td>0.007</td>\n",
       "      <td>0.000050</td>\n",
       "      <td>8.5</td>\n",
       "    </tr>\n",
       "    <tr>\n",
       "      <th>3</th>\n",
       "      <td>4</td>\n",
       "      <td>0.878</td>\n",
       "      <td>0.008</td>\n",
       "      <td>0.000069</td>\n",
       "      <td>9.0</td>\n",
       "    </tr>\n",
       "    <tr>\n",
       "      <th>4</th>\n",
       "      <td>5</td>\n",
       "      <td>0.323</td>\n",
       "      <td>0.005</td>\n",
       "      <td>0.000022</td>\n",
       "      <td>9.5</td>\n",
       "    </tr>\n",
       "  </tbody>\n",
       "</table>\n",
       "</div>"
      ],
      "text/plain": [
       "   Messung    Mean    Std       Var  Dämpfung\n",
       "0        1  29.200  0.600  0.304819       7.5\n",
       "1        2   9.160  0.090  0.007869       8.0\n",
       "2        3   2.670  0.007  0.000050       8.5\n",
       "3        4   0.878  0.008  0.000069       9.0\n",
       "4        5   0.323  0.005  0.000022       9.5"
      ]
     },
     "execution_count": 17,
     "metadata": {},
     "output_type": "execute_result"
    }
   ],
   "source": [
    "mean_ld = np.array([\n",
    "    np.mean(df_ld['Übertragungsrate'][0:4]),\n",
    "    np.mean(df_ld['Übertragungsrate'][4:8]),\n",
    "    np.mean(df_ld['Übertragungsrate'][8:12]),\n",
    "    np.mean(df_ld['Übertragungsrate'][12:16]),\n",
    "    np.mean(df_ld['Übertragungsrate'][16:19])\n",
    "    ])\n",
    "mean_ld[0] = round(mean_ld[0],1)\n",
    "mean_ld[1] = round(mean_ld[1],2)\n",
    "mean_ld[2] = round(mean_ld[2],3)\n",
    "mean_ld[3] = round(mean_ld[3],3)\n",
    "mean_ld[4] = round(mean_ld[4],3)\n",
    "var_ld = np.array([\n",
    "    np.var(df_ld['Übertragungsrate'][0:4]),\n",
    "    np.var(df_ld['Übertragungsrate'][4:8]),\n",
    "    np.var(df_ld['Übertragungsrate'][8:12]),\n",
    "    np.var(df_ld['Übertragungsrate'][12:16]),\n",
    "    np.var(df_ld['Übertragungsrate'][16:19])\n",
    "    ])\n",
    "std_ld = np.sqrt(var_ld)\n",
    "std_ld[0] = round(std_ld[0],1)\n",
    "std_ld[1] = round(std_ld[1],2)\n",
    "std_ld[2] = round(std_ld[2],3)\n",
    "std_ld[3] = round(std_ld[3],3)\n",
    "std_ld[4] = round(std_ld[4],3)\n",
    "print(mean_ld)\n",
    "print(std_ld)\n",
    "ld_df = pd.DataFrame({\n",
    "    'Messung':[1,2,3,4,5],\n",
    "    'Mean': mean_ld,\n",
    "    'Std':std_ld,\n",
    "    'Var': var_ld,\n",
    "    'Dämpfung':[7.5,8,8.5,9,9.5]\n",
    "})\n",
    "ld_df"
   ]
  },
  {
   "cell_type": "markdown",
   "metadata": {
    "id": "eYTdV-yOkiVq"
   },
   "source": [
    "# Laser Puls"
   ]
  },
  {
   "cell_type": "code",
   "execution_count": 18,
   "metadata": {
    "colab": {
     "base_uri": "https://localhost:8080/",
     "height": 677
    },
    "executionInfo": {
     "elapsed": 481,
     "status": "ok",
     "timestamp": 1703086331801,
     "user": {
      "displayName": "Ben Joshua Fliegener",
      "userId": "06969016385245233563"
     },
     "user_tz": -60
    },
    "id": "TDTKI_KtpIoO",
    "outputId": "b4a192fe-4cee-4459-abea-d7e423729ae3"
   },
   "outputs": [
    {
     "data": {
      "text/html": [
       "<div>\n",
       "<style scoped>\n",
       "    .dataframe tbody tr th:only-of-type {\n",
       "        vertical-align: middle;\n",
       "    }\n",
       "\n",
       "    .dataframe tbody tr th {\n",
       "        vertical-align: top;\n",
       "    }\n",
       "\n",
       "    .dataframe thead th {\n",
       "        text-align: right;\n",
       "    }\n",
       "</style>\n",
       "<table border=\"1\" class=\"dataframe\">\n",
       "  <thead>\n",
       "    <tr style=\"text-align: right;\">\n",
       "      <th></th>\n",
       "      <th>Messung</th>\n",
       "      <th>Übertragungsrate</th>\n",
       "      <th>Dämpfung</th>\n",
       "    </tr>\n",
       "  </thead>\n",
       "  <tbody>\n",
       "    <tr>\n",
       "      <th>0</th>\n",
       "      <td>1</td>\n",
       "      <td>175.44</td>\n",
       "      <td>6.0</td>\n",
       "    </tr>\n",
       "    <tr>\n",
       "      <th>1</th>\n",
       "      <td>1</td>\n",
       "      <td>172.41</td>\n",
       "      <td>6.0</td>\n",
       "    </tr>\n",
       "    <tr>\n",
       "      <th>2</th>\n",
       "      <td>1</td>\n",
       "      <td>175.44</td>\n",
       "      <td>6.0</td>\n",
       "    </tr>\n",
       "    <tr>\n",
       "      <th>3</th>\n",
       "      <td>1</td>\n",
       "      <td>178.57</td>\n",
       "      <td>6.0</td>\n",
       "    </tr>\n",
       "    <tr>\n",
       "      <th>4</th>\n",
       "      <td>2</td>\n",
       "      <td>63.69</td>\n",
       "      <td>6.5</td>\n",
       "    </tr>\n",
       "    <tr>\n",
       "      <th>5</th>\n",
       "      <td>2</td>\n",
       "      <td>63.69</td>\n",
       "      <td>6.5</td>\n",
       "    </tr>\n",
       "    <tr>\n",
       "      <th>6</th>\n",
       "      <td>2</td>\n",
       "      <td>64.52</td>\n",
       "      <td>6.5</td>\n",
       "    </tr>\n",
       "    <tr>\n",
       "      <th>7</th>\n",
       "      <td>2</td>\n",
       "      <td>65.29</td>\n",
       "      <td>6.5</td>\n",
       "    </tr>\n",
       "    <tr>\n",
       "      <th>8</th>\n",
       "      <td>3</td>\n",
       "      <td>19.12</td>\n",
       "      <td>7.0</td>\n",
       "    </tr>\n",
       "    <tr>\n",
       "      <th>9</th>\n",
       "      <td>3</td>\n",
       "      <td>18.52</td>\n",
       "      <td>7.0</td>\n",
       "    </tr>\n",
       "    <tr>\n",
       "      <th>10</th>\n",
       "      <td>3</td>\n",
       "      <td>18.80</td>\n",
       "      <td>7.0</td>\n",
       "    </tr>\n",
       "    <tr>\n",
       "      <th>11</th>\n",
       "      <td>3</td>\n",
       "      <td>18.55</td>\n",
       "      <td>7.0</td>\n",
       "    </tr>\n",
       "    <tr>\n",
       "      <th>12</th>\n",
       "      <td>4</td>\n",
       "      <td>5.26</td>\n",
       "      <td>7.5</td>\n",
       "    </tr>\n",
       "    <tr>\n",
       "      <th>13</th>\n",
       "      <td>4</td>\n",
       "      <td>5.36</td>\n",
       "      <td>7.5</td>\n",
       "    </tr>\n",
       "    <tr>\n",
       "      <th>14</th>\n",
       "      <td>4</td>\n",
       "      <td>5.49</td>\n",
       "      <td>7.5</td>\n",
       "    </tr>\n",
       "    <tr>\n",
       "      <th>15</th>\n",
       "      <td>4</td>\n",
       "      <td>5.47</td>\n",
       "      <td>7.5</td>\n",
       "    </tr>\n",
       "    <tr>\n",
       "      <th>16</th>\n",
       "      <td>5</td>\n",
       "      <td>2.33</td>\n",
       "      <td>8.0</td>\n",
       "    </tr>\n",
       "    <tr>\n",
       "      <th>17</th>\n",
       "      <td>5</td>\n",
       "      <td>2.36</td>\n",
       "      <td>8.0</td>\n",
       "    </tr>\n",
       "    <tr>\n",
       "      <th>18</th>\n",
       "      <td>5</td>\n",
       "      <td>2.32</td>\n",
       "      <td>8.0</td>\n",
       "    </tr>\n",
       "    <tr>\n",
       "      <th>19</th>\n",
       "      <td>5</td>\n",
       "      <td>2.34</td>\n",
       "      <td>8.0</td>\n",
       "    </tr>\n",
       "  </tbody>\n",
       "</table>\n",
       "</div>"
      ],
      "text/plain": [
       "    Messung  Übertragungsrate  Dämpfung\n",
       "0         1            175.44       6.0\n",
       "1         1            172.41       6.0\n",
       "2         1            175.44       6.0\n",
       "3         1            178.57       6.0\n",
       "4         2             63.69       6.5\n",
       "5         2             63.69       6.5\n",
       "6         2             64.52       6.5\n",
       "7         2             65.29       6.5\n",
       "8         3             19.12       7.0\n",
       "9         3             18.52       7.0\n",
       "10        3             18.80       7.0\n",
       "11        3             18.55       7.0\n",
       "12        4              5.26       7.5\n",
       "13        4              5.36       7.5\n",
       "14        4              5.49       7.5\n",
       "15        4              5.47       7.5\n",
       "16        5              2.33       8.0\n",
       "17        5              2.36       8.0\n",
       "18        5              2.32       8.0\n",
       "19        5              2.34       8.0"
      ]
     },
     "execution_count": 18,
     "metadata": {},
     "output_type": "execute_result"
    }
   ],
   "source": [
    "df_lp"
   ]
  },
  {
   "cell_type": "code",
   "execution_count": 19,
   "metadata": {
    "colab": {
     "base_uri": "https://localhost:8080/",
     "height": 224
    },
    "executionInfo": {
     "elapsed": 36,
     "status": "ok",
     "timestamp": 1703086331802,
     "user": {
      "displayName": "Ben Joshua Fliegener",
      "userId": "06969016385245233563"
     },
     "user_tz": -60
    },
    "id": "8a32WGxzpOAW",
    "outputId": "c4652b29-ab5e-499b-cfca-60152160a8ed"
   },
   "outputs": [
    {
     "name": "stdout",
     "output_type": "stream",
     "text": [
      "[2.17803237 0.66570921 0.24097458 0.09233093 0.0147902 ]\n"
     ]
    },
    {
     "data": {
      "text/html": [
       "<div>\n",
       "<style scoped>\n",
       "    .dataframe tbody tr th:only-of-type {\n",
       "        vertical-align: middle;\n",
       "    }\n",
       "\n",
       "    .dataframe tbody tr th {\n",
       "        vertical-align: top;\n",
       "    }\n",
       "\n",
       "    .dataframe thead th {\n",
       "        text-align: right;\n",
       "    }\n",
       "</style>\n",
       "<table border=\"1\" class=\"dataframe\">\n",
       "  <thead>\n",
       "    <tr style=\"text-align: right;\">\n",
       "      <th></th>\n",
       "      <th>Messung</th>\n",
       "      <th>Dämpfung</th>\n",
       "      <th>Mean</th>\n",
       "      <th>Std</th>\n",
       "      <th>Var</th>\n",
       "    </tr>\n",
       "  </thead>\n",
       "  <tbody>\n",
       "    <tr>\n",
       "      <th>0</th>\n",
       "      <td>1</td>\n",
       "      <td>6.0</td>\n",
       "      <td>175.000</td>\n",
       "      <td>2.000</td>\n",
       "      <td>4.743825</td>\n",
       "    </tr>\n",
       "    <tr>\n",
       "      <th>1</th>\n",
       "      <td>2</td>\n",
       "      <td>6.5</td>\n",
       "      <td>64.300</td>\n",
       "      <td>0.700</td>\n",
       "      <td>0.443169</td>\n",
       "    </tr>\n",
       "    <tr>\n",
       "      <th>2</th>\n",
       "      <td>3</td>\n",
       "      <td>7.0</td>\n",
       "      <td>18.750</td>\n",
       "      <td>0.240</td>\n",
       "      <td>0.058069</td>\n",
       "    </tr>\n",
       "    <tr>\n",
       "      <th>3</th>\n",
       "      <td>4</td>\n",
       "      <td>7.5</td>\n",
       "      <td>5.400</td>\n",
       "      <td>0.090</td>\n",
       "      <td>0.008525</td>\n",
       "    </tr>\n",
       "    <tr>\n",
       "      <th>4</th>\n",
       "      <td>5</td>\n",
       "      <td>8.0</td>\n",
       "      <td>2.338</td>\n",
       "      <td>0.015</td>\n",
       "      <td>0.000219</td>\n",
       "    </tr>\n",
       "  </tbody>\n",
       "</table>\n",
       "</div>"
      ],
      "text/plain": [
       "   Messung  Dämpfung     Mean    Std       Var\n",
       "0        1       6.0  175.000  2.000  4.743825\n",
       "1        2       6.5   64.300  0.700  0.443169\n",
       "2        3       7.0   18.750  0.240  0.058069\n",
       "3        4       7.5    5.400  0.090  0.008525\n",
       "4        5       8.0    2.338  0.015  0.000219"
      ]
     },
     "execution_count": 19,
     "metadata": {},
     "output_type": "execute_result"
    }
   ],
   "source": [
    "d = [6,6.5,7,7.5,8]\n",
    "var_lp = np.array([\n",
    "    np.var(df_lp['Übertragungsrate'][0:4]),\n",
    "    np.var(df_lp['Übertragungsrate'][4:8]),\n",
    "    np.var(df_lp['Übertragungsrate'][8:12]),\n",
    "    np.var(df_lp['Übertragungsrate'][12:16]),\n",
    "    np.var(df_lp['Übertragungsrate'][16:20])\n",
    "])\n",
    "std_lp = np.sqrt(var_lp)\n",
    "print(std_lp)\n",
    "std_lp[0] = round(std_lp[0],0)\n",
    "std_lp[1] = round(std_lp[1],1)\n",
    "std_lp[2] = round(std_lp[2],2)\n",
    "std_lp[3] = round(std_lp[3],2)\n",
    "std_lp[4] = round(std_lp[4],3)\n",
    "mean_lp = np.array([\n",
    "    round(np.mean(df_lp['Übertragungsrate'][0:4]),0),\n",
    "    round(np.mean(df_lp['Übertragungsrate'][4:8]),1),\n",
    "    round(np.mean(df_lp['Übertragungsrate'][8:12]),2),\n",
    "    round(np.mean(df_lp['Übertragungsrate'][12:16]),2),\n",
    "    round(np.mean(df_lp['Übertragungsrate'][16:20]),3)\n",
    "])\n",
    "lp_df = pd.DataFrame({\n",
    "    'Messung':[1,2,3,4,5],\n",
    "    'Dämpfung':d,\n",
    "    'Mean':mean_lp,\n",
    "    'Std':std_lp,\n",
    "    'Var':var_lp\n",
    "})\n",
    "lp_df"
   ]
  },
  {
   "cell_type": "markdown",
   "metadata": {
    "id": "yEERfQgOR7xj"
   },
   "source": [
    "# Autokorrelation"
   ]
  },
  {
   "cell_type": "markdown",
   "metadata": {
    "id": "eZe9r7FRSB8R"
   },
   "source": [
    "## Übersicht verschaffen"
   ]
  },
  {
   "cell_type": "code",
   "execution_count": 20,
   "metadata": {
    "colab": {
     "base_uri": "https://localhost:8080/",
     "height": 430
    },
    "executionInfo": {
     "elapsed": 1289,
     "status": "ok",
     "timestamp": 1703086333069,
     "user": {
      "displayName": "Ben Joshua Fliegener",
      "userId": "06969016385245233563"
     },
     "user_tz": -60
    },
    "id": "LVZUF4TaR6ra",
    "outputId": "8cd61684-e87c-400b-ad50-23cb4872b7ad"
   },
   "outputs": [],
   "source": [
    "cls1 = [\n",
    "    '0',\n",
    "    # '1',\n",
    "    # '2',\n",
    "    '3',\n",
    "    # '4',\n",
    "    '5',\n",
    "    # '6',\n",
    "    '7'\n",
    "    ]\n",
    "# color = [\n",
    "#     # 'black',\n",
    "#     'red',\n",
    "#     # 'green',\n",
    "#     'blue',\n",
    "#     # 'orange',\n",
    "#     # 'yellow',\n",
    "#     # 'gray'\n",
    "# ]\n",
    "x = df_AK['Time']\n",
    "for i in range(len(cls1)):\n",
    "  # print(cls1[i])\n",
    "  plt.plot(x,df_AK[cls1[i]],\n",
    "          #  '.',\n",
    "           alpha=0.8,\n",
    "          #  color=color[i],\n",
    "           label=f'{cls1[i]}')\n",
    "  # plt.plot(x,df_ak[i])\n",
    "plt.yticks([-10,-10,1,10,100,1000])\n",
    "plt.legend()\n",
    "plt.yscale('log')"
   ]
  },
  {
   "cell_type": "code",
   "execution_count": 21,
   "metadata": {
    "colab": {
     "base_uri": "https://localhost:8080/",
     "height": 466
    },
    "executionInfo": {
     "elapsed": 1324,
     "status": "ok",
     "timestamp": 1703086334348,
     "user": {
      "displayName": "Ben Joshua Fliegener",
      "userId": "06969016385245233563"
     },
     "user_tz": -60
    },
    "id": "-Nvz2UHo-8kg",
    "outputId": "d25aaaa0-60d1-4dd0-a98a-340b3d855d8a"
   },
   "outputs": [
    {
     "data": {
      "image/png": "[encoded data removed]",
      "text/plain": [
       "<Figure size 640x480 with 1 Axes>"
      ]
     },
     "metadata": {},
     "output_type": "display_data"
    }
   ],
   "source": [
    "# print(df_AK.columns)\n",
    "df_new = df_AK[['0','3','5','7','Time']]\n",
    "lst = ['0','3','5','7']\n",
    "x = df_new['Time']\n",
    "for i in lst:\n",
    "  plt.plot(x,df_new[i],\n",
    "           label=f'Channel: {i}',\n",
    "           alpha=0.8\n",
    "           )\n",
    "plt.yscale('log')\n",
    "plt.xlabel('Time [ns]')\n",
    "plt.ylabel('Counts')\n",
    "plt.legend()\n",
    "plt.show()"
   ]
  },
  {
   "cell_type": "markdown",
   "metadata": {
    "id": "d_HdjHInI8-H"
   },
   "source": [
    "## dropping last few rows"
   ]
  },
  {
   "cell_type": "code",
   "execution_count": 22,
   "metadata": {
    "colab": {
     "base_uri": "https://localhost:8080/",
     "height": 206
    },
    "executionInfo": {
     "elapsed": 806,
     "status": "ok",
     "timestamp": 1703086334973,
     "user": {
      "displayName": "Ben Joshua Fliegener",
      "userId": "06969016385245233563"
     },
     "user_tz": -60
    },
    "id": "UstOOLYQAyem",
    "outputId": "521b9e44-85c6-4697-dad2-9c197584183e"
   },
   "outputs": [
    {
     "data": {
      "text/html": [
       "<div>\n",
       "<style scoped>\n",
       "    .dataframe tbody tr th:only-of-type {\n",
       "        vertical-align: middle;\n",
       "    }\n",
       "\n",
       "    .dataframe tbody tr th {\n",
       "        vertical-align: top;\n",
       "    }\n",
       "\n",
       "    .dataframe thead th {\n",
       "        text-align: right;\n",
       "    }\n",
       "</style>\n",
       "<table border=\"1\" class=\"dataframe\">\n",
       "  <thead>\n",
       "    <tr style=\"text-align: right;\">\n",
       "      <th></th>\n",
       "      <th>0</th>\n",
       "      <th>1</th>\n",
       "      <th>2</th>\n",
       "      <th>3</th>\n",
       "      <th>5</th>\n",
       "      <th>6</th>\n",
       "      <th>7</th>\n",
       "      <th>Time</th>\n",
       "    </tr>\n",
       "  </thead>\n",
       "  <tbody>\n",
       "    <tr>\n",
       "      <th>4091</th>\n",
       "      <td>0</td>\n",
       "      <td>0</td>\n",
       "      <td>0</td>\n",
       "      <td>0</td>\n",
       "      <td>0</td>\n",
       "      <td>0</td>\n",
       "      <td>0</td>\n",
       "      <td>1205.6177</td>\n",
       "    </tr>\n",
       "    <tr>\n",
       "      <th>4092</th>\n",
       "      <td>0</td>\n",
       "      <td>0</td>\n",
       "      <td>0</td>\n",
       "      <td>0</td>\n",
       "      <td>0</td>\n",
       "      <td>0</td>\n",
       "      <td>0</td>\n",
       "      <td>1205.9124</td>\n",
       "    </tr>\n",
       "    <tr>\n",
       "      <th>4093</th>\n",
       "      <td>0</td>\n",
       "      <td>0</td>\n",
       "      <td>0</td>\n",
       "      <td>0</td>\n",
       "      <td>0</td>\n",
       "      <td>0</td>\n",
       "      <td>0</td>\n",
       "      <td>1206.2071</td>\n",
       "    </tr>\n",
       "    <tr>\n",
       "      <th>4094</th>\n",
       "      <td>0</td>\n",
       "      <td>0</td>\n",
       "      <td>0</td>\n",
       "      <td>0</td>\n",
       "      <td>0</td>\n",
       "      <td>0</td>\n",
       "      <td>0</td>\n",
       "      <td>1206.5018</td>\n",
       "    </tr>\n",
       "    <tr>\n",
       "      <th>4095</th>\n",
       "      <td>0</td>\n",
       "      <td>0</td>\n",
       "      <td>0</td>\n",
       "      <td>0</td>\n",
       "      <td>0</td>\n",
       "      <td>0</td>\n",
       "      <td>0</td>\n",
       "      <td>1206.7965</td>\n",
       "    </tr>\n",
       "  </tbody>\n",
       "</table>\n",
       "</div>"
      ],
      "text/plain": [
       "0     0  1  2  3  5  6  7       Time\n",
       "4091  0  0  0  0  0  0  0  1205.6177\n",
       "4092  0  0  0  0  0  0  0  1205.9124\n",
       "4093  0  0  0  0  0  0  0  1206.2071\n",
       "4094  0  0  0  0  0  0  0  1206.5018\n",
       "4095  0  0  0  0  0  0  0  1206.7965"
      ]
     },
     "execution_count": 22,
     "metadata": {},
     "output_type": "execute_result"
    }
   ],
   "source": [
    "df_AK.tail()"
   ]
  },
  {
   "cell_type": "code",
   "execution_count": 23,
   "metadata": {
    "executionInfo": {
     "elapsed": 30,
     "status": "ok",
     "timestamp": 1703086334974,
     "user": {
      "displayName": "Ben Joshua Fliegener",
      "userId": "06969016385245233563"
     },
     "user_tz": -60
    },
    "id": "GIj34HHNIS6c"
   },
   "outputs": [],
   "source": [
    "droping_rows = np.arange(4021,len(df_AK))\n",
    "# print(droping_rows)\n",
    "# print(len(df_AK))"
   ]
  },
  {
   "cell_type": "code",
   "execution_count": 24,
   "metadata": {
    "executionInfo": {
     "elapsed": 29,
     "status": "ok",
     "timestamp": 1703086334974,
     "user": {
      "displayName": "Ben Joshua Fliegener",
      "userId": "06969016385245233563"
     },
     "user_tz": -60
    },
    "id": "7Wa3-TZsHj1F"
   },
   "outputs": [],
   "source": [
    "df_AK[4000:4050]\n",
    "df_AK = df_AK.drop(droping_rows,axis=0)"
   ]
  },
  {
   "cell_type": "code",
   "execution_count": 25,
   "metadata": {
    "colab": {
     "base_uri": "https://localhost:8080/",
     "height": 206
    },
    "executionInfo": {
     "elapsed": 28,
     "status": "ok",
     "timestamp": 1703086334974,
     "user": {
      "displayName": "Ben Joshua Fliegener",
      "userId": "06969016385245233563"
     },
     "user_tz": -60
    },
    "id": "UJwQLVP6A-y8",
    "outputId": "e77e5e70-055f-4773-c9eb-9fad720c85e1"
   },
   "outputs": [
    {
     "data": {
      "text/html": [
       "<div>\n",
       "<style scoped>\n",
       "    .dataframe tbody tr th:only-of-type {\n",
       "        vertical-align: middle;\n",
       "    }\n",
       "\n",
       "    .dataframe tbody tr th {\n",
       "        vertical-align: top;\n",
       "    }\n",
       "\n",
       "    .dataframe thead th {\n",
       "        text-align: right;\n",
       "    }\n",
       "</style>\n",
       "<table border=\"1\" class=\"dataframe\">\n",
       "  <thead>\n",
       "    <tr style=\"text-align: right;\">\n",
       "      <th></th>\n",
       "      <th>0</th>\n",
       "      <th>1</th>\n",
       "      <th>2</th>\n",
       "      <th>3</th>\n",
       "      <th>5</th>\n",
       "      <th>6</th>\n",
       "      <th>7</th>\n",
       "      <th>Time</th>\n",
       "    </tr>\n",
       "  </thead>\n",
       "  <tbody>\n",
       "    <tr>\n",
       "      <th>4016</th>\n",
       "      <td>128</td>\n",
       "      <td>7</td>\n",
       "      <td>26</td>\n",
       "      <td>8</td>\n",
       "      <td>31</td>\n",
       "      <td>0</td>\n",
       "      <td>183</td>\n",
       "      <td>1183.5152</td>\n",
       "    </tr>\n",
       "    <tr>\n",
       "      <th>4017</th>\n",
       "      <td>84</td>\n",
       "      <td>1</td>\n",
       "      <td>5</td>\n",
       "      <td>16</td>\n",
       "      <td>19</td>\n",
       "      <td>0</td>\n",
       "      <td>144</td>\n",
       "      <td>1183.8099</td>\n",
       "    </tr>\n",
       "    <tr>\n",
       "      <th>4018</th>\n",
       "      <td>120</td>\n",
       "      <td>3</td>\n",
       "      <td>17</td>\n",
       "      <td>8</td>\n",
       "      <td>27</td>\n",
       "      <td>0</td>\n",
       "      <td>197</td>\n",
       "      <td>1184.1046</td>\n",
       "    </tr>\n",
       "    <tr>\n",
       "      <th>4019</th>\n",
       "      <td>67</td>\n",
       "      <td>1</td>\n",
       "      <td>16</td>\n",
       "      <td>12</td>\n",
       "      <td>24</td>\n",
       "      <td>0</td>\n",
       "      <td>155</td>\n",
       "      <td>1184.3993</td>\n",
       "    </tr>\n",
       "    <tr>\n",
       "      <th>4020</th>\n",
       "      <td>34</td>\n",
       "      <td>1</td>\n",
       "      <td>7</td>\n",
       "      <td>9</td>\n",
       "      <td>11</td>\n",
       "      <td>0</td>\n",
       "      <td>82</td>\n",
       "      <td>1184.6940</td>\n",
       "    </tr>\n",
       "  </tbody>\n",
       "</table>\n",
       "</div>"
      ],
      "text/plain": [
       "0       0  1   2   3   5  6    7       Time\n",
       "4016  128  7  26   8  31  0  183  1183.5152\n",
       "4017   84  1   5  16  19  0  144  1183.8099\n",
       "4018  120  3  17   8  27  0  197  1184.1046\n",
       "4019   67  1  16  12  24  0  155  1184.3993\n",
       "4020   34  1   7   9  11  0   82  1184.6940"
      ]
     },
     "execution_count": 25,
     "metadata": {},
     "output_type": "execute_result"
    }
   ],
   "source": [
    "df_AK.tail()"
   ]
  },
  {
   "cell_type": "code",
   "execution_count": 26,
   "metadata": {
    "colab": {
     "base_uri": "https://localhost:8080/",
     "height": 466
    },
    "executionInfo": {
     "elapsed": 852,
     "status": "ok",
     "timestamp": 1703086335800,
     "user": {
      "displayName": "Ben Joshua Fliegener",
      "userId": "06969016385245233563"
     },
     "user_tz": -60
    },
    "id": "FrttPbLfBE_G",
    "outputId": "f11d50d8-20e1-4c82-fa6a-bc59ad4a5eaa"
   },
   "outputs": [
    {
     "data": {
      "image/png": "[encoded data removed]",
      "text/plain": [
       "<Figure size 640x480 with 1 Axes>"
      ]
     },
     "metadata": {},
     "output_type": "display_data"
    }
   ],
   "source": [
    "# print(df_AK.columns)\n",
    "df_new = df_AK[['0','3','5','7','Time']]\n",
    "lst = ['0','3','5','7']\n",
    "forms = ['o','|','+','x']\n",
    "t = df_new['Time']\n",
    "for i in range(len(lst)):\n",
    "  plt.plot(t,df_new[lst[i]],\n",
    "           label=f'Channel: {lst[i]}',\n",
    "           alpha=0.6,\n",
    "           linestyle='None',\n",
    "           marker=forms[i]\n",
    "           )\n",
    "plt.yscale('log')\n",
    "plt.xlabel('Time [ns]')\n",
    "plt.ylabel('Counts')\n",
    "plt.legend()\n",
    "plt.show()"
   ]
  },
  {
   "cell_type": "markdown",
   "metadata": {
    "id": "GphvZHHzK3vv"
   },
   "source": [
    "## Regression\n",
    "$$ f(x) = C_1 (1-(K+1) \\exp(k_1|x-x_0|) + K \\exp(k_2|x-x_0|)+C_0) $$"
   ]
  },
  {
   "cell_type": "markdown",
   "metadata": {
    "id": "BguADRoI1ei3"
   },
   "source": [
    "Kontrast:\n",
    "$$ K= \\frac{|R_1-R_2|}{R_1+R_2}$$\n",
    "Konstante $C_1$:\n",
    "$$ C_1 = R_1 R_2 t_{bin}t_{int} $$"
   ]
  },
  {
   "cell_type": "code",
   "execution_count": 27,
   "metadata": {
    "colab": {
     "base_uri": "https://localhost:8080/"
    },
    "executionInfo": {
     "elapsed": 48,
     "status": "ok",
     "timestamp": 1703086335810,
     "user": {
      "displayName": "Ben Joshua Fliegener",
      "userId": "06969016385245233563"
     },
     "user_tz": -60
    },
    "id": "TkKX8KEkSnkL",
    "outputId": "d70b2488-1026-4884-aa57-8cfa4c7bc5c3"
   },
   "outputs": [
    {
     "data": {
      "text/plain": [
       "Index(['0', '3', '5', '7', 'Time'], dtype='object', name=0)"
      ]
     },
     "execution_count": 27,
     "metadata": {},
     "output_type": "execute_result"
    }
   ],
   "source": [
    "df_new.columns"
   ]
  },
  {
   "cell_type": "code",
   "execution_count": 28,
   "metadata": {
    "colab": {
     "base_uri": "https://localhost:8080/"
    },
    "executionInfo": {
     "elapsed": 39,
     "status": "ok",
     "timestamp": 1703086335810,
     "user": {
      "displayName": "Ben Joshua Fliegener",
      "userId": "06969016385245233563"
     },
     "user_tz": -60
    },
    "id": "LABfbKqXOQl3",
    "outputId": "4a0ea2fa-b0f3-453e-d523-0f99c255a254"
   },
   "outputs": [
    {
     "name": "stdout",
     "output_type": "stream",
     "text": [
      "The min of 0 is 9\n",
      "the index is: [3640]\n",
      "\n",
      "\n",
      "The min of 3 is 0\n",
      "the index is: [3636, 3639, 3643, 3646]\n",
      "\n",
      "\n",
      "The min of 5 is 4\n",
      "the index is: [3301, 3631, 3634, 3637, 3638]\n",
      "\n",
      "\n",
      "The min of 7 is 46\n",
      "the index is: [3637]\n",
      "\n",
      "\n",
      "The min of Time is 0.0\n",
      "the index is: [0]\n",
      "\n",
      "\n"
     ]
    }
   ],
   "source": [
    "for i in df_new.columns:\n",
    "  print(f'The min of {i} is {min(df_new[i])}')\n",
    "  x = df_new.index[df_new[i] == min(df_new[i])].tolist()\n",
    "  print(f'the index is: {x}')\n",
    "  # for j in x:\n",
    "  #   print(f' - col: {i}, min. y: {min(df_new[i])}, t={df_new['Time'][j]}')\n",
    "\n",
    "  print('\\n')"
   ]
  },
  {
   "cell_type": "code",
   "execution_count": 29,
   "metadata": {
    "colab": {
     "base_uri": "https://localhost:8080/"
    },
    "executionInfo": {
     "elapsed": 421,
     "status": "ok",
     "timestamp": 1703086336197,
     "user": {
      "displayName": "Ben Joshua Fliegener",
      "userId": "06969016385245233563"
     },
     "user_tz": -60
    },
    "id": "bXPo6uqWRQ7v",
    "outputId": "f32b0491-ed6a-4c09-9240-2025f05df7f1"
   },
   "outputs": [
    {
     "data": {
      "text/plain": [
       "np.float64(1072.1186)"
      ]
     },
     "execution_count": 29,
     "metadata": {},
     "output_type": "execute_result"
    }
   ],
   "source": [
    "df_new['Time'][3638]"
   ]
  },
  {
   "cell_type": "markdown",
   "metadata": {
    "id": "EgKkp2Nvzf9s"
   },
   "source": [
    "### Channel 0"
   ]
  },
  {
   "cell_type": "code",
   "execution_count": 30,
   "metadata": {
    "colab": {
     "base_uri": "https://localhost:8080/"
    },
    "executionInfo": {
     "elapsed": 5101,
     "status": "ok",
     "timestamp": 1703086341286,
     "user": {
      "displayName": "Ben Joshua Fliegener",
      "userId": "06969016385245233563"
     },
     "user_tz": -60
    },
    "id": "KC4GVPSaMlz9",
    "outputId": "2d97fb3a-f970-4ccf-dd4b-56475a9f59fa"
   },
   "outputs": [
    {
     "name": "stdout",
     "output_type": "stream",
     "text": [
      "Parameters [np.float64(0.3973412), np.float64(52.8284264), np.float64(261.2126362), np.float64(-0.6761526), np.float64(-0.680433)]\n"
     ]
    }
   ],
   "source": [
    "# curve fit the test data\n",
    "# Initial guess for parameters (c0, c1, K, k1, k2)\n",
    "initial_guess = (6.3792645, 10.0, 247.318715, -0.790101, -0.8379343)\n",
    "\n",
    "param_bounds = ([0,0, -1, -2, -2e3],\n",
    "                [10,1e3,1e3,2,2])\n",
    "y0 = df_new['0']\n",
    "fittedParameters_c0, pcov = curve_fit(reg.f0,\n",
    "                                   t,\n",
    "                                   y0,\n",
    "                                  #  np.log(df_new['0']),\n",
    "                                   p0=initial_guess,\n",
    "                                   bounds=param_bounds,\n",
    "                                   maxfev=12000)\n",
    "fittedParameters_c0 = list(fittedParameters_c0)\n",
    "for i in range(len(fittedParameters_c0)):\n",
    "  fittedParameters_c0[i] = round(fittedParameters_c0[i],7)\n",
    "print('Parameters', fittedParameters_c0)\n"
   ]
  },
  {
   "cell_type": "code",
   "execution_count": 31,
   "metadata": {
    "colab": {
     "base_uri": "https://localhost:8080/"
    },
    "executionInfo": {
     "elapsed": 35,
     "status": "ok",
     "timestamp": 1703086341286,
     "user": {
      "displayName": "Ben Joshua Fliegener",
      "userId": "06969016385245233563"
     },
     "user_tz": -60
    },
    "id": "OFCf-nYKrR2f",
    "outputId": "9ddd71c5-33d9-43a3-a13b-ce291b989111"
   },
   "outputs": [
    {
     "name": "stdout",
     "output_type": "stream",
     "text": [
      "[3.16097118e-01 1.19504542e+01 7.16218876e+06 5.81915087e+01\n",
      " 5.89502875e+01]\n",
      "C_0: 0.40+/-0.31\n",
      "C_1: 53+/-12\n",
      "K: (0+/-8)e+06\n",
      "k1: (-0+/-7)e+01\n",
      "k2: (-0+/-7)e+01\n"
     ]
    }
   ],
   "source": [
    "print(np.sqrt(np.diag(pcov)))\n",
    "var_name = ['C_0','C_1','K','k1','k2']\n",
    "#0.3971789, 52.8345761, 261.1607891, -0.6760478, -0.6803267\n",
    "par_c0 = np.array([0.3971789, 52.8345761, 261.1607891, -0.6760478, -0.6803267])\n",
    "u_c0 = np.array([3.07580395e-01 ,1.16316901e+01 ,\n",
    "                 8.11884339e+06 ,6.59487973e+01,\n",
    " 6.68218748e+01])\n",
    "for i in range(len(var_name)):\n",
    "  print(f'{var_name[i]}: {ufloat(par_c0[i],u_c0[i])}')"
   ]
  },
  {
   "cell_type": "code",
   "execution_count": 32,
   "metadata": {
    "colab": {
     "base_uri": "https://localhost:8080/"
    },
    "executionInfo": {
     "elapsed": 24,
     "status": "ok",
     "timestamp": 1703086341286,
     "user": {
      "displayName": "Ben Joshua Fliegener",
      "userId": "06969016385245233563"
     },
     "user_tz": -60
    },
    "id": "Zo2eBkWg1BCY",
    "outputId": "a447ceb2-4a8a-4ea8-c278-c82c63cfdf05"
   },
   "outputs": [
    {
     "data": {
      "text/plain": [
       "0.2352"
      ]
     },
     "execution_count": 32,
     "metadata": {},
     "output_type": "execute_result"
    }
   ],
   "source": [
    "# g^(2)\n",
    "g0_c0 = g(3.07580395e-01)\n",
    "g0_c0"
   ]
  },
  {
   "cell_type": "code",
   "execution_count": 33,
   "metadata": {
    "colab": {
     "base_uri": "https://localhost:8080/",
     "height": 430
    },
    "executionInfo": {
     "elapsed": 1007,
     "status": "ok",
     "timestamp": 1703086342273,
     "user": {
      "displayName": "Ben Joshua Fliegener",
      "userId": "06969016385245233563"
     },
     "user_tz": -60
    },
    "id": "MXiY-D6mNzRt",
    "outputId": "4827a8ef-be4c-4052-9de5-baab7ac217b8"
   },
   "outputs": [
    {
     "data": {
      "image/png": "[encoded data removed]",
      "text/plain": [
       "<Figure size 640x480 with 1 Axes>"
      ]
     },
     "metadata": {},
     "output_type": "display_data"
    }
   ],
   "source": [
    "plt.plot(t,df_new['0'],\n",
    "         label='data')\n",
    "\n",
    "# plt.plot(t,reg.f0(t,6.0, 10, 0.475, 0.00238, 0.003),\n",
    "#          label='reg')\n",
    "# plt.plot(t,reg.f0(t,5.3317709708336185, 20., 0.4, 0.003, 0.004149956693096553),\n",
    "#          label='Beste regression bisher')\n",
    "plt.plot(t,reg.f0(t,0.3971789, 52.8345761, 261.1607891, -0.6760478, -0.6803267),\n",
    "         label='reg 2')\n",
    "plt.legend()\n",
    "plt.yscale('log')\n",
    "plt.show()"
   ]
  },
  {
   "cell_type": "markdown",
   "metadata": {
    "id": "4FGnAq55sjSo"
   },
   "source": [
    "#### MSE"
   ]
  },
  {
   "cell_type": "code",
   "execution_count": 34,
   "metadata": {
    "colab": {
     "base_uri": "https://localhost:8080/",
     "height": 447
    },
    "executionInfo": {
     "elapsed": 831,
     "status": "ok",
     "timestamp": 1703086343090,
     "user": {
      "displayName": "Ben Joshua Fliegener",
      "userId": "06969016385245233563"
     },
     "user_tz": -60
    },
    "id": "GQq64ZMBzWuG",
    "outputId": "44b35fd9-e1bf-481f-b689-44017ec448bb"
   },
   "outputs": [
    {
     "data": {
      "text/plain": [
       "[<matplotlib.lines.Line2D at 0x169da11bdd0>]"
      ]
     },
     "execution_count": 34,
     "metadata": {},
     "output_type": "execute_result"
    }
   ],
   "source": [
    "y_h0 = reg.f0(t,0.3971789, 52.8345761, 261.1607891, -0.6760478, -0.6803267)\n",
    "mse_c0 = (y0-y_h0)**2\n",
    "plt.plot(t,mse_c0)"
   ]
  },
  {
   "cell_type": "markdown",
   "metadata": {
    "id": "rs9UJk9Dz1uY"
   },
   "source": [
    "### Channel 3"
   ]
  },
  {
   "cell_type": "code",
   "execution_count": 35,
   "metadata": {
    "colab": {
     "base_uri": "https://localhost:8080/"
    },
    "executionInfo": {
     "elapsed": 40,
     "status": "ok",
     "timestamp": 1703086343091,
     "user": {
      "displayName": "Ben Joshua Fliegener",
      "userId": "06969016385245233563"
     },
     "user_tz": -60
    },
    "id": "lOKuNz1P5wYb",
    "outputId": "06dd082c-4bc7-47ce-b12a-1cbca2a08f71"
   },
   "outputs": [
    {
     "name": "stdout",
     "output_type": "stream",
     "text": [
      "0\n",
      "3636\n",
      "3639\n",
      "3643\n",
      "3646\n"
     ]
    }
   ],
   "source": [
    "x = np.array(t)\n",
    "y3 = np.array(df_new['3'])\n",
    "print(min(y3))\n",
    "for i in range(len(y3)):\n",
    "  if 0 == y3[i]:\n",
    "    print(i)"
   ]
  },
  {
   "cell_type": "code",
   "execution_count": 36,
   "metadata": {
    "colab": {
     "base_uri": "https://localhost:8080/",
     "height": 430
    },
    "executionInfo": {
     "elapsed": 4247,
     "status": "ok",
     "timestamp": 1703086347311,
     "user": {
      "displayName": "Ben Joshua Fliegener",
      "userId": "06969016385245233563"
     },
     "user_tz": -60
    },
    "id": "sPCE0pMI59F5",
    "outputId": "f6e23726-13aa-4f00-aed8-34658c587ff9"
   },
   "outputs": [],
   "source": [
    "plt.plot(x,y3)\n",
    "plt.yscale('log')"
   ]
  },
  {
   "cell_type": "code",
   "execution_count": 37,
   "metadata": {
    "colab": {
     "base_uri": "https://localhost:8080/"
    },
    "executionInfo": {
     "elapsed": 74,
     "status": "ok",
     "timestamp": 1703086347312,
     "user": {
      "displayName": "Ben Joshua Fliegener",
      "userId": "06969016385245233563"
     },
     "user_tz": -60
    },
    "id": "X3IcPQLtz8tN",
    "outputId": "dd6c5c9b-7a23-402b-f1d4-8596c5a8ad03"
   },
   "outputs": [
    {
     "name": "stdout",
     "output_type": "stream",
     "text": [
      "Parameters [np.float64(5.84e-05), np.float64(-0.0794694), np.float64(161.0048913), np.float64(-0.0001159), np.float64(-0.370654)]\n",
      "Uncertainties: [2.08292304e+01 9.60417111e+01 1.94580902e+05 9.17936552e-04\n",
      " 6.97268837e-02]\n"
     ]
    }
   ],
   "source": [
    "# curve fit the test data\n",
    "# Initial guess for parameters (c0, c1, K, k1, k2)\n",
    "p0 = [0.0, -0.0004805, 0.0500026, 0.01, 0.0005]\n",
    "bounds = ([-.1,-.1,0.03,-0.01,-10],\n",
    "          [.0001,-.0003,2000,0.03,0.0009])\n",
    "fittedParameters, pcov = curve_fit(reg.f3,\n",
    "                                   t,\n",
    "                                   y3,\n",
    "                                  #  np.log(y3),\n",
    "                                   p0= p0,\n",
    "                                   bounds=bounds,\n",
    "                                   maxfev=12000)\n",
    "fittedParameters = list(fittedParameters)\n",
    "for i in range(len(fittedParameters)):\n",
    "  fittedParameters[i] = round(fittedParameters[i],7)\n",
    "print('Parameters', fittedParameters)\n",
    "print('Uncertainties:', np.sqrt(np.diag(pcov)))"
   ]
  },
  {
   "cell_type": "code",
   "execution_count": 38,
   "metadata": {
    "colab": {
     "base_uri": "https://localhost:8080/"
    },
    "executionInfo": {
     "elapsed": 64,
     "status": "ok",
     "timestamp": 1703086347312,
     "user": {
      "displayName": "Ben Joshua Fliegener",
      "userId": "06969016385245233563"
     },
     "user_tz": -60
    },
    "id": "mJrtey_kC_NM",
    "outputId": "94c62847-9fcd-46bf-b303-f8e099b75a47"
   },
   "outputs": [
    {
     "name": "stdout",
     "output_type": "stream",
     "text": [
      "[1.57103945e+01 8.11718682e+01 1.69345492e+05 8.55625893e-04\n",
      " 2.84359720e-02]\n",
      "From: (-0.0001, -0.0786445, 164.0722689, -0.0001279, -0.2)\n"
     ]
    }
   ],
   "source": [
    "# best shoot 1\n",
    "bs1 = np.array([[ 2.46816495e+02,-9.02274856e+01,-1.87994532e+05 ,1.17078022e-03\n",
    "  ,-3.13733432e-01],\n",
    " [-9.02274856e+01,  6.58887219e+03,  1.37460899e+07, -6.94330081e-02,\n",
    "   4.88897659e-01],\n",
    " [-1.87994532e+05  ,1.37460899e+07  ,2.86778957e+10 ,-1.44854995e+02\n",
    "   ,1.01966973e+03],\n",
    " [ 1.17078022e-03 ,-6.94330081e-02, -1.44854995e+02 , 7.32095668e-07\n",
    "  ,-5.48866961e-06],\n",
    " [-3.13733432e-01 , 4.88897659e-01  ,1.01966973e+03 ,-5.48866961e-06\n",
    "   ,8.08604501e-04]])\n",
    "u_best_sh_1 = np.sqrt(np.diag(bs1))\n",
    "print(u_best_sh_1)\n",
    "print(f'From: {-0.0001, -0.0786445, 164.0722689, -0.0001279, -0.2}')"
   ]
  },
  {
   "cell_type": "code",
   "execution_count": 39,
   "metadata": {
    "colab": {
     "base_uri": "https://localhost:8080/"
    },
    "executionInfo": {
     "elapsed": 59,
     "status": "ok",
     "timestamp": 1703086347312,
     "user": {
      "displayName": "Ben Joshua Fliegener",
      "userId": "06969016385245233563"
     },
     "user_tz": -60
    },
    "id": "lWOFE2ujEWRL",
    "outputId": "acfc50f1-1921-4e10-828f-e83eb38fd2a9"
   },
   "outputs": [
    {
     "name": "stdout",
     "output_type": "stream",
     "text": [
      "Channel 3\n",
      "C_0: 0+/-21\n",
      "C_1: (-0.0+/-1.0)e+02\n",
      "K: (0.0+/-1.9)e+05\n",
      "k1: -0.0001+/-0.0009\n",
      "k2: -0.37+/-0.07\n"
     ]
    }
   ],
   "source": [
    "# final reg\n",
    "# data: 5.84e-05, -0.0794694, 161.0048806, -0.0001159, -0.3706534\n",
    "par_c3 = np.array([5.84e-05, -0.0794694, 161.0048806, -0.0001159, -0.3706534])\n",
    "# print(pcov)\n",
    "bs2 = np.array([[ 4.33856656e+02 ,-7.27538800e+01 ,\n",
    "                 -1.46968567e+05 , 1.03938875e-03,\n",
    "  -1.01647100e+00],\n",
    " [-7.27538800e+01 , 9.22552845e+03  ,\n",
    "  1.86909556e+07, -8.81494427e-02,\n",
    "   1.00778082e+00],\n",
    " [-1.46968567e+05 , 1.86909556e+07 ,\n",
    "  3.78679473e+10 ,-1.78590779e+02,\n",
    "   2.04077674e+03],\n",
    " [ 1.03938875e-03 ,-8.81494427e-02,\n",
    "  -1.78590779e+02 , 8.42746383e-07,\n",
    "  -1.05401646e-05],\n",
    " [-1.01647100e+00 , 1.00778082e+00  ,2.04077674e+03, -1.05401646e-05,\n",
    "   4.86177622e-03]])\n",
    "u_c3 = np.sqrt(np.diag(bs2))\n",
    "# u_c3\n",
    "print('Channel 3')\n",
    "for i in range(len(var_name)):\n",
    "  print(f'{var_name[i]}: {ufloat(par_c3[i],u_c3[i])}')"
   ]
  },
  {
   "cell_type": "code",
   "execution_count": 40,
   "metadata": {
    "colab": {
     "base_uri": "https://localhost:8080/"
    },
    "executionInfo": {
     "elapsed": 55,
     "status": "ok",
     "timestamp": 1703086347313,
     "user": {
      "displayName": "Ben Joshua Fliegener",
      "userId": "06969016385245233563"
     },
     "user_tz": -60
    },
    "id": "GqDkBWNt1Yzj",
    "outputId": "7f5a6590-b28c-4e02-ec0a-5cd1cc9fa8f5"
   },
   "outputs": [
    {
     "data": {
      "text/plain": [
       "0.0001"
      ]
     },
     "execution_count": 40,
     "metadata": {},
     "output_type": "execute_result"
    }
   ],
   "source": [
    "# g^(2)\n",
    "g0_c3 = g(5.84e-05)\n",
    "g0_c3"
   ]
  },
  {
   "cell_type": "code",
   "execution_count": 41,
   "metadata": {
    "colab": {
     "base_uri": "https://localhost:8080/",
     "height": 447
    },
    "executionInfo": {
     "elapsed": 631,
     "status": "ok",
     "timestamp": 1703086347893,
     "user": {
      "displayName": "Ben Joshua Fliegener",
      "userId": "06969016385245233563"
     },
     "user_tz": -60
    },
    "id": "5PVznK3X6gav",
    "outputId": "7db9b5d2-b3b9-4244-bf3b-d62b04448212"
   },
   "outputs": [
    {
     "data": {
      "image/png": "[encoded data removed]",
      "text/plain": [
       "<Figure size 640x480 with 1 Axes>"
      ]
     },
     "metadata": {},
     "output_type": "display_data"
    }
   ],
   "source": [
    "plt.plot(t,y3,label='data')\n",
    "# plt.plot(x,reg.f3(x,0.0, -0.0004805, 0.0500026, 0.01, 0.0005),\n",
    "#          label='Best shoot 2')\n",
    "# plt.plot(x,reg.f3(x,-0.0001, -0.0786445, 164.0722689, -0.0001279, -0.2),\n",
    "#          label='best shoot 1')\n",
    "plt.plot(t,reg.f3(t,5.84e-05, -0.0794694, 161.0048806, -0.0001159, -0.3706534),\n",
    "         label='reg')\n",
    "plt.yscale('log')\n",
    "plt.legend()\n",
    "plt.show()"
   ]
  },
  {
   "cell_type": "markdown",
   "metadata": {
    "id": "WqzMc5HDr0wC"
   },
   "source": [
    "#### MSE"
   ]
  },
  {
   "cell_type": "code",
   "execution_count": 42,
   "metadata": {
    "colab": {
     "base_uri": "https://localhost:8080/",
     "height": 447
    },
    "executionInfo": {
     "elapsed": 1263,
     "status": "ok",
     "timestamp": 1703086349121,
     "user": {
      "displayName": "Ben Joshua Fliegener",
      "userId": "06969016385245233563"
     },
     "user_tz": -60
    },
    "id": "nCyUzD9Yr2yr",
    "outputId": "21db1512-1779-4db2-91f4-89054869905b"
   },
   "outputs": [
    {
     "data": {
      "text/plain": [
       "[<matplotlib.lines.Line2D at 0x169d9857c80>]"
      ]
     },
     "execution_count": 42,
     "metadata": {},
     "output_type": "execute_result"
    }
   ],
   "source": [
    "y_h3 = reg.f3(t,5.84e-05, -0.0794694, 161.0048806, -0.0001159, -0.3706534)\n",
    "mse_c3 = (y3-y_h3)**2\n",
    "plt.plot(t,mse_c3)"
   ]
  },
  {
   "cell_type": "markdown",
   "metadata": {
    "id": "XAZAKOUXE7WX"
   },
   "source": [
    "### Channel 5"
   ]
  },
  {
   "cell_type": "code",
   "execution_count": 43,
   "metadata": {
    "colab": {
     "base_uri": "https://localhost:8080/",
     "height": 430
    },
    "executionInfo": {
     "elapsed": 722,
     "status": "ok",
     "timestamp": 1703086349818,
     "user": {
      "displayName": "Ben Joshua Fliegener",
      "userId": "06969016385245233563"
     },
     "user_tz": -60
    },
    "id": "4gz-qJv3FE3Z",
    "outputId": "c63f1969-7d3d-4c1d-80a3-bc10889daf19"
   },
   "outputs": [],
   "source": [
    "y5 = df_new['5']\n",
    "plt.plot(t,y5)\n",
    "plt.yscale('log')"
   ]
  },
  {
   "cell_type": "code",
   "execution_count": 44,
   "metadata": {
    "colab": {
     "base_uri": "https://localhost:8080/"
    },
    "executionInfo": {
     "elapsed": 35226,
     "status": "ok",
     "timestamp": 1703086385032,
     "user": {
      "displayName": "Ben Joshua Fliegener",
      "userId": "06969016385245233563"
     },
     "user_tz": -60
    },
    "id": "roh9aj9AFQds",
    "outputId": "e78dc80b-92ee-4f26-9c9f-dedc0ad41056"
   },
   "outputs": [
    {
     "name": "stdout",
     "output_type": "stream",
     "text": [
      "Parameters [np.float64(0.0005103), np.float64(9851.3622657), np.float64(-0.0017097), np.float64(5e-07), np.float64(-0.1188041)]\n"
     ]
    }
   ],
   "source": [
    "# curve fit the test data\n",
    "# Initial guess for parameters (c0, c1, K, k1, k2)\n",
    "p0 = [0.0505325, 99.9999999, -0.1676983, 6.11e-05, -0.1193754]\n",
    "bounds = ([-1,1.1,-100,-1,-10],\n",
    "          [10,1e4,0,1,0.1])\n",
    "fittedParameters, pcov = curve_fit(reg.f5,\n",
    "                                   t,\n",
    "                                   y5,\n",
    "                                  #  np.log(y5),\n",
    "                                   p0= p0,\n",
    "                                   bounds=bounds,\n",
    "                                   maxfev=12000)\n",
    "fittedParameters = list(fittedParameters)\n",
    "for i in range(len(fittedParameters)):\n",
    "  fittedParameters[i] = round(fittedParameters[i],7)\n",
    "print('Parameters', fittedParameters)\n"
   ]
  },
  {
   "cell_type": "code",
   "execution_count": 45,
   "metadata": {
    "colab": {
     "base_uri": "https://localhost:8080/"
    },
    "executionInfo": {
     "elapsed": 54,
     "status": "ok",
     "timestamp": 1703086385033,
     "user": {
      "displayName": "Ben Joshua Fliegener",
      "userId": "06969016385245233563"
     },
     "user_tz": -60
    },
    "id": "XCHsGsTDklOQ",
    "outputId": "3e0b0c78-b7fe-4302-8298-6594b0b9e549"
   },
   "outputs": [
    {
     "name": "stdout",
     "output_type": "stream",
     "text": [
      "[1.20773210e-04 2.08739684e-11 1.20015891e-04 2.34874346e-08\n",
      " 1.23969117e-02]\n",
      "Channel 5\n",
      "C_0: 0.00051+/-0.00012\n",
      "C_1: 9854.336942500000+/-0.000000000021\n",
      "K: -0.00171+/-0.00012\n",
      "k1: (5.00+/-0.23)e-07\n",
      "k2: -0.119+/-0.012\n"
     ]
    }
   ],
   "source": [
    "print(np.sqrt(np.diag(pcov)))\n",
    "# uncertainties from 0.1903525, 29.9999999, -0.5306807, 0.0003066, -0.1184747:\n",
    "u_par1c5 = np.array([1.20392800e-01,1.81689446e+01 ,3.20349060e-01 ,\n",
    "                  3.36808991e-04, 1.36257646e-02])\n",
    "# uncertainties from 0.0505325, 99.9999999, -0.1676983, 6.11e-05, -0.1193754\n",
    "u_par2c5 = np.array([2.31182571e-01, 4.59337170e+02 ,\n",
    "                   7.70068734e-01 ,3.26489662e-04,\n",
    " 1.31003402e-02])\n",
    "# 0.0050552, 999.9972208, -0.0168129, 5.4e-06, -0.1185274\n",
    "u_par3c5 = np.array([3.00788246e-01 ,5.95251453e+04 ,\n",
    "                   1.00076645e+00 ,3.23846654e-04,\n",
    " 1.29439456e-02])\n",
    "# 0.0005211, 9705.3277521, -0.0017325, 5e-07, -0.1184373\n",
    "u_par4c5 = np.array([1.22407968e-04,2.16039895e-11 ,1.21637439e-04 ,\n",
    "                   2.38426449e-08,\n",
    " 1.23636051e-02])\n",
    "# 0.0005101, 9854.3369425, -0.0017092, 5e-07, -0.1188041\n",
    "par_c5 = np.array([0.0005101, 9854.3369425, -0.0017092, 5e-07, -0.1188041])\n",
    "u_c5 = np.array([1.20736751e-04 ,2.08565031e-11,\n",
    "                     1.19979661e-04 ,2.34803363e-08,\n",
    " 1.23969113e-02])\n",
    "print('Channel 5')\n",
    "for i in range(len(var_name)):\n",
    "  print(f'{var_name[i]}: {ufloat(par_c5[i],u_c5[i])}')"
   ]
  },
  {
   "cell_type": "code",
   "execution_count": 46,
   "metadata": {
    "colab": {
     "base_uri": "https://localhost:8080/"
    },
    "executionInfo": {
     "elapsed": 45,
     "status": "ok",
     "timestamp": 1703086385033,
     "user": {
      "displayName": "Ben Joshua Fliegener",
      "userId": "06969016385245233563"
     },
     "user_tz": -60
    },
    "id": "wlvS3LY31mds",
    "outputId": "c05f8f50-f62a-4eaa-ee24-3dd726b883a2"
   },
   "outputs": [
    {
     "data": {
      "text/plain": [
       "0.0005"
      ]
     },
     "execution_count": 46,
     "metadata": {},
     "output_type": "execute_result"
    }
   ],
   "source": [
    "# g0\n",
    "g0_c5 = g(0.0005101)\n",
    "g0_c5"
   ]
  },
  {
   "cell_type": "code",
   "execution_count": 47,
   "metadata": {
    "colab": {
     "base_uri": "https://localhost:8080/",
     "height": 474
    },
    "executionInfo": {
     "elapsed": 1100,
     "status": "ok",
     "timestamp": 1703086386096,
     "user": {
      "displayName": "Ben Joshua Fliegener",
      "userId": "06969016385245233563"
     },
     "user_tz": -60
    },
    "id": "28rmpYCQFknh",
    "outputId": "4bd9f6cd-5740-43b6-c0a4-db35c46e9d80"
   },
   "outputs": [
    {
     "data": {
      "text/plain": [
       "Text(25.077931450737843, 0.5, 'Counts')"
      ]
     },
     "execution_count": 47,
     "metadata": {},
     "output_type": "execute_result"
    }
   ],
   "source": [
    "plt.plot(t,y5,\n",
    "         color='black',\n",
    "         linewidth=2,\n",
    "         label='data')\n",
    "plt.plot(t,reg.f5(t,0.0005101, 9854.3369425, -0.0017092, 5e-07, -0.1188041),\n",
    "         color='white',\n",
    "         linewidth=1,\n",
    "         label='reg')\n",
    "\n",
    "plt.yscale('log')\n",
    "plt.yticks([1,10,100])\n",
    "plt.xlabel('Time [ns]')\n",
    "plt.ylabel('Counts')\n",
    "# plt.legend()"
   ]
  },
  {
   "cell_type": "markdown",
   "metadata": {
    "id": "KijGZWpYsJ09"
   },
   "source": [
    "#### MSE"
   ]
  },
  {
   "cell_type": "code",
   "execution_count": 48,
   "metadata": {
    "colab": {
     "base_uri": "https://localhost:8080/",
     "height": 447
    },
    "executionInfo": {
     "elapsed": 478,
     "status": "ok",
     "timestamp": 1703086386560,
     "user": {
      "displayName": "Ben Joshua Fliegener",
      "userId": "06969016385245233563"
     },
     "user_tz": -60
    },
    "id": "TVJl-TUzsNH0",
    "outputId": "17ae5d27-55d7-4e6f-a385-72fc84ee3e86"
   },
   "outputs": [
    {
     "data": {
      "text/plain": [
       "[<matplotlib.lines.Line2D at 0x169d97bd100>]"
      ]
     },
     "execution_count": 48,
     "metadata": {},
     "output_type": "execute_result"
    }
   ],
   "source": [
    "y_h5 = reg.f5(t,0.0005101, 9854.3369425, -0.0017092, 5e-07, -0.1188041)\n",
    "mse_c5 = (y5-y_h5)**2\n",
    "plt.plot(t,mse_c5)"
   ]
  },
  {
   "cell_type": "markdown",
   "metadata": {
    "id": "byGstafvmUAp"
   },
   "source": [
    "### channel 7"
   ]
  },
  {
   "cell_type": "code",
   "execution_count": 49,
   "metadata": {
    "colab": {
     "base_uri": "https://localhost:8080/",
     "height": 430
    },
    "executionInfo": {
     "elapsed": 752,
     "status": "ok",
     "timestamp": 1703086387296,
     "user": {
      "displayName": "Ben Joshua Fliegener",
      "userId": "06969016385245233563"
     },
     "user_tz": -60
    },
    "id": "77zdorahmTpM",
    "outputId": "5e9f06b5-638e-4f9e-caeb-643c20442b4c"
   },
   "outputs": [],
   "source": [
    "y7 = df_new['7']\n",
    "t = np.array(df_new['Time'])\n",
    "plt.plot(t,y7,label='data')\n",
    "plt.legend()\n",
    "plt.yscale('log')"
   ]
  },
  {
   "cell_type": "code",
   "execution_count": 50,
   "metadata": {
    "colab": {
     "base_uri": "https://localhost:8080/"
    },
    "executionInfo": {
     "elapsed": 12,
     "status": "ok",
     "timestamp": 1703086387296,
     "user": {
      "displayName": "Ben Joshua Fliegener",
      "userId": "06969016385245233563"
     },
     "user_tz": -60
    },
    "id": "ubO4WX5Jmus6",
    "outputId": "8ff7d630-b411-48b1-a94f-a2a0c96c9d1d"
   },
   "outputs": [
    {
     "name": "stdout",
     "output_type": "stream",
     "text": [
      "Parameters [np.float64(0.862446), np.float64(64.8793538), np.float64(-2.5179021), np.float64(-0.0094888), np.float64(-0.0927043)]\n"
     ]
    }
   ],
   "source": [
    "# curve fit the test data\n",
    "# Initial guess for parameters (c0, c1, K, k1, k2)\n",
    "p0 = [0.0505325, 99.9999999, -0.1676983, 6.11e-05, -0.1193754]\n",
    "bounds = ([-1,1.1,-100,-1,-10],\n",
    "          [1,100,0,1,0.1])\n",
    "fittedParameters, pcov = curve_fit(reg.f7,\n",
    "                                   t,\n",
    "                                   y7,\n",
    "                                  #  np.log(y5),\n",
    "                                   p0= p0,\n",
    "                                   bounds=bounds,\n",
    "                                   maxfev=12000)\n",
    "fittedParameters = list(fittedParameters)\n",
    "for i in range(len(fittedParameters)):\n",
    "  fittedParameters[i] = round(fittedParameters[i],7)\n",
    "print('Parameters', fittedParameters)\n"
   ]
  },
  {
   "cell_type": "code",
   "execution_count": 51,
   "metadata": {
    "colab": {
     "base_uri": "https://localhost:8080/"
    },
    "executionInfo": {
     "elapsed": 473,
     "status": "ok",
     "timestamp": 1703086387765,
     "user": {
      "displayName": "Ben Joshua Fliegener",
      "userId": "06969016385245233563"
     },
     "user_tz": -60
    },
    "id": "8DKCuBM2n1b8",
    "outputId": "b706bc2c-9f83-4d54-fce2-979e40ad58fb"
   },
   "outputs": [
    {
     "name": "stdout",
     "output_type": "stream",
     "text": [
      "[8.44891924e-02 2.94296088e+00 8.60581475e-02 2.74721928e-04\n",
      " 3.59272297e-03]\n",
      "Channel 7\n",
      "C_0: 0.87+/-0.08\n",
      "C_1: 64.5+/-2.9\n",
      "K: -2.53+/-0.09\n",
      "k1: -0.00946+/-0.00027\n",
      "k2: -0.092+/-0.004\n"
     ]
    }
   ],
   "source": [
    "# 0.8745773, 64.4584305, -2.5265066, -0.0094633, -0.0924454\n",
    "par_c7 = np.array([0.8745773, 64.4584305, -2.5265066, -0.0094633, -0.0924454])\n",
    "print(np.sqrt(np.diag(pcov)))\n",
    "u_c7 = np.array([8.44891906e-02, 2.94296095e+00 ,\n",
    "                    8.60581450e-02 ,2.74721926e-04,\n",
    " 3.59272303e-03])\n",
    "print('Channel 7')\n",
    "for i in range(len(var_name)):\n",
    "  print(f'{var_name[i]}: {ufloat(par_c7[i],u_c7[i])}')"
   ]
  },
  {
   "cell_type": "code",
   "execution_count": 52,
   "metadata": {
    "colab": {
     "base_uri": "https://localhost:8080/"
    },
    "executionInfo": {
     "elapsed": 19,
     "status": "ok",
     "timestamp": 1703086387765,
     "user": {
      "displayName": "Ben Joshua Fliegener",
      "userId": "06969016385245233563"
     },
     "user_tz": -60
    },
    "id": "ZiaD3c-G1wmk",
    "outputId": "6cb78651-d119-47fc-8498-f536b185cd35"
   },
   "outputs": [
    {
     "data": {
      "text/plain": [
       "0.4631"
      ]
     },
     "execution_count": 52,
     "metadata": {},
     "output_type": "execute_result"
    }
   ],
   "source": [
    "# g0\n",
    "g0_c7 = g(0.8624459)\n",
    "g0_c7"
   ]
  },
  {
   "cell_type": "code",
   "execution_count": 53,
   "metadata": {
    "colab": {
     "base_uri": "https://localhost:8080/",
     "height": 447
    },
    "executionInfo": {
     "elapsed": 829,
     "status": "ok",
     "timestamp": 1703086388580,
     "user": {
      "displayName": "Ben Joshua Fliegener",
      "userId": "06969016385245233563"
     },
     "user_tz": -60
    },
    "id": "K4OD18rmnXsG",
    "outputId": "8239370d-11a8-4d2a-ce74-674e63810bb6"
   },
   "outputs": [
    {
     "data": {
      "text/plain": [
       "<matplotlib.legend.Legend at 0x169d9836450>"
      ]
     },
     "execution_count": 53,
     "metadata": {},
     "output_type": "execute_result"
    }
   ],
   "source": [
    "plt.plot(t,y7,\n",
    "         label='data')\n",
    "plt.plot(t,reg.f7(t,0.8624459, 64.8793552, -2.517902, -0.0094888, -0.0927043),\n",
    "         label='reg')\n",
    "plt.yscale('log')\n",
    "plt.legend()"
   ]
  },
  {
   "cell_type": "markdown",
   "metadata": {
    "id": "kkOOBV4ot8g2"
   },
   "source": [
    "#### MSE"
   ]
  },
  {
   "cell_type": "code",
   "execution_count": 54,
   "metadata": {
    "colab": {
     "base_uri": "https://localhost:8080/",
     "height": 447
    },
    "executionInfo": {
     "elapsed": 551,
     "status": "ok",
     "timestamp": 1703086389113,
     "user": {
      "displayName": "Ben Joshua Fliegener",
      "userId": "06969016385245233563"
     },
     "user_tz": -60
    },
    "id": "pUcZpnfMt91j",
    "outputId": "989f7700-445f-481d-d062-3571baf90ce3"
   },
   "outputs": [
    {
     "data": {
      "text/plain": [
       "[<matplotlib.lines.Line2D at 0x169d9812de0>]"
      ]
     },
     "execution_count": 54,
     "metadata": {},
     "output_type": "execute_result"
    }
   ],
   "source": [
    "y_h7 = reg.f7(t,0.8624459, 64.8793552, -2.517902, -0.0094888, -0.0927043)\n",
    "mse_c7 = (y7-y_h7)**2\n",
    "plt.plot(t,mse_c7)"
   ]
  },
  {
   "cell_type": "markdown",
   "metadata": {
    "id": "8EZUzcIMLdvx"
   },
   "source": [
    "## all plots with regression"
   ]
  },
  {
   "cell_type": "code",
   "execution_count": 99,
   "metadata": {
    "colab": {
     "base_uri": "https://localhost:8080/",
     "height": 472
    },
    "executionInfo": {
     "elapsed": 1450,
     "status": "ok",
     "timestamp": 1703086390513,
     "user": {
      "displayName": "Ben Joshua Fliegener",
      "userId": "06969016385245233563"
     },
     "user_tz": -60
    },
    "id": "v5KgM5kOLkxh",
    "outputId": "165ddc68-4856-405d-83f6-ea43fdc00d08"
   },
   "outputs": [
    {
     "data": {
      "image/png": "[encoded data removed]",
      "text/plain": [
       "<Figure size 640x480 with 1 Axes>"
      ]
     },
     "metadata": {},
     "output_type": "display_data"
    }
   ],
   "source": [
    "# print(df_AK.columns)\n",
    "df_new = df_AK[['0','3','5','7','Time']]\n",
    "lst = ['0','3','5','7']\n",
    "forms = ['o','o','+','x']\n",
    "t = df_new['Time']\n",
    "for i in range(len(lst)):\n",
    "  plt.plot(t,df_new[lst[i]],\n",
    "           label=f'Channel: {lst[i]}',\n",
    "           alpha=0.6,\n",
    "           linestyle='None',\n",
    "           marker=forms[i]\n",
    "           )\n",
    "\n",
    "# channel 0 reg\n",
    "plt.plot(t,reg.f0(t,0.3971789, 52.8345761, 261.1607891, -0.6760478, -0.6803267),\n",
    "         color='white',\n",
    "         linewidth=1,\n",
    "        #  label='C0'\n",
    "         )\n",
    "# channel 3 reg\n",
    "plt.plot(t,reg.f3(t,5.84e-05, -0.0794694, 161.0048806, -0.0001159, -0.3706534),\n",
    "         color='white',\n",
    "         linewidth=1,\n",
    "        #  label='reg'\n",
    "         )\n",
    "# channel 5 reg\n",
    "plt.plot(t,reg.f5(t,0.0005101, 9854.3369425, -0.0017092, 5e-07, -0.1188041),\n",
    "         color='white',\n",
    "         linewidth=1,\n",
    "        #  label='reg'\n",
    "         )\n",
    "# channel 7 reg\n",
    "plt.plot(t,reg.f7(t,0.8624459, 64.8793552, -2.517902, -0.0094888, -0.0927043),\n",
    "         color='white',\n",
    "         linewidth=1,\n",
    "        #  label='reg'\n",
    "         )\n",
    "plt.yscale('log')\n",
    "plt.xlabel('Time [ns]',\n",
    "           fontsize=15, fontweight='bold')\n",
    "plt.ylabel('Counts',\n",
    "           fontsize=15, fontweight='bold')\n",
    "plt.legend()\n",
    "plt.show()\n",
    "# plt.savefig('Autocorrelation.png',dpi=700,transparent=True)"
   ]
  },
  {
   "cell_type": "markdown",
   "metadata": {
    "id": "oe6Gp1dhuUMF"
   },
   "source": [
    "## MSE for all 4 channels"
   ]
  },
  {
   "cell_type": "code",
   "execution_count": 97,
   "metadata": {
    "executionInfo": {
     "elapsed": 30,
     "status": "ok",
     "timestamp": 1703086390514,
     "user": {
      "displayName": "Ben Joshua Fliegener",
      "userId": "06969016385245233563"
     },
     "user_tz": -60
    },
    "id": "JIOt1GG_uXKa"
   },
   "outputs": [
    {
     "data": {
      "image/png": "[encoded data removed]",
      "text/plain": [
       "<Figure size 640x480 with 1 Axes>"
      ]
     },
     "metadata": {},
     "output_type": "display_data"
    }
   ],
   "source": [
    "# plt.plot(t,mse_c0,\n",
    "#          alpha=0.95,\n",
    "#          color='blue',\n",
    "#          label='Channel 0')\n",
    "plt.plot(t,mse_c3,\n",
    "        #  alpha=0.8,\n",
    "         'ro',\n",
    "        #  color='k',\n",
    "        #  markers='+',\n",
    "         label='Channel 3')\n",
    "plt.plot(t,mse_c5,\n",
    "         alpha=0.75,\n",
    "        #  'ro',\n",
    "         color='k',\n",
    "        #  markers='o',\n",
    "         label='Channel 5')\n",
    "# plt.plot(t,mse_c7,\n",
    "#          alpha=0.4,\n",
    "#          color='olive',\n",
    "#          label='Channel 7')\n",
    "plt.legend()\n",
    "plt.xlabel('Time [ns]')\n",
    "plt.ylabel('MSE')\n",
    "plt.show()"
   ]
  },
  {
   "cell_type": "code",
   "execution_count": 98,
   "metadata": {
    "executionInfo": {
     "elapsed": 28,
     "status": "ok",
     "timestamp": 1703086390514,
     "user": {
      "displayName": "Ben Joshua Fliegener",
      "userId": "06969016385245233563"
     },
     "user_tz": -60
    },
    "id": "7ejTIG-YvXCe"
   },
   "outputs": [
    {
     "data": {
      "image/png": "[encoded data removed]",
      "text/plain": [
       "<Figure size 640x480 with 1 Axes>"
      ]
     },
     "metadata": {},
     "output_type": "display_data"
    }
   ],
   "source": [
    "plt.plot(t,mse_c0,\n",
    "         'k+',\n",
    "        #  alpha=0.95,\n",
    "         label='Channel 0')\n",
    "plt.plot(t,mse_c7,\n",
    "         'ro',\n",
    "         alpha=0.3,\n",
    "        #  color='olive',\n",
    "         label='Channel 7')\n",
    "plt.legend()\n",
    "plt.xlabel('Time [ns]')\n",
    "plt.ylabel('MSE')\n",
    "plt.show()"
   ]
  },
  {
   "cell_type": "code",
   "execution_count": 95,
   "metadata": {
    "colab": {
     "base_uri": "https://localhost:8080/",
     "height": 520
    },
    "executionInfo": {
     "elapsed": 7245,
     "status": "ok",
     "timestamp": 1703086397738,
     "user": {
      "displayName": "Ben Joshua Fliegener",
      "userId": "06969016385245233563"
     },
     "user_tz": -60
    },
    "id": "dE6PV-jlxTL8",
    "outputId": "ef532ff4-aada-4ea0-9e2a-ee883a80be8f"
   },
   "outputs": [
    {
     "data": {
      "image/png": "[encoded data removed]",
      "text/plain": [
       "<Figure size 1000x800 with 4 Axes>"
      ]
     },
     "metadata": {},
     "output_type": "display_data"
    }
   ],
   "source": [
    "# Generate some example data\n",
    "time = t\n",
    "mse_values = [mse_c0,mse_c3,mse_c5,mse_c7]\n",
    "titles = ['Channel 0','Channel 3','Channel 5','Channel 7']\n",
    "# Create subplots\n",
    "fig, axs = plt.subplots(2, 2, figsize=(10, 8))\n",
    "\n",
    "# Plot 1\n",
    "axs[0, 0].plot(time, mse_values[0], label=titles[0],color='k')\n",
    "axs[0, 0].set_xlabel('Time [ns]',\n",
    "           fontsize=15, fontweight='bold')\n",
    "axs[0, 0].set_ylabel('MSE',\n",
    "           fontsize=15, fontweight='bold')\n",
    "axs[0, 0].legend()\n",
    "\n",
    "# Plot 2\n",
    "axs[0, 1].plot(time, mse_values[1],  label=titles[1], color='k')\n",
    "axs[0, 1].set_xlabel('Time [ns]',\n",
    "           fontsize=15, fontweight='bold')\n",
    "axs[0, 1].set_ylabel('MSE',\n",
    "           fontsize=15, fontweight='bold')\n",
    "axs[0, 1].legend()\n",
    "\n",
    "# Plot 3\n",
    "axs[1, 0].plot(time, mse_values[2], label=titles[2], color='k')\n",
    "axs[1, 0].set_xlabel('Time [ns]',\n",
    "           fontsize=15, fontweight='bold')\n",
    "axs[1, 0].set_ylabel('MSE',\n",
    "           fontsize=15, fontweight='bold')\n",
    "axs[1, 0].legend()\n",
    "\n",
    "# Plot 4\n",
    "axs[1, 1].plot(time, mse_values[3], label=titles[3], color='k')\n",
    "axs[1, 1].set_xlabel('Time [ns]',\n",
    "           fontsize=15, fontweight='bold')\n",
    "axs[1, 1].set_ylabel('MSE',\n",
    "           fontsize=15, fontweight='bold')\n",
    "axs[1, 1].legend()\n",
    "\n",
    "# Adjust layout\n",
    "plt.tight_layout()\n",
    "# Show the plots\n",
    "plt.show()\n",
    "# plt.savefig('MSE-Channels.png',dpi=800,transparent=True)"
   ]
  },
  {
   "cell_type": "markdown",
   "metadata": {
    "id": "SAnBrx-z19D_"
   },
   "source": [
    "## g0"
   ]
  },
  {
   "cell_type": "code",
   "execution_count": 59,
   "metadata": {
    "colab": {
     "base_uri": "https://localhost:8080/"
    },
    "executionInfo": {
     "elapsed": 198,
     "status": "ok",
     "timestamp": 1703086397740,
     "user": {
      "displayName": "Ben Joshua Fliegener",
      "userId": "06969016385245233563"
     },
     "user_tz": -60
    },
    "id": "BlR43vUPQ53i",
    "outputId": "86ac5e90-0818-4093-f983-74588e65cd74"
   },
   "outputs": [
    {
     "data": {
      "text/plain": [
       "array([3.07580395e-01, 2.08292260e+01, 1.20736751e-04, 8.44891906e-02])"
      ]
     },
     "execution_count": 59,
     "metadata": {},
     "output_type": "execute_result"
    }
   ],
   "source": [
    "C0 = np.array([par_c0[0],par_c3[0],par_c5[0],par_c7[0]])\n",
    "u_c0 = np.array([u_c0[0],u_c3[0],u_c5[0],u_c7[0]])\n",
    "u_c0"
   ]
  },
  {
   "cell_type": "code",
   "execution_count": 60,
   "metadata": {
    "colab": {
     "base_uri": "https://localhost:8080/"
    },
    "executionInfo": {
     "elapsed": 191,
     "status": "ok",
     "timestamp": 1703086397740,
     "user": {
      "displayName": "Ben Joshua Fliegener",
      "userId": "06969016385245233563"
     },
     "user_tz": -60
    },
    "id": "2LUWlWa51-2w",
    "outputId": "26a14e2a-9fbb-4a9e-ec07-93e72f78fb69"
   },
   "outputs": [
    {
     "name": "stdout",
     "output_type": "stream",
     "text": [
      "0.2352\n",
      "0.0001\n",
      "0.0005\n",
      "0.4631\n"
     ]
    }
   ],
   "source": [
    "g = [g0_c0,\n",
    "     g0_c3,g0_c5,g0_c7]\n",
    "for i in range(4):\n",
    "  print(g[i])"
   ]
  },
  {
   "cell_type": "markdown",
   "metadata": {
    "id": "si7rdA4lSHfb"
   },
   "source": [
    "### Gauß Fehlerfortpflanzung"
   ]
  },
  {
   "cell_type": "code",
   "execution_count": 61,
   "metadata": {
    "executionInfo": {
     "elapsed": 186,
     "status": "ok",
     "timestamp": 1703086397740,
     "user": {
      "displayName": "Ben Joshua Fliegener",
      "userId": "06969016385245233563"
     },
     "user_tz": -60
    },
    "id": "JCyuG1YcSMMf"
   },
   "outputs": [],
   "source": [
    "def u_g(C0,u_c0):\n",
    "  return (1-C0/(1+C0))*u_c0/(1+C0)"
   ]
  },
  {
   "cell_type": "code",
   "execution_count": 62,
   "metadata": {
    "colab": {
     "base_uri": "https://localhost:8080/"
    },
    "executionInfo": {
     "elapsed": 187,
     "status": "ok",
     "timestamp": 1703086397741,
     "user": {
      "displayName": "Ben Joshua Fliegener",
      "userId": "06969016385245233563"
     },
     "user_tz": -60
    },
    "id": "uKX82bDMStmT",
    "outputId": "a116817d-8620-43f0-ca69-0755a27c3c0d"
   },
   "outputs": [
    {
     "data": {
      "text/plain": [
       "array([1.57563135e-01, 2.08267934e+01, 1.20613670e-04, 2.40433203e-02])"
      ]
     },
     "execution_count": 62,
     "metadata": {},
     "output_type": "execute_result"
    }
   ],
   "source": [
    "u_gg = u_g(C0,u_c0)\n",
    "u_gg"
   ]
  },
  {
   "cell_type": "code",
   "execution_count": 63,
   "metadata": {
    "executionInfo": {
     "elapsed": 181,
     "status": "ok",
     "timestamp": 1703086397741,
     "user": {
      "displayName": "Ben Joshua Fliegener",
      "userId": "06969016385245233563"
     },
     "user_tz": -60
    },
    "id": "-5uDoUVokRNB"
   },
   "outputs": [],
   "source": [
    "ugg_v2 = np.array([1.57563135e-01,\n",
    "                  #  2.08267934e+01,\n",
    "                   1.20613670e-04, 2.40433203e-02])"
   ]
  },
  {
   "cell_type": "code",
   "execution_count": 64,
   "metadata": {
    "executionInfo": {
     "elapsed": 253,
     "status": "ok",
     "timestamp": 1703086511605,
     "user": {
      "displayName": "Ben Joshua Fliegener",
      "userId": "06969016385245233563"
     },
     "user_tz": -60
    },
    "id": "hMYlw_30lKKg"
   },
   "outputs": [],
   "source": [
    "g_err = []\n",
    "for i in range(4):\n",
    "  x = ufloat(g[i],u_gg[i])\n",
    "  g_err.append(x)\n",
    "\n",
    "g_err = np.array([g_err])#*100"
   ]
  },
  {
   "cell_type": "code",
   "execution_count": 65,
   "metadata": {
    "colab": {
     "base_uri": "https://localhost:8080/"
    },
    "executionInfo": {
     "elapsed": 338,
     "status": "ok",
     "timestamp": 1703086514618,
     "user": {
      "displayName": "Ben Joshua Fliegener",
      "userId": "06969016385245233563"
     },
     "user_tz": -60
    },
    "id": "FwLp7h9Klct6",
    "outputId": "61827db8-2b9f-4d30-c523-c70a0d7b8e4d"
   },
   "outputs": [
    {
     "data": {
      "text/plain": [
       "array([[0.2352+/-0.15756313511558204, 0.0001+/-20.826793365287223,\n",
       "        0.0005+/-0.00012061366955040543, 0.4631+/-0.024043320312081767]],\n",
       "      dtype=object)"
      ]
     },
     "execution_count": 65,
     "metadata": {},
     "output_type": "execute_result"
    }
   ],
   "source": [
    "g_err"
   ]
  },
  {
   "cell_type": "markdown",
   "metadata": {
    "id": "QCO77QC_-VOW"
   },
   "source": [
    "## plot between mse max and g0"
   ]
  },
  {
   "cell_type": "code",
   "execution_count": 66,
   "metadata": {
    "colab": {
     "base_uri": "https://localhost:8080/"
    },
    "executionInfo": {
     "elapsed": 178,
     "status": "ok",
     "timestamp": 1703086397743,
     "user": {
      "displayName": "Ben Joshua Fliegener",
      "userId": "06969016385245233563"
     },
     "user_tz": -60
    },
    "id": "L8ySOOg2i_ZI",
    "outputId": "b6dad143-3b08-4c6d-b4ea-6db11b0f5ca3"
   },
   "outputs": [
    {
     "data": {
      "text/plain": [
       "[2, 3, 4, 5]"
      ]
     },
     "execution_count": 66,
     "metadata": {},
     "output_type": "execute_result"
    }
   ],
   "source": [
    "# help(plt)\n",
    "lst = [1,2,3,4,5]\n",
    "lst[1:]"
   ]
  },
  {
   "cell_type": "code",
   "execution_count": 67,
   "metadata": {
    "executionInfo": {
     "elapsed": 174,
     "status": "ok",
     "timestamp": 1703086397743,
     "user": {
      "displayName": "Ben Joshua Fliegener",
      "userId": "06969016385245233563"
     },
     "user_tz": -60
    },
    "id": "kOXkYLV7kzPe"
   },
   "outputs": [],
   "source": [
    "g2 = [g0_c0,\n",
    "    #  g0_c3,\n",
    "      g0_c5,g0_c7]"
   ]
  },
  {
   "cell_type": "markdown",
   "metadata": {},
   "source": [
    "folgende Tabelle überarbeiten"
   ]
  },
  {
   "cell_type": "code",
   "execution_count": 93,
   "metadata": {
    "colab": {
     "base_uri": "https://localhost:8080/",
     "height": 486
    },
    "executionInfo": {
     "elapsed": 175,
     "status": "ok",
     "timestamp": 1703086397744,
     "user": {
      "displayName": "Ben Joshua Fliegener",
      "userId": "06969016385245233563"
     },
     "user_tz": -60
    },
    "id": "y6jnjdTC-ZzQ",
    "outputId": "0ace6c4a-2ce6-4542-d466-a74d162f3357"
   },
   "outputs": [
    {
     "data": {
      "image/png": "[encoded data removed]",
      "text/plain": [
       "<Figure size 640x480 with 1 Axes>"
      ]
     },
     "metadata": {},
     "output_type": "display_data"
    }
   ],
   "source": [
    "x_g = g\n",
    "x2 = g2\n",
    "y_mse_max = np.array([\n",
    "    max(mse_values[0]),\n",
    "    # max(mse_values[1]),\n",
    "    max(mse_values[2]),\n",
    "         max(mse_values[3])])\n",
    "y_mse_mean = np.array([\n",
    "    np.mean(mse_values[0]),\n",
    "    # np.mean(mse_values[1]),\n",
    "    np.mean(mse_values[2]),\n",
    "         np.mean(mse_values[3])])\n",
    "# plt.plot(x_g,y_mse_max,'ko',label='Max')\n",
    "plt.errorbar(x2,y_mse_mean,fmt='o',xerr=ugg_v2,label='mean')\n",
    "# plt.xticks([0,.25,.5])\n",
    "# plt.yticks([0,2750,5500])\n",
    "plt.xlabel('$g^{(2)}(0)$',\n",
    "           fontsize=15, fontweight='bold')\n",
    "plt.ylabel('mean MSE',\n",
    "           fontsize=15, fontweight='bold')\n",
    "plt.show()"
   ]
  },
  {
   "cell_type": "code",
   "execution_count": 69,
   "metadata": {
    "executionInfo": {
     "elapsed": 168,
     "status": "ok",
     "timestamp": 1703086397746,
     "user": {
      "displayName": "Ben Joshua Fliegener",
      "userId": "06969016385245233563"
     },
     "user_tz": -60
    },
    "id": "c2BjWSK2_udh"
   },
   "outputs": [],
   "source": [
    "# help(sm.OLS)"
   ]
  },
  {
   "cell_type": "code",
   "execution_count": 70,
   "metadata": {
    "executionInfo": {
     "elapsed": 168,
     "status": "ok",
     "timestamp": 1703086397747,
     "user": {
      "displayName": "Ben Joshua Fliegener",
      "userId": "06969016385245233563"
     },
     "user_tz": -60
    },
    "id": "QCNb7bgx_YeL"
   },
   "outputs": [],
   "source": [
    "# x_const = sm.add_constant(x_g)\n",
    "# m = sm.OLS(y_mse,x_const)\n",
    "# r = m.fit()\n",
    "# print(r.summary())"
   ]
  },
  {
   "cell_type": "code",
   "execution_count": null,
   "metadata": {
    "executionInfo": {
     "elapsed": 168,
     "status": "ok",
     "timestamp": 1703086397747,
     "user": {
      "displayName": "Ben Joshua Fliegener",
      "userId": "06969016385245233563"
     },
     "user_tz": -60
    },
    "id": "84Tx65VUNumI"
   },
   "outputs": [],
   "source": []
  },
  {
   "cell_type": "markdown",
   "metadata": {
    "id": "pMF4aXoksqAR"
   },
   "source": [
    "# Data from the pictures"
   ]
  },
  {
   "cell_type": "code",
   "execution_count": 71,
   "metadata": {
    "executionInfo": {
     "elapsed": 167,
     "status": "ok",
     "timestamp": 1703086397747,
     "user": {
      "displayName": "Ben Joshua Fliegener",
      "userId": "06969016385245233563"
     },
     "user_tz": -60
    },
    "id": "liMiNRK2sst1"
   },
   "outputs": [],
   "source": [
    "# Crystall\n",
    "nf_pic_info = pd.DataFrame({\n",
    "    'pic' : [1,2,3],\n",
    "'Counts [kcts/s]':[79.17,40.32,22.27],\n",
    "'wrong_range' : [0,0,0],\n",
    "'wrong_detec' : [340,44,24],\n",
    "'wrong_basis' : [104763,30027,40091],\n",
    "'wrong_key' : [10398,3042,4340],\n",
    "'valid_key' : [94499,26887,35545],\n",
    "'valid_range' : [1,1,1],\n",
    "'valid_detec' : [.99838,0.99927,.99970],\n",
    "'valid_base' : [0.50032,0.49918,0.49871],\n",
    "'wrong_key' : [.09913,0.10164,0.10881],\n",
    "'valid_key' : [.90087,0.89836, 0.89119]\n",
    "})\n",
    "nf_pic_info['std counts'] = nf_pic_info['Counts [kcts/s]']"
   ]
  },
  {
   "cell_type": "code",
   "execution_count": 72,
   "metadata": {
    "executionInfo": {
     "elapsed": 168,
     "status": "ok",
     "timestamp": 1703086397748,
     "user": {
      "displayName": "Ben Joshua Fliegener",
      "userId": "06969016385245233563"
     },
     "user_tz": -60
    },
    "id": "ngw-G0r2xonh"
   },
   "outputs": [],
   "source": [
    "# laserdauer\n",
    "ld_pic_info = pd.DataFrame({\n",
    "    'pic':[1,2,3,4,5],\n",
    "    'Counts [kcts/s]':[911.40,285.92,80.17,27.87,9.63],\n",
    "    'wrong_range' : [0,0,0,0,0],\n",
    "    'wrong_detec' : [19594,1830,157,29,17],\n",
    "    'wrong_basis' : [792483,244087,64925,34927,29748],\n",
    "    'wrong_key' : [78718,24723,6962,4281,4854],\n",
    "    'valid_key' : [719205,219360,57956,30763,25381],\n",
    "    'valid_range' : [1,1,1,1,1],\n",
    "    'valid_detec' : [0.98783,0.99627,0.99879,0.99959,0.99972],\n",
    "    'valid_base' : [0.50171,.5,0.49997,0.50084,0.50406],\n",
    "    'wrong_key' : [0.09865,0.10129,0.10724,0.12216,0.16054],\n",
    "    'valid_key' : [0.90135,0.89871,0.89276,0.87784,0.83946]\n",
    "})\n",
    "# Fehlerabschätzung\n",
    "ld_pic_info['std counts'] = 0.1*ld_pic_info['Counts [kcts/s]']"
   ]
  },
  {
   "cell_type": "code",
   "execution_count": 73,
   "metadata": {
    "colab": {
     "base_uri": "https://localhost:8080/",
     "height": 244
    },
    "executionInfo": {
     "elapsed": 167,
     "status": "ok",
     "timestamp": 1703086397748,
     "user": {
      "displayName": "Ben Joshua Fliegener",
      "userId": "06969016385245233563"
     },
     "user_tz": -60
    },
    "id": "rFhpDjWF1HiE",
    "outputId": "67af2fec-adab-458d-fd17-a81bc9085701"
   },
   "outputs": [
    {
     "data": {
      "text/html": [
       "<div>\n",
       "<style scoped>\n",
       "    .dataframe tbody tr th:only-of-type {\n",
       "        vertical-align: middle;\n",
       "    }\n",
       "\n",
       "    .dataframe tbody tr th {\n",
       "        vertical-align: top;\n",
       "    }\n",
       "\n",
       "    .dataframe thead th {\n",
       "        text-align: right;\n",
       "    }\n",
       "</style>\n",
       "<table border=\"1\" class=\"dataframe\">\n",
       "  <thead>\n",
       "    <tr style=\"text-align: right;\">\n",
       "      <th></th>\n",
       "      <th>pic</th>\n",
       "      <th>Counts [kcts/s]</th>\n",
       "      <th>wrong_range</th>\n",
       "      <th>wrong_detec</th>\n",
       "      <th>wrong_basis</th>\n",
       "      <th>wrong_key</th>\n",
       "      <th>valid_key</th>\n",
       "      <th>valid_range</th>\n",
       "      <th>valid_detec</th>\n",
       "      <th>valid_base</th>\n",
       "      <th>std count</th>\n",
       "    </tr>\n",
       "  </thead>\n",
       "  <tbody>\n",
       "    <tr>\n",
       "      <th>0</th>\n",
       "      <td>1</td>\n",
       "      <td>517.59</td>\n",
       "      <td>0</td>\n",
       "      <td>47426</td>\n",
       "      <td>222628</td>\n",
       "      <td>0.07888</td>\n",
       "      <td>0.92112</td>\n",
       "      <td>1</td>\n",
       "      <td>0.90701</td>\n",
       "      <td>0.51872</td>\n",
       "      <td>51.759</td>\n",
       "    </tr>\n",
       "    <tr>\n",
       "      <th>1</th>\n",
       "      <td>2</td>\n",
       "      <td>178.21</td>\n",
       "      <td>0</td>\n",
       "      <td>4198</td>\n",
       "      <td>71847</td>\n",
       "      <td>0.09099</td>\n",
       "      <td>0.90901</td>\n",
       "      <td>1</td>\n",
       "      <td>0.97201</td>\n",
       "      <td>0.50723</td>\n",
       "      <td>17.821</td>\n",
       "    </tr>\n",
       "    <tr>\n",
       "      <th>2</th>\n",
       "      <td>3</td>\n",
       "      <td>52.08</td>\n",
       "      <td>0</td>\n",
       "      <td>5765</td>\n",
       "      <td>366474</td>\n",
       "      <td>0.09714</td>\n",
       "      <td>0.90286</td>\n",
       "      <td>1</td>\n",
       "      <td>0.99221</td>\n",
       "      <td>0.50088</td>\n",
       "      <td>5.208</td>\n",
       "    </tr>\n",
       "    <tr>\n",
       "      <th>3</th>\n",
       "      <td>4</td>\n",
       "      <td>15.71</td>\n",
       "      <td>0</td>\n",
       "      <td>307</td>\n",
       "      <td>75048</td>\n",
       "      <td>0.10527</td>\n",
       "      <td>0.89473</td>\n",
       "      <td>1</td>\n",
       "      <td>0.99795</td>\n",
       "      <td>0.49865</td>\n",
       "      <td>1.571</td>\n",
       "    </tr>\n",
       "    <tr>\n",
       "      <th>4</th>\n",
       "      <td>5</td>\n",
       "      <td>7.09</td>\n",
       "      <td>0</td>\n",
       "      <td>81</td>\n",
       "      <td>40184</td>\n",
       "      <td>0.10950</td>\n",
       "      <td>0.89050</td>\n",
       "      <td>1</td>\n",
       "      <td>0.99899</td>\n",
       "      <td>0.49719</td>\n",
       "      <td>0.709</td>\n",
       "    </tr>\n",
       "  </tbody>\n",
       "</table>\n",
       "</div>"
      ],
      "text/plain": [
       "   pic  Counts [kcts/s]  wrong_range  wrong_detec  wrong_basis  wrong_key  \\\n",
       "0    1           517.59            0        47426       222628    0.07888   \n",
       "1    2           178.21            0         4198        71847    0.09099   \n",
       "2    3            52.08            0         5765       366474    0.09714   \n",
       "3    4            15.71            0          307        75048    0.10527   \n",
       "4    5             7.09            0           81        40184    0.10950   \n",
       "\n",
       "   valid_key  valid_range  valid_detec  valid_base  std count  \n",
       "0    0.92112            1      0.90701     0.51872     51.759  \n",
       "1    0.90901            1      0.97201     0.50723     17.821  \n",
       "2    0.90286            1      0.99221     0.50088      5.208  \n",
       "3    0.89473            1      0.99795     0.49865      1.571  \n",
       "4    0.89050            1      0.99899     0.49719      0.709  "
      ]
     },
     "execution_count": 73,
     "metadata": {},
     "output_type": "execute_result"
    }
   ],
   "source": [
    "# Pulse\n",
    "lp_pic_info = pd.DataFrame({\n",
    "    'pic': [1,2,3,4,5],\n",
    "    'Counts [kcts/s]': [517.59,178.21,52.08,15.71,7.09],\n",
    "    'wrong_range': [0,0,0,0,0],\n",
    "    'wrong_detec': [47426,4198,5765,307,81],\n",
    "    'wrong_basis': [222628,71847,366474,75048,40184],\n",
    "    'wrong_key': [18928,6729,35723,7858,4351],\n",
    "    'valid_key': [221018,67226,332038,66787,35384],\n",
    "    'valid_range': [1,1,1,1,1],\n",
    "    'valid_detec': [0.90701,0.97201,0.99221,0.99795,0.99899],\n",
    "    'valid_base': [0.51872,0.50723,0.50088,0.49865,0.49719],\n",
    "    'wrong_key': [0.07888,0.09099,0.09714,0.10527,0.10950],\n",
    "    'valid_key': [0.92112,0.90901,0.90286,0.89473,0.89050]\n",
    "})\n",
    "# error counts\n",
    "lp_pic_info['std count'] = lp_pic_info['Counts [kcts/s]'] *0.1\n",
    "lp_pic_info"
   ]
  },
  {
   "cell_type": "markdown",
   "metadata": {
    "id": "rz-DkNRRXz00"
   },
   "source": [
    "# QBER"
   ]
  },
  {
   "cell_type": "code",
   "execution_count": 74,
   "metadata": {
    "executionInfo": {
     "elapsed": 166,
     "status": "ok",
     "timestamp": 1703086397748,
     "user": {
      "displayName": "Ben Joshua Fliegener",
      "userId": "06969016385245233563"
     },
     "user_tz": -60
    },
    "id": "eC4NU2J9X1TE"
   },
   "outputs": [],
   "source": [
    "x_q = [nf_pic_info['Counts [kcts/s]'],\n",
    "       ld_pic_info['Counts [kcts/s]'],\n",
    "       lp_pic_info['Counts [kcts/s]']]\n",
    "y_q = [nf_pic_info['wrong_key'],\n",
    "       ld_pic_info['wrong_key'],\n",
    "       lp_pic_info['wrong_key']]\n"
   ]
  },
  {
   "cell_type": "code",
   "execution_count": 75,
   "metadata": {
    "executionInfo": {
     "elapsed": 165,
     "status": "ok",
     "timestamp": 1703086397748,
     "user": {
      "displayName": "Ben Joshua Fliegener",
      "userId": "06969016385245233563"
     },
     "user_tz": -60
    },
    "id": "mNaMrCFvbDcx"
   },
   "outputs": [],
   "source": [
    "# help(plt.plot)"
   ]
  },
  {
   "cell_type": "code",
   "execution_count": 89,
   "metadata": {
    "colab": {
     "base_uri": "https://localhost:8080/",
     "height": 461
    },
    "executionInfo": {
     "elapsed": 656,
     "status": "ok",
     "timestamp": 1703086398239,
     "user": {
      "displayName": "Ben Joshua Fliegener",
      "userId": "06969016385245233563"
     },
     "user_tz": -60
    },
    "id": "6Si_arTLY0ob",
    "outputId": "79e41fa8-db17-494a-dd6c-08ebff1c3cb5"
   },
   "outputs": [
    {
     "data": {
      "image/png": "[encoded data removed]",
      "text/plain": [
       "<Figure size 640x480 with 1 Axes>"
      ]
     },
     "metadata": {},
     "output_type": "display_data"
    }
   ],
   "source": [
    "markers = ['v','x','o']\n",
    "labels = ['NV','LD','LP']\n",
    "for i in range(3):\n",
    "  plt.plot(x_q[i],y_q[i]*100,\n",
    "           marker=markers[i],\n",
    "           label=labels[i]\n",
    "           )\n",
    "\n",
    "p12 = np.ones(1000)*12\n",
    "x_p12 = np.linspace(-1,900,1000)\n",
    "plt.plot(x_p12,p12,'--')\n",
    "plt.xlabel('Counts [kcts/s]',\n",
    "           fontsize=15, fontweight='bold')\n",
    "plt.ylabel('Quanten Bit Error Rate [%]',\n",
    "           fontsize=15, fontweight='bold')\n",
    "plt.xticks([0,450,900])\n",
    "plt.yticks([7,9.5,12,14.5,17])\n",
    "plt.legend()\n",
    "# plt.savefig('QBER.png',dpi=600,transparent=True)\n",
    "plt.show()"
   ]
  },
  {
   "cell_type": "markdown",
   "metadata": {
    "id": "g5bn185i4DNV"
   },
   "source": [
    "# Regression: Effizienz"
   ]
  },
  {
   "cell_type": "code",
   "execution_count": 77,
   "metadata": {
    "executionInfo": {
     "elapsed": 36,
     "status": "ok",
     "timestamp": 1703086398240,
     "user": {
      "displayName": "Ben Joshua Fliegener",
      "userId": "06969016385245233563"
     },
     "user_tz": -60
    },
    "id": "fHeMpjgh4Roy"
   },
   "outputs": [],
   "source": [
    "y = [\n",
    "    # NF\n",
    "    nf_pic_info['Counts [kcts/s]'],\n",
    "    ld_pic_info['Counts [kcts/s]'],\n",
    "    lp_pic_info['Counts [kcts/s]']\n",
    "]\n",
    "y_err = [\n",
    "    nf_pic_info['std counts'],\n",
    "    ld_pic_info['std counts'],\n",
    "    lp_pic_info['std count']\n",
    "]\n",
    "x = [\n",
    "    nf_df['Mean'],\n",
    "    ld_df['Mean'],\n",
    "    lp_df['Mean']\n",
    "]\n",
    "x_err = [\n",
    "    nf_df['Std'],\n",
    "    ld_df['Std'],\n",
    "    lp_df['Std']\n",
    "]\n",
    "labels = ['NF','LD','LP']"
   ]
  },
  {
   "cell_type": "code",
   "execution_count": 86,
   "metadata": {
    "colab": {
     "base_uri": "https://localhost:8080/",
     "height": 447
    },
    "executionInfo": {
     "elapsed": 751,
     "status": "ok",
     "timestamp": 1703086398955,
     "user": {
      "displayName": "Ben Joshua Fliegener",
      "userId": "06969016385245233563"
     },
     "user_tz": -60
    },
    "id": "Gj5vNUJG5jKC",
    "outputId": "4552f6f4-6fac-40aa-c99e-b67c1e9e6e81"
   },
   "outputs": [
    {
     "data": {
      "image/png": "[encoded data removed]",
      "text/plain": [
       "<Figure size 640x480 with 1 Axes>"
      ]
     },
     "metadata": {},
     "output_type": "display_data"
    }
   ],
   "source": [
    "markers = ['o','x','v']\n",
    "for i in range(3):\n",
    "  plt.errorbar(x[i],y[i],\n",
    "               xerr=x_err[i],\n",
    "               yerr=y_err[i],\n",
    "               marker=markers[i],\n",
    "               linestyle='None',\n",
    "               capsize=3,\n",
    "               label=labels[i]\n",
    "               )\n",
    "plt.legend()\n",
    "plt.show()"
   ]
  },
  {
   "cell_type": "code",
   "execution_count": 79,
   "metadata": {
    "colab": {
     "base_uri": "https://localhost:8080/"
    },
    "executionInfo": {
     "elapsed": 32,
     "status": "ok",
     "timestamp": 1703086398956,
     "user": {
      "displayName": "Ben Joshua Fliegener",
      "userId": "06969016385245233563"
     },
     "user_tz": -60
    },
    "id": "-6Xic7G88Xq9",
    "outputId": "f42f8109-b18d-40d7-9352-e2e95680f270"
   },
   "outputs": [
    {
     "name": "stderr",
     "output_type": "stream",
     "text": [
      "c:\\Users\\benjf\\anaconda3\\envs\\projects\\Lib\\site-packages\\statsmodels\\stats\\stattools.py:74: ValueWarning: omni_normtest is not valid with less than 8 observations; 3 samples were given.\n",
      "  warn(\"omni_normtest is not valid with less than 8 observations; %i \"\n",
      "c:\\Users\\benjf\\anaconda3\\envs\\projects\\Lib\\site-packages\\statsmodels\\stats\\stattools.py:74: ValueWarning: omni_normtest is not valid with less than 8 observations; 5 samples were given.\n",
      "  warn(\"omni_normtest is not valid with less than 8 observations; %i \"\n",
      "c:\\Users\\benjf\\anaconda3\\envs\\projects\\Lib\\site-packages\\statsmodels\\stats\\stattools.py:74: ValueWarning: omni_normtest is not valid with less than 8 observations; 5 samples were given.\n",
      "  warn(\"omni_normtest is not valid with less than 8 observations; %i \"\n"
     ]
    }
   ],
   "source": [
    "X = []\n",
    "m = []\n",
    "r = []\n",
    "summary = []\n",
    "for i in range(len(x)):\n",
    "  a = sm.add_constant(x[i])\n",
    "  X.append(a)\n",
    "  b = sm.WLS(y[i],a,weights=y_err[i])\n",
    "  m.append(b)\n",
    "  c = b.fit()\n",
    "  r.append(c)\n",
    "  summary.append(c.summary())"
   ]
  },
  {
   "cell_type": "code",
   "execution_count": 85,
   "metadata": {
    "colab": {
     "base_uri": "https://localhost:8080/"
    },
    "executionInfo": {
     "elapsed": 23,
     "status": "ok",
     "timestamp": 1703086398956,
     "user": {
      "displayName": "Ben Joshua Fliegener",
      "userId": "06969016385245233563"
     },
     "user_tz": -60
    },
    "id": "kihS5oUv-WcH",
    "outputId": "d20521b4-aa6f-4bfb-a4e4-b9b4f12001d9"
   },
   "outputs": [
    {
     "name": "stdout",
     "output_type": "stream",
     "text": [
      "The paramters for NF are: a=33.10+/-0.20 and b=-1.8+/-0.4.\n",
      "The paramters for LD are: a=31.25+/-0.04 and b=-0.9+/-0.9.\n",
      "The paramters for LP are: a=3.018+/-0.033 and b=-11+/-5. \n",
      "\n"
     ]
    },
    {
     "name": "stderr",
     "output_type": "stream",
     "text": [
      "C:\\Users\\benjf\\AppData\\Local\\Temp\\ipykernel_12688\\2573163579.py:1: FutureWarning: Series.__getitem__ treating keys as positions is deprecated. In a future version, integer keys will always be treated as labels (consistent with DataFrame behavior). To access a value by position, use `ser.iloc[pos]`\n",
      "  a_nf = r[0].params[1]\n",
      "C:\\Users\\benjf\\AppData\\Local\\Temp\\ipykernel_12688\\2573163579.py:2: FutureWarning: Series.__getitem__ treating keys as positions is deprecated. In a future version, integer keys will always be treated as labels (consistent with DataFrame behavior). To access a value by position, use `ser.iloc[pos]`\n",
      "  u_a_nf = r[0].bse[1]\n",
      "C:\\Users\\benjf\\AppData\\Local\\Temp\\ipykernel_12688\\2573163579.py:3: FutureWarning: Series.__getitem__ treating keys as positions is deprecated. In a future version, integer keys will always be treated as labels (consistent with DataFrame behavior). To access a value by position, use `ser.iloc[pos]`\n",
      "  b_nf = r[0].params[0]\n",
      "C:\\Users\\benjf\\AppData\\Local\\Temp\\ipykernel_12688\\2573163579.py:4: FutureWarning: Series.__getitem__ treating keys as positions is deprecated. In a future version, integer keys will always be treated as labels (consistent with DataFrame behavior). To access a value by position, use `ser.iloc[pos]`\n",
      "  u_b_nf = r[0].bse[0]\n",
      "C:\\Users\\benjf\\AppData\\Local\\Temp\\ipykernel_12688\\2573163579.py:7: FutureWarning: Series.__getitem__ treating keys as positions is deprecated. In a future version, integer keys will always be treated as labels (consistent with DataFrame behavior). To access a value by position, use `ser.iloc[pos]`\n",
      "  a_ld = r[1].params[1]\n",
      "C:\\Users\\benjf\\AppData\\Local\\Temp\\ipykernel_12688\\2573163579.py:8: FutureWarning: Series.__getitem__ treating keys as positions is deprecated. In a future version, integer keys will always be treated as labels (consistent with DataFrame behavior). To access a value by position, use `ser.iloc[pos]`\n",
      "  u_a_ld = r[1].bse[1]\n",
      "C:\\Users\\benjf\\AppData\\Local\\Temp\\ipykernel_12688\\2573163579.py:9: FutureWarning: Series.__getitem__ treating keys as positions is deprecated. In a future version, integer keys will always be treated as labels (consistent with DataFrame behavior). To access a value by position, use `ser.iloc[pos]`\n",
      "  b_ld = r[1].params[0]\n",
      "C:\\Users\\benjf\\AppData\\Local\\Temp\\ipykernel_12688\\2573163579.py:10: FutureWarning: Series.__getitem__ treating keys as positions is deprecated. In a future version, integer keys will always be treated as labels (consistent with DataFrame behavior). To access a value by position, use `ser.iloc[pos]`\n",
      "  u_b_ld = r[1].bse[0]\n",
      "C:\\Users\\benjf\\AppData\\Local\\Temp\\ipykernel_12688\\2573163579.py:13: FutureWarning: Series.__getitem__ treating keys as positions is deprecated. In a future version, integer keys will always be treated as labels (consistent with DataFrame behavior). To access a value by position, use `ser.iloc[pos]`\n",
      "  a_lp = r[2].params[1]\n",
      "C:\\Users\\benjf\\AppData\\Local\\Temp\\ipykernel_12688\\2573163579.py:14: FutureWarning: Series.__getitem__ treating keys as positions is deprecated. In a future version, integer keys will always be treated as labels (consistent with DataFrame behavior). To access a value by position, use `ser.iloc[pos]`\n",
      "  u_a_lp = r[2].bse[1]\n",
      "C:\\Users\\benjf\\AppData\\Local\\Temp\\ipykernel_12688\\2573163579.py:15: FutureWarning: Series.__getitem__ treating keys as positions is deprecated. In a future version, integer keys will always be treated as labels (consistent with DataFrame behavior). To access a value by position, use `ser.iloc[pos]`\n",
      "  b_lp = r[2].params[0]\n",
      "C:\\Users\\benjf\\AppData\\Local\\Temp\\ipykernel_12688\\2573163579.py:16: FutureWarning: Series.__getitem__ treating keys as positions is deprecated. In a future version, integer keys will always be treated as labels (consistent with DataFrame behavior). To access a value by position, use `ser.iloc[pos]`\n",
      "  u_b_lp = r[2].bse[0]\n"
     ]
    }
   ],
   "source": [
    "a_nf = r[0].params[1]\n",
    "u_a_nf = r[0].bse[1]\n",
    "b_nf = r[0].params[0]\n",
    "u_b_nf = r[0].bse[0]\n",
    "print(f'The paramters for NF are: a={ufloat(a_nf,u_a_nf)} and b={ufloat(b_nf,u_b_nf)}.')\n",
    "\n",
    "a_ld = r[1].params[1]\n",
    "u_a_ld = r[1].bse[1]\n",
    "b_ld = r[1].params[0]\n",
    "u_b_ld = r[1].bse[0]\n",
    "print(f'The paramters for LD are: a={ufloat(a_ld,u_a_ld)} and b={ufloat(b_ld,u_b_ld)}.')\n",
    "\n",
    "a_lp = r[2].params[1]\n",
    "u_a_lp = r[2].bse[1]\n",
    "b_lp = r[2].params[0]\n",
    "u_b_lp = r[2].bse[0]\n",
    "print(f'The paramters for LP are: a={ufloat(a_lp,u_a_lp)} and b={ufloat(b_lp,u_b_lp)}. \\n')\n"
   ]
  },
  {
   "cell_type": "code",
   "execution_count": 81,
   "metadata": {
    "executionInfo": {
     "elapsed": 18,
     "status": "ok",
     "timestamp": 1703086398957,
     "user": {
      "displayName": "Ben Joshua Fliegener",
      "userId": "06969016385245233563"
     },
     "user_tz": -60
    },
    "id": "1HUqk2M90BEV"
   },
   "outputs": [],
   "source": [
    "# help(plt.plot)"
   ]
  },
  {
   "cell_type": "code",
   "execution_count": 84,
   "metadata": {
    "colab": {
     "base_uri": "https://localhost:8080/",
     "height": 461
    },
    "executionInfo": {
     "elapsed": 1652,
     "status": "ok",
     "timestamp": 1703086400592,
     "user": {
      "displayName": "Ben Joshua Fliegener",
      "userId": "06969016385245233563"
     },
     "user_tz": -60
    },
    "id": "LGpvtdW8Aio8",
    "outputId": "63bf4047-e17b-4adc-dfb9-2e17ba042ad4"
   },
   "outputs": [
    {
     "data": {
      "image/png": "[encoded data removed]",
      "text/plain": [
       "<Figure size 640x480 with 1 Axes>"
      ]
     },
     "metadata": {},
     "output_type": "display_data"
    }
   ],
   "source": [
    "markers = ['o','x','v']\n",
    "zero_line = np.linspace(-6,200,1000)\n",
    "x_reg = [np.linspace(-5,50,1000),np.linspace(-5,50,1000),np.linspace(-5,180,1000)]\n",
    "params = [\n",
    "    np.array([a_nf,b_nf]),\n",
    "    np.array([a_ld,b_ld]),\n",
    "    np.array([a_lp,b_lp])]\n",
    "line_styles = ['solid','dotted','dashed']\n",
    "for i in range(3):\n",
    "  plt.errorbar(x[i],y[i],\n",
    "               xerr=x_err[i],\n",
    "               yerr=y_err[i],\n",
    "               marker=markers[i],\n",
    "               linestyle='None',\n",
    "               capsize=3,\n",
    "               label=labels[i]\n",
    "               )\n",
    "  plt.plot(x_reg[i],params[i][0]*x_reg[i]+params[i][1],\n",
    "           linestyle=line_styles[i],\n",
    "          #  label=f'Reg. of {labels[i]}.'\n",
    "           )\n",
    "# plt.plot(zero_line,0*zero_line)\n",
    "plt.axhline(0, color='black',linewidth=0.5)\n",
    "plt.yticks([-250,0,250,750,1250,1750])\n",
    "plt.ylabel('Counts [kcts/s]',\n",
    "           fontsize=15, fontweight='bold')\n",
    "plt.xlabel('Detection Rate [Counts/s]',\n",
    "           fontsize=15, fontweight='bold')\n",
    "plt.legend()\n",
    "plt.yscale('log')\n",
    "# plt.savefig('Übertragungseffizient.png',dpi=700,transparent=True)\n",
    "plt.show()"
   ]
  },
  {
   "cell_type": "markdown",
   "metadata": {
    "id": "upFAjIeGeInP"
   },
   "source": [
    "# Effizienz"
   ]
  },
  {
   "cell_type": "code",
   "execution_count": null,
   "metadata": {
    "executionInfo": {
     "elapsed": 17,
     "status": "ok",
     "timestamp": 1703086400593,
     "user": {
      "displayName": "Ben Joshua Fliegener",
      "userId": "06969016385245233563"
     },
     "user_tz": -60
    },
    "id": "Mglsx0HVeLbu"
   },
   "outputs": [],
   "source": []
  }
 ],
 "metadata": {
  "colab": {
   "authorship_tag": "ABX9TyOF9qMsRjQbsRciJYRz7SoX",
   "collapsed_sections": [
    "HGu_hDEIkb86"
   ],
   "mount_file_id": "1d6kond14ebEy6gux6-f0_YqDiBcXt40D",
   "provenance": []
  },
  "kernelspec": {
   "display_name": "projects",
   "language": "python",
   "name": "python3"
  },
  "language_info": {
   "codemirror_mode": {
    "name": "ipython",
    "version": 3
   },
   "file_extension": ".py",
   "mimetype": "text/x-python",
   "name": "python",
   "nbconvert_exporter": "python",
   "pygments_lexer": "ipython3",
   "version": "3.12.8"
  }
 },
 "nbformat": 4,
 "nbformat_minor": 0
}
