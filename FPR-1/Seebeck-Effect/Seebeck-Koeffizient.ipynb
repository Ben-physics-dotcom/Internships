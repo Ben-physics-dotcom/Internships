{
 "cells": [
  {
   "cell_type": "markdown",
   "metadata": {
    "id": "27Qt0C7NuneF"
   },
   "source": [
    "# Imports"
   ]
  },
  {
   "cell_type": "code",
   "execution_count": 2,
   "metadata": {
    "executionInfo": {
     "elapsed": 2542,
     "status": "ok",
     "timestamp": 1700760185739,
     "user": {
      "displayName": "Ben Joshua Fliegener",
      "userId": "06969016385245233563"
     },
     "user_tz": -60
    },
    "id": "ydoGsxNDulux"
   },
   "outputs": [],
   "source": [
    "import numpy as np\n",
    "import matplotlib.pyplot as plt\n",
    "import pandas as pd\n",
    "# changing the time columns type\n",
    "from datetime import datetime\n",
    "# Plotting NaN values\n",
    "# import missingno as msno\n",
    "\n",
    "import os\n",
    "\n",
    "# for uncertainties\n",
    "from uncertainties import ufloat\n",
    "import uncertainties as uc\n",
    "import statsmodels.api as sm\n",
    "from scipy import stats\n",
    "\n",
    "# plt.rcParams[\"text.usetex\"] = True"
   ]
  },
  {
   "cell_type": "markdown",
   "metadata": {
    "id": "dJN1VKiDu3cc"
   },
   "source": [
    "# Funkctions"
   ]
  },
  {
   "cell_type": "code",
   "execution_count": 3,
   "metadata": {
    "executionInfo": {
     "elapsed": 4,
     "status": "ok",
     "timestamp": 1700760186183,
     "user": {
      "displayName": "Ben Joshua Fliegener",
      "userId": "06969016385245233563"
     },
     "user_tz": -60
    },
    "id": "PdOkxc5Zu5hs"
   },
   "outputs": [],
   "source": [
    "class sbk():\n",
    "  def chaning_type_time(df,col_name='Time'):\n",
    "    \"\"\"\n",
    "    only to change from 16-16-16 to 16:16:16\n",
    "    \"\"\"\n",
    "    df[col_name] = df[col_name].str.replace('-',':')\n",
    "    df[col_name] = pd.to_datetime(df[col_name],format='%H:%M:%S').dt.time\n",
    "    return df[col_name]\n",
    "\n",
    "  def getting_R_data(link):\n",
    "    r_dict = {\n",
    "        'Current':'I [microA]',\n",
    "        'Voltage':'U [microV]',\n",
    "        'Power':'P [W]',\n",
    "        'Resistence':'R [O]',\n",
    "        'SourceDelay':'SD [s]',\n",
    "        'VoltageLimit':'VL [V]'\n",
    "    }\n",
    "    df = pd.read_csv(link,skiprows=range(0, 27),sep=' ', encoding='latin1')\n",
    "    df = df.rename(columns=r_dict)\n",
    "    df = df.drop([0])\n",
    "    for i in df.columns:\n",
    "      if i == 'I [microA]':\n",
    "        df[i] = pd.to_numeric(df[i])*1e6\n",
    "      elif i == 'U [microV]':\n",
    "        df[i] = pd.to_numeric(df[i])*1e6\n",
    "      else:\n",
    "        df[i] = pd.to_numeric(df[i])\n",
    "    return df\n",
    "\n",
    "  def find_files_with_us(directory):\n",
    "    files_with_us = []\n",
    "    for root, dirs, files in os.walk(directory):\n",
    "        for file in files:\n",
    "            if 'Us' in file:\n",
    "                files_with_us.append(os.path.join(root, file))\n",
    "    return files_with_us\n",
    "\n",
    "  def var(array,mean):\n",
    "    length = len(array)\n",
    "    y = sum((array-mean)**2)/(length-1)\n",
    "    return y\n",
    "\n",
    "  def reg(x,a,b):\n",
    "    return a*x+b\n",
    "\n",
    "  def sxsq(x):\n",
    "    mean = np.mean(x)\n",
    "    t = sum((x-mean)**2)/len(x)\n",
    "    return t\n",
    "\n",
    "  def sxy(x,y):\n",
    "    xx = x-np.mean(x)\n",
    "    yy = y-np.mean(y)\n",
    "    return sum(xx*yy)/len(x)\n",
    "\n",
    "  def lst_of_rs(link,var1='295',var2='1,8,16,9'):\n",
    "    lst = []\n",
    "    lst_link = []\n",
    "    if (var1 and var2) in link:\n",
    "      x = sbk.getting_R_data(link)\n",
    "      lst.append(x)\n",
    "      lst_link.append(link)\n",
    "    return lst, lst_link\n",
    "\n",
    "  def S_rel(Us,T):\n",
    "    return -Us/T\n",
    "  # TdM, S. 853f\n",
    "  def rxy(x,y):\n",
    "    z = sum((x-np.mean(x))*(y-np.mean(y)))/np.sqrt(sum((x-np.mean(x))**2)*sum(y-np.mean(y)))\n",
    "    return z\n",
    "\n",
    "  def t(x,y):\n",
    "    z = sbk.rxy(x,y)*np.sqrt(len(x)-2)/np.sqrt(1-sbk.rxy(x,y)**2)\n",
    "    return z\n",
    "\n",
    "  def b_tilde(x,y):\n",
    "    z=  sum((x-np.mean(x))*(y-np.mean(y)))/sum((x-np.mean(x))**2)\n",
    "    return z\n",
    "  def sy(y):\n",
    "    z = 1/(len(y)-1) * sum(y-np.mean(y)**2)\n",
    "    return z\n",
    "  def sigma_sq(x,y):\n",
    "    z = (len(x)-1)/(len(x)-2)* sbk.sy(y) *(1-sbk.rxy(x,y))\n",
    "    return z\n",
    "\n",
    "  def std_sig(x,y):\n",
    "    z = np.sqrt(sbk.sigma_sq(x,y))\n",
    "    return z\n",
    "\n",
    "  def a_tilde(x,y):\n",
    "    z = np.mean(y) - sbk.b_tilde(x,y) * np.mean(x)\n",
    "    return z\n",
    "\n",
    "  def lin_reg(x,y):\n",
    "    if len(x)>2:\n",
    "      sigma = sbk.sigma_sq(x,y)\n",
    "      std = np.sqrt(sigma)\n",
    "    else:\n",
    "      sigma = 'Not Possible, because the length of x<=2'\n",
    "      std = 'Not Possible'\n",
    "    a = sbk.a_tilde(x,y)\n",
    "    b = sbk.b_tilde(x,y)\n",
    "    return a,b,sigma, std"
   ]
  },
  {
   "cell_type": "markdown",
   "metadata": {
    "id": "IUD25xUcu0zO"
   },
   "source": [
    "# Data Loading"
   ]
  },
  {
   "cell_type": "code",
   "execution_count": 4,
   "metadata": {
    "colab": {
     "base_uri": "https://localhost:8080/"
    },
    "executionInfo": {
     "elapsed": 873,
     "status": "ok",
     "timestamp": 1700760187053,
     "user": {
      "displayName": "Ben Joshua Fliegener",
      "userId": "06969016385245233563"
     },
     "user_tz": -60
    },
    "id": "1S2b9zmju2_a",
    "outputId": "714ecfdb-4175-413b-b487-5f2d7b7a490c"
   },
   "outputs": [
    {
     "name": "stdout",
     "output_type": "stream",
     "text": [
      "Data-for-Ri-sheets\n",
      "Voltage-Data\n",
      "Zusammenfassung\n",
      "Data Reader 1\n"
     ]
    }
   ],
   "source": [
    "Link = 'https://github.com/Ben-physics-dotcom/Internships/raw/main/FPR-1/Seebeck-Effect/Data/SK-Data.xlsx'\n",
    "data = pd.ExcelFile(Link)\n",
    "sheets = data.sheet_names\n",
    "for i in range(4):\n",
    "  print(sheets[i])"
   ]
  },
  {
   "cell_type": "code",
   "execution_count": 5,
   "metadata": {
    "executionInfo": {
     "elapsed": 6,
     "status": "ok",
     "timestamp": 1700760187743,
     "user": {
      "displayName": "Ben Joshua Fliegener",
      "userId": "06969016385245233563"
     },
     "user_tz": -60
    },
    "id": "iIkUluCedIht"
   },
   "outputs": [],
   "source": [
    "direct = 'Data/'\n",
    "files = os.listdir(direct)\n",
    "data_lst = [file for file in files if file.endswith('.txt')]\n",
    "d_lst = [file for file in data_lst if 'test' not in file]\n",
    "d_lst = sorted(d_lst)"
   ]
  },
  {
   "cell_type": "markdown",
   "metadata": {
    "id": "Pn1Ffg3sw0h-"
   },
   "source": [
    "# Data in Data Frames"
   ]
  },
  {
   "cell_type": "code",
   "execution_count": 6,
   "metadata": {
    "colab": {
     "base_uri": "https://localhost:8080/",
     "height": 224
    },
    "executionInfo": {
     "elapsed": 2242,
     "status": "ok",
     "timestamp": 1700760189980,
     "user": {
      "displayName": "Ben Joshua Fliegener",
      "userId": "06969016385245233563"
     },
     "user_tz": -60
    },
    "id": "Wma-RG3Iw3qH",
    "outputId": "d4f41658-9259-48ff-fd66-c83f8e5db504"
   },
   "outputs": [
    {
     "name": "stdout",
     "output_type": "stream",
     "text": [
      "<class 'float'>\n"
     ]
    },
    {
     "data": {
      "text/html": [
       "<div>\n",
       "<style scoped>\n",
       "    .dataframe tbody tr th:only-of-type {\n",
       "        vertical-align: middle;\n",
       "    }\n",
       "\n",
       "    .dataframe tbody tr th {\n",
       "        vertical-align: top;\n",
       "    }\n",
       "\n",
       "    .dataframe thead th {\n",
       "        text-align: right;\n",
       "    }\n",
       "</style>\n",
       "<table border=\"1\" class=\"dataframe\">\n",
       "  <thead>\n",
       "    <tr style=\"text-align: right;\">\n",
       "      <th></th>\n",
       "      <th>Time</th>\n",
       "      <th>t [s]</th>\n",
       "      <th>dt [s]</th>\n",
       "      <th>T1 [K]</th>\n",
       "      <th>T2 [K]</th>\n",
       "      <th>SetPoint</th>\n",
       "      <th>dT1/dt [K/min]</th>\n",
       "      <th>dT2/dt [K/min]</th>\n",
       "    </tr>\n",
       "  </thead>\n",
       "  <tbody>\n",
       "    <tr>\n",
       "      <th>1</th>\n",
       "      <td>15:53:19</td>\n",
       "      <td>3.549777e+09</td>\n",
       "      <td>13.242</td>\n",
       "      <td>295.74</td>\n",
       "      <td>296.16</td>\n",
       "      <td>295.0</td>\n",
       "      <td>NaN</td>\n",
       "      <td>NaN</td>\n",
       "    </tr>\n",
       "    <tr>\n",
       "      <th>2</th>\n",
       "      <td>15:53:19</td>\n",
       "      <td>3.549777e+09</td>\n",
       "      <td>13.638</td>\n",
       "      <td>295.73</td>\n",
       "      <td>296.15</td>\n",
       "      <td>295.0</td>\n",
       "      <td>NaN</td>\n",
       "      <td>NaN</td>\n",
       "    </tr>\n",
       "    <tr>\n",
       "      <th>3</th>\n",
       "      <td>15:53:20</td>\n",
       "      <td>3.549778e+09</td>\n",
       "      <td>14.638</td>\n",
       "      <td>295.73</td>\n",
       "      <td>296.15</td>\n",
       "      <td>295.0</td>\n",
       "      <td>NaN</td>\n",
       "      <td>NaN</td>\n",
       "    </tr>\n",
       "    <tr>\n",
       "      <th>4</th>\n",
       "      <td>15:53:21</td>\n",
       "      <td>3.549779e+09</td>\n",
       "      <td>15.638</td>\n",
       "      <td>295.73</td>\n",
       "      <td>296.15</td>\n",
       "      <td>295.0</td>\n",
       "      <td>NaN</td>\n",
       "      <td>NaN</td>\n",
       "    </tr>\n",
       "    <tr>\n",
       "      <th>5</th>\n",
       "      <td>15:53:22</td>\n",
       "      <td>3.549780e+09</td>\n",
       "      <td>16.638</td>\n",
       "      <td>295.72</td>\n",
       "      <td>296.14</td>\n",
       "      <td>295.0</td>\n",
       "      <td>NaN</td>\n",
       "      <td>NaN</td>\n",
       "    </tr>\n",
       "  </tbody>\n",
       "</table>\n",
       "</div>"
      ],
      "text/plain": [
       "       Time         t [s]  dt [s]  T1 [K]  T2 [K]  SetPoint  dT1/dt [K/min]  \\\n",
       "1  15:53:19  3.549777e+09  13.242  295.74  296.16     295.0             NaN   \n",
       "2  15:53:19  3.549777e+09  13.638  295.73  296.15     295.0             NaN   \n",
       "3  15:53:20  3.549778e+09  14.638  295.73  296.15     295.0             NaN   \n",
       "4  15:53:21  3.549779e+09  15.638  295.73  296.15     295.0             NaN   \n",
       "5  15:53:22  3.549780e+09  16.638  295.72  296.14     295.0             NaN   \n",
       "\n",
       "  dT2/dt [K/min]  \n",
       "1            NaN  \n",
       "2            NaN  \n",
       "3            NaN  \n",
       "4            NaN  \n",
       "5            NaN  "
      ]
     },
     "execution_count": 6,
     "metadata": {},
     "output_type": "execute_result"
    }
   ],
   "source": [
    "# data sheet with information about the ri's\n",
    "df_data_for_ris = pd.read_excel(data,sheet_name=sheets[0])\n",
    "# changing index of the data frame df_data_for_ris\n",
    "df_data_for_ris = df_data_for_ris.rename(columns={'Unnamed: 0':'index'})\n",
    "df_data_for_ris.index = df_data_for_ris['index']\n",
    "df_data_for_ris = df_data_for_ris.drop(['index'],axis=1)\n",
    "# changing the type of the column Time\n",
    "df_data_for_ris['Time'] = sbk.chaning_type_time(df_data_for_ris)\n",
    "\n",
    "# the voltage sheet\n",
    "df_us = pd.read_excel(data,sheet_name=sheets[1])\n",
    "# deleting a not necessary column\n",
    "df_us = df_us.drop(['Unnamed: 0'],axis=1)\n",
    "# changing type of the Time column\n",
    "df_us['Time'] = sbk.chaning_type_time(df_us)\n",
    "\n",
    "# the zusammenfassung sheet\n",
    "df_zf = pd.read_excel(data,sheet_name=sheets[2])\n",
    "# new index for df_zf\n",
    "index = []\n",
    "for i in range(len(df_zf)):\n",
    "  index.append('R')\n",
    "df_zf.index = index\n",
    "df_zf = df_zf.drop(['Unnamed: 0'],axis=1)\n",
    "#changing the type of Time column\n",
    "df_zf['Time'] = sbk.chaning_type_time(df_zf)\n",
    "\n",
    "# the datareader 1 sheet\n",
    "df_data_reader_1 = pd.read_excel(data,sheet_name=sheets[3])\n",
    "df_data_reader_1 = df_data_reader_1.drop(['Unnamed: 0'],axis=1)\n",
    "# print(msno.matrix(df_data_reader_1))\n",
    "df_data_reader_1= df_data_reader_1.drop(['R'],axis=1)\n",
    "df_data_reader_1 = df_data_reader_1.rename(columns={'DateTime':'Time',\n",
    "                                                    't':'t [s]','dt':'dt [s]',\n",
    "                                                    'Temp1':'T1 [K]',\n",
    "                                                    'Temp2':'T2 [K]',\n",
    "                                                    'dT1/dt': 'dT1/dt [K/min]',\n",
    "                                                    'dT2/dt': 'dT2/dt [K/min]'\n",
    "                                                    })\n",
    "df_data_reader_1 = df_data_reader_1.drop(0)\n",
    "# changing datetime\n",
    "time = []\n",
    "for i in df_data_reader_1['Time']:\n",
    "  x = i.split(sep='_')\n",
    "  time.append(x[1])\n",
    "# print(time)\n",
    "df_data_reader_1['Time'] = time\n",
    "df_data_reader_1['Time'] = sbk.chaning_type_time(df_data_reader_1)\n",
    "lst = ['t [s]','dt [s]','dt [s]','T1 [K]','T2 [K]','SetPoint','dT1/dt [K/min]','dT1/dt [K/min]']\n",
    "for i in lst:\n",
    "  df_data_reader_1[i] = pd.to_numeric(df_data_reader_1[i])\n",
    "\n",
    "# showing the heads\n",
    "print(type(df_data_reader_1['dT2/dt [K/min]'][2]))\n",
    "df_data_reader_1.head()"
   ]
  },
  {
   "cell_type": "code",
   "execution_count": 7,
   "metadata": {
    "executionInfo": {
     "elapsed": 305,
     "status": "ok",
     "timestamp": 1700760190262,
     "user": {
      "displayName": "Ben Joshua Fliegener",
      "userId": "06969016385245233563"
     },
     "user_tz": -60
    },
    "id": "JRtiwgt3vZ3T"
   },
   "outputs": [],
   "source": [
    "n = list(np.arange(4,26))\n",
    "r = []\n",
    "for i in n:\n",
    "  df = pd.read_excel(data,sheet_name=sheets[i])\n",
    "  df = df.rename(columns={'Unnamed: 0':'index'})\n",
    "  df.index = df['index']\n",
    "  df = df.drop(['index'],axis=1)\n",
    "  r.append(df)"
   ]
  },
  {
   "cell_type": "code",
   "execution_count": 8,
   "metadata": {
    "colab": {
     "base_uri": "https://localhost:8080/",
     "height": 238
    },
    "executionInfo": {
     "elapsed": 650,
     "status": "ok",
     "timestamp": 1700760190906,
     "user": {
      "displayName": "Ben Joshua Fliegener",
      "userId": "06969016385245233563"
     },
     "user_tz": -60
    },
    "id": "iEGftoClwJ2M",
    "outputId": "c4e99130-f5b5-410c-82ca-3974d70f72cc"
   },
   "outputs": [
    {
     "data": {
      "text/html": [
       "<div>\n",
       "<style scoped>\n",
       "    .dataframe tbody tr th:only-of-type {\n",
       "        vertical-align: middle;\n",
       "    }\n",
       "\n",
       "    .dataframe tbody tr th {\n",
       "        vertical-align: top;\n",
       "    }\n",
       "\n",
       "    .dataframe thead th {\n",
       "        text-align: right;\n",
       "    }\n",
       "</style>\n",
       "<table border=\"1\" class=\"dataframe\">\n",
       "  <thead>\n",
       "    <tr style=\"text-align: right;\">\n",
       "      <th></th>\n",
       "      <th>Current [A]</th>\n",
       "      <th>Volt [V]</th>\n",
       "      <th>Power [W]</th>\n",
       "      <th>Ressistent [R]</th>\n",
       "      <th>Source Delay [s]</th>\n",
       "      <th>Volt. Lim. [V]</th>\n",
       "    </tr>\n",
       "    <tr>\n",
       "      <th>index</th>\n",
       "      <th></th>\n",
       "      <th></th>\n",
       "      <th></th>\n",
       "      <th></th>\n",
       "      <th></th>\n",
       "      <th></th>\n",
       "    </tr>\n",
       "  </thead>\n",
       "  <tbody>\n",
       "    <tr>\n",
       "      <th>1</th>\n",
       "      <td>0.000000e+00</td>\n",
       "      <td>0.000002</td>\n",
       "      <td>0.000000e+00</td>\n",
       "      <td>0.00000</td>\n",
       "      <td>5.00</td>\n",
       "      <td>1</td>\n",
       "    </tr>\n",
       "    <tr>\n",
       "      <th>2</th>\n",
       "      <td>0.000000e+00</td>\n",
       "      <td>0.000002</td>\n",
       "      <td>0.000000e+00</td>\n",
       "      <td>0.00000</td>\n",
       "      <td>1.00</td>\n",
       "      <td>1</td>\n",
       "    </tr>\n",
       "    <tr>\n",
       "      <th>3</th>\n",
       "      <td>1.000000e-07</td>\n",
       "      <td>0.000003</td>\n",
       "      <td>2.512968e-13</td>\n",
       "      <td>25.12968</td>\n",
       "      <td>0.01</td>\n",
       "      <td>1</td>\n",
       "    </tr>\n",
       "    <tr>\n",
       "      <th>4</th>\n",
       "      <td>2.000000e-07</td>\n",
       "      <td>0.000003</td>\n",
       "      <td>6.487174e-13</td>\n",
       "      <td>16.21794</td>\n",
       "      <td>0.01</td>\n",
       "      <td>1</td>\n",
       "    </tr>\n",
       "    <tr>\n",
       "      <th>5</th>\n",
       "      <td>3.000000e-07</td>\n",
       "      <td>0.000004</td>\n",
       "      <td>1.200716e-12</td>\n",
       "      <td>13.34129</td>\n",
       "      <td>0.01</td>\n",
       "      <td>1</td>\n",
       "    </tr>\n",
       "  </tbody>\n",
       "</table>\n",
       "</div>"
      ],
      "text/plain": [
       "        Current [A]  Volt [V]     Power [W]  Ressistent [R]  Source Delay [s]  \\\n",
       "index                                                                           \n",
       "1      0.000000e+00  0.000002  0.000000e+00         0.00000              5.00   \n",
       "2      0.000000e+00  0.000002  0.000000e+00         0.00000              1.00   \n",
       "3      1.000000e-07  0.000003  2.512968e-13        25.12968              0.01   \n",
       "4      2.000000e-07  0.000003  6.487174e-13        16.21794              0.01   \n",
       "5      3.000000e-07  0.000004  1.200716e-12        13.34129              0.01   \n",
       "\n",
       "       Volt. Lim. [V]  \n",
       "index                  \n",
       "1                   1  \n",
       "2                   1  \n",
       "3                   1  \n",
       "4                   1  \n",
       "5                   1  "
      ]
     },
     "execution_count": 8,
     "metadata": {},
     "output_type": "execute_result"
    }
   ],
   "source": [
    "r[15].head()"
   ]
  },
  {
   "cell_type": "markdown",
   "metadata": {
    "id": "oQH5NcDRA6CS"
   },
   "source": [
    "# Time Serie plots"
   ]
  },
  {
   "cell_type": "markdown",
   "metadata": {
    "id": "CqK_yhF0BDhk"
   },
   "source": [
    "## Data Reader"
   ]
  },
  {
   "cell_type": "code",
   "execution_count": 9,
   "metadata": {
    "executionInfo": {
     "elapsed": 24,
     "status": "ok",
     "timestamp": 1700760190906,
     "user": {
      "displayName": "Ben Joshua Fliegener",
      "userId": "06969016385245233563"
     },
     "user_tz": -60
    },
    "id": "YDYNxyHEDrUh"
   },
   "outputs": [],
   "source": [
    "df_data_reader_1.head()\n",
    "df_dr1 = df_data_reader_1.copy()\n",
    "df_dr1 = df_dr1.dropna()"
   ]
  },
  {
   "cell_type": "code",
   "execution_count": null,
   "metadata": {
    "colab": {
     "base_uri": "https://localhost:8080/",
     "height": 0
    },
    "executionInfo": {
     "elapsed": 574,
     "status": "ok",
     "timestamp": 1700760191458,
     "user": {
      "displayName": "Ben Joshua Fliegener",
      "userId": "06969016385245233563"
     },
     "user_tz": -60
    },
    "id": "DBBdJ50nA_uB",
    "outputId": "597cf141-ecbc-456b-a13b-b5aa1e684bf1"
   },
   "outputs": [
    {
     "data": {
      "image/png": "[encoded data removed]",
      "text/plain": [
       "<Figure size 640x480 with 1 Axes>"
      ]
     },
     "metadata": {},
     "output_type": "display_data"
    }
   ],
   "source": [
    "x = df_data_reader_1['Time'].apply(lambda x: x.hour * 3600 + x.minute * 60 + x.second)\n",
    "x1 = df_dr1['Time'].apply(lambda x: datetime(2023, 1, 1, x.hour, x.minute, x.second))\n",
    "# print(df_data_reader_1.columns)\n",
    "y1 = df_data_reader_1['t [s]']\n",
    "y2 = df_data_reader_1['T1 [K]']\n",
    "y3 = df_data_reader_1['T2 [K]']\n",
    "y4 = df_data_reader_1['dT1/dt [K/min]']\n",
    "y41 = df_dr1['dT1/dt [K/min]']\n",
    "y5 = df_data_reader_1['dT2/dt [K/min]']\n",
    "y51 = df_dr1['dT2/dt [K/min]']\n",
    "\n",
    "# plt.plot(x,y1,label='t [s]')\n",
    "plt.plot(x,y2, label='Temp 1 [K]')\n",
    "plt.plot(x,y3, label='Temp 2 [K]')\n",
    "# plt.plot(x1,y41,label='dT1/dt [K/min]')\n",
    "# plt.plot(x1,y51,label='dT2/dt [K/min]')\n",
    "plt.xticks(rotation=45)\n",
    "plt.legend()\n",
    "plt.show()"
   ]
  },
  {
   "cell_type": "markdown",
   "metadata": {
    "id": "eTvMRzDeHwQ9"
   },
   "source": [
    "## Zusammenfassung:"
   ]
  },
  {
   "cell_type": "code",
   "execution_count": 12,
   "metadata": {
    "colab": {
     "base_uri": "https://localhost:8080/",
     "height": 206
    },
    "executionInfo": {
     "elapsed": 24,
     "status": "ok",
     "timestamp": 1700760191458,
     "user": {
      "displayName": "Ben Joshua Fliegener",
      "userId": "06969016385245233563"
     },
     "user_tz": -60
    },
    "id": "Rlo5xg5-Huql",
    "outputId": "21ed4f33-9711-4583-ccab-aabc64e06f8b"
   },
   "outputs": [
    {
     "data": {
      "text/html": [
       "<div>\n",
       "<style scoped>\n",
       "    .dataframe tbody tr th:only-of-type {\n",
       "        vertical-align: middle;\n",
       "    }\n",
       "\n",
       "    .dataframe tbody tr th {\n",
       "        vertical-align: top;\n",
       "    }\n",
       "\n",
       "    .dataframe thead th {\n",
       "        text-align: right;\n",
       "    }\n",
       "</style>\n",
       "<table border=\"1\" class=\"dataframe\">\n",
       "  <thead>\n",
       "    <tr style=\"text-align: right;\">\n",
       "      <th></th>\n",
       "      <th>I+</th>\n",
       "      <th>I-</th>\n",
       "      <th>V+</th>\n",
       "      <th>V-</th>\n",
       "      <th>Widerstand[Ohm]</th>\n",
       "      <th>Time</th>\n",
       "      <th>T1 [K]</th>\n",
       "      <th>Sample T [K]</th>\n",
       "      <th>I [mA]</th>\n",
       "      <th>wanted T [K]</th>\n",
       "      <th>File number</th>\n",
       "    </tr>\n",
       "  </thead>\n",
       "  <tbody>\n",
       "    <tr>\n",
       "      <th>R</th>\n",
       "      <td>1</td>\n",
       "      <td>8</td>\n",
       "      <td>16</td>\n",
       "      <td>9</td>\n",
       "      <td>10.117290</td>\n",
       "      <td>16:28:14</td>\n",
       "      <td>294.94</td>\n",
       "      <td>295.27</td>\n",
       "      <td>0</td>\n",
       "      <td>295</td>\n",
       "      <td>1</td>\n",
       "    </tr>\n",
       "    <tr>\n",
       "      <th>R</th>\n",
       "      <td>15</td>\n",
       "      <td>10</td>\n",
       "      <td>14</td>\n",
       "      <td>11</td>\n",
       "      <td>7.315538</td>\n",
       "      <td>16:28:14</td>\n",
       "      <td>294.94</td>\n",
       "      <td>295.27</td>\n",
       "      <td>0</td>\n",
       "      <td>295</td>\n",
       "      <td>1</td>\n",
       "    </tr>\n",
       "    <tr>\n",
       "      <th>R</th>\n",
       "      <td>1</td>\n",
       "      <td>8</td>\n",
       "      <td>16</td>\n",
       "      <td>9</td>\n",
       "      <td>10.123770</td>\n",
       "      <td>16:37:59</td>\n",
       "      <td>295.04</td>\n",
       "      <td>295.38</td>\n",
       "      <td>3</td>\n",
       "      <td>295</td>\n",
       "      <td>1</td>\n",
       "    </tr>\n",
       "    <tr>\n",
       "      <th>R</th>\n",
       "      <td>15</td>\n",
       "      <td>10</td>\n",
       "      <td>14</td>\n",
       "      <td>11</td>\n",
       "      <td>7.323552</td>\n",
       "      <td>16:37:59</td>\n",
       "      <td>295.04</td>\n",
       "      <td>295.38</td>\n",
       "      <td>3</td>\n",
       "      <td>295</td>\n",
       "      <td>1</td>\n",
       "    </tr>\n",
       "    <tr>\n",
       "      <th>R</th>\n",
       "      <td>1</td>\n",
       "      <td>8</td>\n",
       "      <td>16</td>\n",
       "      <td>9</td>\n",
       "      <td>10.137490</td>\n",
       "      <td>16:41:32</td>\n",
       "      <td>295.02</td>\n",
       "      <td>295.36</td>\n",
       "      <td>6</td>\n",
       "      <td>295</td>\n",
       "      <td>1</td>\n",
       "    </tr>\n",
       "  </tbody>\n",
       "</table>\n",
       "</div>"
      ],
      "text/plain": [
       "   I+  I-  V+  V-  Widerstand[Ohm]      Time  T1 [K]  Sample T [K]  I [mA]  \\\n",
       "R   1   8  16   9        10.117290  16:28:14  294.94        295.27       0   \n",
       "R  15  10  14  11         7.315538  16:28:14  294.94        295.27       0   \n",
       "R   1   8  16   9        10.123770  16:37:59  295.04        295.38       3   \n",
       "R  15  10  14  11         7.323552  16:37:59  295.04        295.38       3   \n",
       "R   1   8  16   9        10.137490  16:41:32  295.02        295.36       6   \n",
       "\n",
       "   wanted T [K]  File number  \n",
       "R           295            1  \n",
       "R           295            1  \n",
       "R           295            1  \n",
       "R           295            1  \n",
       "R           295            1  "
      ]
     },
     "execution_count": 12,
     "metadata": {},
     "output_type": "execute_result"
    }
   ],
   "source": [
    "df_zf.head()"
   ]
  },
  {
   "cell_type": "code",
   "execution_count": 13,
   "metadata": {
    "executionInfo": {
     "elapsed": 23,
     "status": "ok",
     "timestamp": 1700760191459,
     "user": {
      "displayName": "Ben Joshua Fliegener",
      "userId": "06969016385245233563"
     },
     "user_tz": -60
    },
    "id": "dN4NqXoNH5HK"
   },
   "outputs": [],
   "source": [
    "# plt.plot(df_zf['Time'],df_zf['T1 [K]'])"
   ]
  },
  {
   "cell_type": "markdown",
   "metadata": {
    "id": "J1N4Co84i2xC"
   },
   "source": [
    "# Aufgabe 1"
   ]
  },
  {
   "cell_type": "markdown",
   "metadata": {
    "id": "xAhma24DPpU7"
   },
   "source": [
    "U heiß: 9, 16\n",
    "\n",
    "U kalt: 14,11"
   ]
  },
  {
   "cell_type": "markdown",
   "metadata": {
    "id": "jIGCEE5BpRPi"
   },
   "source": [
    "## Teilaufgabe 1"
   ]
  },
  {
   "cell_type": "markdown",
   "metadata": {
    "id": "2OZcOnVfjmad"
   },
   "source": [
    "Spannung in Abhängigkeit des Stroms für die Bestimmung des Widerstands\n",
    "für das heiße $U_{Th}(I_{Th})$ und kalte Thermometer $U_{Tk}(I_{Tk})$ bei $I_H = 0$ bei allen\n",
    "vier Temperaturen"
   ]
  },
  {
   "cell_type": "markdown",
   "metadata": {
    "id": "PUHH0RbLPmK5"
   },
   "source": [
    "### Loading Data"
   ]
  },
  {
   "cell_type": "code",
   "execution_count": 14,
   "metadata": {
    "executionInfo": {
     "elapsed": 23,
     "status": "ok",
     "timestamp": 1700760191459,
     "user": {
      "displayName": "Ben Joshua Fliegener",
      "userId": "06969016385245233563"
     },
     "user_tz": -60
    },
    "id": "7Je_tnjCgiTO"
   },
   "outputs": [],
   "source": [
    "# d_lst"
   ]
  },
  {
   "cell_type": "code",
   "execution_count": 20,
   "metadata": {
    "colab": {
     "base_uri": "https://localhost:8080/"
    },
    "executionInfo": {
     "elapsed": 283,
     "status": "ok",
     "timestamp": 1700760191720,
     "user": {
      "displayName": "Ben Joshua Fliegener",
      "userId": "06969016385245233563"
     },
     "user_tz": -60
    },
    "id": "mS3Ml2gqhREA",
    "outputId": "1e0c39bd-f724-40a2-8f4b-8ac9040cee18"
   },
   "outputs": [
    {
     "data": {
      "text/plain": [
       "25"
      ]
     },
     "execution_count": 20,
     "metadata": {},
     "output_type": "execute_result"
    }
   ],
   "source": [
    "d_lst.index('2023-11-09_17-30-32 0001 300K_R_I0mA(1,8,16,9)T1=299.92K T2=300.23K .txt')"
   ]
  },
  {
   "cell_type": "code",
   "execution_count": 23,
   "metadata": {
    "executionInfo": {
     "elapsed": 33,
     "status": "ok",
     "timestamp": 1700760191720,
     "user": {
      "displayName": "Ben Joshua Fliegener",
      "userId": "06969016385245233563"
     },
     "user_tz": -60
    },
    "id": "6V7U7tPKPlFM"
   },
   "outputs": [],
   "source": [
    "# 9, 16 heiß\n",
    "# 14, 11 kalt\n",
    "r_hI0_295 = sbk.getting_R_data('Data/' + d_lst[1])\n",
    "r_kI0_295 = sbk.getting_R_data('Data/' + d_lst[2])\n",
    "r_hi0_300 = sbk.getting_R_data('Data/' + d_lst[25])\n",
    "r_ki0_300 = sbk.getting_R_data('Data/' + d_lst[26])"
   ]
  },
  {
   "cell_type": "code",
   "execution_count": 17,
   "metadata": {
    "executionInfo": {
     "elapsed": 34,
     "status": "ok",
     "timestamp": 1700760191721,
     "user": {
      "displayName": "Ben Joshua Fliegener",
      "userId": "06969016385245233563"
     },
     "user_tz": -60
    },
    "id": "1U-aQORyhiX9"
   },
   "outputs": [],
   "source": [
    "# r_hi0_300.head()"
   ]
  },
  {
   "cell_type": "code",
   "execution_count": 24,
   "metadata": {
    "executionInfo": {
     "elapsed": 33,
     "status": "ok",
     "timestamp": 1700760191721,
     "user": {
      "displayName": "Ben Joshua Fliegener",
      "userId": "06969016385245233563"
     },
     "user_tz": -60
    },
    "id": "6SfTkGdliJhQ"
   },
   "outputs": [],
   "source": [
    "uc_r_hi0_295 = [r_hI0_295['I [microA]'] * 0.1, r_hI0_295['U [microV]'] * 0.1]\n",
    "uc_r_kI0_295 = [r_kI0_295['I [microA]'] * 0.1, r_kI0_295['U [microV]'] * 0.1]\n",
    "uc_r_hi0_300 = [r_hi0_300['I [microA]'] * 0.1, r_hi0_300['U [microV]'] * 0.1]\n",
    "uc_r_ki0_300 = [r_ki0_300['I [microA]'] * 0.1, r_ki0_300['U [microV]'] * 0.1]"
   ]
  },
  {
   "cell_type": "markdown",
   "metadata": {
    "id": "W518xSUrjf0t"
   },
   "source": [
    "### Plot"
   ]
  },
  {
   "cell_type": "markdown",
   "metadata": {
    "id": "YCIwtG-smmD3"
   },
   "source": [
    " mit Unsicherheitsabschätzung von 10%"
   ]
  },
  {
   "cell_type": "markdown",
   "metadata": {
    "id": "FoRwO9tnn2r4"
   },
   "source": [
    "#### Regression"
   ]
  },
  {
   "cell_type": "code",
   "execution_count": 25,
   "metadata": {
    "executionInfo": {
     "elapsed": 33,
     "status": "ok",
     "timestamp": 1700760191721,
     "user": {
      "displayName": "Ben Joshua Fliegener",
      "userId": "06969016385245233563"
     },
     "user_tz": -60
    },
    "id": "KhxbpqHmn4h2"
   },
   "outputs": [],
   "source": [
    "X = sm.add_constant(r_kI0_295['I [microA]'])\n",
    "X1 = sm.add_constant(r_ki0_300['I [microA]'])\n",
    "m = sm.WLS(r_kI0_295['U [microV]'],X,weights=uc_r_kI0_295[1])\n",
    "m1 = sm.WLS(r_ki0_300['U [microV]'],X,weights=uc_r_ki0_300[1])\n",
    "r = m.fit()\n",
    "r1 = m1.fit()"
   ]
  },
  {
   "cell_type": "code",
   "execution_count": 26,
   "metadata": {
    "colab": {
     "base_uri": "https://localhost:8080/"
    },
    "executionInfo": {
     "elapsed": 32,
     "status": "ok",
     "timestamp": 1700760191721,
     "user": {
      "displayName": "Ben Joshua Fliegener",
      "userId": "06969016385245233563"
     },
     "user_tz": -60
    },
    "id": "oZXwGpJ6Kow3",
    "outputId": "fc5eabe0-ec25-4896-e7d5-12025b8d2c66"
   },
   "outputs": [
    {
     "name": "stdout",
     "output_type": "stream",
     "text": [
      "                            WLS Regression Results                            \n",
      "==============================================================================\n",
      "Dep. Variable:             U [microV]   R-squared:                       1.000\n",
      "Model:                            WLS   Adj. R-squared:                  1.000\n",
      "Method:                 Least Squares   F-statistic:                 4.273e+08\n",
      "Date:                Thu, 27 Feb 2025   Prob (F-statistic):               0.00\n",
      "Time:                        10:46:27   Log-Likelihood:                 353.55\n",
      "No. Observations:                 112   AIC:                            -703.1\n",
      "Df Residuals:                     110   BIC:                            -697.7\n",
      "Df Model:                           1                                         \n",
      "Covariance Type:            nonrobust                                         \n",
      "==============================================================================\n",
      "                 coef    std err          t      P>|t|      [0.025      0.975]\n",
      "------------------------------------------------------------------------------\n",
      "const          1.7586      0.002    708.210      0.000       1.754       1.764\n",
      "I [microA]     7.3148      0.000   2.07e+04      0.000       7.314       7.315\n",
      "==============================================================================\n",
      "Omnibus:                        0.737   Durbin-Watson:                   1.740\n",
      "Prob(Omnibus):                  0.692   Jarque-Bera (JB):                0.330\n",
      "Skew:                          -0.043   Prob(JB):                        0.848\n",
      "Kurtosis:                       3.251   Cond. No.                         20.7\n",
      "==============================================================================\n",
      "\n",
      "Notes:\n",
      "[1] Standard Errors assume that the covariance matrix of the errors is correctly specified.\n"
     ]
    }
   ],
   "source": [
    "print(r.summary())"
   ]
  },
  {
   "cell_type": "code",
   "execution_count": 27,
   "metadata": {
    "colab": {
     "base_uri": "https://localhost:8080/"
    },
    "executionInfo": {
     "elapsed": 25,
     "status": "ok",
     "timestamp": 1700760191722,
     "user": {
      "displayName": "Ben Joshua Fliegener",
      "userId": "06969016385245233563"
     },
     "user_tz": -60
    },
    "id": "BfvO8cXgpFpX",
    "outputId": "832f2eb1-304d-45c0-c7a8-b9dc6af4fd61"
   },
   "outputs": [
    {
     "name": "stdout",
     "output_type": "stream",
     "text": [
      "                            WLS Regression Results                            \n",
      "==============================================================================\n",
      "Dep. Variable:             U [microV]   R-squared:                       1.000\n",
      "Model:                            WLS   Adj. R-squared:                  1.000\n",
      "Method:                 Least Squares   F-statistic:                 4.216e+08\n",
      "Date:                Thu, 27 Feb 2025   Prob (F-statistic):               0.00\n",
      "Time:                        10:46:28   Log-Likelihood:                 351.54\n",
      "No. Observations:                 112   AIC:                            -699.1\n",
      "Df Residuals:                     110   BIC:                            -693.6\n",
      "Df Model:                           1                                         \n",
      "Covariance Type:            nonrobust                                         \n",
      "==============================================================================\n",
      "                 coef    std err          t      P>|t|      [0.025      0.975]\n",
      "------------------------------------------------------------------------------\n",
      "const          1.7766      0.003    702.642      0.000       1.772       1.782\n",
      "I [microA]     7.3985      0.000   2.05e+04      0.000       7.398       7.399\n",
      "==============================================================================\n",
      "Omnibus:                        0.223   Durbin-Watson:                   1.566\n",
      "Prob(Omnibus):                  0.895   Jarque-Bera (JB):                0.349\n",
      "Skew:                           0.094   Prob(JB):                        0.840\n",
      "Kurtosis:                       2.802   Cond. No.                         20.7\n",
      "==============================================================================\n",
      "\n",
      "Notes:\n",
      "[1] Standard Errors assume that the covariance matrix of the errors is correctly specified.\n"
     ]
    }
   ],
   "source": [
    "print(r1.summary())"
   ]
  },
  {
   "cell_type": "code",
   "execution_count": 29,
   "metadata": {
    "colab": {
     "base_uri": "https://localhost:8080/"
    },
    "executionInfo": {
     "elapsed": 20,
     "status": "ok",
     "timestamp": 1700760191722,
     "user": {
      "displayName": "Ben Joshua Fliegener",
      "userId": "06969016385245233563"
     },
     "user_tz": -60
    },
    "id": "8zYOgc0gKy51",
    "outputId": "2f688d24-c290-4fb7-f1c6-dacc926bddbf"
   },
   "outputs": [
    {
     "name": "stdout",
     "output_type": "stream",
     "text": [
      "7.3148  +/-  0.0004\n",
      "1.7586  +/-  0.0025 \n",
      "\n"
     ]
    },
    {
     "name": "stderr",
     "output_type": "stream",
     "text": [
      "C:\\Users\\benjf\\AppData\\Local\\Temp\\ipykernel_8572\\1397715857.py:1: FutureWarning: Series.__getitem__ treating keys as positions is deprecated. In a future version, integer keys will always be treated as labels (consistent with DataFrame behavior). To access a value by position, use `ser.iloc[pos]`\n",
      "  a295 = r.params[1]\n",
      "C:\\Users\\benjf\\AppData\\Local\\Temp\\ipykernel_8572\\1397715857.py:2: FutureWarning: Series.__getitem__ treating keys as positions is deprecated. In a future version, integer keys will always be treated as labels (consistent with DataFrame behavior). To access a value by position, use `ser.iloc[pos]`\n",
      "  b295 = r.params[0]\n",
      "C:\\Users\\benjf\\AppData\\Local\\Temp\\ipykernel_8572\\1397715857.py:3: FutureWarning: Series.__getitem__ treating keys as positions is deprecated. In a future version, integer keys will always be treated as labels (consistent with DataFrame behavior). To access a value by position, use `ser.iloc[pos]`\n",
      "  u_a295 = r.bse[1]\n",
      "C:\\Users\\benjf\\AppData\\Local\\Temp\\ipykernel_8572\\1397715857.py:4: FutureWarning: Series.__getitem__ treating keys as positions is deprecated. In a future version, integer keys will always be treated as labels (consistent with DataFrame behavior). To access a value by position, use `ser.iloc[pos]`\n",
      "  u_b295 = r.bse[0]\n"
     ]
    }
   ],
   "source": [
    "a295 = r.params[1]\n",
    "b295 = r.params[0]\n",
    "u_a295 = r.bse[1]\n",
    "u_b295 = r.bse[0]\n",
    "a_295_err1 = ufloat(a295,u_a295)\n",
    "print(round(a295, 4), ' +/- ', round(u_a295, 4))\n",
    "print(round(b295, 4), ' +/- ', round(u_b295, 4), '\\n')"
   ]
  },
  {
   "cell_type": "code",
   "execution_count": 30,
   "metadata": {
    "colab": {
     "base_uri": "https://localhost:8080/"
    },
    "executionInfo": {
     "elapsed": 16,
     "status": "ok",
     "timestamp": 1700760191722,
     "user": {
      "displayName": "Ben Joshua Fliegener",
      "userId": "06969016385245233563"
     },
     "user_tz": -60
    },
    "id": "CRlnewBupUI_",
    "outputId": "5e73d520-6dab-4c3e-ac59-e7b9a154e989"
   },
   "outputs": [
    {
     "name": "stdout",
     "output_type": "stream",
     "text": [
      "7.3985  +/-  0.0004\n",
      "7.3985+/-0.0004\n"
     ]
    },
    {
     "name": "stderr",
     "output_type": "stream",
     "text": [
      "C:\\Users\\benjf\\AppData\\Local\\Temp\\ipykernel_8572\\2578986752.py:1: FutureWarning: Series.__getitem__ treating keys as positions is deprecated. In a future version, integer keys will always be treated as labels (consistent with DataFrame behavior). To access a value by position, use `ser.iloc[pos]`\n",
      "  a300 = r1.params[1]\n",
      "C:\\Users\\benjf\\AppData\\Local\\Temp\\ipykernel_8572\\2578986752.py:2: FutureWarning: Series.__getitem__ treating keys as positions is deprecated. In a future version, integer keys will always be treated as labels (consistent with DataFrame behavior). To access a value by position, use `ser.iloc[pos]`\n",
      "  b300 = r1.params[0]\n",
      "C:\\Users\\benjf\\AppData\\Local\\Temp\\ipykernel_8572\\2578986752.py:3: FutureWarning: Series.__getitem__ treating keys as positions is deprecated. In a future version, integer keys will always be treated as labels (consistent with DataFrame behavior). To access a value by position, use `ser.iloc[pos]`\n",
      "  u_a300 = r1.bse[1]\n",
      "C:\\Users\\benjf\\AppData\\Local\\Temp\\ipykernel_8572\\2578986752.py:4: FutureWarning: Series.__getitem__ treating keys as positions is deprecated. In a future version, integer keys will always be treated as labels (consistent with DataFrame behavior). To access a value by position, use `ser.iloc[pos]`\n",
      "  u_b300 = r1.bse[0]\n"
     ]
    }
   ],
   "source": [
    "a300 = r1.params[1]\n",
    "b300 = r1.params[0]\n",
    "u_a300 = r1.bse[1]\n",
    "u_b300 = r1.bse[0]\n",
    "a_300_err1 = ufloat(a300,u_a300)\n",
    "print(round(a300,4),' +/- ',round(u_a300,4))\n",
    "print(a_300_err1)"
   ]
  },
  {
   "cell_type": "code",
   "execution_count": 31,
   "metadata": {
    "colab": {
     "base_uri": "https://localhost:8080/"
    },
    "executionInfo": {
     "elapsed": 11,
     "status": "ok",
     "timestamp": 1700760191722,
     "user": {
      "displayName": "Ben Joshua Fliegener",
      "userId": "06969016385245233563"
     },
     "user_tz": -60
    },
    "id": "bn4HYn4MLXiX",
    "outputId": "1c137415-d386-4928-a702-1838548c8306"
   },
   "outputs": [
    {
     "data": {
      "text/plain": [
       "0    7.3141\n",
       "1    7.3155\n",
       "Name: I [microA], dtype: float64"
      ]
     },
     "execution_count": 31,
     "metadata": {},
     "output_type": "execute_result"
    }
   ],
   "source": [
    "# 95% confindence intervall\n",
    "c295 = r.conf_int().loc['I [microA]']\n",
    "round(c295,4)"
   ]
  },
  {
   "cell_type": "code",
   "execution_count": 32,
   "metadata": {
    "colab": {
     "base_uri": "https://localhost:8080/"
    },
    "executionInfo": {
     "elapsed": 303,
     "status": "ok",
     "timestamp": 1700760192018,
     "user": {
      "displayName": "Ben Joshua Fliegener",
      "userId": "06969016385245233563"
     },
     "user_tz": -60
    },
    "id": "i9rbc4r2JzwQ",
    "outputId": "5d8cd073-e706-4272-92de-d1e33fee3743"
   },
   "outputs": [
    {
     "data": {
      "text/plain": [
       "0    7.3978\n",
       "1    7.3993\n",
       "Name: I [microA], dtype: float64"
      ]
     },
     "execution_count": 32,
     "metadata": {},
     "output_type": "execute_result"
    }
   ],
   "source": [
    "# 95% confindence intervall\n",
    "c300 = r1.conf_int().loc['I [microA]']\n",
    "round(c300,4)\n"
   ]
  },
  {
   "cell_type": "code",
   "execution_count": 33,
   "metadata": {
    "executionInfo": {
     "elapsed": 6,
     "status": "ok",
     "timestamp": 1700760192019,
     "user": {
      "displayName": "Ben Joshua Fliegener",
      "userId": "06969016385245233563"
     },
     "user_tz": -60
    },
    "id": "SmlR2TMORLiO"
   },
   "outputs": [],
   "source": [
    "# help(plt.plot)"
   ]
  },
  {
   "cell_type": "code",
   "execution_count": 35,
   "metadata": {
    "colab": {
     "base_uri": "https://localhost:8080/",
     "height": 453
    },
    "executionInfo": {
     "elapsed": 2482,
     "status": "ok",
     "timestamp": 1700760194496,
     "user": {
      "displayName": "Ben Joshua Fliegener",
      "userId": "06969016385245233563"
     },
     "user_tz": -60
    },
    "id": "j0-FQNqnjeyh",
    "outputId": "e2ed2ffc-b9e1-452e-e2df-6f961fb0c5ba"
   },
   "outputs": [
    {
     "name": "stderr",
     "output_type": "stream",
     "text": [
      "<>:22: SyntaxWarning: invalid escape sequence '\\m'\n",
      "<>:23: SyntaxWarning: invalid escape sequence '\\m'\n",
      "<>:22: SyntaxWarning: invalid escape sequence '\\m'\n",
      "<>:23: SyntaxWarning: invalid escape sequence '\\m'\n",
      "C:\\Users\\benjf\\AppData\\Local\\Temp\\ipykernel_8572\\2855570509.py:22: SyntaxWarning: invalid escape sequence '\\m'\n",
      "  plt.xlabel('$I_{Tk}$ [$\\mu$A]')\n",
      "C:\\Users\\benjf\\AppData\\Local\\Temp\\ipykernel_8572\\2855570509.py:23: SyntaxWarning: invalid escape sequence '\\m'\n",
      "  plt.ylabel('$U_{Tk}(I_{Tk})$ [$\\mu$V]')\n"
     ]
    },
    {
     "data": {
      "image/png": "[encoded data removed]",
      "text/plain": [
       "<Figure size 640x480 with 1 Axes>"
      ]
     },
     "metadata": {},
     "output_type": "display_data"
    }
   ],
   "source": [
    "# Kalt:\n",
    "# data\n",
    "plt.errorbar(r_kI0_295['I [microA]'],r_kI0_295['U [microV]'],fmt='.',\n",
    "            #  xerr=uc_r_kI0_295[0],\n",
    "             yerr=uc_r_kI0_295[1],label='295K',capsize=2,color='orange',\n",
    "             zorder=1)\n",
    "plt.errorbar(r_ki0_300['I [microA]'],r_ki0_300['U [microV]'],fmt='.',\n",
    "            #  xerr=uc_r_ki0_300[0],\n",
    "             yerr=uc_r_ki0_300[1],label='300K',capsize=2,\n",
    "             zorder=1)\n",
    "# regressions\n",
    "# plt.plot(r_kI0_295['I [microA]'],a295*r_kI0_295['I [microA]']+b295,\n",
    "#          color='black',\n",
    "#          label='Regression: 295K',linewidth=1,\n",
    "#              zorder=2)\n",
    "# plt.plot(r_ki0_300['I [microA]'],a300*r_ki0_300['I [microA]']+b300,\n",
    "#          color='red',\n",
    "#          zorder=2,label='Reg. 300K')\n",
    "# genarell\n",
    "# plt.legend()\n",
    "# plt.title('kaltes Thermometer')\n",
    "plt.xlabel('$I_{Tk}$ [$\\mu$A]')\n",
    "plt.ylabel('$U_{Tk}(I_{Tk})$ [$\\mu$V]')\n",
    "# plt.savefig('kaltes_therm.png',dpi=600,transparent=True)\n",
    "plt.show()"
   ]
  },
  {
   "cell_type": "markdown",
   "metadata": {
    "id": "e_xdh20DnxNf"
   },
   "source": [
    "#### Regression"
   ]
  },
  {
   "cell_type": "code",
   "execution_count": 36,
   "metadata": {
    "executionInfo": {
     "elapsed": 45,
     "status": "ok",
     "timestamp": 1700760194506,
     "user": {
      "displayName": "Ben Joshua Fliegener",
      "userId": "06969016385245233563"
     },
     "user_tz": -60
    },
    "id": "Po4e_rTen1hv"
   },
   "outputs": [],
   "source": [
    "X = sm.add_constant(r_hI0_295['I [microA]'])\n",
    "X1 = sm.add_constant(r_hi0_300['I [microA]'])\n",
    "m = sm.WLS(r_hI0_295['U [microV]'],X,weights=uc_r_hi0_295[1])\n",
    "m1 = sm.WLS(r_hi0_300['U [microV]'],X1,weights=uc_r_hi0_300[1])\n",
    "r = m.fit()\n",
    "r1 = m1.fit()"
   ]
  },
  {
   "cell_type": "code",
   "execution_count": 37,
   "metadata": {
    "colab": {
     "base_uri": "https://localhost:8080/"
    },
    "executionInfo": {
     "elapsed": 45,
     "status": "ok",
     "timestamp": 1700760194508,
     "user": {
      "displayName": "Ben Joshua Fliegener",
      "userId": "06969016385245233563"
     },
     "user_tz": -60
    },
    "id": "eCHfduaIUIgk",
    "outputId": "b6943775-f500-43dc-b4d9-4f3a99d6649a"
   },
   "outputs": [
    {
     "name": "stdout",
     "output_type": "stream",
     "text": [
      "                            WLS Regression Results                            \n",
      "==============================================================================\n",
      "Dep. Variable:             U [microV]   R-squared:                       1.000\n",
      "Model:                            WLS   Adj. R-squared:                  1.000\n",
      "Method:                 Least Squares   F-statistic:                 2.409e+08\n",
      "Date:                Thu, 27 Feb 2025   Prob (F-statistic):               0.00\n",
      "Time:                        10:47:35   Log-Likelihood:                 285.50\n",
      "No. Observations:                 112   AIC:                            -567.0\n",
      "Df Residuals:                     110   BIC:                            -561.6\n",
      "Df Model:                           1                                         \n",
      "Covariance Type:            nonrobust                                         \n",
      "==============================================================================\n",
      "                 coef    std err          t      P>|t|      [0.025      0.975]\n",
      "------------------------------------------------------------------------------\n",
      "const          5.7045      0.005   1259.695      0.000       5.696       5.713\n",
      "I [microA]    10.1173      0.001   1.55e+04      0.000      10.116      10.119\n",
      "==============================================================================\n",
      "Omnibus:                        1.020   Durbin-Watson:                   1.698\n",
      "Prob(Omnibus):                  0.601   Jarque-Bera (JB):                0.727\n",
      "Skew:                          -0.192   Prob(JB):                        0.695\n",
      "Kurtosis:                       3.091   Cond. No.                         19.8\n",
      "==============================================================================\n",
      "\n",
      "Notes:\n",
      "[1] Standard Errors assume that the covariance matrix of the errors is correctly specified.\n"
     ]
    }
   ],
   "source": [
    "print(r.summary())"
   ]
  },
  {
   "cell_type": "code",
   "execution_count": 38,
   "metadata": {
    "colab": {
     "base_uri": "https://localhost:8080/"
    },
    "executionInfo": {
     "elapsed": 34,
     "status": "ok",
     "timestamp": 1700760194509,
     "user": {
      "displayName": "Ben Joshua Fliegener",
      "userId": "06969016385245233563"
     },
     "user_tz": -60
    },
    "id": "GCuXjbnQUN76",
    "outputId": "029840b3-616e-4e91-dbdc-34f7d64791fa"
   },
   "outputs": [
    {
     "name": "stdout",
     "output_type": "stream",
     "text": [
      "                            WLS Regression Results                            \n",
      "==============================================================================\n",
      "Dep. Variable:             U [microV]   R-squared:                       1.000\n",
      "Model:                            WLS   Adj. R-squared:                  1.000\n",
      "Method:                 Least Squares   F-statistic:                 3.494e+08\n",
      "Date:                Thu, 27 Feb 2025   Prob (F-statistic):               0.00\n",
      "Time:                        10:47:35   Log-Likelihood:                 305.15\n",
      "No. Observations:                 112   AIC:                            -606.3\n",
      "Df Residuals:                     110   BIC:                            -600.9\n",
      "Df Model:                           1                                         \n",
      "Covariance Type:            nonrobust                                         \n",
      "==============================================================================\n",
      "                 coef    std err          t      P>|t|      [0.025      0.975]\n",
      "------------------------------------------------------------------------------\n",
      "const          5.8904      0.004   1550.806      0.000       5.883       5.898\n",
      "I [microA]    10.2223      0.001   1.87e+04      0.000      10.221      10.223\n",
      "==============================================================================\n",
      "Omnibus:                        6.684   Durbin-Watson:                   1.977\n",
      "Prob(Omnibus):                  0.035   Jarque-Bera (JB):                6.297\n",
      "Skew:                           0.479   Prob(JB):                       0.0429\n",
      "Kurtosis:                       3.657   Cond. No.                         19.8\n",
      "==============================================================================\n",
      "\n",
      "Notes:\n",
      "[1] Standard Errors assume that the covariance matrix of the errors is correctly specified.\n"
     ]
    }
   ],
   "source": [
    "print(r1.summary())"
   ]
  },
  {
   "cell_type": "code",
   "execution_count": 39,
   "metadata": {
    "executionInfo": {
     "elapsed": 28,
     "status": "ok",
     "timestamp": 1700760194509,
     "user": {
      "displayName": "Ben Joshua Fliegener",
      "userId": "06969016385245233563"
     },
     "user_tz": -60
    },
    "id": "sJSEaC3cUUp6"
   },
   "outputs": [
    {
     "name": "stderr",
     "output_type": "stream",
     "text": [
      "C:\\Users\\benjf\\AppData\\Local\\Temp\\ipykernel_8572\\2316091866.py:1: FutureWarning: Series.__getitem__ treating keys as positions is deprecated. In a future version, integer keys will always be treated as labels (consistent with DataFrame behavior). To access a value by position, use `ser.iloc[pos]`\n",
      "  a295h = r.params[1]\n",
      "C:\\Users\\benjf\\AppData\\Local\\Temp\\ipykernel_8572\\2316091866.py:2: FutureWarning: Series.__getitem__ treating keys as positions is deprecated. In a future version, integer keys will always be treated as labels (consistent with DataFrame behavior). To access a value by position, use `ser.iloc[pos]`\n",
      "  u_295h = r.bse[1]\n",
      "C:\\Users\\benjf\\AppData\\Local\\Temp\\ipykernel_8572\\2316091866.py:3: FutureWarning: Series.__getitem__ treating keys as positions is deprecated. In a future version, integer keys will always be treated as labels (consistent with DataFrame behavior). To access a value by position, use `ser.iloc[pos]`\n",
      "  b295h = r.params[0]\n",
      "C:\\Users\\benjf\\AppData\\Local\\Temp\\ipykernel_8572\\2316091866.py:4: FutureWarning: Series.__getitem__ treating keys as positions is deprecated. In a future version, integer keys will always be treated as labels (consistent with DataFrame behavior). To access a value by position, use `ser.iloc[pos]`\n",
      "  a300h = r1.params[1]\n",
      "C:\\Users\\benjf\\AppData\\Local\\Temp\\ipykernel_8572\\2316091866.py:5: FutureWarning: Series.__getitem__ treating keys as positions is deprecated. In a future version, integer keys will always be treated as labels (consistent with DataFrame behavior). To access a value by position, use `ser.iloc[pos]`\n",
      "  u_a300h = r1.bse[1]\n",
      "C:\\Users\\benjf\\AppData\\Local\\Temp\\ipykernel_8572\\2316091866.py:6: FutureWarning: Series.__getitem__ treating keys as positions is deprecated. In a future version, integer keys will always be treated as labels (consistent with DataFrame behavior). To access a value by position, use `ser.iloc[pos]`\n",
      "  b300h = r1.params[0]\n"
     ]
    }
   ],
   "source": [
    "a295h = r.params[1]\n",
    "u_295h = r.bse[1]\n",
    "b295h = r.params[0]\n",
    "a300h = r1.params[1]\n",
    "u_a300h = r1.bse[1]\n",
    "b300h = r1.params[0]"
   ]
  },
  {
   "cell_type": "code",
   "execution_count": 41,
   "metadata": {
    "colab": {
     "base_uri": "https://localhost:8080/"
    },
    "executionInfo": {
     "elapsed": 15,
     "status": "ok",
     "timestamp": 1700760194907,
     "user": {
      "displayName": "Ben Joshua Fliegener",
      "userId": "06969016385245233563"
     },
     "user_tz": -60
    },
    "id": "-wdkARMkU3Uy",
    "outputId": "ae11a84b-fa6b-4d3d-b052-f83515b42dd8"
   },
   "outputs": [
    {
     "name": "stdout",
     "output_type": "stream",
     "text": [
      "10.1173 +/- 0.0007\n",
      "10.2223 +/- 0.0005\n"
     ]
    }
   ],
   "source": [
    "# heiß\n",
    "print(round(a295h, 4), '+/-', round(u_295h, 4))\n",
    "print(round(a300h, 4), '+/-', round(u_a300h, 4))"
   ]
  },
  {
   "cell_type": "code",
   "execution_count": 42,
   "metadata": {
    "executionInfo": {
     "elapsed": 10,
     "status": "ok",
     "timestamp": 1700760194907,
     "user": {
      "displayName": "Ben Joshua Fliegener",
      "userId": "06969016385245233563"
     },
     "user_tz": -60
    },
    "id": "n33GZnjt99m1"
   },
   "outputs": [],
   "source": [
    "# help(plt.savefig)"
   ]
  },
  {
   "cell_type": "code",
   "execution_count": 44,
   "metadata": {
    "colab": {
     "base_uri": "https://localhost:8080/",
     "height": 453
    },
    "executionInfo": {
     "elapsed": 3106,
     "status": "ok",
     "timestamp": 1700760198004,
     "user": {
      "displayName": "Ben Joshua Fliegener",
      "userId": "06969016385245233563"
     },
     "user_tz": -60
    },
    "id": "eAhQdnPgmugH",
    "outputId": "ed54aeac-9656-4845-a235-4d674d9d741d"
   },
   "outputs": [
    {
     "name": "stderr",
     "output_type": "stream",
     "text": [
      "<>:12: SyntaxWarning: invalid escape sequence '\\m'\n",
      "<>:13: SyntaxWarning: invalid escape sequence '\\m'\n",
      "<>:12: SyntaxWarning: invalid escape sequence '\\m'\n",
      "<>:13: SyntaxWarning: invalid escape sequence '\\m'\n",
      "C:\\Users\\benjf\\AppData\\Local\\Temp\\ipykernel_8572\\1812937016.py:12: SyntaxWarning: invalid escape sequence '\\m'\n",
      "  plt.xlabel('$I_{Th}$ [$\\mu$A]')\n",
      "C:\\Users\\benjf\\AppData\\Local\\Temp\\ipykernel_8572\\1812937016.py:13: SyntaxWarning: invalid escape sequence '\\m'\n",
      "  plt.ylabel('$U_{Th}(I_{Th})$ [$\\mu$V]')\n"
     ]
    },
    {
     "data": {
      "image/png": "[encoded data removed]",
      "text/plain": [
       "<Figure size 640x480 with 1 Axes>"
      ]
     },
     "metadata": {},
     "output_type": "display_data"
    }
   ],
   "source": [
    "# Heiß:\n",
    "plt.errorbar(r_hI0_295['I [microA]'],r_hI0_295['U [microV]'],\n",
    "            #  xerr=uc_r_kI0_295[0],\n",
    "             fmt='.',\n",
    "             yerr=uc_r_hi0_295[1],label='295K',capsize=2,color='blue')\n",
    "plt.errorbar(r_hi0_300['I [microA]'],r_hi0_300['U [microV]'],\n",
    "            #  xerr=uc_r_ki0_300[0],\n",
    "             fmt='.',\n",
    "             yerr=uc_r_hi0_300[1],label='300K',capsize=2,color='orange')\n",
    "# plt.legend()\n",
    "# plt.title('Heißes Thermometer')\n",
    "plt.xlabel('$I_{Th}$ [$\\mu$A]')\n",
    "plt.ylabel('$U_{Th}(I_{Th})$ [$\\mu$V]')\n",
    "# plt.savefig('warmes_therm.png',dpi=600,transparent=True)\n",
    "plt.show()"
   ]
  },
  {
   "cell_type": "markdown",
   "metadata": {
    "id": "dGIybYk0xxs4"
   },
   "source": [
    "### Final Plot"
   ]
  },
  {
   "cell_type": "code",
   "execution_count": 47,
   "metadata": {
    "colab": {
     "base_uri": "https://localhost:8080/",
     "height": 453
    },
    "executionInfo": {
     "elapsed": 3646,
     "status": "ok",
     "timestamp": 1700760201642,
     "user": {
      "displayName": "Ben Joshua Fliegener",
      "userId": "06969016385245233563"
     },
     "user_tz": -60
    },
    "id": "-HXuJoMhxtmP",
    "outputId": "d79f5874-942a-4d98-be34-4bd5f9e42266"
   },
   "outputs": [
    {
     "name": "stderr",
     "output_type": "stream",
     "text": [
      "<>:22: SyntaxWarning: invalid escape sequence '\\m'\n",
      "<>:23: SyntaxWarning: invalid escape sequence '\\m'\n",
      "<>:22: SyntaxWarning: invalid escape sequence '\\m'\n",
      "<>:23: SyntaxWarning: invalid escape sequence '\\m'\n",
      "C:\\Users\\benjf\\AppData\\Local\\Temp\\ipykernel_8572\\1251197353.py:22: SyntaxWarning: invalid escape sequence '\\m'\n",
      "  plt.xlabel('$I$ [$\\mu$A]')\n",
      "C:\\Users\\benjf\\AppData\\Local\\Temp\\ipykernel_8572\\1251197353.py:23: SyntaxWarning: invalid escape sequence '\\m'\n",
      "  plt.ylabel('$U(I)$ [$\\mu$V]')\n"
     ]
    },
    {
     "data": {
      "image/png": "[encoded data removed]",
      "text/plain": [
       "<Figure size 640x480 with 1 Axes>"
      ]
     },
     "metadata": {},
     "output_type": "display_data"
    }
   ],
   "source": [
    "\n",
    "# Heiß:\n",
    "plt.errorbar(r_hI0_295['I [microA]'],r_hI0_295['U [microV]'],\n",
    "            #  xerr=uc_r_kI0_295[0],\n",
    "             fmt='.',\n",
    "             yerr=uc_r_hi0_295[1],label='295K',capsize=2,color='blue')\n",
    "plt.errorbar(r_hi0_300['I [microA]'],r_hi0_300['U [microV]'],\n",
    "            #  xerr=uc_r_ki0_300[0],\n",
    "             fmt='.',\n",
    "             yerr=uc_r_hi0_300[1],label='300K',capsize=2,color='orange')\n",
    "# Kalt:\n",
    "# data\n",
    "plt.errorbar(r_kI0_295['I [microA]'],r_kI0_295['U [microV]'],fmt='.',\n",
    "            #  xerr=uc_r_kI0_295[0],\n",
    "             yerr=uc_r_kI0_295[1],label='295K',capsize=2,color='k',\n",
    "             zorder=1)\n",
    "plt.errorbar(r_ki0_300['I [microA]'],r_ki0_300['U [microV]'],fmt='.',\n",
    "            #  xerr=uc_r_ki0_300[0],\n",
    "             yerr=uc_r_ki0_300[1],label='300K',capsize=2,color='r',\n",
    "             zorder=1)\n",
    "# plt.legend()\n",
    "# plt.title('Heißes Thermometer')\n",
    "plt.xlabel('$I$ [$\\mu$A]')\n",
    "plt.ylabel('$U(I)$ [$\\mu$V]')\n",
    "# plt.savefig('U-I.png',dpi=600,transparent=True)\n",
    "plt.show()"
   ]
  },
  {
   "cell_type": "markdown",
   "metadata": {
    "id": "CvHYa6b1pTuN"
   },
   "source": [
    "## Teilaufgabe 2"
   ]
  },
  {
   "cell_type": "markdown",
   "metadata": {
    "id": "nmSniV09YSDm"
   },
   "source": [
    "### Plot"
   ]
  },
  {
   "cell_type": "markdown",
   "metadata": {
    "id": "yuxdXMTqjxVv"
   },
   "source": [
    "Widerstand des heißen $R_{heiß}(T)$ und kalten Thermometers $R_{kalt}(T)$ in Abhängigkeit\n",
    "von der Temperatur bei $I_H = 0$"
   ]
  },
  {
   "cell_type": "code",
   "execution_count": 48,
   "metadata": {
    "colab": {
     "base_uri": "https://localhost:8080/"
    },
    "executionInfo": {
     "elapsed": 21,
     "status": "ok",
     "timestamp": 1700760201642,
     "user": {
      "displayName": "Ben Joshua Fliegener",
      "userId": "06969016385245233563"
     },
     "user_tz": -60
    },
    "id": "SaDT4s5TTqhc",
    "outputId": "4e6bd139-6a6c-40e9-fb2d-3fc078f428da"
   },
   "outputs": [
    {
     "name": "stdout",
     "output_type": "stream",
     "text": [
      "2023-11-09_16-29-08 0001 295K_R_I0(15,10,14,11)T1=294.96K T2=295.28K .txt\n",
      "2023-11-09_17-31-00 0001 300K_R_I0mA(15,10,14,11)T1=299.92K T2=300.23K .txt\n"
     ]
    }
   ],
   "source": [
    "# print(d_lst[1])\n",
    "print(d_lst[2])\n",
    "# print(d_lst[25])\n",
    "print(d_lst[26])"
   ]
  },
  {
   "cell_type": "code",
   "execution_count": 49,
   "metadata": {
    "executionInfo": {
     "elapsed": 14,
     "status": "ok",
     "timestamp": 1700760201642,
     "user": {
      "displayName": "Ben Joshua Fliegener",
      "userId": "06969016385245233563"
     },
     "user_tz": -60
    },
    "id": "kgjirRpFj3d1"
   },
   "outputs": [],
   "source": [
    "# heiß\n",
    "df_Rh = pd.DataFrame({\n",
    "    'R [O]':[10.1173, a300h],\n",
    "    'T [K]':[295.28,300.23]\n",
    "})\n",
    "u_yh = [0.0007,0.0005]\n",
    "# kalt\n",
    "df_Rk = pd.DataFrame({\n",
    "    'R [O]':[7.3148 , 7.3985],\n",
    "    'T [K]':[295.28,300.23]\n",
    "})\n",
    "u_yk = [0.0004,0.0004]\n"
   ]
  },
  {
   "cell_type": "code",
   "execution_count": 50,
   "metadata": {
    "colab": {
     "base_uri": "https://localhost:8080/",
     "height": 466
    },
    "executionInfo": {
     "elapsed": 429,
     "status": "ok",
     "timestamp": 1700760202058,
     "user": {
      "displayName": "Ben Joshua Fliegener",
      "userId": "06969016385245233563"
     },
     "user_tz": -60
    },
    "id": "8X9cK-ejZFdG",
    "outputId": "354e0f27-f2eb-47c6-a948-770d394a36a0"
   },
   "outputs": [
    {
     "name": "stderr",
     "output_type": "stream",
     "text": [
      "<>:5: SyntaxWarning: invalid escape sequence '\\O'\n",
      "<>:5: SyntaxWarning: invalid escape sequence '\\O'\n",
      "C:\\Users\\benjf\\AppData\\Local\\Temp\\ipykernel_8572\\4089723316.py:5: SyntaxWarning: invalid escape sequence '\\O'\n",
      "  plt.ylabel('R(T) [$\\Omega$]')\n"
     ]
    },
    {
     "data": {
      "text/plain": [
       "Text(0.5, 0, 'T [K]')"
      ]
     },
     "execution_count": 50,
     "metadata": {},
     "output_type": "execute_result"
    }
   ],
   "source": [
    "plt.errorbar(df_Rh['T [K]'],df_Rh['R [O]'],yerr=u_yh,fmt='o')# heiß\n",
    "plt.errorbar(df_Rk['T [K]'],df_Rk['R [O]'],yerr=u_yk,fmt='o')# kalt\n",
    "plt.xticks([295,300])\n",
    "plt.yticks([7.3,8.8,10.2])\n",
    "plt.ylabel('R(T) [$\\Omega$]')\n",
    "plt.xlabel('T [K]')"
   ]
  },
  {
   "cell_type": "markdown",
   "metadata": {
    "id": "eAIPM71hYUma"
   },
   "source": [
    "### Regression Versuch 1"
   ]
  },
  {
   "cell_type": "code",
   "execution_count": 51,
   "metadata": {
    "executionInfo": {
     "elapsed": 45,
     "status": "ok",
     "timestamp": 1700760202058,
     "user": {
      "displayName": "Ben Joshua Fliegener",
      "userId": "06969016385245233563"
     },
     "user_tz": -60
    },
    "id": "o-w4GXXKYWUx"
   },
   "outputs": [],
   "source": [
    "XT2h = sm.add_constant(df_Rh['T [K]']) # heiß\n",
    "XT2k = sm.add_constant(df_Rk['T [K]']) # kalt\n",
    "mt2h = sm.WLS(df_Rh['R [O]'],XT2h,weights=df_Rh['R [O]']*0.1)#\n",
    "mt2k = sm.WLS(df_Rk['R [O]'],XT2k,weights=df_Rk['R [O]']*0.1) #\n",
    "rt2h = mt2h.fit()\n",
    "rt2k = mt2k.fit()"
   ]
  },
  {
   "cell_type": "code",
   "execution_count": 52,
   "metadata": {
    "colab": {
     "base_uri": "https://localhost:8080/"
    },
    "executionInfo": {
     "elapsed": 45,
     "status": "ok",
     "timestamp": 1700760202059,
     "user": {
      "displayName": "Ben Joshua Fliegener",
      "userId": "06969016385245233563"
     },
     "user_tz": -60
    },
    "id": "VDWZq985ZTEK",
    "outputId": "194340e7-79bb-46a6-d7e3-a5c6e159869b"
   },
   "outputs": [
    {
     "name": "stdout",
     "output_type": "stream",
     "text": [
      "                            WLS Regression Results                            \n",
      "==============================================================================\n",
      "Dep. Variable:                  R [O]   R-squared:                       1.000\n",
      "Model:                            WLS   Adj. R-squared:                    nan\n",
      "Method:                 Least Squares   F-statistic:                       nan\n",
      "Date:                Thu, 27 Feb 2025   Prob (F-statistic):                nan\n",
      "Time:                        10:48:56   Log-Likelihood:                 56.668\n",
      "No. Observations:                   2   AIC:                            -109.3\n",
      "Df Residuals:                       0   BIC:                            -111.9\n",
      "Df Model:                           1                                         \n",
      "Covariance Type:            nonrobust                                         \n",
      "==============================================================================\n",
      "                 coef    std err          t      P>|t|      [0.025      0.975]\n",
      "------------------------------------------------------------------------------\n",
      "const          3.8511        inf          0        nan         nan         nan\n",
      "T [K]          0.0212        inf          0        nan         nan         nan\n",
      "==============================================================================\n",
      "Omnibus:                          nan   Durbin-Watson:                   0.000\n",
      "Prob(Omnibus):                    nan   Jarque-Bera (JB):                0.333\n",
      "Skew:                           0.000   Prob(JB):                        0.846\n",
      "Kurtosis:                       1.000   Cond. No.                     3.58e+04\n",
      "==============================================================================\n",
      "\n",
      "Notes:\n",
      "[1] Standard Errors assume that the covariance matrix of the errors is correctly specified.\n",
      "[2] The condition number is large, 3.58e+04. This might indicate that there are\n",
      "strong multicollinearity or other numerical problems.\n"
     ]
    },
    {
     "name": "stderr",
     "output_type": "stream",
     "text": [
      "c:\\Users\\benjf\\anaconda3\\envs\\projects\\Lib\\site-packages\\statsmodels\\stats\\stattools.py:74: ValueWarning: omni_normtest is not valid with less than 8 observations; 2 samples were given.\n",
      "  warn(\"omni_normtest is not valid with less than 8 observations; %i \"\n",
      "c:\\Users\\benjf\\anaconda3\\envs\\projects\\Lib\\site-packages\\statsmodels\\regression\\linear_model.py:1795: RuntimeWarning: divide by zero encountered in divide\n",
      "  return 1 - (np.divide(self.nobs - self.k_constant, self.df_resid)\n",
      "c:\\Users\\benjf\\anaconda3\\envs\\projects\\Lib\\site-packages\\statsmodels\\regression\\linear_model.py:1795: RuntimeWarning: invalid value encountered in scalar multiply\n",
      "  return 1 - (np.divide(self.nobs - self.k_constant, self.df_resid)\n",
      "c:\\Users\\benjf\\anaconda3\\envs\\projects\\Lib\\site-packages\\statsmodels\\regression\\linear_model.py:1717: RuntimeWarning: divide by zero encountered in scalar divide\n",
      "  return np.dot(wresid, wresid) / self.df_resid\n"
     ]
    }
   ],
   "source": [
    "print(rt2h.summary())"
   ]
  },
  {
   "cell_type": "code",
   "execution_count": 53,
   "metadata": {
    "colab": {
     "base_uri": "https://localhost:8080/"
    },
    "executionInfo": {
     "elapsed": 38,
     "status": "ok",
     "timestamp": 1700760202059,
     "user": {
      "displayName": "Ben Joshua Fliegener",
      "userId": "06969016385245233563"
     },
     "user_tz": -60
    },
    "id": "5ZGAcINdZuaM",
    "outputId": "ba973ac1-fda2-4c04-d989-2be348053609"
   },
   "outputs": [
    {
     "name": "stdout",
     "output_type": "stream",
     "text": [
      "                            WLS Regression Results                            \n",
      "==============================================================================\n",
      "Dep. Variable:                  R [O]   R-squared:                       1.000\n",
      "Model:                            WLS   Adj. R-squared:                    nan\n",
      "Method:                 Least Squares   F-statistic:                       nan\n",
      "Date:                Thu, 27 Feb 2025   Prob (F-statistic):                nan\n",
      "Time:                        10:48:58   Log-Likelihood:                 63.867\n",
      "No. Observations:                   2   AIC:                            -123.7\n",
      "Df Residuals:                       0   BIC:                            -126.3\n",
      "Df Model:                           1                                         \n",
      "Covariance Type:            nonrobust                                         \n",
      "==============================================================================\n",
      "                 coef    std err          t      P>|t|      [0.025      0.975]\n",
      "------------------------------------------------------------------------------\n",
      "const          2.3219        inf          0        nan         nan         nan\n",
      "T [K]          0.0169        inf          0        nan         nan         nan\n",
      "==============================================================================\n",
      "Omnibus:                          nan   Durbin-Watson:                   0.200\n",
      "Prob(Omnibus):                    nan   Jarque-Bera (JB):                0.333\n",
      "Skew:                           0.000   Prob(JB):                        0.846\n",
      "Kurtosis:                       1.000   Cond. No.                     3.58e+04\n",
      "==============================================================================\n",
      "\n",
      "Notes:\n",
      "[1] Standard Errors assume that the covariance matrix of the errors is correctly specified.\n",
      "[2] The condition number is large, 3.58e+04. This might indicate that there are\n",
      "strong multicollinearity or other numerical problems.\n"
     ]
    },
    {
     "name": "stderr",
     "output_type": "stream",
     "text": [
      "c:\\Users\\benjf\\anaconda3\\envs\\projects\\Lib\\site-packages\\statsmodels\\stats\\stattools.py:74: ValueWarning: omni_normtest is not valid with less than 8 observations; 2 samples were given.\n",
      "  warn(\"omni_normtest is not valid with less than 8 observations; %i \"\n",
      "c:\\Users\\benjf\\anaconda3\\envs\\projects\\Lib\\site-packages\\statsmodels\\regression\\linear_model.py:1795: RuntimeWarning: divide by zero encountered in divide\n",
      "  return 1 - (np.divide(self.nobs - self.k_constant, self.df_resid)\n",
      "c:\\Users\\benjf\\anaconda3\\envs\\projects\\Lib\\site-packages\\statsmodels\\regression\\linear_model.py:1795: RuntimeWarning: invalid value encountered in scalar multiply\n",
      "  return 1 - (np.divide(self.nobs - self.k_constant, self.df_resid)\n",
      "c:\\Users\\benjf\\anaconda3\\envs\\projects\\Lib\\site-packages\\statsmodels\\regression\\linear_model.py:1717: RuntimeWarning: divide by zero encountered in scalar divide\n",
      "  return np.dot(wresid, wresid) / self.df_resid\n"
     ]
    }
   ],
   "source": [
    "print(rt2k.summary())"
   ]
  },
  {
   "cell_type": "markdown",
   "metadata": {
    "id": "JjnT0M6ma6uN"
   },
   "source": [
    "### Regression Versuch 2"
   ]
  },
  {
   "cell_type": "markdown",
   "metadata": {
    "id": "1s3KRBc12nzz"
   },
   "source": [
    "#### ohne Fehler (heiß)"
   ]
  },
  {
   "cell_type": "code",
   "execution_count": 54,
   "metadata": {
    "colab": {
     "base_uri": "https://localhost:8080/"
    },
    "executionInfo": {
     "elapsed": 32,
     "status": "ok",
     "timestamp": 1700760202059,
     "user": {
      "displayName": "Ben Joshua Fliegener",
      "userId": "06969016385245233563"
     },
     "user_tz": -60
    },
    "id": "A-FP-YmSfGDa",
    "outputId": "51ca8b47-8953-4517-b538-f91f4dc8b5ba"
   },
   "outputs": [
    {
     "data": {
      "text/plain": [
       "0.021221147183523578"
      ]
     },
     "execution_count": 54,
     "metadata": {},
     "output_type": "execute_result"
    }
   ],
   "source": [
    "a = sbk.sxy(df_Rh['T [K]'],df_Rh['R [O]'])/sbk.sxsq(df_Rh['T [K]'])\n",
    "a"
   ]
  },
  {
   "cell_type": "code",
   "execution_count": 60,
   "metadata": {
    "colab": {
     "base_uri": "https://localhost:8080/",
     "height": 0
    },
    "executionInfo": {
     "elapsed": 982,
     "status": "ok",
     "timestamp": 1700760203015,
     "user": {
      "displayName": "Ben Joshua Fliegener",
      "userId": "06969016385245233563"
     },
     "user_tz": -60
    },
    "id": "Y-kPogQ7fe86",
    "outputId": "e2a9ef63-dd9a-4aa9-fc9f-a91ad9c74de4"
   },
   "outputs": [
    {
     "data": {
      "image/png": "[encoded data removed]",
      "text/plain": [
       "<Figure size 640x480 with 1 Axes>"
      ]
     },
     "metadata": {},
     "output_type": "display_data"
    }
   ],
   "source": [
    "x = np.linspace(293,301)\n",
    "plt.plot(df_Rh['T [K]'],df_Rh['R [O]'],'.')\n",
    "plt.xlabel('T')\n",
    "plt.ylabel('R')\n",
    "plt.plot(x,x*a+3.85)\n",
    "plt.show()"
   ]
  },
  {
   "cell_type": "markdown",
   "metadata": {
    "id": "vps6Z9mb2qnI"
   },
   "source": [
    "#### mit Fehler (heiß)"
   ]
  },
  {
   "cell_type": "code",
   "execution_count": 61,
   "metadata": {
    "colab": {
     "base_uri": "https://localhost:8080/",
     "height": 112
    },
    "executionInfo": {
     "elapsed": 81,
     "status": "ok",
     "timestamp": 1700760203015,
     "user": {
      "displayName": "Ben Joshua Fliegener",
      "userId": "06969016385245233563"
     },
     "user_tz": -60
    },
    "id": "X47JFNSd22dz",
    "outputId": "ac2740c3-656e-4cd6-e4e3-c7f85d0b2275"
   },
   "outputs": [
    {
     "data": {
      "text/html": [
       "<div>\n",
       "<style scoped>\n",
       "    .dataframe tbody tr th:only-of-type {\n",
       "        vertical-align: middle;\n",
       "    }\n",
       "\n",
       "    .dataframe tbody tr th {\n",
       "        vertical-align: top;\n",
       "    }\n",
       "\n",
       "    .dataframe thead th {\n",
       "        text-align: right;\n",
       "    }\n",
       "</style>\n",
       "<table border=\"1\" class=\"dataframe\">\n",
       "  <thead>\n",
       "    <tr style=\"text-align: right;\">\n",
       "      <th></th>\n",
       "      <th>R [O]</th>\n",
       "      <th>T [K]</th>\n",
       "    </tr>\n",
       "  </thead>\n",
       "  <tbody>\n",
       "    <tr>\n",
       "      <th>0</th>\n",
       "      <td>10.117300</td>\n",
       "      <td>295.28</td>\n",
       "    </tr>\n",
       "    <tr>\n",
       "      <th>1</th>\n",
       "      <td>10.222345</td>\n",
       "      <td>300.23</td>\n",
       "    </tr>\n",
       "  </tbody>\n",
       "</table>\n",
       "</div>"
      ],
      "text/plain": [
       "       R [O]   T [K]\n",
       "0  10.117300  295.28\n",
       "1  10.222345  300.23"
      ]
     },
     "execution_count": 61,
     "metadata": {},
     "output_type": "execute_result"
    }
   ],
   "source": [
    "df_Rh"
   ]
  },
  {
   "cell_type": "code",
   "execution_count": 62,
   "metadata": {
    "executionInfo": {
     "elapsed": 79,
     "status": "ok",
     "timestamp": 1700760203016,
     "user": {
      "displayName": "Ben Joshua Fliegener",
      "userId": "06969016385245233563"
     },
     "user_tz": -60
    },
    "id": "7UVmYVe52slW"
   },
   "outputs": [],
   "source": [
    "# Welche Sets brauche ich? df_Rh['T [K]'],df_Rh['R [O]'], u_yh, Abschätzung uT = 0.02K\n",
    "u_t = [0.02,0.02]#np.array()\n",
    "Rh = np.array([ufloat(10.117300,u_yh[0]),ufloat(10.222345,u_yh[1])])\n",
    "Th = np.array([ufloat(295.28,0.02),ufloat(300.23,0.02)])"
   ]
  },
  {
   "cell_type": "code",
   "execution_count": 63,
   "metadata": {
    "colab": {
     "base_uri": "https://localhost:8080/"
    },
    "executionInfo": {
     "elapsed": 78,
     "status": "ok",
     "timestamp": 1700760203016,
     "user": {
      "displayName": "Ben Joshua Fliegener",
      "userId": "06969016385245233563"
     },
     "user_tz": -60
    },
    "id": "ZQBKhBAh75M6",
    "outputId": "4630064e-e82c-467b-95a3-7fb37ac5d020"
   },
   "outputs": [
    {
     "name": "stdout",
     "output_type": "stream",
     "text": [
      "0.02122+/-0.00021\n"
     ]
    }
   ],
   "source": [
    "mean_rh = np.mean(Rh)\n",
    "mean_th = np.mean(Th)\n",
    "a_err = sbk.sxy(Th,Rh)/sbk.sxsq(Th)\n",
    "print(a_err)\n",
    "a_err = ufloat(0.02122,0.00021)\n",
    "dRh_dT_err = a_err"
   ]
  },
  {
   "cell_type": "markdown",
   "metadata": {
    "id": "XTnebnrCRs0s"
   },
   "source": [
    "##### mit lin_reg function"
   ]
  },
  {
   "cell_type": "code",
   "execution_count": 64,
   "metadata": {
    "colab": {
     "base_uri": "https://localhost:8080/"
    },
    "executionInfo": {
     "elapsed": 69,
     "status": "ok",
     "timestamp": 1700760203017,
     "user": {
      "displayName": "Ben Joshua Fliegener",
      "userId": "06969016385245233563"
     },
     "user_tz": -60
    },
    "id": "nMDJ18z3Rx67",
    "outputId": "9a6daf6f-be15-4165-92cc-e5873b73986c"
   },
   "outputs": [
    {
     "name": "stdout",
     "output_type": "stream",
     "text": [
      "3.85+/-0.06 0.02122+/-0.00021\n"
     ]
    }
   ],
   "source": [
    "a,b,sig, std=sbk.lin_reg(Th,Rh)\n",
    "print(a,b)"
   ]
  },
  {
   "cell_type": "markdown",
   "metadata": {
    "id": "py8FA-6-Bgkq"
   },
   "source": [
    "#### Mit fehlern (kalt)"
   ]
  },
  {
   "cell_type": "code",
   "execution_count": 65,
   "metadata": {
    "colab": {
     "base_uri": "https://localhost:8080/",
     "height": 112
    },
    "executionInfo": {
     "elapsed": 66,
     "status": "ok",
     "timestamp": 1700760203017,
     "user": {
      "displayName": "Ben Joshua Fliegener",
      "userId": "06969016385245233563"
     },
     "user_tz": -60
    },
    "id": "_LaE-96NBjkM",
    "outputId": "600f1301-c798-4b64-baea-9b90973cb41f"
   },
   "outputs": [
    {
     "data": {
      "text/html": [
       "<div>\n",
       "<style scoped>\n",
       "    .dataframe tbody tr th:only-of-type {\n",
       "        vertical-align: middle;\n",
       "    }\n",
       "\n",
       "    .dataframe tbody tr th {\n",
       "        vertical-align: top;\n",
       "    }\n",
       "\n",
       "    .dataframe thead th {\n",
       "        text-align: right;\n",
       "    }\n",
       "</style>\n",
       "<table border=\"1\" class=\"dataframe\">\n",
       "  <thead>\n",
       "    <tr style=\"text-align: right;\">\n",
       "      <th></th>\n",
       "      <th>R [O]</th>\n",
       "      <th>T [K]</th>\n",
       "    </tr>\n",
       "  </thead>\n",
       "  <tbody>\n",
       "    <tr>\n",
       "      <th>0</th>\n",
       "      <td>7.3148</td>\n",
       "      <td>295.28</td>\n",
       "    </tr>\n",
       "    <tr>\n",
       "      <th>1</th>\n",
       "      <td>7.3985</td>\n",
       "      <td>300.23</td>\n",
       "    </tr>\n",
       "  </tbody>\n",
       "</table>\n",
       "</div>"
      ],
      "text/plain": [
       "    R [O]   T [K]\n",
       "0  7.3148  295.28\n",
       "1  7.3985  300.23"
      ]
     },
     "execution_count": 65,
     "metadata": {},
     "output_type": "execute_result"
    }
   ],
   "source": [
    "df_Rk"
   ]
  },
  {
   "cell_type": "code",
   "execution_count": 66,
   "metadata": {
    "colab": {
     "base_uri": "https://localhost:8080/"
    },
    "executionInfo": {
     "elapsed": 63,
     "status": "ok",
     "timestamp": 1700760203017,
     "user": {
      "displayName": "Ben Joshua Fliegener",
      "userId": "06969016385245233563"
     },
     "user_tz": -60
    },
    "id": "vvxjjkFGBw1i",
    "outputId": "adaba336-e255-43d8-d965-cea83f57ecb9"
   },
   "outputs": [
    {
     "name": "stdout",
     "output_type": "stream",
     "text": [
      "0.01691+/-0.00015\n"
     ]
    }
   ],
   "source": [
    "Rk = np.array([ufloat(7.3148,u_yk[0]),ufloat(7.3985,u_yk[1])])\n",
    "Tk = np.array([ufloat(295.28,0.02),ufloat(300.23,0.02)])\n",
    "a_err = sbk.sxy(Tk,Rk)/sbk.sxsq(Tk)\n",
    "print(a_err)\n",
    "a_err = ufloat(0.01691,0.00015)\n",
    "dRk_dT_err = a_err"
   ]
  },
  {
   "cell_type": "markdown",
   "metadata": {
    "id": "jFdTlCU7C82b"
   },
   "source": [
    "### final plot"
   ]
  },
  {
   "cell_type": "code",
   "execution_count": 67,
   "metadata": {
    "colab": {
     "base_uri": "https://localhost:8080/"
    },
    "executionInfo": {
     "elapsed": 59,
     "status": "ok",
     "timestamp": 1700760203017,
     "user": {
      "displayName": "Ben Joshua Fliegener",
      "userId": "06969016385245233563"
     },
     "user_tz": -60
    },
    "id": "xSGdXf45C_uB",
    "outputId": "4f4e1491-47eb-4360-cf8e-b3021d63753b"
   },
   "outputs": [
    {
     "name": "stdout",
     "output_type": "stream",
     "text": [
      "0.01691+/-0.00015\n",
      "0.02122+/-0.00021\n"
     ]
    }
   ],
   "source": [
    "print(dRk_dT_err)\n",
    "print(dRh_dT_err)"
   ]
  },
  {
   "cell_type": "code",
   "execution_count": 68,
   "metadata": {
    "executionInfo": {
     "elapsed": 56,
     "status": "ok",
     "timestamp": 1700760203018,
     "user": {
      "displayName": "Ben Joshua Fliegener",
      "userId": "06969016385245233563"
     },
     "user_tz": -60
    },
    "id": "LLnUA7tIDZlA"
   },
   "outputs": [],
   "source": [
    "bh = 3.8511\n",
    "ah = 0.02122\n",
    "bk = 2.3219\n",
    "ak = 0.01691\n",
    "x_temp = np.linspace(293,302)"
   ]
  },
  {
   "cell_type": "code",
   "execution_count": 71,
   "metadata": {
    "colab": {
     "base_uri": "https://localhost:8080/",
     "height": 449
    },
    "executionInfo": {
     "elapsed": 1725,
     "status": "ok",
     "timestamp": 1700760204687,
     "user": {
      "displayName": "Ben Joshua Fliegener",
      "userId": "06969016385245233563"
     },
     "user_tz": -60
    },
    "id": "tox8Gay_DSu8",
    "outputId": "295adb47-026f-4295-fbc8-fe6b5379a8a9"
   },
   "outputs": [
    {
     "name": "stderr",
     "output_type": "stream",
     "text": [
      "<>:11: SyntaxWarning: invalid escape sequence '\\O'\n",
      "<>:11: SyntaxWarning: invalid escape sequence '\\O'\n",
      "C:\\Users\\benjf\\AppData\\Local\\Temp\\ipykernel_8572\\3723129464.py:11: SyntaxWarning: invalid escape sequence '\\O'\n",
      "  plt.ylabel('R(T) [$\\Omega$]')\n"
     ]
    },
    {
     "data": {
      "image/png": "[encoded data removed]",
      "text/plain": [
       "<Figure size 640x480 with 1 Axes>"
      ]
     },
     "metadata": {},
     "output_type": "display_data"
    }
   ],
   "source": [
    "plt.errorbar(df_Rh['T [K]'],df_Rh['R [O]'],\n",
    "             yerr=u_yh,capsize=5,xerr=0.02,\n",
    "             fmt='.',color='blue')# heiß\n",
    "plt.errorbar(df_Rk['T [K]'],df_Rk['R [O]'],\n",
    "             yerr=u_yk,capsize=5,xerr=0.02,\n",
    "             fmt='.',color='orange')# kalt\n",
    "plt.plot(x_temp,ah*x_temp+bh,color='blue')\n",
    "plt.plot(x_temp,ak*x_temp+bk,color='orange')\n",
    "plt.xticks([295,300])\n",
    "plt.yticks([7.3,8.8,10.2])\n",
    "plt.ylabel('R(T) [$\\Omega$]')\n",
    "plt.xlabel('T [K]')\n",
    "# plt.savefig('dT-heiß-kalt.png',dpi=600,transparent=True)\n",
    "plt.show()"
   ]
  },
  {
   "cell_type": "markdown",
   "metadata": {
    "id": "PfHeNUcjpV81"
   },
   "source": [
    "## Teilaufgabe 3"
   ]
  },
  {
   "cell_type": "markdown",
   "metadata": {
    "id": "7y2-rmJ_j3_w"
   },
   "source": [
    "Thermospannung US;Au,Pt(IH) in Abhängigkeit des Heizstromes für alle vier\n",
    "Temperaturen"
   ]
  },
  {
   "cell_type": "code",
   "execution_count": 72,
   "metadata": {
    "executionInfo": {
     "elapsed": 42,
     "status": "ok",
     "timestamp": 1700760204687,
     "user": {
      "displayName": "Ben Joshua Fliegener",
      "userId": "06969016385245233563"
     },
     "user_tz": -60
    },
    "id": "81UQ6kO6j4vY"
   },
   "outputs": [],
   "source": [
    "us_lst = sorted(sbk.find_files_with_us('Data/'))"
   ]
  },
  {
   "cell_type": "code",
   "execution_count": 73,
   "metadata": {
    "colab": {
     "base_uri": "https://localhost:8080/"
    },
    "executionInfo": {
     "elapsed": 41,
     "status": "ok",
     "timestamp": 1700760204688,
     "user": {
      "displayName": "Ben Joshua Fliegener",
      "userId": "06969016385245233563"
     },
     "user_tz": -60
    },
    "id": "BQLK1Tn4eDXf",
    "outputId": "c8b929c0-d734-4a8f-8e95-e58d897b5a2b"
   },
   "outputs": [
    {
     "data": {
      "text/plain": [
       "['Data/2023-11-09_16-33-52 0001 295K_Us_I0T1=295.03K T2=295.36K.txt',\n",
       " 'Data/2023-11-09_16-39-15 0001 295K_Us_I3mAT1=295.04K T2=295.38K.txt',\n",
       " 'Data/2023-11-09_16-42-36 0001 295K_Us_I6mAT1=295.01K T2=295.36K.txt',\n",
       " 'Data/2023-11-09_16-44-53 0001 295K_Us_I9mAT1=295.00K T2=295.35K.txt',\n",
       " 'Data/2023-11-09_16-47-00 0001 295K_Us_I12mAT1=295.00K T2=295.35K.txt',\n",
       " 'Data/2023-11-09_16-50-48 0001 295K_Us_I15mAT1=295.01K T2=295.36K .txt',\n",
       " 'Data/2023-11-09_17-31-25 0001 300K_Us_I0mAT1=299.93K T2=300.24K .txt',\n",
       " 'Data/2023-11-09_17-33-13 0001 300K_Us_I3mAT1=299.98K T2=300.28K .txt',\n",
       " 'Data/2023-11-09_17-34-52 0001 300K_Us_I6mAT1=300.01K T2=300.32K .txt',\n",
       " 'Data/2023-11-09_17-37-04 0001 300K_Us_I9mAT1=300.05K T2=300.36K .txt',\n",
       " 'Data/2023-11-09_17-39-03 0001 300K_Us_I12mAT1=300.06K T2=300.38K .txt',\n",
       " 'Data/2023-11-09_17-40-59 0001 300K_Us_I15mAT1=300.05K T2=300.38K .txt',\n",
       " 'Data/2023-11-09_17-44-56 0002 300K_Us_I0mAT1=300.00K T2=300.34K .txt']"
      ]
     },
     "execution_count": 73,
     "metadata": {},
     "output_type": "execute_result"
    }
   ],
   "source": [
    "us_lst"
   ]
  },
  {
   "cell_type": "code",
   "execution_count": 74,
   "metadata": {
    "executionInfo": {
     "elapsed": 33,
     "status": "ok",
     "timestamp": 1700760204688,
     "user": {
      "displayName": "Ben Joshua Fliegener",
      "userId": "06969016385245233563"
     },
     "user_tz": -60
    },
    "id": "JMamP878eVCZ"
   },
   "outputs": [],
   "source": [
    "# df_us"
   ]
  },
  {
   "cell_type": "code",
   "execution_count": 75,
   "metadata": {
    "executionInfo": {
     "elapsed": 31,
     "status": "ok",
     "timestamp": 1700760204688,
     "user": {
      "displayName": "Ben Joshua Fliegener",
      "userId": "06969016385245233563"
     },
     "user_tz": -60
    },
    "id": "QIwBvP5WtSsx"
   },
   "outputs": [],
   "source": [
    "lst = list(df_us.columns)\n",
    "lst = lst[:10]"
   ]
  },
  {
   "cell_type": "markdown",
   "metadata": {
    "id": "IkM9u_7Nuv7N"
   },
   "source": [
    "Varianz:\n",
    "$$ var = \\frac{\\sum (x_i - \\mu)^2}{n-1} $$"
   ]
  },
  {
   "cell_type": "code",
   "execution_count": 76,
   "metadata": {
    "executionInfo": {
     "elapsed": 31,
     "status": "ok",
     "timestamp": 1700760204689,
     "user": {
      "displayName": "Ben Joshua Fliegener",
      "userId": "06969016385245233563"
     },
     "user_tz": -60
    },
    "id": "MV8daZTqsw2d"
   },
   "outputs": [],
   "source": [
    "df_sub = np.array(df_us.loc[:,lst])\n",
    "df_mean = []\n",
    "df_std = []\n",
    "for i in range(len(df_sub)):\n",
    "  x = df_sub[i].mean()\n",
    "  df_mean.append(x)\n",
    "  varsd = sbk.var(df_sub[i],x)\n",
    "  y = round(np.sqrt(varsd),3)\n",
    "  df_std.append(y)"
   ]
  },
  {
   "cell_type": "code",
   "execution_count": 77,
   "metadata": {
    "colab": {
     "base_uri": "https://localhost:8080/"
    },
    "executionInfo": {
     "elapsed": 31,
     "status": "ok",
     "timestamp": 1700760204689,
     "user": {
      "displayName": "Ben Joshua Fliegener",
      "userId": "06969016385245233563"
     },
     "user_tz": -60
    },
    "id": "p1VzYmIIxW6J",
    "outputId": "c7893bb7-5a3c-463c-d3d4-89c5b92b4603"
   },
   "outputs": [
    {
     "name": "stdout",
     "output_type": "stream",
     "text": [
      "[np.float64(0.012), np.float64(0.011), np.float64(0.01), np.float64(0.016), np.float64(0.018), np.float64(0.009), np.float64(0.009), np.float64(0.026), np.float64(0.036), np.float64(0.022), np.float64(0.032), np.float64(0.009), np.float64(0.009)]\n"
     ]
    }
   ],
   "source": [
    "print(df_std)"
   ]
  },
  {
   "cell_type": "code",
   "execution_count": 78,
   "metadata": {
    "colab": {
     "base_uri": "https://localhost:8080/"
    },
    "executionInfo": {
     "elapsed": 26,
     "status": "ok",
     "timestamp": 1700760204691,
     "user": {
      "displayName": "Ben Joshua Fliegener",
      "userId": "06969016385245233563"
     },
     "user_tz": -60
    },
    "id": "AsNv4fmnwA7j",
    "outputId": "1bd2741f-6c67-409e-8de0-b5f5620f95ff"
   },
   "outputs": [
    {
     "name": "stdout",
     "output_type": "stream",
     "text": [
      "[np.float64(0.012), np.float64(0.011), np.float64(0.01), np.float64(0.016), np.float64(0.018), np.float64(0.009), np.float64(0.009), 0.03, 0.04, 0.02, 0.03, np.float64(0.009), np.float64(0.009)]\n"
     ]
    }
   ],
   "source": [
    "df_std[7] = 0.030\n",
    "df_std[8] = 0.040\n",
    "df_std[9] = 0.02\n",
    "df_std[10] = 0.03\n",
    "\n",
    "print(df_std)"
   ]
  },
  {
   "cell_type": "code",
   "execution_count": 79,
   "metadata": {
    "executionInfo": {
     "elapsed": 24,
     "status": "ok",
     "timestamp": 1700760204693,
     "user": {
      "displayName": "Ben Joshua Fliegener",
      "userId": "06969016385245233563"
     },
     "user_tz": -60
    },
    "id": "DZA8ImjOyKnH"
   },
   "outputs": [],
   "source": [
    "for i in range(len(df_mean)):\n",
    "  df_mean[i] = round(df_mean[i],3)"
   ]
  },
  {
   "cell_type": "code",
   "execution_count": 80,
   "metadata": {
    "executionInfo": {
     "elapsed": 24,
     "status": "ok",
     "timestamp": 1700760204693,
     "user": {
      "displayName": "Ben Joshua Fliegener",
      "userId": "06969016385245233563"
     },
     "user_tz": -60
    },
    "id": "HS_WWMN5xqEc"
   },
   "outputs": [],
   "source": [
    "df_us['U [10^-6V]'] = df_mean\n",
    "df_us['Std U [10^-6V]'] = df_std"
   ]
  },
  {
   "cell_type": "code",
   "execution_count": 81,
   "metadata": {
    "colab": {
     "base_uri": "https://localhost:8080/",
     "height": 244
    },
    "executionInfo": {
     "elapsed": 367,
     "status": "ok",
     "timestamp": 1700760205037,
     "user": {
      "displayName": "Ben Joshua Fliegener",
      "userId": "06969016385245233563"
     },
     "user_tz": -60
    },
    "id": "Ldtf45GEyBiJ",
    "outputId": "3526d50e-a5ca-4f0c-c21d-82a1a7233af3"
   },
   "outputs": [
    {
     "data": {
      "text/html": [
       "<div>\n",
       "<style scoped>\n",
       "    .dataframe tbody tr th:only-of-type {\n",
       "        vertical-align: middle;\n",
       "    }\n",
       "\n",
       "    .dataframe tbody tr th {\n",
       "        vertical-align: top;\n",
       "    }\n",
       "\n",
       "    .dataframe thead th {\n",
       "        text-align: right;\n",
       "    }\n",
       "</style>\n",
       "<table border=\"1\" class=\"dataframe\">\n",
       "  <thead>\n",
       "    <tr style=\"text-align: right;\">\n",
       "      <th></th>\n",
       "      <th>Vs1 [10^-6]</th>\n",
       "      <th>Vs2 [10^-6]</th>\n",
       "      <th>Vs3 [10^-6]</th>\n",
       "      <th>Vs4 [10^-6]</th>\n",
       "      <th>Vs5 [10^-6]</th>\n",
       "      <th>Vs6 [10^-6]</th>\n",
       "      <th>Vs7 [10^-6]</th>\n",
       "      <th>Vs8 [10^-6]</th>\n",
       "      <th>Vs9 [10^-6]</th>\n",
       "      <th>Vs10 [10^-6]</th>\n",
       "      <th>Time</th>\n",
       "      <th>T1 [K]</th>\n",
       "      <th>Sample T [K]</th>\n",
       "      <th>I [mA]</th>\n",
       "      <th>File Number</th>\n",
       "      <th>Wanted T [K]</th>\n",
       "      <th>U [10^-6V]</th>\n",
       "      <th>Std U [10^-6V]</th>\n",
       "    </tr>\n",
       "  </thead>\n",
       "  <tbody>\n",
       "    <tr>\n",
       "      <th>0</th>\n",
       "      <td>5.533440</td>\n",
       "      <td>5.517621</td>\n",
       "      <td>5.531168</td>\n",
       "      <td>5.515758</td>\n",
       "      <td>5.507485</td>\n",
       "      <td>5.514308</td>\n",
       "      <td>5.511925</td>\n",
       "      <td>5.512130</td>\n",
       "      <td>5.520507</td>\n",
       "      <td>5.491035</td>\n",
       "      <td>16:33:52</td>\n",
       "      <td>295.03</td>\n",
       "      <td>295.36</td>\n",
       "      <td>0</td>\n",
       "      <td>1</td>\n",
       "      <td>295</td>\n",
       "      <td>5.516</td>\n",
       "      <td>0.012</td>\n",
       "    </tr>\n",
       "    <tr>\n",
       "      <th>1</th>\n",
       "      <td>5.523303</td>\n",
       "      <td>5.532097</td>\n",
       "      <td>5.508001</td>\n",
       "      <td>5.504897</td>\n",
       "      <td>5.500244</td>\n",
       "      <td>5.513480</td>\n",
       "      <td>5.503651</td>\n",
       "      <td>5.504582</td>\n",
       "      <td>5.525678</td>\n",
       "      <td>5.519991</td>\n",
       "      <td>16:39:15</td>\n",
       "      <td>295.04</td>\n",
       "      <td>295.38</td>\n",
       "      <td>3</td>\n",
       "      <td>1</td>\n",
       "      <td>295</td>\n",
       "      <td>5.514</td>\n",
       "      <td>0.011</td>\n",
       "    </tr>\n",
       "    <tr>\n",
       "      <th>2</th>\n",
       "      <td>5.436539</td>\n",
       "      <td>5.416997</td>\n",
       "      <td>5.399003</td>\n",
       "      <td>5.414929</td>\n",
       "      <td>5.421133</td>\n",
       "      <td>5.425684</td>\n",
       "      <td>5.423714</td>\n",
       "      <td>5.417716</td>\n",
       "      <td>5.428574</td>\n",
       "      <td>5.422059</td>\n",
       "      <td>16:42:36</td>\n",
       "      <td>295.01</td>\n",
       "      <td>295.36</td>\n",
       "      <td>6</td>\n",
       "      <td>1</td>\n",
       "      <td>295</td>\n",
       "      <td>5.421</td>\n",
       "      <td>0.010</td>\n",
       "    </tr>\n",
       "    <tr>\n",
       "      <th>3</th>\n",
       "      <td>5.196105</td>\n",
       "      <td>5.183078</td>\n",
       "      <td>5.197967</td>\n",
       "      <td>5.192589</td>\n",
       "      <td>5.178214</td>\n",
       "      <td>5.182555</td>\n",
       "      <td>5.186998</td>\n",
       "      <td>5.218333</td>\n",
       "      <td>5.206027</td>\n",
       "      <td>5.227640</td>\n",
       "      <td>16:44:53</td>\n",
       "      <td>295.00</td>\n",
       "      <td>295.35</td>\n",
       "      <td>9</td>\n",
       "      <td>1</td>\n",
       "      <td>295</td>\n",
       "      <td>5.197</td>\n",
       "      <td>0.016</td>\n",
       "    </tr>\n",
       "    <tr>\n",
       "      <th>4</th>\n",
       "      <td>5.007058</td>\n",
       "      <td>5.006028</td>\n",
       "      <td>4.977899</td>\n",
       "      <td>4.982552</td>\n",
       "      <td>4.975934</td>\n",
       "      <td>4.972624</td>\n",
       "      <td>4.970242</td>\n",
       "      <td>4.962072</td>\n",
       "      <td>4.962176</td>\n",
       "      <td>4.953801</td>\n",
       "      <td>16:47:00</td>\n",
       "      <td>295.00</td>\n",
       "      <td>295.35</td>\n",
       "      <td>12</td>\n",
       "      <td>1</td>\n",
       "      <td>295</td>\n",
       "      <td>4.977</td>\n",
       "      <td>0.018</td>\n",
       "    </tr>\n",
       "  </tbody>\n",
       "</table>\n",
       "</div>"
      ],
      "text/plain": [
       "   Vs1 [10^-6]  Vs2 [10^-6]  Vs3 [10^-6]  Vs4 [10^-6]  Vs5 [10^-6]  \\\n",
       "0     5.533440     5.517621     5.531168     5.515758     5.507485   \n",
       "1     5.523303     5.532097     5.508001     5.504897     5.500244   \n",
       "2     5.436539     5.416997     5.399003     5.414929     5.421133   \n",
       "3     5.196105     5.183078     5.197967     5.192589     5.178214   \n",
       "4     5.007058     5.006028     4.977899     4.982552     4.975934   \n",
       "\n",
       "   Vs6 [10^-6]  Vs7 [10^-6]  Vs8 [10^-6]  Vs9 [10^-6]  Vs10 [10^-6]      Time  \\\n",
       "0     5.514308     5.511925     5.512130     5.520507      5.491035  16:33:52   \n",
       "1     5.513480     5.503651     5.504582     5.525678      5.519991  16:39:15   \n",
       "2     5.425684     5.423714     5.417716     5.428574      5.422059  16:42:36   \n",
       "3     5.182555     5.186998     5.218333     5.206027      5.227640  16:44:53   \n",
       "4     4.972624     4.970242     4.962072     4.962176      4.953801  16:47:00   \n",
       "\n",
       "   T1 [K]  Sample T [K]  I [mA]  File Number  Wanted T [K]  U [10^-6V]  \\\n",
       "0  295.03        295.36       0            1           295       5.516   \n",
       "1  295.04        295.38       3            1           295       5.514   \n",
       "2  295.01        295.36       6            1           295       5.421   \n",
       "3  295.00        295.35       9            1           295       5.197   \n",
       "4  295.00        295.35      12            1           295       4.977   \n",
       "\n",
       "   Std U [10^-6V]  \n",
       "0           0.012  \n",
       "1           0.011  \n",
       "2           0.010  \n",
       "3           0.016  \n",
       "4           0.018  "
      ]
     },
     "execution_count": 81,
     "metadata": {},
     "output_type": "execute_result"
    }
   ],
   "source": [
    "df_us.head()"
   ]
  },
  {
   "cell_type": "code",
   "execution_count": 82,
   "metadata": {
    "executionInfo": {
     "elapsed": 17,
     "status": "ok",
     "timestamp": 1700760205037,
     "user": {
      "displayName": "Ben Joshua Fliegener",
      "userId": "06969016385245233563"
     },
     "user_tz": -60
    },
    "id": "p9HEu9AxeMWI"
   },
   "outputs": [],
   "source": [
    "I = np.array([0,3,6,9,12,15])"
   ]
  },
  {
   "cell_type": "code",
   "execution_count": 83,
   "metadata": {
    "executionInfo": {
     "elapsed": 17,
     "status": "ok",
     "timestamp": 1700760205038,
     "user": {
      "displayName": "Ben Joshua Fliegener",
      "userId": "06969016385245233563"
     },
     "user_tz": -60
    },
    "id": "hd8SG6gJUGc4"
   },
   "outputs": [],
   "source": [
    "df_us295 = df_us.loc[:5,['I [mA]','Sample T [K]','U [10^-6V]','Std U [10^-6V]']]\n",
    "df_us300 = df_us.loc[6:11,['I [mA]','Sample T [K]','U [10^-6V]','Std U [10^-6V]']]\n"
   ]
  },
  {
   "cell_type": "code",
   "execution_count": 85,
   "metadata": {
    "colab": {
     "base_uri": "https://localhost:8080/",
     "height": 452
    },
    "executionInfo": {
     "elapsed": 1246,
     "status": "ok",
     "timestamp": 1700760206267,
     "user": {
      "displayName": "Ben Joshua Fliegener",
      "userId": "06969016385245233563"
     },
     "user_tz": -60
    },
    "id": "kqDkZOjJymdh",
    "outputId": "2f36be15-49af-4f94-923c-2ae5a453a7ab"
   },
   "outputs": [
    {
     "name": "stderr",
     "output_type": "stream",
     "text": [
      "<>:6: SyntaxWarning: invalid escape sequence '\\m'\n",
      "<>:6: SyntaxWarning: invalid escape sequence '\\m'\n",
      "C:\\Users\\benjf\\AppData\\Local\\Temp\\ipykernel_8572\\2761822393.py:6: SyntaxWarning: invalid escape sequence '\\m'\n",
      "  plt.ylabel('$U_S(I)$ [$\\mu$V]')\n"
     ]
    },
    {
     "data": {
      "image/png": "[encoded data removed]",
      "text/plain": [
       "<Figure size 640x480 with 1 Axes>"
      ]
     },
     "metadata": {},
     "output_type": "display_data"
    }
   ],
   "source": [
    "plt.errorbar(df_us295['I [mA]'],df_us295['U [10^-6V]'],yerr=df_us295['Std U [10^-6V]'],fmt='.',capsize=2,color='orange')\n",
    "plt.errorbar(df_us300['I [mA]'],df_us300['U [10^-6V]'],yerr=df_us300['Std U [10^-6V]'],fmt='.',capsize=2,color='b')\n",
    "plt.xticks([0,5,10,15])\n",
    "plt.yticks([4.5,5,5.5,6])\n",
    "plt.xlabel('$I$ [mA]')\n",
    "plt.ylabel('$U_S(I)$ [$\\mu$V]')\n",
    "# plt.savefig('A1T3-b.png',dpi=600,transparent=True)\n",
    "plt.show()"
   ]
  },
  {
   "cell_type": "markdown",
   "metadata": {
    "id": "wWIhEnA-pYBo"
   },
   "source": [
    "## Teilaufgabe 4"
   ]
  },
  {
   "cell_type": "markdown",
   "metadata": {
    "id": "DuaVeMzi1cDB"
   },
   "source": [
    "### Vorbereitung"
   ]
  },
  {
   "cell_type": "code",
   "execution_count": 87,
   "metadata": {
    "executionInfo": {
     "elapsed": 32,
     "status": "ok",
     "timestamp": 1700760206267,
     "user": {
      "displayName": "Ben Joshua Fliegener",
      "userId": "06969016385245233563"
     },
     "user_tz": -60
    },
    "id": "74Wh4hXDwEn1"
   },
   "outputs": [],
   "source": [
    "d_path = 'Data/'\n",
    "txt_files = sorted([file for file in os.listdir(d_path) if file.endswith('.txt')])\n",
    "# txt_files"
   ]
  },
  {
   "cell_type": "code",
   "execution_count": 90,
   "metadata": {
    "executionInfo": {
     "elapsed": 22,
     "status": "ok",
     "timestamp": 1700760206727,
     "user": {
      "displayName": "Ben Joshua Fliegener",
      "userId": "06969016385245233563"
     },
     "user_tz": -60
    },
    "id": "exuuTvRomqYS"
   },
   "outputs": [],
   "source": [
    "# list for delta T\n",
    "h_lst_295 = []\n",
    "k_lst_295 = []\n",
    "h_lst_300 = []\n",
    "k_lst_300 = []\n",
    "\n",
    "h = '1,8,16,9'\n",
    "k = '15,10,14,11'\n",
    "T295 = '295K'\n",
    "T300 = '300K'\n",
    "\n",
    "for i in range(len(txt_files)):\n",
    "  if T295 in txt_files[i]:\n",
    "    if 'I0' in txt_files[i]:\n",
    "      pass\n",
    "    else:\n",
    "      if 'Zusammenfassung' in txt_files[i]:\n",
    "        pass\n",
    "      else:\n",
    "        if h in txt_files[i]:\n",
    "          h_lst_295.append(sbk.lst_of_rs(d_path + txt_files[i],T295,h)[0])\n",
    "        elif k in txt_files[i]:\n",
    "          k_lst_295.append(sbk.lst_of_rs(d_path + txt_files[i],T295,k)[0])\n",
    "  elif T300 in txt_files[i]:\n",
    "    if 'I0' in txt_files[i]:\n",
    "      pass\n",
    "    else:\n",
    "      if 'Zusammenfassung' in txt_files[i]:\n",
    "        pass\n",
    "      else:\n",
    "        if h in txt_files[i]:\n",
    "          h_lst_300.append(sbk.lst_of_rs(d_path + txt_files[i],T300,h)[0])\n",
    "        elif k in txt_files[i]:\n",
    "          k_lst_300.append(sbk.lst_of_rs(d_path + txt_files[i],T300,k)[0])"
   ]
  },
  {
   "cell_type": "code",
   "execution_count": 91,
   "metadata": {
    "colab": {
     "base_uri": "https://localhost:8080/"
    },
    "executionInfo": {
     "elapsed": 23,
     "status": "ok",
     "timestamp": 1700760206729,
     "user": {
      "displayName": "Ben Joshua Fliegener",
      "userId": "06969016385245233563"
     },
     "user_tz": -60
    },
    "id": "yat9ICgkqGbo",
    "outputId": "e547aae7-08e5-425b-ab6c-8e06abc3bd84"
   },
   "outputs": [
    {
     "name": "stdout",
     "output_type": "stream",
     "text": [
      "5\n",
      "5\n",
      "5\n",
      "5\n"
     ]
    }
   ],
   "source": [
    "print(len(h_lst_295))\n",
    "print(len(k_lst_295))\n",
    "print(len(k_lst_300))\n",
    "print(len(h_lst_300))"
   ]
  },
  {
   "cell_type": "code",
   "execution_count": 92,
   "metadata": {
    "colab": {
     "base_uri": "https://localhost:8080/",
     "height": 206
    },
    "executionInfo": {
     "elapsed": 400,
     "status": "ok",
     "timestamp": 1700760207110,
     "user": {
      "displayName": "Ben Joshua Fliegener",
      "userId": "06969016385245233563"
     },
     "user_tz": -60
    },
    "id": "mz6jwMUyqUYw",
    "outputId": "5ec1d823-65f1-440b-97ae-39d423e912a6"
   },
   "outputs": [
    {
     "data": {
      "text/html": [
       "<div>\n",
       "<style scoped>\n",
       "    .dataframe tbody tr th:only-of-type {\n",
       "        vertical-align: middle;\n",
       "    }\n",
       "\n",
       "    .dataframe tbody tr th {\n",
       "        vertical-align: top;\n",
       "    }\n",
       "\n",
       "    .dataframe thead th {\n",
       "        text-align: right;\n",
       "    }\n",
       "</style>\n",
       "<table border=\"1\" class=\"dataframe\">\n",
       "  <thead>\n",
       "    <tr style=\"text-align: right;\">\n",
       "      <th></th>\n",
       "      <th>I [microA]</th>\n",
       "      <th>U [microV]</th>\n",
       "      <th>P [W]</th>\n",
       "      <th>Resistance</th>\n",
       "      <th>SD [s]</th>\n",
       "      <th>VL [V]</th>\n",
       "    </tr>\n",
       "  </thead>\n",
       "  <tbody>\n",
       "    <tr>\n",
       "      <th>1</th>\n",
       "      <td>0.0</td>\n",
       "      <td>5.753444</td>\n",
       "      <td>0.000000e+00</td>\n",
       "      <td>0.00000</td>\n",
       "      <td>5.00</td>\n",
       "      <td>1.0</td>\n",
       "    </tr>\n",
       "    <tr>\n",
       "      <th>2</th>\n",
       "      <td>0.0</td>\n",
       "      <td>5.740521</td>\n",
       "      <td>0.000000e+00</td>\n",
       "      <td>0.00000</td>\n",
       "      <td>1.00</td>\n",
       "      <td>1.0</td>\n",
       "    </tr>\n",
       "    <tr>\n",
       "      <th>3</th>\n",
       "      <td>0.1</td>\n",
       "      <td>6.768974</td>\n",
       "      <td>6.768974e-13</td>\n",
       "      <td>67.68974</td>\n",
       "      <td>0.01</td>\n",
       "      <td>1.0</td>\n",
       "    </tr>\n",
       "    <tr>\n",
       "      <th>4</th>\n",
       "      <td>0.2</td>\n",
       "      <td>7.785017</td>\n",
       "      <td>1.557003e-12</td>\n",
       "      <td>38.92508</td>\n",
       "      <td>0.01</td>\n",
       "      <td>1.0</td>\n",
       "    </tr>\n",
       "    <tr>\n",
       "      <th>5</th>\n",
       "      <td>0.3</td>\n",
       "      <td>8.792269</td>\n",
       "      <td>2.637681e-12</td>\n",
       "      <td>29.30756</td>\n",
       "      <td>0.01</td>\n",
       "      <td>1.0</td>\n",
       "    </tr>\n",
       "  </tbody>\n",
       "</table>\n",
       "</div>"
      ],
      "text/plain": [
       "   I [microA]  U [microV]         P [W]  Resistance  SD [s]  VL [V]\n",
       "1         0.0    5.753444  0.000000e+00     0.00000    5.00     1.0\n",
       "2         0.0    5.740521  0.000000e+00     0.00000    1.00     1.0\n",
       "3         0.1    6.768974  6.768974e-13    67.68974    0.01     1.0\n",
       "4         0.2    7.785017  1.557003e-12    38.92508    0.01     1.0\n",
       "5         0.3    8.792269  2.637681e-12    29.30756    0.01     1.0"
      ]
     },
     "execution_count": 92,
     "metadata": {},
     "output_type": "execute_result"
    }
   ],
   "source": [
    "h_lst_295[0][0].head()"
   ]
  },
  {
   "cell_type": "code",
   "execution_count": 93,
   "metadata": {
    "executionInfo": {
     "elapsed": 23,
     "status": "ok",
     "timestamp": 1700760207110,
     "user": {
      "displayName": "Ben Joshua Fliegener",
      "userId": "06969016385245233563"
     },
     "user_tz": -60
    },
    "id": "jpXk-hN1wuiJ"
   },
   "outputs": [
    {
     "name": "stderr",
     "output_type": "stream",
     "text": [
      "C:\\Users\\benjf\\AppData\\Local\\Temp\\ipykernel_8572\\1581664312.py:17: FutureWarning: Series.__getitem__ treating keys as positions is deprecated. In a future version, integer keys will always be treated as labels (consistent with DataFrame behavior). To access a value by position, use `ser.iloc[pos]`\n",
      "  a300k_err = ufloat(m_300k.params[1],m_300k.bse[1])\n",
      "C:\\Users\\benjf\\AppData\\Local\\Temp\\ipykernel_8572\\1581664312.py:20: FutureWarning: Series.__getitem__ treating keys as positions is deprecated. In a future version, integer keys will always be treated as labels (consistent with DataFrame behavior). To access a value by position, use `ser.iloc[pos]`\n",
      "  a300h_err = ufloat(m_300h.params[1],m_300h.bse[1])\n",
      "C:\\Users\\benjf\\AppData\\Local\\Temp\\ipykernel_8572\\1581664312.py:23: FutureWarning: Series.__getitem__ treating keys as positions is deprecated. In a future version, integer keys will always be treated as labels (consistent with DataFrame behavior). To access a value by position, use `ser.iloc[pos]`\n",
      "  a295k_err = ufloat(m_295k.params[1],m_295k.bse[1])\n",
      "C:\\Users\\benjf\\AppData\\Local\\Temp\\ipykernel_8572\\1581664312.py:26: FutureWarning: Series.__getitem__ treating keys as positions is deprecated. In a future version, integer keys will always be treated as labels (consistent with DataFrame behavior). To access a value by position, use `ser.iloc[pos]`\n",
      "  a295h_err = ufloat(m_295h.params[1],m_295h.bse[1])\n",
      "C:\\Users\\benjf\\AppData\\Local\\Temp\\ipykernel_8572\\1581664312.py:17: FutureWarning: Series.__getitem__ treating keys as positions is deprecated. In a future version, integer keys will always be treated as labels (consistent with DataFrame behavior). To access a value by position, use `ser.iloc[pos]`\n",
      "  a300k_err = ufloat(m_300k.params[1],m_300k.bse[1])\n",
      "C:\\Users\\benjf\\AppData\\Local\\Temp\\ipykernel_8572\\1581664312.py:20: FutureWarning: Series.__getitem__ treating keys as positions is deprecated. In a future version, integer keys will always be treated as labels (consistent with DataFrame behavior). To access a value by position, use `ser.iloc[pos]`\n",
      "  a300h_err = ufloat(m_300h.params[1],m_300h.bse[1])\n",
      "C:\\Users\\benjf\\AppData\\Local\\Temp\\ipykernel_8572\\1581664312.py:23: FutureWarning: Series.__getitem__ treating keys as positions is deprecated. In a future version, integer keys will always be treated as labels (consistent with DataFrame behavior). To access a value by position, use `ser.iloc[pos]`\n",
      "  a295k_err = ufloat(m_295k.params[1],m_295k.bse[1])\n",
      "C:\\Users\\benjf\\AppData\\Local\\Temp\\ipykernel_8572\\1581664312.py:26: FutureWarning: Series.__getitem__ treating keys as positions is deprecated. In a future version, integer keys will always be treated as labels (consistent with DataFrame behavior). To access a value by position, use `ser.iloc[pos]`\n",
      "  a295h_err = ufloat(m_295h.params[1],m_295h.bse[1])\n",
      "C:\\Users\\benjf\\AppData\\Local\\Temp\\ipykernel_8572\\1581664312.py:17: FutureWarning: Series.__getitem__ treating keys as positions is deprecated. In a future version, integer keys will always be treated as labels (consistent with DataFrame behavior). To access a value by position, use `ser.iloc[pos]`\n",
      "  a300k_err = ufloat(m_300k.params[1],m_300k.bse[1])\n",
      "C:\\Users\\benjf\\AppData\\Local\\Temp\\ipykernel_8572\\1581664312.py:20: FutureWarning: Series.__getitem__ treating keys as positions is deprecated. In a future version, integer keys will always be treated as labels (consistent with DataFrame behavior). To access a value by position, use `ser.iloc[pos]`\n",
      "  a300h_err = ufloat(m_300h.params[1],m_300h.bse[1])\n",
      "C:\\Users\\benjf\\AppData\\Local\\Temp\\ipykernel_8572\\1581664312.py:23: FutureWarning: Series.__getitem__ treating keys as positions is deprecated. In a future version, integer keys will always be treated as labels (consistent with DataFrame behavior). To access a value by position, use `ser.iloc[pos]`\n",
      "  a295k_err = ufloat(m_295k.params[1],m_295k.bse[1])\n",
      "C:\\Users\\benjf\\AppData\\Local\\Temp\\ipykernel_8572\\1581664312.py:26: FutureWarning: Series.__getitem__ treating keys as positions is deprecated. In a future version, integer keys will always be treated as labels (consistent with DataFrame behavior). To access a value by position, use `ser.iloc[pos]`\n",
      "  a295h_err = ufloat(m_295h.params[1],m_295h.bse[1])\n",
      "C:\\Users\\benjf\\AppData\\Local\\Temp\\ipykernel_8572\\1581664312.py:17: FutureWarning: Series.__getitem__ treating keys as positions is deprecated. In a future version, integer keys will always be treated as labels (consistent with DataFrame behavior). To access a value by position, use `ser.iloc[pos]`\n",
      "  a300k_err = ufloat(m_300k.params[1],m_300k.bse[1])\n",
      "C:\\Users\\benjf\\AppData\\Local\\Temp\\ipykernel_8572\\1581664312.py:20: FutureWarning: Series.__getitem__ treating keys as positions is deprecated. In a future version, integer keys will always be treated as labels (consistent with DataFrame behavior). To access a value by position, use `ser.iloc[pos]`\n",
      "  a300h_err = ufloat(m_300h.params[1],m_300h.bse[1])\n",
      "C:\\Users\\benjf\\AppData\\Local\\Temp\\ipykernel_8572\\1581664312.py:23: FutureWarning: Series.__getitem__ treating keys as positions is deprecated. In a future version, integer keys will always be treated as labels (consistent with DataFrame behavior). To access a value by position, use `ser.iloc[pos]`\n",
      "  a295k_err = ufloat(m_295k.params[1],m_295k.bse[1])\n",
      "C:\\Users\\benjf\\AppData\\Local\\Temp\\ipykernel_8572\\1581664312.py:26: FutureWarning: Series.__getitem__ treating keys as positions is deprecated. In a future version, integer keys will always be treated as labels (consistent with DataFrame behavior). To access a value by position, use `ser.iloc[pos]`\n",
      "  a295h_err = ufloat(m_295h.params[1],m_295h.bse[1])\n",
      "C:\\Users\\benjf\\AppData\\Local\\Temp\\ipykernel_8572\\1581664312.py:17: FutureWarning: Series.__getitem__ treating keys as positions is deprecated. In a future version, integer keys will always be treated as labels (consistent with DataFrame behavior). To access a value by position, use `ser.iloc[pos]`\n",
      "  a300k_err = ufloat(m_300k.params[1],m_300k.bse[1])\n",
      "C:\\Users\\benjf\\AppData\\Local\\Temp\\ipykernel_8572\\1581664312.py:20: FutureWarning: Series.__getitem__ treating keys as positions is deprecated. In a future version, integer keys will always be treated as labels (consistent with DataFrame behavior). To access a value by position, use `ser.iloc[pos]`\n",
      "  a300h_err = ufloat(m_300h.params[1],m_300h.bse[1])\n",
      "C:\\Users\\benjf\\AppData\\Local\\Temp\\ipykernel_8572\\1581664312.py:23: FutureWarning: Series.__getitem__ treating keys as positions is deprecated. In a future version, integer keys will always be treated as labels (consistent with DataFrame behavior). To access a value by position, use `ser.iloc[pos]`\n",
      "  a295k_err = ufloat(m_295k.params[1],m_295k.bse[1])\n",
      "C:\\Users\\benjf\\AppData\\Local\\Temp\\ipykernel_8572\\1581664312.py:26: FutureWarning: Series.__getitem__ treating keys as positions is deprecated. In a future version, integer keys will always be treated as labels (consistent with DataFrame behavior). To access a value by position, use `ser.iloc[pos]`\n",
      "  a295h_err = ufloat(m_295h.params[1],m_295h.bse[1])\n"
     ]
    }
   ],
   "source": [
    "r_h_300 = []\n",
    "r_k_300 = []\n",
    "r_h_295 = []\n",
    "r_k_295 = []\n",
    "\n",
    "for i in range(5):\n",
    "  x_300k = sm.add_constant(k_lst_300[i][0]['I [microA]'])\n",
    "  x_295k = sm.add_constant(k_lst_295[i][0]['I [microA]'])\n",
    "  x_300h = sm.add_constant(h_lst_300[i][0]['I [microA]'])\n",
    "  x_295h = sm.add_constant(h_lst_295[i][0]['I [microA]'])\n",
    "\n",
    "  m_300k = sm.OLS(k_lst_300[i][0]['U [microV]'],x_300k).fit()\n",
    "  m_295k = sm.OLS(k_lst_295[i][0]['U [microV]'],x_295k).fit()\n",
    "  m_300h = sm.OLS(h_lst_300[i][0]['U [microV]'],x_300h).fit()\n",
    "  m_295h = sm.OLS(h_lst_295[i][0]['U [microV]'],x_295h).fit()\n",
    "\n",
    "  a300k_err = ufloat(m_300k.params[1],m_300k.bse[1])\n",
    "  r_k_300.append(a300k_err)\n",
    "\n",
    "  a300h_err = ufloat(m_300h.params[1],m_300h.bse[1])\n",
    "  r_h_300.append(a300h_err)\n",
    "\n",
    "  a295k_err = ufloat(m_295k.params[1],m_295k.bse[1])\n",
    "  r_k_295.append(a295k_err)\n",
    "\n",
    "  a295h_err = ufloat(m_295h.params[1],m_295h.bse[1])\n",
    "  r_h_295.append(a295h_err)"
   ]
  },
  {
   "cell_type": "code",
   "execution_count": 94,
   "metadata": {
    "colab": {
     "base_uri": "https://localhost:8080/"
    },
    "executionInfo": {
     "elapsed": 21,
     "status": "ok",
     "timestamp": 1700760207110,
     "user": {
      "displayName": "Ben Joshua Fliegener",
      "userId": "06969016385245233563"
     },
     "user_tz": -60
    },
    "id": "GXND4mCTzzpL",
    "outputId": "b69a7855-3ec9-4814-eb9d-7cfa7ac79daf"
   },
   "outputs": [
    {
     "name": "stdout",
     "output_type": "stream",
     "text": [
      "10.1375+/-0.0005\n"
     ]
    }
   ],
   "source": [
    "print(r_h_295[1])"
   ]
  },
  {
   "cell_type": "markdown",
   "metadata": {
    "id": "xsnb4khyj9TE"
   },
   "source": [
    "### Thermospannung\n",
    "Thermospannung US;Au,Pt($\\delta T$) in Abhängigkeit des Temperaturgradienten für\n",
    "alle vier Temperaturen"
   ]
  },
  {
   "cell_type": "markdown",
   "metadata": {
    "id": "B3yeWCky0APQ"
   },
   "source": [
    "$$ \\delta T = \\Delta T_{heiß} - \\Delta T_{kalt}\\\\ \\Delta T_i = \\frac{R(P)-R(P=0)}{dR(P=0)/dT_i},\\; \\forall i \\in \\left\\lbrace heiß,kalt\\right\\rbrace $$\n",
    "\n",
    "- die $R(P)$ sind bspw. in r_h_295\n",
    "- $dR(P=0)/dT_{heiß}$"
   ]
  },
  {
   "cell_type": "code",
   "execution_count": 95,
   "metadata": {
    "colab": {
     "base_uri": "https://localhost:8080/"
    },
    "executionInfo": {
     "elapsed": 1303,
     "status": "ok",
     "timestamp": 1700760208394,
     "user": {
      "displayName": "Ben Joshua Fliegener",
      "userId": "06969016385245233563"
     },
     "user_tz": -60
    },
    "id": "995dI_v40zif",
    "outputId": "3f388f21-c743-4087-8be9-5d408bc6f1fe"
   },
   "outputs": [
    {
     "name": "stdout",
     "output_type": "stream",
     "text": [
      "0.01691+/-0.00015\n",
      "0.02122+/-0.00021\n"
     ]
    }
   ],
   "source": [
    "print(dRk_dT_err)\n",
    "print(dRh_dT_err)"
   ]
  },
  {
   "cell_type": "code",
   "execution_count": 96,
   "metadata": {
    "colab": {
     "base_uri": "https://localhost:8080/"
    },
    "executionInfo": {
     "elapsed": 86,
     "status": "ok",
     "timestamp": 1700760208395,
     "user": {
      "displayName": "Ben Joshua Fliegener",
      "userId": "06969016385245233563"
     },
     "user_tz": -60
    },
    "id": "zPwllzAW2Xjd",
    "outputId": "1ffccd4a-4013-4a33-870d-1933f623ae25"
   },
   "outputs": [
    {
     "name": "stdout",
     "output_type": "stream",
     "text": [
      "7.31476+/-0.00035\n",
      "7.3985+/-0.0004\n"
     ]
    }
   ],
   "source": [
    "print(a_295_err1)\n",
    "print(a_300_err1)"
   ]
  },
  {
   "cell_type": "markdown",
   "metadata": {
    "id": "QpSU3nN82vrD"
   },
   "source": [
    "#### $\\delta T_{295}$"
   ]
  },
  {
   "cell_type": "code",
   "execution_count": 97,
   "metadata": {
    "colab": {
     "base_uri": "https://localhost:8080/"
    },
    "executionInfo": {
     "elapsed": 73,
     "status": "ok",
     "timestamp": 1700760208395,
     "user": {
      "displayName": "Ben Joshua Fliegener",
      "userId": "06969016385245233563"
     },
     "user_tz": -60
    },
    "id": "N95CTauJ26cz",
    "outputId": "9f8c7372-c7c2-4271-e9e8-1b7df41dabb4"
   },
   "outputs": [
    {
     "data": {
      "text/plain": [
       "[10.123769682988229+/-0.0005156499209786695,\n",
       " 10.137488929420888+/-0.0004998099859425305,\n",
       " 10.16375710396413+/-0.00047012341848341873,\n",
       " 10.203988748340903+/-0.0004458111759213752,\n",
       " 10.254224930358399+/-0.0005183882873186266]"
      ]
     },
     "execution_count": 97,
     "metadata": {},
     "output_type": "execute_result"
    }
   ],
   "source": [
    "r_h_295"
   ]
  },
  {
   "cell_type": "code",
   "execution_count": 98,
   "metadata": {
    "colab": {
     "base_uri": "https://localhost:8080/"
    },
    "executionInfo": {
     "elapsed": 65,
     "status": "ok",
     "timestamp": 1700760208396,
     "user": {
      "displayName": "Ben Joshua Fliegener",
      "userId": "06969016385245233563"
     },
     "user_tz": -60
    },
    "id": "U91HWmD63B3M",
    "outputId": "9864aebd-1673-4b2b-eeb8-ba25a9425dcc"
   },
   "outputs": [
    {
     "data": {
      "text/plain": [
       "[7.323551598678629+/-0.0003058740294660931,\n",
       " 7.322688714649543+/-0.00024588472741489013,\n",
       " 7.322514787362053+/-0.0002606304610375017,\n",
       " 7.326101749643824+/-0.0003109997066363446,\n",
       " 7.333262255807776+/-0.0002910702687262452]"
      ]
     },
     "execution_count": 98,
     "metadata": {},
     "output_type": "execute_result"
    }
   ],
   "source": [
    "r_k_295"
   ]
  },
  {
   "cell_type": "code",
   "execution_count": 99,
   "metadata": {
    "colab": {
     "base_uri": "https://localhost:8080/"
    },
    "executionInfo": {
     "elapsed": 61,
     "status": "ok",
     "timestamp": 1700760208396,
     "user": {
      "displayName": "Ben Joshua Fliegener",
      "userId": "06969016385245233563"
     },
     "user_tz": -60
    },
    "id": "ISfKpDjd3MLn",
    "outputId": "3c3b7077-076f-484a-b872-290b641dbe83"
   },
   "outputs": [
    {
     "name": "stdout",
     "output_type": "stream",
     "text": [
      "0.0088+/-0.0005\n",
      "2.8090+/-0.0006 \n",
      "\n",
      "0.0079+/-0.0004\n",
      "2.8227+/-0.0006 \n",
      "\n",
      "0.0077+/-0.0004\n",
      "2.8490+/-0.0006 \n",
      "\n",
      "0.0113+/-0.0005\n",
      "2.8892+/-0.0006 \n",
      "\n",
      "0.0185+/-0.0005\n",
      "2.9395+/-0.0006 \n",
      "\n",
      "[0.5196122797052017+/-0.028041435738943642, 0.46858424723416764+/-0.025818605447188562, 0.4582987778379199+/-0.026305325538226728, 0.6704195514494529+/-0.028486857536315743, 1.0938675800687527+/-0.02878061737268555]\n"
     ]
    },
    {
     "data": {
      "text/plain": [
       "[132.3753406201421+/-1.3103607568616429,\n",
       " 133.0218649572137+/-1.3167437965701356,\n",
       " 134.25976196679156+/-1.3289674529695028,\n",
       " 136.15569242752542+/-1.347707820480724,\n",
       " 138.52309026058367+/-1.371188466319668]"
      ]
     },
     "execution_count": 99,
     "metadata": {},
     "output_type": "execute_result"
    }
   ],
   "source": [
    "Delta_k295 = []\n",
    "Delta_h295 = []\n",
    "for i in range(5):\n",
    "  x = (r_k_295[i]-a_295_err1)/dRk_dT_err\n",
    "  print(r_k_295[i]-a_295_err1)\n",
    "  x1 = (r_h_295[i]-a_295_err1)/dRh_dT_err\n",
    "  print(r_h_295[i]-a_295_err1,'\\n')\n",
    "  Delta_k295.append(x)\n",
    "  Delta_h295.append(x1)\n",
    "print(Delta_k295)\n",
    "Delta_h295"
   ]
  },
  {
   "cell_type": "code",
   "execution_count": 100,
   "metadata": {
    "executionInfo": {
     "elapsed": 55,
     "status": "ok",
     "timestamp": 1700760208396,
     "user": {
      "displayName": "Ben Joshua Fliegener",
      "userId": "06969016385245233563"
     },
     "user_tz": -60
    },
    "id": "b0rEjSI_4P_D"
   },
   "outputs": [],
   "source": [
    "delta_295 = []\n",
    "for i in range(5):\n",
    "  x = Delta_h295[i]-Delta_k295[i]\n",
    "  delta_295.append(x)"
   ]
  },
  {
   "cell_type": "code",
   "execution_count": 101,
   "metadata": {
    "colab": {
     "base_uri": "https://localhost:8080/"
    },
    "executionInfo": {
     "elapsed": 55,
     "status": "ok",
     "timestamp": 1700760208397,
     "user": {
      "displayName": "Ben Joshua Fliegener",
      "userId": "06969016385245233563"
     },
     "user_tz": -60
    },
    "id": "Yygx8DY25VdG",
    "outputId": "2c73fb03-419a-40ce-96a7-2eb82ff1c84f"
   },
   "outputs": [
    {
     "data": {
      "text/plain": [
       "[131.8557283404369+/-1.3103944967488337,\n",
       " 132.55328070997953+/-1.3167319119932814,\n",
       " 133.80146318895365+/-1.3289652226722224,\n",
       " 135.48527287607598+/-1.3477499665388635,\n",
       " 137.42922268051493+/-1.3712360248960596]"
      ]
     },
     "execution_count": 101,
     "metadata": {},
     "output_type": "execute_result"
    }
   ],
   "source": [
    "delta_295"
   ]
  },
  {
   "cell_type": "markdown",
   "metadata": {
    "id": "jq5BHSBd20jW"
   },
   "source": [
    "#### $\\delta T_{300}$"
   ]
  },
  {
   "cell_type": "code",
   "execution_count": 102,
   "metadata": {
    "colab": {
     "base_uri": "https://localhost:8080/"
    },
    "executionInfo": {
     "elapsed": 48,
     "status": "ok",
     "timestamp": 1700760208397,
     "user": {
      "displayName": "Ben Joshua Fliegener",
      "userId": "06969016385245233563"
     },
     "user_tz": -60
    },
    "id": "YaxcKHO425Pd",
    "outputId": "f5ea7d0c-5192-462d-e311-5990d5dc47f1"
   },
   "outputs": [
    {
     "name": "stdout",
     "output_type": "stream",
     "text": [
      "[0.027387477788805344+/-0.0261634444482216, 0.0475141261210408+/-0.02706233204379394, 0.26371574743706466+/-0.027447614080878507, 0.4806247923342918+/-0.02565097785398785, 0.7867716558121653+/-0.02977886019231711]\n"
     ]
    },
    {
     "data": {
      "text/plain": [
       "[133.3339085444325+/-1.3198231409435197,\n",
       " 134.22699214539745+/-1.3286810086421226,\n",
       " 135.49739904211538+/-1.3412060976556137,\n",
       " 137.4173988467818+/-1.3602426433603747,\n",
       " 139.71940577648544+/-1.3830530721587428]"
      ]
     },
     "execution_count": 102,
     "metadata": {},
     "output_type": "execute_result"
    }
   ],
   "source": [
    "Delta_k300 = []\n",
    "Delta_h300 = []\n",
    "delta_300 = []\n",
    "for i in range(5):\n",
    "  x = (r_k_300[i]-a_300_err1)/dRk_dT_err\n",
    "  # print(r_k_300[i]-a_300_err1)\n",
    "  x1 = (r_h_300[i]-a_300_err1)/dRh_dT_err\n",
    "  # print(r_h_300[i]-a_300_err1,'\\n')\n",
    "  x2 = x1-x\n",
    "  Delta_k300.append(x)\n",
    "  Delta_h300.append(x1)\n",
    "  delta_300.append(x2)\n",
    "print(Delta_k300)\n",
    "Delta_h300"
   ]
  },
  {
   "cell_type": "code",
   "execution_count": 103,
   "metadata": {
    "colab": {
     "base_uri": "https://localhost:8080/"
    },
    "executionInfo": {
     "elapsed": 42,
     "status": "ok",
     "timestamp": 1700760208397,
     "user": {
      "displayName": "Ben Joshua Fliegener",
      "userId": "06969016385245233563"
     },
     "user_tz": -60
    },
    "id": "jaitJ4mU56rt",
    "outputId": "993ecd4d-e03a-4c6d-91bd-6a142ddc0f09"
   },
   "outputs": [
    {
     "name": "stdout",
     "output_type": "stream",
     "text": [
      "133.30652106664368\n",
      "1.3198083118390673\n"
     ]
    }
   ],
   "source": [
    "print(delta_300[0].n)\n",
    "print(delta_300[0].s)"
   ]
  },
  {
   "cell_type": "markdown",
   "metadata": {
    "id": "mb-AbvSFzW75"
   },
   "source": [
    "### Regression:"
   ]
  },
  {
   "cell_type": "code",
   "execution_count": 104,
   "metadata": {
    "executionInfo": {
     "elapsed": 40,
     "status": "ok",
     "timestamp": 1700760208397,
     "user": {
      "displayName": "Ben Joshua Fliegener",
      "userId": "06969016385245233563"
     },
     "user_tz": -60
    },
    "id": "cg0H-uSIz43G"
   },
   "outputs": [],
   "source": [
    "x = np.linspace(130,140,1000)\n",
    "y = np.linspace(5,6,1000)"
   ]
  },
  {
   "cell_type": "code",
   "execution_count": 105,
   "metadata": {
    "colab": {
     "base_uri": "https://localhost:8080/"
    },
    "executionInfo": {
     "elapsed": 40,
     "status": "ok",
     "timestamp": 1700760208398,
     "user": {
      "displayName": "Ben Joshua Fliegener",
      "userId": "06969016385245233563"
     },
     "user_tz": -60
    },
    "id": "MoboNfiWzafU",
    "outputId": "60ef78fb-55c1-4895-e3f1-4f7eecb52099"
   },
   "outputs": [
    {
     "name": "stdout",
     "output_type": "stream",
     "text": [
      "5\n",
      "5\n"
     ]
    }
   ],
   "source": [
    "y_us295 = df_us.loc[1:5,['U [10^-6V]']]\n",
    "u_y_us295 = df_us.loc[1:5,['Std U [10^-6V]']]\n",
    "y_us300 = df_us.loc[7:11,['U [10^-6V]']]\n",
    "u_y_us300 = df_us.loc[7:11,['Std U [10^-6V]']]\n",
    "print(len(y_us295))\n",
    "print(len(y_us300))"
   ]
  },
  {
   "cell_type": "code",
   "execution_count": 106,
   "metadata": {
    "colab": {
     "base_uri": "https://localhost:8080/",
     "height": 206
    },
    "executionInfo": {
     "elapsed": 38,
     "status": "ok",
     "timestamp": 1700760208398,
     "user": {
      "displayName": "Ben Joshua Fliegener",
      "userId": "06969016385245233563"
     },
     "user_tz": -60
    },
    "id": "vWZdiRwu2bPj",
    "outputId": "fa481f3c-3876-4e33-d049-61ab364db389"
   },
   "outputs": [
    {
     "data": {
      "text/html": [
       "<div>\n",
       "<style scoped>\n",
       "    .dataframe tbody tr th:only-of-type {\n",
       "        vertical-align: middle;\n",
       "    }\n",
       "\n",
       "    .dataframe tbody tr th {\n",
       "        vertical-align: top;\n",
       "    }\n",
       "\n",
       "    .dataframe thead th {\n",
       "        text-align: right;\n",
       "    }\n",
       "</style>\n",
       "<table border=\"1\" class=\"dataframe\">\n",
       "  <thead>\n",
       "    <tr style=\"text-align: right;\">\n",
       "      <th></th>\n",
       "      <th>Std U [10^-6V]</th>\n",
       "    </tr>\n",
       "  </thead>\n",
       "  <tbody>\n",
       "    <tr>\n",
       "      <th>7</th>\n",
       "      <td>0.030</td>\n",
       "    </tr>\n",
       "    <tr>\n",
       "      <th>8</th>\n",
       "      <td>0.040</td>\n",
       "    </tr>\n",
       "    <tr>\n",
       "      <th>9</th>\n",
       "      <td>0.020</td>\n",
       "    </tr>\n",
       "    <tr>\n",
       "      <th>10</th>\n",
       "      <td>0.030</td>\n",
       "    </tr>\n",
       "    <tr>\n",
       "      <th>11</th>\n",
       "      <td>0.009</td>\n",
       "    </tr>\n",
       "  </tbody>\n",
       "</table>\n",
       "</div>"
      ],
      "text/plain": [
       "    Std U [10^-6V]\n",
       "7            0.030\n",
       "8            0.040\n",
       "9            0.020\n",
       "10           0.030\n",
       "11           0.009"
      ]
     },
     "execution_count": 106,
     "metadata": {},
     "output_type": "execute_result"
    }
   ],
   "source": [
    "u_y_us300#['Std U [10^-6V]']"
   ]
  },
  {
   "cell_type": "code",
   "execution_count": 107,
   "metadata": {
    "executionInfo": {
     "elapsed": 35,
     "status": "ok",
     "timestamp": 1700760208398,
     "user": {
      "displayName": "Ben Joshua Fliegener",
      "userId": "06969016385245233563"
     },
     "user_tz": -60
    },
    "id": "RLK7Gt7g03S-"
   },
   "outputs": [],
   "source": [
    "u295 = []\n",
    "u300 = []\n",
    "x295 = []\n",
    "x300 = []\n",
    "for i in range(5):\n",
    "  u300.append(round(delta_300[i].s,1))\n",
    "  x300.append(round(delta_300[i].n,1))\n",
    "  u295.append(round(delta_295[i].s,1))\n",
    "  x295.append(round(delta_295[i].n,1))"
   ]
  },
  {
   "cell_type": "code",
   "execution_count": 108,
   "metadata": {
    "colab": {
     "base_uri": "https://localhost:8080/"
    },
    "executionInfo": {
     "elapsed": 35,
     "status": "ok",
     "timestamp": 1700760208399,
     "user": {
      "displayName": "Ben Joshua Fliegener",
      "userId": "06969016385245233563"
     },
     "user_tz": -60
    },
    "id": "7y1mSWr31zn8",
    "outputId": "c7bf83d4-7412-4569-a0ac-66bcd7e63b15"
   },
   "outputs": [
    {
     "data": {
      "text/plain": [
       "[131.9, 132.6, 133.8, 135.5, 137.4]"
      ]
     },
     "execution_count": 108,
     "metadata": {},
     "output_type": "execute_result"
    }
   ],
   "source": [
    "x295"
   ]
  },
  {
   "cell_type": "code",
   "execution_count": 109,
   "metadata": {
    "executionInfo": {
     "elapsed": 842,
     "status": "ok",
     "timestamp": 1700760209210,
     "user": {
      "displayName": "Ben Joshua Fliegener",
      "userId": "06969016385245233563"
     },
     "user_tz": -60
    },
    "id": "kU1pW7-l9SUU"
   },
   "outputs": [],
   "source": [
    "X295 = sm.add_constant(x295)\n",
    "X300 = sm.add_constant(x300)\n",
    "m295 = sm.WLS(y_us295['U [10^-6V]'],X295,weights=u_y_us295)\n",
    "m300 = sm.WLS(y_us300['U [10^-6V]'],X300,weights=u_y_us300)\n",
    "r295 = m295.fit()\n",
    "r300 = m300.fit()"
   ]
  },
  {
   "cell_type": "code",
   "execution_count": 110,
   "metadata": {
    "colab": {
     "base_uri": "https://localhost:8080/"
    },
    "executionInfo": {
     "elapsed": 47,
     "status": "ok",
     "timestamp": 1700760209211,
     "user": {
      "displayName": "Ben Joshua Fliegener",
      "userId": "06969016385245233563"
     },
     "user_tz": -60
    },
    "id": "CME8ewfy-iXh",
    "outputId": "50d5d3ca-5f4e-485e-fbc7-b32c82dbabf0"
   },
   "outputs": [
    {
     "name": "stdout",
     "output_type": "stream",
     "text": [
      "                            WLS Regression Results                            \n",
      "==============================================================================\n",
      "Dep. Variable:             U [10^-6V]   R-squared:                       0.992\n",
      "Model:                            WLS   Adj. R-squared:                  0.990\n",
      "Method:                 Least Squares   F-statistic:                     378.7\n",
      "Date:                Thu, 27 Feb 2025   Prob (F-statistic):           0.000296\n",
      "Time:                        10:52:47   Log-Likelihood:                 11.057\n",
      "No. Observations:                   5   AIC:                            -18.11\n",
      "Df Residuals:                       3   BIC:                            -18.89\n",
      "Df Model:                           1                                         \n",
      "Covariance Type:            nonrobust                                         \n",
      "==============================================================================\n",
      "                 coef    std err          t      P>|t|      [0.025      0.975]\n",
      "------------------------------------------------------------------------------\n",
      "const         26.8800      1.117     24.058      0.000      23.324      30.436\n",
      "x1            -0.1619      0.008    -19.459      0.000      -0.188      -0.135\n",
      "==============================================================================\n",
      "Omnibus:                          nan   Durbin-Watson:                   3.178\n",
      "Prob(Omnibus):                    nan   Jarque-Bera (JB):                0.536\n",
      "Skew:                           0.665   Prob(JB):                        0.765\n",
      "Kurtosis:                       2.104   Cond. No.                     9.99e+03\n",
      "==============================================================================\n",
      "\n",
      "Notes:\n",
      "[1] Standard Errors assume that the covariance matrix of the errors is correctly specified.\n",
      "[2] The condition number is large, 9.99e+03. This might indicate that there are\n",
      "strong multicollinearity or other numerical problems.\n",
      "                            WLS Regression Results                            \n",
      "==============================================================================\n",
      "Dep. Variable:             U [10^-6V]   R-squared:                       0.995\n",
      "Model:                            WLS   Adj. R-squared:                  0.993\n",
      "Method:                 Least Squares   F-statistic:                     606.2\n",
      "Date:                Thu, 27 Feb 2025   Prob (F-statistic):           0.000147\n",
      "Time:                        10:52:47   Log-Likelihood:                 10.441\n",
      "No. Observations:                   5   AIC:                            -16.88\n",
      "Df Residuals:                       3   BIC:                            -17.66\n",
      "Df Model:                           1                                         \n",
      "Covariance Type:            nonrobust                                         \n",
      "==============================================================================\n",
      "                 coef    std err          t      P>|t|      [0.025      0.975]\n",
      "------------------------------------------------------------------------------\n",
      "const         38.1910      1.328     28.752      0.000      33.964      42.418\n",
      "x1            -0.2420      0.010    -24.620      0.000      -0.273      -0.211\n",
      "==============================================================================\n",
      "Omnibus:                          nan   Durbin-Watson:                   2.776\n",
      "Prob(Omnibus):                    nan   Jarque-Bera (JB):                0.589\n",
      "Skew:                           0.669   Prob(JB):                        0.745\n",
      "Kurtosis:                       1.982   Cond. No.                     1.10e+04\n",
      "==============================================================================\n",
      "\n",
      "Notes:\n",
      "[1] Standard Errors assume that the covariance matrix of the errors is correctly specified.\n",
      "[2] The condition number is large, 1.1e+04. This might indicate that there are\n",
      "strong multicollinearity or other numerical problems.\n"
     ]
    },
    {
     "name": "stderr",
     "output_type": "stream",
     "text": [
      "c:\\Users\\benjf\\anaconda3\\envs\\projects\\Lib\\site-packages\\statsmodels\\stats\\stattools.py:74: ValueWarning: omni_normtest is not valid with less than 8 observations; 5 samples were given.\n",
      "  warn(\"omni_normtest is not valid with less than 8 observations; %i \"\n",
      "c:\\Users\\benjf\\anaconda3\\envs\\projects\\Lib\\site-packages\\statsmodels\\stats\\stattools.py:74: ValueWarning: omni_normtest is not valid with less than 8 observations; 5 samples were given.\n",
      "  warn(\"omni_normtest is not valid with less than 8 observations; %i \"\n"
     ]
    }
   ],
   "source": [
    "print(r295.summary())\n",
    "print(r300.summary())"
   ]
  },
  {
   "cell_type": "markdown",
   "metadata": {
    "id": "BEC7MGeO9Lnw"
   },
   "source": [
    "### Final PLot"
   ]
  },
  {
   "cell_type": "code",
   "execution_count": 111,
   "metadata": {
    "executionInfo": {
     "elapsed": 43,
     "status": "ok",
     "timestamp": 1700760209211,
     "user": {
      "displayName": "Ben Joshua Fliegener",
      "userId": "06969016385245233563"
     },
     "user_tz": -60
    },
    "id": "WemlYIhQ_UCU"
   },
   "outputs": [
    {
     "name": "stderr",
     "output_type": "stream",
     "text": [
      "C:\\Users\\benjf\\AppData\\Local\\Temp\\ipykernel_8572\\2673164475.py:1: FutureWarning: Series.__getitem__ treating keys as positions is deprecated. In a future version, integer keys will always be treated as labels (consistent with DataFrame behavior). To access a value by position, use `ser.iloc[pos]`\n",
      "  a295 = r295.params[1]\n",
      "C:\\Users\\benjf\\AppData\\Local\\Temp\\ipykernel_8572\\2673164475.py:2: FutureWarning: Series.__getitem__ treating keys as positions is deprecated. In a future version, integer keys will always be treated as labels (consistent with DataFrame behavior). To access a value by position, use `ser.iloc[pos]`\n",
      "  b295 = r295.params[0]\n",
      "C:\\Users\\benjf\\AppData\\Local\\Temp\\ipykernel_8572\\2673164475.py:3: FutureWarning: Series.__getitem__ treating keys as positions is deprecated. In a future version, integer keys will always be treated as labels (consistent with DataFrame behavior). To access a value by position, use `ser.iloc[pos]`\n",
      "  u_a_295 = r295.bse[1]\n",
      "C:\\Users\\benjf\\AppData\\Local\\Temp\\ipykernel_8572\\2673164475.py:4: FutureWarning: Series.__getitem__ treating keys as positions is deprecated. In a future version, integer keys will always be treated as labels (consistent with DataFrame behavior). To access a value by position, use `ser.iloc[pos]`\n",
      "  u_b_295 = r295.bse[0]\n",
      "C:\\Users\\benjf\\AppData\\Local\\Temp\\ipykernel_8572\\2673164475.py:5: FutureWarning: Series.__getitem__ treating keys as positions is deprecated. In a future version, integer keys will always be treated as labels (consistent with DataFrame behavior). To access a value by position, use `ser.iloc[pos]`\n",
      "  a300 = r300.params[1]\n",
      "C:\\Users\\benjf\\AppData\\Local\\Temp\\ipykernel_8572\\2673164475.py:6: FutureWarning: Series.__getitem__ treating keys as positions is deprecated. In a future version, integer keys will always be treated as labels (consistent with DataFrame behavior). To access a value by position, use `ser.iloc[pos]`\n",
      "  b300 = r300.params[0]\n",
      "C:\\Users\\benjf\\AppData\\Local\\Temp\\ipykernel_8572\\2673164475.py:7: FutureWarning: Series.__getitem__ treating keys as positions is deprecated. In a future version, integer keys will always be treated as labels (consistent with DataFrame behavior). To access a value by position, use `ser.iloc[pos]`\n",
      "  u_a_300 = r300.bse[1]\n",
      "C:\\Users\\benjf\\AppData\\Local\\Temp\\ipykernel_8572\\2673164475.py:8: FutureWarning: Series.__getitem__ treating keys as positions is deprecated. In a future version, integer keys will always be treated as labels (consistent with DataFrame behavior). To access a value by position, use `ser.iloc[pos]`\n",
      "  u_b_300 = r300.bse[0]\n"
     ]
    }
   ],
   "source": [
    "a295 = r295.params[1]\n",
    "b295 = r295.params[0]\n",
    "u_a_295 = r295.bse[1]\n",
    "u_b_295 = r295.bse[0]\n",
    "a300 = r300.params[1]\n",
    "b300 = r300.params[0]\n",
    "u_a_300 = r300.bse[1]\n",
    "u_b_300 = r300.bse[0]"
   ]
  },
  {
   "cell_type": "code",
   "execution_count": 112,
   "metadata": {
    "colab": {
     "base_uri": "https://localhost:8080/"
    },
    "executionInfo": {
     "elapsed": 42,
     "status": "ok",
     "timestamp": 1700760209211,
     "user": {
      "displayName": "Ben Joshua Fliegener",
      "userId": "06969016385245233563"
     },
     "user_tz": -60
    },
    "id": "zJRMNr1idDjj",
    "outputId": "bae07691-85b5-4d6b-caa8-5b24c6ef158f"
   },
   "outputs": [
    {
     "name": "stdout",
     "output_type": "stream",
     "text": [
      "-0.162+/-0.008\n",
      "-0.242+/-0.010\n"
     ]
    }
   ],
   "source": [
    "print(ufloat(a295,u_a_295))\n",
    "print(ufloat(a300,u_a_300))"
   ]
  },
  {
   "cell_type": "code",
   "execution_count": 113,
   "metadata": {
    "colab": {
     "base_uri": "https://localhost:8080/"
    },
    "executionInfo": {
     "elapsed": 32,
     "status": "ok",
     "timestamp": 1700760209212,
     "user": {
      "displayName": "Ben Joshua Fliegener",
      "userId": "06969016385245233563"
     },
     "user_tz": -60
    },
    "id": "xe1bD3F2SpUF",
    "outputId": "4821a8cd-160b-4b05-ed5f-4caa9b976e53"
   },
   "outputs": [
    {
     "name": "stdout",
     "output_type": "stream",
     "text": [
      "-0.16191013289372394\n"
     ]
    }
   ],
   "source": [
    "print(a295)"
   ]
  },
  {
   "cell_type": "code",
   "execution_count": 114,
   "metadata": {
    "colab": {
     "base_uri": "https://localhost:8080/",
     "height": 206
    },
    "executionInfo": {
     "elapsed": 28,
     "status": "ok",
     "timestamp": 1700760209212,
     "user": {
      "displayName": "Ben Joshua Fliegener",
      "userId": "06969016385245233563"
     },
     "user_tz": -60
    },
    "id": "LY-yYWccQNqF",
    "outputId": "1030d506-a639-4abb-e5bd-90336455445f"
   },
   "outputs": [
    {
     "data": {
      "text/html": [
       "<div>\n",
       "<style scoped>\n",
       "    .dataframe tbody tr th:only-of-type {\n",
       "        vertical-align: middle;\n",
       "    }\n",
       "\n",
       "    .dataframe tbody tr th {\n",
       "        vertical-align: top;\n",
       "    }\n",
       "\n",
       "    .dataframe thead th {\n",
       "        text-align: right;\n",
       "    }\n",
       "</style>\n",
       "<table border=\"1\" class=\"dataframe\">\n",
       "  <thead>\n",
       "    <tr style=\"text-align: right;\">\n",
       "      <th></th>\n",
       "      <th>Std U [10^-6V]</th>\n",
       "    </tr>\n",
       "  </thead>\n",
       "  <tbody>\n",
       "    <tr>\n",
       "      <th>1</th>\n",
       "      <td>0.011</td>\n",
       "    </tr>\n",
       "    <tr>\n",
       "      <th>2</th>\n",
       "      <td>0.010</td>\n",
       "    </tr>\n",
       "    <tr>\n",
       "      <th>3</th>\n",
       "      <td>0.016</td>\n",
       "    </tr>\n",
       "    <tr>\n",
       "      <th>4</th>\n",
       "      <td>0.018</td>\n",
       "    </tr>\n",
       "    <tr>\n",
       "      <th>5</th>\n",
       "      <td>0.009</td>\n",
       "    </tr>\n",
       "  </tbody>\n",
       "</table>\n",
       "</div>"
      ],
      "text/plain": [
       "   Std U [10^-6V]\n",
       "1           0.011\n",
       "2           0.010\n",
       "3           0.016\n",
       "4           0.018\n",
       "5           0.009"
      ]
     },
     "execution_count": 114,
     "metadata": {},
     "output_type": "execute_result"
    }
   ],
   "source": [
    "u_y_us295"
   ]
  },
  {
   "cell_type": "code",
   "execution_count": 117,
   "metadata": {
    "colab": {
     "base_uri": "https://localhost:8080/",
     "height": 457
    },
    "executionInfo": {
     "elapsed": 543,
     "status": "ok",
     "timestamp": 1700760209730,
     "user": {
      "displayName": "Ben Joshua Fliegener",
      "userId": "06969016385245233563"
     },
     "user_tz": -60
    },
    "id": "AND08eR90sw9",
    "outputId": "0d3894a1-0dda-4bb6-ffb4-163fbffcefb1"
   },
   "outputs": [
    {
     "name": "stderr",
     "output_type": "stream",
     "text": [
      "<>:13: SyntaxWarning: invalid escape sequence '\\d'\n",
      "<>:14: SyntaxWarning: invalid escape sequence '\\d'\n",
      "<>:13: SyntaxWarning: invalid escape sequence '\\d'\n",
      "<>:14: SyntaxWarning: invalid escape sequence '\\d'\n",
      "C:\\Users\\benjf\\AppData\\Local\\Temp\\ipykernel_8572\\787336962.py:13: SyntaxWarning: invalid escape sequence '\\d'\n",
      "  plt.xlabel('$\\delta T\\; [K]$')\n",
      "C:\\Users\\benjf\\AppData\\Local\\Temp\\ipykernel_8572\\787336962.py:14: SyntaxWarning: invalid escape sequence '\\d'\n",
      "  plt.ylabel('$U_S(\\delta T)\\; [\\mu V]$')\n"
     ]
    },
    {
     "data": {
      "image/png": "[encoded data removed]",
      "text/plain": [
       "<Figure size 640x480 with 1 Axes>"
      ]
     },
     "metadata": {},
     "output_type": "display_data"
    }
   ],
   "source": [
    "plt.plot(x,a295*x+b295,color='blue',zorder=2)\n",
    "plt.plot(x,a300*x+b300,color='red',zorder=2)\n",
    "plt.errorbar(x295,y_us295['U [10^-6V]'],\n",
    "             xerr=u295,yerr=u_y_us295['Std U [10^-6V]'],\n",
    "             fmt='.',capsize=2,\n",
    "             color='blue',zorder=1)\n",
    "plt.errorbar(x300,y_us300['U [10^-6V]'],\n",
    "             xerr=u300,yerr=u_y_us300['Std U [10^-6V]'],\n",
    "             fmt='.',capsize=2,\n",
    "             color='red',zorder=1)\n",
    "plt.xticks([130,135,140])\n",
    "plt.yticks([4,5,6,7])\n",
    "plt.xlabel('$\\delta T\\; [K]$')\n",
    "plt.ylabel('$U_S(\\delta T)\\; [\\mu V]$')\n",
    "# plt.savefig('Thermospannung-delta-T.png',dpi=600,transparent=True)\n",
    "plt.show()"
   ]
  },
  {
   "cell_type": "markdown",
   "metadata": {
    "id": "uJNB2P9E-5ar"
   },
   "source": [
    "### test"
   ]
  },
  {
   "cell_type": "code",
   "execution_count": 118,
   "metadata": {
    "executionInfo": {
     "elapsed": 45,
     "status": "ok",
     "timestamp": 1700760209730,
     "user": {
      "displayName": "Ben Joshua Fliegener",
      "userId": "06969016385245233563"
     },
     "user_tz": -60
    },
    "id": "XRpXn8EN-_X4"
   },
   "outputs": [],
   "source": [
    "# y_us295 = df_us.loc[1:5,['U [10^-6V]']]*1e-6\n",
    "# u_y_us295 = df_us.loc[1:5,['Std U [10^-6V]']]*1e-6\n",
    "# y_us300 = df_us.loc[7:11,['U [10^-6V]']]*1e-6\n",
    "# u_y_us300 = df_us.loc[7:11,['Std U [10^-6V]']]*1e-6\n",
    "# print(len(y_us295))\n",
    "# print(len(y_us300))"
   ]
  },
  {
   "cell_type": "code",
   "execution_count": 119,
   "metadata": {
    "executionInfo": {
     "elapsed": 45,
     "status": "ok",
     "timestamp": 1700760209731,
     "user": {
      "displayName": "Ben Joshua Fliegener",
      "userId": "06969016385245233563"
     },
     "user_tz": -60
    },
    "id": "tvEBbNwR_NOA"
   },
   "outputs": [],
   "source": [
    "# y_us295"
   ]
  },
  {
   "cell_type": "code",
   "execution_count": 120,
   "metadata": {
    "executionInfo": {
     "elapsed": 45,
     "status": "ok",
     "timestamp": 1700760209731,
     "user": {
      "displayName": "Ben Joshua Fliegener",
      "userId": "06969016385245233563"
     },
     "user_tz": -60
    },
    "id": "9hHdT-SP_ZFE"
   },
   "outputs": [],
   "source": [
    "# u295 = []\n",
    "# u300 = []\n",
    "# # x295 = []\n",
    "# x300 = []\n",
    "# for i in range(5):\n",
    "#   u300.append(round(delta_300[i].s,1))\n",
    "#   x300.append(round(delta_300[i].n,1))\n",
    "#   u295.append(round(delta_295[i].s,1))\n",
    "#   x295.append(round(delta_295[i].n,1))"
   ]
  },
  {
   "cell_type": "code",
   "execution_count": 121,
   "metadata": {
    "executionInfo": {
     "elapsed": 45,
     "status": "ok",
     "timestamp": 1700760209732,
     "user": {
      "displayName": "Ben Joshua Fliegener",
      "userId": "06969016385245233563"
     },
     "user_tz": -60
    },
    "id": "SrtR0aX1_c8w"
   },
   "outputs": [],
   "source": [
    "# X295 = sm.add_constant(x295)\n",
    "# X300 = sm.add_constant(x300)\n",
    "# m295 = sm.WLS(y_us295['U [10^-6V]'],X295,weights=u_y_us295)\n",
    "# m300 = sm.WLS(y_us300['U [10^-6V]'],X300,weights=u_y_us300)\n",
    "# r295 = m295.fit()\n",
    "# r300 = m300.fit()"
   ]
  },
  {
   "cell_type": "code",
   "execution_count": 122,
   "metadata": {
    "executionInfo": {
     "elapsed": 45,
     "status": "ok",
     "timestamp": 1700760209732,
     "user": {
      "displayName": "Ben Joshua Fliegener",
      "userId": "06969016385245233563"
     },
     "user_tz": -60
    },
    "id": "o8bkIizv_jSU"
   },
   "outputs": [],
   "source": [
    "# # print(r295.summary())\n",
    "# print(r300.summary())"
   ]
  },
  {
   "cell_type": "markdown",
   "metadata": {
    "id": "_fxRXZprpaa_"
   },
   "source": [
    "## Teilaufgabe 5"
   ]
  },
  {
   "cell_type": "markdown",
   "metadata": {
    "id": "cqDAZZ3gkI5J"
   },
   "source": [
    "Relativer Seebeck-Koeffizient SAu,Pt(T) in Abhängigkeit von der Temperatur"
   ]
  },
  {
   "cell_type": "code",
   "execution_count": 123,
   "metadata": {
    "colab": {
     "base_uri": "https://localhost:8080/"
    },
    "executionInfo": {
     "elapsed": 44,
     "status": "ok",
     "timestamp": 1700760209732,
     "user": {
      "displayName": "Ben Joshua Fliegener",
      "userId": "06969016385245233563"
     },
     "user_tz": -60
    },
    "id": "spxTCSl9lN9Y",
    "outputId": "240228ad-d96a-4d91-f7f3-81da7f7c8751"
   },
   "outputs": [
    {
     "name": "stdout",
     "output_type": "stream",
     "text": [
      "[np.float64(0.008320444997184127), np.float64(0.009831031703914497)]\n"
     ]
    }
   ],
   "source": [
    "S_rel = np.array([a295,a300])*(-1)\n",
    "u_s = [u_a_295,u_a_300]\n",
    "T = np.array([295,300])\n",
    "print(u_s)"
   ]
  },
  {
   "cell_type": "code",
   "execution_count": 126,
   "metadata": {
    "colab": {
     "base_uri": "https://localhost:8080/",
     "height": 466
    },
    "executionInfo": {
     "elapsed": 353,
     "status": "ok",
     "timestamp": 1700760210050,
     "user": {
      "displayName": "Ben Joshua Fliegener",
      "userId": "06969016385245233563"
     },
     "user_tz": -60
    },
    "id": "jJ_jfTbNBZ6T",
    "outputId": "9397cd42-2d0d-44ff-ed47-80d2be540ebd"
   },
   "outputs": [
    {
     "data": {
      "image/png": "[encoded data removed]",
      "text/plain": [
       "<Figure size 640x480 with 1 Axes>"
      ]
     },
     "metadata": {},
     "output_type": "display_data"
    }
   ],
   "source": [
    "plt.errorbar(T,S_rel,\n",
    "             yerr=u_s,\n",
    "             fmt='.',\n",
    "             capsize=3)\n",
    "# plt.yticks([-.15,-.2,-.25])\n",
    "plt.xticks([295,297.5,300])\n",
    "plt.xlabel('$T$')\n",
    "plt.ylabel('$S_{rel}(T)$')\n",
    "plt.show()"
   ]
  },
  {
   "cell_type": "markdown",
   "metadata": {
    "id": "5Dk7hywoCy7X"
   },
   "source": [
    "### Regression"
   ]
  },
  {
   "cell_type": "code",
   "execution_count": null,
   "metadata": {
    "executionInfo": {
     "elapsed": 31,
     "status": "ok",
     "timestamp": 1700760210050,
     "user": {
      "displayName": "Ben Joshua Fliegener",
      "userId": "06969016385245233563"
     },
     "user_tz": -60
    },
    "id": "zU9dYkKbDsTC"
   },
   "outputs": [],
   "source": []
  },
  {
   "cell_type": "code",
   "execution_count": 127,
   "metadata": {
    "executionInfo": {
     "elapsed": 378,
     "status": "ok",
     "timestamp": 1700760210398,
     "user": {
      "displayName": "Ben Joshua Fliegener",
      "userId": "06969016385245233563"
     },
     "user_tz": -60
    },
    "id": "hLHr4rjsDfmV"
   },
   "outputs": [],
   "source": [
    "t = S_rel*1e-6"
   ]
  },
  {
   "cell_type": "code",
   "execution_count": 128,
   "metadata": {
    "colab": {
     "base_uri": "https://localhost:8080/"
    },
    "executionInfo": {
     "elapsed": 52,
     "status": "ok",
     "timestamp": 1700760210398,
     "user": {
      "displayName": "Ben Joshua Fliegener",
      "userId": "06969016385245233563"
     },
     "user_tz": -60
    },
    "id": "DA3mV6wCDovq",
    "outputId": "6ca197a3-9d42-4370-9144-203a90981625"
   },
   "outputs": [
    {
     "name": "stdout",
     "output_type": "stream",
     "text": [
      "                            WLS Regression Results                            \n",
      "==============================================================================\n",
      "Dep. Variable:                      y   R-squared:                       1.000\n",
      "Model:                            WLS   Adj. R-squared:                    nan\n",
      "Method:                 Least Squares   F-statistic:                       nan\n",
      "Date:                Thu, 27 Feb 2025   Prob (F-statistic):                nan\n",
      "Time:                        10:53:56   Log-Likelihood:                 91.208\n",
      "No. Observations:                   2   AIC:                            -178.4\n",
      "Df Residuals:                       0   BIC:                            -181.0\n",
      "Df Model:                           1                                         \n",
      "Covariance Type:            nonrobust                                         \n",
      "==============================================================================\n",
      "                 coef    std err          t      P>|t|      [0.025      0.975]\n",
      "------------------------------------------------------------------------------\n",
      "const      -4.566e-06        inf         -0        nan         nan         nan\n",
      "x1          1.603e-08        inf          0        nan         nan         nan\n",
      "==============================================================================\n",
      "Omnibus:                          nan   Durbin-Watson:                   0.012\n",
      "Prob(Omnibus):                    nan   Jarque-Bera (JB):                0.333\n",
      "Skew:                           0.000   Prob(JB):                        0.846\n",
      "Kurtosis:                       1.000   Cond. No.                     3.56e+04\n",
      "==============================================================================\n",
      "\n",
      "Notes:\n",
      "[1] Standard Errors assume that the covariance matrix of the errors is correctly specified.\n",
      "[2] The condition number is large, 3.56e+04. This might indicate that there are\n",
      "strong multicollinearity or other numerical problems.\n"
     ]
    },
    {
     "name": "stderr",
     "output_type": "stream",
     "text": [
      "c:\\Users\\benjf\\anaconda3\\envs\\projects\\Lib\\site-packages\\statsmodels\\stats\\stattools.py:74: ValueWarning: omni_normtest is not valid with less than 8 observations; 2 samples were given.\n",
      "  warn(\"omni_normtest is not valid with less than 8 observations; %i \"\n",
      "c:\\Users\\benjf\\anaconda3\\envs\\projects\\Lib\\site-packages\\statsmodels\\regression\\linear_model.py:1795: RuntimeWarning: divide by zero encountered in divide\n",
      "  return 1 - (np.divide(self.nobs - self.k_constant, self.df_resid)\n",
      "c:\\Users\\benjf\\anaconda3\\envs\\projects\\Lib\\site-packages\\statsmodels\\regression\\linear_model.py:1795: RuntimeWarning: invalid value encountered in scalar multiply\n",
      "  return 1 - (np.divide(self.nobs - self.k_constant, self.df_resid)\n",
      "c:\\Users\\benjf\\anaconda3\\envs\\projects\\Lib\\site-packages\\statsmodels\\regression\\linear_model.py:1717: RuntimeWarning: divide by zero encountered in scalar divide\n",
      "  return np.dot(wresid, wresid) / self.df_resid\n"
     ]
    }
   ],
   "source": [
    "XS = sm.add_constant(T)\n",
    "ms = sm.WLS(t,XS,weights=u_s)\n",
    "rs = ms.fit()\n",
    "print(rs.summary())"
   ]
  },
  {
   "cell_type": "code",
   "execution_count": 129,
   "metadata": {
    "colab": {
     "base_uri": "https://localhost:8080/"
    },
    "executionInfo": {
     "elapsed": 43,
     "status": "ok",
     "timestamp": 1700760210398,
     "user": {
      "displayName": "Ben Joshua Fliegener",
      "userId": "06969016385245233563"
     },
     "user_tz": -60
    },
    "id": "UKISpnf7C1gS",
    "outputId": "242676fe-f57c-4c2f-86fc-1c8016b518e9"
   },
   "outputs": [
    {
     "name": "stdout",
     "output_type": "stream",
     "text": [
      "                            WLS Regression Results                            \n",
      "==============================================================================\n",
      "Dep. Variable:                      y   R-squared:                       1.000\n",
      "Model:                            WLS   Adj. R-squared:                    nan\n",
      "Method:                 Least Squares   F-statistic:                       nan\n",
      "Date:                Thu, 27 Feb 2025   Prob (F-statistic):                nan\n",
      "Time:                        10:53:57   Log-Likelihood:                 63.505\n",
      "No. Observations:                   2   AIC:                            -123.0\n",
      "Df Residuals:                       0   BIC:                            -125.6\n",
      "Df Model:                           1                                         \n",
      "Covariance Type:            nonrobust                                         \n",
      "==============================================================================\n",
      "                 coef    std err          t      P>|t|      [0.025      0.975]\n",
      "------------------------------------------------------------------------------\n",
      "const         -4.5658        inf         -0        nan         nan         nan\n",
      "x1             0.0160        inf          0        nan         nan         nan\n",
      "==============================================================================\n",
      "Omnibus:                          nan   Durbin-Watson:                   0.003\n",
      "Prob(Omnibus):                    nan   Jarque-Bera (JB):                0.333\n",
      "Skew:                           0.000   Prob(JB):                        0.846\n",
      "Kurtosis:                       1.000   Cond. No.                     3.56e+04\n",
      "==============================================================================\n",
      "\n",
      "Notes:\n",
      "[1] Standard Errors assume that the covariance matrix of the errors is correctly specified.\n",
      "[2] The condition number is large, 3.56e+04. This might indicate that there are\n",
      "strong multicollinearity or other numerical problems.\n"
     ]
    },
    {
     "name": "stderr",
     "output_type": "stream",
     "text": [
      "c:\\Users\\benjf\\anaconda3\\envs\\projects\\Lib\\site-packages\\statsmodels\\stats\\stattools.py:74: ValueWarning: omni_normtest is not valid with less than 8 observations; 2 samples were given.\n",
      "  warn(\"omni_normtest is not valid with less than 8 observations; %i \"\n",
      "c:\\Users\\benjf\\anaconda3\\envs\\projects\\Lib\\site-packages\\statsmodels\\regression\\linear_model.py:1795: RuntimeWarning: divide by zero encountered in divide\n",
      "  return 1 - (np.divide(self.nobs - self.k_constant, self.df_resid)\n",
      "c:\\Users\\benjf\\anaconda3\\envs\\projects\\Lib\\site-packages\\statsmodels\\regression\\linear_model.py:1795: RuntimeWarning: invalid value encountered in scalar multiply\n",
      "  return 1 - (np.divide(self.nobs - self.k_constant, self.df_resid)\n",
      "c:\\Users\\benjf\\anaconda3\\envs\\projects\\Lib\\site-packages\\statsmodels\\regression\\linear_model.py:1717: RuntimeWarning: divide by zero encountered in scalar divide\n",
      "  return np.dot(wresid, wresid) / self.df_resid\n"
     ]
    }
   ],
   "source": [
    "XS = sm.add_constant(T)\n",
    "ms = sm.WLS(S_rel,XS,weights=u_s)\n",
    "rs = ms.fit()\n",
    "print(rs.summary())"
   ]
  },
  {
   "cell_type": "code",
   "execution_count": 130,
   "metadata": {
    "executionInfo": {
     "elapsed": 35,
     "status": "ok",
     "timestamp": 1700760210399,
     "user": {
      "displayName": "Ben Joshua Fliegener",
      "userId": "06969016385245233563"
     },
     "user_tz": -60
    },
    "id": "HZDd0esSDrby"
   },
   "outputs": [],
   "source": [
    "S1 = np.array([ufloat(S_rel[0],u_s[0]),ufloat(S_rel[1],u_s[1])])"
   ]
  },
  {
   "cell_type": "code",
   "execution_count": 131,
   "metadata": {
    "colab": {
     "base_uri": "https://localhost:8080/"
    },
    "executionInfo": {
     "elapsed": 34,
     "status": "ok",
     "timestamp": 1700760210399,
     "user": {
      "displayName": "Ben Joshua Fliegener",
      "userId": "06969016385245233563"
     },
     "user_tz": -60
    },
    "id": "C2KVnu26DpqH",
    "outputId": "4fa6b1b4-29e9-4445-c921-a066a71fe3cc"
   },
   "outputs": [
    {
     "data": {
      "text/plain": [
       "0.016+/-0.0026"
      ]
     },
     "execution_count": 131,
     "metadata": {},
     "output_type": "execute_result"
    }
   ],
   "source": [
    "sa_err = sbk.sxy(T,S1)/sbk.sxsq(T)\n",
    "u_sa = round(sa_err.s,4)\n",
    "sa = round(sa_err.n,4)\n",
    "sa_err = ufloat(sa,u_sa)\n",
    "sa_err"
   ]
  },
  {
   "cell_type": "markdown",
   "metadata": {
    "id": "wgjsEtKvLuJh"
   },
   "source": [
    "### final plot"
   ]
  },
  {
   "cell_type": "code",
   "execution_count": 132,
   "metadata": {
    "colab": {
     "base_uri": "https://localhost:8080/"
    },
    "executionInfo": {
     "elapsed": 29,
     "status": "ok",
     "timestamp": 1700760210399,
     "user": {
      "displayName": "Ben Joshua Fliegener",
      "userId": "06969016385245233563"
     },
     "user_tz": -60
    },
    "id": "rF6P_fAFM3SS",
    "outputId": "991bf65a-5b5b-4fda-9ffa-1d214ef04926"
   },
   "outputs": [
    {
     "data": {
      "text/plain": [
       "np.float64(-4.565824403167655)"
      ]
     },
     "execution_count": 132,
     "metadata": {},
     "output_type": "execute_result"
    }
   ],
   "source": [
    "rs.params[0]"
   ]
  },
  {
   "cell_type": "code",
   "execution_count": 133,
   "metadata": {
    "colab": {
     "base_uri": "https://localhost:8080/"
    },
    "executionInfo": {
     "elapsed": 25,
     "status": "ok",
     "timestamp": 1700760210400,
     "user": {
      "displayName": "Ben Joshua Fliegener",
      "userId": "06969016385245233563"
     },
     "user_tz": -60
    },
    "id": "YAiqGdFRL4F-",
    "outputId": "5fe94003-884a-42d5-e32c-92d049f0088e"
   },
   "outputs": [
    {
     "name": "stdout",
     "output_type": "stream",
     "text": [
      "-4.565824403167655\n",
      "0.016\n"
     ]
    }
   ],
   "source": [
    "xt = np.linspace(294.9,300.1,1000)\n",
    "yt = sa * xt + rs.params[0]\n",
    "print(rs.params[0])\n",
    "print(sa)"
   ]
  },
  {
   "cell_type": "code",
   "execution_count": 134,
   "metadata": {
    "colab": {
     "base_uri": "https://localhost:8080/"
    },
    "executionInfo": {
     "elapsed": 19,
     "status": "ok",
     "timestamp": 1700760210400,
     "user": {
      "displayName": "Ben Joshua Fliegener",
      "userId": "06969016385245233563"
     },
     "user_tz": -60
    },
    "id": "kE4idOye8xsX",
    "outputId": "dff0d6a5-955b-4b63-9c49-b541bf8a1b80"
   },
   "outputs": [
    {
     "name": "stdout",
     "output_type": "stream",
     "text": [
      "[0.16191013 0.24204123]\n"
     ]
    }
   ],
   "source": [
    "T = np.array([295,300])\n",
    "S_rel = np.array([S1[0].n,S1[1].n])\n",
    "u_s = np.array([S1[0].s,S1[1].s])\n",
    "print(S_rel)"
   ]
  },
  {
   "cell_type": "code",
   "execution_count": 135,
   "metadata": {
    "colab": {
     "base_uri": "https://localhost:8080/"
    },
    "executionInfo": {
     "elapsed": 15,
     "status": "ok",
     "timestamp": 1700760210400,
     "user": {
      "displayName": "Ben Joshua Fliegener",
      "userId": "06969016385245233563"
     },
     "user_tz": -60
    },
    "id": "_cklEpWzRtjL",
    "outputId": "b234750e-5e15-4ac0-8afa-54bd7d937735"
   },
   "outputs": [
    {
     "name": "stdout",
     "output_type": "stream",
     "text": [
      "[0.16191013289372394+/-0.008320444997184127\n",
      " 0.24204122672527284+/-0.009831031703914497]\n"
     ]
    }
   ],
   "source": [
    "print(S1)"
   ]
  },
  {
   "cell_type": "code",
   "execution_count": 137,
   "metadata": {
    "colab": {
     "base_uri": "https://localhost:8080/",
     "height": 452
    },
    "executionInfo": {
     "elapsed": 3730,
     "status": "ok",
     "timestamp": 1700760214119,
     "user": {
      "displayName": "Ben Joshua Fliegener",
      "userId": "06969016385245233563"
     },
     "user_tz": -60
    },
    "id": "BSyY0IXmLwAA",
    "outputId": "859970ad-c928-4864-fb3e-d10cf00be0f1"
   },
   "outputs": [
    {
     "name": "stderr",
     "output_type": "stream",
     "text": [
      "<>:9: SyntaxWarning: invalid escape sequence '\\;'\n",
      "<>:9: SyntaxWarning: invalid escape sequence '\\;'\n",
      "C:\\Users\\benjf\\AppData\\Local\\Temp\\ipykernel_8572\\386634302.py:9: SyntaxWarning: invalid escape sequence '\\;'\n",
      "  plt.ylabel('$S_{rel}(T)\\; [\\mu V/K]$')\n"
     ]
    },
    {
     "data": {
      "image/png": "[encoded data removed]",
      "text/plain": [
       "<Figure size 640x480 with 1 Axes>"
      ]
     },
     "metadata": {},
     "output_type": "display_data"
    }
   ],
   "source": [
    "plt.errorbar(T,S_rel,\n",
    "             yerr=u_s,\n",
    "             fmt='.', capsize=2,\n",
    "             zorder=1)\n",
    "plt.plot(xt,yt)\n",
    "plt.yticks([.15,.2,.25])\n",
    "plt.xticks([295,297.5,300])\n",
    "plt.xlabel('$T$ [K]')\n",
    "plt.ylabel('$S_{rel}(T)\\; [\\mu V/K]$')\n",
    "# plt.savefig('rel_Seebeck_Koeff1.png',dpi=600,transparent=True)\n",
    "plt.show()"
   ]
  },
  {
   "cell_type": "markdown",
   "metadata": {
    "id": "W5f4Az3Pi7A3"
   },
   "source": [
    "# Aufgabe 2"
   ]
  },
  {
   "cell_type": "code",
   "execution_count": 138,
   "metadata": {
    "colab": {
     "base_uri": "https://localhost:8080/"
    },
    "executionInfo": {
     "elapsed": 39,
     "status": "ok",
     "timestamp": 1700760214119,
     "user": {
      "displayName": "Ben Joshua Fliegener",
      "userId": "06969016385245233563"
     },
     "user_tz": -60
    },
    "id": "flNyWUfJUXQp",
    "outputId": "3f3d2533-dffe-4f0a-94fd-cd39ab0ee661"
   },
   "outputs": [
    {
     "data": {
      "text/plain": [
       "array([0.00832044, 0.00983103])"
      ]
     },
     "execution_count": 138,
     "metadata": {},
     "output_type": "execute_result"
    }
   ],
   "source": [
    "u_s"
   ]
  },
  {
   "cell_type": "code",
   "execution_count": 139,
   "metadata": {
    "executionInfo": {
     "elapsed": 20,
     "status": "ok",
     "timestamp": 1700760214743,
     "user": {
      "displayName": "Ben Joshua Fliegener",
      "userId": "06969016385245233563"
     },
     "user_tz": -60
    },
    "id": "EqH9YGsRVKnK"
   },
   "outputs": [],
   "source": [
    "u_s[0] = round(u_s[0],3)\n",
    "u_s[1] = round(u_s[1],3)"
   ]
  },
  {
   "cell_type": "code",
   "execution_count": 140,
   "metadata": {
    "executionInfo": {
     "elapsed": 342,
     "status": "ok",
     "timestamp": 1700760448956,
     "user": {
      "displayName": "Ben Joshua Fliegener",
      "userId": "06969016385245233563"
     },
     "user_tz": -60
    },
    "id": "yn7Y0wsGFALq"
   },
   "outputs": [],
   "source": [
    "S_al = ufloat(0.0037,0.0004)  #*1e-6\n",
    "S_r_err = np.array([ufloat(round(S_rel[0],3),round(u_s[0],3)),ufloat(round(S_rel[1],3),round(u_s[1]),3)])"
   ]
  },
  {
   "cell_type": "markdown",
   "metadata": {
    "id": "L1Crp3dEZBQW"
   },
   "source": [
    "$$ S_{rel} = S_{Al} - S_{pt} $$"
   ]
  },
  {
   "cell_type": "code",
   "execution_count": 141,
   "metadata": {
    "colab": {
     "base_uri": "https://localhost:8080/"
    },
    "executionInfo": {
     "elapsed": 292,
     "status": "ok",
     "timestamp": 1700760360750,
     "user": {
      "displayName": "Ben Joshua Fliegener",
      "userId": "06969016385245233563"
     },
     "user_tz": -60
    },
    "id": "PRtH43YwNenk",
    "outputId": "532e67fc-9140-49e9-f740-9d142352e47b"
   },
   "outputs": [
    {
     "data": {
      "text/plain": [
       "array([0.162+/-0.008, < 3 = 0.242+/-0 >], dtype=object)"
      ]
     },
     "execution_count": 141,
     "metadata": {},
     "output_type": "execute_result"
    }
   ],
   "source": [
    "S_r_err"
   ]
  },
  {
   "cell_type": "code",
   "execution_count": 142,
   "metadata": {
    "executionInfo": {
     "elapsed": 280,
     "status": "ok",
     "timestamp": 1700760451265,
     "user": {
      "displayName": "Ben Joshua Fliegener",
      "userId": "06969016385245233563"
     },
     "user_tz": -60
    },
    "id": "KqV8cgUUUQwA"
   },
   "outputs": [],
   "source": [
    "Spt = S_al - S_r_err"
   ]
  },
  {
   "cell_type": "code",
   "execution_count": 143,
   "metadata": {
    "colab": {
     "base_uri": "https://localhost:8080/"
    },
    "executionInfo": {
     "elapsed": 241,
     "status": "ok",
     "timestamp": 1700760456006,
     "user": {
      "displayName": "Ben Joshua Fliegener",
      "userId": "06969016385245233563"
     },
     "user_tz": -60
    },
    "id": "faoCexZGU3Vn",
    "outputId": "bd273648-8726-4214-e578-417654604b0c"
   },
   "outputs": [
    {
     "data": {
      "text/plain": [
       "array([-0.1583+/-0.008009993757800314, -0.23829999999999998+/-0.0004],\n",
       "      dtype=object)"
      ]
     },
     "execution_count": 143,
     "metadata": {},
     "output_type": "execute_result"
    }
   ],
   "source": [
    "Spt"
   ]
  },
  {
   "cell_type": "code",
   "execution_count": 144,
   "metadata": {
    "executionInfo": {
     "elapsed": 327,
     "status": "ok",
     "timestamp": 1700760468585,
     "user": {
      "displayName": "Ben Joshua Fliegener",
      "userId": "06969016385245233563"
     },
     "user_tz": -60
    },
    "id": "qyn3qSh6VdBo"
   },
   "outputs": [],
   "source": [
    "u_sp = [round(Spt[0].s,3),round(Spt[1].s,3)]\n",
    "S_pt = [round(Spt[0].n,3),round(Spt[1].n,3)]\n",
    "S_pt_err = np.array([ufloat(S_pt[0],u_sp[0]),ufloat(S_pt[1],u_sp[1])])"
   ]
  },
  {
   "cell_type": "code",
   "execution_count": 145,
   "metadata": {
    "colab": {
     "base_uri": "https://localhost:8080/"
    },
    "executionInfo": {
     "elapsed": 633,
     "status": "ok",
     "timestamp": 1700760480775,
     "user": {
      "displayName": "Ben Joshua Fliegener",
      "userId": "06969016385245233563"
     },
     "user_tz": -60
    },
    "id": "omPYnRmCVwdB",
    "outputId": "035393dd-3d59-4666-dfba-97be304e4c1d"
   },
   "outputs": [
    {
     "data": {
      "text/plain": [
       "array([-0.158+/-0.008, -0.238+/-0], dtype=object)"
      ]
     },
     "execution_count": 145,
     "metadata": {},
     "output_type": "execute_result"
    }
   ],
   "source": [
    "S_pt_err"
   ]
  },
  {
   "cell_type": "code",
   "execution_count": 146,
   "metadata": {
    "executionInfo": {
     "elapsed": 5,
     "status": "ok",
     "timestamp": 1700760480776,
     "user": {
      "displayName": "Ben Joshua Fliegener",
      "userId": "06969016385245233563"
     },
     "user_tz": -60
    },
    "id": "zyuYt2XfcZTg"
   },
   "outputs": [],
   "source": [
    "T = [295,300]"
   ]
  },
  {
   "cell_type": "code",
   "execution_count": 147,
   "metadata": {
    "colab": {
     "base_uri": "https://localhost:8080/",
     "height": 449
    },
    "executionInfo": {
     "elapsed": 2157,
     "status": "ok",
     "timestamp": 1700760756951,
     "user": {
      "displayName": "Ben Joshua Fliegener",
      "userId": "06969016385245233563"
     },
     "user_tz": -60
    },
    "id": "LP40NChxWGrP",
    "outputId": "60ab4bba-d086-470f-9227-671e53b4cdb0"
   },
   "outputs": [
    {
     "name": "stderr",
     "output_type": "stream",
     "text": [
      "<>:6: SyntaxWarning: invalid escape sequence '\\;'\n",
      "<>:6: SyntaxWarning: invalid escape sequence '\\;'\n",
      "C:\\Users\\benjf\\AppData\\Local\\Temp\\ipykernel_8572\\563477477.py:6: SyntaxWarning: invalid escape sequence '\\;'\n",
      "  plt.ylabel('$S_{pt}(T)\\; [\\mu V/K]$')\n"
     ]
    }
   ],
   "source": [
    "plt.errorbar(T,S_pt,\n",
    "              fmt='.',\n",
    "              yerr=u_sp,\n",
    "             capsize=3)\n",
    "plt.xlabel('T [K]')\n",
    "plt.ylabel('$S_{pt}(T)\\; [\\mu V/K]$')\n",
    "plt.xticks([295,300])\n",
    "plt.yticks([-.15,-.2,-.24])\n",
    "plt.savefig('Abs_SBK_pt2.png',dpi=600,transparent=True)"
   ]
  },
  {
   "cell_type": "markdown",
   "metadata": {
    "id": "X7K8KrPui9Ie"
   },
   "source": [
    "# Aufgabe 3"
   ]
  },
  {
   "cell_type": "markdown",
   "metadata": {
    "id": "866gvq1VdEat"
   },
   "source": [
    "gesucht: $\\alpha (T)$\n",
    "$$ \\alpha = \\frac{1}{R(T,P=0)} \\partial_{T} R(T,P=0)$$"
   ]
  },
  {
   "cell_type": "code",
   "execution_count": 148,
   "metadata": {
    "executionInfo": {
     "elapsed": 19,
     "status": "ok",
     "timestamp": 1700760482109,
     "user": {
      "displayName": "Ben Joshua Fliegener",
      "userId": "06969016385245233563"
     },
     "user_tz": -60
    },
    "id": "FqUwAzH7FBdw"
   },
   "outputs": [],
   "source": [
    "R0_295h = ufloat(10.1173,0.0007)\n",
    "R0_300h = ufloat(10.2223,0.0005)\n",
    "R0_295k= ufloat(7.3148,0.0004)\n",
    "R0_300k= ufloat(7.3985,0.0004)\n",
    "T = [295,300]\n",
    "dRh = ufloat(0.02122,0.00021)\n",
    "dRk = ufloat(0.01691,0.00015)\n",
    "diff_295 = R0_295h - R0_295k\n",
    "diff_300 = R0_300h - R0_300k\n",
    "diff_dR = dRh-dRk"
   ]
  },
  {
   "cell_type": "code",
   "execution_count": 149,
   "metadata": {
    "executionInfo": {
     "elapsed": 18,
     "status": "ok",
     "timestamp": 1700760482110,
     "user": {
      "displayName": "Ben Joshua Fliegener",
      "userId": "06969016385245233563"
     },
     "user_tz": -60
    },
    "id": "aHD6b7g7Yefk"
   },
   "outputs": [],
   "source": [
    "alpha_h = [1/R0_295h * dRh,1/R0_300h * dRh]\n",
    "alpha_k = [1/R0_295k * dRk,1/R0_300k * dRk]\n",
    "alpha_diff = [1/diff_295 * diff_dR,1/diff_300 * diff_dR]\n"
   ]
  },
  {
   "cell_type": "code",
   "execution_count": 150,
   "metadata": {
    "executionInfo": {
     "elapsed": 17,
     "status": "ok",
     "timestamp": 1700760482110,
     "user": {
      "displayName": "Ben Joshua Fliegener",
      "userId": "06969016385245233563"
     },
     "user_tz": -60
    },
    "id": "vM36Ju6HZMsG"
   },
   "outputs": [],
   "source": [
    "uh = [alpha_h[0].s,alpha_h[1].s]\n",
    "uk = np.array([alpha_k[0].s,alpha_k[1].s])\n",
    "ud = np.array([alpha_diff[0].s,alpha_diff[1].s])\n",
    "\n",
    "yh = np.array([alpha_h[0].n,alpha_h[1].n])\n",
    "yk = np.array([alpha_k[0].n,alpha_k[1].n])\n",
    "yd = np.array([alpha_diff[0].n,alpha_diff[1].n])"
   ]
  },
  {
   "cell_type": "markdown",
   "metadata": {
    "id": "3ea0PS8fknX2"
   },
   "source": [
    "Vergleichswert:\n",
    "$$ \\alpha = 3,9 \\cdot 10^{-3} \\frac{1}{C}= 0.014  \\cdot 10^{-3} \\frac{1}{K}$$"
   ]
  },
  {
   "cell_type": "code",
   "execution_count": 156,
   "metadata": {
    "colab": {
     "base_uri": "https://localhost:8080/",
     "height": 449
    },
    "executionInfo": {
     "elapsed": 1958,
     "status": "ok",
     "timestamp": 1700760610114,
     "user": {
      "displayName": "Ben Joshua Fliegener",
      "userId": "06969016385245233563"
     },
     "user_tz": -60
    },
    "id": "dz5qbzMnZsxj",
    "outputId": "eee16999-0d7b-4518-d578-0ada7e8e9875"
   },
   "outputs": [
    {
     "name": "stderr",
     "output_type": "stream",
     "text": [
      "<>:15: SyntaxWarning: invalid escape sequence '\\c'\n",
      "<>:15: SyntaxWarning: invalid escape sequence '\\c'\n",
      "C:\\Users\\benjf\\AppData\\Local\\Temp\\ipykernel_8572\\4061516790.py:15: SyntaxWarning: invalid escape sequence '\\c'\n",
      "  plt.ylabel('$\\\\alpha$  [$1\\cdot 10^{-3}/K$]')\n"
     ]
    },
    {
     "data": {
      "image/png": "[encoded data removed]",
      "text/plain": [
       "<Figure size 640x480 with 1 Axes>"
      ]
     },
     "metadata": {},
     "output_type": "display_data"
    }
   ],
   "source": [
    "plt.errorbar(T,yh*1e3,\n",
    "             fmt='.',\n",
    "             yerr=np.array(uh)*1e3,\n",
    "             capsize=2,label='yh')\n",
    "plt.errorbar(T,yk*1e3,fmt='.',\n",
    "             yerr=uk*1e3,\n",
    "             capsize=2,label='yk')\n",
    "plt.errorbar(T,yd*1e3,fmt='.',\n",
    "             yerr=ud*1e3,\n",
    "             capsize=2, label='yd')\n",
    "plt.legend()\n",
    "plt.xticks([295,300])\n",
    "# plt.yticks([2.26,2.3,2.34])\n",
    "plt.xlabel('T [K]')\n",
    "plt.ylabel('$\\\\alpha$  [$1\\cdot 10^{-3}/K$]')\n",
    "# plt.savefig('alpha1.png',dpi=600,transparent=True)\n",
    "plt.show()"
   ]
  },
  {
   "cell_type": "code",
   "execution_count": 157,
   "metadata": {
    "colab": {
     "base_uri": "https://localhost:8080/"
    },
    "executionInfo": {
     "elapsed": 47,
     "status": "ok",
     "timestamp": 1700760483192,
     "user": {
      "displayName": "Ben Joshua Fliegener",
      "userId": "06969016385245233563"
     },
     "user_tz": -60
    },
    "id": "DGfU9_3Gr7L5",
    "outputId": "6c2b0264-7d83-4821-9a20-911820d30771"
   },
   "outputs": [
    {
     "name": "stdout",
     "output_type": "stream",
     "text": [
      "[2.05067603e-05 2.02747565e-05]\n",
      "[0.00231175 0.0022856 ]\n"
     ]
    }
   ],
   "source": [
    "print(uk)\n",
    "print(yk)"
   ]
  },
  {
   "cell_type": "code",
   "execution_count": 158,
   "metadata": {
    "colab": {
     "base_uri": "https://localhost:8080/"
    },
    "executionInfo": {
     "elapsed": 39,
     "status": "ok",
     "timestamp": 1700760483192,
     "user": {
      "displayName": "Ben Joshua Fliegener",
      "userId": "06969016385245233563"
     },
     "user_tz": -60
    },
    "id": "0FIvevDqYTSq",
    "outputId": "be24ddb1-33ee-4959-b4a3-27a90fff91d6"
   },
   "outputs": [
    {
     "data": {
      "text/plain": [
       "array([0.002311751517471428+/-2.050676029560565e-05,\n",
       "       0.0022855984321146178+/-2.027475651635177e-05], dtype=object)"
      ]
     },
     "execution_count": 158,
     "metadata": {},
     "output_type": "execute_result"
    }
   ],
   "source": [
    "yk_err = np.array([ufloat(yk[0],uk[0]),ufloat(yk[1],uk[1])])\n",
    "yk_err"
   ]
  },
  {
   "cell_type": "code",
   "execution_count": 159,
   "metadata": {
    "colab": {
     "base_uri": "https://localhost:8080/"
    },
    "executionInfo": {
     "elapsed": 36,
     "status": "ok",
     "timestamp": 1700760483193,
     "user": {
      "displayName": "Ben Joshua Fliegener",
      "userId": "06969016385245233563"
     },
     "user_tz": -60
    },
    "id": "xx1AQvZiYJ3H",
    "outputId": "fe671e5b-89b2-4b28-f856-6d1c07831acb"
   },
   "outputs": [
    {
     "name": "stdout",
     "output_type": "stream",
     "text": [
      "2.299+/-0.014\n"
     ]
    }
   ],
   "source": [
    "print(np.mean(yk_err*1e3))"
   ]
  },
  {
   "cell_type": "code",
   "execution_count": null,
   "metadata": {},
   "outputs": [],
   "source": []
  }
 ],
 "metadata": {
  "colab": {
   "authorship_tag": "ABX9TyPxXVOIpKi8A3eTy37j4dGs",
   "collapsed_sections": [
    "oQH5NcDRA6CS",
    "CqK_yhF0BDhk",
    "1s3KRBc12nzz",
    "jq5BHSBd20jW"
   ],
   "provenance": []
  },
  "kernelspec": {
   "display_name": "projects",
   "language": "python",
   "name": "python3"
  },
  "language_info": {
   "codemirror_mode": {
    "name": "ipython",
    "version": 3
   },
   "file_extension": ".py",
   "mimetype": "text/x-python",
   "name": "python",
   "nbconvert_exporter": "python",
   "pygments_lexer": "ipython3",
   "version": "3.12.8"
  }
 },
 "nbformat": 4,
 "nbformat_minor": 0
}
