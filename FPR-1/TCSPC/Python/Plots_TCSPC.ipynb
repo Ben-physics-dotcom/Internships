{
  "cells": [
    {
      "cell_type": "markdown",
      "metadata": {
        "id": "jjSOrB3Mp909"
      },
      "source": [
        "# Description"
      ]
    },
    {
      "cell_type": "markdown",
      "metadata": {
        "id": "q_wg9WN3pzeL"
      },
      "source": [
        "In this notebook i will plot all data, which are must be plot for the protocoll."
      ]
    },
    {
      "cell_type": "markdown",
      "metadata": {
        "id": "Lu0LlV8TpHgm"
      },
      "source": [
        "# Importe"
      ]
    },
    {
      "cell_type": "code",
      "execution_count": 61,
      "metadata": {
        "id": "LrzkbTUdpCyp"
      },
      "outputs": [],
      "source": [
        "import numpy as np\n",
        "import pandas as pd\n",
        "import matplotlib.pyplot as plt\n",
        "\n",
        "# the rest\n",
        "from matplotlib.font_manager import FontProperties\n",
        "import requests\n",
        "from sdtfile.sdtfile import SdtFile\n",
        "import os\n",
        "\n",
        "# Regression\n",
        "from scipy.optimize import curve_fit\n",
        "import statsmodels.api as sm\n",
        "import scipy as sp\n",
        "# import lifefit as lf\n",
        "import scipy.stats as stats"
      ]
    },
    {
      "cell_type": "markdown",
      "metadata": {
        "id": "QkbVHk57rj_H"
      },
      "source": [
        "# Functions"
      ]
    },
    {
      "cell_type": "code",
      "execution_count": 62,
      "metadata": {
        "id": "NgcxLjNMrlye"
      },
      "outputs": [],
      "source": [
        "class math_func():\n",
        "    def af(N0, t, t0, tau=4.9e-9):\n",
        "        N = N0 * np.exp(-(t - t0) / tau)\n",
        "        return N\n",
        "\n",
        "    def snr(Nmax, Nrausch):\n",
        "        snr = (Nmax - Nrausch) / Nrausch\n",
        "        return snr\n",
        "\n",
        "    def anisotropie(I_par, I_ortho):\n",
        "        \"\"\"\n",
        "          I_par:      parallele Intensität\n",
        "          I_ortho:    orthogonale Intensität\n",
        "        \"\"\"\n",
        "        r = (I_par - I_ortho) / (I_par + 2 * I_ortho)\n",
        "        return r\n",
        "\n",
        "    def mse(y, y_hat):\n",
        "        \"\"\"\n",
        "        y must be an array\n",
        "        \"\"\"\n",
        "        ms_error = (y - y_hat)**2 / len(y)\n",
        "        return ms_error.sum(), len(y)\n",
        "\n",
        "    def rmse(y, y_hat):\n",
        "        ms, _ = math_func.mse(y, y_hat)\n",
        "        rms = np.sqrt(ms)\n",
        "        return rms\n",
        "\n",
        "\n",
        "class fpr():\n",
        "    def creating_folder(fn='New-Folder'):\n",
        "        for i in range(1, 30):\n",
        "            path = f'/content/{fn}_{i}'\n",
        "            if not os.path.exists(path):\n",
        "                os.makedirs(path, exist_ok=True)\n",
        "            return path\n",
        "\n",
        "    def download_asc(self, url_list, name_list, foldername):\n",
        "        if len(url_list) == len(name_list):\n",
        "            new_folder_path = self.creating_folder(foldername)\n",
        "            if new_folder_path:\n",
        "                print(f\"New folder created at: {new_folder_path}\")\n",
        "            else:\n",
        "                print(f\"Error creating folder for fn in the creating_folder function. Maximum limit reached.\")\n",
        "        else:\n",
        "            print(\"Error: The lists don't have the same length. Change it\")\n",
        "\n",
        "#   def download_csv(link,filename,ind=0,h=0):\n",
        "#     !wget {link}\n",
        "#     df = pd.read_csv(f'/content/{filename}',index_col=ind,header=0)\n",
        "#     return df\n",
        "\n",
        "    def download_file(url, save_path):\n",
        "        response = requests.get(url)\n",
        "        with open(save_path, 'wb') as file:\n",
        "            file.write(response.content)\n",
        "        print(f\"File downloaded to {save_path}\")\n",
        "\n",
        "    def get_excel_sheet_info(file_path):\n",
        "        xl = pd.ExcelFile(file_path)\n",
        "        sheet_count = len(xl.sheet_names)\n",
        "        sheet_names = xl.sheet_names\n",
        "        return sheet_count, sheet_names\n",
        "\n",
        "    def sheet_transform(filename, list_of_sheets):\n",
        "        lst_of_df = []\n",
        "        for i in range(len(list_of_sheets)):\n",
        "            df = pd.read_excel(filename, list_of_sheets[i])\n",
        "            df = df.drop(0)\n",
        "            df = df.T\n",
        "            df.index = range(len(df))\n",
        "            df.columns = df.iloc[0]\n",
        "            df = df.drop(0)\n",
        "            df.index = range(len(df))\n",
        "            lst_of_df.append(df)\n",
        "        return lst_of_df\n",
        "\n",
        "    # def df_into_csv_list(list_of_df,folder_path,name_of_csv):\n",
        "    #     \"\"\"\n",
        "    #     Needed Packages:        os, google.colab.files\n",
        "    #     Description:            This function is for a list of\n",
        "    #                             data frames\n",
        "    #     \"\"\"\n",
        "    #     # needs the packages os and google.colab.files\n",
        "    #     if len(list_of_df) == len(name_of_csv):\n",
        "    #         for i in range(len(list_of_df)):\n",
        "    #             list_of_df[i].to_csv(os.path.join(folder_path, f\"{name_of_csv[i]}.csv\"),\n",
        "    #                                  index=False,\n",
        "    #                                  encoding='utf-8-sig')\n",
        "    #             files.download(f'{folder_path}/{name_of_csv[i]}.csv')\n",
        "    #     else:\n",
        "    #         print('Both lists have not the same length!')\n",
        "\n",
        "    def df_into_csv(df, path, name_of_csv):\n",
        "        df.to_csv(os.path.join(path, f\"{name_of_csv}.csv\"),\n",
        "                index=False, encoding='utf-8-sig')\n",
        "\n",
        "    def list_of_df_from_folder(folder_path):\n",
        "        \"\"\"\n",
        "        Needed Packges: os, pandas as pd\n",
        "        \"\"\"\n",
        "        csv_files = [f for f in os.listdir(folder_path) if f.endswith('.csv')]\n",
        "        df_list = []\n",
        "        for file in csv_files:\n",
        "            file_path = os.path.join(folder_path, file)\n",
        "            df = pd.read_csv(file_path)\n",
        "            df_list.append(df)\n",
        "        return df_list\n",
        "\n",
        "    def asc_files(folder_path):\n",
        "        \"\"\"\n",
        "        Needed Packages: os, numpy as np\n",
        "        \"\"\"\n",
        "\n",
        "        asc_files = [f for f in os.listdir(folder_path) if f.endswith('.asc')]\n",
        "        return asc_files\n",
        "\n",
        "    def asc_to_array(folder_path):\n",
        "        # using files\n",
        "        asc_files = fpr.asc_files(folder_path)\n",
        "\n",
        "        dt_lists = []\n",
        "        for i in range(len(asc_files)):\n",
        "            data = []\n",
        "            file_path = os.path.join(folder_path,asc_files[i])\n",
        "            with open(file_path,'r') as f:\n",
        "                for line in f:\n",
        "                    try:\n",
        "                        # attempt to convert the line to floats\n",
        "                        values = [float(val) for val in line.split()]\n",
        "                        data.append(values)\n",
        "                    except ValueError:\n",
        "                        continue\n",
        "\n",
        "            dt_lists.append(data)\n",
        "\n",
        "        return dt_lists\n",
        "\n",
        "    def list_of_filenames(folder_path):\n",
        "        \"\"\"\n",
        "        Packages: os\n",
        "        Function to get the filenames without file ending\n",
        "        \"\"\"\n",
        "        all_files = os.listdir(folder_path)\n",
        "        file_names = [os.path.splitext(file)[0] for file in all_files]\n",
        "        return file_names\n",
        "\n",
        "    def sdt_cfd_sw(folder_path):\n",
        "        \"\"\"\n",
        "        Packages: os, sdtfile.sdtfile.SdtFile\n",
        "        \"\"\"\n",
        "        sdt_files = [f for f in os.listdir(folder_path) if f.endswith('.sdt')]\n",
        "\n",
        "        dfs = []\n",
        "        file_names = []\n",
        "        for file in sdt_files:\n",
        "            # getting file names\n",
        "            name = os.path.splitext(file)[0]\n",
        "            file_names.append(name)\n",
        "            # getting data\n",
        "            fp = os.path.join(folder_path, file)\n",
        "            sdt = SdtFile(fp)\n",
        "            data = sdt.data[0][0]\n",
        "            dfs.append(data)\n",
        "\n",
        "        return dfs, file_names\n",
        "\n",
        "    def data_frame(list_of_arrays, col_names, path, file_name):\n",
        "        \"\"\"\n",
        "        Creating from a list of arrays a data frame.\n",
        "\n",
        "        Each Array must have a length of 1024 elements.\n",
        "\n",
        "        List of arrays:       list_of_arrays\n",
        "        Column names:         col_names\n",
        "        Folder path:          path\n",
        "        CSV file name:        file name\n",
        "        \"\"\"\n",
        "        # Creating Data Frame\n",
        "        time = np.linspace(0, 25, 1024)\n",
        "        df = pd.DataFrame(list_of_arrays).T\n",
        "        df.columns = col_names\n",
        "        df['Time'] = time\n",
        "\n",
        "        # Creating CSV File\n",
        "        fpr.df_into_csv(df, path, file_name)\n",
        "\n",
        "        # return data frame\n",
        "        return df\n",
        "\n",
        "    def plotting_spc(df, col_names, label=''):\n",
        "        \"\"\"\n",
        "        Packages: matplotlib.pyplot as plt\n",
        "        \"\"\"\n",
        "        # plotting\n",
        "        x = df['Time']\n",
        "        for i in col_names:\n",
        "            y = df[i]\n",
        "            plt.plot(x, y, label=label + f' {i}')\n",
        "        plt.xlabel('Time [ns]')\n",
        "        plt.ylabel('Counts')\n",
        "        plt.yscale('log')\n",
        "        plt.legend(loc='center right', bbox_to_anchor=(1.4, .5))\n",
        "\n",
        "        # showing\n",
        "        plt.show()\n",
        "\n",
        "    def plotting_gen_with_labels(df, col_names, labels):\n",
        "        \"\"\"\n",
        "        Packages: matplotlib.pyplot as plt\n",
        "        \"\"\"\n",
        "        # plotting\n",
        "        x = df['Time']\n",
        "        for i in range(len(labels)):\n",
        "            y = df[col_names[i]]\n",
        "            plt.plot(x, y, label=labels[i])\n",
        "        plt.xlabel('Time [ns]', fontsize=14, fontweight='bold')\n",
        "        plt.ylabel('Counts', fontsize=14, fontweight='bold')\n",
        "        plt.yscale('log')\n",
        "\n",
        "        # Customize legend font size and weight\n",
        "        fontP = FontProperties()\n",
        "        fontP.set_size('large')  # Adjust 'large' as needed\n",
        "        fontP.set_weight('bold')\n",
        "\n",
        "        # Add a legend with custom font size and weight\n",
        "        plt.legend(loc='center right', bbox_to_anchor=(1.25, .5), prop=fontP)\n",
        "\n",
        "        # showing\n",
        "        plt.show()\n",
        "\n",
        "    def sdt_generall(path):\n",
        "        sdt_files = [f for f in os.listdir(path) if f.endswith('.sdt')]\n",
        "        fp = os.path.join(path, sdt_files[0])\n",
        "        sdt = SdtFile(fp)\n",
        "        data = sdt.data\n",
        "        dim = len(data)\n",
        "\n",
        "        file_names = []\n",
        "        dfs = []\n",
        "        for i in range(dim):\n",
        "            nl = []\n",
        "            dfs.append(nl)\n",
        "\n",
        "        for file in sdt_files:\n",
        "            # getting file names\n",
        "            name = os.path.splitext(file)[0]\n",
        "            file_names.append(name)\n",
        "            # getting data\n",
        "            fp = os.path.join(path, file)\n",
        "            sdt = SdtFile(fp)\n",
        "            data = sdt.data\n",
        "            for i in range(len(data)):\n",
        "                dfs[i].append(data[i][0])\n",
        "\n",
        "        return dfs, file_names\n",
        "\n",
        "#   def new_folder_for_files(list_of_files,new_folder_path):\n",
        "#     \"\"\"\n",
        "#     Packages: shutil, os\n",
        "#     \"\"\"\n",
        "#     # creating folder:\n",
        "#     os.makedirs(new_folder_path,exist_ok=True)\n",
        "\n",
        "#     # putting files in new folder\n",
        "#     s_f = '/content'\n",
        "#     for file in list_of_files:\n",
        "#       s_p = os.path.join(s_f,file)\n",
        "#       d_p = os.path.join(new_folder_path,file)\n",
        "#       shutil.move(s_p,d_p)\n"
      ]
    },
    {
      "cell_type": "code",
      "execution_count": 63,
      "metadata": {
        "id": "9BOnz_AKxExO"
      },
      "outputs": [],
      "source": [
        "# creating folder for plots\n",
        "# folder_name = 'Plots'\n",
        "# data_path = '../Data/'\n",
        "# path = fpr.creating_folder(folder_name)"
      ]
    },
    {
      "cell_type": "markdown",
      "metadata": {
        "id": "dqxCUsEaYBxx"
      },
      "source": [
        "# Graphes\n",
        "## needed plots\n",
        "- Apparatefunction\n",
        "- Peak-Pile-Up\n",
        "- Reab\n",
        "- Fluoresenzlebensdauer\n",
        "- Pheo\n",
        "- Triton\n",
        "- Anisotropie (all)\n",
        "\n",
        "## needed residuen\n",
        "- Peak-Pile-Up\n",
        "- Fluoresenzlebensdauer (Reab) from the experiment computer"
      ]
    },
    {
      "cell_type": "markdown",
      "metadata": {
        "id": "YTlSdX_PXoj6"
      },
      "source": [
        "# Excel Data"
      ]
    },
    {
      "cell_type": "code",
      "execution_count": 66,
      "metadata": {
        "colab": {
          "base_uri": "https://localhost:8080/"
        },
        "id": "yZndo-kNXrFI",
        "outputId": "781c4460-9e5c-4bae-e753-8bac42c8d53e"
      },
      "outputs": [],
      "source": [
        "data_path = '../Data/'"
      ]
    },
    {
      "cell_type": "markdown",
      "metadata": {
        "id": "a3TxBy4L6Mna"
      },
      "source": [
        "## Einbettung Miz"
      ]
    },
    {
      "cell_type": "code",
      "execution_count": 67,
      "metadata": {},
      "outputs": [
        {
          "data": {
            "text/plain": [
              "['1 SNR CFD',\n",
              " '2 PMT',\n",
              " '2.2 Laserint',\n",
              " '3 PileUp',\n",
              " '4 Reabsorp',\n",
              " '5 Pheo in EthWass',\n",
              " '6 EinbettMiz']"
            ]
          },
          "execution_count": 67,
          "metadata": {},
          "output_type": "execute_result"
        }
      ],
      "source": [
        "excel_file_path = data_path + 'SPC_Daten.xlsx'\n",
        "sheet_count, sheet_names = fpr.get_excel_sheet_info(excel_file_path)\n",
        "sheet_names"
      ]
    },
    {
      "cell_type": "code",
      "execution_count": 125,
      "metadata": {
        "colab": {
          "base_uri": "https://localhost:8080/",
          "height": 143
        },
        "id": "DG7zPVAR6Pbh",
        "outputId": "92c1f0b5-5df2-4515-ee71-10046850ba08"
      },
      "outputs": [
        {
          "data": {
            "text/html": [
              "<div>\n",
              "<style scoped>\n",
              "    .dataframe tbody tr th:only-of-type {\n",
              "        vertical-align: middle;\n",
              "    }\n",
              "\n",
              "    .dataframe tbody tr th {\n",
              "        vertical-align: top;\n",
              "    }\n",
              "\n",
              "    .dataframe thead th {\n",
              "        text-align: right;\n",
              "    }\n",
              "</style>\n",
              "<table border=\"1\" class=\"dataframe\">\n",
              "  <thead>\n",
              "    <tr style=\"text-align: right;\">\n",
              "      <th></th>\n",
              "      <th>chi^2</th>\n",
              "      <th>t in ns</th>\n",
              "      <th>Mischungsverhältnis P : W : E</th>\n",
              "    </tr>\n",
              "  </thead>\n",
              "  <tbody>\n",
              "    <tr>\n",
              "      <th>ohne Triton X100</th>\n",
              "      <td>3.201</td>\n",
              "      <td>0.0012</td>\n",
              "      <td>NaN</td>\n",
              "    </tr>\n",
              "    <tr>\n",
              "      <th>mit Triton X100</th>\n",
              "      <td>14.49</td>\n",
              "      <td>3.3038</td>\n",
              "      <td>1:4:0</td>\n",
              "    </tr>\n",
              "  </tbody>\n",
              "</table>\n",
              "</div>"
            ],
            "text/plain": [
              "                  chi^2 t in ns Mischungsverhältnis P : W : E\n",
              "ohne Triton X100  3.201  0.0012                           NaN\n",
              "mit Triton X100   14.49  3.3038                         1:4:0"
            ]
          },
          "execution_count": 125,
          "metadata": {},
          "output_type": "execute_result"
        }
      ],
      "source": [
        "df_miz = pd.read_excel(excel_file_path, sheet_names[6])\n",
        "df_miz.index = list(df_miz['Index'])\n",
        "df_miz = df_miz.drop('Index', axis=1).T\n",
        "df_miz"
      ]
    },
    {
      "cell_type": "code",
      "execution_count": 126,
      "metadata": {
        "id": "fDulEA5s6gQu"
      },
      "outputs": [
        {
          "name": "stderr",
          "output_type": "stream",
          "text": [
            "C:\\Users\\benjf\\AppData\\Local\\Temp\\ipykernel_30076\\1521030400.py:1: FutureWarning: Series.__getitem__ treating keys as positions is deprecated. In a future version, integer keys will always be treated as labels (consistent with DataFrame behavior). To access a value by position, use `ser.iloc[pos]`\n",
            "  MV_140_mz = df_miz['Mischungsverhältnis P : W : E'][1]\n"
          ]
        }
      ],
      "source": [
        "MV_140_mz = df_miz['Mischungsverhältnis P : W : E'][1]\n",
        "tau_miz = 3.3038"
      ]
    },
    {
      "cell_type": "markdown",
      "metadata": {
        "id": "uRjx5DNgbKFz"
      },
      "source": [
        "## Pile UP"
      ]
    },
    {
      "cell_type": "code",
      "execution_count": 83,
      "metadata": {},
      "outputs": [
        {
          "data": {
            "text/html": [
              "<div>\n",
              "<style scoped>\n",
              "    .dataframe tbody tr th:only-of-type {\n",
              "        vertical-align: middle;\n",
              "    }\n",
              "\n",
              "    .dataframe tbody tr th {\n",
              "        vertical-align: top;\n",
              "    }\n",
              "\n",
              "    .dataframe thead th {\n",
              "        text-align: right;\n",
              "    }\n",
              "</style>\n",
              "<table border=\"1\" class=\"dataframe\">\n",
              "  <thead>\n",
              "    <tr style=\"text-align: right;\">\n",
              "      <th>Pile up Effekt</th>\n",
              "      <th>Position</th>\n",
              "      <th>Counts</th>\n",
              "      <th>chi^2</th>\n",
              "      <th>t in ns</th>\n",
              "      <th>HWSM</th>\n",
              "    </tr>\n",
              "  </thead>\n",
              "  <tbody>\n",
              "    <tr>\n",
              "      <th>0</th>\n",
              "      <td>4.5</td>\n",
              "      <td>65792.0</td>\n",
              "      <td>1.234</td>\n",
              "      <td>4.59</td>\n",
              "      <td>2.4809</td>\n",
              "    </tr>\n",
              "    <tr>\n",
              "      <th>1</th>\n",
              "      <td>4.6</td>\n",
              "      <td>91146.0</td>\n",
              "      <td>1.445</td>\n",
              "      <td>4.74</td>\n",
              "      <td>2.5408</td>\n",
              "    </tr>\n",
              "    <tr>\n",
              "      <th>2</th>\n",
              "      <td>4.7</td>\n",
              "      <td>224322.0</td>\n",
              "      <td>2.358</td>\n",
              "      <td>4.92</td>\n",
              "      <td>2.4949</td>\n",
              "    </tr>\n",
              "    <tr>\n",
              "      <th>3</th>\n",
              "      <td>4.8</td>\n",
              "      <td>377627.0</td>\n",
              "      <td>3.57</td>\n",
              "      <td>5.0</td>\n",
              "      <td>2.5504</td>\n",
              "    </tr>\n",
              "    <tr>\n",
              "      <th>4</th>\n",
              "      <td>4.9</td>\n",
              "      <td>610481.0</td>\n",
              "      <td>5.031</td>\n",
              "      <td>5.05</td>\n",
              "      <td>2.7119</td>\n",
              "    </tr>\n",
              "    <tr>\n",
              "      <th>5</th>\n",
              "      <td>5.0</td>\n",
              "      <td>852527.0</td>\n",
              "      <td>7.282</td>\n",
              "      <td>5.06</td>\n",
              "      <td>2.5777</td>\n",
              "    </tr>\n",
              "    <tr>\n",
              "      <th>6</th>\n",
              "      <td>5.1</td>\n",
              "      <td>954268.0</td>\n",
              "      <td>8.25</td>\n",
              "      <td>5.09</td>\n",
              "      <td>2.7108</td>\n",
              "    </tr>\n",
              "    <tr>\n",
              "      <th>7</th>\n",
              "      <td>5.2</td>\n",
              "      <td>52944.0</td>\n",
              "      <td>1.304</td>\n",
              "      <td>4.46</td>\n",
              "      <td>1.3917</td>\n",
              "    </tr>\n",
              "    <tr>\n",
              "      <th>8</th>\n",
              "      <td>5.3</td>\n",
              "      <td>264114.0</td>\n",
              "      <td>2.972</td>\n",
              "      <td>4.97</td>\n",
              "      <td>2.6425</td>\n",
              "    </tr>\n",
              "  </tbody>\n",
              "</table>\n",
              "</div>"
            ],
            "text/plain": [
              "Pile up Effekt Position    Counts  chi^2 t in ns    HWSM\n",
              "0                   4.5   65792.0  1.234    4.59  2.4809\n",
              "1                   4.6   91146.0  1.445    4.74  2.5408\n",
              "2                   4.7  224322.0  2.358    4.92  2.4949\n",
              "3                   4.8  377627.0   3.57     5.0  2.5504\n",
              "4                   4.9  610481.0  5.031    5.05  2.7119\n",
              "5                   5.0  852527.0  7.282    5.06  2.5777\n",
              "6                   5.1  954268.0   8.25    5.09  2.7108\n",
              "7                   5.2   52944.0  1.304    4.46  1.3917\n",
              "8                   5.3  264114.0  2.972    4.97  2.6425"
            ]
          },
          "execution_count": 83,
          "metadata": {},
          "output_type": "execute_result"
        }
      ],
      "source": [
        "df_s_pu = pd.read_excel(excel_file_path, sheet_names[3])\n",
        "df_s_pu.index = df_s_pu['Pile up Effekt']\n",
        "df_s_pu = df_s_pu.T\n",
        "df_s_pu = df_s_pu.drop('Pile up Effekt')\n",
        "df_s_pu = df_s_pu.drop(np.nan, axis=1)\n",
        "index = len(df_s_pu)\n",
        "df_s_pu.index = range(index)\n",
        "df_s_pu.Name = None\n",
        "\n",
        "df_s_pu"
      ]
    },
    {
      "cell_type": "code",
      "execution_count": 54,
      "metadata": {
        "colab": {
          "base_uri": "https://localhost:8080/",
          "height": 332
        },
        "id": "xvQVRIssX4L9",
        "outputId": "34379df7-ac63-4343-ffd6-9ddd809f7b4f"
      },
      "outputs": [
        {
          "data": {
            "text/html": [
              "<div>\n",
              "<style scoped>\n",
              "    .dataframe tbody tr th:only-of-type {\n",
              "        vertical-align: middle;\n",
              "    }\n",
              "\n",
              "    .dataframe tbody tr th {\n",
              "        vertical-align: top;\n",
              "    }\n",
              "\n",
              "    .dataframe thead th {\n",
              "        text-align: right;\n",
              "    }\n",
              "</style>\n",
              "<table border=\"1\" class=\"dataframe\">\n",
              "  <thead>\n",
              "    <tr style=\"text-align: right;\">\n",
              "      <th>Pile up Effekt</th>\n",
              "      <th>Pos</th>\n",
              "      <th>Counts</th>\n",
              "      <th>chi^2</th>\n",
              "      <th>tau [ns]</th>\n",
              "      <th>HWSM</th>\n",
              "    </tr>\n",
              "  </thead>\n",
              "  <tbody>\n",
              "    <tr>\n",
              "      <th>0</th>\n",
              "      <td>4.5</td>\n",
              "      <td>65792.0</td>\n",
              "      <td>1.234</td>\n",
              "      <td>4.59</td>\n",
              "      <td>2.4809</td>\n",
              "    </tr>\n",
              "    <tr>\n",
              "      <th>1</th>\n",
              "      <td>4.6</td>\n",
              "      <td>91146.0</td>\n",
              "      <td>1.445</td>\n",
              "      <td>4.74</td>\n",
              "      <td>2.5408</td>\n",
              "    </tr>\n",
              "    <tr>\n",
              "      <th>2</th>\n",
              "      <td>4.7</td>\n",
              "      <td>224322.0</td>\n",
              "      <td>2.358</td>\n",
              "      <td>4.92</td>\n",
              "      <td>2.4949</td>\n",
              "    </tr>\n",
              "    <tr>\n",
              "      <th>3</th>\n",
              "      <td>4.8</td>\n",
              "      <td>377627.0</td>\n",
              "      <td>3.57</td>\n",
              "      <td>5.0</td>\n",
              "      <td>2.5504</td>\n",
              "    </tr>\n",
              "    <tr>\n",
              "      <th>4</th>\n",
              "      <td>4.9</td>\n",
              "      <td>610481.0</td>\n",
              "      <td>5.031</td>\n",
              "      <td>5.05</td>\n",
              "      <td>2.7119</td>\n",
              "    </tr>\n",
              "    <tr>\n",
              "      <th>5</th>\n",
              "      <td>5.0</td>\n",
              "      <td>852527.0</td>\n",
              "      <td>7.282</td>\n",
              "      <td>5.06</td>\n",
              "      <td>2.5777</td>\n",
              "    </tr>\n",
              "    <tr>\n",
              "      <th>6</th>\n",
              "      <td>5.1</td>\n",
              "      <td>954268.0</td>\n",
              "      <td>8.25</td>\n",
              "      <td>5.09</td>\n",
              "      <td>2.7108</td>\n",
              "    </tr>\n",
              "    <tr>\n",
              "      <th>7</th>\n",
              "      <td>5.2</td>\n",
              "      <td>52944.0</td>\n",
              "      <td>1.304</td>\n",
              "      <td>4.46</td>\n",
              "      <td>1.3917</td>\n",
              "    </tr>\n",
              "    <tr>\n",
              "      <th>8</th>\n",
              "      <td>5.3</td>\n",
              "      <td>264114.0</td>\n",
              "      <td>2.972</td>\n",
              "      <td>4.97</td>\n",
              "      <td>2.6425</td>\n",
              "    </tr>\n",
              "  </tbody>\n",
              "</table>\n",
              "</div>"
            ],
            "text/plain": [
              "Pile up Effekt  Pos    Counts  chi^2 tau [ns]    HWSM\n",
              "0               4.5   65792.0  1.234     4.59  2.4809\n",
              "1               4.6   91146.0  1.445     4.74  2.5408\n",
              "2               4.7  224322.0  2.358     4.92  2.4949\n",
              "3               4.8  377627.0   3.57      5.0  2.5504\n",
              "4               4.9  610481.0  5.031     5.05  2.7119\n",
              "5               5.0  852527.0  7.282     5.06  2.5777\n",
              "6               5.1  954268.0   8.25     5.09  2.7108\n",
              "7               5.2   52944.0  1.304     4.46  1.3917\n",
              "8               5.3  264114.0  2.972     4.97  2.6425"
            ]
          },
          "execution_count": 54,
          "metadata": {},
          "output_type": "execute_result"
        }
      ],
      "source": [
        "df_sheet_pu = df_s_pu\n",
        "df_sheet_pu = df_sheet_pu.rename(columns={\n",
        "    'Position': 'Pos',\n",
        "    't in ns': 'tau [ns]'\n",
        "})\n",
        "df_sheet_pu"
      ]
    },
    {
      "cell_type": "markdown",
      "metadata": {
        "id": "o67kdRmA-__S"
      },
      "source": [
        "## Reab"
      ]
    },
    {
      "cell_type": "code",
      "execution_count": 55,
      "metadata": {},
      "outputs": [
        {
          "data": {
            "text/plain": [
              "['1 SNR CFD',\n",
              " '2 PMT',\n",
              " '2.2 Laserint',\n",
              " '3 PileUp',\n",
              " '4 Reabsorp',\n",
              " '5 Pheo in EthWass',\n",
              " '6 EinbettMiz']"
            ]
          },
          "execution_count": 55,
          "metadata": {},
          "output_type": "execute_result"
        }
      ],
      "source": [
        "sheet_names"
      ]
    },
    {
      "cell_type": "code",
      "execution_count": 94,
      "metadata": {
        "id": "Et26XmVf_CMJ"
      },
      "outputs": [
        {
          "data": {
            "text/html": [
              "<div>\n",
              "<style scoped>\n",
              "    .dataframe tbody tr th:only-of-type {\n",
              "        vertical-align: middle;\n",
              "    }\n",
              "\n",
              "    .dataframe tbody tr th {\n",
              "        vertical-align: top;\n",
              "    }\n",
              "\n",
              "    .dataframe thead th {\n",
              "        text-align: right;\n",
              "    }\n",
              "</style>\n",
              "<table border=\"1\" class=\"dataframe\">\n",
              "  <thead>\n",
              "    <tr style=\"text-align: right;\">\n",
              "      <th></th>\n",
              "      <th>Mischungsverhältnis P : E</th>\n",
              "      <th>optische Dichte</th>\n",
              "      <th>chi^2</th>\n",
              "      <th>t in ns</th>\n",
              "      <th>chi^2</th>\n",
              "      <th>t in ns</th>\n",
              "    </tr>\n",
              "  </thead>\n",
              "  <tbody>\n",
              "    <tr>\n",
              "      <th>0</th>\n",
              "      <td>3:2</td>\n",
              "      <td>1.44</td>\n",
              "      <td>1.22</td>\n",
              "      <td>4.93</td>\n",
              "      <td>1.151</td>\n",
              "      <td>4.6</td>\n",
              "    </tr>\n",
              "    <tr>\n",
              "      <th>1</th>\n",
              "      <td>1:1</td>\n",
              "      <td>1.2</td>\n",
              "      <td>1.27</td>\n",
              "      <td>5.04</td>\n",
              "      <td>1.233</td>\n",
              "      <td>4.85</td>\n",
              "    </tr>\n",
              "    <tr>\n",
              "      <th>2</th>\n",
              "      <td>1:2</td>\n",
              "      <td>0.8</td>\n",
              "      <td>1.392</td>\n",
              "      <td>5.02</td>\n",
              "      <td>1.32</td>\n",
              "      <td>4.89</td>\n",
              "    </tr>\n",
              "    <tr>\n",
              "      <th>3</th>\n",
              "      <td>1:4</td>\n",
              "      <td>0.48</td>\n",
              "      <td>1.34</td>\n",
              "      <td>4.99</td>\n",
              "      <td>1.312</td>\n",
              "      <td>4.9</td>\n",
              "    </tr>\n",
              "    <tr>\n",
              "      <th>4</th>\n",
              "      <td>1:19</td>\n",
              "      <td>0.12</td>\n",
              "      <td>1.461</td>\n",
              "      <td>4.86</td>\n",
              "      <td>1.304</td>\n",
              "      <td>4.46</td>\n",
              "    </tr>\n",
              "  </tbody>\n",
              "</table>\n",
              "</div>"
            ],
            "text/plain": [
              "  Mischungsverhältnis P : E optische Dichte  chi^2 t in ns  chi^2 t in ns\n",
              "0                       3:2            1.44   1.22    4.93  1.151     4.6\n",
              "1                       1:1             1.2   1.27    5.04  1.233    4.85\n",
              "2                       1:2             0.8  1.392    5.02   1.32    4.89\n",
              "3                       1:4            0.48   1.34    4.99  1.312     4.9\n",
              "4                      1:19            0.12  1.461    4.86  1.304    4.46"
            ]
          },
          "execution_count": 94,
          "metadata": {},
          "output_type": "execute_result"
        }
      ],
      "source": [
        "df_sheet_reab = pd.read_excel(excel_file_path, sheet_names[4])\n",
        "df_sheet_reab = df_sheet_reab.drop([0, 1, 2, 7])\n",
        "index = list(df_sheet_reab['4. Reabsorptionseffekte'])\n",
        "df_sheet_reab.index = index\n",
        "df_sheet_reab = df_sheet_reab.drop('4. Reabsorptionseffekte', axis=1).T\n",
        "df_sheet_reab.index = range(len(df_sheet_reab))\n",
        "df_sheet_reab"
      ]
    },
    {
      "cell_type": "code",
      "execution_count": 97,
      "metadata": {},
      "outputs": [
        {
          "data": {
            "text/html": [
              "<div>\n",
              "<style scoped>\n",
              "    .dataframe tbody tr th:only-of-type {\n",
              "        vertical-align: middle;\n",
              "    }\n",
              "\n",
              "    .dataframe tbody tr th {\n",
              "        vertical-align: top;\n",
              "    }\n",
              "\n",
              "    .dataframe thead th {\n",
              "        text-align: right;\n",
              "    }\n",
              "</style>\n",
              "<table border=\"1\" class=\"dataframe\">\n",
              "  <thead>\n",
              "    <tr style=\"text-align: right;\">\n",
              "      <th></th>\n",
              "      <th>Mischungsverhältnis P : E</th>\n",
              "      <th>optische Dichte</th>\n",
              "      <th>chi^2</th>\n",
              "      <th>t in ns</th>\n",
              "      <th>chi^2</th>\n",
              "      <th>t in ns.1</th>\n",
              "    </tr>\n",
              "  </thead>\n",
              "  <tbody>\n",
              "    <tr>\n",
              "      <th>0</th>\n",
              "      <td>3:2</td>\n",
              "      <td>1.44</td>\n",
              "      <td>1.22</td>\n",
              "      <td>4.93</td>\n",
              "      <td>1.151</td>\n",
              "      <td>4.6</td>\n",
              "    </tr>\n",
              "    <tr>\n",
              "      <th>1</th>\n",
              "      <td>1:1</td>\n",
              "      <td>1.2</td>\n",
              "      <td>1.27</td>\n",
              "      <td>5.04</td>\n",
              "      <td>1.233</td>\n",
              "      <td>4.85</td>\n",
              "    </tr>\n",
              "    <tr>\n",
              "      <th>2</th>\n",
              "      <td>1:2</td>\n",
              "      <td>0.8</td>\n",
              "      <td>1.392</td>\n",
              "      <td>5.02</td>\n",
              "      <td>1.32</td>\n",
              "      <td>4.89</td>\n",
              "    </tr>\n",
              "    <tr>\n",
              "      <th>3</th>\n",
              "      <td>1:4</td>\n",
              "      <td>0.48</td>\n",
              "      <td>1.34</td>\n",
              "      <td>4.99</td>\n",
              "      <td>1.312</td>\n",
              "      <td>4.9</td>\n",
              "    </tr>\n",
              "    <tr>\n",
              "      <th>4</th>\n",
              "      <td>1:19</td>\n",
              "      <td>0.12</td>\n",
              "      <td>1.461</td>\n",
              "      <td>4.86</td>\n",
              "      <td>1.304</td>\n",
              "      <td>4.46</td>\n",
              "    </tr>\n",
              "  </tbody>\n",
              "</table>\n",
              "</div>"
            ],
            "text/plain": [
              "  Mischungsverhältnis P : E optische Dichte  chi^2 t in ns  chi^2 t in ns.1\n",
              "0                       3:2            1.44   1.22    4.93  1.151       4.6\n",
              "1                       1:1             1.2   1.27    5.04  1.233      4.85\n",
              "2                       1:2             0.8  1.392    5.02   1.32      4.89\n",
              "3                       1:4            0.48   1.34    4.99  1.312       4.9\n",
              "4                      1:19            0.12  1.461    4.86  1.304      4.46"
            ]
          },
          "execution_count": 97,
          "metadata": {},
          "output_type": "execute_result"
        }
      ],
      "source": [
        "df_sheet_reab.columns = ['Mischungsverhältnis P : E', 'optische Dichte', 'chi^2', 't in ns',\n",
        "       'chi^2', 't in ns.1']\n",
        "df_sheet_reab"
      ]
    },
    {
      "cell_type": "code",
      "execution_count": 98,
      "metadata": {
        "id": "NupJuTxA_Wrr"
      },
      "outputs": [],
      "source": [
        "x = df_sheet_reab['optische Dichte']\n",
        "# y_reab_lt_1 = df_sheet_reab['t in ns']\n",
        "y_reab_lt_2 = df_sheet_reab['t in ns.1']"
      ]
    },
    {
      "cell_type": "code",
      "execution_count": 99,
      "metadata": {
        "colab": {
          "base_uri": "https://localhost:8080/",
          "height": 206
        },
        "id": "g5XZcsfppvqt",
        "outputId": "228e7c58-db60-425f-9a8a-ba45818db322"
      },
      "outputs": [
        {
          "data": {
            "text/html": [
              "<div>\n",
              "<style scoped>\n",
              "    .dataframe tbody tr th:only-of-type {\n",
              "        vertical-align: middle;\n",
              "    }\n",
              "\n",
              "    .dataframe tbody tr th {\n",
              "        vertical-align: top;\n",
              "    }\n",
              "\n",
              "    .dataframe thead th {\n",
              "        text-align: right;\n",
              "    }\n",
              "</style>\n",
              "<table border=\"1\" class=\"dataframe\">\n",
              "  <thead>\n",
              "    <tr style=\"text-align: right;\">\n",
              "      <th></th>\n",
              "      <th>optische Dichte</th>\n",
              "      <th>t in ns.1</th>\n",
              "    </tr>\n",
              "  </thead>\n",
              "  <tbody>\n",
              "    <tr>\n",
              "      <th>4</th>\n",
              "      <td>0.12</td>\n",
              "      <td>4.46</td>\n",
              "    </tr>\n",
              "    <tr>\n",
              "      <th>3</th>\n",
              "      <td>0.48</td>\n",
              "      <td>4.90</td>\n",
              "    </tr>\n",
              "    <tr>\n",
              "      <th>2</th>\n",
              "      <td>0.80</td>\n",
              "      <td>4.89</td>\n",
              "    </tr>\n",
              "    <tr>\n",
              "      <th>1</th>\n",
              "      <td>1.20</td>\n",
              "      <td>4.85</td>\n",
              "    </tr>\n",
              "    <tr>\n",
              "      <th>0</th>\n",
              "      <td>1.44</td>\n",
              "      <td>4.60</td>\n",
              "    </tr>\n",
              "  </tbody>\n",
              "</table>\n",
              "</div>"
            ],
            "text/plain": [
              "   optische Dichte  t in ns.1\n",
              "4             0.12       4.46\n",
              "3             0.48       4.90\n",
              "2             0.80       4.89\n",
              "1             1.20       4.85\n",
              "0             1.44       4.60"
            ]
          },
          "execution_count": 99,
          "metadata": {},
          "output_type": "execute_result"
        }
      ],
      "source": [
        "data = pd.DataFrame(data=[x, y_reab_lt_2]).T\n",
        "data = data.sort_values(by='optische Dichte')\n",
        "data"
      ]
    },
    {
      "cell_type": "code",
      "execution_count": 103,
      "metadata": {
        "colab": {
          "base_uri": "https://localhost:8080/",
          "height": 417
        },
        "id": "khPtF-3p_o8d",
        "outputId": "6b425aec-615d-4019-c8cd-43cdc3a8ece4"
      },
      "outputs": [
        {
          "data": {
            "image/png": "[encoded data removed]",
            "text/plain": [
              "<Figure size 640x480 with 1 Axes>"
            ]
          },
          "metadata": {},
          "output_type": "display_data"
        }
      ],
      "source": [
        "# plt.plot(x_reab_od,y_reab_lt_1,'bo',label='LT(OD), Try: 1')\n",
        "plt.plot(data['optische Dichte'],data['t in ns.1'],'ro',label='LT(OD)')\n",
        "\n",
        "plt.xlabel('OD', fontsize=14, fontweight='bold')\n",
        "plt.ylabel('Lifetime [ns]', fontsize=14, fontweight='bold')\n",
        "\n",
        "# Customize legend font size and weight\n",
        "fontP = FontProperties()\n",
        "fontP.set_size('large')  # Adjust 'large' as needed\n",
        "fontP.set_weight('bold')\n",
        "\n",
        "# Add a legend with custom font size and weight\n",
        "plt.legend(loc='center right', bbox_to_anchor=(1.25, .5), prop=fontP)\n",
        "# plt.savefig(f'Lifetime_OD.png',dpi=600,transparent=True,bbox_inches='tight')\n",
        "plt.show()"
      ]
    },
    {
      "cell_type": "markdown",
      "metadata": {
        "id": "Uu7ThqF2BpYA"
      },
      "source": [
        "## LT Pheo in Wasser Ethanol"
      ]
    },
    {
      "cell_type": "code",
      "execution_count": 104,
      "metadata": {},
      "outputs": [
        {
          "data": {
            "text/plain": [
              "['1 SNR CFD',\n",
              " '2 PMT',\n",
              " '2.2 Laserint',\n",
              " '3 PileUp',\n",
              " '4 Reabsorp',\n",
              " '5 Pheo in EthWass',\n",
              " '6 EinbettMiz']"
            ]
          },
          "execution_count": 104,
          "metadata": {},
          "output_type": "execute_result"
        }
      ],
      "source": [
        "sheet_names"
      ]
    },
    {
      "cell_type": "code",
      "execution_count": 111,
      "metadata": {},
      "outputs": [
        {
          "data": {
            "text/html": [
              "<div>\n",
              "<style scoped>\n",
              "    .dataframe tbody tr th:only-of-type {\n",
              "        vertical-align: middle;\n",
              "    }\n",
              "\n",
              "    .dataframe tbody tr th {\n",
              "        vertical-align: top;\n",
              "    }\n",
              "\n",
              "    .dataframe thead th {\n",
              "        text-align: right;\n",
              "    }\n",
              "</style>\n",
              "<table border=\"1\" class=\"dataframe\">\n",
              "  <thead>\n",
              "    <tr style=\"text-align: right;\">\n",
              "      <th></th>\n",
              "      <th>Mischungsverhältnis P : W : E</th>\n",
              "      <th>chi^2</th>\n",
              "      <th>t in ns</th>\n",
              "    </tr>\n",
              "  </thead>\n",
              "  <tbody>\n",
              "    <tr>\n",
              "      <th>0</th>\n",
              "      <td>1:0:4</td>\n",
              "      <td>1.312</td>\n",
              "      <td>4.9</td>\n",
              "    </tr>\n",
              "    <tr>\n",
              "      <th>1</th>\n",
              "      <td>1:1:3</td>\n",
              "      <td>20.93</td>\n",
              "      <td>3.08</td>\n",
              "    </tr>\n",
              "    <tr>\n",
              "      <th>2</th>\n",
              "      <td>1:2:2</td>\n",
              "      <td>36.25</td>\n",
              "      <td>0.0144</td>\n",
              "    </tr>\n",
              "    <tr>\n",
              "      <th>3</th>\n",
              "      <td>1:3:1</td>\n",
              "      <td>10.38</td>\n",
              "      <td>0.0008</td>\n",
              "    </tr>\n",
              "    <tr>\n",
              "      <th>4</th>\n",
              "      <td>1:4:0</td>\n",
              "      <td>3.201</td>\n",
              "      <td>0.0012</td>\n",
              "    </tr>\n",
              "  </tbody>\n",
              "</table>\n",
              "</div>"
            ],
            "text/plain": [
              "  Mischungsverhältnis P : W : E  chi^2 t in ns\n",
              "0                         1:0:4  1.312     4.9\n",
              "1                         1:1:3  20.93    3.08\n",
              "2                         1:2:2  36.25  0.0144\n",
              "3                         1:3:1  10.38  0.0008\n",
              "4                         1:4:0  3.201  0.0012"
            ]
          },
          "execution_count": 111,
          "metadata": {},
          "output_type": "execute_result"
        }
      ],
      "source": [
        "df_LT_Pheo = pd.read_excel(excel_file_path, sheet_names[5])\n",
        "df_LT_Pheo = df_LT_Pheo.drop(0)\n",
        "df_LT_Pheo.index = list(df_LT_Pheo['5 Pheophorbit in Ethanol-Wasser-Gemischen'])\n",
        "df_LT_Pheo = df_LT_Pheo.drop('5 Pheophorbit in Ethanol-Wasser-Gemischen', axis=1)\n",
        "df_LT_Pheo.columns = range(len(df_LT_Pheo.columns))\n",
        "df_LT_Pheo = df_LT_Pheo.T\n",
        "df_LT_Pheo"
      ]
    },
    {
      "cell_type": "code",
      "execution_count": 112,
      "metadata": {
        "id": "OOFzVP2SCL0z"
      },
      "outputs": [],
      "source": [
        "x = list(df_LT_Pheo['Mischungsverhältnis P : W : E'])\n",
        "# x = x[::-1]\n",
        "y = np.array(df_LT_Pheo['t in ns'])\n",
        "# y = y[::-1]"
      ]
    },
    {
      "cell_type": "code",
      "execution_count": 113,
      "metadata": {
        "colab": {
          "base_uri": "https://localhost:8080/"
        },
        "id": "sL2-z0IaDgw8",
        "outputId": "3419295e-ce9a-4387-ddf1-57ec878e3665"
      },
      "outputs": [
        {
          "name": "stdout",
          "output_type": "stream",
          "text": [
            "<class 'list'>\n",
            "['1:0:4', '1:1:3', '1:2:2', '1:3:1', '1:4:0']\n",
            "[4.9 3.08 0.0144 0.0008 0.0012]\n"
          ]
        }
      ],
      "source": [
        "print(type(x))\n",
        "print(x)\n",
        "print(y)"
      ]
    },
    {
      "cell_type": "code",
      "execution_count": 128,
      "metadata": {
        "colab": {
          "base_uri": "https://localhost:8080/",
          "height": 425
        },
        "id": "KYUtCBNDC41d",
        "outputId": "362f3334-78bc-443b-817d-be98eecf8521"
      },
      "outputs": [
        {
          "data": {
            "image/png": "[encoded data removed]",
            "text/plain": [
              "<Figure size 640x480 with 1 Axes>"
            ]
          },
          "metadata": {},
          "output_type": "display_data"
        }
      ],
      "source": [
        "plt.plot(x, y, 'bo', label='LT(P:W:E)')\n",
        "plt.plot(MV_140_mz, tau_miz, 'ro', label='with Triton')\n",
        "\n",
        "plt.xlabel('MV P:W:E',fontsize=14,fontweight='bold')\n",
        "plt.ylabel('Lifetime [ns]',fontsize=14,fontweight='bold')\n",
        "\n",
        "# Customize legend font size and weight\n",
        "fontP = FontProperties()\n",
        "fontP.set_size('large')  # Adjust 'large' as needed\n",
        "fontP.set_weight('bold')\n",
        "\n",
        "# Add a legend with custom font size and weight\n",
        "plt.legend(loc='center right',bbox_to_anchor=(1.25,.5),prop=fontP)\n",
        "# plt.savefig(f'Lifetime_MV.png',dpi=600,transparent=True,bbox_inches = 'tight')\n",
        "plt.grid()\n",
        "plt.show()"
      ]
    },
    {
      "cell_type": "markdown",
      "metadata": {
        "id": "lHwbK3AEbDoO"
      },
      "source": [
        "## Lebensdauer (Reab)"
      ]
    },
    {
      "cell_type": "code",
      "execution_count": null,
      "metadata": {
        "colab": {
          "base_uri": "https://localhost:8080/",
          "height": 206
        },
        "id": "Yw-nrNEibHhv",
        "outputId": "fec19448-4bf4-45ab-fdc2-055d3c5e21ef"
      },
      "outputs": [
        {
          "data": {
            "text/html": [
              "\n",
              "  <div id=\"df-b2bf2529-7e71-4d6d-abaa-dc2275f64863\" class=\"colab-df-container\">\n",
              "    <div>\n",
              "<style scoped>\n",
              "    .dataframe tbody tr th:only-of-type {\n",
              "        vertical-align: middle;\n",
              "    }\n",
              "\n",
              "    .dataframe tbody tr th {\n",
              "        vertical-align: top;\n",
              "    }\n",
              "\n",
              "    .dataframe thead th {\n",
              "        text-align: right;\n",
              "    }\n",
              "</style>\n",
              "<table border=\"1\" class=\"dataframe\">\n",
              "  <thead>\n",
              "    <tr style=\"text-align: right;\">\n",
              "      <th></th>\n",
              "      <th>MV P:E</th>\n",
              "      <th>OD</th>\n",
              "      <th>chi^2</th>\n",
              "      <th>tau [ns]</th>\n",
              "    </tr>\n",
              "  </thead>\n",
              "  <tbody>\n",
              "    <tr>\n",
              "      <th>0</th>\n",
              "      <td>3:2</td>\n",
              "      <td>1.44</td>\n",
              "      <td>1.151</td>\n",
              "      <td>4.60</td>\n",
              "    </tr>\n",
              "    <tr>\n",
              "      <th>1</th>\n",
              "      <td>1:1</td>\n",
              "      <td>1.2</td>\n",
              "      <td>1.233</td>\n",
              "      <td>4.85</td>\n",
              "    </tr>\n",
              "    <tr>\n",
              "      <th>2</th>\n",
              "      <td>1:2</td>\n",
              "      <td>0.8</td>\n",
              "      <td>1.32</td>\n",
              "      <td>4.89</td>\n",
              "    </tr>\n",
              "    <tr>\n",
              "      <th>3</th>\n",
              "      <td>1:4</td>\n",
              "      <td>0.48</td>\n",
              "      <td>1.312</td>\n",
              "      <td>4.90</td>\n",
              "    </tr>\n",
              "    <tr>\n",
              "      <th>4</th>\n",
              "      <td>1:19</td>\n",
              "      <td>0.12</td>\n",
              "      <td>1.304</td>\n",
              "      <td>4.46</td>\n",
              "    </tr>\n",
              "  </tbody>\n",
              "</table>\n",
              "</div>\n",
              "    <div class=\"colab-df-buttons\">\n",
              "\n",
              "  <div class=\"colab-df-container\">\n",
              "    <button class=\"colab-df-convert\" onclick=\"convertToInteractive('df-b2bf2529-7e71-4d6d-abaa-dc2275f64863')\"\n",
              "            title=\"Convert this dataframe to an interactive table.\"\n",
              "            style=\"display:none;\">\n",
              "\n",
              "  <svg xmlns=\"http://www.w3.org/2000/svg\" height=\"24px\" viewBox=\"0 -960 960 960\">\n",
              "    <path d=\"M120-120v-720h720v720H120Zm60-500h600v-160H180v160Zm220 220h160v-160H400v160Zm0 220h160v-160H400v160ZM180-400h160v-160H180v160Zm440 0h160v-160H620v160ZM180-180h160v-160H180v160Zm440 0h160v-160H620v160Z\"/>\n",
              "  </svg>\n",
              "    </button>\n",
              "\n",
              "  <style>\n",
              "    .colab-df-container {\n",
              "      display:flex;\n",
              "      gap: 12px;\n",
              "    }\n",
              "\n",
              "    .colab-df-convert {\n",
              "      background-color: #E8F0FE;\n",
              "      border: none;\n",
              "      border-radius: 50%;\n",
              "      cursor: pointer;\n",
              "      display: none;\n",
              "      fill: #1967D2;\n",
              "      height: 32px;\n",
              "      padding: 0 0 0 0;\n",
              "      width: 32px;\n",
              "    }\n",
              "\n",
              "    .colab-df-convert:hover {\n",
              "      background-color: #E2EBFA;\n",
              "      box-shadow: 0px 1px 2px rgba(60, 64, 67, 0.3), 0px 1px 3px 1px rgba(60, 64, 67, 0.15);\n",
              "      fill: #174EA6;\n",
              "    }\n",
              "\n",
              "    .colab-df-buttons div {\n",
              "      margin-bottom: 4px;\n",
              "    }\n",
              "\n",
              "    [theme=dark] .colab-df-convert {\n",
              "      background-color: #3B4455;\n",
              "      fill: #D2E3FC;\n",
              "    }\n",
              "\n",
              "    [theme=dark] .colab-df-convert:hover {\n",
              "      background-color: #434B5C;\n",
              "      box-shadow: 0px 1px 3px 1px rgba(0, 0, 0, 0.15);\n",
              "      filter: drop-shadow(0px 1px 2px rgba(0, 0, 0, 0.3));\n",
              "      fill: #FFFFFF;\n",
              "    }\n",
              "  </style>\n",
              "\n",
              "    <script>\n",
              "      const buttonEl =\n",
              "        document.querySelector('#df-b2bf2529-7e71-4d6d-abaa-dc2275f64863 button.colab-df-convert');\n",
              "      buttonEl.style.display =\n",
              "        google.colab.kernel.accessAllowed ? 'block' : 'none';\n",
              "\n",
              "      async function convertToInteractive(key) {\n",
              "        const element = document.querySelector('#df-b2bf2529-7e71-4d6d-abaa-dc2275f64863');\n",
              "        const dataTable =\n",
              "          await google.colab.kernel.invokeFunction('convertToInteractive',\n",
              "                                                    [key], {});\n",
              "        if (!dataTable) return;\n",
              "\n",
              "        const docLinkHtml = 'Like what you see? Visit the ' +\n",
              "          '<a target=\"_blank\" href=https://colab.research.google.com/notebooks/data_table.ipynb>data table notebook</a>'\n",
              "          + ' to learn more about interactive tables.';\n",
              "        element.innerHTML = '';\n",
              "        dataTable['output_type'] = 'display_data';\n",
              "        await google.colab.output.renderOutput(dataTable, element);\n",
              "        const docLink = document.createElement('div');\n",
              "        docLink.innerHTML = docLinkHtml;\n",
              "        element.appendChild(docLink);\n",
              "      }\n",
              "    </script>\n",
              "  </div>\n",
              "\n",
              "\n",
              "<div id=\"df-7fd53866-c0d9-464b-b0fb-de28edea94ce\">\n",
              "  <button class=\"colab-df-quickchart\" onclick=\"quickchart('df-7fd53866-c0d9-464b-b0fb-de28edea94ce')\"\n",
              "            title=\"Suggest charts.\"\n",
              "            style=\"display:none;\">\n",
              "\n",
              "<svg xmlns=\"http://www.w3.org/2000/svg\" height=\"24px\"viewBox=\"0 0 24 24\"\n",
              "     width=\"24px\">\n",
              "    <g>\n",
              "        <path d=\"M19 3H5c-1.1 0-2 .9-2 2v14c0 1.1.9 2 2 2h14c1.1 0 2-.9 2-2V5c0-1.1-.9-2-2-2zM9 17H7v-7h2v7zm4 0h-2V7h2v10zm4 0h-2v-4h2v4z\"/>\n",
              "    </g>\n",
              "</svg>\n",
              "  </button>\n",
              "\n",
              "<style>\n",
              "  .colab-df-quickchart {\n",
              "      --bg-color: #E8F0FE;\n",
              "      --fill-color: #1967D2;\n",
              "      --hover-bg-color: #E2EBFA;\n",
              "      --hover-fill-color: #174EA6;\n",
              "      --disabled-fill-color: #AAA;\n",
              "      --disabled-bg-color: #DDD;\n",
              "  }\n",
              "\n",
              "  [theme=dark] .colab-df-quickchart {\n",
              "      --bg-color: #3B4455;\n",
              "      --fill-color: #D2E3FC;\n",
              "      --hover-bg-color: #434B5C;\n",
              "      --hover-fill-color: #FFFFFF;\n",
              "      --disabled-bg-color: #3B4455;\n",
              "      --disabled-fill-color: #666;\n",
              "  }\n",
              "\n",
              "  .colab-df-quickchart {\n",
              "    background-color: var(--bg-color);\n",
              "    border: none;\n",
              "    border-radius: 50%;\n",
              "    cursor: pointer;\n",
              "    display: none;\n",
              "    fill: var(--fill-color);\n",
              "    height: 32px;\n",
              "    padding: 0;\n",
              "    width: 32px;\n",
              "  }\n",
              "\n",
              "  .colab-df-quickchart:hover {\n",
              "    background-color: var(--hover-bg-color);\n",
              "    box-shadow: 0 1px 2px rgba(60, 64, 67, 0.3), 0 1px 3px 1px rgba(60, 64, 67, 0.15);\n",
              "    fill: var(--button-hover-fill-color);\n",
              "  }\n",
              "\n",
              "  .colab-df-quickchart-complete:disabled,\n",
              "  .colab-df-quickchart-complete:disabled:hover {\n",
              "    background-color: var(--disabled-bg-color);\n",
              "    fill: var(--disabled-fill-color);\n",
              "    box-shadow: none;\n",
              "  }\n",
              "\n",
              "  .colab-df-spinner {\n",
              "    border: 2px solid var(--fill-color);\n",
              "    border-color: transparent;\n",
              "    border-bottom-color: var(--fill-color);\n",
              "    animation:\n",
              "      spin 1s steps(1) infinite;\n",
              "  }\n",
              "\n",
              "  @keyframes spin {\n",
              "    0% {\n",
              "      border-color: transparent;\n",
              "      border-bottom-color: var(--fill-color);\n",
              "      border-left-color: var(--fill-color);\n",
              "    }\n",
              "    20% {\n",
              "      border-color: transparent;\n",
              "      border-left-color: var(--fill-color);\n",
              "      border-top-color: var(--fill-color);\n",
              "    }\n",
              "    30% {\n",
              "      border-color: transparent;\n",
              "      border-left-color: var(--fill-color);\n",
              "      border-top-color: var(--fill-color);\n",
              "      border-right-color: var(--fill-color);\n",
              "    }\n",
              "    40% {\n",
              "      border-color: transparent;\n",
              "      border-right-color: var(--fill-color);\n",
              "      border-top-color: var(--fill-color);\n",
              "    }\n",
              "    60% {\n",
              "      border-color: transparent;\n",
              "      border-right-color: var(--fill-color);\n",
              "    }\n",
              "    80% {\n",
              "      border-color: transparent;\n",
              "      border-right-color: var(--fill-color);\n",
              "      border-bottom-color: var(--fill-color);\n",
              "    }\n",
              "    90% {\n",
              "      border-color: transparent;\n",
              "      border-bottom-color: var(--fill-color);\n",
              "    }\n",
              "  }\n",
              "</style>\n",
              "\n",
              "  <script>\n",
              "    async function quickchart(key) {\n",
              "      const quickchartButtonEl =\n",
              "        document.querySelector('#' + key + ' button');\n",
              "      quickchartButtonEl.disabled = true;  // To prevent multiple clicks.\n",
              "      quickchartButtonEl.classList.add('colab-df-spinner');\n",
              "      try {\n",
              "        const charts = await google.colab.kernel.invokeFunction(\n",
              "            'suggestCharts', [key], {});\n",
              "      } catch (error) {\n",
              "        console.error('Error during call to suggestCharts:', error);\n",
              "      }\n",
              "      quickchartButtonEl.classList.remove('colab-df-spinner');\n",
              "      quickchartButtonEl.classList.add('colab-df-quickchart-complete');\n",
              "    }\n",
              "    (() => {\n",
              "      let quickchartButtonEl =\n",
              "        document.querySelector('#df-7fd53866-c0d9-464b-b0fb-de28edea94ce button');\n",
              "      quickchartButtonEl.style.display =\n",
              "        google.colab.kernel.accessAllowed ? 'block' : 'none';\n",
              "    })();\n",
              "  </script>\n",
              "</div>\n",
              "    </div>\n",
              "  </div>\n"
            ],
            "text/plain": [
              "  MV P:E    OD  chi^2  tau [ns]\n",
              "0    3:2  1.44  1.151      4.60\n",
              "1    1:1   1.2  1.233      4.85\n",
              "2    1:2   0.8   1.32      4.89\n",
              "3    1:4  0.48  1.312      4.90\n",
              "4   1:19  0.12  1.304      4.46"
            ]
          },
          "execution_count": 20,
          "metadata": {},
          "output_type": "execute_result"
        }
      ],
      "source": [
        "# # df_sheet_reab = pd.read_csv('4 Reabsorp.csv')\n",
        "# df_sheet_reab = df_sheet_reab.drop([\n",
        "#     'Position 5,2 verwendet',\n",
        "#     'Unnamed: 1',\n",
        "#     'chi^2',\n",
        "#     't in ns',\n",
        "#     'Unnamed: 6'\n",
        "#     ],axis=1)\n",
        "# df_sheet_reab = df_sheet_reab.drop([5,6],axis=0)\n",
        "# df_sheet_reab = df_sheet_reab.rename(columns={\n",
        "#     'Mischungsverhältnis P : E':'MV P:E',\n",
        "#     'optische Dichte':'OD',\n",
        "#     'chi^2.1':'chi^2',\n",
        "#     't in ns.1':'tau [ns]'\n",
        "# })\n",
        "# df_sheet_reab"
      ]
    },
    {
      "cell_type": "markdown",
      "metadata": {
        "id": "1ocBTwM79xro"
      },
      "source": [
        "## MSE"
      ]
    },
    {
      "cell_type": "code",
      "execution_count": null,
      "metadata": {
        "id": "8RJS8DZE9zey"
      },
      "outputs": [],
      "source": [
        "# Comp_value = 6.1"
      ]
    },
    {
      "cell_type": "code",
      "execution_count": null,
      "metadata": {
        "id": "ikDBXnQi-A4S"
      },
      "outputs": [],
      "source": [
        "# y_reab = np.array(data['t in ns.1'])\n",
        "# y_pu = np.array(df_sheet_pu['tau [ns]'])"
      ]
    },
    {
      "cell_type": "code",
      "execution_count": null,
      "metadata": {
        "id": "OyPfjff4FJE7"
      },
      "outputs": [],
      "source": [
        "# mse_reab,l1 = math_func.mse(y_reab, Comp_value)\n",
        "# mse_pu,l2 = math_func.mse(y_pu, Comp_value)"
      ]
    },
    {
      "cell_type": "code",
      "execution_count": null,
      "metadata": {
        "colab": {
          "base_uri": "https://localhost:8080/"
        },
        "id": "XzAFoobDGa42",
        "outputId": "f49797d6-b4a9-4bdf-f1fa-b25f31c9f44b"
      },
      "outputs": [
        {
          "data": {
            "text/plain": [
              "9"
            ]
          },
          "execution_count": 110,
          "metadata": {},
          "output_type": "execute_result"
        }
      ],
      "source": [
        "# l2"
      ]
    },
    {
      "cell_type": "code",
      "execution_count": null,
      "metadata": {
        "colab": {
          "base_uri": "https://localhost:8080/"
        },
        "id": "gHYB0eZQFaRz",
        "outputId": "dfe12792-416d-4028-9cf1-708b33736a24"
      },
      "outputs": [
        {
          "data": {
            "text/plain": [
              "1.8812399999999994"
            ]
          },
          "execution_count": 111,
          "metadata": {},
          "output_type": "execute_result"
        }
      ],
      "source": [
        "# mse_reab"
      ]
    },
    {
      "cell_type": "code",
      "execution_count": null,
      "metadata": {
        "colab": {
          "base_uri": "https://localhost:8080/"
        },
        "id": "f-7EZIflHEEA",
        "outputId": "4c0cd01b-e49d-4645-a63f-fbf5d612861a"
      },
      "outputs": [
        {
          "data": {
            "text/plain": [
              "1.544755555555555"
            ]
          },
          "execution_count": 112,
          "metadata": {},
          "output_type": "execute_result"
        }
      ],
      "source": [
        "# mse_pu"
      ]
    },
    {
      "cell_type": "markdown",
      "metadata": {
        "id": "nQza2B8bKv5x"
      },
      "source": [
        "## RMSE"
      ]
    },
    {
      "cell_type": "code",
      "execution_count": null,
      "metadata": {
        "colab": {
          "base_uri": "https://localhost:8080/"
        },
        "id": "EUg4oJMFKf8s",
        "outputId": "20f14644-608c-4efc-8f50-9d9870c52b4c"
      },
      "outputs": [
        {
          "name": "stdout",
          "output_type": "stream",
          "text": [
            "1.3715830270165927\n",
            "1.2428819555997885\n"
          ]
        }
      ],
      "source": [
        "# rmse_reab = math_func.rmse(y_reab, Comp_value)\n",
        "# print(rmse_reab)\n",
        "# rmse_pu = math_func.rmse(y_pu, Comp_value)\n",
        "# print(rmse_pu)"
      ]
    },
    {
      "cell_type": "markdown",
      "metadata": {
        "id": "JEJgw6fKPA8p"
      },
      "source": [
        "## Varianz und Standardabweichung"
      ]
    },
    {
      "cell_type": "code",
      "execution_count": null,
      "metadata": {
        "colab": {
          "base_uri": "https://localhost:8080/"
        },
        "id": "fMyGEWwAPELZ",
        "outputId": "a917073e-09e0-474b-c79f-e74f3032b476"
      },
      "outputs": [
        {
          "name": "stdout",
          "output_type": "stream",
          "text": [
            "Varianz: 0.0004666666666666763\n",
            "Std: 0.02160246899469309\n"
          ]
        }
      ],
      "source": [
        "# x = np.array([4.85,4.89,4.9])\n",
        "# mu = x.sum()/3\n",
        "# var =0\n",
        "# for i in x:\n",
        "#   var+= (i-mu)**2/3\n",
        "\n",
        "# std = np.sqrt(var)\n",
        "# print(f'Varianz: {var}')\n",
        "# print(f'Std: {std}')"
      ]
    },
    {
      "cell_type": "code",
      "execution_count": null,
      "metadata": {
        "colab": {
          "base_uri": "https://localhost:8080/"
        },
        "id": "pFTuCjfSQVsB",
        "outputId": "74bdda0c-da71-4adf-ddd5-16b4b9688dfa"
      },
      "outputs": [
        {
          "data": {
            "text/plain": [
              "0.0216794833886788"
            ]
          },
          "execution_count": 120,
          "metadata": {},
          "output_type": "execute_result"
        }
      ],
      "source": [
        "# np.sqrt(0.00047)"
      ]
    },
    {
      "cell_type": "markdown",
      "metadata": {
        "id": "ZyUdjZGJpO3c"
      },
      "source": [
        "# Apparatefunktion"
      ]
    },
    {
      "cell_type": "markdown",
      "metadata": {
        "id": "ARlkRUv7pfL-"
      },
      "source": [
        "## Data"
      ]
    },
    {
      "cell_type": "code",
      "execution_count": 131,
      "metadata": {},
      "outputs": [
        {
          "data": {
            "text/plain": [
              "'../Data/CSV-Files/'"
            ]
          },
          "execution_count": 131,
          "metadata": {},
          "output_type": "execute_result"
        }
      ],
      "source": [
        "csv_file_path = data_path + 'CSV-Files/'\n",
        "csv_file_path"
      ]
    },
    {
      "cell_type": "code",
      "execution_count": 132,
      "metadata": {
        "colab": {
          "base_uri": "https://localhost:8080/",
          "height": 0
        },
        "id": "h57LexmGvSrI",
        "outputId": "39fe4446-e520-4c4b-8449-be6e160c6b99"
      },
      "outputs": [
        {
          "data": {
            "text/html": [
              "<div>\n",
              "<style scoped>\n",
              "    .dataframe tbody tr th:only-of-type {\n",
              "        vertical-align: middle;\n",
              "    }\n",
              "\n",
              "    .dataframe tbody tr th {\n",
              "        vertical-align: top;\n",
              "    }\n",
              "\n",
              "    .dataframe thead th {\n",
              "        text-align: right;\n",
              "    }\n",
              "</style>\n",
              "<table border=\"1\" class=\"dataframe\">\n",
              "  <thead>\n",
              "    <tr style=\"text-align: right;\">\n",
              "      <th></th>\n",
              "      <th>45</th>\n",
              "      <th>Time</th>\n",
              "    </tr>\n",
              "  </thead>\n",
              "  <tbody>\n",
              "    <tr>\n",
              "      <th>0</th>\n",
              "      <td>7</td>\n",
              "      <td>0.000000</td>\n",
              "    </tr>\n",
              "    <tr>\n",
              "      <th>1</th>\n",
              "      <td>4</td>\n",
              "      <td>0.024438</td>\n",
              "    </tr>\n",
              "    <tr>\n",
              "      <th>2</th>\n",
              "      <td>9</td>\n",
              "      <td>0.048876</td>\n",
              "    </tr>\n",
              "    <tr>\n",
              "      <th>3</th>\n",
              "      <td>5</td>\n",
              "      <td>0.073314</td>\n",
              "    </tr>\n",
              "    <tr>\n",
              "      <th>4</th>\n",
              "      <td>7</td>\n",
              "      <td>0.097752</td>\n",
              "    </tr>\n",
              "  </tbody>\n",
              "</table>\n",
              "</div>"
            ],
            "text/plain": [
              "   45      Time\n",
              "0   7  0.000000\n",
              "1   4  0.024438\n",
              "2   9  0.048876\n",
              "3   5  0.073314\n",
              "4   7  0.097752"
            ]
          },
          "execution_count": 132,
          "metadata": {},
          "output_type": "execute_result"
        }
      ],
      "source": [
        "df_AF = pd.read_csv(csv_file_path + 'AF.csv')\n",
        "df_AF.head()"
      ]
    },
    {
      "cell_type": "markdown",
      "metadata": {
        "id": "BE58IehpphVW"
      },
      "source": [
        "## Plot"
      ]
    },
    {
      "cell_type": "code",
      "execution_count": 133,
      "metadata": {
        "colab": {
          "base_uri": "https://localhost:8080/",
          "height": 454
        },
        "id": "zyfvI_jLpil2",
        "outputId": "d1a8af7f-9aea-4288-a54b-4d55a8139c38"
      },
      "outputs": [
        {
          "data": {
            "image/png": "[encoded data removed]",
            "text/plain": [
              "<Figure size 640x480 with 1 Axes>"
            ]
          },
          "metadata": {},
          "output_type": "display_data"
        }
      ],
      "source": [
        "plt.plot(df_AF['Time'],df_AF['45'],color='green',label='Apparatefunktion')\n",
        "plt.xlabel('Time [ns]',fontsize=14,fontweight='bold')\n",
        "plt.ylabel('Counts',fontsize=14,fontweight='bold')\n",
        "plt.yscale('log')\n",
        "# Customize legend font size and weight\n",
        "fontP = FontProperties()\n",
        "fontP.set_size('large')  # Adjust 'large' as needed\n",
        "fontP.set_weight('bold')\n",
        "\n",
        "# Add a legend with custom font size and weight\n",
        "plt.legend(prop=fontP)\n",
        "# plt.savefig(f'{path}/AF.png',dpi=600,transparent=True,bbox_inches = 'tight')\n",
        "plt.show()"
      ]
    },
    {
      "cell_type": "markdown",
      "metadata": {
        "id": "xUSc417JdGN9"
      },
      "source": [
        "# Pile - Up"
      ]
    },
    {
      "cell_type": "markdown",
      "metadata": {
        "id": "l8Q-ScU1dvIS"
      },
      "source": [
        "## Data"
      ]
    },
    {
      "cell_type": "code",
      "execution_count": 134,
      "metadata": {
        "colab": {
          "base_uri": "https://localhost:8080/",
          "height": 0
        },
        "id": "vSeND0j1dUvY",
        "outputId": "41877963-2f30-4260-c849-9f84d3aa217c"
      },
      "outputs": [
        {
          "data": {
            "text/html": [
              "<div>\n",
              "<style scoped>\n",
              "    .dataframe tbody tr th:only-of-type {\n",
              "        vertical-align: middle;\n",
              "    }\n",
              "\n",
              "    .dataframe tbody tr th {\n",
              "        vertical-align: top;\n",
              "    }\n",
              "\n",
              "    .dataframe thead th {\n",
              "        text-align: right;\n",
              "    }\n",
              "</style>\n",
              "<table border=\"1\" class=\"dataframe\">\n",
              "  <thead>\n",
              "    <tr style=\"text-align: right;\">\n",
              "      <th></th>\n",
              "      <th>50</th>\n",
              "      <th>47</th>\n",
              "      <th>45</th>\n",
              "      <th>53</th>\n",
              "      <th>49</th>\n",
              "      <th>52</th>\n",
              "      <th>46</th>\n",
              "      <th>51</th>\n",
              "      <th>48</th>\n",
              "      <th>Time</th>\n",
              "      <th>AF</th>\n",
              "    </tr>\n",
              "  </thead>\n",
              "  <tbody>\n",
              "    <tr>\n",
              "      <th>0</th>\n",
              "      <td>108</td>\n",
              "      <td>22</td>\n",
              "      <td>17</td>\n",
              "      <td>47</td>\n",
              "      <td>75</td>\n",
              "      <td>9</td>\n",
              "      <td>18</td>\n",
              "      <td>118</td>\n",
              "      <td>48</td>\n",
              "      <td>0.000000</td>\n",
              "      <td>3</td>\n",
              "    </tr>\n",
              "    <tr>\n",
              "      <th>1</th>\n",
              "      <td>111</td>\n",
              "      <td>27</td>\n",
              "      <td>11</td>\n",
              "      <td>37</td>\n",
              "      <td>88</td>\n",
              "      <td>12</td>\n",
              "      <td>18</td>\n",
              "      <td>120</td>\n",
              "      <td>52</td>\n",
              "      <td>0.024438</td>\n",
              "      <td>8</td>\n",
              "    </tr>\n",
              "    <tr>\n",
              "      <th>2</th>\n",
              "      <td>97</td>\n",
              "      <td>29</td>\n",
              "      <td>11</td>\n",
              "      <td>42</td>\n",
              "      <td>88</td>\n",
              "      <td>9</td>\n",
              "      <td>16</td>\n",
              "      <td>116</td>\n",
              "      <td>45</td>\n",
              "      <td>0.048876</td>\n",
              "      <td>5</td>\n",
              "    </tr>\n",
              "    <tr>\n",
              "      <th>3</th>\n",
              "      <td>113</td>\n",
              "      <td>42</td>\n",
              "      <td>10</td>\n",
              "      <td>45</td>\n",
              "      <td>70</td>\n",
              "      <td>9</td>\n",
              "      <td>18</td>\n",
              "      <td>129</td>\n",
              "      <td>61</td>\n",
              "      <td>0.073314</td>\n",
              "      <td>9</td>\n",
              "    </tr>\n",
              "    <tr>\n",
              "      <th>4</th>\n",
              "      <td>107</td>\n",
              "      <td>40</td>\n",
              "      <td>13</td>\n",
              "      <td>31</td>\n",
              "      <td>77</td>\n",
              "      <td>3</td>\n",
              "      <td>22</td>\n",
              "      <td>108</td>\n",
              "      <td>47</td>\n",
              "      <td>0.097752</td>\n",
              "      <td>5</td>\n",
              "    </tr>\n",
              "  </tbody>\n",
              "</table>\n",
              "</div>"
            ],
            "text/plain": [
              "    50  47  45  53  49  52  46   51  48      Time  AF\n",
              "0  108  22  17  47  75   9  18  118  48  0.000000   3\n",
              "1  111  27  11  37  88  12  18  120  52  0.024438   8\n",
              "2   97  29  11  42  88   9  16  116  45  0.048876   5\n",
              "3  113  42  10  45  70   9  18  129  61  0.073314   9\n",
              "4  107  40  13  31  77   3  22  108  47  0.097752   5"
            ]
          },
          "execution_count": 134,
          "metadata": {},
          "output_type": "execute_result"
        }
      ],
      "source": [
        "df_pu = pd.read_csv(csv_file_path + 'Pile-Up-Effekt.csv')\n",
        "df_pu = df_pu.drop('Unnamed: 0',axis=1)\n",
        "df_pu.head()"
      ]
    },
    {
      "cell_type": "markdown",
      "metadata": {
        "id": "4x9VMdR4dpaB"
      },
      "source": [
        "## Plot"
      ]
    },
    {
      "cell_type": "code",
      "execution_count": 141,
      "metadata": {
        "colab": {
          "base_uri": "https://localhost:8080/",
          "height": 0
        },
        "id": "Sq4lLy-AdpEP",
        "outputId": "29c52ce9-e096-44f2-877a-43c9652e103c"
      },
      "outputs": [
        {
          "name": "stdout",
          "output_type": "stream",
          "text": [
            "9\n",
            "9\n"
          ]
        },
        {
          "data": {
            "image/png": "[encoded data removed]",
            "text/plain": [
              "<Figure size 640x480 with 1 Axes>"
            ]
          },
          "metadata": {},
          "output_type": "display_data"
        }
      ],
      "source": [
        "x_pu = df_pu['Time']\n",
        "y_pu = df_pu['AF']\n",
        "\n",
        "labels = ['Pos: 5.0','Pos: 4.7','Pos: 4.5','Pos: 5.3','Pos: 4.9','Pos: 5.2','Pos: 4.6','Pos: 5.1','Pos: 4.8']\n",
        "cols_names = df_pu.columns\n",
        "print(len(labels))\n",
        "cols_names = list(cols_names[:9])\n",
        "print(len(cols_names))\n",
        "plt.plot(x_pu,y_pu,color='k',label='AF')\n",
        "fpr.plotting_gen_with_labels(df_pu,cols_names,labels)\n",
        "plt.show()"
      ]
    },
    {
      "cell_type": "markdown",
      "metadata": {
        "id": "LfDVmxGC8S9H"
      },
      "source": [
        "## Regression"
      ]
    },
    {
      "cell_type": "code",
      "execution_count": null,
      "metadata": {
        "id": "FFoSBzfK8Wz6"
      },
      "outputs": [],
      "source": [
        "# def exp_test(t,t0,n0,tau):\n",
        "#   return n0*np.exp(-(t-t0)/tau)"
      ]
    },
    {
      "cell_type": "code",
      "execution_count": null,
      "metadata": {
        "id": "FJ7zAaBH83TW"
      },
      "outputs": [],
      "source": [
        "# df_pu.columns"
      ]
    },
    {
      "cell_type": "code",
      "execution_count": null,
      "metadata": {
        "id": "sehnNg6q8mMM"
      },
      "outputs": [],
      "source": [
        "t = np.array(df_pu['Time'])\n",
        "y50 = np.array(df_pu['50'])\n",
        "\n",
        "t = t[:800]\n",
        "# print(t)\n",
        "y50 = np.log(y50[:800])\n"
      ]
    },
    {
      "cell_type": "code",
      "execution_count": null,
      "metadata": {
        "id": "izDHJntd9FPe"
      },
      "outputs": [],
      "source": [
        "# test, dtest = curve_fit(exp_test,t,y50)\n",
        "# t0,n0,tau = test\n",
        "# print(test)"
      ]
    },
    {
      "cell_type": "markdown",
      "metadata": {
        "id": "lGTwlbgrc1iL"
      },
      "source": [
        "## Regression 2.0"
      ]
    },
    {
      "cell_type": "code",
      "execution_count": null,
      "metadata": {
        "id": "9zROG1U-fnZv"
      },
      "outputs": [],
      "source": [
        "def fun(t, t0, n0, tau):\n",
        "    return n0 * np.exp(-(t - t0) / tau)"
      ]
    },
    {
      "cell_type": "code",
      "execution_count": null,
      "metadata": {
        "colab": {
          "base_uri": "https://localhost:8080/"
        },
        "id": "utSF-Kftc43g",
        "outputId": "112d5253-2b33-46cc-e6c3-d857b8a08a52"
      },
      "outputs": [
        {
          "name": "stdout",
          "output_type": "stream",
          "text": [
            "Help on function fit in module lifefit.tcspc:\n",
            "\n",
            "fit(fun, x_data, y_data, p0, bounds=([0, 0, 0], [inf, inf, inf]), sigma=None)\n",
            "    Wrapper for the curve_fit function of the scipy.optimize module\n",
            "    The curve_fit optimizes the decay parameters (tau1, tau2, etc.) \n",
            "    while the nnls weights the exponential decays.\n",
            "    \n",
            "    Parameters\n",
            "    ----------\n",
            "    fun : callable\n",
            "          The model function f(x,...) taking x values as a first argument followed by the function parameters\n",
            "    x_data : array_like\n",
            "             array of the independent variable\n",
            "    y_data : array_like\n",
            "             array of the dependent variable\n",
            "    p0 : array_like\n",
            "         start values for the fit model \n",
            "    bounds : 2-tuple of float or 2-tuple of array_like, optional\n",
            "             lower and upper bounds for each parameter in p0. Can be either a tuple of two scalars \n",
            "             (same bound for all parameters) or a tuple of array_like with the same length as p0.\n",
            "             To deactivate parameter bounds set: `bounds=(-np.inf, np.inf)`\n",
            "    sigma : array_like, optional\n",
            "            uncertainty of the decay (same length as y_data)\n",
            "    \n",
            "    Returns\n",
            "    -------\n",
            "    p : ndarray\n",
            "        optimized fit parameters\n",
            "    p_std : ndarray\n",
            "            standard deviation of optimized fit parameters\n",
            "\n"
          ]
        }
      ],
      "source": [
        "help(lf.tcspc.fit)"
      ]
    },
    {
      "cell_type": "code",
      "execution_count": null,
      "metadata": {
        "colab": {
          "base_uri": "https://localhost:8080/"
        },
        "id": "SV9WX7t_gRbg",
        "outputId": "3a85aa6e-39b5-44fb-e1ae-e7cd1ee9aea5"
      },
      "outputs": [
        {
          "name": "stdout",
          "output_type": "stream",
          "text": [
            "800\n",
            "800\n"
          ]
        }
      ],
      "source": [
        "print(len(t))\n",
        "print(len(y50))"
      ]
    },
    {
      "cell_type": "code",
      "execution_count": null,
      "metadata": {
        "colab": {
          "base_uri": "https://localhost:8080/"
        },
        "id": "aoCVqfH0fLjo",
        "outputId": "464dc6c8-4e47-4516-f193-875528c9c157"
      },
      "outputs": [
        {
          "data": {
            "text/plain": [
              "(array([  0.70107269,   6.64875627, 105.58430514]),\n",
              " array([9.93837381e+05, 6.25829969e+04, 1.04208854e+01]))"
            ]
          },
          "execution_count": 34,
          "metadata": {},
          "output_type": "execute_result"
        }
      ],
      "source": [
        "lf.tcspc.fit(fun,t,y50,[0,5,10])"
      ]
    },
    {
      "cell_type": "code",
      "execution_count": null,
      "metadata": {
        "id": "svhtIdCzhkAw"
      },
      "outputs": [],
      "source": [
        "# lf.tcspc."
      ]
    },
    {
      "cell_type": "code",
      "execution_count": null,
      "metadata": {
        "id": "asHq6GSehUtk"
      },
      "outputs": [],
      "source": [
        "# test = lf.tcspc.Lifetime(y50,t)"
      ]
    },
    {
      "cell_type": "markdown",
      "metadata": {
        "id": "jWmEykSjAuMp"
      },
      "source": [
        "## bmp to png"
      ]
    },
    {
      "cell_type": "code",
      "execution_count": null,
      "metadata": {
        "id": "xVDaTVh_uFS3"
      },
      "outputs": [],
      "source": [
        "path_bmp = '/content/BMP'\n",
        "out_dir = '/content/BMP/png'"
      ]
    },
    {
      "cell_type": "code",
      "execution_count": null,
      "metadata": {
        "id": "3xMpTONKuQSf"
      },
      "outputs": [],
      "source": [
        "# files = os.listdir(path_bmp)\n",
        "# for file in files:\n",
        "#   if os.path.isfile(os.path.join(path_bmp,file)):\n",
        "#     file_name  = os.path.splitext(file)[0]\n",
        "#     new_file_name = file_name + '.png'\n",
        "#     # Generate the full file paths\n",
        "#     old_file_path = os.path.join(path_bmp, file)\n",
        "#     new_file_path = os.path.join(path_bmp, new_file_name)\n",
        "\n",
        "#     # Rename the file\n",
        "#     os.rename(old_file_path, new_file_path)"
      ]
    },
    {
      "cell_type": "markdown",
      "metadata": {
        "id": "PHDHXRXYpjF2"
      },
      "source": [
        "# Reabsorption"
      ]
    },
    {
      "cell_type": "markdown",
      "metadata": {
        "id": "W25ECrM9ptoB"
      },
      "source": [
        "## Data"
      ]
    },
    {
      "cell_type": "code",
      "execution_count": null,
      "metadata": {
        "colab": {
          "base_uri": "https://localhost:8080/"
        },
        "id": "j1eaW5JgptH0",
        "outputId": "614cb4cf-d481-4e66-9a0d-1a43b5e3ff21"
      },
      "outputs": [
        {
          "name": "stdout",
          "output_type": "stream",
          "text": [
            "--2023-09-22 12:56:15--  https://github.com/Ben-physics-dotcom/Internships/raw/main/FPR-1/TCSPC/Data/CSV-Files/Reabsorption.zip\n",
            "Resolving github.com (github.com)... 140.82.121.3\n",
            "Connecting to github.com (github.com)|140.82.121.3|:443... connected.\n",
            "HTTP request sent, awaiting response... 302 Found\n",
            "Location: https://raw.githubusercontent.com/Ben-physics-dotcom/Internships/main/FPR-1/TCSPC/Data/CSV-Files/Reabsorption.zip [following]\n",
            "--2023-09-22 12:56:16--  https://raw.githubusercontent.com/Ben-physics-dotcom/Internships/main/FPR-1/TCSPC/Data/CSV-Files/Reabsorption.zip\n",
            "Resolving raw.githubusercontent.com (raw.githubusercontent.com)... 185.199.108.133, 185.199.109.133, 185.199.110.133, ...\n",
            "Connecting to raw.githubusercontent.com (raw.githubusercontent.com)|185.199.108.133|:443... connected.\n",
            "HTTP request sent, awaiting response... 200 OK\n",
            "Length: 15136 (15K) [application/zip]\n",
            "Saving to: ‘Reabsorption.zip’\n",
            "\n",
            "Reabsorption.zip    100%[===================>]  14.78K  --.-KB/s    in 0s      \n",
            "\n",
            "2023-09-22 12:56:16 (86.3 MB/s) - ‘Reabsorption.zip’ saved [15136/15136]\n",
            "\n",
            "Archive:  Reabsorption.zip\n",
            "  inflating: Reabsorption.csv        \n"
          ]
        }
      ],
      "source": [
        "!wget https://github.com/Ben-physics-dotcom/Internships/raw/main/FPR-1/TCSPC/Data/CSV-Files/Reabsorption.zip\n",
        "!unzip Reabsorption.zip"
      ]
    },
    {
      "cell_type": "code",
      "execution_count": null,
      "metadata": {
        "colab": {
          "base_uri": "https://localhost:8080/",
          "height": 206
        },
        "id": "lT0b3tpyx-jI",
        "outputId": "93976dd7-bd99-4fb7-971b-95b82d585ae6"
      },
      "outputs": [
        {
          "data": {
            "text/html": [
              "\n",
              "  <div id=\"df-9a536273-a4f3-4a8e-8b29-f2584603e888\" class=\"colab-df-container\">\n",
              "    <div>\n",
              "<style scoped>\n",
              "    .dataframe tbody tr th:only-of-type {\n",
              "        vertical-align: middle;\n",
              "    }\n",
              "\n",
              "    .dataframe tbody tr th {\n",
              "        vertical-align: top;\n",
              "    }\n",
              "\n",
              "    .dataframe thead th {\n",
              "        text-align: right;\n",
              "    }\n",
              "</style>\n",
              "<table border=\"1\" class=\"dataframe\">\n",
              "  <thead>\n",
              "    <tr style=\"text-align: right;\">\n",
              "      <th></th>\n",
              "      <th>pe-3-2</th>\n",
              "      <th>pe-1-2</th>\n",
              "      <th>pe-1-1</th>\n",
              "      <th>52</th>\n",
              "      <th>pe-1-4</th>\n",
              "      <th>Time</th>\n",
              "      <th>AF</th>\n",
              "    </tr>\n",
              "  </thead>\n",
              "  <tbody>\n",
              "    <tr>\n",
              "      <th>0</th>\n",
              "      <td>14</td>\n",
              "      <td>12</td>\n",
              "      <td>12</td>\n",
              "      <td>9</td>\n",
              "      <td>12</td>\n",
              "      <td>0.000000</td>\n",
              "      <td>3</td>\n",
              "    </tr>\n",
              "    <tr>\n",
              "      <th>1</th>\n",
              "      <td>17</td>\n",
              "      <td>14</td>\n",
              "      <td>14</td>\n",
              "      <td>12</td>\n",
              "      <td>11</td>\n",
              "      <td>0.024438</td>\n",
              "      <td>8</td>\n",
              "    </tr>\n",
              "    <tr>\n",
              "      <th>2</th>\n",
              "      <td>11</td>\n",
              "      <td>17</td>\n",
              "      <td>12</td>\n",
              "      <td>9</td>\n",
              "      <td>11</td>\n",
              "      <td>0.048876</td>\n",
              "      <td>5</td>\n",
              "    </tr>\n",
              "    <tr>\n",
              "      <th>3</th>\n",
              "      <td>8</td>\n",
              "      <td>12</td>\n",
              "      <td>16</td>\n",
              "      <td>9</td>\n",
              "      <td>15</td>\n",
              "      <td>0.073314</td>\n",
              "      <td>9</td>\n",
              "    </tr>\n",
              "    <tr>\n",
              "      <th>4</th>\n",
              "      <td>8</td>\n",
              "      <td>19</td>\n",
              "      <td>12</td>\n",
              "      <td>3</td>\n",
              "      <td>20</td>\n",
              "      <td>0.097752</td>\n",
              "      <td>5</td>\n",
              "    </tr>\n",
              "  </tbody>\n",
              "</table>\n",
              "</div>\n",
              "    <div class=\"colab-df-buttons\">\n",
              "\n",
              "  <div class=\"colab-df-container\">\n",
              "    <button class=\"colab-df-convert\" onclick=\"convertToInteractive('df-9a536273-a4f3-4a8e-8b29-f2584603e888')\"\n",
              "            title=\"Convert this dataframe to an interactive table.\"\n",
              "            style=\"display:none;\">\n",
              "\n",
              "  <svg xmlns=\"http://www.w3.org/2000/svg\" height=\"24px\" viewBox=\"0 -960 960 960\">\n",
              "    <path d=\"M120-120v-720h720v720H120Zm60-500h600v-160H180v160Zm220 220h160v-160H400v160Zm0 220h160v-160H400v160ZM180-400h160v-160H180v160Zm440 0h160v-160H620v160ZM180-180h160v-160H180v160Zm440 0h160v-160H620v160Z\"/>\n",
              "  </svg>\n",
              "    </button>\n",
              "\n",
              "  <style>\n",
              "    .colab-df-container {\n",
              "      display:flex;\n",
              "      gap: 12px;\n",
              "    }\n",
              "\n",
              "    .colab-df-convert {\n",
              "      background-color: #E8F0FE;\n",
              "      border: none;\n",
              "      border-radius: 50%;\n",
              "      cursor: pointer;\n",
              "      display: none;\n",
              "      fill: #1967D2;\n",
              "      height: 32px;\n",
              "      padding: 0 0 0 0;\n",
              "      width: 32px;\n",
              "    }\n",
              "\n",
              "    .colab-df-convert:hover {\n",
              "      background-color: #E2EBFA;\n",
              "      box-shadow: 0px 1px 2px rgba(60, 64, 67, 0.3), 0px 1px 3px 1px rgba(60, 64, 67, 0.15);\n",
              "      fill: #174EA6;\n",
              "    }\n",
              "\n",
              "    .colab-df-buttons div {\n",
              "      margin-bottom: 4px;\n",
              "    }\n",
              "\n",
              "    [theme=dark] .colab-df-convert {\n",
              "      background-color: #3B4455;\n",
              "      fill: #D2E3FC;\n",
              "    }\n",
              "\n",
              "    [theme=dark] .colab-df-convert:hover {\n",
              "      background-color: #434B5C;\n",
              "      box-shadow: 0px 1px 3px 1px rgba(0, 0, 0, 0.15);\n",
              "      filter: drop-shadow(0px 1px 2px rgba(0, 0, 0, 0.3));\n",
              "      fill: #FFFFFF;\n",
              "    }\n",
              "  </style>\n",
              "\n",
              "    <script>\n",
              "      const buttonEl =\n",
              "        document.querySelector('#df-9a536273-a4f3-4a8e-8b29-f2584603e888 button.colab-df-convert');\n",
              "      buttonEl.style.display =\n",
              "        google.colab.kernel.accessAllowed ? 'block' : 'none';\n",
              "\n",
              "      async function convertToInteractive(key) {\n",
              "        const element = document.querySelector('#df-9a536273-a4f3-4a8e-8b29-f2584603e888');\n",
              "        const dataTable =\n",
              "          await google.colab.kernel.invokeFunction('convertToInteractive',\n",
              "                                                    [key], {});\n",
              "        if (!dataTable) return;\n",
              "\n",
              "        const docLinkHtml = 'Like what you see? Visit the ' +\n",
              "          '<a target=\"_blank\" href=https://colab.research.google.com/notebooks/data_table.ipynb>data table notebook</a>'\n",
              "          + ' to learn more about interactive tables.';\n",
              "        element.innerHTML = '';\n",
              "        dataTable['output_type'] = 'display_data';\n",
              "        await google.colab.output.renderOutput(dataTable, element);\n",
              "        const docLink = document.createElement('div');\n",
              "        docLink.innerHTML = docLinkHtml;\n",
              "        element.appendChild(docLink);\n",
              "      }\n",
              "    </script>\n",
              "  </div>\n",
              "\n",
              "\n",
              "<div id=\"df-59b52b1c-4f7b-4b8b-848b-95d30d8c6d96\">\n",
              "  <button class=\"colab-df-quickchart\" onclick=\"quickchart('df-59b52b1c-4f7b-4b8b-848b-95d30d8c6d96')\"\n",
              "            title=\"Suggest charts.\"\n",
              "            style=\"display:none;\">\n",
              "\n",
              "<svg xmlns=\"http://www.w3.org/2000/svg\" height=\"24px\"viewBox=\"0 0 24 24\"\n",
              "     width=\"24px\">\n",
              "    <g>\n",
              "        <path d=\"M19 3H5c-1.1 0-2 .9-2 2v14c0 1.1.9 2 2 2h14c1.1 0 2-.9 2-2V5c0-1.1-.9-2-2-2zM9 17H7v-7h2v7zm4 0h-2V7h2v10zm4 0h-2v-4h2v4z\"/>\n",
              "    </g>\n",
              "</svg>\n",
              "  </button>\n",
              "\n",
              "<style>\n",
              "  .colab-df-quickchart {\n",
              "      --bg-color: #E8F0FE;\n",
              "      --fill-color: #1967D2;\n",
              "      --hover-bg-color: #E2EBFA;\n",
              "      --hover-fill-color: #174EA6;\n",
              "      --disabled-fill-color: #AAA;\n",
              "      --disabled-bg-color: #DDD;\n",
              "  }\n",
              "\n",
              "  [theme=dark] .colab-df-quickchart {\n",
              "      --bg-color: #3B4455;\n",
              "      --fill-color: #D2E3FC;\n",
              "      --hover-bg-color: #434B5C;\n",
              "      --hover-fill-color: #FFFFFF;\n",
              "      --disabled-bg-color: #3B4455;\n",
              "      --disabled-fill-color: #666;\n",
              "  }\n",
              "\n",
              "  .colab-df-quickchart {\n",
              "    background-color: var(--bg-color);\n",
              "    border: none;\n",
              "    border-radius: 50%;\n",
              "    cursor: pointer;\n",
              "    display: none;\n",
              "    fill: var(--fill-color);\n",
              "    height: 32px;\n",
              "    padding: 0;\n",
              "    width: 32px;\n",
              "  }\n",
              "\n",
              "  .colab-df-quickchart:hover {\n",
              "    background-color: var(--hover-bg-color);\n",
              "    box-shadow: 0 1px 2px rgba(60, 64, 67, 0.3), 0 1px 3px 1px rgba(60, 64, 67, 0.15);\n",
              "    fill: var(--button-hover-fill-color);\n",
              "  }\n",
              "\n",
              "  .colab-df-quickchart-complete:disabled,\n",
              "  .colab-df-quickchart-complete:disabled:hover {\n",
              "    background-color: var(--disabled-bg-color);\n",
              "    fill: var(--disabled-fill-color);\n",
              "    box-shadow: none;\n",
              "  }\n",
              "\n",
              "  .colab-df-spinner {\n",
              "    border: 2px solid var(--fill-color);\n",
              "    border-color: transparent;\n",
              "    border-bottom-color: var(--fill-color);\n",
              "    animation:\n",
              "      spin 1s steps(1) infinite;\n",
              "  }\n",
              "\n",
              "  @keyframes spin {\n",
              "    0% {\n",
              "      border-color: transparent;\n",
              "      border-bottom-color: var(--fill-color);\n",
              "      border-left-color: var(--fill-color);\n",
              "    }\n",
              "    20% {\n",
              "      border-color: transparent;\n",
              "      border-left-color: var(--fill-color);\n",
              "      border-top-color: var(--fill-color);\n",
              "    }\n",
              "    30% {\n",
              "      border-color: transparent;\n",
              "      border-left-color: var(--fill-color);\n",
              "      border-top-color: var(--fill-color);\n",
              "      border-right-color: var(--fill-color);\n",
              "    }\n",
              "    40% {\n",
              "      border-color: transparent;\n",
              "      border-right-color: var(--fill-color);\n",
              "      border-top-color: var(--fill-color);\n",
              "    }\n",
              "    60% {\n",
              "      border-color: transparent;\n",
              "      border-right-color: var(--fill-color);\n",
              "    }\n",
              "    80% {\n",
              "      border-color: transparent;\n",
              "      border-right-color: var(--fill-color);\n",
              "      border-bottom-color: var(--fill-color);\n",
              "    }\n",
              "    90% {\n",
              "      border-color: transparent;\n",
              "      border-bottom-color: var(--fill-color);\n",
              "    }\n",
              "  }\n",
              "</style>\n",
              "\n",
              "  <script>\n",
              "    async function quickchart(key) {\n",
              "      const quickchartButtonEl =\n",
              "        document.querySelector('#' + key + ' button');\n",
              "      quickchartButtonEl.disabled = true;  // To prevent multiple clicks.\n",
              "      quickchartButtonEl.classList.add('colab-df-spinner');\n",
              "      try {\n",
              "        const charts = await google.colab.kernel.invokeFunction(\n",
              "            'suggestCharts', [key], {});\n",
              "      } catch (error) {\n",
              "        console.error('Error during call to suggestCharts:', error);\n",
              "      }\n",
              "      quickchartButtonEl.classList.remove('colab-df-spinner');\n",
              "      quickchartButtonEl.classList.add('colab-df-quickchart-complete');\n",
              "    }\n",
              "    (() => {\n",
              "      let quickchartButtonEl =\n",
              "        document.querySelector('#df-59b52b1c-4f7b-4b8b-848b-95d30d8c6d96 button');\n",
              "      quickchartButtonEl.style.display =\n",
              "        google.colab.kernel.accessAllowed ? 'block' : 'none';\n",
              "    })();\n",
              "  </script>\n",
              "</div>\n",
              "    </div>\n",
              "  </div>\n"
            ],
            "text/plain": [
              "   pe-3-2  pe-1-2  pe-1-1  52  pe-1-4      Time  AF\n",
              "0      14      12      12   9      12  0.000000   3\n",
              "1      17      14      14  12      11  0.024438   8\n",
              "2      11      17      12   9      11  0.048876   5\n",
              "3       8      12      16   9      15  0.073314   9\n",
              "4       8      19      12   3      20  0.097752   5"
            ]
          },
          "execution_count": 40,
          "metadata": {},
          "output_type": "execute_result"
        }
      ],
      "source": [
        "df_reab = pd.read_csv('Reabsorption.csv')\n",
        "df_reab = df_reab.drop('Unnamed: 0',axis=1)\n",
        "df_reab.head()"
      ]
    },
    {
      "cell_type": "markdown",
      "metadata": {
        "id": "bDROzyKOpvHL"
      },
      "source": [
        "## Plot"
      ]
    },
    {
      "cell_type": "code",
      "execution_count": null,
      "metadata": {
        "colab": {
          "base_uri": "https://localhost:8080/",
          "height": 206
        },
        "id": "TY2hHE7jeXDf",
        "outputId": "fe355a35-0f44-4834-fdf0-374ac432a3a7"
      },
      "outputs": [
        {
          "data": {
            "text/html": [
              "\n",
              "  <div id=\"df-8e37a992-5c45-45a5-bd7c-8e9d63b742f7\" class=\"colab-df-container\">\n",
              "    <div>\n",
              "<style scoped>\n",
              "    .dataframe tbody tr th:only-of-type {\n",
              "        vertical-align: middle;\n",
              "    }\n",
              "\n",
              "    .dataframe tbody tr th {\n",
              "        vertical-align: top;\n",
              "    }\n",
              "\n",
              "    .dataframe thead th {\n",
              "        text-align: right;\n",
              "    }\n",
              "</style>\n",
              "<table border=\"1\" class=\"dataframe\">\n",
              "  <thead>\n",
              "    <tr style=\"text-align: right;\">\n",
              "      <th></th>\n",
              "      <th>MV 3:2</th>\n",
              "      <th>MV 1:2</th>\n",
              "      <th>MV 1:1</th>\n",
              "      <th>MV 1:19</th>\n",
              "      <th>MV 1:4</th>\n",
              "      <th>Time</th>\n",
              "      <th>AF</th>\n",
              "    </tr>\n",
              "  </thead>\n",
              "  <tbody>\n",
              "    <tr>\n",
              "      <th>0</th>\n",
              "      <td>14</td>\n",
              "      <td>12</td>\n",
              "      <td>12</td>\n",
              "      <td>9</td>\n",
              "      <td>12</td>\n",
              "      <td>0.000000</td>\n",
              "      <td>3</td>\n",
              "    </tr>\n",
              "    <tr>\n",
              "      <th>1</th>\n",
              "      <td>17</td>\n",
              "      <td>14</td>\n",
              "      <td>14</td>\n",
              "      <td>12</td>\n",
              "      <td>11</td>\n",
              "      <td>0.024438</td>\n",
              "      <td>8</td>\n",
              "    </tr>\n",
              "    <tr>\n",
              "      <th>2</th>\n",
              "      <td>11</td>\n",
              "      <td>17</td>\n",
              "      <td>12</td>\n",
              "      <td>9</td>\n",
              "      <td>11</td>\n",
              "      <td>0.048876</td>\n",
              "      <td>5</td>\n",
              "    </tr>\n",
              "    <tr>\n",
              "      <th>3</th>\n",
              "      <td>8</td>\n",
              "      <td>12</td>\n",
              "      <td>16</td>\n",
              "      <td>9</td>\n",
              "      <td>15</td>\n",
              "      <td>0.073314</td>\n",
              "      <td>9</td>\n",
              "    </tr>\n",
              "    <tr>\n",
              "      <th>4</th>\n",
              "      <td>8</td>\n",
              "      <td>19</td>\n",
              "      <td>12</td>\n",
              "      <td>3</td>\n",
              "      <td>20</td>\n",
              "      <td>0.097752</td>\n",
              "      <td>5</td>\n",
              "    </tr>\n",
              "  </tbody>\n",
              "</table>\n",
              "</div>\n",
              "    <div class=\"colab-df-buttons\">\n",
              "\n",
              "  <div class=\"colab-df-container\">\n",
              "    <button class=\"colab-df-convert\" onclick=\"convertToInteractive('df-8e37a992-5c45-45a5-bd7c-8e9d63b742f7')\"\n",
              "            title=\"Convert this dataframe to an interactive table.\"\n",
              "            style=\"display:none;\">\n",
              "\n",
              "  <svg xmlns=\"http://www.w3.org/2000/svg\" height=\"24px\" viewBox=\"0 -960 960 960\">\n",
              "    <path d=\"M120-120v-720h720v720H120Zm60-500h600v-160H180v160Zm220 220h160v-160H400v160Zm0 220h160v-160H400v160ZM180-400h160v-160H180v160Zm440 0h160v-160H620v160ZM180-180h160v-160H180v160Zm440 0h160v-160H620v160Z\"/>\n",
              "  </svg>\n",
              "    </button>\n",
              "\n",
              "  <style>\n",
              "    .colab-df-container {\n",
              "      display:flex;\n",
              "      gap: 12px;\n",
              "    }\n",
              "\n",
              "    .colab-df-convert {\n",
              "      background-color: #E8F0FE;\n",
              "      border: none;\n",
              "      border-radius: 50%;\n",
              "      cursor: pointer;\n",
              "      display: none;\n",
              "      fill: #1967D2;\n",
              "      height: 32px;\n",
              "      padding: 0 0 0 0;\n",
              "      width: 32px;\n",
              "    }\n",
              "\n",
              "    .colab-df-convert:hover {\n",
              "      background-color: #E2EBFA;\n",
              "      box-shadow: 0px 1px 2px rgba(60, 64, 67, 0.3), 0px 1px 3px 1px rgba(60, 64, 67, 0.15);\n",
              "      fill: #174EA6;\n",
              "    }\n",
              "\n",
              "    .colab-df-buttons div {\n",
              "      margin-bottom: 4px;\n",
              "    }\n",
              "\n",
              "    [theme=dark] .colab-df-convert {\n",
              "      background-color: #3B4455;\n",
              "      fill: #D2E3FC;\n",
              "    }\n",
              "\n",
              "    [theme=dark] .colab-df-convert:hover {\n",
              "      background-color: #434B5C;\n",
              "      box-shadow: 0px 1px 3px 1px rgba(0, 0, 0, 0.15);\n",
              "      filter: drop-shadow(0px 1px 2px rgba(0, 0, 0, 0.3));\n",
              "      fill: #FFFFFF;\n",
              "    }\n",
              "  </style>\n",
              "\n",
              "    <script>\n",
              "      const buttonEl =\n",
              "        document.querySelector('#df-8e37a992-5c45-45a5-bd7c-8e9d63b742f7 button.colab-df-convert');\n",
              "      buttonEl.style.display =\n",
              "        google.colab.kernel.accessAllowed ? 'block' : 'none';\n",
              "\n",
              "      async function convertToInteractive(key) {\n",
              "        const element = document.querySelector('#df-8e37a992-5c45-45a5-bd7c-8e9d63b742f7');\n",
              "        const dataTable =\n",
              "          await google.colab.kernel.invokeFunction('convertToInteractive',\n",
              "                                                    [key], {});\n",
              "        if (!dataTable) return;\n",
              "\n",
              "        const docLinkHtml = 'Like what you see? Visit the ' +\n",
              "          '<a target=\"_blank\" href=https://colab.research.google.com/notebooks/data_table.ipynb>data table notebook</a>'\n",
              "          + ' to learn more about interactive tables.';\n",
              "        element.innerHTML = '';\n",
              "        dataTable['output_type'] = 'display_data';\n",
              "        await google.colab.output.renderOutput(dataTable, element);\n",
              "        const docLink = document.createElement('div');\n",
              "        docLink.innerHTML = docLinkHtml;\n",
              "        element.appendChild(docLink);\n",
              "      }\n",
              "    </script>\n",
              "  </div>\n",
              "\n",
              "\n",
              "<div id=\"df-ff03df59-3aeb-4a2d-9187-da2bd7273dc5\">\n",
              "  <button class=\"colab-df-quickchart\" onclick=\"quickchart('df-ff03df59-3aeb-4a2d-9187-da2bd7273dc5')\"\n",
              "            title=\"Suggest charts.\"\n",
              "            style=\"display:none;\">\n",
              "\n",
              "<svg xmlns=\"http://www.w3.org/2000/svg\" height=\"24px\"viewBox=\"0 0 24 24\"\n",
              "     width=\"24px\">\n",
              "    <g>\n",
              "        <path d=\"M19 3H5c-1.1 0-2 .9-2 2v14c0 1.1.9 2 2 2h14c1.1 0 2-.9 2-2V5c0-1.1-.9-2-2-2zM9 17H7v-7h2v7zm4 0h-2V7h2v10zm4 0h-2v-4h2v4z\"/>\n",
              "    </g>\n",
              "</svg>\n",
              "  </button>\n",
              "\n",
              "<style>\n",
              "  .colab-df-quickchart {\n",
              "      --bg-color: #E8F0FE;\n",
              "      --fill-color: #1967D2;\n",
              "      --hover-bg-color: #E2EBFA;\n",
              "      --hover-fill-color: #174EA6;\n",
              "      --disabled-fill-color: #AAA;\n",
              "      --disabled-bg-color: #DDD;\n",
              "  }\n",
              "\n",
              "  [theme=dark] .colab-df-quickchart {\n",
              "      --bg-color: #3B4455;\n",
              "      --fill-color: #D2E3FC;\n",
              "      --hover-bg-color: #434B5C;\n",
              "      --hover-fill-color: #FFFFFF;\n",
              "      --disabled-bg-color: #3B4455;\n",
              "      --disabled-fill-color: #666;\n",
              "  }\n",
              "\n",
              "  .colab-df-quickchart {\n",
              "    background-color: var(--bg-color);\n",
              "    border: none;\n",
              "    border-radius: 50%;\n",
              "    cursor: pointer;\n",
              "    display: none;\n",
              "    fill: var(--fill-color);\n",
              "    height: 32px;\n",
              "    padding: 0;\n",
              "    width: 32px;\n",
              "  }\n",
              "\n",
              "  .colab-df-quickchart:hover {\n",
              "    background-color: var(--hover-bg-color);\n",
              "    box-shadow: 0 1px 2px rgba(60, 64, 67, 0.3), 0 1px 3px 1px rgba(60, 64, 67, 0.15);\n",
              "    fill: var(--button-hover-fill-color);\n",
              "  }\n",
              "\n",
              "  .colab-df-quickchart-complete:disabled,\n",
              "  .colab-df-quickchart-complete:disabled:hover {\n",
              "    background-color: var(--disabled-bg-color);\n",
              "    fill: var(--disabled-fill-color);\n",
              "    box-shadow: none;\n",
              "  }\n",
              "\n",
              "  .colab-df-spinner {\n",
              "    border: 2px solid var(--fill-color);\n",
              "    border-color: transparent;\n",
              "    border-bottom-color: var(--fill-color);\n",
              "    animation:\n",
              "      spin 1s steps(1) infinite;\n",
              "  }\n",
              "\n",
              "  @keyframes spin {\n",
              "    0% {\n",
              "      border-color: transparent;\n",
              "      border-bottom-color: var(--fill-color);\n",
              "      border-left-color: var(--fill-color);\n",
              "    }\n",
              "    20% {\n",
              "      border-color: transparent;\n",
              "      border-left-color: var(--fill-color);\n",
              "      border-top-color: var(--fill-color);\n",
              "    }\n",
              "    30% {\n",
              "      border-color: transparent;\n",
              "      border-left-color: var(--fill-color);\n",
              "      border-top-color: var(--fill-color);\n",
              "      border-right-color: var(--fill-color);\n",
              "    }\n",
              "    40% {\n",
              "      border-color: transparent;\n",
              "      border-right-color: var(--fill-color);\n",
              "      border-top-color: var(--fill-color);\n",
              "    }\n",
              "    60% {\n",
              "      border-color: transparent;\n",
              "      border-right-color: var(--fill-color);\n",
              "    }\n",
              "    80% {\n",
              "      border-color: transparent;\n",
              "      border-right-color: var(--fill-color);\n",
              "      border-bottom-color: var(--fill-color);\n",
              "    }\n",
              "    90% {\n",
              "      border-color: transparent;\n",
              "      border-bottom-color: var(--fill-color);\n",
              "    }\n",
              "  }\n",
              "</style>\n",
              "\n",
              "  <script>\n",
              "    async function quickchart(key) {\n",
              "      const quickchartButtonEl =\n",
              "        document.querySelector('#' + key + ' button');\n",
              "      quickchartButtonEl.disabled = true;  // To prevent multiple clicks.\n",
              "      quickchartButtonEl.classList.add('colab-df-spinner');\n",
              "      try {\n",
              "        const charts = await google.colab.kernel.invokeFunction(\n",
              "            'suggestCharts', [key], {});\n",
              "      } catch (error) {\n",
              "        console.error('Error during call to suggestCharts:', error);\n",
              "      }\n",
              "      quickchartButtonEl.classList.remove('colab-df-spinner');\n",
              "      quickchartButtonEl.classList.add('colab-df-quickchart-complete');\n",
              "    }\n",
              "    (() => {\n",
              "      let quickchartButtonEl =\n",
              "        document.querySelector('#df-ff03df59-3aeb-4a2d-9187-da2bd7273dc5 button');\n",
              "      quickchartButtonEl.style.display =\n",
              "        google.colab.kernel.accessAllowed ? 'block' : 'none';\n",
              "    })();\n",
              "  </script>\n",
              "</div>\n",
              "    </div>\n",
              "  </div>\n"
            ],
            "text/plain": [
              "   MV 3:2  MV 1:2  MV 1:1  MV 1:19  MV 1:4      Time  AF\n",
              "0      14      12      12        9      12  0.000000   3\n",
              "1      17      14      14       12      11  0.024438   8\n",
              "2      11      17      12        9      11  0.048876   5\n",
              "3       8      12      16        9      15  0.073314   9\n",
              "4       8      19      12        3      20  0.097752   5"
            ]
          },
          "execution_count": 41,
          "metadata": {},
          "output_type": "execute_result"
        }
      ],
      "source": [
        "df_reab_plot = df_reab\n",
        "# df_reab_plot = df_reab_plot.drop(['52'],axis=1)\n",
        "df_reab_plot = df_reab_plot.rename(columns={\n",
        "    'pe-3-2':'MV 3:2',\n",
        "    'pe-1-2':'MV 1:2',\n",
        "    'pe-1-1':'MV 1:1',\n",
        "    'pe-1-4':'MV 1:4',\n",
        "    '52':'MV 1:19'\n",
        "})\n",
        "df_reab_plot.head()"
      ]
    },
    {
      "cell_type": "code",
      "execution_count": null,
      "metadata": {
        "colab": {
          "base_uri": "https://localhost:8080/"
        },
        "id": "zUhMz9_1fFWf",
        "outputId": "19f9ad10-52b3-4a51-9b67-6edb3b93ff73"
      },
      "outputs": [
        {
          "name": "stdout",
          "output_type": "stream",
          "text": [
            "['MV 3:2', 'MV 1:2', 'MV 1:1', 'MV 1:19', 'MV 1:4']\n"
          ]
        }
      ],
      "source": [
        "labels = list(df_reab_plot.columns)\n",
        "labels = labels[:5]\n",
        "print(labels)\n",
        "# help(fpr.plotting_gen_with_labels)"
      ]
    },
    {
      "cell_type": "code",
      "execution_count": null,
      "metadata": {
        "id": "NxbOWNAa05o_"
      },
      "outputs": [],
      "source": [
        "x = df_reab_plot['Time']\n",
        "y = df_reab_plot['AF']"
      ]
    },
    {
      "cell_type": "code",
      "execution_count": null,
      "metadata": {
        "colab": {
          "base_uri": "https://localhost:8080/"
        },
        "id": "59D158c71Lqd",
        "outputId": "87023ff8-ee6d-41bd-dc41-07d7b0e5b913"
      },
      "outputs": [
        {
          "data": {
            "text/plain": [
              "0"
            ]
          },
          "execution_count": 44,
          "metadata": {},
          "output_type": "execute_result"
        }
      ],
      "source": [
        "min(y)"
      ]
    },
    {
      "cell_type": "code",
      "execution_count": null,
      "metadata": {
        "colab": {
          "base_uri": "https://localhost:8080/",
          "height": 415
        },
        "id": "c5GHY1ocz5cC",
        "outputId": "c735f6f2-8fda-435a-f19c-8a952c4336be"
      },
      "outputs": [
        {
          "data": {
            "image/png": "[encoded data removed]",
            "text/plain": [
              "<Figure size 640x480 with 1 Axes>"
            ]
          },
          "metadata": {},
          "output_type": "display_data"
        }
      ],
      "source": [
        "plt.plot(x,y,color='black',label='AF')\n",
        "fpr.plotting_gen_with_labels(df_reab_plot,labels,labels,path,'Reabsorptionsplot',save=True)"
      ]
    },
    {
      "cell_type": "markdown",
      "metadata": {
        "id": "EIa0ZEM4qA4v"
      },
      "source": [
        "# Fluoresenzslebesdauer\n",
        "We used the plots from the experiment computer."
      ]
    },
    {
      "cell_type": "markdown",
      "metadata": {
        "id": "5mFO9TL2qIUM"
      },
      "source": [
        "## Data"
      ]
    },
    {
      "cell_type": "code",
      "execution_count": null,
      "metadata": {
        "colab": {
          "base_uri": "https://localhost:8080/",
          "height": 0
        },
        "id": "opWWZe_yqLnR",
        "outputId": "dc6ca497-8c14-4d4e-a12e-8b610f74358e"
      },
      "outputs": [
        {
          "data": {
            "text/html": [
              "\n",
              "  <div id=\"df-998ed0d9-90a0-49c3-85ac-d989f3850540\" class=\"colab-df-container\">\n",
              "    <div>\n",
              "<style scoped>\n",
              "    .dataframe tbody tr th:only-of-type {\n",
              "        vertical-align: middle;\n",
              "    }\n",
              "\n",
              "    .dataframe tbody tr th {\n",
              "        vertical-align: top;\n",
              "    }\n",
              "\n",
              "    .dataframe thead th {\n",
              "        text-align: right;\n",
              "    }\n",
              "</style>\n",
              "<table border=\"1\" class=\"dataframe\">\n",
              "  <thead>\n",
              "    <tr style=\"text-align: right;\">\n",
              "      <th></th>\n",
              "      <th>MV 1:19</th>\n",
              "      <th>MV 1:4</th>\n",
              "      <th>Time</th>\n",
              "      <th>AF</th>\n",
              "    </tr>\n",
              "  </thead>\n",
              "  <tbody>\n",
              "    <tr>\n",
              "      <th>0</th>\n",
              "      <td>9</td>\n",
              "      <td>12</td>\n",
              "      <td>0.000000</td>\n",
              "      <td>3</td>\n",
              "    </tr>\n",
              "    <tr>\n",
              "      <th>1</th>\n",
              "      <td>12</td>\n",
              "      <td>11</td>\n",
              "      <td>0.024438</td>\n",
              "      <td>8</td>\n",
              "    </tr>\n",
              "    <tr>\n",
              "      <th>2</th>\n",
              "      <td>9</td>\n",
              "      <td>11</td>\n",
              "      <td>0.048876</td>\n",
              "      <td>5</td>\n",
              "    </tr>\n",
              "    <tr>\n",
              "      <th>3</th>\n",
              "      <td>9</td>\n",
              "      <td>15</td>\n",
              "      <td>0.073314</td>\n",
              "      <td>9</td>\n",
              "    </tr>\n",
              "    <tr>\n",
              "      <th>4</th>\n",
              "      <td>3</td>\n",
              "      <td>20</td>\n",
              "      <td>0.097752</td>\n",
              "      <td>5</td>\n",
              "    </tr>\n",
              "  </tbody>\n",
              "</table>\n",
              "</div>\n",
              "    <div class=\"colab-df-buttons\">\n",
              "\n",
              "  <div class=\"colab-df-container\">\n",
              "    <button class=\"colab-df-convert\" onclick=\"convertToInteractive('df-998ed0d9-90a0-49c3-85ac-d989f3850540')\"\n",
              "            title=\"Convert this dataframe to an interactive table.\"\n",
              "            style=\"display:none;\">\n",
              "\n",
              "  <svg xmlns=\"http://www.w3.org/2000/svg\" height=\"24px\" viewBox=\"0 -960 960 960\">\n",
              "    <path d=\"M120-120v-720h720v720H120Zm60-500h600v-160H180v160Zm220 220h160v-160H400v160Zm0 220h160v-160H400v160ZM180-400h160v-160H180v160Zm440 0h160v-160H620v160ZM180-180h160v-160H180v160Zm440 0h160v-160H620v160Z\"/>\n",
              "  </svg>\n",
              "    </button>\n",
              "\n",
              "  <style>\n",
              "    .colab-df-container {\n",
              "      display:flex;\n",
              "      gap: 12px;\n",
              "    }\n",
              "\n",
              "    .colab-df-convert {\n",
              "      background-color: #E8F0FE;\n",
              "      border: none;\n",
              "      border-radius: 50%;\n",
              "      cursor: pointer;\n",
              "      display: none;\n",
              "      fill: #1967D2;\n",
              "      height: 32px;\n",
              "      padding: 0 0 0 0;\n",
              "      width: 32px;\n",
              "    }\n",
              "\n",
              "    .colab-df-convert:hover {\n",
              "      background-color: #E2EBFA;\n",
              "      box-shadow: 0px 1px 2px rgba(60, 64, 67, 0.3), 0px 1px 3px 1px rgba(60, 64, 67, 0.15);\n",
              "      fill: #174EA6;\n",
              "    }\n",
              "\n",
              "    .colab-df-buttons div {\n",
              "      margin-bottom: 4px;\n",
              "    }\n",
              "\n",
              "    [theme=dark] .colab-df-convert {\n",
              "      background-color: #3B4455;\n",
              "      fill: #D2E3FC;\n",
              "    }\n",
              "\n",
              "    [theme=dark] .colab-df-convert:hover {\n",
              "      background-color: #434B5C;\n",
              "      box-shadow: 0px 1px 3px 1px rgba(0, 0, 0, 0.15);\n",
              "      filter: drop-shadow(0px 1px 2px rgba(0, 0, 0, 0.3));\n",
              "      fill: #FFFFFF;\n",
              "    }\n",
              "  </style>\n",
              "\n",
              "    <script>\n",
              "      const buttonEl =\n",
              "        document.querySelector('#df-998ed0d9-90a0-49c3-85ac-d989f3850540 button.colab-df-convert');\n",
              "      buttonEl.style.display =\n",
              "        google.colab.kernel.accessAllowed ? 'block' : 'none';\n",
              "\n",
              "      async function convertToInteractive(key) {\n",
              "        const element = document.querySelector('#df-998ed0d9-90a0-49c3-85ac-d989f3850540');\n",
              "        const dataTable =\n",
              "          await google.colab.kernel.invokeFunction('convertToInteractive',\n",
              "                                                    [key], {});\n",
              "        if (!dataTable) return;\n",
              "\n",
              "        const docLinkHtml = 'Like what you see? Visit the ' +\n",
              "          '<a target=\"_blank\" href=https://colab.research.google.com/notebooks/data_table.ipynb>data table notebook</a>'\n",
              "          + ' to learn more about interactive tables.';\n",
              "        element.innerHTML = '';\n",
              "        dataTable['output_type'] = 'display_data';\n",
              "        await google.colab.output.renderOutput(dataTable, element);\n",
              "        const docLink = document.createElement('div');\n",
              "        docLink.innerHTML = docLinkHtml;\n",
              "        element.appendChild(docLink);\n",
              "      }\n",
              "    </script>\n",
              "  </div>\n",
              "\n",
              "\n",
              "<div id=\"df-720f77e2-144b-48dc-966c-2488ebce5ee5\">\n",
              "  <button class=\"colab-df-quickchart\" onclick=\"quickchart('df-720f77e2-144b-48dc-966c-2488ebce5ee5')\"\n",
              "            title=\"Suggest charts.\"\n",
              "            style=\"display:none;\">\n",
              "\n",
              "<svg xmlns=\"http://www.w3.org/2000/svg\" height=\"24px\"viewBox=\"0 0 24 24\"\n",
              "     width=\"24px\">\n",
              "    <g>\n",
              "        <path d=\"M19 3H5c-1.1 0-2 .9-2 2v14c0 1.1.9 2 2 2h14c1.1 0 2-.9 2-2V5c0-1.1-.9-2-2-2zM9 17H7v-7h2v7zm4 0h-2V7h2v10zm4 0h-2v-4h2v4z\"/>\n",
              "    </g>\n",
              "</svg>\n",
              "  </button>\n",
              "\n",
              "<style>\n",
              "  .colab-df-quickchart {\n",
              "      --bg-color: #E8F0FE;\n",
              "      --fill-color: #1967D2;\n",
              "      --hover-bg-color: #E2EBFA;\n",
              "      --hover-fill-color: #174EA6;\n",
              "      --disabled-fill-color: #AAA;\n",
              "      --disabled-bg-color: #DDD;\n",
              "  }\n",
              "\n",
              "  [theme=dark] .colab-df-quickchart {\n",
              "      --bg-color: #3B4455;\n",
              "      --fill-color: #D2E3FC;\n",
              "      --hover-bg-color: #434B5C;\n",
              "      --hover-fill-color: #FFFFFF;\n",
              "      --disabled-bg-color: #3B4455;\n",
              "      --disabled-fill-color: #666;\n",
              "  }\n",
              "\n",
              "  .colab-df-quickchart {\n",
              "    background-color: var(--bg-color);\n",
              "    border: none;\n",
              "    border-radius: 50%;\n",
              "    cursor: pointer;\n",
              "    display: none;\n",
              "    fill: var(--fill-color);\n",
              "    height: 32px;\n",
              "    padding: 0;\n",
              "    width: 32px;\n",
              "  }\n",
              "\n",
              "  .colab-df-quickchart:hover {\n",
              "    background-color: var(--hover-bg-color);\n",
              "    box-shadow: 0 1px 2px rgba(60, 64, 67, 0.3), 0 1px 3px 1px rgba(60, 64, 67, 0.15);\n",
              "    fill: var(--button-hover-fill-color);\n",
              "  }\n",
              "\n",
              "  .colab-df-quickchart-complete:disabled,\n",
              "  .colab-df-quickchart-complete:disabled:hover {\n",
              "    background-color: var(--disabled-bg-color);\n",
              "    fill: var(--disabled-fill-color);\n",
              "    box-shadow: none;\n",
              "  }\n",
              "\n",
              "  .colab-df-spinner {\n",
              "    border: 2px solid var(--fill-color);\n",
              "    border-color: transparent;\n",
              "    border-bottom-color: var(--fill-color);\n",
              "    animation:\n",
              "      spin 1s steps(1) infinite;\n",
              "  }\n",
              "\n",
              "  @keyframes spin {\n",
              "    0% {\n",
              "      border-color: transparent;\n",
              "      border-bottom-color: var(--fill-color);\n",
              "      border-left-color: var(--fill-color);\n",
              "    }\n",
              "    20% {\n",
              "      border-color: transparent;\n",
              "      border-left-color: var(--fill-color);\n",
              "      border-top-color: var(--fill-color);\n",
              "    }\n",
              "    30% {\n",
              "      border-color: transparent;\n",
              "      border-left-color: var(--fill-color);\n",
              "      border-top-color: var(--fill-color);\n",
              "      border-right-color: var(--fill-color);\n",
              "    }\n",
              "    40% {\n",
              "      border-color: transparent;\n",
              "      border-right-color: var(--fill-color);\n",
              "      border-top-color: var(--fill-color);\n",
              "    }\n",
              "    60% {\n",
              "      border-color: transparent;\n",
              "      border-right-color: var(--fill-color);\n",
              "    }\n",
              "    80% {\n",
              "      border-color: transparent;\n",
              "      border-right-color: var(--fill-color);\n",
              "      border-bottom-color: var(--fill-color);\n",
              "    }\n",
              "    90% {\n",
              "      border-color: transparent;\n",
              "      border-bottom-color: var(--fill-color);\n",
              "    }\n",
              "  }\n",
              "</style>\n",
              "\n",
              "  <script>\n",
              "    async function quickchart(key) {\n",
              "      const quickchartButtonEl =\n",
              "        document.querySelector('#' + key + ' button');\n",
              "      quickchartButtonEl.disabled = true;  // To prevent multiple clicks.\n",
              "      quickchartButtonEl.classList.add('colab-df-spinner');\n",
              "      try {\n",
              "        const charts = await google.colab.kernel.invokeFunction(\n",
              "            'suggestCharts', [key], {});\n",
              "      } catch (error) {\n",
              "        console.error('Error during call to suggestCharts:', error);\n",
              "      }\n",
              "      quickchartButtonEl.classList.remove('colab-df-spinner');\n",
              "      quickchartButtonEl.classList.add('colab-df-quickchart-complete');\n",
              "    }\n",
              "    (() => {\n",
              "      let quickchartButtonEl =\n",
              "        document.querySelector('#df-720f77e2-144b-48dc-966c-2488ebce5ee5 button');\n",
              "      quickchartButtonEl.style.display =\n",
              "        google.colab.kernel.accessAllowed ? 'block' : 'none';\n",
              "    })();\n",
              "  </script>\n",
              "</div>\n",
              "    </div>\n",
              "  </div>\n"
            ],
            "text/plain": [
              "   MV 1:19  MV 1:4      Time  AF\n",
              "0        9      12  0.000000   3\n",
              "1       12      11  0.024438   8\n",
              "2        9      11  0.048876   5\n",
              "3        9      15  0.073314   9\n",
              "4        3      20  0.097752   5"
            ]
          },
          "execution_count": 46,
          "metadata": {},
          "output_type": "execute_result"
        }
      ],
      "source": [
        "df_lebensdauer = df_reab_plot\n",
        "df_lebensdauer = df_lebensdauer.drop([\n",
        "    'MV 3:2',\n",
        "    'MV 1:2',\n",
        "    'MV 1:1'\n",
        "],axis=1)\n",
        "df_lebensdauer.head()"
      ]
    },
    {
      "cell_type": "markdown",
      "metadata": {
        "id": "X8-pG73xqLJ8"
      },
      "source": [
        "## Plot"
      ]
    },
    {
      "cell_type": "code",
      "execution_count": null,
      "metadata": {
        "colab": {
          "base_uri": "https://localhost:8080/",
          "height": 0
        },
        "id": "ahUObTswqO5K",
        "outputId": "0caa6da7-0d2a-461b-99f6-721898ef0673"
      },
      "outputs": [
        {
          "data": {
            "text/plain": [
              "<matplotlib.legend.Legend at 0x7ff341874040>"
            ]
          },
          "execution_count": 47,
          "metadata": {},
          "output_type": "execute_result"
        },
        {
          "data": {
            "image/png": "[encoded data removed]",
            "text/plain": [
              "<Figure size 640x480 with 1 Axes>"
            ]
          },
          "metadata": {},
          "output_type": "display_data"
        }
      ],
      "source": [
        "plt.plot(x,y,color='black',label='AF')\n",
        "plt.plot(df_lebensdauer['Time'],df_lebensdauer['MV 1:4'],color='blue',label='Lebensdauer')\n",
        "plt.xlabel('Time [s]',fontsize=14,fontweight='bold')\n",
        "plt.ylabel('Counts',fontsize=14,fontweight='bold')\n",
        "plt.yscale('log')\n",
        "# Customize legend font size and weight\n",
        "fontP = FontProperties()\n",
        "fontP.set_size('large')  # Adjust 'large' as needed\n",
        "fontP.set_weight('bold')\n",
        "\n",
        "# Add a legend with custom font size and weight\n",
        "# plt.legend(loc='center right',bbox_to_anchor=(1.25,.5),prop=fontP)\n",
        "plt.legend(prop=fontP)\n",
        "# plt.savefig(f'{path}/AF.png',dpi=600,transparent=True,bbox_inches = 'tight')"
      ]
    },
    {
      "cell_type": "markdown",
      "metadata": {
        "id": "TNAwXnjhgyYk"
      },
      "source": [
        "## Regression"
      ]
    },
    {
      "cell_type": "code",
      "execution_count": null,
      "metadata": {
        "id": "WViTVMxXg1bF"
      },
      "outputs": [],
      "source": [
        "t = np.array(df_lebensdauer['Time'])\n",
        "x_ld = np.array(df_lebensdauer['MV 1:4'])"
      ]
    },
    {
      "cell_type": "code",
      "execution_count": null,
      "metadata": {
        "id": "rTCUhPMVhMLr"
      },
      "outputs": [],
      "source": [
        "# for i in [70]:\n",
        "#   print(f'Time: {t[i]}')\n",
        "#   print(f'LD: {x_ld[i]}')\n",
        "#   print(f'Index: {i}')"
      ]
    },
    {
      "cell_type": "code",
      "execution_count": null,
      "metadata": {
        "id": "D-QxVqk4jI6p"
      },
      "outputs": [],
      "source": [
        "# for i in [819,820]:\n",
        "#   print(f'Time: {t[i]}')\n",
        "#   print(f'LD: {x_ld[i]}')\n",
        "#   print(f'Index: {i}\\n')"
      ]
    },
    {
      "cell_type": "code",
      "execution_count": null,
      "metadata": {
        "id": "bXfDwItiig14"
      },
      "outputs": [],
      "source": [
        "t = t[70:819]\n",
        "y_ld = x_ld[70:819]\n",
        "# print(t)\n",
        "# print(y_ld)"
      ]
    },
    {
      "cell_type": "markdown",
      "metadata": {
        "id": "pnBXLvdMoDb2"
      },
      "source": [
        "#### With statsmodels"
      ]
    },
    {
      "cell_type": "code",
      "execution_count": null,
      "metadata": {
        "id": "rRzRFmWej1rA"
      },
      "outputs": [],
      "source": [
        "# Add a constant term (intercept) to the features\n",
        "# X = sm.add_constant(t)\n",
        "\n",
        "# # Create the OLS model\n",
        "# model = sm.OLS(y_ld, X)\n",
        "\n",
        "# # Fit the model\n",
        "# results = model.fit()\n",
        "\n",
        "# print(results.summary())"
      ]
    },
    {
      "cell_type": "markdown",
      "metadata": {
        "id": "eWoX1mCSoHMG"
      },
      "source": [
        "#### with scipy"
      ]
    },
    {
      "cell_type": "code",
      "execution_count": null,
      "metadata": {
        "id": "WSzVHjAnoJSt"
      },
      "outputs": [],
      "source": [
        "# help(curve_fit)"
      ]
    },
    {
      "cell_type": "code",
      "execution_count": null,
      "metadata": {
        "id": "u82RxHRKoldP"
      },
      "outputs": [],
      "source": [
        "def reg(t,t0,N0):\n",
        "  N = N0 * np.exp(-(t-t0)/4.90e-9) + c\n",
        "  return N"
      ]
    },
    {
      "cell_type": "code",
      "execution_count": null,
      "metadata": {
        "colab": {
          "base_uri": "https://localhost:8080/"
        },
        "id": "lMUr_M-hvL-W",
        "outputId": "17e54e6c-94fb-4833-eff5-8c1a694c2fe8"
      },
      "outputs": [
        {
          "name": "stdout",
          "output_type": "stream",
          "text": [
            "749\n"
          ]
        },
        {
          "data": {
            "text/plain": [
              "749"
            ]
          },
          "execution_count": 55,
          "metadata": {},
          "output_type": "execute_result"
        }
      ],
      "source": [
        "print(len(y_ld))\n",
        "len(t)"
      ]
    },
    {
      "cell_type": "code",
      "execution_count": null,
      "metadata": {
        "id": "oxDfFoywn7uM"
      },
      "outputs": [],
      "source": [
        "# pop,cov=curve_fit(reg,t,y_ld,p0=[1, 5])#\n",
        "# t0,N0=pop"
      ]
    },
    {
      "cell_type": "code",
      "execution_count": null,
      "metadata": {
        "id": "hbYROgwEvaad"
      },
      "outputs": [],
      "source": [
        "# t0"
      ]
    },
    {
      "cell_type": "markdown",
      "metadata": {
        "id": "6zcK4p-Gv2ZF"
      },
      "source": [
        "It doesn't work."
      ]
    },
    {
      "cell_type": "markdown",
      "metadata": {
        "id": "e4Z3-JKeqRey"
      },
      "source": [
        "# Pheo"
      ]
    },
    {
      "cell_type": "markdown",
      "metadata": {
        "id": "E4_7UU_JqWEx"
      },
      "source": [
        "## Data"
      ]
    },
    {
      "cell_type": "code",
      "execution_count": null,
      "metadata": {
        "colab": {
          "base_uri": "https://localhost:8080/"
        },
        "id": "mECaUo1pqXT_",
        "outputId": "24df110f-008d-4526-c996-779935935322"
      },
      "outputs": [
        {
          "name": "stdout",
          "output_type": "stream",
          "text": [
            "--2023-09-22 12:56:23--  https://github.com/Ben-physics-dotcom/Internships/raw/main/FPR-1/TCSPC/Data/CSV-Files/Pheo_EWG.zip\n",
            "Resolving github.com (github.com)... 140.82.121.3\n",
            "Connecting to github.com (github.com)|140.82.121.3|:443... connected.\n",
            "HTTP request sent, awaiting response... 302 Found\n",
            "Location: https://raw.githubusercontent.com/Ben-physics-dotcom/Internships/main/FPR-1/TCSPC/Data/CSV-Files/Pheo_EWG.zip [following]\n",
            "--2023-09-22 12:56:24--  https://raw.githubusercontent.com/Ben-physics-dotcom/Internships/main/FPR-1/TCSPC/Data/CSV-Files/Pheo_EWG.zip\n",
            "Resolving raw.githubusercontent.com (raw.githubusercontent.com)... 185.199.108.133, 185.199.109.133, 185.199.110.133, ...\n",
            "Connecting to raw.githubusercontent.com (raw.githubusercontent.com)|185.199.108.133|:443... connected.\n",
            "HTTP request sent, awaiting response... 200 OK\n",
            "Length: 15404 (15K) [application/zip]\n",
            "Saving to: ‘Pheo_EWG.zip’\n",
            "\n",
            "Pheo_EWG.zip        100%[===================>]  15.04K  --.-KB/s    in 0s      \n",
            "\n",
            "2023-09-22 12:56:24 (76.6 MB/s) - ‘Pheo_EWG.zip’ saved [15404/15404]\n",
            "\n",
            "Archive:  Pheo_EWG.zip\n",
            "  inflating: Pheo_EWG.csv            \n"
          ]
        }
      ],
      "source": [
        "!wget https://github.com/Ben-physics-dotcom/Internships/raw/main/FPR-1/TCSPC/Data/CSV-Files/Pheo_EWG.zip\n",
        "!unzip Pheo_EWG.zip"
      ]
    },
    {
      "cell_type": "code",
      "execution_count": null,
      "metadata": {
        "colab": {
          "base_uri": "https://localhost:8080/",
          "height": 0
        },
        "id": "HOamPdrqymzv",
        "outputId": "35063d94-1e12-4e3d-f973-9530cb5670e2"
      },
      "outputs": [
        {
          "data": {
            "text/html": [
              "\n",
              "  <div id=\"df-da0c38a3-39ac-40d4-be1f-9718256ecf05\" class=\"colab-df-container\">\n",
              "    <div>\n",
              "<style scoped>\n",
              "    .dataframe tbody tr th:only-of-type {\n",
              "        vertical-align: middle;\n",
              "    }\n",
              "\n",
              "    .dataframe tbody tr th {\n",
              "        vertical-align: top;\n",
              "    }\n",
              "\n",
              "    .dataframe thead th {\n",
              "        text-align: right;\n",
              "    }\n",
              "</style>\n",
              "<table border=\"1\" class=\"dataframe\">\n",
              "  <thead>\n",
              "    <tr style=\"text-align: right;\">\n",
              "      <th></th>\n",
              "      <th>MV 1:4:0</th>\n",
              "      <th>MV 1:2:2</th>\n",
              "      <th>MV 1:1:3</th>\n",
              "      <th>MV 1:3:1</th>\n",
              "      <th>MV 1:0:4</th>\n",
              "      <th>Time</th>\n",
              "      <th>AF</th>\n",
              "    </tr>\n",
              "  </thead>\n",
              "  <tbody>\n",
              "    <tr>\n",
              "      <th>0</th>\n",
              "      <td>3</td>\n",
              "      <td>15</td>\n",
              "      <td>20</td>\n",
              "      <td>2</td>\n",
              "      <td>12</td>\n",
              "      <td>0.000000</td>\n",
              "      <td>3</td>\n",
              "    </tr>\n",
              "    <tr>\n",
              "      <th>1</th>\n",
              "      <td>7</td>\n",
              "      <td>16</td>\n",
              "      <td>13</td>\n",
              "      <td>10</td>\n",
              "      <td>11</td>\n",
              "      <td>0.024438</td>\n",
              "      <td>8</td>\n",
              "    </tr>\n",
              "    <tr>\n",
              "      <th>2</th>\n",
              "      <td>9</td>\n",
              "      <td>16</td>\n",
              "      <td>15</td>\n",
              "      <td>10</td>\n",
              "      <td>11</td>\n",
              "      <td>0.048876</td>\n",
              "      <td>5</td>\n",
              "    </tr>\n",
              "    <tr>\n",
              "      <th>3</th>\n",
              "      <td>5</td>\n",
              "      <td>10</td>\n",
              "      <td>12</td>\n",
              "      <td>9</td>\n",
              "      <td>15</td>\n",
              "      <td>0.073314</td>\n",
              "      <td>9</td>\n",
              "    </tr>\n",
              "    <tr>\n",
              "      <th>4</th>\n",
              "      <td>7</td>\n",
              "      <td>22</td>\n",
              "      <td>16</td>\n",
              "      <td>11</td>\n",
              "      <td>20</td>\n",
              "      <td>0.097752</td>\n",
              "      <td>5</td>\n",
              "    </tr>\n",
              "  </tbody>\n",
              "</table>\n",
              "</div>\n",
              "    <div class=\"colab-df-buttons\">\n",
              "\n",
              "  <div class=\"colab-df-container\">\n",
              "    <button class=\"colab-df-convert\" onclick=\"convertToInteractive('df-da0c38a3-39ac-40d4-be1f-9718256ecf05')\"\n",
              "            title=\"Convert this dataframe to an interactive table.\"\n",
              "            style=\"display:none;\">\n",
              "\n",
              "  <svg xmlns=\"http://www.w3.org/2000/svg\" height=\"24px\" viewBox=\"0 -960 960 960\">\n",
              "    <path d=\"M120-120v-720h720v720H120Zm60-500h600v-160H180v160Zm220 220h160v-160H400v160Zm0 220h160v-160H400v160ZM180-400h160v-160H180v160Zm440 0h160v-160H620v160ZM180-180h160v-160H180v160Zm440 0h160v-160H620v160Z\"/>\n",
              "  </svg>\n",
              "    </button>\n",
              "\n",
              "  <style>\n",
              "    .colab-df-container {\n",
              "      display:flex;\n",
              "      gap: 12px;\n",
              "    }\n",
              "\n",
              "    .colab-df-convert {\n",
              "      background-color: #E8F0FE;\n",
              "      border: none;\n",
              "      border-radius: 50%;\n",
              "      cursor: pointer;\n",
              "      display: none;\n",
              "      fill: #1967D2;\n",
              "      height: 32px;\n",
              "      padding: 0 0 0 0;\n",
              "      width: 32px;\n",
              "    }\n",
              "\n",
              "    .colab-df-convert:hover {\n",
              "      background-color: #E2EBFA;\n",
              "      box-shadow: 0px 1px 2px rgba(60, 64, 67, 0.3), 0px 1px 3px 1px rgba(60, 64, 67, 0.15);\n",
              "      fill: #174EA6;\n",
              "    }\n",
              "\n",
              "    .colab-df-buttons div {\n",
              "      margin-bottom: 4px;\n",
              "    }\n",
              "\n",
              "    [theme=dark] .colab-df-convert {\n",
              "      background-color: #3B4455;\n",
              "      fill: #D2E3FC;\n",
              "    }\n",
              "\n",
              "    [theme=dark] .colab-df-convert:hover {\n",
              "      background-color: #434B5C;\n",
              "      box-shadow: 0px 1px 3px 1px rgba(0, 0, 0, 0.15);\n",
              "      filter: drop-shadow(0px 1px 2px rgba(0, 0, 0, 0.3));\n",
              "      fill: #FFFFFF;\n",
              "    }\n",
              "  </style>\n",
              "\n",
              "    <script>\n",
              "      const buttonEl =\n",
              "        document.querySelector('#df-da0c38a3-39ac-40d4-be1f-9718256ecf05 button.colab-df-convert');\n",
              "      buttonEl.style.display =\n",
              "        google.colab.kernel.accessAllowed ? 'block' : 'none';\n",
              "\n",
              "      async function convertToInteractive(key) {\n",
              "        const element = document.querySelector('#df-da0c38a3-39ac-40d4-be1f-9718256ecf05');\n",
              "        const dataTable =\n",
              "          await google.colab.kernel.invokeFunction('convertToInteractive',\n",
              "                                                    [key], {});\n",
              "        if (!dataTable) return;\n",
              "\n",
              "        const docLinkHtml = 'Like what you see? Visit the ' +\n",
              "          '<a target=\"_blank\" href=https://colab.research.google.com/notebooks/data_table.ipynb>data table notebook</a>'\n",
              "          + ' to learn more about interactive tables.';\n",
              "        element.innerHTML = '';\n",
              "        dataTable['output_type'] = 'display_data';\n",
              "        await google.colab.output.renderOutput(dataTable, element);\n",
              "        const docLink = document.createElement('div');\n",
              "        docLink.innerHTML = docLinkHtml;\n",
              "        element.appendChild(docLink);\n",
              "      }\n",
              "    </script>\n",
              "  </div>\n",
              "\n",
              "\n",
              "<div id=\"df-274d3a4b-4154-4870-a2cd-3cbf776852dd\">\n",
              "  <button class=\"colab-df-quickchart\" onclick=\"quickchart('df-274d3a4b-4154-4870-a2cd-3cbf776852dd')\"\n",
              "            title=\"Suggest charts.\"\n",
              "            style=\"display:none;\">\n",
              "\n",
              "<svg xmlns=\"http://www.w3.org/2000/svg\" height=\"24px\"viewBox=\"0 0 24 24\"\n",
              "     width=\"24px\">\n",
              "    <g>\n",
              "        <path d=\"M19 3H5c-1.1 0-2 .9-2 2v14c0 1.1.9 2 2 2h14c1.1 0 2-.9 2-2V5c0-1.1-.9-2-2-2zM9 17H7v-7h2v7zm4 0h-2V7h2v10zm4 0h-2v-4h2v4z\"/>\n",
              "    </g>\n",
              "</svg>\n",
              "  </button>\n",
              "\n",
              "<style>\n",
              "  .colab-df-quickchart {\n",
              "      --bg-color: #E8F0FE;\n",
              "      --fill-color: #1967D2;\n",
              "      --hover-bg-color: #E2EBFA;\n",
              "      --hover-fill-color: #174EA6;\n",
              "      --disabled-fill-color: #AAA;\n",
              "      --disabled-bg-color: #DDD;\n",
              "  }\n",
              "\n",
              "  [theme=dark] .colab-df-quickchart {\n",
              "      --bg-color: #3B4455;\n",
              "      --fill-color: #D2E3FC;\n",
              "      --hover-bg-color: #434B5C;\n",
              "      --hover-fill-color: #FFFFFF;\n",
              "      --disabled-bg-color: #3B4455;\n",
              "      --disabled-fill-color: #666;\n",
              "  }\n",
              "\n",
              "  .colab-df-quickchart {\n",
              "    background-color: var(--bg-color);\n",
              "    border: none;\n",
              "    border-radius: 50%;\n",
              "    cursor: pointer;\n",
              "    display: none;\n",
              "    fill: var(--fill-color);\n",
              "    height: 32px;\n",
              "    padding: 0;\n",
              "    width: 32px;\n",
              "  }\n",
              "\n",
              "  .colab-df-quickchart:hover {\n",
              "    background-color: var(--hover-bg-color);\n",
              "    box-shadow: 0 1px 2px rgba(60, 64, 67, 0.3), 0 1px 3px 1px rgba(60, 64, 67, 0.15);\n",
              "    fill: var(--button-hover-fill-color);\n",
              "  }\n",
              "\n",
              "  .colab-df-quickchart-complete:disabled,\n",
              "  .colab-df-quickchart-complete:disabled:hover {\n",
              "    background-color: var(--disabled-bg-color);\n",
              "    fill: var(--disabled-fill-color);\n",
              "    box-shadow: none;\n",
              "  }\n",
              "\n",
              "  .colab-df-spinner {\n",
              "    border: 2px solid var(--fill-color);\n",
              "    border-color: transparent;\n",
              "    border-bottom-color: var(--fill-color);\n",
              "    animation:\n",
              "      spin 1s steps(1) infinite;\n",
              "  }\n",
              "\n",
              "  @keyframes spin {\n",
              "    0% {\n",
              "      border-color: transparent;\n",
              "      border-bottom-color: var(--fill-color);\n",
              "      border-left-color: var(--fill-color);\n",
              "    }\n",
              "    20% {\n",
              "      border-color: transparent;\n",
              "      border-left-color: var(--fill-color);\n",
              "      border-top-color: var(--fill-color);\n",
              "    }\n",
              "    30% {\n",
              "      border-color: transparent;\n",
              "      border-left-color: var(--fill-color);\n",
              "      border-top-color: var(--fill-color);\n",
              "      border-right-color: var(--fill-color);\n",
              "    }\n",
              "    40% {\n",
              "      border-color: transparent;\n",
              "      border-right-color: var(--fill-color);\n",
              "      border-top-color: var(--fill-color);\n",
              "    }\n",
              "    60% {\n",
              "      border-color: transparent;\n",
              "      border-right-color: var(--fill-color);\n",
              "    }\n",
              "    80% {\n",
              "      border-color: transparent;\n",
              "      border-right-color: var(--fill-color);\n",
              "      border-bottom-color: var(--fill-color);\n",
              "    }\n",
              "    90% {\n",
              "      border-color: transparent;\n",
              "      border-bottom-color: var(--fill-color);\n",
              "    }\n",
              "  }\n",
              "</style>\n",
              "\n",
              "  <script>\n",
              "    async function quickchart(key) {\n",
              "      const quickchartButtonEl =\n",
              "        document.querySelector('#' + key + ' button');\n",
              "      quickchartButtonEl.disabled = true;  // To prevent multiple clicks.\n",
              "      quickchartButtonEl.classList.add('colab-df-spinner');\n",
              "      try {\n",
              "        const charts = await google.colab.kernel.invokeFunction(\n",
              "            'suggestCharts', [key], {});\n",
              "      } catch (error) {\n",
              "        console.error('Error during call to suggestCharts:', error);\n",
              "      }\n",
              "      quickchartButtonEl.classList.remove('colab-df-spinner');\n",
              "      quickchartButtonEl.classList.add('colab-df-quickchart-complete');\n",
              "    }\n",
              "    (() => {\n",
              "      let quickchartButtonEl =\n",
              "        document.querySelector('#df-274d3a4b-4154-4870-a2cd-3cbf776852dd button');\n",
              "      quickchartButtonEl.style.display =\n",
              "        google.colab.kernel.accessAllowed ? 'block' : 'none';\n",
              "    })();\n",
              "  </script>\n",
              "</div>\n",
              "    </div>\n",
              "  </div>\n"
            ],
            "text/plain": [
              "   MV 1:4:0  MV 1:2:2  MV 1:1:3  MV 1:3:1  MV 1:0:4      Time  AF\n",
              "0         3        15        20         2        12  0.000000   3\n",
              "1         7        16        13        10        11  0.024438   8\n",
              "2         9        16        15        10        11  0.048876   5\n",
              "3         5        10        12         9        15  0.073314   9\n",
              "4         7        22        16        11        20  0.097752   5"
            ]
          },
          "execution_count": 59,
          "metadata": {},
          "output_type": "execute_result"
        }
      ],
      "source": [
        "df_pheo = pd.read_csv('Pheo_EWG.csv')\n",
        "df_pheo = df_pheo.drop('Unnamed: 0',axis=1)\n",
        "df_pheo = df_pheo.rename(columns={\n",
        "    'pe-1-4-0':'MV 1:4:0',\n",
        "    'pe-1-2-2': 'MV 1:2:2',\n",
        "    'pe-1-1-3':'MV 1:1:3',\n",
        "    'pe-1-3-1':'MV 1:3:1',\n",
        "    'pe-1-0-4':'MV 1:0:4'\n",
        "})\n",
        "df_pheo.head()"
      ]
    },
    {
      "cell_type": "markdown",
      "metadata": {
        "id": "l0lerpOoqX4u"
      },
      "source": [
        "## Plot"
      ]
    },
    {
      "cell_type": "code",
      "execution_count": null,
      "metadata": {
        "colab": {
          "base_uri": "https://localhost:8080/",
          "height": 0
        },
        "id": "KCPQTgiCqZcx",
        "outputId": "fd715fa4-cfea-450e-a3aa-3a9753d8a0a5"
      },
      "outputs": [
        {
          "name": "stdout",
          "output_type": "stream",
          "text": [
            "['MV 1:4:0', 'MV 1:2:2', 'MV 1:1:3', 'MV 1:3:1', 'MV 1:0:4']\n"
          ]
        },
        {
          "data": {
            "image/png": "[encoded data removed]",
            "text/plain": [
              "<Figure size 640x480 with 1 Axes>"
            ]
          },
          "metadata": {},
          "output_type": "display_data"
        }
      ],
      "source": [
        "x_pheo = df_pheo['Time']\n",
        "y_pheo = df_pheo['AF']\n",
        "\n",
        "labels = list(df_pheo.columns)\n",
        "labels = labels[:5]\n",
        "print(labels)\n",
        "# help(fpr.plotting_gen_with_labels)\n",
        "\n",
        "plt.plot(x_pheo,y_pheo,color='black',label='AF')\n",
        "fpr.plotting_gen_with_labels(df_pheo,labels,labels,path,'Pheo_EWG',save=True)"
      ]
    },
    {
      "cell_type": "markdown",
      "metadata": {
        "id": "HTefwmtCqZ7O"
      },
      "source": [
        "# Triton"
      ]
    },
    {
      "cell_type": "markdown",
      "metadata": {
        "id": "WgnBMkVcqeL3"
      },
      "source": [
        "## Data"
      ]
    },
    {
      "cell_type": "code",
      "execution_count": null,
      "metadata": {
        "colab": {
          "base_uri": "https://localhost:8080/"
        },
        "id": "ID-yIwQTqfza",
        "outputId": "605ad2df-b1f3-4ac7-a4bc-4060a4171e61"
      },
      "outputs": [
        {
          "name": "stdout",
          "output_type": "stream",
          "text": [
            "--2023-09-22 12:56:29--  https://github.com/Ben-physics-dotcom/Internships/raw/main/FPR-1/TCSPC/Data/CSV-Files/Triton.zip\n",
            "Resolving github.com (github.com)... 140.82.121.3\n",
            "Connecting to github.com (github.com)|140.82.121.3|:443... connected.\n",
            "HTTP request sent, awaiting response... 302 Found\n",
            "Location: https://raw.githubusercontent.com/Ben-physics-dotcom/Internships/main/FPR-1/TCSPC/Data/CSV-Files/Triton.zip [following]\n",
            "--2023-09-22 12:56:29--  https://raw.githubusercontent.com/Ben-physics-dotcom/Internships/main/FPR-1/TCSPC/Data/CSV-Files/Triton.zip\n",
            "Resolving raw.githubusercontent.com (raw.githubusercontent.com)... 185.199.111.133, 185.199.110.133, 185.199.109.133, ...\n",
            "Connecting to raw.githubusercontent.com (raw.githubusercontent.com)|185.199.111.133|:443... connected.\n",
            "HTTP request sent, awaiting response... 200 OK\n",
            "Length: 11505 (11K) [application/zip]\n",
            "Saving to: ‘Triton.zip’\n",
            "\n",
            "Triton.zip          100%[===================>]  11.24K  --.-KB/s    in 0s      \n",
            "\n",
            "2023-09-22 12:56:29 (57.0 MB/s) - ‘Triton.zip’ saved [11505/11505]\n",
            "\n",
            "Archive:  Triton.zip\n",
            "  inflating: Triton.csv              \n"
          ]
        }
      ],
      "source": [
        "!wget https://github.com/Ben-physics-dotcom/Internships/raw/main/FPR-1/TCSPC/Data/CSV-Files/Triton.zip\n",
        "!unzip Triton.zip"
      ]
    },
    {
      "cell_type": "code",
      "execution_count": null,
      "metadata": {
        "colab": {
          "base_uri": "https://localhost:8080/",
          "height": 206
        },
        "id": "uOGtOBZY0cWy",
        "outputId": "2984d3fb-c5a1-4e79-aaf5-3a77fc49348e"
      },
      "outputs": [
        {
          "data": {
            "text/html": [
              "\n",
              "  <div id=\"df-4599affe-7582-4c41-8a62-b2b27c60c021\" class=\"colab-df-container\">\n",
              "    <div>\n",
              "<style scoped>\n",
              "    .dataframe tbody tr th:only-of-type {\n",
              "        vertical-align: middle;\n",
              "    }\n",
              "\n",
              "    .dataframe tbody tr th {\n",
              "        vertical-align: top;\n",
              "    }\n",
              "\n",
              "    .dataframe thead th {\n",
              "        text-align: right;\n",
              "    }\n",
              "</style>\n",
              "<table border=\"1\" class=\"dataframe\">\n",
              "  <thead>\n",
              "    <tr style=\"text-align: right;\">\n",
              "      <th></th>\n",
              "      <th>MV 1:0:4</th>\n",
              "      <th>MV 1:4:0</th>\n",
              "      <th>Time</th>\n",
              "      <th>AF</th>\n",
              "    </tr>\n",
              "  </thead>\n",
              "  <tbody>\n",
              "    <tr>\n",
              "      <th>0</th>\n",
              "      <td>12</td>\n",
              "      <td>14</td>\n",
              "      <td>0.000000</td>\n",
              "      <td>3</td>\n",
              "    </tr>\n",
              "    <tr>\n",
              "      <th>1</th>\n",
              "      <td>11</td>\n",
              "      <td>11</td>\n",
              "      <td>0.024438</td>\n",
              "      <td>8</td>\n",
              "    </tr>\n",
              "    <tr>\n",
              "      <th>2</th>\n",
              "      <td>11</td>\n",
              "      <td>15</td>\n",
              "      <td>0.048876</td>\n",
              "      <td>5</td>\n",
              "    </tr>\n",
              "    <tr>\n",
              "      <th>3</th>\n",
              "      <td>15</td>\n",
              "      <td>18</td>\n",
              "      <td>0.073314</td>\n",
              "      <td>9</td>\n",
              "    </tr>\n",
              "    <tr>\n",
              "      <th>4</th>\n",
              "      <td>20</td>\n",
              "      <td>18</td>\n",
              "      <td>0.097752</td>\n",
              "      <td>5</td>\n",
              "    </tr>\n",
              "  </tbody>\n",
              "</table>\n",
              "</div>\n",
              "    <div class=\"colab-df-buttons\">\n",
              "\n",
              "  <div class=\"colab-df-container\">\n",
              "    <button class=\"colab-df-convert\" onclick=\"convertToInteractive('df-4599affe-7582-4c41-8a62-b2b27c60c021')\"\n",
              "            title=\"Convert this dataframe to an interactive table.\"\n",
              "            style=\"display:none;\">\n",
              "\n",
              "  <svg xmlns=\"http://www.w3.org/2000/svg\" height=\"24px\" viewBox=\"0 -960 960 960\">\n",
              "    <path d=\"M120-120v-720h720v720H120Zm60-500h600v-160H180v160Zm220 220h160v-160H400v160Zm0 220h160v-160H400v160ZM180-400h160v-160H180v160Zm440 0h160v-160H620v160ZM180-180h160v-160H180v160Zm440 0h160v-160H620v160Z\"/>\n",
              "  </svg>\n",
              "    </button>\n",
              "\n",
              "  <style>\n",
              "    .colab-df-container {\n",
              "      display:flex;\n",
              "      gap: 12px;\n",
              "    }\n",
              "\n",
              "    .colab-df-convert {\n",
              "      background-color: #E8F0FE;\n",
              "      border: none;\n",
              "      border-radius: 50%;\n",
              "      cursor: pointer;\n",
              "      display: none;\n",
              "      fill: #1967D2;\n",
              "      height: 32px;\n",
              "      padding: 0 0 0 0;\n",
              "      width: 32px;\n",
              "    }\n",
              "\n",
              "    .colab-df-convert:hover {\n",
              "      background-color: #E2EBFA;\n",
              "      box-shadow: 0px 1px 2px rgba(60, 64, 67, 0.3), 0px 1px 3px 1px rgba(60, 64, 67, 0.15);\n",
              "      fill: #174EA6;\n",
              "    }\n",
              "\n",
              "    .colab-df-buttons div {\n",
              "      margin-bottom: 4px;\n",
              "    }\n",
              "\n",
              "    [theme=dark] .colab-df-convert {\n",
              "      background-color: #3B4455;\n",
              "      fill: #D2E3FC;\n",
              "    }\n",
              "\n",
              "    [theme=dark] .colab-df-convert:hover {\n",
              "      background-color: #434B5C;\n",
              "      box-shadow: 0px 1px 3px 1px rgba(0, 0, 0, 0.15);\n",
              "      filter: drop-shadow(0px 1px 2px rgba(0, 0, 0, 0.3));\n",
              "      fill: #FFFFFF;\n",
              "    }\n",
              "  </style>\n",
              "\n",
              "    <script>\n",
              "      const buttonEl =\n",
              "        document.querySelector('#df-4599affe-7582-4c41-8a62-b2b27c60c021 button.colab-df-convert');\n",
              "      buttonEl.style.display =\n",
              "        google.colab.kernel.accessAllowed ? 'block' : 'none';\n",
              "\n",
              "      async function convertToInteractive(key) {\n",
              "        const element = document.querySelector('#df-4599affe-7582-4c41-8a62-b2b27c60c021');\n",
              "        const dataTable =\n",
              "          await google.colab.kernel.invokeFunction('convertToInteractive',\n",
              "                                                    [key], {});\n",
              "        if (!dataTable) return;\n",
              "\n",
              "        const docLinkHtml = 'Like what you see? Visit the ' +\n",
              "          '<a target=\"_blank\" href=https://colab.research.google.com/notebooks/data_table.ipynb>data table notebook</a>'\n",
              "          + ' to learn more about interactive tables.';\n",
              "        element.innerHTML = '';\n",
              "        dataTable['output_type'] = 'display_data';\n",
              "        await google.colab.output.renderOutput(dataTable, element);\n",
              "        const docLink = document.createElement('div');\n",
              "        docLink.innerHTML = docLinkHtml;\n",
              "        element.appendChild(docLink);\n",
              "      }\n",
              "    </script>\n",
              "  </div>\n",
              "\n",
              "\n",
              "<div id=\"df-ef3db54a-548b-4af5-9baa-531ef66aad2a\">\n",
              "  <button class=\"colab-df-quickchart\" onclick=\"quickchart('df-ef3db54a-548b-4af5-9baa-531ef66aad2a')\"\n",
              "            title=\"Suggest charts.\"\n",
              "            style=\"display:none;\">\n",
              "\n",
              "<svg xmlns=\"http://www.w3.org/2000/svg\" height=\"24px\"viewBox=\"0 0 24 24\"\n",
              "     width=\"24px\">\n",
              "    <g>\n",
              "        <path d=\"M19 3H5c-1.1 0-2 .9-2 2v14c0 1.1.9 2 2 2h14c1.1 0 2-.9 2-2V5c0-1.1-.9-2-2-2zM9 17H7v-7h2v7zm4 0h-2V7h2v10zm4 0h-2v-4h2v4z\"/>\n",
              "    </g>\n",
              "</svg>\n",
              "  </button>\n",
              "\n",
              "<style>\n",
              "  .colab-df-quickchart {\n",
              "      --bg-color: #E8F0FE;\n",
              "      --fill-color: #1967D2;\n",
              "      --hover-bg-color: #E2EBFA;\n",
              "      --hover-fill-color: #174EA6;\n",
              "      --disabled-fill-color: #AAA;\n",
              "      --disabled-bg-color: #DDD;\n",
              "  }\n",
              "\n",
              "  [theme=dark] .colab-df-quickchart {\n",
              "      --bg-color: #3B4455;\n",
              "      --fill-color: #D2E3FC;\n",
              "      --hover-bg-color: #434B5C;\n",
              "      --hover-fill-color: #FFFFFF;\n",
              "      --disabled-bg-color: #3B4455;\n",
              "      --disabled-fill-color: #666;\n",
              "  }\n",
              "\n",
              "  .colab-df-quickchart {\n",
              "    background-color: var(--bg-color);\n",
              "    border: none;\n",
              "    border-radius: 50%;\n",
              "    cursor: pointer;\n",
              "    display: none;\n",
              "    fill: var(--fill-color);\n",
              "    height: 32px;\n",
              "    padding: 0;\n",
              "    width: 32px;\n",
              "  }\n",
              "\n",
              "  .colab-df-quickchart:hover {\n",
              "    background-color: var(--hover-bg-color);\n",
              "    box-shadow: 0 1px 2px rgba(60, 64, 67, 0.3), 0 1px 3px 1px rgba(60, 64, 67, 0.15);\n",
              "    fill: var(--button-hover-fill-color);\n",
              "  }\n",
              "\n",
              "  .colab-df-quickchart-complete:disabled,\n",
              "  .colab-df-quickchart-complete:disabled:hover {\n",
              "    background-color: var(--disabled-bg-color);\n",
              "    fill: var(--disabled-fill-color);\n",
              "    box-shadow: none;\n",
              "  }\n",
              "\n",
              "  .colab-df-spinner {\n",
              "    border: 2px solid var(--fill-color);\n",
              "    border-color: transparent;\n",
              "    border-bottom-color: var(--fill-color);\n",
              "    animation:\n",
              "      spin 1s steps(1) infinite;\n",
              "  }\n",
              "\n",
              "  @keyframes spin {\n",
              "    0% {\n",
              "      border-color: transparent;\n",
              "      border-bottom-color: var(--fill-color);\n",
              "      border-left-color: var(--fill-color);\n",
              "    }\n",
              "    20% {\n",
              "      border-color: transparent;\n",
              "      border-left-color: var(--fill-color);\n",
              "      border-top-color: var(--fill-color);\n",
              "    }\n",
              "    30% {\n",
              "      border-color: transparent;\n",
              "      border-left-color: var(--fill-color);\n",
              "      border-top-color: var(--fill-color);\n",
              "      border-right-color: var(--fill-color);\n",
              "    }\n",
              "    40% {\n",
              "      border-color: transparent;\n",
              "      border-right-color: var(--fill-color);\n",
              "      border-top-color: var(--fill-color);\n",
              "    }\n",
              "    60% {\n",
              "      border-color: transparent;\n",
              "      border-right-color: var(--fill-color);\n",
              "    }\n",
              "    80% {\n",
              "      border-color: transparent;\n",
              "      border-right-color: var(--fill-color);\n",
              "      border-bottom-color: var(--fill-color);\n",
              "    }\n",
              "    90% {\n",
              "      border-color: transparent;\n",
              "      border-bottom-color: var(--fill-color);\n",
              "    }\n",
              "  }\n",
              "</style>\n",
              "\n",
              "  <script>\n",
              "    async function quickchart(key) {\n",
              "      const quickchartButtonEl =\n",
              "        document.querySelector('#' + key + ' button');\n",
              "      quickchartButtonEl.disabled = true;  // To prevent multiple clicks.\n",
              "      quickchartButtonEl.classList.add('colab-df-spinner');\n",
              "      try {\n",
              "        const charts = await google.colab.kernel.invokeFunction(\n",
              "            'suggestCharts', [key], {});\n",
              "      } catch (error) {\n",
              "        console.error('Error during call to suggestCharts:', error);\n",
              "      }\n",
              "      quickchartButtonEl.classList.remove('colab-df-spinner');\n",
              "      quickchartButtonEl.classList.add('colab-df-quickchart-complete');\n",
              "    }\n",
              "    (() => {\n",
              "      let quickchartButtonEl =\n",
              "        document.querySelector('#df-ef3db54a-548b-4af5-9baa-531ef66aad2a button');\n",
              "      quickchartButtonEl.style.display =\n",
              "        google.colab.kernel.accessAllowed ? 'block' : 'none';\n",
              "    })();\n",
              "  </script>\n",
              "</div>\n",
              "    </div>\n",
              "  </div>\n"
            ],
            "text/plain": [
              "   MV 1:0:4  MV 1:4:0      Time  AF\n",
              "0        12        14  0.000000   3\n",
              "1        11        11  0.024438   8\n",
              "2        11        15  0.048876   5\n",
              "3        15        18  0.073314   9\n",
              "4        20        18  0.097752   5"
            ]
          },
          "execution_count": 62,
          "metadata": {},
          "output_type": "execute_result"
        }
      ],
      "source": [
        "df_triton = pd.read_csv('Triton.csv')\n",
        "df_triton = df_triton.drop('Unnamed: 0',axis=1)\n",
        "df_triton = df_triton.rename(columns={\n",
        "    'pe-1-0-4_0Grad':'MV 1:0:4',\n",
        "    '1-4-0_mit triton':'MV 1:4:0'\n",
        "})\n",
        "df_triton.head()"
      ]
    },
    {
      "cell_type": "markdown",
      "metadata": {
        "id": "TWti2ZwjqgG_"
      },
      "source": [
        "## Plot"
      ]
    },
    {
      "cell_type": "code",
      "execution_count": null,
      "metadata": {
        "colab": {
          "base_uri": "https://localhost:8080/",
          "height": 432
        },
        "id": "BHpuyeM-qiLK",
        "outputId": "ae6da5ce-ec72-491a-d76a-d4e87028e11e"
      },
      "outputs": [
        {
          "name": "stdout",
          "output_type": "stream",
          "text": [
            "['MV 1:0:4', 'MV 1:4:0']\n"
          ]
        },
        {
          "data": {
            "image/png": "[encoded data removed]",
            "text/plain": [
              "<Figure size 640x480 with 1 Axes>"
            ]
          },
          "metadata": {},
          "output_type": "display_data"
        }
      ],
      "source": [
        "x_t = df_triton['Time']\n",
        "y_t = df_triton['AF']\n",
        "\n",
        "labels = list(df_triton.columns)\n",
        "labels = labels[:2]\n",
        "print(labels)\n",
        "# help(fpr.plotting_gen_with_labels)\n",
        "\n",
        "plt.plot(x_t,y_t,color='black',label='AF')\n",
        "fpr.plotting_gen_with_labels(df_triton,labels,labels,path,'Triton',save=True)"
      ]
    },
    {
      "cell_type": "markdown",
      "metadata": {
        "id": "LiVXH5_8qiaI"
      },
      "source": [
        "# Anisotropie"
      ]
    },
    {
      "cell_type": "markdown",
      "metadata": {
        "id": "aEhDWdpkqo3y"
      },
      "source": [
        "## Data"
      ]
    },
    {
      "cell_type": "code",
      "execution_count": null,
      "metadata": {
        "colab": {
          "base_uri": "https://localhost:8080/"
        },
        "id": "VY5hzN0yqryU",
        "outputId": "1bb94258-9b71-4139-d1b2-0845481b2f31"
      },
      "outputs": [
        {
          "name": "stdout",
          "output_type": "stream",
          "text": [
            "--2023-09-22 12:56:35--  https://github.com/Ben-physics-dotcom/Internships/raw/main/FPR-1/TCSPC/Data/CSV-Files/Anisotropie.zip\n",
            "Resolving github.com (github.com)... 140.82.121.4\n",
            "Connecting to github.com (github.com)|140.82.121.4|:443... connected.\n",
            "HTTP request sent, awaiting response... 302 Found\n",
            "Location: https://raw.githubusercontent.com/Ben-physics-dotcom/Internships/main/FPR-1/TCSPC/Data/CSV-Files/Anisotropie.zip [following]\n",
            "--2023-09-22 12:56:35--  https://raw.githubusercontent.com/Ben-physics-dotcom/Internships/main/FPR-1/TCSPC/Data/CSV-Files/Anisotropie.zip\n",
            "Resolving raw.githubusercontent.com (raw.githubusercontent.com)... 185.199.108.133, 185.199.109.133, 185.199.110.133, ...\n",
            "Connecting to raw.githubusercontent.com (raw.githubusercontent.com)|185.199.108.133|:443... connected.\n",
            "HTTP request sent, awaiting response... 200 OK\n",
            "Length: 14100 (14K) [application/zip]\n",
            "Saving to: ‘Anisotropie.zip’\n",
            "\n",
            "Anisotropie.zip     100%[===================>]  13.77K  --.-KB/s    in 0s      \n",
            "\n",
            "2023-09-22 12:56:36 (118 MB/s) - ‘Anisotropie.zip’ saved [14100/14100]\n",
            "\n",
            "Archive:  Anisotropie.zip\n",
            "  inflating: Anisotropie.csv         \n"
          ]
        }
      ],
      "source": [
        "!wget https://github.com/Ben-physics-dotcom/Internships/raw/main/FPR-1/TCSPC/Data/CSV-Files/Anisotropie.zip\n",
        "!unzip Anisotropie.zip"
      ]
    },
    {
      "cell_type": "code",
      "execution_count": null,
      "metadata": {
        "colab": {
          "base_uri": "https://localhost:8080/",
          "height": 224
        },
        "id": "l4A_npEcyfEQ",
        "outputId": "6bd39c58-e9e8-4119-cfd5-4bb9cfc2894a"
      },
      "outputs": [
        {
          "data": {
            "text/html": [
              "\n",
              "  <div id=\"df-f245fa24-f1ee-406d-b5b7-a37201091787\" class=\"colab-df-container\">\n",
              "    <div>\n",
              "<style scoped>\n",
              "    .dataframe tbody tr th:only-of-type {\n",
              "        vertical-align: middle;\n",
              "    }\n",
              "\n",
              "    .dataframe tbody tr th {\n",
              "        vertical-align: top;\n",
              "    }\n",
              "\n",
              "    .dataframe thead th {\n",
              "        text-align: right;\n",
              "    }\n",
              "</style>\n",
              "<table border=\"1\" class=\"dataframe\">\n",
              "  <thead>\n",
              "    <tr style=\"text-align: right;\">\n",
              "      <th></th>\n",
              "      <th>ohne Triton 0°</th>\n",
              "      <th>ohne Triton 90°</th>\n",
              "      <th>mit Triton 90°</th>\n",
              "      <th>mit Triton 0°</th>\n",
              "      <th>Time</th>\n",
              "      <th>AF</th>\n",
              "    </tr>\n",
              "  </thead>\n",
              "  <tbody>\n",
              "    <tr>\n",
              "      <th>0</th>\n",
              "      <td>12</td>\n",
              "      <td>13</td>\n",
              "      <td>12</td>\n",
              "      <td>14</td>\n",
              "      <td>0.000000</td>\n",
              "      <td>3</td>\n",
              "    </tr>\n",
              "    <tr>\n",
              "      <th>1</th>\n",
              "      <td>11</td>\n",
              "      <td>17</td>\n",
              "      <td>14</td>\n",
              "      <td>11</td>\n",
              "      <td>0.024438</td>\n",
              "      <td>8</td>\n",
              "    </tr>\n",
              "    <tr>\n",
              "      <th>2</th>\n",
              "      <td>11</td>\n",
              "      <td>19</td>\n",
              "      <td>6</td>\n",
              "      <td>15</td>\n",
              "      <td>0.048876</td>\n",
              "      <td>5</td>\n",
              "    </tr>\n",
              "    <tr>\n",
              "      <th>3</th>\n",
              "      <td>15</td>\n",
              "      <td>19</td>\n",
              "      <td>17</td>\n",
              "      <td>18</td>\n",
              "      <td>0.073314</td>\n",
              "      <td>9</td>\n",
              "    </tr>\n",
              "    <tr>\n",
              "      <th>4</th>\n",
              "      <td>20</td>\n",
              "      <td>16</td>\n",
              "      <td>10</td>\n",
              "      <td>18</td>\n",
              "      <td>0.097752</td>\n",
              "      <td>5</td>\n",
              "    </tr>\n",
              "  </tbody>\n",
              "</table>\n",
              "</div>\n",
              "    <div class=\"colab-df-buttons\">\n",
              "\n",
              "  <div class=\"colab-df-container\">\n",
              "    <button class=\"colab-df-convert\" onclick=\"convertToInteractive('df-f245fa24-f1ee-406d-b5b7-a37201091787')\"\n",
              "            title=\"Convert this dataframe to an interactive table.\"\n",
              "            style=\"display:none;\">\n",
              "\n",
              "  <svg xmlns=\"http://www.w3.org/2000/svg\" height=\"24px\" viewBox=\"0 -960 960 960\">\n",
              "    <path d=\"M120-120v-720h720v720H120Zm60-500h600v-160H180v160Zm220 220h160v-160H400v160Zm0 220h160v-160H400v160ZM180-400h160v-160H180v160Zm440 0h160v-160H620v160ZM180-180h160v-160H180v160Zm440 0h160v-160H620v160Z\"/>\n",
              "  </svg>\n",
              "    </button>\n",
              "\n",
              "  <style>\n",
              "    .colab-df-container {\n",
              "      display:flex;\n",
              "      gap: 12px;\n",
              "    }\n",
              "\n",
              "    .colab-df-convert {\n",
              "      background-color: #E8F0FE;\n",
              "      border: none;\n",
              "      border-radius: 50%;\n",
              "      cursor: pointer;\n",
              "      display: none;\n",
              "      fill: #1967D2;\n",
              "      height: 32px;\n",
              "      padding: 0 0 0 0;\n",
              "      width: 32px;\n",
              "    }\n",
              "\n",
              "    .colab-df-convert:hover {\n",
              "      background-color: #E2EBFA;\n",
              "      box-shadow: 0px 1px 2px rgba(60, 64, 67, 0.3), 0px 1px 3px 1px rgba(60, 64, 67, 0.15);\n",
              "      fill: #174EA6;\n",
              "    }\n",
              "\n",
              "    .colab-df-buttons div {\n",
              "      margin-bottom: 4px;\n",
              "    }\n",
              "\n",
              "    [theme=dark] .colab-df-convert {\n",
              "      background-color: #3B4455;\n",
              "      fill: #D2E3FC;\n",
              "    }\n",
              "\n",
              "    [theme=dark] .colab-df-convert:hover {\n",
              "      background-color: #434B5C;\n",
              "      box-shadow: 0px 1px 3px 1px rgba(0, 0, 0, 0.15);\n",
              "      filter: drop-shadow(0px 1px 2px rgba(0, 0, 0, 0.3));\n",
              "      fill: #FFFFFF;\n",
              "    }\n",
              "  </style>\n",
              "\n",
              "    <script>\n",
              "      const buttonEl =\n",
              "        document.querySelector('#df-f245fa24-f1ee-406d-b5b7-a37201091787 button.colab-df-convert');\n",
              "      buttonEl.style.display =\n",
              "        google.colab.kernel.accessAllowed ? 'block' : 'none';\n",
              "\n",
              "      async function convertToInteractive(key) {\n",
              "        const element = document.querySelector('#df-f245fa24-f1ee-406d-b5b7-a37201091787');\n",
              "        const dataTable =\n",
              "          await google.colab.kernel.invokeFunction('convertToInteractive',\n",
              "                                                    [key], {});\n",
              "        if (!dataTable) return;\n",
              "\n",
              "        const docLinkHtml = 'Like what you see? Visit the ' +\n",
              "          '<a target=\"_blank\" href=https://colab.research.google.com/notebooks/data_table.ipynb>data table notebook</a>'\n",
              "          + ' to learn more about interactive tables.';\n",
              "        element.innerHTML = '';\n",
              "        dataTable['output_type'] = 'display_data';\n",
              "        await google.colab.output.renderOutput(dataTable, element);\n",
              "        const docLink = document.createElement('div');\n",
              "        docLink.innerHTML = docLinkHtml;\n",
              "        element.appendChild(docLink);\n",
              "      }\n",
              "    </script>\n",
              "  </div>\n",
              "\n",
              "\n",
              "<div id=\"df-d8510535-ecce-47a6-81ba-14f3fd415c46\">\n",
              "  <button class=\"colab-df-quickchart\" onclick=\"quickchart('df-d8510535-ecce-47a6-81ba-14f3fd415c46')\"\n",
              "            title=\"Suggest charts.\"\n",
              "            style=\"display:none;\">\n",
              "\n",
              "<svg xmlns=\"http://www.w3.org/2000/svg\" height=\"24px\"viewBox=\"0 0 24 24\"\n",
              "     width=\"24px\">\n",
              "    <g>\n",
              "        <path d=\"M19 3H5c-1.1 0-2 .9-2 2v14c0 1.1.9 2 2 2h14c1.1 0 2-.9 2-2V5c0-1.1-.9-2-2-2zM9 17H7v-7h2v7zm4 0h-2V7h2v10zm4 0h-2v-4h2v4z\"/>\n",
              "    </g>\n",
              "</svg>\n",
              "  </button>\n",
              "\n",
              "<style>\n",
              "  .colab-df-quickchart {\n",
              "      --bg-color: #E8F0FE;\n",
              "      --fill-color: #1967D2;\n",
              "      --hover-bg-color: #E2EBFA;\n",
              "      --hover-fill-color: #174EA6;\n",
              "      --disabled-fill-color: #AAA;\n",
              "      --disabled-bg-color: #DDD;\n",
              "  }\n",
              "\n",
              "  [theme=dark] .colab-df-quickchart {\n",
              "      --bg-color: #3B4455;\n",
              "      --fill-color: #D2E3FC;\n",
              "      --hover-bg-color: #434B5C;\n",
              "      --hover-fill-color: #FFFFFF;\n",
              "      --disabled-bg-color: #3B4455;\n",
              "      --disabled-fill-color: #666;\n",
              "  }\n",
              "\n",
              "  .colab-df-quickchart {\n",
              "    background-color: var(--bg-color);\n",
              "    border: none;\n",
              "    border-radius: 50%;\n",
              "    cursor: pointer;\n",
              "    display: none;\n",
              "    fill: var(--fill-color);\n",
              "    height: 32px;\n",
              "    padding: 0;\n",
              "    width: 32px;\n",
              "  }\n",
              "\n",
              "  .colab-df-quickchart:hover {\n",
              "    background-color: var(--hover-bg-color);\n",
              "    box-shadow: 0 1px 2px rgba(60, 64, 67, 0.3), 0 1px 3px 1px rgba(60, 64, 67, 0.15);\n",
              "    fill: var(--button-hover-fill-color);\n",
              "  }\n",
              "\n",
              "  .colab-df-quickchart-complete:disabled,\n",
              "  .colab-df-quickchart-complete:disabled:hover {\n",
              "    background-color: var(--disabled-bg-color);\n",
              "    fill: var(--disabled-fill-color);\n",
              "    box-shadow: none;\n",
              "  }\n",
              "\n",
              "  .colab-df-spinner {\n",
              "    border: 2px solid var(--fill-color);\n",
              "    border-color: transparent;\n",
              "    border-bottom-color: var(--fill-color);\n",
              "    animation:\n",
              "      spin 1s steps(1) infinite;\n",
              "  }\n",
              "\n",
              "  @keyframes spin {\n",
              "    0% {\n",
              "      border-color: transparent;\n",
              "      border-bottom-color: var(--fill-color);\n",
              "      border-left-color: var(--fill-color);\n",
              "    }\n",
              "    20% {\n",
              "      border-color: transparent;\n",
              "      border-left-color: var(--fill-color);\n",
              "      border-top-color: var(--fill-color);\n",
              "    }\n",
              "    30% {\n",
              "      border-color: transparent;\n",
              "      border-left-color: var(--fill-color);\n",
              "      border-top-color: var(--fill-color);\n",
              "      border-right-color: var(--fill-color);\n",
              "    }\n",
              "    40% {\n",
              "      border-color: transparent;\n",
              "      border-right-color: var(--fill-color);\n",
              "      border-top-color: var(--fill-color);\n",
              "    }\n",
              "    60% {\n",
              "      border-color: transparent;\n",
              "      border-right-color: var(--fill-color);\n",
              "    }\n",
              "    80% {\n",
              "      border-color: transparent;\n",
              "      border-right-color: var(--fill-color);\n",
              "      border-bottom-color: var(--fill-color);\n",
              "    }\n",
              "    90% {\n",
              "      border-color: transparent;\n",
              "      border-bottom-color: var(--fill-color);\n",
              "    }\n",
              "  }\n",
              "</style>\n",
              "\n",
              "  <script>\n",
              "    async function quickchart(key) {\n",
              "      const quickchartButtonEl =\n",
              "        document.querySelector('#' + key + ' button');\n",
              "      quickchartButtonEl.disabled = true;  // To prevent multiple clicks.\n",
              "      quickchartButtonEl.classList.add('colab-df-spinner');\n",
              "      try {\n",
              "        const charts = await google.colab.kernel.invokeFunction(\n",
              "            'suggestCharts', [key], {});\n",
              "      } catch (error) {\n",
              "        console.error('Error during call to suggestCharts:', error);\n",
              "      }\n",
              "      quickchartButtonEl.classList.remove('colab-df-spinner');\n",
              "      quickchartButtonEl.classList.add('colab-df-quickchart-complete');\n",
              "    }\n",
              "    (() => {\n",
              "      let quickchartButtonEl =\n",
              "        document.querySelector('#df-d8510535-ecce-47a6-81ba-14f3fd415c46 button');\n",
              "      quickchartButtonEl.style.display =\n",
              "        google.colab.kernel.accessAllowed ? 'block' : 'none';\n",
              "    })();\n",
              "  </script>\n",
              "</div>\n",
              "    </div>\n",
              "  </div>\n"
            ],
            "text/plain": [
              "   ohne Triton 0°  ohne Triton 90°  mit Triton 90°  mit Triton 0°      Time  \\\n",
              "0              12               13              12             14  0.000000   \n",
              "1              11               17              14             11  0.024438   \n",
              "2              11               19               6             15  0.048876   \n",
              "3              15               19              17             18  0.073314   \n",
              "4              20               16              10             18  0.097752   \n",
              "\n",
              "   AF  \n",
              "0   3  \n",
              "1   8  \n",
              "2   5  \n",
              "3   9  \n",
              "4   5  "
            ]
          },
          "execution_count": 65,
          "metadata": {},
          "output_type": "execute_result"
        }
      ],
      "source": [
        "df_aniso = pd.read_csv('Anisotropie.csv')\n",
        "df_aniso = df_aniso.drop('Unnamed: 0',axis=1)\n",
        "df_aniso = df_aniso.rename(columns={\n",
        "    'pe-1-0-4_0Grad':'ohne Triton 0°',\n",
        "    'pe-1-0-4_90grad':'ohne Triton 90°',\n",
        "    '1-4-0_mit triton_90grad':'mit Triton 90°',\n",
        "    '1-4-0_mit triton_0Grad':'mit Triton 0°'\n",
        "})\n",
        "df_aniso.head()"
      ]
    },
    {
      "cell_type": "markdown",
      "metadata": {
        "id": "1Ay-W-k2qsMi"
      },
      "source": [
        "## Calculation\n",
        "Equation:\n",
        "$$ r = \\frac{I_{||} - I_{\\perp}}{I_{||} +2⋅ I_{\\perp}} $$"
      ]
    },
    {
      "cell_type": "code",
      "execution_count": null,
      "metadata": {
        "id": "ndSn_nm6rKbQ"
      },
      "outputs": [],
      "source": [
        "ohne = math_func.anisotropie(df_aniso['ohne Triton 0°'],df_aniso['ohne Triton 90°'])\n",
        "mit = math_func.anisotropie(df_aniso['mit Triton 0°'],df_aniso['mit Triton 90°'])"
      ]
    },
    {
      "cell_type": "markdown",
      "metadata": {
        "id": "tRFhepq2rK_g"
      },
      "source": [
        "## Plot"
      ]
    },
    {
      "cell_type": "code",
      "execution_count": null,
      "metadata": {
        "colab": {
          "base_uri": "https://localhost:8080/",
          "height": 432
        },
        "id": "6EFtgrTF310N",
        "outputId": "652c4f27-df54-4a57-dc6b-3151ad1441bb"
      },
      "outputs": [
        {
          "name": "stdout",
          "output_type": "stream",
          "text": [
            "['ohne Triton 0°', 'ohne Triton 90°', 'mit Triton 90°', 'mit Triton 0°']\n"
          ]
        },
        {
          "data": {
            "image/png": "[encoded data removed]",
            "text/plain": [
              "<Figure size 640x480 with 1 Axes>"
            ]
          },
          "metadata": {},
          "output_type": "display_data"
        }
      ],
      "source": [
        "x_t = df_aniso['Time']\n",
        "y_t = df_aniso['AF']\n",
        "\n",
        "labels = list(df_aniso.columns)\n",
        "labels = labels[:4]\n",
        "print(labels)\n",
        "# help(fpr.plotting_gen_with_labels)\n",
        "\n",
        "plt.plot(x_t,y_t,color='black',label='AF')\n",
        "fpr.plotting_gen_with_labels(df_aniso,labels,labels,path,'Anisotropie-Messung',save=True)"
      ]
    },
    {
      "cell_type": "markdown",
      "metadata": {
        "id": "zEklaQie3yii"
      },
      "source": [
        "## Anisotropie"
      ]
    },
    {
      "cell_type": "code",
      "execution_count": null,
      "metadata": {
        "colab": {
          "base_uri": "https://localhost:8080/",
          "height": 35
        },
        "id": "WJpdYsAZftev",
        "outputId": "47c9b8b9-c640-4db3-aa48-87484b971bc3"
      },
      "outputs": [
        {
          "data": {
            "application/vnd.google.colaboratory.intrinsic+json": {
              "type": "string"
            },
            "text/plain": [
              "'/content/Plots_1'"
            ]
          },
          "execution_count": 68,
          "metadata": {},
          "output_type": "execute_result"
        }
      ],
      "source": [
        "path"
      ]
    },
    {
      "cell_type": "code",
      "execution_count": null,
      "metadata": {
        "colab": {
          "base_uri": "https://localhost:8080/",
          "height": 454
        },
        "id": "rtn2xTVWrNrH",
        "outputId": "438fb5d9-8699-41ec-bc87-acceb82aaf47"
      },
      "outputs": [
        {
          "data": {
            "image/png": "[encoded data removed]",
            "text/plain": [
              "<Figure size 640x480 with 1 Axes>"
            ]
          },
          "metadata": {},
          "output_type": "display_data"
        }
      ],
      "source": [
        "# plot\n",
        "plt.plot(x,mit,label='mit Triton')\n",
        "plt.plot(x,ohne,label='ohne Triton')\n",
        "\n",
        "# axis labels\n",
        "plt.xlabel('Time [ns]',fontsize=14,fontweight='bold')\n",
        "plt.ylabel('Counts',fontsize=14,fontweight='bold')\n",
        "\n",
        "# Legend\n",
        "fontP = FontProperties()\n",
        "fontP.set_size('large')  # Adjust 'large' as needed\n",
        "fontP.set_weight('bold')\n",
        "plt.legend(prop=fontP)\n",
        "\n",
        "# save plot\n",
        "plt.savefig(f'{path}/Anisotropie-Berechnet.png',dpi=600,transparent=True,bbox_inches = 'tight')"
      ]
    },
    {
      "cell_type": "markdown",
      "metadata": {
        "id": "O0-WecKNXKE2"
      },
      "source": [
        "# Download all png files"
      ]
    },
    {
      "cell_type": "code",
      "execution_count": null,
      "metadata": {
        "id": "lnWG1doNZGYz"
      },
      "outputs": [],
      "source": [
        "# # you must change this to your personal folder paths\n",
        "# path_bmp = '/content/BMP'\n",
        "# path_plots = '/content/Plots_1'"
      ]
    },
    {
      "cell_type": "markdown",
      "metadata": {
        "id": "RqhqAJMAbjAY"
      },
      "source": [
        "Allow Colab to download multiple files"
      ]
    },
    {
      "cell_type": "code",
      "execution_count": null,
      "metadata": {
        "id": "NSg2BZxRXM9U"
      },
      "outputs": [],
      "source": [
        "# from google.colab import files\n",
        "# import shutil\n",
        "# f1 = os.listdir(path_bmp)\n",
        "# f2 = os.listdir(path_plots)\n",
        "\n",
        "# for file in f1:\n",
        "#   f_path = os.path.join(path_bmp, file)\n",
        "#   # Get a list of all files in the folder\n",
        "\n",
        "#   shutil.move(f_path, '/content')  # Move the file to /content for download\n",
        "#   print(f'Downloading: {file}')\n",
        "#   files.download(file)  # Trigger the download\n",
        "\n",
        "# for file in f2:\n",
        "#   f_path = os.path.join(path_plots, file)\n",
        "#   # Get a list of all files in the folder\n",
        "\n",
        "#   shutil.move(f_path, '/content')  # Move the file to /content for download\n",
        "#   print(f'Downloading: {file}')\n",
        "#   files.download(file)  # Trigger the download"
      ]
    }
  ],
  "metadata": {
    "colab": {
      "collapsed_sections": [
        "ARlkRUv7pfL-",
        "xUSc417JdGN9",
        "EIa0ZEM4qA4v",
        "5mFO9TL2qIUM",
        "e4Z3-JKeqRey"
      ],
      "provenance": []
    },
    "kernelspec": {
      "display_name": "projects",
      "language": "python",
      "name": "python3"
    },
    "language_info": {
      "codemirror_mode": {
        "name": "ipython",
        "version": 3
      },
      "file_extension": ".py",
      "mimetype": "text/x-python",
      "name": "python",
      "nbconvert_exporter": "python",
      "pygments_lexer": "ipython3",
      "version": "3.12.8"
    }
  },
  "nbformat": 4,
  "nbformat_minor": 0
}
