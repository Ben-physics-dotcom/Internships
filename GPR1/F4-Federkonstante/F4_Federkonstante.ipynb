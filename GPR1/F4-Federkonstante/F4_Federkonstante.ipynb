{
  "cells": [
    {
      "cell_type": "markdown",
      "metadata": {
        "id": "cneJvfU2so6M"
      },
      "source": [
        "# Importe"
      ]
    },
    {
      "cell_type": "code",
      "execution_count": 1,
      "metadata": {
        "id": "NQU_ws8EsiHR"
      },
      "outputs": [],
      "source": [
        "import numpy as np\n",
        "import pandas as pd\n",
        "import matplotlib.pyplot as plt\n",
        "import statsmodels.api as sm"
      ]
    },
    {
      "cell_type": "markdown",
      "metadata": {
        "id": "Iowkk0vKvnM2"
      },
      "source": [
        "# Functions"
      ]
    },
    {
      "cell_type": "code",
      "execution_count": 26,
      "metadata": {
        "id": "g2pwUl_wvqPB"
      },
      "outputs": [],
      "source": [
        "def lin_reg(x: np.array, a: float, b: float) -> np.array:\n",
        "    y = a * x + b\n",
        "    return y\n",
        "\n",
        "\n",
        "def k(a):\n",
        "    return 9.81 / a\n",
        "\n",
        "\n",
        "def k1(m: np.array, T: np.array) -> np.array:\n",
        "    y = m * np.pi**2 * 4. / T**2\n",
        "    for i in range(len(y)):\n",
        "        y[i] = round(y[i], 2)\n",
        "    return y"
      ]
    },
    {
      "cell_type": "markdown",
      "metadata": {
        "id": "N_qIJhBLQQci"
      },
      "source": [
        "- $\\chi^2/dof > 1$: zu kleine Fehler\n",
        "- $\\chi^2/dof < 1$: zu große Fehler\n",
        "- Gleichung: $$ \\frac{\\chi^2}{dof} =  \\frac{1}{n-p}\\sum_i^n \\frac{(f(x_i)-y_i)^2}{u_{y_i}^2}$$\n",
        "  - p: Anzahl der Fitparameter"
      ]
    },
    {
      "cell_type": "code",
      "execution_count": 3,
      "metadata": {
        "id": "7B1sV2-EReyb"
      },
      "outputs": [],
      "source": [
        "def chi_sq(x, y, a, b, u_y): # für 2 Fitparameter\n",
        "    \"\"\"\n",
        "    x: x values for the x axis\n",
        "    y: y values for the y axis\n",
        "    a: Steigung/gradient\n",
        "    b: Achsenabschnitt, wenn/if a*x=0\n",
        "    u_y: Unsicherheit/uncertainty from y\n",
        "    \"\"\"\n",
        "    n = len(y)\n",
        "    factor = 1 / (n - 2)\n",
        "    fx = lin_reg(x, a, b)\n",
        "    return factor * np.sum((fx - y)**2 / u_y**2)\n"
      ]
    },
    {
      "cell_type": "markdown",
      "metadata": {
        "id": "hLZu6TzHsx20"
      },
      "source": [
        "# Data"
      ]
    },
    {
      "cell_type": "code",
      "execution_count": 4,
      "metadata": {
        "id": "uFrOFq6atXg8"
      },
      "outputs": [],
      "source": [
        "# help(pd.ExcelFile)"
      ]
    },
    {
      "cell_type": "code",
      "execution_count": 5,
      "metadata": {
        "colab": {
          "base_uri": "https://localhost:8080/"
        },
        "id": "ZGWyLVKVszQK",
        "outputId": "50ad1591-e336-4b90-df48-82c282cff80f"
      },
      "outputs": [
        {
          "data": {
            "text/plain": [
              "['Aufgabe-1', 'Aufgabe-2', 'Aufgabe-3']"
            ]
          },
          "execution_count": 5,
          "metadata": {},
          "output_type": "execute_result"
        }
      ],
      "source": [
        "data_path = '../Data/F4-Federkonstante.xlsx'\n",
        "data = pd.ExcelFile(data_path)\n",
        "data.sheet_names"
      ]
    },
    {
      "cell_type": "code",
      "execution_count": 6,
      "metadata": {
        "id": "pFOpM9BUtnT6"
      },
      "outputs": [],
      "source": [
        "df1 = pd.read_excel(data,'Aufgabe-1')\n",
        "df2 = pd.read_excel(data,'Aufgabe-2')\n",
        "df3 = pd.read_excel(data,'Aufgabe-3')"
      ]
    },
    {
      "cell_type": "code",
      "execution_count": 7,
      "metadata": {
        "colab": {
          "base_uri": "https://localhost:8080/",
          "height": 175
        },
        "id": "tPkYBlXAw27R",
        "outputId": "1f6295fc-5975-4a5f-e33b-592fbe2fa439"
      },
      "outputs": [
        {
          "data": {
            "text/html": [
              "<div>\n",
              "<style scoped>\n",
              "    .dataframe tbody tr th:only-of-type {\n",
              "        vertical-align: middle;\n",
              "    }\n",
              "\n",
              "    .dataframe tbody tr th {\n",
              "        vertical-align: top;\n",
              "    }\n",
              "\n",
              "    .dataframe thead th {\n",
              "        text-align: right;\n",
              "    }\n",
              "</style>\n",
              "<table border=\"1\" class=\"dataframe\">\n",
              "  <thead>\n",
              "    <tr style=\"text-align: right;\">\n",
              "      <th></th>\n",
              "      <th>Unnamed: 0</th>\n",
              "      <th>Variablenname</th>\n",
              "      <th>Formelzeichen</th>\n",
              "      <th>Wert</th>\n",
              "      <th>Unsicherheit</th>\n",
              "      <th>Einheit</th>\n",
              "    </tr>\n",
              "  </thead>\n",
              "  <tbody>\n",
              "    <tr>\n",
              "      <th>0</th>\n",
              "      <td>0</td>\n",
              "      <td>Torsionsmodel</td>\n",
              "      <td>G</td>\n",
              "      <td>8.100</td>\n",
              "      <td>0.700</td>\n",
              "      <td>10^10Pa</td>\n",
              "    </tr>\n",
              "    <tr>\n",
              "      <th>1</th>\n",
              "      <td>1</td>\n",
              "      <td>Drahtlänge</td>\n",
              "      <td>l</td>\n",
              "      <td>661.000</td>\n",
              "      <td>5.000</td>\n",
              "      <td>mm</td>\n",
              "    </tr>\n",
              "    <tr>\n",
              "      <th>2</th>\n",
              "      <td>2</td>\n",
              "      <td>Drahtdurchmesser</td>\n",
              "      <td>d</td>\n",
              "      <td>0.805</td>\n",
              "      <td>0.003</td>\n",
              "      <td>m</td>\n",
              "    </tr>\n",
              "    <tr>\n",
              "      <th>3</th>\n",
              "      <td>3</td>\n",
              "      <td>Wickelradius</td>\n",
              "      <td>r</td>\n",
              "      <td>10.500</td>\n",
              "      <td>0.200</td>\n",
              "      <td>m</td>\n",
              "    </tr>\n",
              "  </tbody>\n",
              "</table>\n",
              "</div>"
            ],
            "text/plain": [
              "   Unnamed: 0     Variablenname Formelzeichen     Wert  Unsicherheit  Einheit\n",
              "0           0     Torsionsmodel             G    8.100         0.700  10^10Pa\n",
              "1           1        Drahtlänge             l  661.000         5.000       mm\n",
              "2           2  Drahtdurchmesser             d    0.805         0.003        m\n",
              "3           3      Wickelradius             r   10.500         0.200        m"
            ]
          },
          "execution_count": 7,
          "metadata": {},
          "output_type": "execute_result"
        }
      ],
      "source": [
        "df3"
      ]
    },
    {
      "cell_type": "markdown",
      "metadata": {
        "id": "XthW0-aut4u5"
      },
      "source": [
        "# Aufgabe 1"
      ]
    },
    {
      "cell_type": "markdown",
      "metadata": {
        "id": "ZqxazHndZ0PF"
      },
      "source": [
        "Hinweis: Was passiert, wenn man bei der Regression statt die Einheit g die Einheit kg benutzt?"
      ]
    },
    {
      "cell_type": "markdown",
      "metadata": {
        "id": "HTXJ2k9fvtLx"
      },
      "source": [
        "Gleichung: $$ x(m) = \\frac{g}{k} \\cdot m $$"
      ]
    },
    {
      "cell_type": "code",
      "execution_count": 8,
      "metadata": {
        "colab": {
          "base_uri": "https://localhost:8080/",
          "height": 332
        },
        "id": "y2gfp6eGt4Dx",
        "outputId": "1b18c9c8-0f4f-4327-9df9-dd05df3b90a3"
      },
      "outputs": [
        {
          "data": {
            "text/html": [
              "<div>\n",
              "<style scoped>\n",
              "    .dataframe tbody tr th:only-of-type {\n",
              "        vertical-align: middle;\n",
              "    }\n",
              "\n",
              "    .dataframe tbody tr th {\n",
              "        vertical-align: top;\n",
              "    }\n",
              "\n",
              "    .dataframe thead th {\n",
              "        text-align: right;\n",
              "    }\n",
              "</style>\n",
              "<table border=\"1\" class=\"dataframe\">\n",
              "  <thead>\n",
              "    <tr style=\"text-align: right;\">\n",
              "      <th></th>\n",
              "      <th>Unnamed: 0</th>\n",
              "      <th>Masse [g]</th>\n",
              "      <th>Auslenkung [cm]</th>\n",
              "      <th>Masse 1 [g]</th>\n",
              "      <th>Auslenkung 1 [cm]</th>\n",
              "      <th>Massen n</th>\n",
              "      <th>Masse [g] Unsicherheit: 0.005g</th>\n",
              "    </tr>\n",
              "  </thead>\n",
              "  <tbody>\n",
              "    <tr>\n",
              "      <th>0</th>\n",
              "      <td>0</td>\n",
              "      <td>0</td>\n",
              "      <td>19.65</td>\n",
              "      <td>400</td>\n",
              "      <td>11.15</td>\n",
              "      <td>1.0</td>\n",
              "      <td>49.995</td>\n",
              "    </tr>\n",
              "    <tr>\n",
              "      <th>1</th>\n",
              "      <td>1</td>\n",
              "      <td>50</td>\n",
              "      <td>18.50</td>\n",
              "      <td>350</td>\n",
              "      <td>12.30</td>\n",
              "      <td>2.0</td>\n",
              "      <td>50.261</td>\n",
              "    </tr>\n",
              "    <tr>\n",
              "      <th>2</th>\n",
              "      <td>2</td>\n",
              "      <td>100</td>\n",
              "      <td>17.35</td>\n",
              "      <td>300</td>\n",
              "      <td>13.35</td>\n",
              "      <td>3.0</td>\n",
              "      <td>50.656</td>\n",
              "    </tr>\n",
              "    <tr>\n",
              "      <th>3</th>\n",
              "      <td>3</td>\n",
              "      <td>150</td>\n",
              "      <td>16.40</td>\n",
              "      <td>250</td>\n",
              "      <td>14.45</td>\n",
              "      <td>4.0</td>\n",
              "      <td>50.418</td>\n",
              "    </tr>\n",
              "    <tr>\n",
              "      <th>4</th>\n",
              "      <td>4</td>\n",
              "      <td>200</td>\n",
              "      <td>15.30</td>\n",
              "      <td>200</td>\n",
              "      <td>15.50</td>\n",
              "      <td>5.0</td>\n",
              "      <td>49.970</td>\n",
              "    </tr>\n",
              "    <tr>\n",
              "      <th>5</th>\n",
              "      <td>5</td>\n",
              "      <td>250</td>\n",
              "      <td>14.25</td>\n",
              "      <td>150</td>\n",
              "      <td>16.65</td>\n",
              "      <td>6.0</td>\n",
              "      <td>49.930</td>\n",
              "    </tr>\n",
              "    <tr>\n",
              "      <th>6</th>\n",
              "      <td>6</td>\n",
              "      <td>300</td>\n",
              "      <td>13.15</td>\n",
              "      <td>100</td>\n",
              "      <td>17.45</td>\n",
              "      <td>7.0</td>\n",
              "      <td>50.210</td>\n",
              "    </tr>\n",
              "    <tr>\n",
              "      <th>7</th>\n",
              "      <td>7</td>\n",
              "      <td>350</td>\n",
              "      <td>12.05</td>\n",
              "      <td>50</td>\n",
              "      <td>18.75</td>\n",
              "      <td>8.0</td>\n",
              "      <td>50.824</td>\n",
              "    </tr>\n",
              "    <tr>\n",
              "      <th>8</th>\n",
              "      <td>8</td>\n",
              "      <td>400</td>\n",
              "      <td>11.10</td>\n",
              "      <td>0</td>\n",
              "      <td>19.80</td>\n",
              "      <td>NaN</td>\n",
              "      <td>NaN</td>\n",
              "    </tr>\n",
              "  </tbody>\n",
              "</table>\n",
              "</div>"
            ],
            "text/plain": [
              "   Unnamed: 0  Masse [g]  Auslenkung [cm]  Masse 1 [g]  Auslenkung 1 [cm]  \\\n",
              "0           0          0            19.65          400              11.15   \n",
              "1           1         50            18.50          350              12.30   \n",
              "2           2        100            17.35          300              13.35   \n",
              "3           3        150            16.40          250              14.45   \n",
              "4           4        200            15.30          200              15.50   \n",
              "5           5        250            14.25          150              16.65   \n",
              "6           6        300            13.15          100              17.45   \n",
              "7           7        350            12.05           50              18.75   \n",
              "8           8        400            11.10            0              19.80   \n",
              "\n",
              "   Massen n  Masse [g] Unsicherheit: 0.005g  \n",
              "0       1.0                          49.995  \n",
              "1       2.0                          50.261  \n",
              "2       3.0                          50.656  \n",
              "3       4.0                          50.418  \n",
              "4       5.0                          49.970  \n",
              "5       6.0                          49.930  \n",
              "6       7.0                          50.210  \n",
              "7       8.0                          50.824  \n",
              "8       NaN                             NaN  "
            ]
          },
          "execution_count": 8,
          "metadata": {},
          "output_type": "execute_result"
        }
      ],
      "source": [
        "df1"
      ]
    },
    {
      "cell_type": "code",
      "execution_count": 9,
      "metadata": {
        "id": "BmaQaiEEv31i"
      },
      "outputs": [],
      "source": [
        "# x-m-Diagramm erstellen\n",
        "# k aus Steigung bestimmen\n",
        "# k aus Dreiecksmethode bestimmen\n",
        "um = 0.005\n",
        "u_x = 0.05\n",
        "u_m1 = um * np.array([0,1,2,3,4,5,6,7,8])\n",
        "u_m2 = um * np.array([8,7,6,5,4,3,2,1,0])"
      ]
    },
    {
      "cell_type": "code",
      "execution_count": 10,
      "metadata": {
        "id": "nStYcK6Tw99w"
      },
      "outputs": [],
      "source": [
        "x1 = np.array(df1['Auslenkung [cm]'])\n",
        "x2 = np.array(df1['Auslenkung 1 [cm]'])\n",
        "m1 = np.array(df1['Masse [g]'])\n",
        "m2 = np.array(df1['Masse 1 [g]'])"
      ]
    },
    {
      "cell_type": "code",
      "execution_count": 11,
      "metadata": {
        "colab": {
          "base_uri": "https://localhost:8080/",
          "height": 466
        },
        "id": "Nn4srQk4xVEi",
        "outputId": "c634c919-79a8-4319-cab3-10287040eb0f"
      },
      "outputs": [
        {
          "data": {
            "image/png": "[encoded data removed]",
            "text/plain": [
              "<Figure size 640x480 with 1 Axes>"
            ]
          },
          "metadata": {},
          "output_type": "display_data"
        }
      ],
      "source": [
        "plt.errorbar(m1, x1,\n",
        "             xerr=u_m1,\n",
        "             yerr=u_x * np.ones(len(x1)),\n",
        "             fmt='.', capsize=4, label='Messreihe 1')\n",
        "plt.errorbar(m2, x2,\n",
        "             xerr=u_m2,\n",
        "             yerr=u_x * np.ones(len(x2)),\n",
        "             fmt='.', capsize=4, label='Messreihe 2')\n",
        "plt.xticks([0, 100, 200, 300, 400])\n",
        "plt.yticks([12, 16, 20])\n",
        "plt.xlabel('Masse [g]')\n",
        "plt.ylabel('Auslenkung [cm]')\n",
        "plt.show()"
      ]
    },
    {
      "cell_type": "markdown",
      "metadata": {
        "id": "WewI85htysIp"
      },
      "source": [
        "## Regression"
      ]
    },
    {
      "cell_type": "code",
      "execution_count": 12,
      "metadata": {
        "colab": {
          "base_uri": "https://localhost:8080/"
        },
        "id": "3auMlBiAzHIY",
        "outputId": "ba785851-ef46-4ca3-943b-991de7c7a1bc"
      },
      "outputs": [
        {
          "name": "stdout",
          "output_type": "stream",
          "text": [
            "                            WLS Regression Results                            \n",
            "==============================================================================\n",
            "Dep. Variable:                      y   R-squared:                       1.000\n",
            "Model:                            WLS   Adj. R-squared:                  1.000\n",
            "Method:                 Least Squares   F-statistic:                 2.173e+04\n",
            "Date:                Fri, 28 Feb 2025   Prob (F-statistic):           1.74e-13\n",
            "Time:                        08:11:06   Log-Likelihood:                 14.281\n",
            "No. Observations:                   9   AIC:                            -24.56\n",
            "Df Residuals:                       7   BIC:                            -24.17\n",
            "Df Model:                           1                                         \n",
            "Covariance Type:            nonrobust                                         \n",
            "==============================================================================\n",
            "                 coef    std err          t      P>|t|      [0.025      0.975]\n",
            "------------------------------------------------------------------------------\n",
            "const         19.5789      0.035    567.492      0.000      19.497      19.660\n",
            "x1            -0.0214      0.000   -147.425      0.000      -0.022      -0.021\n",
            "==============================================================================\n",
            "Omnibus:                        0.143   Durbin-Watson:                   2.026\n",
            "Prob(Omnibus):                  0.931   Jarque-Bera (JB):                0.233\n",
            "Skew:                          -0.211   Prob(JB):                        0.890\n",
            "Kurtosis:                       2.334   Cond. No.                         439.\n",
            "==============================================================================\n",
            "\n",
            "Notes:\n",
            "[1] Standard Errors assume that the covariance matrix of the errors is correctly specified.\n"
          ]
        },
        {
          "name": "stderr",
          "output_type": "stream",
          "text": [
            "c:\\Users\\benjf\\anaconda3\\envs\\projects\\Lib\\site-packages\\scipy\\stats\\_axis_nan_policy.py:430: UserWarning: `kurtosistest` p-value may be inaccurate with fewer than 20 observations; only n=9 observations were given.\n",
            "  return hypotest_fun_in(*args, **kwds)\n"
          ]
        }
      ],
      "source": [
        "X1 = sm.add_constant(m1)\n",
        "model = sm.WLS(x1, X1, weights=0.05)\n",
        "results = model.fit()\n",
        "print(results.summary())"
      ]
    },
    {
      "cell_type": "code",
      "execution_count": 13,
      "metadata": {
        "id": "PQ0925mrKHjC"
      },
      "outputs": [],
      "source": [
        "u_b1 = results.bse[0]\n",
        "u_a1 = results.bse[1]\n",
        "R1 = round(results.rsquared, 5)\n",
        "b1 = results.params[0]\n",
        "a1 = results.params[1]"
      ]
    },
    {
      "cell_type": "code",
      "execution_count": 14,
      "metadata": {
        "colab": {
          "base_uri": "https://localhost:8080/"
        },
        "id": "sFGtMcT_yudZ",
        "outputId": "3552e48d-43be-478a-9235-96d9491c11c8"
      },
      "outputs": [
        {
          "name": "stdout",
          "output_type": "stream",
          "text": [
            "                            WLS Regression Results                            \n",
            "==============================================================================\n",
            "Dep. Variable:                      y   R-squared:                       0.999\n",
            "Model:                            WLS   Adj. R-squared:                  0.999\n",
            "Method:                 Least Squares   F-statistic:                     9958.\n",
            "Date:                Fri, 28 Feb 2025   Prob (F-statistic):           2.67e-12\n",
            "Time:                        08:11:06   Log-Likelihood:                 10.734\n",
            "No. Observations:                   9   AIC:                            -17.47\n",
            "Df Residuals:                       7   BIC:                            -17.07\n",
            "Df Model:                           1                                         \n",
            "Covariance Type:            nonrobust                                         \n",
            "==============================================================================\n",
            "                 coef    std err          t      P>|t|      [0.025      0.975]\n",
            "------------------------------------------------------------------------------\n",
            "const         19.7789      0.051    386.545      0.000      19.658      19.900\n",
            "x1            -0.0215      0.000    -99.790      0.000      -0.022      -0.021\n",
            "==============================================================================\n",
            "Omnibus:                       11.500   Durbin-Watson:                   2.892\n",
            "Prob(Omnibus):                  0.003   Jarque-Bera (JB):                4.579\n",
            "Skew:                          -1.540   Prob(JB):                        0.101\n",
            "Kurtosis:                       4.652   Cond. No.                         439.\n",
            "==============================================================================\n",
            "\n",
            "Notes:\n",
            "[1] Standard Errors assume that the covariance matrix of the errors is correctly specified.\n"
          ]
        },
        {
          "name": "stderr",
          "output_type": "stream",
          "text": [
            "c:\\Users\\benjf\\anaconda3\\envs\\projects\\Lib\\site-packages\\scipy\\stats\\_axis_nan_policy.py:430: UserWarning: `kurtosistest` p-value may be inaccurate with fewer than 20 observations; only n=9 observations were given.\n",
            "  return hypotest_fun_in(*args, **kwds)\n"
          ]
        }
      ],
      "source": [
        "X2 = sm.add_constant(m2)\n",
        "model2 = sm.WLS(x2, X2, weights=0.05)\n",
        "results2 = model2.fit()\n",
        "print(results2.summary())"
      ]
    },
    {
      "cell_type": "code",
      "execution_count": 15,
      "metadata": {
        "id": "F21FDad0LNkj"
      },
      "outputs": [],
      "source": [
        "u_b2 = results2.bse[0]\n",
        "u_a2 = results2.bse[1]\n",
        "R2 = round(results2.rsquared,5)\n",
        "b2 = results2.params[0]\n",
        "a2 = results2.params[1]"
      ]
    },
    {
      "cell_type": "code",
      "execution_count": 16,
      "metadata": {
        "colab": {
          "base_uri": "https://localhost:8080/",
          "height": 449
        },
        "id": "f1KpxOpvLW8B",
        "outputId": "b3da51ce-8d7b-419a-b33b-8841e8ac7db6"
      },
      "outputs": [
        {
          "data": {
            "image/png": "[encoded data removed]",
            "text/plain": [
              "<Figure size 640x480 with 1 Axes>"
            ]
          },
          "metadata": {},
          "output_type": "display_data"
        }
      ],
      "source": [
        "x_reg = np.linspace(-1, 405, 1000)\n",
        "y1 = lin_reg(x_reg, a1, b1)\n",
        "y2 = lin_reg(x_reg, a2, b2)\n",
        "plt.errorbar(m1, x1,\n",
        "             xerr=u_m1,\n",
        "             yerr=u_x * np.ones(len(x1)),\n",
        "             fmt='.', c='b', capsize=4, label='Messreihe 1')\n",
        "plt.errorbar(m2, x2,\n",
        "             xerr=u_m2,\n",
        "             yerr=u_x * np.ones(len(x2)), c='r',\n",
        "             fmt='.', capsize=4, label='Messreihe 2')\n",
        "plt.plot(x_reg, y1, color='b', label=f'Regression, MR1: \\n y = {round(a1, 4)}*m+{round(b1, 2)}, \\n R={R1}')\n",
        "plt.plot(x_reg, y2, color='r', label=f'Regression, MR2: \\n y = {round(a2, 4)}*m+{round(b2, 2)}, \\n R={R2}')\n",
        "plt.xticks([0, 100, 200, 300, 400])\n",
        "plt.yticks([12, 16, 20])\n",
        "plt.legend()\n",
        "plt.xlabel('Masse [g]')\n",
        "plt.ylabel('Auslenkung [cm]')\n",
        "# plt.savefig('Regression-FK.png',dpi=600,transparent=True)\n",
        "plt.show()"
      ]
    },
    {
      "cell_type": "code",
      "execution_count": 17,
      "metadata": {
        "colab": {
          "base_uri": "https://localhost:8080/"
        },
        "id": "QWfGQB-dSu_f",
        "outputId": "1a4506b9-4e5e-4a75-abd1-564b02dfb570"
      },
      "outputs": [
        {
          "name": "stdout",
          "output_type": "stream",
          "text": [
            "1.26\n",
            "2.77\n"
          ]
        }
      ],
      "source": [
        "# chi^2\n",
        "chi1 = round(chi_sq(m1, x1, a1, b1, 0.05), 2)\n",
        "print(chi1)\n",
        "chi2 = round(chi_sq(m2, x2, a2, b2, 0.05), 2)\n",
        "print(chi2)"
      ]
    },
    {
      "cell_type": "markdown",
      "metadata": {
        "id": "xpmvHeB7ThK8"
      },
      "source": [
        "Berechnung der Federkonstanten aus der Steigung. Dreiecksmethode sollte bekannt sein.\n",
        "\n",
        "$$ k=g/a = \\frac{9.81m/s^2}{a}$$"
      ]
    },
    {
      "cell_type": "code",
      "execution_count": 18,
      "metadata": {
        "colab": {
          "base_uri": "https://localhost:8080/"
        },
        "id": "99NZtzUjTo7W",
        "outputId": "722c8c33-29b8-41f2-e4ae-324066e17127"
      },
      "outputs": [
        {
          "name": "stdout",
          "output_type": "stream",
          "text": [
            "-459.13\n",
            "-457.34\n"
          ]
        }
      ],
      "source": [
        "k_1 = round(k(a1), 2)\n",
        "print(k_1)\n",
        "k2 = round(k(a2), 2)\n",
        "print(k2)"
      ]
    },
    {
      "cell_type": "markdown",
      "metadata": {
        "id": "3JitZfzNUQR8"
      },
      "source": [
        "**WICHTIG**: Nicht die Gaußsche Fehlerfortpflanzung vergessen.\n",
        "$$ u = \\sqrt{\\sum_i^n (\\partial_{x_i}f(x_i)⋅u_{x_i})^2} $$"
      ]
    },
    {
      "cell_type": "markdown",
      "metadata": {
        "id": "iR_GvyR9VvAm"
      },
      "source": [
        "# Aufgabe 2"
      ]
    },
    {
      "cell_type": "code",
      "execution_count": 19,
      "metadata": {
        "colab": {
          "base_uri": "https://localhost:8080/",
          "height": 457
        },
        "id": "ys5d4bckVwot",
        "outputId": "673b4e17-befe-448d-a4b5-fba45a50e7aa"
      },
      "outputs": [
        {
          "data": {
            "text/html": [
              "<div>\n",
              "<style scoped>\n",
              "    .dataframe tbody tr th:only-of-type {\n",
              "        vertical-align: middle;\n",
              "    }\n",
              "\n",
              "    .dataframe tbody tr th {\n",
              "        vertical-align: top;\n",
              "    }\n",
              "\n",
              "    .dataframe thead th {\n",
              "        text-align: right;\n",
              "    }\n",
              "</style>\n",
              "<table border=\"1\" class=\"dataframe\">\n",
              "  <thead>\n",
              "    <tr style=\"text-align: right;\">\n",
              "      <th></th>\n",
              "      <th>Unnamed: 0</th>\n",
              "      <th>n</th>\n",
              "      <th>Schwingungen</th>\n",
              "      <th>T [s]</th>\n",
              "      <th>Masse [g]</th>\n",
              "    </tr>\n",
              "  </thead>\n",
              "  <tbody>\n",
              "    <tr>\n",
              "      <th>0</th>\n",
              "      <td>0</td>\n",
              "      <td>1</td>\n",
              "      <td>19</td>\n",
              "      <td>10.85</td>\n",
              "      <td>400</td>\n",
              "    </tr>\n",
              "    <tr>\n",
              "      <th>1</th>\n",
              "      <td>1</td>\n",
              "      <td>2</td>\n",
              "      <td>19</td>\n",
              "      <td>10.78</td>\n",
              "      <td>400</td>\n",
              "    </tr>\n",
              "    <tr>\n",
              "      <th>2</th>\n",
              "      <td>2</td>\n",
              "      <td>3</td>\n",
              "      <td>20</td>\n",
              "      <td>11.47</td>\n",
              "      <td>400</td>\n",
              "    </tr>\n",
              "    <tr>\n",
              "      <th>3</th>\n",
              "      <td>3</td>\n",
              "      <td>4</td>\n",
              "      <td>20</td>\n",
              "      <td>11.37</td>\n",
              "      <td>400</td>\n",
              "    </tr>\n",
              "    <tr>\n",
              "      <th>4</th>\n",
              "      <td>4</td>\n",
              "      <td>5</td>\n",
              "      <td>20</td>\n",
              "      <td>11.16</td>\n",
              "      <td>350</td>\n",
              "    </tr>\n",
              "    <tr>\n",
              "      <th>5</th>\n",
              "      <td>5</td>\n",
              "      <td>6</td>\n",
              "      <td>20</td>\n",
              "      <td>11.37</td>\n",
              "      <td>350</td>\n",
              "    </tr>\n",
              "    <tr>\n",
              "      <th>6</th>\n",
              "      <td>6</td>\n",
              "      <td>7</td>\n",
              "      <td>20</td>\n",
              "      <td>11.44</td>\n",
              "      <td>350</td>\n",
              "    </tr>\n",
              "    <tr>\n",
              "      <th>7</th>\n",
              "      <td>7</td>\n",
              "      <td>8</td>\n",
              "      <td>20</td>\n",
              "      <td>11.32</td>\n",
              "      <td>350</td>\n",
              "    </tr>\n",
              "    <tr>\n",
              "      <th>8</th>\n",
              "      <td>8</td>\n",
              "      <td>9</td>\n",
              "      <td>20</td>\n",
              "      <td>10.59</td>\n",
              "      <td>300</td>\n",
              "    </tr>\n",
              "    <tr>\n",
              "      <th>9</th>\n",
              "      <td>9</td>\n",
              "      <td>10</td>\n",
              "      <td>20</td>\n",
              "      <td>9.91</td>\n",
              "      <td>300</td>\n",
              "    </tr>\n",
              "    <tr>\n",
              "      <th>10</th>\n",
              "      <td>10</td>\n",
              "      <td>11</td>\n",
              "      <td>20</td>\n",
              "      <td>10.44</td>\n",
              "      <td>300</td>\n",
              "    </tr>\n",
              "    <tr>\n",
              "      <th>11</th>\n",
              "      <td>11</td>\n",
              "      <td>12</td>\n",
              "      <td>20</td>\n",
              "      <td>10.00</td>\n",
              "      <td>250</td>\n",
              "    </tr>\n",
              "    <tr>\n",
              "      <th>12</th>\n",
              "      <td>12</td>\n",
              "      <td>13</td>\n",
              "      <td>20</td>\n",
              "      <td>9.93</td>\n",
              "      <td>250</td>\n",
              "    </tr>\n",
              "  </tbody>\n",
              "</table>\n",
              "</div>"
            ],
            "text/plain": [
              "    Unnamed: 0   n  Schwingungen  T [s]  Masse [g]\n",
              "0            0   1            19  10.85        400\n",
              "1            1   2            19  10.78        400\n",
              "2            2   3            20  11.47        400\n",
              "3            3   4            20  11.37        400\n",
              "4            4   5            20  11.16        350\n",
              "5            5   6            20  11.37        350\n",
              "6            6   7            20  11.44        350\n",
              "7            7   8            20  11.32        350\n",
              "8            8   9            20  10.59        300\n",
              "9            9  10            20   9.91        300\n",
              "10          10  11            20  10.44        300\n",
              "11          11  12            20  10.00        250\n",
              "12          12  13            20   9.93        250"
            ]
          },
          "execution_count": 19,
          "metadata": {},
          "output_type": "execute_result"
        }
      ],
      "source": [
        "df2"
      ]
    },
    {
      "cell_type": "code",
      "execution_count": 20,
      "metadata": {
        "colab": {
          "base_uri": "https://localhost:8080/",
          "height": 457
        },
        "id": "N3r4R9ICWDj0",
        "outputId": "c58cebca-f9ad-4693-c119-9e9ad05b4347"
      },
      "outputs": [
        {
          "data": {
            "text/html": [
              "<div>\n",
              "<style scoped>\n",
              "    .dataframe tbody tr th:only-of-type {\n",
              "        vertical-align: middle;\n",
              "    }\n",
              "\n",
              "    .dataframe tbody tr th {\n",
              "        vertical-align: top;\n",
              "    }\n",
              "\n",
              "    .dataframe thead th {\n",
              "        text-align: right;\n",
              "    }\n",
              "</style>\n",
              "<table border=\"1\" class=\"dataframe\">\n",
              "  <thead>\n",
              "    <tr style=\"text-align: right;\">\n",
              "      <th></th>\n",
              "      <th>Unnamed: 0</th>\n",
              "      <th>n</th>\n",
              "      <th>Schwingungen</th>\n",
              "      <th>T [s]</th>\n",
              "      <th>Masse [g]</th>\n",
              "    </tr>\n",
              "  </thead>\n",
              "  <tbody>\n",
              "    <tr>\n",
              "      <th>0</th>\n",
              "      <td>0</td>\n",
              "      <td>1</td>\n",
              "      <td>19</td>\n",
              "      <td>0.571053</td>\n",
              "      <td>400</td>\n",
              "    </tr>\n",
              "    <tr>\n",
              "      <th>1</th>\n",
              "      <td>1</td>\n",
              "      <td>2</td>\n",
              "      <td>19</td>\n",
              "      <td>0.567368</td>\n",
              "      <td>400</td>\n",
              "    </tr>\n",
              "    <tr>\n",
              "      <th>2</th>\n",
              "      <td>2</td>\n",
              "      <td>3</td>\n",
              "      <td>20</td>\n",
              "      <td>0.573500</td>\n",
              "      <td>400</td>\n",
              "    </tr>\n",
              "    <tr>\n",
              "      <th>3</th>\n",
              "      <td>3</td>\n",
              "      <td>4</td>\n",
              "      <td>20</td>\n",
              "      <td>0.568500</td>\n",
              "      <td>400</td>\n",
              "    </tr>\n",
              "    <tr>\n",
              "      <th>4</th>\n",
              "      <td>4</td>\n",
              "      <td>5</td>\n",
              "      <td>20</td>\n",
              "      <td>0.558000</td>\n",
              "      <td>350</td>\n",
              "    </tr>\n",
              "  </tbody>\n",
              "</table>\n",
              "</div>"
            ],
            "text/plain": [
              "   Unnamed: 0  n  Schwingungen     T [s]  Masse [g]\n",
              "0           0  1            19  0.571053        400\n",
              "1           1  2            19  0.567368        400\n",
              "2           2  3            20  0.573500        400\n",
              "3           3  4            20  0.568500        400\n",
              "4           4  5            20  0.558000        350"
            ]
          },
          "execution_count": 20,
          "metadata": {},
          "output_type": "execute_result"
        }
      ],
      "source": [
        "df2['T [s]'] = df2['T [s]'] / df2['Schwingungen']\n",
        "df2.head()"
      ]
    },
    {
      "cell_type": "markdown",
      "metadata": {
        "id": "IxOHtErgYWNN"
      },
      "source": [
        "## Mittelwert/mean und Varianz/Variance"
      ]
    },
    {
      "cell_type": "code",
      "execution_count": 21,
      "metadata": {
        "id": "CVmjcH9DXrte"
      },
      "outputs": [],
      "source": [
        "def var(x, mean):\n",
        "    return 1 / (len(x) - 1) * np.sum((x - mean)**2)"
      ]
    },
    {
      "cell_type": "code",
      "execution_count": 22,
      "metadata": {
        "colab": {
          "base_uri": "https://localhost:8080/"
        },
        "id": "ZXdY8crUWiFr",
        "outputId": "392a9b4f-0d19-4870-d9ee-c8e7e8a39b63"
      },
      "outputs": [
        {
          "name": "stdout",
          "output_type": "stream",
          "text": [
            "[0.57105263 0.56736842 0.5735     0.5685    ]\n",
            "[0.57010526 0.566125   0.51566667 0.49825   ]\n",
            "[7.49630656e-06 3.53958333e-05 3.19083333e-04 6.12500000e-06]\n"
          ]
        }
      ],
      "source": [
        "t_df2 = np.array(df2['T [s]'])\n",
        "print(t_df2[:4])\n",
        "T = np.array([np.mean(t_df2[:4]), np.mean(t_df2[4:8]), np.mean(t_df2[8:11]),\n",
        "              np.mean(t_df2[11:])])\n",
        "var_T = np.array([\n",
        "    var(t_df2[:4], T[0]), var(t_df2[4:8], T[1]), var(t_df2[8:11], T[2]), var(t_df2[11:], T[3])\n",
        "])\n",
        "print(T)\n",
        "print(var_T)"
      ]
    },
    {
      "cell_type": "code",
      "execution_count": 23,
      "metadata": {
        "id": "LgKcmZ0OYdSG"
      },
      "outputs": [],
      "source": [
        "m = np.array([400, 350, 300, 250]) / 1000 # in kg"
      ]
    },
    {
      "cell_type": "markdown",
      "metadata": {
        "id": "nVMRRgQfYnwJ"
      },
      "source": [
        "## Berechnung\n",
        "$$ T= 2 \\pi \\sqrt{m/k} $$"
      ]
    },
    {
      "cell_type": "code",
      "execution_count": 24,
      "metadata": {},
      "outputs": [
        {
          "name": "stdout",
          "output_type": "stream",
          "text": [
            "4 4\n"
          ]
        }
      ],
      "source": [
        "print(len(m), len(T))"
      ]
    },
    {
      "cell_type": "code",
      "execution_count": 27,
      "metadata": {
        "colab": {
          "base_uri": "https://localhost:8080/"
        },
        "id": "mWwbpJ9dZAGD",
        "outputId": "0ab6740d-b242-435a-930a-d951f9ddd05b"
      },
      "outputs": [
        {
          "name": "stdout",
          "output_type": "stream",
          "text": [
            "[48.59 43.11 44.54 39.76]\n"
          ]
        }
      ],
      "source": [
        "k_T = k1(m, T)\n",
        "print(k_T)"
      ]
    },
    {
      "cell_type": "code",
      "execution_count": null,
      "metadata": {},
      "outputs": [],
      "source": []
    }
  ],
  "metadata": {
    "colab": {
      "provenance": []
    },
    "kernelspec": {
      "display_name": "projects",
      "language": "python",
      "name": "python3"
    },
    "language_info": {
      "codemirror_mode": {
        "name": "ipython",
        "version": 3
      },
      "file_extension": ".py",
      "mimetype": "text/x-python",
      "name": "python",
      "nbconvert_exporter": "python",
      "pygments_lexer": "ipython3",
      "version": "3.12.8"
    }
  },
  "nbformat": 4,
  "nbformat_minor": 0
}
