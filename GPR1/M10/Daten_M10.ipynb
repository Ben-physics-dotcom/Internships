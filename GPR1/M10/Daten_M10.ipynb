{
 "cells": [
  {
   "cell_type": "code",
   "execution_count": 18,
   "metadata": {
    "id": "M7AW44VvM3hc"
   },
   "outputs": [],
   "source": [
    "import numpy as np\n",
    "from scipy import optimize\n",
    "import matplotlib.pyplot as plt\n",
    "from uncertainties import ufloat\n",
    "from uncertainties import unumpy as unp\n",
    "from scipy.stats import chisquare"
   ]
  },
  {
   "cell_type": "markdown",
   "metadata": {
    "id": "oGfINE6_M3hg"
   },
   "source": [
    "#Allgemeine Werte"
   ]
  },
  {
   "cell_type": "code",
   "execution_count": 19,
   "metadata": {
    "id": "TXiNWTLTM3hh"
   },
   "outputs": [],
   "source": [
    "g = ufloat(9.813, 0.001) #Erdbeschl. in m/(s^2)\n",
    "r = ufloat(0.17, 0.001) #Abstand Gewicht-Rotationsachse"
   ]
  },
  {
   "cell_type": "markdown",
   "metadata": {
    "id": "aHjs1DM5M3hi"
   },
   "source": [
    "#Allgemeine Unsicherheiten"
   ]
  },
  {
   "cell_type": "code",
   "execution_count": 20,
   "metadata": {
    "id": "8WmniAsuM3hj"
   },
   "outputs": [],
   "source": [
    "Ut = 0.2 #Reaktionszeit in s\n",
    "Un = 0.5 #Drehzahlmessgerät war echt schwer zum einstellen\n",
    "Ul = 0.001 #Unsicherheit des Lineals"
   ]
  },
  {
   "cell_type": "markdown",
   "metadata": {
    "id": "6WsOtQScM3hj"
   },
   "source": [
    "# Aufgabe 1"
   ]
  },
  {
   "cell_type": "markdown",
   "metadata": {
    "id": "TxBIz6JCM3hk"
   },
   "source": [
    "#Ergebnisse"
   ]
  },
  {
   "cell_type": "code",
   "execution_count": 21,
   "metadata": {
    "id": "8DcWsPcJM3hl"
   },
   "outputs": [],
   "source": [
    "#Drehzahl\n",
    "V1_n = ufloat(11.8, 0.5) #Kreisdrehzahl in HZ\n",
    "\n",
    "#Periodendauer\n",
    "V1_x_T = np.array([2*14.6, 2*7.6, 9.88, 7.27, 5.77, 4.88, 4.2, 3.65, 3.23, 2.84], dtype=object) *1/2# Periodendauern in s \n",
    "\n",
    "V1_U_T = np.asarray(1/2 * unp.sqrt((0.01 + 5*10**(-4) * V1_x_T)**2 + Ut**2) , dtype=float) #Pytag. Addition von ReakZeit und Systemunsicherheit\n",
    "\n",
    "V1_T = np.full_like(V1_x_T, 1)\n",
    "\n",
    "ii=np.arange(0, 9.1, 1, dtype=int)\n",
    "for i in ii:\n",
    "    V1_T[i] = ufloat(V1_T[i], V1_U_T[i])\n",
    "\n",
    "#Massen:\n",
    "V1_m = np.arange(0.050, 0.501, 0.050, dtype= object) #Massen in g\n",
    "V1_U_m = np.array([0.00045, 0.00075, 0.00075, 0.0015, 0.0015, 0.0015, 0.0015, 0.0015, 0.0015, 0.003], dtype= object) #MassenU laut skript\n",
    "\n",
    "for i in ii:\n",
    "    V1_m[i] = ufloat(V1_m[i], V1_U_m[i])\n"
   ]
  },
  {
   "cell_type": "markdown",
   "metadata": {
    "id": "pcaxuurEM3ho"
   },
   "source": [
    "#Plott"
   ]
  },
  {
   "cell_type": "code",
   "execution_count": 22,
   "metadata": {
    "id": "S52AYPdwM3hp"
   },
   "outputs": [],
   "source": [
    "#Drehmoment\n",
    "V1_M = V1_m * g * r #Drehmoment in Nm\n",
    "\n",
    "V1_1M = 1/V1_M #1/Drehmoment\n",
    "\n",
    "V1_x_1M = np.full_like(V1_M, 1, dtype = float)\n",
    "V1_U_1M = np.full_like(V1_M, 1, dtype= float)\n",
    "\n",
    "for i in ii:\n",
    "    V1_x_1M[i] = V1_1M[i].n #Werte ohne Fehler von 1/M\n",
    "    V1_U_1M[i] = V1_1M[i].s #Unsicherheiten von 1/M\n",
    "    "
   ]
  },
  {
   "cell_type": "code",
   "execution_count": 23,
   "metadata": {
    "id": "Lvuvdf3ZM3hq",
    "outputId": "1d6362c9-e108-4965-a47e-a974e39d6738"
   },
   "outputs": [
    {
     "name": "stdout",
     "output_type": "stream",
     "text": [
      "[ 1.22686854 -0.00215811]\n",
      "0.010144696471415035 0.04782092067197208\n",
      "Power_divergenceResult(statistic=0.012790323532707051, pvalue=0.9999999999974578)\n"
     ]
    }
   ],
   "source": [
    "#Fit\n",
    "FitT = lambda x, a, b: a*x+b\n",
    "V1_U_1M = np.asarray(V1_U_1M, dtype=float)\n",
    "k1, k1Cov = optimize.curve_fit(FitT, V1_x_1M, V1_x_T, sigma = V1_U_T)\n",
    "print(k1)\n",
    "print(np.sqrt(k1Cov[0][0]),np.sqrt(k1Cov[1][1]))\n",
    "V1_a = ufloat(k1[0], np.sqrt(k1Cov[0][0]))\n",
    "print(chisquare(V1_x_T, FitT(V1_x_1M, *k1)))"
   ]
  },
  {
   "cell_type": "code",
   "execution_count": 24,
   "metadata": {
    "id": "GQO7-E-dM3ht",
    "outputId": "708f84ef-bbbb-4ad5-b40b-6bfce2fbb9b2"
   },
   "outputs": [
    {
     "data": {
      "text/plain": [
       "<matplotlib.legend.Legend at 0xb6eddf0>"
      ]
     },
     "execution_count": 24,
     "metadata": {},
     "output_type": "execute_result"
    },
    {
     "data": {
      "image/png": "[encoded data removed]",
      "text/plain": [
       "<Figure size 432x288 with 1 Axes>"
      ]
     },
     "metadata": {
      "needs_background": "light"
     },
     "output_type": "display_data"
    }
   ],
   "source": [
    "#Plotten\n",
    "plt.plot(V1_x_1M, V1_x_T , \"bo\", label=\"Messwerte\")\n",
    "plt.errorbar(V1_x_1M, V1_x_T, yerr = V1_U_T, xerr = V1_U_1M, fmt=\".\")\n",
    "plt.plot(V1_x_1M, FitT(V1_x_1M, *k1), label=\"Fit F(1/M)=T\")\n",
    "\n",
    "plt.ylabel(\"Periodendauer T in s\")\n",
    "plt.xlabel(\"1 durch Drehmoment 1/M in 1/(Nm)\")\n",
    "plt.legend()"
   ]
  },
  {
   "cell_type": "code",
   "execution_count": 25,
   "metadata": {
    "id": "hYx1pGW7M3hu",
    "outputId": "49d7a712-eda7-4c1f-b6c6-e15efe3dd719"
   },
   "outputs": [
    {
     "data": {
      "text/plain": [
       "0.0026336392474590456+/-0.00011369984217978867"
      ]
     },
     "execution_count": 25,
     "metadata": {},
     "output_type": "execute_result"
    }
   ],
   "source": [
    "#Hauptträgkeitsmoment\n",
    "V1_Jx = V1_a /(4 * np.pi**2 * V1_n)\n",
    "\n",
    "V1_Jx "
   ]
  },
  {
   "cell_type": "markdown",
   "metadata": {
    "id": "h7VpPhr2M3hv"
   },
   "source": [
    "# Aufgabe 2:"
   ]
  },
  {
   "cell_type": "markdown",
   "metadata": {
    "id": "bI276aZ5M3hv"
   },
   "source": [
    "#Messwerte"
   ]
  },
  {
   "cell_type": "code",
   "execution_count": 26,
   "metadata": {
    "id": "kbTHb5QoM3hw",
    "outputId": "c16b852d-c7c1-447e-b00b-14c91182c1a8"
   },
   "outputs": [
    {
     "data": {
      "text/plain": [
       "0.2+/-1.5e-06"
      ]
     },
     "execution_count": 26,
     "metadata": {},
     "output_type": "execute_result"
    }
   ],
   "source": [
    "#Kreisdrehzahl\n",
    "V2_x_n = np.array([6.8, 7.8, 8.7, 9.6, 10.5, 11.4, 12.3, 13.2, 14.1, 15.1, 16.0], dtype=object) # Kreisdrehzahl in s^(-1)\n",
    "\n",
    "V2_n = np.full_like(V2_x_n, 1, dtype = object)\n",
    "\n",
    "#Periodendauer\n",
    "V2_x_T = np.array([4.32, 4.93, 5.48, 5.95, 6.57, 7.16, 7.7, 8.34, 8.84, 9.62, 10.07], dtype=object)*1/2 # Jeweils 2 Perioden in s\n",
    "\n",
    "V2_T = np.full_like(V2_x_T, 1, dtype = object)\n",
    "\n",
    "#Masse\n",
    "V2_m = ufloat(0.2, 1.5 *10**(-6)) #Aufgelegtes Gewicht in kg\n",
    "\n",
    "#Übertragung\n",
    "ii=np.arange(0, 10.1, 1, dtype=int)\n",
    "for i in ii:\n",
    "    V2_n[i] = ufloat(V2_x_n[i], 0.5)\n",
    "    V2_T[i] = ufloat(V2_x_T[i], 0.1) #Nur Reaktionszeit\n",
    "    \n",
    "V2_m"
   ]
  },
  {
   "cell_type": "markdown",
   "metadata": {
    "id": "XQaR-YWlM3hx"
   },
   "source": [
    "#Plott"
   ]
  },
  {
   "cell_type": "code",
   "execution_count": 27,
   "metadata": {
    "id": "rq5eLOdTM3hx",
    "outputId": "770d54c2-18e4-4577-d639-ff6d8cba2a30"
   },
   "outputs": [
    {
     "data": {
      "text/plain": [
       "Text(0, 0.5, 'Periodendauer in s')"
      ]
     },
     "execution_count": 27,
     "metadata": {},
     "output_type": "execute_result"
    },
    {
     "data": {
      "image/png": "[encoded data removed]",
      "text/plain": [
       "<Figure size 432x288 with 1 Axes>"
      ]
     },
     "metadata": {
      "needs_background": "light"
     },
     "output_type": "display_data"
    }
   ],
   "source": [
    "plt.plot(V2_x_n, V2_x_T, \".\")\n",
    "plt.xlabel(\"Kreisdrehzahl in s^(-1)\")\n",
    "plt.ylabel(\"Periodendauer in s\")\n",
    "#plt.errorbar(NV2, TV2, xerr=Un, yerr=Ur, color=\"green\", ecolor=\"blue\")\n"
   ]
  },
  {
   "cell_type": "code",
   "execution_count": 28,
   "metadata": {
    "id": "0aKziFwTM3hy",
    "outputId": "66f586e4-897f-4802-f147-d8f88d2459a4"
   },
   "outputs": [
    {
     "name": "stdout",
     "output_type": "stream",
     "text": [
      "[ 0.31625519 -0.01818419]\n",
      "0.00295481833422367 0.03477397289944413\n"
     ]
    }
   ],
   "source": [
    "#Fit\n",
    "FitT = lambda x, a, b: a*x+b\n",
    "V2_U_T = np.full_like(V2_x_T, 0.2, dtype = float)\n",
    "k2, k2Cov = optimize.curve_fit(FitT, V2_x_n, V2_x_T, sigma = V2_U_T)\n",
    "print(k2)\n",
    "print(np.sqrt(k2Cov[0][0]), np.sqrt(k2Cov[1][1]))\n",
    "V2_a = ufloat(k2[0], np.sqrt(k2Cov[0][0]))"
   ]
  },
  {
   "cell_type": "code",
   "execution_count": 29,
   "metadata": {
    "id": "wH-kM4DMM3hz",
    "outputId": "85f1cb69-f69e-4dd7-edf7-e9e474653782"
   },
   "outputs": [
    {
     "data": {
      "text/plain": [
       "<matplotlib.legend.Legend at 0xb6a8770>"
      ]
     },
     "execution_count": 29,
     "metadata": {},
     "output_type": "execute_result"
    },
    {
     "data": {
      "image/png": "[encoded data removed]",
      "text/plain": [
       "<Figure size 432x288 with 1 Axes>"
      ]
     },
     "metadata": {
      "needs_background": "light"
     },
     "output_type": "display_data"
    }
   ],
   "source": [
    "#Plotten\n",
    "plt.plot(V2_x_n, V2_x_T , \"bo\", label = \"Messwerte\")\n",
    "plt.plot(V2_x_n, FitT(V2_x_n, *k2), Label= \"Fit F(n)=T\")\n",
    "plt.errorbar(V2_x_n, V2_x_T, xerr = 0.5, yerr = V2_U_T, fmt=\".\")\n",
    "\n",
    "plt.ylabel(\"Periodendauer T in s\")\n",
    "plt.xlabel(\"Kreisdrehzahl n in Hz\")\n",
    "plt.legend()"
   ]
  },
  {
   "cell_type": "code",
   "execution_count": 30,
   "metadata": {
    "id": "34lUQmrfM3hz",
    "outputId": "7a126eb3-803c-4985-8e20-a6a4baac15c3"
   },
   "outputs": [
    {
     "name": "stdout",
     "output_type": "stream",
     "text": [
      "0.002673+/-0.000030\n",
      "0.3336+/-0.0020\n"
     ]
    }
   ],
   "source": [
    "#Ergebnisse:\n",
    "\n",
    "V2_M = V2_m * g * r\n",
    "\n",
    "V2_Jx = (V2_a * V2_M) / (4 * np.pi**2)\n",
    "\n",
    "print(V2_Jx)\n",
    "print(V2_M)"
   ]
  },
  {
   "cell_type": "markdown",
   "metadata": {
    "id": "Mq4uLOCwM3h0"
   },
   "source": [
    "## Aufgabe 3"
   ]
  },
  {
   "cell_type": "code",
   "execution_count": 31,
   "metadata": {
    "id": "vubkiQiGM3h1"
   },
   "outputs": [],
   "source": [
    "#Kreisdrehzahl\n",
    "V3_n = unp.uarray([4, 4.3, 4.6, 5, 5.45, 6, 6.7, 7.5, 8.6, 10, 12], [0.2])\n",
    "\n",
    "#Nutationsperiode mit Zeitlupe gemessen\n",
    "V3_x_T = np.array([0.8, 0.83, 0.87, 0.86, 0.78, 0.68, 0.62, 0.42, 0.34, 0.38, 0.34], dtype=object)\n",
    "V3_U_T = 0.01 + 5* 10**(-4) *V3_x_T\n",
    "\n",
    "V3_T = unp.uarray(V3_x_T, V3_U_T)"
   ]
  },
  {
   "cell_type": "code",
   "execution_count": null,
   "metadata": {
    "id": "jTFlKzo7M3h2"
   },
   "outputs": [],
   "source": []
  },
  {
   "cell_type": "code",
   "execution_count": 32,
   "metadata": {
    "id": "W3oNn0k5M3h2",
    "outputId": "52c779c2-9006-4319-92ab-7c87345f7d6f"
   },
   "outputs": [
    {
     "name": "stdout",
     "output_type": "stream",
     "text": [
      "3.7+/-0.5 0.02+/-0.09\n",
      "Power_divergenceResult(statistic=0.10180719409418836, pvalue=0.9999999972700815)\n"
     ]
    },
    {
     "data": {
      "image/png": "[encoded data removed]",
      "text/plain": [
       "<Figure size 432x288 with 1 Axes>"
      ]
     },
     "metadata": {
      "needs_background": "light"
     },
     "output_type": "display_data"
    }
   ],
   "source": [
    "#Anpassung\n",
    "FitT = lambda x, a, b: a * x + b\n",
    "k, kCov = optimize.curve_fit(FitT, unp.nominal_values(1/V3_n), V3_x_T, sigma=(np.asarray(V3_U_T, dtype=float)))\n",
    "\n",
    "#Übertragen\n",
    "V3_a = ufloat(k[0], unp.sqrt(kCov[0][0]))\n",
    "V3_b = ufloat(k[1], unp.sqrt(kCov[1][1]))\n",
    "print(V3_a, V3_b)\n",
    "\n",
    "#Fit\n",
    "plt.plot(unp.nominal_values(1/V3_n), FitT(unp.nominal_values(1/V3_n), *k), label=\"Fit F(1/n)=T\")\n",
    "\n",
    "#Plot\n",
    "plt.plot(unp.nominal_values(1/V3_n), V3_x_T, \"bo\",label=\"Messwerte\")\n",
    "\n",
    "plt.errorbar(1/unp.nominal_values(V3_n), V3_x_T, yerr=V3_U_T, xerr = unp.std_devs(1/V3_n), fmt=\".\")\n",
    "plt.legend()\n",
    "\n",
    "plt.xlabel(\"1/Kreisdrehzahl 1/n in s\")\n",
    "plt.ylabel(\"Periodendauer in s\")\n",
    "print(chisquare(V3_x_T, FitT(unp.nominal_values(1/V3_n), *k)))"
   ]
  },
  {
   "cell_type": "code",
   "execution_count": 33,
   "metadata": {
    "id": "Tvbsz2vLM3h5",
    "outputId": "7ff38c23-0070-4ab0-d76f-e39d6b81e302"
   },
   "outputs": [
    {
     "name": "stdout",
     "output_type": "stream",
     "text": [
      "mit Jx aus V1 Js= 0.0097+/-0.0014\n",
      "mit Jx aus V2 Js= 0.0098+/-0.0013\n",
      "Mittelwert: 0.0098+/-0.0013\n"
     ]
    }
   ],
   "source": [
    "#Ergebnisse:\n",
    "\n",
    "V3_Js_V2 = V3_a * V2_Jx #Jx aus V2\n",
    "V3_Js_V1 = V3_a * V1_Jx #Jx aus V1\n",
    "\n",
    "V3_Js = (V3_Js_V2 + V3_Js_V1)/2  #Mittelwert\n",
    "\n",
    "print(\"mit Jx aus V1 Js=\", V3_Js_V1)\n",
    "print(\"mit Jx aus V2 Js=\", V3_Js_V2)\n",
    "print(\"Mittelwert:\", V3_Js)"
   ]
  },
  {
   "cell_type": "markdown",
   "metadata": {
    "id": "nazovWuAM3h7"
   },
   "source": [
    "## Aufgabe 4"
   ]
  },
  {
   "cell_type": "code",
   "execution_count": 34,
   "metadata": {
    "id": "R-G8w9OxM3h7",
    "outputId": "ea03b175-63a8-4f2e-da00-5da38e3d12a5"
   },
   "outputs": [
    {
     "ename": "NameError",
     "evalue": "name 'rE' is not defined",
     "output_type": "error",
     "traceback": [
      "\u001b[1;31m---------------------------------------------------------------------------\u001b[0m",
      "\u001b[1;31mNameError\u001b[0m                                 Traceback (most recent call last)",
      "\u001b[1;32m<ipython-input-34-e74e10666eec>\u001b[0m in \u001b[0;36m<module>\u001b[1;34m\u001b[0m\n\u001b[0;32m     20\u001b[0m \u001b[1;33m\u001b[0m\u001b[0m\n\u001b[0;32m     21\u001b[0m \u001b[1;31m#Eisenkern\u001b[0m\u001b[1;33m\u001b[0m\u001b[1;33m\u001b[0m\u001b[1;33m\u001b[0m\u001b[0m\n\u001b[1;32m---> 22\u001b[1;33m \u001b[0mrrE\u001b[0m \u001b[1;33m=\u001b[0m \u001b[1;33m(\u001b[0m\u001b[0mrE\u001b[0m\u001b[1;33m/\u001b[0m\u001b[1;36m2\u001b[0m\u001b[1;33m)\u001b[0m\u001b[1;33m**\u001b[0m\u001b[1;36m4\u001b[0m \u001b[1;33m*\u001b[0m\u001b[0mh\u001b[0m \u001b[1;33m*\u001b[0m\u001b[0mrho_E\u001b[0m\u001b[1;33m\u001b[0m\u001b[1;33m\u001b[0m\u001b[0m\n\u001b[0m\u001b[0;32m     23\u001b[0m \u001b[1;33m\u001b[0m\u001b[0m\n\u001b[0;32m     24\u001b[0m \u001b[1;31m#Außenhohlzylinder\u001b[0m\u001b[1;33m\u001b[0m\u001b[1;33m\u001b[0m\u001b[1;33m\u001b[0m\u001b[0m\n",
      "\u001b[1;31mNameError\u001b[0m: name 'rE' is not defined"
     ]
    }
   ],
   "source": [
    "rho_M = 8.4*10**3 \n",
    "rho_E = 7.9*10**3\n",
    "dE = ufloat(1.2, 0.005+1.2*10**(-4))*10**(-2) #Durchmesser Eisenkern mit unsicherhetien\n",
    "r1_außen =  ufloat(2.45, 0.005+2.45*10**(-4))*10**(-2)\n",
    "r1_innen =  ufloat(4.24, 0.005+4.24*10**(-4))*10**(-2)\n",
    "r2 = ufloat(9.13, 0.005+9.13*10**(-4))*10**(-2)\n",
    "r3 = ufloat(11.93, 0.005+11.93*10**(-4))*10**(-2)\n",
    "h = ufloat(2.05, 0.005+2.05*10**(-4))*10**(-2)\n",
    "h_außen = ufloat(0.65, 0.005+0.65*10**(-4))*10**(-2)\n",
    "h_innen = ufloat(0.7, 0.005+0.7*10**(-4))*10**(-2) \n",
    "\n",
    "#Zylinder Qs 1 außen\n",
    "rr1 =((r1_außen/2)**4-(dE/2)**4)*h_außen *rho_M\n",
    "\n",
    "#Zylinder Qs 2 mitte\n",
    "rr2 = ((r2/2)**4-(dE/2)**4)*(h-h_außen-h_innen)*rho_M\n",
    "\n",
    "#Zylinder Qs 3 innen\n",
    "rr3 = ((r1_innen/2)**4-(dE/2)**4)*h_innen *rho_M\n",
    "\n",
    "#Eisenkern\n",
    "rrE = (rE/2)**4 *h *rho_E\n",
    "\n",
    "#Außenhohlzylinder\n",
    "\n",
    "rrA = ((r3/2)**4-(r2/2)**4)*h*rho_M\n",
    "\n",
    "#Trägheitsmoment:\n",
    "\n",
    "J = 1/2 * np.pi * (rr1+rr2+rr3+rrE+rrA) \n",
    "J"
   ]
  },
  {
   "cell_type": "code",
   "execution_count": null,
   "metadata": {
    "id": "f4nZ5ZucM3h8"
   },
   "outputs": [],
   "source": []
  }
 ],
 "metadata": {
  "colab": {
   "name": "Daten.M10.ipynb",
   "provenance": []
  },
  "kernelspec": {
   "display_name": "Python 3",
   "language": "python",
   "name": "python3"
  },
  "language_info": {
   "codemirror_mode": {
    "name": "ipython",
    "version": 3
   },
   "file_extension": ".py",
   "mimetype": "text/x-python",
   "name": "python",
   "nbconvert_exporter": "python",
   "pygments_lexer": "ipython3",
   "version": "3.7.4"
  }
 },
 "nbformat": 4,
 "nbformat_minor": 1
}
