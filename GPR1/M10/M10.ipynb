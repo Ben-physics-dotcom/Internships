{
 "cells": [
  {
   "cell_type": "markdown",
   "id": "0660f5ec",
   "metadata": {},
   "source": [
    "# Importe"
   ]
  },
  {
   "cell_type": "code",
   "execution_count": 1,
   "id": "9acf9df5",
   "metadata": {},
   "outputs": [],
   "source": [
    "import numpy as np\n",
    "import matplotlib.pyplot as plt\n",
    "from uncertainties import ufloat\n",
    "\n",
    "import pandas as pd\n",
    "from scipy.optimize import curve_fit\n",
    "import statsmodels.api as sm\n",
    "import scipy as sp\n",
    "import scipy.stats as stats\n",
    "\n",
    "\n",
    "plt.rc('text',usetex=True)"
   ]
  },
  {
   "cell_type": "markdown",
   "id": "7e26bcc3",
   "metadata": {
    "jp-MarkdownHeadingCollapsed": true,
    "tags": [],
    "toc-hr-collapsed": true
   },
   "source": [
    "# Daten laden"
   ]
  },
  {
   "cell_type": "code",
   "execution_count": 2,
   "id": "48987e71",
   "metadata": {
    "scrolled": true
   },
   "outputs": [
    {
     "data": {
      "text/html": [
       "<div>\n",
       "<style scoped>\n",
       "    .dataframe tbody tr th:only-of-type {\n",
       "        vertical-align: middle;\n",
       "    }\n",
       "\n",
       "    .dataframe tbody tr th {\n",
       "        vertical-align: top;\n",
       "    }\n",
       "\n",
       "    .dataframe thead th {\n",
       "        text-align: right;\n",
       "    }\n",
       "</style>\n",
       "<table border=\"1\" class=\"dataframe\">\n",
       "  <thead>\n",
       "    <tr style=\"text-align: right;\">\n",
       "      <th></th>\n",
       "      <th>n</th>\n",
       "      <th>Masse</th>\n",
       "      <th>Tp</th>\n",
       "      <th>Periode</th>\n",
       "      <th>n_err</th>\n",
       "    </tr>\n",
       "  </thead>\n",
       "  <tbody>\n",
       "    <tr>\n",
       "      <th>0</th>\n",
       "      <td>10.81</td>\n",
       "      <td>0.05</td>\n",
       "      <td>12.98</td>\n",
       "      <td>1</td>\n",
       "      <td>0.05</td>\n",
       "    </tr>\n",
       "    <tr>\n",
       "      <th>1</th>\n",
       "      <td>10.70</td>\n",
       "      <td>0.10</td>\n",
       "      <td>6.49</td>\n",
       "      <td>1</td>\n",
       "      <td>0.05</td>\n",
       "    </tr>\n",
       "    <tr>\n",
       "      <th>2</th>\n",
       "      <td>10.70</td>\n",
       "      <td>0.15</td>\n",
       "      <td>4.49</td>\n",
       "      <td>1</td>\n",
       "      <td>0.05</td>\n",
       "    </tr>\n",
       "    <tr>\n",
       "      <th>3</th>\n",
       "      <td>10.70</td>\n",
       "      <td>0.20</td>\n",
       "      <td>3.49</td>\n",
       "      <td>1</td>\n",
       "      <td>0.05</td>\n",
       "    </tr>\n",
       "    <tr>\n",
       "      <th>4</th>\n",
       "      <td>10.75</td>\n",
       "      <td>0.25</td>\n",
       "      <td>8.28</td>\n",
       "      <td>3</td>\n",
       "      <td>0.05</td>\n",
       "    </tr>\n",
       "    <tr>\n",
       "      <th>5</th>\n",
       "      <td>10.80</td>\n",
       "      <td>0.30</td>\n",
       "      <td>7.75</td>\n",
       "      <td>3</td>\n",
       "      <td>0.05</td>\n",
       "    </tr>\n",
       "    <tr>\n",
       "      <th>6</th>\n",
       "      <td>10.80</td>\n",
       "      <td>0.35</td>\n",
       "      <td>6.74</td>\n",
       "      <td>3</td>\n",
       "      <td>0.05</td>\n",
       "    </tr>\n",
       "    <tr>\n",
       "      <th>7</th>\n",
       "      <td>10.80</td>\n",
       "      <td>0.40</td>\n",
       "      <td>7.55</td>\n",
       "      <td>3</td>\n",
       "      <td>0.05</td>\n",
       "    </tr>\n",
       "    <tr>\n",
       "      <th>8</th>\n",
       "      <td>10.80</td>\n",
       "      <td>0.45</td>\n",
       "      <td>6.91</td>\n",
       "      <td>4</td>\n",
       "      <td>0.05</td>\n",
       "    </tr>\n",
       "    <tr>\n",
       "      <th>9</th>\n",
       "      <td>10.80</td>\n",
       "      <td>0.50</td>\n",
       "      <td>5.71</td>\n",
       "      <td>4</td>\n",
       "      <td>0.05</td>\n",
       "    </tr>\n",
       "  </tbody>\n",
       "</table>\n",
       "</div>"
      ],
      "text/plain": [
       "       n  Masse     Tp  Periode  n_err\n",
       "0  10.81   0.05  12.98        1   0.05\n",
       "1  10.70   0.10   6.49        1   0.05\n",
       "2  10.70   0.15   4.49        1   0.05\n",
       "3  10.70   0.20   3.49        1   0.05\n",
       "4  10.75   0.25   8.28        3   0.05\n",
       "5  10.80   0.30   7.75        3   0.05\n",
       "6  10.80   0.35   6.74        3   0.05\n",
       "7  10.80   0.40   7.55        3   0.05\n",
       "8  10.80   0.45   6.91        4   0.05\n",
       "9  10.80   0.50   5.71        4   0.05"
      ]
     },
     "execution_count": 2,
     "metadata": {},
     "output_type": "execute_result"
    }
   ],
   "source": [
    "data1=pd.read_csv('A1.txt','\\t')\n",
    "data2=pd.read_csv('A2.txt','\\t')\n",
    "data1['n_err']=[0.05,0.05,0.05,0.05,0.05,0.05,0.05,0.05,0.05,0.05]\n",
    "data1"
   ]
  },
  {
   "cell_type": "code",
   "execution_count": 3,
   "id": "51f5e967",
   "metadata": {
    "scrolled": true
   },
   "outputs": [
    {
     "data": {
      "text/html": [
       "<div>\n",
       "<style scoped>\n",
       "    .dataframe tbody tr th:only-of-type {\n",
       "        vertical-align: middle;\n",
       "    }\n",
       "\n",
       "    .dataframe tbody tr th {\n",
       "        vertical-align: top;\n",
       "    }\n",
       "\n",
       "    .dataframe thead th {\n",
       "        text-align: right;\n",
       "    }\n",
       "</style>\n",
       "<table border=\"1\" class=\"dataframe\">\n",
       "  <thead>\n",
       "    <tr style=\"text-align: right;\">\n",
       "      <th></th>\n",
       "      <th>n</th>\n",
       "      <th>Masse</th>\n",
       "      <th>Tp</th>\n",
       "      <th>Periode</th>\n",
       "      <th>n_err</th>\n",
       "    </tr>\n",
       "  </thead>\n",
       "  <tbody>\n",
       "    <tr>\n",
       "      <th>0</th>\n",
       "      <td>2.70</td>\n",
       "      <td>0.2</td>\n",
       "      <td>14.34</td>\n",
       "      <td>10</td>\n",
       "      <td>0.05</td>\n",
       "    </tr>\n",
       "    <tr>\n",
       "      <th>1</th>\n",
       "      <td>4.30</td>\n",
       "      <td>0.2</td>\n",
       "      <td>7.91</td>\n",
       "      <td>5</td>\n",
       "      <td>0.05</td>\n",
       "    </tr>\n",
       "    <tr>\n",
       "      <th>2</th>\n",
       "      <td>5.00</td>\n",
       "      <td>0.2</td>\n",
       "      <td>7.80</td>\n",
       "      <td>5</td>\n",
       "      <td>0.05</td>\n",
       "    </tr>\n",
       "    <tr>\n",
       "      <th>3</th>\n",
       "      <td>6.00</td>\n",
       "      <td>0.2</td>\n",
       "      <td>9.56</td>\n",
       "      <td>5</td>\n",
       "      <td>0.05</td>\n",
       "    </tr>\n",
       "    <tr>\n",
       "      <th>4</th>\n",
       "      <td>7.70</td>\n",
       "      <td>0.2</td>\n",
       "      <td>12.47</td>\n",
       "      <td>5</td>\n",
       "      <td>0.05</td>\n",
       "    </tr>\n",
       "    <tr>\n",
       "      <th>5</th>\n",
       "      <td>8.45</td>\n",
       "      <td>0.2</td>\n",
       "      <td>13.41</td>\n",
       "      <td>5</td>\n",
       "      <td>0.05</td>\n",
       "    </tr>\n",
       "    <tr>\n",
       "      <th>6</th>\n",
       "      <td>9.95</td>\n",
       "      <td>0.2</td>\n",
       "      <td>15.33</td>\n",
       "      <td>5</td>\n",
       "      <td>0.05</td>\n",
       "    </tr>\n",
       "    <tr>\n",
       "      <th>7</th>\n",
       "      <td>11.15</td>\n",
       "      <td>0.2</td>\n",
       "      <td>17.09</td>\n",
       "      <td>5</td>\n",
       "      <td>0.05</td>\n",
       "    </tr>\n",
       "    <tr>\n",
       "      <th>8</th>\n",
       "      <td>12.90</td>\n",
       "      <td>0.2</td>\n",
       "      <td>11.97</td>\n",
       "      <td>3</td>\n",
       "      <td>0.05</td>\n",
       "    </tr>\n",
       "    <tr>\n",
       "      <th>9</th>\n",
       "      <td>14.50</td>\n",
       "      <td>0.2</td>\n",
       "      <td>8.99</td>\n",
       "      <td>2</td>\n",
       "      <td>0.05</td>\n",
       "    </tr>\n",
       "  </tbody>\n",
       "</table>\n",
       "</div>"
      ],
      "text/plain": [
       "       n  Masse     Tp  Periode  n_err\n",
       "0   2.70    0.2  14.34       10   0.05\n",
       "1   4.30    0.2   7.91        5   0.05\n",
       "2   5.00    0.2   7.80        5   0.05\n",
       "3   6.00    0.2   9.56        5   0.05\n",
       "4   7.70    0.2  12.47        5   0.05\n",
       "5   8.45    0.2  13.41        5   0.05\n",
       "6   9.95    0.2  15.33        5   0.05\n",
       "7  11.15    0.2  17.09        5   0.05\n",
       "8  12.90    0.2  11.97        3   0.05\n",
       "9  14.50    0.2   8.99        2   0.05"
      ]
     },
     "execution_count": 3,
     "metadata": {},
     "output_type": "execute_result"
    }
   ],
   "source": [
    "data2['n_err']=[0.05,0.05,0.05,0.05,0.05,0.05,0.05,0.05,0.05,0.05]\n",
    "data2"
   ]
  },
  {
   "cell_type": "code",
   "execution_count": 4,
   "id": "e05ff814",
   "metadata": {},
   "outputs": [
    {
     "data": {
      "text/plain": [
       "array([1.434, 1.582, 1.56 , 1.912, 2.494, 2.682, 3.066, 3.418, 3.99 ,\n",
       "       4.495])"
      ]
     },
     "execution_count": 4,
     "metadata": {},
     "output_type": "execute_result"
    }
   ],
   "source": [
    "Tp_2=data2['Tp']/data2['Periode']\n",
    "Tp_2=Tp_2.values\n",
    "Tp_2"
   ]
  },
  {
   "cell_type": "code",
   "execution_count": 5,
   "id": "e4924a11",
   "metadata": {},
   "outputs": [
    {
     "data": {
      "text/html": [
       "<div>\n",
       "<style scoped>\n",
       "    .dataframe tbody tr th:only-of-type {\n",
       "        vertical-align: middle;\n",
       "    }\n",
       "\n",
       "    .dataframe tbody tr th {\n",
       "        vertical-align: top;\n",
       "    }\n",
       "\n",
       "    .dataframe thead th {\n",
       "        text-align: right;\n",
       "    }\n",
       "</style>\n",
       "<table border=\"1\" class=\"dataframe\">\n",
       "  <thead>\n",
       "    <tr style=\"text-align: right;\">\n",
       "      <th></th>\n",
       "      <th>n</th>\n",
       "      <th>T1</th>\n",
       "      <th>T2</th>\n",
       "      <th>Per1</th>\n",
       "      <th>T3</th>\n",
       "      <th>T4</th>\n",
       "      <th>Per2</th>\n",
       "    </tr>\n",
       "  </thead>\n",
       "  <tbody>\n",
       "    <tr>\n",
       "      <th>0</th>\n",
       "      <td>5.25</td>\n",
       "      <td>3.42</td>\n",
       "      <td>3.98</td>\n",
       "      <td>1</td>\n",
       "      <td>5.31</td>\n",
       "      <td>6.00</td>\n",
       "      <td>1</td>\n",
       "    </tr>\n",
       "    <tr>\n",
       "      <th>1</th>\n",
       "      <td>6.35</td>\n",
       "      <td>1.63</td>\n",
       "      <td>2.55</td>\n",
       "      <td>2</td>\n",
       "      <td>4.31</td>\n",
       "      <td>4.97</td>\n",
       "      <td>1</td>\n",
       "    </tr>\n",
       "    <tr>\n",
       "      <th>2</th>\n",
       "      <td>7.35</td>\n",
       "      <td>8.71</td>\n",
       "      <td>10.06</td>\n",
       "      <td>2</td>\n",
       "      <td>13.31</td>\n",
       "      <td>13.85</td>\n",
       "      <td>1</td>\n",
       "    </tr>\n",
       "    <tr>\n",
       "      <th>3</th>\n",
       "      <td>8.80</td>\n",
       "      <td>6.87</td>\n",
       "      <td>7.47</td>\n",
       "      <td>1</td>\n",
       "      <td>15.71</td>\n",
       "      <td>16.31</td>\n",
       "      <td>2</td>\n",
       "    </tr>\n",
       "    <tr>\n",
       "      <th>4</th>\n",
       "      <td>8.80</td>\n",
       "      <td>5.95</td>\n",
       "      <td>6.71</td>\n",
       "      <td>2</td>\n",
       "      <td>9.55</td>\n",
       "      <td>10.97</td>\n",
       "      <td>2</td>\n",
       "    </tr>\n",
       "    <tr>\n",
       "      <th>5</th>\n",
       "      <td>10.00</td>\n",
       "      <td>4.55</td>\n",
       "      <td>5.45</td>\n",
       "      <td>2</td>\n",
       "      <td>11.20</td>\n",
       "      <td>12.43</td>\n",
       "      <td>3</td>\n",
       "    </tr>\n",
       "    <tr>\n",
       "      <th>6</th>\n",
       "      <td>11.46</td>\n",
       "      <td>4.97</td>\n",
       "      <td>5.97</td>\n",
       "      <td>2</td>\n",
       "      <td>8.15</td>\n",
       "      <td>9.00</td>\n",
       "      <td>2</td>\n",
       "    </tr>\n",
       "    <tr>\n",
       "      <th>7</th>\n",
       "      <td>13.00</td>\n",
       "      <td>20.80</td>\n",
       "      <td>21.65</td>\n",
       "      <td>2</td>\n",
       "      <td>23.97</td>\n",
       "      <td>24.84</td>\n",
       "      <td>2</td>\n",
       "    </tr>\n",
       "    <tr>\n",
       "      <th>8</th>\n",
       "      <td>15.00</td>\n",
       "      <td>7.31</td>\n",
       "      <td>8.77</td>\n",
       "      <td>3</td>\n",
       "      <td>11.87</td>\n",
       "      <td>13.12</td>\n",
       "      <td>3</td>\n",
       "    </tr>\n",
       "    <tr>\n",
       "      <th>9</th>\n",
       "      <td>16.05</td>\n",
       "      <td>28.35</td>\n",
       "      <td>29.15</td>\n",
       "      <td>3</td>\n",
       "      <td>30.15</td>\n",
       "      <td>31.15</td>\n",
       "      <td>3</td>\n",
       "    </tr>\n",
       "  </tbody>\n",
       "</table>\n",
       "</div>"
      ],
      "text/plain": [
       "       n     T1     T2  Per1     T3     T4  Per2\n",
       "0   5.25   3.42   3.98     1   5.31   6.00     1\n",
       "1   6.35   1.63   2.55     2   4.31   4.97     1\n",
       "2   7.35   8.71  10.06     2  13.31  13.85     1\n",
       "3   8.80   6.87   7.47     1  15.71  16.31     2\n",
       "4   8.80   5.95   6.71     2   9.55  10.97     2\n",
       "5  10.00   4.55   5.45     2  11.20  12.43     3\n",
       "6  11.46   4.97   5.97     2   8.15   9.00     2\n",
       "7  13.00  20.80  21.65     2  23.97  24.84     2\n",
       "8  15.00   7.31   8.77     3  11.87  13.12     3\n",
       "9  16.05  28.35  29.15     3  30.15  31.15     3"
      ]
     },
     "execution_count": 5,
     "metadata": {},
     "output_type": "execute_result"
    }
   ],
   "source": [
    "data3=pd.read_csv('A3.txt','\\t')\n",
    "data3"
   ]
  },
  {
   "cell_type": "code",
   "execution_count": 6,
   "id": "cc99f232",
   "metadata": {},
   "outputs": [
    {
     "data": {
      "text/html": [
       "<div>\n",
       "<style scoped>\n",
       "    .dataframe tbody tr th:only-of-type {\n",
       "        vertical-align: middle;\n",
       "    }\n",
       "\n",
       "    .dataframe tbody tr th {\n",
       "        vertical-align: top;\n",
       "    }\n",
       "\n",
       "    .dataframe thead th {\n",
       "        text-align: right;\n",
       "    }\n",
       "</style>\n",
       "<table border=\"1\" class=\"dataframe\">\n",
       "  <thead>\n",
       "    <tr style=\"text-align: right;\">\n",
       "      <th></th>\n",
       "      <th>n</th>\n",
       "      <th>t1</th>\n",
       "      <th>t2</th>\n",
       "      <th>dt</th>\n",
       "    </tr>\n",
       "  </thead>\n",
       "  <tbody>\n",
       "    <tr>\n",
       "      <th>0</th>\n",
       "      <td>5.25</td>\n",
       "      <td>3.42</td>\n",
       "      <td>3.98</td>\n",
       "      <td>0.56</td>\n",
       "    </tr>\n",
       "    <tr>\n",
       "      <th>1</th>\n",
       "      <td>6.35</td>\n",
       "      <td>4.31</td>\n",
       "      <td>4.97</td>\n",
       "      <td>0.66</td>\n",
       "    </tr>\n",
       "    <tr>\n",
       "      <th>2</th>\n",
       "      <td>7.35</td>\n",
       "      <td>13.31</td>\n",
       "      <td>13.85</td>\n",
       "      <td>0.54</td>\n",
       "    </tr>\n",
       "    <tr>\n",
       "      <th>3</th>\n",
       "      <td>8.80</td>\n",
       "      <td>6.87</td>\n",
       "      <td>7.47</td>\n",
       "      <td>0.60</td>\n",
       "    </tr>\n",
       "    <tr>\n",
       "      <th>4</th>\n",
       "      <td>8.80</td>\n",
       "      <td>5.96</td>\n",
       "      <td>6.35</td>\n",
       "      <td>0.39</td>\n",
       "    </tr>\n",
       "    <tr>\n",
       "      <th>5</th>\n",
       "      <td>10.00</td>\n",
       "      <td>4.56</td>\n",
       "      <td>5.15</td>\n",
       "      <td>0.59</td>\n",
       "    </tr>\n",
       "    <tr>\n",
       "      <th>6</th>\n",
       "      <td>11.46</td>\n",
       "      <td>5.11</td>\n",
       "      <td>5.53</td>\n",
       "      <td>0.42</td>\n",
       "    </tr>\n",
       "    <tr>\n",
       "      <th>7</th>\n",
       "      <td>13.00</td>\n",
       "      <td>21.02</td>\n",
       "      <td>21.31</td>\n",
       "      <td>0.29</td>\n",
       "    </tr>\n",
       "    <tr>\n",
       "      <th>8</th>\n",
       "      <td>15.00</td>\n",
       "      <td>12.15</td>\n",
       "      <td>12.50</td>\n",
       "      <td>0.35</td>\n",
       "    </tr>\n",
       "    <tr>\n",
       "      <th>9</th>\n",
       "      <td>16.05</td>\n",
       "      <td>30.37</td>\n",
       "      <td>30.71</td>\n",
       "      <td>0.34</td>\n",
       "    </tr>\n",
       "  </tbody>\n",
       "</table>\n",
       "</div>"
      ],
      "text/plain": [
       "       n     t1     t2    dt\n",
       "0   5.25   3.42   3.98  0.56\n",
       "1   6.35   4.31   4.97  0.66\n",
       "2   7.35  13.31  13.85  0.54\n",
       "3   8.80   6.87   7.47  0.60\n",
       "4   8.80   5.96   6.35  0.39\n",
       "5  10.00   4.56   5.15  0.59\n",
       "6  11.46   5.11   5.53  0.42\n",
       "7  13.00  21.02  21.31  0.29\n",
       "8  15.00  12.15  12.50  0.35\n",
       "9  16.05  30.37  30.71  0.34"
      ]
     },
     "execution_count": 6,
     "metadata": {},
     "output_type": "execute_result"
    }
   ],
   "source": [
    "data3_1=pd.read_csv('A3_1.txt','\\t')\n",
    "u_t_3_1=0.01+5e-4*data3_1['t1']\n",
    "u_t_3_2=0.01+5e-4*data3_1['t2']\n",
    "data3_1"
   ]
  },
  {
   "cell_type": "code",
   "execution_count": 7,
   "id": "f98f733a",
   "metadata": {},
   "outputs": [
    {
     "data": {
      "text/html": [
       "<div>\n",
       "<style scoped>\n",
       "    .dataframe tbody tr th:only-of-type {\n",
       "        vertical-align: middle;\n",
       "    }\n",
       "\n",
       "    .dataframe tbody tr th {\n",
       "        vertical-align: top;\n",
       "    }\n",
       "\n",
       "    .dataframe thead th {\n",
       "        text-align: right;\n",
       "    }\n",
       "</style>\n",
       "<table border=\"1\" class=\"dataframe\">\n",
       "  <thead>\n",
       "    <tr style=\"text-align: right;\">\n",
       "      <th></th>\n",
       "      <th>n</th>\n",
       "      <th>t1</th>\n",
       "      <th>t2</th>\n",
       "      <th>dt</th>\n",
       "      <th>u1</th>\n",
       "      <th>u2</th>\n",
       "    </tr>\n",
       "  </thead>\n",
       "  <tbody>\n",
       "    <tr>\n",
       "      <th>0</th>\n",
       "      <td>5.25</td>\n",
       "      <td>3.42</td>\n",
       "      <td>3.98</td>\n",
       "      <td>0.56</td>\n",
       "      <td>0.011710</td>\n",
       "      <td>0.011990</td>\n",
       "    </tr>\n",
       "    <tr>\n",
       "      <th>1</th>\n",
       "      <td>6.35</td>\n",
       "      <td>4.31</td>\n",
       "      <td>4.97</td>\n",
       "      <td>0.66</td>\n",
       "      <td>0.012155</td>\n",
       "      <td>0.012485</td>\n",
       "    </tr>\n",
       "    <tr>\n",
       "      <th>2</th>\n",
       "      <td>7.35</td>\n",
       "      <td>13.31</td>\n",
       "      <td>13.85</td>\n",
       "      <td>0.54</td>\n",
       "      <td>0.016655</td>\n",
       "      <td>0.016925</td>\n",
       "    </tr>\n",
       "    <tr>\n",
       "      <th>3</th>\n",
       "      <td>8.80</td>\n",
       "      <td>6.87</td>\n",
       "      <td>7.47</td>\n",
       "      <td>0.60</td>\n",
       "      <td>0.013435</td>\n",
       "      <td>0.013735</td>\n",
       "    </tr>\n",
       "    <tr>\n",
       "      <th>4</th>\n",
       "      <td>8.80</td>\n",
       "      <td>5.96</td>\n",
       "      <td>6.35</td>\n",
       "      <td>0.39</td>\n",
       "      <td>0.012980</td>\n",
       "      <td>0.013175</td>\n",
       "    </tr>\n",
       "    <tr>\n",
       "      <th>5</th>\n",
       "      <td>10.00</td>\n",
       "      <td>4.56</td>\n",
       "      <td>5.15</td>\n",
       "      <td>0.59</td>\n",
       "      <td>0.012280</td>\n",
       "      <td>0.012575</td>\n",
       "    </tr>\n",
       "    <tr>\n",
       "      <th>6</th>\n",
       "      <td>11.46</td>\n",
       "      <td>5.11</td>\n",
       "      <td>5.53</td>\n",
       "      <td>0.42</td>\n",
       "      <td>0.012555</td>\n",
       "      <td>0.012765</td>\n",
       "    </tr>\n",
       "    <tr>\n",
       "      <th>7</th>\n",
       "      <td>13.00</td>\n",
       "      <td>21.02</td>\n",
       "      <td>21.31</td>\n",
       "      <td>0.29</td>\n",
       "      <td>0.020510</td>\n",
       "      <td>0.020655</td>\n",
       "    </tr>\n",
       "    <tr>\n",
       "      <th>8</th>\n",
       "      <td>15.00</td>\n",
       "      <td>12.15</td>\n",
       "      <td>12.50</td>\n",
       "      <td>0.35</td>\n",
       "      <td>0.016075</td>\n",
       "      <td>0.016250</td>\n",
       "    </tr>\n",
       "    <tr>\n",
       "      <th>9</th>\n",
       "      <td>16.05</td>\n",
       "      <td>30.37</td>\n",
       "      <td>30.71</td>\n",
       "      <td>0.34</td>\n",
       "      <td>0.025185</td>\n",
       "      <td>0.025355</td>\n",
       "    </tr>\n",
       "  </tbody>\n",
       "</table>\n",
       "</div>"
      ],
      "text/plain": [
       "       n     t1     t2    dt        u1        u2\n",
       "0   5.25   3.42   3.98  0.56  0.011710  0.011990\n",
       "1   6.35   4.31   4.97  0.66  0.012155  0.012485\n",
       "2   7.35  13.31  13.85  0.54  0.016655  0.016925\n",
       "3   8.80   6.87   7.47  0.60  0.013435  0.013735\n",
       "4   8.80   5.96   6.35  0.39  0.012980  0.013175\n",
       "5  10.00   4.56   5.15  0.59  0.012280  0.012575\n",
       "6  11.46   5.11   5.53  0.42  0.012555  0.012765\n",
       "7  13.00  21.02  21.31  0.29  0.020510  0.020655\n",
       "8  15.00  12.15  12.50  0.35  0.016075  0.016250\n",
       "9  16.05  30.37  30.71  0.34  0.025185  0.025355"
      ]
     },
     "execution_count": 7,
     "metadata": {},
     "output_type": "execute_result"
    }
   ],
   "source": [
    "data3_1['u1']=u_t_3_1\n",
    "data3_1['u2']=u_t_3_2\n",
    "data3_1"
   ]
  },
  {
   "cell_type": "code",
   "execution_count": 8,
   "id": "b1def421",
   "metadata": {},
   "outputs": [],
   "source": [
    "t1_err=np.array([ufloat(3.42,0.012),\n",
    "                ufloat(4.31,0.012),\n",
    "                ufloat(13.31,0.017),\n",
    "                ufloat(6.87,0.013),\n",
    "                ufloat(5.96,0.013),\n",
    "                ufloat(4.56,0.012),\n",
    "                ufloat(5.11,0.013),\n",
    "                ufloat(21.02,0.021),\n",
    "                ufloat(12.15,0.016),\n",
    "                ufloat(30.37,0.025)])\n",
    "\n",
    "t2_err=np.array([ufloat(3.98,0.012),\n",
    "                ufloat(4.97,0.012),\n",
    "                ufloat(13.85,0.017),\n",
    "                ufloat(7.47,0.014),\n",
    "                ufloat(6.35,0.013),\n",
    "                ufloat(5.15,0.013),\n",
    "                ufloat(5.53,0.013),\n",
    "                ufloat(21.31,0.021),\n",
    "                ufloat(12.50,0.016),\n",
    "                ufloat(30.71,0.025)])"
   ]
  },
  {
   "cell_type": "markdown",
   "id": "6f011c00",
   "metadata": {},
   "source": [
    "## Daten aus dritten Datensatz bearbeiten"
   ]
  },
  {
   "cell_type": "code",
   "execution_count": 9,
   "id": "45d4c0dd",
   "metadata": {
    "scrolled": true
   },
   "outputs": [
    {
     "name": "stdout",
     "output_type": "stream",
     "text": [
      "[0.56+/-0.01697056274847714 0.6600000000000001+/-0.01697056274847714\n",
      " 0.5399999999999991+/-0.024041630560342617\n",
      " 0.5999999999999996+/-0.0191049731745428\n",
      " 0.3899999999999997+/-0.018384776310850236\n",
      " 0.5900000000000007+/-0.01769180601295413\n",
      " 0.41999999999999993+/-0.018384776310850236\n",
      " 0.28999999999999915+/-0.029698484809835\n",
      " 0.34999999999999964+/-0.02262741699796952\n",
      " 0.33999999999999986+/-0.03535533905932738]\n"
     ]
    }
   ],
   "source": [
    "n_3_1=data3_1['n']\n",
    "Tn_1=data3_1['dt']\n",
    "Tn_1_err=t2_err-t1_err\n",
    "print(Tn_1_err)"
   ]
  },
  {
   "cell_type": "code",
   "execution_count": 10,
   "id": "dd017ffd",
   "metadata": {},
   "outputs": [],
   "source": [
    "dt_err=[0.017,0.017,0.024,0.019,0.018,0.018,0.018,0.030,0.023,0.04]\n",
    "#print(len(dt_err))"
   ]
  },
  {
   "cell_type": "code",
   "execution_count": 11,
   "id": "b02adafd",
   "metadata": {},
   "outputs": [],
   "source": [
    "# Datensätze erzeugen\n",
    "n_3=data3['n'].values\n",
    "T_n_1=data3['T1'].values\n",
    "T_n_2=data3['T2'].values\n",
    "T_n_3=data3['T3'].values\n",
    "T_n_4=data3['T4'].values\n",
    "p1=data3['Per1'].values\n",
    "p2=data3['Per2'].values\n"
   ]
  },
  {
   "cell_type": "code",
   "execution_count": 12,
   "id": "54295e0e",
   "metadata": {},
   "outputs": [],
   "source": [
    "np_3_err=np.array([ufloat(5.25,0.05),\n",
    "                  ufloat(6.35,0.05),\n",
    "                  ufloat(7.35,0.05),\n",
    "                  ufloat(8.8,0.05),\n",
    "                  ufloat(8.8,0.05),\n",
    "                  ufloat(10.0,0.05),\n",
    "                  ufloat(11.46,0.05),\n",
    "                  ufloat(13.,0.05),\n",
    "                  ufloat(15.,0.05),\n",
    "                  ufloat(16.05,0.05)])"
   ]
  },
  {
   "cell_type": "code",
   "execution_count": 13,
   "id": "b3e0cf80",
   "metadata": {},
   "outputs": [
    {
     "data": {
      "text/html": [
       "<div>\n",
       "<style scoped>\n",
       "    .dataframe tbody tr th:only-of-type {\n",
       "        vertical-align: middle;\n",
       "    }\n",
       "\n",
       "    .dataframe tbody tr th {\n",
       "        vertical-align: top;\n",
       "    }\n",
       "\n",
       "    .dataframe thead th {\n",
       "        text-align: right;\n",
       "    }\n",
       "</style>\n",
       "<table border=\"1\" class=\"dataframe\">\n",
       "  <thead>\n",
       "    <tr style=\"text-align: right;\">\n",
       "      <th></th>\n",
       "      <th>T1</th>\n",
       "      <th>err 1</th>\n",
       "      <th>T2</th>\n",
       "      <th>err 2</th>\n",
       "    </tr>\n",
       "  </thead>\n",
       "  <tbody>\n",
       "    <tr>\n",
       "      <th>0</th>\n",
       "      <td>3.42</td>\n",
       "      <td>0.500137</td>\n",
       "      <td>3.98</td>\n",
       "      <td>0.500144</td>\n",
       "    </tr>\n",
       "    <tr>\n",
       "      <th>1</th>\n",
       "      <td>1.63</td>\n",
       "      <td>0.500117</td>\n",
       "      <td>2.55</td>\n",
       "      <td>0.500127</td>\n",
       "    </tr>\n",
       "    <tr>\n",
       "      <th>2</th>\n",
       "      <td>8.71</td>\n",
       "      <td>0.500206</td>\n",
       "      <td>10.06</td>\n",
       "      <td>0.500226</td>\n",
       "    </tr>\n",
       "    <tr>\n",
       "      <th>3</th>\n",
       "      <td>6.87</td>\n",
       "      <td>0.500180</td>\n",
       "      <td>7.47</td>\n",
       "      <td>0.500189</td>\n",
       "    </tr>\n",
       "    <tr>\n",
       "      <th>4</th>\n",
       "      <td>5.95</td>\n",
       "      <td>0.500168</td>\n",
       "      <td>6.71</td>\n",
       "      <td>0.500178</td>\n",
       "    </tr>\n",
       "    <tr>\n",
       "      <th>5</th>\n",
       "      <td>4.55</td>\n",
       "      <td>0.500151</td>\n",
       "      <td>5.45</td>\n",
       "      <td>0.500162</td>\n",
       "    </tr>\n",
       "    <tr>\n",
       "      <th>6</th>\n",
       "      <td>4.97</td>\n",
       "      <td>0.500156</td>\n",
       "      <td>5.97</td>\n",
       "      <td>0.500169</td>\n",
       "    </tr>\n",
       "    <tr>\n",
       "      <th>7</th>\n",
       "      <td>20.80</td>\n",
       "      <td>0.500416</td>\n",
       "      <td>21.65</td>\n",
       "      <td>0.500433</td>\n",
       "    </tr>\n",
       "    <tr>\n",
       "      <th>8</th>\n",
       "      <td>7.31</td>\n",
       "      <td>0.500186</td>\n",
       "      <td>8.77</td>\n",
       "      <td>0.500207</td>\n",
       "    </tr>\n",
       "    <tr>\n",
       "      <th>9</th>\n",
       "      <td>28.35</td>\n",
       "      <td>0.500584</td>\n",
       "      <td>29.15</td>\n",
       "      <td>0.500604</td>\n",
       "    </tr>\n",
       "  </tbody>\n",
       "</table>\n",
       "</div>"
      ],
      "text/plain": [
       "      T1     err 1     T2     err 2\n",
       "0   3.42  0.500137   3.98  0.500144\n",
       "1   1.63  0.500117   2.55  0.500127\n",
       "2   8.71  0.500206  10.06  0.500226\n",
       "3   6.87  0.500180   7.47  0.500189\n",
       "4   5.95  0.500168   6.71  0.500178\n",
       "5   4.55  0.500151   5.45  0.500162\n",
       "6   4.97  0.500156   5.97  0.500169\n",
       "7  20.80  0.500416  21.65  0.500433\n",
       "8   7.31  0.500186   8.77  0.500207\n",
       "9  28.35  0.500584  29.15  0.500604"
      ]
     },
     "execution_count": 13,
     "metadata": {},
     "output_type": "execute_result"
    }
   ],
   "source": [
    "t_n_1_err=np.sqrt((0.01+5e-4*T_n_1)**2+0.5**2)\n",
    "t_n_2_err=np.sqrt((0.01+5e-4*T_n_2)**2+0.5**2)\n",
    "\n",
    "M3_T_tab=pd.DataFrame({'T1':T_n_1,'err 1':t_n_1_err,'T2':T_n_2,'err 2':t_n_2_err})\n",
    "\n",
    "T_n_1_err=np.array([ufloat(3.42,0.012),\n",
    "                    ufloat(1.63,0.012),\n",
    "                    ufloat(8.71,0.014),\n",
    "                    ufloat(6.87,0.013),\n",
    "                    ufloat(5.95,0.013),\n",
    "                    ufloat(4.55,0.012),\n",
    "                    ufloat(4.97,0.012),\n",
    "                    ufloat(20.8,0.020),\n",
    "                    ufloat(7.31,0.014),\n",
    "                    ufloat(28.35,0.024)])\n",
    "\n",
    "T_n_2_err=np.array([ufloat(3.98,0.012),\n",
    "                    ufloat(2.55,0.011),\n",
    "                    ufloat(10.06,0.015),\n",
    "                    ufloat(7.47,0.014),\n",
    "                    ufloat(6.71,0.013),\n",
    "                    ufloat(5.45,0.013),\n",
    "                    ufloat(5.97,0.013),\n",
    "                    ufloat(21.65,0.021),\n",
    "                    ufloat(8.77,0.014),\n",
    "                    ufloat(29.15,0.025)])\n",
    "M3_T_tab"
   ]
  },
  {
   "cell_type": "code",
   "execution_count": 14,
   "id": "fe3c0697",
   "metadata": {},
   "outputs": [
    {
     "data": {
      "text/html": [
       "<div>\n",
       "<style scoped>\n",
       "    .dataframe tbody tr th:only-of-type {\n",
       "        vertical-align: middle;\n",
       "    }\n",
       "\n",
       "    .dataframe tbody tr th {\n",
       "        vertical-align: top;\n",
       "    }\n",
       "\n",
       "    .dataframe thead th {\n",
       "        text-align: right;\n",
       "    }\n",
       "</style>\n",
       "<table border=\"1\" class=\"dataframe\">\n",
       "  <thead>\n",
       "    <tr style=\"text-align: right;\">\n",
       "      <th></th>\n",
       "      <th>$\\Delta$ T</th>\n",
       "      <th>$\\Delta$ T err</th>\n",
       "    </tr>\n",
       "  </thead>\n",
       "  <tbody>\n",
       "    <tr>\n",
       "      <th>0</th>\n",
       "      <td>0.560000</td>\n",
       "      <td>0.560+/-0.017</td>\n",
       "    </tr>\n",
       "    <tr>\n",
       "      <th>1</th>\n",
       "      <td>0.460000</td>\n",
       "      <td>0.460+/-0.008</td>\n",
       "    </tr>\n",
       "    <tr>\n",
       "      <th>2</th>\n",
       "      <td>0.675000</td>\n",
       "      <td>0.675+/-0.010</td>\n",
       "    </tr>\n",
       "    <tr>\n",
       "      <th>3</th>\n",
       "      <td>0.600000</td>\n",
       "      <td>0.600+/-0.019</td>\n",
       "    </tr>\n",
       "    <tr>\n",
       "      <th>4</th>\n",
       "      <td>0.380000</td>\n",
       "      <td>0.380+/-0.009</td>\n",
       "    </tr>\n",
       "    <tr>\n",
       "      <th>5</th>\n",
       "      <td>0.450000</td>\n",
       "      <td>0.450+/-0.009</td>\n",
       "    </tr>\n",
       "    <tr>\n",
       "      <th>6</th>\n",
       "      <td>0.500000</td>\n",
       "      <td>0.500+/-0.009</td>\n",
       "    </tr>\n",
       "    <tr>\n",
       "      <th>7</th>\n",
       "      <td>0.425000</td>\n",
       "      <td>0.425+/-0.015</td>\n",
       "    </tr>\n",
       "    <tr>\n",
       "      <th>8</th>\n",
       "      <td>0.486667</td>\n",
       "      <td>0.487+/-0.007</td>\n",
       "    </tr>\n",
       "    <tr>\n",
       "      <th>9</th>\n",
       "      <td>0.266667</td>\n",
       "      <td>0.267+/-0.012</td>\n",
       "    </tr>\n",
       "  </tbody>\n",
       "</table>\n",
       "</div>"
      ],
      "text/plain": [
       "   $\\Delta$ T $\\Delta$ T err\n",
       "0    0.560000  0.560+/-0.017\n",
       "1    0.460000  0.460+/-0.008\n",
       "2    0.675000  0.675+/-0.010\n",
       "3    0.600000  0.600+/-0.019\n",
       "4    0.380000  0.380+/-0.009\n",
       "5    0.450000  0.450+/-0.009\n",
       "6    0.500000  0.500+/-0.009\n",
       "7    0.425000  0.425+/-0.015\n",
       "8    0.486667  0.487+/-0.007\n",
       "9    0.266667  0.267+/-0.012"
      ]
     },
     "execution_count": 14,
     "metadata": {},
     "output_type": "execute_result"
    }
   ],
   "source": [
    "# Zeitdifferenz\n",
    "diff_T1=(T_n_2-T_n_1)/p1\n",
    "#print(diff_T1)\n",
    "diff_T1_err=(T_n_2_err-T_n_1_err)/p1\n",
    "diff_T1_tab=pd.DataFrame({r'$\\Delta$ T':diff_T1,'$\\Delta$ T err':diff_T1_err})\n",
    "diff_T1_tab"
   ]
  },
  {
   "cell_type": "code",
   "execution_count": 15,
   "id": "487675ab",
   "metadata": {},
   "outputs": [
    {
     "data": {
      "text/html": [
       "<div>\n",
       "<style scoped>\n",
       "    .dataframe tbody tr th:only-of-type {\n",
       "        vertical-align: middle;\n",
       "    }\n",
       "\n",
       "    .dataframe tbody tr th {\n",
       "        vertical-align: top;\n",
       "    }\n",
       "\n",
       "    .dataframe thead th {\n",
       "        text-align: right;\n",
       "    }\n",
       "</style>\n",
       "<table border=\"1\" class=\"dataframe\">\n",
       "  <thead>\n",
       "    <tr style=\"text-align: right;\">\n",
       "      <th></th>\n",
       "      <th>T3</th>\n",
       "      <th>err 3</th>\n",
       "      <th>T4</th>\n",
       "      <th>err 4</th>\n",
       "    </tr>\n",
       "  </thead>\n",
       "  <tbody>\n",
       "    <tr>\n",
       "      <th>0</th>\n",
       "      <td>5.31</td>\n",
       "      <td>0.012655</td>\n",
       "      <td>6.00</td>\n",
       "      <td>0.013000</td>\n",
       "    </tr>\n",
       "    <tr>\n",
       "      <th>1</th>\n",
       "      <td>4.31</td>\n",
       "      <td>0.012155</td>\n",
       "      <td>4.97</td>\n",
       "      <td>0.012485</td>\n",
       "    </tr>\n",
       "    <tr>\n",
       "      <th>2</th>\n",
       "      <td>13.31</td>\n",
       "      <td>0.016655</td>\n",
       "      <td>13.85</td>\n",
       "      <td>0.016925</td>\n",
       "    </tr>\n",
       "    <tr>\n",
       "      <th>3</th>\n",
       "      <td>15.71</td>\n",
       "      <td>0.017855</td>\n",
       "      <td>16.31</td>\n",
       "      <td>0.018155</td>\n",
       "    </tr>\n",
       "    <tr>\n",
       "      <th>4</th>\n",
       "      <td>9.55</td>\n",
       "      <td>0.014775</td>\n",
       "      <td>10.97</td>\n",
       "      <td>0.015485</td>\n",
       "    </tr>\n",
       "    <tr>\n",
       "      <th>5</th>\n",
       "      <td>11.20</td>\n",
       "      <td>0.015600</td>\n",
       "      <td>12.43</td>\n",
       "      <td>0.016215</td>\n",
       "    </tr>\n",
       "    <tr>\n",
       "      <th>6</th>\n",
       "      <td>8.15</td>\n",
       "      <td>0.014075</td>\n",
       "      <td>9.00</td>\n",
       "      <td>0.014500</td>\n",
       "    </tr>\n",
       "    <tr>\n",
       "      <th>7</th>\n",
       "      <td>23.97</td>\n",
       "      <td>0.021985</td>\n",
       "      <td>24.84</td>\n",
       "      <td>0.022420</td>\n",
       "    </tr>\n",
       "    <tr>\n",
       "      <th>8</th>\n",
       "      <td>11.87</td>\n",
       "      <td>0.015935</td>\n",
       "      <td>13.12</td>\n",
       "      <td>0.016560</td>\n",
       "    </tr>\n",
       "    <tr>\n",
       "      <th>9</th>\n",
       "      <td>30.15</td>\n",
       "      <td>0.025075</td>\n",
       "      <td>31.15</td>\n",
       "      <td>0.025575</td>\n",
       "    </tr>\n",
       "  </tbody>\n",
       "</table>\n",
       "</div>"
      ],
      "text/plain": [
       "      T3     err 3     T4     err 4\n",
       "0   5.31  0.012655   6.00  0.013000\n",
       "1   4.31  0.012155   4.97  0.012485\n",
       "2  13.31  0.016655  13.85  0.016925\n",
       "3  15.71  0.017855  16.31  0.018155\n",
       "4   9.55  0.014775  10.97  0.015485\n",
       "5  11.20  0.015600  12.43  0.016215\n",
       "6   8.15  0.014075   9.00  0.014500\n",
       "7  23.97  0.021985  24.84  0.022420\n",
       "8  11.87  0.015935  13.12  0.016560\n",
       "9  30.15  0.025075  31.15  0.025575"
      ]
     },
     "execution_count": 15,
     "metadata": {},
     "output_type": "execute_result"
    }
   ],
   "source": [
    "t_n_3_err=0.01+5e-4*T_n_3\n",
    "t_n_4_err=0.01+5e-4*T_n_4\n",
    "\n",
    "M3_T_tab2=pd.DataFrame({'T3':T_n_3,'err 3':t_n_3_err,'T4':T_n_4,'err 4':t_n_4_err})\n",
    "\n",
    "T_n_3_err=np.array([ufloat(5.31,0.013),\n",
    "                    ufloat(4.31,0.012),\n",
    "                    ufloat(13.31,0.017),\n",
    "                    ufloat(15.71,0.018),\n",
    "                    ufloat(9.55,0.015),\n",
    "                    ufloat(11.2,0.016),\n",
    "                    ufloat(8.15,0.014),\n",
    "                    ufloat(23.97,0.022),\n",
    "                    ufloat(11.87,0.016),\n",
    "                    ufloat(30.15,0.025)])\n",
    "\n",
    "T_n_4_err=np.array([ufloat(6.0,0.013),\n",
    "                    ufloat(4.97,0.012),\n",
    "                    ufloat(13.85 ,0.017),\n",
    "                    ufloat(16.31 ,0.018),\n",
    "                    ufloat(10.97 ,0.015),\n",
    "                    ufloat( 12.43,0.016),\n",
    "                    ufloat(9. ,0.015),\n",
    "                    ufloat( 24.83,0.022),\n",
    "                    ufloat(13.12 ,0.017),\n",
    "                    ufloat(31.15 ,0.021)])\n",
    "M3_T_tab2"
   ]
  },
  {
   "cell_type": "code",
   "execution_count": 16,
   "id": "c7cde6cb",
   "metadata": {},
   "outputs": [
    {
     "data": {
      "text/html": [
       "<div>\n",
       "<style scoped>\n",
       "    .dataframe tbody tr th:only-of-type {\n",
       "        vertical-align: middle;\n",
       "    }\n",
       "\n",
       "    .dataframe tbody tr th {\n",
       "        vertical-align: top;\n",
       "    }\n",
       "\n",
       "    .dataframe thead th {\n",
       "        text-align: right;\n",
       "    }\n",
       "</style>\n",
       "<table border=\"1\" class=\"dataframe\">\n",
       "  <thead>\n",
       "    <tr style=\"text-align: right;\">\n",
       "      <th></th>\n",
       "      <th>$\\Delta$ T2</th>\n",
       "      <th>$\\Delta$ T2 err</th>\n",
       "    </tr>\n",
       "  </thead>\n",
       "  <tbody>\n",
       "    <tr>\n",
       "      <th>0</th>\n",
       "      <td>0.690000</td>\n",
       "      <td>0.690+/-0.018</td>\n",
       "    </tr>\n",
       "    <tr>\n",
       "      <th>1</th>\n",
       "      <td>0.660000</td>\n",
       "      <td>0.660+/-0.017</td>\n",
       "    </tr>\n",
       "    <tr>\n",
       "      <th>2</th>\n",
       "      <td>0.540000</td>\n",
       "      <td>0.540+/-0.024</td>\n",
       "    </tr>\n",
       "    <tr>\n",
       "      <th>3</th>\n",
       "      <td>0.300000</td>\n",
       "      <td>0.300+/-0.013</td>\n",
       "    </tr>\n",
       "    <tr>\n",
       "      <th>4</th>\n",
       "      <td>0.710000</td>\n",
       "      <td>0.710+/-0.011</td>\n",
       "    </tr>\n",
       "    <tr>\n",
       "      <th>5</th>\n",
       "      <td>0.410000</td>\n",
       "      <td>0.410+/-0.008</td>\n",
       "    </tr>\n",
       "    <tr>\n",
       "      <th>6</th>\n",
       "      <td>0.425000</td>\n",
       "      <td>0.425+/-0.010</td>\n",
       "    </tr>\n",
       "    <tr>\n",
       "      <th>7</th>\n",
       "      <td>0.435000</td>\n",
       "      <td>0.430+/-0.016</td>\n",
       "    </tr>\n",
       "    <tr>\n",
       "      <th>8</th>\n",
       "      <td>0.416667</td>\n",
       "      <td>0.417+/-0.008</td>\n",
       "    </tr>\n",
       "    <tr>\n",
       "      <th>9</th>\n",
       "      <td>0.333333</td>\n",
       "      <td>0.333+/-0.011</td>\n",
       "    </tr>\n",
       "  </tbody>\n",
       "</table>\n",
       "</div>"
      ],
      "text/plain": [
       "   $\\Delta$ T2 $\\Delta$ T2 err\n",
       "0     0.690000   0.690+/-0.018\n",
       "1     0.660000   0.660+/-0.017\n",
       "2     0.540000   0.540+/-0.024\n",
       "3     0.300000   0.300+/-0.013\n",
       "4     0.710000   0.710+/-0.011\n",
       "5     0.410000   0.410+/-0.008\n",
       "6     0.425000   0.425+/-0.010\n",
       "7     0.435000   0.430+/-0.016\n",
       "8     0.416667   0.417+/-0.008\n",
       "9     0.333333   0.333+/-0.011"
      ]
     },
     "execution_count": 16,
     "metadata": {},
     "output_type": "execute_result"
    }
   ],
   "source": [
    "# Zeitdifferenz\n",
    "diff_T2=(T_n_4-T_n_3)/p2\n",
    "#print(diff_T1)\n",
    "diff_T2_err=(T_n_4_err-T_n_3_err)/p2\n",
    "diff_T2_tab=pd.DataFrame({r'$\\Delta$ T2':diff_T2,'$\\Delta$ T2 err':diff_T2_err})\n",
    "diff_T2_tab"
   ]
  },
  {
   "cell_type": "code",
   "execution_count": 17,
   "id": "50a155b5",
   "metadata": {},
   "outputs": [
    {
     "data": {
      "text/plain": [
       "[0.6250000000000002+/-0.012509996003196805,\n",
       " 0.56+/-0.009410765112359356,\n",
       " 0.6074999999999995+/-0.013069525622607731,\n",
       " 0.4499999999999993+/-0.011478240283248996,\n",
       " 0.5449999999999999+/-0.0070178344238090995,\n",
       " 0.43000000000000016+/-0.005812462664157269,\n",
       " 0.4624999999999999+/-0.006773108592072034,\n",
       " 0.4274999999999993+/-0.010633085159068368,\n",
       " 0.45166666666666666+/-0.005101742621671322,\n",
       " 0.2999999999999995+/-0.007935503904744942]"
      ]
     },
     "execution_count": 17,
     "metadata": {},
     "output_type": "execute_result"
    }
   ],
   "source": [
    "A=[]\n",
    "for i in range(10):\n",
    "    A.append([diff_T1_err[i],diff_T2_err[i]])\n",
    "\n",
    "A=np.array(A)\n",
    "B= []\n",
    "for i in range(10):\n",
    "    B.append(A[i].mean())\n",
    "B"
   ]
  },
  {
   "cell_type": "code",
   "execution_count": 18,
   "id": "768c0824",
   "metadata": {},
   "outputs": [
    {
     "data": {
      "text/html": [
       "<div>\n",
       "<style scoped>\n",
       "    .dataframe tbody tr th:only-of-type {\n",
       "        vertical-align: middle;\n",
       "    }\n",
       "\n",
       "    .dataframe tbody tr th {\n",
       "        vertical-align: top;\n",
       "    }\n",
       "\n",
       "    .dataframe thead th {\n",
       "        text-align: right;\n",
       "    }\n",
       "</style>\n",
       "<table border=\"1\" class=\"dataframe\">\n",
       "  <thead>\n",
       "    <tr style=\"text-align: right;\">\n",
       "      <th></th>\n",
       "      <th>$\\Delta T$</th>\n",
       "      <th>$\\Delta $T err</th>\n",
       "      <th>B</th>\n",
       "    </tr>\n",
       "  </thead>\n",
       "  <tbody>\n",
       "    <tr>\n",
       "      <th>0</th>\n",
       "      <td>0.625000</td>\n",
       "      <td>0.625+/-0.013</td>\n",
       "      <td>0.625+/-0.013</td>\n",
       "    </tr>\n",
       "    <tr>\n",
       "      <th>1</th>\n",
       "      <td>0.560000</td>\n",
       "      <td>0.560+/-0.009</td>\n",
       "      <td>0.560+/-0.009</td>\n",
       "    </tr>\n",
       "    <tr>\n",
       "      <th>2</th>\n",
       "      <td>0.607500</td>\n",
       "      <td>0.607+/-0.013</td>\n",
       "      <td>0.607+/-0.013</td>\n",
       "    </tr>\n",
       "    <tr>\n",
       "      <th>3</th>\n",
       "      <td>0.450000</td>\n",
       "      <td>0.450+/-0.011</td>\n",
       "      <td>0.450+/-0.011</td>\n",
       "    </tr>\n",
       "    <tr>\n",
       "      <th>4</th>\n",
       "      <td>0.545000</td>\n",
       "      <td>0.545+/-0.007</td>\n",
       "      <td>0.545+/-0.007</td>\n",
       "    </tr>\n",
       "    <tr>\n",
       "      <th>5</th>\n",
       "      <td>0.430000</td>\n",
       "      <td>0.430+/-0.006</td>\n",
       "      <td>0.430+/-0.006</td>\n",
       "    </tr>\n",
       "    <tr>\n",
       "      <th>6</th>\n",
       "      <td>0.462500</td>\n",
       "      <td>0.462+/-0.007</td>\n",
       "      <td>0.462+/-0.007</td>\n",
       "    </tr>\n",
       "    <tr>\n",
       "      <th>7</th>\n",
       "      <td>0.430000</td>\n",
       "      <td>0.427+/-0.011</td>\n",
       "      <td>0.427+/-0.011</td>\n",
       "    </tr>\n",
       "    <tr>\n",
       "      <th>8</th>\n",
       "      <td>0.451667</td>\n",
       "      <td>0.452+/-0.005</td>\n",
       "      <td>0.452+/-0.005</td>\n",
       "    </tr>\n",
       "    <tr>\n",
       "      <th>9</th>\n",
       "      <td>0.300000</td>\n",
       "      <td>0.300+/-0.008</td>\n",
       "      <td>0.300+/-0.008</td>\n",
       "    </tr>\n",
       "  </tbody>\n",
       "</table>\n",
       "</div>"
      ],
      "text/plain": [
       "   $\\Delta T$ $\\Delta $T err              B\n",
       "0    0.625000  0.625+/-0.013  0.625+/-0.013\n",
       "1    0.560000  0.560+/-0.009  0.560+/-0.009\n",
       "2    0.607500  0.607+/-0.013  0.607+/-0.013\n",
       "3    0.450000  0.450+/-0.011  0.450+/-0.011\n",
       "4    0.545000  0.545+/-0.007  0.545+/-0.007\n",
       "5    0.430000  0.430+/-0.006  0.430+/-0.006\n",
       "6    0.462500  0.462+/-0.007  0.462+/-0.007\n",
       "7    0.430000  0.427+/-0.011  0.427+/-0.011\n",
       "8    0.451667  0.452+/-0.005  0.452+/-0.005\n",
       "9    0.300000  0.300+/-0.008  0.300+/-0.008"
      ]
     },
     "execution_count": 18,
     "metadata": {},
     "output_type": "execute_result"
    }
   ],
   "source": [
    "diff_T=(diff_T1+diff_T2)/2\n",
    "diff_T_err=(diff_T1_err+diff_T2_err)/2\n",
    "diff_T_tab=pd.DataFrame({r'$\\Delta T$':diff_T,r'$\\Delta $T err':diff_T_err,'B':B})\n",
    "diff_T_tab"
   ]
  },
  {
   "cell_type": "code",
   "execution_count": 19,
   "id": "20374129",
   "metadata": {},
   "outputs": [
    {
     "data": {
      "text/plain": [
       "10"
      ]
     },
     "execution_count": 19,
     "metadata": {},
     "output_type": "execute_result"
    }
   ],
   "source": [
    "# Fehler aus der obigen Tabelle für die Regression\n",
    "diff_t_err=np.array([0.013,0.009,0.013,0.011,0.007,0.06,0.007,0.011,0.005,0.008])\n",
    "len(diff_t_err)"
   ]
  },
  {
   "cell_type": "code",
   "execution_count": null,
   "id": "f3f0b9e6-ee85-4427-b090-82eb30f33b6b",
   "metadata": {},
   "outputs": [],
   "source": [
    "2.5"
   ]
  },
  {
   "cell_type": "markdown",
   "id": "0d598f9b",
   "metadata": {},
   "source": [
    "## Variablen = Daten"
   ]
  },
  {
   "cell_type": "code",
   "execution_count": 20,
   "id": "adeff0da",
   "metadata": {
    "scrolled": true
   },
   "outputs": [
    {
     "name": "stdout",
     "output_type": "stream",
     "text": [
      "Periodendauer:\n",
      " [12.98        6.49        4.49        3.49        2.76        2.58333333\n",
      "  2.24666667  2.51666667  1.7275      1.4275    ]\n",
      "\n",
      "\n",
      "Periodendauer:\n",
      " [1.434 1.582 1.56  1.912 2.494 2.682 3.066 3.418 3.99  4.495]\n",
      "\n",
      "\n"
     ]
    }
   ],
   "source": [
    "# Masse\n",
    "m_1=data1['Masse'].values\n",
    "m_2=data2['Masse'].values\n",
    "\n",
    "\n",
    "\n",
    "# Drehzahl\n",
    "n_1=data1['n'].values\n",
    "n_2=data2['n'].values\n",
    "\n",
    "n_err=data2['n_err'].values\n",
    "\n",
    "# Periode\n",
    "P_1=data1['Periode'].values\n",
    "P_2=data2['Periode'].values\n",
    "\n",
    "# Zeit\n",
    "T_p_1=data1['Tp'].values\n",
    "T_p_2=data2['Tp'].values\n",
    "\n",
    "#Zeitfehler\n",
    "T_p_1_err=np.sqrt(0.6**2+(0.01+5e-4*T_p_1))/P_1\n",
    "T_p_2_err=np.sqrt(0.6**2+(0.01+5e-4*T_p_2))/P_2\n",
    "T_p_1=T_p_1/P_1\n",
    "T_p_2=T_p_2/P_2\n",
    "\n",
    "\n",
    "print(f'Periodendauer:\\n {T_p_1}\\n\\n')\n",
    "print(f'Periodendauer:\\n {T_p_2}\\n\\n')"
   ]
  },
  {
   "cell_type": "markdown",
   "id": "b54d0c13",
   "metadata": {},
   "source": [
    "# Definitionen und Gleichungen"
   ]
  },
  {
   "cell_type": "markdown",
   "id": "bdf609f8",
   "metadata": {},
   "source": [
    "$$T_p=\\frac{4\\cdot \\pi^{2}J_x n}{M}$$"
   ]
  },
  {
   "cell_type": "code",
   "execution_count": 21,
   "id": "be512104",
   "metadata": {},
   "outputs": [],
   "source": [
    "def f(x,a,b):\n",
    "    T=a*x +b\n",
    "    return T\n",
    "def f1(x,a,b):\n",
    "    T=a*x \n",
    "    return T"
   ]
  },
  {
   "cell_type": "markdown",
   "id": "9e4e6454",
   "metadata": {},
   "source": [
    "# Berechnung des Drehmomentes"
   ]
  },
  {
   "cell_type": "markdown",
   "id": "84242e90",
   "metadata": {},
   "source": [
    "$$ M=r F \\sin(\\beta)$$\n",
    "Kleinweinkelnäherung  $\\sin(\\beta)=1$:\n",
    "$$ M=r F\\\\ F=m \\cdot g$$  \n",
    "Für $ r $ nehmen wir die Länge bis zum Anfang der Schraube. (Längenskizze des Gyroskop"
   ]
  },
  {
   "cell_type": "code",
   "execution_count": 22,
   "id": "f0b82163",
   "metadata": {},
   "outputs": [],
   "source": [
    "def drehmoment(m,r,g):\n",
    "    d=m*r*g\n",
    "    return d"
   ]
  },
  {
   "cell_type": "code",
   "execution_count": 23,
   "id": "50ea18a2",
   "metadata": {},
   "outputs": [],
   "source": [
    "g=9.8130 \n",
    "u_g=0.0001\n",
    "g_err=ufloat(g,u_g)\n",
    "\n",
    "r_1=182.1/1000      # ohne Schraube, in Metern\n",
    "r_2=189.6/1000       # mit Schraube, in Metern\n",
    "\n",
    "h_m=2.5/100         # höhe der Massestücke, in Metern\n",
    "u_h=round(5e-6+10e-5*2.5e-3,6)   # Unsicherheit\n",
    "#print(u_h)\n",
    "\n",
    "r_h=r_2-h_m/2\n",
    "r_h_err=r_2-ufloat(h_m,u_h)/2"
   ]
  },
  {
   "cell_type": "code",
   "execution_count": 24,
   "id": "97ae1ced",
   "metadata": {
    "scrolled": true
   },
   "outputs": [
    {
     "name": "stdout",
     "output_type": "stream",
     "text": [
      "Drehmoment ohne und mit Fehler\n"
     ]
    },
    {
     "data": {
      "text/html": [
       "<div>\n",
       "<style scoped>\n",
       "    .dataframe tbody tr th:only-of-type {\n",
       "        vertical-align: middle;\n",
       "    }\n",
       "\n",
       "    .dataframe tbody tr th {\n",
       "        vertical-align: top;\n",
       "    }\n",
       "\n",
       "    .dataframe thead th {\n",
       "        text-align: right;\n",
       "    }\n",
       "</style>\n",
       "<table border=\"1\" class=\"dataframe\">\n",
       "  <thead>\n",
       "    <tr style=\"text-align: right;\">\n",
       "      <th></th>\n",
       "      <th>Ohne Fehler</th>\n",
       "      <th>mit Fehler</th>\n",
       "    </tr>\n",
       "  </thead>\n",
       "  <tbody>\n",
       "    <tr>\n",
       "      <th>0</th>\n",
       "      <td>0.086894</td>\n",
       "      <td>0.0868941+/-0.0000015</td>\n",
       "    </tr>\n",
       "    <tr>\n",
       "      <th>1</th>\n",
       "      <td>0.173788</td>\n",
       "      <td>0.1737882+/-0.0000030</td>\n",
       "    </tr>\n",
       "    <tr>\n",
       "      <th>2</th>\n",
       "      <td>0.260682</td>\n",
       "      <td>0.260682+/-0.000005</td>\n",
       "    </tr>\n",
       "    <tr>\n",
       "      <th>3</th>\n",
       "      <td>0.347576</td>\n",
       "      <td>0.347576+/-0.000006</td>\n",
       "    </tr>\n",
       "    <tr>\n",
       "      <th>4</th>\n",
       "      <td>0.434471</td>\n",
       "      <td>0.434471+/-0.000008</td>\n",
       "    </tr>\n",
       "    <tr>\n",
       "      <th>5</th>\n",
       "      <td>0.521365</td>\n",
       "      <td>0.521365+/-0.000009</td>\n",
       "    </tr>\n",
       "    <tr>\n",
       "      <th>6</th>\n",
       "      <td>0.608259</td>\n",
       "      <td>0.608259+/-0.000011</td>\n",
       "    </tr>\n",
       "    <tr>\n",
       "      <th>7</th>\n",
       "      <td>0.695153</td>\n",
       "      <td>0.695153+/-0.000012</td>\n",
       "    </tr>\n",
       "    <tr>\n",
       "      <th>8</th>\n",
       "      <td>0.782047</td>\n",
       "      <td>0.782047+/-0.000014</td>\n",
       "    </tr>\n",
       "    <tr>\n",
       "      <th>9</th>\n",
       "      <td>0.868941</td>\n",
       "      <td>0.868941+/-0.000015</td>\n",
       "    </tr>\n",
       "  </tbody>\n",
       "</table>\n",
       "</div>"
      ],
      "text/plain": [
       "   Ohne Fehler             mit Fehler\n",
       "0     0.086894  0.0868941+/-0.0000015\n",
       "1     0.173788  0.1737882+/-0.0000030\n",
       "2     0.260682    0.260682+/-0.000005\n",
       "3     0.347576    0.347576+/-0.000006\n",
       "4     0.434471    0.434471+/-0.000008\n",
       "5     0.521365    0.521365+/-0.000009\n",
       "6     0.608259    0.608259+/-0.000011\n",
       "7     0.695153    0.695153+/-0.000012\n",
       "8     0.782047    0.782047+/-0.000014\n",
       "9     0.868941    0.868941+/-0.000015"
      ]
     },
     "execution_count": 24,
     "metadata": {},
     "output_type": "execute_result"
    }
   ],
   "source": [
    "# ohne Fehler\n",
    "dm=drehmoment(m_1,r_h,g)\n",
    "\n",
    "# mit Fehler\n",
    "dm_err=drehmoment(m_1,r_h_err,g_err)\n",
    "\n",
    "\n",
    "dm_tab=pd.DataFrame({'Ohne Fehler':dm,'mit Fehler':dm_err})\n",
    "print('Drehmoment ohne und mit Fehler')\n",
    "dm_tab"
   ]
  },
  {
   "cell_type": "markdown",
   "id": "72084b4d",
   "metadata": {},
   "source": [
    "# T durch n teilen, Aufgabe 1"
   ]
  },
  {
   "cell_type": "code",
   "execution_count": 25,
   "id": "43a7e9f2",
   "metadata": {},
   "outputs": [
    {
     "name": "stdout",
     "output_type": "stream",
     "text": [
      "           T       err\n",
      "0  12.980000  0.613588\n",
      "1   6.490000  0.610938\n",
      "2   4.490000  0.610119\n",
      "3   3.490000  0.609709\n",
      "4   2.760000  0.203890\n",
      "5   2.583333  0.203818\n",
      "6   2.246667  0.203680\n",
      "7   2.516667  0.203790\n",
      "8   1.727500  0.152777\n",
      "9   1.427500  0.152655\n"
     ]
    },
    {
     "data": {
      "text/plain": [
       "array([10.81, 10.7 , 10.7 , 10.7 , 10.75, 10.8 , 10.8 , 10.8 , 10.8 ,\n",
       "       10.8 ])"
      ]
     },
     "execution_count": 25,
     "metadata": {},
     "output_type": "execute_result"
    }
   ],
   "source": [
    "T1=pd.DataFrame({'T':T_p_1,'err':T_p_1_err})\n",
    "print(T1)\n",
    "n_1"
   ]
  },
  {
   "cell_type": "code",
   "execution_count": 26,
   "id": "c666970b",
   "metadata": {
    "scrolled": true
   },
   "outputs": [
    {
     "data": {
      "text/html": [
       "<div>\n",
       "<style scoped>\n",
       "    .dataframe tbody tr th:only-of-type {\n",
       "        vertical-align: middle;\n",
       "    }\n",
       "\n",
       "    .dataframe tbody tr th {\n",
       "        vertical-align: top;\n",
       "    }\n",
       "\n",
       "    .dataframe thead th {\n",
       "        text-align: right;\n",
       "    }\n",
       "</style>\n",
       "<table border=\"1\" class=\"dataframe\">\n",
       "  <thead>\n",
       "    <tr style=\"text-align: right;\">\n",
       "      <th></th>\n",
       "      <th>ohne Fehler</th>\n",
       "      <th>mit Fehler</th>\n",
       "    </tr>\n",
       "  </thead>\n",
       "  <tbody>\n",
       "    <tr>\n",
       "      <th>0</th>\n",
       "      <td>1.200740</td>\n",
       "      <td>1.20+/-0.08</td>\n",
       "    </tr>\n",
       "    <tr>\n",
       "      <th>1</th>\n",
       "      <td>0.606542</td>\n",
       "      <td>0.61+/-0.06</td>\n",
       "    </tr>\n",
       "    <tr>\n",
       "      <th>2</th>\n",
       "      <td>0.419626</td>\n",
       "      <td>0.42+/-0.06</td>\n",
       "    </tr>\n",
       "    <tr>\n",
       "      <th>3</th>\n",
       "      <td>0.326168</td>\n",
       "      <td>0.33+/-0.06</td>\n",
       "    </tr>\n",
       "    <tr>\n",
       "      <th>4</th>\n",
       "      <td>0.256744</td>\n",
       "      <td>0.257+/-0.022</td>\n",
       "    </tr>\n",
       "    <tr>\n",
       "      <th>5</th>\n",
       "      <td>0.239198</td>\n",
       "      <td>0.239+/-0.022</td>\n",
       "    </tr>\n",
       "    <tr>\n",
       "      <th>6</th>\n",
       "      <td>0.208025</td>\n",
       "      <td>0.208+/-0.021</td>\n",
       "    </tr>\n",
       "    <tr>\n",
       "      <th>7</th>\n",
       "      <td>0.233025</td>\n",
       "      <td>0.233+/-0.021</td>\n",
       "    </tr>\n",
       "    <tr>\n",
       "      <th>8</th>\n",
       "      <td>0.159954</td>\n",
       "      <td>0.160+/-0.016</td>\n",
       "    </tr>\n",
       "    <tr>\n",
       "      <th>9</th>\n",
       "      <td>0.132176</td>\n",
       "      <td>0.132+/-0.015</td>\n",
       "    </tr>\n",
       "  </tbody>\n",
       "</table>\n",
       "</div>"
      ],
      "text/plain": [
       "   ohne Fehler     mit Fehler\n",
       "0     1.200740    1.20+/-0.08\n",
       "1     0.606542    0.61+/-0.06\n",
       "2     0.419626    0.42+/-0.06\n",
       "3     0.326168    0.33+/-0.06\n",
       "4     0.256744  0.257+/-0.022\n",
       "5     0.239198  0.239+/-0.022\n",
       "6     0.208025  0.208+/-0.021\n",
       "7     0.233025  0.233+/-0.021\n",
       "8     0.159954  0.160+/-0.016\n",
       "9     0.132176  0.132+/-0.015"
      ]
     },
     "execution_count": 26,
     "metadata": {},
     "output_type": "execute_result"
    }
   ],
   "source": [
    "T1_err=np.array([ufloat(13.0,0.6),\n",
    "                 ufloat(6.5,0.6),\n",
    "                 ufloat(4.5,0.6),\n",
    "                 ufloat(3.5,0.6),\n",
    "                 ufloat(2.76,0.20),\n",
    "                 ufloat(2.58,0.20),\n",
    "                 ufloat(2.25,0.20),\n",
    "                 ufloat(2.52,0.20),\n",
    "                 ufloat(1.73,0.15),\n",
    "                 ufloat(1.43,0.15)])\n",
    "n_1_err=np.array([ufloat(10.81,0.5),\n",
    "                 ufloat(10.7,0.5),\n",
    "                 ufloat(10.7,0.5),\n",
    "                 ufloat(10.7,0.5),\n",
    "                 ufloat(10.75,0.5),\n",
    "                 ufloat(10.8,0.5),\n",
    "                 ufloat(10.8,0.5),\n",
    "                 ufloat(10.8,0.5),\n",
    "                 ufloat(10.8,0.5),\n",
    "                 ufloat(10.8,0.5)])\n",
    "T_n_err=T1_err/n_1_err\n",
    "T_n=T_p_1/n_1\n",
    "T_n_tab=pd.DataFrame({'ohne Fehler':T_n,'mit Fehler':T_n_err})\n",
    "T_n_tab"
   ]
  },
  {
   "cell_type": "code",
   "execution_count": 27,
   "id": "b4f58f7a",
   "metadata": {},
   "outputs": [],
   "source": [
    "Tnerr=np.array([0.08,0.06,0.06,0.06,0.022,0.022,0.021,0.021,0.016,0.015])"
   ]
  },
  {
   "cell_type": "markdown",
   "id": "84338c9c",
   "metadata": {
    "tags": [],
    "toc-hr-collapsed": true
   },
   "source": [
    "# Regressionsparameter"
   ]
  },
  {
   "cell_type": "markdown",
   "id": "883732dc",
   "metadata": {},
   "source": [
    "## mit Scipy"
   ]
  },
  {
   "cell_type": "code",
   "execution_count": 28,
   "id": "1556d861",
   "metadata": {},
   "outputs": [
    {
     "name": "stdout",
     "output_type": "stream",
     "text": [
      "Steigung: a=0.101+/-0.007\n",
      "Achsenabschnitt: b=0.036+/-0.014\n"
     ]
    }
   ],
   "source": [
    "# Messreihe 1\n",
    "k=1/dm\n",
    "\n",
    "pop,cov=curve_fit(f,k,T_n,sigma=Tnerr)\n",
    "a_1_sp,b_1_sp=pop\n",
    "da_1_sp,db_1_sp=np.sqrt(np.diagonal(cov))\n",
    "#print(np.sqrt(cov[0][0]),np.sqrt(cov[1][1]))\n",
    "print(f'Steigung: a={ufloat(a_1_sp,da_1_sp)}')\n",
    "print(f'Achsenabschnitt: b={ufloat(b_1_sp,db_1_sp)}')\n"
   ]
  },
  {
   "cell_type": "code",
   "execution_count": 29,
   "id": "f0d77140",
   "metadata": {},
   "outputs": [
    {
     "name": "stdout",
     "output_type": "stream",
     "text": [
      "Steigung: a=0.243+/-0.016\n",
      "Achsenabschnitt: b=0.65+/-0.11\n"
     ]
    }
   ],
   "source": [
    "# Messreihe 2\n",
    "pop,cov=curve_fit(f,n_2,T_p_2,sigma=T_p_2_err)\n",
    "a_2_sp,b_2_sp=pop\n",
    "da_2_sp,db_2_sp=np.sqrt(np.diagonal(cov))\n",
    "#print(np.sqrt(cov[0][0]),np.sqrt(cov[1][1]))\n",
    "print(f'Steigung: a={ufloat(a_2_sp,da_2_sp)}')\n",
    "print(f'Achsenabschnitt: b={ufloat(b_2_sp,db_2_sp)}')"
   ]
  },
  {
   "cell_type": "code",
   "execution_count": 30,
   "id": "10b77be1",
   "metadata": {},
   "outputs": [
    {
     "name": "stdout",
     "output_type": "stream",
     "text": [
      "Steigung: a=1.9+/-0.5\n",
      "Achsenabschnitt: b=0.29+/-0.05\n"
     ]
    }
   ],
   "source": [
    "# Messreihe 3\n",
    "hh=1/n_3\n",
    "pop,cov=curve_fit(f,hh,diff_T,sigma=diff_t_err)\n",
    "a_3_sp,b_3_sp=pop\n",
    "da_3_sp,db_3_sp=np.sqrt(np.diagonal(cov))\n",
    "#print(np.sqrt(cov[0][0]),np.sqrt(cov[1][1]))\n",
    "print(f'Steigung: a={ufloat(a_3_sp,da_3_sp)}')\n",
    "print(f'Achsenabschnitt: b={ufloat(b_3_sp,db_3_sp)}')"
   ]
  },
  {
   "cell_type": "markdown",
   "id": "829df891",
   "metadata": {},
   "source": [
    "## mit statsmodels"
   ]
  },
  {
   "cell_type": "code",
   "execution_count": 31,
   "id": "eadd9f09",
   "metadata": {},
   "outputs": [
    {
     "name": "stderr",
     "output_type": "stream",
     "text": [
      "C:\\Users\\Ben Fliegener\\Miniconda3\\lib\\site-packages\\scipy\\stats\\stats.py:1535: UserWarning: kurtosistest only valid for n>=20 ... continuing anyway, n=10\n",
      "  \"anyway, n=%i\" % int(n))\n"
     ]
    },
    {
     "data": {
      "text/html": [
       "<table class=\"simpletable\">\n",
       "<caption>OLS Regression Results</caption>\n",
       "<tr>\n",
       "  <th>Dep. Variable:</th>            <td>y</td>        <th>  R-squared:         </th> <td>   0.996</td>\n",
       "</tr>\n",
       "<tr>\n",
       "  <th>Model:</th>                   <td>OLS</td>       <th>  Adj. R-squared:    </th> <td>   0.996</td>\n",
       "</tr>\n",
       "<tr>\n",
       "  <th>Method:</th>             <td>Least Squares</td>  <th>  F-statistic:       </th> <td>   1995.</td>\n",
       "</tr>\n",
       "<tr>\n",
       "  <th>Date:</th>             <td>Sat, 26 Jun 2021</td> <th>  Prob (F-statistic):</th> <td>6.96e-11</td>\n",
       "</tr>\n",
       "<tr>\n",
       "  <th>Time:</th>                 <td>11:50:24</td>     <th>  Log-Likelihood:    </th> <td>  1.5337</td>\n",
       "</tr>\n",
       "<tr>\n",
       "  <th>No. Observations:</th>      <td>    10</td>      <th>  AIC:               </th> <td>  0.9326</td>\n",
       "</tr>\n",
       "<tr>\n",
       "  <th>Df Residuals:</th>          <td>     8</td>      <th>  BIC:               </th> <td>   1.538</td>\n",
       "</tr>\n",
       "<tr>\n",
       "  <th>Df Model:</th>              <td>     1</td>      <th>                     </th>     <td> </td>   \n",
       "</tr>\n",
       "<tr>\n",
       "  <th>Covariance Type:</th>      <td>nonrobust</td>    <th>                     </th>     <td> </td>   \n",
       "</tr>\n",
       "</table>\n",
       "<table class=\"simpletable\">\n",
       "<tr>\n",
       "    <td></td>       <th>coef</th>     <th>std err</th>      <th>t</th>      <th>P>|t|</th>  <th>[0.025</th>    <th>0.975]</th>  \n",
       "</tr>\n",
       "<tr>\n",
       "  <th>const</th> <td>    0.4209</td> <td>    0.110</td> <td>    3.832</td> <td> 0.005</td> <td>    0.168</td> <td>    0.674</td>\n",
       "</tr>\n",
       "<tr>\n",
       "  <th>x1</th>    <td>    1.0829</td> <td>    0.024</td> <td>   44.670</td> <td> 0.000</td> <td>    1.027</td> <td>    1.139</td>\n",
       "</tr>\n",
       "</table>\n",
       "<table class=\"simpletable\">\n",
       "<tr>\n",
       "  <th>Omnibus:</th>       <td>11.284</td> <th>  Durbin-Watson:     </th> <td>   1.840</td>\n",
       "</tr>\n",
       "<tr>\n",
       "  <th>Prob(Omnibus):</th> <td> 0.004</td> <th>  Jarque-Bera (JB):  </th> <td>   5.070</td>\n",
       "</tr>\n",
       "<tr>\n",
       "  <th>Skew:</th>          <td> 1.503</td> <th>  Prob(JB):          </th> <td>  0.0793</td>\n",
       "</tr>\n",
       "<tr>\n",
       "  <th>Kurtosis:</th>      <td> 4.769</td> <th>  Cond. No.          </th> <td>    6.97</td>\n",
       "</tr>\n",
       "</table><br/><br/>Warnings:<br/>[1] Standard Errors assume that the covariance matrix of the errors is correctly specified."
      ],
      "text/plain": [
       "<class 'statsmodels.iolib.summary.Summary'>\n",
       "\"\"\"\n",
       "                            OLS Regression Results                            \n",
       "==============================================================================\n",
       "Dep. Variable:                      y   R-squared:                       0.996\n",
       "Model:                            OLS   Adj. R-squared:                  0.996\n",
       "Method:                 Least Squares   F-statistic:                     1995.\n",
       "Date:                Sat, 26 Jun 2021   Prob (F-statistic):           6.96e-11\n",
       "Time:                        11:50:24   Log-Likelihood:                 1.5337\n",
       "No. Observations:                  10   AIC:                            0.9326\n",
       "Df Residuals:                       8   BIC:                             1.538\n",
       "Df Model:                           1                                         \n",
       "Covariance Type:            nonrobust                                         \n",
       "==============================================================================\n",
       "                 coef    std err          t      P>|t|      [0.025      0.975]\n",
       "------------------------------------------------------------------------------\n",
       "const          0.4209      0.110      3.832      0.005       0.168       0.674\n",
       "x1             1.0829      0.024     44.670      0.000       1.027       1.139\n",
       "==============================================================================\n",
       "Omnibus:                       11.284   Durbin-Watson:                   1.840\n",
       "Prob(Omnibus):                  0.004   Jarque-Bera (JB):                5.070\n",
       "Skew:                           1.503   Prob(JB):                       0.0793\n",
       "Kurtosis:                       4.769   Cond. No.                         6.97\n",
       "==============================================================================\n",
       "\n",
       "Warnings:\n",
       "[1] Standard Errors assume that the covariance matrix of the errors is correctly specified.\n",
       "\"\"\""
      ]
     },
     "execution_count": 31,
     "metadata": {},
     "output_type": "execute_result"
    }
   ],
   "source": [
    "x=sm.add_constant(k)\n",
    "results=sm.OLS(T_p_1,x).fit()\n",
    "results.summary()"
   ]
  },
  {
   "cell_type": "code",
   "execution_count": 32,
   "id": "166d853e",
   "metadata": {},
   "outputs": [],
   "source": [
    "a_1_sm,da_1_sm=1.0371,0.023\n",
    "b_1_sm,db_1_sm=0.4209,0.110"
   ]
  },
  {
   "cell_type": "code",
   "execution_count": 33,
   "id": "e4cf8707",
   "metadata": {},
   "outputs": [
    {
     "data": {
      "text/html": [
       "<table class=\"simpletable\">\n",
       "<caption>OLS Regression Results</caption>\n",
       "<tr>\n",
       "  <th>Dep. Variable:</th>            <td>y</td>        <th>  R-squared:         </th> <td>   0.983</td>\n",
       "</tr>\n",
       "<tr>\n",
       "  <th>Model:</th>                   <td>OLS</td>       <th>  Adj. R-squared:    </th> <td>   0.981</td>\n",
       "</tr>\n",
       "<tr>\n",
       "  <th>Method:</th>             <td>Least Squares</td>  <th>  F-statistic:       </th> <td>   472.2</td>\n",
       "</tr>\n",
       "<tr>\n",
       "  <th>Date:</th>             <td>Sat, 26 Jun 2021</td> <th>  Prob (F-statistic):</th> <td>2.12e-08</td>\n",
       "</tr>\n",
       "<tr>\n",
       "  <th>Time:</th>                 <td>11:50:24</td>     <th>  Log-Likelihood:    </th> <td>  6.1177</td>\n",
       "</tr>\n",
       "<tr>\n",
       "  <th>No. Observations:</th>      <td>    10</td>      <th>  AIC:               </th> <td>  -8.235</td>\n",
       "</tr>\n",
       "<tr>\n",
       "  <th>Df Residuals:</th>          <td>     8</td>      <th>  BIC:               </th> <td>  -7.630</td>\n",
       "</tr>\n",
       "<tr>\n",
       "  <th>Df Model:</th>              <td>     1</td>      <th>                     </th>     <td> </td>   \n",
       "</tr>\n",
       "<tr>\n",
       "  <th>Covariance Type:</th>      <td>nonrobust</td>    <th>                     </th>     <td> </td>   \n",
       "</tr>\n",
       "</table>\n",
       "<table class=\"simpletable\">\n",
       "<tr>\n",
       "    <td></td>       <th>coef</th>     <th>std err</th>      <th>t</th>      <th>P>|t|</th>  <th>[0.025</th>    <th>0.975]</th>  \n",
       "</tr>\n",
       "<tr>\n",
       "  <th>const</th> <td>    0.3898</td> <td>    0.114</td> <td>    3.406</td> <td> 0.009</td> <td>    0.126</td> <td>    0.654</td>\n",
       "</tr>\n",
       "<tr>\n",
       "  <th>x1</th>    <td>    0.2751</td> <td>    0.013</td> <td>   21.729</td> <td> 0.000</td> <td>    0.246</td> <td>    0.304</td>\n",
       "</tr>\n",
       "</table>\n",
       "<table class=\"simpletable\">\n",
       "<tr>\n",
       "  <th>Omnibus:</th>       <td> 3.881</td> <th>  Durbin-Watson:     </th> <td>   0.955</td>\n",
       "</tr>\n",
       "<tr>\n",
       "  <th>Prob(Omnibus):</th> <td> 0.144</td> <th>  Jarque-Bera (JB):  </th> <td>   1.186</td>\n",
       "</tr>\n",
       "<tr>\n",
       "  <th>Skew:</th>          <td> 0.799</td> <th>  Prob(JB):          </th> <td>   0.553</td>\n",
       "</tr>\n",
       "<tr>\n",
       "  <th>Kurtosis:</th>      <td> 3.543</td> <th>  Cond. No.          </th> <td>    22.5</td>\n",
       "</tr>\n",
       "</table><br/><br/>Warnings:<br/>[1] Standard Errors assume that the covariance matrix of the errors is correctly specified."
      ],
      "text/plain": [
       "<class 'statsmodels.iolib.summary.Summary'>\n",
       "\"\"\"\n",
       "                            OLS Regression Results                            \n",
       "==============================================================================\n",
       "Dep. Variable:                      y   R-squared:                       0.983\n",
       "Model:                            OLS   Adj. R-squared:                  0.981\n",
       "Method:                 Least Squares   F-statistic:                     472.2\n",
       "Date:                Sat, 26 Jun 2021   Prob (F-statistic):           2.12e-08\n",
       "Time:                        11:50:24   Log-Likelihood:                 6.1177\n",
       "No. Observations:                  10   AIC:                            -8.235\n",
       "Df Residuals:                       8   BIC:                            -7.630\n",
       "Df Model:                           1                                         \n",
       "Covariance Type:            nonrobust                                         \n",
       "==============================================================================\n",
       "                 coef    std err          t      P>|t|      [0.025      0.975]\n",
       "------------------------------------------------------------------------------\n",
       "const          0.3898      0.114      3.406      0.009       0.126       0.654\n",
       "x1             0.2751      0.013     21.729      0.000       0.246       0.304\n",
       "==============================================================================\n",
       "Omnibus:                        3.881   Durbin-Watson:                   0.955\n",
       "Prob(Omnibus):                  0.144   Jarque-Bera (JB):                1.186\n",
       "Skew:                           0.799   Prob(JB):                        0.553\n",
       "Kurtosis:                       3.543   Cond. No.                         22.5\n",
       "==============================================================================\n",
       "\n",
       "Warnings:\n",
       "[1] Standard Errors assume that the covariance matrix of the errors is correctly specified.\n",
       "\"\"\""
      ]
     },
     "execution_count": 33,
     "metadata": {},
     "output_type": "execute_result"
    }
   ],
   "source": [
    "x=sm.add_constant(n_2)\n",
    "results=sm.OLS(T_p_2,x).fit()\n",
    "results.summary()"
   ]
  },
  {
   "cell_type": "code",
   "execution_count": 34,
   "id": "340119e4",
   "metadata": {},
   "outputs": [],
   "source": [
    "a_2_sm,da_2_sm=0.2751,0.013\n",
    "b_2_sm,db_2_sm=0.3898,0.114"
   ]
  },
  {
   "cell_type": "code",
   "execution_count": 35,
   "id": "f39a4c3a",
   "metadata": {},
   "outputs": [
    {
     "data": {
      "text/html": [
       "<table class=\"simpletable\">\n",
       "<caption>OLS Regression Results</caption>\n",
       "<tr>\n",
       "  <th>Dep. Variable:</th>            <td>y</td>        <th>  R-squared:         </th> <td>   0.734</td>\n",
       "</tr>\n",
       "<tr>\n",
       "  <th>Model:</th>                   <td>OLS</td>       <th>  Adj. R-squared:    </th> <td>   0.701</td>\n",
       "</tr>\n",
       "<tr>\n",
       "  <th>Method:</th>             <td>Least Squares</td>  <th>  F-statistic:       </th> <td>   22.13</td>\n",
       "</tr>\n",
       "<tr>\n",
       "  <th>Date:</th>             <td>Sat, 26 Jun 2021</td> <th>  Prob (F-statistic):</th>  <td>0.00153</td>\n",
       "</tr>\n",
       "<tr>\n",
       "  <th>Time:</th>                 <td>11:50:24</td>     <th>  Log-Likelihood:    </th> <td>  16.167</td>\n",
       "</tr>\n",
       "<tr>\n",
       "  <th>No. Observations:</th>      <td>    10</td>      <th>  AIC:               </th> <td>  -28.33</td>\n",
       "</tr>\n",
       "<tr>\n",
       "  <th>Df Residuals:</th>          <td>     8</td>      <th>  BIC:               </th> <td>  -27.73</td>\n",
       "</tr>\n",
       "<tr>\n",
       "  <th>Df Model:</th>              <td>     1</td>      <th>                     </th>     <td> </td>   \n",
       "</tr>\n",
       "<tr>\n",
       "  <th>Covariance Type:</th>      <td>nonrobust</td>    <th>                     </th>     <td> </td>   \n",
       "</tr>\n",
       "</table>\n",
       "<table class=\"simpletable\">\n",
       "<tr>\n",
       "    <td></td>       <th>coef</th>     <th>std err</th>      <th>t</th>      <th>P>|t|</th>  <th>[0.025</th>    <th>0.975]</th>  \n",
       "</tr>\n",
       "<tr>\n",
       "  <th>const</th> <td>    0.2605</td> <td>    0.051</td> <td>    5.120</td> <td> 0.001</td> <td>    0.143</td> <td>    0.378</td>\n",
       "</tr>\n",
       "<tr>\n",
       "  <th>x1</th>    <td>    2.0430</td> <td>    0.434</td> <td>    4.704</td> <td> 0.002</td> <td>    1.042</td> <td>    3.045</td>\n",
       "</tr>\n",
       "</table>\n",
       "<table class=\"simpletable\">\n",
       "<tr>\n",
       "  <th>Omnibus:</th>       <td> 0.446</td> <th>  Durbin-Watson:     </th> <td>   2.737</td>\n",
       "</tr>\n",
       "<tr>\n",
       "  <th>Prob(Omnibus):</th> <td> 0.800</td> <th>  Jarque-Bera (JB):  </th> <td>   0.489</td>\n",
       "</tr>\n",
       "<tr>\n",
       "  <th>Skew:</th>          <td>-0.154</td> <th>  Prob(JB):          </th> <td>   0.783</td>\n",
       "</tr>\n",
       "<tr>\n",
       "  <th>Kurtosis:</th>      <td> 1.961</td> <th>  Cond. No.          </th> <td>    25.9</td>\n",
       "</tr>\n",
       "</table><br/><br/>Warnings:<br/>[1] Standard Errors assume that the covariance matrix of the errors is correctly specified."
      ],
      "text/plain": [
       "<class 'statsmodels.iolib.summary.Summary'>\n",
       "\"\"\"\n",
       "                            OLS Regression Results                            \n",
       "==============================================================================\n",
       "Dep. Variable:                      y   R-squared:                       0.734\n",
       "Model:                            OLS   Adj. R-squared:                  0.701\n",
       "Method:                 Least Squares   F-statistic:                     22.13\n",
       "Date:                Sat, 26 Jun 2021   Prob (F-statistic):            0.00153\n",
       "Time:                        11:50:24   Log-Likelihood:                 16.167\n",
       "No. Observations:                  10   AIC:                            -28.33\n",
       "Df Residuals:                       8   BIC:                            -27.73\n",
       "Df Model:                           1                                         \n",
       "Covariance Type:            nonrobust                                         \n",
       "==============================================================================\n",
       "                 coef    std err          t      P>|t|      [0.025      0.975]\n",
       "------------------------------------------------------------------------------\n",
       "const          0.2605      0.051      5.120      0.001       0.143       0.378\n",
       "x1             2.0430      0.434      4.704      0.002       1.042       3.045\n",
       "==============================================================================\n",
       "Omnibus:                        0.446   Durbin-Watson:                   2.737\n",
       "Prob(Omnibus):                  0.800   Jarque-Bera (JB):                0.489\n",
       "Skew:                          -0.154   Prob(JB):                        0.783\n",
       "Kurtosis:                       1.961   Cond. No.                         25.9\n",
       "==============================================================================\n",
       "\n",
       "Warnings:\n",
       "[1] Standard Errors assume that the covariance matrix of the errors is correctly specified.\n",
       "\"\"\""
      ]
     },
     "execution_count": 35,
     "metadata": {},
     "output_type": "execute_result"
    }
   ],
   "source": [
    "x3=sm.add_constant(hh)\n",
    "results=sm.OLS(diff_T,x3).fit()\n",
    "results.summary()"
   ]
  },
  {
   "cell_type": "code",
   "execution_count": 36,
   "id": "3c282010",
   "metadata": {},
   "outputs": [],
   "source": [
    "a_3_sm,da_3_sm=2.0430,0.434\n",
    "b_3_sm,db_3_sm=0.2605,0.51"
   ]
  },
  {
   "cell_type": "markdown",
   "id": "cd279dc2",
   "metadata": {},
   "source": [
    "## Fitparameter in Tabellenform"
   ]
  },
  {
   "cell_type": "code",
   "execution_count": 37,
   "id": "0f059e8b",
   "metadata": {},
   "outputs": [
    {
     "data": {
      "text/html": [
       "<div>\n",
       "<style scoped>\n",
       "    .dataframe tbody tr th:only-of-type {\n",
       "        vertical-align: middle;\n",
       "    }\n",
       "\n",
       "    .dataframe tbody tr th {\n",
       "        vertical-align: top;\n",
       "    }\n",
       "\n",
       "    .dataframe thead th {\n",
       "        text-align: right;\n",
       "    }\n",
       "</style>\n",
       "<table border=\"1\" class=\"dataframe\">\n",
       "  <thead>\n",
       "    <tr style=\"text-align: right;\">\n",
       "      <th></th>\n",
       "      <th>sp</th>\n",
       "      <th>sp Fehler</th>\n",
       "      <th>sm</th>\n",
       "      <th>sm Fehler</th>\n",
       "    </tr>\n",
       "  </thead>\n",
       "  <tbody>\n",
       "    <tr>\n",
       "      <th>a_1</th>\n",
       "      <td>0.101196</td>\n",
       "      <td>0.006630</td>\n",
       "      <td>1.0371</td>\n",
       "      <td>0.023</td>\n",
       "    </tr>\n",
       "    <tr>\n",
       "      <th>b_1</th>\n",
       "      <td>0.036386</td>\n",
       "      <td>0.013792</td>\n",
       "      <td>0.4209</td>\n",
       "      <td>0.110</td>\n",
       "    </tr>\n",
       "    <tr>\n",
       "      <th>a_2</th>\n",
       "      <td>0.242660</td>\n",
       "      <td>0.015591</td>\n",
       "      <td>0.2751</td>\n",
       "      <td>0.013</td>\n",
       "    </tr>\n",
       "    <tr>\n",
       "      <th>b_2</th>\n",
       "      <td>0.654388</td>\n",
       "      <td>0.108287</td>\n",
       "      <td>0.3898</td>\n",
       "      <td>0.114</td>\n",
       "    </tr>\n",
       "    <tr>\n",
       "      <th>a_3</th>\n",
       "      <td>1.890909</td>\n",
       "      <td>0.483718</td>\n",
       "      <td>2.0430</td>\n",
       "      <td>0.434</td>\n",
       "    </tr>\n",
       "    <tr>\n",
       "      <th>b_3</th>\n",
       "      <td>0.290464</td>\n",
       "      <td>0.049621</td>\n",
       "      <td>0.2605</td>\n",
       "      <td>0.510</td>\n",
       "    </tr>\n",
       "  </tbody>\n",
       "</table>\n",
       "</div>"
      ],
      "text/plain": [
       "           sp  sp Fehler      sm  sm Fehler\n",
       "a_1  0.101196   0.006630  1.0371      0.023\n",
       "b_1  0.036386   0.013792  0.4209      0.110\n",
       "a_2  0.242660   0.015591  0.2751      0.013\n",
       "b_2  0.654388   0.108287  0.3898      0.114\n",
       "a_3  1.890909   0.483718  2.0430      0.434\n",
       "b_3  0.290464   0.049621  0.2605      0.510"
      ]
     },
     "execution_count": 37,
     "metadata": {},
     "output_type": "execute_result"
    }
   ],
   "source": [
    "fit_tab=pd.DataFrame({'sp':[a_1_sp,b_1_sp,a_2_sp,b_2_sp,a_3_sp,b_3_sp],\n",
    "                      'sp Fehler':[da_1_sp,db_1_sp,da_2_sp,db_2_sp,da_3_sp,db_3_sp],\n",
    "                     'sm':[a_1_sm,b_1_sm,a_2_sm,b_2_sm,a_3_sm,b_3_sm],\n",
    "                      'sm Fehler':[da_1_sm,db_1_sm,da_2_sm,db_2_sm,da_3_sm,db_3_sm]},\n",
    "                     index=['a_1','b_1','a_2','b_2','a_3','b_3'])\n",
    "fit_tab"
   ]
  },
  {
   "cell_type": "markdown",
   "id": "87c252c9",
   "metadata": {},
   "source": [
    "# Fehler\n",
    "Auf die Fehlerangabe der Masse verzichten wir, weil sie zu gering ist"
   ]
  },
  {
   "cell_type": "code",
   "execution_count": 38,
   "id": "74cf27dd",
   "metadata": {},
   "outputs": [
    {
     "data": {
      "text/html": [
       "<div>\n",
       "<style scoped>\n",
       "    .dataframe tbody tr th:only-of-type {\n",
       "        vertical-align: middle;\n",
       "    }\n",
       "\n",
       "    .dataframe tbody tr th {\n",
       "        vertical-align: top;\n",
       "    }\n",
       "\n",
       "    .dataframe thead th {\n",
       "        text-align: right;\n",
       "    }\n",
       "</style>\n",
       "<table border=\"1\" class=\"dataframe\">\n",
       "  <thead>\n",
       "    <tr style=\"text-align: right;\">\n",
       "      <th></th>\n",
       "      <th>Tp 1</th>\n",
       "      <th>err 1</th>\n",
       "      <th>Tp 2</th>\n",
       "      <th>err 2</th>\n",
       "    </tr>\n",
       "  </thead>\n",
       "  <tbody>\n",
       "    <tr>\n",
       "      <th>0</th>\n",
       "      <td>12.980000</td>\n",
       "      <td>0.613588</td>\n",
       "      <td>1.434</td>\n",
       "      <td>0.061414</td>\n",
       "    </tr>\n",
       "    <tr>\n",
       "      <th>1</th>\n",
       "      <td>6.490000</td>\n",
       "      <td>0.610938</td>\n",
       "      <td>1.582</td>\n",
       "      <td>0.122304</td>\n",
       "    </tr>\n",
       "    <tr>\n",
       "      <th>2</th>\n",
       "      <td>4.490000</td>\n",
       "      <td>0.610119</td>\n",
       "      <td>1.560</td>\n",
       "      <td>0.122295</td>\n",
       "    </tr>\n",
       "    <tr>\n",
       "      <th>3</th>\n",
       "      <td>3.490000</td>\n",
       "      <td>0.609709</td>\n",
       "      <td>1.912</td>\n",
       "      <td>0.122439</td>\n",
       "    </tr>\n",
       "    <tr>\n",
       "      <th>4</th>\n",
       "      <td>2.760000</td>\n",
       "      <td>0.203890</td>\n",
       "      <td>2.494</td>\n",
       "      <td>0.122676</td>\n",
       "    </tr>\n",
       "    <tr>\n",
       "      <th>5</th>\n",
       "      <td>2.583333</td>\n",
       "      <td>0.203818</td>\n",
       "      <td>2.682</td>\n",
       "      <td>0.122753</td>\n",
       "    </tr>\n",
       "    <tr>\n",
       "      <th>6</th>\n",
       "      <td>2.246667</td>\n",
       "      <td>0.203680</td>\n",
       "      <td>3.066</td>\n",
       "      <td>0.122909</td>\n",
       "    </tr>\n",
       "    <tr>\n",
       "      <th>7</th>\n",
       "      <td>2.516667</td>\n",
       "      <td>0.203790</td>\n",
       "      <td>3.418</td>\n",
       "      <td>0.123052</td>\n",
       "    </tr>\n",
       "    <tr>\n",
       "      <th>8</th>\n",
       "      <td>1.727500</td>\n",
       "      <td>0.152777</td>\n",
       "      <td>3.990</td>\n",
       "      <td>0.204392</td>\n",
       "    </tr>\n",
       "    <tr>\n",
       "      <th>9</th>\n",
       "      <td>1.427500</td>\n",
       "      <td>0.152655</td>\n",
       "      <td>4.495</td>\n",
       "      <td>0.305980</td>\n",
       "    </tr>\n",
       "  </tbody>\n",
       "</table>\n",
       "</div>"
      ],
      "text/plain": [
       "        Tp 1     err 1   Tp 2     err 2\n",
       "0  12.980000  0.613588  1.434  0.061414\n",
       "1   6.490000  0.610938  1.582  0.122304\n",
       "2   4.490000  0.610119  1.560  0.122295\n",
       "3   3.490000  0.609709  1.912  0.122439\n",
       "4   2.760000  0.203890  2.494  0.122676\n",
       "5   2.583333  0.203818  2.682  0.122753\n",
       "6   2.246667  0.203680  3.066  0.122909\n",
       "7   2.516667  0.203790  3.418  0.123052\n",
       "8   1.727500  0.152777  3.990  0.204392\n",
       "9   1.427500  0.152655  4.495  0.305980"
      ]
     },
     "execution_count": 38,
     "metadata": {},
     "output_type": "execute_result"
    }
   ],
   "source": [
    "Fehler_tabelle=pd.DataFrame({'Tp 1':T_p_1,'err 1':T_p_1_err,'Tp 2':T_p_2,'err 2':T_p_2_err})\n",
    "Fehler_tabelle"
   ]
  },
  {
   "cell_type": "markdown",
   "id": "0d4a5cac",
   "metadata": {},
   "source": [
    "# Plots"
   ]
  },
  {
   "cell_type": "code",
   "execution_count": 39,
   "id": "bb4331e9",
   "metadata": {},
   "outputs": [
    {
     "data": {
      "image/png": "[encoded data removed]",
      "text/plain": [
       "<Figure size 432x288 with 1 Axes>"
      ]
     },
     "metadata": {
      "needs_background": "light"
     },
     "output_type": "display_data"
    }
   ],
   "source": [
    "fig=plt.figure()\n",
    "m=np.linspace(1,12.5,500)\n",
    "# print(1/m)\n",
    "\n",
    "\n",
    "x=1/dm\n",
    "\n",
    "\n",
    "plt.errorbar(x,T_n,yerr=Tnerr,capsize=4,fmt='.',label='Messpunkte')\n",
    "plt.plot(m,f(m,a_1_sp,b_1_sp),label='Fitgerade: a 1/M+b')\n",
    "#plt.plot(m,f(m,a_1_sm,b_1_sm),label='Fitgerade, gewichtet, mit statsmodels')\n",
    "plt.xlabel('Drehmoment [N$^{-1}$m$^{-1}$]')\n",
    "plt.ylabel(r' $\\frac{T_{p}}{n}$ [s$^{2}$]')\n",
    "plt.xticks(np.arange(1,12.5,step=5.5))\n",
    "plt.yticks(np.arange(0.1,1.4,step=0.6))\n",
    "plt.grid()\n",
    "plt.legend()\n",
    "fig.savefig('A1.png',dpi=600)\n",
    "\n",
    "# print(1/m_1)\n",
    "# print((T_p_1[1:]))"
   ]
  },
  {
   "cell_type": "code",
   "execution_count": 40,
   "id": "83500c1e",
   "metadata": {
    "scrolled": true
   },
   "outputs": [
    {
     "data": {
      "image/png": "[encoded data removed]",
      "text/plain": [
       "<Figure size 432x288 with 1 Axes>"
      ]
     },
     "metadata": {
      "needs_background": "light"
     },
     "output_type": "display_data"
    }
   ],
   "source": [
    "fig=plt.figure()\n",
    "x2=np.linspace(2,15,100)\n",
    "\n",
    "plt.errorbar(n_2,T_p_2,yerr=T_p_2_err,fmt='.',capsize=4,label='Messwerte')\n",
    "plt.plot(x2,f(x2,a_2_sp,b_2_sp),label=f'Fitgerade: a n+b')\n",
    "plt.xlabel('Kreisdrehzahl $n$ [s$^{-1}$]')\n",
    "plt.ylabel('$T_{p}$ [s]')\n",
    "plt.xticks(np.arange(2,15.1,step=6.5))\n",
    "plt.yticks(np.arange(1.5,4.6,step=1.5))\n",
    "plt.grid()\n",
    "plt.legend()\n",
    "\n",
    "fig.savefig('A2.png',dpi=600)"
   ]
  },
  {
   "cell_type": "code",
   "execution_count": 41,
   "id": "fe9ec25f",
   "metadata": {},
   "outputs": [
    {
     "data": {
      "text/plain": [
       "Text(0.0, 0.8, 'Test')"
      ]
     },
     "execution_count": 41,
     "metadata": {},
     "output_type": "execute_result"
    },
    {
     "data": {
      "image/png": "[encoded data removed]",
      "text/plain": [
       "<Figure size 432x288 with 1 Axes>"
      ]
     },
     "metadata": {
      "needs_background": "light"
     },
     "output_type": "display_data"
    }
   ],
   "source": [
    "fig=plt.figure()\n",
    "ax=fig.add_subplot(1,1,1)\n",
    "ax.errorbar(hh,diff_T,yerr=diff_t_err,fmt='.',capsize=4,label='Messwerte')\n",
    "ax.plot(hh,f(hh,a_3_sp,b_3_sp),label='Fitgerade, gewichtet')\n",
    "ax.plot([],[],'w.',label=f'a={a_3_sm}')\n",
    "ax.set_xlabel('Kreisdrehzahl $n$ [s]')\n",
    "ax.set_ylabel('$T_{p}$ [s]')\n",
    "ax.set_xticks(np.arange(0.06,0.2,step=0.06))\n",
    "ax.set_yticks(np.arange(0.3,0.66,step=0.15))\n",
    "ax.grid()\n",
    "ax.legend()\n",
    "ax.text(0.0, 0.8, 'Test', transform=ax.transAxes)\n",
    "#fig.savefig('A3.png',dpi=600)"
   ]
  },
  {
   "cell_type": "code",
   "execution_count": 42,
   "id": "f13dcf4c",
   "metadata": {},
   "outputs": [
    {
     "name": "stdout",
     "output_type": "stream",
     "text": [
      "Steigung: a=2.3+/-0.8\n",
      "Achsenabschnitt: b=0.22+/-0.09\n"
     ]
    }
   ],
   "source": [
    "h3_1=1/n_3_1\n",
    "pop,cov=curve_fit(f,h3_1,Tn_1)# ,sigma=dt_err\n",
    "a_3_1,b_3_1=pop\n",
    "da_3_1,db_3_1=np.sqrt(np.diagonal(cov))\n",
    "#print(np.sqrt(cov[0][0]),np.sqrt(cov[1][1]))\n",
    "print(f'Steigung: a={ufloat(a_3_1,da_3_1)}')\n",
    "print(f'Achsenabschnitt: b={ufloat(b_3_1,db_3_1)}')"
   ]
  },
  {
   "cell_type": "code",
   "execution_count": 43,
   "id": "da51f6d8",
   "metadata": {},
   "outputs": [
    {
     "name": "stdout",
     "output_type": "stream",
     "text": [
      "[0.10143470806385751, 0.10143470806385751, 0.10283968105745954, 0.10178899744078435, 0.10160708636704431, 0.10160708636704431, 0.10160708636704431, 0.1044030650891055, 0.10261091559868278, 0.1077032961426901]\n"
     ]
    },
    {
     "data": {
      "text/plain": [
       "array([0.2, 0.2, 0.2, 0.2, 0.2, 0.2, 0.2, 0.2, 0.2, 0.2])"
      ]
     },
     "execution_count": 43,
     "metadata": {},
     "output_type": "execute_result"
    }
   ],
   "source": [
    "for i in range(len(dt_err)):\n",
    "    dt_err[i]=np.sqrt(dt_err[i]**2+0.1**2)\n",
    "print(dt_err)\n",
    "for i in range(10):\n",
    "    n_err[i]=0.2\n",
    "n_err"
   ]
  },
  {
   "cell_type": "code",
   "execution_count": 44,
   "id": "ff241f1f",
   "metadata": {},
   "outputs": [
    {
     "name": "stdout",
     "output_type": "stream",
     "text": [
      "2.323406704745462 0.7576874777262365 0.21739396541093128 0.08877444605773799\n"
     ]
    },
    {
     "data": {
      "image/png": "[encoded data removed]",
      "text/plain": [
       "<Figure size 432x288 with 1 Axes>"
      ]
     },
     "metadata": {
      "needs_background": "light"
     },
     "output_type": "display_data"
    }
   ],
   "source": [
    "fig=plt.figure()\n",
    "h3_1=1/n_3_1\n",
    "print(a_3_1,da_3_1,b_3_1,db_3_1)\n",
    "plt.errorbar(h3_1,Tn_1,yerr=dt_err,fmt='.',capsize=4,label='Messwerte')\n",
    "plt.plot(h3_1,f(h3_1,a_3_1,b_3_1),label='Fitgerade, ungewichtet')\n",
    "plt.xlabel('Kreisdrehzahl $n$ [s]')\n",
    "plt.ylabel('$T_{p}$ [s]')\n",
    "plt.xticks(np.arange(0.06,0.21,step=0.07))\n",
    "plt.yticks(np.arange(0.2,0.76,step=0.25))\n",
    "plt.grid()\n",
    "plt.legend()\n",
    "fig.savefig('A3_2.png',dpi=600)"
   ]
  },
  {
   "cell_type": "markdown",
   "id": "5b57f376",
   "metadata": {},
   "source": [
    "# $\\chi^2$ für alle Messreihen"
   ]
  },
  {
   "cell_type": "code",
   "execution_count": 45,
   "id": "2864dd98",
   "metadata": {},
   "outputs": [
    {
     "data": {
      "text/html": [
       "<div>\n",
       "<style scoped>\n",
       "    .dataframe tbody tr th:only-of-type {\n",
       "        vertical-align: middle;\n",
       "    }\n",
       "\n",
       "    .dataframe tbody tr th {\n",
       "        vertical-align: top;\n",
       "    }\n",
       "\n",
       "    .dataframe thead th {\n",
       "        text-align: right;\n",
       "    }\n",
       "</style>\n",
       "<table border=\"1\" class=\"dataframe\">\n",
       "  <thead>\n",
       "    <tr style=\"text-align: right;\">\n",
       "      <th></th>\n",
       "      <th>Messreihe 1</th>\n",
       "      <th>Messreihe 2</th>\n",
       "      <th>Messreihe 3</th>\n",
       "    </tr>\n",
       "  </thead>\n",
       "  <tbody>\n",
       "    <tr>\n",
       "      <th>$\\chi^{2}$</th>\n",
       "      <td>0.31</td>\n",
       "      <td>0.49</td>\n",
       "      <td>0.04</td>\n",
       "    </tr>\n",
       "  </tbody>\n",
       "</table>\n",
       "</div>"
      ],
      "text/plain": [
       "            Messreihe 1  Messreihe 2  Messreihe 3\n",
       "$\\chi^{2}$         0.31         0.49         0.04"
      ]
     },
     "execution_count": 45,
     "metadata": {},
     "output_type": "execute_result"
    }
   ],
   "source": [
    "# reduziertes chi quadrat\n",
    "chi_sq_M1=round(stats.chisquare(T_n)[0]/(len(T_p_2)-2),2)\n",
    "chi_sq_M2=round(stats.chisquare(T_p_2)[0]/(len(T_p_2)-2),2)\n",
    "chi_sq_M3=round(stats.chisquare(diff_T)[0]/(len(B)-2),2)\n",
    "chi_sq_M3=round(stats.chisquare(Tn_1)[0]/(len(Tn_1)-2),2)\n",
    "# print(f'Reduziertes Chi Quadrat der ersten Messreihe: \\n{chi_sq_M1}\\n\\n')\n",
    "# print(f'Reduziertes Chi Quadrat der zweiten Messreihe: \\n{chi_sq_M2}\\n\\n')\n",
    "chi_tab=pd.DataFrame({'Messreihe 1':[chi_sq_M1],'Messreihe 2':[chi_sq_M2],'Messreihe 3':[chi_sq_M3]},index=[r'$\\chi^{2}$'])\n",
    "chi_tab"
   ]
  },
  {
   "cell_type": "code",
   "execution_count": 46,
   "id": "4d8108d7",
   "metadata": {},
   "outputs": [
    {
     "data": {
      "text/plain": [
       "0.21988778205467396"
      ]
     },
     "execution_count": 46,
     "metadata": {},
     "output_type": "execute_result"
    }
   ],
   "source": [
    "Zähler=(Tn_1-f(h3_1,a_3_1,b_3_1))**2\n",
    "Nenner=np.sqrt(dt_err)\n",
    "test=Zähler/Nenner\n",
    "test=test.sum()\n",
    "test"
   ]
  },
  {
   "cell_type": "code",
   "execution_count": 47,
   "id": "6bb37d65",
   "metadata": {},
   "outputs": [
    {
     "data": {
      "text/plain": [
       "0.027485972756834245"
      ]
     },
     "execution_count": 47,
     "metadata": {},
     "output_type": "execute_result"
    }
   ],
   "source": [
    "test/(len(dt_err)-2)"
   ]
  },
  {
   "cell_type": "markdown",
   "id": "c07a3697",
   "metadata": {},
   "source": [
    "# Berechnung von $J_x$"
   ]
  },
  {
   "cell_type": "markdown",
   "id": "f48be864",
   "metadata": {},
   "source": [
    "Formel:\n",
    "$$ T_p=\\frac{4 \\pi^2 J_x n}{M} $$\n",
    "$M $: Drehmoment  \n",
    "$J_x$: Hauptträgheitsmoment  \n",
    "$n$: Kreisdrehzahl"
   ]
  },
  {
   "cell_type": "markdown",
   "id": "06bb66cc",
   "metadata": {},
   "source": [
    "## Aufgabe 1"
   ]
  },
  {
   "cell_type": "code",
   "execution_count": 48,
   "id": "90a666ae",
   "metadata": {},
   "outputs": [
    {
     "name": "stdout",
     "output_type": "stream",
     "text": [
      "10.766+/-0.016\n"
     ]
    }
   ],
   "source": [
    "def J_x_a1(a,n):\n",
    "    J=a/(4*np.pi**2*n)\n",
    "    return J\n",
    "n_1_err=np.array([ufloat(10.81,0.05),\n",
    "                 ufloat(10.7,0.05),\n",
    "                 ufloat(10.7,0.05),\n",
    "                 ufloat(10.7,0.05),\n",
    "                 ufloat(10.75,0.05),\n",
    "                 ufloat(10.8,0.05),\n",
    "                 ufloat(10.8,0.05),\n",
    "                 ufloat(10.8,0.05),\n",
    "                 ufloat(10.8,0.05),\n",
    "                 ufloat(10.8,0.05)])\n",
    "N_1_err=n_1_err.mean()\n",
    "print(N_1_err)\n",
    "N_1=n_1.mean()\n",
    "\n",
    "a_1_sp_err=ufloat(a_1_sp,da_1_sp)"
   ]
  },
  {
   "cell_type": "code",
   "execution_count": 49,
   "id": "4d8c9168",
   "metadata": {},
   "outputs": [
    {
     "name": "stdout",
     "output_type": "stream",
     "text": [
      "0.0025633185340430188\n",
      "0.00256+/-0.00017\n"
     ]
    }
   ],
   "source": [
    "def J(a):\n",
    "    J=a/(4*np.pi**2)\n",
    "    return J\n",
    "\n",
    "a=J(a_1_sp)\n",
    "a_err=J(a_1_sp_err)\n",
    "\n",
    "print(a)\n",
    "print(a_err)"
   ]
  },
  {
   "cell_type": "code",
   "execution_count": 50,
   "id": "fac8e244",
   "metadata": {},
   "outputs": [
    {
     "name": "stdout",
     "output_type": "stream",
     "text": [
      "0.0025633185340430188\n",
      "0.00256+/-0.00017\n"
     ]
    }
   ],
   "source": [
    "# mit sp\n",
    "# Ohne Fehler:\n",
    "J_x_A1=J(a_1_sp)  #\n",
    "\n",
    "\n",
    "# mit Fehler\n",
    "J_x_A1_err=J(a_1_sp_err)\n",
    "\n",
    "print(J_x_A1)\n",
    "print(J_x_A1_err)"
   ]
  },
  {
   "cell_type": "code",
   "execution_count": 51,
   "id": "624ee2bc",
   "metadata": {},
   "outputs": [
    {
     "name": "stdout",
     "output_type": "stream",
     "text": [
      "0.0025633185340430188\n",
      "0.00256+/-0.00017\n"
     ]
    }
   ],
   "source": [
    "# mit sm\n",
    "# Ohne Fehler:\n",
    "J_x_A1=J(a_1_sp)\n",
    "\n",
    "a_1_sp_err=ufloat(a_1_sp,da_1_sp)\n",
    "# mit Fehler\n",
    "J_x_A1_err=J(a_1_sp_err)\n",
    "\n",
    "print(J_x_A1)\n",
    "print(J_x_A1_err)"
   ]
  },
  {
   "cell_type": "markdown",
   "id": "657ef55b",
   "metadata": {},
   "source": [
    "## Aufgabe 2"
   ]
  },
  {
   "cell_type": "code",
   "execution_count": 52,
   "id": "1960aaef",
   "metadata": {},
   "outputs": [],
   "source": [
    "def Jx_A2(a,r,m,g):\n",
    "    J=a*r*m*g/(4*np.pi**2)\n",
    "    return J"
   ]
  },
  {
   "cell_type": "code",
   "execution_count": 53,
   "id": "dc8b8c6d",
   "metadata": {},
   "outputs": [
    {
     "name": "stdout",
     "output_type": "stream",
     "text": [
      "0.0021364303827116882\n",
      "0.00214+/-0.00014\n"
     ]
    }
   ],
   "source": [
    "# mit Scipy\n",
    "J_x_A2=Jx_A2(a_2_sp,r_h,0.2,g)\n",
    "print(J_x_A2)\n",
    "J_x_A2_err=Jx_A2(ufloat(a_2_sp,da_2_sp),r_h_err,0.2,g_err)\n",
    "print(J_x_A2_err)"
   ]
  },
  {
   "cell_type": "code",
   "execution_count": 54,
   "id": "12829593",
   "metadata": {},
   "outputs": [
    {
     "name": "stdout",
     "output_type": "stream",
     "text": [
      "0.0024220394318805252\n",
      "0.00242+/-0.00011\n"
     ]
    }
   ],
   "source": [
    "# Mit sm\n",
    "J_x_A2_sm=Jx_A2(a_2_sm,r_h,0.2,g)\n",
    "print(J_x_A2_sm)\n",
    "J_x_A2_sm_err=Jx_A2(ufloat(a_2_sm,da_2_sm),r_h_err,0.2,g_err)\n",
    "print(J_x_A2_sm_err)"
   ]
  },
  {
   "cell_type": "markdown",
   "id": "4c1063b5",
   "metadata": {},
   "source": [
    "# gewichtetes Mittel von $J_x$"
   ]
  },
  {
   "cell_type": "code",
   "execution_count": 55,
   "id": "6e32c8b6",
   "metadata": {},
   "outputs": [
    {
     "name": "stdout",
     "output_type": "stream",
     "text": [
      "0.002365120463782044\n",
      "0.00237+/-0.00010\n"
     ]
    }
   ],
   "source": [
    "Mitteln=np.array([J_x_A1 ,J_x_A2])\n",
    "weights=np.array([15e-5,13e-5])\n",
    "mittel_gew=np.average(Mitteln,weights=weights)\n",
    "print(mittel_gew)\n",
    "mit_gew_err=ufloat(mittel_gew,10e-5)\n",
    "print(mit_gew_err)"
   ]
  },
  {
   "cell_type": "code",
   "execution_count": 56,
   "id": "f063e47a",
   "metadata": {
    "scrolled": true
   },
   "outputs": [
    {
     "data": {
      "text/html": [
       "<div>\n",
       "<style scoped>\n",
       "    .dataframe tbody tr th:only-of-type {\n",
       "        vertical-align: middle;\n",
       "    }\n",
       "\n",
       "    .dataframe tbody tr th {\n",
       "        vertical-align: top;\n",
       "    }\n",
       "\n",
       "    .dataframe thead th {\n",
       "        text-align: right;\n",
       "    }\n",
       "</style>\n",
       "<table border=\"1\" class=\"dataframe\">\n",
       "  <thead>\n",
       "    <tr style=\"text-align: right;\">\n",
       "      <th></th>\n",
       "      <th>Ohne Fehler</th>\n",
       "      <th>Mit Fehler</th>\n",
       "    </tr>\n",
       "  </thead>\n",
       "  <tbody>\n",
       "    <tr>\n",
       "      <th>Aufgabe 1: Jx</th>\n",
       "      <td>0.002563</td>\n",
       "      <td>0.00256+/-0.00017</td>\n",
       "    </tr>\n",
       "    <tr>\n",
       "      <th>Aufgabe 2: Jx</th>\n",
       "      <td>0.002136</td>\n",
       "      <td>0.00214+/-0.00014</td>\n",
       "    </tr>\n",
       "    <tr>\n",
       "      <th>gew. gemittelt: Jx</th>\n",
       "      <td>0.002365</td>\n",
       "      <td>0.00237+/-0.00010</td>\n",
       "    </tr>\n",
       "  </tbody>\n",
       "</table>\n",
       "</div>"
      ],
      "text/plain": [
       "                    Ohne Fehler         Mit Fehler\n",
       "Aufgabe 1: Jx          0.002563  0.00256+/-0.00017\n",
       "Aufgabe 2: Jx          0.002136  0.00214+/-0.00014\n",
       "gew. gemittelt: Jx     0.002365  0.00237+/-0.00010"
      ]
     },
     "execution_count": 56,
     "metadata": {},
     "output_type": "execute_result"
    }
   ],
   "source": [
    "J_x_tab=pd.DataFrame({'Ohne Fehler': [J_x_A1,J_x_A2,mittel_gew],'Mit Fehler': [J_x_A1_err,J_x_A2_err,mit_gew_err]},\n",
    "                     index=['Aufgabe 1: Jx','Aufgabe 2: Jx','gew. gemittelt: Jx'])\n",
    "J_x_tab"
   ]
  },
  {
   "cell_type": "code",
   "execution_count": 57,
   "id": "a7a16fcc",
   "metadata": {},
   "outputs": [
    {
     "name": "stdout",
     "output_type": "stream",
     "text": [
      "0.002365120463782044\n",
      "0.00237+/-0.00010\n",
      "0.00010807023298638695\n"
     ]
    }
   ],
   "source": [
    "# Neuer Versuch \n",
    "mean=np.array([a ,J_x_A2])\n",
    "weights=np.array([15e-5,13e-5])\n",
    "mean_gew=np.average(mean,weights=weights)\n",
    "print(mean_gew)\n",
    "mean_gew_err=ufloat(mean_gew,10e-5)\n",
    "print(mean_gew_err)\n",
    "ujx_Durch=((1/(0.00017**-2+0.00014**-2))**0.5 )\n",
    "print(ujx_Durch)"
   ]
  },
  {
   "cell_type": "markdown",
   "id": "2d8c7e5e",
   "metadata": {},
   "source": [
    "# Berechnung von $J_s$"
   ]
  },
  {
   "cell_type": "markdown",
   "id": "5ea003e4",
   "metadata": {},
   "source": [
    "## Aufgabe 3"
   ]
  },
  {
   "cell_type": "markdown",
   "id": "57f3ede8",
   "metadata": {},
   "source": [
    "$$ T_n=\\frac{J_s}{J_x}\\frac{1}{n}\\\\ \\Rightarrow J_s= a_3 \\cdot J_x$$"
   ]
  },
  {
   "cell_type": "code",
   "execution_count": 58,
   "id": "405311af",
   "metadata": {
    "scrolled": true
   },
   "outputs": [
    {
     "name": "stdout",
     "output_type": "stream",
     "text": [
      "0.00447222677109686\n",
      "0.0045+/-0.0012\n"
     ]
    }
   ],
   "source": [
    "J_s=a_3_sp*mittel_gew\n",
    "print(J_s)\n",
    "J_s_err=ufloat(a_3_sp,da_3_sp)*mit_gew_err\n",
    "print(J_s_err)\n",
    "#print(J_s_err*1000)"
   ]
  },
  {
   "cell_type": "code",
   "execution_count": 59,
   "id": "a3c66467",
   "metadata": {
    "scrolled": true
   },
   "outputs": [
    {
     "name": "stdout",
     "output_type": "stream",
     "text": [
      "0.004831941107506716\n",
      "0.0048+/-0.0010\n"
     ]
    }
   ],
   "source": [
    "J_s_m=a_3_sm*mean_gew\n",
    "print(J_s_m)\n",
    "J_s_m_err=ufloat(a_3_sm,da_3_sm)*mean_gew_err\n",
    "print(J_s_m_err)"
   ]
  },
  {
   "cell_type": "code",
   "execution_count": 60,
   "id": "fbf705c3",
   "metadata": {},
   "outputs": [
    {
     "data": {
      "text/plain": [
       "2.043"
      ]
     },
     "execution_count": 60,
     "metadata": {},
     "output_type": "execute_result"
    }
   ],
   "source": [
    "a_3_sm"
   ]
  },
  {
   "cell_type": "code",
   "execution_count": 61,
   "id": "e751664c",
   "metadata": {},
   "outputs": [
    {
     "data": {
      "text/plain": [
       "1.890908661770809"
      ]
     },
     "execution_count": 61,
     "metadata": {},
     "output_type": "execute_result"
    }
   ],
   "source": [
    "a_3_sp"
   ]
  },
  {
   "cell_type": "markdown",
   "id": "3478bedd",
   "metadata": {},
   "source": [
    "# Berechnung von $J_x$"
   ]
  },
  {
   "cell_type": "markdown",
   "id": "f892493b",
   "metadata": {},
   "source": [
    "## Aufgabe 4"
   ]
  },
  {
   "cell_type": "markdown",
   "id": "67f4fd5c",
   "metadata": {},
   "source": [
    "$$ J_x=\\frac{1}{2} \\rho \\pi h (r_2^4-r_1^4) $$"
   ]
  },
  {
   "cell_type": "code",
   "execution_count": 62,
   "id": "249cf432",
   "metadata": {},
   "outputs": [],
   "source": [
    "def J_x(rho,h,r1,r2):\n",
    "    J=0.5*rho*np.pi*h*(r2**4-r1**4)\n",
    "    return J"
   ]
  },
  {
   "cell_type": "code",
   "execution_count": 63,
   "id": "a8a41952",
   "metadata": {},
   "outputs": [
    {
     "data": {
      "text/html": [
       "<div>\n",
       "<style scoped>\n",
       "    .dataframe tbody tr th:only-of-type {\n",
       "        vertical-align: middle;\n",
       "    }\n",
       "\n",
       "    .dataframe tbody tr th {\n",
       "        vertical-align: top;\n",
       "    }\n",
       "\n",
       "    .dataframe thead th {\n",
       "        text-align: right;\n",
       "    }\n",
       "</style>\n",
       "<table border=\"1\" class=\"dataframe\">\n",
       "  <thead>\n",
       "    <tr style=\"text-align: right;\">\n",
       "      <th></th>\n",
       "      <th>H1</th>\n",
       "      <th>H2</th>\n",
       "      <th>H3</th>\n",
       "      <th>H4</th>\n",
       "      <th>H5</th>\n",
       "      <th>Tariergewicht</th>\n",
       "      <th>Schraube</th>\n",
       "    </tr>\n",
       "  </thead>\n",
       "  <tbody>\n",
       "    <tr>\n",
       "      <th>Innenradius</th>\n",
       "      <td>0.0</td>\n",
       "      <td>0.006000+/-0.000025</td>\n",
       "      <td>0.012250+/-0.000025</td>\n",
       "      <td>0.021250+/-0.000025</td>\n",
       "      <td>0.045600+/-0.000025</td>\n",
       "      <td>0.006000+/-0.000025</td>\n",
       "      <td>0.0</td>\n",
       "    </tr>\n",
       "    <tr>\n",
       "      <th>Außenradius</th>\n",
       "      <td>0.006000+/-0.000025</td>\n",
       "      <td>0.012250+/-0.000025</td>\n",
       "      <td>0.021250+/-0.000025</td>\n",
       "      <td>0.045600+/-0.000025</td>\n",
       "      <td>0.059550+/-0.000025</td>\n",
       "      <td>0.021000+/-0.000025</td>\n",
       "      <td>0.007500+/-0.000025</td>\n",
       "    </tr>\n",
       "    <tr>\n",
       "      <th>Höhe</th>\n",
       "      <td>0.23420+/-0.00009</td>\n",
       "      <td>0.02030+/-0.00005</td>\n",
       "      <td>0.01330+/-0.00007</td>\n",
       "      <td>0.00630+/-0.00007</td>\n",
       "      <td>0.02030+/-0.00005</td>\n",
       "      <td>0.03020+/-0.00005</td>\n",
       "      <td>0.00750+/-0.00007</td>\n",
       "    </tr>\n",
       "    <tr>\n",
       "      <th>$J_s$</th>\n",
       "      <td>0.0</td>\n",
       "      <td>0.0</td>\n",
       "      <td>0.0</td>\n",
       "      <td>0.0</td>\n",
       "      <td>0.0</td>\n",
       "      <td>0.0</td>\n",
       "      <td>0.0</td>\n",
       "    </tr>\n",
       "  </tbody>\n",
       "</table>\n",
       "</div>"
      ],
      "text/plain": [
       "                              H1                   H2                   H3  \\\n",
       "Innenradius                  0.0  0.006000+/-0.000025  0.012250+/-0.000025   \n",
       "Außenradius  0.006000+/-0.000025  0.012250+/-0.000025  0.021250+/-0.000025   \n",
       "Höhe           0.23420+/-0.00009    0.02030+/-0.00005    0.01330+/-0.00007   \n",
       "$J_s$                        0.0                  0.0                  0.0   \n",
       "\n",
       "                              H4                   H5        Tariergewicht  \\\n",
       "Innenradius  0.021250+/-0.000025  0.045600+/-0.000025  0.006000+/-0.000025   \n",
       "Außenradius  0.045600+/-0.000025  0.059550+/-0.000025  0.021000+/-0.000025   \n",
       "Höhe           0.00630+/-0.00007    0.02030+/-0.00005    0.03020+/-0.00005   \n",
       "$J_s$                        0.0                  0.0                  0.0   \n",
       "\n",
       "                        Schraube  \n",
       "Innenradius                  0.0  \n",
       "Außenradius  0.007500+/-0.000025  \n",
       "Höhe           0.00750+/-0.00007  \n",
       "$J_s$                        0.0  "
      ]
     },
     "execution_count": 63,
     "metadata": {},
     "output_type": "execute_result"
    }
   ],
   "source": [
    "# Scheibe als Hohlzylinder\n",
    "H1=np.array([0,ufloat(12,0.05)/2,ufloat(20.3,0.05)+ufloat(31.8,0.05)+ufloat(182.1,0.05),0])/1000     # in Metern\n",
    "H2=np.array([ufloat(12,0.05)/2,ufloat(24.5,0.05)/2,ufloat(20.3,0.05),0])/1000\n",
    "H3=np.array([ufloat(24.5,0.05)/2,ufloat(42.5,0.05)/2,ufloat(20.3,0.05)-ufloat(7,0.05),0])/1000\n",
    "H4=np.array([ufloat(42.5,0.05)/2,ufloat(91.2,0.05)/2,ufloat(13.3,0.05)-ufloat(7,0.05),0])/1000\n",
    "H5=np.array([ufloat(91.2,0.05)/2,ufloat(119.1,0.05)/2,ufloat(20.3,0.05),0])/1000\n",
    "T1=np.array([ufloat(12,0.05)/2,ufloat(42,0.05)/2,ufloat(30.2,0.05),0])/1000\n",
    "S1=np.array([0,ufloat(15,0.05)/2,ufloat(189.6,0.05)-ufloat(182.1,0.05),0])/1000\n",
    "\n",
    "hohlzylinder=pd.DataFrame({'H1':H1,\n",
    "                          'H2':H2,\n",
    "                          'H3':H3,\n",
    "                          'H4':H4,\n",
    "                          'H5':H5,\n",
    "                          'Tariergewicht':T1,\n",
    "                          'Schraube':S1},\n",
    "                          index=['Innenradius',\n",
    "                                'Außenradius',\n",
    "                                'Höhe',r'$J_s$'])\n",
    "hohlzylinder"
   ]
  },
  {
   "cell_type": "code",
   "execution_count": 64,
   "id": "1f37d57c",
   "metadata": {},
   "outputs": [
    {
     "data": {
      "text/html": [
       "<div>\n",
       "<style scoped>\n",
       "    .dataframe tbody tr th:only-of-type {\n",
       "        vertical-align: middle;\n",
       "    }\n",
       "\n",
       "    .dataframe tbody tr th {\n",
       "        vertical-align: top;\n",
       "    }\n",
       "\n",
       "    .dataframe thead th {\n",
       "        text-align: right;\n",
       "    }\n",
       "</style>\n",
       "<table border=\"1\" class=\"dataframe\">\n",
       "  <thead>\n",
       "    <tr style=\"text-align: right;\">\n",
       "      <th></th>\n",
       "      <th>H1</th>\n",
       "      <th>H2</th>\n",
       "      <th>H3</th>\n",
       "      <th>H4</th>\n",
       "      <th>H5</th>\n",
       "      <th>Tariergewicht</th>\n",
       "      <th>Schraube</th>\n",
       "    </tr>\n",
       "  </thead>\n",
       "  <tbody>\n",
       "    <tr>\n",
       "      <th>Innenradius</th>\n",
       "      <td>0.0</td>\n",
       "      <td>0.006000+/-0.000025</td>\n",
       "      <td>0.012350+/-0.000025</td>\n",
       "      <td>0.021250+/-0.000025</td>\n",
       "      <td>0.034850+/-0.000025</td>\n",
       "      <td>0.006000+/-0.000025</td>\n",
       "      <td>0.0</td>\n",
       "    </tr>\n",
       "    <tr>\n",
       "      <th>Außenradius</th>\n",
       "      <td>0.006000+/-0.000025</td>\n",
       "      <td>0.012350+/-0.000025</td>\n",
       "      <td>0.021250+/-0.000025</td>\n",
       "      <td>0.034850+/-0.000025</td>\n",
       "      <td>0.059550+/-0.000025</td>\n",
       "      <td>0.020950+/-0.000025</td>\n",
       "      <td>0.007500+/-0.000025</td>\n",
       "    </tr>\n",
       "    <tr>\n",
       "      <th>Höhe</th>\n",
       "      <td>0.23300+/-0.00009</td>\n",
       "      <td>0.02030+/-0.00005</td>\n",
       "      <td>0.01270+/-0.00007</td>\n",
       "      <td>0.00570+/-0.00007</td>\n",
       "      <td>0.01970+/-0.00005</td>\n",
       "      <td>0.03020+/-0.00005</td>\n",
       "      <td>0.00750+/-0.00007</td>\n",
       "    </tr>\n",
       "    <tr>\n",
       "      <th>$J_s$</th>\n",
       "      <td>0.0</td>\n",
       "      <td>0.0</td>\n",
       "      <td>0.0</td>\n",
       "      <td>0.0</td>\n",
       "      <td>0.0</td>\n",
       "      <td>0.0</td>\n",
       "      <td>0.0</td>\n",
       "    </tr>\n",
       "  </tbody>\n",
       "</table>\n",
       "</div>"
      ],
      "text/plain": [
       "                              H1                   H2                   H3  \\\n",
       "Innenradius                  0.0  0.006000+/-0.000025  0.012350+/-0.000025   \n",
       "Außenradius  0.006000+/-0.000025  0.012350+/-0.000025  0.021250+/-0.000025   \n",
       "Höhe           0.23300+/-0.00009    0.02030+/-0.00005    0.01270+/-0.00007   \n",
       "$J_s$                        0.0                  0.0                  0.0   \n",
       "\n",
       "                              H4                   H5        Tariergewicht  \\\n",
       "Innenradius  0.021250+/-0.000025  0.034850+/-0.000025  0.006000+/-0.000025   \n",
       "Außenradius  0.034850+/-0.000025  0.059550+/-0.000025  0.020950+/-0.000025   \n",
       "Höhe           0.00570+/-0.00007    0.01970+/-0.00005    0.03020+/-0.00005   \n",
       "$J_s$                        0.0                  0.0                  0.0   \n",
       "\n",
       "                        Schraube  \n",
       "Innenradius                  0.0  \n",
       "Außenradius  0.007500+/-0.000025  \n",
       "Höhe           0.00750+/-0.00007  \n",
       "$J_s$                        0.0  "
      ]
     },
     "execution_count": 64,
     "metadata": {},
     "output_type": "execute_result"
    }
   ],
   "source": [
    "# Sara\n",
    "Hh1=np.array([0,ufloat(12,0.05)/2,ufloat(19.7,0.05)+ufloat(31.8,0.05)+ufloat(181.5,0.05),0])/1000     # in Metern\n",
    "Hh2=np.array([ufloat(12,0.05)/2,ufloat(24.7,0.05)/2,ufloat(20.3,0.05),0])/1000\n",
    "Hh3=np.array([ufloat(24.7,0.05)/2,ufloat(42.5,0.05)/2,ufloat(19.7,0.05)-ufloat(7,0.05),0])/1000\n",
    "Hh4=np.array([ufloat(42.5,0.05)/2,ufloat(69.7,0.05)/2,ufloat(12.7,0.05)-ufloat(7,0.05),0])/1000\n",
    "Hh5=np.array([ufloat(69.7,0.05)/2,ufloat(119.1,0.05)/2,ufloat(19.7,0.05),0])/1000\n",
    "Tt1=np.array([ufloat(12,0.05)/2,ufloat(41.9,0.05)/2,ufloat(30.2,0.05),0])/1000\n",
    "Ss1=np.array([0,ufloat(15,0.05)/2,ufloat(189,0.05)-ufloat(181.5,0.05),0])/1000\n",
    "\n",
    "sara=pd.DataFrame({'H1':Hh1,\n",
    "                          'H2':Hh2,\n",
    "                          'H3':Hh3,\n",
    "                          'H4':Hh4,\n",
    "                          'H5':Hh5,\n",
    "                          'Tariergewicht':Tt1,\n",
    "                          'Schraube':Ss1},\n",
    "                          index=['Innenradius',\n",
    "                                'Außenradius',\n",
    "                                'Höhe',r'$J_s$'])\n",
    "sara\n"
   ]
  },
  {
   "cell_type": "code",
   "execution_count": 65,
   "id": "941bb2df",
   "metadata": {},
   "outputs": [],
   "source": [
    "# Dichten von Messing (M) und Eisen (Fe)\n",
    "rho_M=8.4e3      # kg m^-3\n",
    "rho_Fe=7.9e3        # kg m^-3"
   ]
  },
  {
   "cell_type": "code",
   "execution_count": 66,
   "id": "f4721921",
   "metadata": {},
   "outputs": [
    {
     "name": "stdout",
     "output_type": "stream",
     "text": [
      "0.002671+/-0.000009\n",
      "[0 0 0 0.0026713101288518837+/-9.148888946917388e-06]\n"
     ]
    }
   ],
   "source": [
    "H1[3]=J_x(rho_Fe,H1[2],H1[0],H1[1])\n",
    "#H1[3]=J_x(rho_M,H1[2],H1[0],H1[1])\n",
    "H2[3]=J_x(rho_M,H2[2],H2[0],H2[1])\n",
    "H3[3]=J_x(rho_M,H3[2],H3[0],H3[1])\n",
    "H4[3]=J_x(rho_M,H4[2],H4[0],H4[1])\n",
    "H5[3]=J_x(rho_M,H5[2],H5[0],H5[1])\n",
    "T1[3]=J_x(rho_M,T1[2],T1[0],T1[1])\n",
    "S1[3]=J_x(rho_M,S1[2],S1[0],S1[1])\n",
    "\n",
    "J_x_ges=H1[3]+H2[3]+H3[3]+H4[3]+H5[3]+S1[3]+T1[3]\n",
    "print(J_x_ges)\n",
    "J_x=np.array([0,0,0,J_x_ges])\n",
    "print(J_x)"
   ]
  },
  {
   "cell_type": "code",
   "execution_count": 67,
   "id": "8c093c98",
   "metadata": {},
   "outputs": [
    {
     "ename": "TypeError",
     "evalue": "'numpy.ndarray' object is not callable",
     "output_type": "error",
     "traceback": [
      "\u001b[1;31m---------------------------------------------------------------------------\u001b[0m",
      "\u001b[1;31mTypeError\u001b[0m                                 Traceback (most recent call last)",
      "\u001b[1;32m<ipython-input-67-493589c37e67>\u001b[0m in \u001b[0;36m<module>\u001b[1;34m\u001b[0m\n\u001b[0;32m      1\u001b[0m \u001b[1;31m# Sara\u001b[0m\u001b[1;33m\u001b[0m\u001b[1;33m\u001b[0m\u001b[1;33m\u001b[0m\u001b[0m\n\u001b[1;32m----> 2\u001b[1;33m \u001b[0mHh1\u001b[0m\u001b[1;33m[\u001b[0m\u001b[1;36m3\u001b[0m\u001b[1;33m]\u001b[0m\u001b[1;33m=\u001b[0m\u001b[0mJ_x\u001b[0m\u001b[1;33m(\u001b[0m\u001b[0mrho_Fe\u001b[0m\u001b[1;33m,\u001b[0m\u001b[0mHh1\u001b[0m\u001b[1;33m[\u001b[0m\u001b[1;36m2\u001b[0m\u001b[1;33m]\u001b[0m\u001b[1;33m,\u001b[0m\u001b[0mHh1\u001b[0m\u001b[1;33m[\u001b[0m\u001b[1;36m0\u001b[0m\u001b[1;33m]\u001b[0m\u001b[1;33m,\u001b[0m\u001b[0mHh1\u001b[0m\u001b[1;33m[\u001b[0m\u001b[1;36m1\u001b[0m\u001b[1;33m]\u001b[0m\u001b[1;33m)\u001b[0m\u001b[1;33m\u001b[0m\u001b[1;33m\u001b[0m\u001b[0m\n\u001b[0m\u001b[0;32m      3\u001b[0m \u001b[1;31m#H1[3]=J_x(rho_M,H1[2],H1[0],H1[1])\u001b[0m\u001b[1;33m\u001b[0m\u001b[1;33m\u001b[0m\u001b[1;33m\u001b[0m\u001b[0m\n\u001b[0;32m      4\u001b[0m \u001b[0mHh2\u001b[0m\u001b[1;33m[\u001b[0m\u001b[1;36m3\u001b[0m\u001b[1;33m]\u001b[0m\u001b[1;33m=\u001b[0m\u001b[0mJ_x\u001b[0m\u001b[1;33m(\u001b[0m\u001b[0mrho_M\u001b[0m\u001b[1;33m,\u001b[0m\u001b[0mHh2\u001b[0m\u001b[1;33m[\u001b[0m\u001b[1;36m2\u001b[0m\u001b[1;33m]\u001b[0m\u001b[1;33m,\u001b[0m\u001b[0mHh2\u001b[0m\u001b[1;33m[\u001b[0m\u001b[1;36m0\u001b[0m\u001b[1;33m]\u001b[0m\u001b[1;33m,\u001b[0m\u001b[0mHh2\u001b[0m\u001b[1;33m[\u001b[0m\u001b[1;36m1\u001b[0m\u001b[1;33m]\u001b[0m\u001b[1;33m)\u001b[0m\u001b[1;33m\u001b[0m\u001b[1;33m\u001b[0m\u001b[0m\n\u001b[0;32m      5\u001b[0m \u001b[0mHh3\u001b[0m\u001b[1;33m[\u001b[0m\u001b[1;36m3\u001b[0m\u001b[1;33m]\u001b[0m\u001b[1;33m=\u001b[0m\u001b[0mJ_x\u001b[0m\u001b[1;33m(\u001b[0m\u001b[0mrho_M\u001b[0m\u001b[1;33m,\u001b[0m\u001b[0mHh3\u001b[0m\u001b[1;33m[\u001b[0m\u001b[1;36m2\u001b[0m\u001b[1;33m]\u001b[0m\u001b[1;33m,\u001b[0m\u001b[0mHh3\u001b[0m\u001b[1;33m[\u001b[0m\u001b[1;36m0\u001b[0m\u001b[1;33m]\u001b[0m\u001b[1;33m,\u001b[0m\u001b[0mHh3\u001b[0m\u001b[1;33m[\u001b[0m\u001b[1;36m1\u001b[0m\u001b[1;33m]\u001b[0m\u001b[1;33m)\u001b[0m\u001b[1;33m\u001b[0m\u001b[1;33m\u001b[0m\u001b[0m\n",
      "\u001b[1;31mTypeError\u001b[0m: 'numpy.ndarray' object is not callable"
     ]
    }
   ],
   "source": [
    "# Sara\n",
    "Hh1[3]=J_x(rho_Fe,Hh1[2],Hh1[0],Hh1[1])\n",
    "#H1[3]=J_x(rho_M,H1[2],H1[0],H1[1])\n",
    "Hh2[3]=J_x(rho_M,Hh2[2],Hh2[0],Hh2[1])\n",
    "Hh3[3]=J_x(rho_M,Hh3[2],Hh3[0],Hh3[1])\n",
    "Hh4[3]=J_x(rho_M,Hh4[2],Hh4[0],Hh4[1])\n",
    "Hh5[3]=J_x(rho_M,Hh5[2],Hh5[0],Hh5[1])\n",
    "Tt1[3]=J_x(rho_M,Tt1[2],Tt1[0],Tt1[1])\n",
    "Ss1[3]=J_x(rho_M,Ss1[2],Ss1[0],Ss1[1])\n",
    "\n",
    "J_x_sara_ges=Hh1[3]+Hh2[3]+Hh3[3]+Hh4[3]+Hh5[3]+Ss1[3]+Tt1[3]\n",
    "print(J_x_sara_ges)\n",
    "J_x_sara=np.array([0,0,0,J_x_sara_ges])\n",
    "print(J_x_sara)"
   ]
  },
  {
   "cell_type": "code",
   "execution_count": 68,
   "id": "0f22db2e",
   "metadata": {},
   "outputs": [
    {
     "data": {
      "text/html": [
       "<div>\n",
       "<style scoped>\n",
       "    .dataframe tbody tr th:only-of-type {\n",
       "        vertical-align: middle;\n",
       "    }\n",
       "\n",
       "    .dataframe tbody tr th {\n",
       "        vertical-align: top;\n",
       "    }\n",
       "\n",
       "    .dataframe thead th {\n",
       "        text-align: right;\n",
       "    }\n",
       "</style>\n",
       "<table border=\"1\" class=\"dataframe\">\n",
       "  <thead>\n",
       "    <tr style=\"text-align: right;\">\n",
       "      <th></th>\n",
       "      <th>H1</th>\n",
       "      <th>H2</th>\n",
       "      <th>H3</th>\n",
       "      <th>H4</th>\n",
       "      <th>H5</th>\n",
       "      <th>Tariergewicht</th>\n",
       "      <th>Schraube</th>\n",
       "    </tr>\n",
       "  </thead>\n",
       "  <tbody>\n",
       "    <tr>\n",
       "      <th>Innenradius</th>\n",
       "      <td>0.0</td>\n",
       "      <td>0.006000+/-0.000025</td>\n",
       "      <td>0.012250+/-0.000025</td>\n",
       "      <td>0.021250+/-0.000025</td>\n",
       "      <td>0.045600+/-0.000025</td>\n",
       "      <td>0.006000+/-0.000025</td>\n",
       "      <td>0.0</td>\n",
       "    </tr>\n",
       "    <tr>\n",
       "      <th>Außenradius</th>\n",
       "      <td>0.006000+/-0.000025</td>\n",
       "      <td>0.012250+/-0.000025</td>\n",
       "      <td>0.021250+/-0.000025</td>\n",
       "      <td>0.045600+/-0.000025</td>\n",
       "      <td>0.059550+/-0.000025</td>\n",
       "      <td>0.021000+/-0.000025</td>\n",
       "      <td>0.007500+/-0.000025</td>\n",
       "    </tr>\n",
       "    <tr>\n",
       "      <th>Höhe</th>\n",
       "      <td>0.23420+/-0.00009</td>\n",
       "      <td>0.02030+/-0.00005</td>\n",
       "      <td>0.01330+/-0.00007</td>\n",
       "      <td>0.00630+/-0.00007</td>\n",
       "      <td>0.02030+/-0.00005</td>\n",
       "      <td>0.03020+/-0.00005</td>\n",
       "      <td>0.00750+/-0.00007</td>\n",
       "    </tr>\n",
       "    <tr>\n",
       "      <th>$J_x$</th>\n",
       "      <td>(3.77+/-0.06)e-06</td>\n",
       "      <td>(5.68+/-0.05)e-06</td>\n",
       "      <td>(3.183+/-0.024)e-05</td>\n",
       "      <td>0.000342+/-0.000004</td>\n",
       "      <td>0.002210+/-0.000008</td>\n",
       "      <td>(7.70+/-0.04)e-05</td>\n",
       "      <td>(3.13+/-0.05)e-07</td>\n",
       "    </tr>\n",
       "  </tbody>\n",
       "</table>\n",
       "</div>"
      ],
      "text/plain": [
       "                              H1                   H2                   H3  \\\n",
       "Innenradius                  0.0  0.006000+/-0.000025  0.012250+/-0.000025   \n",
       "Außenradius  0.006000+/-0.000025  0.012250+/-0.000025  0.021250+/-0.000025   \n",
       "Höhe           0.23420+/-0.00009    0.02030+/-0.00005    0.01330+/-0.00007   \n",
       "$J_x$          (3.77+/-0.06)e-06    (5.68+/-0.05)e-06  (3.183+/-0.024)e-05   \n",
       "\n",
       "                              H4                   H5        Tariergewicht  \\\n",
       "Innenradius  0.021250+/-0.000025  0.045600+/-0.000025  0.006000+/-0.000025   \n",
       "Außenradius  0.045600+/-0.000025  0.059550+/-0.000025  0.021000+/-0.000025   \n",
       "Höhe           0.00630+/-0.00007    0.02030+/-0.00005    0.03020+/-0.00005   \n",
       "$J_x$        0.000342+/-0.000004  0.002210+/-0.000008    (7.70+/-0.04)e-05   \n",
       "\n",
       "                        Schraube  \n",
       "Innenradius                  0.0  \n",
       "Außenradius  0.007500+/-0.000025  \n",
       "Höhe           0.00750+/-0.00007  \n",
       "$J_x$          (3.13+/-0.05)e-07  "
      ]
     },
     "execution_count": 68,
     "metadata": {},
     "output_type": "execute_result"
    }
   ],
   "source": [
    "hohlzylinder=pd.DataFrame({'H1':H1,\n",
    "                          'H2':H2,\n",
    "                          'H3':H3,\n",
    "                          'H4':H4,\n",
    "                          'H5':H5,\n",
    "                          'Tariergewicht':T1,\n",
    "                          'Schraube':S1},\n",
    "                          index=['Innenradius',\n",
    "                                'Außenradius',\n",
    "                                'Höhe',r'$J_x$'])\n",
    "hohlzylinder"
   ]
  },
  {
   "cell_type": "code",
   "execution_count": 69,
   "id": "60098059",
   "metadata": {},
   "outputs": [
    {
     "data": {
      "text/html": [
       "<div>\n",
       "<style scoped>\n",
       "    .dataframe tbody tr th:only-of-type {\n",
       "        vertical-align: middle;\n",
       "    }\n",
       "\n",
       "    .dataframe tbody tr th {\n",
       "        vertical-align: top;\n",
       "    }\n",
       "\n",
       "    .dataframe thead th {\n",
       "        text-align: right;\n",
       "    }\n",
       "</style>\n",
       "<table border=\"1\" class=\"dataframe\">\n",
       "  <thead>\n",
       "    <tr style=\"text-align: right;\">\n",
       "      <th></th>\n",
       "      <th>H1</th>\n",
       "      <th>H2</th>\n",
       "      <th>H3</th>\n",
       "      <th>H4</th>\n",
       "      <th>H5</th>\n",
       "      <th>Tariergewicht</th>\n",
       "      <th>Schraube</th>\n",
       "    </tr>\n",
       "  </thead>\n",
       "  <tbody>\n",
       "    <tr>\n",
       "      <th>Innenradius</th>\n",
       "      <td>0.0</td>\n",
       "      <td>0.006000+/-0.000025</td>\n",
       "      <td>0.012350+/-0.000025</td>\n",
       "      <td>0.021250+/-0.000025</td>\n",
       "      <td>0.034850+/-0.000025</td>\n",
       "      <td>0.006000+/-0.000025</td>\n",
       "      <td>0.0</td>\n",
       "    </tr>\n",
       "    <tr>\n",
       "      <th>Außenradius</th>\n",
       "      <td>0.006000+/-0.000025</td>\n",
       "      <td>0.012350+/-0.000025</td>\n",
       "      <td>0.021250+/-0.000025</td>\n",
       "      <td>0.034850+/-0.000025</td>\n",
       "      <td>0.059550+/-0.000025</td>\n",
       "      <td>0.020950+/-0.000025</td>\n",
       "      <td>0.007500+/-0.000025</td>\n",
       "    </tr>\n",
       "    <tr>\n",
       "      <th>Höhe</th>\n",
       "      <td>0.23300+/-0.00009</td>\n",
       "      <td>0.02030+/-0.00005</td>\n",
       "      <td>0.01270+/-0.00007</td>\n",
       "      <td>0.00570+/-0.00007</td>\n",
       "      <td>0.01970+/-0.00005</td>\n",
       "      <td>0.03020+/-0.00005</td>\n",
       "      <td>0.00750+/-0.00007</td>\n",
       "    </tr>\n",
       "    <tr>\n",
       "      <th>$J_s$</th>\n",
       "      <td>0.0</td>\n",
       "      <td>0.0</td>\n",
       "      <td>0.0</td>\n",
       "      <td>0.0</td>\n",
       "      <td>0.0</td>\n",
       "      <td>0.0</td>\n",
       "      <td>0.0</td>\n",
       "    </tr>\n",
       "  </tbody>\n",
       "</table>\n",
       "</div>"
      ],
      "text/plain": [
       "                              H1                   H2                   H3  \\\n",
       "Innenradius                  0.0  0.006000+/-0.000025  0.012350+/-0.000025   \n",
       "Außenradius  0.006000+/-0.000025  0.012350+/-0.000025  0.021250+/-0.000025   \n",
       "Höhe           0.23300+/-0.00009    0.02030+/-0.00005    0.01270+/-0.00007   \n",
       "$J_s$                        0.0                  0.0                  0.0   \n",
       "\n",
       "                              H4                   H5        Tariergewicht  \\\n",
       "Innenradius  0.021250+/-0.000025  0.034850+/-0.000025  0.006000+/-0.000025   \n",
       "Außenradius  0.034850+/-0.000025  0.059550+/-0.000025  0.020950+/-0.000025   \n",
       "Höhe           0.00570+/-0.00007    0.01970+/-0.00005    0.03020+/-0.00005   \n",
       "$J_s$                        0.0                  0.0                  0.0   \n",
       "\n",
       "                        Schraube  \n",
       "Innenradius                  0.0  \n",
       "Außenradius  0.007500+/-0.000025  \n",
       "Höhe           0.00750+/-0.00007  \n",
       "$J_s$                        0.0  "
      ]
     },
     "execution_count": 69,
     "metadata": {},
     "output_type": "execute_result"
    }
   ],
   "source": [
    "sara=pd.DataFrame({'H1':Hh1,\n",
    "                          'H2':Hh2,\n",
    "                          'H3':Hh3,\n",
    "                          'H4':Hh4,\n",
    "                          'H5':Hh5,\n",
    "                          'Tariergewicht':Tt1,\n",
    "                          'Schraube':Ss1},\n",
    "                          index=['Innenradius',\n",
    "                                'Außenradius',\n",
    "                                'Höhe',r'$J_s$'])\n",
    "sara"
   ]
  },
  {
   "cell_type": "markdown",
   "id": "0c42c298",
   "metadata": {},
   "source": [
    "# Vergleich von $J_s$ aus Aufgabe 3 mit dem Sollwert von Platz 4"
   ]
  },
  {
   "cell_type": "code",
   "execution_count": 70,
   "id": "238a76e4",
   "metadata": {},
   "outputs": [],
   "source": [
    "# Trägheitsmomente der einzelnen Aufgaben\n",
    "A_1_2=np.array([0,mit_gew_err])\n",
    "A3=np.array([J_s_err,0])\n",
    "A4=np.array([0,J_x_ges])\n",
    "#A5=np.array([0,0])"
   ]
  },
  {
   "cell_type": "code",
   "execution_count": 71,
   "id": "c09d90a7",
   "metadata": {},
   "outputs": [
    {
     "data": {
      "text/html": [
       "<div>\n",
       "<style scoped>\n",
       "    .dataframe tbody tr th:only-of-type {\n",
       "        vertical-align: middle;\n",
       "    }\n",
       "\n",
       "    .dataframe tbody tr th {\n",
       "        vertical-align: top;\n",
       "    }\n",
       "\n",
       "    .dataframe thead th {\n",
       "        text-align: right;\n",
       "    }\n",
       "</style>\n",
       "<table border=\"1\" class=\"dataframe\">\n",
       "  <thead>\n",
       "    <tr style=\"text-align: right;\">\n",
       "      <th></th>\n",
       "      <th>A1 und A2</th>\n",
       "      <th>A3</th>\n",
       "      <th>A4</th>\n",
       "    </tr>\n",
       "  </thead>\n",
       "  <tbody>\n",
       "    <tr>\n",
       "      <th>$J_s$</th>\n",
       "      <td>0</td>\n",
       "      <td>0.0045+/-0.0012</td>\n",
       "      <td>0</td>\n",
       "    </tr>\n",
       "    <tr>\n",
       "      <th>$J_x$</th>\n",
       "      <td>0.00237+/-0.00010</td>\n",
       "      <td>0</td>\n",
       "      <td>0.002671+/-0.000009</td>\n",
       "    </tr>\n",
       "  </tbody>\n",
       "</table>\n",
       "</div>"
      ],
      "text/plain": [
       "               A1 und A2               A3                   A4\n",
       "$J_s$                  0  0.0045+/-0.0012                    0\n",
       "$J_x$  0.00237+/-0.00010                0  0.002671+/-0.000009"
      ]
     },
     "execution_count": 71,
     "metadata": {},
     "output_type": "execute_result"
    }
   ],
   "source": [
    "Trägheistmoment=pd.DataFrame({'A1 und A2':A_1_2, \n",
    "                              'A3':A3, \n",
    "                              'A4':A4},\n",
    "                            index=[r'$J_s$',r'$J_x$'])\n",
    "Trägheistmoment"
   ]
  },
  {
   "cell_type": "markdown",
   "id": "a6d89d1a",
   "metadata": {},
   "source": [
    "Die Werte aus der obigen Tabelle sollten in etwa folgende Größenordnung haben:\n",
    "$$J_x \\approx 0.0024\\\\J_s\\approx 0.010$$"
   ]
  },
  {
   "cell_type": "markdown",
   "id": "951d6434",
   "metadata": {},
   "source": [
    "# Aufgabe 5"
   ]
  },
  {
   "cell_type": "code",
   "execution_count": null,
   "id": "31175bfb",
   "metadata": {},
   "outputs": [],
   "source": []
  }
 ],
 "metadata": {
  "kernelspec": {
   "display_name": "Python 3",
   "language": "python",
   "name": "python3"
  },
  "language_info": {
   "codemirror_mode": {
    "name": "ipython",
    "version": 3
   },
   "file_extension": ".py",
   "mimetype": "text/x-python",
   "name": "python",
   "nbconvert_exporter": "python",
   "pygments_lexer": "ipython3",
   "version": "3.7.10"
  }
 },
 "nbformat": 4,
 "nbformat_minor": 5
}
