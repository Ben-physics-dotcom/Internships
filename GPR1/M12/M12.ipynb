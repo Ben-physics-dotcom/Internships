{
  "cells": [
    {
      "cell_type": "markdown",
      "metadata": {
        "id": "aTl6nZ6pofin"
      },
      "source": [
        "# Importe"
      ]
    },
    {
      "cell_type": "code",
      "execution_count": 1,
      "metadata": {
        "id": "qWpN1yaWoR4H"
      },
      "outputs": [],
      "source": [
        "import numpy as np\n",
        "import pandas as pd\n",
        "import matplotlib.pyplot as plt\n",
        "import matplotlib as mpl\n",
        "import statsmodels.api as sm\n",
        "\n",
        "plt.style.use('classic')"
      ]
    },
    {
      "cell_type": "markdown",
      "metadata": {
        "id": "lOHUuBX0oreE"
      },
      "source": [
        "# Funktionen"
      ]
    },
    {
      "cell_type": "code",
      "execution_count": 2,
      "metadata": {
        "id": "6tm_mJIUot4s"
      },
      "outputs": [],
      "source": [
        "def lin_reg(x,a,b):\n",
        "  y = a*x+b\n",
        "  return y"
      ]
    },
    {
      "cell_type": "markdown",
      "metadata": {
        "id": "YcHIKZXypzS_"
      },
      "source": [
        "- $\\chi^2/dof > 1$: zu kleine Fehler\n",
        "- $\\chi^2/dof < 1$: zu große Fehler\n",
        "- Gleichung: $$ \\frac{\\chi^2}{dof} =  \\frac{1}{n-p}\\sum_i^n \\frac{(f(x_i)-y_i)^2}{u_{y_i}^2}$$\n",
        "  - p: Anzahl der Fitparameter"
      ]
    },
    {
      "cell_type": "code",
      "execution_count": 3,
      "metadata": {
        "id": "Se2ZY1hZp0Iu"
      },
      "outputs": [],
      "source": [
        "def chi_sq(x,y,fx,u_y): # für 2 Fitparameter\n",
        "  \"\"\"\n",
        "  x: x values for the x axis\n",
        "  y: y values for the y axis\n",
        "  fx: y values from the regression\n",
        "  u_y: Unsicherheit/uncertainty from y\n",
        "  \"\"\"\n",
        "  n = len(y)\n",
        "  factor = 1/(n-2)\n",
        "  return factor * np.sum((fx-y)**2/u_y**2)\n"
      ]
    },
    {
      "cell_type": "code",
      "execution_count": 4,
      "metadata": {
        "id": "0WCO58ktAXcq"
      },
      "outputs": [],
      "source": [
        "def reg_wls(x,y,uy,a_round=3,b_round=3,r_round=4):\n",
        "  '''\n",
        "  Returning variables:\n",
        "  a:    from a*x+b\n",
        "  ua:   uncertainty of a\n",
        "  b:    from a*x+b\n",
        "  ub:   uncertainty of b\n",
        "  R:    R square\n",
        "  chi:  chi square\n",
        "  '''\n",
        "  # calculating regression\n",
        "  X = sm.add_constant(x)\n",
        "  model = sm.WLS(y,X,weights=uy)\n",
        "  results = model.fit()\n",
        "  print(results.summary())\n",
        "\n",
        "  # Parameters\n",
        "  a = round(results.params[1],a_round)\n",
        "  b = round(results.params[0],b_round)\n",
        "  ua = round(results.bse[1],a_round)\n",
        "  ub = round(results.bse[0],b_round)\n",
        "  R = round(results.rsquared,r_round)\n",
        "\n",
        "  # lin. Reg.\n",
        "  f_x = a*x+b\n",
        "\n",
        "  # chi square\n",
        "  chi = round(chi_sq(x,y,f_x,uy),3)\n",
        "\n",
        "  return a,ua,b,ub,R,chi\n",
        "\n",
        "def reg_ols(x,y,a_round=3,b_round=3,r_round=4):\n",
        "  '''\n",
        "  Returning variables:\n",
        "  a:    from a*x+b\n",
        "  ua:   uncertainty of a\n",
        "  b:    from a*x+b\n",
        "  ub:   uncertainty of b\n",
        "  R:    R square\n",
        "  '''\n",
        "  # calculating regression\n",
        "  X = sm.add_constant(x)\n",
        "  model = sm.OLS(y,X)\n",
        "  results = model.fit()\n",
        "  print(results.summary())\n",
        "\n",
        "  # Parameters\n",
        "  a = round(results.params[1],a_round)\n",
        "  b = round(results.params[0],b_round)\n",
        "  ua = round(results.bse[1],a_round)\n",
        "  ub = round(results.bse[0],b_round)\n",
        "  R = round(results.rsquared,r_round)\n",
        "\n",
        "  return a,ua,b,ub,R"
      ]
    },
    {
      "cell_type": "markdown",
      "metadata": {
        "id": "6X2DDekeouG8"
      },
      "source": [
        "# Daten"
      ]
    },
    {
      "cell_type": "code",
      "execution_count": 5,
      "metadata": {
        "colab": {
          "base_uri": "https://localhost:8080/"
        },
        "id": "PHeTPtPjo_Nj",
        "outputId": "d1dd5eb6-08f0-4bb3-e915-97532e037523"
      },
      "outputs": [
        {
          "data": {
            "text/plain": [
              "['Resonanzmessung', 'MR_2_MR_3']"
            ]
          },
          "execution_count": 5,
          "metadata": {},
          "output_type": "execute_result"
        }
      ],
      "source": [
        "path = '../Data/M12-Saitenschwinung.xlsx'\n",
        "xl = pd.ExcelFile(path)\n",
        "xl.sheet_names"
      ]
    },
    {
      "cell_type": "code",
      "execution_count": 6,
      "metadata": {
        "id": "QEDeDWRPpT0S"
      },
      "outputs": [],
      "source": [
        "df1 = pd.read_excel(xl,'Resonanzmessung')\n",
        "df2 = pd.read_excel(xl,'MR_2_MR_3')"
      ]
    },
    {
      "cell_type": "code",
      "execution_count": 7,
      "metadata": {
        "colab": {
          "base_uri": "https://localhost:8080/",
          "height": 206
        },
        "id": "UtRmmfQ5rkTb",
        "outputId": "a3426372-2ff6-4a3e-de19-fb88a3d504e3"
      },
      "outputs": [
        {
          "data": {
            "text/html": [
              "<div>\n",
              "<style scoped>\n",
              "    .dataframe tbody tr th:only-of-type {\n",
              "        vertical-align: middle;\n",
              "    }\n",
              "\n",
              "    .dataframe tbody tr th {\n",
              "        vertical-align: top;\n",
              "    }\n",
              "\n",
              "    .dataframe thead th {\n",
              "        text-align: right;\n",
              "    }\n",
              "</style>\n",
              "<table border=\"1\" class=\"dataframe\">\n",
              "  <thead>\n",
              "    <tr style=\"text-align: right;\">\n",
              "      <th></th>\n",
              "      <th>Unnamed: 0</th>\n",
              "      <th>L [cm]</th>\n",
              "      <th>f1 [Hz]</th>\n",
              "      <th>Masse [g]</th>\n",
              "      <th>f3 [Hz]</th>\n",
              "      <th>info</th>\n",
              "    </tr>\n",
              "  </thead>\n",
              "  <tbody>\n",
              "    <tr>\n",
              "      <th>0</th>\n",
              "      <td>0</td>\n",
              "      <td>25.0</td>\n",
              "      <td>235.70</td>\n",
              "      <td>1000</td>\n",
              "      <td>77.88</td>\n",
              "      <td>zwei unterschiedliche messreihen in einem sheet</td>\n",
              "    </tr>\n",
              "    <tr>\n",
              "      <th>1</th>\n",
              "      <td>1</td>\n",
              "      <td>30.0</td>\n",
              "      <td>187.00</td>\n",
              "      <td>950</td>\n",
              "      <td>76.39</td>\n",
              "      <td>n=k=3</td>\n",
              "    </tr>\n",
              "    <tr>\n",
              "      <th>2</th>\n",
              "      <td>2</td>\n",
              "      <td>35.0</td>\n",
              "      <td>156.50</td>\n",
              "      <td>750</td>\n",
              "      <td>69.11</td>\n",
              "      <td>für f3 ist die Saitenlänge 0.6m und n=1,k=3</td>\n",
              "    </tr>\n",
              "    <tr>\n",
              "      <th>3</th>\n",
              "      <td>3</td>\n",
              "      <td>40.0</td>\n",
              "      <td>117.20</td>\n",
              "      <td>650</td>\n",
              "      <td>63.95</td>\n",
              "      <td>NaN</td>\n",
              "    </tr>\n",
              "    <tr>\n",
              "      <th>4</th>\n",
              "      <td>4</td>\n",
              "      <td>45.0</td>\n",
              "      <td>103.93</td>\n",
              "      <td>550</td>\n",
              "      <td>59.68</td>\n",
              "      <td>NaN</td>\n",
              "    </tr>\n",
              "  </tbody>\n",
              "</table>\n",
              "</div>"
            ],
            "text/plain": [
              "   Unnamed: 0  L [cm]  f1 [Hz]  Masse [g]  f3 [Hz]  \\\n",
              "0           0    25.0   235.70       1000    77.88   \n",
              "1           1    30.0   187.00        950    76.39   \n",
              "2           2    35.0   156.50        750    69.11   \n",
              "3           3    40.0   117.20        650    63.95   \n",
              "4           4    45.0   103.93        550    59.68   \n",
              "\n",
              "                                              info  \n",
              "0  zwei unterschiedliche messreihen in einem sheet  \n",
              "1                                            n=k=3  \n",
              "2      für f3 ist die Saitenlänge 0.6m und n=1,k=3  \n",
              "3                                              NaN  \n",
              "4                                              NaN  "
            ]
          },
          "execution_count": 7,
          "metadata": {},
          "output_type": "execute_result"
        }
      ],
      "source": [
        "df2.head()"
      ]
    },
    {
      "cell_type": "markdown",
      "metadata": {
        "id": "k5AoieAJqdLL"
      },
      "source": [
        "# Aufgabe 1"
      ]
    },
    {
      "cell_type": "code",
      "execution_count": 8,
      "metadata": {
        "colab": {
          "base_uri": "https://localhost:8080/",
          "height": 206
        },
        "id": "5V_3b2wSqfMk",
        "outputId": "6921b6b0-07d0-486f-848c-62fb9e835a41"
      },
      "outputs": [
        {
          "data": {
            "text/html": [
              "<div>\n",
              "<style scoped>\n",
              "    .dataframe tbody tr th:only-of-type {\n",
              "        vertical-align: middle;\n",
              "    }\n",
              "\n",
              "    .dataframe tbody tr th {\n",
              "        vertical-align: top;\n",
              "    }\n",
              "\n",
              "    .dataframe thead th {\n",
              "        text-align: right;\n",
              "    }\n",
              "</style>\n",
              "<table border=\"1\" class=\"dataframe\">\n",
              "  <thead>\n",
              "    <tr style=\"text-align: right;\">\n",
              "      <th></th>\n",
              "      <th>Unnamed: 0</th>\n",
              "      <th>n</th>\n",
              "      <th>f_n[Hz]</th>\n",
              "      <th>info</th>\n",
              "    </tr>\n",
              "  </thead>\n",
              "  <tbody>\n",
              "    <tr>\n",
              "      <th>0</th>\n",
              "      <td>0</td>\n",
              "      <td>1</td>\n",
              "      <td>78.48</td>\n",
              "      <td>Gewicht: 1kg, 3 kerbe</td>\n",
              "    </tr>\n",
              "    <tr>\n",
              "      <th>1</th>\n",
              "      <td>1</td>\n",
              "      <td>2</td>\n",
              "      <td>157.00</td>\n",
              "      <td>NaN</td>\n",
              "    </tr>\n",
              "    <tr>\n",
              "      <th>2</th>\n",
              "      <td>2</td>\n",
              "      <td>3</td>\n",
              "      <td>234.80</td>\n",
              "      <td>NaN</td>\n",
              "    </tr>\n",
              "    <tr>\n",
              "      <th>3</th>\n",
              "      <td>3</td>\n",
              "      <td>4</td>\n",
              "      <td>314.30</td>\n",
              "      <td>NaN</td>\n",
              "    </tr>\n",
              "    <tr>\n",
              "      <th>4</th>\n",
              "      <td>4</td>\n",
              "      <td>5</td>\n",
              "      <td>393.40</td>\n",
              "      <td>NaN</td>\n",
              "    </tr>\n",
              "  </tbody>\n",
              "</table>\n",
              "</div>"
            ],
            "text/plain": [
              "   Unnamed: 0  n  f_n[Hz]                   info\n",
              "0           0  1    78.48  Gewicht: 1kg, 3 kerbe\n",
              "1           1  2   157.00                    NaN\n",
              "2           2  3   234.80                    NaN\n",
              "3           3  4   314.30                    NaN\n",
              "4           4  5   393.40                    NaN"
            ]
          },
          "execution_count": 8,
          "metadata": {},
          "output_type": "execute_result"
        }
      ],
      "source": [
        "df1.head()"
      ]
    },
    {
      "cell_type": "code",
      "execution_count": 9,
      "metadata": {
        "id": "d8kEI3k0rquv"
      },
      "outputs": [],
      "source": [
        "n1 = np.array(df1['n'])\n",
        "fn = np.array(df1['f_n[Hz]'])\n",
        "ufn = fn*0.008 # 0.8 prozentige Fehlerabschätzung."
      ]
    },
    {
      "cell_type": "markdown",
      "metadata": {
        "id": "PFaU2sX6sDT4"
      },
      "source": [
        "Aus den Notizen ist nicht mehr erkennbar, wie groß ich den Fehler abgeschätzt habe. Daher habe ich mit Hilfe des $\\chi^2$ die Fehler auf 0.8\\% abgeschätzt."
      ]
    },
    {
      "cell_type": "code",
      "execution_count": 10,
      "metadata": {
        "colab": {
          "base_uri": "https://localhost:8080/",
          "height": 434
        },
        "id": "ToOlKYJOsLmo",
        "outputId": "f0b0045b-c78c-4f48-8fd1-4fb47f11d7a9"
      },
      "outputs": [
        {
          "data": {
            "image/png": "[encoded data removed]",
            "text/plain": [
              "<Figure size 640x480 with 1 Axes>"
            ]
          },
          "metadata": {},
          "output_type": "display_data"
        }
      ],
      "source": [
        "plt.errorbar(n1,fn,\n",
        "             fmt='.',\n",
        "             yerr=ufn,\n",
        "             capsize=3,label='Data')\n",
        "plt.yticks([50,225,400,575,750])\n",
        "# plt.xlabel('n')\n",
        "# plt.ylabel('f(n)')\n",
        "plt.show()"
      ]
    },
    {
      "cell_type": "code",
      "execution_count": 11,
      "metadata": {
        "colab": {
          "base_uri": "https://localhost:8080/"
        },
        "id": "hEg-Ge0EP7Ib",
        "outputId": "e138938c-bf27-4ebb-8230-a46edec6f925"
      },
      "outputs": [
        {
          "name": "stdout",
          "output_type": "stream",
          "text": [
            "                            WLS Regression Results                            \n",
            "==============================================================================\n",
            "Dep. Variable:                      y   R-squared:                       1.000\n",
            "Model:                            WLS   Adj. R-squared:                  1.000\n",
            "Method:                 Least Squares   F-statistic:                 1.364e+06\n",
            "Date:                Sat, 01 Mar 2025   Prob (F-statistic):           8.91e-20\n",
            "Time:                        15:43:48   Log-Likelihood:                -5.2917\n",
            "No. Observations:                   9   AIC:                             14.58\n",
            "Df Residuals:                       7   BIC:                             14.98\n",
            "Df Model:                           1                                         \n",
            "Covariance Type:            nonrobust                                         \n",
            "==============================================================================\n",
            "                 coef    std err          t      P>|t|      [0.025      0.975]\n",
            "------------------------------------------------------------------------------\n",
            "const         -2.2887      0.455     -5.027      0.002      -3.365      -1.212\n",
            "x1            79.2094      0.068   1167.870      0.000      79.049      79.370\n",
            "==============================================================================\n",
            "Omnibus:                        2.199   Durbin-Watson:                   1.209\n",
            "Prob(Omnibus):                  0.333   Jarque-Bera (JB):                1.024\n",
            "Skew:                           0.447   Prob(JB):                        0.599\n",
            "Kurtosis:                       1.611   Cond. No.                         20.8\n",
            "==============================================================================\n",
            "\n",
            "Notes:\n",
            "[1] Standard Errors assume that the covariance matrix of the errors is correctly specified.\n"
          ]
        },
        {
          "name": "stderr",
          "output_type": "stream",
          "text": [
            "c:\\Users\\benjf\\anaconda3\\envs\\projects\\Lib\\site-packages\\scipy\\stats\\_axis_nan_policy.py:430: UserWarning: `kurtosistest` p-value may be inaccurate with fewer than 20 observations; only n=9 observations were given.\n",
            "  return hypotest_fun_in(*args, **kwds)\n"
          ]
        }
      ],
      "source": [
        "Xn = sm.add_constant(n1)\n",
        "model = sm.WLS(fn,Xn,weights=ufn)\n",
        "results = model.fit()\n",
        "print(results.summary())"
      ]
    },
    {
      "cell_type": "code",
      "execution_count": 12,
      "metadata": {
        "colab": {
          "base_uri": "https://localhost:8080/"
        },
        "id": "1E3i0PihQpcE",
        "outputId": "8c402ef8-f7f2-4b7e-eac8-d66cdef5ab9b"
      },
      "outputs": [
        {
          "name": "stdout",
          "output_type": "stream",
          "text": [
            "79.21\n"
          ]
        },
        {
          "data": {
            "text/plain": [
              "np.float64(1.0)"
            ]
          },
          "execution_count": 12,
          "metadata": {},
          "output_type": "execute_result"
        }
      ],
      "source": [
        "a1 = round(results.params[1],2)\n",
        "print(a1)\n",
        "b1 = round(results.params[0],1)\n",
        "ua1 = round(results.bse[1],2)\n",
        "ub1 = round(results.bse[0],1)\n",
        "R1 = round(results.rsquared,3)\n",
        "R1"
      ]
    },
    {
      "cell_type": "code",
      "execution_count": 13,
      "metadata": {
        "colab": {
          "base_uri": "https://localhost:8080/"
        },
        "id": "76h_RQC3RZU_",
        "outputId": "fa6a7e2a-2c5d-4651-b44a-4fc3c0c50331"
      },
      "outputs": [
        {
          "data": {
            "text/plain": [
              "np.float64(0.98)"
            ]
          },
          "execution_count": 13,
          "metadata": {},
          "output_type": "execute_result"
        }
      ],
      "source": [
        "# chi square\n",
        "fx1 = a1*n1+b1\n",
        "chi = round(chi_sq(n1,fn,fx1,ufn),2)\n",
        "chi"
      ]
    },
    {
      "cell_type": "code",
      "execution_count": 14,
      "metadata": {
        "id": "q3BJlen9SzAs"
      },
      "outputs": [],
      "source": [
        "n_reg = np.linspace(0.5,9.5,100)\n",
        "fn_reg = a1*n_reg+b1"
      ]
    },
    {
      "cell_type": "code",
      "execution_count": 15,
      "metadata": {
        "colab": {
          "base_uri": "https://localhost:8080/",
          "height": 453
        },
        "id": "kXKyOoviSbp3",
        "outputId": "c9742832-f98f-4888-c5f5-5e62e88876de"
      },
      "outputs": [
        {
          "name": "stderr",
          "output_type": "stream",
          "text": [
            "<>:6: SyntaxWarning: invalid escape sequence '\\c'\n",
            "<>:6: SyntaxWarning: invalid escape sequence '\\c'\n",
            "C:\\Users\\benjf\\AppData\\Local\\Temp\\ipykernel_36388\\1451315656.py:6: SyntaxWarning: invalid escape sequence '\\c'\n",
            "  plt.plot(n_reg,fn_reg,label=f'Regr.: ${a1}\\cdot n + ({b1})$')\n"
          ]
        },
        {
          "data": {
            "image/png": "[encoded data removed]",
            "text/plain": [
              "<Figure size 640x480 with 1 Axes>"
            ]
          },
          "metadata": {},
          "output_type": "display_data"
        }
      ],
      "source": [
        "plt.errorbar(n1,fn,\n",
        "             fmt='.',\n",
        "             yerr=ufn,\n",
        "             capsize=3,label='Data')\n",
        "\n",
        "plt.plot(n_reg,fn_reg,label=f'Regr.: ${a1}\\cdot n + ({b1})$')\n",
        "plt.legend(loc=2)\n",
        "plt.yticks([50,225,400,575,750])\n",
        "plt.xticks([1,3,5,7,9])\n",
        "plt.xlabel('n')\n",
        "plt.ylabel('f(n)')\n",
        "# plt.show()\n",
        "# plt.savefig('M12-A1.png',dpi=600,transparent=True)\n",
        "plt.show()"
      ]
    },
    {
      "cell_type": "markdown",
      "metadata": {
        "id": "8KU_9ixUU86N"
      },
      "source": [
        "# Aufgabe 2 und 3"
      ]
    },
    {
      "cell_type": "code",
      "execution_count": 16,
      "metadata": {
        "colab": {
          "base_uri": "https://localhost:8080/",
          "height": 206
        },
        "id": "qANv6rItU_PM",
        "outputId": "1a8fbfa7-2f2d-4ac9-8c66-23f2db58b9e0"
      },
      "outputs": [
        {
          "data": {
            "text/html": [
              "<div>\n",
              "<style scoped>\n",
              "    .dataframe tbody tr th:only-of-type {\n",
              "        vertical-align: middle;\n",
              "    }\n",
              "\n",
              "    .dataframe tbody tr th {\n",
              "        vertical-align: top;\n",
              "    }\n",
              "\n",
              "    .dataframe thead th {\n",
              "        text-align: right;\n",
              "    }\n",
              "</style>\n",
              "<table border=\"1\" class=\"dataframe\">\n",
              "  <thead>\n",
              "    <tr style=\"text-align: right;\">\n",
              "      <th></th>\n",
              "      <th>Unnamed: 0</th>\n",
              "      <th>L [cm]</th>\n",
              "      <th>f1 [Hz]</th>\n",
              "      <th>Masse [g]</th>\n",
              "      <th>f3 [Hz]</th>\n",
              "      <th>info</th>\n",
              "    </tr>\n",
              "  </thead>\n",
              "  <tbody>\n",
              "    <tr>\n",
              "      <th>0</th>\n",
              "      <td>0</td>\n",
              "      <td>25.0</td>\n",
              "      <td>235.70</td>\n",
              "      <td>1000</td>\n",
              "      <td>77.88</td>\n",
              "      <td>zwei unterschiedliche messreihen in einem sheet</td>\n",
              "    </tr>\n",
              "    <tr>\n",
              "      <th>1</th>\n",
              "      <td>1</td>\n",
              "      <td>30.0</td>\n",
              "      <td>187.00</td>\n",
              "      <td>950</td>\n",
              "      <td>76.39</td>\n",
              "      <td>n=k=3</td>\n",
              "    </tr>\n",
              "    <tr>\n",
              "      <th>2</th>\n",
              "      <td>2</td>\n",
              "      <td>35.0</td>\n",
              "      <td>156.50</td>\n",
              "      <td>750</td>\n",
              "      <td>69.11</td>\n",
              "      <td>für f3 ist die Saitenlänge 0.6m und n=1,k=3</td>\n",
              "    </tr>\n",
              "    <tr>\n",
              "      <th>3</th>\n",
              "      <td>3</td>\n",
              "      <td>40.0</td>\n",
              "      <td>117.20</td>\n",
              "      <td>650</td>\n",
              "      <td>63.95</td>\n",
              "      <td>NaN</td>\n",
              "    </tr>\n",
              "    <tr>\n",
              "      <th>4</th>\n",
              "      <td>4</td>\n",
              "      <td>45.0</td>\n",
              "      <td>103.93</td>\n",
              "      <td>550</td>\n",
              "      <td>59.68</td>\n",
              "      <td>NaN</td>\n",
              "    </tr>\n",
              "  </tbody>\n",
              "</table>\n",
              "</div>"
            ],
            "text/plain": [
              "   Unnamed: 0  L [cm]  f1 [Hz]  Masse [g]  f3 [Hz]  \\\n",
              "0           0    25.0   235.70       1000    77.88   \n",
              "1           1    30.0   187.00        950    76.39   \n",
              "2           2    35.0   156.50        750    69.11   \n",
              "3           3    40.0   117.20        650    63.95   \n",
              "4           4    45.0   103.93        550    59.68   \n",
              "\n",
              "                                              info  \n",
              "0  zwei unterschiedliche messreihen in einem sheet  \n",
              "1                                            n=k=3  \n",
              "2      für f3 ist die Saitenlänge 0.6m und n=1,k=3  \n",
              "3                                              NaN  \n",
              "4                                              NaN  "
            ]
          },
          "execution_count": 16,
          "metadata": {},
          "output_type": "execute_result"
        }
      ],
      "source": [
        "df2.head()"
      ]
    },
    {
      "cell_type": "markdown",
      "metadata": {
        "id": "0mXcZG50Vh-2"
      },
      "source": [
        "## A2"
      ]
    },
    {
      "cell_type": "code",
      "execution_count": 17,
      "metadata": {
        "colab": {
          "base_uri": "https://localhost:8080/",
          "height": 479
        },
        "id": "3keFm8KJVEXr",
        "outputId": "1b019f5d-456b-4710-a41e-a94789d11885"
      },
      "outputs": [
        {
          "data": {
            "text/plain": [
              "Text(0, 0.5, 'f [Hz]')"
            ]
          },
          "execution_count": 17,
          "metadata": {},
          "output_type": "execute_result"
        }
      ],
      "source": [
        "plt.plot(1/df2['L [cm]'],df2['f1 [Hz]'],'ro')\n",
        "plt.xlabel('1/l [m$^{-1}$]')\n",
        "plt.ylabel('f [Hz]')"
      ]
    },
    {
      "cell_type": "code",
      "execution_count": 18,
      "metadata": {
        "colab": {
          "base_uri": "https://localhost:8080/"
        },
        "id": "u4USNkGkVofG",
        "outputId": "125a0c44-3fea-4571-e4db-9a9e47ccaf73"
      },
      "outputs": [
        {
          "name": "stdout",
          "output_type": "stream",
          "text": [
            "9\n",
            "[23.57  18.7   15.65  11.72  10.393  9.372  8.557  0.876  7.264]\n",
            "                            WLS Regression Results                            \n",
            "==============================================================================\n",
            "Dep. Variable:                      y   R-squared:                       0.982\n",
            "Model:                            WLS   Adj. R-squared:                  0.980\n",
            "Method:                 Least Squares   F-statistic:                     384.2\n",
            "Date:                Sat, 01 Mar 2025   Prob (F-statistic):           2.25e-07\n",
            "Time:                        15:44:29   Log-Likelihood:                -32.410\n",
            "No. Observations:                   9   AIC:                             68.82\n",
            "Df Residuals:                       7   BIC:                             69.21\n",
            "Df Model:                           1                                         \n",
            "Covariance Type:            nonrobust                                         \n",
            "==============================================================================\n",
            "                 coef    std err          t      P>|t|      [0.025      0.975]\n",
            "------------------------------------------------------------------------------\n",
            "const        -48.6749     10.640     -4.575      0.003     -73.835     -23.515\n",
            "x1          7072.9916    360.830     19.602      0.000    6219.765    7926.219\n",
            "==============================================================================\n",
            "Omnibus:                        1.534   Durbin-Watson:                   2.670\n",
            "Prob(Omnibus):                  0.464   Jarque-Bera (JB):                0.788\n",
            "Skew:                          -0.687   Prob(JB):                        0.674\n",
            "Kurtosis:                       2.538   Cond. No.                         123.\n",
            "==============================================================================\n",
            "\n",
            "Notes:\n",
            "[1] Standard Errors assume that the covariance matrix of the errors is correctly specified.\n"
          ]
        },
        {
          "name": "stderr",
          "output_type": "stream",
          "text": [
            "c:\\Users\\benjf\\anaconda3\\envs\\projects\\Lib\\site-packages\\scipy\\stats\\_axis_nan_policy.py:430: UserWarning: `kurtosistest` p-value may be inaccurate with fewer than 20 observations; only n=9 observations were given.\n",
            "  return hypotest_fun_in(*args, **kwds)\n"
          ]
        }
      ],
      "source": [
        "f1 = np.array(df2['f1 [Hz]'])[:9]\n",
        "uf1 = 0.1*f1\n",
        "print(len(f1))\n",
        "print(uf1)\n",
        "l = 1/np.array(df2['L [cm]'])\n",
        "L = sm.add_constant(l[:9])\n",
        "model2 = sm.WLS(f1,L,weights=uf1)\n",
        "results2 = model2.fit()\n",
        "print(results2.summary())"
      ]
    },
    {
      "cell_type": "code",
      "execution_count": 19,
      "metadata": {
        "colab": {
          "base_uri": "https://localhost:8080/"
        },
        "id": "PMd523kbtWtV",
        "outputId": "5b4602c4-3816-43d5-a224-ee37fbb483f7"
      },
      "outputs": [
        {
          "name": "stdout",
          "output_type": "stream",
          "text": [
            "7072.99\n"
          ]
        },
        {
          "data": {
            "text/plain": [
              "np.float64(0.982)"
            ]
          },
          "execution_count": 19,
          "metadata": {},
          "output_type": "execute_result"
        }
      ],
      "source": [
        "a2 = round(results2.params[1],2)\n",
        "print(a2)\n",
        "b2 = round(results2.params[0],1)\n",
        "ua2 = round(results2.bse[1],2)\n",
        "ub2 = round(results2.bse[0],1)\n",
        "R2 = round(results2.rsquared,3)\n",
        "R2"
      ]
    },
    {
      "cell_type": "code",
      "execution_count": 20,
      "metadata": {
        "colab": {
          "base_uri": "https://localhost:8080/"
        },
        "id": "BMfnTsvgtneC",
        "outputId": "d0e04264-54c5-4cd4-f34a-7e67a5bb62ba"
      },
      "outputs": [
        {
          "data": {
            "text/plain": [
              "np.float64(680.32)"
            ]
          },
          "execution_count": 20,
          "metadata": {},
          "output_type": "execute_result"
        }
      ],
      "source": [
        "# chi square\n",
        "l = l[:9]\n",
        "fx2 = a2*l+b2\n",
        "chi2 = round(chi_sq(l,f1,fx2,uf1),2)\n",
        "chi2"
      ]
    },
    {
      "cell_type": "markdown",
      "metadata": {
        "id": "HcVe10GfuWXv"
      },
      "source": [
        "### Versuch Nr. 2"
      ]
    },
    {
      "cell_type": "code",
      "execution_count": 21,
      "metadata": {
        "colab": {
          "base_uri": "https://localhost:8080/"
        },
        "id": "xNR8StMiucOu",
        "outputId": "54f9de81-5ba4-4f1e-bfbc-51c47f7d2490"
      },
      "outputs": [
        {
          "name": "stdout",
          "output_type": "stream",
          "text": [
            "[235.7  187.   156.5  117.2  103.93  93.72  85.57   8.76  72.64]\n"
          ]
        }
      ],
      "source": [
        "print(f1)"
      ]
    },
    {
      "cell_type": "code",
      "execution_count": 22,
      "metadata": {
        "id": "I6-4XAQmuiz-"
      },
      "outputs": [],
      "source": [
        "l = np.array([0.04,0.03333333, 0.02857143 ,0.025 ,     0.02222222, 0.02,\n",
        " 0.01818182,0.01538462])\n",
        "f1 = np.array([235.7 ,187. ,  156.5 , 117.2,  103.93 , 93.72 ,\n",
        "               85.57 ,   72.64])"
      ]
    },
    {
      "cell_type": "code",
      "execution_count": 23,
      "metadata": {
        "colab": {
          "base_uri": "https://localhost:8080/"
        },
        "id": "-6cAmJ9cvYlG",
        "outputId": "336bf820-8cef-4352-ad3c-d47fb9f5628a"
      },
      "outputs": [
        {
          "name": "stdout",
          "output_type": "stream",
          "text": [
            "8\n",
            "[18.856  14.96   12.52    9.376   8.3144  7.4976  6.8456  5.8112]\n",
            "                            WLS Regression Results                            \n",
            "==============================================================================\n",
            "Dep. Variable:                      y   R-squared:                       0.991\n",
            "Model:                            WLS   Adj. R-squared:                  0.989\n",
            "Method:                 Least Squares   F-statistic:                     644.0\n",
            "Date:                Sat, 01 Mar 2025   Prob (F-statistic):           2.47e-07\n",
            "Time:                        15:44:34   Log-Likelihood:                -25.257\n",
            "No. Observations:                   8   AIC:                             54.51\n",
            "Df Residuals:                       6   BIC:                             54.67\n",
            "Df Model:                           1                                         \n",
            "Covariance Type:            nonrobust                                         \n",
            "==============================================================================\n",
            "                 coef    std err          t      P>|t|      [0.025      0.975]\n",
            "------------------------------------------------------------------------------\n",
            "const        -45.6204      8.138     -5.606      0.001     -65.533     -25.708\n",
            "x1          6983.2633    275.183     25.377      0.000    6309.914    7656.613\n",
            "==============================================================================\n",
            "Omnibus:                        2.100   Durbin-Watson:                   1.276\n",
            "Prob(Omnibus):                  0.350   Jarque-Bera (JB):                0.672\n",
            "Skew:                          -0.705   Prob(JB):                        0.715\n",
            "Kurtosis:                       2.841   Cond. No.                         123.\n",
            "==============================================================================\n",
            "\n",
            "Notes:\n",
            "[1] Standard Errors assume that the covariance matrix of the errors is correctly specified.\n"
          ]
        },
        {
          "name": "stderr",
          "output_type": "stream",
          "text": [
            "c:\\Users\\benjf\\anaconda3\\envs\\projects\\Lib\\site-packages\\scipy\\stats\\_axis_nan_policy.py:430: UserWarning: `kurtosistest` p-value may be inaccurate with fewer than 20 observations; only n=8 observations were given.\n",
            "  return hypotest_fun_in(*args, **kwds)\n"
          ]
        }
      ],
      "source": [
        "# f1 = np.array(df2['f1 [Hz]'])[:9]\n",
        "uf1 = 0.08*f1\n",
        "print(len(f1))\n",
        "print(uf1)\n",
        "# l = 1/np.array(df2['L [cm]'])\n",
        "L = sm.add_constant(l)\n",
        "model2 = sm.WLS(f1,L,weights=uf1)\n",
        "results2 = model2.fit()\n",
        "print(results2.summary())"
      ]
    },
    {
      "cell_type": "code",
      "execution_count": 24,
      "metadata": {
        "colab": {
          "base_uri": "https://localhost:8080/"
        },
        "id": "OJHXqrk1vg_C",
        "outputId": "04f3d782-1ef9-43d9-95d0-5b946aea0819"
      },
      "outputs": [
        {
          "name": "stdout",
          "output_type": "stream",
          "text": [
            "6983.26\n"
          ]
        },
        {
          "data": {
            "text/plain": [
              "np.float64(0.991)"
            ]
          },
          "execution_count": 24,
          "metadata": {},
          "output_type": "execute_result"
        }
      ],
      "source": [
        "a2 = round(results2.params[1],2)\n",
        "print(a2)\n",
        "b2 = round(results2.params[0],1)\n",
        "ua2 = round(results2.bse[1],2)\n",
        "ub2 = round(results2.bse[0],1)\n",
        "R2 = round(results2.rsquared,3)\n",
        "R2"
      ]
    },
    {
      "cell_type": "code",
      "execution_count": 25,
      "metadata": {
        "colab": {
          "base_uri": "https://localhost:8080/"
        },
        "id": "InyP3XB3vlGs",
        "outputId": "eee8e0b0-a76c-45e4-c73f-3a08c0b6921a"
      },
      "outputs": [
        {
          "data": {
            "text/plain": [
              "np.float64(0.99)"
            ]
          },
          "execution_count": 25,
          "metadata": {},
          "output_type": "execute_result"
        }
      ],
      "source": [
        "# chi square\n",
        "# l = l[:9]\n",
        "fx2 = a2*l+b2\n",
        "chi2 = round(chi_sq(l,f1,fx2,uf1),2)\n",
        "chi2"
      ]
    },
    {
      "cell_type": "code",
      "execution_count": 26,
      "metadata": {
        "colab": {
          "base_uri": "https://localhost:8080/"
        },
        "id": "pV__nQR7wj6f",
        "outputId": "c9370aca-2b92-4f34-bcd2-0558f7622240"
      },
      "outputs": [
        {
          "name": "stdout",
          "output_type": "stream",
          "text": [
            "[0.04       0.03333333 0.02857143 0.025      0.02222222 0.02\n",
            " 0.01818182 0.01538462]\n"
          ]
        }
      ],
      "source": [
        "print(l)\n",
        "l_reg = np.linspace(0.010,0.048,1000)\n",
        "f1_reg = a2*l_reg+b2"
      ]
    },
    {
      "cell_type": "code",
      "execution_count": 27,
      "metadata": {
        "colab": {
          "base_uri": "https://localhost:8080/",
          "height": 462
        },
        "id": "rXIDpJNZwRDw",
        "outputId": "0a90eb7a-0ed6-4892-c5cf-ce0cd2703c7c"
      },
      "outputs": [
        {
          "name": "stderr",
          "output_type": "stream",
          "text": [
            "<>:6: SyntaxWarning: invalid escape sequence '\\c'\n",
            "<>:10: SyntaxWarning: invalid escape sequence '\\c'\n",
            "<>:6: SyntaxWarning: invalid escape sequence '\\c'\n",
            "<>:10: SyntaxWarning: invalid escape sequence '\\c'\n",
            "C:\\Users\\benjf\\AppData\\Local\\Temp\\ipykernel_36388\\4222665387.py:6: SyntaxWarning: invalid escape sequence '\\c'\n",
            "  plt.plot(l_reg,f1_reg,label=f'Regr.: ${a2}\\cdot n + ({b2})$')\n",
            "C:\\Users\\benjf\\AppData\\Local\\Temp\\ipykernel_36388\\4222665387.py:10: SyntaxWarning: invalid escape sequence '\\c'\n",
            "  plt.xlabel('1/l [cm$^{-1}\\cdot 10^{-3}$]')\n"
          ]
        },
        {
          "data": {
            "image/png": "[encoded data removed]",
            "text/plain": [
              "<Figure size 640x480 with 1 Axes>"
            ]
          },
          "metadata": {},
          "output_type": "display_data"
        }
      ],
      "source": [
        "plt.errorbar(l,f1,\n",
        "             fmt='.',\n",
        "             yerr=uf1,\n",
        "             capsize=3,label='Data')\n",
        "\n",
        "plt.plot(l_reg,f1_reg,label=f'Regr.: ${a2}\\cdot n + ({b2})$')\n",
        "plt.legend(loc=2)\n",
        "plt.yticks([0,100,200,300])\n",
        "plt.xticks([.01,.02,0.03,0.04,0.05],[10,20,30,40,50])\n",
        "plt.xlabel('1/l [cm$^{-1}\\cdot 10^{-3}$]')\n",
        "plt.ylabel('f(1/l) [Hz]')\n",
        "plt.grid()\n",
        "plt.show()\n",
        "# plt.savefig('M12-A2.png',dpi=600,transparent=True)"
      ]
    },
    {
      "cell_type": "markdown",
      "metadata": {
        "id": "FlMACtuE6UWw"
      },
      "source": [
        "## A3"
      ]
    },
    {
      "cell_type": "code",
      "execution_count": 28,
      "metadata": {
        "colab": {
          "base_uri": "https://localhost:8080/",
          "height": 206
        },
        "id": "lmAHPLwE6YKZ",
        "outputId": "bfda344c-5262-44eb-a1b7-ffc5e1d252d6"
      },
      "outputs": [
        {
          "data": {
            "text/html": [
              "<div>\n",
              "<style scoped>\n",
              "    .dataframe tbody tr th:only-of-type {\n",
              "        vertical-align: middle;\n",
              "    }\n",
              "\n",
              "    .dataframe tbody tr th {\n",
              "        vertical-align: top;\n",
              "    }\n",
              "\n",
              "    .dataframe thead th {\n",
              "        text-align: right;\n",
              "    }\n",
              "</style>\n",
              "<table border=\"1\" class=\"dataframe\">\n",
              "  <thead>\n",
              "    <tr style=\"text-align: right;\">\n",
              "      <th></th>\n",
              "      <th>Unnamed: 0</th>\n",
              "      <th>L [cm]</th>\n",
              "      <th>f1 [Hz]</th>\n",
              "      <th>Masse [g]</th>\n",
              "      <th>f3 [Hz]</th>\n",
              "      <th>info</th>\n",
              "    </tr>\n",
              "  </thead>\n",
              "  <tbody>\n",
              "    <tr>\n",
              "      <th>0</th>\n",
              "      <td>0</td>\n",
              "      <td>25.0</td>\n",
              "      <td>235.70</td>\n",
              "      <td>1000</td>\n",
              "      <td>77.88</td>\n",
              "      <td>zwei unterschiedliche messreihen in einem sheet</td>\n",
              "    </tr>\n",
              "    <tr>\n",
              "      <th>1</th>\n",
              "      <td>1</td>\n",
              "      <td>30.0</td>\n",
              "      <td>187.00</td>\n",
              "      <td>950</td>\n",
              "      <td>76.39</td>\n",
              "      <td>n=k=3</td>\n",
              "    </tr>\n",
              "    <tr>\n",
              "      <th>2</th>\n",
              "      <td>2</td>\n",
              "      <td>35.0</td>\n",
              "      <td>156.50</td>\n",
              "      <td>750</td>\n",
              "      <td>69.11</td>\n",
              "      <td>für f3 ist die Saitenlänge 0.6m und n=1,k=3</td>\n",
              "    </tr>\n",
              "    <tr>\n",
              "      <th>3</th>\n",
              "      <td>3</td>\n",
              "      <td>40.0</td>\n",
              "      <td>117.20</td>\n",
              "      <td>650</td>\n",
              "      <td>63.95</td>\n",
              "      <td>NaN</td>\n",
              "    </tr>\n",
              "    <tr>\n",
              "      <th>4</th>\n",
              "      <td>4</td>\n",
              "      <td>45.0</td>\n",
              "      <td>103.93</td>\n",
              "      <td>550</td>\n",
              "      <td>59.68</td>\n",
              "      <td>NaN</td>\n",
              "    </tr>\n",
              "  </tbody>\n",
              "</table>\n",
              "</div>"
            ],
            "text/plain": [
              "   Unnamed: 0  L [cm]  f1 [Hz]  Masse [g]  f3 [Hz]  \\\n",
              "0           0    25.0   235.70       1000    77.88   \n",
              "1           1    30.0   187.00        950    76.39   \n",
              "2           2    35.0   156.50        750    69.11   \n",
              "3           3    40.0   117.20        650    63.95   \n",
              "4           4    45.0   103.93        550    59.68   \n",
              "\n",
              "                                              info  \n",
              "0  zwei unterschiedliche messreihen in einem sheet  \n",
              "1                                            n=k=3  \n",
              "2      für f3 ist die Saitenlänge 0.6m und n=1,k=3  \n",
              "3                                              NaN  \n",
              "4                                              NaN  "
            ]
          },
          "execution_count": 28,
          "metadata": {},
          "output_type": "execute_result"
        }
      ],
      "source": [
        "df2.head()"
      ]
    },
    {
      "cell_type": "markdown",
      "metadata": {
        "id": "APAk3RgS7JCz"
      },
      "source": [
        "**Zugspannung**\n",
        "- Annahme: $ F_0 = m\\cdot g$\n",
        "- Formel: $f_3^2 = \\frac{3}{2} ⋅ \\frac{1}{l^2⋅ \\mu} F_0$"
      ]
    },
    {
      "cell_type": "code",
      "execution_count": 29,
      "metadata": {
        "id": "PJT0g9Oq7IdP"
      },
      "outputs": [],
      "source": [
        "l0 = 0.6 # m\n",
        "m = np.array(df2['Masse [g]'])/1000 # kg\n",
        "um = 0.5/1000\n",
        "F0 = 9.81*m\n",
        "uF0 = 9.81*um*np.ones(len(m))\n",
        "f3 = np.array(df2['f3 [Hz]'])\n",
        "uf3 = 0.05*f3"
      ]
    },
    {
      "cell_type": "code",
      "execution_count": 33,
      "metadata": {
        "colab": {
          "base_uri": "https://localhost:8080/",
          "height": 479
        },
        "id": "iZUaYCOG-hyl",
        "outputId": "ae415114-6559-43f9-cb14-d5325086dfa8"
      },
      "outputs": [
        {
          "data": {
            "image/png": "[encoded data removed]",
            "text/plain": [
              "<Figure size 640x480 with 1 Axes>"
            ]
          },
          "metadata": {},
          "output_type": "display_data"
        }
      ],
      "source": [
        "plt.errorbar(F0,f3,\n",
        "             fmt='.',color='red',\n",
        "             capsize=3,\n",
        "            #  xerr=uF0,\n",
        "             yerr=uf3\n",
        "             )\n",
        "plt.xticks([1,4,7,10])\n",
        "plt.yticks([30,50,70,90])\n",
        "plt.xlabel('$F_0$ [N]')\n",
        "plt.ylabel('$f_3$ [Hz]')\n",
        "plt.show()"
      ]
    },
    {
      "cell_type": "markdown",
      "metadata": {
        "id": "qyRmQcCT_u5m"
      },
      "source": [
        "### Lineare Regression"
      ]
    },
    {
      "cell_type": "code",
      "execution_count": 34,
      "metadata": {
        "colab": {
          "base_uri": "https://localhost:8080/"
        },
        "id": "0Nmj-WwLCYXB",
        "outputId": "6b642b85-e35f-4ee3-fbf2-f630e68eeb91"
      },
      "outputs": [
        {
          "name": "stdout",
          "output_type": "stream",
          "text": [
            "                            WLS Regression Results                            \n",
            "==============================================================================\n",
            "Dep. Variable:                      y   R-squared:                       0.981\n",
            "Model:                            WLS   Adj. R-squared:                  0.979\n",
            "Method:                 Least Squares   F-statistic:                     412.1\n",
            "Date:                Sat, 01 Mar 2025   Prob (F-statistic):           3.62e-08\n",
            "Time:                        15:45:02   Log-Likelihood:                -20.377\n",
            "No. Observations:                  10   AIC:                             44.75\n",
            "Df Residuals:                       8   BIC:                             45.36\n",
            "Df Model:                           1                                         \n",
            "Covariance Type:            nonrobust                                         \n",
            "==============================================================================\n",
            "                 coef    std err          t      P>|t|      [0.025      0.975]\n",
            "------------------------------------------------------------------------------\n",
            "const         30.0879      1.743     17.261      0.000      26.068      34.107\n",
            "x1             5.1069      0.252     20.300      0.000       4.527       5.687\n",
            "==============================================================================\n",
            "Omnibus:                        1.370   Durbin-Watson:                   1.560\n",
            "Prob(Omnibus):                  0.504   Jarque-Bera (JB):                1.004\n",
            "Skew:                          -0.631   Prob(JB):                        0.605\n",
            "Kurtosis:                       2.095   Cond. No.                         19.0\n",
            "==============================================================================\n",
            "\n",
            "Notes:\n",
            "[1] Standard Errors assume that the covariance matrix of the errors is correctly specified.\n"
          ]
        },
        {
          "name": "stderr",
          "output_type": "stream",
          "text": [
            "c:\\Users\\benjf\\anaconda3\\envs\\projects\\Lib\\site-packages\\scipy\\stats\\_axis_nan_policy.py:430: UserWarning: `kurtosistest` p-value may be inaccurate with fewer than 20 observations; only n=10 observations were given.\n",
            "  return hypotest_fun_in(*args, **kwds)\n"
          ]
        }
      ],
      "source": [
        "lst = reg_wls(F0,f3,uf3,1,1)\n",
        "# print(lst)"
      ]
    },
    {
      "cell_type": "code",
      "execution_count": 35,
      "metadata": {
        "colab": {
          "base_uri": "https://localhost:8080/"
        },
        "id": "mKyWtG5XCkdh",
        "outputId": "5a64c809-7a50-47aa-d61c-9a372bc02a18"
      },
      "outputs": [
        {
          "data": {
            "text/plain": [
              "(np.float64(5.1),\n",
              " np.float64(0.3),\n",
              " np.float64(30.1),\n",
              " np.float64(1.7),\n",
              " np.float64(0.981),\n",
              " np.float64(1.236))"
            ]
          },
          "execution_count": 35,
          "metadata": {},
          "output_type": "execute_result"
        }
      ],
      "source": [
        "lst"
      ]
    },
    {
      "cell_type": "code",
      "execution_count": 36,
      "metadata": {
        "id": "Ol_iTsYsDOkA"
      },
      "outputs": [],
      "source": [
        "reg_f0 = np.linspace(1.1,9.9,100)\n",
        "reg_f3 = lst[0]*reg_f0+lst[2]"
      ]
    },
    {
      "cell_type": "code",
      "execution_count": 37,
      "metadata": {
        "colab": {
          "base_uri": "https://localhost:8080/",
          "height": 462
        },
        "id": "Sksx0KlODg1p",
        "outputId": "a7991650-a112-4e9e-832e-7386c17adb59"
      },
      "outputs": [
        {
          "name": "stderr",
          "output_type": "stream",
          "text": [
            "<>:8: SyntaxWarning: invalid escape sequence '\\c'\n",
            "<>:8: SyntaxWarning: invalid escape sequence '\\c'\n",
            "C:\\Users\\benjf\\AppData\\Local\\Temp\\ipykernel_36388\\1970351903.py:8: SyntaxWarning: invalid escape sequence '\\c'\n",
            "  plt.plot(reg_f0,reg_f3,label=f'Reg.: ${lst[0]}\\cdot F0 + {lst[2]}$')\n"
          ]
        },
        {
          "data": {
            "image/png": "[encoded data removed]",
            "text/plain": [
              "<Figure size 640x480 with 1 Axes>"
            ]
          },
          "metadata": {},
          "output_type": "display_data"
        }
      ],
      "source": [
        "plt.errorbar(F0,f3,\n",
        "             fmt='.',color='red',\n",
        "             capsize=3,\n",
        "            #  xerr=uF0,\n",
        "             yerr=uf3,\n",
        "             label='Data'\n",
        "             )\n",
        "plt.plot(reg_f0,reg_f3,label=f'Reg.: ${lst[0]}\\cdot F0 + {lst[2]}$')\n",
        "plt.xticks([1,4,7,10])\n",
        "plt.yticks([30,50,70,90])\n",
        "plt.xlabel('$F_0$ [N]')\n",
        "plt.ylabel('$f_3(F_0)$ [Hz]')\n",
        "plt.legend(loc=2)\n",
        "# plt.savefig('M12-A3.png',dpi=600,transparent=True)\n",
        "plt.show()"
      ]
    }
  ],
  "metadata": {
    "colab": {
      "provenance": []
    },
    "kernelspec": {
      "display_name": "projects",
      "language": "python",
      "name": "python3"
    },
    "language_info": {
      "codemirror_mode": {
        "name": "ipython",
        "version": 3
      },
      "file_extension": ".py",
      "mimetype": "text/x-python",
      "name": "python",
      "nbconvert_exporter": "python",
      "pygments_lexer": "ipython3",
      "version": "3.12.8"
    }
  },
  "nbformat": 4,
  "nbformat_minor": 0
}
