{
  "nbformat": 4,
  "nbformat_minor": 0,
  "metadata": {
    "colab": {
      "provenance": []
    },
    "kernelspec": {
      "name": "python3",
      "display_name": "Python 3"
    },
    "language_info": {
      "name": "python"
    }
  },
  "cells": [
    {
      "cell_type": "markdown",
      "source": [
        "# Importe"
      ],
      "metadata": {
        "id": "aTl6nZ6pofin"
      }
    },
    {
      "cell_type": "code",
      "execution_count": 3,
      "metadata": {
        "id": "qWpN1yaWoR4H"
      },
      "outputs": [],
      "source": [
        "import numpy as np\n",
        "import pandas as pd\n",
        "import matplotlib.pyplot as plt\n",
        "import matplotlib as mpl\n",
        "import statsmodels.api as sm\n",
        "\n",
        "plt.style.use('classic')"
      ]
    },
    {
      "cell_type": "markdown",
      "source": [
        "# Funktionen"
      ],
      "metadata": {
        "id": "lOHUuBX0oreE"
      }
    },
    {
      "cell_type": "code",
      "source": [
        "def lin_reg(x,a,b):\n",
        "  y = a*x+b\n",
        "  return y"
      ],
      "metadata": {
        "id": "6tm_mJIUot4s"
      },
      "execution_count": 4,
      "outputs": []
    },
    {
      "cell_type": "markdown",
      "source": [
        "- $\\chi^2/dof > 1$: zu kleine Fehler\n",
        "- $\\chi^2/dof < 1$: zu große Fehler\n",
        "- Gleichung: $$ \\frac{\\chi^2}{dof} =  \\frac{1}{n-p}\\sum_i^n \\frac{(f(x_i)-y_i)^2}{u_{y_i}^2}$$\n",
        "  - p: Anzahl der Fitparameter"
      ],
      "metadata": {
        "id": "YcHIKZXypzS_"
      }
    },
    {
      "cell_type": "code",
      "source": [
        "def chi_sq(x,y,fx,u_y): # für 2 Fitparameter\n",
        "  \"\"\"\n",
        "  x: x values for the x axis\n",
        "  y: y values for the y axis\n",
        "  fx: y values from the regression\n",
        "  u_y: Unsicherheit/uncertainty from y\n",
        "  \"\"\"\n",
        "  n = len(y)\n",
        "  factor = 1/(n-2)\n",
        "  return factor * np.sum((fx-y)**2/u_y**2)\n"
      ],
      "metadata": {
        "id": "Se2ZY1hZp0Iu"
      },
      "execution_count": 5,
      "outputs": []
    },
    {
      "cell_type": "code",
      "source": [
        "def reg_wls(x,y,uy,a_round=3,b_round=3,r_round=4):\n",
        "  '''\n",
        "  Returning variables:\n",
        "  a:    from a*x+b\n",
        "  ua:   uncertainty of a\n",
        "  b:    from a*x+b\n",
        "  ub:   uncertainty of b\n",
        "  R:    R square\n",
        "  chi:  chi square\n",
        "  '''\n",
        "  # calculating regression\n",
        "  X = sm.add_constant(x)\n",
        "  model = sm.WLS(y,X,weights=uy)\n",
        "  results = model.fit()\n",
        "  print(results.summary())\n",
        "\n",
        "  # Parameters\n",
        "  a = round(results.params[1],a_round)\n",
        "  b = round(results.params[0],b_round)\n",
        "  ua = round(results.bse[1],a_round)\n",
        "  ub = round(results.bse[0],b_round)\n",
        "  R = round(results.rsquared,r_round)\n",
        "\n",
        "  # lin. Reg.\n",
        "  f_x = a*x+b\n",
        "\n",
        "  # chi square\n",
        "  chi = round(chi_sq(x,y,f_x,uy),3)\n",
        "\n",
        "  return a,ua,b,ub,R,chi\n",
        "\n",
        "def reg_ols(x,y,a_round=3,b_round=3,r_round=4):\n",
        "  '''\n",
        "  Returning variables:\n",
        "  a:    from a*x+b\n",
        "  ua:   uncertainty of a\n",
        "  b:    from a*x+b\n",
        "  ub:   uncertainty of b\n",
        "  R:    R square\n",
        "  '''\n",
        "  # calculating regression\n",
        "  X = sm.add_constant(x)\n",
        "  model = sm.OLS(y,X)\n",
        "  results = model.fit()\n",
        "  print(results.summary())\n",
        "\n",
        "  # Parameters\n",
        "  a = round(results.params[1],a_round)\n",
        "  b = round(results.params[0],b_round)\n",
        "  ua = round(results.bse[1],a_round)\n",
        "  ub = round(results.bse[0],b_round)\n",
        "  R = round(results.rsquared,r_round)\n",
        "\n",
        "  return a,ua,b,ub,R"
      ],
      "metadata": {
        "id": "0WCO58ktAXcq"
      },
      "execution_count": 6,
      "outputs": []
    },
    {
      "cell_type": "markdown",
      "source": [
        "# Daten"
      ],
      "metadata": {
        "id": "6X2DDekeouG8"
      }
    },
    {
      "cell_type": "code",
      "source": [
        "!wget https://github.com/Ben-physics-dotcom/Internships/raw/main/GPR1/Data/M12-Saitenschwinung.xlsx"
      ],
      "metadata": {
        "colab": {
          "base_uri": "https://localhost:8080/"
        },
        "id": "vKNCBBWBovoU",
        "outputId": "6893cdd1-92d1-4d8e-a9f7-44aa8915889c"
      },
      "execution_count": 7,
      "outputs": [
        {
          "output_type": "stream",
          "name": "stdout",
          "text": [
            "--2024-03-10 17:49:41--  https://github.com/Ben-physics-dotcom/Internships/raw/main/GPR1/Data/M12-Saitenschwinung.xlsx\n",
            "Resolving github.com (github.com)... 20.27.177.113\n",
            "Connecting to github.com (github.com)|20.27.177.113|:443... connected.\n",
            "HTTP request sent, awaiting response... 302 Found\n",
            "Location: https://raw.githubusercontent.com/Ben-physics-dotcom/Internships/main/GPR1/Data/M12-Saitenschwinung.xlsx [following]\n",
            "--2024-03-10 17:49:41--  https://raw.githubusercontent.com/Ben-physics-dotcom/Internships/main/GPR1/Data/M12-Saitenschwinung.xlsx\n",
            "Resolving raw.githubusercontent.com (raw.githubusercontent.com)... 185.199.110.133, 185.199.111.133, 185.199.109.133, ...\n",
            "Connecting to raw.githubusercontent.com (raw.githubusercontent.com)|185.199.110.133|:443... connected.\n",
            "HTTP request sent, awaiting response... 200 OK\n",
            "Length: 6174 (6.0K) [application/octet-stream]\n",
            "Saving to: ‘M12-Saitenschwinung.xlsx’\n",
            "\n",
            "M12-Saitenschwinung 100%[===================>]   6.03K  --.-KB/s    in 0s      \n",
            "\n",
            "2024-03-10 17:49:42 (32.8 MB/s) - ‘M12-Saitenschwinung.xlsx’ saved [6174/6174]\n",
            "\n"
          ]
        }
      ]
    },
    {
      "cell_type": "code",
      "source": [
        "path = '/content/M12-Saitenschwinung.xlsx'\n",
        "xl = pd.ExcelFile(path)\n",
        "xl.sheet_names"
      ],
      "metadata": {
        "colab": {
          "base_uri": "https://localhost:8080/"
        },
        "id": "PHeTPtPjo_Nj",
        "outputId": "d1dd5eb6-08f0-4bb3-e915-97532e037523"
      },
      "execution_count": 8,
      "outputs": [
        {
          "output_type": "execute_result",
          "data": {
            "text/plain": [
              "['Resonanzmessung', 'MR_2_MR_3']"
            ]
          },
          "metadata": {},
          "execution_count": 8
        }
      ]
    },
    {
      "cell_type": "code",
      "source": [
        "df1 = pd.read_excel(xl,'Resonanzmessung')\n",
        "df2 = pd.read_excel(xl,'MR_2_MR_3')"
      ],
      "metadata": {
        "id": "QEDeDWRPpT0S"
      },
      "execution_count": 9,
      "outputs": []
    },
    {
      "cell_type": "code",
      "source": [
        "df2.head()"
      ],
      "metadata": {
        "colab": {
          "base_uri": "https://localhost:8080/",
          "height": 206
        },
        "id": "UtRmmfQ5rkTb",
        "outputId": "a3426372-2ff6-4a3e-de19-fb88a3d504e3"
      },
      "execution_count": 10,
      "outputs": [
        {
          "output_type": "execute_result",
          "data": {
            "text/plain": [
              "   Unnamed: 0  L [cm]  f1 [Hz]  Masse [g]  f3 [Hz]  \\\n",
              "0           0    25.0   235.70       1000    77.88   \n",
              "1           1    30.0   187.00        950    76.39   \n",
              "2           2    35.0   156.50        750    69.11   \n",
              "3           3    40.0   117.20        650    63.95   \n",
              "4           4    45.0   103.93        550    59.68   \n",
              "\n",
              "                                              info  \n",
              "0  zwei unterschiedliche messreihen in einem sheet  \n",
              "1                                            n=k=3  \n",
              "2      für f3 ist die Saitenlänge 0.6m und n=1,k=3  \n",
              "3                                              NaN  \n",
              "4                                              NaN  "
            ],
            "text/html": [
              "\n",
              "  <div id=\"df-ea193b73-ae1e-489c-b660-8e7a48b34837\" class=\"colab-df-container\">\n",
              "    <div>\n",
              "<style scoped>\n",
              "    .dataframe tbody tr th:only-of-type {\n",
              "        vertical-align: middle;\n",
              "    }\n",
              "\n",
              "    .dataframe tbody tr th {\n",
              "        vertical-align: top;\n",
              "    }\n",
              "\n",
              "    .dataframe thead th {\n",
              "        text-align: right;\n",
              "    }\n",
              "</style>\n",
              "<table border=\"1\" class=\"dataframe\">\n",
              "  <thead>\n",
              "    <tr style=\"text-align: right;\">\n",
              "      <th></th>\n",
              "      <th>Unnamed: 0</th>\n",
              "      <th>L [cm]</th>\n",
              "      <th>f1 [Hz]</th>\n",
              "      <th>Masse [g]</th>\n",
              "      <th>f3 [Hz]</th>\n",
              "      <th>info</th>\n",
              "    </tr>\n",
              "  </thead>\n",
              "  <tbody>\n",
              "    <tr>\n",
              "      <th>0</th>\n",
              "      <td>0</td>\n",
              "      <td>25.0</td>\n",
              "      <td>235.70</td>\n",
              "      <td>1000</td>\n",
              "      <td>77.88</td>\n",
              "      <td>zwei unterschiedliche messreihen in einem sheet</td>\n",
              "    </tr>\n",
              "    <tr>\n",
              "      <th>1</th>\n",
              "      <td>1</td>\n",
              "      <td>30.0</td>\n",
              "      <td>187.00</td>\n",
              "      <td>950</td>\n",
              "      <td>76.39</td>\n",
              "      <td>n=k=3</td>\n",
              "    </tr>\n",
              "    <tr>\n",
              "      <th>2</th>\n",
              "      <td>2</td>\n",
              "      <td>35.0</td>\n",
              "      <td>156.50</td>\n",
              "      <td>750</td>\n",
              "      <td>69.11</td>\n",
              "      <td>für f3 ist die Saitenlänge 0.6m und n=1,k=3</td>\n",
              "    </tr>\n",
              "    <tr>\n",
              "      <th>3</th>\n",
              "      <td>3</td>\n",
              "      <td>40.0</td>\n",
              "      <td>117.20</td>\n",
              "      <td>650</td>\n",
              "      <td>63.95</td>\n",
              "      <td>NaN</td>\n",
              "    </tr>\n",
              "    <tr>\n",
              "      <th>4</th>\n",
              "      <td>4</td>\n",
              "      <td>45.0</td>\n",
              "      <td>103.93</td>\n",
              "      <td>550</td>\n",
              "      <td>59.68</td>\n",
              "      <td>NaN</td>\n",
              "    </tr>\n",
              "  </tbody>\n",
              "</table>\n",
              "</div>\n",
              "    <div class=\"colab-df-buttons\">\n",
              "\n",
              "  <div class=\"colab-df-container\">\n",
              "    <button class=\"colab-df-convert\" onclick=\"convertToInteractive('df-ea193b73-ae1e-489c-b660-8e7a48b34837')\"\n",
              "            title=\"Convert this dataframe to an interactive table.\"\n",
              "            style=\"display:none;\">\n",
              "\n",
              "  <svg xmlns=\"http://www.w3.org/2000/svg\" height=\"24px\" viewBox=\"0 -960 960 960\">\n",
              "    <path d=\"M120-120v-720h720v720H120Zm60-500h600v-160H180v160Zm220 220h160v-160H400v160Zm0 220h160v-160H400v160ZM180-400h160v-160H180v160Zm440 0h160v-160H620v160ZM180-180h160v-160H180v160Zm440 0h160v-160H620v160Z\"/>\n",
              "  </svg>\n",
              "    </button>\n",
              "\n",
              "  <style>\n",
              "    .colab-df-container {\n",
              "      display:flex;\n",
              "      gap: 12px;\n",
              "    }\n",
              "\n",
              "    .colab-df-convert {\n",
              "      background-color: #E8F0FE;\n",
              "      border: none;\n",
              "      border-radius: 50%;\n",
              "      cursor: pointer;\n",
              "      display: none;\n",
              "      fill: #1967D2;\n",
              "      height: 32px;\n",
              "      padding: 0 0 0 0;\n",
              "      width: 32px;\n",
              "    }\n",
              "\n",
              "    .colab-df-convert:hover {\n",
              "      background-color: #E2EBFA;\n",
              "      box-shadow: 0px 1px 2px rgba(60, 64, 67, 0.3), 0px 1px 3px 1px rgba(60, 64, 67, 0.15);\n",
              "      fill: #174EA6;\n",
              "    }\n",
              "\n",
              "    .colab-df-buttons div {\n",
              "      margin-bottom: 4px;\n",
              "    }\n",
              "\n",
              "    [theme=dark] .colab-df-convert {\n",
              "      background-color: #3B4455;\n",
              "      fill: #D2E3FC;\n",
              "    }\n",
              "\n",
              "    [theme=dark] .colab-df-convert:hover {\n",
              "      background-color: #434B5C;\n",
              "      box-shadow: 0px 1px 3px 1px rgba(0, 0, 0, 0.15);\n",
              "      filter: drop-shadow(0px 1px 2px rgba(0, 0, 0, 0.3));\n",
              "      fill: #FFFFFF;\n",
              "    }\n",
              "  </style>\n",
              "\n",
              "    <script>\n",
              "      const buttonEl =\n",
              "        document.querySelector('#df-ea193b73-ae1e-489c-b660-8e7a48b34837 button.colab-df-convert');\n",
              "      buttonEl.style.display =\n",
              "        google.colab.kernel.accessAllowed ? 'block' : 'none';\n",
              "\n",
              "      async function convertToInteractive(key) {\n",
              "        const element = document.querySelector('#df-ea193b73-ae1e-489c-b660-8e7a48b34837');\n",
              "        const dataTable =\n",
              "          await google.colab.kernel.invokeFunction('convertToInteractive',\n",
              "                                                    [key], {});\n",
              "        if (!dataTable) return;\n",
              "\n",
              "        const docLinkHtml = 'Like what you see? Visit the ' +\n",
              "          '<a target=\"_blank\" href=https://colab.research.google.com/notebooks/data_table.ipynb>data table notebook</a>'\n",
              "          + ' to learn more about interactive tables.';\n",
              "        element.innerHTML = '';\n",
              "        dataTable['output_type'] = 'display_data';\n",
              "        await google.colab.output.renderOutput(dataTable, element);\n",
              "        const docLink = document.createElement('div');\n",
              "        docLink.innerHTML = docLinkHtml;\n",
              "        element.appendChild(docLink);\n",
              "      }\n",
              "    </script>\n",
              "  </div>\n",
              "\n",
              "\n",
              "<div id=\"df-1d60321e-a953-4446-90ed-be9c2a3711eb\">\n",
              "  <button class=\"colab-df-quickchart\" onclick=\"quickchart('df-1d60321e-a953-4446-90ed-be9c2a3711eb')\"\n",
              "            title=\"Suggest charts\"\n",
              "            style=\"display:none;\">\n",
              "\n",
              "<svg xmlns=\"http://www.w3.org/2000/svg\" height=\"24px\"viewBox=\"0 0 24 24\"\n",
              "     width=\"24px\">\n",
              "    <g>\n",
              "        <path d=\"M19 3H5c-1.1 0-2 .9-2 2v14c0 1.1.9 2 2 2h14c1.1 0 2-.9 2-2V5c0-1.1-.9-2-2-2zM9 17H7v-7h2v7zm4 0h-2V7h2v10zm4 0h-2v-4h2v4z\"/>\n",
              "    </g>\n",
              "</svg>\n",
              "  </button>\n",
              "\n",
              "<style>\n",
              "  .colab-df-quickchart {\n",
              "      --bg-color: #E8F0FE;\n",
              "      --fill-color: #1967D2;\n",
              "      --hover-bg-color: #E2EBFA;\n",
              "      --hover-fill-color: #174EA6;\n",
              "      --disabled-fill-color: #AAA;\n",
              "      --disabled-bg-color: #DDD;\n",
              "  }\n",
              "\n",
              "  [theme=dark] .colab-df-quickchart {\n",
              "      --bg-color: #3B4455;\n",
              "      --fill-color: #D2E3FC;\n",
              "      --hover-bg-color: #434B5C;\n",
              "      --hover-fill-color: #FFFFFF;\n",
              "      --disabled-bg-color: #3B4455;\n",
              "      --disabled-fill-color: #666;\n",
              "  }\n",
              "\n",
              "  .colab-df-quickchart {\n",
              "    background-color: var(--bg-color);\n",
              "    border: none;\n",
              "    border-radius: 50%;\n",
              "    cursor: pointer;\n",
              "    display: none;\n",
              "    fill: var(--fill-color);\n",
              "    height: 32px;\n",
              "    padding: 0;\n",
              "    width: 32px;\n",
              "  }\n",
              "\n",
              "  .colab-df-quickchart:hover {\n",
              "    background-color: var(--hover-bg-color);\n",
              "    box-shadow: 0 1px 2px rgba(60, 64, 67, 0.3), 0 1px 3px 1px rgba(60, 64, 67, 0.15);\n",
              "    fill: var(--button-hover-fill-color);\n",
              "  }\n",
              "\n",
              "  .colab-df-quickchart-complete:disabled,\n",
              "  .colab-df-quickchart-complete:disabled:hover {\n",
              "    background-color: var(--disabled-bg-color);\n",
              "    fill: var(--disabled-fill-color);\n",
              "    box-shadow: none;\n",
              "  }\n",
              "\n",
              "  .colab-df-spinner {\n",
              "    border: 2px solid var(--fill-color);\n",
              "    border-color: transparent;\n",
              "    border-bottom-color: var(--fill-color);\n",
              "    animation:\n",
              "      spin 1s steps(1) infinite;\n",
              "  }\n",
              "\n",
              "  @keyframes spin {\n",
              "    0% {\n",
              "      border-color: transparent;\n",
              "      border-bottom-color: var(--fill-color);\n",
              "      border-left-color: var(--fill-color);\n",
              "    }\n",
              "    20% {\n",
              "      border-color: transparent;\n",
              "      border-left-color: var(--fill-color);\n",
              "      border-top-color: var(--fill-color);\n",
              "    }\n",
              "    30% {\n",
              "      border-color: transparent;\n",
              "      border-left-color: var(--fill-color);\n",
              "      border-top-color: var(--fill-color);\n",
              "      border-right-color: var(--fill-color);\n",
              "    }\n",
              "    40% {\n",
              "      border-color: transparent;\n",
              "      border-right-color: var(--fill-color);\n",
              "      border-top-color: var(--fill-color);\n",
              "    }\n",
              "    60% {\n",
              "      border-color: transparent;\n",
              "      border-right-color: var(--fill-color);\n",
              "    }\n",
              "    80% {\n",
              "      border-color: transparent;\n",
              "      border-right-color: var(--fill-color);\n",
              "      border-bottom-color: var(--fill-color);\n",
              "    }\n",
              "    90% {\n",
              "      border-color: transparent;\n",
              "      border-bottom-color: var(--fill-color);\n",
              "    }\n",
              "  }\n",
              "</style>\n",
              "\n",
              "  <script>\n",
              "    async function quickchart(key) {\n",
              "      const quickchartButtonEl =\n",
              "        document.querySelector('#' + key + ' button');\n",
              "      quickchartButtonEl.disabled = true;  // To prevent multiple clicks.\n",
              "      quickchartButtonEl.classList.add('colab-df-spinner');\n",
              "      try {\n",
              "        const charts = await google.colab.kernel.invokeFunction(\n",
              "            'suggestCharts', [key], {});\n",
              "      } catch (error) {\n",
              "        console.error('Error during call to suggestCharts:', error);\n",
              "      }\n",
              "      quickchartButtonEl.classList.remove('colab-df-spinner');\n",
              "      quickchartButtonEl.classList.add('colab-df-quickchart-complete');\n",
              "    }\n",
              "    (() => {\n",
              "      let quickchartButtonEl =\n",
              "        document.querySelector('#df-1d60321e-a953-4446-90ed-be9c2a3711eb button');\n",
              "      quickchartButtonEl.style.display =\n",
              "        google.colab.kernel.accessAllowed ? 'block' : 'none';\n",
              "    })();\n",
              "  </script>\n",
              "</div>\n",
              "    </div>\n",
              "  </div>\n"
            ],
            "application/vnd.google.colaboratory.intrinsic+json": {
              "type": "dataframe",
              "variable_name": "df2",
              "summary": "{\n  \"name\": \"df2\",\n  \"rows\": 10,\n  \"fields\": [\n    {\n      \"column\": \"Unnamed: 0\",\n      \"properties\": {\n        \"dtype\": \"number\",\n        \"std\": 3,\n        \"min\": 0,\n        \"max\": 9,\n        \"num_unique_values\": 10,\n        \"samples\": [\n          8,\n          1,\n          5\n        ],\n        \"semantic_type\": \"\",\n        \"description\": \"\"\n      }\n    },\n    {\n      \"column\": \"L [cm]\",\n      \"properties\": {\n        \"dtype\": \"number\",\n        \"std\": 13.693063937629153,\n        \"min\": 25.0,\n        \"max\": 65.0,\n        \"num_unique_values\": 9,\n        \"samples\": [\n          60.0,\n          30.0,\n          50.0\n        ],\n        \"semantic_type\": \"\",\n        \"description\": \"\"\n      }\n    },\n    {\n      \"column\": \"f1 [Hz]\",\n      \"properties\": {\n        \"dtype\": \"number\",\n        \"std\": 67.01414840249117,\n        \"min\": 8.76,\n        \"max\": 235.7,\n        \"num_unique_values\": 9,\n        \"samples\": [\n          8.76,\n          187.0,\n          93.72\n        ],\n        \"semantic_type\": \"\",\n        \"description\": \"\"\n      }\n    },\n    {\n      \"column\": \"Masse [g]\",\n      \"properties\": {\n        \"dtype\": \"number\",\n        \"std\": 290,\n        \"min\": 150,\n        \"max\": 1000,\n        \"num_unique_values\": 10,\n        \"samples\": [\n          150,\n          950,\n          450\n        ],\n        \"semantic_type\": \"\",\n        \"description\": \"\"\n      }\n    },\n    {\n      \"column\": \"f3 [Hz]\",\n      \"properties\": {\n        \"dtype\": \"number\",\n        \"std\": 15.174605101945817,\n        \"min\": 32.86,\n        \"max\": 77.88,\n        \"num_unique_values\": 10,\n        \"samples\": [\n          32.86,\n          76.39,\n          53.12\n        ],\n        \"semantic_type\": \"\",\n        \"description\": \"\"\n      }\n    },\n    {\n      \"column\": \"info\",\n      \"properties\": {\n        \"dtype\": \"category\",\n        \"num_unique_values\": 3,\n        \"samples\": [\n          \"zwei unterschiedliche messreihen in einem sheet\",\n          \"n=k=3\",\n          \"f\\u00fcr f3 ist die Saitenl\\u00e4nge 0.6m und n=1,k=3\"\n        ],\n        \"semantic_type\": \"\",\n        \"description\": \"\"\n      }\n    }\n  ]\n}"
            }
          },
          "metadata": {},
          "execution_count": 10
        }
      ]
    },
    {
      "cell_type": "markdown",
      "source": [
        "# Aufgabe 1"
      ],
      "metadata": {
        "id": "k5AoieAJqdLL"
      }
    },
    {
      "cell_type": "code",
      "source": [
        "df1.head()"
      ],
      "metadata": {
        "colab": {
          "base_uri": "https://localhost:8080/",
          "height": 206
        },
        "id": "5V_3b2wSqfMk",
        "outputId": "6921b6b0-07d0-486f-848c-62fb9e835a41"
      },
      "execution_count": 11,
      "outputs": [
        {
          "output_type": "execute_result",
          "data": {
            "text/plain": [
              "   Unnamed: 0  n  f_n[Hz]                   info\n",
              "0           0  1    78.48  Gewicht: 1kg, 3 kerbe\n",
              "1           1  2   157.00                    NaN\n",
              "2           2  3   234.80                    NaN\n",
              "3           3  4   314.30                    NaN\n",
              "4           4  5   393.40                    NaN"
            ],
            "text/html": [
              "\n",
              "  <div id=\"df-b652f7cb-64b3-4b5f-8283-a07f52de90a8\" class=\"colab-df-container\">\n",
              "    <div>\n",
              "<style scoped>\n",
              "    .dataframe tbody tr th:only-of-type {\n",
              "        vertical-align: middle;\n",
              "    }\n",
              "\n",
              "    .dataframe tbody tr th {\n",
              "        vertical-align: top;\n",
              "    }\n",
              "\n",
              "    .dataframe thead th {\n",
              "        text-align: right;\n",
              "    }\n",
              "</style>\n",
              "<table border=\"1\" class=\"dataframe\">\n",
              "  <thead>\n",
              "    <tr style=\"text-align: right;\">\n",
              "      <th></th>\n",
              "      <th>Unnamed: 0</th>\n",
              "      <th>n</th>\n",
              "      <th>f_n[Hz]</th>\n",
              "      <th>info</th>\n",
              "    </tr>\n",
              "  </thead>\n",
              "  <tbody>\n",
              "    <tr>\n",
              "      <th>0</th>\n",
              "      <td>0</td>\n",
              "      <td>1</td>\n",
              "      <td>78.48</td>\n",
              "      <td>Gewicht: 1kg, 3 kerbe</td>\n",
              "    </tr>\n",
              "    <tr>\n",
              "      <th>1</th>\n",
              "      <td>1</td>\n",
              "      <td>2</td>\n",
              "      <td>157.00</td>\n",
              "      <td>NaN</td>\n",
              "    </tr>\n",
              "    <tr>\n",
              "      <th>2</th>\n",
              "      <td>2</td>\n",
              "      <td>3</td>\n",
              "      <td>234.80</td>\n",
              "      <td>NaN</td>\n",
              "    </tr>\n",
              "    <tr>\n",
              "      <th>3</th>\n",
              "      <td>3</td>\n",
              "      <td>4</td>\n",
              "      <td>314.30</td>\n",
              "      <td>NaN</td>\n",
              "    </tr>\n",
              "    <tr>\n",
              "      <th>4</th>\n",
              "      <td>4</td>\n",
              "      <td>5</td>\n",
              "      <td>393.40</td>\n",
              "      <td>NaN</td>\n",
              "    </tr>\n",
              "  </tbody>\n",
              "</table>\n",
              "</div>\n",
              "    <div class=\"colab-df-buttons\">\n",
              "\n",
              "  <div class=\"colab-df-container\">\n",
              "    <button class=\"colab-df-convert\" onclick=\"convertToInteractive('df-b652f7cb-64b3-4b5f-8283-a07f52de90a8')\"\n",
              "            title=\"Convert this dataframe to an interactive table.\"\n",
              "            style=\"display:none;\">\n",
              "\n",
              "  <svg xmlns=\"http://www.w3.org/2000/svg\" height=\"24px\" viewBox=\"0 -960 960 960\">\n",
              "    <path d=\"M120-120v-720h720v720H120Zm60-500h600v-160H180v160Zm220 220h160v-160H400v160Zm0 220h160v-160H400v160ZM180-400h160v-160H180v160Zm440 0h160v-160H620v160ZM180-180h160v-160H180v160Zm440 0h160v-160H620v160Z\"/>\n",
              "  </svg>\n",
              "    </button>\n",
              "\n",
              "  <style>\n",
              "    .colab-df-container {\n",
              "      display:flex;\n",
              "      gap: 12px;\n",
              "    }\n",
              "\n",
              "    .colab-df-convert {\n",
              "      background-color: #E8F0FE;\n",
              "      border: none;\n",
              "      border-radius: 50%;\n",
              "      cursor: pointer;\n",
              "      display: none;\n",
              "      fill: #1967D2;\n",
              "      height: 32px;\n",
              "      padding: 0 0 0 0;\n",
              "      width: 32px;\n",
              "    }\n",
              "\n",
              "    .colab-df-convert:hover {\n",
              "      background-color: #E2EBFA;\n",
              "      box-shadow: 0px 1px 2px rgba(60, 64, 67, 0.3), 0px 1px 3px 1px rgba(60, 64, 67, 0.15);\n",
              "      fill: #174EA6;\n",
              "    }\n",
              "\n",
              "    .colab-df-buttons div {\n",
              "      margin-bottom: 4px;\n",
              "    }\n",
              "\n",
              "    [theme=dark] .colab-df-convert {\n",
              "      background-color: #3B4455;\n",
              "      fill: #D2E3FC;\n",
              "    }\n",
              "\n",
              "    [theme=dark] .colab-df-convert:hover {\n",
              "      background-color: #434B5C;\n",
              "      box-shadow: 0px 1px 3px 1px rgba(0, 0, 0, 0.15);\n",
              "      filter: drop-shadow(0px 1px 2px rgba(0, 0, 0, 0.3));\n",
              "      fill: #FFFFFF;\n",
              "    }\n",
              "  </style>\n",
              "\n",
              "    <script>\n",
              "      const buttonEl =\n",
              "        document.querySelector('#df-b652f7cb-64b3-4b5f-8283-a07f52de90a8 button.colab-df-convert');\n",
              "      buttonEl.style.display =\n",
              "        google.colab.kernel.accessAllowed ? 'block' : 'none';\n",
              "\n",
              "      async function convertToInteractive(key) {\n",
              "        const element = document.querySelector('#df-b652f7cb-64b3-4b5f-8283-a07f52de90a8');\n",
              "        const dataTable =\n",
              "          await google.colab.kernel.invokeFunction('convertToInteractive',\n",
              "                                                    [key], {});\n",
              "        if (!dataTable) return;\n",
              "\n",
              "        const docLinkHtml = 'Like what you see? Visit the ' +\n",
              "          '<a target=\"_blank\" href=https://colab.research.google.com/notebooks/data_table.ipynb>data table notebook</a>'\n",
              "          + ' to learn more about interactive tables.';\n",
              "        element.innerHTML = '';\n",
              "        dataTable['output_type'] = 'display_data';\n",
              "        await google.colab.output.renderOutput(dataTable, element);\n",
              "        const docLink = document.createElement('div');\n",
              "        docLink.innerHTML = docLinkHtml;\n",
              "        element.appendChild(docLink);\n",
              "      }\n",
              "    </script>\n",
              "  </div>\n",
              "\n",
              "\n",
              "<div id=\"df-682b9fce-fae5-43b5-b0ed-675cd6afdd5b\">\n",
              "  <button class=\"colab-df-quickchart\" onclick=\"quickchart('df-682b9fce-fae5-43b5-b0ed-675cd6afdd5b')\"\n",
              "            title=\"Suggest charts\"\n",
              "            style=\"display:none;\">\n",
              "\n",
              "<svg xmlns=\"http://www.w3.org/2000/svg\" height=\"24px\"viewBox=\"0 0 24 24\"\n",
              "     width=\"24px\">\n",
              "    <g>\n",
              "        <path d=\"M19 3H5c-1.1 0-2 .9-2 2v14c0 1.1.9 2 2 2h14c1.1 0 2-.9 2-2V5c0-1.1-.9-2-2-2zM9 17H7v-7h2v7zm4 0h-2V7h2v10zm4 0h-2v-4h2v4z\"/>\n",
              "    </g>\n",
              "</svg>\n",
              "  </button>\n",
              "\n",
              "<style>\n",
              "  .colab-df-quickchart {\n",
              "      --bg-color: #E8F0FE;\n",
              "      --fill-color: #1967D2;\n",
              "      --hover-bg-color: #E2EBFA;\n",
              "      --hover-fill-color: #174EA6;\n",
              "      --disabled-fill-color: #AAA;\n",
              "      --disabled-bg-color: #DDD;\n",
              "  }\n",
              "\n",
              "  [theme=dark] .colab-df-quickchart {\n",
              "      --bg-color: #3B4455;\n",
              "      --fill-color: #D2E3FC;\n",
              "      --hover-bg-color: #434B5C;\n",
              "      --hover-fill-color: #FFFFFF;\n",
              "      --disabled-bg-color: #3B4455;\n",
              "      --disabled-fill-color: #666;\n",
              "  }\n",
              "\n",
              "  .colab-df-quickchart {\n",
              "    background-color: var(--bg-color);\n",
              "    border: none;\n",
              "    border-radius: 50%;\n",
              "    cursor: pointer;\n",
              "    display: none;\n",
              "    fill: var(--fill-color);\n",
              "    height: 32px;\n",
              "    padding: 0;\n",
              "    width: 32px;\n",
              "  }\n",
              "\n",
              "  .colab-df-quickchart:hover {\n",
              "    background-color: var(--hover-bg-color);\n",
              "    box-shadow: 0 1px 2px rgba(60, 64, 67, 0.3), 0 1px 3px 1px rgba(60, 64, 67, 0.15);\n",
              "    fill: var(--button-hover-fill-color);\n",
              "  }\n",
              "\n",
              "  .colab-df-quickchart-complete:disabled,\n",
              "  .colab-df-quickchart-complete:disabled:hover {\n",
              "    background-color: var(--disabled-bg-color);\n",
              "    fill: var(--disabled-fill-color);\n",
              "    box-shadow: none;\n",
              "  }\n",
              "\n",
              "  .colab-df-spinner {\n",
              "    border: 2px solid var(--fill-color);\n",
              "    border-color: transparent;\n",
              "    border-bottom-color: var(--fill-color);\n",
              "    animation:\n",
              "      spin 1s steps(1) infinite;\n",
              "  }\n",
              "\n",
              "  @keyframes spin {\n",
              "    0% {\n",
              "      border-color: transparent;\n",
              "      border-bottom-color: var(--fill-color);\n",
              "      border-left-color: var(--fill-color);\n",
              "    }\n",
              "    20% {\n",
              "      border-color: transparent;\n",
              "      border-left-color: var(--fill-color);\n",
              "      border-top-color: var(--fill-color);\n",
              "    }\n",
              "    30% {\n",
              "      border-color: transparent;\n",
              "      border-left-color: var(--fill-color);\n",
              "      border-top-color: var(--fill-color);\n",
              "      border-right-color: var(--fill-color);\n",
              "    }\n",
              "    40% {\n",
              "      border-color: transparent;\n",
              "      border-right-color: var(--fill-color);\n",
              "      border-top-color: var(--fill-color);\n",
              "    }\n",
              "    60% {\n",
              "      border-color: transparent;\n",
              "      border-right-color: var(--fill-color);\n",
              "    }\n",
              "    80% {\n",
              "      border-color: transparent;\n",
              "      border-right-color: var(--fill-color);\n",
              "      border-bottom-color: var(--fill-color);\n",
              "    }\n",
              "    90% {\n",
              "      border-color: transparent;\n",
              "      border-bottom-color: var(--fill-color);\n",
              "    }\n",
              "  }\n",
              "</style>\n",
              "\n",
              "  <script>\n",
              "    async function quickchart(key) {\n",
              "      const quickchartButtonEl =\n",
              "        document.querySelector('#' + key + ' button');\n",
              "      quickchartButtonEl.disabled = true;  // To prevent multiple clicks.\n",
              "      quickchartButtonEl.classList.add('colab-df-spinner');\n",
              "      try {\n",
              "        const charts = await google.colab.kernel.invokeFunction(\n",
              "            'suggestCharts', [key], {});\n",
              "      } catch (error) {\n",
              "        console.error('Error during call to suggestCharts:', error);\n",
              "      }\n",
              "      quickchartButtonEl.classList.remove('colab-df-spinner');\n",
              "      quickchartButtonEl.classList.add('colab-df-quickchart-complete');\n",
              "    }\n",
              "    (() => {\n",
              "      let quickchartButtonEl =\n",
              "        document.querySelector('#df-682b9fce-fae5-43b5-b0ed-675cd6afdd5b button');\n",
              "      quickchartButtonEl.style.display =\n",
              "        google.colab.kernel.accessAllowed ? 'block' : 'none';\n",
              "    })();\n",
              "  </script>\n",
              "</div>\n",
              "    </div>\n",
              "  </div>\n"
            ],
            "application/vnd.google.colaboratory.intrinsic+json": {
              "type": "dataframe",
              "variable_name": "df1",
              "summary": "{\n  \"name\": \"df1\",\n  \"rows\": 9,\n  \"fields\": [\n    {\n      \"column\": \"Unnamed: 0\",\n      \"properties\": {\n        \"dtype\": \"number\",\n        \"std\": 2,\n        \"min\": 0,\n        \"max\": 8,\n        \"num_unique_values\": 9,\n        \"samples\": [\n          7,\n          1,\n          5\n        ],\n        \"semantic_type\": \"\",\n        \"description\": \"\"\n      }\n    },\n    {\n      \"column\": \"n\",\n      \"properties\": {\n        \"dtype\": \"number\",\n        \"std\": 2,\n        \"min\": 1,\n        \"max\": 9,\n        \"num_unique_values\": 9,\n        \"samples\": [\n          8,\n          2,\n          6\n        ],\n        \"semantic_type\": \"\",\n        \"description\": \"\"\n      }\n    },\n    {\n      \"column\": \"f_n[Hz]\",\n      \"properties\": {\n        \"dtype\": \"number\",\n        \"std\": 216.61505767400175,\n        \"min\": 78.48,\n        \"max\": 710.9,\n        \"num_unique_values\": 9,\n        \"samples\": [\n          631.2,\n          157.0,\n          472.8\n        ],\n        \"semantic_type\": \"\",\n        \"description\": \"\"\n      }\n    },\n    {\n      \"column\": \"info\",\n      \"properties\": {\n        \"dtype\": \"category\",\n        \"num_unique_values\": 1,\n        \"samples\": [\n          \"Gewicht: 1kg, 3 kerbe\"\n        ],\n        \"semantic_type\": \"\",\n        \"description\": \"\"\n      }\n    }\n  ]\n}"
            }
          },
          "metadata": {},
          "execution_count": 11
        }
      ]
    },
    {
      "cell_type": "code",
      "source": [
        "n1 = np.array(df1['n'])\n",
        "fn = np.array(df1['f_n[Hz]'])\n",
        "ufn = fn*0.008 # 0.8 prozentige Fehlerabschätzung."
      ],
      "metadata": {
        "id": "d8kEI3k0rquv"
      },
      "execution_count": 12,
      "outputs": []
    },
    {
      "cell_type": "markdown",
      "source": [
        "Aus den Notizen ist nicht mehr erkennbar, wie groß ich den Fehler abgeschätzt habe. Daher habe ich mit Hilfe des $\\chi^2$ die Fehler auf 0.8\\% abgeschätzt."
      ],
      "metadata": {
        "id": "PFaU2sX6sDT4"
      }
    },
    {
      "cell_type": "code",
      "source": [
        "plt.errorbar(n1,fn,\n",
        "             fmt='.',\n",
        "             yerr=ufn,\n",
        "             capsize=3,label='Data')\n",
        "plt.yticks([50,225,400,575,750])\n",
        "# plt.xlabel('n')\n",
        "# plt.ylabel('f(n)')\n",
        "plt.show()"
      ],
      "metadata": {
        "colab": {
          "base_uri": "https://localhost:8080/",
          "height": 434
        },
        "id": "ToOlKYJOsLmo",
        "outputId": "f0b0045b-c78c-4f48-8fd1-4fb47f11d7a9"
      },
      "execution_count": 13,
      "outputs": [
        {
          "output_type": "display_data",
          "data": {
            "text/plain": [
              "<Figure size 640x480 with 1 Axes>"
            ],
            "image/png": "[encoded data removed]"
          },
          "metadata": {}
        }
      ]
    },
    {
      "cell_type": "code",
      "source": [
        "Xn = sm.add_constant(n1)\n",
        "model = sm.WLS(fn,Xn,weights=ufn)\n",
        "results = model.fit()\n",
        "print(results.summary())"
      ],
      "metadata": {
        "colab": {
          "base_uri": "https://localhost:8080/"
        },
        "id": "hEg-Ge0EP7Ib",
        "outputId": "e138938c-bf27-4ebb-8230-a46edec6f925"
      },
      "execution_count": 14,
      "outputs": [
        {
          "output_type": "stream",
          "name": "stdout",
          "text": [
            "                            WLS Regression Results                            \n",
            "==============================================================================\n",
            "Dep. Variable:                      y   R-squared:                       1.000\n",
            "Model:                            WLS   Adj. R-squared:                  1.000\n",
            "Method:                 Least Squares   F-statistic:                 1.364e+06\n",
            "Date:                Sun, 10 Mar 2024   Prob (F-statistic):           8.91e-20\n",
            "Time:                        17:49:43   Log-Likelihood:                -5.2917\n",
            "No. Observations:                   9   AIC:                             14.58\n",
            "Df Residuals:                       7   BIC:                             14.98\n",
            "Df Model:                           1                                         \n",
            "Covariance Type:            nonrobust                                         \n",
            "==============================================================================\n",
            "                 coef    std err          t      P>|t|      [0.025      0.975]\n",
            "------------------------------------------------------------------------------\n",
            "const         -2.2887      0.455     -5.027      0.002      -3.365      -1.212\n",
            "x1            79.2094      0.068   1167.870      0.000      79.049      79.370\n",
            "==============================================================================\n",
            "Omnibus:                        2.199   Durbin-Watson:                   1.209\n",
            "Prob(Omnibus):                  0.333   Jarque-Bera (JB):                1.024\n",
            "Skew:                           0.447   Prob(JB):                        0.599\n",
            "Kurtosis:                       1.611   Cond. No.                         20.8\n",
            "==============================================================================\n",
            "\n",
            "Notes:\n",
            "[1] Standard Errors assume that the covariance matrix of the errors is correctly specified.\n"
          ]
        },
        {
          "output_type": "stream",
          "name": "stderr",
          "text": [
            "/usr/local/lib/python3.10/dist-packages/scipy/stats/_stats_py.py:1806: UserWarning: kurtosistest only valid for n>=20 ... continuing anyway, n=9\n",
            "  warnings.warn(\"kurtosistest only valid for n>=20 ... continuing \"\n"
          ]
        }
      ]
    },
    {
      "cell_type": "code",
      "source": [
        "a1 = round(results.params[1],2)\n",
        "print(a1)\n",
        "b1 = round(results.params[0],1)\n",
        "ua1 = round(results.bse[1],2)\n",
        "ub1 = round(results.bse[0],1)\n",
        "R1 = round(results.rsquared,3)\n",
        "R1"
      ],
      "metadata": {
        "colab": {
          "base_uri": "https://localhost:8080/"
        },
        "id": "1E3i0PihQpcE",
        "outputId": "8c402ef8-f7f2-4b7e-eac8-d66cdef5ab9b"
      },
      "execution_count": 15,
      "outputs": [
        {
          "output_type": "stream",
          "name": "stdout",
          "text": [
            "79.21\n"
          ]
        },
        {
          "output_type": "execute_result",
          "data": {
            "text/plain": [
              "1.0"
            ]
          },
          "metadata": {},
          "execution_count": 15
        }
      ]
    },
    {
      "cell_type": "code",
      "source": [
        "# chi square\n",
        "fx1 = a1*n1+b1\n",
        "chi = round(chi_sq(n1,fn,fx1,ufn),2)\n",
        "chi"
      ],
      "metadata": {
        "colab": {
          "base_uri": "https://localhost:8080/"
        },
        "id": "76h_RQC3RZU_",
        "outputId": "fa6a7e2a-2c5d-4651-b44a-4fc3c0c50331"
      },
      "execution_count": 16,
      "outputs": [
        {
          "output_type": "execute_result",
          "data": {
            "text/plain": [
              "0.98"
            ]
          },
          "metadata": {},
          "execution_count": 16
        }
      ]
    },
    {
      "cell_type": "code",
      "source": [
        "n_reg = np.linspace(0.5,9.5,100)\n",
        "fn_reg = a1*n_reg+b1"
      ],
      "metadata": {
        "id": "q3BJlen9SzAs"
      },
      "execution_count": 17,
      "outputs": []
    },
    {
      "cell_type": "code",
      "source": [
        "plt.errorbar(n1,fn,\n",
        "             fmt='.',\n",
        "             yerr=ufn,\n",
        "             capsize=3,label='Data')\n",
        "\n",
        "plt.plot(n_reg,fn_reg,label=f'Regr.: ${a1}\\cdot n + ({b1})$')\n",
        "plt.legend(loc=2)\n",
        "plt.yticks([50,225,400,575,750])\n",
        "plt.xticks([1,3,5,7,9])\n",
        "plt.xlabel('n')\n",
        "plt.ylabel('f(n)')\n",
        "# plt.show()\n",
        "plt.savefig('M12-A1.png',dpi=600,transparent=True)"
      ],
      "metadata": {
        "colab": {
          "base_uri": "https://localhost:8080/",
          "height": 453
        },
        "id": "kXKyOoviSbp3",
        "outputId": "c9742832-f98f-4888-c5f5-5e62e88876de"
      },
      "execution_count": 40,
      "outputs": [
        {
          "output_type": "display_data",
          "data": {
            "text/plain": [
              "<Figure size 640x480 with 1 Axes>"
            ],
            "image/png": "[encoded data removed]"
          },
          "metadata": {}
        }
      ]
    },
    {
      "cell_type": "markdown",
      "source": [
        "# Aufgabe 2 und 3"
      ],
      "metadata": {
        "id": "8KU_9ixUU86N"
      }
    },
    {
      "cell_type": "code",
      "source": [
        "df2.head()"
      ],
      "metadata": {
        "colab": {
          "base_uri": "https://localhost:8080/",
          "height": 206
        },
        "id": "qANv6rItU_PM",
        "outputId": "1a8fbfa7-2f2d-4ac9-8c66-23f2db58b9e0"
      },
      "execution_count": 19,
      "outputs": [
        {
          "output_type": "execute_result",
          "data": {
            "text/plain": [
              "   Unnamed: 0  L [cm]  f1 [Hz]  Masse [g]  f3 [Hz]  \\\n",
              "0           0    25.0   235.70       1000    77.88   \n",
              "1           1    30.0   187.00        950    76.39   \n",
              "2           2    35.0   156.50        750    69.11   \n",
              "3           3    40.0   117.20        650    63.95   \n",
              "4           4    45.0   103.93        550    59.68   \n",
              "\n",
              "                                              info  \n",
              "0  zwei unterschiedliche messreihen in einem sheet  \n",
              "1                                            n=k=3  \n",
              "2      für f3 ist die Saitenlänge 0.6m und n=1,k=3  \n",
              "3                                              NaN  \n",
              "4                                              NaN  "
            ],
            "text/html": [
              "\n",
              "  <div id=\"df-8953950a-4a55-4d17-b05e-153d34d731c0\" class=\"colab-df-container\">\n",
              "    <div>\n",
              "<style scoped>\n",
              "    .dataframe tbody tr th:only-of-type {\n",
              "        vertical-align: middle;\n",
              "    }\n",
              "\n",
              "    .dataframe tbody tr th {\n",
              "        vertical-align: top;\n",
              "    }\n",
              "\n",
              "    .dataframe thead th {\n",
              "        text-align: right;\n",
              "    }\n",
              "</style>\n",
              "<table border=\"1\" class=\"dataframe\">\n",
              "  <thead>\n",
              "    <tr style=\"text-align: right;\">\n",
              "      <th></th>\n",
              "      <th>Unnamed: 0</th>\n",
              "      <th>L [cm]</th>\n",
              "      <th>f1 [Hz]</th>\n",
              "      <th>Masse [g]</th>\n",
              "      <th>f3 [Hz]</th>\n",
              "      <th>info</th>\n",
              "    </tr>\n",
              "  </thead>\n",
              "  <tbody>\n",
              "    <tr>\n",
              "      <th>0</th>\n",
              "      <td>0</td>\n",
              "      <td>25.0</td>\n",
              "      <td>235.70</td>\n",
              "      <td>1000</td>\n",
              "      <td>77.88</td>\n",
              "      <td>zwei unterschiedliche messreihen in einem sheet</td>\n",
              "    </tr>\n",
              "    <tr>\n",
              "      <th>1</th>\n",
              "      <td>1</td>\n",
              "      <td>30.0</td>\n",
              "      <td>187.00</td>\n",
              "      <td>950</td>\n",
              "      <td>76.39</td>\n",
              "      <td>n=k=3</td>\n",
              "    </tr>\n",
              "    <tr>\n",
              "      <th>2</th>\n",
              "      <td>2</td>\n",
              "      <td>35.0</td>\n",
              "      <td>156.50</td>\n",
              "      <td>750</td>\n",
              "      <td>69.11</td>\n",
              "      <td>für f3 ist die Saitenlänge 0.6m und n=1,k=3</td>\n",
              "    </tr>\n",
              "    <tr>\n",
              "      <th>3</th>\n",
              "      <td>3</td>\n",
              "      <td>40.0</td>\n",
              "      <td>117.20</td>\n",
              "      <td>650</td>\n",
              "      <td>63.95</td>\n",
              "      <td>NaN</td>\n",
              "    </tr>\n",
              "    <tr>\n",
              "      <th>4</th>\n",
              "      <td>4</td>\n",
              "      <td>45.0</td>\n",
              "      <td>103.93</td>\n",
              "      <td>550</td>\n",
              "      <td>59.68</td>\n",
              "      <td>NaN</td>\n",
              "    </tr>\n",
              "  </tbody>\n",
              "</table>\n",
              "</div>\n",
              "    <div class=\"colab-df-buttons\">\n",
              "\n",
              "  <div class=\"colab-df-container\">\n",
              "    <button class=\"colab-df-convert\" onclick=\"convertToInteractive('df-8953950a-4a55-4d17-b05e-153d34d731c0')\"\n",
              "            title=\"Convert this dataframe to an interactive table.\"\n",
              "            style=\"display:none;\">\n",
              "\n",
              "  <svg xmlns=\"http://www.w3.org/2000/svg\" height=\"24px\" viewBox=\"0 -960 960 960\">\n",
              "    <path d=\"M120-120v-720h720v720H120Zm60-500h600v-160H180v160Zm220 220h160v-160H400v160Zm0 220h160v-160H400v160ZM180-400h160v-160H180v160Zm440 0h160v-160H620v160ZM180-180h160v-160H180v160Zm440 0h160v-160H620v160Z\"/>\n",
              "  </svg>\n",
              "    </button>\n",
              "\n",
              "  <style>\n",
              "    .colab-df-container {\n",
              "      display:flex;\n",
              "      gap: 12px;\n",
              "    }\n",
              "\n",
              "    .colab-df-convert {\n",
              "      background-color: #E8F0FE;\n",
              "      border: none;\n",
              "      border-radius: 50%;\n",
              "      cursor: pointer;\n",
              "      display: none;\n",
              "      fill: #1967D2;\n",
              "      height: 32px;\n",
              "      padding: 0 0 0 0;\n",
              "      width: 32px;\n",
              "    }\n",
              "\n",
              "    .colab-df-convert:hover {\n",
              "      background-color: #E2EBFA;\n",
              "      box-shadow: 0px 1px 2px rgba(60, 64, 67, 0.3), 0px 1px 3px 1px rgba(60, 64, 67, 0.15);\n",
              "      fill: #174EA6;\n",
              "    }\n",
              "\n",
              "    .colab-df-buttons div {\n",
              "      margin-bottom: 4px;\n",
              "    }\n",
              "\n",
              "    [theme=dark] .colab-df-convert {\n",
              "      background-color: #3B4455;\n",
              "      fill: #D2E3FC;\n",
              "    }\n",
              "\n",
              "    [theme=dark] .colab-df-convert:hover {\n",
              "      background-color: #434B5C;\n",
              "      box-shadow: 0px 1px 3px 1px rgba(0, 0, 0, 0.15);\n",
              "      filter: drop-shadow(0px 1px 2px rgba(0, 0, 0, 0.3));\n",
              "      fill: #FFFFFF;\n",
              "    }\n",
              "  </style>\n",
              "\n",
              "    <script>\n",
              "      const buttonEl =\n",
              "        document.querySelector('#df-8953950a-4a55-4d17-b05e-153d34d731c0 button.colab-df-convert');\n",
              "      buttonEl.style.display =\n",
              "        google.colab.kernel.accessAllowed ? 'block' : 'none';\n",
              "\n",
              "      async function convertToInteractive(key) {\n",
              "        const element = document.querySelector('#df-8953950a-4a55-4d17-b05e-153d34d731c0');\n",
              "        const dataTable =\n",
              "          await google.colab.kernel.invokeFunction('convertToInteractive',\n",
              "                                                    [key], {});\n",
              "        if (!dataTable) return;\n",
              "\n",
              "        const docLinkHtml = 'Like what you see? Visit the ' +\n",
              "          '<a target=\"_blank\" href=https://colab.research.google.com/notebooks/data_table.ipynb>data table notebook</a>'\n",
              "          + ' to learn more about interactive tables.';\n",
              "        element.innerHTML = '';\n",
              "        dataTable['output_type'] = 'display_data';\n",
              "        await google.colab.output.renderOutput(dataTable, element);\n",
              "        const docLink = document.createElement('div');\n",
              "        docLink.innerHTML = docLinkHtml;\n",
              "        element.appendChild(docLink);\n",
              "      }\n",
              "    </script>\n",
              "  </div>\n",
              "\n",
              "\n",
              "<div id=\"df-7dcd32d0-42a3-4801-addd-f46918be19e7\">\n",
              "  <button class=\"colab-df-quickchart\" onclick=\"quickchart('df-7dcd32d0-42a3-4801-addd-f46918be19e7')\"\n",
              "            title=\"Suggest charts\"\n",
              "            style=\"display:none;\">\n",
              "\n",
              "<svg xmlns=\"http://www.w3.org/2000/svg\" height=\"24px\"viewBox=\"0 0 24 24\"\n",
              "     width=\"24px\">\n",
              "    <g>\n",
              "        <path d=\"M19 3H5c-1.1 0-2 .9-2 2v14c0 1.1.9 2 2 2h14c1.1 0 2-.9 2-2V5c0-1.1-.9-2-2-2zM9 17H7v-7h2v7zm4 0h-2V7h2v10zm4 0h-2v-4h2v4z\"/>\n",
              "    </g>\n",
              "</svg>\n",
              "  </button>\n",
              "\n",
              "<style>\n",
              "  .colab-df-quickchart {\n",
              "      --bg-color: #E8F0FE;\n",
              "      --fill-color: #1967D2;\n",
              "      --hover-bg-color: #E2EBFA;\n",
              "      --hover-fill-color: #174EA6;\n",
              "      --disabled-fill-color: #AAA;\n",
              "      --disabled-bg-color: #DDD;\n",
              "  }\n",
              "\n",
              "  [theme=dark] .colab-df-quickchart {\n",
              "      --bg-color: #3B4455;\n",
              "      --fill-color: #D2E3FC;\n",
              "      --hover-bg-color: #434B5C;\n",
              "      --hover-fill-color: #FFFFFF;\n",
              "      --disabled-bg-color: #3B4455;\n",
              "      --disabled-fill-color: #666;\n",
              "  }\n",
              "\n",
              "  .colab-df-quickchart {\n",
              "    background-color: var(--bg-color);\n",
              "    border: none;\n",
              "    border-radius: 50%;\n",
              "    cursor: pointer;\n",
              "    display: none;\n",
              "    fill: var(--fill-color);\n",
              "    height: 32px;\n",
              "    padding: 0;\n",
              "    width: 32px;\n",
              "  }\n",
              "\n",
              "  .colab-df-quickchart:hover {\n",
              "    background-color: var(--hover-bg-color);\n",
              "    box-shadow: 0 1px 2px rgba(60, 64, 67, 0.3), 0 1px 3px 1px rgba(60, 64, 67, 0.15);\n",
              "    fill: var(--button-hover-fill-color);\n",
              "  }\n",
              "\n",
              "  .colab-df-quickchart-complete:disabled,\n",
              "  .colab-df-quickchart-complete:disabled:hover {\n",
              "    background-color: var(--disabled-bg-color);\n",
              "    fill: var(--disabled-fill-color);\n",
              "    box-shadow: none;\n",
              "  }\n",
              "\n",
              "  .colab-df-spinner {\n",
              "    border: 2px solid var(--fill-color);\n",
              "    border-color: transparent;\n",
              "    border-bottom-color: var(--fill-color);\n",
              "    animation:\n",
              "      spin 1s steps(1) infinite;\n",
              "  }\n",
              "\n",
              "  @keyframes spin {\n",
              "    0% {\n",
              "      border-color: transparent;\n",
              "      border-bottom-color: var(--fill-color);\n",
              "      border-left-color: var(--fill-color);\n",
              "    }\n",
              "    20% {\n",
              "      border-color: transparent;\n",
              "      border-left-color: var(--fill-color);\n",
              "      border-top-color: var(--fill-color);\n",
              "    }\n",
              "    30% {\n",
              "      border-color: transparent;\n",
              "      border-left-color: var(--fill-color);\n",
              "      border-top-color: var(--fill-color);\n",
              "      border-right-color: var(--fill-color);\n",
              "    }\n",
              "    40% {\n",
              "      border-color: transparent;\n",
              "      border-right-color: var(--fill-color);\n",
              "      border-top-color: var(--fill-color);\n",
              "    }\n",
              "    60% {\n",
              "      border-color: transparent;\n",
              "      border-right-color: var(--fill-color);\n",
              "    }\n",
              "    80% {\n",
              "      border-color: transparent;\n",
              "      border-right-color: var(--fill-color);\n",
              "      border-bottom-color: var(--fill-color);\n",
              "    }\n",
              "    90% {\n",
              "      border-color: transparent;\n",
              "      border-bottom-color: var(--fill-color);\n",
              "    }\n",
              "  }\n",
              "</style>\n",
              "\n",
              "  <script>\n",
              "    async function quickchart(key) {\n",
              "      const quickchartButtonEl =\n",
              "        document.querySelector('#' + key + ' button');\n",
              "      quickchartButtonEl.disabled = true;  // To prevent multiple clicks.\n",
              "      quickchartButtonEl.classList.add('colab-df-spinner');\n",
              "      try {\n",
              "        const charts = await google.colab.kernel.invokeFunction(\n",
              "            'suggestCharts', [key], {});\n",
              "      } catch (error) {\n",
              "        console.error('Error during call to suggestCharts:', error);\n",
              "      }\n",
              "      quickchartButtonEl.classList.remove('colab-df-spinner');\n",
              "      quickchartButtonEl.classList.add('colab-df-quickchart-complete');\n",
              "    }\n",
              "    (() => {\n",
              "      let quickchartButtonEl =\n",
              "        document.querySelector('#df-7dcd32d0-42a3-4801-addd-f46918be19e7 button');\n",
              "      quickchartButtonEl.style.display =\n",
              "        google.colab.kernel.accessAllowed ? 'block' : 'none';\n",
              "    })();\n",
              "  </script>\n",
              "</div>\n",
              "    </div>\n",
              "  </div>\n"
            ],
            "application/vnd.google.colaboratory.intrinsic+json": {
              "type": "dataframe",
              "variable_name": "df2",
              "summary": "{\n  \"name\": \"df2\",\n  \"rows\": 10,\n  \"fields\": [\n    {\n      \"column\": \"Unnamed: 0\",\n      \"properties\": {\n        \"dtype\": \"number\",\n        \"std\": 3,\n        \"min\": 0,\n        \"max\": 9,\n        \"num_unique_values\": 10,\n        \"samples\": [\n          8,\n          1,\n          5\n        ],\n        \"semantic_type\": \"\",\n        \"description\": \"\"\n      }\n    },\n    {\n      \"column\": \"L [cm]\",\n      \"properties\": {\n        \"dtype\": \"number\",\n        \"std\": 13.693063937629153,\n        \"min\": 25.0,\n        \"max\": 65.0,\n        \"num_unique_values\": 9,\n        \"samples\": [\n          60.0,\n          30.0,\n          50.0\n        ],\n        \"semantic_type\": \"\",\n        \"description\": \"\"\n      }\n    },\n    {\n      \"column\": \"f1 [Hz]\",\n      \"properties\": {\n        \"dtype\": \"number\",\n        \"std\": 67.01414840249117,\n        \"min\": 8.76,\n        \"max\": 235.7,\n        \"num_unique_values\": 9,\n        \"samples\": [\n          8.76,\n          187.0,\n          93.72\n        ],\n        \"semantic_type\": \"\",\n        \"description\": \"\"\n      }\n    },\n    {\n      \"column\": \"Masse [g]\",\n      \"properties\": {\n        \"dtype\": \"number\",\n        \"std\": 290,\n        \"min\": 150,\n        \"max\": 1000,\n        \"num_unique_values\": 10,\n        \"samples\": [\n          150,\n          950,\n          450\n        ],\n        \"semantic_type\": \"\",\n        \"description\": \"\"\n      }\n    },\n    {\n      \"column\": \"f3 [Hz]\",\n      \"properties\": {\n        \"dtype\": \"number\",\n        \"std\": 15.174605101945817,\n        \"min\": 32.86,\n        \"max\": 77.88,\n        \"num_unique_values\": 10,\n        \"samples\": [\n          32.86,\n          76.39,\n          53.12\n        ],\n        \"semantic_type\": \"\",\n        \"description\": \"\"\n      }\n    },\n    {\n      \"column\": \"info\",\n      \"properties\": {\n        \"dtype\": \"category\",\n        \"num_unique_values\": 3,\n        \"samples\": [\n          \"zwei unterschiedliche messreihen in einem sheet\",\n          \"n=k=3\",\n          \"f\\u00fcr f3 ist die Saitenl\\u00e4nge 0.6m und n=1,k=3\"\n        ],\n        \"semantic_type\": \"\",\n        \"description\": \"\"\n      }\n    }\n  ]\n}"
            }
          },
          "metadata": {},
          "execution_count": 19
        }
      ]
    },
    {
      "cell_type": "markdown",
      "source": [
        "## A2"
      ],
      "metadata": {
        "id": "0mXcZG50Vh-2"
      }
    },
    {
      "cell_type": "code",
      "source": [
        "plt.plot(1/df2['L [cm]'],df2['f1 [Hz]'],'ro')\n",
        "plt.xlabel('1/l [m$^{-1}$]')\n",
        "plt.ylabel('f [Hz]')"
      ],
      "metadata": {
        "colab": {
          "base_uri": "https://localhost:8080/",
          "height": 479
        },
        "id": "3keFm8KJVEXr",
        "outputId": "1b019f5d-456b-4710-a41e-a94789d11885"
      },
      "execution_count": 20,
      "outputs": [
        {
          "output_type": "execute_result",
          "data": {
            "text/plain": [
              "Text(0, 0.5, 'f [Hz]')"
            ]
          },
          "metadata": {},
          "execution_count": 20
        },
        {
          "output_type": "display_data",
          "data": {
            "text/plain": [
              "<Figure size 640x480 with 1 Axes>"
            ],
            "image/png": "[encoded data removed]"
          },
          "metadata": {}
        }
      ]
    },
    {
      "cell_type": "code",
      "source": [
        "f1 = np.array(df2['f1 [Hz]'])[:9]\n",
        "uf1 = 0.1*f1\n",
        "print(len(f1))\n",
        "print(uf1)\n",
        "l = 1/np.array(df2['L [cm]'])\n",
        "L = sm.add_constant(l[:9])\n",
        "model2 = sm.WLS(f1,L,weights=uf1)\n",
        "results2 = model2.fit()\n",
        "print(results2.summary())"
      ],
      "metadata": {
        "colab": {
          "base_uri": "https://localhost:8080/"
        },
        "id": "u4USNkGkVofG",
        "outputId": "125a0c44-3fea-4571-e4db-9a9e47ccaf73"
      },
      "execution_count": 21,
      "outputs": [
        {
          "output_type": "stream",
          "name": "stdout",
          "text": [
            "9\n",
            "[23.57  18.7   15.65  11.72  10.393  9.372  8.557  0.876  7.264]\n",
            "                            WLS Regression Results                            \n",
            "==============================================================================\n",
            "Dep. Variable:                      y   R-squared:                       0.982\n",
            "Model:                            WLS   Adj. R-squared:                  0.980\n",
            "Method:                 Least Squares   F-statistic:                     384.2\n",
            "Date:                Sun, 10 Mar 2024   Prob (F-statistic):           2.25e-07\n",
            "Time:                        17:49:44   Log-Likelihood:                -32.410\n",
            "No. Observations:                   9   AIC:                             68.82\n",
            "Df Residuals:                       7   BIC:                             69.21\n",
            "Df Model:                           1                                         \n",
            "Covariance Type:            nonrobust                                         \n",
            "==============================================================================\n",
            "                 coef    std err          t      P>|t|      [0.025      0.975]\n",
            "------------------------------------------------------------------------------\n",
            "const        -48.6749     10.640     -4.575      0.003     -73.835     -23.515\n",
            "x1          7072.9916    360.830     19.602      0.000    6219.765    7926.219\n",
            "==============================================================================\n",
            "Omnibus:                        1.534   Durbin-Watson:                   2.670\n",
            "Prob(Omnibus):                  0.464   Jarque-Bera (JB):                0.788\n",
            "Skew:                          -0.687   Prob(JB):                        0.674\n",
            "Kurtosis:                       2.538   Cond. No.                         123.\n",
            "==============================================================================\n",
            "\n",
            "Notes:\n",
            "[1] Standard Errors assume that the covariance matrix of the errors is correctly specified.\n"
          ]
        },
        {
          "output_type": "stream",
          "name": "stderr",
          "text": [
            "/usr/local/lib/python3.10/dist-packages/scipy/stats/_stats_py.py:1806: UserWarning: kurtosistest only valid for n>=20 ... continuing anyway, n=9\n",
            "  warnings.warn(\"kurtosistest only valid for n>=20 ... continuing \"\n"
          ]
        }
      ]
    },
    {
      "cell_type": "code",
      "source": [
        "a2 = round(results2.params[1],2)\n",
        "print(a2)\n",
        "b2 = round(results2.params[0],1)\n",
        "ua2 = round(results2.bse[1],2)\n",
        "ub2 = round(results2.bse[0],1)\n",
        "R2 = round(results2.rsquared,3)\n",
        "R2"
      ],
      "metadata": {
        "colab": {
          "base_uri": "https://localhost:8080/"
        },
        "id": "PMd523kbtWtV",
        "outputId": "5b4602c4-3816-43d5-a224-ee37fbb483f7"
      },
      "execution_count": 22,
      "outputs": [
        {
          "output_type": "stream",
          "name": "stdout",
          "text": [
            "7072.99\n"
          ]
        },
        {
          "output_type": "execute_result",
          "data": {
            "text/plain": [
              "0.982"
            ]
          },
          "metadata": {},
          "execution_count": 22
        }
      ]
    },
    {
      "cell_type": "code",
      "source": [
        "# chi square\n",
        "l = l[:9]\n",
        "fx2 = a2*l+b2\n",
        "chi2 = round(chi_sq(l,f1,fx2,uf1),2)\n",
        "chi2"
      ],
      "metadata": {
        "colab": {
          "base_uri": "https://localhost:8080/"
        },
        "id": "BMfnTsvgtneC",
        "outputId": "d0e04264-54c5-4cd4-f34a-7e67a5bb62ba"
      },
      "execution_count": 23,
      "outputs": [
        {
          "output_type": "execute_result",
          "data": {
            "text/plain": [
              "680.32"
            ]
          },
          "metadata": {},
          "execution_count": 23
        }
      ]
    },
    {
      "cell_type": "markdown",
      "source": [
        "### Versuch Nr. 2"
      ],
      "metadata": {
        "id": "HcVe10GfuWXv"
      }
    },
    {
      "cell_type": "code",
      "source": [
        "print(f1)"
      ],
      "metadata": {
        "colab": {
          "base_uri": "https://localhost:8080/"
        },
        "id": "xNR8StMiucOu",
        "outputId": "54f9de81-5ba4-4f1e-bfbc-51c47f7d2490"
      },
      "execution_count": 24,
      "outputs": [
        {
          "output_type": "stream",
          "name": "stdout",
          "text": [
            "[235.7  187.   156.5  117.2  103.93  93.72  85.57   8.76  72.64]\n"
          ]
        }
      ]
    },
    {
      "cell_type": "code",
      "source": [
        "l = np.array([0.04,0.03333333, 0.02857143 ,0.025 ,     0.02222222, 0.02,\n",
        " 0.01818182,0.01538462])\n",
        "f1 = np.array([235.7 ,187. ,  156.5 , 117.2,  103.93 , 93.72 ,\n",
        "               85.57 ,   72.64])"
      ],
      "metadata": {
        "id": "I6-4XAQmuiz-"
      },
      "execution_count": 25,
      "outputs": []
    },
    {
      "cell_type": "code",
      "source": [
        "# f1 = np.array(df2['f1 [Hz]'])[:9]\n",
        "uf1 = 0.08*f1\n",
        "print(len(f1))\n",
        "print(uf1)\n",
        "# l = 1/np.array(df2['L [cm]'])\n",
        "L = sm.add_constant(l)\n",
        "model2 = sm.WLS(f1,L,weights=uf1)\n",
        "results2 = model2.fit()\n",
        "print(results2.summary())"
      ],
      "metadata": {
        "colab": {
          "base_uri": "https://localhost:8080/"
        },
        "id": "-6cAmJ9cvYlG",
        "outputId": "336bf820-8cef-4352-ad3c-d47fb9f5628a"
      },
      "execution_count": 26,
      "outputs": [
        {
          "output_type": "stream",
          "name": "stdout",
          "text": [
            "8\n",
            "[18.856  14.96   12.52    9.376   8.3144  7.4976  6.8456  5.8112]\n"
          ]
        },
        {
          "output_type": "stream",
          "name": "stderr",
          "text": [
            "/usr/local/lib/python3.10/dist-packages/scipy/stats/_stats_py.py:1806: UserWarning: kurtosistest only valid for n>=20 ... continuing anyway, n=8\n",
            "  warnings.warn(\"kurtosistest only valid for n>=20 ... continuing \"\n"
          ]
        },
        {
          "output_type": "stream",
          "name": "stdout",
          "text": [
            "                            WLS Regression Results                            \n",
            "==============================================================================\n",
            "Dep. Variable:                      y   R-squared:                       0.991\n",
            "Model:                            WLS   Adj. R-squared:                  0.989\n",
            "Method:                 Least Squares   F-statistic:                     644.0\n",
            "Date:                Sun, 10 Mar 2024   Prob (F-statistic):           2.47e-07\n",
            "Time:                        17:49:44   Log-Likelihood:                -25.257\n",
            "No. Observations:                   8   AIC:                             54.51\n",
            "Df Residuals:                       6   BIC:                             54.67\n",
            "Df Model:                           1                                         \n",
            "Covariance Type:            nonrobust                                         \n",
            "==============================================================================\n",
            "                 coef    std err          t      P>|t|      [0.025      0.975]\n",
            "------------------------------------------------------------------------------\n",
            "const        -45.6204      8.138     -5.606      0.001     -65.533     -25.708\n",
            "x1          6983.2633    275.183     25.377      0.000    6309.914    7656.613\n",
            "==============================================================================\n",
            "Omnibus:                        2.100   Durbin-Watson:                   1.276\n",
            "Prob(Omnibus):                  0.350   Jarque-Bera (JB):                0.672\n",
            "Skew:                          -0.705   Prob(JB):                        0.715\n",
            "Kurtosis:                       2.841   Cond. No.                         123.\n",
            "==============================================================================\n",
            "\n",
            "Notes:\n",
            "[1] Standard Errors assume that the covariance matrix of the errors is correctly specified.\n"
          ]
        }
      ]
    },
    {
      "cell_type": "code",
      "source": [
        "a2 = round(results2.params[1],2)\n",
        "print(a2)\n",
        "b2 = round(results2.params[0],1)\n",
        "ua2 = round(results2.bse[1],2)\n",
        "ub2 = round(results2.bse[0],1)\n",
        "R2 = round(results2.rsquared,3)\n",
        "R2"
      ],
      "metadata": {
        "colab": {
          "base_uri": "https://localhost:8080/"
        },
        "id": "OJHXqrk1vg_C",
        "outputId": "04f3d782-1ef9-43d9-95d0-5b946aea0819"
      },
      "execution_count": 27,
      "outputs": [
        {
          "output_type": "stream",
          "name": "stdout",
          "text": [
            "6983.26\n"
          ]
        },
        {
          "output_type": "execute_result",
          "data": {
            "text/plain": [
              "0.991"
            ]
          },
          "metadata": {},
          "execution_count": 27
        }
      ]
    },
    {
      "cell_type": "code",
      "source": [
        "# chi square\n",
        "# l = l[:9]\n",
        "fx2 = a2*l+b2\n",
        "chi2 = round(chi_sq(l,f1,fx2,uf1),2)\n",
        "chi2"
      ],
      "metadata": {
        "colab": {
          "base_uri": "https://localhost:8080/"
        },
        "id": "InyP3XB3vlGs",
        "outputId": "eee8e0b0-a76c-45e4-c73f-3a08c0b6921a"
      },
      "execution_count": 28,
      "outputs": [
        {
          "output_type": "execute_result",
          "data": {
            "text/plain": [
              "0.99"
            ]
          },
          "metadata": {},
          "execution_count": 28
        }
      ]
    },
    {
      "cell_type": "code",
      "source": [
        "print(l)\n",
        "l_reg = np.linspace(0.010,0.048,1000)\n",
        "f1_reg = a2*l_reg+b2"
      ],
      "metadata": {
        "colab": {
          "base_uri": "https://localhost:8080/"
        },
        "id": "pV__nQR7wj6f",
        "outputId": "c9370aca-2b92-4f34-bcd2-0558f7622240"
      },
      "execution_count": 29,
      "outputs": [
        {
          "output_type": "stream",
          "name": "stdout",
          "text": [
            "[0.04       0.03333333 0.02857143 0.025      0.02222222 0.02\n",
            " 0.01818182 0.01538462]\n"
          ]
        }
      ]
    },
    {
      "cell_type": "code",
      "source": [
        "plt.errorbar(l,f1,\n",
        "             fmt='.',\n",
        "             yerr=uf1,\n",
        "             capsize=3,label='Data')\n",
        "\n",
        "plt.plot(l_reg,f1_reg,label=f'Regr.: ${a2}\\cdot n + ({b2})$')\n",
        "plt.legend(loc=2)\n",
        "plt.yticks([0,100,200,300])\n",
        "plt.xticks([.01,.02,0.03,0.04,0.05],[10,20,30,40,50])\n",
        "plt.xlabel('1/l [cm$^{-1}\\cdot 10^{-3}$]')\n",
        "plt.ylabel('f(1/l) [Hz]')\n",
        "plt.grid()\n",
        "# plt.show()\n",
        "plt.savefig('M12-A2.png',dpi=600,transparent=True)"
      ],
      "metadata": {
        "colab": {
          "base_uri": "https://localhost:8080/",
          "height": 462
        },
        "id": "rXIDpJNZwRDw",
        "outputId": "0a90eb7a-0ed6-4892-c5cf-ce0cd2703c7c"
      },
      "execution_count": 30,
      "outputs": [
        {
          "output_type": "display_data",
          "data": {
            "text/plain": [
              "<Figure size 640x480 with 1 Axes>"
            ],
            "image/png": "[encoded data removed]"
          },
          "metadata": {}
        }
      ]
    },
    {
      "cell_type": "markdown",
      "source": [
        "## A3"
      ],
      "metadata": {
        "id": "FlMACtuE6UWw"
      }
    },
    {
      "cell_type": "code",
      "source": [
        "df2.head()"
      ],
      "metadata": {
        "colab": {
          "base_uri": "https://localhost:8080/",
          "height": 206
        },
        "id": "lmAHPLwE6YKZ",
        "outputId": "bfda344c-5262-44eb-a1b7-ffc5e1d252d6"
      },
      "execution_count": 31,
      "outputs": [
        {
          "output_type": "execute_result",
          "data": {
            "text/plain": [
              "   Unnamed: 0  L [cm]  f1 [Hz]  Masse [g]  f3 [Hz]  \\\n",
              "0           0    25.0   235.70       1000    77.88   \n",
              "1           1    30.0   187.00        950    76.39   \n",
              "2           2    35.0   156.50        750    69.11   \n",
              "3           3    40.0   117.20        650    63.95   \n",
              "4           4    45.0   103.93        550    59.68   \n",
              "\n",
              "                                              info  \n",
              "0  zwei unterschiedliche messreihen in einem sheet  \n",
              "1                                            n=k=3  \n",
              "2      für f3 ist die Saitenlänge 0.6m und n=1,k=3  \n",
              "3                                              NaN  \n",
              "4                                              NaN  "
            ],
            "text/html": [
              "\n",
              "  <div id=\"df-c4d46dcd-4394-421f-9289-48680f3691f8\" class=\"colab-df-container\">\n",
              "    <div>\n",
              "<style scoped>\n",
              "    .dataframe tbody tr th:only-of-type {\n",
              "        vertical-align: middle;\n",
              "    }\n",
              "\n",
              "    .dataframe tbody tr th {\n",
              "        vertical-align: top;\n",
              "    }\n",
              "\n",
              "    .dataframe thead th {\n",
              "        text-align: right;\n",
              "    }\n",
              "</style>\n",
              "<table border=\"1\" class=\"dataframe\">\n",
              "  <thead>\n",
              "    <tr style=\"text-align: right;\">\n",
              "      <th></th>\n",
              "      <th>Unnamed: 0</th>\n",
              "      <th>L [cm]</th>\n",
              "      <th>f1 [Hz]</th>\n",
              "      <th>Masse [g]</th>\n",
              "      <th>f3 [Hz]</th>\n",
              "      <th>info</th>\n",
              "    </tr>\n",
              "  </thead>\n",
              "  <tbody>\n",
              "    <tr>\n",
              "      <th>0</th>\n",
              "      <td>0</td>\n",
              "      <td>25.0</td>\n",
              "      <td>235.70</td>\n",
              "      <td>1000</td>\n",
              "      <td>77.88</td>\n",
              "      <td>zwei unterschiedliche messreihen in einem sheet</td>\n",
              "    </tr>\n",
              "    <tr>\n",
              "      <th>1</th>\n",
              "      <td>1</td>\n",
              "      <td>30.0</td>\n",
              "      <td>187.00</td>\n",
              "      <td>950</td>\n",
              "      <td>76.39</td>\n",
              "      <td>n=k=3</td>\n",
              "    </tr>\n",
              "    <tr>\n",
              "      <th>2</th>\n",
              "      <td>2</td>\n",
              "      <td>35.0</td>\n",
              "      <td>156.50</td>\n",
              "      <td>750</td>\n",
              "      <td>69.11</td>\n",
              "      <td>für f3 ist die Saitenlänge 0.6m und n=1,k=3</td>\n",
              "    </tr>\n",
              "    <tr>\n",
              "      <th>3</th>\n",
              "      <td>3</td>\n",
              "      <td>40.0</td>\n",
              "      <td>117.20</td>\n",
              "      <td>650</td>\n",
              "      <td>63.95</td>\n",
              "      <td>NaN</td>\n",
              "    </tr>\n",
              "    <tr>\n",
              "      <th>4</th>\n",
              "      <td>4</td>\n",
              "      <td>45.0</td>\n",
              "      <td>103.93</td>\n",
              "      <td>550</td>\n",
              "      <td>59.68</td>\n",
              "      <td>NaN</td>\n",
              "    </tr>\n",
              "  </tbody>\n",
              "</table>\n",
              "</div>\n",
              "    <div class=\"colab-df-buttons\">\n",
              "\n",
              "  <div class=\"colab-df-container\">\n",
              "    <button class=\"colab-df-convert\" onclick=\"convertToInteractive('df-c4d46dcd-4394-421f-9289-48680f3691f8')\"\n",
              "            title=\"Convert this dataframe to an interactive table.\"\n",
              "            style=\"display:none;\">\n",
              "\n",
              "  <svg xmlns=\"http://www.w3.org/2000/svg\" height=\"24px\" viewBox=\"0 -960 960 960\">\n",
              "    <path d=\"M120-120v-720h720v720H120Zm60-500h600v-160H180v160Zm220 220h160v-160H400v160Zm0 220h160v-160H400v160ZM180-400h160v-160H180v160Zm440 0h160v-160H620v160ZM180-180h160v-160H180v160Zm440 0h160v-160H620v160Z\"/>\n",
              "  </svg>\n",
              "    </button>\n",
              "\n",
              "  <style>\n",
              "    .colab-df-container {\n",
              "      display:flex;\n",
              "      gap: 12px;\n",
              "    }\n",
              "\n",
              "    .colab-df-convert {\n",
              "      background-color: #E8F0FE;\n",
              "      border: none;\n",
              "      border-radius: 50%;\n",
              "      cursor: pointer;\n",
              "      display: none;\n",
              "      fill: #1967D2;\n",
              "      height: 32px;\n",
              "      padding: 0 0 0 0;\n",
              "      width: 32px;\n",
              "    }\n",
              "\n",
              "    .colab-df-convert:hover {\n",
              "      background-color: #E2EBFA;\n",
              "      box-shadow: 0px 1px 2px rgba(60, 64, 67, 0.3), 0px 1px 3px 1px rgba(60, 64, 67, 0.15);\n",
              "      fill: #174EA6;\n",
              "    }\n",
              "\n",
              "    .colab-df-buttons div {\n",
              "      margin-bottom: 4px;\n",
              "    }\n",
              "\n",
              "    [theme=dark] .colab-df-convert {\n",
              "      background-color: #3B4455;\n",
              "      fill: #D2E3FC;\n",
              "    }\n",
              "\n",
              "    [theme=dark] .colab-df-convert:hover {\n",
              "      background-color: #434B5C;\n",
              "      box-shadow: 0px 1px 3px 1px rgba(0, 0, 0, 0.15);\n",
              "      filter: drop-shadow(0px 1px 2px rgba(0, 0, 0, 0.3));\n",
              "      fill: #FFFFFF;\n",
              "    }\n",
              "  </style>\n",
              "\n",
              "    <script>\n",
              "      const buttonEl =\n",
              "        document.querySelector('#df-c4d46dcd-4394-421f-9289-48680f3691f8 button.colab-df-convert');\n",
              "      buttonEl.style.display =\n",
              "        google.colab.kernel.accessAllowed ? 'block' : 'none';\n",
              "\n",
              "      async function convertToInteractive(key) {\n",
              "        const element = document.querySelector('#df-c4d46dcd-4394-421f-9289-48680f3691f8');\n",
              "        const dataTable =\n",
              "          await google.colab.kernel.invokeFunction('convertToInteractive',\n",
              "                                                    [key], {});\n",
              "        if (!dataTable) return;\n",
              "\n",
              "        const docLinkHtml = 'Like what you see? Visit the ' +\n",
              "          '<a target=\"_blank\" href=https://colab.research.google.com/notebooks/data_table.ipynb>data table notebook</a>'\n",
              "          + ' to learn more about interactive tables.';\n",
              "        element.innerHTML = '';\n",
              "        dataTable['output_type'] = 'display_data';\n",
              "        await google.colab.output.renderOutput(dataTable, element);\n",
              "        const docLink = document.createElement('div');\n",
              "        docLink.innerHTML = docLinkHtml;\n",
              "        element.appendChild(docLink);\n",
              "      }\n",
              "    </script>\n",
              "  </div>\n",
              "\n",
              "\n",
              "<div id=\"df-7a4a341f-095c-47be-a416-a7dc79221fa1\">\n",
              "  <button class=\"colab-df-quickchart\" onclick=\"quickchart('df-7a4a341f-095c-47be-a416-a7dc79221fa1')\"\n",
              "            title=\"Suggest charts\"\n",
              "            style=\"display:none;\">\n",
              "\n",
              "<svg xmlns=\"http://www.w3.org/2000/svg\" height=\"24px\"viewBox=\"0 0 24 24\"\n",
              "     width=\"24px\">\n",
              "    <g>\n",
              "        <path d=\"M19 3H5c-1.1 0-2 .9-2 2v14c0 1.1.9 2 2 2h14c1.1 0 2-.9 2-2V5c0-1.1-.9-2-2-2zM9 17H7v-7h2v7zm4 0h-2V7h2v10zm4 0h-2v-4h2v4z\"/>\n",
              "    </g>\n",
              "</svg>\n",
              "  </button>\n",
              "\n",
              "<style>\n",
              "  .colab-df-quickchart {\n",
              "      --bg-color: #E8F0FE;\n",
              "      --fill-color: #1967D2;\n",
              "      --hover-bg-color: #E2EBFA;\n",
              "      --hover-fill-color: #174EA6;\n",
              "      --disabled-fill-color: #AAA;\n",
              "      --disabled-bg-color: #DDD;\n",
              "  }\n",
              "\n",
              "  [theme=dark] .colab-df-quickchart {\n",
              "      --bg-color: #3B4455;\n",
              "      --fill-color: #D2E3FC;\n",
              "      --hover-bg-color: #434B5C;\n",
              "      --hover-fill-color: #FFFFFF;\n",
              "      --disabled-bg-color: #3B4455;\n",
              "      --disabled-fill-color: #666;\n",
              "  }\n",
              "\n",
              "  .colab-df-quickchart {\n",
              "    background-color: var(--bg-color);\n",
              "    border: none;\n",
              "    border-radius: 50%;\n",
              "    cursor: pointer;\n",
              "    display: none;\n",
              "    fill: var(--fill-color);\n",
              "    height: 32px;\n",
              "    padding: 0;\n",
              "    width: 32px;\n",
              "  }\n",
              "\n",
              "  .colab-df-quickchart:hover {\n",
              "    background-color: var(--hover-bg-color);\n",
              "    box-shadow: 0 1px 2px rgba(60, 64, 67, 0.3), 0 1px 3px 1px rgba(60, 64, 67, 0.15);\n",
              "    fill: var(--button-hover-fill-color);\n",
              "  }\n",
              "\n",
              "  .colab-df-quickchart-complete:disabled,\n",
              "  .colab-df-quickchart-complete:disabled:hover {\n",
              "    background-color: var(--disabled-bg-color);\n",
              "    fill: var(--disabled-fill-color);\n",
              "    box-shadow: none;\n",
              "  }\n",
              "\n",
              "  .colab-df-spinner {\n",
              "    border: 2px solid var(--fill-color);\n",
              "    border-color: transparent;\n",
              "    border-bottom-color: var(--fill-color);\n",
              "    animation:\n",
              "      spin 1s steps(1) infinite;\n",
              "  }\n",
              "\n",
              "  @keyframes spin {\n",
              "    0% {\n",
              "      border-color: transparent;\n",
              "      border-bottom-color: var(--fill-color);\n",
              "      border-left-color: var(--fill-color);\n",
              "    }\n",
              "    20% {\n",
              "      border-color: transparent;\n",
              "      border-left-color: var(--fill-color);\n",
              "      border-top-color: var(--fill-color);\n",
              "    }\n",
              "    30% {\n",
              "      border-color: transparent;\n",
              "      border-left-color: var(--fill-color);\n",
              "      border-top-color: var(--fill-color);\n",
              "      border-right-color: var(--fill-color);\n",
              "    }\n",
              "    40% {\n",
              "      border-color: transparent;\n",
              "      border-right-color: var(--fill-color);\n",
              "      border-top-color: var(--fill-color);\n",
              "    }\n",
              "    60% {\n",
              "      border-color: transparent;\n",
              "      border-right-color: var(--fill-color);\n",
              "    }\n",
              "    80% {\n",
              "      border-color: transparent;\n",
              "      border-right-color: var(--fill-color);\n",
              "      border-bottom-color: var(--fill-color);\n",
              "    }\n",
              "    90% {\n",
              "      border-color: transparent;\n",
              "      border-bottom-color: var(--fill-color);\n",
              "    }\n",
              "  }\n",
              "</style>\n",
              "\n",
              "  <script>\n",
              "    async function quickchart(key) {\n",
              "      const quickchartButtonEl =\n",
              "        document.querySelector('#' + key + ' button');\n",
              "      quickchartButtonEl.disabled = true;  // To prevent multiple clicks.\n",
              "      quickchartButtonEl.classList.add('colab-df-spinner');\n",
              "      try {\n",
              "        const charts = await google.colab.kernel.invokeFunction(\n",
              "            'suggestCharts', [key], {});\n",
              "      } catch (error) {\n",
              "        console.error('Error during call to suggestCharts:', error);\n",
              "      }\n",
              "      quickchartButtonEl.classList.remove('colab-df-spinner');\n",
              "      quickchartButtonEl.classList.add('colab-df-quickchart-complete');\n",
              "    }\n",
              "    (() => {\n",
              "      let quickchartButtonEl =\n",
              "        document.querySelector('#df-7a4a341f-095c-47be-a416-a7dc79221fa1 button');\n",
              "      quickchartButtonEl.style.display =\n",
              "        google.colab.kernel.accessAllowed ? 'block' : 'none';\n",
              "    })();\n",
              "  </script>\n",
              "</div>\n",
              "    </div>\n",
              "  </div>\n"
            ],
            "application/vnd.google.colaboratory.intrinsic+json": {
              "type": "dataframe",
              "variable_name": "df2",
              "summary": "{\n  \"name\": \"df2\",\n  \"rows\": 10,\n  \"fields\": [\n    {\n      \"column\": \"Unnamed: 0\",\n      \"properties\": {\n        \"dtype\": \"number\",\n        \"std\": 3,\n        \"min\": 0,\n        \"max\": 9,\n        \"num_unique_values\": 10,\n        \"samples\": [\n          8,\n          1,\n          5\n        ],\n        \"semantic_type\": \"\",\n        \"description\": \"\"\n      }\n    },\n    {\n      \"column\": \"L [cm]\",\n      \"properties\": {\n        \"dtype\": \"number\",\n        \"std\": 13.693063937629153,\n        \"min\": 25.0,\n        \"max\": 65.0,\n        \"num_unique_values\": 9,\n        \"samples\": [\n          60.0,\n          30.0,\n          50.0\n        ],\n        \"semantic_type\": \"\",\n        \"description\": \"\"\n      }\n    },\n    {\n      \"column\": \"f1 [Hz]\",\n      \"properties\": {\n        \"dtype\": \"number\",\n        \"std\": 67.01414840249117,\n        \"min\": 8.76,\n        \"max\": 235.7,\n        \"num_unique_values\": 9,\n        \"samples\": [\n          8.76,\n          187.0,\n          93.72\n        ],\n        \"semantic_type\": \"\",\n        \"description\": \"\"\n      }\n    },\n    {\n      \"column\": \"Masse [g]\",\n      \"properties\": {\n        \"dtype\": \"number\",\n        \"std\": 290,\n        \"min\": 150,\n        \"max\": 1000,\n        \"num_unique_values\": 10,\n        \"samples\": [\n          150,\n          950,\n          450\n        ],\n        \"semantic_type\": \"\",\n        \"description\": \"\"\n      }\n    },\n    {\n      \"column\": \"f3 [Hz]\",\n      \"properties\": {\n        \"dtype\": \"number\",\n        \"std\": 15.174605101945817,\n        \"min\": 32.86,\n        \"max\": 77.88,\n        \"num_unique_values\": 10,\n        \"samples\": [\n          32.86,\n          76.39,\n          53.12\n        ],\n        \"semantic_type\": \"\",\n        \"description\": \"\"\n      }\n    },\n    {\n      \"column\": \"info\",\n      \"properties\": {\n        \"dtype\": \"category\",\n        \"num_unique_values\": 3,\n        \"samples\": [\n          \"zwei unterschiedliche messreihen in einem sheet\",\n          \"n=k=3\",\n          \"f\\u00fcr f3 ist die Saitenl\\u00e4nge 0.6m und n=1,k=3\"\n        ],\n        \"semantic_type\": \"\",\n        \"description\": \"\"\n      }\n    }\n  ]\n}"
            }
          },
          "metadata": {},
          "execution_count": 31
        }
      ]
    },
    {
      "cell_type": "markdown",
      "source": [
        "**Zugspannung**\n",
        "- Annahme: $ F_0 = m\\cdot g$\n",
        "- Formel: $f_3^2 = \\frac{3}{2} ⋅ \\frac{1}{l^2⋅ \\mu} F_0$"
      ],
      "metadata": {
        "id": "APAk3RgS7JCz"
      }
    },
    {
      "cell_type": "code",
      "source": [
        "l0 = 0.6 # m\n",
        "m = np.array(df2['Masse [g]'])/1000 # kg\n",
        "um = 0.5/1000\n",
        "F0 = 9.81*m\n",
        "uF0 = 9.81*um*np.ones(len(m))\n",
        "f3 = np.array(df2['f3 [Hz]'])\n",
        "uf3 = 0.05*f3"
      ],
      "metadata": {
        "id": "PJT0g9Oq7IdP"
      },
      "execution_count": 32,
      "outputs": []
    },
    {
      "cell_type": "code",
      "source": [
        "plt.errorbar(F0,f3,\n",
        "             fmt='.',color='red',\n",
        "             capsize=3,\n",
        "            #  xerr=uF0,\n",
        "             yerr=uf3\n",
        "             )\n",
        "plt.xticks([1,4,7,10])\n",
        "plt.yticks([30,50,70,90])\n",
        "plt.xlabel('$F_0$ [N]')\n",
        "plt.ylabel('$f_3$ [Hz]')"
      ],
      "metadata": {
        "colab": {
          "base_uri": "https://localhost:8080/",
          "height": 479
        },
        "id": "iZUaYCOG-hyl",
        "outputId": "ae415114-6559-43f9-cb14-d5325086dfa8"
      },
      "execution_count": 33,
      "outputs": [
        {
          "output_type": "execute_result",
          "data": {
            "text/plain": [
              "Text(0, 0.5, '$f_3$ [Hz]')"
            ]
          },
          "metadata": {},
          "execution_count": 33
        },
        {
          "output_type": "display_data",
          "data": {
            "text/plain": [
              "<Figure size 640x480 with 1 Axes>"
            ],
            "image/png": "[encoded data removed]"
          },
          "metadata": {}
        }
      ]
    },
    {
      "cell_type": "markdown",
      "source": [
        "### Lineare Regression"
      ],
      "metadata": {
        "id": "qyRmQcCT_u5m"
      }
    },
    {
      "cell_type": "code",
      "source": [
        "lst = reg_wls(F0,f3,uf3,1,1)\n",
        "# print(lst)"
      ],
      "metadata": {
        "colab": {
          "base_uri": "https://localhost:8080/"
        },
        "id": "0Nmj-WwLCYXB",
        "outputId": "6b642b85-e35f-4ee3-fbf2-f630e68eeb91"
      },
      "execution_count": 34,
      "outputs": [
        {
          "output_type": "stream",
          "name": "stdout",
          "text": [
            "                            WLS Regression Results                            \n",
            "==============================================================================\n",
            "Dep. Variable:                      y   R-squared:                       0.981\n",
            "Model:                            WLS   Adj. R-squared:                  0.979\n",
            "Method:                 Least Squares   F-statistic:                     412.1\n",
            "Date:                Sun, 10 Mar 2024   Prob (F-statistic):           3.62e-08\n",
            "Time:                        17:49:50   Log-Likelihood:                -20.377\n",
            "No. Observations:                  10   AIC:                             44.75\n",
            "Df Residuals:                       8   BIC:                             45.36\n",
            "Df Model:                           1                                         \n",
            "Covariance Type:            nonrobust                                         \n",
            "==============================================================================\n",
            "                 coef    std err          t      P>|t|      [0.025      0.975]\n",
            "------------------------------------------------------------------------------\n",
            "const         30.0879      1.743     17.261      0.000      26.068      34.107\n",
            "x1             5.1069      0.252     20.300      0.000       4.527       5.687\n",
            "==============================================================================\n",
            "Omnibus:                        1.370   Durbin-Watson:                   1.560\n",
            "Prob(Omnibus):                  0.504   Jarque-Bera (JB):                1.004\n",
            "Skew:                          -0.631   Prob(JB):                        0.605\n",
            "Kurtosis:                       2.095   Cond. No.                         19.0\n",
            "==============================================================================\n",
            "\n",
            "Notes:\n",
            "[1] Standard Errors assume that the covariance matrix of the errors is correctly specified.\n"
          ]
        },
        {
          "output_type": "stream",
          "name": "stderr",
          "text": [
            "/usr/local/lib/python3.10/dist-packages/scipy/stats/_stats_py.py:1806: UserWarning: kurtosistest only valid for n>=20 ... continuing anyway, n=10\n",
            "  warnings.warn(\"kurtosistest only valid for n>=20 ... continuing \"\n"
          ]
        }
      ]
    },
    {
      "cell_type": "code",
      "source": [
        "lst"
      ],
      "metadata": {
        "colab": {
          "base_uri": "https://localhost:8080/"
        },
        "id": "mKyWtG5XCkdh",
        "outputId": "5a64c809-7a50-47aa-d61c-9a372bc02a18"
      },
      "execution_count": 35,
      "outputs": [
        {
          "output_type": "execute_result",
          "data": {
            "text/plain": [
              "(5.1, 0.3, 30.1, 1.7, 0.981, 1.236)"
            ]
          },
          "metadata": {},
          "execution_count": 35
        }
      ]
    },
    {
      "cell_type": "code",
      "source": [
        "reg_f0 = np.linspace(1.1,9.9,100)\n",
        "reg_f3 = lst[0]*reg_f0+lst[2]"
      ],
      "metadata": {
        "id": "Ol_iTsYsDOkA"
      },
      "execution_count": 36,
      "outputs": []
    },
    {
      "cell_type": "code",
      "source": [
        "plt.errorbar(F0,f3,\n",
        "             fmt='.',color='red',\n",
        "             capsize=3,\n",
        "            #  xerr=uF0,\n",
        "             yerr=uf3,\n",
        "             label='Data'\n",
        "             )\n",
        "plt.plot(reg_f0,reg_f3,label=f'Reg.: ${lst[0]}\\cdot F0 + {lst[2]}$')\n",
        "plt.xticks([1,4,7,10])\n",
        "plt.yticks([30,50,70,90])\n",
        "plt.xlabel('$F_0$ [N]')\n",
        "plt.ylabel('$f_3(F_0)$ [Hz]')\n",
        "plt.legend(loc=2)\n",
        "plt.savefig('M12-A3.png',dpi=600,transparent=True)"
      ],
      "metadata": {
        "colab": {
          "base_uri": "https://localhost:8080/",
          "height": 462
        },
        "id": "Sksx0KlODg1p",
        "outputId": "a7991650-a112-4e9e-832e-7386c17adb59"
      },
      "execution_count": 38,
      "outputs": [
        {
          "output_type": "display_data",
          "data": {
            "text/plain": [
              "<Figure size 640x480 with 1 Axes>"
            ],
            "image/png": "[encoded data removed]"
          },
          "metadata": {}
        }
      ]
    }
  ]
}