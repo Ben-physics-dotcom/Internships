{
 "cells": [
  {
   "cell_type": "markdown",
   "id": "7a2e02c6",
   "metadata": {},
   "source": [
    "# Importe"
   ]
  },
  {
   "cell_type": "code",
   "execution_count": 21,
   "id": "a84e6201",
   "metadata": {},
   "outputs": [],
   "source": [
    "import numpy as np\n",
    "import pandas as pd\n",
    "from scipy.optimize import curve_fit\n",
    "import statsmodels.api as sm\n",
    "import scipy as sp\n",
    "\n",
    "import matplotlib.pyplot as plt\n",
    "\n",
    "from uncertainties import ufloat\n",
    "\n",
    "plt.rc('text',usetex=True)    # Dieser Befehl überschreibt die Grafiken in LaTeX Formation\n",
    "plt.style.use('classic')"
   ]
  },
  {
   "cell_type": "markdown",
   "id": "2ef1c133",
   "metadata": {},
   "source": [
    "# Daten laden für den Zylinder"
   ]
  },
  {
   "cell_type": "code",
   "execution_count": 2,
   "id": "30b26918",
   "metadata": {
    "scrolled": false
   },
   "outputs": [
    {
     "name": "stdout",
     "output_type": "stream",
     "text": [
      "       gamma    T1    T2\n",
      "Index                   \n",
      "H        NaN  4.90  4.68\n",
      "P1       0.0  5.81  5.76\n",
      "P2      15.0  6.24  6.28\n",
      "P3      30.0  6.50  6.46\n",
      "P4      45.0  7.11  7.06\n",
      "P5      60.0  7.66  7.63\n",
      "P6      75.0  8.04  8.02\n",
      "P7      90.0  8.13  8.11\n"
     ]
    }
   ],
   "source": [
    "Z=pd.read_csv('Daten_Zylinder.txt','\\t',index_col='Index')\n",
    "\n",
    "# winkel in Grad\n",
    "gam=np.array(Z['gamma'])\n",
    "\n",
    "# gemessene Zeiten\n",
    "T1_Z=np.array(Z['T1'])/10# durch 10 Teilen, weil wir uns für eine Schwingung interessieren\n",
    "T2_Z=np.array(Z['T2'])/10\n",
    "print(Z) \n",
    "\n",
    "# winkel in Radianten\n",
    "gam=np.radians(gam[1:])     # Gamma in rad (Radiant) umwandeln, weil np.sin() in rad rechnet\n",
    "#print(gam)\n",
    "\n",
    "#print(T1_Z)"
   ]
  },
  {
   "cell_type": "markdown",
   "id": "42be1f29",
   "metadata": {},
   "source": [
    "## Geometrie und Masse des Zylinder"
   ]
  },
  {
   "cell_type": "code",
   "execution_count": 3,
   "id": "44cbfe2e",
   "metadata": {},
   "outputs": [
    {
     "name": "stdout",
     "output_type": "stream",
     "text": [
      "1.35200+/-0.00010\n",
      "0.10100+/-0.00005\n",
      "0.020500+/-0.000025\n"
     ]
    }
   ],
   "source": [
    "m_Z_err=ufloat(1.352,0.1/1000)                 # Masse in kg\n",
    "print(m_Z_err)\n",
    "h_err=ufloat(0.1010,0.05/(10*100))             # HÖhe, Fehler: err=0.05mm, in meter\n",
    "print(h_err)\n",
    "d_err=ufloat(0.041,0.05/(10*100))              # Durchmesser,  meter\n",
    "r_err=d_err/2                                  # Radius,meter\n",
    "print(r_err)"
   ]
  },
  {
   "cell_type": "markdown",
   "id": "b3480fef",
   "metadata": {},
   "source": [
    "# Benötigte Gleichungen"
   ]
  },
  {
   "cell_type": "markdown",
   "id": "13269c14",
   "metadata": {},
   "source": [
    "$$ J_{Z}=\\frac{D\\cdot T^{2}}{4\\pi^{2}}\\\\ J_{tisch}=5.8\\cdot 10^{-4} \\text{kg} \\text{m}^{2}\\\\ D= 0.1036$$"
   ]
  },
  {
   "cell_type": "code",
   "execution_count": 4,
   "id": "c4559872",
   "metadata": {},
   "outputs": [],
   "source": [
    "J_tisch=5.8e-4\n",
    "J_ti_err=ufloat(J_tisch,0.00002)\n",
    "\n",
    "D=0.1036\n",
    "D_err=ufloat(D,0.0025)\n",
    "\n",
    "# ohne Fehler\n",
    "def J_Z(T):\n",
    "    k=(D/(4*np.pi**2))*(T)**2\n",
    "    return k\n",
    "\n",
    "\n",
    "# Mit Fehler\n",
    "def J_err(T):\n",
    "    k=(D_err/(4*np.pi**2))*T**2\n",
    "    return k"
   ]
  },
  {
   "cell_type": "markdown",
   "id": "205b572d",
   "metadata": {},
   "source": [
    "# T mitteln"
   ]
  },
  {
   "cell_type": "code",
   "execution_count": 5,
   "id": "e4f18517",
   "metadata": {},
   "outputs": [
    {
     "name": "stdout",
     "output_type": "stream",
     "text": [
      "Mittel [0.479  0.5785 0.626  0.648  0.7085 0.7645 0.803  0.812 ]\n",
      "\n",
      "Standardabweichung [0.01555635 0.00353553 0.00282843 0.00282843 0.00353553 0.00212132\n",
      " 0.00141421 0.00141421]\n",
      "\n",
      "Standardfehler:  [0.0055  0.00125 0.001   0.001   0.00125 0.00075 0.0005  0.0005 ]\n"
     ]
    }
   ],
   "source": [
    "# T1 und T2 in einem Array\n",
    "T_Z=np.zeros((8,2))\n",
    "for i in range(8):\n",
    "    for j in range(2):\n",
    "        if j==0:\n",
    "            T_Z[i][0]=T1_Z[i]\n",
    "        else:\n",
    "            T_Z[i][1]=T2_Z[i]\n",
    "            \n",
    "# Mittel von T1 und T2\n",
    "T_Z_mean=np.zeros(8)\n",
    "for i in range(8):\n",
    "    T_Z_mean[i]=T_Z[i].mean()\n",
    "print('Mittel',T_Z_mean)\n",
    "print()\n",
    "\n",
    "# Standardabweichung von T_Z\n",
    "T_Z_std=np.zeros(8)\n",
    "for i in range(8):\n",
    "    T_Z_std[i]=np.std(T_Z[i],ddof=1)\n",
    "print('Standardabweichung',T_Z_std)\n",
    "print()\n",
    "\n",
    "# Standardfehler von T_Z\n",
    "m_std_err=T_Z_std/np.sqrt(len(T_Z))\n",
    "print('Standardfehler: ', m_std_err)"
   ]
  },
  {
   "cell_type": "markdown",
   "id": "703d3df5",
   "metadata": {},
   "source": [
    "# Berechnung von $J_{gama}$ in Beziehung zu $T^{2}$\n",
    "\n",
    "$$ J_{gamma}=J_{Z}-J_{Halterung}-J_{Tisch} $$"
   ]
  },
  {
   "cell_type": "markdown",
   "id": "f0a78af5",
   "metadata": {},
   "source": [
    "## Berechnung von $J_{gamma}$ mit Fehlern"
   ]
  },
  {
   "cell_type": "code",
   "execution_count": 6,
   "id": "93b47732",
   "metadata": {
    "scrolled": true
   },
   "outputs": [
    {
     "name": "stdout",
     "output_type": "stream",
     "text": [
      "0.000602+/-0.000020\n",
      "[0.000276123567293052+/-1.581103060456412e-05\n",
      " 0.00042626495744202723+/-1.7543919579095513e-05\n",
      " 0.000499816557941828+/-1.8660805552402558e-05\n",
      " 0.0007151815906847201+/-2.2597309095650822e-05\n",
      " 0.0009316481392086089+/-2.6564563885278215e-05\n",
      " 0.0010900164548451998+/-2.979093846764901e-05\n",
      " 0.0011281594730150513+/-3.060831359302446e-05]\n"
     ]
    }
   ],
   "source": [
    "T_err=np.array([ufloat(0.479,0.0055),ufloat(0.5785,0.00125),ufloat(0.626,0.001),ufloat(0.648,0.001),ufloat(0.7085,0.00125),ufloat(0.7645,0.00075),ufloat(0.803,0.0005),ufloat(0.812,0.0005)])\n",
    "\n",
    "\n",
    "\n",
    "J_Z_er=J_err(T_err)\n",
    "#print(J_er)\n",
    "\n",
    "#Halterung mit Fehler\n",
    "J_halt_er=J_Z_er[0]\n",
    "print(J_halt_er)\n",
    "\n",
    "# J_gamma mit Fehler\n",
    "J_gamma_er=J_Z_er[1:]-J_halt_er\n",
    "print(J_gamma_er)\n",
    "\n",
    "# Fehler von J_Gamma\n",
    "yerr=np.array([2.5e-5,2.7e-5,2.7e-5,3e-5,3e-5,4e-5,4e-5])"
   ]
  },
  {
   "cell_type": "markdown",
   "id": "9849a8c4",
   "metadata": {},
   "source": [
    "## Vorbereitung zur Berechnung von $J_{gamma}$ ohne Fehler"
   ]
  },
  {
   "cell_type": "code",
   "execution_count": 7,
   "id": "90d6f01b",
   "metadata": {
    "scrolled": true
   },
   "outputs": [
    {
     "name": "stdout",
     "output_type": "stream",
     "text": [
      "J_halterung 0.0006021033527285139\n"
     ]
    },
    {
     "data": {
      "text/plain": [
       "array([0.00087823, 0.00102837, 0.00110192, 0.00131728, 0.00153375,\n",
       "       0.00169212, 0.00173026])"
      ]
     },
     "execution_count": 7,
     "metadata": {},
     "output_type": "execute_result"
    }
   ],
   "source": [
    "#yerr=np.array([0.0156,0.0035,0.0028,0.0028,0.0035,0.0021,0.0014,0.0014])\n",
    "#print(T_Z_mean)\n",
    "\n",
    "#J_Z ohne Fehler\n",
    "J_Z=J_Z(T_Z_mean)\n",
    "\n",
    "#print('J_Z',J_Z)\n",
    "\n",
    "# J_Z Auschließlich der Halterung\n",
    "k=J_Z[0]\n",
    "#print('T_Halterung',k)\n",
    "\n",
    "\n",
    "# J_halterung ohne Fehler\n",
    "J_halterung=k\n",
    "print('J_halterung',J_halterung)\n",
    "\n",
    "# J_Z vom Zylinder\n",
    "J_Z=J_Z[1:]\n",
    "J_Z"
   ]
  },
  {
   "cell_type": "markdown",
   "id": "c15a97d5",
   "metadata": {},
   "source": [
    "## Berechnung von $J_{gamma}$ ohne Fehler"
   ]
  },
  {
   "cell_type": "code",
   "execution_count": 8,
   "id": "3933d960",
   "metadata": {
    "scrolled": true
   },
   "outputs": [
    {
     "name": "stdout",
     "output_type": "stream",
     "text": [
      "J_Z: [0.00087823 0.00102837 0.00110192 0.00131728 0.00153375 0.00169212\n",
      " 0.00173026]\n",
      "J_halterung:  0.0006021033527285139\n",
      "J_tisch: 0.00058\n"
     ]
    },
    {
     "data": {
      "text/plain": [
       "array([-3.03876433e-04, -1.53735043e-04, -8.01834421e-05,  1.35181591e-04,\n",
       "        3.51648139e-04,  5.10016455e-04,  5.48159473e-04])"
      ]
     },
     "execution_count": 8,
     "metadata": {},
     "output_type": "execute_result"
    }
   ],
   "source": [
    "\n",
    "print(f'J_Z:',J_Z)\n",
    "print(f'J_halterung: ',J_halterung)\n",
    "print(f'J_tisch:', J_tisch)\n",
    "J_gam=J_Z-J_halterung-J_tisch\n",
    "J_gam"
   ]
  },
  {
   "cell_type": "markdown",
   "id": "d5f99b83",
   "metadata": {},
   "source": [
    "# Regression"
   ]
  },
  {
   "cell_type": "markdown",
   "id": "b10dd19a",
   "metadata": {},
   "source": [
    "## Definition der Regressionsgeraden"
   ]
  },
  {
   "cell_type": "code",
   "execution_count": 9,
   "id": "fd1c6524",
   "metadata": {},
   "outputs": [],
   "source": [
    "def J_g(a,b,sin_gam):\n",
    "    k=a*sin_gam+b\n",
    "    return k\n",
    "# jz=b, jy=b+a\n",
    "#print(len(yerr))"
   ]
  },
  {
   "cell_type": "markdown",
   "id": "539faff0",
   "metadata": {},
   "source": [
    "## Variante 1: Regressionsparameter a und b berechnen, mit scipy"
   ]
  },
  {
   "cell_type": "code",
   "execution_count": 10,
   "id": "5a9b8895",
   "metadata": {
    "scrolled": false
   },
   "outputs": [
    {
     "name": "stdout",
     "output_type": "stream",
     "text": [
      "-0.00026884608162650893\n",
      "0.0008234010776833475\n",
      "2.0464736552148482e-05\n",
      "3.889448194716904e-05\n",
      "a:  -0.000269+/-0.000020 , Fehler: -7.61 %\n",
      "b:  0.00082+/-0.00004 , Fehler:  4.72 %\n"
     ]
    }
   ],
   "source": [
    "#yerr=yerr[1:]\n",
    "sin_gam=np.sin(gam)**2\n",
    "#print(len(sin_gam))\n",
    "#print(len(yerr))\n",
    "pop,cov=curve_fit(J_g,sin_gam,J_gam,sigma=yerr)\n",
    "a1,b1=pop\n",
    "da1,db1=np.sqrt(np.diag(cov))\n",
    "#a1=round(a1,0)\n",
    "#b1=round(b1,5)\n",
    "#da1=round(da1,0)\n",
    "#db1=round(db1,5)\n",
    "a1=a1\n",
    "b1=b1\n",
    "print(a1 )\n",
    "print(b1)\n",
    "print(da1)\n",
    "print(db1)\n",
    "a1_err=ufloat(a1,da1)\n",
    "b1_err=ufloat(b1,db1)\n",
    "print('a: ',a1_err,', Fehler:',round(da1/a1*100,2),'%')\n",
    "print('b: ',b1_err,', Fehler: ',round(db1/b1*100,2),'%')"
   ]
  },
  {
   "cell_type": "markdown",
   "id": "6462e745",
   "metadata": {},
   "source": [
    "## Variante 2: mit statsmodels"
   ]
  },
  {
   "cell_type": "code",
   "execution_count": 11,
   "id": "7d1b9f54",
   "metadata": {},
   "outputs": [
    {
     "name": "stdout",
     "output_type": "stream",
     "text": [
      "\n",
      "Lineare Regression\n",
      "\n",
      "                            WLS Regression Results                            \n",
      "==============================================================================\n",
      "Dep. Variable:                      y   R-squared:                       0.992\n",
      "Model:                            WLS   Adj. R-squared:                  0.991\n",
      "Method:                 Least Squares   F-statistic:                     633.3\n",
      "Date:                Mon, 05 Jul 2021   Prob (F-statistic):           1.85e-06\n",
      "Time:                        11:30:39   Log-Likelihood:                 63.555\n",
      "No. Observations:                   7   AIC:                            -123.1\n",
      "Df Residuals:                       5   BIC:                            -123.2\n",
      "Df Model:                           1                                         \n",
      "Covariance Type:            nonrobust                                         \n",
      "==============================================================================\n",
      "                 coef    std err          t      P>|t|      [0.025      0.975]\n",
      "------------------------------------------------------------------------------\n",
      "const         -0.0003   2.05e-05    -13.042      0.000      -0.000      -0.000\n",
      "x1             0.0008   3.26e-05     25.166      0.000       0.001       0.001\n",
      "==============================================================================\n",
      "Omnibus:                          nan   Durbin-Watson:                   2.913\n",
      "Prob(Omnibus):                    nan   Jarque-Bera (JB):                1.061\n",
      "Skew:                           0.942   Prob(JB):                        0.588\n",
      "Kurtosis:                       3.302   Cond. No.                         3.39\n",
      "==============================================================================\n",
      "\n",
      "Warnings:\n",
      "[1] Standard Errors assume that the covariance matrix of the errors is correctly specified.\n"
     ]
    },
    {
     "name": "stderr",
     "output_type": "stream",
     "text": [
      "C:\\Users\\Ben Fliegener\\Miniconda3\\lib\\site-packages\\statsmodels\\stats\\stattools.py:71: ValueWarning: omni_normtest is not valid with less than 8 observations; 7 samples were given.\n",
      "  \"samples were given.\" % int(n), ValueWarning)\n"
     ]
    }
   ],
   "source": [
    "x=sin_gam\n",
    "\n",
    "\n",
    "# Lineare Regression \n",
    "\n",
    "y=J_gam\n",
    "x_zunahme=sm.add_constant(x)\n",
    "results=sm.WLS(y,x_zunahme,sigma=yerr).fit()\n",
    "print('''\n",
    "Lineare Regression\n",
    "''')\n",
    "print(results.summary())\n"
   ]
  },
  {
   "cell_type": "code",
   "execution_count": 12,
   "id": "43d89dcb",
   "metadata": {},
   "outputs": [
    {
     "name": "stdout",
     "output_type": "stream",
     "text": [
      "[0.        0.0669873 0.25      0.5       0.75      0.9330127 1.       ]\n"
     ]
    }
   ],
   "source": [
    "print(sin_gam)"
   ]
  },
  {
   "cell_type": "markdown",
   "id": "c7a367a7",
   "metadata": {},
   "source": [
    "# Plot"
   ]
  },
  {
   "cell_type": "code",
   "execution_count": 22,
   "id": "89e41e21",
   "metadata": {
    "scrolled": false
   },
   "outputs": [
    {
     "data": {
      "image/png": "[encoded data removed]",
      "text/plain": [
       "<Figure size 640x480 with 1 Axes>"
      ]
     },
     "metadata": {},
     "output_type": "display_data"
    }
   ],
   "source": [
    "xxx=np.linspace(0,1.1,500)\n",
    "sigg=np.sin(xxx)**2\n",
    "#plt.axis('equal')\n",
    "\n",
    "xerr=np.radians(np.array([3,3,3,3,3,3,3]))\n",
    "xerr=2*xerr*np.sin(gam)*np.cos(gam)\n",
    "\n",
    "plt.errorbar(sin_gam,J_gam,xerr=xerr,yerr=yerr, fmt='k.',label='Datenpunkte',capsize=4)\n",
    "plt.plot(xxx,J_g(a1,b1,xxx),label='Fitgerade')\n",
    "plt.legend()\n",
    "plt.savefig('Regression_Zylinder.png',dpi=500)"
   ]
  },
  {
   "cell_type": "code",
   "execution_count": 14,
   "id": "4688fd32",
   "metadata": {
    "scrolled": true
   },
   "outputs": [
    {
     "data": {
      "text/plain": [
       "Power_divergenceResult(statistic=6164.443615265633, pvalue=0.0)"
      ]
     },
     "execution_count": 14,
     "metadata": {},
     "output_type": "execute_result"
    }
   ],
   "source": [
    "sp.stats.chisquare( sin_gam,J_gam,ddof=2)"
   ]
  },
  {
   "cell_type": "markdown",
   "id": "cee6a81a",
   "metadata": {},
   "source": [
    "# Aufgabe 5"
   ]
  },
  {
   "cell_type": "markdown",
   "id": "037e80eb",
   "metadata": {},
   "source": [
    "## Theoretische Werte"
   ]
  },
  {
   "cell_type": "code",
   "execution_count": 15,
   "id": "7aeb1ebf",
   "metadata": {},
   "outputs": [
    {
     "name": "stdout",
     "output_type": "stream",
     "text": [
      "0.0002841+/-0.0000007\n",
      "0.0012914+/-0.0000012\n"
     ]
    }
   ],
   "source": [
    "# Für gamma =0°\n",
    "J_Z_Err=0.5*m_Z_err*r_err**2\n",
    "print(J_Z_Err)\n",
    "\n",
    "# für gamma = 90°\n",
    "J_y_Err=0.5*m_Z_err*(0.5*r_err**2+1/6*h_err**2)\n",
    "print(J_y_Err)"
   ]
  },
  {
   "cell_type": "markdown",
   "id": "7d45cec5",
   "metadata": {},
   "source": [
    "## Regressionswerte"
   ]
  },
  {
   "cell_type": "code",
   "execution_count": 16,
   "id": "7d36865f",
   "metadata": {},
   "outputs": [
    {
     "name": "stdout",
     "output_type": "stream",
     "text": [
      "0.0008234010776833475\n",
      "0.0005545549960568385\n",
      "289.8+/-0.7 %\n",
      "( 42.94+/-0.04 ) %\n"
     ]
    }
   ],
   "source": [
    "J_Z=b1\n",
    "print(J_Z)\n",
    "\n",
    "J_y=b1+a1\n",
    "print(J_y)\n",
    "\n",
    "# Fehler \n",
    "fehler_J_Z=J_Z/J_Z_Err*100\n",
    "print(fehler_J_Z,'%')\n",
    "\n",
    "fehler_J_y=J_y/J_y_Err*100\n",
    "print('(',fehler_J_y,')','%')"
   ]
  }
 ],
 "metadata": {
  "kernelspec": {
   "display_name": "Python 3",
   "language": "python",
   "name": "python3"
  },
  "language_info": {
   "codemirror_mode": {
    "name": "ipython",
    "version": 3
   },
   "file_extension": ".py",
   "mimetype": "text/x-python",
   "name": "python",
   "nbconvert_exporter": "python",
   "pygments_lexer": "ipython3",
   "version": "3.7.4"
  }
 },
 "nbformat": 4,
 "nbformat_minor": 5
}
