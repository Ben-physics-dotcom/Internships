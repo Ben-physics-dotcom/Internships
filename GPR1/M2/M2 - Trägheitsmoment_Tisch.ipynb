{
 "cells": [
  {
   "cell_type": "markdown",
   "id": "dbe072a7",
   "metadata": {},
   "source": [
    "# Importe"
   ]
  },
  {
   "cell_type": "code",
   "execution_count": 35,
   "id": "c7150ef8",
   "metadata": {},
   "outputs": [],
   "source": [
    "import numpy as np\n",
    "import pandas as pd\n",
    "from scipy.optimize import curve_fit\n",
    "import statsmodels.api as sm\n",
    "import scipy as sp\n",
    "\n",
    "import matplotlib.pyplot as plt\n",
    "\n",
    "from uncertainties import ufloat\n",
    "\n",
    "# plt.rc('text', usetex=True)    # Dieser Befehl überschreibt die Grafiken in LaTeX Formation\n"
   ]
  },
  {
   "cell_type": "markdown",
   "id": "143b22c0",
   "metadata": {},
   "source": [
    "# Funktionen"
   ]
  },
  {
   "cell_type": "code",
   "execution_count": 36,
   "id": "f8f445d3",
   "metadata": {},
   "outputs": [],
   "source": [
    "def chi_sq(y, fx, u_y, p=2):    # für 2 Fitparameter\n",
    "    \"\"\"\n",
    "    Variables\n",
    "      n [int]:                length of the\n",
    "      y [numpy array]:        y values for the y axis\n",
    "      fx [numpy array]:       y values from the regression\n",
    "      u_y[int, numpy array]:  Unsicherheit/uncertainty from y\n",
    "      p [int]:                number of parameters of the regression\n",
    "    Return:\n",
    "      chi square\n",
    "    \"\"\"\n",
    "    n = len(y)\n",
    "    factor = 1 / (n - p)\n",
    "    return factor * np.sum((y - fx)**2 / u_y**2)"
   ]
  },
  {
   "cell_type": "markdown",
   "id": "5661302c",
   "metadata": {},
   "source": [
    "# Daten"
   ]
  },
  {
   "cell_type": "markdown",
   "id": "21c2df96",
   "metadata": {},
   "source": [
    "## Versuchsdaten"
   ]
  },
  {
   "cell_type": "markdown",
   "id": "0318bc14",
   "metadata": {},
   "source": [
    "### Eichfehler Digital-Stoppuhr"
   ]
  },
  {
   "cell_type": "code",
   "execution_count": 37,
   "id": "57847cf1",
   "metadata": {},
   "outputs": [],
   "source": [
    "def delta_t(T):\n",
    "    c = 0.01 + 5e-4 * T\n",
    "    return c\n"
   ]
  },
  {
   "cell_type": "markdown",
   "id": "fffba871",
   "metadata": {},
   "source": [
    "### Teilungsfehler, Messschieber"
   ]
  },
  {
   "cell_type": "code",
   "execution_count": 38,
   "id": "f886e356",
   "metadata": {},
   "outputs": [],
   "source": [
    "def delta_l(s):\n",
    "    c = 5e-5 + 5e-5 * s\n",
    "    return c\n"
   ]
  },
  {
   "cell_type": "markdown",
   "id": "725f8ea2",
   "metadata": {},
   "source": [
    "## Geometrie und Masse der Scheibe"
   ]
  },
  {
   "cell_type": "code",
   "execution_count": 39,
   "id": "c7bba309",
   "metadata": {},
   "outputs": [
    {
     "name": "stdout",
     "output_type": "stream",
     "text": [
      "0.24530+/-0.00010\n"
     ]
    },
    {
     "data": {
      "text/plain": [
       "0.02405+/-2.5e-05"
      ]
     },
     "execution_count": 39,
     "metadata": {},
     "output_type": "execute_result"
    }
   ],
   "source": [
    "# Scheibe\n",
    "m_s = 245.3 / 1000   # Masse in kg\n",
    "\n",
    "m_s_err = ufloat(m_s, 0.1 / 1000)\n",
    "print(m_s_err)\n",
    "d_s = 4.81 / 100            # Durchmesser m\n",
    "d_s_err = ufloat(d_s, 5e-5)\n",
    "r_s = d_s / 2              # Radius in m\n",
    "r_s_err = d_s_err / 2\n",
    "r_s_err"
   ]
  },
  {
   "cell_type": "markdown",
   "id": "5ebb7439",
   "metadata": {},
   "source": [
    "# daten von Scheibe laden"
   ]
  },
  {
   "cell_type": "code",
   "execution_count": 40,
   "id": "3b8844bb",
   "metadata": {
    "scrolled": false
   },
   "outputs": [
    {
     "name": "stdout",
     "output_type": "stream",
     "text": [
      "          s    T1    T2  T_err\n",
      "Index                         \n",
      "Tisch   NaN  4.66  4.55    0.5\n",
      "P1     0.00  4.96  4.98    0.5\n",
      "P2     1.12  5.02  5.08    0.5\n",
      "P4     2.81  5.53  5.70    0.5\n",
      "P5     4.17  6.48  6.50    0.5\n",
      "P6     5.66  7.51  7.32    0.5\n",
      "P7     7.14  8.47  8.44    0.5\n"
     ]
    }
   ],
   "source": [
    "Sch = pd.read_csv('Daten_Scheibe.txt', sep='\\t', index_col='Index')\n",
    "s = np.array(Sch['s']) / 100                          # in cm\n",
    "T1_S1 = np.array(Sch['T1']) / 10                         # in Sekunden\n",
    "T2_S1 = np.array(Sch['T2']) / 10\n",
    "\n",
    "print(Sch)\n",
    "\n",
    "s = s[1:]\n",
    "T1_S = T1_S1[1:]\n",
    "T2_S = T2_S1[1:]"
   ]
  },
  {
   "cell_type": "markdown",
   "id": "b2ec1c7b",
   "metadata": {},
   "source": [
    "# Zeit mitteln"
   ]
  },
  {
   "cell_type": "code",
   "execution_count": 41,
   "id": "4d6ae9d8",
   "metadata": {
    "scrolled": true
   },
   "outputs": [
    {
     "name": "stdout",
     "output_type": "stream",
     "text": [
      "[0.4605 0.497  0.505  0.5615 0.649  0.7415 0.8455]\n"
     ]
    },
    {
     "data": {
      "text/plain": [
       "array([0.00777817, 0.00141421, 0.00424264, 0.01202082, 0.00141421,\n",
       "       0.01343503, 0.00212132])"
      ]
     },
     "execution_count": 41,
     "metadata": {},
     "output_type": "execute_result"
    }
   ],
   "source": [
    "# T1 und T2 in einem Array\n",
    "T_S = np.zeros((7, 2))\n",
    "for i in range(7):\n",
    "    for j in range(2):\n",
    "        if j == 0:\n",
    "            T_S[i][0] = T1_S1[i]\n",
    "        else:\n",
    "            T_S[i][1] = T2_S1[i]\n",
    "\n",
    "# Mittel von T1 und T2\n",
    "T_S_mean = np.zeros(7)\n",
    "for i in range(7):\n",
    "    T_S_mean[i] = T_S[i].mean()\n",
    "print(T_S_mean)\n",
    "\n",
    "# Standardabweichung von T_S\n",
    "T_S_std = np.zeros(7)\n",
    "for i in range(7):\n",
    "    T_S_std[i] = np.std(T_S[i], ddof=1)\n",
    "T_S_std"
   ]
  },
  {
   "cell_type": "markdown",
   "id": "c0a4b95d",
   "metadata": {},
   "source": [
    "# Mittlerer Abstand zwischen zwei aneinder liegenden Punkten"
   ]
  },
  {
   "cell_type": "code",
   "execution_count": 42,
   "id": "660360ba",
   "metadata": {
    "scrolled": true
   },
   "outputs": [
    {
     "name": "stdout",
     "output_type": "stream",
     "text": [
      "6\n",
      "0.011899999999999999\n",
      "0.11949895397031723\n"
     ]
    }
   ],
   "source": [
    "s_lst = []\n",
    "for i in range(len(s)):\n",
    "    if i == 0:\n",
    "        k = s[0] - s[i]\n",
    "        s_lst.append(k)\n",
    "    else:\n",
    "        k = s[i] - s[i - 1]\n",
    "        s_lst.append(k)\n",
    "s_lst = np.array(s_lst)\n",
    "print(len(s_lst))\n",
    "s_lst_std = (s_lst.sum() / (len(s_lst)-1))**0.5\n",
    "print(s_lst.mean())\n",
    "print(s_lst_std)"
   ]
  },
  {
   "cell_type": "markdown",
   "id": "9aed7044",
   "metadata": {},
   "source": [
    "# Eichfehler "
   ]
  },
  {
   "cell_type": "code",
   "execution_count": 43,
   "id": "667521a2",
   "metadata": {},
   "outputs": [
    {
     "name": "stdout",
     "output_type": "stream",
     "text": [
      "[0.010248  0.010251  0.0102765 0.010324  0.0103755 0.0104235]\n",
      "[0.010249 0.010254 0.010285 0.010325 0.010366 0.010422]\n"
     ]
    }
   ],
   "source": [
    "# Eichfehler Dig.-Stoppuhr\n",
    "T1_err = delta_t(T1_S)\n",
    "T2_err = delta_t(T2_S)\n",
    "\n",
    "print(T1_err)\n",
    "print(T2_err)\n"
   ]
  },
  {
   "cell_type": "code",
   "execution_count": 44,
   "id": "deb19b38",
   "metadata": {},
   "outputs": [
    {
     "name": "stdout",
     "output_type": "stream",
     "text": [
      "6\n"
     ]
    },
    {
     "data": {
      "text/plain": [
       "array([5.0000e-05, 5.0560e-05, 5.1405e-05, 5.2085e-05, 5.2830e-05,\n",
       "       5.3570e-05])"
      ]
     },
     "execution_count": 44,
     "metadata": {},
     "output_type": "execute_result"
    }
   ],
   "source": [
    "# Teilungsfehler\n",
    "s_err_einzen = delta_l(s)\n",
    "# print(s)\n",
    "print(len(s))\n",
    "u_s = np.array([5e-5, 5e-5, 5e-5, 5e-5, 5e-5, 5e-5])\n",
    "s_err_einzen"
   ]
  },
  {
   "cell_type": "markdown",
   "id": "19c7c1d6",
   "metadata": {},
   "source": [
    "Beim Messen wurde ein grober Messfehler gemacht, indem der Experimentator auf die erste Nachkommastelle gerundet hat.\n",
    "Beispielsweise wurde gemessen: 3.15mm, dann hat der Experimentator wie folgt gerundet: 3.2mm"
   ]
  },
  {
   "cell_type": "code",
   "execution_count": 45,
   "id": "6f2762f7",
   "metadata": {
    "scrolled": true
   },
   "outputs": [],
   "source": [
    "# ufloat(1120e-5,5.0560e-5)\n",
    "# 0.00005==5e-5"
   ]
  },
  {
   "cell_type": "code",
   "execution_count": 46,
   "id": "dfe1ac94",
   "metadata": {},
   "outputs": [
    {
     "data": {
      "text/plain": [
       "array([0.0+/-5e-05, 0.0112+/-5e-05, 0.0281+/-5e-05, 0.0417+/-5e-05,\n",
       "       0.0566+/-5e-05, 0.0714+/-5e-05], dtype=object)"
      ]
     },
     "execution_count": 46,
     "metadata": {},
     "output_type": "execute_result"
    }
   ],
   "source": [
    "s_err = np.array([ufloat(0, 5e-5), ufloat(1120e-5, 5e-5), ufloat(2810e-5, 5e-5), ufloat(4170e-5, 5e-5),\n",
    "ufloat(5660e-5, 5e-5), ufloat(7140e-5, 5e-5)])\n",
    "s_err"
   ]
  },
  {
   "cell_type": "markdown",
   "id": "dcc6a0c8",
   "metadata": {},
   "source": [
    "# Gleichungen\n",
    "$$ J_{sch}=0.5 m r^{2}\\\\ J_{z}=J_{s}+ms^{2}$$\n",
    "$J_{sch}$ ist das Trägheitsmoment der Scheibe und $J_{z}$ ist der Steinersche Satz"
   ]
  },
  {
   "cell_type": "code",
   "execution_count": 47,
   "id": "b6e17c84",
   "metadata": {
    "scrolled": true
   },
   "outputs": [
    {
     "name": "stdout",
     "output_type": "stream",
     "text": [
      "[7.0941066625e-05+/-1.5029530326629059e-07\n",
      " 0.000101711498625+/-3.1456549065640727e-07\n",
      " 0.000264632399625+/-7.131027145749455e-07\n",
      " 0.000497490783625+/-1.0531905342995427e-06\n",
      " 0.000856774334625+/-1.4392342138974137e-06\n",
      " 0.0013214706546250002+/-1.8383461173709667e-06]\n"
     ]
    }
   ],
   "source": [
    "def J_sch(m, r):\n",
    "    c = 0.5 * m * r**2\n",
    "    return c\n",
    "\n",
    "\n",
    "def J_z(m, r, s):\n",
    "    c = J_sch(m, r) + m * s**2\n",
    "    return c\n",
    "\n",
    "\n",
    "# Berechnung von J_Z\n",
    "J_z_err = J_z(m_s_err, r_s_err, s_err)\n",
    "print(J_z_err)\n",
    "J_zz = J_z(m_s, r_s, s)\n",
    "J_zz = np.array(J_zz)\n",
    "\n",
    "# error x-Achse\n",
    "xerr = np.array([1.5e-7, 3e-7, 7e-7, 1.1e-6, 1.4e-6, 1.8e-6])\n",
    "# J_z_list=np.array(J_z_list)\n"
   ]
  },
  {
   "cell_type": "code",
   "execution_count": 48,
   "id": "0b51b25e",
   "metadata": {},
   "outputs": [],
   "source": [
    "# error y-Achse\n",
    "ut = 2 * T1_S * np.sqrt(0.5**2 + 0.01**2)   # Eichfehler und Reaktionszeit\n",
    "ut1 = 2 * T1_S * T_S_std[1:]"
   ]
  },
  {
   "cell_type": "code",
   "execution_count": 49,
   "id": "a4c08f64",
   "metadata": {},
   "outputs": [
    {
     "name": "stdout",
     "output_type": "stream",
     "text": [
      "7.0941066625e-05 \n",
      " 0.0013214706546249998\n"
     ]
    }
   ],
   "source": [
    "print(np.min(J_zz), '\\n', np.max(J_zz))"
   ]
  },
  {
   "cell_type": "markdown",
   "id": "a593ebab",
   "metadata": {},
   "source": [
    "# Lineare Regression"
   ]
  },
  {
   "cell_type": "markdown",
   "id": "176478fa",
   "metadata": {},
   "source": [
    "## Regressionsgerade"
   ]
  },
  {
   "cell_type": "code",
   "execution_count": 50,
   "id": "8ed8f8ee",
   "metadata": {},
   "outputs": [
    {
     "name": "stdout",
     "output_type": "stream",
     "text": [
      "[0.0014029  0.00425961 0.01329502 0.00183282 0.02017941 0.00359352]\n",
      "[np.float64(0.0014028998538741504), np.float64(0.004259611249867766), np.float64(0.01329502169986948), np.float64(0.001832820776835533), np.float64(0.02017941332150171), np.float64(0.003593516661990171)]\n"
     ]
    }
   ],
   "source": [
    "# Regressionsgerade\n",
    "def reg_scheibe(x: np.array, a: float, b: float) -> np.array:\n",
    "    c = 4 * np.pi**2 / a * (x + b)\n",
    "    return c\n",
    "\n",
    "\n",
    "ut11 = []\n",
    "for i in range(6):\n",
    "    c = ut1[i]\n",
    "    ut11.append(c)\n",
    "print(ut1)\n",
    "print(ut11)"
   ]
  },
  {
   "cell_type": "markdown",
   "id": "7d6fcec1",
   "metadata": {},
   "source": [
    "## Bestimmung der Regressionsparameter mit Scipy"
   ]
  },
  {
   "cell_type": "markdown",
   "id": "acbbff61",
   "metadata": {},
   "source": [
    "### Scheibe, gewichtet"
   ]
  },
  {
   "cell_type": "code",
   "execution_count": 51,
   "id": "8167eb6e",
   "metadata": {},
   "outputs": [
    {
     "data": {
      "text/plain": [
       "array([ 434.26259365,  829.04676969, 1279.10073038])"
      ]
     },
     "execution_count": 51,
     "metadata": {},
     "output_type": "execute_result"
    }
   ],
   "source": [
    "reg_scheibe(np.array([1, 2, 3.14]), 0.1, 0.1)"
   ]
  },
  {
   "cell_type": "code",
   "execution_count": 52,
   "id": "97827ea6",
   "metadata": {},
   "outputs": [
    {
     "name": "stdout",
     "output_type": "stream",
     "text": [
      "0.10357068012287009\n",
      "0.00058\n",
      "0.002467712268790443\n",
      "2e-05\n",
      "a:  0.1036+/-0.0025 , Standardabweichung 2.38 %\n",
      "b:  0.000580+/-0.000020 , Standardabweichung 3.45 %\n"
     ]
    }
   ],
   "source": [
    "T1_S_sq = T_S_mean[1:]**2\n",
    "pop, cov = curve_fit(reg_scheibe, J_zz, T1_S_sq, sigma=ut11)\n",
    "a, b = pop\n",
    "da, db = np.sqrt(np.diag(cov))\n",
    "# a=round(a,0)\n",
    "b = round(b, 5)\n",
    "# da=round(da,0)\n",
    "db = round(db, 5)\n",
    "print(a)\n",
    "print(b)\n",
    "print(da)\n",
    "print(db)\n",
    "a_err = ufloat(a, da)\n",
    "b_err = ufloat(b, db)\n",
    "print('a: ', a_err, ', Standardabweichung', round(da / a * 100, 2), '%')\n",
    "print('b: ', b_err, ', Standardabweichung', round(db / b * 100, 2), '%')"
   ]
  },
  {
   "cell_type": "code",
   "execution_count": 53,
   "id": "de62c067",
   "metadata": {},
   "outputs": [],
   "source": [
    "# 2*0.466*(0.05+0.001)"
   ]
  },
  {
   "cell_type": "code",
   "execution_count": 54,
   "id": "f9648527",
   "metadata": {},
   "outputs": [
    {
     "data": {
      "text/plain": [
       "np.float64(0.10357068012287009)"
      ]
     },
     "execution_count": 54,
     "metadata": {},
     "output_type": "execute_result"
    }
   ],
   "source": [
    "a\n"
   ]
  },
  {
   "cell_type": "code",
   "execution_count": 55,
   "id": "b63440a6",
   "metadata": {},
   "outputs": [
    {
     "name": "stdout",
     "output_type": "stream",
     "text": [
      "J_Tisch 1: 0.00056+/-0.00012\n",
      "21.0 %, mit Reaktionszeit\n",
      "J_Tisch 2:  0.000580+/-0.000020\n",
      "4.0 %, mit Standardabweichung\n"
     ]
    }
   ],
   "source": [
    "# Trägheitsmoment des tisches\n",
    "# teil 1\n",
    "tt = ufloat(0.4605, 0.05)\n",
    "J_Tisch = tt**2 / (4 * np.pi**2 / a)\n",
    "print('J_Tisch 1:', J_Tisch)\n",
    "print(round(1.2 / 5.6, 2) * 100, '%, mit Reaktionszeit')\n",
    "\n",
    "\n",
    "# teil 2\n",
    "t_sq_err = reg_scheibe(0, a_err, b_err)\n",
    "tisch = t_sq_err / (4 * np.pi**2 / a_err)\n",
    "print('J_Tisch 2: ', tisch)\n",
    "print(round(0.2 / 5.6, 2) * 100, '%, mit Standardabweichung')"
   ]
  },
  {
   "cell_type": "markdown",
   "id": "f46c16dc",
   "metadata": {},
   "source": [
    "Der große Fehler für das Trägheitsmoment vom Tisch rührt von dem großen Fehler in der Periodendauer, die ihren Ursprung in der Reaktionszeit hat."
   ]
  },
  {
   "cell_type": "markdown",
   "id": "e445dda5",
   "metadata": {},
   "source": [
    "## Bestimmung der Regressionsparameter mit Statsmodels"
   ]
  },
  {
   "cell_type": "markdown",
   "id": "304e9dc4",
   "metadata": {},
   "source": [
    "## Scheibe"
   ]
  },
  {
   "cell_type": "code",
   "execution_count": 57,
   "id": "1be14ce2",
   "metadata": {
    "scrolled": true
   },
   "outputs": [
    {
     "name": "stdout",
     "output_type": "stream",
     "text": [
      "\n",
      "Lineare Regression\n",
      "\n",
      "                            OLS Regression Results                            \n",
      "==============================================================================\n",
      "Dep. Variable:                      y   R-squared:                       0.999\n",
      "Model:                            OLS   Adj. R-squared:                  0.998\n",
      "Method:                 Least Squares   F-statistic:                     2670.\n",
      "Date:                Sat, 01 Mar 2025   Prob (F-statistic):           8.39e-07\n",
      "Time:                        14:48:35   Log-Likelihood:                 21.660\n",
      "No. Observations:                   6   AIC:                            -39.32\n",
      "Df Residuals:                       4   BIC:                            -39.74\n",
      "Df Model:                           1                                         \n",
      "Covariance Type:            nonrobust                                         \n",
      "==============================================================================\n",
      "                 coef    std err          t      P>|t|      [0.025      0.975]\n",
      "------------------------------------------------------------------------------\n",
      "const          0.2208      0.005     44.037      0.000       0.207       0.235\n",
      "x1           378.4617      7.324     51.675      0.000     358.127     398.796\n",
      "==============================================================================\n",
      "Omnibus:                          nan   Durbin-Watson:                   1.956\n",
      "Prob(Omnibus):                    nan   Jarque-Bera (JB):                0.814\n",
      "Skew:                           0.816   Prob(JB):                        0.665\n",
      "Kurtosis:                       2.231   Cond. No.                     2.24e+03\n",
      "==============================================================================\n",
      "\n",
      "Notes:\n",
      "[1] Standard Errors assume that the covariance matrix of the errors is correctly specified.\n",
      "[2] The condition number is large, 2.24e+03. This might indicate that there are\n",
      "strong multicollinearity or other numerical problems.\n"
     ]
    },
    {
     "name": "stderr",
     "output_type": "stream",
     "text": [
      "c:\\Users\\benjf\\anaconda3\\envs\\projects\\Lib\\site-packages\\statsmodels\\stats\\stattools.py:74: ValueWarning: omni_normtest is not valid with less than 8 observations; 6 samples were given.\n",
      "  warn(\"omni_normtest is not valid with less than 8 observations; %i \"\n"
     ]
    }
   ],
   "source": [
    "x = J_zz\n",
    "\n",
    "\n",
    "# Lineare Regression\n",
    "\n",
    "y = T_S_mean[1:]**2\n",
    "x_zunahme = sm.add_constant(x)\n",
    "results = sm.OLS(y, x_zunahme).fit()\n",
    "print('''\n",
    "Lineare Regression\n",
    "''')\n",
    "print(results.summary())\n"
   ]
  },
  {
   "cell_type": "markdown",
   "id": "e78376d2",
   "metadata": {},
   "source": [
    "# Unsicherheiten"
   ]
  },
  {
   "cell_type": "markdown",
   "id": "6bfe453e",
   "metadata": {},
   "source": [
    "$$ u_{z}=\\sqrt{(\\frac{\\partial z}{\\partial a})^{2}u_{a}^{2}+(\\frac{\\partial z}{\\partial b})^{2}u_{b}^{2}+(\\frac{\\partial z}{\\partial c})^{2}u_{c}^{2}+....}$$"
   ]
  },
  {
   "cell_type": "code",
   "execution_count": 58,
   "id": "4f8b24de",
   "metadata": {},
   "outputs": [],
   "source": [
    "m = 1.352\n",
    "u_m = 0.0001\n",
    "r = 0.02405\n",
    "u_r = (2.5e-5)"
   ]
  },
  {
   "cell_type": "markdown",
   "id": "c409f71b",
   "metadata": {},
   "source": [
    "## Unsicherheit $T^{2}$\n",
    "\n",
    "$$ T_{sq}=\\left(\\frac{T}{10}\\right)^{2}\\\\ \\Rightarrow u_{T^2}=\\sqrt{\\frac{4 T^{2}}{100^{2}}u_{T}^{2}}\\\\=\\frac{2}{100}T u_{T}$$\n",
    "$u_{T}$ ist Eichfehler von Stoppuhr "
   ]
  },
  {
   "cell_type": "code",
   "execution_count": 59,
   "id": "5897b165",
   "metadata": {},
   "outputs": [
    {
     "name": "stdout",
     "output_type": "stream",
     "text": [
      "Unsicherheit von $T^{2}$:  [0.01018701 0.01035503 0.01154528 0.0134012  0.01537982 0.01762487]\n"
     ]
    }
   ],
   "source": [
    "u_t_sq = 2 * T_S_mean[1:] * delta_t(T_S_mean[1:])\n",
    "print('Unsicherheit von $T^{2}$: ', u_t_sq)"
   ]
  },
  {
   "cell_type": "markdown",
   "id": "a009026b",
   "metadata": {},
   "source": [
    "## Unsicherheit $J_{sch}$\n",
    "\n",
    "$$ J_{sch}=\\frac{1}{2} m r^{2}\\\\ u_{J_{sch}}=\\frac{1}{2}\\sqrt{u_{m}^{2}r^{4}+(2 m r u_{r})^{2}}\\\\=\\frac{r^{2}}{2}\\sqrt{u_{m}^{2} r^{2}+(2 m   u_{r})^{2}}$$"
   ]
  },
  {
   "cell_type": "code",
   "execution_count": 60,
   "id": "f7e24447",
   "metadata": {},
   "outputs": [
    {
     "data": {
      "text/plain": [
       "np.float64(1.9562372978464435e-08)"
      ]
     },
     "execution_count": 60,
     "metadata": {},
     "output_type": "execute_result"
    }
   ],
   "source": [
    "u_sch = r**2 / 2 * np.sqrt(u_m**2 * r**2 + 4 * m**2 * u_r**2)\n",
    "u_sch"
   ]
  },
  {
   "cell_type": "markdown",
   "id": "43c79f2e",
   "metadata": {},
   "source": [
    "## Unsicherheit $J_{Z}$\n",
    "\n",
    "$$ J_{z}=\\frac{1}{2} m r^{2}+ms^{2}\\\\ u_{Z}=\\sqrt{\\frac{r^{2}}{4}(u_{m}^{2} r^{2}+(2 m   u_{r})^{2})+u_{m}^{2}s^{4}+4(ms)^{2}u_{s}^{2}} $$"
   ]
  },
  {
   "cell_type": "code",
   "execution_count": 61,
   "id": "99e04cd7",
   "metadata": {},
   "outputs": [
    {
     "data": {
      "text/plain": [
       "array([1.15032737e-06, 2.20693811e-06, 4.86340064e-06, 7.10615177e-06,\n",
       "       9.58732780e-06, 1.20618683e-05])"
      ]
     },
     "execution_count": 61,
     "metadata": {},
     "output_type": "execute_result"
    }
   ],
   "source": [
    "u_z = np.sqrt(r**2 / 2 * (u_m**2 * r**2 + 4 * m**2 * u_r**2) + u_m**2 * s**2 + s**2 * 4 * m**2 * u_s**2)\n",
    "u_z"
   ]
  },
  {
   "cell_type": "markdown",
   "id": "de3218fb",
   "metadata": {},
   "source": [
    "## Unsicherheit $J_{tisch}$"
   ]
  },
  {
   "cell_type": "markdown",
   "id": "3b4872ec",
   "metadata": {},
   "source": [
    "$$ T^{2}=\\frac{4\\pi^{2}}{D}(J_{Z}=0)+\\frac{4\\pi^{2}}{D}J_{Tisch}\\\\ T^{2}=\\frac{4\\pi^{2}}{D}J_{Tisch}\\\\J_{Tisch}=\\frac{D}{4\\pi^{2}}T^{2} \\\\ \\Rightarrow u_{J_{tisch}}=\\frac{1}{4\\pi^{2}}\\sqrt{u_{D}^{2}T^{4}+2DT^{2}u_{T}^{2}}$$"
   ]
  },
  {
   "cell_type": "code",
   "execution_count": 62,
   "id": "f9257e56",
   "metadata": {},
   "outputs": [],
   "source": [
    "T_sq = T_S_mean[0]**2\n",
    "u_T_sq = 2 * T_S_mean[0] * 0.01\n",
    "D = a\n",
    "u_D = da"
   ]
  },
  {
   "cell_type": "code",
   "execution_count": 63,
   "id": "9304c812",
   "metadata": {},
   "outputs": [
    {
     "data": {
      "text/plain": [
       "np.float64(0.0005096594264693058)"
      ]
     },
     "execution_count": 63,
     "metadata": {},
     "output_type": "execute_result"
    }
   ],
   "source": [
    "u_tisch = 1 / (4 * np.pi**2) * np.sqrt(u_D**2 * T_sq**2 + 2 * D * T_sq * u_T_sq)\n",
    "u_tisch"
   ]
  },
  {
   "cell_type": "code",
   "execution_count": 64,
   "id": "6d5d28fd",
   "metadata": {},
   "outputs": [
    {
     "name": "stdout",
     "output_type": "stream",
     "text": [
      "J_tisch 0.0017477778583443353\n",
      "Fehler:  0.0005096594264693058  in %:  29.160423565046457\n"
     ]
    }
   ],
   "source": [
    "# J_tisch\n",
    "jj_tisch = D / (4 * np.pi) * T_S_mean[0]**2\n",
    "print('J_tisch', jj_tisch)\n",
    "print('Fehler: ', u_tisch, ' in %: ', u_tisch / jj_tisch * 100)"
   ]
  },
  {
   "cell_type": "markdown",
   "id": "4fbb8ed3",
   "metadata": {},
   "source": [
    "# Plot"
   ]
  },
  {
   "cell_type": "code",
   "execution_count": 65,
   "id": "41f0759a",
   "metadata": {
    "scrolled": true
   },
   "outputs": [
    {
     "name": "stdout",
     "output_type": "stream",
     "text": [
      "[0.0028058  0.00851922 0.02659004 0.00366564 0.04035883 0.00718703]\n",
      "[3.0e-07 6.0e-07 1.4e-06 2.2e-06 2.8e-06 3.6e-06]\n"
     ]
    },
    {
     "name": "stderr",
     "output_type": "stream",
     "text": [
      "<>:18: SyntaxWarning: invalid escape sequence '\\c'\n",
      "<>:18: SyntaxWarning: invalid escape sequence '\\c'\n",
      "C:\\Users\\benjf\\AppData\\Local\\Temp\\ipykernel_27084\\3123755368.py:18: SyntaxWarning: invalid escape sequence '\\c'\n",
      "  plt.xlabel('Trägheitsmoment $J_{z}$ [kg$\\cdot$m$^{2}$]')\n"
     ]
    },
    {
     "data": {
      "image/png": "[encoded data removed]",
      "text/plain": [
       "<Figure size 640x480 with 1 Axes>"
      ]
     },
     "metadata": {},
     "output_type": "display_data"
    }
   ],
   "source": [
    "\n",
    "xx = np.linspace(0, 0.0014, 500)\n",
    "# print(xx)\n",
    "# print(xerr)\n",
    "# print(J_zz)\n",
    "u = 2 * np.array(ut11)\n",
    "print(u)\n",
    "x_sig = 2 * np.array(xerr)\n",
    "print(x_sig)\n",
    "plt.errorbar(J_zz, T1_S_sq, xerr=u_z, yerr=u_t_sq, fmt='.', color='yellow', label='Messpunkte', capsize=4, zorder=2)\n",
    "plt.plot(xx,\n",
    "    reg_scheibe(xx, a, b),\n",
    "    'r',\n",
    "    label=r'Fit nach $\\frac{4 \\pi^{2}}{D}(x+b)$',\n",
    "    zorder=1)\n",
    "plt.errorbar(0, reg_scheibe(0, a, b), yerr=(0.00004), fmt='b.', label='$T_{Tisch}^{2}$ für J', capsize=4)\n",
    "plt.xticks(np.arange(0, 0.0016, step=4e-4))\n",
    "plt.yticks(np.arange(0.15,0.99,step=0.3))\n",
    "plt.xlabel('Trägheitsmoment $J_{z}$ [kg$\\cdot$m$^{2}$]')\n",
    "plt.ylabel('Periodendauer $T^{2}$ $[^{2}]$')\n",
    "plt.legend()\n",
    "\n",
    "plt.show()\n",
    "# plt.savefig('Regression_M2_J_Tisch.png',dpi=500)"
   ]
  },
  {
   "cell_type": "code",
   "execution_count": 66,
   "id": "70e58034",
   "metadata": {},
   "outputs": [
    {
     "data": {
      "text/plain": [
       "array([7.09410666e-05, 1.01711499e-04, 2.64632400e-04, 4.97490784e-04,\n",
       "       8.56774335e-04, 1.32147065e-03])"
      ]
     },
     "execution_count": 66,
     "metadata": {},
     "output_type": "execute_result"
    }
   ],
   "source": [
    "J_zz"
   ]
  },
  {
   "cell_type": "code",
   "execution_count": 67,
   "id": "84d27ffc",
   "metadata": {},
   "outputs": [
    {
     "data": {
      "text/plain": [
       "array([0.247009  , 0.255025  , 0.31528225, 0.421201  , 0.54982225,\n",
       "       0.71487025])"
      ]
     },
     "execution_count": 67,
     "metadata": {},
     "output_type": "execute_result"
    }
   ],
   "source": [
    "T1_S_sq"
   ]
  },
  {
   "cell_type": "code",
   "execution_count": 68,
   "id": "cd0c737a",
   "metadata": {},
   "outputs": [
    {
     "data": {
      "image/png": "[encoded data removed]",
      "text/plain": [
       "<Figure size 640x480 with 1 Axes>"
      ]
     },
     "metadata": {},
     "output_type": "display_data"
    }
   ],
   "source": [
    "plt.scatter(J_zz, T1_S_sq)\n",
    "plt.plot(J_zz, reg_scheibe(J_zz, a, b))\n",
    "plt.show()"
   ]
  },
  {
   "cell_type": "markdown",
   "id": "6d5f5302",
   "metadata": {},
   "source": [
    "Die Fehlerbalken sind in der Fehlerfortpflanzung entstanden,\n",
    "\n",
    "$R^{2}=0.999$\n",
    "\n",
    "$\\chi^{2}=2.5$"
   ]
  },
  {
   "cell_type": "code",
   "execution_count": 73,
   "id": "1e5fd1af",
   "metadata": {},
   "outputs": [
    {
     "data": {
      "text/plain": [
       "np.float64(0.37801663287844695)"
      ]
     },
     "execution_count": 73,
     "metadata": {},
     "output_type": "execute_result"
    }
   ],
   "source": [
    "chi_sq(T1_S_sq, reg_scheibe(J_zz, a, b), u_t_sq, p=2)"
   ]
  },
  {
   "cell_type": "code",
   "execution_count": null,
   "id": "fc65d076",
   "metadata": {},
   "outputs": [],
   "source": [
    "J_z"
   ]
  },
  {
   "cell_type": "code",
   "execution_count": 75,
   "id": "7b98a113",
   "metadata": {},
   "outputs": [],
   "source": [
    "# sp.stats.chisquare(J_zz, T1_S_sq, ddof=2)"
   ]
  }
 ],
 "metadata": {
  "kernelspec": {
   "display_name": "projects",
   "language": "python",
   "name": "python3"
  },
  "language_info": {
   "codemirror_mode": {
    "name": "ipython",
    "version": 3
   },
   "file_extension": ".py",
   "mimetype": "text/x-python",
   "name": "python",
   "nbconvert_exporter": "python",
   "pygments_lexer": "ipython3",
   "version": "3.12.8"
  }
 },
 "nbformat": 4,
 "nbformat_minor": 5
}
