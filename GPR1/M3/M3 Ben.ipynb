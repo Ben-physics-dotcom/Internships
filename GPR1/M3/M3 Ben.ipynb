{
 "cells": [
  {
   "cell_type": "markdown",
   "id": "6e889148",
   "metadata": {},
   "source": [
    "# Importe"
   ]
  },
  {
   "cell_type": "code",
   "execution_count": 95,
   "id": "dbcfd5fc",
   "metadata": {},
   "outputs": [],
   "source": [
    "import numpy as np\n",
    "import matplotlib.pyplot as plt\n",
    "from uncertainties import ufloat, unumpy as unp\n",
    "\n",
    "\n",
    "import pandas as pd\n",
    "from scipy.optimize import curve_fit\n",
    "import statsmodels.api as sm\n",
    "import scipy as sp\n",
    "import scipy.stats as stats\n",
    "from numpy import linalg as la\n",
    "\n",
    "\n",
    "plt.style.use('classic')\n",
    "plt.rc('text',usetex=True) "
   ]
  },
  {
   "cell_type": "markdown",
   "id": "73b86ac6",
   "metadata": {},
   "source": [
    "# Daten importieren\n",
    "## Aus Textdateien"
   ]
  },
  {
   "cell_type": "code",
   "execution_count": 96,
   "id": "341bff7d",
   "metadata": {},
   "outputs": [],
   "source": [
    "A1=pd.read_csv('A1.txt','\\t')\n",
    "A3=pd.read_csv('A3.txt','\\t')"
   ]
  },
  {
   "cell_type": "markdown",
   "id": "d19262f0",
   "metadata": {},
   "source": [
    "## Daten vom Messplatz"
   ]
  },
  {
   "cell_type": "code",
   "execution_count": 97,
   "id": "3d0a7d4c",
   "metadata": {},
   "outputs": [],
   "source": [
    "# Zusatzscheibe\n",
    "m_Z=130.403/1000                        # kg\n",
    "m_Z_err=ufloat(130.403,0.001)/1000      # kg\n",
    "\n",
    "d_Z=50.0/1000                           # m\n",
    "d_Z_err=ufloat(50.0,0.1)/1000               # m"
   ]
  },
  {
   "cell_type": "code",
   "execution_count": 98,
   "id": "5e9778e5",
   "metadata": {},
   "outputs": [
    {
     "name": "stdout",
     "output_type": "stream",
     "text": [
      "0.00015\n"
     ]
    }
   ],
   "source": [
    "# Messdraht\n",
    "l_M=2215/1000                           # m\n",
    "l_M_err=ufloat(2215,5)/1000             # m\n",
    "\n",
    "D_M=0.3/1000                            # Durchmesser [m]\n",
    "D_M_err=ufloat(0.3,0.01)/1000           # m\n",
    "\n",
    "r_D=D_M/2\n",
    "r_D_err=D_M_err/2\n",
    "print(r_D)"
   ]
  },
  {
   "cell_type": "markdown",
   "id": "88a280d8",
   "metadata": {},
   "source": [
    "# Daten sortieren"
   ]
  },
  {
   "cell_type": "markdown",
   "id": "0453536f",
   "metadata": {},
   "source": [
    "## Messreihe aus Aufgabe 1"
   ]
  },
  {
   "cell_type": "code",
   "execution_count": 99,
   "id": "c7c5a031",
   "metadata": {},
   "outputs": [
    {
     "data": {
      "text/html": [
       "<div>\n",
       "<style scoped>\n",
       "    .dataframe tbody tr th:only-of-type {\n",
       "        vertical-align: middle;\n",
       "    }\n",
       "\n",
       "    .dataframe tbody tr th {\n",
       "        vertical-align: top;\n",
       "    }\n",
       "\n",
       "    .dataframe thead th {\n",
       "        text-align: right;\n",
       "    }\n",
       "</style>\n",
       "<table border=\"1\" class=\"dataframe\">\n",
       "  <thead>\n",
       "    <tr style=\"text-align: right;\">\n",
       "      <th></th>\n",
       "      <th>m_zn</th>\n",
       "      <th>l0</th>\n",
       "      <th>l1</th>\n",
       "      <th>m_an</th>\n",
       "      <th>l2</th>\n",
       "      <th>l3</th>\n",
       "    </tr>\n",
       "  </thead>\n",
       "  <tbody>\n",
       "    <tr>\n",
       "      <th>0</th>\n",
       "      <td>50</td>\n",
       "      <td>2.640</td>\n",
       "      <td>2.800</td>\n",
       "      <td>100.0</td>\n",
       "      <td>2.710</td>\n",
       "      <td>3.090</td>\n",
       "    </tr>\n",
       "    <tr>\n",
       "      <th>1</th>\n",
       "      <td>100</td>\n",
       "      <td>2.800</td>\n",
       "      <td>3.015</td>\n",
       "      <td>200.0</td>\n",
       "      <td>3.090</td>\n",
       "      <td>3.440</td>\n",
       "    </tr>\n",
       "    <tr>\n",
       "      <th>2</th>\n",
       "      <td>150</td>\n",
       "      <td>3.015</td>\n",
       "      <td>3.210</td>\n",
       "      <td>300.0</td>\n",
       "      <td>3.440</td>\n",
       "      <td>3.765</td>\n",
       "    </tr>\n",
       "    <tr>\n",
       "      <th>3</th>\n",
       "      <td>200</td>\n",
       "      <td>3.210</td>\n",
       "      <td>3.375</td>\n",
       "      <td>400.0</td>\n",
       "      <td>3.765</td>\n",
       "      <td>4.100</td>\n",
       "    </tr>\n",
       "    <tr>\n",
       "      <th>4</th>\n",
       "      <td>250</td>\n",
       "      <td>3.375</td>\n",
       "      <td>3.540</td>\n",
       "      <td>500.0</td>\n",
       "      <td>4.100</td>\n",
       "      <td>4.325</td>\n",
       "    </tr>\n",
       "    <tr>\n",
       "      <th>5</th>\n",
       "      <td>300</td>\n",
       "      <td>3.540</td>\n",
       "      <td>3.684</td>\n",
       "      <td>600.0</td>\n",
       "      <td>4.325</td>\n",
       "      <td>4.659</td>\n",
       "    </tr>\n",
       "    <tr>\n",
       "      <th>6</th>\n",
       "      <td>350</td>\n",
       "      <td>3.684</td>\n",
       "      <td>3.845</td>\n",
       "      <td>650.0</td>\n",
       "      <td>4.659</td>\n",
       "      <td>4.810</td>\n",
       "    </tr>\n",
       "    <tr>\n",
       "      <th>7</th>\n",
       "      <td>400</td>\n",
       "      <td>3.845</td>\n",
       "      <td>3.995</td>\n",
       "      <td>700.0</td>\n",
       "      <td>4.810</td>\n",
       "      <td>4.959</td>\n",
       "    </tr>\n",
       "    <tr>\n",
       "      <th>8</th>\n",
       "      <td>450</td>\n",
       "      <td>3.995</td>\n",
       "      <td>4.150</td>\n",
       "      <td>750.0</td>\n",
       "      <td>4.959</td>\n",
       "      <td>5.112</td>\n",
       "    </tr>\n",
       "    <tr>\n",
       "      <th>9</th>\n",
       "      <td>500</td>\n",
       "      <td>4.150</td>\n",
       "      <td>4.305</td>\n",
       "      <td>800.0</td>\n",
       "      <td>5.112</td>\n",
       "      <td>5.293</td>\n",
       "    </tr>\n",
       "    <tr>\n",
       "      <th>10</th>\n",
       "      <td>550</td>\n",
       "      <td>4.305</td>\n",
       "      <td>4.480</td>\n",
       "      <td>NaN</td>\n",
       "      <td>NaN</td>\n",
       "      <td>NaN</td>\n",
       "    </tr>\n",
       "    <tr>\n",
       "      <th>11</th>\n",
       "      <td>600</td>\n",
       "      <td>4.480</td>\n",
       "      <td>4.652</td>\n",
       "      <td>NaN</td>\n",
       "      <td>NaN</td>\n",
       "      <td>NaN</td>\n",
       "    </tr>\n",
       "    <tr>\n",
       "      <th>12</th>\n",
       "      <td>650</td>\n",
       "      <td>4.652</td>\n",
       "      <td>4.790</td>\n",
       "      <td>NaN</td>\n",
       "      <td>NaN</td>\n",
       "      <td>NaN</td>\n",
       "    </tr>\n",
       "    <tr>\n",
       "      <th>13</th>\n",
       "      <td>700</td>\n",
       "      <td>4.790</td>\n",
       "      <td>4.969</td>\n",
       "      <td>NaN</td>\n",
       "      <td>NaN</td>\n",
       "      <td>NaN</td>\n",
       "    </tr>\n",
       "    <tr>\n",
       "      <th>14</th>\n",
       "      <td>750</td>\n",
       "      <td>4.969</td>\n",
       "      <td>5.120</td>\n",
       "      <td>NaN</td>\n",
       "      <td>NaN</td>\n",
       "      <td>NaN</td>\n",
       "    </tr>\n",
       "    <tr>\n",
       "      <th>15</th>\n",
       "      <td>800</td>\n",
       "      <td>5.120</td>\n",
       "      <td>5.293</td>\n",
       "      <td>NaN</td>\n",
       "      <td>NaN</td>\n",
       "      <td>NaN</td>\n",
       "    </tr>\n",
       "  </tbody>\n",
       "</table>\n",
       "</div>"
      ],
      "text/plain": [
       "    m_zn     l0     l1   m_an     l2     l3\n",
       "0     50  2.640  2.800  100.0  2.710  3.090\n",
       "1    100  2.800  3.015  200.0  3.090  3.440\n",
       "2    150  3.015  3.210  300.0  3.440  3.765\n",
       "3    200  3.210  3.375  400.0  3.765  4.100\n",
       "4    250  3.375  3.540  500.0  4.100  4.325\n",
       "5    300  3.540  3.684  600.0  4.325  4.659\n",
       "6    350  3.684  3.845  650.0  4.659  4.810\n",
       "7    400  3.845  3.995  700.0  4.810  4.959\n",
       "8    450  3.995  4.150  750.0  4.959  5.112\n",
       "9    500  4.150  4.305  800.0  5.112  5.293\n",
       "10   550  4.305  4.480    NaN    NaN    NaN\n",
       "11   600  4.480  4.652    NaN    NaN    NaN\n",
       "12   650  4.652  4.790    NaN    NaN    NaN\n",
       "13   700  4.790  4.969    NaN    NaN    NaN\n",
       "14   750  4.969  5.120    NaN    NaN    NaN\n",
       "15   800  5.120  5.293    NaN    NaN    NaN"
      ]
     },
     "execution_count": 99,
     "metadata": {},
     "output_type": "execute_result"
    }
   ],
   "source": [
    "A1"
   ]
  },
  {
   "cell_type": "code",
   "execution_count": 100,
   "id": "99900325",
   "metadata": {},
   "outputs": [
    {
     "name": "stdout",
     "output_type": "stream",
     "text": [
      "0.00264\n"
     ]
    }
   ],
   "source": [
    "# Massen\n",
    "M1=A1['m_zn'].values/1000\n",
    "M2=A1['m_an'].values[:10]/1000\n",
    "\n",
    "# Längen\n",
    "l0=A1['l0'][0]/1000\n",
    "l1=A1['l1'].values/1000\n",
    "\n",
    "l2=A1['l2'][0]/1000\n",
    "l3=A1['l3'].values[:10]/1000\n",
    "print(l0)"
   ]
  },
  {
   "cell_type": "code",
   "execution_count": 101,
   "id": "88fcde5c",
   "metadata": {},
   "outputs": [],
   "source": [
    "u_M1=0.001*np.array([np.sqrt(1),\n",
    "               np.sqrt(1),\n",
    "               np.sqrt(2),\n",
    "               np.sqrt(2),\n",
    "               np.sqrt(3),\n",
    "               np.sqrt(3),\n",
    "               np.sqrt(4),\n",
    "               np.sqrt(4),\n",
    "               np.sqrt(5),\n",
    "               np.sqrt(5),\n",
    "               np.sqrt(6),\n",
    "               np.sqrt(6),\n",
    "               np.sqrt(7),\n",
    "               np.sqrt(7),\n",
    "               np.sqrt(8),\n",
    "               np.sqrt(8)])/1000\n",
    "u_M2=0.001*np.array([np.sqrt(1),\n",
    "               np.sqrt(2),\n",
    "               np.sqrt(3),\n",
    "               np.sqrt(4),\n",
    "               np.sqrt(5),\n",
    "               np.sqrt(6),\n",
    "               np.sqrt(7),\n",
    "               np.sqrt(7),\n",
    "               np.sqrt(8),\n",
    "               np.sqrt(8)])/1000"
   ]
  },
  {
   "cell_type": "code",
   "execution_count": 102,
   "id": "47512a29",
   "metadata": {},
   "outputs": [
    {
     "name": "stdout",
     "output_type": "stream",
     "text": [
      "0.00264\n",
      "2.5e-05\n",
      "2.5e-05\n"
     ]
    }
   ],
   "source": [
    " print(l0) \n",
    "# print(l1) \n",
    "\n",
    "# print(l2) \n",
    "# print(l3) \n",
    "\n",
    "u_l0=5e-6+2e-5#*l0\n",
    "u_l1=5e-6+2e-5##*l1 \n",
    "u_l2=5e-6+2e-5#*l2 \n",
    "u_l3=5e-6+2e-5#*l3 \n",
    "print(u_l0)\n",
    "print(u_l1)\n",
    "l0_err=unp.uarray(l0,u_l0)\n",
    "l1_err=unp.uarray(l1,u_l1)\n",
    "l2_err=unp.uarray(l2,u_l2)\n",
    "l3_err=unp.uarray(l3,u_l3)"
   ]
  },
  {
   "cell_type": "code",
   "execution_count": 103,
   "id": "edfff529",
   "metadata": {},
   "outputs": [
    {
     "name": "stdout",
     "output_type": "stream",
     "text": [
      "Fehler erster Plot: \n",
      "3.570714214271425e-05\n",
      "\n",
      "\n",
      "Ablese Fehler: \n",
      "5e-06\n",
      "\n",
      "\n",
      "Fehler zweiter Plot: \n",
      "3.570714214271425e-05\n",
      "\n",
      "\n",
      "[0.00015999999999999999+/-3.535533905932738e-05\n",
      " 0.00037500000000000033+/-3.535533905932738e-05\n",
      " 0.0005700000000000002+/-3.535533905932738e-05\n",
      " 0.000735+/-3.535533905932738e-05\n",
      " 0.0009000000000000002+/-3.535533905932738e-05\n",
      " 0.0010440000000000002+/-3.535533905932738e-05\n",
      " 0.0012050000000000003+/-3.535533905932738e-05\n",
      " 0.0013550000000000003+/-3.535533905932738e-05\n",
      " 0.00151+/-3.535533905932738e-05\n",
      " 0.0016649999999999998+/-3.535533905932738e-05\n",
      " 0.0018400000000000005+/-3.535533905932738e-05\n",
      " 0.002012+/-3.535533905932738e-05 0.00215+/-3.535533905932738e-05\n",
      " 0.0023290000000000003+/-3.535533905932738e-05\n",
      " 0.0024800000000000004+/-3.535533905932738e-05\n",
      " 0.002653+/-3.535533905932738e-05]\n"
     ]
    }
   ],
   "source": [
    "# Delta l\n",
    "u_dl_1=np.sqrt(u_l1**2+u_l0**2+0.005**2/1000**2)\n",
    "u_dl_2=np.sqrt(u_l3**2+u_l2**2+0.005**2/1000**2)\n",
    "print(f'Fehler erster Plot: \\n{u_dl_1}\\n\\n')\n",
    "print(f'Ablese Fehler: \\n{0.005/1000}\\n\\n')\n",
    "print(f'Fehler zweiter Plot: \\n{u_dl_2}\\n\\n')\n",
    "\n",
    "\n",
    "delta_l_1=l1-l0\n",
    "delta_l_2=l3-l2\n",
    "\n",
    "# print(delta_l_1)\n",
    "# print(delta_l_2)\n",
    "\n",
    "\n",
    "\n",
    "delta_l_1_err=l1_err-l0_err\n",
    "delta_l_2_err=l3_err-l2_err\n",
    "\n",
    "print(delta_l_1_err)"
   ]
  },
  {
   "cell_type": "markdown",
   "id": "d0f0aae5",
   "metadata": {},
   "source": [
    "## Messreihe aus Aufgabe 3"
   ]
  },
  {
   "cell_type": "code",
   "execution_count": 104,
   "id": "d4ca218b",
   "metadata": {},
   "outputs": [
    {
     "data": {
      "text/html": [
       "<div>\n",
       "<style scoped>\n",
       "    .dataframe tbody tr th:only-of-type {\n",
       "        vertical-align: middle;\n",
       "    }\n",
       "\n",
       "    .dataframe tbody tr th {\n",
       "        vertical-align: top;\n",
       "    }\n",
       "\n",
       "    .dataframe thead th {\n",
       "        text-align: right;\n",
       "    }\n",
       "</style>\n",
       "<table border=\"1\" class=\"dataframe\">\n",
       "  <thead>\n",
       "    <tr style=\"text-align: right;\">\n",
       "      <th></th>\n",
       "      <th>m1</th>\n",
       "      <th>T0</th>\n",
       "      <th>u_m1</th>\n",
       "      <th>m2</th>\n",
       "      <th>Tz</th>\n",
       "      <th>u_m2</th>\n",
       "      <th>u_t_r</th>\n",
       "      <th>Periode</th>\n",
       "    </tr>\n",
       "  </thead>\n",
       "  <tbody>\n",
       "    <tr>\n",
       "      <th>0</th>\n",
       "      <td>50</td>\n",
       "      <td>40.53</td>\n",
       "      <td>0.001</td>\n",
       "      <td>180.403</td>\n",
       "      <td>76.16</td>\n",
       "      <td>0.0014</td>\n",
       "      <td>0.6</td>\n",
       "      <td>6</td>\n",
       "    </tr>\n",
       "    <tr>\n",
       "      <th>1</th>\n",
       "      <td>50</td>\n",
       "      <td>37.37</td>\n",
       "      <td>0.001</td>\n",
       "      <td>180.403</td>\n",
       "      <td>75.66</td>\n",
       "      <td>0.0014</td>\n",
       "      <td>0.6</td>\n",
       "      <td>6</td>\n",
       "    </tr>\n",
       "    <tr>\n",
       "      <th>2</th>\n",
       "      <td>50</td>\n",
       "      <td>37.06</td>\n",
       "      <td>0.001</td>\n",
       "      <td>180.403</td>\n",
       "      <td>76.00</td>\n",
       "      <td>0.0014</td>\n",
       "      <td>0.6</td>\n",
       "      <td>6</td>\n",
       "    </tr>\n",
       "    <tr>\n",
       "      <th>3</th>\n",
       "      <td>50</td>\n",
       "      <td>37.35</td>\n",
       "      <td>0.001</td>\n",
       "      <td>180.403</td>\n",
       "      <td>76.06</td>\n",
       "      <td>0.0014</td>\n",
       "      <td>0.6</td>\n",
       "      <td>6</td>\n",
       "    </tr>\n",
       "    <tr>\n",
       "      <th>4</th>\n",
       "      <td>50</td>\n",
       "      <td>37.13</td>\n",
       "      <td>0.001</td>\n",
       "      <td>180.403</td>\n",
       "      <td>75.82</td>\n",
       "      <td>0.0014</td>\n",
       "      <td>0.6</td>\n",
       "      <td>6</td>\n",
       "    </tr>\n",
       "    <tr>\n",
       "      <th>5</th>\n",
       "      <td>50</td>\n",
       "      <td>37.16</td>\n",
       "      <td>0.001</td>\n",
       "      <td>180.403</td>\n",
       "      <td>75.63</td>\n",
       "      <td>0.0014</td>\n",
       "      <td>0.6</td>\n",
       "      <td>6</td>\n",
       "    </tr>\n",
       "  </tbody>\n",
       "</table>\n",
       "</div>"
      ],
      "text/plain": [
       "   m1     T0   u_m1       m2     Tz    u_m2  u_t_r  Periode\n",
       "0  50  40.53  0.001  180.403  76.16  0.0014    0.6        6\n",
       "1  50  37.37  0.001  180.403  75.66  0.0014    0.6        6\n",
       "2  50  37.06  0.001  180.403  76.00  0.0014    0.6        6\n",
       "3  50  37.35  0.001  180.403  76.06  0.0014    0.6        6\n",
       "4  50  37.13  0.001  180.403  75.82  0.0014    0.6        6\n",
       "5  50  37.16  0.001  180.403  75.63  0.0014    0.6        6"
      ]
     },
     "execution_count": 104,
     "metadata": {},
     "output_type": "execute_result"
    }
   ],
   "source": [
    "A3"
   ]
  },
  {
   "cell_type": "code",
   "execution_count": 105,
   "id": "b90ada17",
   "metadata": {},
   "outputs": [],
   "source": [
    "# Anzahl der Perioden\n",
    "Periode=A3['Periode'].values\n",
    "\n",
    "# Massen\n",
    "m1=A3['m1'].values\n",
    "u_m1=A3['u_m1'].values\n",
    "\n",
    "m2=A3['m2'].values\n",
    "u_m2=A3['u_m2'].values\n",
    "\n",
    "# Zeit\n",
    "RZ=A3['u_t_r'].values/Periode           # Reaktionszeit\n",
    "\n",
    "T0=A3['T0'].values/Periode\n",
    "\n",
    "TZ=A3['Tz'].values/Periode              # Grober Messfehler: Masse aus 50g + zusatzscheibe"
   ]
  },
  {
   "cell_type": "code",
   "execution_count": 106,
   "id": "86b5f580",
   "metadata": {
    "scrolled": true
   },
   "outputs": [
    {
     "name": "stdout",
     "output_type": "stream",
     "text": [
      "[0.10089082 0.10085624 0.10085289 0.10085602 0.10085364 0.10085397]\n",
      "[0.10132726 0.10132055 0.10132511 0.10132592 0.10132269 0.10132014]\n"
     ]
    }
   ],
   "source": [
    "# Unsicherheit der gemessenen Zeit\n",
    "u_t0=np.sqrt(RZ**2+(0.01+5e-4*T0)**2)\n",
    "u_tz=np.sqrt(RZ**2+(0.01+5e-4*TZ)**2)\n",
    "print(u_t0)\n",
    "print(u_tz)"
   ]
  },
  {
   "cell_type": "code",
   "execution_count": 107,
   "id": "0c63300f",
   "metadata": {},
   "outputs": [
    {
     "name": "stdout",
     "output_type": "stream",
     "text": [
      "6.29+/-0.04\n",
      "12.65+/-0.04\n"
     ]
    }
   ],
   "source": [
    "T0_err=unp.uarray(T0,u_t0).mean()\n",
    "TZ_err=unp.uarray(TZ,u_tz).mean()\n",
    "print(T0_err)\n",
    "print(TZ_err)"
   ]
  },
  {
   "cell_type": "code",
   "execution_count": 108,
   "id": "b1e5dbd3",
   "metadata": {},
   "outputs": [
    {
     "name": "stdout",
     "output_type": "stream",
     "text": [
      "6.294444444444444\n"
     ]
    }
   ],
   "source": [
    "T0=T0.mean()\n",
    "TZ=TZ.mean()\n",
    "print(T0)"
   ]
  },
  {
   "cell_type": "markdown",
   "id": "ed068677",
   "metadata": {},
   "source": [
    "# Regression"
   ]
  },
  {
   "cell_type": "code",
   "execution_count": 109,
   "id": "de0a63a5",
   "metadata": {},
   "outputs": [],
   "source": [
    "def f(x,a,b):\n",
    "    f=a*x+b\n",
    "    return f\n",
    "\n",
    "def f1(x,a):\n",
    "    f=a*x\n",
    "    return f"
   ]
  },
  {
   "cell_type": "markdown",
   "id": "2037ad39",
   "metadata": {},
   "source": [
    "## erste Messreihe A1"
   ]
  },
  {
   "cell_type": "code",
   "execution_count": 110,
   "id": "1ccbe8e6",
   "metadata": {},
   "outputs": [
    {
     "name": "stdout",
     "output_type": "stream",
     "text": [
      "3.570714214271425e-05\n",
      "16\n",
      "16\n",
      "Steigung: a=0.003348+/-0.000019\n"
     ]
    }
   ],
   "source": [
    "print((u_dl_1))\n",
    "print(len(delta_l_1))\n",
    "print(len(M1))\n",
    "pop,cov=curve_fit(f1,M1,delta_l_1)# ,sigma=u_dl_1\n",
    "a_1=pop\n",
    "da_1=np.sqrt(np.diag(cov))\n",
    "print(f'Steigung: a={ufloat(a_1,da_1)}')\n",
    "#print(f'Achsenabschnitt: b={ufloat(b_1,db_1)}')"
   ]
  },
  {
   "cell_type": "code",
   "execution_count": 111,
   "id": "66d9f005",
   "metadata": {},
   "outputs": [
    {
     "name": "stdout",
     "output_type": "stream",
     "text": [
      "Steigung: a=0.003348+/-0.000019\n"
     ]
    }
   ],
   "source": [
    "# test \n",
    "pop,cov=curve_fit(f1,M1,delta_l_1) #,sigma=u_dl_1\n",
    "a=pop\n",
    "da=np.sqrt(np.diag(cov))\n",
    "print(f'Steigung: a={ufloat(a,da)}')"
   ]
  },
  {
   "cell_type": "code",
   "execution_count": 112,
   "id": "0f590d88",
   "metadata": {},
   "outputs": [
    {
     "data": {
      "text/plain": [
       "array([0.00016739772727280118+/-9.451207754387679e-07,\n",
       "       0.00033479545454560237+/-1.8902326561206683e-06,\n",
       "       0.0005021931818184035+/-2.835348490026637e-06,\n",
       "       0.0006695909090912047+/-3.780462347314242e-06,\n",
       "       0.0008369886363640059+/-4.725577785896387e-06,\n",
       "       0.001004386363636807+/-5.67069203850704e-06,\n",
       "       0.0011717840909096081+/-6.615807307664665e-06,\n",
       "       0.0013391818181824095+/-7.560921729699645e-06,\n",
       "       0.0015065795454552106+/-8.506036904732526e-06,\n",
       "       0.0016739772727280117+/-9.451151420892172e-06,\n",
       "       0.001841375000000813+/-1.0396266536027485e-05,\n",
       "       0.002008772727273614+/-1.134138111208466e-05,\n",
       "       0.002176170454546415+/-1.2286496185752424e-05,\n",
       "       0.0023435681818192162+/-1.3231610803277127e-05,\n",
       "       0.0025109659090920174+/-1.417672584653535e-05,\n",
       "       0.002678363636364819+/-1.512184049446958e-05], dtype=object)"
      ]
     },
     "execution_count": 112,
     "metadata": {},
     "output_type": "execute_result"
    }
   ],
   "source": [
    "f1(unp.uarray(M1,u_M1),ufloat(a_1,da_1))"
   ]
  },
  {
   "cell_type": "code",
   "execution_count": 113,
   "id": "398a64d1",
   "metadata": {},
   "outputs": [
    {
     "name": "stdout",
     "output_type": "stream",
     "text": [
      "15.721060606060668\n"
     ]
    },
    {
     "data": {
      "text/plain": [
       "1.12293"
      ]
     },
     "execution_count": 113,
     "metadata": {},
     "output_type": "execute_result"
    }
   ],
   "source": [
    "# chi\n",
    "zähler=((delta_l_1-f1(M1,a_1))*1000)**2\n",
    "nenner=(u_dl_1*1000)**2\n",
    "chi_test=zähler/nenner.sum()\n",
    "print(chi_test.sum())\n",
    "\n",
    "chi_sq_1=((delta_l_1-f1(M1,a_1))**2/(u_dl_1)**2).sum()\n",
    "#print(chi_sq_1/(len(delta_l_1)-2))\n",
    "chi_sq_1=round(chi_sq_1/(len(delta_l_1)-2),5)\n",
    "chi_sq_1"
   ]
  },
  {
   "cell_type": "markdown",
   "id": "6b0a4736",
   "metadata": {},
   "source": [
    "## zweite Messreihe"
   ]
  },
  {
   "cell_type": "code",
   "execution_count": 114,
   "id": "3d4ff70b",
   "metadata": {
    "scrolled": false
   },
   "outputs": [
    {
     "name": "stdout",
     "output_type": "stream",
     "text": [
      "Steigung: a=0.003253+/-0.000031\n"
     ]
    }
   ],
   "source": [
    "pop,cov=curve_fit(f1,M2,delta_l_2)# ,sigma=u_dl_2\n",
    "a_2=pop\n",
    "da_2=np.sqrt(np.diag(cov))\n",
    "print(f'Steigung: a={ufloat(a_2,da_2)}')\n",
    "#print(f'Achsenabschnitt: b={ufloat(b_1,db_2)}')"
   ]
  },
  {
   "cell_type": "code",
   "execution_count": 115,
   "id": "77c8ba63",
   "metadata": {},
   "outputs": [
    {
     "name": "stdout",
     "output_type": "stream",
     "text": [
      "[1.00000000e-06 1.41421356e-06 1.73205081e-06 2.00000000e-06\n",
      " 2.23606798e-06 2.44948974e-06 2.64575131e-06 2.64575131e-06\n",
      " 2.82842712e-06 2.82842712e-06]\n"
     ]
    },
    {
     "data": {
      "text/plain": [
       "array([0.0003253090909050727+/-3.1127351112224163e-06,\n",
       "       0.0006506181818101454+/-6.225468522556867e-06,\n",
       "       0.0009759272727152179+/-9.338201933891162e-06,\n",
       "       0.0013012363636202909+/-1.2450935345225422e-05,\n",
       "       0.0016265454545253634+/-1.5563668756559665e-05,\n",
       "       0.0019518545454304359+/-1.86764021678939e-05,\n",
       "       0.0021145090908829727+/-2.0232769004321673e-05,\n",
       "       0.0022771636363355086+/-2.178913557922813e-05,\n",
       "       0.002439818181788045+/-2.3345502398221147e-05,\n",
       "       0.0026024727272405818+/-2.4901868990562357e-05], dtype=object)"
      ]
     },
     "execution_count": 115,
     "metadata": {},
     "output_type": "execute_result"
    }
   ],
   "source": [
    "print(u_M2)\n",
    "f1(unp.uarray(M2,u_M2),ufloat(a_2,da_2))"
   ]
  },
  {
   "cell_type": "code",
   "execution_count": 116,
   "id": "ce4370ea",
   "metadata": {},
   "outputs": [
    {
     "name": "stdout",
     "output_type": "stream",
     "text": [
      "[3.58329457e-05 3.62077340e-05 3.68239053e-05 3.76696164e-05\n",
      " 3.91279951e-05 4.04474968e-05 4.19404340e-05 4.19404340e-05\n",
      " 4.24735212e-05 4.35889894e-05]\n"
     ]
    }
   ],
   "source": [
    "u_f1=np.array([0.3,0.6,0.9,1.2,1.6,1.9,2.2,2.2,2.3,2.5])*1e-5\n",
    "u_ch_sq=np.sqrt(u_dl_2**2+u_f1**2)#/1000\n",
    "print(u_ch_sq)"
   ]
  },
  {
   "cell_type": "code",
   "execution_count": 117,
   "id": "54023e44",
   "metadata": {
    "scrolled": true
   },
   "outputs": [
    {
     "name": "stdout",
     "output_type": "stream",
     "text": [
      "2.3693294687748425\n",
      "2.36933\n"
     ]
    }
   ],
   "source": [
    "#chi \n",
    "chi_sq_2=((delta_l_2-f1((M2),a_2))**2/(u_ch_sq)**2).sum()\n",
    "print(chi_sq_2/(len(delta_l_2)-2))\n",
    "chi_sq_2=round(chi_sq_2/(len(delta_l_2)-2),5)\n",
    "print(chi_sq_2)"
   ]
  },
  {
   "cell_type": "code",
   "execution_count": 118,
   "id": "e39460da",
   "metadata": {},
   "outputs": [
    {
     "name": "stdout",
     "output_type": "stream",
     "text": [
      "Steigung: a=0.003253+/-0.000031\n"
     ]
    }
   ],
   "source": [
    "pop,cov=curve_fit(f1,M2,delta_l_2)# ,sigma=u_dl_2\n",
    "a2=pop\n",
    "da2=np.sqrt(np.diag(cov))\n",
    "print(f'Steigung: a={ufloat(a2,da2)}')"
   ]
  },
  {
   "cell_type": "code",
   "execution_count": 119,
   "id": "3121ba3a",
   "metadata": {},
   "outputs": [
    {
     "name": "stdout",
     "output_type": "stream",
     "text": [
      "[0.1  0.2  0.3  0.4  0.5  0.6  0.65 0.7  0.75 0.8 ]\n",
      "[0.00038  0.00073  0.001055 0.00139  0.001615 0.001949 0.0021   0.002249\n",
      " 0.002402 0.002583]\n"
     ]
    }
   ],
   "source": [
    "print(M2)\n",
    "print(delta_l_2)"
   ]
  },
  {
   "cell_type": "markdown",
   "id": "d8c8a7d5",
   "metadata": {},
   "source": [
    "# Mit Statsmodels"
   ]
  },
  {
   "cell_type": "markdown",
   "id": "45a69a10",
   "metadata": {},
   "source": [
    "## erster PLot"
   ]
  },
  {
   "cell_type": "code",
   "execution_count": 120,
   "id": "49c26875",
   "metadata": {},
   "outputs": [
    {
     "name": "stdout",
     "output_type": "stream",
     "text": [
      "                            WLS Regression Results                            \n",
      "==============================================================================\n",
      "Dep. Variable:                      y   R-squared:                       0.999\n",
      "Model:                            WLS   Adj. R-squared:                  0.999\n",
      "Method:                 Least Squares   F-statistic:                 1.757e+04\n",
      "Date:                Wed, 30 Jun 2021   Prob (F-statistic):           4.24e-23\n",
      "Time:                        10:19:48   Log-Likelihood:                 149.58\n",
      "No. Observations:                  16   AIC:                            -295.2\n",
      "Df Residuals:                      14   BIC:                            -293.6\n",
      "Df Model:                           1                                         \n",
      "Covariance Type:            nonrobust                                         \n",
      "==============================================================================\n",
      "                 coef    std err          t      P>|t|      [0.025      0.975]\n",
      "------------------------------------------------------------------------------\n",
      "const       5.965e-05   1.18e-05      5.049      0.000    3.43e-05     8.5e-05\n",
      "x1             0.0032   2.44e-05    132.571      0.000       0.003       0.003\n",
      "==============================================================================\n",
      "Omnibus:                       10.094   Durbin-Watson:                   0.825\n",
      "Prob(Omnibus):                  0.006   Jarque-Bera (JB):                6.822\n",
      "Skew:                          -1.167   Prob(JB):                       0.0330\n",
      "Kurtosis:                       5.187   Cond. No.                         5.16\n",
      "==============================================================================\n",
      "\n",
      "Warnings:\n",
      "[1] Standard Errors assume that the covariance matrix of the errors is correctly specified.\n"
     ]
    },
    {
     "name": "stderr",
     "output_type": "stream",
     "text": [
      "C:\\Users\\Ben Fliegener\\Miniconda3\\lib\\site-packages\\scipy\\stats\\stats.py:1535: UserWarning: kurtosistest only valid for n>=20 ... continuing anyway, n=16\n",
      "  \"anyway, n=%i\" % int(n))\n"
     ]
    }
   ],
   "source": [
    "x_zunahme=sm.add_constant(M1)\n",
    "results=sm.WLS(delta_l_1,x_zunahme,weights=u_dl_1).fit()\n",
    "print(results.summary())"
   ]
  },
  {
   "cell_type": "markdown",
   "id": "ca855d04",
   "metadata": {},
   "source": [
    "## Zweiter PLot"
   ]
  },
  {
   "cell_type": "code",
   "execution_count": 121,
   "id": "35709930",
   "metadata": {},
   "outputs": [
    {
     "name": "stdout",
     "output_type": "stream",
     "text": [
      "                            OLS Regression Results                            \n",
      "==============================================================================\n",
      "Dep. Variable:                      y   R-squared:                       0.999\n",
      "Model:                            OLS   Adj. R-squared:                  0.999\n",
      "Method:                 Least Squares   F-statistic:                     6495.\n",
      "Date:                Wed, 30 Jun 2021   Prob (F-statistic):           6.26e-13\n",
      "Time:                        10:19:48   Log-Likelihood:                 91.889\n",
      "No. Observations:                  10   AIC:                            -179.8\n",
      "Df Residuals:                       8   BIC:                            -179.2\n",
      "Df Model:                           1                                         \n",
      "Covariance Type:            nonrobust                                         \n",
      "==============================================================================\n",
      "                 coef    std err          t      P>|t|      [0.025      0.975]\n",
      "------------------------------------------------------------------------------\n",
      "const          0.0001    2.1e-05      5.150      0.001    5.97e-05       0.000\n",
      "x1             0.0031   3.81e-05     80.594      0.000       0.003       0.003\n",
      "==============================================================================\n",
      "Omnibus:                        1.330   Durbin-Watson:                   1.825\n",
      "Prob(Omnibus):                  0.514   Jarque-Bera (JB):                0.548\n",
      "Skew:                           0.560   Prob(JB):                        0.760\n",
      "Kurtosis:                       2.754   Cond. No.                         5.50\n",
      "==============================================================================\n",
      "\n",
      "Warnings:\n",
      "[1] Standard Errors assume that the covariance matrix of the errors is correctly specified.\n"
     ]
    },
    {
     "name": "stderr",
     "output_type": "stream",
     "text": [
      "C:\\Users\\Ben Fliegener\\Miniconda3\\lib\\site-packages\\scipy\\stats\\stats.py:1535: UserWarning: kurtosistest only valid for n>=20 ... continuing anyway, n=10\n",
      "  \"anyway, n=%i\" % int(n))\n"
     ]
    }
   ],
   "source": [
    "x_zunahme=sm.add_constant(M2)\n",
    "results=sm.OLS(delta_l_2,x_zunahme).fit()\n",
    "print(results.summary())"
   ]
  },
  {
   "cell_type": "markdown",
   "id": "27800069",
   "metadata": {},
   "source": [
    "# Plots\n",
    "Die Fitparameter und das $\\chi^2/dof$ kann ich als extra plot mit weißen PUnkt machen"
   ]
  },
  {
   "cell_type": "markdown",
   "id": "fe0abdde",
   "metadata": {},
   "source": [
    "## erste Messreihe A1"
   ]
  },
  {
   "cell_type": "code",
   "execution_count": 122,
   "id": "9f3c743c",
   "metadata": {},
   "outputs": [],
   "source": [
    "mm=np.linspace(0.0,0.85,100) # Masse für Regression\n",
    "#h1=a_1*mm                    # Regressionsgerade für M1"
   ]
  },
  {
   "cell_type": "code",
   "execution_count": 123,
   "id": "52f88b81",
   "metadata": {},
   "outputs": [
    {
     "data": {
      "image/png": "[encoded data removed]",
      "text/plain": [
       "<Figure size 640x480 with 1 Axes>"
      ]
     },
     "metadata": {},
     "output_type": "display_data"
    }
   ],
   "source": [
    "fig=plt.figure()\n",
    "plt.errorbar(M1,delta_l_1,fmt='k.',yerr=u_dl_1,xerr=u_M1,capsize=4,label='Messpunkte')\n",
    "#plt.plot(mm,f1(mm,a_1),label=r'Fit: $a \\cdot m+b$')\n",
    "plt.plot(mm,f1(mm,a),label=r'Fit: $a \\cdot m$')\n",
    "plt.plot([],[],'w',label=fr'$a={ufloat(a_1,da_1)}$')\n",
    "#plt.plot([],[],'w',label=fr'$b={ufloat(b_1,db_1)}$')\n",
    "plt.plot([],[],'w',label=fr'$\\chi^{2}/dof={chi_sq_1}$')           #mm\n",
    "plt.xticks(np.arange(0.00,0.91,step=0.45))\n",
    "plt.yticks(np.arange(0.0,0.0031,step=0.0015))\n",
    "plt.xlabel('Masse [kg]')\n",
    "plt.ylabel(r'$\\Delta l$ [m]')\n",
    "plt.legend(loc=2)\n",
    "plt.show()\n",
    "fig.savefig('M3_Ben_MR1.pdf',dpi=600)"
   ]
  },
  {
   "cell_type": "code",
   "execution_count": 124,
   "id": "08947530",
   "metadata": {},
   "outputs": [
    {
     "data": {
      "image/png": "[encoded data removed]",
      "text/plain": [
       "<Figure size 640x480 with 1 Axes>"
      ]
     },
     "metadata": {},
     "output_type": "display_data"
    }
   ],
   "source": [
    "fig=plt.figure()\n",
    "plt.errorbar(M2,delta_l_2,yerr=u_dl_2,xerr=u_M2,fmt='k.',label='Messpunkte')\n",
    "plt.plot(mm,f1(mm,a2),label=r'Fit: $a \\cdot m$')\n",
    "plt.plot([],[],'w',label=fr'$a={ufloat(a_2,da_2)}$')\n",
    "#plt.plot([],[],'w',label=fr'$b={ufloat(b_2,db_2)}$')\n",
    "plt.plot([],[],'w',label=fr'$\\chi^{2}/dof={chi_sq_2}$')           #mm\n",
    "plt.xticks(np.arange(0.00,0.91,step=0.45))\n",
    "plt.yticks(np.arange(0.0,0.0031,step=0.0015))\n",
    "plt.xlabel('Masse [kg]')\n",
    "plt.ylabel(r'$\\Delta l$ [m]')\n",
    "plt.legend(loc=2)\n",
    "plt.show()\n",
    "fig.savefig('M3_Ben_MR2.pdf',dpi=600)"
   ]
  },
  {
   "cell_type": "markdown",
   "id": "ff0f8c25",
   "metadata": {},
   "source": [
    "# Berechnungen"
   ]
  },
  {
   "cell_type": "markdown",
   "id": "814064f5",
   "metadata": {},
   "source": [
    "## Aufgabe 2"
   ]
  },
  {
   "cell_type": "markdown",
   "id": "26c49048",
   "metadata": {},
   "source": [
    "$$ a=\\frac{1}{E}\\frac{l}{A}g$$"
   ]
  },
  {
   "cell_type": "code",
   "execution_count": 125,
   "id": "1e9bab28",
   "metadata": {},
   "outputs": [],
   "source": [
    "g=9.8130\n",
    "g_err=ufloat(9.8130, 0.0001)\n",
    "\n",
    "a_1_err=ufloat(a_1,da_1)\n",
    "a_2_err=ufloat(a_2,da_2)"
   ]
  },
  {
   "cell_type": "code",
   "execution_count": 126,
   "id": "8fdd7da8",
   "metadata": {},
   "outputs": [
    {
     "name": "stdout",
     "output_type": "stream",
     "text": [
      "E=[9.1846706e+10]\n",
      "\n",
      "a=[0.00334795]\n",
      "r=0.00015\n",
      "g=9.813\n",
      "l=2.215\n"
     ]
    }
   ],
   "source": [
    "E_1=1/(a_1*(r_D)**2*np.pi)*g*l_M\n",
    "print(f'E={E_1}\\n')\n",
    "print(f'a={a_1}')\n",
    "print(f'r={r_D}')\n",
    "print(f'g={g}')\n",
    "print(f'l={l_M}')\n",
    "\n"
   ]
  },
  {
   "cell_type": "code",
   "execution_count": 127,
   "id": "f9e38ef7",
   "metadata": {},
   "outputs": [
    {
     "name": "stdout",
     "output_type": "stream",
     "text": [
      "(9.2+/-0.6)e+10\n"
     ]
    }
   ],
   "source": [
    "E_1_err=1/(a_1_err*(r_D_err)**2*np.pi)*g_err*l_M_err\n",
    "print(E_1_err)"
   ]
  },
  {
   "cell_type": "code",
   "execution_count": 128,
   "id": "ae40ced6",
   "metadata": {},
   "outputs": [
    {
     "name": "stdout",
     "output_type": "stream",
     "text": [
      "[9.4525055e+10]\n"
     ]
    }
   ],
   "source": [
    "E_2=1/(a_2*(r_D)**2*np.pi)*g*l_M\n",
    "print(E_2)"
   ]
  },
  {
   "cell_type": "code",
   "execution_count": 129,
   "id": "317107c3",
   "metadata": {},
   "outputs": [
    {
     "name": "stdout",
     "output_type": "stream",
     "text": [
      "(9.5+/-0.6)e+10\n"
     ]
    }
   ],
   "source": [
    "E_2_err=1/(a_2_err*(r_D_err)**2*np.pi)*g_err*l_M_err\n",
    "print(E_2_err)"
   ]
  },
  {
   "cell_type": "markdown",
   "id": "cb45eb2e",
   "metadata": {},
   "source": [
    "## Mittelung von E"
   ]
  },
  {
   "cell_type": "code",
   "execution_count": 140,
   "id": "594ba678",
   "metadata": {},
   "outputs": [
    {
     "name": "stdout",
     "output_type": "stream",
     "text": [
      "[9.1846706e+10 9.4525055e+10]\n",
      "[6000000000.0, 7000000000.0]\n",
      "93288893930.0698\n",
      "9219544457.292887\n",
      "(9.3+/-0.9)e+10\n",
      "(9.3+/-0.9)e+10\n"
     ]
    }
   ],
   "source": [
    "E=np.array([E_1[0],E_2[0]])\n",
    "print(E)\n",
    "weights=[0.6e10,0.7e10]\n",
    "print(weights)\n",
    "E_mean=np.average(E,weights=weights)\n",
    "print(E_mean)\n",
    "u_E=np.sqrt(0.6e10**2+0.7e10**2)\n",
    "p= 1/u_E**2\n",
    "\n",
    "u=np.sqrt(p*u_E**2/p).sum()\n",
    "print(u)\n",
    "print(ufloat(E_mean,u))\n",
    "\n",
    "E_mean_err=ufloat(E_mean,u_E)\n",
    "print(E_mean_err)"
   ]
  },
  {
   "cell_type": "code",
   "execution_count": 131,
   "id": "09703348",
   "metadata": {
    "scrolled": true
   },
   "outputs": [
    {
     "name": "stdout",
     "output_type": "stream",
     "text": [
      "(9.3+/-0.6)e+10\n"
     ]
    }
   ],
   "source": [
    "E=np.array([E_1_err,E_2_err]).mean()\n",
    "print(E)"
   ]
  },
  {
   "cell_type": "code",
   "execution_count": 132,
   "id": "5255b5b5",
   "metadata": {},
   "outputs": [
    {
     "name": "stdout",
     "output_type": "stream",
     "text": [
      "(9.3+/-0.6)e+10\n"
     ]
    }
   ],
   "source": [
    "E=(E_1_err+E_2_err)/2\n",
    "print(E)"
   ]
  },
  {
   "cell_type": "code",
   "execution_count": 141,
   "id": "e844c96a",
   "metadata": {},
   "outputs": [
    {
     "name": "stdout",
     "output_type": "stream",
     "text": [
      "(9.2+/-0.6)e+10 (9.5+/-0.6)e+10\n"
     ]
    }
   ],
   "source": [
    "print(E_1_err,E_2_err)"
   ]
  },
  {
   "cell_type": "markdown",
   "id": "652318b8",
   "metadata": {},
   "source": [
    "# Aufgabe 3"
   ]
  },
  {
   "cell_type": "code",
   "execution_count": 133,
   "id": "82c27ae3",
   "metadata": {},
   "outputs": [
    {
     "name": "stdout",
     "output_type": "stream",
     "text": [
      "[0.180403 0.180403 0.180403 0.180403 0.180403 0.180403]\n"
     ]
    }
   ],
   "source": [
    "R=D_M/2\n",
    "R_err=D_M_err/2\n",
    "\n",
    "r=d_Z/2\n",
    "r_err=d_Z_err/2\n",
    "\n",
    "print(m2/1000)"
   ]
  },
  {
   "cell_type": "code",
   "execution_count": 134,
   "id": "26377a81",
   "metadata": {},
   "outputs": [
    {
     "name": "stdout",
     "output_type": "stream",
     "text": [
      "38752060722.19782\n",
      "(3.9+/-0.5)e+10\n"
     ]
    }
   ],
   "source": [
    "G=(4*np.pi*l_M)/(R**4)*((m2[0])/1000*r**2)/((TZ)**2)#-T0**2\n",
    "G_err=(4*np.pi*l_M_err)/(R_err**4)*(ufloat((m2[0])/1000,u_m2[0]/1000)*r_err**2)/((TZ_err)**2)#-T0_err**2\n",
    "\n",
    "print(G)\n",
    "print(G_err)\n",
    "#print(m2[0])"
   ]
  },
  {
   "cell_type": "markdown",
   "id": "0a39f2b3",
   "metadata": {},
   "source": [
    "# Berechnung von $\\mu$\n",
    "$$E=2G(1+\\mu)\\\\ \\mu=\\frac{E}{2G}-1$$"
   ]
  },
  {
   "cell_type": "code",
   "execution_count": 135,
   "id": "c391849d",
   "metadata": {},
   "outputs": [
    {
     "name": "stdout",
     "output_type": "stream",
     "text": [
      "0.20+/-0.08\n",
      "(9.3+/-0.6)e+10\n",
      "38752060722.19782\n"
     ]
    }
   ],
   "source": [
    "mü_err=E/(2*G_err)-1\n",
    "print(mü_err)\n",
    "print(E)\n",
    "print(G)"
   ]
  },
  {
   "cell_type": "markdown",
   "id": "32fa3598",
   "metadata": {},
   "source": [
    "# Ergebnisse"
   ]
  },
  {
   "cell_type": "code",
   "execution_count": 136,
   "id": "559fab89",
   "metadata": {},
   "outputs": [],
   "source": [
    "Sara_E_Modul=ufloat(8.58,0.06)*1e10\n",
    "Saras_G_Modul=ufloat(3.6584502,0.0000005)*1e+10\n",
    "Mü=ufloat(0.175,0.011)"
   ]
  },
  {
   "cell_type": "code",
   "execution_count": 137,
   "id": "30b15bac",
   "metadata": {},
   "outputs": [
    {
     "name": "stdout",
     "output_type": "stream",
     "text": [
      "\\begin{tabular}{lll}\n",
      "\\toprule\n",
      "{} &                      Platz 1 &          Platz 3 \\\\\n",
      "\\midrule\n",
      "Elastizitätsmodul \\$E\\$ \\$\\textbackslash left[N m\\textasciicircum \\{-2\\}\\textbackslash right]\\$ &            (8.58+/-0.06)e+10 &  (9.3+/-0.9)e+10 \\\\\n",
      "Torsionsmodul \\$G\\$ \\$\\textbackslash left[N m\\textasciicircum \\{-2\\}\\textbackslash right]\\$     &  (3.6584502+/-0.0000005)e+10 &  (3.9+/-0.5)e+10 \\\\\n",
      "Poissonzal \\$\\textbackslash mu\\$                              &                0.175+/-0.011 &      0.20+/-0.08 \\\\\n",
      "\\bottomrule\n",
      "\\end{tabular}\n",
      "\n"
     ]
    },
    {
     "data": {
      "text/html": [
       "<div>\n",
       "<style scoped>\n",
       "    .dataframe tbody tr th:only-of-type {\n",
       "        vertical-align: middle;\n",
       "    }\n",
       "\n",
       "    .dataframe tbody tr th {\n",
       "        vertical-align: top;\n",
       "    }\n",
       "\n",
       "    .dataframe thead th {\n",
       "        text-align: right;\n",
       "    }\n",
       "</style>\n",
       "<table border=\"1\" class=\"dataframe\">\n",
       "  <thead>\n",
       "    <tr style=\"text-align: right;\">\n",
       "      <th></th>\n",
       "      <th>Platz 1</th>\n",
       "      <th>Platz 3</th>\n",
       "    </tr>\n",
       "  </thead>\n",
       "  <tbody>\n",
       "    <tr>\n",
       "      <th>Elastizitätsmodul $E$ $\\left[N m^{-2}\\right]$</th>\n",
       "      <td>(8.58+/-0.06)e+10</td>\n",
       "      <td>(9.3+/-0.9)e+10</td>\n",
       "    </tr>\n",
       "    <tr>\n",
       "      <th>Torsionsmodul $G$ $\\left[N m^{-2}\\right]$</th>\n",
       "      <td>(3.6584502+/-0.0000005)e+10</td>\n",
       "      <td>(3.9+/-0.5)e+10</td>\n",
       "    </tr>\n",
       "    <tr>\n",
       "      <th>Poissonzal $\\mu$</th>\n",
       "      <td>0.175+/-0.011</td>\n",
       "      <td>0.20+/-0.08</td>\n",
       "    </tr>\n",
       "  </tbody>\n",
       "</table>\n",
       "</div>"
      ],
      "text/plain": [
       "                                                                   Platz 1  \\\n",
       "Elastizitätsmodul $E$ $\\left[N m^{-2}\\right]$            (8.58+/-0.06)e+10   \n",
       "Torsionsmodul $G$ $\\left[N m^{-2}\\right]$      (3.6584502+/-0.0000005)e+10   \n",
       "Poissonzal $\\mu$                                             0.175+/-0.011   \n",
       "\n",
       "                                                       Platz 3  \n",
       "Elastizitätsmodul $E$ $\\left[N m^{-2}\\right]$  (9.3+/-0.9)e+10  \n",
       "Torsionsmodul $G$ $\\left[N m^{-2}\\right]$      (3.9+/-0.5)e+10  \n",
       "Poissonzal $\\mu$                                   0.20+/-0.08  "
      ]
     },
     "execution_count": 137,
     "metadata": {},
     "output_type": "execute_result"
    }
   ],
   "source": [
    "Ergebnisse=pd.DataFrame({'Platz 1':[Sara_E_Modul,Saras_G_Modul,Mü],\n",
    "                         'Platz 3':[E_mean_err,G_err,mü_err]},\n",
    "                        index=[r'Elastizitätsmodul $E$ $\\left[N m^{-2}\\right]$',\n",
    "                        r'Torsionsmodul $G$ $\\left[N m^{-2}\\right]$',r'Poissonzal $\\mu$'])\n",
    "print(Ergebnisse.to_latex())\n",
    "Ergebnisse"
   ]
  }
 ],
 "metadata": {
  "kernelspec": {
   "display_name": "Python 3",
   "language": "python",
   "name": "python3"
  },
  "language_info": {
   "codemirror_mode": {
    "name": "ipython",
    "version": 3
   },
   "file_extension": ".py",
   "mimetype": "text/x-python",
   "name": "python",
   "nbconvert_exporter": "python",
   "pygments_lexer": "ipython3",
   "version": "3.7.4"
  }
 },
 "nbformat": 4,
 "nbformat_minor": 5
}
