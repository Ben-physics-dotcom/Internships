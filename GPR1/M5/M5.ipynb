{
 "cells": [
  {
   "cell_type": "markdown",
   "id": "da9af724",
   "metadata": {},
   "source": [
    "# M5 Versuch: Oberflächenspannung\n",
    "Dieses Jyputer Notebook beinhaltet eine Datenanalyse zur Oberflächenspannung. Die verwendete Methode nennt sich Bügelmethode. Die Ergebnisse lassen sich als untere Schranke für die Oberflächenspannung von Wasser (bei $ 20^{°} $C) interpretieren.  \n",
    "  \n",
    "Der Code wurde von mir selbst geschrieben. An Stellen, die nicht von mir stammen, habe ich dies erwähnt."
   ]
  },
  {
   "cell_type": "markdown",
   "id": "0784520e",
   "metadata": {},
   "source": [
    "# Importe"
   ]
  },
  {
   "cell_type": "code",
   "execution_count": null,
   "id": "dfb8baac",
   "metadata": {},
   "outputs": [],
   "source": [
    "# Eigene Importe\n",
    "import numpy as np\n",
    "import matplotlib.pyplot as plt\n",
    "from uncertainties import ufloat, unumpy as unp\n",
    "\n",
    "\n",
    "import pandas as pd\n",
    "from scipy.optimize import curve_fit\n",
    "import statsmodels.api as sm\n",
    "import scipy as sp\n",
    "\n",
    "# Importe für den Code meines Kommilitonen\n",
    "import scipy.stats as stats\n",
    "# from numpy import linalg as la\n",
    "# from scipy.stats import chi2\n",
    "\n",
    "# aus matplotlib Dokumentation entnommen\n",
    "plt.style.use('classic')\n",
    "plt.rc('text',usetex=True)\n",
    "# plt.rc ('axes', labelsize = 20) # Schriftgröße der x- und y-Beschriftungen"
   ]
  },
  {
   "cell_type": "markdown",
   "id": "c3f4623a",
   "metadata": {},
   "source": [
    "# Daten laden"
   ]
  },
  {
   "cell_type": "code",
   "execution_count": 7,
   "id": "e16492b0",
   "metadata": {},
   "outputs": [
    {
     "name": "stdout",
     "output_type": "stream",
     "text": [
      "0.0505+/-0.0005\n",
      "0.0012880+/-0.0000030\n"
     ]
    }
   ],
   "source": [
    "# masse ohne und mit Fehler\n",
    "m_R=1.288/1000                      # in kg\n",
    "m_R_err = ufloat(m_R,3e-3/1000)\n",
    "\n",
    "# draht länge\n",
    "l=50.5/1000                         # in meter\n",
    "l_err=ufloat(50.5,0.5)/1000\n",
    "\n",
    "print(l_err)\n",
    "print(m_R_err)"
   ]
  },
  {
   "cell_type": "code",
   "execution_count": 8,
   "id": "f9abe4e6",
   "metadata": {},
   "outputs": [
    {
     "data": {
      "text/html": [
       "<div>\n",
       "<style scoped>\n",
       "    .dataframe tbody tr th:only-of-type {\n",
       "        vertical-align: middle;\n",
       "    }\n",
       "\n",
       "    .dataframe tbody tr th {\n",
       "        vertical-align: top;\n",
       "    }\n",
       "\n",
       "    .dataframe thead th {\n",
       "        text-align: right;\n",
       "    }\n",
       "</style>\n",
       "<table border=\"1\" class=\"dataframe\">\n",
       "  <thead>\n",
       "    <tr style=\"text-align: right;\">\n",
       "      <th></th>\n",
       "      <th>hin</th>\n",
       "      <th>zurück</th>\n",
       "    </tr>\n",
       "    <tr>\n",
       "      <th>a_i</th>\n",
       "      <th></th>\n",
       "      <th></th>\n",
       "    </tr>\n",
       "  </thead>\n",
       "  <tbody>\n",
       "    <tr>\n",
       "      <th>a0</th>\n",
       "      <td>7.58</td>\n",
       "      <td>8.28</td>\n",
       "    </tr>\n",
       "    <tr>\n",
       "      <th>a1</th>\n",
       "      <td>9.04</td>\n",
       "      <td>9.22</td>\n",
       "    </tr>\n",
       "    <tr>\n",
       "      <th>a2</th>\n",
       "      <td>10.75</td>\n",
       "      <td>10.21</td>\n",
       "    </tr>\n",
       "    <tr>\n",
       "      <th>a3</th>\n",
       "      <td>11.74</td>\n",
       "      <td>11.21</td>\n",
       "    </tr>\n",
       "    <tr>\n",
       "      <th>a4</th>\n",
       "      <td>12.41</td>\n",
       "      <td>12.41</td>\n",
       "    </tr>\n",
       "    <tr>\n",
       "      <th>a5</th>\n",
       "      <td>13.40</td>\n",
       "      <td>13.37</td>\n",
       "    </tr>\n",
       "    <tr>\n",
       "      <th>a6</th>\n",
       "      <td>14.29</td>\n",
       "      <td>14.40</td>\n",
       "    </tr>\n",
       "    <tr>\n",
       "      <th>a7</th>\n",
       "      <td>15.20</td>\n",
       "      <td>15.13</td>\n",
       "    </tr>\n",
       "    <tr>\n",
       "      <th>a8</th>\n",
       "      <td>16.34</td>\n",
       "      <td>16.48</td>\n",
       "    </tr>\n",
       "    <tr>\n",
       "      <th>a9</th>\n",
       "      <td>17.50</td>\n",
       "      <td>NaN</td>\n",
       "    </tr>\n",
       "  </tbody>\n",
       "</table>\n",
       "</div>"
      ],
      "text/plain": [
       "       hin  zurück\n",
       "a_i               \n",
       "a0    7.58    8.28\n",
       "a1    9.04    9.22\n",
       "a2   10.75   10.21\n",
       "a3   11.74   11.21\n",
       "a4   12.41   12.41\n",
       "a5   13.40   13.37\n",
       "a6   14.29   14.40\n",
       "a7   15.20   15.13\n",
       "a8   16.34   16.48\n",
       "a9   17.50     NaN"
      ]
     },
     "execution_count": 8,
     "metadata": {},
     "output_type": "execute_result"
    }
   ],
   "source": [
    "A1=pd.read_csv('A1.txt',sep='\\t',index_col='a_i')\n",
    "A1"
   ]
  },
  {
   "cell_type": "code",
   "execution_count": 9,
   "id": "28b7a123",
   "metadata": {},
   "outputs": [
    {
     "name": "stdout",
     "output_type": "stream",
     "text": [
      "[0.00828 0.00922 0.01021 0.01121 0.01241 0.01337 0.0144  0.01513 0.01648\n",
      "     nan]\n"
     ]
    }
   ],
   "source": [
    "hin=A1['hin'].values/1000           # meter\n",
    "zurück=A1['zurück'].values/1000\n",
    "print(zurück)"
   ]
  },
  {
   "cell_type": "code",
   "execution_count": 11,
   "id": "c305cbf7",
   "metadata": {},
   "outputs": [
    {
     "data": {
      "text/html": [
       "<div>\n",
       "<style scoped>\n",
       "    .dataframe tbody tr th:only-of-type {\n",
       "        vertical-align: middle;\n",
       "    }\n",
       "\n",
       "    .dataframe tbody tr th {\n",
       "        vertical-align: top;\n",
       "    }\n",
       "\n",
       "    .dataframe thead th {\n",
       "        text-align: right;\n",
       "    }\n",
       "</style>\n",
       "<table border=\"1\" class=\"dataframe\">\n",
       "  <thead>\n",
       "    <tr style=\"text-align: right;\">\n",
       "      <th></th>\n",
       "      <th>M1</th>\n",
       "      <th>M2</th>\n",
       "    </tr>\n",
       "    <tr>\n",
       "      <th>Index</th>\n",
       "      <th></th>\n",
       "      <th></th>\n",
       "    </tr>\n",
       "  </thead>\n",
       "  <tbody>\n",
       "    <tr>\n",
       "      <th>a0</th>\n",
       "      <td>7.25</td>\n",
       "      <td>12.80</td>\n",
       "    </tr>\n",
       "    <tr>\n",
       "      <th>a1</th>\n",
       "      <td>7.02</td>\n",
       "      <td>13.05</td>\n",
       "    </tr>\n",
       "    <tr>\n",
       "      <th>a2</th>\n",
       "      <td>7.28</td>\n",
       "      <td>12.50</td>\n",
       "    </tr>\n",
       "    <tr>\n",
       "      <th>a3</th>\n",
       "      <td>7.04</td>\n",
       "      <td>12.37</td>\n",
       "    </tr>\n",
       "    <tr>\n",
       "      <th>a4</th>\n",
       "      <td>7.04</td>\n",
       "      <td>11.99</td>\n",
       "    </tr>\n",
       "    <tr>\n",
       "      <th>a5</th>\n",
       "      <td>7.22</td>\n",
       "      <td>11.39</td>\n",
       "    </tr>\n",
       "  </tbody>\n",
       "</table>\n",
       "</div>"
      ],
      "text/plain": [
       "         M1     M2\n",
       "Index             \n",
       "a0     7.25  12.80\n",
       "a1     7.02  13.05\n",
       "a2     7.28  12.50\n",
       "a3     7.04  12.37\n",
       "a4     7.04  11.99\n",
       "a5     7.22  11.39"
      ]
     },
     "execution_count": 11,
     "metadata": {},
     "output_type": "execute_result"
    }
   ],
   "source": [
    "A2_T1=pd.read_csv('A2_T1.txt',sep='\\t',index_col='Index')\n",
    "A2_T1"
   ]
  },
  {
   "cell_type": "code",
   "execution_count": 12,
   "id": "5a00ebaf",
   "metadata": {},
   "outputs": [],
   "source": [
    "M1=A2_T1['M1'].values/1000      # meter\n",
    "M2=A2_T1['M2'].values/1000"
   ]
  },
  {
   "cell_type": "code",
   "execution_count": 13,
   "id": "d63d626f",
   "metadata": {},
   "outputs": [],
   "source": [
    "# Unsicherheit von M1, M2, hin und zurück\n",
    "u_hin=0.13/1000*np.ones(len(hin))\n",
    "u_zurück=0.13/1000*np.ones(len(zurück))\n",
    "u_M=0.13/1000*np.ones(len(M1))"
   ]
  },
  {
   "cell_type": "code",
   "execution_count": 14,
   "id": "829c69b4",
   "metadata": {},
   "outputs": [],
   "source": [
    "M1_err=unp.uarray(M1,u_M)\n",
    "M2_err=unp.uarray(M2,u_M)"
   ]
  },
  {
   "cell_type": "markdown",
   "id": "5847f91c",
   "metadata": {},
   "source": [
    "# Daten mit Unsicherheit"
   ]
  },
  {
   "cell_type": "code",
   "execution_count": 15,
   "id": "bb197d8a",
   "metadata": {},
   "outputs": [
    {
     "name": "stdout",
     "output_type": "stream",
     "text": [
      "[0.00725+/-0.00013000000000000002\n",
      " 0.007019999999999999+/-0.00013000000000000002\n",
      " 0.00728+/-0.00013000000000000002 0.00704+/-0.00013000000000000002\n",
      " 0.00704+/-0.00013000000000000002 0.00722+/-0.00013000000000000002]\n"
     ]
    }
   ],
   "source": [
    "hin_err=unp.uarray(hin,u_hin)\n",
    "zurück_err=unp.uarray(zurück,u_zurück)\n",
    "\n",
    "M1_err=unp.uarray(M1,u_M)\n",
    "M2_err=unp.uarray(M2,u_M)\n",
    "print(M1_err)"
   ]
  },
  {
   "cell_type": "markdown",
   "id": "4d11254f",
   "metadata": {},
   "source": [
    "# Korrektur von a"
   ]
  },
  {
   "cell_type": "markdown",
   "id": "a10562ee",
   "metadata": {},
   "source": [
    "$$ a_i' = a_i-a_0 $$"
   ]
  },
  {
   "cell_type": "code",
   "execution_count": 16,
   "id": "46c6a625",
   "metadata": {
    "scrolled": true
   },
   "outputs": [
    {
     "data": {
      "text/plain": [
       "array([0.00094, 0.00193, 0.00293, 0.00413, 0.00509, 0.00612, 0.00685,\n",
       "       0.0082 ])"
      ]
     },
     "execution_count": 16,
     "metadata": {},
     "output_type": "execute_result"
    }
   ],
   "source": [
    "zurück1=zurück[1:len(zurück)-1]-zurück[0]\n",
    "zurück_err1=zurück_err[1:len(zurück)-1]-zurück_err[0]\n",
    "zurück1"
   ]
  },
  {
   "cell_type": "code",
   "execution_count": 17,
   "id": "9b8ecab1",
   "metadata": {},
   "outputs": [
    {
     "data": {
      "text/plain": [
       "array([0.00146, 0.00317, 0.00416, 0.00483, 0.00582, 0.00671, 0.00762,\n",
       "       0.00876, 0.00992])"
      ]
     },
     "execution_count": 17,
     "metadata": {},
     "output_type": "execute_result"
    }
   ],
   "source": [
    "hin1=hin[1:]-hin[0]\n",
    "hin_err1=hin_err[1:]-hin_err[0]\n",
    "hin1"
   ]
  },
  {
   "cell_type": "markdown",
   "id": "da7c1075",
   "metadata": {},
   "source": [
    "# Schwerkraft\n",
    "$$ F_i=i \\cdot 0.1 \\cdot m \\cdot g $$"
   ]
  },
  {
   "cell_type": "code",
   "execution_count": 18,
   "id": "bc9fead8",
   "metadata": {},
   "outputs": [
    {
     "name": "stdout",
     "output_type": "stream",
     "text": [
      "[0.00126391 0.00252783 0.00379174 0.00505566 0.00631957 0.00758349\n",
      " 0.0088474  0.01011132 0.01137523]\n",
      "[0.00126391 0.00252783 0.00379174 0.00505566 0.00631957 0.00758349\n",
      " 0.0088474  0.01011132]\n"
     ]
    }
   ],
   "source": [
    "g=9.8130                           # m/s^2\n",
    "g_err=ufloat(9.8130,0.0001)        # F4\n",
    "\n",
    "F_hin=m_R*np.array([1,2,3,4,5,6,7,8,9])*0.1*g\n",
    "F_hin_err=m_R_err*np.array([1,2,3,4,5,6,7,8,9])*0.1*g_err\n",
    "print(F_hin)\n",
    "\n",
    "\n",
    "F_zurück=m_R*np.array([1,2,3,4,5,6,7,8])*0.1*g\n",
    "F_zurück_err=m_R_err*np.array([1,2,3,4,5,6,7,8])*0.1*g_err\n",
    "print(F_zurück)"
   ]
  },
  {
   "cell_type": "markdown",
   "id": "d842393d",
   "metadata": {},
   "source": [
    "# Aufgabe 1: lineare Regression"
   ]
  },
  {
   "cell_type": "code",
   "execution_count": 19,
   "id": "ac6bbc1a",
   "metadata": {},
   "outputs": [
    {
     "name": "stdout",
     "output_type": "stream",
     "text": [
      "9.813\n"
     ]
    }
   ],
   "source": [
    "def reg(x,a,b):\n",
    "    f=a*x+b\n",
    "    return f\n",
    "print(g)\n",
    "\n",
    "\n",
    "def f(x,a):\n",
    "    k=x*a\n",
    "    return k"
   ]
  },
  {
   "cell_type": "markdown",
   "id": "1e2692c9",
   "metadata": {},
   "source": [
    "## Fehler"
   ]
  },
  {
   "cell_type": "code",
   "execution_count": 21,
   "id": "bbe7f211",
   "metadata": {},
   "outputs": [],
   "source": [
    "# y Fehler\n",
    "# print(hin_err1)\n",
    "yerr_hin=18e-5*np.ones(9)\n",
    "\n",
    "# x Fehler\n",
    "# print(F_hin_err)\n",
    "xerr=np.array([0.29,0.6,0.9,1.2,1.5,1.8,2.1,2.4,2.6])*1e-6"
   ]
  },
  {
   "cell_type": "code",
   "execution_count": 22,
   "id": "7fac27f5",
   "metadata": {},
   "outputs": [
    {
     "name": "stdout",
     "output_type": "stream",
     "text": [
      "[0.0009400000000000016+/-0.00018384776310850236\n",
      " 0.0019300000000000012+/-0.00018384776310850236\n",
      " 0.002930000000000002+/-0.00018384776310850236\n",
      " 0.004130000000000002+/-0.00018384776310850236\n",
      " 0.005090000000000001+/-0.00018384776310850236\n",
      " 0.0061200000000000004+/-0.00018384776310850236\n",
      " 0.006850000000000002+/-0.00018384776310850236\n",
      " 0.008200000000000002+/-0.00018384776310850236]\n"
     ]
    }
   ],
   "source": [
    "# y Fehler\n",
    "print(zurück_err1)\n",
    "yerr_zurück=18e-5*np.ones(8)"
   ]
  },
  {
   "cell_type": "markdown",
   "id": "5692511e",
   "metadata": {},
   "source": [
    "## Mit scipy"
   ]
  },
  {
   "cell_type": "code",
   "execution_count": null,
   "id": "82465b3d",
   "metadata": {},
   "outputs": [
    {
     "name": "stdout",
     "output_type": "stream",
     "text": [
      "a=0.783+/-0.025\n",
      "b=0.00088+/-0.00018 \n",
      "\n",
      "\n",
      "[0.00146 0.00317 0.00416 0.00483 0.00582 0.00671 0.00762 0.00876 0.00992]\n",
      "[0.00126391 0.00252783 0.00379174 0.00505566 0.00631957 0.00758349\n",
      " 0.0088474  0.01011132 0.01137523]\n"
     ]
    }
   ],
   "source": [
    "# mit scipy\n",
    "pop,cov=curve_fit(reg,F_hin,hin1,sigma=yerr_hin)#\n",
    "a1,b1=pop\n",
    "da1,db1=np.sqrt(np.diag(cov))\n",
    "print(fr'a={ufloat(a1,da1)}')\n",
    "print(fr'b={ufloat(b1,db1)}','\\n\\n')\n",
    "print(hin1)\n",
    "print(F_hin)"
   ]
  },
  {
   "cell_type": "code",
   "execution_count": 24,
   "id": "60f7ae2d",
   "metadata": {},
   "outputs": [
    {
     "name": "stdout",
     "output_type": "stream",
     "text": [
      "a=0.893+/-0.023\n"
     ]
    }
   ],
   "source": [
    "pop,cov=curve_fit(f,F_hin,hin1,sigma=yerr_hin)#\n",
    "a1_1=pop\n",
    "da1_1=np.sqrt(np.diag(cov))\n",
    "print(fr'a={ufloat(a1_1,da1_1)}')"
   ]
  },
  {
   "cell_type": "code",
   "execution_count": 25,
   "id": "d635e468",
   "metadata": {},
   "outputs": [
    {
     "name": "stdout",
     "output_type": "stream",
     "text": [
      "a=0.880+/-0.011\n"
     ]
    }
   ],
   "source": [
    "pop,cov=curve_fit(f,F_hin[3:],hin1[3:],sigma=yerr_hin[3:])#\n",
    "a1_1=pop\n",
    "da1_1=np.sqrt(np.diag(cov))\n",
    "print(fr'a={ufloat(a1_1,da1_1)}')"
   ]
  },
  {
   "cell_type": "code",
   "execution_count": 26,
   "id": "8e60c0b9",
   "metadata": {},
   "outputs": [
    {
     "name": "stdout",
     "output_type": "stream",
     "text": [
      "$R^2$: 0.993  \n",
      "\n",
      " p-Wert: 9.28e-09\n"
     ]
    }
   ],
   "source": [
    "slope, intercept, r_value, p_value, std_err = stats.linregress(F_hin,hin1)\n",
    "R_sqrt=r_value**2\n",
    "print(fr'$R^{2}$: {round(R_sqrt,3)}',' \\n\\n',f'p-Wert: {round(p_value,11)}')"
   ]
  },
  {
   "cell_type": "code",
   "execution_count": 27,
   "id": "651451a8",
   "metadata": {},
   "outputs": [
    {
     "name": "stdout",
     "output_type": "stream",
     "text": [
      "a=0.810+/-0.015\n",
      "b=(-8+/-9)e-05 \n",
      "\n",
      "\n",
      "[0.00094 0.00193 0.00293 0.00413 0.00509 0.00612 0.00685 0.0082 ]\n",
      "[0.00126391 0.00252783 0.00379174 0.00505566 0.00631957 0.00758349\n",
      " 0.0088474  0.01011132]\n"
     ]
    }
   ],
   "source": [
    "pop,cov=curve_fit(reg,F_zurück,zurück1,sigma=yerr_zurück)#\n",
    "a2,b2=pop\n",
    "da2,db2=np.sqrt(np.diag(cov))\n",
    "print(fr'a={ufloat(a2,da2)}')\n",
    "print(fr'b={ufloat(b2,db2)}','\\n\\n')\n",
    "print(zurück1)\n",
    "print(F_zurück)"
   ]
  },
  {
   "cell_type": "code",
   "execution_count": 28,
   "id": "ce698f1a",
   "metadata": {},
   "outputs": [
    {
     "name": "stdout",
     "output_type": "stream",
     "text": [
      "a=0.798+/-0.007\n"
     ]
    }
   ],
   "source": [
    "pop,cov=curve_fit(f,F_zurück,zurück1,sigma=yerr_zurück)\n",
    "a2_1=pop\n",
    "da2_1=np.sqrt(np.diag(cov))\n",
    "print(fr'a={ufloat(a2_1,da2_1)}')"
   ]
  },
  {
   "cell_type": "code",
   "execution_count": 29,
   "id": "82e8aa66",
   "metadata": {},
   "outputs": [
    {
     "name": "stdout",
     "output_type": "stream",
     "text": [
      "$R^2$: 0.9979992738116954  \n",
      "\n",
      " p-Wert: 2.5046041769559793e-09\n"
     ]
    }
   ],
   "source": [
    "slope2, intercept2, r_value2, p_value2, std_err2 = stats.linregress(F_zurück,zurück1)\n",
    "R_sqrt2=r_value2**2\n",
    "print(fr'$R^{2}$: {R_sqrt2}',' \\n\\n',f'p-Wert: {p_value2}')"
   ]
  },
  {
   "cell_type": "markdown",
   "id": "77e13a77",
   "metadata": {},
   "source": [
    "## mit Statsmodels"
   ]
  },
  {
   "cell_type": "code",
   "execution_count": 30,
   "id": "5d3aaf32",
   "metadata": {},
   "outputs": [
    {
     "name": "stdout",
     "output_type": "stream",
     "text": [
      "\n",
      "Lineare Regression\n",
      "\n",
      "                            WLS Regression Results                            \n",
      "==============================================================================\n",
      "Dep. Variable:                      y   R-squared:                       0.993\n",
      "Model:                            WLS   Adj. R-squared:                  0.992\n",
      "Method:                 Least Squares   F-statistic:                     964.0\n",
      "Date:                Sat, 01 Mar 2025   Prob (F-statistic):           9.28e-09\n",
      "Time:                        15:19:54   Log-Likelihood:                 63.115\n",
      "No. Observations:                   9   AIC:                            -122.2\n",
      "Df Residuals:                       7   BIC:                            -121.8\n",
      "Df Model:                           1                                         \n",
      "Covariance Type:            nonrobust                                         \n",
      "==============================================================================\n",
      "                 coef    std err          t      P>|t|      [0.025      0.975]\n",
      "------------------------------------------------------------------------------\n",
      "const          0.0009      0.000      4.887      0.002       0.000       0.001\n",
      "x1             0.7834      0.025     31.049      0.000       0.724       0.843\n",
      "==============================================================================\n",
      "Omnibus:                        0.076   Durbin-Watson:                   1.612\n",
      "Prob(Omnibus):                  0.962   Jarque-Bera (JB):                0.169\n",
      "Skew:                          -0.130   Prob(JB):                        0.919\n",
      "Kurtosis:                       2.381   Cond. No.                         306.\n",
      "==============================================================================\n",
      "\n",
      "Notes:\n",
      "[1] Standard Errors assume that the covariance matrix of the errors is correctly specified.\n"
     ]
    },
    {
     "name": "stderr",
     "output_type": "stream",
     "text": [
      "c:\\Users\\benjf\\anaconda3\\envs\\projects\\Lib\\site-packages\\statsmodels\\base\\model.py:130: ValueWarning: unknown kwargs ['sigma']\n",
      "  warnings.warn(msg, ValueWarning)\n",
      "c:\\Users\\benjf\\anaconda3\\envs\\projects\\Lib\\site-packages\\scipy\\stats\\_axis_nan_policy.py:430: UserWarning: `kurtosistest` p-value may be inaccurate with fewer than 20 observations; only n=9 observations were given.\n",
      "  return hypotest_fun_in(*args, **kwds)\n"
     ]
    }
   ],
   "source": [
    "y=hin1\n",
    "x_zunahme=sm.add_constant(F_hin)\n",
    "results=sm.WLS(y,x_zunahme,sigma=yerr_hin).fit()#,sigma=yerr\n",
    "print('''\n",
    "Lineare Regression\n",
    "''')\n",
    "print(results.summary())"
   ]
  },
  {
   "cell_type": "code",
   "execution_count": 31,
   "id": "3feb15c9",
   "metadata": {},
   "outputs": [],
   "source": [
    "R_1=0.993"
   ]
  },
  {
   "cell_type": "code",
   "execution_count": 32,
   "id": "bca2daf1",
   "metadata": {},
   "outputs": [
    {
     "name": "stdout",
     "output_type": "stream",
     "text": [
      "\n",
      "Lineare Regression\n",
      "\n",
      "                            WLS Regression Results                            \n",
      "==============================================================================\n",
      "Dep. Variable:                      y   R-squared:                       0.997\n",
      "Model:                            WLS   Adj. R-squared:                  0.996\n",
      "Method:                 Least Squares   F-statistic:                     1308.\n",
      "Date:                Sat, 01 Mar 2025   Prob (F-statistic):           3.49e-06\n",
      "Time:                        15:19:55   Log-Likelihood:                 47.061\n",
      "No. Observations:                   6   AIC:                            -90.12\n",
      "Df Residuals:                       4   BIC:                            -90.54\n",
      "Df Model:                           1                                         \n",
      "Covariance Type:            nonrobust                                         \n",
      "==============================================================================\n",
      "                 coef    std err          t      P>|t|      [0.025      0.975]\n",
      "------------------------------------------------------------------------------\n",
      "const          0.0007      0.000      3.979      0.016       0.000       0.001\n",
      "x1             0.7953      0.022     36.166      0.000       0.734       0.856\n",
      "==============================================================================\n",
      "Omnibus:                          nan   Durbin-Watson:                   1.197\n",
      "Prob(Omnibus):                    nan   Jarque-Bera (JB):                0.355\n",
      "Skew:                          -0.326   Prob(JB):                        0.838\n",
      "Kurtosis:                       2.003   Cond. No.                         463.\n",
      "==============================================================================\n",
      "\n",
      "Notes:\n",
      "[1] Standard Errors assume that the covariance matrix of the errors is correctly specified.\n"
     ]
    },
    {
     "name": "stderr",
     "output_type": "stream",
     "text": [
      "c:\\Users\\benjf\\anaconda3\\envs\\projects\\Lib\\site-packages\\statsmodels\\base\\model.py:130: ValueWarning: unknown kwargs ['sigma']\n",
      "  warnings.warn(msg, ValueWarning)\n",
      "c:\\Users\\benjf\\anaconda3\\envs\\projects\\Lib\\site-packages\\statsmodels\\stats\\stattools.py:74: ValueWarning: omni_normtest is not valid with less than 8 observations; 6 samples were given.\n",
      "  warn(\"omni_normtest is not valid with less than 8 observations; %i \"\n"
     ]
    }
   ],
   "source": [
    "y=hin1[3:]\n",
    "x_zunahme=sm.add_constant(F_hin[3:])\n",
    "results=sm.WLS(y,x_zunahme,sigma=yerr_hin[3:]).fit()#,sigma=yerr\n",
    "print('''\n",
    "Lineare Regression\n",
    "''')\n",
    "print(results.summary())"
   ]
  },
  {
   "cell_type": "code",
   "execution_count": 33,
   "id": "93a48664",
   "metadata": {},
   "outputs": [
    {
     "name": "stdout",
     "output_type": "stream",
     "text": [
      "\n",
      "Lineare Regression\n",
      "\n",
      "                            WLS Regression Results                            \n",
      "==============================================================================\n",
      "Dep. Variable:                      y   R-squared:                       0.998\n",
      "Model:                            WLS   Adj. R-squared:                  0.998\n",
      "Method:                 Least Squares   F-statistic:                     2993.\n",
      "Date:                Sat, 01 Mar 2025   Prob (F-statistic):           2.50e-09\n",
      "Time:                        15:19:56   Log-Likelihood:                 61.943\n",
      "No. Observations:                   8   AIC:                            -119.9\n",
      "Df Residuals:                       6   BIC:                            -119.7\n",
      "Df Model:                           1                                         \n",
      "Covariance Type:            nonrobust                                         \n",
      "==============================================================================\n",
      "                 coef    std err          t      P>|t|      [0.025      0.975]\n",
      "------------------------------------------------------------------------------\n",
      "const      -8.071e-05   9.44e-05     -0.855      0.426      -0.000       0.000\n",
      "x1             0.8096      0.015     54.708      0.000       0.773       0.846\n",
      "==============================================================================\n",
      "Omnibus:                        4.846   Durbin-Watson:                   2.606\n",
      "Prob(Omnibus):                  0.089   Jarque-Bera (JB):                1.528\n",
      "Skew:                          -1.060   Prob(JB):                        0.466\n",
      "Kurtosis:                       3.292   Cond. No.                         345.\n",
      "==============================================================================\n",
      "\n",
      "Notes:\n",
      "[1] Standard Errors assume that the covariance matrix of the errors is correctly specified.\n"
     ]
    },
    {
     "name": "stderr",
     "output_type": "stream",
     "text": [
      "c:\\Users\\benjf\\anaconda3\\envs\\projects\\Lib\\site-packages\\statsmodels\\base\\model.py:130: ValueWarning: unknown kwargs ['sigma']\n",
      "  warnings.warn(msg, ValueWarning)\n",
      "c:\\Users\\benjf\\anaconda3\\envs\\projects\\Lib\\site-packages\\scipy\\stats\\_axis_nan_policy.py:430: UserWarning: `kurtosistest` p-value may be inaccurate with fewer than 20 observations; only n=8 observations were given.\n",
      "  return hypotest_fun_in(*args, **kwds)\n"
     ]
    }
   ],
   "source": [
    "y=zurück1\n",
    "x_zunahme=sm.add_constant(F_zurück)\n",
    "results=sm.WLS(y,x_zunahme,sigma=yerr_zurück).fit()#,sigma=yerr\n",
    "print('''\n",
    "Lineare Regression\n",
    "''')\n",
    "print(results.summary())"
   ]
  },
  {
   "cell_type": "code",
   "execution_count": 34,
   "id": "0491e0ec",
   "metadata": {},
   "outputs": [],
   "source": [
    "R_2=0.998"
   ]
  },
  {
   "cell_type": "markdown",
   "id": "6bbda77e",
   "metadata": {},
   "source": [
    "# Plot"
   ]
  },
  {
   "cell_type": "markdown",
   "id": "43420beb",
   "metadata": {},
   "source": [
    "## chi Quadrat"
   ]
  },
  {
   "cell_type": "code",
   "execution_count": 35,
   "id": "424be3db",
   "metadata": {},
   "outputs": [
    {
     "data": {
      "text/plain": [
       "np.float64(1.8833945718204979)"
      ]
     },
     "execution_count": 35,
     "metadata": {},
     "output_type": "execute_result"
    }
   ],
   "source": [
    "# chi quadrat für hin\n",
    "chi_hin=(hin1-reg(F_hin,a1,b1))**2/yerr_hin**2\n",
    "chi_hin=chi_hin.sum()/(len(hin1)-2)\n",
    "chi_hin"
   ]
  },
  {
   "cell_type": "code",
   "execution_count": 36,
   "id": "04c714c0",
   "metadata": {},
   "outputs": [
    {
     "name": "stdout",
     "output_type": "stream",
     "text": [
      "6\n",
      "8\n"
     ]
    },
    {
     "data": {
      "text/plain": [
       "np.float64(8.651338441043913)"
      ]
     },
     "execution_count": 36,
     "metadata": {},
     "output_type": "execute_result"
    }
   ],
   "source": [
    "hh=hin1[3:]\n",
    "print(len(hh))\n",
    "yy=f(F_hin,a1_1)[1:]\n",
    "print(len(yy))\n",
    "chi_hin1=(hin1-f(F_hin,a1_1))**2/yerr_hin**2\n",
    "chi_hin1=chi_hin1.sum()/(len(hin1)-2)\n",
    "chi_hin1"
   ]
  },
  {
   "cell_type": "code",
   "execution_count": 37,
   "id": "0822c780",
   "metadata": {},
   "outputs": [
    {
     "name": "stdout",
     "output_type": "stream",
     "text": [
      "6\n",
      "8\n"
     ]
    },
    {
     "data": {
      "text/plain": [
       "np.float64(1.1821036464332912)"
      ]
     },
     "execution_count": 37,
     "metadata": {},
     "output_type": "execute_result"
    }
   ],
   "source": [
    "hh=hin1[3:]\n",
    "print(len(hh))\n",
    "yy=f(F_hin,a1_1)[1:]\n",
    "print(len(yy))\n",
    "chi_hin2=(hin1[3:]-f(F_hin,a1_1)[3:])**2/yerr_hin[3:]**2\n",
    "chi_hin2=chi_hin2.sum()/(len(hin1)-2)\n",
    "chi_hin2"
   ]
  },
  {
   "cell_type": "code",
   "execution_count": 38,
   "id": "155675e4",
   "metadata": {},
   "outputs": [
    {
     "data": {
      "text/plain": [
       "np.float64(0.45346487360376325)"
      ]
     },
     "execution_count": 38,
     "metadata": {},
     "output_type": "execute_result"
    }
   ],
   "source": [
    "chi_zurück=(zurück1-reg(F_zurück,a2,b2))**2/yerr_zurück**2\n",
    "chi_zurück=chi_zurück.sum()/(len(zurück1)-2)\n",
    "chi_zurück"
   ]
  },
  {
   "cell_type": "code",
   "execution_count": 39,
   "id": "5a9f07b3",
   "metadata": {},
   "outputs": [
    {
     "data": {
      "text/plain": [
       "np.float64(0.5086616436698082)"
      ]
     },
     "execution_count": 39,
     "metadata": {},
     "output_type": "execute_result"
    }
   ],
   "source": [
    "chi_zurück1=(zurück1-f(F_zurück,a2_1))**2/yerr_zurück**2\n",
    "chi_zurück1=chi_zurück1.sum()/(len(zurück1)-2)\n",
    "chi_zurück1"
   ]
  },
  {
   "cell_type": "code",
   "execution_count": 40,
   "id": "0f8244a5",
   "metadata": {},
   "outputs": [
    {
     "data": {
      "text/plain": [
       "array([0.00146, 0.00317, 0.00416, 0.00483, 0.00582, 0.00671, 0.00762,\n",
       "       0.00876, 0.00992])"
      ]
     },
     "execution_count": 40,
     "metadata": {},
     "output_type": "execute_result"
    }
   ],
   "source": [
    "hin1"
   ]
  },
  {
   "cell_type": "markdown",
   "id": "3034d638",
   "metadata": {},
   "source": [
    "## Plots\n",
    "Der Kasten um die Grafik mit den Achsenabschnitten wurde mithilfe der Dokumentation von matplotlib porgrammiert. Den Code für die zweiteilige Legende habe ich aus dem Internet bezogen. Jedoch habe ich es vergessen, mir die Quelle aufzuschreiben. Deshalb kann ich die Quelle nicht angeben."
   ]
  },
  {
   "cell_type": "code",
   "execution_count": null,
   "id": "4aa135e8",
   "metadata": {},
   "outputs": [
    {
     "data": {
      "text/plain": [
       "<matplotlib.legend.Legend at 0x28408d949b0>"
      ]
     },
     "execution_count": 41,
     "metadata": {},
     "output_type": "execute_result"
    }
   ],
   "source": [
    "ff=np.linspace(0,0.012,500)\n",
    "x_a1=[r'a_1',r'a_2',r'a_3',r'a_4',r'a_5',r'a_6',r'a_7',r'a_8',r'a_9']\n",
    "\n",
    "fig=plt.figure()\n",
    "ax=fig.add_subplot(111)\n",
    "ax.errorbar(F_hin,hin1,xerr=xerr,yerr=yerr_hin,fmt='k.',label='Messpunkte')\n",
    "ax.plot(ff,reg(ff,a1,b1),label=r'Fit: $a=\\alpha \\cdot F_g+\\beta$')\n",
    "#ax.plot(ff,f(ff,a1_1),label=r'Fit 1: $a=\\alpha \\cdot F_g+\\beta$')\n",
    "\n",
    "par1, = ax.plot([],[],' ')\n",
    "par2, = ax.plot([],[],' ' )\n",
    "par3, = ax.plot([],[],' ')\n",
    "par4, = ax.plot([],[],' ' )\n",
    "\n",
    "#locs, labels = ax.set_xticks()\n",
    "\n",
    "ax.set_xlabel(r'Schwerkraft $F_g$ [mN]')\n",
    "ax.set_ylabel(r'Auslenkung [mm]')\n",
    "\n",
    "plt.xticks(np.array([0.000,0.003,0.006,0.009,0.012]),['0.0','3','6','9','12'])\n",
    "plt.yticks(np.arange(0,0.0111,step=0.00275),[0.0,2.75,5.5,8.25,11])\n",
    "leg1= ax.legend(loc=2)\n",
    "\n",
    "chi1=r'$\\chi_{\\nu}^{2}$'+f'$={round(chi_hin,2)}$'\n",
    "\n",
    "leg2=ax.legend([par1,par2,par3,par4],\n",
    "               [r'$\\alpha=(783\\pm 25)$ ms$^2$/kg',\n",
    "                r'$\\beta = -(880\\pm 180)$ $\\mu$m',\n",
    "               chi1,\n",
    "               r'$R^{2}=0.993$'],\n",
    "              loc=4)\n",
    "ax.add_artist(leg1)\n",
    "\n",
    "\n",
    "#fig.savefig('M5_Hinweg.pdf',dpi=600)"
   ]
  },
  {
   "cell_type": "code",
   "execution_count": null,
   "id": "5ef74e6c",
   "metadata": {},
   "outputs": [
    {
     "data": {
      "image/png": "[encoded data removed]",
      "text/plain": [
       "<Figure size 640x480 with 1 Axes>"
      ]
     },
     "metadata": {},
     "output_type": "display_data"
    }
   ],
   "source": [
    "fig=plt.figure()\n",
    "ax=fig.add_subplot(111)\n",
    "ax.errorbar(F_hin,hin1,xerr=xerr,yerr=yerr_hin,fmt='k.',label='Messpunkte')\n",
    "#ax.plot(ff,reg(ff,a1,b1),label=r'Fit: $a=\\alpha \\cdot F_g+\\beta$')\n",
    "ax.plot(ff,f(ff,a1_1),label=r'Fit 1: $a=\\alpha \\cdot F_g$')\n",
    "\n",
    "par1, = ax.plot([],[],' ')\n",
    "par2, = ax.plot([],[],' ' )\n",
    "par3, = ax.plot([],[],' ')\n",
    "par4, = ax.plot([],[],' ' )\n",
    "\n",
    "#locs, labels = ax.set_xticks()\n",
    "\n",
    "ax.set_xlabel(r'Schwerkraft $F_g$ [mN]')\n",
    "ax.set_ylabel(r'Auslenkung [mm]')\n",
    "\n",
    "plt.xticks(np.array([0.000,0.003,0.006,0.009,0.012]),['0.0','3','6','9','12'])\n",
    "plt.yticks(np.arange(0,0.0111,step=0.00275),[0.0,2.75,5.5,8.25,11])\n",
    "leg1= ax.legend(loc=2)\n",
    "\n",
    "chi2=r'$\\chi_{\\nu}^{2}$'+f'$={round(chi_hin1,2)}$'\n",
    "\n",
    "leg2=ax.legend([par1,par2,par3,par4],\n",
    "               [r'$\\alpha=(893\\pm 23)$ ms$^2$/kg',\n",
    "               chi2,\n",
    "               r'$R^{2}=0.993$'],\n",
    "              loc=4)\n",
    "ax.add_artist(leg1)\n",
    "\n",
    "plt.show()\n",
    "# fig.savefig('M5_Hinweg_1.pdf',dpi=600)"
   ]
  },
  {
   "cell_type": "code",
   "execution_count": null,
   "id": "b3ee5020",
   "metadata": {},
   "outputs": [
    {
     "data": {
      "image/png": "[encoded data removed]",
      "text/plain": [
       "<Figure size 640x480 with 1 Axes>"
      ]
     },
     "metadata": {},
     "output_type": "display_data"
    }
   ],
   "source": [
    "fig=plt.figure()\n",
    "ax=fig.add_subplot(111)\n",
    "ax.errorbar(F_hin[3:],hin1[3:],xerr=xerr[3:],yerr=yerr_hin[3:],fmt='k.',label='Messpunkte')\n",
    "#ax.plot(ff,reg(ff,a1,b1),label=r'Fit: $a=\\alpha \\cdot F_g+\\beta$')\n",
    "ax.plot(ff,f(ff,a1_1),label=r'Fit 1: $a=\\alpha \\cdot F_g$')\n",
    "\n",
    "par1, = ax.plot([],[],' ')\n",
    "par2, = ax.plot([],[],' ' )\n",
    "par3, = ax.plot([],[],' ')\n",
    "par4, = ax.plot([],[],' ' )\n",
    "\n",
    "#locs, labels = ax.set_xticks()\n",
    "\n",
    "ax.set_xlabel(r'Schwerkraft $F_g$ [mN]')\n",
    "ax.set_ylabel(r'Auslenkung [mm]')\n",
    "\n",
    "plt.xticks(np.array([0.000,0.003,0.006,0.009,0.012]),['0.0','3','6','9','12'])\n",
    "plt.yticks(np.arange(0,0.0111,step=0.00275),[0.0,2.75,5.5,8.25,11])\n",
    "leg1= ax.legend(loc=2)\n",
    "\n",
    "chi3=r'$\\chi_{\\nu}^{2}$'+f'$={round(chi_hin2,2)}$'\n",
    "\n",
    "\n",
    "leg2=ax.legend([par1,par2,par3,par4],\n",
    "               [r'$\\alpha=(880\\pm 11)$ ms$^2$/kg',\n",
    "               chi3,\n",
    "               r'$R^{2}=0.997$'],\n",
    "              loc=4)\n",
    "ax.add_artist(leg1)\n",
    "\n",
    "plt.show()\n",
    "\n",
    "#fig.savefig('M5_Hinweg_2.pdf',dpi=600)"
   ]
  },
  {
   "cell_type": "code",
   "execution_count": 45,
   "id": "ec929a9e",
   "metadata": {},
   "outputs": [
    {
     "data": {
      "image/png": "[encoded data removed]",
      "text/plain": [
       "<Figure size 640x480 with 1 Axes>"
      ]
     },
     "metadata": {},
     "output_type": "display_data"
    }
   ],
   "source": [
    "## 0 Linie\n",
    "y=np.zeros(100)\n",
    "#print(y)\n",
    "x=np.linspace(0.0,0.012,100)\n",
    "#print(x)\n",
    "# Plot\n",
    "fig= plt.figure()\n",
    "ax=fig.add_subplot(111)\n",
    "\n",
    "ax.errorbar(F_zurück,zurück1,yerr=yerr_zurück,fmt='k.',label='Messpunkte')\n",
    "ax.plot(ff,reg(ff,a2,b2),label=r'Fit: $a=\\alpha \\cdot F_g+\\beta$')\n",
    "\n",
    "ax.plot(x,y,'b:',label='Null Linie')\n",
    "\n",
    "par1, = plt.plot([],[],' ')\n",
    "par2, = plt.plot([],[],' ')\n",
    "par3, = plt.plot([],[],' ')\n",
    "par4, = plt.plot([],[],' ')\n",
    "\n",
    "ax.set_xlabel(r'Schwerkraft $F_g$ [mN]')\n",
    "ax.set_ylabel(r'Auslenkung [mm]')\n",
    "\n",
    "plt.xticks(np.array([0.000,0.003,0.006,0.009,0.012]),['0.0','3','6','9','12'])\n",
    "plt.yticks(np.arange(-0.001,0.0092,step=0.0025),[-1,1.5,4,6.5,9])\n",
    "leg1=ax.legend(loc=2)\n",
    "\n",
    "leg2=ax.legend([par1,par2,par3,par4],\n",
    "               [r'$\\alpha=(81\\pm 1.5)10^{-2}$ s$^2$/kg',\n",
    "                r'$\\beta = -(8\\pm 9)10^{-5}$ m',\n",
    "               r'$\\chi_{\\nu}^{2}=0.45$',\n",
    "               r'$R^{2}=0.998$'],\n",
    "              loc=4)\n",
    "ax.add_artist(leg1)\n",
    "\n",
    "#plt.legend(loc=4)\n",
    "plt.show()\n",
    "#fig.savefig('M5_Rückweg.pdf',dpi=600)"
   ]
  },
  {
   "cell_type": "markdown",
   "id": "727214fb",
   "metadata": {},
   "source": [
    "# Berechnung der Federkonstante\n",
    "$$ a= \\frac{1}{k}\\\\k= \\frac{1}{a}$$"
   ]
  },
  {
   "cell_type": "code",
   "execution_count": 46,
   "id": "f6123212",
   "metadata": {},
   "outputs": [
    {
     "name": "stdout",
     "output_type": "stream",
     "text": [
      "1.28+/-0.04\n",
      "0.783+/-0.025\n"
     ]
    }
   ],
   "source": [
    "k_1_err=1/ufloat(a1,da1)\n",
    "print(k_1_err)\n",
    "print(ufloat(a1,da1))"
   ]
  },
  {
   "cell_type": "code",
   "execution_count": 47,
   "id": "877b48bf",
   "metadata": {},
   "outputs": [
    {
     "data": {
      "text/plain": [
       "np.float64(0.04111199835629531)"
      ]
     },
     "execution_count": 47,
     "metadata": {},
     "output_type": "execute_result"
    }
   ],
   "source": [
    "u_k1=np.sqrt(da1**2/a1**4)\n",
    "u_k1"
   ]
  },
  {
   "cell_type": "code",
   "execution_count": 48,
   "id": "a05e0708",
   "metadata": {},
   "outputs": [
    {
     "name": "stdout",
     "output_type": "stream",
     "text": [
      "1.235+/-0.023\n",
      "0.810+/-0.015\n"
     ]
    }
   ],
   "source": [
    "k_2_err=1/ufloat(a2,da2)\n",
    "print(k_2_err)\n",
    "print(ufloat(a2,da2))"
   ]
  },
  {
   "cell_type": "code",
   "execution_count": 49,
   "id": "9b006e04",
   "metadata": {},
   "outputs": [
    {
     "data": {
      "text/plain": [
       "np.float64(0.022578978398480425)"
      ]
     },
     "execution_count": 49,
     "metadata": {},
     "output_type": "execute_result"
    }
   ],
   "source": [
    "u_k2=np.sqrt(da2**2/a2**4)\n",
    "u_k2"
   ]
  },
  {
   "cell_type": "code",
   "execution_count": 50,
   "id": "dbfdc191",
   "metadata": {
    "scrolled": true
   },
   "outputs": [
    {
     "name": "stdout",
     "output_type": "stream",
     "text": [
      "0.046141087980237305\n",
      "1.256+/-0.023\n",
      "1.26+/-0.05\n"
     ]
    }
   ],
   "source": [
    "k_mean_err=np.array([k_1_err,k_2_err])\n",
    "u_k=np.sqrt(0.04**2+0.023**2)\n",
    "print(u_k)\n",
    "print(k_mean_err.mean())\n",
    "k_err=ufloat(1.26,0.05)\n",
    "print(k_err)"
   ]
  },
  {
   "cell_type": "markdown",
   "id": "b824538b",
   "metadata": {},
   "source": [
    "## Korrektur"
   ]
  },
  {
   "cell_type": "code",
   "execution_count": 51,
   "id": "5784bd18",
   "metadata": {},
   "outputs": [],
   "source": [
    "k_1_hin=1.120\n",
    "u_1_hin=0.028\n",
    "k_2_hin=1.136\n",
    "u_2_hin=0.011"
   ]
  },
  {
   "cell_type": "markdown",
   "id": "5214c61c",
   "metadata": {},
   "source": [
    "# Aufgabe 2\n"
   ]
  },
  {
   "cell_type": "code",
   "execution_count": 52,
   "id": "98852610",
   "metadata": {
    "scrolled": true
   },
   "outputs": [
    {
     "name": "stdout",
     "output_type": "stream",
     "text": [
      "[0.00555 0.00603 0.00522 0.00533 0.00495 0.00417]\n",
      "[0.00555+/-0.00018384776310850236\n",
      " 0.0060300000000000015+/-0.00018384776310850236\n",
      " 0.005220000000000001+/-0.00018384776310850236\n",
      " 0.005329999999999999+/-0.00018384776310850236\n",
      " 0.00495+/-0.00018384776310850236\n",
      " 0.004170000000000001+/-0.00018384776310850236]\n"
     ]
    }
   ],
   "source": [
    "delta_M=M2-M1\n",
    "del_M_err=M2_err-M1_err\n",
    "print(delta_M)\n",
    "print(del_M_err)"
   ]
  },
  {
   "cell_type": "markdown",
   "id": "2ae70f60",
   "metadata": {},
   "source": [
    "$$\\sigma= \\frac{F}{2l}\\\\ = \\frac{x k}{2 l}$$"
   ]
  },
  {
   "cell_type": "code",
   "execution_count": 53,
   "id": "add479ae",
   "metadata": {},
   "outputs": [],
   "source": [
    "def sigma(x,k,l):\n",
    "    s=x*k/(2*l)\n",
    "    s_m=s.mean()\n",
    "    return s_m"
   ]
  },
  {
   "cell_type": "code",
   "execution_count": 54,
   "id": "85c72d23",
   "metadata": {},
   "outputs": [
    {
     "name": "stdout",
     "output_type": "stream",
     "text": [
      "1.26+/-0.05\n",
      "0.0505+/-0.0005\n"
     ]
    }
   ],
   "source": [
    "#print(del_M_err)\n",
    "k=1.26\n",
    "print(k_err)\n",
    "print(l_err)"
   ]
  },
  {
   "cell_type": "code",
   "execution_count": 55,
   "id": "4445621f",
   "metadata": {},
   "outputs": [
    {
     "data": {
      "text/plain": [
       "np.float64(3.113213001623746)"
      ]
     },
     "execution_count": 55,
     "metadata": {},
     "output_type": "execute_result"
    }
   ],
   "source": [
    "u_x=0.13/1000\n",
    "u_k=0.05\n",
    "u_l=0.5/1000\n",
    "\n",
    "dM=delta_M.mean()\n",
    "u_sig=np.sqrt((k/(2*l))**2*u_x**2+u_k**2*dM**2/(4*l**2)+k**2*dM**2/(4*l**4)*u_l**2)\n",
    "u_sig/1e-3"
   ]
  },
  {
   "cell_type": "code",
   "execution_count": 56,
   "id": "ade8a482",
   "metadata": {
    "scrolled": true
   },
   "outputs": [
    {
     "name": "stdout",
     "output_type": "stream",
     "text": [
      "65.0+/-2.8\n"
     ]
    }
   ],
   "source": [
    "sig=sigma(del_M_err,k_err,l_err)    # kg/s^2\n",
    "print(sig/1e-3)"
   ]
  },
  {
   "cell_type": "markdown",
   "id": "6c365871",
   "metadata": {},
   "source": [
    "## Korrektur"
   ]
  },
  {
   "cell_type": "code",
   "execution_count": 57,
   "id": "504e7ac5",
   "metadata": {},
   "outputs": [
    {
     "name": "stdout",
     "output_type": "stream",
     "text": [
      "66.00660066006601\n"
     ]
    },
    {
     "data": {
      "text/plain": [
       "np.float64(2.719595069900761)"
      ]
     },
     "execution_count": 57,
     "metadata": {},
     "output_type": "execute_result"
    }
   ],
   "source": [
    "k=1.28\n",
    "u_k=0.04\n",
    "sig=sigma(delta_M,k,l).mean()\n",
    "print(sig/1e-3)\n",
    "u_sig=np.sqrt((k/(2*l))**2*u_x**2+u_k**2*dM**2/(4*l**2)+k**2*dM**2/(4*l**4)*u_l**2)\n",
    "u_sig/1e-3"
   ]
  },
  {
   "cell_type": "code",
   "execution_count": 58,
   "id": "3295953e",
   "metadata": {},
   "outputs": [
    {
     "name": "stdout",
     "output_type": "stream",
     "text": [
      "57.755775577557756\n"
     ]
    },
    {
     "data": {
      "text/plain": [
       "np.float64(2.1189611015206262)"
      ]
     },
     "execution_count": 58,
     "metadata": {},
     "output_type": "execute_result"
    }
   ],
   "source": [
    "sig_1=sigma(delta_M,k_1_hin,l).mean()\n",
    "print(sig_1/1e-3)\n",
    "u_sig=np.sqrt((k_1_hin/(2*l))**2*u_x**2+u_1_hin**2*dM**2/(4*l**2)+k_1_hin**2*dM**2/(4*l**4)*u_l**2)\n",
    "u_sig/1e-3"
   ]
  },
  {
   "cell_type": "code",
   "execution_count": 59,
   "id": "0114dfc2",
   "metadata": {},
   "outputs": [
    {
     "name": "stdout",
     "output_type": "stream",
     "text": [
      "58.580858085808565\n"
     ]
    },
    {
     "data": {
      "text/plain": [
       "np.float64(1.6721665605220764)"
      ]
     },
     "execution_count": 59,
     "metadata": {},
     "output_type": "execute_result"
    }
   ],
   "source": [
    "sig_2=sigma(delta_M,k_2_hin,l).mean()\n",
    "print(sig_2/1e-3)\n",
    "u_sig=np.sqrt((k_2_hin/(2*l))**2*u_x**2+u_2_hin**2*dM**2/(4*l**2)+k_2_hin**2*dM**2/(4*l**4)*u_l**2)\n",
    "u_sig/1e-3"
   ]
  },
  {
   "cell_type": "markdown",
   "id": "b55b9fe2",
   "metadata": {},
   "source": [
    "# Einschätzung: $ \\chi^2_{\\nu}$\n",
    "\n",
    "Der folgende Code wurde von einem Kommilitonen von mir geschrieben."
   ]
  },
  {
   "cell_type": "code",
   "execution_count": null,
   "id": "1cf57673",
   "metadata": {},
   "outputs": [
    {
     "data": {
      "image/png": "[encoded data removed]",
      "text/plain": [
       "<Figure size 640x480 with 1 Axes>"
      ]
     },
     "metadata": {},
     "output_type": "display_data"
    }
   ],
   "source": [
    "def Konfidenzintervall(Bereich,nü,Untergrenze,Obergrenze):\n",
    "    oben=[]\n",
    "    unten=[]\n",
    "    T=np.arange(0.0, Bereich, 0.1)\n",
    "    for n in range (1,nü):\n",
    "        lol=[]\n",
    "        ja=[]\n",
    "        for x in T:\n",
    "            chi=sp.stats.chi2.cdf(x, n)\n",
    "          #  print(n,x,chi)\n",
    "            if chi<Untergrenze:\n",
    "                lol.clear()\n",
    "                lol.append(x/n)\n",
    "            if chi>Obergrenze:\n",
    "                ja.append(x/n)\n",
    "#                print(x,n,ja,lol)\n",
    "\n",
    "                break\n",
    " #       print(x,n,ja,lol)\n",
    "        oben.append(ja[0])\n",
    "        unten.append(lol[0])\n",
    "    return oben, unten\n",
    "\n",
    "\n",
    "oberst=Konfidenzintervall(50,30,0.166,0.833)[0]\n",
    "unterst=Konfidenzintervall(50,30,0.166,0.833)[1]\n",
    "\n",
    "oberst2=Konfidenzintervall(50,30,0.026,0.976)[0]\n",
    "unterst2=Konfidenzintervall(50,30,0.026,0.976)[1]\n",
    "\n",
    "oberst3=Konfidenzintervall(80,30,0.001,0.999)[0]\n",
    "unterst3=Konfidenzintervall(80,30,0.001,0.999)[1]\n",
    "\n",
    "x=[0,1,2,3,4,5,6,7,8,9]\n",
    "for t in range(10,29):\n",
    "    x.append(t)\n",
    "oberst2_re=[]\n",
    "for t in range(1,len(oberst3)):\n",
    "    k=oberst2[t]\n",
    "    oberst2_re.append(k)\n",
    "\n",
    "x_ra=[]\n",
    "for t in range(1,len(x)):\n",
    "    x_ra.append(t)\n",
    "\n",
    "x_re=[]\n",
    "for t in range(4,len(x)):\n",
    "    x_re.append(t)\n",
    "oberst3_re=[]\n",
    "for t in range(4,len(oberst3)):\n",
    "    k=oberst3[t]\n",
    "    oberst3_re.append(k)\n",
    "\n",
    "\n",
    "fig=plt.figure()\n",
    "ax=fig.add_subplot(111)\n",
    "\n",
    "ax.plot(x,oberst,'k--',label=r\"68.7\\% Konfidenz\")\n",
    "ax.plot(x,unterst,'k--')\n",
    "ax.plot(x_ra,oberst2_re,'k-.',label=r\"95\\% Konfidenz\")\n",
    "ax.plot(x,unterst2,'k-.')\n",
    "ax.plot(x_re,oberst3_re,'k:',label=r\"99.8\\% Konfidenz\")\n",
    "ax.plot(x,unterst3,'k:')\n",
    "\n",
    "\n",
    "# chi^2\n",
    "chi_hin, = ax.plot([len(hin)-2],[chi_hin],'ro', markersize=12)   #hier immer den reduz. chi quadrat und nü angeben\n",
    "chi_zur, = ax.plot([len(zurück1)-2],[chi_zurück],'bo',\n",
    "             markersize=12,zorder=1)   #hier immer den reduz. chi quadrat und nü angeben\n",
    "chi_hin1, = ax.plot(len(hin)-2,(chi_hin1),'ro', markersize=12)   #hier immer den reduz. chi quadrat und nü angeben\n",
    "chi_zur1, = ax.plot(len(zurück1)-2,(chi_zurück1),'g.',\n",
    "             markersize=12,zorder=2)\n",
    "ax.hlines(1, 0, len(x), colors='black', linestyles='solid', label='Erwartet')\n",
    "\n",
    "#pyplot.plot(9,(19/9),color='lime', marker='o', linestyle='dashed',linewidth=2, markersize=12)\n",
    "# hier immer den reduz. chi quadrat und nü angeben\n",
    "ax.set_ylabel(r\" $\\chi^{2}_{\\nu}$\")\n",
    "ax.set_xlabel(r\" $\\nu$\")\n",
    "ax.set_xticks(np.arange(0,30.1,step=10))\n",
    "ax.set_yticks(np.arange(0,9.1,step=1.0))\n",
    "#plt.title(\"Konfidenzintervall vs Freiheitsgrade im reduzierten Chi Quadrat\")\n",
    "leg1=ax.legend(loc=1)\n",
    "\n",
    "leg2=ax.legend([chi_hin,chi_zur,chi_hin1,chi_zur1],\n",
    "               ['Messreihe: hin','Messreihe: zurück','Messreihe: hin1','Messreihe: zurück1'],\n",
    "              loc=6)\n",
    "ax.add_artist(leg1)\n",
    "plt.show()\n",
    "#fig.savefig('M5_Chi_Quadrat.pdf',dpi=600)"
   ]
  },
  {
   "cell_type": "code",
   "execution_count": null,
   "id": "40fed97b",
   "metadata": {},
   "outputs": [],
   "source": []
  }
 ],
 "metadata": {
  "kernelspec": {
   "display_name": "projects",
   "language": "python",
   "name": "python3"
  },
  "language_info": {
   "codemirror_mode": {
    "name": "ipython",
    "version": 3
   },
   "file_extension": ".py",
   "mimetype": "text/x-python",
   "name": "python",
   "nbconvert_exporter": "python",
   "pygments_lexer": "ipython3",
   "version": "3.12.8"
  }
 },
 "nbformat": 4,
 "nbformat_minor": 5
}
