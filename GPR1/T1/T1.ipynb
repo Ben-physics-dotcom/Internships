{
 "cells": [
  {
   "cell_type": "markdown",
   "id": "652e45fb",
   "metadata": {},
   "source": [
    "# Importe"
   ]
  },
  {
   "cell_type": "code",
   "execution_count": 1,
   "id": "909f43b5",
   "metadata": {},
   "outputs": [],
   "source": [
    "import matplotlib.pyplot as plt\n",
    "import numpy as np\n",
    "import pandas as pd\n",
    "from uncertainties import ufloat\n",
    "import scipy as sp\n",
    "from scipy.optimize import curve_fit\n",
    "import statsmodels.api as sm\n",
    "plt.rc('text',usetex=True)  "
   ]
  },
  {
   "cell_type": "markdown",
   "id": "7837d791",
   "metadata": {},
   "source": [
    "# Daten laden"
   ]
  },
  {
   "cell_type": "code",
   "execution_count": 2,
   "id": "ceef4bd6",
   "metadata": {
    "scrolled": false
   },
   "outputs": [
    {
     "name": "stdout",
     "output_type": "stream",
     "text": [
      "Zeit:\n",
      " [  0  60 120 180 240 300 310 320 330 340 350 360 370 380 390 400 410 420\n",
      " 430 440 450 460 470 480 490 500 510 520 530 540 550 560 570 580 590 600\n",
      " 660 720 780 840 900 960]\n",
      "\n",
      "\n",
      "Messreihe 1:\n",
      " [26.9 26.4 26.3 26.4 26.4 26.4 27.2 27.9 28.6 29.2 29.8 30.5 31.2 31.7\n",
      " 32.3 33.  33.7 34.2 34.9 35.5 36.2 36.6 37.3 38.  38.5 39.2 39.8 40.4\n",
      " 41.  41.6 42.1 42.8 43.3 44.  44.6 45.2 44.9 44.6 44.4 44.2 44.1 43.9]\n",
      "\n",
      "\n",
      "Messreihe 2:\n",
      " [26.9 27.  27.1 27.1 27.1 27.2 27.8 28.3 29.1 29.7 30.4 31.1 31.7 32.4\n",
      " 33.  33.6 34.2 34.8 35.4 36.1 36.8 37.4 38.  38.5 39.2 39.8 40.4 41.\n",
      " 41.6 42.2 42.8 43.5 44.  44.6 45.2 45.8 45.4 45.2 45.  44.8 44.7 44.5]\n",
      "\n",
      "\n",
      "Vorperiode Zeit: \n",
      "[  0  60 120 180 240 300]\n",
      "\n",
      "\n",
      "Hauptperiode Zeit: \n",
      "[300 310 320 330 340 350 360 370 380 390 400 410 420 430 440 450 460 470\n",
      " 480 490 500 510 520 530 540 550 560 570 580 590 600]\n",
      "\n",
      "\n",
      "Nachperiode Zeit: \n",
      "[660 720 780 840 900 960]\n",
      "\n",
      "\n",
      "Vorperiode Temperatur Messreihe 1: \n",
      "[26.9 26.4 26.3 26.4 26.4 26.4]\n",
      "\n",
      "\n",
      "Hauptperiode Temperatur Messreihe 1: \n",
      "[26.4 27.2 27.9 28.6 29.2 29.8 30.5 31.2 31.7 32.3 33.  33.7 34.2 34.9\n",
      " 35.5 36.2 36.6 37.3 38.  38.5 39.2 39.8 40.4 41.  41.6 42.1 42.8 43.3\n",
      " 44.  44.6 45.2]\n",
      "\n",
      "\n",
      "Nachperiode Temperatur Messreihe 1: \n",
      "[44.9 44.6 44.4 44.2 44.1 43.9]\n",
      "\n",
      "\n",
      "Vorperiode Temperatur Messreihe 2: \n",
      "[26.9 27.  27.1 27.1 27.1 27.2]\n",
      "\n",
      "\n",
      "Hauptperiode Temperatur Messreihe 2: \n",
      "[27.2 27.8 28.3 29.1 29.7 30.4 31.1 31.7 32.4 33.  33.6 34.2 34.8 35.4\n",
      " 36.1 36.8 37.4 38.  38.5 39.2 39.8 40.4 41.  41.6 42.2 42.8 43.5 44.\n",
      " 44.6 45.2 45.8]\n",
      "\n",
      "\n",
      "Nachperiode Temperatur Messreihe 2: \n",
      "[45.4 45.2 45.  44.8 44.7 44.5]\n",
      "\n",
      "\n"
     ]
    }
   ],
   "source": [
    "data=pd.read_csv('erster_teilversuch.txt','\\t')\n",
    "#print(f'Daten: \\n {data} \\n\\n')\n",
    "\n",
    "Time=data['Time'].values\n",
    "print(f'Zeit:\\n {Time}\\n\\n')\n",
    "\n",
    "M1=data['M1'].values\n",
    "print(f'Messreihe 1:\\n {M1}\\n\\n')\n",
    "\n",
    "M2=data['M2'].values\n",
    "print(f'Messreihe 2:\\n {M2}\\n\\n')\n",
    "\n",
    "vp_t=Time[:6]\n",
    "print(f'Vorperiode Zeit: \\n{vp_t}\\n\\n')\n",
    "\n",
    "hp_t=Time[5:36]\n",
    "print(f'Hauptperiode Zeit: \\n{hp_t}\\n\\n')\n",
    "\n",
    "np_t=Time[36:42]\n",
    "print(f'Nachperiode Zeit: \\n{np_t}\\n\\n')\n",
    "\n",
    "vp_T_1=M1[:6]\n",
    "print(f'Vorperiode Temperatur Messreihe 1: \\n{vp_T_1}\\n\\n')\n",
    "\n",
    "hp_T_1=M1[5:36]\n",
    "print(f'Hauptperiode Temperatur Messreihe 1: \\n{hp_T_1}\\n\\n')\n",
    "\n",
    "np_T_1=M1[36:42]\n",
    "print(f'Nachperiode Temperatur Messreihe 1: \\n{np_T_1}\\n\\n')\n",
    "\n",
    "vp_T_2=M2[:6]\n",
    "print(f'Vorperiode Temperatur Messreihe 2: \\n{vp_T_2}\\n\\n')\n",
    "\n",
    "hp_T_2=M2[5:36]\n",
    "print(f'Hauptperiode Temperatur Messreihe 2: \\n{hp_T_2}\\n\\n')\n",
    "\n",
    "np_T_2=M2[36:42]\n",
    "print(f'Nachperiode Temperatur Messreihe 2: \\n{np_T_2}\\n\\n')"
   ]
  },
  {
   "cell_type": "markdown",
   "id": "8e56e45a",
   "metadata": {},
   "source": [
    "Dichte von Wasser: 1000kg/m^3  \n",
    "Quelle: https://www.chemie.de/lexikon/Eigenschaften_des_Wassers.html, ist bereits in Citavi enthalten."
   ]
  },
  {
   "cell_type": "markdown",
   "id": "9cdb73b8",
   "metadata": {},
   "source": [
    "# Definitionen"
   ]
  },
  {
   "cell_type": "markdown",
   "id": "8acfb8e3",
   "metadata": {},
   "source": [
    "## Lineare Regression"
   ]
  },
  {
   "cell_type": "code",
   "execution_count": 3,
   "id": "f28dcc25",
   "metadata": {},
   "outputs": [],
   "source": [
    "def f(t,a,b):\n",
    "    k=a*t+b\n",
    "    return k"
   ]
  },
  {
   "cell_type": "markdown",
   "id": "b742f019",
   "metadata": {},
   "source": [
    "## elektrische Methode\n",
    "$$ U I \\Delta t=(m_w c_w+C_k)\\Delta T\\\\\n",
    "C_k=\\frac{U I \\Delta t}{\\Delta T}-m_w c_w$$"
   ]
  },
  {
   "cell_type": "code",
   "execution_count": 4,
   "id": "5df2268b",
   "metadata": {},
   "outputs": [],
   "source": [
    "def elekt_Meth_C_k(delta_t,Spannung,Strom,delta_T,Masse,spez_Wk):\n",
    "    C=((Spannung*Strom*delta_t)/delta_T)-(Masse*spez_Wk)\n",
    "    return C\n",
    "\n",
    "def elekt_Teil(U,I,delta_t,delta_T):\n",
    "    f=(U*I*delta_t)/delta_T\n",
    "    return f\n",
    "\n",
    "def massen_teil(m,sp_Wk):\n",
    "    f=m*sp_Wk\n",
    "    return f\n",
    "\n"
   ]
  },
  {
   "cell_type": "markdown",
   "id": "2bce48af",
   "metadata": {},
   "source": [
    "## Mischmethode\n",
    "$$(m_1 c_w+C_k)(T_w-T_1)=m_2 c_w(T_2-T_m)\\\\\n",
    "C_k=m_2 c_w\\frac{(T_2-T_m)}{(T_w-T_1)}-m_1 c_w$$"
   ]
  },
  {
   "cell_type": "code",
   "execution_count": 5,
   "id": "bf9b7db7",
   "metadata": {},
   "outputs": [],
   "source": [
    "def Misch_meth(masse_1,masse_2,sp_Wk,T_1,T_2,T_m):\n",
    "    C=masse_2*sp_Wk*(T_2-T_m)/(T_m-T_1)-masse_1*sp_Wk\n",
    "    return C"
   ]
  },
  {
   "cell_type": "markdown",
   "id": "47ae7ca8",
   "metadata": {},
   "source": [
    "## Temperaturdifferenz"
   ]
  },
  {
   "cell_type": "code",
   "execution_count": 6,
   "id": "ac445108",
   "metadata": {},
   "outputs": [],
   "source": [
    "def Del_T(ts,a_np,b_np,a_vp,b_vp):\n",
    "    T=f(ts,a_np,b_np)-f(ts,a_vp,b_vp)\n",
    "    return T"
   ]
  },
  {
   "cell_type": "markdown",
   "id": "151cbf45",
   "metadata": {},
   "source": [
    "# Fehler\n",
    "Zeit: $$ 0.01+5\\cdot 10^{-4}t$$"
   ]
  },
  {
   "cell_type": "code",
   "execution_count": 7,
   "id": "da766e94",
   "metadata": {},
   "outputs": [
    {
     "name": "stdout",
     "output_type": "stream",
     "text": [
      "[1.00005    1.00079968 1.00244701 1.00498756 1.0084146  1.01271911\n",
      " 1.01352109 1.01434708 1.01519703 1.01607086 1.01696853 1.01788997\n",
      " 1.01883512 1.0198039  1.02079626 1.02181212 1.02285141 1.02391406\n",
      " 1.025      1.02610916 1.02724145 1.02839681 1.02957516 1.03077641\n",
      " 1.03200048 1.03324731 1.0345168  1.03580886 1.03712343 1.0384604\n",
      " 1.0398197  1.04120123 1.04260491 1.04403065 1.04547836 1.04694795\n",
      " 1.05621967 1.06625513 1.07703296 1.08853112 1.10072703 1.11359777]\n"
     ]
    }
   ],
   "source": [
    "Time_err=np.zeros(len(M1))\n",
    "#print(Time)\n",
    "for i in range(len(Time)):\n",
    "    Time_err[i]=np.sqrt((0.01+5e-4*Time[i])**2+1)\n",
    "print(Time_err)\n",
    "\n",
    "Temp_err=np.zeros(len(M1))\n",
    "for i in range(len(Time)):\n",
    "    Temp_err[i]=0.2"
   ]
  },
  {
   "cell_type": "markdown",
   "id": "cf318ce7",
   "metadata": {},
   "source": [
    "# Plot zum Überlick"
   ]
  },
  {
   "cell_type": "code",
   "execution_count": 8,
   "id": "9f00cced",
   "metadata": {
    "scrolled": true
   },
   "outputs": [
    {
     "data": {
      "text/plain": [
       "<matplotlib.legend.Legend at 0x128b1890>"
      ]
     },
     "execution_count": 8,
     "metadata": {},
     "output_type": "execute_result"
    },
    {
     "data": {
      "image/png": "[encoded data removed]",
      "text/plain": [
       "<Figure size 432x288 with 1 Axes>"
      ]
     },
     "metadata": {
      "needs_background": "light"
     },
     "output_type": "display_data"
    }
   ],
   "source": [
    "plt.errorbar(Time,M1,yerr=Temp_err,fmt='.',color='r',capsize=4,label='Messreihe 1')\n",
    "plt.errorbar(Time,M2,yerr=Temp_err,fmt='.',color='k',capsize=4,label='Messreihe 2')\n",
    "plt.xlabel('Zeit [s]')\n",
    "plt.ylabel('Temperatur [Celsius]')\n",
    "plt.legend()"
   ]
  },
  {
   "cell_type": "markdown",
   "id": "fe557013",
   "metadata": {},
   "source": [
    "# Regression"
   ]
  },
  {
   "cell_type": "markdown",
   "id": "2eaa95c8",
   "metadata": {},
   "source": [
    "Regressionsgeraden:\n",
    "$$ f_{V,H,N}(t)=a_{V,H,N}\\cdot t+ b_{V,H,N}$$"
   ]
  },
  {
   "cell_type": "code",
   "execution_count": 54,
   "id": "e2e9a852",
   "metadata": {},
   "outputs": [],
   "source": [
    "def f(t,a,b):\n",
    "    k=a*t+b\n",
    "    return k\n",
    "\n",
    "def fd(t,a,b):\n",
    "    fd=1/(1+np.exp(-(a*t+b)))\n",
    "    return fd"
   ]
  },
  {
   "cell_type": "markdown",
   "id": "0d54ebf6",
   "metadata": {},
   "source": [
    "## Vorperiode M1"
   ]
  },
  {
   "cell_type": "code",
   "execution_count": 10,
   "id": "d5882455",
   "metadata": {},
   "outputs": [
    {
     "name": "stdout",
     "output_type": "stream",
     "text": [
      "Steigung: -0.0011+/-0.0008\n",
      "\n",
      "\n",
      "Achsenabschnitt: 26.64+/-0.14\n",
      "\n",
      "\n",
      "Steigung: -0.0011+/-0.0008\n",
      "\n",
      "\n",
      "Achsenabschnitt: 26.64+/-0.14\n",
      "\n",
      "\n"
     ]
    },
    {
     "data": {
      "text/plain": [
       "0.0022040302267002446"
      ]
     },
     "execution_count": 10,
     "metadata": {},
     "output_type": "execute_result"
    }
   ],
   "source": [
    "pop,cov=curve_fit(f,vp_t,vp_T_1)\n",
    "a_vp,b_vp=pop\n",
    "a_vp_err,b_vp_err=np.sqrt(np.diag(cov)); \n",
    "print(f'Steigung: {ufloat(a_vp,a_vp_err)}\\n\\n')\n",
    "print(f'Achsenabschnitt: {ufloat(b_vp,b_vp_err)}\\n\\n');a_vp_err=ufloat(a_vp,a_vp_err);b_vp_err=ufloat(b_vp,b_vp_err);\n",
    "print(f'Steigung: {a_vp_err}\\n\\n')\n",
    "print(f'Achsenabschnitt: {b_vp_err}\\n\\n')\n",
    "sp.stats.chisquare(vp_T_1)[0]/(len(vp_T_1)-2)"
   ]
  },
  {
   "cell_type": "markdown",
   "id": "6da4dc87",
   "metadata": {},
   "source": [
    "## Hauptperiode M1"
   ]
  },
  {
   "cell_type": "code",
   "execution_count": 11,
   "id": "bb6a2f55",
   "metadata": {},
   "outputs": [
    {
     "name": "stdout",
     "output_type": "stream",
     "text": [
      "Steigung: 0.06192+/-0.00022\n",
      "Achsenabschnitt: 8.16+/-0.10\n"
     ]
    },
    {
     "data": {
      "text/plain": [
       "0.9105152805526134"
      ]
     },
     "execution_count": 11,
     "metadata": {},
     "output_type": "execute_result"
    }
   ],
   "source": [
    "pop,cov=curve_fit(f,hp_t,hp_T_1)\n",
    "a_hp,b_hp=pop\n",
    "a_hp_err,b_hp_err=np.sqrt(np.diag(cov))\n",
    "print(f'Steigung: {ufloat(a_hp,a_hp_err)}')\n",
    "print(f'Achsenabschnitt: {ufloat(b_hp,b_hp_err)}');a_hp_err=ufloat(a_hp,a_hp_err);b_hp_err=ufloat(b_hp,b_hp_err);\n",
    "sp.stats.chisquare(hp_T_1)[0]/(len(hp_T_1)-2)"
   ]
  },
  {
   "cell_type": "markdown",
   "id": "e700eb67",
   "metadata": {},
   "source": [
    "## Nachperiode M1"
   ]
  },
  {
   "cell_type": "code",
   "execution_count": 12,
   "id": "f0b2d122",
   "metadata": {
    "scrolled": false
   },
   "outputs": [
    {
     "name": "stdout",
     "output_type": "stream",
     "text": [
      "Steigung: -0.00319+/-0.00023\n",
      "Achsenabschnitt: 46.93+/-0.19\n"
     ]
    },
    {
     "data": {
      "text/plain": [
       "0.0036922209695603083"
      ]
     },
     "execution_count": 12,
     "metadata": {},
     "output_type": "execute_result"
    }
   ],
   "source": [
    "pop,cov=curve_fit(f,np_t,np_T_1)\n",
    "a_np,b_np=pop\n",
    "a_np_err,b_np_err=np.sqrt(np.diag(cov))\n",
    "print(f'Steigung: {ufloat(a_np,a_np_err)}')\n",
    "print(f'Achsenabschnitt: {ufloat(b_np,b_np_err)}');a_np_err=ufloat(a_np,a_np_err);b_np_err=ufloat(b_np,b_np_err);\n",
    "sp.stats.chisquare(np_T_1)[0]/(len(np_T_1)-2)"
   ]
  },
  {
   "cell_type": "markdown",
   "id": "b4b42195",
   "metadata": {},
   "source": [
    "## Versuch"
   ]
  },
  {
   "cell_type": "code",
   "execution_count": 53,
   "id": "4246bcfd",
   "metadata": {},
   "outputs": [
    {
     "name": "stdout",
     "output_type": "stream",
     "text": [
      "Anstieg: 26.8+/-2.2\n"
     ]
    }
   ],
   "source": [
    "pop,cov=curve_fit(f,M1,Time)\n",
    "a_M1,b_M1=pop\n",
    "da_M1,db_M1=np.sqrt(np.diag(cov))\n",
    "print(f'Anstieg: {ufloat(a_M1,da_M1)}')"
   ]
  },
  {
   "cell_type": "code",
   "execution_count": 55,
   "id": "c8befcdf",
   "metadata": {},
   "outputs": [
    {
     "ename": "TimeoutError",
     "evalue": "Lock error: Matplotlib failed to acquire the following lock file:\n    C:\\Users\\Ben Fliegener\\.matplotlib\\tex.cache\\a8fbd9c6d789b85a0bbd2d1339832ad5.tex.matplotlib-lock\nThis maybe due to another process holding this lock file.  If you are sure no\nother Matplotlib process is running, remove this file and try again.",
     "output_type": "error",
     "traceback": [
      "\u001b[1;31m---------------------------------------------------------------------------\u001b[0m",
      "\u001b[1;31mTimeoutError\u001b[0m                              Traceback (most recent call last)",
      "\u001b[1;32m~\\Miniconda3\\lib\\site-packages\\IPython\\core\\formatters.py\u001b[0m in \u001b[0;36m__call__\u001b[1;34m(self, obj)\u001b[0m\n\u001b[0;32m    339\u001b[0m                 \u001b[1;32mpass\u001b[0m\u001b[1;33m\u001b[0m\u001b[1;33m\u001b[0m\u001b[0m\n\u001b[0;32m    340\u001b[0m             \u001b[1;32melse\u001b[0m\u001b[1;33m:\u001b[0m\u001b[1;33m\u001b[0m\u001b[1;33m\u001b[0m\u001b[0m\n\u001b[1;32m--> 341\u001b[1;33m                 \u001b[1;32mreturn\u001b[0m \u001b[0mprinter\u001b[0m\u001b[1;33m(\u001b[0m\u001b[0mobj\u001b[0m\u001b[1;33m)\u001b[0m\u001b[1;33m\u001b[0m\u001b[1;33m\u001b[0m\u001b[0m\n\u001b[0m\u001b[0;32m    342\u001b[0m             \u001b[1;31m# Finally look for special method names\u001b[0m\u001b[1;33m\u001b[0m\u001b[1;33m\u001b[0m\u001b[1;33m\u001b[0m\u001b[0m\n\u001b[0;32m    343\u001b[0m             \u001b[0mmethod\u001b[0m \u001b[1;33m=\u001b[0m \u001b[0mget_real_method\u001b[0m\u001b[1;33m(\u001b[0m\u001b[0mobj\u001b[0m\u001b[1;33m,\u001b[0m \u001b[0mself\u001b[0m\u001b[1;33m.\u001b[0m\u001b[0mprint_method\u001b[0m\u001b[1;33m)\u001b[0m\u001b[1;33m\u001b[0m\u001b[1;33m\u001b[0m\u001b[0m\n",
      "\u001b[1;32m~\\Miniconda3\\lib\\site-packages\\IPython\\core\\pylabtools.py\u001b[0m in \u001b[0;36m<lambda>\u001b[1;34m(fig)\u001b[0m\n\u001b[0;32m    246\u001b[0m \u001b[1;33m\u001b[0m\u001b[0m\n\u001b[0;32m    247\u001b[0m     \u001b[1;32mif\u001b[0m \u001b[1;34m'png'\u001b[0m \u001b[1;32min\u001b[0m \u001b[0mformats\u001b[0m\u001b[1;33m:\u001b[0m\u001b[1;33m\u001b[0m\u001b[1;33m\u001b[0m\u001b[0m\n\u001b[1;32m--> 248\u001b[1;33m         \u001b[0mpng_formatter\u001b[0m\u001b[1;33m.\u001b[0m\u001b[0mfor_type\u001b[0m\u001b[1;33m(\u001b[0m\u001b[0mFigure\u001b[0m\u001b[1;33m,\u001b[0m \u001b[1;32mlambda\u001b[0m \u001b[0mfig\u001b[0m\u001b[1;33m:\u001b[0m \u001b[0mprint_figure\u001b[0m\u001b[1;33m(\u001b[0m\u001b[0mfig\u001b[0m\u001b[1;33m,\u001b[0m \u001b[1;34m'png'\u001b[0m\u001b[1;33m,\u001b[0m \u001b[1;33m**\u001b[0m\u001b[0mkwargs\u001b[0m\u001b[1;33m)\u001b[0m\u001b[1;33m)\u001b[0m\u001b[1;33m\u001b[0m\u001b[1;33m\u001b[0m\u001b[0m\n\u001b[0m\u001b[0;32m    249\u001b[0m     \u001b[1;32mif\u001b[0m \u001b[1;34m'retina'\u001b[0m \u001b[1;32min\u001b[0m \u001b[0mformats\u001b[0m \u001b[1;32mor\u001b[0m \u001b[1;34m'png2x'\u001b[0m \u001b[1;32min\u001b[0m \u001b[0mformats\u001b[0m\u001b[1;33m:\u001b[0m\u001b[1;33m\u001b[0m\u001b[1;33m\u001b[0m\u001b[0m\n\u001b[0;32m    250\u001b[0m         \u001b[0mpng_formatter\u001b[0m\u001b[1;33m.\u001b[0m\u001b[0mfor_type\u001b[0m\u001b[1;33m(\u001b[0m\u001b[0mFigure\u001b[0m\u001b[1;33m,\u001b[0m \u001b[1;32mlambda\u001b[0m \u001b[0mfig\u001b[0m\u001b[1;33m:\u001b[0m \u001b[0mretina_figure\u001b[0m\u001b[1;33m(\u001b[0m\u001b[0mfig\u001b[0m\u001b[1;33m,\u001b[0m \u001b[1;33m**\u001b[0m\u001b[0mkwargs\u001b[0m\u001b[1;33m)\u001b[0m\u001b[1;33m)\u001b[0m\u001b[1;33m\u001b[0m\u001b[1;33m\u001b[0m\u001b[0m\n",
      "\u001b[1;32m~\\Miniconda3\\lib\\site-packages\\IPython\\core\\pylabtools.py\u001b[0m in \u001b[0;36mprint_figure\u001b[1;34m(fig, fmt, bbox_inches, **kwargs)\u001b[0m\n\u001b[0;32m    130\u001b[0m         \u001b[0mFigureCanvasBase\u001b[0m\u001b[1;33m(\u001b[0m\u001b[0mfig\u001b[0m\u001b[1;33m)\u001b[0m\u001b[1;33m\u001b[0m\u001b[1;33m\u001b[0m\u001b[0m\n\u001b[0;32m    131\u001b[0m \u001b[1;33m\u001b[0m\u001b[0m\n\u001b[1;32m--> 132\u001b[1;33m     \u001b[0mfig\u001b[0m\u001b[1;33m.\u001b[0m\u001b[0mcanvas\u001b[0m\u001b[1;33m.\u001b[0m\u001b[0mprint_figure\u001b[0m\u001b[1;33m(\u001b[0m\u001b[0mbytes_io\u001b[0m\u001b[1;33m,\u001b[0m \u001b[1;33m**\u001b[0m\u001b[0mkw\u001b[0m\u001b[1;33m)\u001b[0m\u001b[1;33m\u001b[0m\u001b[1;33m\u001b[0m\u001b[0m\n\u001b[0m\u001b[0;32m    133\u001b[0m     \u001b[0mdata\u001b[0m \u001b[1;33m=\u001b[0m \u001b[0mbytes_io\u001b[0m\u001b[1;33m.\u001b[0m\u001b[0mgetvalue\u001b[0m\u001b[1;33m(\u001b[0m\u001b[1;33m)\u001b[0m\u001b[1;33m\u001b[0m\u001b[1;33m\u001b[0m\u001b[0m\n\u001b[0;32m    134\u001b[0m     \u001b[1;32mif\u001b[0m \u001b[0mfmt\u001b[0m \u001b[1;33m==\u001b[0m \u001b[1;34m'svg'\u001b[0m\u001b[1;33m:\u001b[0m\u001b[1;33m\u001b[0m\u001b[1;33m\u001b[0m\u001b[0m\n",
      "\u001b[1;32m~\\Miniconda3\\lib\\site-packages\\matplotlib\\backend_bases.py\u001b[0m in \u001b[0;36mprint_figure\u001b[1;34m(self, filename, dpi, facecolor, edgecolor, orientation, format, bbox_inches, pad_inches, bbox_extra_artists, backend, **kwargs)\u001b[0m\n\u001b[0;32m   2191\u001b[0m                            else suppress())\n\u001b[0;32m   2192\u001b[0m                     \u001b[1;32mwith\u001b[0m \u001b[0mctx\u001b[0m\u001b[1;33m:\u001b[0m\u001b[1;33m\u001b[0m\u001b[1;33m\u001b[0m\u001b[0m\n\u001b[1;32m-> 2193\u001b[1;33m                         \u001b[0mself\u001b[0m\u001b[1;33m.\u001b[0m\u001b[0mfigure\u001b[0m\u001b[1;33m.\u001b[0m\u001b[0mdraw\u001b[0m\u001b[1;33m(\u001b[0m\u001b[0mrenderer\u001b[0m\u001b[1;33m)\u001b[0m\u001b[1;33m\u001b[0m\u001b[1;33m\u001b[0m\u001b[0m\n\u001b[0m\u001b[0;32m   2194\u001b[0m \u001b[1;33m\u001b[0m\u001b[0m\n\u001b[0;32m   2195\u001b[0m                     bbox_inches = self.figure.get_tightbbox(\n",
      "\u001b[1;32m~\\Miniconda3\\lib\\site-packages\\matplotlib\\artist.py\u001b[0m in \u001b[0;36mdraw_wrapper\u001b[1;34m(artist, renderer, *args, **kwargs)\u001b[0m\n\u001b[0;32m     39\u001b[0m                 \u001b[0mrenderer\u001b[0m\u001b[1;33m.\u001b[0m\u001b[0mstart_filter\u001b[0m\u001b[1;33m(\u001b[0m\u001b[1;33m)\u001b[0m\u001b[1;33m\u001b[0m\u001b[1;33m\u001b[0m\u001b[0m\n\u001b[0;32m     40\u001b[0m \u001b[1;33m\u001b[0m\u001b[0m\n\u001b[1;32m---> 41\u001b[1;33m             \u001b[1;32mreturn\u001b[0m \u001b[0mdraw\u001b[0m\u001b[1;33m(\u001b[0m\u001b[0martist\u001b[0m\u001b[1;33m,\u001b[0m \u001b[0mrenderer\u001b[0m\u001b[1;33m,\u001b[0m \u001b[1;33m*\u001b[0m\u001b[0margs\u001b[0m\u001b[1;33m,\u001b[0m \u001b[1;33m**\u001b[0m\u001b[0mkwargs\u001b[0m\u001b[1;33m)\u001b[0m\u001b[1;33m\u001b[0m\u001b[1;33m\u001b[0m\u001b[0m\n\u001b[0m\u001b[0;32m     42\u001b[0m         \u001b[1;32mfinally\u001b[0m\u001b[1;33m:\u001b[0m\u001b[1;33m\u001b[0m\u001b[1;33m\u001b[0m\u001b[0m\n\u001b[0;32m     43\u001b[0m             \u001b[1;32mif\u001b[0m \u001b[0martist\u001b[0m\u001b[1;33m.\u001b[0m\u001b[0mget_agg_filter\u001b[0m\u001b[1;33m(\u001b[0m\u001b[1;33m)\u001b[0m \u001b[1;32mis\u001b[0m \u001b[1;32mnot\u001b[0m \u001b[1;32mNone\u001b[0m\u001b[1;33m:\u001b[0m\u001b[1;33m\u001b[0m\u001b[1;33m\u001b[0m\u001b[0m\n",
      "\u001b[1;32m~\\Miniconda3\\lib\\site-packages\\matplotlib\\figure.py\u001b[0m in \u001b[0;36mdraw\u001b[1;34m(self, renderer)\u001b[0m\n\u001b[0;32m   1862\u001b[0m             \u001b[0mself\u001b[0m\u001b[1;33m.\u001b[0m\u001b[0mpatch\u001b[0m\u001b[1;33m.\u001b[0m\u001b[0mdraw\u001b[0m\u001b[1;33m(\u001b[0m\u001b[0mrenderer\u001b[0m\u001b[1;33m)\u001b[0m\u001b[1;33m\u001b[0m\u001b[1;33m\u001b[0m\u001b[0m\n\u001b[0;32m   1863\u001b[0m             mimage._draw_list_compositing_images(\n\u001b[1;32m-> 1864\u001b[1;33m                 renderer, self, artists, self.suppressComposite)\n\u001b[0m\u001b[0;32m   1865\u001b[0m \u001b[1;33m\u001b[0m\u001b[0m\n\u001b[0;32m   1866\u001b[0m             \u001b[0mrenderer\u001b[0m\u001b[1;33m.\u001b[0m\u001b[0mclose_group\u001b[0m\u001b[1;33m(\u001b[0m\u001b[1;34m'figure'\u001b[0m\u001b[1;33m)\u001b[0m\u001b[1;33m\u001b[0m\u001b[1;33m\u001b[0m\u001b[0m\n",
      "\u001b[1;32m~\\Miniconda3\\lib\\site-packages\\matplotlib\\image.py\u001b[0m in \u001b[0;36m_draw_list_compositing_images\u001b[1;34m(renderer, parent, artists, suppress_composite)\u001b[0m\n\u001b[0;32m    129\u001b[0m     \u001b[1;32mif\u001b[0m \u001b[0mnot_composite\u001b[0m \u001b[1;32mor\u001b[0m \u001b[1;32mnot\u001b[0m \u001b[0mhas_images\u001b[0m\u001b[1;33m:\u001b[0m\u001b[1;33m\u001b[0m\u001b[1;33m\u001b[0m\u001b[0m\n\u001b[0;32m    130\u001b[0m         \u001b[1;32mfor\u001b[0m \u001b[0ma\u001b[0m \u001b[1;32min\u001b[0m \u001b[0martists\u001b[0m\u001b[1;33m:\u001b[0m\u001b[1;33m\u001b[0m\u001b[1;33m\u001b[0m\u001b[0m\n\u001b[1;32m--> 131\u001b[1;33m             \u001b[0ma\u001b[0m\u001b[1;33m.\u001b[0m\u001b[0mdraw\u001b[0m\u001b[1;33m(\u001b[0m\u001b[0mrenderer\u001b[0m\u001b[1;33m)\u001b[0m\u001b[1;33m\u001b[0m\u001b[1;33m\u001b[0m\u001b[0m\n\u001b[0m\u001b[0;32m    132\u001b[0m     \u001b[1;32melse\u001b[0m\u001b[1;33m:\u001b[0m\u001b[1;33m\u001b[0m\u001b[1;33m\u001b[0m\u001b[0m\n\u001b[0;32m    133\u001b[0m         \u001b[1;31m# Composite any adjacent images together\u001b[0m\u001b[1;33m\u001b[0m\u001b[1;33m\u001b[0m\u001b[1;33m\u001b[0m\u001b[0m\n",
      "\u001b[1;32m~\\Miniconda3\\lib\\site-packages\\matplotlib\\artist.py\u001b[0m in \u001b[0;36mdraw_wrapper\u001b[1;34m(artist, renderer, *args, **kwargs)\u001b[0m\n\u001b[0;32m     39\u001b[0m                 \u001b[0mrenderer\u001b[0m\u001b[1;33m.\u001b[0m\u001b[0mstart_filter\u001b[0m\u001b[1;33m(\u001b[0m\u001b[1;33m)\u001b[0m\u001b[1;33m\u001b[0m\u001b[1;33m\u001b[0m\u001b[0m\n\u001b[0;32m     40\u001b[0m \u001b[1;33m\u001b[0m\u001b[0m\n\u001b[1;32m---> 41\u001b[1;33m             \u001b[1;32mreturn\u001b[0m \u001b[0mdraw\u001b[0m\u001b[1;33m(\u001b[0m\u001b[0martist\u001b[0m\u001b[1;33m,\u001b[0m \u001b[0mrenderer\u001b[0m\u001b[1;33m,\u001b[0m \u001b[1;33m*\u001b[0m\u001b[0margs\u001b[0m\u001b[1;33m,\u001b[0m \u001b[1;33m**\u001b[0m\u001b[0mkwargs\u001b[0m\u001b[1;33m)\u001b[0m\u001b[1;33m\u001b[0m\u001b[1;33m\u001b[0m\u001b[0m\n\u001b[0m\u001b[0;32m     42\u001b[0m         \u001b[1;32mfinally\u001b[0m\u001b[1;33m:\u001b[0m\u001b[1;33m\u001b[0m\u001b[1;33m\u001b[0m\u001b[0m\n\u001b[0;32m     43\u001b[0m             \u001b[1;32mif\u001b[0m \u001b[0martist\u001b[0m\u001b[1;33m.\u001b[0m\u001b[0mget_agg_filter\u001b[0m\u001b[1;33m(\u001b[0m\u001b[1;33m)\u001b[0m \u001b[1;32mis\u001b[0m \u001b[1;32mnot\u001b[0m \u001b[1;32mNone\u001b[0m\u001b[1;33m:\u001b[0m\u001b[1;33m\u001b[0m\u001b[1;33m\u001b[0m\u001b[0m\n",
      "\u001b[1;32m~\\Miniconda3\\lib\\site-packages\\matplotlib\\cbook\\deprecation.py\u001b[0m in \u001b[0;36mwrapper\u001b[1;34m(*inner_args, **inner_kwargs)\u001b[0m\n\u001b[0;32m    409\u001b[0m                          \u001b[1;32melse\u001b[0m \u001b[0mdeprecation_addendum\u001b[0m\u001b[1;33m,\u001b[0m\u001b[1;33m\u001b[0m\u001b[1;33m\u001b[0m\u001b[0m\n\u001b[0;32m    410\u001b[0m                 **kwargs)\n\u001b[1;32m--> 411\u001b[1;33m         \u001b[1;32mreturn\u001b[0m \u001b[0mfunc\u001b[0m\u001b[1;33m(\u001b[0m\u001b[1;33m*\u001b[0m\u001b[0minner_args\u001b[0m\u001b[1;33m,\u001b[0m \u001b[1;33m**\u001b[0m\u001b[0minner_kwargs\u001b[0m\u001b[1;33m)\u001b[0m\u001b[1;33m\u001b[0m\u001b[1;33m\u001b[0m\u001b[0m\n\u001b[0m\u001b[0;32m    412\u001b[0m \u001b[1;33m\u001b[0m\u001b[0m\n\u001b[0;32m    413\u001b[0m     \u001b[1;32mreturn\u001b[0m \u001b[0mwrapper\u001b[0m\u001b[1;33m\u001b[0m\u001b[1;33m\u001b[0m\u001b[0m\n",
      "\u001b[1;32m~\\Miniconda3\\lib\\site-packages\\matplotlib\\axes\\_base.py\u001b[0m in \u001b[0;36mdraw\u001b[1;34m(self, renderer, inframe)\u001b[0m\n\u001b[0;32m   2745\u001b[0m             \u001b[0mrenderer\u001b[0m\u001b[1;33m.\u001b[0m\u001b[0mstop_rasterizing\u001b[0m\u001b[1;33m(\u001b[0m\u001b[1;33m)\u001b[0m\u001b[1;33m\u001b[0m\u001b[1;33m\u001b[0m\u001b[0m\n\u001b[0;32m   2746\u001b[0m \u001b[1;33m\u001b[0m\u001b[0m\n\u001b[1;32m-> 2747\u001b[1;33m         \u001b[0mmimage\u001b[0m\u001b[1;33m.\u001b[0m\u001b[0m_draw_list_compositing_images\u001b[0m\u001b[1;33m(\u001b[0m\u001b[0mrenderer\u001b[0m\u001b[1;33m,\u001b[0m \u001b[0mself\u001b[0m\u001b[1;33m,\u001b[0m \u001b[0martists\u001b[0m\u001b[1;33m)\u001b[0m\u001b[1;33m\u001b[0m\u001b[1;33m\u001b[0m\u001b[0m\n\u001b[0m\u001b[0;32m   2748\u001b[0m \u001b[1;33m\u001b[0m\u001b[0m\n\u001b[0;32m   2749\u001b[0m         \u001b[0mrenderer\u001b[0m\u001b[1;33m.\u001b[0m\u001b[0mclose_group\u001b[0m\u001b[1;33m(\u001b[0m\u001b[1;34m'axes'\u001b[0m\u001b[1;33m)\u001b[0m\u001b[1;33m\u001b[0m\u001b[1;33m\u001b[0m\u001b[0m\n",
      "\u001b[1;32m~\\Miniconda3\\lib\\site-packages\\matplotlib\\image.py\u001b[0m in \u001b[0;36m_draw_list_compositing_images\u001b[1;34m(renderer, parent, artists, suppress_composite)\u001b[0m\n\u001b[0;32m    129\u001b[0m     \u001b[1;32mif\u001b[0m \u001b[0mnot_composite\u001b[0m \u001b[1;32mor\u001b[0m \u001b[1;32mnot\u001b[0m \u001b[0mhas_images\u001b[0m\u001b[1;33m:\u001b[0m\u001b[1;33m\u001b[0m\u001b[1;33m\u001b[0m\u001b[0m\n\u001b[0;32m    130\u001b[0m         \u001b[1;32mfor\u001b[0m \u001b[0ma\u001b[0m \u001b[1;32min\u001b[0m \u001b[0martists\u001b[0m\u001b[1;33m:\u001b[0m\u001b[1;33m\u001b[0m\u001b[1;33m\u001b[0m\u001b[0m\n\u001b[1;32m--> 131\u001b[1;33m             \u001b[0ma\u001b[0m\u001b[1;33m.\u001b[0m\u001b[0mdraw\u001b[0m\u001b[1;33m(\u001b[0m\u001b[0mrenderer\u001b[0m\u001b[1;33m)\u001b[0m\u001b[1;33m\u001b[0m\u001b[1;33m\u001b[0m\u001b[0m\n\u001b[0m\u001b[0;32m    132\u001b[0m     \u001b[1;32melse\u001b[0m\u001b[1;33m:\u001b[0m\u001b[1;33m\u001b[0m\u001b[1;33m\u001b[0m\u001b[0m\n\u001b[0;32m    133\u001b[0m         \u001b[1;31m# Composite any adjacent images together\u001b[0m\u001b[1;33m\u001b[0m\u001b[1;33m\u001b[0m\u001b[1;33m\u001b[0m\u001b[0m\n",
      "\u001b[1;32m~\\Miniconda3\\lib\\site-packages\\matplotlib\\artist.py\u001b[0m in \u001b[0;36mdraw_wrapper\u001b[1;34m(artist, renderer, *args, **kwargs)\u001b[0m\n\u001b[0;32m     39\u001b[0m                 \u001b[0mrenderer\u001b[0m\u001b[1;33m.\u001b[0m\u001b[0mstart_filter\u001b[0m\u001b[1;33m(\u001b[0m\u001b[1;33m)\u001b[0m\u001b[1;33m\u001b[0m\u001b[1;33m\u001b[0m\u001b[0m\n\u001b[0;32m     40\u001b[0m \u001b[1;33m\u001b[0m\u001b[0m\n\u001b[1;32m---> 41\u001b[1;33m             \u001b[1;32mreturn\u001b[0m \u001b[0mdraw\u001b[0m\u001b[1;33m(\u001b[0m\u001b[0martist\u001b[0m\u001b[1;33m,\u001b[0m \u001b[0mrenderer\u001b[0m\u001b[1;33m,\u001b[0m \u001b[1;33m*\u001b[0m\u001b[0margs\u001b[0m\u001b[1;33m,\u001b[0m \u001b[1;33m**\u001b[0m\u001b[0mkwargs\u001b[0m\u001b[1;33m)\u001b[0m\u001b[1;33m\u001b[0m\u001b[1;33m\u001b[0m\u001b[0m\n\u001b[0m\u001b[0;32m     42\u001b[0m         \u001b[1;32mfinally\u001b[0m\u001b[1;33m:\u001b[0m\u001b[1;33m\u001b[0m\u001b[1;33m\u001b[0m\u001b[0m\n\u001b[0;32m     43\u001b[0m             \u001b[1;32mif\u001b[0m \u001b[0martist\u001b[0m\u001b[1;33m.\u001b[0m\u001b[0mget_agg_filter\u001b[0m\u001b[1;33m(\u001b[0m\u001b[1;33m)\u001b[0m \u001b[1;32mis\u001b[0m \u001b[1;32mnot\u001b[0m \u001b[1;32mNone\u001b[0m\u001b[1;33m:\u001b[0m\u001b[1;33m\u001b[0m\u001b[1;33m\u001b[0m\u001b[0m\n",
      "\u001b[1;32m~\\Miniconda3\\lib\\site-packages\\matplotlib\\axis.py\u001b[0m in \u001b[0;36mdraw\u001b[1;34m(self, renderer, *args, **kwargs)\u001b[0m\n\u001b[0;32m   1164\u001b[0m         \u001b[0mticks_to_draw\u001b[0m \u001b[1;33m=\u001b[0m \u001b[0mself\u001b[0m\u001b[1;33m.\u001b[0m\u001b[0m_update_ticks\u001b[0m\u001b[1;33m(\u001b[0m\u001b[1;33m)\u001b[0m\u001b[1;33m\u001b[0m\u001b[1;33m\u001b[0m\u001b[0m\n\u001b[0;32m   1165\u001b[0m         ticklabelBoxes, ticklabelBoxes2 = self._get_tick_bboxes(ticks_to_draw,\n\u001b[1;32m-> 1166\u001b[1;33m                                                                 renderer)\n\u001b[0m\u001b[0;32m   1167\u001b[0m \u001b[1;33m\u001b[0m\u001b[0m\n\u001b[0;32m   1168\u001b[0m         \u001b[1;32mfor\u001b[0m \u001b[0mtick\u001b[0m \u001b[1;32min\u001b[0m \u001b[0mticks_to_draw\u001b[0m\u001b[1;33m:\u001b[0m\u001b[1;33m\u001b[0m\u001b[1;33m\u001b[0m\u001b[0m\n",
      "\u001b[1;32m~\\Miniconda3\\lib\\site-packages\\matplotlib\\axis.py\u001b[0m in \u001b[0;36m_get_tick_bboxes\u001b[1;34m(self, ticks, renderer)\u001b[0m\n\u001b[0;32m   1090\u001b[0m         \u001b[1;34m\"\"\"Return lists of bboxes for ticks' label1's and label2's.\"\"\"\u001b[0m\u001b[1;33m\u001b[0m\u001b[1;33m\u001b[0m\u001b[0m\n\u001b[0;32m   1091\u001b[0m         return ([tick.label1.get_window_extent(renderer)\n\u001b[1;32m-> 1092\u001b[1;33m                  for tick in ticks if tick.label1.get_visible()],\n\u001b[0m\u001b[0;32m   1093\u001b[0m                 [tick.label2.get_window_extent(renderer)\n\u001b[0;32m   1094\u001b[0m                  for tick in ticks if tick.label2.get_visible()])\n",
      "\u001b[1;32m~\\Miniconda3\\lib\\site-packages\\matplotlib\\axis.py\u001b[0m in \u001b[0;36m<listcomp>\u001b[1;34m(.0)\u001b[0m\n\u001b[0;32m   1090\u001b[0m         \u001b[1;34m\"\"\"Return lists of bboxes for ticks' label1's and label2's.\"\"\"\u001b[0m\u001b[1;33m\u001b[0m\u001b[1;33m\u001b[0m\u001b[0m\n\u001b[0;32m   1091\u001b[0m         return ([tick.label1.get_window_extent(renderer)\n\u001b[1;32m-> 1092\u001b[1;33m                  for tick in ticks if tick.label1.get_visible()],\n\u001b[0m\u001b[0;32m   1093\u001b[0m                 [tick.label2.get_window_extent(renderer)\n\u001b[0;32m   1094\u001b[0m                  for tick in ticks if tick.label2.get_visible()])\n",
      "\u001b[1;32m~\\Miniconda3\\lib\\site-packages\\matplotlib\\text.py\u001b[0m in \u001b[0;36mget_window_extent\u001b[1;34m(self, renderer, dpi)\u001b[0m\n\u001b[0;32m    900\u001b[0m \u001b[1;33m\u001b[0m\u001b[0m\n\u001b[0;32m    901\u001b[0m         \u001b[1;32mwith\u001b[0m \u001b[0mcbook\u001b[0m\u001b[1;33m.\u001b[0m\u001b[0m_setattr_cm\u001b[0m\u001b[1;33m(\u001b[0m\u001b[0mself\u001b[0m\u001b[1;33m.\u001b[0m\u001b[0mfigure\u001b[0m\u001b[1;33m,\u001b[0m \u001b[0mdpi\u001b[0m\u001b[1;33m=\u001b[0m\u001b[0mdpi\u001b[0m\u001b[1;33m)\u001b[0m\u001b[1;33m:\u001b[0m\u001b[1;33m\u001b[0m\u001b[1;33m\u001b[0m\u001b[0m\n\u001b[1;32m--> 902\u001b[1;33m             \u001b[0mbbox\u001b[0m\u001b[1;33m,\u001b[0m \u001b[0minfo\u001b[0m\u001b[1;33m,\u001b[0m \u001b[0mdescent\u001b[0m \u001b[1;33m=\u001b[0m \u001b[0mself\u001b[0m\u001b[1;33m.\u001b[0m\u001b[0m_get_layout\u001b[0m\u001b[1;33m(\u001b[0m\u001b[0mself\u001b[0m\u001b[1;33m.\u001b[0m\u001b[0m_renderer\u001b[0m\u001b[1;33m)\u001b[0m\u001b[1;33m\u001b[0m\u001b[1;33m\u001b[0m\u001b[0m\n\u001b[0m\u001b[0;32m    903\u001b[0m             \u001b[0mx\u001b[0m\u001b[1;33m,\u001b[0m \u001b[0my\u001b[0m \u001b[1;33m=\u001b[0m \u001b[0mself\u001b[0m\u001b[1;33m.\u001b[0m\u001b[0mget_unitless_position\u001b[0m\u001b[1;33m(\u001b[0m\u001b[1;33m)\u001b[0m\u001b[1;33m\u001b[0m\u001b[1;33m\u001b[0m\u001b[0m\n\u001b[0;32m    904\u001b[0m             \u001b[0mx\u001b[0m\u001b[1;33m,\u001b[0m \u001b[0my\u001b[0m \u001b[1;33m=\u001b[0m \u001b[0mself\u001b[0m\u001b[1;33m.\u001b[0m\u001b[0mget_transform\u001b[0m\u001b[1;33m(\u001b[0m\u001b[1;33m)\u001b[0m\u001b[1;33m.\u001b[0m\u001b[0mtransform\u001b[0m\u001b[1;33m(\u001b[0m\u001b[1;33m(\u001b[0m\u001b[0mx\u001b[0m\u001b[1;33m,\u001b[0m \u001b[0my\u001b[0m\u001b[1;33m)\u001b[0m\u001b[1;33m)\u001b[0m\u001b[1;33m\u001b[0m\u001b[1;33m\u001b[0m\u001b[0m\n",
      "\u001b[1;32m~\\Miniconda3\\lib\\site-packages\\matplotlib\\text.py\u001b[0m in \u001b[0;36m_get_layout\u001b[1;34m(self, renderer)\u001b[0m\n\u001b[0;32m    294\u001b[0m             \u001b[1;32mif\u001b[0m \u001b[0mclean_line\u001b[0m\u001b[1;33m:\u001b[0m\u001b[1;33m\u001b[0m\u001b[1;33m\u001b[0m\u001b[0m\n\u001b[0;32m    295\u001b[0m                 w, h, d = renderer.get_text_width_height_descent(\n\u001b[1;32m--> 296\u001b[1;33m                     clean_line, self._fontproperties, ismath=ismath)\n\u001b[0m\u001b[0;32m    297\u001b[0m             \u001b[1;32melse\u001b[0m\u001b[1;33m:\u001b[0m\u001b[1;33m\u001b[0m\u001b[1;33m\u001b[0m\u001b[0m\n\u001b[0;32m    298\u001b[0m                 \u001b[0mw\u001b[0m \u001b[1;33m=\u001b[0m \u001b[0mh\u001b[0m \u001b[1;33m=\u001b[0m \u001b[0md\u001b[0m \u001b[1;33m=\u001b[0m \u001b[1;36m0\u001b[0m\u001b[1;33m\u001b[0m\u001b[1;33m\u001b[0m\u001b[0m\n",
      "\u001b[1;32m~\\Miniconda3\\lib\\site-packages\\matplotlib\\backends\\backend_agg.py\u001b[0m in \u001b[0;36mget_text_width_height_descent\u001b[1;34m(self, s, prop, ismath)\u001b[0m\n\u001b[0;32m    226\u001b[0m             \u001b[0mfontsize\u001b[0m \u001b[1;33m=\u001b[0m \u001b[0mprop\u001b[0m\u001b[1;33m.\u001b[0m\u001b[0mget_size_in_points\u001b[0m\u001b[1;33m(\u001b[0m\u001b[1;33m)\u001b[0m\u001b[1;33m\u001b[0m\u001b[1;33m\u001b[0m\u001b[0m\n\u001b[0;32m    227\u001b[0m             w, h, d = texmanager.get_text_width_height_descent(\n\u001b[1;32m--> 228\u001b[1;33m                 s, fontsize, renderer=self)\n\u001b[0m\u001b[0;32m    229\u001b[0m             \u001b[1;32mreturn\u001b[0m \u001b[0mw\u001b[0m\u001b[1;33m,\u001b[0m \u001b[0mh\u001b[0m\u001b[1;33m,\u001b[0m \u001b[0md\u001b[0m\u001b[1;33m\u001b[0m\u001b[1;33m\u001b[0m\u001b[0m\n\u001b[0;32m    230\u001b[0m \u001b[1;33m\u001b[0m\u001b[0m\n",
      "\u001b[1;32m~\\Miniconda3\\lib\\site-packages\\matplotlib\\texmanager.py\u001b[0m in \u001b[0;36mget_text_width_height_descent\u001b[1;34m(self, tex, fontsize, renderer)\u001b[0m\n\u001b[0;32m    421\u001b[0m         \u001b[1;32melse\u001b[0m\u001b[1;33m:\u001b[0m\u001b[1;33m\u001b[0m\u001b[1;33m\u001b[0m\u001b[0m\n\u001b[0;32m    422\u001b[0m             \u001b[1;31m# use dviread.\u001b[0m\u001b[1;33m\u001b[0m\u001b[1;33m\u001b[0m\u001b[1;33m\u001b[0m\u001b[0m\n\u001b[1;32m--> 423\u001b[1;33m             \u001b[0mdvifile\u001b[0m \u001b[1;33m=\u001b[0m \u001b[0mself\u001b[0m\u001b[1;33m.\u001b[0m\u001b[0mmake_dvi\u001b[0m\u001b[1;33m(\u001b[0m\u001b[0mtex\u001b[0m\u001b[1;33m,\u001b[0m \u001b[0mfontsize\u001b[0m\u001b[1;33m)\u001b[0m\u001b[1;33m\u001b[0m\u001b[1;33m\u001b[0m\u001b[0m\n\u001b[0m\u001b[0;32m    424\u001b[0m             \u001b[1;32mwith\u001b[0m \u001b[0mdviread\u001b[0m\u001b[1;33m.\u001b[0m\u001b[0mDvi\u001b[0m\u001b[1;33m(\u001b[0m\u001b[0mdvifile\u001b[0m\u001b[1;33m,\u001b[0m \u001b[1;36m72\u001b[0m \u001b[1;33m*\u001b[0m \u001b[0mdpi_fraction\u001b[0m\u001b[1;33m)\u001b[0m \u001b[1;32mas\u001b[0m \u001b[0mdvi\u001b[0m\u001b[1;33m:\u001b[0m\u001b[1;33m\u001b[0m\u001b[1;33m\u001b[0m\u001b[0m\n\u001b[0;32m    425\u001b[0m                 \u001b[0mpage\u001b[0m\u001b[1;33m,\u001b[0m \u001b[1;33m=\u001b[0m \u001b[0mdvi\u001b[0m\u001b[1;33m\u001b[0m\u001b[1;33m\u001b[0m\u001b[0m\n",
      "\u001b[1;32m~\\Miniconda3\\lib\\site-packages\\matplotlib\\texmanager.py\u001b[0m in \u001b[0;36mmake_dvi\u001b[1;34m(self, tex, fontsize)\u001b[0m\n\u001b[0;32m    306\u001b[0m         \u001b[1;32mif\u001b[0m \u001b[1;32mnot\u001b[0m \u001b[0mos\u001b[0m\u001b[1;33m.\u001b[0m\u001b[0mpath\u001b[0m\u001b[1;33m.\u001b[0m\u001b[0mexists\u001b[0m\u001b[1;33m(\u001b[0m\u001b[0mdvifile\u001b[0m\u001b[1;33m)\u001b[0m\u001b[1;33m:\u001b[0m\u001b[1;33m\u001b[0m\u001b[1;33m\u001b[0m\u001b[0m\n\u001b[0;32m    307\u001b[0m             \u001b[0mtexfile\u001b[0m \u001b[1;33m=\u001b[0m \u001b[0mself\u001b[0m\u001b[1;33m.\u001b[0m\u001b[0mmake_tex\u001b[0m\u001b[1;33m(\u001b[0m\u001b[0mtex\u001b[0m\u001b[1;33m,\u001b[0m \u001b[0mfontsize\u001b[0m\u001b[1;33m)\u001b[0m\u001b[1;33m\u001b[0m\u001b[1;33m\u001b[0m\u001b[0m\n\u001b[1;32m--> 308\u001b[1;33m             \u001b[1;32mwith\u001b[0m \u001b[0mcbook\u001b[0m\u001b[1;33m.\u001b[0m\u001b[0m_lock_path\u001b[0m\u001b[1;33m(\u001b[0m\u001b[0mtexfile\u001b[0m\u001b[1;33m)\u001b[0m\u001b[1;33m:\u001b[0m\u001b[1;33m\u001b[0m\u001b[1;33m\u001b[0m\u001b[0m\n\u001b[0m\u001b[0;32m    309\u001b[0m                 self._run_checked_subprocess(\n\u001b[0;32m    310\u001b[0m                     [\"latex\", \"-interaction=nonstopmode\", \"--halt-on-error\",\n",
      "\u001b[1;32m~\\Miniconda3\\lib\\contextlib.py\u001b[0m in \u001b[0;36m__enter__\u001b[1;34m(self)\u001b[0m\n\u001b[0;32m    110\u001b[0m         \u001b[1;32mdel\u001b[0m \u001b[0mself\u001b[0m\u001b[1;33m.\u001b[0m\u001b[0margs\u001b[0m\u001b[1;33m,\u001b[0m \u001b[0mself\u001b[0m\u001b[1;33m.\u001b[0m\u001b[0mkwds\u001b[0m\u001b[1;33m,\u001b[0m \u001b[0mself\u001b[0m\u001b[1;33m.\u001b[0m\u001b[0mfunc\u001b[0m\u001b[1;33m\u001b[0m\u001b[1;33m\u001b[0m\u001b[0m\n\u001b[0;32m    111\u001b[0m         \u001b[1;32mtry\u001b[0m\u001b[1;33m:\u001b[0m\u001b[1;33m\u001b[0m\u001b[1;33m\u001b[0m\u001b[0m\n\u001b[1;32m--> 112\u001b[1;33m             \u001b[1;32mreturn\u001b[0m \u001b[0mnext\u001b[0m\u001b[1;33m(\u001b[0m\u001b[0mself\u001b[0m\u001b[1;33m.\u001b[0m\u001b[0mgen\u001b[0m\u001b[1;33m)\u001b[0m\u001b[1;33m\u001b[0m\u001b[1;33m\u001b[0m\u001b[0m\n\u001b[0m\u001b[0;32m    113\u001b[0m         \u001b[1;32mexcept\u001b[0m \u001b[0mStopIteration\u001b[0m\u001b[1;33m:\u001b[0m\u001b[1;33m\u001b[0m\u001b[1;33m\u001b[0m\u001b[0m\n\u001b[0;32m    114\u001b[0m             \u001b[1;32mraise\u001b[0m \u001b[0mRuntimeError\u001b[0m\u001b[1;33m(\u001b[0m\u001b[1;34m\"generator didn't yield\"\u001b[0m\u001b[1;33m)\u001b[0m \u001b[1;32mfrom\u001b[0m \u001b[1;32mNone\u001b[0m\u001b[1;33m\u001b[0m\u001b[1;33m\u001b[0m\u001b[0m\n",
      "\u001b[1;32m~\\Miniconda3\\lib\\site-packages\\matplotlib\\cbook\\__init__.py\u001b[0m in \u001b[0;36m_lock_path\u001b[1;34m(path)\u001b[0m\n\u001b[0;32m   1808\u001b[0m \u001b[0mThis\u001b[0m \u001b[0mmaybe\u001b[0m \u001b[0mdue\u001b[0m \u001b[0mto\u001b[0m \u001b[0manother\u001b[0m \u001b[0mprocess\u001b[0m \u001b[0mholding\u001b[0m \u001b[0mthis\u001b[0m \u001b[0mlock\u001b[0m \u001b[0mfile\u001b[0m\u001b[1;33m.\u001b[0m  \u001b[0mIf\u001b[0m \u001b[0myou\u001b[0m \u001b[0mare\u001b[0m \u001b[0msure\u001b[0m \u001b[0mno\u001b[0m\u001b[1;33m\u001b[0m\u001b[1;33m\u001b[0m\u001b[0m\n\u001b[0;32m   1809\u001b[0m other Matplotlib process is running, remove this file and try again.\"\"\".format(\n\u001b[1;32m-> 1810\u001b[1;33m             lock_path))\n\u001b[0m\u001b[0;32m   1811\u001b[0m     \u001b[1;32mtry\u001b[0m\u001b[1;33m:\u001b[0m\u001b[1;33m\u001b[0m\u001b[1;33m\u001b[0m\u001b[0m\n\u001b[0;32m   1812\u001b[0m         \u001b[1;32myield\u001b[0m\u001b[1;33m\u001b[0m\u001b[1;33m\u001b[0m\u001b[0m\n",
      "\u001b[1;31mTimeoutError\u001b[0m: Lock error: Matplotlib failed to acquire the following lock file:\n    C:\\Users\\Ben Fliegener\\.matplotlib\\tex.cache\\a8fbd9c6d789b85a0bbd2d1339832ad5.tex.matplotlib-lock\nThis maybe due to another process holding this lock file.  If you are sure no\nother Matplotlib process is running, remove this file and try again."
     ]
    },
    {
     "data": {
      "text/plain": [
       "<Figure size 432x288 with 1 Axes>"
      ]
     },
     "metadata": {
      "needs_background": "light"
     },
     "output_type": "display_data"
    }
   ],
   "source": [
    "#plt.plot(Time,M1,'k.',label='Daten')\n",
    "plt.plot(Time,fd(Time,a_M1,b_M1),label='Regression')\n",
    "#plt.plot(Time,f(Time,a_M1,b_M1),label='Regression')\n",
    "plt.legend()\n",
    "plt.show()"
   ]
  },
  {
   "cell_type": "markdown",
   "id": "4b00888f",
   "metadata": {},
   "source": [
    "## Schnittpunktberechnungen für die Punkte B und E aus dem Skirpt\n",
    "## Berechnung von Delta T"
   ]
  },
  {
   "cell_type": "code",
   "execution_count": 13,
   "id": "4050f252",
   "metadata": {
    "scrolled": true
   },
   "outputs": [
    {
     "name": "stdout",
     "output_type": "stream",
     "text": [
      "Schnittpunkt an Punkt B: 293+/-5\n",
      "\n",
      "\n",
      "Schnittpunkt an Punkt E: 615+/-9\n",
      "\n",
      "\n",
      "Zeitpunkt t_s: 455+/-7\n",
      "\n",
      "\n",
      "Temperaturdifferenz: 19.4+/-0.4\n"
     ]
    }
   ],
   "source": [
    "# Schnittpunkt in Punkt B\n",
    "t_B_M1_err=(b_hp_err-b_vp_err)/(a_vp_err-a_hp_err); print(f'Schnittpunkt an Punkt B: {t_B_M1_err}\\n\\n')\n",
    "\n",
    "# Schnittpunkt in Punkt E\n",
    "t_E_M1_err=(b_np_err-b_hp_err)/(a_hp_err-a_vp_err); print(f'Schnittpunkt an Punkt E: {t_E_M1_err}\\n\\n')\n",
    "\n",
    "# Zeitpunkt t_s\n",
    "t_s_M1_err=(t_B_M1_err*(a_hp_err-a_vp_err)**0.5+t_E_M1_err* (a_hp_err-a_np_err)**0.5)/( (a_hp_err-a_vp_err)**0.5+ (a_hp_err-a_np_err)**0.5)\n",
    "print(f'Zeitpunkt t_s: {t_s_M1_err}\\n\\n')\n",
    "\n",
    "# Zeitdifferenz delta_T\n",
    "delta_T_M1_t_s_err=Del_T(t_s_M1_err,a_np_err,b_np_err,a_vp_err,b_vp_err)    # delta T, M1: Messreihe 1 für Zeitpunkt: t_s\n",
    "print(f'Temperaturdifferenz: {delta_T_M1_t_s_err}')"
   ]
  },
  {
   "cell_type": "markdown",
   "id": "73deb3a1",
   "metadata": {},
   "source": [
    " ## Vorperiode M2"
   ]
  },
  {
   "cell_type": "code",
   "execution_count": 14,
   "id": "111b9dc0",
   "metadata": {},
   "outputs": [
    {
     "name": "stdout",
     "output_type": "stream",
     "text": [
      "Steigung: 0.00086+/-0.00017\n",
      "Achsenabschnitt: 26.938+/-0.030\n"
     ]
    },
    {
     "data": {
      "text/plain": [
       "0.000492610837438429"
      ]
     },
     "execution_count": 14,
     "metadata": {},
     "output_type": "execute_result"
    }
   ],
   "source": [
    "pop,cov=curve_fit(f,vp_t,vp_T_2)\n",
    "a_vp_2,b_vp_2=pop\n",
    "a_vp_2_err,b_vp_2_err=np.sqrt(np.diag(cov))\n",
    "print(f'Steigung: {ufloat(a_vp_2,a_vp_2_err)}')\n",
    "print(f'Achsenabschnitt: {ufloat(b_vp_2,b_vp_2_err)}');a_vp_2_err=ufloat(a_vp_2,a_vp_2_err);b_vp_2_err=ufloat(b_vp_2,b_vp_2_err);\n",
    "sp.stats.chisquare(vp_T_2)[0]/(len(vp_t)-2)"
   ]
  },
  {
   "cell_type": "markdown",
   "id": "375d7813",
   "metadata": {},
   "source": [
    "## Hauptperiode M2"
   ]
  },
  {
   "cell_type": "code",
   "execution_count": 15,
   "id": "daa17695",
   "metadata": {
    "scrolled": true
   },
   "outputs": [
    {
     "name": "stdout",
     "output_type": "stream",
     "text": [
      "Steigung: 0.06215+/-0.00020\n",
      "Achsenabschnitt: 8.66+/-0.09\n"
     ]
    },
    {
     "data": {
      "text/plain": [
       "0.9020952010785731"
      ]
     },
     "execution_count": 15,
     "metadata": {},
     "output_type": "execute_result"
    }
   ],
   "source": [
    "pop,cov=curve_fit(f,hp_t,hp_T_2)\n",
    "a_hp_2,b_hp_2=pop\n",
    "a_hp_2_err,b_hp_2_err=np.sqrt(np.diag(cov))\n",
    "print(f'Steigung: {ufloat(a_hp_2,a_hp_2_err)}')\n",
    "print(f'Achsenabschnitt: {ufloat(b_hp_2,b_hp_2_err)}');a_hp_2_err=ufloat(a_hp_2,a_hp_2_err);b_hp_2_err=ufloat(b_hp_2,b_hp_2_err);\n",
    "sp.stats.chisquare(hp_T_2)[0]/(len(hp_t)-2)"
   ]
  },
  {
   "cell_type": "markdown",
   "id": "edc39775",
   "metadata": {},
   "source": [
    "## Nachperiode M2"
   ]
  },
  {
   "cell_type": "code",
   "execution_count": 16,
   "id": "f9c91dee",
   "metadata": {},
   "outputs": [
    {
     "name": "stdout",
     "output_type": "stream",
     "text": [
      "Steigung: -0.00295+/-0.00013\n",
      "Achsenabschnitt: 47.32+/-0.11\n"
     ]
    },
    {
     "data": {
      "text/plain": [
       "0.003078635014836793"
      ]
     },
     "execution_count": 16,
     "metadata": {},
     "output_type": "execute_result"
    }
   ],
   "source": [
    "pop,cov=curve_fit(f,np_t,np_T_2)\n",
    "a_np_2,b_np_2=pop\n",
    "a_np_2_err,b_np_2_err=np.sqrt(np.diag(cov))\n",
    "print(f'Steigung: {ufloat(a_np_2,a_np_2_err)}')\n",
    "print(f'Achsenabschnitt: {ufloat(b_np_2,b_np_2_err)}');a_np_2_err=ufloat(a_np_2,a_np_2_err);b_np_2_err=ufloat(b_np_2,b_np_2_err);\n",
    "sp.stats.chisquare(np_T_2)[0]/(len(np_t)-2)"
   ]
  },
  {
   "cell_type": "code",
   "execution_count": 17,
   "id": "d64591f6",
   "metadata": {},
   "outputs": [
    {
     "name": "stdout",
     "output_type": "stream",
     "text": [
      "-0.0001+/-0.0004\n",
      "26.79+/-0.07\n",
      "0.06204+/-0.00015\n",
      "8.41+/-0.07\n",
      "-0.00307+/-0.00013\n",
      "47.13+/-0.11\n"
     ]
    }
   ],
   "source": [
    "# Mittelung\n",
    "# print(a_vp_err)\n",
    "# print(a_vp_2_err)\n",
    "a_vp_m=(a_vp_err+a_vp_2_err)/2;print(a_vp_m)\n",
    "b_vp_m=(b_vp_err+b_vp_2_err)/2;print(b_vp_m)\n",
    "\n",
    "a_hp_m=(a_hp_err+a_hp_2_err)/2;print(a_hp_m) \n",
    "b_hp_m=(b_hp_err+b_hp_2_err)/2;print(b_hp_m)\n",
    "\n",
    "a_np_m=(a_np_err+a_np_2_err)/2;print(a_np_m)\n",
    "b_np_m=(b_np_err+b_np_2_err)/2;print(b_np_m)"
   ]
  },
  {
   "cell_type": "markdown",
   "id": "7e9d7053",
   "metadata": {},
   "source": [
    "## Schnittpunktberechnungen für die Punkte B und E aus dem Skirpt\n",
    "## Berechnung von Delta T"
   ]
  },
  {
   "cell_type": "code",
   "execution_count": 18,
   "id": "2f45a66f",
   "metadata": {},
   "outputs": [
    {
     "name": "stdout",
     "output_type": "stream",
     "text": [
      "Schnittpunkt an Punkt B: 298.1+/-2.1\n",
      "\n",
      "\n",
      "Schnittpunkt an Punkt E: 631+/-4\n",
      "\n",
      "\n",
      "Zeitpunkt t_s: 466.9+/-2.7\n",
      "\n",
      "\n",
      "Temperaturdifferenz: 19.3+/-0.4 Fehler in Prozent: 2.07%\n"
     ]
    }
   ],
   "source": [
    "# Schnittpunkt in Punkt B\n",
    "t_B_M2_err=(b_hp_2_err-b_vp_2_err)/(a_vp_2_err-a_hp_2_err); print(f'Schnittpunkt an Punkt B: {t_B_M2_err}\\n\\n')\n",
    "\n",
    "# Schnittpunkt in Punkt E\n",
    "t_E_M2_err=(b_np_2_err-b_hp_2_err)/(a_hp_2_err-a_vp_2_err); print(f'Schnittpunkt an Punkt E: {t_E_M2_err}\\n\\n')\n",
    "\n",
    "# Zeitpunkt t_s\n",
    "t_s_M2_err=(t_B_M2_err*(a_hp_2_err-a_vp_2_err)**0.5+t_E_M2_err* (a_hp_2_err-a_np_2_err)**0.5)/( (a_hp_2_err-a_vp_2_err)**0.5+ (a_hp_2_err-a_np_2_err)**0.5)\n",
    "print(f'Zeitpunkt t_s: {t_s_M2_err}\\n\\n')\n",
    "\n",
    "# Zeitdifferenz delta_T\n",
    "delta_T_M2_t_s_err=Del_T(t_s_M2_err,a_np_err,b_np_err,a_vp_err,b_vp_err)    # delta T, M1: Messreihe 2 für Zeitpunkt: t_s\n",
    "print(f'Temperaturdifferenz: {delta_T_M2_t_s_err} Fehler in Prozent: {round(0.4/19.3*100,2)}%')"
   ]
  },
  {
   "cell_type": "markdown",
   "id": "c1c0a684",
   "metadata": {},
   "source": [
    "Wenn wir uns die reduzierten $\\chi^2$te der Vor- und Nachperioden anschauen, können wir daraus schließen, dass unsere Fits mit den Messdaten nicht gut übereinstimmt. Dies könnte auf die, im Vergleich zur jeweiligen Hauptperiode, geringen Anzahl der Messpunkte liegen."
   ]
  },
  {
   "cell_type": "markdown",
   "id": "4e62b043",
   "metadata": {},
   "source": [
    "# Plot mit Regressionsgeraden"
   ]
  },
  {
   "cell_type": "code",
   "execution_count": 19,
   "id": "f5e7e261",
   "metadata": {},
   "outputs": [
    {
     "name": "stdout",
     "output_type": "stream",
     "text": [
      "455+/-7\n",
      "45.4826190467235\n"
     ]
    }
   ],
   "source": [
    "print(t_s_M1_err)\n",
    "t_s_M1=455\n",
    "\n",
    "a=f(t_s_M1,a_vp,b_vp)\n",
    "b= f(t_s_M1,a_np,b_np);print(b)\n",
    "\n",
    "time_t_s=t_s_M1*np.ones(200)\n",
    "del_T=np.linspace(a,b,200)\n",
    "\n",
    "t=450*np.ones(200)\n",
    "dT=np.linspace(f(450,a_vp,b_vp),f(450,a_np,b_np),200)\n",
    "\n",
    "tt=np.linspace(448,462,30)\n",
    "del_T_tt_oben=f(tt,a_np,b_np)\n",
    "del_T_tt_unten=f(tt,a_vp,b_vp)"
   ]
  },
  {
   "cell_type": "code",
   "execution_count": 20,
   "id": "ab738c1e",
   "metadata": {
    "scrolled": true
   },
   "outputs": [
    {
     "data": {
      "image/png": "[encoded data removed]",
      "text/plain": [
       "<Figure size 432x288 with 1 Axes>"
      ]
     },
     "metadata": {
      "needs_background": "light"
     },
     "output_type": "display_data"
    }
   ],
   "source": [
    "t_n=np.linspace(400,1000,10000)\n",
    "t_h=np.linspace(280,620,1000)\n",
    "t_v=np.linspace(-25,500,10000)\n",
    "plt.errorbar(Time,M1,yerr=Temp_err,fmt='.',color='r',capsize=4,label='Messreihe 1',zorder=2)\n",
    "plt.plot(t_v,f(t_v,a_vp,b_vp),'k--',label='Regression: Vorperiode',zorder=1)\n",
    "plt.plot(t_h,f(t_h,a_hp,b_hp),'k',label='Regression: Hauptperiode',zorder=1)\n",
    "plt.plot(t_n,f(t_n,a_np,b_np),'k-.',label='Regression: Nachperiode',zorder=1)\n",
    "plt.plot(time_t_s,del_T,'b',label=r'$\\Delta T$',zorder=2)\n",
    "plt.plot(tt,del_T_tt_oben,'b',zorder=2)\n",
    "plt.plot(tt,del_T_tt_unten,'b',zorder=2)\n",
    "plt.plot(t,dT,color='cyan',label='$\\Delta T$, grafische Abschätzung')\n",
    "plt.xlabel('Zeit [s]')\n",
    "plt.ylabel('Temperatur [Celsius]')\n",
    "plt.xticks(np.arange(0,1001,step=500))\n",
    "plt.yticks(np.arange(26,50,step=10))\n",
    "plt.grid()\n",
    "plt.legend()\n",
    "plt.savefig('M1_T1.png',dpi=600)"
   ]
  },
  {
   "cell_type": "code",
   "execution_count": 21,
   "id": "20098545",
   "metadata": {},
   "outputs": [
    {
     "name": "stdout",
     "output_type": "stream",
     "text": [
      "466.9+/-2.7\n",
      "45.4826190467235\n"
     ]
    }
   ],
   "source": [
    "print(t_s_M2_err)\n",
    "t_s_M2=466.9\n",
    "\n",
    "a_2=f(t_s_M2,a_vp_2,b_vp_2)\n",
    "b_2= f(t_s_M2,a_np_2,b_np_2);print(b)\n",
    "\n",
    "time_t_s_2=t_s_M2*np.ones(200)\n",
    "del_T_2=np.linspace(a_2,b_2,200)\n",
    "\n",
    "t_2=450*np.ones(200)\n",
    "dT_2=np.linspace(f(450,a_vp_2,b_vp_2),f(450,a_np_2,b_np_2),200)\n",
    "\n",
    "tt_2=np.linspace(448,462,30)\n",
    "del_T_tt_oben_2=f(tt,a_np_2,b_np_2)\n",
    "del_T_tt_unten_2=f(tt,a_vp_2,b_vp_2)"
   ]
  },
  {
   "cell_type": "code",
   "execution_count": 22,
   "id": "65c78e0b",
   "metadata": {
    "scrolled": true
   },
   "outputs": [
    {
     "data": {
      "image/png": "[encoded data removed]",
      "text/plain": [
       "<Figure size 432x288 with 1 Axes>"
      ]
     },
     "metadata": {
      "needs_background": "light"
     },
     "output_type": "display_data"
    }
   ],
   "source": [
    "plt.errorbar(Time,M2,yerr=Temp_err,fmt='.',color='r',capsize=4,label='Messreihe 2',zorder=2) #\n",
    "plt.plot(t_v,f(t_v,a_vp_2,b_vp_2),'k--',label='Regression: Vorperiode',zorder=1)#\n",
    "plt.plot(t_h,f(t_h,a_hp,b_hp_2),'k',label='Regression: Hauptperiode',zorder=1)#\n",
    "plt.plot(t_n,f(t_n,a_np_2,b_np_2),'k-.',label='Regression: Nachperiode',zorder=1)#\n",
    "plt.plot(time_t_s_2,del_T_2,'b',label=r'$\\Delta T$, nummerisch',zorder=2)#\n",
    "plt.plot(t_2,dT_2,color='yellow',label='$\\Delta T$, grafische Abschätzung')\n",
    "plt.plot(tt_2,del_T_tt_oben_2,'b',zorder=2)#\n",
    "plt.plot(tt_2,del_T_tt_unten_2,'b',zorder=2)#\n",
    "plt.xlabel('Zeit [s]')\n",
    "plt.ylabel('Temperatur [Celsius]')\n",
    "plt.xticks(np.arange(0,1001,step=500))\n",
    "plt.yticks(np.arange(27,50,step=10))\n",
    "plt.grid()\n",
    "plt.legend()\n",
    "plt.savefig('M2_T1.png',dpi=600)"
   ]
  },
  {
   "cell_type": "markdown",
   "id": "72dbebcd",
   "metadata": {},
   "source": [
    "# Berechnung von $ C_k$ nach elektrischre Methode"
   ]
  },
  {
   "cell_type": "markdown",
   "id": "028029ae",
   "metadata": {},
   "source": [
    "## Berechnung von $\\Delta t$"
   ]
  },
  {
   "cell_type": "code",
   "execution_count": 23,
   "id": "abdf4b27",
   "metadata": {},
   "outputs": [],
   "source": [
    "u1=round(np.sqrt((0.01+5e-4*hp_t[0])**2+1),1)\n",
    "u2=round(np.sqrt((0.01+5e-4*hp_t[30])**2+1),1)"
   ]
  },
  {
   "cell_type": "code",
   "execution_count": 24,
   "id": "9b67085f",
   "metadata": {},
   "outputs": [
    {
     "name": "stdout",
     "output_type": "stream",
     "text": [
      "delta zeit: 300.0+/-1.4\n"
     ]
    }
   ],
   "source": [
    "delta_t_err=ufloat(hp_t[30],u2)-ufloat(hp_t[0],u1)\n",
    "print(f'delta zeit: {delta_t_err}')"
   ]
  },
  {
   "cell_type": "markdown",
   "id": "685d5e87",
   "metadata": {},
   "source": [
    "# Spannung und Strom"
   ]
  },
  {
   "cell_type": "code",
   "execution_count": 25,
   "id": "9d6103f2",
   "metadata": {},
   "outputs": [],
   "source": [
    "U_1_err=ufloat(24.75,0.325)  # Spannung in Volt\n",
    "U_2_err=ufloat(25.00,0.325)\n",
    "\n",
    "V_err=ufloat(3.0,0.05)       # Strom in Ampere"
   ]
  },
  {
   "cell_type": "markdown",
   "id": "0708e3c6",
   "metadata": {},
   "source": [
    "## Eigentliche Berechnung von $C_k$"
   ]
  },
  {
   "cell_type": "code",
   "execution_count": 26,
   "id": "94007de6",
   "metadata": {},
   "outputs": [],
   "source": [
    "# spefische Wärmekapazität von Wasser\n",
    "spez_Wk=4.1813e3\n",
    "\n",
    "# Masse\n",
    "m1_M1_err=ufloat(0.246,0.002 )         #kg, weil nach Quelle: 1ml <=> 1g\n",
    "m2_M1_err= ufloat(0.242,0.002 )"
   ]
  },
  {
   "cell_type": "markdown",
   "id": "c8fb186a",
   "metadata": {},
   "source": [
    "### erste Messreihe"
   ]
  },
  {
   "cell_type": "code",
   "execution_count": 27,
   "id": "57c36ee7",
   "metadata": {
    "scrolled": true
   },
   "outputs": [
    {
     "name": "stdout",
     "output_type": "stream",
     "text": [
      "Wärmekapazität Kalorimeter: (1.2+/-0.4)e+02,\n",
      "in Prozent: 33.33%\n",
      "\n",
      "\n",
      "Zeitdifferenz: 300.0+/-1.4 in Prozent 0.47%\n",
      "\n",
      "\n",
      "Spannung: 24.75+/-0.33 in Prozent: 1.33%\n",
      "\n",
      "\n",
      "Strom: 3.00+/-0.05 in Prozent: 1.6666666666666667% \n",
      "\n",
      "\n",
      "Masse: 0.2460+/-0.0020 in Prozent: 0.81% \n",
      "\n",
      "\n",
      "Temperaturdifferenz: 19.3+/-0.4 in Prozent: 2.06% \n",
      "\n",
      "\n",
      "Der dominante Fehler ist Zeitdifferenzfehler von 1.4s.\n"
     ]
    }
   ],
   "source": [
    "C_k_M1=elekt_Meth_C_k(delta_t_err,U_1_err,V_err,delta_T_M1_t_s_err,m1_M1_err,spez_Wk)\n",
    "print(f'Wärmekapazität Kalorimeter: {C_k_M1},\\nin Prozent: {round(0.4/1.2*100,2)}%\\n\\n')\n",
    "print(f'Zeitdifferenz: {delta_t_err} in Prozent {round(1.4/300*100,2)}%\\n\\n')\n",
    "print(f'Spannung: {U_1_err} in Prozent: {round(0.33/24.75*100,2)}%\\n\\n')\n",
    "print(f'Strom: {V_err} in Prozent: {0.05/3*100}% \\n\\n')\n",
    "print(f'Masse: {m1_M1_err} in Prozent: {round(0.002/0.246*100,2)}% \\n\\n')\n",
    "print(f'Temperaturdifferenz: {delta_T_M2_t_s_err} in Prozent: {round(0.4/19.4*100,2)}% \\n\\n')\n",
    "print('Der dominante Fehler ist Zeitdifferenzfehler von 1.4s.')"
   ]
  },
  {
   "cell_type": "markdown",
   "id": "5cae3002",
   "metadata": {},
   "source": [
    "Die obere Rechnung habe ich per Hand ohne Fehlerrechnung nachgerechnet und sie ist richtig."
   ]
  },
  {
   "cell_type": "markdown",
   "id": "9045796d",
   "metadata": {},
   "source": [
    "### zweite Messreihe"
   ]
  },
  {
   "cell_type": "code",
   "execution_count": 28,
   "id": "f29cafe7",
   "metadata": {
    "scrolled": false
   },
   "outputs": [
    {
     "name": "stdout",
     "output_type": "stream",
     "text": [
      "Wärmekapazität Kalorimeter: (1.5+/-0.4)e+02;\n",
      "in Prozent: 26.67%\n",
      "Temperaturdifferenz: 19.3+/-0.4\n"
     ]
    }
   ],
   "source": [
    "C_k_M2=elekt_Meth_C_k(delta_t_err,U_2_err,V_err,delta_T_M2_t_s_err,m2_M1_err,spez_Wk)\n",
    "print(f'Wärmekapazität Kalorimeter: {C_k_M2};\\nin Prozent: {round(0.4/1.5*100,2)}%')\n",
    "print(f'Temperaturdifferenz: {delta_T_M2_t_s_err}')"
   ]
  },
  {
   "cell_type": "markdown",
   "id": "300f1a6e",
   "metadata": {},
   "source": [
    "## Mittelungen"
   ]
  },
  {
   "cell_type": "code",
   "execution_count": 29,
   "id": "f3870ce1",
   "metadata": {},
   "outputs": [
    {
     "name": "stdout",
     "output_type": "stream",
     "text": [
      "ts: 461+/-4\n",
      "te: 623+/-5\n",
      "tb: 295.6+/-2.5\n"
     ]
    }
   ],
   "source": [
    "# ts\n",
    "mean_ts=np.array([t_s_M2_err,t_s_M1_err]).mean()\n",
    "print(f'ts: {mean_ts}')\n",
    "mean_tE=np.array([t_E_M2_err,t_E_M1_err]).mean()\n",
    "print(f'te: {mean_tE}')\n",
    "mean_tB=np.array([t_B_M2_err,t_B_M1_err]).mean()\n",
    "print(f'tb: {mean_tB}')"
   ]
  },
  {
   "cell_type": "code",
   "execution_count": 30,
   "id": "dddfe1e7",
   "metadata": {},
   "outputs": [
    {
     "data": {
      "text/plain": [
       "19.34006960661719+/-0.4456953563198188"
      ]
     },
     "execution_count": 30,
     "metadata": {},
     "output_type": "execute_result"
    }
   ],
   "source": [
    "# Mittelung von Temp.diff:\n",
    "mean_delta_T=np.array([delta_T_M2_t_s_err,delta_T_M2_t_s_err]).mean()\n",
    "mean_delta_T"
   ]
  },
  {
   "cell_type": "code",
   "execution_count": 31,
   "id": "04edf2d0",
   "metadata": {},
   "outputs": [
    {
     "name": "stdout",
     "output_type": "stream",
     "text": [
      "(1.4+/-0.4)e+02\n"
     ]
    }
   ],
   "source": [
    "mean_Ck=np.array([C_k_M2, C_k_M1]).mean()\n",
    "print(f'{mean_Ck}')"
   ]
  },
  {
   "cell_type": "markdown",
   "id": "b0279f27",
   "metadata": {},
   "source": [
    "Die zweite "
   ]
  },
  {
   "cell_type": "markdown",
   "id": "5fdb7061",
   "metadata": {},
   "source": [
    "## Mittelung der elektrischen Methode"
   ]
  },
  {
   "cell_type": "code",
   "execution_count": 32,
   "id": "e3eba3b0",
   "metadata": {},
   "outputs": [
    {
     "name": "stdout",
     "output_type": "stream",
     "text": [
      "gemittelte Wärmekapazität: (1.4+/-0.4)e+02 Fehler in Prozent: 28.57%\n"
     ]
    }
   ],
   "source": [
    "C_el=np.array([C_k_M1,C_k_M2])\n",
    "C_el=C_el.mean()\n",
    "print(f'gemittelte Wärmekapazität: {C_el} Fehler in Prozent: {round(0.4/1.4*100,2)}%')"
   ]
  },
  {
   "cell_type": "markdown",
   "id": "02d56f34",
   "metadata": {},
   "source": [
    "# Mischungsmethode"
   ]
  },
  {
   "cell_type": "markdown",
   "id": "ff4e9896",
   "metadata": {},
   "source": [
    "Richmann'sche Mischungsregel:\n",
    "$$(m_1 c_w+C_k)(T_m-T_1)=m_2 c_w (T_2-T_m)\\\\ C_k=m_2 c_w \\frac{(T_2-T_m)}{(T_m-T_1)}-m_1 c_w$$"
   ]
  },
  {
   "cell_type": "markdown",
   "id": "ed97c367",
   "metadata": {},
   "source": [
    "## Definitionen"
   ]
  },
  {
   "cell_type": "code",
   "execution_count": 33,
   "id": "0f072907",
   "metadata": {},
   "outputs": [],
   "source": [
    "def C_k_Meth_2(T1,T2,TM,m1,m2,cw):\n",
    "    C=m2*cw*(T2-TM)/(TM-T1)-m1*cw\n",
    "    return C"
   ]
  },
  {
   "cell_type": "markdown",
   "id": "4feca9d5",
   "metadata": {},
   "source": [
    "# Daten laden"
   ]
  },
  {
   "cell_type": "code",
   "execution_count": 34,
   "id": "8ebb66e9",
   "metadata": {
    "scrolled": true
   },
   "outputs": [
    {
     "name": "stdout",
     "output_type": "stream",
     "text": [
      "     T1    T2    TM     m1     m2\n",
      "0  26.0  38.1  31.7  0.148  0.155\n",
      "1  26.8  42.5  33.6  0.148  0.148\n",
      "2  27.2  39.6  32.5  0.150  0.142\n"
     ]
    }
   ],
   "source": [
    "data=pd.read_csv('zweiter_teilverwuch.txt','\\t')\n",
    "print(data)\n",
    "T1=data['T1'].values\n",
    "#print(T1)\n",
    "T2=data['T2'].values\n",
    "#print(T2)\n",
    "TM=data['TM'].values\n",
    "#print(TM)\n",
    "m1=data['m1'].values\n",
    "m2=data['m2'].values"
   ]
  },
  {
   "cell_type": "markdown",
   "id": "9741daf5",
   "metadata": {},
   "source": [
    "## Daten mit jeweiligen Fehlern"
   ]
  },
  {
   "cell_type": "code",
   "execution_count": 35,
   "id": "bfef620a",
   "metadata": {},
   "outputs": [
    {
     "name": "stdout",
     "output_type": "stream",
     "text": [
      "Mittelwerte: \n",
      " T1 299.82+/-0.12\n",
      " T2 313.22+/-0.12\n",
      " TM: 305.75+/-0.12 \n",
      " m1: 0.1487+/-0.0012 \n",
      " m2: 0.1483+/-0.0012\n",
      "\n",
      "  \n",
      "Fehler in Prozent bei Temperatur: \n",
      "[0.76923077 0.74626866 0.73529412]\n",
      "\n",
      "[0.52493438 0.47058824 0.50505051]\n",
      "\n",
      "[0.63091483 0.5952381  0.61538462]\n",
      "\n",
      "\n",
      "Fehler in Prozent bei Masse:\n",
      "[1.35135135 1.35135135 1.33333333]\n",
      "\n",
      "[1.29032258 1.35135135 1.4084507 ]\n",
      "\n",
      "\n",
      "Dominanter Fehler ist der Fehler von der Temperatur, weil dieser 100 mal größer ist als der von der Masse.\n"
     ]
    }
   ],
   "source": [
    "T1_err=np.array([ufloat(273.15+26.0,0.2),ufloat(273.15+26.8,0.2),ufloat(273.15+27.2,0.2)])   # in Kelvin\n",
    "T2_err=np.array([ufloat(273.15+38.1,0.2),ufloat(273.15+42.5,0.2),ufloat(273.15+39.6,0.2)])\n",
    "TM_err=np.array([ufloat(273.15+31.7,0.2),ufloat(273.15+33.6,0.2),ufloat(273.15+32.5,0.2)])\n",
    "m1_err=np.array([ufloat(0.148,0.002),ufloat(0.148,0.002),ufloat(0.150,0.002)])\n",
    "m2_err=np.array([ufloat(0.155,0.002),ufloat(0.148,0.002),ufloat(0.142,0.002)])\n",
    "print(f'Mittelwerte: \\n T1 {T1_err.mean()}\\n T2 {T2_err.mean()}\\n TM: {TM_err.mean()} \\n m1: {m1_err.mean()} \\n m2: {m2_err.mean()}\\n\\n  ')\n",
    "print(f'''Fehler in Prozent bei Temperatur: \n",
    "{0.2/T1*100}\\n\n",
    "{0.2/T2*100}\\n\n",
    "{0.2/TM*100}\\n\\n''')\n",
    "print(f'''Fehler in Prozent bei Masse:\n",
    "{0.002/m1*100}\\n\n",
    "{0.002/m2*100}\\n\\n''')\n",
    "print('Dominanter Fehler ist der Fehler von der Temperatur, weil dieser 100 mal größer ist als der von der Masse.')"
   ]
  },
  {
   "cell_type": "markdown",
   "id": "6ae8732e",
   "metadata": {},
   "source": [
    "# Berechnung von $C_k$"
   ]
  },
  {
   "cell_type": "code",
   "execution_count": 36,
   "id": "489cd8ba",
   "metadata": {
    "scrolled": true
   },
   "outputs": [
    {
     "name": "stdout",
     "output_type": "stream",
     "text": [
      "[108.8605122807071+/-60.47719755898191\n",
      " 191.11000588234947+/-53.426576272312\n",
      " 168.19870943396302+/-65.9258644099985]\n",
      "Wärmekapazität des Kalorimeters: 156+/-35, Fehler in Prozent: 22%\n"
     ]
    }
   ],
   "source": [
    "C=C_k_Meth_2(T1_err,T2_err,TM_err,m1_err,m2_err,spez_Wk)\n",
    "print(C)\n",
    "C=C.mean()\n",
    "print(f'Wärmekapazität des Kalorimeters: {C}, Fehler in Prozent: {round(35/156*100,)}%')"
   ]
  },
  {
   "cell_type": "code",
   "execution_count": 37,
   "id": "50e1bab0",
   "metadata": {},
   "outputs": [
    {
     "name": "stdout",
     "output_type": "stream",
     "text": [
      "60.0\n",
      "34.96029493900505\n"
     ]
    }
   ],
   "source": [
    "err=np.array([60,50,70])\n",
    "print(err.mean())\n",
    "print(np.sqrt(60**2+50**2+70**2)/3)"
   ]
  }
 ],
 "metadata": {
  "kernelspec": {
   "display_name": "Python 3",
   "language": "python",
   "name": "python3"
  },
  "language_info": {
   "codemirror_mode": {
    "name": "ipython",
    "version": 3
   },
   "file_extension": ".py",
   "mimetype": "text/x-python",
   "name": "python",
   "nbconvert_exporter": "python",
   "pygments_lexer": "ipython3",
   "version": "3.7.10"
  }
 },
 "nbformat": 4,
 "nbformat_minor": 5
}
