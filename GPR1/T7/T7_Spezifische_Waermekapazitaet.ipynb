{
  "cells": [
    {
      "cell_type": "markdown",
      "metadata": {
        "id": "i22LiUp_gzC9"
      },
      "source": [
        "# Imports"
      ]
    },
    {
      "cell_type": "code",
      "execution_count": 1,
      "metadata": {
        "id": "uuF4ekjGgo9y"
      },
      "outputs": [],
      "source": [
        "import numpy as np\n",
        "import pandas as pd\n",
        "import matplotlib.pyplot as plt\n",
        "import statsmodels.api as sm\n",
        "\n",
        "plt.style.use('classic')"
      ]
    },
    {
      "cell_type": "markdown",
      "metadata": {
        "id": "MCWCgl6yhCwC"
      },
      "source": [
        "# Funktionen"
      ]
    },
    {
      "cell_type": "markdown",
      "metadata": {
        "id": "XRgz7mfJhG-J"
      },
      "source": [
        "- $\\chi^2/dof<1$: zu großer Fehler\n",
        "- $\\chi^2/dof>1$: zu kleiner Fehler\n",
        "- Gleichung:\n",
        "$$ \\chi^2/dof = 1/(n-p) \\sum_i^n (f(x_i)-y_i)^2/u_{yi}^2 $$"
      ]
    },
    {
      "cell_type": "code",
      "execution_count": 2,
      "metadata": {
        "id": "DcD_mx4ZhBoD"
      },
      "outputs": [],
      "source": [
        "def lin_reg(x,a,b):\n",
        "  y = a*x+b\n",
        "  return y\n",
        "\n",
        "def chi_sq(x,y,fx,u_y): # für 2 Fitparameter\n",
        "  \"\"\"\n",
        "  x: x values for the x axis\n",
        "  y: y values for the y axis\n",
        "  fx: y values from the regression\n",
        "  u_y: Unsicherheit/uncertainty from y\n",
        "  \"\"\"\n",
        "  n = len(y)\n",
        "  factor = 1/(n-2)\n",
        "  return factor * np.sum((fx-y)**2/u_y**2)\n",
        "\n",
        "def reg_wls(x,y,uy,a_round=3,b_round=3,r_round=4):\n",
        "  '''\n",
        "  Returning variables:\n",
        "  a:    from a*x+b\n",
        "  ua:   uncertainty of a\n",
        "  b:    from a*x+b\n",
        "  ub:   uncertainty of b\n",
        "  R:    R square\n",
        "  chi:  chi square\n",
        "  '''\n",
        "  # calculating regression\n",
        "  X = sm.add_constant(x)\n",
        "  model = sm.WLS(y,X,weights=uy)\n",
        "  results = model.fit()\n",
        "  print(results.summary())\n",
        "\n",
        "  # Parameters\n",
        "  a = round(results.params[1],a_round)\n",
        "  b = round(results.params[0],b_round)\n",
        "  ua = round(results.bse[1],a_round)\n",
        "  ub = round(results.bse[0],b_round)\n",
        "  R = round(results.rsquared,r_round)\n",
        "\n",
        "  # lin. Reg.\n",
        "  f_x = a*x+b\n",
        "\n",
        "  # chi square\n",
        "  chi = round(chi_sq(x,y,f_x,uy),3)\n",
        "\n",
        "  return a,ua,b,ub,R,chi\n",
        "\n",
        "def reg_ols(x,y,a_round=3,b_round=3,r_round=4):\n",
        "  '''\n",
        "  Returning variables:\n",
        "  a:    from a*x+b\n",
        "  ua:   uncertainty of a\n",
        "  b:    from a*x+b\n",
        "  ub:   uncertainty of b\n",
        "  R:    R square\n",
        "  '''\n",
        "  # calculating regression\n",
        "  X = sm.add_constant(x)\n",
        "  model = sm.OLS(y,X)\n",
        "  results = model.fit()\n",
        "  print(results.summary())\n",
        "\n",
        "  # Parameters\n",
        "  a = round(results.params[1],a_round)\n",
        "  b = round(results.params[0],b_round)\n",
        "  ua = round(results.bse[1],a_round)\n",
        "  ub = round(results.bse[0],b_round)\n",
        "  R = round(results.rsquared,r_round)\n",
        "\n",
        "  return a,ua,b,ub,R"
      ]
    },
    {
      "cell_type": "markdown",
      "metadata": {
        "id": "hAbc0QfJh2kn"
      },
      "source": [
        "# Data"
      ]
    },
    {
      "cell_type": "code",
      "execution_count": 4,
      "metadata": {
        "colab": {
          "base_uri": "https://localhost:8080/"
        },
        "id": "et71XGK-h32h",
        "outputId": "07b58c42-75be-4b4e-ec6f-7dd4ef94c2ea"
      },
      "outputs": [
        {
          "data": {
            "text/plain": [
              "['Adiabatischexponent', 'A2-und-A3']"
            ]
          },
          "execution_count": 4,
          "metadata": {},
          "output_type": "execute_result"
        }
      ],
      "source": [
        "path = \"../Data/T7-Spezifische-Waermemenge.xlsx\"\n",
        "xl = pd.ExcelFile(path)\n",
        "xl.sheet_names"
      ]
    },
    {
      "cell_type": "code",
      "execution_count": 5,
      "metadata": {
        "id": "BcVYh9x1iCWC"
      },
      "outputs": [],
      "source": [
        "df1 = pd.read_excel(xl,'Adiabatischexponent')\n",
        "df2 = pd.read_excel(xl,'A2-und-A3')"
      ]
    },
    {
      "cell_type": "markdown",
      "metadata": {
        "id": "4lYe88tTiQiJ"
      },
      "source": [
        "# Aufgabe 1"
      ]
    },
    {
      "cell_type": "code",
      "execution_count": 6,
      "metadata": {
        "colab": {
          "base_uri": "https://localhost:8080/",
          "height": 224
        },
        "id": "j-ma-vw4iSmh",
        "outputId": "4c7f8bfd-e52d-4167-e8a0-6a40950fd87b"
      },
      "outputs": [
        {
          "data": {
            "text/html": [
              "<div>\n",
              "<style scoped>\n",
              "    .dataframe tbody tr th:only-of-type {\n",
              "        vertical-align: middle;\n",
              "    }\n",
              "\n",
              "    .dataframe tbody tr th {\n",
              "        vertical-align: top;\n",
              "    }\n",
              "\n",
              "    .dataframe thead th {\n",
              "        text-align: right;\n",
              "    }\n",
              "</style>\n",
              "<table border=\"1\" class=\"dataframe\">\n",
              "  <thead>\n",
              "    <tr style=\"text-align: right;\">\n",
              "      <th></th>\n",
              "      <th>Unnamed: 0</th>\n",
              "      <th>n</th>\n",
              "      <th>h11 [cm]</th>\n",
              "      <th>h12 [cm]</th>\n",
              "      <th>h21 [cm]</th>\n",
              "      <th>h22 [cm]</th>\n",
              "      <th>h31 [cm]</th>\n",
              "      <th>h32 [cm]</th>\n",
              "      <th>h41 [cm]</th>\n",
              "      <th>h42 [cm]</th>\n",
              "      <th>h51 [cm]</th>\n",
              "      <th>h52 [cm]</th>\n",
              "      <th>h61 [cm]</th>\n",
              "      <th>h62 [cm]</th>\n",
              "      <th>h71 [cm]</th>\n",
              "      <th>h72 [cm]</th>\n",
              "      <th>h81 [cm]</th>\n",
              "      <th>h82 [cm]</th>\n",
              "    </tr>\n",
              "  </thead>\n",
              "  <tbody>\n",
              "    <tr>\n",
              "      <th>0</th>\n",
              "      <td>0</td>\n",
              "      <td>1</td>\n",
              "      <td>6.8</td>\n",
              "      <td>13.4</td>\n",
              "      <td>9.90</td>\n",
              "      <td>10.5</td>\n",
              "      <td>6.9</td>\n",
              "      <td>13.5</td>\n",
              "      <td>10.00</td>\n",
              "      <td>10.50</td>\n",
              "      <td>6.75</td>\n",
              "      <td>13.45</td>\n",
              "      <td>10.00</td>\n",
              "      <td>10.30</td>\n",
              "      <td>5.7</td>\n",
              "      <td>14.30</td>\n",
              "      <td>10.00</td>\n",
              "      <td>10.30</td>\n",
              "    </tr>\n",
              "    <tr>\n",
              "      <th>1</th>\n",
              "      <td>1</td>\n",
              "      <td>2</td>\n",
              "      <td>6.9</td>\n",
              "      <td>13.5</td>\n",
              "      <td>9.70</td>\n",
              "      <td>10.6</td>\n",
              "      <td>7.0</td>\n",
              "      <td>13.3</td>\n",
              "      <td>9.40</td>\n",
              "      <td>10.90</td>\n",
              "      <td>7.00</td>\n",
              "      <td>13.25</td>\n",
              "      <td>9.30</td>\n",
              "      <td>11.00</td>\n",
              "      <td>6.2</td>\n",
              "      <td>14.05</td>\n",
              "      <td>9.25</td>\n",
              "      <td>11.10</td>\n",
              "    </tr>\n",
              "    <tr>\n",
              "      <th>2</th>\n",
              "      <td>2</td>\n",
              "      <td>3</td>\n",
              "      <td>6.9</td>\n",
              "      <td>13.5</td>\n",
              "      <td>9.55</td>\n",
              "      <td>10.7</td>\n",
              "      <td>7.0</td>\n",
              "      <td>13.3</td>\n",
              "      <td>9.30</td>\n",
              "      <td>11.00</td>\n",
              "      <td>7.00</td>\n",
              "      <td>13.30</td>\n",
              "      <td>9.30</td>\n",
              "      <td>11.00</td>\n",
              "      <td>6.2</td>\n",
              "      <td>14.00</td>\n",
              "      <td>9.15</td>\n",
              "      <td>11.20</td>\n",
              "    </tr>\n",
              "    <tr>\n",
              "      <th>3</th>\n",
              "      <td>3</td>\n",
              "      <td>4</td>\n",
              "      <td>6.9</td>\n",
              "      <td>13.5</td>\n",
              "      <td>9.50</td>\n",
              "      <td>10.8</td>\n",
              "      <td>7.0</td>\n",
              "      <td>13.3</td>\n",
              "      <td>9.25</td>\n",
              "      <td>11.05</td>\n",
              "      <td>7.00</td>\n",
              "      <td>13.30</td>\n",
              "      <td>9.25</td>\n",
              "      <td>11.05</td>\n",
              "      <td>6.2</td>\n",
              "      <td>14.00</td>\n",
              "      <td>9.20</td>\n",
              "      <td>11.10</td>\n",
              "    </tr>\n",
              "    <tr>\n",
              "      <th>4</th>\n",
              "      <td>4</td>\n",
              "      <td>5</td>\n",
              "      <td>6.9</td>\n",
              "      <td>13.6</td>\n",
              "      <td>9.45</td>\n",
              "      <td>10.8</td>\n",
              "      <td>7.0</td>\n",
              "      <td>13.3</td>\n",
              "      <td>9.25</td>\n",
              "      <td>11.05</td>\n",
              "      <td>7.00</td>\n",
              "      <td>13.30</td>\n",
              "      <td>9.25</td>\n",
              "      <td>11.10</td>\n",
              "      <td>6.2</td>\n",
              "      <td>14.00</td>\n",
              "      <td>9.10</td>\n",
              "      <td>11.25</td>\n",
              "    </tr>\n",
              "  </tbody>\n",
              "</table>\n",
              "</div>"
            ],
            "text/plain": [
              "   Unnamed: 0  n  h11 [cm]  h12 [cm]  h21 [cm]  h22 [cm]  h31 [cm]  h32 [cm]  \\\n",
              "0           0  1       6.8      13.4      9.90      10.5       6.9      13.5   \n",
              "1           1  2       6.9      13.5      9.70      10.6       7.0      13.3   \n",
              "2           2  3       6.9      13.5      9.55      10.7       7.0      13.3   \n",
              "3           3  4       6.9      13.5      9.50      10.8       7.0      13.3   \n",
              "4           4  5       6.9      13.6      9.45      10.8       7.0      13.3   \n",
              "\n",
              "   h41 [cm]  h42 [cm]  h51 [cm]  h52 [cm]  h61 [cm]  h62 [cm]  h71 [cm]  \\\n",
              "0     10.00     10.50      6.75     13.45     10.00     10.30       5.7   \n",
              "1      9.40     10.90      7.00     13.25      9.30     11.00       6.2   \n",
              "2      9.30     11.00      7.00     13.30      9.30     11.00       6.2   \n",
              "3      9.25     11.05      7.00     13.30      9.25     11.05       6.2   \n",
              "4      9.25     11.05      7.00     13.30      9.25     11.10       6.2   \n",
              "\n",
              "   h72 [cm]  h81 [cm]  h82 [cm]  \n",
              "0     14.30     10.00     10.30  \n",
              "1     14.05      9.25     11.10  \n",
              "2     14.00      9.15     11.20  \n",
              "3     14.00      9.20     11.10  \n",
              "4     14.00      9.10     11.25  "
            ]
          },
          "execution_count": 6,
          "metadata": {},
          "output_type": "execute_result"
        }
      ],
      "source": [
        "df1.head()"
      ]
    },
    {
      "cell_type": "markdown",
      "metadata": {
        "id": "obJoRx6sjHif"
      },
      "source": [
        "Funktion 15: $\\kappa = \\frac{h1}{h1-h2}"
      ]
    },
    {
      "cell_type": "code",
      "execution_count": 7,
      "metadata": {
        "colab": {
          "base_uri": "https://localhost:8080/"
        },
        "id": "z1m3AGjEiw8p",
        "outputId": "17355392-7e5f-45ee-e9d6-b6001fd48059"
      },
      "outputs": [
        {
          "name": "stdout",
          "output_type": "stream",
          "text": [
            "$\\kappa$: -1.04$\\pm$0.0\n"
          ]
        },
        {
          "name": "stderr",
          "output_type": "stream",
          "text": [
            "<>:4: SyntaxWarning: invalid escape sequence '\\k'\n",
            "<>:4: SyntaxWarning: invalid escape sequence '\\p'\n",
            "<>:4: SyntaxWarning: invalid escape sequence '\\k'\n",
            "<>:4: SyntaxWarning: invalid escape sequence '\\p'\n",
            "C:\\Users\\benjf\\AppData\\Local\\Temp\\ipykernel_35908\\3630231415.py:4: SyntaxWarning: invalid escape sequence '\\k'\n",
            "  print(f'$\\kappa$: {k1}$\\pm${k1_std}')\n",
            "C:\\Users\\benjf\\AppData\\Local\\Temp\\ipykernel_35908\\3630231415.py:4: SyntaxWarning: invalid escape sequence '\\p'\n",
            "  print(f'$\\kappa$: {k1}$\\pm${k1_std}')\n"
          ]
        },
        {
          "data": {
            "text/plain": [
              "np.float64(0.0)"
            ]
          },
          "execution_count": 7,
          "metadata": {},
          "output_type": "execute_result"
        }
      ],
      "source": [
        "k1 = df1['h11 [cm]']/(df1['h11 [cm]']-df1['h12 [cm]'])\n",
        "k1 = round(k1.mean(),2)\n",
        "k1_std = k1.std()\n",
        "print(f'$\\kappa$: {k1}$\\pm${k1_std}')\n",
        "k1_std"
      ]
    },
    {
      "cell_type": "code",
      "execution_count": 10,
      "metadata": {
        "colab": {
          "base_uri": "https://localhost:8080/"
        },
        "id": "Zvj6qE9XkJKw",
        "outputId": "31136eb8-493c-4ee9-9251-42e6aae7fe73"
      },
      "outputs": [
        {
          "name": "stdout",
          "output_type": "stream",
          "text": [
            "$\\kappa$: -9.98$\\pm$0.0\n"
          ]
        },
        {
          "data": {
            "text/plain": [
              "np.float64(0.0)"
            ]
          },
          "execution_count": 10,
          "metadata": {},
          "output_type": "execute_result"
        }
      ],
      "source": [
        "k2 = df1['h21 [cm]']/(df1['h21 [cm]']-df1['h22 [cm]'])\n",
        "k2 = round(k2.mean(),2)\n",
        "k2_std = k2.std()\n",
        "print(fr'$\\kappa$: {k2}$\\pm${k2_std}')\n",
        "k2_std"
      ]
    },
    {
      "cell_type": "code",
      "execution_count": 11,
      "metadata": {
        "colab": {
          "base_uri": "https://localhost:8080/"
        },
        "id": "3VarRjhekZ04",
        "outputId": "63081d0b-621a-4827-d249-1e5233d644bf"
      },
      "outputs": [
        {
          "name": "stdout",
          "output_type": "stream",
          "text": [
            "$\\kappa$: -1.1$\\pm$0.0\n"
          ]
        },
        {
          "data": {
            "text/plain": [
              "np.float64(0.0)"
            ]
          },
          "execution_count": 11,
          "metadata": {},
          "output_type": "execute_result"
        }
      ],
      "source": [
        "k3 = df1['h31 [cm]']/(df1['h31 [cm]']-df1['h32 [cm]'])\n",
        "k3 = round(k3.mean(),2)\n",
        "k3_std = k3.std()\n",
        "print(fr'$\\kappa$: {k3}$\\pm${k3_std}')\n",
        "k3_std"
      ]
    },
    {
      "cell_type": "code",
      "execution_count": 12,
      "metadata": {
        "colab": {
          "base_uri": "https://localhost:8080/"
        },
        "id": "jznbpaCJkvOA",
        "outputId": "3f1710c4-6cfe-4aef-fae3-edeae747f47d"
      },
      "outputs": [
        {
          "name": "stdout",
          "output_type": "stream",
          "text": [
            "$\\kappa$: -8.4$\\pm$0.0\n"
          ]
        },
        {
          "data": {
            "text/plain": [
              "np.float64(0.0)"
            ]
          },
          "execution_count": 12,
          "metadata": {},
          "output_type": "execute_result"
        }
      ],
      "source": [
        "k4 = df1['h41 [cm]']/(df1['h41 [cm]']-df1['h42 [cm]'])\n",
        "k4 = round(k4.mean(),2)\n",
        "k4_std = k4.std()\n",
        "print(fr'$\\kappa$: {k4}$\\pm${k4_std}')\n",
        "k4_std"
      ]
    },
    {
      "cell_type": "code",
      "execution_count": 15,
      "metadata": {
        "colab": {
          "base_uri": "https://localhost:8080/"
        },
        "id": "-meHngrilGpB",
        "outputId": "f034c2e8-0391-47e1-f7c6-a7e939697559"
      },
      "outputs": [
        {
          "name": "stdout",
          "output_type": "stream",
          "text": [
            "$\\kappa$: -1.09$\\pm$0.0\n"
          ]
        },
        {
          "data": {
            "text/plain": [
              "np.float64(0.0)"
            ]
          },
          "execution_count": 15,
          "metadata": {},
          "output_type": "execute_result"
        }
      ],
      "source": [
        "k5 = df1['h51 [cm]']/(df1['h51 [cm]']-df1['h52 [cm]'])\n",
        "k5 = round(k5.mean(),2)\n",
        "k5_std = k5.std()\n",
        "print(fr'$\\kappa$: {k5}$\\pm${k5_std}')\n",
        "k5_std"
      ]
    },
    {
      "cell_type": "markdown",
      "metadata": {
        "id": "gauDla0plSgP"
      },
      "source": [
        "et cetera ..."
      ]
    },
    {
      "cell_type": "markdown",
      "metadata": {
        "id": "Af12eju9lWFe"
      },
      "source": [
        "# Aufgabe 2"
      ]
    },
    {
      "cell_type": "markdown",
      "metadata": {
        "id": "ohjbSSPh8Yt-"
      },
      "source": [
        "$$ \\kappa = \\frac{4Vm}{r^4pT^2} $$"
      ]
    },
    {
      "cell_type": "code",
      "execution_count": 16,
      "metadata": {
        "colab": {
          "base_uri": "https://localhost:8080/",
          "height": 206
        },
        "id": "Yb2YjgVJlVnX",
        "outputId": "861baa52-fcee-4622-9ee8-8f0370efc038"
      },
      "outputs": [
        {
          "data": {
            "text/html": [
              "<div>\n",
              "<style scoped>\n",
              "    .dataframe tbody tr th:only-of-type {\n",
              "        vertical-align: middle;\n",
              "    }\n",
              "\n",
              "    .dataframe tbody tr th {\n",
              "        vertical-align: top;\n",
              "    }\n",
              "\n",
              "    .dataframe thead th {\n",
              "        text-align: right;\n",
              "    }\n",
              "</style>\n",
              "<table border=\"1\" class=\"dataframe\">\n",
              "  <thead>\n",
              "    <tr style=\"text-align: right;\">\n",
              "      <th></th>\n",
              "      <th>Unnamed: 0</th>\n",
              "      <th>n</th>\n",
              "      <th>T_100 (Luft) [s]</th>\n",
              "      <th>T_100 (Argon) [s]</th>\n",
              "      <th>info</th>\n",
              "    </tr>\n",
              "  </thead>\n",
              "  <tbody>\n",
              "    <tr>\n",
              "      <th>0</th>\n",
              "      <td>0</td>\n",
              "      <td>1</td>\n",
              "      <td>57.70</td>\n",
              "      <td>53.56</td>\n",
              "      <td>T_100 meint Periodendauer für 100 Schwingungen</td>\n",
              "    </tr>\n",
              "    <tr>\n",
              "      <th>1</th>\n",
              "      <td>1</td>\n",
              "      <td>2</td>\n",
              "      <td>57.66</td>\n",
              "      <td>53.52</td>\n",
              "      <td>keine Abmessungen Foto nicht mehr vorhanden</td>\n",
              "    </tr>\n",
              "    <tr>\n",
              "      <th>2</th>\n",
              "      <td>2</td>\n",
              "      <td>3</td>\n",
              "      <td>57.66</td>\n",
              "      <td>53.54</td>\n",
              "      <td>Luftschwingungen: 70</td>\n",
              "    </tr>\n",
              "    <tr>\n",
              "      <th>3</th>\n",
              "      <td>3</td>\n",
              "      <td>4</td>\n",
              "      <td>57.64</td>\n",
              "      <td>53.54</td>\n",
              "      <td>Argon Schwingungen: 146</td>\n",
              "    </tr>\n",
              "    <tr>\n",
              "      <th>4</th>\n",
              "      <td>4</td>\n",
              "      <td>5</td>\n",
              "      <td>57.65</td>\n",
              "      <td>53.58</td>\n",
              "      <td>Druck: 1kPa, Temperatur: 22.5°C</td>\n",
              "    </tr>\n",
              "  </tbody>\n",
              "</table>\n",
              "</div>"
            ],
            "text/plain": [
              "   Unnamed: 0  n  T_100 (Luft) [s]  T_100 (Argon) [s]  \\\n",
              "0           0  1             57.70              53.56   \n",
              "1           1  2             57.66              53.52   \n",
              "2           2  3             57.66              53.54   \n",
              "3           3  4             57.64              53.54   \n",
              "4           4  5             57.65              53.58   \n",
              "\n",
              "                                             info  \n",
              "0  T_100 meint Periodendauer für 100 Schwingungen  \n",
              "1     keine Abmessungen Foto nicht mehr vorhanden  \n",
              "2                            Luftschwingungen: 70  \n",
              "3                         Argon Schwingungen: 146  \n",
              "4                 Druck: 1kPa, Temperatur: 22.5°C  "
            ]
          },
          "execution_count": 16,
          "metadata": {},
          "output_type": "execute_result"
        }
      ],
      "source": [
        "df2.head()"
      ]
    }
  ],
  "metadata": {
    "colab": {
      "provenance": []
    },
    "kernelspec": {
      "display_name": "projects",
      "language": "python",
      "name": "python3"
    },
    "language_info": {
      "codemirror_mode": {
        "name": "ipython",
        "version": 3
      },
      "file_extension": ".py",
      "mimetype": "text/x-python",
      "name": "python",
      "nbconvert_exporter": "python",
      "pygments_lexer": "ipython3",
      "version": "3.12.8"
    }
  },
  "nbformat": 4,
  "nbformat_minor": 0
}
