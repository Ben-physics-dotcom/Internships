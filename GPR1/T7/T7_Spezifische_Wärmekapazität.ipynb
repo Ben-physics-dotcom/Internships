{
  "nbformat": 4,
  "nbformat_minor": 0,
  "metadata": {
    "colab": {
      "provenance": []
    },
    "kernelspec": {
      "name": "python3",
      "display_name": "Python 3"
    },
    "language_info": {
      "name": "python"
    }
  },
  "cells": [
    {
      "cell_type": "markdown",
      "source": [
        "# Imports"
      ],
      "metadata": {
        "id": "i22LiUp_gzC9"
      }
    },
    {
      "cell_type": "code",
      "execution_count": 1,
      "metadata": {
        "id": "uuF4ekjGgo9y"
      },
      "outputs": [],
      "source": [
        "import numpy as np\n",
        "import pandas as pd\n",
        "import matplotlib.pyplot as plt\n",
        "import statsmodels.api as sm\n",
        "\n",
        "plt.style.use('classic')"
      ]
    },
    {
      "cell_type": "markdown",
      "source": [
        "# Funktionen"
      ],
      "metadata": {
        "id": "MCWCgl6yhCwC"
      }
    },
    {
      "cell_type": "markdown",
      "source": [
        "- $\\chi^2/dof<1$: zu großer Fehler\n",
        "- $\\chi^2/dof>1$: zu kleiner Fehler\n",
        "- Gleichung:\n",
        "$$ \\chi^2/dof = 1/(n-p) \\sum_i^n (f(x_i)-y_i)^2/u_{yi}^2 $$"
      ],
      "metadata": {
        "id": "XRgz7mfJhG-J"
      }
    },
    {
      "cell_type": "code",
      "source": [
        "def lin_reg(x,a,b):\n",
        "  y = a*x+b\n",
        "  return y\n",
        "\n",
        "def chi_sq(x,y,fx,u_y): # für 2 Fitparameter\n",
        "  \"\"\"\n",
        "  x: x values for the x axis\n",
        "  y: y values for the y axis\n",
        "  fx: y values from the regression\n",
        "  u_y: Unsicherheit/uncertainty from y\n",
        "  \"\"\"\n",
        "  n = len(y)\n",
        "  factor = 1/(n-2)\n",
        "  return factor * np.sum((fx-y)**2/u_y**2)\n",
        "\n",
        "def reg_wls(x,y,uy,a_round=3,b_round=3,r_round=4):\n",
        "  '''\n",
        "  Returning variables:\n",
        "  a:    from a*x+b\n",
        "  ua:   uncertainty of a\n",
        "  b:    from a*x+b\n",
        "  ub:   uncertainty of b\n",
        "  R:    R square\n",
        "  chi:  chi square\n",
        "  '''\n",
        "  # calculating regression\n",
        "  X = sm.add_constant(x)\n",
        "  model = sm.WLS(y,X,weights=uy)\n",
        "  results = model.fit()\n",
        "  print(results.summary())\n",
        "\n",
        "  # Parameters\n",
        "  a = round(results.params[1],a_round)\n",
        "  b = round(results.params[0],b_round)\n",
        "  ua = round(results.bse[1],a_round)\n",
        "  ub = round(results.bse[0],b_round)\n",
        "  R = round(results.rsquared,r_round)\n",
        "\n",
        "  # lin. Reg.\n",
        "  f_x = a*x+b\n",
        "\n",
        "  # chi square\n",
        "  chi = round(chi_sq(x,y,f_x,uy),3)\n",
        "\n",
        "  return a,ua,b,ub,R,chi\n",
        "\n",
        "def reg_ols(x,y,a_round=3,b_round=3,r_round=4):\n",
        "  '''\n",
        "  Returning variables:\n",
        "  a:    from a*x+b\n",
        "  ua:   uncertainty of a\n",
        "  b:    from a*x+b\n",
        "  ub:   uncertainty of b\n",
        "  R:    R square\n",
        "  '''\n",
        "  # calculating regression\n",
        "  X = sm.add_constant(x)\n",
        "  model = sm.OLS(y,X)\n",
        "  results = model.fit()\n",
        "  print(results.summary())\n",
        "\n",
        "  # Parameters\n",
        "  a = round(results.params[1],a_round)\n",
        "  b = round(results.params[0],b_round)\n",
        "  ua = round(results.bse[1],a_round)\n",
        "  ub = round(results.bse[0],b_round)\n",
        "  R = round(results.rsquared,r_round)\n",
        "\n",
        "  return a,ua,b,ub,R"
      ],
      "metadata": {
        "id": "DcD_mx4ZhBoD"
      },
      "execution_count": 2,
      "outputs": []
    },
    {
      "cell_type": "markdown",
      "source": [
        "# Data"
      ],
      "metadata": {
        "id": "hAbc0QfJh2kn"
      }
    },
    {
      "cell_type": "code",
      "source": [
        "url = 'https://github.com/Ben-physics-dotcom/Internships/raw/main/GPR1/Data/T7-Spezifische-W%C3%A4rmemenge.xlsx'\n",
        "xl = pd.ExcelFile(url)\n",
        "xl.sheet_names"
      ],
      "metadata": {
        "colab": {
          "base_uri": "https://localhost:8080/"
        },
        "id": "et71XGK-h32h",
        "outputId": "07b58c42-75be-4b4e-ec6f-7dd4ef94c2ea"
      },
      "execution_count": 3,
      "outputs": [
        {
          "output_type": "execute_result",
          "data": {
            "text/plain": [
              "['Adiabatischexponent', 'A2-und-A3']"
            ]
          },
          "metadata": {},
          "execution_count": 3
        }
      ]
    },
    {
      "cell_type": "code",
      "source": [
        "df1 = pd.read_excel(xl,'Adiabatischexponent')\n",
        "df2 = pd.read_excel(xl,'A2-und-A3')"
      ],
      "metadata": {
        "id": "BcVYh9x1iCWC"
      },
      "execution_count": 4,
      "outputs": []
    },
    {
      "cell_type": "markdown",
      "source": [
        "# Aufgabe 1"
      ],
      "metadata": {
        "id": "4lYe88tTiQiJ"
      }
    },
    {
      "cell_type": "code",
      "source": [
        "df1.head()"
      ],
      "metadata": {
        "colab": {
          "base_uri": "https://localhost:8080/",
          "height": 224
        },
        "id": "j-ma-vw4iSmh",
        "outputId": "4c7f8bfd-e52d-4167-e8a0-6a40950fd87b"
      },
      "execution_count": 5,
      "outputs": [
        {
          "output_type": "execute_result",
          "data": {
            "text/plain": [
              "   Unnamed: 0  n  h11 [cm]  h12 [cm]  h21 [cm]  h22 [cm]  h31 [cm]  h32 [cm]  \\\n",
              "0           0  1       6.8      13.4      9.90      10.5       6.9      13.5   \n",
              "1           1  2       6.9      13.5      9.70      10.6       7.0      13.3   \n",
              "2           2  3       6.9      13.5      9.55      10.7       7.0      13.3   \n",
              "3           3  4       6.9      13.5      9.50      10.8       7.0      13.3   \n",
              "4           4  5       6.9      13.6      9.45      10.8       7.0      13.3   \n",
              "\n",
              "   h41 [cm]  h42 [cm]  h51 [cm]  h52 [cm]  h61 [cm]  h62 [cm]  h71 [cm]  \\\n",
              "0     10.00     10.50      6.75     13.45     10.00     10.30       5.7   \n",
              "1      9.40     10.90      7.00     13.25      9.30     11.00       6.2   \n",
              "2      9.30     11.00      7.00     13.30      9.30     11.00       6.2   \n",
              "3      9.25     11.05      7.00     13.30      9.25     11.05       6.2   \n",
              "4      9.25     11.05      7.00     13.30      9.25     11.10       6.2   \n",
              "\n",
              "   h72 [cm]  h81 [cm]  h82 [cm]  \n",
              "0     14.30     10.00     10.30  \n",
              "1     14.05      9.25     11.10  \n",
              "2     14.00      9.15     11.20  \n",
              "3     14.00      9.20     11.10  \n",
              "4     14.00      9.10     11.25  "
            ],
            "text/html": [
              "\n",
              "  <div id=\"df-91b1af03-1cc8-40ca-93fc-fc7e5a223911\" class=\"colab-df-container\">\n",
              "    <div>\n",
              "<style scoped>\n",
              "    .dataframe tbody tr th:only-of-type {\n",
              "        vertical-align: middle;\n",
              "    }\n",
              "\n",
              "    .dataframe tbody tr th {\n",
              "        vertical-align: top;\n",
              "    }\n",
              "\n",
              "    .dataframe thead th {\n",
              "        text-align: right;\n",
              "    }\n",
              "</style>\n",
              "<table border=\"1\" class=\"dataframe\">\n",
              "  <thead>\n",
              "    <tr style=\"text-align: right;\">\n",
              "      <th></th>\n",
              "      <th>Unnamed: 0</th>\n",
              "      <th>n</th>\n",
              "      <th>h11 [cm]</th>\n",
              "      <th>h12 [cm]</th>\n",
              "      <th>h21 [cm]</th>\n",
              "      <th>h22 [cm]</th>\n",
              "      <th>h31 [cm]</th>\n",
              "      <th>h32 [cm]</th>\n",
              "      <th>h41 [cm]</th>\n",
              "      <th>h42 [cm]</th>\n",
              "      <th>h51 [cm]</th>\n",
              "      <th>h52 [cm]</th>\n",
              "      <th>h61 [cm]</th>\n",
              "      <th>h62 [cm]</th>\n",
              "      <th>h71 [cm]</th>\n",
              "      <th>h72 [cm]</th>\n",
              "      <th>h81 [cm]</th>\n",
              "      <th>h82 [cm]</th>\n",
              "    </tr>\n",
              "  </thead>\n",
              "  <tbody>\n",
              "    <tr>\n",
              "      <th>0</th>\n",
              "      <td>0</td>\n",
              "      <td>1</td>\n",
              "      <td>6.8</td>\n",
              "      <td>13.4</td>\n",
              "      <td>9.90</td>\n",
              "      <td>10.5</td>\n",
              "      <td>6.9</td>\n",
              "      <td>13.5</td>\n",
              "      <td>10.00</td>\n",
              "      <td>10.50</td>\n",
              "      <td>6.75</td>\n",
              "      <td>13.45</td>\n",
              "      <td>10.00</td>\n",
              "      <td>10.30</td>\n",
              "      <td>5.7</td>\n",
              "      <td>14.30</td>\n",
              "      <td>10.00</td>\n",
              "      <td>10.30</td>\n",
              "    </tr>\n",
              "    <tr>\n",
              "      <th>1</th>\n",
              "      <td>1</td>\n",
              "      <td>2</td>\n",
              "      <td>6.9</td>\n",
              "      <td>13.5</td>\n",
              "      <td>9.70</td>\n",
              "      <td>10.6</td>\n",
              "      <td>7.0</td>\n",
              "      <td>13.3</td>\n",
              "      <td>9.40</td>\n",
              "      <td>10.90</td>\n",
              "      <td>7.00</td>\n",
              "      <td>13.25</td>\n",
              "      <td>9.30</td>\n",
              "      <td>11.00</td>\n",
              "      <td>6.2</td>\n",
              "      <td>14.05</td>\n",
              "      <td>9.25</td>\n",
              "      <td>11.10</td>\n",
              "    </tr>\n",
              "    <tr>\n",
              "      <th>2</th>\n",
              "      <td>2</td>\n",
              "      <td>3</td>\n",
              "      <td>6.9</td>\n",
              "      <td>13.5</td>\n",
              "      <td>9.55</td>\n",
              "      <td>10.7</td>\n",
              "      <td>7.0</td>\n",
              "      <td>13.3</td>\n",
              "      <td>9.30</td>\n",
              "      <td>11.00</td>\n",
              "      <td>7.00</td>\n",
              "      <td>13.30</td>\n",
              "      <td>9.30</td>\n",
              "      <td>11.00</td>\n",
              "      <td>6.2</td>\n",
              "      <td>14.00</td>\n",
              "      <td>9.15</td>\n",
              "      <td>11.20</td>\n",
              "    </tr>\n",
              "    <tr>\n",
              "      <th>3</th>\n",
              "      <td>3</td>\n",
              "      <td>4</td>\n",
              "      <td>6.9</td>\n",
              "      <td>13.5</td>\n",
              "      <td>9.50</td>\n",
              "      <td>10.8</td>\n",
              "      <td>7.0</td>\n",
              "      <td>13.3</td>\n",
              "      <td>9.25</td>\n",
              "      <td>11.05</td>\n",
              "      <td>7.00</td>\n",
              "      <td>13.30</td>\n",
              "      <td>9.25</td>\n",
              "      <td>11.05</td>\n",
              "      <td>6.2</td>\n",
              "      <td>14.00</td>\n",
              "      <td>9.20</td>\n",
              "      <td>11.10</td>\n",
              "    </tr>\n",
              "    <tr>\n",
              "      <th>4</th>\n",
              "      <td>4</td>\n",
              "      <td>5</td>\n",
              "      <td>6.9</td>\n",
              "      <td>13.6</td>\n",
              "      <td>9.45</td>\n",
              "      <td>10.8</td>\n",
              "      <td>7.0</td>\n",
              "      <td>13.3</td>\n",
              "      <td>9.25</td>\n",
              "      <td>11.05</td>\n",
              "      <td>7.00</td>\n",
              "      <td>13.30</td>\n",
              "      <td>9.25</td>\n",
              "      <td>11.10</td>\n",
              "      <td>6.2</td>\n",
              "      <td>14.00</td>\n",
              "      <td>9.10</td>\n",
              "      <td>11.25</td>\n",
              "    </tr>\n",
              "  </tbody>\n",
              "</table>\n",
              "</div>\n",
              "    <div class=\"colab-df-buttons\">\n",
              "\n",
              "  <div class=\"colab-df-container\">\n",
              "    <button class=\"colab-df-convert\" onclick=\"convertToInteractive('df-91b1af03-1cc8-40ca-93fc-fc7e5a223911')\"\n",
              "            title=\"Convert this dataframe to an interactive table.\"\n",
              "            style=\"display:none;\">\n",
              "\n",
              "  <svg xmlns=\"http://www.w3.org/2000/svg\" height=\"24px\" viewBox=\"0 -960 960 960\">\n",
              "    <path d=\"M120-120v-720h720v720H120Zm60-500h600v-160H180v160Zm220 220h160v-160H400v160Zm0 220h160v-160H400v160ZM180-400h160v-160H180v160Zm440 0h160v-160H620v160ZM180-180h160v-160H180v160Zm440 0h160v-160H620v160Z\"/>\n",
              "  </svg>\n",
              "    </button>\n",
              "\n",
              "  <style>\n",
              "    .colab-df-container {\n",
              "      display:flex;\n",
              "      gap: 12px;\n",
              "    }\n",
              "\n",
              "    .colab-df-convert {\n",
              "      background-color: #E8F0FE;\n",
              "      border: none;\n",
              "      border-radius: 50%;\n",
              "      cursor: pointer;\n",
              "      display: none;\n",
              "      fill: #1967D2;\n",
              "      height: 32px;\n",
              "      padding: 0 0 0 0;\n",
              "      width: 32px;\n",
              "    }\n",
              "\n",
              "    .colab-df-convert:hover {\n",
              "      background-color: #E2EBFA;\n",
              "      box-shadow: 0px 1px 2px rgba(60, 64, 67, 0.3), 0px 1px 3px 1px rgba(60, 64, 67, 0.15);\n",
              "      fill: #174EA6;\n",
              "    }\n",
              "\n",
              "    .colab-df-buttons div {\n",
              "      margin-bottom: 4px;\n",
              "    }\n",
              "\n",
              "    [theme=dark] .colab-df-convert {\n",
              "      background-color: #3B4455;\n",
              "      fill: #D2E3FC;\n",
              "    }\n",
              "\n",
              "    [theme=dark] .colab-df-convert:hover {\n",
              "      background-color: #434B5C;\n",
              "      box-shadow: 0px 1px 3px 1px rgba(0, 0, 0, 0.15);\n",
              "      filter: drop-shadow(0px 1px 2px rgba(0, 0, 0, 0.3));\n",
              "      fill: #FFFFFF;\n",
              "    }\n",
              "  </style>\n",
              "\n",
              "    <script>\n",
              "      const buttonEl =\n",
              "        document.querySelector('#df-91b1af03-1cc8-40ca-93fc-fc7e5a223911 button.colab-df-convert');\n",
              "      buttonEl.style.display =\n",
              "        google.colab.kernel.accessAllowed ? 'block' : 'none';\n",
              "\n",
              "      async function convertToInteractive(key) {\n",
              "        const element = document.querySelector('#df-91b1af03-1cc8-40ca-93fc-fc7e5a223911');\n",
              "        const dataTable =\n",
              "          await google.colab.kernel.invokeFunction('convertToInteractive',\n",
              "                                                    [key], {});\n",
              "        if (!dataTable) return;\n",
              "\n",
              "        const docLinkHtml = 'Like what you see? Visit the ' +\n",
              "          '<a target=\"_blank\" href=https://colab.research.google.com/notebooks/data_table.ipynb>data table notebook</a>'\n",
              "          + ' to learn more about interactive tables.';\n",
              "        element.innerHTML = '';\n",
              "        dataTable['output_type'] = 'display_data';\n",
              "        await google.colab.output.renderOutput(dataTable, element);\n",
              "        const docLink = document.createElement('div');\n",
              "        docLink.innerHTML = docLinkHtml;\n",
              "        element.appendChild(docLink);\n",
              "      }\n",
              "    </script>\n",
              "  </div>\n",
              "\n",
              "\n",
              "<div id=\"df-1c0ca19e-58a3-4a7b-9f5e-f29c6ff69a20\">\n",
              "  <button class=\"colab-df-quickchart\" onclick=\"quickchart('df-1c0ca19e-58a3-4a7b-9f5e-f29c6ff69a20')\"\n",
              "            title=\"Suggest charts\"\n",
              "            style=\"display:none;\">\n",
              "\n",
              "<svg xmlns=\"http://www.w3.org/2000/svg\" height=\"24px\"viewBox=\"0 0 24 24\"\n",
              "     width=\"24px\">\n",
              "    <g>\n",
              "        <path d=\"M19 3H5c-1.1 0-2 .9-2 2v14c0 1.1.9 2 2 2h14c1.1 0 2-.9 2-2V5c0-1.1-.9-2-2-2zM9 17H7v-7h2v7zm4 0h-2V7h2v10zm4 0h-2v-4h2v4z\"/>\n",
              "    </g>\n",
              "</svg>\n",
              "  </button>\n",
              "\n",
              "<style>\n",
              "  .colab-df-quickchart {\n",
              "      --bg-color: #E8F0FE;\n",
              "      --fill-color: #1967D2;\n",
              "      --hover-bg-color: #E2EBFA;\n",
              "      --hover-fill-color: #174EA6;\n",
              "      --disabled-fill-color: #AAA;\n",
              "      --disabled-bg-color: #DDD;\n",
              "  }\n",
              "\n",
              "  [theme=dark] .colab-df-quickchart {\n",
              "      --bg-color: #3B4455;\n",
              "      --fill-color: #D2E3FC;\n",
              "      --hover-bg-color: #434B5C;\n",
              "      --hover-fill-color: #FFFFFF;\n",
              "      --disabled-bg-color: #3B4455;\n",
              "      --disabled-fill-color: #666;\n",
              "  }\n",
              "\n",
              "  .colab-df-quickchart {\n",
              "    background-color: var(--bg-color);\n",
              "    border: none;\n",
              "    border-radius: 50%;\n",
              "    cursor: pointer;\n",
              "    display: none;\n",
              "    fill: var(--fill-color);\n",
              "    height: 32px;\n",
              "    padding: 0;\n",
              "    width: 32px;\n",
              "  }\n",
              "\n",
              "  .colab-df-quickchart:hover {\n",
              "    background-color: var(--hover-bg-color);\n",
              "    box-shadow: 0 1px 2px rgba(60, 64, 67, 0.3), 0 1px 3px 1px rgba(60, 64, 67, 0.15);\n",
              "    fill: var(--button-hover-fill-color);\n",
              "  }\n",
              "\n",
              "  .colab-df-quickchart-complete:disabled,\n",
              "  .colab-df-quickchart-complete:disabled:hover {\n",
              "    background-color: var(--disabled-bg-color);\n",
              "    fill: var(--disabled-fill-color);\n",
              "    box-shadow: none;\n",
              "  }\n",
              "\n",
              "  .colab-df-spinner {\n",
              "    border: 2px solid var(--fill-color);\n",
              "    border-color: transparent;\n",
              "    border-bottom-color: var(--fill-color);\n",
              "    animation:\n",
              "      spin 1s steps(1) infinite;\n",
              "  }\n",
              "\n",
              "  @keyframes spin {\n",
              "    0% {\n",
              "      border-color: transparent;\n",
              "      border-bottom-color: var(--fill-color);\n",
              "      border-left-color: var(--fill-color);\n",
              "    }\n",
              "    20% {\n",
              "      border-color: transparent;\n",
              "      border-left-color: var(--fill-color);\n",
              "      border-top-color: var(--fill-color);\n",
              "    }\n",
              "    30% {\n",
              "      border-color: transparent;\n",
              "      border-left-color: var(--fill-color);\n",
              "      border-top-color: var(--fill-color);\n",
              "      border-right-color: var(--fill-color);\n",
              "    }\n",
              "    40% {\n",
              "      border-color: transparent;\n",
              "      border-right-color: var(--fill-color);\n",
              "      border-top-color: var(--fill-color);\n",
              "    }\n",
              "    60% {\n",
              "      border-color: transparent;\n",
              "      border-right-color: var(--fill-color);\n",
              "    }\n",
              "    80% {\n",
              "      border-color: transparent;\n",
              "      border-right-color: var(--fill-color);\n",
              "      border-bottom-color: var(--fill-color);\n",
              "    }\n",
              "    90% {\n",
              "      border-color: transparent;\n",
              "      border-bottom-color: var(--fill-color);\n",
              "    }\n",
              "  }\n",
              "</style>\n",
              "\n",
              "  <script>\n",
              "    async function quickchart(key) {\n",
              "      const quickchartButtonEl =\n",
              "        document.querySelector('#' + key + ' button');\n",
              "      quickchartButtonEl.disabled = true;  // To prevent multiple clicks.\n",
              "      quickchartButtonEl.classList.add('colab-df-spinner');\n",
              "      try {\n",
              "        const charts = await google.colab.kernel.invokeFunction(\n",
              "            'suggestCharts', [key], {});\n",
              "      } catch (error) {\n",
              "        console.error('Error during call to suggestCharts:', error);\n",
              "      }\n",
              "      quickchartButtonEl.classList.remove('colab-df-spinner');\n",
              "      quickchartButtonEl.classList.add('colab-df-quickchart-complete');\n",
              "    }\n",
              "    (() => {\n",
              "      let quickchartButtonEl =\n",
              "        document.querySelector('#df-1c0ca19e-58a3-4a7b-9f5e-f29c6ff69a20 button');\n",
              "      quickchartButtonEl.style.display =\n",
              "        google.colab.kernel.accessAllowed ? 'block' : 'none';\n",
              "    })();\n",
              "  </script>\n",
              "</div>\n",
              "    </div>\n",
              "  </div>\n"
            ],
            "application/vnd.google.colaboratory.intrinsic+json": {
              "type": "dataframe",
              "variable_name": "df1",
              "summary": "{\n  \"name\": \"df1\",\n  \"rows\": 5,\n  \"fields\": [\n    {\n      \"column\": \"Unnamed: 0\",\n      \"properties\": {\n        \"dtype\": \"number\",\n        \"std\": 1,\n        \"min\": 0,\n        \"max\": 4,\n        \"num_unique_values\": 5,\n        \"samples\": [\n          1,\n          4,\n          2\n        ],\n        \"semantic_type\": \"\",\n        \"description\": \"\"\n      }\n    },\n    {\n      \"column\": \"n\",\n      \"properties\": {\n        \"dtype\": \"number\",\n        \"std\": 1,\n        \"min\": 1,\n        \"max\": 5,\n        \"num_unique_values\": 5,\n        \"samples\": [\n          2,\n          5,\n          3\n        ],\n        \"semantic_type\": \"\",\n        \"description\": \"\"\n      }\n    },\n    {\n      \"column\": \"h11 [cm]\",\n      \"properties\": {\n        \"dtype\": \"number\",\n        \"std\": 0.04472135954999603,\n        \"min\": 6.8,\n        \"max\": 6.9,\n        \"num_unique_values\": 2,\n        \"samples\": [\n          6.9,\n          6.8\n        ],\n        \"semantic_type\": \"\",\n        \"description\": \"\"\n      }\n    },\n    {\n      \"column\": \"h12 [cm]\",\n      \"properties\": {\n        \"dtype\": \"number\",\n        \"std\": 0.0707106781186545,\n        \"min\": 13.4,\n        \"max\": 13.6,\n        \"num_unique_values\": 3,\n        \"samples\": [\n          13.4,\n          13.5\n        ],\n        \"semantic_type\": \"\",\n        \"description\": \"\"\n      }\n    },\n    {\n      \"column\": \"h21 [cm]\",\n      \"properties\": {\n        \"dtype\": \"number\",\n        \"std\": 0.18234582528810483,\n        \"min\": 9.45,\n        \"max\": 9.9,\n        \"num_unique_values\": 5,\n        \"samples\": [\n          9.7,\n          9.45\n        ],\n        \"semantic_type\": \"\",\n        \"description\": \"\"\n      }\n    },\n    {\n      \"column\": \"h22 [cm]\",\n      \"properties\": {\n        \"dtype\": \"number\",\n        \"std\": 0.13038404810405335,\n        \"min\": 10.5,\n        \"max\": 10.8,\n        \"num_unique_values\": 4,\n        \"samples\": [\n          10.6,\n          10.8\n        ],\n        \"semantic_type\": \"\",\n        \"description\": \"\"\n      }\n    },\n    {\n      \"column\": \"h31 [cm]\",\n      \"properties\": {\n        \"dtype\": \"number\",\n        \"std\": 0.044721359549995635,\n        \"min\": 6.9,\n        \"max\": 7.0,\n        \"num_unique_values\": 2,\n        \"samples\": [\n          7.0,\n          6.9\n        ],\n        \"semantic_type\": \"\",\n        \"description\": \"\"\n      }\n    },\n    {\n      \"column\": \"h32 [cm]\",\n      \"properties\": {\n        \"dtype\": \"number\",\n        \"std\": 0.08944271909999127,\n        \"min\": 13.3,\n        \"max\": 13.5,\n        \"num_unique_values\": 2,\n        \"samples\": [\n          13.3,\n          13.5\n        ],\n        \"semantic_type\": \"\",\n        \"description\": \"\"\n      }\n    },\n    {\n      \"column\": \"h41 [cm]\",\n      \"properties\": {\n        \"dtype\": \"number\",\n        \"std\": 0.31898275815473154,\n        \"min\": 9.25,\n        \"max\": 10.0,\n        \"num_unique_values\": 4,\n        \"samples\": [\n          9.4,\n          9.25\n        ],\n        \"semantic_type\": \"\",\n        \"description\": \"\"\n      }\n    },\n    {\n      \"column\": \"h42 [cm]\",\n      \"properties\": {\n        \"dtype\": \"number\",\n        \"std\": 0.2318404623873928,\n        \"min\": 10.5,\n        \"max\": 11.05,\n        \"num_unique_values\": 4,\n        \"samples\": [\n          10.9,\n          11.05\n        ],\n        \"semantic_type\": \"\",\n        \"description\": \"\"\n      }\n    },\n    {\n      \"column\": \"h51 [cm]\",\n      \"properties\": {\n        \"dtype\": \"number\",\n        \"std\": 0.11180339887498948,\n        \"min\": 6.75,\n        \"max\": 7.0,\n        \"num_unique_values\": 2,\n        \"samples\": [\n          7.0,\n          6.75\n        ],\n        \"semantic_type\": \"\",\n        \"description\": \"\"\n      }\n    },\n    {\n      \"column\": \"h52 [cm]\",\n      \"properties\": {\n        \"dtype\": \"number\",\n        \"std\": 0.07582875444051505,\n        \"min\": 13.25,\n        \"max\": 13.45,\n        \"num_unique_values\": 3,\n        \"samples\": [\n          13.45,\n          13.25\n        ],\n        \"semantic_type\": \"\",\n        \"description\": \"\"\n      }\n    },\n    {\n      \"column\": \"h61 [cm]\",\n      \"properties\": {\n        \"dtype\": \"number\",\n        \"std\": 0.3251922508301819,\n        \"min\": 9.25,\n        \"max\": 10.0,\n        \"num_unique_values\": 3,\n        \"samples\": [\n          10.0,\n          9.3\n        ],\n        \"semantic_type\": \"\",\n        \"description\": \"\"\n      }\n    },\n    {\n      \"column\": \"h62 [cm]\",\n      \"properties\": {\n        \"dtype\": \"number\",\n        \"std\": 0.33241540277189296,\n        \"min\": 10.3,\n        \"max\": 11.1,\n        \"num_unique_values\": 4,\n        \"samples\": [\n          11.0,\n          11.1\n        ],\n        \"semantic_type\": \"\",\n        \"description\": \"\"\n      }\n    },\n    {\n      \"column\": \"h71 [cm]\",\n      \"properties\": {\n        \"dtype\": \"number\",\n        \"std\": 0.22360679774997902,\n        \"min\": 5.7,\n        \"max\": 6.2,\n        \"num_unique_values\": 2,\n        \"samples\": [\n          6.2,\n          5.7\n        ],\n        \"semantic_type\": \"\",\n        \"description\": \"\"\n      }\n    },\n    {\n      \"column\": \"h72 [cm]\",\n      \"properties\": {\n        \"dtype\": \"number\",\n        \"std\": 0.13038404810405327,\n        \"min\": 14.0,\n        \"max\": 14.3,\n        \"num_unique_values\": 3,\n        \"samples\": [\n          14.3,\n          14.05\n        ],\n        \"semantic_type\": \"\",\n        \"description\": \"\"\n      }\n    },\n    {\n      \"column\": \"h81 [cm]\",\n      \"properties\": {\n        \"dtype\": \"number\",\n        \"std\": 0.3731621631409059,\n        \"min\": 9.1,\n        \"max\": 10.0,\n        \"num_unique_values\": 5,\n        \"samples\": [\n          9.25,\n          9.1\n        ],\n        \"semantic_type\": \"\",\n        \"description\": \"\"\n      }\n    },\n    {\n      \"column\": \"h82 [cm]\",\n      \"properties\": {\n        \"dtype\": \"number\",\n        \"std\": 0.39115214431215845,\n        \"min\": 10.3,\n        \"max\": 11.25,\n        \"num_unique_values\": 4,\n        \"samples\": [\n          11.1,\n          11.25\n        ],\n        \"semantic_type\": \"\",\n        \"description\": \"\"\n      }\n    }\n  ]\n}"
            }
          },
          "metadata": {},
          "execution_count": 5
        }
      ]
    },
    {
      "cell_type": "markdown",
      "source": [
        "Funktion 15: $\\kappa = \\frac{h1}{h1-h2}"
      ],
      "metadata": {
        "id": "obJoRx6sjHif"
      }
    },
    {
      "cell_type": "code",
      "source": [
        "k1 = df1['h11 [cm]']/(df1['h11 [cm]']-df1['h12 [cm]'])\n",
        "k1 = round(k1.mean(),2)\n",
        "k1_std = k1.std()\n",
        "print(f'$\\kappa$: {k1}$\\pm${k1_std}')\n",
        "k1_std"
      ],
      "metadata": {
        "colab": {
          "base_uri": "https://localhost:8080/"
        },
        "id": "z1m3AGjEiw8p",
        "outputId": "17355392-7e5f-45ee-e9d6-b6001fd48059"
      },
      "execution_count": 6,
      "outputs": [
        {
          "output_type": "stream",
          "name": "stdout",
          "text": [
            "$\\kappa$: -1.04$\\pm$0.0\n"
          ]
        },
        {
          "output_type": "execute_result",
          "data": {
            "text/plain": [
              "0.0"
            ]
          },
          "metadata": {},
          "execution_count": 6
        }
      ]
    },
    {
      "cell_type": "code",
      "source": [
        "k2 = df1['h21 [cm]']/(df1['h21 [cm]']-df1['h22 [cm]'])\n",
        "k2 = round(k2.mean(),2)\n",
        "k2_std = k2.std()\n",
        "print(f'$\\kappa$: {k2}$\\pm${k2_std}')\n",
        "k2_std"
      ],
      "metadata": {
        "colab": {
          "base_uri": "https://localhost:8080/"
        },
        "id": "Zvj6qE9XkJKw",
        "outputId": "31136eb8-493c-4ee9-9251-42e6aae7fe73"
      },
      "execution_count": 7,
      "outputs": [
        {
          "output_type": "stream",
          "name": "stdout",
          "text": [
            "$\\kappa$: -9.98$\\pm$0.0\n"
          ]
        },
        {
          "output_type": "execute_result",
          "data": {
            "text/plain": [
              "0.0"
            ]
          },
          "metadata": {},
          "execution_count": 7
        }
      ]
    },
    {
      "cell_type": "code",
      "source": [
        "k3 = df1['h31 [cm]']/(df1['h31 [cm]']-df1['h32 [cm]'])\n",
        "k3 = round(k3.mean(),2)\n",
        "k3_std = k3.std()\n",
        "print(f'$\\kappa$: {k3}$\\pm${k3_std}')\n",
        "k3_std"
      ],
      "metadata": {
        "colab": {
          "base_uri": "https://localhost:8080/"
        },
        "id": "3VarRjhekZ04",
        "outputId": "63081d0b-621a-4827-d249-1e5233d644bf"
      },
      "execution_count": 8,
      "outputs": [
        {
          "output_type": "stream",
          "name": "stdout",
          "text": [
            "$\\kappa$: -1.1$\\pm$0.0\n"
          ]
        },
        {
          "output_type": "execute_result",
          "data": {
            "text/plain": [
              "0.0"
            ]
          },
          "metadata": {},
          "execution_count": 8
        }
      ]
    },
    {
      "cell_type": "code",
      "source": [
        "k4 = df1['h41 [cm]']/(df1['h41 [cm]']-df1['h42 [cm]'])\n",
        "k4 = round(k4.mean(),2)\n",
        "k4_std = k4.std()\n",
        "print(f'$\\kappa$: {k4}$\\pm${k4_std}')\n",
        "k4_std"
      ],
      "metadata": {
        "colab": {
          "base_uri": "https://localhost:8080/"
        },
        "id": "jznbpaCJkvOA",
        "outputId": "3f1710c4-6cfe-4aef-fae3-edeae747f47d"
      },
      "execution_count": 9,
      "outputs": [
        {
          "output_type": "stream",
          "name": "stdout",
          "text": [
            "$\\kappa$: -8.4$\\pm$0.0\n"
          ]
        },
        {
          "output_type": "execute_result",
          "data": {
            "text/plain": [
              "0.0"
            ]
          },
          "metadata": {},
          "execution_count": 9
        }
      ]
    },
    {
      "cell_type": "code",
      "source": [
        "k5 = df1['h51 [cm]']/(df1['h51 [cm]']-df1['h52 [cm]'])\n",
        "k5 = round(k5.mean(),2)\n",
        "k5_std = k5.std()\n",
        "print(f'$\\kappa$: {k5}$\\pm${k5_std}')\n",
        "k5_std"
      ],
      "metadata": {
        "colab": {
          "base_uri": "https://localhost:8080/"
        },
        "id": "-meHngrilGpB",
        "outputId": "f034c2e8-0391-47e1-f7c6-a7e939697559"
      },
      "execution_count": 10,
      "outputs": [
        {
          "output_type": "stream",
          "name": "stdout",
          "text": [
            "$\\kappa$: -1.09$\\pm$0.0\n"
          ]
        },
        {
          "output_type": "execute_result",
          "data": {
            "text/plain": [
              "0.0"
            ]
          },
          "metadata": {},
          "execution_count": 10
        }
      ]
    },
    {
      "cell_type": "markdown",
      "source": [
        "et cetera ..."
      ],
      "metadata": {
        "id": "gauDla0plSgP"
      }
    },
    {
      "cell_type": "markdown",
      "source": [
        "# Aufgabe 2"
      ],
      "metadata": {
        "id": "Af12eju9lWFe"
      }
    },
    {
      "cell_type": "markdown",
      "source": [
        "$$ \\kappa = \\frac{4Vm}{r^4pT^2} $$"
      ],
      "metadata": {
        "id": "ohjbSSPh8Yt-"
      }
    },
    {
      "cell_type": "code",
      "source": [
        "df2.head()"
      ],
      "metadata": {
        "colab": {
          "base_uri": "https://localhost:8080/",
          "height": 206
        },
        "id": "Yb2YjgVJlVnX",
        "outputId": "861baa52-fcee-4622-9ee8-8f0370efc038"
      },
      "execution_count": 11,
      "outputs": [
        {
          "output_type": "execute_result",
          "data": {
            "text/plain": [
              "   Unnamed: 0  n  T_100 (Luft) [s]  T_100 (Argon) [s]  \\\n",
              "0           0  1             57.70              53.56   \n",
              "1           1  2             57.66              53.52   \n",
              "2           2  3             57.66              53.54   \n",
              "3           3  4             57.64              53.54   \n",
              "4           4  5             57.65              53.58   \n",
              "\n",
              "                                             info  \n",
              "0  T_100 meint Periodendauer für 100 Schwingungen  \n",
              "1     keine Abmessungen Foto nicht mehr vorhanden  \n",
              "2                            Luftschwingungen: 70  \n",
              "3                         Argon Schwingungen: 146  \n",
              "4                 Druck: 1kPa, Temperatur: 22.5°C  "
            ],
            "text/html": [
              "\n",
              "  <div id=\"df-0bf96d09-0518-4451-9820-b2f0bcca49d5\" class=\"colab-df-container\">\n",
              "    <div>\n",
              "<style scoped>\n",
              "    .dataframe tbody tr th:only-of-type {\n",
              "        vertical-align: middle;\n",
              "    }\n",
              "\n",
              "    .dataframe tbody tr th {\n",
              "        vertical-align: top;\n",
              "    }\n",
              "\n",
              "    .dataframe thead th {\n",
              "        text-align: right;\n",
              "    }\n",
              "</style>\n",
              "<table border=\"1\" class=\"dataframe\">\n",
              "  <thead>\n",
              "    <tr style=\"text-align: right;\">\n",
              "      <th></th>\n",
              "      <th>Unnamed: 0</th>\n",
              "      <th>n</th>\n",
              "      <th>T_100 (Luft) [s]</th>\n",
              "      <th>T_100 (Argon) [s]</th>\n",
              "      <th>info</th>\n",
              "    </tr>\n",
              "  </thead>\n",
              "  <tbody>\n",
              "    <tr>\n",
              "      <th>0</th>\n",
              "      <td>0</td>\n",
              "      <td>1</td>\n",
              "      <td>57.70</td>\n",
              "      <td>53.56</td>\n",
              "      <td>T_100 meint Periodendauer für 100 Schwingungen</td>\n",
              "    </tr>\n",
              "    <tr>\n",
              "      <th>1</th>\n",
              "      <td>1</td>\n",
              "      <td>2</td>\n",
              "      <td>57.66</td>\n",
              "      <td>53.52</td>\n",
              "      <td>keine Abmessungen Foto nicht mehr vorhanden</td>\n",
              "    </tr>\n",
              "    <tr>\n",
              "      <th>2</th>\n",
              "      <td>2</td>\n",
              "      <td>3</td>\n",
              "      <td>57.66</td>\n",
              "      <td>53.54</td>\n",
              "      <td>Luftschwingungen: 70</td>\n",
              "    </tr>\n",
              "    <tr>\n",
              "      <th>3</th>\n",
              "      <td>3</td>\n",
              "      <td>4</td>\n",
              "      <td>57.64</td>\n",
              "      <td>53.54</td>\n",
              "      <td>Argon Schwingungen: 146</td>\n",
              "    </tr>\n",
              "    <tr>\n",
              "      <th>4</th>\n",
              "      <td>4</td>\n",
              "      <td>5</td>\n",
              "      <td>57.65</td>\n",
              "      <td>53.58</td>\n",
              "      <td>Druck: 1kPa, Temperatur: 22.5°C</td>\n",
              "    </tr>\n",
              "  </tbody>\n",
              "</table>\n",
              "</div>\n",
              "    <div class=\"colab-df-buttons\">\n",
              "\n",
              "  <div class=\"colab-df-container\">\n",
              "    <button class=\"colab-df-convert\" onclick=\"convertToInteractive('df-0bf96d09-0518-4451-9820-b2f0bcca49d5')\"\n",
              "            title=\"Convert this dataframe to an interactive table.\"\n",
              "            style=\"display:none;\">\n",
              "\n",
              "  <svg xmlns=\"http://www.w3.org/2000/svg\" height=\"24px\" viewBox=\"0 -960 960 960\">\n",
              "    <path d=\"M120-120v-720h720v720H120Zm60-500h600v-160H180v160Zm220 220h160v-160H400v160Zm0 220h160v-160H400v160ZM180-400h160v-160H180v160Zm440 0h160v-160H620v160ZM180-180h160v-160H180v160Zm440 0h160v-160H620v160Z\"/>\n",
              "  </svg>\n",
              "    </button>\n",
              "\n",
              "  <style>\n",
              "    .colab-df-container {\n",
              "      display:flex;\n",
              "      gap: 12px;\n",
              "    }\n",
              "\n",
              "    .colab-df-convert {\n",
              "      background-color: #E8F0FE;\n",
              "      border: none;\n",
              "      border-radius: 50%;\n",
              "      cursor: pointer;\n",
              "      display: none;\n",
              "      fill: #1967D2;\n",
              "      height: 32px;\n",
              "      padding: 0 0 0 0;\n",
              "      width: 32px;\n",
              "    }\n",
              "\n",
              "    .colab-df-convert:hover {\n",
              "      background-color: #E2EBFA;\n",
              "      box-shadow: 0px 1px 2px rgba(60, 64, 67, 0.3), 0px 1px 3px 1px rgba(60, 64, 67, 0.15);\n",
              "      fill: #174EA6;\n",
              "    }\n",
              "\n",
              "    .colab-df-buttons div {\n",
              "      margin-bottom: 4px;\n",
              "    }\n",
              "\n",
              "    [theme=dark] .colab-df-convert {\n",
              "      background-color: #3B4455;\n",
              "      fill: #D2E3FC;\n",
              "    }\n",
              "\n",
              "    [theme=dark] .colab-df-convert:hover {\n",
              "      background-color: #434B5C;\n",
              "      box-shadow: 0px 1px 3px 1px rgba(0, 0, 0, 0.15);\n",
              "      filter: drop-shadow(0px 1px 2px rgba(0, 0, 0, 0.3));\n",
              "      fill: #FFFFFF;\n",
              "    }\n",
              "  </style>\n",
              "\n",
              "    <script>\n",
              "      const buttonEl =\n",
              "        document.querySelector('#df-0bf96d09-0518-4451-9820-b2f0bcca49d5 button.colab-df-convert');\n",
              "      buttonEl.style.display =\n",
              "        google.colab.kernel.accessAllowed ? 'block' : 'none';\n",
              "\n",
              "      async function convertToInteractive(key) {\n",
              "        const element = document.querySelector('#df-0bf96d09-0518-4451-9820-b2f0bcca49d5');\n",
              "        const dataTable =\n",
              "          await google.colab.kernel.invokeFunction('convertToInteractive',\n",
              "                                                    [key], {});\n",
              "        if (!dataTable) return;\n",
              "\n",
              "        const docLinkHtml = 'Like what you see? Visit the ' +\n",
              "          '<a target=\"_blank\" href=https://colab.research.google.com/notebooks/data_table.ipynb>data table notebook</a>'\n",
              "          + ' to learn more about interactive tables.';\n",
              "        element.innerHTML = '';\n",
              "        dataTable['output_type'] = 'display_data';\n",
              "        await google.colab.output.renderOutput(dataTable, element);\n",
              "        const docLink = document.createElement('div');\n",
              "        docLink.innerHTML = docLinkHtml;\n",
              "        element.appendChild(docLink);\n",
              "      }\n",
              "    </script>\n",
              "  </div>\n",
              "\n",
              "\n",
              "<div id=\"df-c66d7127-2e39-494d-bf72-9b2f480d141d\">\n",
              "  <button class=\"colab-df-quickchart\" onclick=\"quickchart('df-c66d7127-2e39-494d-bf72-9b2f480d141d')\"\n",
              "            title=\"Suggest charts\"\n",
              "            style=\"display:none;\">\n",
              "\n",
              "<svg xmlns=\"http://www.w3.org/2000/svg\" height=\"24px\"viewBox=\"0 0 24 24\"\n",
              "     width=\"24px\">\n",
              "    <g>\n",
              "        <path d=\"M19 3H5c-1.1 0-2 .9-2 2v14c0 1.1.9 2 2 2h14c1.1 0 2-.9 2-2V5c0-1.1-.9-2-2-2zM9 17H7v-7h2v7zm4 0h-2V7h2v10zm4 0h-2v-4h2v4z\"/>\n",
              "    </g>\n",
              "</svg>\n",
              "  </button>\n",
              "\n",
              "<style>\n",
              "  .colab-df-quickchart {\n",
              "      --bg-color: #E8F0FE;\n",
              "      --fill-color: #1967D2;\n",
              "      --hover-bg-color: #E2EBFA;\n",
              "      --hover-fill-color: #174EA6;\n",
              "      --disabled-fill-color: #AAA;\n",
              "      --disabled-bg-color: #DDD;\n",
              "  }\n",
              "\n",
              "  [theme=dark] .colab-df-quickchart {\n",
              "      --bg-color: #3B4455;\n",
              "      --fill-color: #D2E3FC;\n",
              "      --hover-bg-color: #434B5C;\n",
              "      --hover-fill-color: #FFFFFF;\n",
              "      --disabled-bg-color: #3B4455;\n",
              "      --disabled-fill-color: #666;\n",
              "  }\n",
              "\n",
              "  .colab-df-quickchart {\n",
              "    background-color: var(--bg-color);\n",
              "    border: none;\n",
              "    border-radius: 50%;\n",
              "    cursor: pointer;\n",
              "    display: none;\n",
              "    fill: var(--fill-color);\n",
              "    height: 32px;\n",
              "    padding: 0;\n",
              "    width: 32px;\n",
              "  }\n",
              "\n",
              "  .colab-df-quickchart:hover {\n",
              "    background-color: var(--hover-bg-color);\n",
              "    box-shadow: 0 1px 2px rgba(60, 64, 67, 0.3), 0 1px 3px 1px rgba(60, 64, 67, 0.15);\n",
              "    fill: var(--button-hover-fill-color);\n",
              "  }\n",
              "\n",
              "  .colab-df-quickchart-complete:disabled,\n",
              "  .colab-df-quickchart-complete:disabled:hover {\n",
              "    background-color: var(--disabled-bg-color);\n",
              "    fill: var(--disabled-fill-color);\n",
              "    box-shadow: none;\n",
              "  }\n",
              "\n",
              "  .colab-df-spinner {\n",
              "    border: 2px solid var(--fill-color);\n",
              "    border-color: transparent;\n",
              "    border-bottom-color: var(--fill-color);\n",
              "    animation:\n",
              "      spin 1s steps(1) infinite;\n",
              "  }\n",
              "\n",
              "  @keyframes spin {\n",
              "    0% {\n",
              "      border-color: transparent;\n",
              "      border-bottom-color: var(--fill-color);\n",
              "      border-left-color: var(--fill-color);\n",
              "    }\n",
              "    20% {\n",
              "      border-color: transparent;\n",
              "      border-left-color: var(--fill-color);\n",
              "      border-top-color: var(--fill-color);\n",
              "    }\n",
              "    30% {\n",
              "      border-color: transparent;\n",
              "      border-left-color: var(--fill-color);\n",
              "      border-top-color: var(--fill-color);\n",
              "      border-right-color: var(--fill-color);\n",
              "    }\n",
              "    40% {\n",
              "      border-color: transparent;\n",
              "      border-right-color: var(--fill-color);\n",
              "      border-top-color: var(--fill-color);\n",
              "    }\n",
              "    60% {\n",
              "      border-color: transparent;\n",
              "      border-right-color: var(--fill-color);\n",
              "    }\n",
              "    80% {\n",
              "      border-color: transparent;\n",
              "      border-right-color: var(--fill-color);\n",
              "      border-bottom-color: var(--fill-color);\n",
              "    }\n",
              "    90% {\n",
              "      border-color: transparent;\n",
              "      border-bottom-color: var(--fill-color);\n",
              "    }\n",
              "  }\n",
              "</style>\n",
              "\n",
              "  <script>\n",
              "    async function quickchart(key) {\n",
              "      const quickchartButtonEl =\n",
              "        document.querySelector('#' + key + ' button');\n",
              "      quickchartButtonEl.disabled = true;  // To prevent multiple clicks.\n",
              "      quickchartButtonEl.classList.add('colab-df-spinner');\n",
              "      try {\n",
              "        const charts = await google.colab.kernel.invokeFunction(\n",
              "            'suggestCharts', [key], {});\n",
              "      } catch (error) {\n",
              "        console.error('Error during call to suggestCharts:', error);\n",
              "      }\n",
              "      quickchartButtonEl.classList.remove('colab-df-spinner');\n",
              "      quickchartButtonEl.classList.add('colab-df-quickchart-complete');\n",
              "    }\n",
              "    (() => {\n",
              "      let quickchartButtonEl =\n",
              "        document.querySelector('#df-c66d7127-2e39-494d-bf72-9b2f480d141d button');\n",
              "      quickchartButtonEl.style.display =\n",
              "        google.colab.kernel.accessAllowed ? 'block' : 'none';\n",
              "    })();\n",
              "  </script>\n",
              "</div>\n",
              "    </div>\n",
              "  </div>\n"
            ],
            "application/vnd.google.colaboratory.intrinsic+json": {
              "type": "dataframe",
              "variable_name": "df2",
              "summary": "{\n  \"name\": \"df2\",\n  \"rows\": 6,\n  \"fields\": [\n    {\n      \"column\": \"Unnamed: 0\",\n      \"properties\": {\n        \"dtype\": \"number\",\n        \"std\": 1,\n        \"min\": 0,\n        \"max\": 5,\n        \"num_unique_values\": 6,\n        \"samples\": [\n          0,\n          1,\n          5\n        ],\n        \"semantic_type\": \"\",\n        \"description\": \"\"\n      }\n    },\n    {\n      \"column\": \"n\",\n      \"properties\": {\n        \"dtype\": \"number\",\n        \"std\": 1,\n        \"min\": 1,\n        \"max\": 6,\n        \"num_unique_values\": 6,\n        \"samples\": [\n          1,\n          2,\n          6\n        ],\n        \"semantic_type\": \"\",\n        \"description\": \"\"\n      }\n    },\n    {\n      \"column\": \"T_100 (Luft) [s]\",\n      \"properties\": {\n        \"dtype\": \"number\",\n        \"std\": 0.02097617696340428,\n        \"min\": 57.64,\n        \"max\": 57.7,\n        \"num_unique_values\": 4,\n        \"samples\": [\n          57.66,\n          57.65,\n          57.7\n        ],\n        \"semantic_type\": \"\",\n        \"description\": \"\"\n      }\n    },\n    {\n      \"column\": \"T_100 (Argon) [s]\",\n      \"properties\": {\n        \"dtype\": \"number\",\n        \"std\": 0.026645825188948487,\n        \"min\": 53.52,\n        \"max\": 53.59,\n        \"num_unique_values\": 5,\n        \"samples\": [\n          53.52,\n          53.59,\n          53.54\n        ],\n        \"semantic_type\": \"\",\n        \"description\": \"\"\n      }\n    },\n    {\n      \"column\": \"info\",\n      \"properties\": {\n        \"dtype\": \"string\",\n        \"num_unique_values\": 6,\n        \"samples\": [\n          \"T_100 meint Periodendauer f\\u00fcr 100 Schwingungen\",\n          \"keine Abmessungen Foto nicht mehr vorhanden\",\n          \"h\\u00f6he: (26-8)+-0.4cm\"\n        ],\n        \"semantic_type\": \"\",\n        \"description\": \"\"\n      }\n    }\n  ]\n}"
            }
          },
          "metadata": {},
          "execution_count": 11
        }
      ]
    },
    {
      "cell_type": "code",
      "source": [
        "T = 22.5 # ° celsius\n"
      ],
      "metadata": {
        "id": "rmoS6C9k8msN"
      },
      "execution_count": null,
      "outputs": []
    }
  ]
}