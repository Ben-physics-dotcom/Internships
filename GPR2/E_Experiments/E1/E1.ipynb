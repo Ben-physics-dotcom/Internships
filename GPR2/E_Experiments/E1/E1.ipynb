{
 "cells": [
  {
   "cell_type": "markdown",
   "id": "83870a7a-bba9-4b4c-9526-9b505011a512",
   "metadata": {
    "tags": []
   },
   "source": [
    "# Importe"
   ]
  },
  {
   "cell_type": "code",
   "execution_count": 2,
   "id": "8dcf09f1-cb12-414f-8a02-5d385a07aa3a",
   "metadata": {},
   "outputs": [],
   "source": [
    "import matplotlib.pyplot as plt\n",
    "import pandas as pd\n",
    "import numpy as np\n",
    "from scipy.optimize import curve_fit\n",
    "from sklearn.metrics import r2_score\n",
    "import statsmodels.api as sm\n",
    "from uncertainties import ufloat, unumpy as unp\n",
    "# import uncertainties\n",
    "from uncertainties.unumpy import (nominal_values as n, std_devs as s)\n",
    "\n",
    "\n",
    "plt.style.use('classic')\n",
    "plt.rc('text', usetex=True)\n",
    "plt.rc('axes', labelsize=15)# Schriftgröße der x- und y-Beschriftungen"
   ]
  },
  {
   "cell_type": "code",
   "execution_count": null,
   "id": "efd2f0c7",
   "metadata": {},
   "outputs": [],
   "source": []
  },
  {
   "cell_type": "markdown",
   "id": "0fb8ebb2-293c-40af-9873-ab8990effa5e",
   "metadata": {
    "tags": []
   },
   "source": [
    "# Daten laden"
   ]
  },
  {
   "cell_type": "code",
   "execution_count": 4,
   "id": "6eb90906-73c8-4981-b07f-033a3ea485b9",
   "metadata": {},
   "outputs": [
    {
     "data": {
      "text/html": [
       "<div>\n",
       "<style scoped>\n",
       "    .dataframe tbody tr th:only-of-type {\n",
       "        vertical-align: middle;\n",
       "    }\n",
       "\n",
       "    .dataframe tbody tr th {\n",
       "        vertical-align: top;\n",
       "    }\n",
       "\n",
       "    .dataframe thead th {\n",
       "        text-align: right;\n",
       "    }\n",
       "</style>\n",
       "<table border=\"1\" class=\"dataframe\">\n",
       "  <thead>\n",
       "    <tr style=\"text-align: right;\">\n",
       "      <th></th>\n",
       "      <th>R1</th>\n",
       "      <th>r1</th>\n",
       "      <th>R2</th>\n",
       "      <th>r2</th>\n",
       "      <th>R3</th>\n",
       "      <th>r3</th>\n",
       "      <th>R</th>\n",
       "      <th>r</th>\n",
       "      <th>P</th>\n",
       "      <th>p</th>\n",
       "      <th>P1</th>\n",
       "      <th>p1</th>\n",
       "      <th>P2</th>\n",
       "      <th>p2</th>\n",
       "      <th>P3</th>\n",
       "      <th>p3</th>\n",
       "    </tr>\n",
       "  </thead>\n",
       "  <tbody>\n",
       "    <tr>\n",
       "      <th>0</th>\n",
       "      <td>112</td>\n",
       "      <td>49.85</td>\n",
       "      <td>76</td>\n",
       "      <td>45.75</td>\n",
       "      <td>586</td>\n",
       "      <td>1.90</td>\n",
       "      <td>149</td>\n",
       "      <td>57.4</td>\n",
       "      <td>122</td>\n",
       "      <td>7.3</td>\n",
       "      <td>127</td>\n",
       "      <td>50.30</td>\n",
       "      <td>15</td>\n",
       "      <td>71.00</td>\n",
       "      <td>128</td>\n",
       "      <td>9.20</td>\n",
       "    </tr>\n",
       "    <tr>\n",
       "      <th>1</th>\n",
       "      <td>212</td>\n",
       "      <td>35.00</td>\n",
       "      <td>167</td>\n",
       "      <td>28.25</td>\n",
       "      <td>467</td>\n",
       "      <td>2.40</td>\n",
       "      <td>49</td>\n",
       "      <td>80.3</td>\n",
       "      <td>222</td>\n",
       "      <td>4.0</td>\n",
       "      <td>34</td>\n",
       "      <td>76.90</td>\n",
       "      <td>124</td>\n",
       "      <td>27.10</td>\n",
       "      <td>158</td>\n",
       "      <td>7.20</td>\n",
       "    </tr>\n",
       "    <tr>\n",
       "      <th>2</th>\n",
       "      <td>312</td>\n",
       "      <td>27.00</td>\n",
       "      <td>267</td>\n",
       "      <td>19.70</td>\n",
       "      <td>376</td>\n",
       "      <td>3.30</td>\n",
       "      <td>258</td>\n",
       "      <td>43.7</td>\n",
       "      <td>262</td>\n",
       "      <td>3.3</td>\n",
       "      <td>254</td>\n",
       "      <td>33.50</td>\n",
       "      <td>144</td>\n",
       "      <td>24.35</td>\n",
       "      <td>58</td>\n",
       "      <td>18.45</td>\n",
       "    </tr>\n",
       "    <tr>\n",
       "      <th>3</th>\n",
       "      <td>342</td>\n",
       "      <td>25.20</td>\n",
       "      <td>245</td>\n",
       "      <td>21.00</td>\n",
       "      <td>349</td>\n",
       "      <td>3.55</td>\n",
       "      <td>348</td>\n",
       "      <td>36.5</td>\n",
       "      <td>275</td>\n",
       "      <td>3.2</td>\n",
       "      <td>337</td>\n",
       "      <td>27.75</td>\n",
       "      <td>44</td>\n",
       "      <td>49.40</td>\n",
       "      <td>78</td>\n",
       "      <td>14.50</td>\n",
       "    </tr>\n",
       "    <tr>\n",
       "      <th>4</th>\n",
       "      <td>44</td>\n",
       "      <td>70.60</td>\n",
       "      <td>363</td>\n",
       "      <td>15.05</td>\n",
       "      <td>249</td>\n",
       "      <td>5.20</td>\n",
       "      <td>444</td>\n",
       "      <td>30.8</td>\n",
       "      <td>375</td>\n",
       "      <td>2.1</td>\n",
       "      <td>423</td>\n",
       "      <td>23.20</td>\n",
       "      <td>344</td>\n",
       "      <td>11.85</td>\n",
       "      <td>178</td>\n",
       "      <td>6.70</td>\n",
       "    </tr>\n",
       "    <tr>\n",
       "      <th>5</th>\n",
       "      <td>76</td>\n",
       "      <td>59.90</td>\n",
       "      <td>586</td>\n",
       "      <td>9.85</td>\n",
       "      <td>149</td>\n",
       "      <td>8.65</td>\n",
       "      <td>527</td>\n",
       "      <td>27.4</td>\n",
       "      <td>345</td>\n",
       "      <td>2.4</td>\n",
       "      <td>489</td>\n",
       "      <td>20.90</td>\n",
       "      <td>364</td>\n",
       "      <td>11.25</td>\n",
       "      <td>278</td>\n",
       "      <td>4.20</td>\n",
       "    </tr>\n",
       "  </tbody>\n",
       "</table>\n",
       "</div>"
      ],
      "text/plain": [
       "    R1     r1   R2     r2   R3    r3    R     r    P    p   P1     p1   P2  \\\n",
       "0  112  49.85   76  45.75  586  1.90  149  57.4  122  7.3  127  50.30   15   \n",
       "1  212  35.00  167  28.25  467  2.40   49  80.3  222  4.0   34  76.90  124   \n",
       "2  312  27.00  267  19.70  376  3.30  258  43.7  262  3.3  254  33.50  144   \n",
       "3  342  25.20  245  21.00  349  3.55  348  36.5  275  3.2  337  27.75   44   \n",
       "4   44  70.60  363  15.05  249  5.20  444  30.8  375  2.1  423  23.20  344   \n",
       "5   76  59.90  586   9.85  149  8.65  527  27.4  345  2.4  489  20.90  364   \n",
       "\n",
       "      p2   P3     p3  \n",
       "0  71.00  128   9.20  \n",
       "1  27.10  158   7.20  \n",
       "2  24.35   58  18.45  \n",
       "3  49.40   78  14.50  \n",
       "4  11.85  178   6.70  \n",
       "5  11.25  278   4.20  "
      ]
     },
     "execution_count": 4,
     "metadata": {},
     "output_type": "execute_result"
    }
   ],
   "source": [
    "A1_df = pd.read_csv('A1.txt', sep='\\t')     # Kleinbuchstabe: [cm], Großbuchstabe: [Ohm]\n",
    "A1_df"
   ]
  },
  {
   "cell_type": "code",
   "execution_count": 5,
   "id": "53166962-64fc-4d01-bee1-ddbf4e0ef77a",
   "metadata": {},
   "outputs": [],
   "source": [
    "A1_arr = np.array(A1_df)"
   ]
  },
  {
   "cell_type": "markdown",
   "id": "a4d113aa-a16a-464d-859a-31a4026558f6",
   "metadata": {
    "tags": []
   },
   "source": [
    "# Fehlerrechnung"
   ]
  },
  {
   "cell_type": "markdown",
   "id": "33157684-14d2-4ad0-b611-94fce0ef6cfc",
   "metadata": {},
   "source": [
    "Ablesefehler: 0.05cm  \n",
    "Dekadenmesswiderstand:  \n",
    "1-10 Ohm: R_err= 0.02 +- 0.001 R  \n",
    "10-1000 Ohm: 0.02 +- 0.0003 R \n"
   ]
  },
  {
   "cell_type": "markdown",
   "id": "9fb75d5d-978e-4eda-9eed-051b6873f6cf",
   "metadata": {},
   "source": [
    "## Längenmessung"
   ]
  },
  {
   "cell_type": "code",
   "execution_count": 6,
   "id": "ae0a3f25-bce2-4242-95c7-016384732ba7",
   "metadata": {},
   "outputs": [
    {
     "data": {
      "text/plain": [
       "array([[0.4985, 0.35  , 0.27  , 0.252 , 0.706 , 0.599 ],\n",
       "       [0.4575, 0.2825, 0.197 , 0.21  , 0.1505, 0.0985],\n",
       "       [0.019 , 0.024 , 0.033 , 0.0355, 0.052 , 0.0865],\n",
       "       [0.574 , 0.803 , 0.437 , 0.365 , 0.308 , 0.274 ],\n",
       "       [0.073 , 0.04  , 0.033 , 0.032 , 0.021 , 0.024 ],\n",
       "       [0.503 , 0.769 , 0.335 , 0.2775, 0.232 , 0.209 ],\n",
       "       [0.71  , 0.271 , 0.2435, 0.494 , 0.1185, 0.1125],\n",
       "       [0.092 , 0.072 , 0.1845, 0.145 , 0.067 , 0.042 ]])"
      ]
     },
     "execution_count": 6,
     "metadata": {},
     "output_type": "execute_result"
    }
   ],
   "source": [
    "L_A1_arr = A1_arr[:, 1::2].T / 100\n",
    "L_A1_arr"
   ]
  },
  {
   "cell_type": "code",
   "execution_count": 7,
   "id": "387f9c3b-6b79-4397-a9a9-df376b4f317d",
   "metadata": {},
   "outputs": [
    {
     "name": "stdout",
     "output_type": "stream",
     "text": [
      "0.44591666666666674\n",
      "0.2326666666666667\n",
      "0.041666666666666664\n",
      "0.4601666666666666\n",
      "0.03716666666666666\n",
      "0.3875833333333334\n",
      "0.3249166666666667\n",
      "0.10041666666666667\n"
     ]
    }
   ],
   "source": [
    "for i in range(8):\n",
    "    print(L_A1_arr[i].mean())"
   ]
  },
  {
   "cell_type": "code",
   "execution_count": 8,
   "id": "b1b4aded-aa88-404d-b7e6-880e57696724",
   "metadata": {},
   "outputs": [],
   "source": [
    "lerr = np.ones((8, 6)) * 0.05 / 100"
   ]
  },
  {
   "cell_type": "code",
   "execution_count": 9,
   "id": "00e0bc9c-737f-445d-9970-b47851b7df6c",
   "metadata": {},
   "outputs": [
    {
     "data": {
      "text/plain": [
       "array([[0.4985+/-0.0005, 0.35+/-0.0005, 0.27+/-0.0005, 0.252+/-0.0005,\n",
       "        0.706+/-0.0005, 0.599+/-0.0005],\n",
       "       [0.4575+/-0.0005, 0.2825+/-0.0005, 0.19699999999999998+/-0.0005,\n",
       "        0.21+/-0.0005, 0.1505+/-0.0005, 0.09849999999999999+/-0.0005],\n",
       "       [0.019+/-0.0005, 0.024+/-0.0005, 0.033+/-0.0005, 0.0355+/-0.0005,\n",
       "        0.052000000000000005+/-0.0005, 0.08650000000000001+/-0.0005],\n",
       "       [0.574+/-0.0005, 0.8029999999999999+/-0.0005,\n",
       "        0.43700000000000006+/-0.0005, 0.365+/-0.0005, 0.308+/-0.0005,\n",
       "        0.27399999999999997+/-0.0005],\n",
       "       [0.073+/-0.0005, 0.04+/-0.0005, 0.033+/-0.0005, 0.032+/-0.0005,\n",
       "        0.021+/-0.0005, 0.024+/-0.0005],\n",
       "       [0.503+/-0.0005, 0.769+/-0.0005, 0.335+/-0.0005, 0.2775+/-0.0005,\n",
       "        0.23199999999999998+/-0.0005, 0.209+/-0.0005],\n",
       "       [0.71+/-0.0005, 0.271+/-0.0005, 0.24350000000000002+/-0.0005,\n",
       "        0.494+/-0.0005, 0.1185+/-0.0005, 0.1125+/-0.0005],\n",
       "       [0.092+/-0.0005, 0.07200000000000001+/-0.0005, 0.1845+/-0.0005,\n",
       "        0.145+/-0.0005, 0.067+/-0.0005, 0.042+/-0.0005]], dtype=object)"
      ]
     },
     "execution_count": 9,
     "metadata": {},
     "output_type": "execute_result"
    }
   ],
   "source": [
    "L_err = unp.uarray(L_A1_arr, lerr)\n",
    "L_err"
   ]
  },
  {
   "cell_type": "markdown",
   "id": "39143287-e2e7-49d9-baae-2b5ce922e4d8",
   "metadata": {},
   "source": [
    "## Widerstandsmessung"
   ]
  },
  {
   "cell_type": "code",
   "execution_count": 10,
   "id": "894e0bc4-80e5-46dd-bfc4-bb79b383abc3",
   "metadata": {},
   "outputs": [],
   "source": [
    "R_A1_arr = A1_arr[:, ::2].T\n",
    "# R_A1_arr"
   ]
  },
  {
   "cell_type": "code",
   "execution_count": 11,
   "id": "8f03998a-d11e-4e7f-b968-44515576e0d7",
   "metadata": {},
   "outputs": [
    {
     "data": {
      "text/plain": [
       "2"
      ]
     },
     "execution_count": 11,
     "metadata": {},
     "output_type": "execute_result"
    }
   ],
   "source": [
    "len(str(int(R_A1_arr[7][2])))"
   ]
  },
  {
   "cell_type": "code",
   "execution_count": 12,
   "id": "5569e52d-c0b8-424f-af5d-d04e4f720a54",
   "metadata": {},
   "outputs": [],
   "source": [
    "Fehler_R = np.ones((8,6))\n",
    "for i in range(8):\n",
    "    for j in range(6):\n",
    "        b = int(R_A1_arr[i][j])\n",
    "        b_str = str(b)\n",
    "        if len(b_str) ==2:\n",
    "            eins, zwei, drei = 0,int(b_str[0]),int(b_str[1])\n",
    "            Fehler_R[i][j] = round(np.sqrt((0.02+0.0003*eins*100)**2+ (0.02+ 0.0003* 10* zwei)**2 + (0.02+ 0.001*drei)**2),2)\n",
    "        else:\n",
    "            eins, zwei, drei = int(b_str[0]),int(b_str[1]),int(b_str[2])\n",
    "            Fehler_R[i][j] = round(np.sqrt((0.02+0.0003*eins*100)**2+ (0.02+ 0.0003* 10* zwei)**2 + (0.02+ 0.001*drei)**2),2)"
   ]
  },
  {
   "cell_type": "code",
   "execution_count": 13,
   "id": "0bf16dbf-832a-4eeb-8ff5-e36c3850b64e",
   "metadata": {},
   "outputs": [],
   "source": [
    "# Fehler_R"
   ]
  },
  {
   "cell_type": "code",
   "execution_count": 14,
   "id": "b5dac49e-31fc-4727-b9c5-d2088a7b48bc",
   "metadata": {},
   "outputs": [],
   "source": [
    "R_err = unp.uarray(R_A1_arr,Fehler_R)\n",
    "# R_err"
   ]
  },
  {
   "cell_type": "markdown",
   "id": "886fcca4-2300-4b44-be3e-c5dfb6ce5a63",
   "metadata": {},
   "source": [
    "# Aufgabe 1"
   ]
  },
  {
   "cell_type": "code",
   "execution_count": 15,
   "id": "3af68bd9-2b07-401c-878c-77ba5e8c9127",
   "metadata": {},
   "outputs": [
    {
     "name": "stdout",
     "output_type": "stream",
     "text": [
      "[0.44591666666666674+/-0.00020412414523193151\n",
      " 0.2326666666666667+/-0.00020412414523193151\n",
      " 0.041666666666666664+/-0.00020412414523193151\n",
      " 0.4601666666666666+/-0.00020412414523193151\n",
      " 0.03716666666666666+/-0.00020412414523193151\n",
      " 0.3875833333333334+/-0.00020412414523193151\n",
      " 0.3249166666666667+/-0.00020412414523193151\n",
      " 0.10041666666666667+/-0.00020412414523193151]\n",
      "[183.0+/-0.03427827300200522 284.0+/-0.04422166387140533\n",
      " 362.6666666666667+/-0.051827706018220704\n",
      " 295.8333333333333+/-0.04752192476461084\n",
      " 266.8333333333333+/-0.03968626966596885\n",
      " 277.3333333333333+/-0.044032816045409685 172.5+/-0.03299831645537221\n",
      " 146.33333333333334+/-0.02713136766016618]\n"
     ]
    }
   ],
   "source": [
    "MLerr = unp.uarray(np.ones(8), np.ones(8))\n",
    "MRerr = unp.uarray(np.ones(8), np.ones(8))\n",
    "for i in range(8):\n",
    "    MLerr[i] = L_err[i].mean()\n",
    "    MRerr[i] = R_err[i].mean()\n",
    "print(MLerr)\n",
    "print(MRerr)"
   ]
  },
  {
   "cell_type": "markdown",
   "id": "c906dc7c-66ca-4c5b-977b-f4e30ca29a72",
   "metadata": {
    "tags": []
   },
   "source": [
    "## Berechnung von Rx1, Rx2, Rx3"
   ]
  },
  {
   "cell_type": "code",
   "execution_count": 16,
   "id": "f15dc0e7-de15-4ba6-8134-672cebde23dd",
   "metadata": {},
   "outputs": [],
   "source": [
    "ll = unp.uarray(1, 0)"
   ]
  },
  {
   "cell_type": "code",
   "execution_count": 17,
   "id": "08d8edc6-c5e6-4dc1-9535-8488b6229c1f",
   "metadata": {},
   "outputs": [],
   "source": [
    "u_r = np.ones((3, 6))\n",
    "R_x123 = np.ones((3, 6))\n",
    "R_123_err = unp.uarray(R_x123, u_r)\n"
   ]
  },
  {
   "cell_type": "code",
   "execution_count": 18,
   "id": "d1dc2b3e-294f-42e9-9616-a1676a9a6b7b",
   "metadata": {},
   "outputs": [],
   "source": [
    "R_123_err = R_err * L_err / (ll-L_err)"
   ]
  },
  {
   "cell_type": "code",
   "execution_count": 19,
   "id": "18de7181-0029-4efc-acfd-c792e7f59134",
   "metadata": {},
   "outputs": [],
   "source": [
    "# R_123_err"
   ]
  },
  {
   "cell_type": "code",
   "execution_count": 20,
   "id": "42797754-7e38-41aa-bdc4-52c99eb0fb86",
   "metadata": {},
   "outputs": [],
   "source": [
    "# help(plt.errorbar)"
   ]
  },
  {
   "cell_type": "code",
   "execution_count": 21,
   "id": "ead9a8e6",
   "metadata": {},
   "outputs": [
    {
     "data": {
      "text/plain": [
       "array([[112.0+/-0.06, 212.0+/-0.09, 312.0+/-0.11, 342.0+/-0.12,\n",
       "        44.0+/-0.04, 76.0+/-0.05],\n",
       "       [76.0+/-0.05, 167.0+/-0.07, 267.0+/-0.09, 245.0+/-0.09,\n",
       "        363.0+/-0.12, 586.0+/-0.18],\n",
       "       [586.0+/-0.18, 467.0+/-0.15, 376.0+/-0.12, 349.0+/-0.12,\n",
       "        249.0+/-0.09, 149.0+/-0.07],\n",
       "       [149.0+/-0.07, 49.0+/-0.05, 258.0+/-0.09, 348.0+/-0.12,\n",
       "        444.0+/-0.15, 527.0+/-0.17],\n",
       "       [122.0+/-0.06, 222.0+/-0.09, 262.0+/-0.09, 275.0+/-0.09,\n",
       "        375.0+/-0.12, 345.0+/-0.12],\n",
       "       [127.0+/-0.06, 34.0+/-0.04, 254.0+/-0.09, 337.0+/-0.12,\n",
       "        423.0+/-0.14, 489.0+/-0.15],\n",
       "       [15.0+/-0.04, 124.0+/-0.06, 144.0+/-0.06, 44.0+/-0.04,\n",
       "        344.0+/-0.12, 364.0+/-0.12],\n",
       "       [128.0+/-0.06, 158.0+/-0.07, 58.0+/-0.05, 78.0+/-0.05,\n",
       "        178.0+/-0.07, 278.0+/-0.09]], dtype=object)"
      ]
     },
     "execution_count": 21,
     "metadata": {},
     "output_type": "execute_result"
    }
   ],
   "source": [
    "R_err"
   ]
  },
  {
   "cell_type": "code",
   "execution_count": 22,
   "id": "b7793d1a-42b2-4146-80ab-360a3048c765",
   "metadata": {},
   "outputs": [
    {
     "data": {
      "text/plain": [
       "array([0.23051125, 0.25552514, 0.29555154, 0.3082901 , 0.27204541,\n",
       "       0.24783873])"
      ]
     },
     "execution_count": 22,
     "metadata": {},
     "output_type": "execute_result"
    }
   ],
   "source": [
    "s(R_123_err[0])\n",
    "# R_123_err"
   ]
  },
  {
   "cell_type": "code",
   "execution_count": 23,
   "id": "ec549972",
   "metadata": {},
   "outputs": [],
   "source": [
    "x1 = n(R_err[0])\n",
    "y1 = n(R_123_err[0])\n",
    "yerr1 = s(R_123_err[0])"
   ]
  },
  {
   "cell_type": "code",
   "execution_count": 24,
   "id": "d1479b63-ab91-4788-841e-c3f40481c6aa",
   "metadata": {},
   "outputs": [
    {
     "data": {
      "image/png": "[encoded data removed]",
      "text/plain": [
       "<Figure size 640x480 with 1 Axes>"
      ]
     },
     "metadata": {},
     "output_type": "display_data"
    }
   ],
   "source": [
    "plt.errorbar(x1, y1,\n",
    "        yerr=yerr1,\n",
    "        fmt='.',\n",
    "        color='k',\n",
    "        capsize=2,\n",
    "        label=r'$R_{x,1}$')\n",
    "plt.xticks(np.arange(40, 350, 75))\n",
    "plt.yticks(np.arange(106, 119, 4))\n",
    "plt.xlabel(r'$R_{n}$ [$\\Omega$]')\n",
    "plt.ylabel(r'$R_{x}$ [$\\Omega$]')\n",
    "plt.legend(loc=4)\n",
    "# plt.savefig('R_x1.pdf',dpi=600)\n",
    "plt.show()"
   ]
  },
  {
   "cell_type": "code",
   "execution_count": 25,
   "id": "cf3dd6a0-560d-44ae-a4eb-0499ac9572e3",
   "metadata": {},
   "outputs": [
    {
     "data": {
      "image/png": "[encoded data removed]",
      "text/plain": [
       "<Figure size 640x480 with 1 Axes>"
      ]
     },
     "metadata": {},
     "output_type": "display_data"
    }
   ],
   "source": [
    "plt.errorbar(n(L_err[0]),\n",
    "        n(R_123_err[0]),\n",
    "        yerr=s(R_123_err[0]),\n",
    "        fmt='.',\n",
    "        color='k',\n",
    "        label=r'$R_{x,1}$')\n",
    "# plt.errorbar(n(L_err[1]),n(R_123_err[1]),yerr=s(R_123_err[1]),fmt='.',color='r', label=r'$R_{x,2}$')\n",
    "# plt.errorbar(n(L_err[2] ),n(R_123_err[2]),yerr=s(R_123_err[2]),fmt='.',color='b', label=r'$R_{x,3}$')\n",
    "# plt.errorbar(n(L_err[3]),n(R_123_err[3]),yerr=s(R_123_err[3]),fmt='.',color='y', label=r'$R_{x,1}$')\n",
    "# plt.errorbar(n(L_err[4]),n(R_123_err[4]),yerr=s(R_123_err[4]),fmt='.',color='g', label=r'$R_{x,2}$')\n",
    "# plt.errorbar(n(L_err[5] ),n(R_123_err[5]),yerr=s(R_123_err[5]),fmt='.',color='brown', label=r'$R_{x,3}$')\n",
    "# plt.errorbar(n(L_err[6]),n(R_123_err[6]),yerr=s(R_123_err[6]),fmt='.',color='k', label=r'$R_{x,1}$')\n",
    "# plt.errorbar(n(L_err[7]),n(R_123_err[7]),yerr=s(R_123_err[7]),fmt='.',color='r', label=r'$R_{x,2}$')\n",
    "plt.xlabel(r'$x$')\n",
    "plt.legend()\n",
    "plt.ylabel(r'$R_{x}$ [$\\Omega$]')\n",
    "plt.show()"
   ]
  },
  {
   "cell_type": "markdown",
   "id": "70830c6d-a5cf-42b4-8a06-d0fa0b17646b",
   "metadata": {
    "tags": []
   },
   "source": [
    "## Gewichtes Mittel der einzelnwiderstände\n",
    "$$ \\frac{\\sum \\frac{x_i}{u_i^2}}{\\sum\\frac{1}{u_i^2}}$$"
   ]
  },
  {
   "cell_type": "code",
   "execution_count": 26,
   "id": "e2895f68-2d48-4e5d-816a-3b60f3e1e9bb",
   "metadata": {},
   "outputs": [],
   "source": [
    "# print(R_123_err)"
   ]
  },
  {
   "cell_type": "code",
   "execution_count": 27,
   "id": "d35dca51-e1ba-47e4-b3dd-39309fc80c29",
   "metadata": {},
   "outputs": [
    {
     "name": "stdout",
     "output_type": "stream",
     "text": [
      "112.37627856298418\n",
      "1.5140140578687253\n",
      "\n",
      "64.84772245065903\n",
      "1.7621551838509124\n",
      "\n",
      "13.470257613611471\n",
      "1.9776519539942115\n",
      "\n"
     ]
    }
   ],
   "source": [
    "R_err = np.ones(3)\n",
    "for i in range(3):\n",
    "    R_err[i] = np.sum(n(R_123_err[i]) / s(R_123_err[i])**2) / np.sum(1 / s(R_123_err[i])**2)\n",
    "    print(R_err[i])\n",
    "    print(1 / np.sqrt(np.sum(s(R_123_err[i])**2)))\n",
    "    print()\n"
   ]
  },
  {
   "cell_type": "code",
   "execution_count": null,
   "id": "7b97d594",
   "metadata": {},
   "outputs": [],
   "source": []
  }
 ],
 "metadata": {
  "kernelspec": {
   "display_name": "projects",
   "language": "python",
   "name": "python3"
  },
  "language_info": {
   "codemirror_mode": {
    "name": "ipython",
    "version": 3
   },
   "file_extension": ".py",
   "mimetype": "text/x-python",
   "name": "python",
   "nbconvert_exporter": "python",
   "pygments_lexer": "ipython3",
   "version": "3.12.8"
  }
 },
 "nbformat": 4,
 "nbformat_minor": 5
}
