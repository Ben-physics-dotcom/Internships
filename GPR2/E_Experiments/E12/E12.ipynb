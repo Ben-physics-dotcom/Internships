{
 "cells": [
  {
   "cell_type": "markdown",
   "id": "20116647-7f23-4f69-bb8c-b6d17757f7e4",
   "metadata": {},
   "source": [
    "# Importe"
   ]
  },
  {
   "cell_type": "code",
   "execution_count": 2,
   "id": "d149b881-2466-43e8-a4e7-d57f08b6a421",
   "metadata": {},
   "outputs": [],
   "source": [
    "import matplotlib.pyplot as plt\n",
    "import pandas as pd\n",
    "import numpy as np\n",
    "from scipy.optimize import curve_fit\n",
    "from sklearn.metrics import r2_score\n",
    "import statsmodels.api as sm\n",
    "from uncertainties import ufloat, unumpy as unp\n",
    "import uncertainties\n",
    "from uncertainties.unumpy import (nominal_values as n,std_devs as s)\n",
    "import scipy.stats as stats\n",
    "\n",
    "\n",
    "plt.style.use('classic')\n",
    "plt.rc('text',usetex=True)\n",
    "plt.rc('axes', labelsize = 15) # Schriftgröße der x- und y-Beschriftungen"
   ]
  },
  {
   "cell_type": "markdown",
   "id": "b771359b-fe84-4df6-9535-f79a6b77f71c",
   "metadata": {},
   "source": [
    "# Eigen definierte Funktionen"
   ]
  },
  {
   "cell_type": "code",
   "execution_count": 3,
   "id": "fa6b0e55-b2b2-4ed3-b6b7-3c7379e42b94",
   "metadata": {},
   "outputs": [],
   "source": [
    "def reg(x,a,b):\n",
    "    f = x * a +b\n",
    "    return f\n",
    "\n",
    "def gew_mean(x_data, x_err):\n",
    "    x_mean = np.sum(x_data/x_err**2)/np.sum(1/x_err**2)\n",
    "    return x_mean\n",
    "\n",
    "def chi_sq(x_data,y_data,  a,b, y_err):\n",
    "    n = len(y_data)\n",
    "    chi = (y_data- reg(x_data, a,b))**2/y_err**2\n",
    "    chi_sum = np.sum(chi)\n",
    "    chi_red = chi_sum/(n-2)\n",
    "    y_mean = gew_mean(y_data,y_err)\n",
    "    R_sq = np.sum(( reg(x_data, a,b)-y_mean)**2)/np.sum(( y_data-y_mean)**2)\n",
    "    return round(chi_sum,1), round(chi_red,1), round(R_sq,3)\n",
    "\n",
    "def U_r(k,e,u_k,u_e):\n",
    "    u = 1/(np.sqrt(2)*(k-e)**2) * np.sqrt(u_k**2 * (k**2-2*k*e-e**2)**2 + u_e**2 * (e**2-2*k*e-k**2)**2)\n",
    "    return u\n",
    "\n",
    "def reg1(x,a,b):\n",
    "    f = 1/(a*x+b)\n",
    "    return f\n",
    "\n",
    "def reg2(x,a,b):\n",
    "    f = a/x + b\n",
    "    return f\n",
    "\n",
    "def u_e_m_r(UA, k ,a , u_UA, u_k , u_a):\n",
    "    em = a**2/(2* U_A * k**2)\n",
    "    u = 2/(a*k)**2 * np.sqrt(u_UA**2 + 4*UA**2 *(u_a**2/a**2+ u_k**2/k**2))\n",
    "    return em, u\n",
    "\n",
    "def u_em_Uk(UA, k, a, d, u_UA, u_k, u_a):\n",
    "    em =  a**2/(2* UA * k**2 * d**2)\n",
    "    u_em = 1/(2*d**2) *np.sqrt(4*a**2 * u_a**2 /(2* UA * k**2)**2 + 4 * a**4 / ( UA * k**2)**2 * (u_k**2/k**2+ u_UA**2/UA**2))\n",
    "    return em, u_em"
   ]
  },
  {
   "cell_type": "markdown",
   "id": "2e278d1b-7552-4abe-99e9-4458f44ff3ec",
   "metadata": {
    "jp-MarkdownHeadingCollapsed": true,
    "tags": []
   },
   "source": [
    "# Daten"
   ]
  },
  {
   "cell_type": "markdown",
   "id": "2b2d5eb0-ee17-41aa-aa0b-2fe85dc0c182",
   "metadata": {
    "tags": []
   },
   "source": [
    "## Anodenspannungen"
   ]
  },
  {
   "cell_type": "code",
   "execution_count": 4,
   "id": "2b747222-6a93-44ea-a4a3-85dea5049634",
   "metadata": {},
   "outputs": [],
   "source": [
    "U_A_3kV = 3e3  # V\n",
    "U_A_4kV = 4e3\n",
    "U_A_5kV = 5e3"
   ]
  },
  {
   "cell_type": "code",
   "execution_count": 5,
   "id": "71d234c3-be74-4a45-8602-6c295e2240c1",
   "metadata": {},
   "outputs": [],
   "source": [
    "U_A = np.ones(30)\n",
    "for i in range(30):\n",
    "    if i < 10:\n",
    "        U_A[i] = U_A[i] * U_A_3kV\n",
    "    elif (i>=10 and i<20):\n",
    "        U_A[i] = U_A[i] * U_A_4kV\n",
    "    else:\n",
    "        U_A[i] = U_A[i] * U_A_5kV"
   ]
  },
  {
   "cell_type": "markdown",
   "id": "55183161-8fc6-44c3-aaa3-f91bc74c5f23",
   "metadata": {
    "tags": []
   },
   "source": [
    "## Fehlerrechnung von $U_A$"
   ]
  },
  {
   "cell_type": "code",
   "execution_count": 6,
   "id": "fcb2c977-c268-4723-93cc-63e5efe3e7a7",
   "metadata": {},
   "outputs": [],
   "source": [
    "ua_err = U_A * 0.025\n",
    "U_A_err = unp.uarray(U_A, ua_err)"
   ]
  },
  {
   "cell_type": "markdown",
   "id": "c393494f-00e5-49c6-a201-dea079adacff",
   "metadata": {
    "tags": []
   },
   "source": [
    "## Messdaten"
   ]
  },
  {
   "cell_type": "code",
   "execution_count": 7,
   "id": "d92a1d79-b3f5-4868-b6b5-cc359744e8d3",
   "metadata": {},
   "outputs": [],
   "source": [
    "A5 = pd.read_csv('A5.txt', sep='\\t')\n",
    "A6 = pd.read_csv('A6.txt', sep='\\t')\n",
    "A7 = pd.read_csv('A7.txt', sep='\\t')"
   ]
  },
  {
   "cell_type": "code",
   "execution_count": 8,
   "id": "1ab8bbbf-5143-447e-bf00-8e667485b9a4",
   "metadata": {},
   "outputs": [
    {
     "data": {
      "text/html": [
       "<div>\n",
       "<style scoped>\n",
       "    .dataframe tbody tr th:only-of-type {\n",
       "        vertical-align: middle;\n",
       "    }\n",
       "\n",
       "    .dataframe tbody tr th {\n",
       "        vertical-align: top;\n",
       "    }\n",
       "\n",
       "    .dataframe thead th {\n",
       "        text-align: right;\n",
       "    }\n",
       "</style>\n",
       "<table border=\"1\" class=\"dataframe\">\n",
       "  <thead>\n",
       "    <tr style=\"text-align: right;\">\n",
       "      <th></th>\n",
       "      <th>I</th>\n",
       "      <th>B</th>\n",
       "      <th>r</th>\n",
       "      <th>B1</th>\n",
       "    </tr>\n",
       "  </thead>\n",
       "  <tbody>\n",
       "    <tr>\n",
       "      <th>0</th>\n",
       "      <td>0.163</td>\n",
       "      <td>0.35</td>\n",
       "      <td>0.0</td>\n",
       "      <td>1.16</td>\n",
       "    </tr>\n",
       "    <tr>\n",
       "      <th>1</th>\n",
       "      <td>0.207</td>\n",
       "      <td>0.44</td>\n",
       "      <td>1.0</td>\n",
       "      <td>1.17</td>\n",
       "    </tr>\n",
       "    <tr>\n",
       "      <th>2</th>\n",
       "      <td>0.251</td>\n",
       "      <td>0.52</td>\n",
       "      <td>1.7</td>\n",
       "      <td>1.16</td>\n",
       "    </tr>\n",
       "    <tr>\n",
       "      <th>3</th>\n",
       "      <td>0.305</td>\n",
       "      <td>0.64</td>\n",
       "      <td>2.7</td>\n",
       "      <td>1.15</td>\n",
       "    </tr>\n",
       "    <tr>\n",
       "      <th>4</th>\n",
       "      <td>0.364</td>\n",
       "      <td>0.74</td>\n",
       "      <td>3.0</td>\n",
       "      <td>1.16</td>\n",
       "    </tr>\n",
       "  </tbody>\n",
       "</table>\n",
       "</div>"
      ],
      "text/plain": [
       "       I     B    r    B1\n",
       "0  0.163  0.35  0.0  1.16\n",
       "1  0.207  0.44  1.0  1.17\n",
       "2  0.251  0.52  1.7  1.16\n",
       "3  0.305  0.64  2.7  1.15\n",
       "4  0.364  0.74  3.0  1.16"
      ]
     },
     "execution_count": 8,
     "metadata": {},
     "output_type": "execute_result"
    }
   ],
   "source": [
    "A5.head()"
   ]
  },
  {
   "cell_type": "code",
   "execution_count": 9,
   "id": "24b5285c-55e4-4732-bdff-172b68553430",
   "metadata": {},
   "outputs": [
    {
     "data": {
      "text/html": [
       "<div>\n",
       "<style scoped>\n",
       "    .dataframe tbody tr th:only-of-type {\n",
       "        vertical-align: middle;\n",
       "    }\n",
       "\n",
       "    .dataframe tbody tr th {\n",
       "        vertical-align: top;\n",
       "    }\n",
       "\n",
       "    .dataframe thead th {\n",
       "        text-align: right;\n",
       "    }\n",
       "</style>\n",
       "<table border=\"1\" class=\"dataframe\">\n",
       "  <thead>\n",
       "    <tr style=\"text-align: right;\">\n",
       "      <th></th>\n",
       "      <th>I</th>\n",
       "      <th>e</th>\n",
       "      <th>u_e</th>\n",
       "    </tr>\n",
       "  </thead>\n",
       "  <tbody>\n",
       "    <tr>\n",
       "      <th>0</th>\n",
       "      <td>0.006</td>\n",
       "      <td>7.9</td>\n",
       "      <td>0.2</td>\n",
       "    </tr>\n",
       "    <tr>\n",
       "      <th>1</th>\n",
       "      <td>0.220</td>\n",
       "      <td>6.0</td>\n",
       "      <td>0.1</td>\n",
       "    </tr>\n",
       "    <tr>\n",
       "      <th>2</th>\n",
       "      <td>0.411</td>\n",
       "      <td>4.9</td>\n",
       "      <td>0.1</td>\n",
       "    </tr>\n",
       "    <tr>\n",
       "      <th>3</th>\n",
       "      <td>0.519</td>\n",
       "      <td>4.2</td>\n",
       "      <td>0.1</td>\n",
       "    </tr>\n",
       "    <tr>\n",
       "      <th>4</th>\n",
       "      <td>0.620</td>\n",
       "      <td>3.8</td>\n",
       "      <td>0.1</td>\n",
       "    </tr>\n",
       "  </tbody>\n",
       "</table>\n",
       "</div>"
      ],
      "text/plain": [
       "       I    e  u_e\n",
       "0  0.006  7.9  0.2\n",
       "1  0.220  6.0  0.1\n",
       "2  0.411  4.9  0.1\n",
       "3  0.519  4.2  0.1\n",
       "4  0.620  3.8  0.1"
      ]
     },
     "execution_count": 9,
     "metadata": {},
     "output_type": "execute_result"
    }
   ],
   "source": [
    "A6.head()"
   ]
  },
  {
   "cell_type": "code",
   "execution_count": 10,
   "id": "f063a656-23e3-45c9-b552-56a79c33d089",
   "metadata": {},
   "outputs": [
    {
     "data": {
      "text/html": [
       "<div>\n",
       "<style scoped>\n",
       "    .dataframe tbody tr th:only-of-type {\n",
       "        vertical-align: middle;\n",
       "    }\n",
       "\n",
       "    .dataframe tbody tr th {\n",
       "        vertical-align: top;\n",
       "    }\n",
       "\n",
       "    .dataframe thead th {\n",
       "        text-align: right;\n",
       "    }\n",
       "</style>\n",
       "<table border=\"1\" class=\"dataframe\">\n",
       "  <thead>\n",
       "    <tr style=\"text-align: right;\">\n",
       "      <th></th>\n",
       "      <th>I</th>\n",
       "      <th>U_k</th>\n",
       "    </tr>\n",
       "  </thead>\n",
       "  <tbody>\n",
       "    <tr>\n",
       "      <th>0</th>\n",
       "      <td>0.097</td>\n",
       "      <td>60.89</td>\n",
       "    </tr>\n",
       "    <tr>\n",
       "      <th>1</th>\n",
       "      <td>0.147</td>\n",
       "      <td>83.88</td>\n",
       "    </tr>\n",
       "    <tr>\n",
       "      <th>2</th>\n",
       "      <td>0.293</td>\n",
       "      <td>133.08</td>\n",
       "    </tr>\n",
       "    <tr>\n",
       "      <th>3</th>\n",
       "      <td>0.450</td>\n",
       "      <td>232.80</td>\n",
       "    </tr>\n",
       "    <tr>\n",
       "      <th>4</th>\n",
       "      <td>0.490</td>\n",
       "      <td>242.33</td>\n",
       "    </tr>\n",
       "  </tbody>\n",
       "</table>\n",
       "</div>"
      ],
      "text/plain": [
       "       I     U_k\n",
       "0  0.097   60.89\n",
       "1  0.147   83.88\n",
       "2  0.293  133.08\n",
       "3  0.450  232.80\n",
       "4  0.490  242.33"
      ]
     },
     "execution_count": 10,
     "metadata": {},
     "output_type": "execute_result"
    }
   ],
   "source": [
    "A7.head()"
   ]
  },
  {
   "cell_type": "markdown",
   "id": "50d7e3bb-7f61-4f9d-a275-31f4c3a70bd5",
   "metadata": {
    "tags": []
   },
   "source": [
    "# Aufgabe 1\n",
    "Für den Kreisbahnradius $r$ nach (12) sind vor dem eigentlichen Experiment die notwendigen\n",
    "Berechnungen für die Unsicherheitsbetrachtung vorzubereiten: Welche relative Unsicherheit $ \\frac{u_r}{r}$ kann (realistisch betrachtet) erzielt werden?"
   ]
  },
  {
   "cell_type": "markdown",
   "id": "d1e16a04-1126-486d-89c4-86f8c646c2da",
   "metadata": {},
   "source": [
    "$$ r = \\frac{k^2 + e^2}{\\sqrt{2}(k-e)} \\\\\n",
    "\\partial_k r =  \\frac{k^2-2 k e - e^2}{\\sqrt{2}(k-e)^2}\\\\\n",
    "\\partial_e r = -\\frac{e^2-2 k e - k^2}{\\sqrt{2}(k-e)^2}\\\\\n",
    "u_r = \\frac{1}{\\sqrt{2}(k-e)^2} \\sqrt{u_k^2\\cdot (k^2-2 k e - e^2)^2 + u_e^2 \\cdot (e^2-2 k e - k^2)^2}$$"
   ]
  },
  {
   "cell_type": "markdown",
   "id": "ba662d9a-f75d-4762-83e6-e5bbaaac6d10",
   "metadata": {
    "tags": []
   },
   "source": [
    "# Aufgabe 2\n",
    "Noch vor dem Experiment ist aus den o.a. Herstellerangaben zur verwendeten Helmholtz-Spule\n",
    "gemäß (10) deren Koeffizient $k$ für die später erforderliche Abhängigkeit $B(I)$ zu berechnen."
   ]
  },
  {
   "cell_type": "markdown",
   "id": "3f83d1ee-d0a8-416c-84be-6869bcf75aaa",
   "metadata": {},
   "source": [
    "$$(10): \\hspace{3mm} B(I) = \\mu_0 \\frac{N I }{2\\cdot R} \\left(\\frac{4}{5}\\right)^{3/2}\\\\\n",
    "k = \\mu_0 \\frac{N  }{2\\cdot R} \\left(\\frac{4}{5}\\right)^{3/2}$$"
   ]
  },
  {
   "cell_type": "code",
   "execution_count": 11,
   "id": "20bec58b-eba4-4f17-8e77-963d2f67602a",
   "metadata": {},
   "outputs": [
    {
     "name": "stdout",
     "output_type": "stream",
     "text": [
      "k: 0.0021157089072310897\n",
      "0.0021157089072310897\n",
      "0.0\n"
     ]
    }
   ],
   "source": [
    "mu = 4 * np.pi * 1e-7   # N/A^2\n",
    "R = 136/(2*1000)  # 136 mm /(2* 1000), 1000 ist umrechnungsfaktor zwischen mm und m, EINHEIT: m\n",
    "N = 320\n",
    "k_ber = mu * N /(2*R)*(4/5)**(3/2)\n",
    "print(f'k: {k_ber}')\n",
    "k = n(k_ber)\n",
    "u_k = s(k_ber)\n",
    "print(k)\n",
    "print(u_k)"
   ]
  },
  {
   "cell_type": "code",
   "execution_count": 12,
   "id": "5824f099-067f-49eb-b0ae-16a34918a04f",
   "metadata": {},
   "outputs": [],
   "source": [
    "k_n = 0.0023978\n",
    "u_k_n = 0.000020"
   ]
  },
  {
   "cell_type": "markdown",
   "id": "499b36d4-013d-4264-801e-762dfd7134e1",
   "metadata": {
    "jp-MarkdownHeadingCollapsed": true,
    "tags": []
   },
   "source": [
    "# Aufgabe 3 \n",
    "Die Versuchsbeschaltung ist bereits vorgenommen und soll nur überprüft werden: Fertigen Sie\n",
    "mit Versuchsbeginn eine Schaltskizze (Mess-Protokoll!) an und überlegen Sie, ob richtig bzw.\n",
    "sinnvoll verkabelt wurde. Lassen Sie erforderlichenfalls die Beschaltung von der Versuchsbetreuung\n",
    "nachprüfen, noch bevor Sie Spannung anlegen bzw. die Versorgungsgeräte einschalten!"
   ]
  },
  {
   "cell_type": "markdown",
   "id": "82f5b77e-dd60-4e35-9545-b173f04d7e16",
   "metadata": {
    "jp-MarkdownHeadingCollapsed": true,
    "tags": []
   },
   "source": [
    "# Aufgabe 4"
   ]
  },
  {
   "cell_type": "markdown",
   "id": "88a423e8-6b5d-46fd-aafd-b2cbd85fc36c",
   "metadata": {},
   "source": [
    "Notieren Sie sich in Ihrem Messprotokoll alle versuchsrelevanten Daten der verwendeten Messmittel\n",
    "bzw. –geräte!"
   ]
  },
  {
   "cell_type": "markdown",
   "id": "581a686b-bacb-4f5f-b535-958c0621ee40",
   "metadata": {
    "tags": []
   },
   "source": [
    "# Aufgabe 5\n",
    "Am separaten Messplatz ist für eine dort installierte gleichartige Helmholtz-Spule mithilfe eines\n",
    "Teslameters und der zugehörigen axialen Hall-Sonde (Auflösung von 0,01 mT und 2% Genauigkeit)\n",
    "die räumliche Homogenität des Magnetfeldes qualitativ abzutasten bzw. zu untersuchen.\n",
    "Ferner soll für den Ort genau in der Mitte zwischen beiden Ringspulen die spezifische Abhängigkeit\n",
    "$B(I)=kI$ in einem Intervall der Stromstärke $I=0..2$A (Bei höheren Strömen oberhalb\n",
    "von 1 A beachte man die Herstellerhinweise!) mit ausreichend vielen Messwerten gemessen,\n",
    "grafisch in einem Diagramm dargestellt und daraus mithilfe einer gewichteten Regression\n",
    "der Koeffizient $k $ einschließlich seiner Unsicherheit bestimmt werden. Man beachte dabei, ob die\n",
    "beiden Ringspulen in Reihe oder parallel geschaltet sind. Das so gewonnene Ergebnis ist mit\n",
    "dem aus Aufgabe 2 zu vergleichen."
   ]
  },
  {
   "cell_type": "code",
   "execution_count": 13,
   "id": "9d053c72-62e2-4eb8-af17-cc7a4ac8cb61",
   "metadata": {},
   "outputs": [
    {
     "data": {
      "text/html": [
       "<div>\n",
       "<style scoped>\n",
       "    .dataframe tbody tr th:only-of-type {\n",
       "        vertical-align: middle;\n",
       "    }\n",
       "\n",
       "    .dataframe tbody tr th {\n",
       "        vertical-align: top;\n",
       "    }\n",
       "\n",
       "    .dataframe thead th {\n",
       "        text-align: right;\n",
       "    }\n",
       "</style>\n",
       "<table border=\"1\" class=\"dataframe\">\n",
       "  <thead>\n",
       "    <tr style=\"text-align: right;\">\n",
       "      <th></th>\n",
       "      <th>I</th>\n",
       "      <th>B</th>\n",
       "      <th>r</th>\n",
       "      <th>B1</th>\n",
       "    </tr>\n",
       "  </thead>\n",
       "  <tbody>\n",
       "    <tr>\n",
       "      <th>0</th>\n",
       "      <td>0.163</td>\n",
       "      <td>0.35</td>\n",
       "      <td>0.0</td>\n",
       "      <td>1.16</td>\n",
       "    </tr>\n",
       "    <tr>\n",
       "      <th>1</th>\n",
       "      <td>0.207</td>\n",
       "      <td>0.44</td>\n",
       "      <td>1.0</td>\n",
       "      <td>1.17</td>\n",
       "    </tr>\n",
       "    <tr>\n",
       "      <th>2</th>\n",
       "      <td>0.251</td>\n",
       "      <td>0.52</td>\n",
       "      <td>1.7</td>\n",
       "      <td>1.16</td>\n",
       "    </tr>\n",
       "    <tr>\n",
       "      <th>3</th>\n",
       "      <td>0.305</td>\n",
       "      <td>0.64</td>\n",
       "      <td>2.7</td>\n",
       "      <td>1.15</td>\n",
       "    </tr>\n",
       "    <tr>\n",
       "      <th>4</th>\n",
       "      <td>0.364</td>\n",
       "      <td>0.74</td>\n",
       "      <td>3.0</td>\n",
       "      <td>1.16</td>\n",
       "    </tr>\n",
       "    <tr>\n",
       "      <th>5</th>\n",
       "      <td>0.425</td>\n",
       "      <td>0.89</td>\n",
       "      <td>3.7</td>\n",
       "      <td>1.12</td>\n",
       "    </tr>\n",
       "    <tr>\n",
       "      <th>6</th>\n",
       "      <td>0.475</td>\n",
       "      <td>0.98</td>\n",
       "      <td>4.0</td>\n",
       "      <td>1.07</td>\n",
       "    </tr>\n",
       "    <tr>\n",
       "      <th>7</th>\n",
       "      <td>0.606</td>\n",
       "      <td>1.29</td>\n",
       "      <td>4.5</td>\n",
       "      <td>1.11</td>\n",
       "    </tr>\n",
       "    <tr>\n",
       "      <th>8</th>\n",
       "      <td>0.650</td>\n",
       "      <td>1.49</td>\n",
       "      <td>5.2</td>\n",
       "      <td>0.93</td>\n",
       "    </tr>\n",
       "    <tr>\n",
       "      <th>9</th>\n",
       "      <td>0.765</td>\n",
       "      <td>1.60</td>\n",
       "      <td>NaN</td>\n",
       "      <td>NaN</td>\n",
       "    </tr>\n",
       "  </tbody>\n",
       "</table>\n",
       "</div>"
      ],
      "text/plain": [
       "       I     B    r    B1\n",
       "0  0.163  0.35  0.0  1.16\n",
       "1  0.207  0.44  1.0  1.17\n",
       "2  0.251  0.52  1.7  1.16\n",
       "3  0.305  0.64  2.7  1.15\n",
       "4  0.364  0.74  3.0  1.16\n",
       "5  0.425  0.89  3.7  1.12\n",
       "6  0.475  0.98  4.0  1.07\n",
       "7  0.606  1.29  4.5  1.11\n",
       "8  0.650  1.49  5.2  0.93\n",
       "9  0.765  1.60  NaN   NaN"
      ]
     },
     "execution_count": 13,
     "metadata": {},
     "output_type": "execute_result"
    }
   ],
   "source": [
    "A5"
   ]
  },
  {
   "cell_type": "markdown",
   "id": "6113d68b-b72d-4b13-819b-efd65ec253a4",
   "metadata": {},
   "source": [
    "## Fehlerrechnung"
   ]
  },
  {
   "cell_type": "code",
   "execution_count": 14,
   "id": "03bf7608-d912-45c7-9b0f-9945314c1be2",
   "metadata": {},
   "outputs": [
    {
     "name": "stdout",
     "output_type": "stream",
     "text": [
      "9\n",
      "9\n"
     ]
    }
   ],
   "source": [
    "# für klein r\n",
    "u_r = np.ones(9)*0.05* 1e-2\n",
    "r = np.array(A5['r'][:9]) * 1e-2\n",
    "r_err = unp.uarray(r, u_r)\n",
    "\n",
    "# Strom\n",
    "i_err = np.array(A5['I'])*0.009\n",
    "I5 = np.array(A5['I'])\n",
    "I5_err = unp.uarray(I5,i_err)\n",
    "\n",
    "# FLussdichte\n",
    "# print(len(A5['B']))\n",
    "# print(len(A5['B']))\n",
    "B5 = np.array(A5['B'])\n",
    "u_B =np.sqrt((np.ones(10)*0.01)**2+ (B5* 0.02)**2)\n",
    "B5_err = unp.uarray(B5,u_B)\n",
    "\n",
    "\n",
    "# print(len(B5_r))\n",
    "# print(len(u_B))\n",
    "B5_r = np.array(A5['B1'])\n",
    "u_Br =np.sqrt((np.ones(10)*0.01)**2+ (B5_r* 0.02)**2)\n",
    "B5_r_err = unp.uarray(B5_r[:9], u_Br[:9])\n",
    "print(len(B5_r_err))\n",
    "print(len(r_err))\n",
    "# A5['B1']"
   ]
  },
  {
   "cell_type": "markdown",
   "id": "1e5055d0-87b4-409b-82e0-57e237147286",
   "metadata": {},
   "source": [
    "## Visualisierung"
   ]
  },
  {
   "cell_type": "code",
   "execution_count": 15,
   "id": "7114181f-2f3c-447d-be23-135e74d742bd",
   "metadata": {},
   "outputs": [
    {
     "data": {
      "text/plain": [
       "<matplotlib.legend.Legend at 0x1c591982540>"
      ]
     },
     "execution_count": 15,
     "metadata": {},
     "output_type": "execute_result"
    }
   ],
   "source": [
    "plt.errorbar(n(I5_err),n(B5_err), xerr= s(I5_err), yerr= s(B5_err), fmt='.k',label='Messdaten')\n",
    "plt.xlabel('I [A]')\n",
    "plt.ylabel(r'B [$\\Omega$]')\n",
    "plt.legend()"
   ]
  },
  {
   "cell_type": "code",
   "execution_count": 16,
   "id": "0a63f04b-5bab-4e97-a599-aae403d8a0b2",
   "metadata": {},
   "outputs": [
    {
     "data": {
      "image/png": "[encoded data removed]",
      "text/plain": [
       "<Figure size 640x480 with 1 Axes>"
      ]
     },
     "metadata": {},
     "output_type": "display_data"
    }
   ],
   "source": [
    "plt.errorbar(n(r_err),n(B5_r_err), xerr= s(r_err), yerr= s(B5_r_err), fmt='.k',label='Messdaten')\n",
    "plt.xlabel('r [m]')\n",
    "plt.ylabel(r'B [mT]')\n",
    "plt.legend(loc=3)\n",
    "plt.yticks([0.9, 1.05,1.20])\n",
    "plt.xticks(np.arange(0,0.061,0.02))\n",
    "# plt.savefig('Radialefeldverteilung_gemessen.pdf',dpi=600)\n",
    "plt.show()"
   ]
  },
  {
   "cell_type": "markdown",
   "id": "fecf6aa4-4ff7-40ee-87b4-3062fe845d5a",
   "metadata": {},
   "source": [
    "## Gewichtete Regression"
   ]
  },
  {
   "cell_type": "code",
   "execution_count": 17,
   "id": "ea91315e-600f-4cc7-b85b-480a16f00000",
   "metadata": {},
   "outputs": [],
   "source": [
    "# help(curve_fit)"
   ]
  },
  {
   "cell_type": "code",
   "execution_count": 18,
   "id": "31ffa061-6430-4558-8d62-078c50d4dbc8",
   "metadata": {},
   "outputs": [
    {
     "name": "stdout",
     "output_type": "stream",
     "text": [
      "a: 2.14+/-0.06\n",
      "b: -0.009+/-0.019\n"
     ]
    }
   ],
   "source": [
    "# Regression mit scipy\n",
    "pop, cov = curve_fit(reg, n(I5_err),n(B5_err),sigma= s(B5_err))\n",
    "a5,b5 = pop\n",
    "da5, db5 = np.sqrt(np.diag(cov))\n",
    "print(f'a: {ufloat(a5,da5)}')\n",
    "print(f'b: {ufloat(b5,db5)}')"
   ]
  },
  {
   "cell_type": "code",
   "execution_count": 19,
   "id": "b856718e-17f5-4473-ab9d-ad1edd8dd18d",
   "metadata": {},
   "outputs": [
    {
     "name": "stdout",
     "output_type": "stream",
     "text": [
      "\n",
      "Lineare Regression\n",
      "\n",
      "                            WLS Regression Results                            \n",
      "==============================================================================\n",
      "Dep. Variable:                      y   R-squared:                       0.992\n",
      "Model:                            WLS   Adj. R-squared:                  0.991\n",
      "Method:                 Least Squares   F-statistic:                     997.6\n",
      "Date:                Sat, 01 Mar 2025   Prob (F-statistic):           1.10e-09\n",
      "Time:                        16:56:17   Log-Likelihood:                 18.700\n",
      "No. Observations:                  10   AIC:                            -33.40\n",
      "Df Residuals:                       8   BIC:                            -32.80\n",
      "Df Model:                           1                                         \n",
      "Covariance Type:            nonrobust                                         \n",
      "==============================================================================\n",
      "                 coef    std err          t      P>|t|      [0.025      0.975]\n",
      "------------------------------------------------------------------------------\n",
      "const         -0.0227      0.032     -0.713      0.496      -0.096       0.051\n",
      "x1             2.1770      0.069     31.584      0.000       2.018       2.336\n",
      "==============================================================================\n",
      "Omnibus:                       12.142   Durbin-Watson:                   2.367\n",
      "Prob(Omnibus):                  0.002   Jarque-Bera (JB):                5.620\n",
      "Skew:                           1.548   Prob(JB):                       0.0602\n",
      "Kurtosis:                       4.977   Cond. No.                         6.18\n",
      "==============================================================================\n",
      "\n",
      "Notes:\n",
      "[1] Standard Errors assume that the covariance matrix of the errors is correctly specified.\n"
     ]
    },
    {
     "name": "stderr",
     "output_type": "stream",
     "text": [
      "c:\\Users\\benjf\\anaconda3\\envs\\projects\\Lib\\site-packages\\statsmodels\\base\\model.py:130: ValueWarning: unknown kwargs ['sigma']\n",
      "  warnings.warn(msg, ValueWarning)\n",
      "c:\\Users\\benjf\\anaconda3\\envs\\projects\\Lib\\site-packages\\scipy\\stats\\_axis_nan_policy.py:430: UserWarning: `kurtosistest` p-value may be inaccurate with fewer than 20 observations; only n=10 observations were given.\n",
      "  return hypotest_fun_in(*args, **kwds)\n"
     ]
    }
   ],
   "source": [
    "# Regression mit statsmodels\n",
    "y=n(B5_err)\n",
    "x_zunahme=sm.add_constant(n(I5_err))\n",
    "results=sm.WLS(y,x_zunahme,sigma=s(B5_err)).fit()#,sigma=yerr\n",
    "print('''\n",
    "Lineare Regression\n",
    "''')\n",
    "print(results.summary())"
   ]
  },
  {
   "cell_type": "code",
   "execution_count": 20,
   "id": "d2998280-994a-47f3-8195-5586dc0c0745",
   "metadata": {},
   "outputs": [
    {
     "name": "stdout",
     "output_type": "stream",
     "text": [
      "18.4\n",
      "2.3\n",
      "0.96\n"
     ]
    }
   ],
   "source": [
    "# chi^2\n",
    "chi_norm, chi_nu ,R_sqq= chi_sq(n(I5_err),n(B5_err), a5,b5, s(B5_err)) #y_data, x_data, a,b, y_err\n",
    "print(chi_norm)\n",
    "print(chi_nu)\n",
    "print(R_sqq)"
   ]
  },
  {
   "cell_type": "markdown",
   "id": "b95d92c0-7868-4e43-b264-39619dbed288",
   "metadata": {},
   "source": [
    "### Plot"
   ]
  },
  {
   "cell_type": "code",
   "execution_count": 21,
   "id": "4d483f35-5124-44b7-8f98-b17912624a6b",
   "metadata": {},
   "outputs": [],
   "source": [
    "x_reg = np.arange(0.1, 0.86, 0.25)\n",
    "y_reg = reg(x_reg, a5,b5)"
   ]
  },
  {
   "cell_type": "code",
   "execution_count": null,
   "id": "7dfea192-6464-4ba8-980b-5b44bc03d0fd",
   "metadata": {},
   "outputs": [
    {
     "data": {
      "text/plain": [
       "([<matplotlib.axis.YTick at 0x1c593be9df0>,\n",
       "  <matplotlib.axis.YTick at 0x1c593beb410>,\n",
       "  <matplotlib.axis.YTick at 0x1c594412a50>,\n",
       "  <matplotlib.axis.YTick at 0x1c594413410>,\n",
       "  <matplotlib.axis.YTick at 0x1c594411910>],\n",
       " [Text(0, 0.2, '$\\\\mathdefault{0.20}$'),\n",
       "  Text(0, 0.65, '$\\\\mathdefault{0.65}$'),\n",
       "  Text(0, 1.1, '$\\\\mathdefault{1.10}$'),\n",
       "  Text(0, 1.55, '$\\\\mathdefault{1.55}$'),\n",
       "  Text(0, 2.0, '$\\\\mathdefault{2.00}$')])"
      ]
     },
     "execution_count": 22,
     "metadata": {},
     "output_type": "execute_result"
    }
   ],
   "source": [
    "fig=plt.figure()\n",
    "ax=fig.add_subplot(111)\n",
    "ax.errorbar(n(I5_err),n(B5_err), xerr= s(I5_err), yerr= s(B5_err), fmt='.k',label='Messdaten')\n",
    "ax.plot(x_reg, y_reg, label=r'Fit: $B(I) = a\\cdot I +b$')\n",
    "\n",
    "# Für die Parameter\n",
    "par1, = ax.plot([],[],' ')\n",
    "par2, = ax.plot([],[],' ' )\n",
    "par3, = ax.plot([],[],' ')\n",
    "par4, = ax.plot([],[],' ' )\n",
    "\n",
    "leg1= ax.legend(loc=2)\n",
    "chi1=r'$\\chi_{\\nu}^{2}$'+f'$={chi_nu}$'\n",
    "\n",
    "ax.set_xlabel('I [A]')\n",
    "ax.set_ylabel(r'B [mT]')\n",
    "leg2=ax.legend([par1,par2,par3,par4],\n",
    "               [fr'$a=({round(a5,2)}\\pm {round(da5,2)})$ mT/A',\n",
    "                fr'$b =({round(b5,3)}\\pm {round(db5,3)})$ mT',\n",
    "               chi1,\n",
    "               fr'$R^{2}=0.992$'],\n",
    "              loc=4)\n",
    "ax.add_artist(leg1)\n",
    "plt.xticks(np.arange(0.1,0.91, 0.2))\n",
    "plt.yticks(np.arange(0.2, 2.1, 0.45))\n",
    "plt.show()\n",
    "# plt.savefig('A5.pdf',dpi=600)"
   ]
  },
  {
   "cell_type": "markdown",
   "id": "2e0ec923-dcdc-4a52-9963-85c433aff5b9",
   "metadata": {
    "tags": []
   },
   "source": [
    "# Aufgabe 6\n",
    "Für drei fest eingestellte Anodenspannungen $U_A$ von 3 kV, 4 kV und 5 kV ist jeweils die charakteristische\n",
    "Abhängigkeit (5) zwischen Kreisbahnradius und eingestelltem Magnetstrom in der\n",
    "abgewandelten Form $r(I) = \\frac{1}{I}$\n",
    "für mehrere Messwertpaare aufzunehmen, im Diagramm mit geeigneter Skalierung grafisch darzustellen und über eine geeignete Modellfunktion die spezifische\n",
    "Elektronenladung mit ihrer Unsicherheit zu bestimmen. Die drei gewonnenen Ergebnisse sind\n",
    "auf innere Konsistenz zu prüfen und mit dem Referenzwert zu vergleichen."
   ]
  },
  {
   "cell_type": "markdown",
   "id": "496b7ab3-3717-4bc2-a3f3-7c1c3829407d",
   "metadata": {},
   "source": [
    "$$ r(B) = \\sqrt{\\frac{2 \\cdot U_A}{e/m}} \\frac{1}{B} \\\\\n",
    "r = \\frac{k^2+ e^2}{\\sqrt{2}(k+e)}\\\\\n",
    "B= k\\cdot I$$\n"
   ]
  },
  {
   "cell_type": "markdown",
   "id": "d9f57725-eb54-4ef9-b841-479a104b656f",
   "metadata": {
    "jp-MarkdownHeadingCollapsed": true,
    "tags": []
   },
   "source": [
    "## Meine Vorgehensweise"
   ]
  },
  {
   "cell_type": "code",
   "execution_count": 23,
   "id": "a0803f3a-6a0f-42ed-8e84-9d8b11cc729a",
   "metadata": {},
   "outputs": [
    {
     "data": {
      "text/html": [
       "<div>\n",
       "<style scoped>\n",
       "    .dataframe tbody tr th:only-of-type {\n",
       "        vertical-align: middle;\n",
       "    }\n",
       "\n",
       "    .dataframe tbody tr th {\n",
       "        vertical-align: top;\n",
       "    }\n",
       "\n",
       "    .dataframe thead th {\n",
       "        text-align: right;\n",
       "    }\n",
       "</style>\n",
       "<table border=\"1\" class=\"dataframe\">\n",
       "  <thead>\n",
       "    <tr style=\"text-align: right;\">\n",
       "      <th></th>\n",
       "      <th>I</th>\n",
       "      <th>e</th>\n",
       "      <th>u_e</th>\n",
       "    </tr>\n",
       "  </thead>\n",
       "  <tbody>\n",
       "    <tr>\n",
       "      <th>0</th>\n",
       "      <td>0.006</td>\n",
       "      <td>7.9</td>\n",
       "      <td>0.2</td>\n",
       "    </tr>\n",
       "    <tr>\n",
       "      <th>1</th>\n",
       "      <td>0.220</td>\n",
       "      <td>6.0</td>\n",
       "      <td>0.1</td>\n",
       "    </tr>\n",
       "    <tr>\n",
       "      <th>2</th>\n",
       "      <td>0.411</td>\n",
       "      <td>4.9</td>\n",
       "      <td>0.1</td>\n",
       "    </tr>\n",
       "    <tr>\n",
       "      <th>3</th>\n",
       "      <td>0.519</td>\n",
       "      <td>4.2</td>\n",
       "      <td>0.1</td>\n",
       "    </tr>\n",
       "    <tr>\n",
       "      <th>4</th>\n",
       "      <td>0.620</td>\n",
       "      <td>3.8</td>\n",
       "      <td>0.1</td>\n",
       "    </tr>\n",
       "  </tbody>\n",
       "</table>\n",
       "</div>"
      ],
      "text/plain": [
       "       I    e  u_e\n",
       "0  0.006  7.9  0.2\n",
       "1  0.220  6.0  0.1\n",
       "2  0.411  4.9  0.1\n",
       "3  0.519  4.2  0.1\n",
       "4  0.620  3.8  0.1"
      ]
     },
     "execution_count": 23,
     "metadata": {},
     "output_type": "execute_result"
    }
   ],
   "source": [
    "A6.head()"
   ]
  },
  {
   "cell_type": "markdown",
   "id": "dea94de0-f457-4a7f-b83b-14d3619023b4",
   "metadata": {},
   "source": [
    "### Fehlerrechnung"
   ]
  },
  {
   "cell_type": "code",
   "execution_count": 24,
   "id": "41b5b087-089e-4384-8e56-3421f1e9ed19",
   "metadata": {},
   "outputs": [
    {
     "name": "stdout",
     "output_type": "stream",
     "text": [
      "[0.2  0.1  0.1  0.1  0.1  0.1  0.1  0.1  0.05 0.1  0.3  0.1  0.1  0.2\n",
      " 0.2  0.2  0.1  0.1  0.1  0.1  0.4  0.3  0.1  0.1  0.2  0.2  0.2  0.2\n",
      " 0.1  0.1 ]\n",
      "[0.2  0.1  0.1  0.1  0.1  0.1  0.1  0.1  0.05 0.1  0.3  0.1  0.1  0.2\n",
      " 0.2  0.2  0.1  0.1  0.1  0.1  0.4  0.3  0.1  0.1  0.2  0.2  0.2  0.2\n",
      " 0.1  0.1 ]\n",
      "[7.9+/-0.2 6.0+/-0.1 4.9+/-0.1 4.2+/-0.1 3.8+/-0.1 3.1+/-0.1 2.5+/-0.1\n",
      " 2.1+/-0.1 1.6+/-0.05 1.3+/-0.1 7.9+/-0.3 6.7+/-0.1 6.1+/-0.1 5.6+/-0.2\n",
      " 5.1+/-0.2 4.3+/-0.2 3.7+/-0.1 3.4+/-0.1 3.0+/-0.1 2.6+/-0.1 7.9+/-0.4\n",
      " 6.3+/-0.3 5.9+/-0.1 5.8+/-0.1 5.3+/-0.2 4.7+/-0.2 4.4+/-0.2 3.9+/-0.2\n",
      " 3.4+/-0.1 2.8+/-0.1]\n"
     ]
    }
   ],
   "source": [
    "# e\n",
    "e = np.array(A6['e'])\n",
    "u_e = np.array(A6['u_e'])\n",
    "print(u_e)\n",
    "test = np.array([0.1, 0.1, 0.1, 0.1,0.1, 0.1,0.1, 0.1,0.1, 0.1,0,0,0,0,0,0,0,0,0,0,0,0,0,0,0,0,0,0,0,0])*0\n",
    "u_e = u_e + test\n",
    "print(u_e)\n",
    "e_err = unp.uarray(e,u_e)\n",
    "print(e_err)\n",
    "# Strom\n",
    "I6 = np.array(A6['I'])\n",
    "u_i = np.array(A6['I'])*0.009\n",
    "I6_err = unp.uarray(I6, u_i)"
   ]
  },
  {
   "cell_type": "markdown",
   "id": "eac170e8-c30a-4fff-8305-7c3cef2e1b4b",
   "metadata": {},
   "source": [
    "### Berechnung von r und B"
   ]
  },
  {
   "cell_type": "code",
   "execution_count": 25,
   "id": "fd326659-8abc-4782-90ca-3de065dd628e",
   "metadata": {},
   "outputs": [],
   "source": [
    "r_err = (ufloat(8,0.05)**2+e_err**2)/(np.sqrt(2)* (ufloat(8,0.05)-e_err))\n",
    "# print(r_err)\n",
    "B_err  = k_ber * I6_err\n",
    "# print(B_err)"
   ]
  },
  {
   "cell_type": "markdown",
   "id": "32c7b274-8c6b-4705-8ed8-4f0bf55c0634",
   "metadata": {},
   "source": [
    "#### Fehler von r"
   ]
  },
  {
   "cell_type": "code",
   "execution_count": 26,
   "id": "a65484f1-f9f9-46ab-9ca7-1b26de196740",
   "metadata": {},
   "outputs": [],
   "source": [
    "# help(unp)"
   ]
  },
  {
   "cell_type": "code",
   "execution_count": 27,
   "id": "b99b2e7c-de0c-45b7-ad06-156a2b284664",
   "metadata": {},
   "outputs": [],
   "source": [
    "u_r_A6=U_r(8,e,0.05,u_e)"
   ]
  },
  {
   "cell_type": "code",
   "execution_count": 28,
   "id": "16267050-13ec-494a-a9e0-e084762557cb",
   "metadata": {},
   "outputs": [
    {
     "name": "stdout",
     "output_type": "stream",
     "text": [
      "[1.86306393e+03 2.27293863e+00 8.82504466e-01 5.58423651e-01\n",
      " 4.42955917e-01 3.06337082e-01 2.29434683e-01 1.91131491e-01\n",
      " 8.12500000e-02 1.34935275e-01 2.75070305e+03 5.59698542e+00\n",
      " 2.53325471e+00 3.02157111e+00 2.01934795e+00 1.18238369e+00\n",
      " 4.19140217e-01 3.57043793e-01 2.91496141e-01 2.40428110e-01\n",
      " 3.64689886e+03 9.23088739e+00 2.04946355e+00 1.85623415e+00\n",
      " 2.35367073e+00 1.52466701e+00 1.25729823e+00 9.35871577e-01\n",
      " 3.57043793e-01 2.64431921e-01]\n"
     ]
    }
   ],
   "source": [
    "print(u_r_A6)"
   ]
  },
  {
   "cell_type": "code",
   "execution_count": 29,
   "id": "c7b7c4e1-6718-497b-b33c-9e20677d807c",
   "metadata": {},
   "outputs": [],
   "source": [
    "r_berr =unp.uarray((8**2+e**2)/(np.sqrt(2)* (8-e)),u_r_A6)\n",
    "# print(r_berr)"
   ]
  },
  {
   "cell_type": "markdown",
   "id": "1928b719-0ff0-4e51-ade3-8352dcffe9bd",
   "metadata": {},
   "source": [
    "#### Relativer Fehler von r"
   ]
  },
  {
   "cell_type": "code",
   "execution_count": 30,
   "id": "9d1eceef-7e27-4d69-a2d6-fe17da5643e0",
   "metadata": {},
   "outputs": [
    {
     "data": {
      "text/plain": [
       "array([208.43052628,   6.42884126,   4.39603946,   3.67586372,\n",
       "         3.35418653,   2.88385773,   2.54033171,   2.33120071,\n",
       "         1.10485435,   1.94632802, 307.73527043,   9.44984158,\n",
       "         6.72549158,  10.7545642 ,   9.20096529,   7.50021733,\n",
       "         3.28078421,   3.07398941,   2.82354654,   2.59481366,\n",
       "       407.99729655,  21.4027953 ,   6.159899  ,   5.91483545,\n",
       "         9.75915003,   8.2651594 ,   7.67888384,   6.85070236,\n",
       "         3.07398941,   2.70686065])"
      ]
     },
     "execution_count": 30,
     "metadata": {},
     "output_type": "execute_result"
    }
   ],
   "source": [
    "u_r_A6/((8**2+e**2)/(np.sqrt(2)* (8-e)))*100"
   ]
  },
  {
   "cell_type": "markdown",
   "id": "6c207929-b76d-4b89-807c-daa0f43bd96f",
   "metadata": {},
   "source": [
    "### Variablen aufstellen"
   ]
  },
  {
   "cell_type": "code",
   "execution_count": 31,
   "id": "fe4432a8-cbe8-4c90-8ed7-4d77581cad46",
   "metadata": {},
   "outputs": [],
   "source": [
    "x1 = I6_err[:10]\n",
    "x2 = I6_err[10:20]\n",
    "x3 = I6_err[20:30]\n",
    "\n",
    "y1 =r_err[:10]\n",
    "y2 = r_err[10:20]\n",
    "y3 = r_err[20:30]\n",
    "\n",
    "y11 =r_berr[:10]\n",
    "y22 = r_berr[10:20]\n",
    "y33 = r_berr[20:30]"
   ]
  },
  {
   "cell_type": "markdown",
   "id": "a1977d04-aba3-45d4-92ea-e34151c1e876",
   "metadata": {},
   "source": [
    "### Visualisierung"
   ]
  },
  {
   "cell_type": "code",
   "execution_count": 32,
   "id": "33e581f5-c6d5-458a-ae91-db9866ca7b08",
   "metadata": {},
   "outputs": [
    {
     "data": {
      "image/png": "[encoded data removed]",
      "text/plain": [
       "<Figure size 640x480 with 1 Axes>"
      ]
     },
     "metadata": {},
     "output_type": "display_data"
    }
   ],
   "source": [
    "# plt.errorbar(n(x1),n(y1), xerr= s(x1), yerr= s(y1), fmt='.k',label='Messdaten, 3kV')\n",
    "plt.errorbar(n(x1)[1:],n(y1)[1:], xerr= s(x1)[1:], yerr= s(y11)[1:], fmt='.c',label='Messdaten, 3kV, V2')\n",
    "# plt.errorbar(n(x2),n(y2), xerr= s(x2), yerr= s(y2), fmt='.r',label='Messdaten, 4kV')\n",
    "plt.errorbar(n(x2)[1:],n(y2)[1:], xerr= s(x2)[1:], yerr= s(y22)[1:], fmt='.y',label='Messdaten, 4kV, V2')\n",
    "# plt.errorbar(n(x3),n(y3), xerr= s(x3), yerr= s(y3), fmt='.b',label='Messdaten, 5kV')\n",
    "plt.errorbar(n(x3)[1:],n(y33)[1:], xerr= s(x3)[1:], yerr= s(y33)[1:], fmt='.g',label='Messdaten, 5kV, V2')\n",
    "plt.xlabel('I [A]')\n",
    "plt.ylabel(r'r [cm]')\n",
    "# plt.xticks(np.arange(-0.01, 1.41, 0.35))\n",
    "# plt.yticks(np.arange(0,7.1, 3.5))\n",
    "plt.legend()\n",
    "plt.show()"
   ]
  },
  {
   "cell_type": "markdown",
   "id": "eec62418-dcb6-4cfa-b0a7-de11c6baecaf",
   "metadata": {},
   "source": [
    "### gewichtete Regression"
   ]
  },
  {
   "cell_type": "code",
   "execution_count": 33,
   "id": "de7cbf5d-ecd1-434a-9d5d-36b0f9ddbf68",
   "metadata": {},
   "outputs": [
    {
     "name": "stdout",
     "output_type": "stream",
     "text": [
      "a1: -11.1+/-1.7\n",
      "b1: 19.8+/-1.9\n",
      "a2: -18+/-4\n",
      "b2: 27+/-4\n",
      "a3: -20.6+/-3.0\n",
      "b3: 31.4+/-2.9\n"
     ]
    }
   ],
   "source": [
    "# Regression mit scipy\n",
    "pop, cov = curve_fit(reg, n(x1),n(y11),sigma= s(y11))\n",
    "a_x1,b_x1 = pop\n",
    "da_x1, db_x1 = np.sqrt(np.diag(cov))\n",
    "print(f'a1: {ufloat(a_x1,da_x1)}')\n",
    "print(f'b1: {ufloat(b_x1,db_x1)}')\n",
    "\n",
    "\n",
    "# Regression mit scipy\n",
    "pop, cov = curve_fit(reg, n(x2),n(y22),sigma= s(y22))\n",
    "a_x2,b_x2 = pop\n",
    "da_x2, db_x2 = np.sqrt(np.diag(cov))\n",
    "print(f'a2: {ufloat(a_x2,da_x2)}')\n",
    "print(f'b2: {ufloat(b_x2,db_x2)}')\n",
    "\n",
    "# Regression mit scipy\n",
    "pop, cov = curve_fit(reg, n(x3),n(y33),sigma= s(y33))\n",
    "a_x3,b_x3 = pop\n",
    "da_x3, db_x3 = np.sqrt(np.diag(cov))\n",
    "print(f'a3: {ufloat(a_x3,da_x3)}')\n",
    "print(f'b3: {ufloat(b_x3,db_x3)}')"
   ]
  },
  {
   "cell_type": "code",
   "execution_count": 34,
   "id": "94a00341-d5cd-4f3a-894d-a793a5feb4d1",
   "metadata": {},
   "outputs": [
    {
     "name": "stdout",
     "output_type": "stream",
     "text": [
      "\n",
      "Lineare Regression\n",
      "\n",
      "                            WLS Regression Results                            \n",
      "==============================================================================\n",
      "Dep. Variable:                      y   R-squared:                       0.385\n",
      "Model:                            WLS   Adj. R-squared:                  0.309\n",
      "Method:                 Least Squares   F-statistic:                     5.016\n",
      "Date:                Sat, 01 Mar 2025   Prob (F-statistic):             0.0555\n",
      "Time:                        16:56:25   Log-Likelihood:                -67.518\n",
      "No. Observations:                  10   AIC:                             139.0\n",
      "Df Residuals:                       8   BIC:                             139.6\n",
      "Df Model:                           1                                         \n",
      "Covariance Type:            nonrobust                                         \n",
      "==============================================================================\n",
      "                 coef    std err          t      P>|t|      [0.025      0.975]\n",
      "------------------------------------------------------------------------------\n",
      "const        399.4066    151.638      2.634      0.030      49.728     749.086\n",
      "x1          -442.9914    197.798     -2.240      0.055    -899.114      13.131\n",
      "==============================================================================\n",
      "Omnibus:                        5.788   Durbin-Watson:                   1.411\n",
      "Prob(Omnibus):                  0.055   Jarque-Bera (JB):                2.129\n",
      "Skew:                           1.067   Prob(JB):                        0.345\n",
      "Kurtosis:                       3.746   Cond. No.                         4.04\n",
      "==============================================================================\n",
      "\n",
      "Notes:\n",
      "[1] Standard Errors assume that the covariance matrix of the errors is correctly specified.\n"
     ]
    },
    {
     "name": "stderr",
     "output_type": "stream",
     "text": [
      "c:\\Users\\benjf\\anaconda3\\envs\\projects\\Lib\\site-packages\\statsmodels\\base\\model.py:130: ValueWarning: unknown kwargs ['sigma']\n",
      "  warnings.warn(msg, ValueWarning)\n",
      "c:\\Users\\benjf\\anaconda3\\envs\\projects\\Lib\\site-packages\\scipy\\stats\\_axis_nan_policy.py:430: UserWarning: `kurtosistest` p-value may be inaccurate with fewer than 20 observations; only n=10 observations were given.\n",
      "  return hypotest_fun_in(*args, **kwds)\n"
     ]
    }
   ],
   "source": [
    "y=n(y1)\n",
    "x_zunahme=sm.add_constant(n(x1))\n",
    "results=sm.WLS(y,x_zunahme,sigma=s(y1)).fit()#,sigma=yerr\n",
    "print('''\n",
    "Lineare Regression\n",
    "''')\n",
    "print(results.summary())"
   ]
  },
  {
   "cell_type": "code",
   "execution_count": 35,
   "id": "6fe30ffa-f12c-4306-945a-b0fed7a2526d",
   "metadata": {},
   "outputs": [
    {
     "name": "stdout",
     "output_type": "stream",
     "text": [
      "\n",
      "Lineare Regression\n",
      "\n",
      "                            WLS Regression Results                            \n",
      "==============================================================================\n",
      "Dep. Variable:                      y   R-squared:                       0.313\n",
      "Model:                            WLS   Adj. R-squared:                  0.227\n",
      "Method:                 Least Squares   F-statistic:                     3.640\n",
      "Date:                Sat, 01 Mar 2025   Prob (F-statistic):             0.0928\n",
      "Time:                        16:56:25   Log-Likelihood:                -67.986\n",
      "No. Observations:                  10   AIC:                             140.0\n",
      "Df Residuals:                       8   BIC:                             140.6\n",
      "Df Model:                           1                                         \n",
      "Covariance Type:            nonrobust                                         \n",
      "==============================================================================\n",
      "                 coef    std err          t      P>|t|      [0.025      0.975]\n",
      "------------------------------------------------------------------------------\n",
      "const        340.3612    143.018      2.380      0.045      10.560     670.162\n",
      "x1          -457.3226    239.697     -1.908      0.093   -1010.065      95.420\n",
      "==============================================================================\n",
      "Omnibus:                       10.459   Durbin-Watson:                   1.307\n",
      "Prob(Omnibus):                  0.005   Jarque-Bera (JB):                4.574\n",
      "Skew:                           1.456   Prob(JB):                        0.102\n",
      "Kurtosis:                       4.582   Cond. No.                         3.99\n",
      "==============================================================================\n",
      "\n",
      "Notes:\n",
      "[1] Standard Errors assume that the covariance matrix of the errors is correctly specified.\n"
     ]
    },
    {
     "name": "stderr",
     "output_type": "stream",
     "text": [
      "c:\\Users\\benjf\\anaconda3\\envs\\projects\\Lib\\site-packages\\statsmodels\\base\\model.py:130: ValueWarning: unknown kwargs ['sigma']\n",
      "  warnings.warn(msg, ValueWarning)\n",
      "c:\\Users\\benjf\\anaconda3\\envs\\projects\\Lib\\site-packages\\scipy\\stats\\_axis_nan_policy.py:430: UserWarning: `kurtosistest` p-value may be inaccurate with fewer than 20 observations; only n=10 observations were given.\n",
      "  return hypotest_fun_in(*args, **kwds)\n"
     ]
    }
   ],
   "source": [
    "y=n(y2)\n",
    "x_zunahme=sm.add_constant(n(x2))\n",
    "results=sm.WLS(y,x_zunahme,sigma=s(y2)).fit()#,sigma=yerr\n",
    "print('''\n",
    "Lineare Regression\n",
    "''')\n",
    "print(results.summary())"
   ]
  },
  {
   "cell_type": "code",
   "execution_count": 36,
   "id": "084bc0e9-b889-4031-8a21-8a579fb4b4a7",
   "metadata": {},
   "outputs": [
    {
     "name": "stdout",
     "output_type": "stream",
     "text": [
      "\n",
      "Lineare Regression\n",
      "\n",
      "                            WLS Regression Results                            \n",
      "==============================================================================\n",
      "Dep. Variable:                      y   R-squared:                       0.305\n",
      "Model:                            WLS   Adj. R-squared:                  0.218\n",
      "Method:                 Least Squares   F-statistic:                     3.509\n",
      "Date:                Sat, 01 Mar 2025   Prob (F-statistic):             0.0979\n",
      "Time:                        16:56:25   Log-Likelihood:                -68.040\n",
      "No. Observations:                  10   AIC:                             140.1\n",
      "Df Residuals:                       8   BIC:                             140.7\n",
      "Df Model:                           1                                         \n",
      "Covariance Type:            nonrobust                                         \n",
      "==============================================================================\n",
      "                 coef    std err          t      P>|t|      [0.025      0.975]\n",
      "------------------------------------------------------------------------------\n",
      "const        337.7743    144.191      2.343      0.047       5.270     670.279\n",
      "x1          -445.2924    237.724     -1.873      0.098    -993.484     102.899\n",
      "==============================================================================\n",
      "Omnibus:                       10.501   Durbin-Watson:                   1.301\n",
      "Prob(Omnibus):                  0.005   Jarque-Bera (JB):                4.632\n",
      "Skew:                           1.484   Prob(JB):                       0.0987\n",
      "Kurtosis:                       4.519   Cond. No.                         3.96\n",
      "==============================================================================\n",
      "\n",
      "Notes:\n",
      "[1] Standard Errors assume that the covariance matrix of the errors is correctly specified.\n"
     ]
    },
    {
     "name": "stderr",
     "output_type": "stream",
     "text": [
      "c:\\Users\\benjf\\anaconda3\\envs\\projects\\Lib\\site-packages\\statsmodels\\base\\model.py:130: ValueWarning: unknown kwargs ['sigma']\n",
      "  warnings.warn(msg, ValueWarning)\n",
      "c:\\Users\\benjf\\anaconda3\\envs\\projects\\Lib\\site-packages\\scipy\\stats\\_axis_nan_policy.py:430: UserWarning: `kurtosistest` p-value may be inaccurate with fewer than 20 observations; only n=10 observations were given.\n",
      "  return hypotest_fun_in(*args, **kwds)\n"
     ]
    }
   ],
   "source": [
    "y=n(y3)\n",
    "x_zunahme=sm.add_constant(n(x3))\n",
    "results=sm.WLS(y,x_zunahme,sigma=s(y3)).fit()#,sigma=yerr\n",
    "print('''\n",
    "Lineare Regression\n",
    "''')\n",
    "print(results.summary())"
   ]
  },
  {
   "cell_type": "code",
   "execution_count": 37,
   "id": "3f6aada7-58b5-4b93-8f09-a24c712e97a8",
   "metadata": {},
   "outputs": [
    {
     "name": "stdout",
     "output_type": "stream",
     "text": [
      "\n",
      " für x1\n",
      "$\\chi^2$:117.6\n",
      "$\\chi^2_$\\nu$$: 14.7\n",
      "$R^2$: 0.0\n",
      "\n",
      " für x2\n",
      "$\\chi^2$:90.4\n",
      "$\\chi^2_$\\nu$$: 11.3\n",
      "$R^2$: 0.001\n",
      "\n",
      " für x3\n",
      "$\\chi^2$:44.2\n",
      "$\\chi^2_$\\nu$$: 5.5\n",
      "$R^2$: 0.002\n"
     ]
    }
   ],
   "source": [
    "nu = r'$\\nu$'\n",
    "chi_norm1, chi_nu1 ,R_sqq1= chi_sq(n(x1),n(y1), a_x1,b_x1, s(y1)) #y_data, x_data, a,b, y_err\n",
    "print('\\n für x1')\n",
    "print(fr'$\\chi^2$:{chi_norm1}')\n",
    "print(fr'$\\chi^2_{nu}$: {chi_nu1}')\n",
    "print(fr'$R^2$: {R_sqq1}')\n",
    "\n",
    "chi_norm2, chi_nu2 ,R_sqq2= chi_sq(n(x2),n(y2), a_x2,b_x2, s(y2)) #y_data, x_data, a,b, y_err\n",
    "print('\\n für x2')\n",
    "print(fr'$\\chi^2$:{chi_norm2}')\n",
    "print(fr'$\\chi^2_{nu}$: {chi_nu2}')\n",
    "print(fr'$R^2$: {R_sqq2}')\n",
    "\n",
    "chi_norm3, chi_nu3 ,R_sqq3= chi_sq(n(x3),n(y3), a_x3,b_x3, s(y3)) #y_data, x_data, a,b, y_err\n",
    "print('\\n für x3')\n",
    "print(fr'$\\chi^2$:{chi_norm3}')\n",
    "print(fr'$\\chi^2_{nu}$: {chi_nu3}')\n",
    "print(fr'$R^2$: {R_sqq3}')"
   ]
  },
  {
   "cell_type": "markdown",
   "id": "fc75ed6e-7bf0-4a6b-afe1-55c4fc67ca2b",
   "metadata": {
    "tags": []
   },
   "source": [
    "#### Plot"
   ]
  },
  {
   "cell_type": "code",
   "execution_count": 38,
   "id": "293194e4-b09b-4a8b-9985-2afdbdf5fac3",
   "metadata": {},
   "outputs": [],
   "source": [
    "x_reg = np.arange(-0.01, 1.40, 0.35)\n",
    "y1_reg = reg(x_reg, a_x1, b_x1)\n",
    "y2_reg = reg(x_reg, a_x2, b_x2)\n",
    "y3_reg = reg(x_reg, a_x3, b_x3)"
   ]
  },
  {
   "cell_type": "code",
   "execution_count": 39,
   "id": "7a595fe4-e08d-476c-9dfb-5a29f4c94c34",
   "metadata": {},
   "outputs": [
    {
     "data": {
      "image/png": "[encoded data removed]",
      "text/plain": [
       "<Figure size 640x480 with 1 Axes>"
      ]
     },
     "metadata": {},
     "output_type": "display_data"
    }
   ],
   "source": [
    "fig=plt.figure()\n",
    "ax=fig.add_subplot(111)\n",
    "ax.errorbar(n(x1),n(y1), xerr= s(x1), yerr= s(y1), fmt='.k',label='Messdaten')\n",
    "ax.plot(x_reg, y1_reg, label=r'Fit: $f(x) = a\\cdot x +b$')\n",
    "\n",
    "# Für die Parameter\n",
    "par1, = ax.plot([],[],' ')\n",
    "par2, = ax.plot([],[],' ' )\n",
    "par3, = ax.plot([],[],' ')\n",
    "par4, = ax.plot([],[],' ' )\n",
    "\n",
    "leg1= ax.legend(loc=1)\n",
    "chi1=r'$\\chi_{\\nu}^{2}$'+f'$={chi_nu1}$'\n",
    "\n",
    "ax.set_xlabel('I [A]')\n",
    "ax.set_ylabel(r'B [$\\Omega$]')\n",
    "leg2=ax.legend([par1,par2,par3,par4],\n",
    "               [fr'$a=({round(a_x1,2)}\\pm {round(da_x1,2)})$ ',#\n",
    "                fr'$b =({round(b_x1,3)}\\pm {round(db_x1,3)})$',#\n",
    "               chi1,\n",
    "               fr'$R^{2}={R_sqq1}$'],\n",
    "              loc=3)\n",
    "ax.add_artist(leg1)\n",
    "# plt.xticks(np.arange(0.1,0.91, 0.2))\n",
    "# plt.yticks(np.arange(0.2, 2.1, 0.45))\n",
    "plt.show()"
   ]
  },
  {
   "cell_type": "code",
   "execution_count": 40,
   "id": "bfd7b395-39bf-4442-901e-413a3bc16b45",
   "metadata": {},
   "outputs": [
    {
     "data": {
      "image/png": "[encoded data removed]",
      "text/plain": [
       "<Figure size 640x480 with 1 Axes>"
      ]
     },
     "metadata": {},
     "output_type": "display_data"
    }
   ],
   "source": [
    "fig=plt.figure()\n",
    "ax2=fig.add_subplot(111)\n",
    "ax2.errorbar(n(x2),n(y2), xerr= s(x2), yerr= s(y2), fmt='.k',label='Messdaten')\n",
    "ax2.plot(x_reg, y2_reg, label=r'Fit: $f(x) = a\\cdot x +b$')\n",
    "\n",
    "# Für die Parameter\n",
    "par1, = ax2.plot([],[],' ')\n",
    "par2, = ax2.plot([],[],' ' )\n",
    "par3, = ax2.plot([],[],' ')\n",
    "par4, = ax2.plot([],[],' ' )\n",
    "\n",
    "leg1= ax2.legend(loc=1)\n",
    "chi1=r'$\\chi_{\\nu}^{2}$'+f'$={chi_nu2}$'\n",
    "\n",
    "ax2.set_xlabel('I [A]')\n",
    "ax2.set_ylabel(r'B [$\\Omega$]')\n",
    "leg2=ax2.legend([par1,par2,par3,par4],\n",
    "               [fr'$a=({round(a_x2,2)}\\pm {round(da_x2,2)})$ ',\n",
    "                fr'$b =({round(b_x2,3)}\\pm {round(db_x2,3)})$',\n",
    "               chi1,\n",
    "               fr'$R^{2}={R_sqq2}$'],\n",
    "              loc=3)\n",
    "ax2.add_artist(leg1)\n",
    "plt.show()"
   ]
  },
  {
   "cell_type": "code",
   "execution_count": 41,
   "id": "551656e9-0e37-4981-afef-c999b7086f93",
   "metadata": {},
   "outputs": [
    {
     "data": {
      "image/png": "[encoded data removed]",
      "text/plain": [
       "<Figure size 640x480 with 1 Axes>"
      ]
     },
     "metadata": {},
     "output_type": "display_data"
    }
   ],
   "source": [
    "fig=plt.figure()\n",
    "\n",
    "##############################################################################################\n",
    "ax3=fig.add_subplot(111)\n",
    "ax3.errorbar(n(x3),n(y3), xerr= s(x3), yerr= s(y3), fmt='.k',label='Messdaten')\n",
    "ax3.plot(x_reg, y3_reg, label=r'Fit: $f(x) = a\\cdot x +b$')\n",
    "\n",
    "# Für die Parameter\n",
    "par1, = ax3.plot([],[],' ')\n",
    "par2, = ax3.plot([],[],' ' )\n",
    "par3, = ax3.plot([],[],' ')\n",
    "par4, = ax3.plot([],[],' ' )\n",
    "\n",
    "leg1= ax3.legend(loc=1)\n",
    "chi1=r'$\\chi_{\\nu}^{2}$'+f'$={chi_nu3}$'\n",
    "\n",
    "ax3.set_xlabel('I [A]')\n",
    "ax3.set_ylabel(r'B [$\\Omega$]')\n",
    "leg2=ax3.legend([par1,par2,par3,par4],\n",
    "               [fr'$a=({round(a_x3,2)}\\pm {round(da_x3,2)})$ ',\n",
    "                fr'$b =({round(b_x3,3)}\\pm {round(db_x3,3)})$',\n",
    "               chi1],loc=3)\n",
    "               # fr'$R^{2}={R_sqq}$'],\n",
    "\n",
    "ax3.add_artist(leg1)\n",
    "plt.show()\n"
   ]
  },
  {
   "cell_type": "markdown",
   "id": "fca7227a-8fe6-4adf-b6d6-2fd3920bc5d7",
   "metadata": {
    "tags": []
   },
   "source": [
    "## Kacpers Vorgehensweise"
   ]
  },
  {
   "cell_type": "markdown",
   "id": "70c4b1e7-200a-4822-83be-56769c4f39ab",
   "metadata": {
    "jp-MarkdownHeadingCollapsed": true,
    "tags": []
   },
   "source": [
    "### Daten laden"
   ]
  },
  {
   "cell_type": "code",
   "execution_count": 42,
   "id": "d73f58f2-43be-45b3-8db9-cbde9f2ac46c",
   "metadata": {},
   "outputs": [
    {
     "name": "stdout",
     "output_type": "stream",
     "text": [
      "       x       y      u_x      u_y\n",
      "0  0.006  893.85  0.00001  1863.06\n",
      "1  0.220   35.36  0.00010     2.27\n",
      "2  0.411   20.07  0.00100     0.88\n",
      "3  0.519   15.19  0.00100     0.56\n",
      "4  0.620   13.21  0.00100     0.44\n",
      "       x       y      u_x      u_y\n",
      "0  0.007  893.85  0.00001  2750.70\n",
      "1  0.140   59.23  0.00010     5.60\n",
      "2  0.204   37.67  0.00010     2.53\n",
      "3  0.319   28.10  0.00010     3.02\n",
      "4  0.422   21.95  0.00100     2.02\n",
      "       x       y      u_x      u_y\n",
      "0  0.005  893.85  0.00001  3646.90\n",
      "1  0.177   43.13  0.00010     9.23\n",
      "2  0.267   33.27  0.00010     2.05\n",
      "3  0.301   31.38  0.00010     1.86\n",
      "4  0.414   24.12  0.00100     2.35\n"
     ]
    }
   ],
   "source": [
    "r3kv = pd.read_csv('r_3kV.txt', sep='\\t')\n",
    "print(r3kv.head())\n",
    "r4kv = pd.read_csv('r_4kV.txt', sep='\\t')\n",
    "print(r4kv.head())\n",
    "r5kv = pd.read_csv('r_5kV.txt', sep='\\t')\n",
    "print(r5kv.head())"
   ]
  },
  {
   "cell_type": "code",
   "execution_count": 43,
   "id": "e93fc368-f7ed-4843-9e3d-5707508d7e60",
   "metadata": {},
   "outputs": [],
   "source": [
    "x3kv = r3kv['x']\n",
    "y3kv = r3kv['y']\n",
    "u_x3kv  = r3kv['u_x']\n",
    "u_y3kv = r3kv['u_y']\n",
    "\n",
    "x4kv = r4kv['x']\n",
    "y4kv = r4kv['y']\n",
    "u_x4kv  = r4kv['u_x']\n",
    "u_y4kv = r4kv['u_y']\n",
    "\n",
    "x5kv = r5kv['x']\n",
    "y5kv = r5kv['y']\n",
    "u_x5kv  = r5kv['u_x']\n",
    "u_y5kv = r5kv['u_y']"
   ]
  },
  {
   "cell_type": "markdown",
   "id": "8287038e-b015-40e2-b2fe-f1ce395add34",
   "metadata": {
    "jp-MarkdownHeadingCollapsed": true,
    "tags": []
   },
   "source": [
    "### Visualisierung"
   ]
  },
  {
   "cell_type": "code",
   "execution_count": 44,
   "id": "6f6c082e-5441-4912-accc-8b6967b24175",
   "metadata": {},
   "outputs": [
    {
     "data": {
      "image/png": "[encoded data removed]",
      "text/plain": [
       "<Figure size 640x480 with 1 Axes>"
      ]
     },
     "metadata": {},
     "output_type": "display_data"
    }
   ],
   "source": [
    "plt.errorbar(x3kv[ :], y3kv[ :], xerr = u_x3kv[ :], yerr = u_y3kv[ :],fmt='k.', label=r'Messdaten, $U_A = 3$kV')\n",
    "plt.errorbar(x4kv[ :], y4kv[ :], xerr = u_x4kv[ :], yerr = u_y4kv[ :],fmt='b.', label=r'Messdaten, $U_A = 4$kV')\n",
    "plt.errorbar(x5kv[ :], y5kv[ :], xerr = u_x5kv[ :], yerr = u_y5kv[ :],fmt='r.', label=r'Messdaten, $U_A = 5$kV')\n",
    "plt.xlabel(r'I [A]')\n",
    "plt.ylabel('r')\n",
    "plt.legend()\n",
    "plt.show()"
   ]
  },
  {
   "cell_type": "code",
   "execution_count": 45,
   "id": "79896e22-f91f-4e92-becb-7d4839e60550",
   "metadata": {},
   "outputs": [
    {
     "data": {
      "image/png": "[encoded data removed]",
      "text/plain": [
       "<Figure size 640x480 with 1 Axes>"
      ]
     },
     "metadata": {},
     "output_type": "display_data"
    }
   ],
   "source": [
    "plt.errorbar(x3kv[1:], y3kv[1:], xerr = u_x3kv[1:], yerr = u_y3kv[1:],fmt='k.', label=r'Messdaten, $U_A = 3$kV')\n",
    "plt.errorbar(x4kv[1:], y4kv[1:], xerr = u_x4kv[1:], yerr = u_y4kv[1:],fmt='b.', label=r'Messdaten, $U_A = 4$kV')\n",
    "plt.errorbar(x5kv[1:], y5kv[1:], xerr = u_x5kv[1:], yerr = u_y5kv[1:],fmt='r.', label=r'Messdaten, $U_A = 5$kV')\n",
    "plt.xlabel(r'I [A]')\n",
    "plt.ylabel('r')\n",
    "plt.legend()\n",
    "plt.show()"
   ]
  },
  {
   "cell_type": "markdown",
   "id": "16f4de22-4a95-4eda-bd78-aa132d6f49b8",
   "metadata": {},
   "source": [
    "### gewichtete Regression"
   ]
  },
  {
   "cell_type": "code",
   "execution_count": 46,
   "id": "be56c588-9e22-4181-9aa3-55df2b27f3e6",
   "metadata": {},
   "outputs": [],
   "source": [
    "pop, cov = curve_fit(reg1, x3kv, y3kv, sigma=u_y3kv)\n",
    "a3kv, b3kv = pop\n",
    "u_a3kv, u_b3kv = np.sqrt(np.diag(cov))\n",
    "\n",
    "pop, cov = curve_fit(reg1, x4kv, y4kv, sigma=u_y4kv)\n",
    "a4kv, b4kv = pop\n",
    "u_a4kv, u_b4kv = np.sqrt(np.diag(cov))\n",
    "\n",
    "pop, cov = curve_fit(reg1, x5kv, y5kv, sigma=u_y5kv)\n",
    "a5kv, b5kv = pop\n",
    "u_a5kv, u_b5kv = np.sqrt(np.diag(cov))"
   ]
  },
  {
   "cell_type": "markdown",
   "id": "9b154f05-9f7e-46d2-a1a3-062dbc67e899",
   "metadata": {},
   "source": [
    "#### Plot"
   ]
  },
  {
   "cell_type": "code",
   "execution_count": 47,
   "id": "ca59f12e-fc6d-4f5b-ad60-3c720769937e",
   "metadata": {},
   "outputs": [],
   "source": [
    "xx = np.arange(0, 1.3, 0.1)\n",
    "yy1 = reg1(xx, a3kv, b3kv)\n",
    "yy2 = reg1(xx, a4kv, b4kv)\n",
    "yy3 = reg1(xx, a5kv, b5kv)"
   ]
  },
  {
   "cell_type": "code",
   "execution_count": 48,
   "id": "cfbad022-8463-4506-a00c-4ae8648a8738",
   "metadata": {},
   "outputs": [
    {
     "data": {
      "image/png": "[encoded data removed]",
      "text/plain": [
       "<Figure size 640x480 with 1 Axes>"
      ]
     },
     "metadata": {},
     "output_type": "display_data"
    }
   ],
   "source": [
    "plt.errorbar(x3kv[1 :], y3kv[ 1:], xerr = u_x3kv[ 1:], yerr = u_y3kv[1 :],fmt='k.', label=r'Messdaten, $U_A = 3$kV')\n",
    "plt.plot(xx[1:], yy1[1:],'k' ,label=r'Fit: $r(I) = \\frac{1}{a \\cdot x + b}$, $U_A = 3$kV')\n",
    "plt.errorbar(x4kv[ 1:], y4kv[ 1:], xerr = u_x4kv[ 1:], yerr = u_y4kv[1 :],fmt='b.', label=r'Messdaten, $U_A = 4$kV')\n",
    "plt.plot(xx[1:], yy2[1:], 'b' ,label=r'Fit: $r(I) = \\frac{1}{a \\cdot x + b}$, $U_A = 4$kV')\n",
    "plt.errorbar(x5kv[ 1:], y5kv[ 1:], xerr = u_x5kv[ 1:], yerr = u_y5kv[ 1:],fmt='r.', label=r'Messdaten, $U_A = 5$kV')\n",
    "plt.plot(xx[1:], yy3[1:],'r' , label=r'Fit: $r(I) = \\frac{1}{a \\cdot x + b}$, $U_A = 5$kV')\n",
    "plt.xlabel(r'I [A]')\n",
    "plt.ylabel('r [mm]')\n",
    "plt.legend()\n",
    "plt.show()"
   ]
  },
  {
   "cell_type": "code",
   "execution_count": 49,
   "id": "daeeb956-86fb-4f67-b891-f5281c5bea27",
   "metadata": {},
   "outputs": [
    {
     "name": "stdout",
     "output_type": "stream",
     "text": [
      "(np.float64(17699.9), np.float64(2528.6), np.float64(0.543))\n",
      "(np.float64(5353.4), np.float64(764.8), np.float64(0.293))\n",
      "(np.float64(3587.1), np.float64(512.4), np.float64(0.542))\n"
     ]
    }
   ],
   "source": [
    "r1= chi_sq(x3kv[1:],y3kv[1:],  a3kv,b3kv, u_y3kv[1:])\n",
    "print(r1)\n",
    "r2= chi_sq(x4kv[1:],y4kv[1:],  a4kv,b4kv, u_y4kv[1:])\n",
    "print(r2)\n",
    "r3= chi_sq(x5kv[1:],y5kv[1:],  a3kv,b5kv, u_y5kv[1:])\n",
    "print(r3)"
   ]
  },
  {
   "cell_type": "markdown",
   "id": "38bdefb7-17eb-4b00-b181-09f41d194ff1",
   "metadata": {
    "jp-MarkdownHeadingCollapsed": true,
    "tags": []
   },
   "source": [
    "### Logarithmisieren"
   ]
  },
  {
   "cell_type": "code",
   "execution_count": 50,
   "id": "c4c3fd8f-9e8c-4109-8daa-7b2a275bab25",
   "metadata": {},
   "outputs": [],
   "source": [
    "# x3kv = np.log(r3kv['x'])\n",
    "# y3kv = np.log(r3kv['y'])\n",
    "# u_x3kv  = r3kv['u_x']\n",
    "# u_y3kv = np.log(r3kv['u_y'])\n",
    "\n",
    "# x4kv = np.log(r4kv['x'])\n",
    "# y4kv = np.log(r4kv['y'])\n",
    "# u_x4kv  = r4kv['u_x']\n",
    "# u_y4kv = np.log(r4kv['u_y'])\n",
    "\n",
    "# x5kv = np.log(r5kv['x'])\n",
    "# y5kv = np.log(r5kv['y'])\n",
    "# u_x5kv  = r5kv['u_x']\n",
    "# u_y5kv = np.log(r5kv['u_y'])"
   ]
  },
  {
   "cell_type": "code",
   "execution_count": 51,
   "id": "0b553f6f-8b41-4ecf-b764-596274b17a8a",
   "metadata": {},
   "outputs": [],
   "source": [
    "# pop, cov = curve_fit(reg, x3kv, y3kv, sigma=u_y3kv)\n",
    "# a3kv, b3kv = pop\n",
    "# u_a3kv, u_b3kv = np.sqrt(np.diag(cov))\n",
    "\n",
    "# pop, cov = curve_fit(reg, x4kv, y4kv, sigma=u_y4kv)\n",
    "# a4kv, b4kv = pop\n",
    "# u_a4kv, u_b4kv = np.sqrt(np.diag(cov))\n",
    "\n",
    "# pop, cov = curve_fit(reg, x5kv, y5kv, sigma=u_y5kv)\n",
    "# a5kv, b5kv = pop\n",
    "# u_a5kv, u_b5kv = np.sqrt(np.diag(cov))"
   ]
  },
  {
   "cell_type": "code",
   "execution_count": 52,
   "id": "4120346b-fc4f-47d7-bc5a-49e0ad8d4b23",
   "metadata": {},
   "outputs": [],
   "source": [
    "# r1= chi_sq(x3kv[1:],y3kv[1:],  a3kv,b3kv, u_y3kv[1:])\n",
    "# print(r1)\n",
    "# r2= chi_sq(x4kv[1:],y4kv[1:],  a4kv,b4kv, u_y4kv[1:])\n",
    "# print(r2)\n",
    "# r3= chi_sq(x5kv[1:],y5kv[1:],  a3kv,b5kv, u_y5kv[1:])\n",
    "# print(r3)"
   ]
  },
  {
   "cell_type": "code",
   "execution_count": 53,
   "id": "529a688a-9667-493b-8a31-4245299bf23f",
   "metadata": {},
   "outputs": [],
   "source": [
    "# xx = np.arange(-2, 1.3, 0.1)\n",
    "# yy1 = reg(xx, a3kv, b3kv)\n",
    "# yy2 = reg(xx, a4kv, b4kv)\n",
    "# yy3 = reg(xx, a5kv, b5kv)"
   ]
  },
  {
   "cell_type": "code",
   "execution_count": 54,
   "id": "9c49d259-b92e-409b-b5e2-05527212e5d1",
   "metadata": {},
   "outputs": [],
   "source": [
    "# plt.errorbar(x3kv[1 :], y3kv[ 1:], xerr = u_x3kv[ 1:], yerr = u_y3kv[1 :],fmt='k.', label=r'Messdaten, $U_A = 3$kV')\n",
    "# plt.plot(xx[1:], yy1[1:],'k' ,label=r'Fit: $r(I) = \\log{ \\frac{1}{a \\cdot I + b}}$, $U_A = 3$kV')\n",
    "# plt.errorbar(x4kv[ 1:], y4kv[ 1:], xerr = u_x4kv[ 1:], yerr = u_y4kv[1 :],fmt='b.', label=r'Messdaten, $U_A = 4$kV')\n",
    "# plt.plot(xx[1:], yy2[1:], 'b' ,label=r'Fit: $r(I) =\\log{ \\frac{1}{a \\cdot I + b}}$, $U_A = 4$kV')\n",
    "# plt.errorbar(x5kv[ 1:], y5kv[ 1:], xerr = u_x5kv[ 1:], yerr = u_y5kv[ 1:],fmt='r.', label=r'Messdaten, $U_A = 5$kV')\n",
    "# plt.plot(xx[1:], yy3[1:],'r' , label=r'Fit: $r(I) = \\log{ \\frac{1}{a \\cdot I + b}}$, $U_A = 5$kV')\n",
    "# plt.xlabel(r'I [A]')\n",
    "# plt.ylabel('r [mm]')\n",
    "# plt.legend()\n",
    "# plt.show()"
   ]
  },
  {
   "cell_type": "markdown",
   "id": "05e7369e-dcc1-4644-8213-c1eaa06d7d99",
   "metadata": {},
   "source": [
    "### zweite Versuch"
   ]
  },
  {
   "cell_type": "code",
   "execution_count": 55,
   "id": "1555c5ab-dffb-469a-bea7-2cc5ff894dfc",
   "metadata": {},
   "outputs": [],
   "source": [
    "x3kv = r3kv['x']\n",
    "y3kv = r3kv['y']\n",
    "u_x3kv  = r3kv['u_x']\n",
    "u_y3kv = r3kv['u_y']\n",
    "\n",
    "x4kv = r4kv['x']\n",
    "y4kv = r4kv['y']\n",
    "u_x4kv  = r4kv['u_x']\n",
    "u_y4kv = r4kv['u_y']\n",
    "\n",
    "x5kv = r5kv['x']\n",
    "y5kv = r5kv['y']\n",
    "u_x5kv  = r5kv['u_x']\n",
    "u_y5kv = r5kv['u_y']"
   ]
  },
  {
   "cell_type": "code",
   "execution_count": 56,
   "id": "2bb7c365-9307-4d4d-a615-3e423daec3ea",
   "metadata": {},
   "outputs": [],
   "source": [
    "pop, cov = curve_fit(reg2, x3kv, y3kv, sigma=u_y3kv)\n",
    "a3kv, b3kv = pop\n",
    "u_a3kv, u_b3kv = np.sqrt(np.diag(cov))\n",
    "\n",
    "pop, cov = curve_fit(reg2, x4kv, y4kv, sigma=u_y4kv)\n",
    "a4kv, b4kv = pop\n",
    "u_a4kv, u_b4kv = np.sqrt(np.diag(cov))\n",
    "\n",
    "pop, cov = curve_fit(reg2, x5kv, y5kv, sigma=u_y5kv)\n",
    "a5kv, b5kv = pop\n",
    "u_a5kv, u_b5kv = np.sqrt(np.diag(cov))"
   ]
  },
  {
   "cell_type": "code",
   "execution_count": 57,
   "id": "1ca60afb-5fb2-443e-a73c-e051dc5e5be7",
   "metadata": {},
   "outputs": [
    {
     "name": "stdout",
     "output_type": "stream",
     "text": [
      "(np.float64(2424.0), np.float64(303.0), np.float64(0.0))\n",
      "(np.float64(854.0), np.float64(106.8), np.float64(0.0))\n",
      "(np.float64(695.5), np.float64(86.9), np.float64(0.0))\n"
     ]
    }
   ],
   "source": [
    "r1= chi_sq(x3kv,y3kv,  a3kv,b3kv, u_y3kv)\n",
    "print(r1)\n",
    "r2= chi_sq(x4kv,y4kv,  a4kv,b4kv, u_y4kv)\n",
    "print(r2)\n",
    "r3= chi_sq(x5kv,y5kv,  a5kv,b5kv, u_y5kv)\n",
    "print(r3)"
   ]
  },
  {
   "cell_type": "code",
   "execution_count": 58,
   "id": "5c784a75-b86c-49a0-9a0b-517f6def67fe",
   "metadata": {},
   "outputs": [],
   "source": [
    "xx = np.arange(0.1, 1.3, 0.01)\n",
    "yy1 = reg2(xx, a3kv, b3kv)\n",
    "yy2 = reg2(xx, a4kv, b4kv)\n",
    "yy3 = reg2(xx, a5kv, b5kv)\n",
    "nu = r'\\nu'"
   ]
  },
  {
   "cell_type": "code",
   "execution_count": 59,
   "id": "eb25a7f9-27ab-4301-8fbe-9d149ccdebd2",
   "metadata": {},
   "outputs": [
    {
     "name": "stderr",
     "output_type": "stream",
     "text": [
      "<>:3: SyntaxWarning: invalid escape sequence '\\p'\n",
      "<>:3: SyntaxWarning: invalid escape sequence '\\c'\n",
      "<>:4: SyntaxWarning: invalid escape sequence '\\p'\n",
      "<>:5: SyntaxWarning: invalid escape sequence '\\c'\n",
      "<>:3: SyntaxWarning: invalid escape sequence '\\p'\n",
      "<>:3: SyntaxWarning: invalid escape sequence '\\c'\n",
      "<>:4: SyntaxWarning: invalid escape sequence '\\p'\n",
      "<>:5: SyntaxWarning: invalid escape sequence '\\c'\n",
      "C:\\Users\\benjf\\AppData\\Local\\Temp\\ipykernel_15100\\2390516302.py:3: SyntaxWarning: invalid escape sequence '\\p'\n",
      "  plt.errorbar([],[],fmt='w.', yerr =[],label=f'$a = ({round(a3kv,2)}\\pm{round(u_a3kv,2)})$ cm $\\cdot$ A')\n",
      "C:\\Users\\benjf\\AppData\\Local\\Temp\\ipykernel_15100\\2390516302.py:3: SyntaxWarning: invalid escape sequence '\\c'\n",
      "  plt.errorbar([],[],fmt='w.', yerr =[],label=f'$a = ({round(a3kv,2)}\\pm{round(u_a3kv,2)})$ cm $\\cdot$ A')\n",
      "C:\\Users\\benjf\\AppData\\Local\\Temp\\ipykernel_15100\\2390516302.py:4: SyntaxWarning: invalid escape sequence '\\p'\n",
      "  plt.errorbar([],[],fmt='w.',yerr =[],label=f'$b = ({round(b3kv,2)}\\pm{round(u_b3kv,2)})$ cm')\n",
      "C:\\Users\\benjf\\AppData\\Local\\Temp\\ipykernel_15100\\2390516302.py:5: SyntaxWarning: invalid escape sequence '\\c'\n",
      "  plt.errorbar([],[],fmt='w.',yerr =[],label=f'$\\chi_{nu}^{2}={round(r1[1],1)}$')\n"
     ]
    },
    {
     "data": {
      "image/png": "[encoded data removed]",
      "text/plain": [
       "<Figure size 640x480 with 1 Axes>"
      ]
     },
     "metadata": {},
     "output_type": "display_data"
    }
   ],
   "source": [
    "plt.errorbar(x3kv[1 :], y3kv[ 1:], xerr = u_x3kv[ 1:], yerr = u_y3kv[1 :],fmt='k.', label=r'Messdaten')\n",
    "plt.plot(xx[1:], yy1[1:],'b' ,label=r'Fit: $r(I) = \\frac{a}{I}+b$')\n",
    "plt.errorbar([],[],fmt='w.', yerr =[],label=f'$a = ({round(a3kv,2)}\\pm{round(u_a3kv,2)})$ cm $\\cdot$ A')\n",
    "plt.errorbar([],[],fmt='w.',yerr =[],label=f'$b = ({round(b3kv,2)}\\pm{round(u_b3kv,2)})$ cm')\n",
    "plt.errorbar([],[],fmt='w.',yerr =[],label=f'$\\chi_{nu}^{2}={round(r1[1],1)}$')\n",
    "plt.errorbar([],[],fmt='w.',yerr =[],label=f'$U_A = 3$kV')\n",
    "plt.xlabel(r'I [A]')\n",
    "plt.ylabel('r [cm]')\n",
    "plt.legend()\n",
    "# plt.show()\n",
    "# plt.savefig('r(I)-U3kV.pdf',dpi=600)\n",
    "plt.show()"
   ]
  },
  {
   "cell_type": "code",
   "execution_count": 60,
   "id": "c2daae85-e8b8-4c67-adb2-81d6e59169c7",
   "metadata": {},
   "outputs": [
    {
     "name": "stderr",
     "output_type": "stream",
     "text": [
      "<>:3: SyntaxWarning: invalid escape sequence '\\p'\n",
      "<>:3: SyntaxWarning: invalid escape sequence '\\c'\n",
      "<>:4: SyntaxWarning: invalid escape sequence '\\p'\n",
      "<>:5: SyntaxWarning: invalid escape sequence '\\c'\n",
      "<>:3: SyntaxWarning: invalid escape sequence '\\p'\n",
      "<>:3: SyntaxWarning: invalid escape sequence '\\c'\n",
      "<>:4: SyntaxWarning: invalid escape sequence '\\p'\n",
      "<>:5: SyntaxWarning: invalid escape sequence '\\c'\n",
      "C:\\Users\\benjf\\AppData\\Local\\Temp\\ipykernel_15100\\3292060058.py:3: SyntaxWarning: invalid escape sequence '\\p'\n",
      "  plt.errorbar([],[],fmt='w.', yerr =[],label=f'$a = ({round(a4kv,2)}\\pm{round(u_a4kv,2)})$ cm $\\cdot$ A')\n",
      "C:\\Users\\benjf\\AppData\\Local\\Temp\\ipykernel_15100\\3292060058.py:3: SyntaxWarning: invalid escape sequence '\\c'\n",
      "  plt.errorbar([],[],fmt='w.', yerr =[],label=f'$a = ({round(a4kv,2)}\\pm{round(u_a4kv,2)})$ cm $\\cdot$ A')\n",
      "C:\\Users\\benjf\\AppData\\Local\\Temp\\ipykernel_15100\\3292060058.py:4: SyntaxWarning: invalid escape sequence '\\p'\n",
      "  plt.errorbar([],[],fmt='w.',yerr =[],label=f'$b = ({round(b4kv,1)}\\pm{round(u_b4kv,1)})$ cm')\n",
      "C:\\Users\\benjf\\AppData\\Local\\Temp\\ipykernel_15100\\3292060058.py:5: SyntaxWarning: invalid escape sequence '\\c'\n",
      "  plt.errorbar([],[],fmt='w.',yerr =[],label=f'$\\chi_{nu}^{2}={round(r2[1],1)}$')\n"
     ]
    },
    {
     "data": {
      "image/png": "[encoded data removed]",
      "text/plain": [
       "<Figure size 640x480 with 1 Axes>"
      ]
     },
     "metadata": {},
     "output_type": "display_data"
    }
   ],
   "source": [
    "plt.errorbar(x4kv[ 1:], y4kv[ 1:], xerr = u_x4kv[ 1:], yerr = u_y4kv[1 :],fmt='k.', label=r'Messdaten')\n",
    "plt.plot(xx[1:], yy2[1:], 'b' ,label=r'Fit: $r(I) = \\frac{a}{I}+b$')\n",
    "plt.errorbar([],[],fmt='w.', yerr =[],label=f'$a = ({round(a4kv,2)}\\pm{round(u_a4kv,2)})$ cm $\\cdot$ A')\n",
    "plt.errorbar([],[],fmt='w.',yerr =[],label=f'$b = ({round(b4kv,1)}\\pm{round(u_b4kv,1)})$ cm')\n",
    "plt.errorbar([],[],fmt='w.',yerr =[],label=f'$\\chi_{nu}^{2}={round(r2[1],1)}$')\n",
    "plt.errorbar([],[],fmt='w.',yerr =[],label=f'$U_A = 4$kV')\n",
    "plt.xlabel(r'I [A]')\n",
    "plt.ylabel('r [cm]')\n",
    "plt.legend()\n",
    "plt.show()\n",
    "# plt.savefig('r(I)-U4kV.pdf',dpi=600)"
   ]
  },
  {
   "cell_type": "code",
   "execution_count": 61,
   "id": "03a3c41b-bf33-40fc-bb5b-f6a342c6ef2d",
   "metadata": {},
   "outputs": [
    {
     "name": "stderr",
     "output_type": "stream",
     "text": [
      "<>:3: SyntaxWarning: invalid escape sequence '\\p'\n",
      "<>:3: SyntaxWarning: invalid escape sequence '\\c'\n",
      "<>:4: SyntaxWarning: invalid escape sequence '\\p'\n",
      "<>:5: SyntaxWarning: invalid escape sequence '\\c'\n",
      "<>:3: SyntaxWarning: invalid escape sequence '\\p'\n",
      "<>:3: SyntaxWarning: invalid escape sequence '\\c'\n",
      "<>:4: SyntaxWarning: invalid escape sequence '\\p'\n",
      "<>:5: SyntaxWarning: invalid escape sequence '\\c'\n",
      "C:\\Users\\benjf\\AppData\\Local\\Temp\\ipykernel_15100\\927151759.py:3: SyntaxWarning: invalid escape sequence '\\p'\n",
      "  plt.errorbar([],[],fmt='w.', yerr =[],label=f'$a= ({round(a5kv,2)}\\pm{round(u_a5kv,2)})$ cm $\\cdot$ A')\n",
      "C:\\Users\\benjf\\AppData\\Local\\Temp\\ipykernel_15100\\927151759.py:3: SyntaxWarning: invalid escape sequence '\\c'\n",
      "  plt.errorbar([],[],fmt='w.', yerr =[],label=f'$a= ({round(a5kv,2)}\\pm{round(u_a5kv,2)})$ cm $\\cdot$ A')\n",
      "C:\\Users\\benjf\\AppData\\Local\\Temp\\ipykernel_15100\\927151759.py:4: SyntaxWarning: invalid escape sequence '\\p'\n",
      "  plt.errorbar([],[],fmt='w.',yerr =[],label=f'$b= ({round(b5kv,1)}\\pm{round(u_b5kv,1)})$ cm')\n",
      "C:\\Users\\benjf\\AppData\\Local\\Temp\\ipykernel_15100\\927151759.py:5: SyntaxWarning: invalid escape sequence '\\c'\n",
      "  plt.errorbar([],[],fmt='w.',yerr =[],label=f'$\\chi_{nu}^{2}={round(r3[1],1)}$')\n"
     ]
    },
    {
     "data": {
      "image/png": "[encoded data removed]",
      "text/plain": [
       "<Figure size 640x480 with 1 Axes>"
      ]
     },
     "metadata": {},
     "output_type": "display_data"
    }
   ],
   "source": [
    "plt.errorbar(x5kv[ 1:], y5kv[ 1:], xerr = u_x5kv[ 1:], yerr = u_y5kv[ 1:],fmt='k.', label=r'Messdaten')\n",
    "plt.plot(xx[1:], yy3[1:],'b' , label=r'Fit: $r(I) = \\frac{a}{I}+b$')\n",
    "plt.errorbar([],[],fmt='w.', yerr =[],label=f'$a= ({round(a5kv,2)}\\pm{round(u_a5kv,2)})$ cm $\\cdot$ A')\n",
    "plt.errorbar([],[],fmt='w.',yerr =[],label=f'$b= ({round(b5kv,1)}\\pm{round(u_b5kv,1)})$ cm')\n",
    "plt.errorbar([],[],fmt='w.',yerr =[],label=f'$\\chi_{nu}^{2}={round(r3[1],1)}$')\n",
    "plt.errorbar([],[],fmt='w.',yerr =[],label=f'$U_A = 5$kV')\n",
    "plt.xlabel(r'I [A]')\n",
    "plt.ylabel('r [cm]')\n",
    "plt.legend()\n",
    "plt.show()\n",
    "# plt.savefig('r(I)-U5kV.pdf',dpi=600)"
   ]
  },
  {
   "cell_type": "markdown",
   "id": "58f12136-d2a4-4024-8154-5b2a3c1d8450",
   "metadata": {},
   "source": [
    "## e/m \n",
    "mit den Ergebnissen aus dem zweiten Versuch"
   ]
  },
  {
   "cell_type": "markdown",
   "id": "2f3034e3-4adf-40b7-ada8-d0f851d3d345",
   "metadata": {},
   "source": [
    "### Fehlerrechnung und Berechnung\n",
    "$$ \\frac{e}{m}= 2 U_A \\cdot \\frac{1}{a^2 \\cdot k^2} \\\\\\partial_{U_A} e/m = \\frac{2}{a^2 k^2}\\\\\n",
    "\\partial_k e/m = - \\frac{4 U_A}{a^2 k^3}\\\\\n",
    "\\partial_a e/m = - \\frac{4 U_A}{a^3 k^2}$$"
   ]
  },
  {
   "cell_type": "markdown",
   "id": "4745cd0b-2f77-430a-b1bb-3ea89e92599c",
   "metadata": {},
   "source": [
    "$$ u_{e/m}= \\frac{2}{a^2 k^2} \\sqrt{u_{U_A}^2 +  4 U_A^2 \\frac{u_k^2}{k^2}+  4 U_A^2 \\frac{u_a^2}{a^2}}$$"
   ]
  },
  {
   "cell_type": "code",
   "execution_count": 62,
   "id": "6bee8d00-3309-4f9c-87bc-4f8edbf5d34a",
   "metadata": {},
   "outputs": [],
   "source": [
    "u_UA_3kv = 3e3 * 0.025\n",
    "u_UA_4kv = 4e3 * 0.025\n",
    "u_UA_5kv = 5e3 * 0.025\n",
    "\n",
    "aa1 = a3kv/100\n",
    "u_aa1 = u_a3kv/100\n",
    "aa2 = a4kv/100\n",
    "u_aa2 = u_a4kv/100\n",
    "aa3 = a5kv/100\n",
    "u_aa3 = u_a5kv/100"
   ]
  },
  {
   "cell_type": "code",
   "execution_count": 63,
   "id": "6c43ce55-ac88-451f-ae14-42b33d5da4c9",
   "metadata": {},
   "outputs": [
    {
     "name": "stdout",
     "output_type": "stream",
     "text": [
      "[4.68061805e+10 4.68061805e+10 4.68061805e+10 4.68061805e+10\n",
      " 4.68061805e+10 4.68061805e+10 4.68061805e+10 4.68061805e+10\n",
      " 4.68061805e+10 4.68061805e+10 6.24082407e+10 6.24082407e+10\n",
      " 6.24082407e+10 6.24082407e+10 6.24082407e+10 6.24082407e+10\n",
      " 6.24082407e+10 6.24082407e+10 6.24082407e+10 6.24082407e+10\n",
      " 7.80103009e+10 7.80103009e+10 7.80103009e+10 7.80103009e+10\n",
      " 7.80103009e+10 7.80103009e+10 7.80103009e+10 7.80103009e+10\n",
      " 7.80103009e+10 7.80103009e+10]\n",
      "[8.28632160e+10 8.28632160e+10 8.28632160e+10 8.28632160e+10\n",
      " 8.28632160e+10 8.28632160e+10 8.28632160e+10 8.28632160e+10\n",
      " 8.28632160e+10 8.28632160e+10 1.10484288e+11 1.10484288e+11\n",
      " 1.10484288e+11 1.10484288e+11 1.10484288e+11 1.10484288e+11\n",
      " 1.10484288e+11 1.10484288e+11 1.10484288e+11 1.10484288e+11\n",
      " 1.38105360e+11 1.38105360e+11 1.38105360e+11 1.38105360e+11\n",
      " 1.38105360e+11 1.38105360e+11 1.38105360e+11 1.38105360e+11\n",
      " 1.38105360e+11 1.38105360e+11]\n",
      "[6.52019665e+10 6.52019665e+10 6.52019665e+10 6.52019665e+10\n",
      " 6.52019665e+10 6.52019665e+10 6.52019665e+10 6.52019665e+10\n",
      " 6.52019665e+10 6.52019665e+10 8.69359553e+10 8.69359553e+10\n",
      " 8.69359553e+10 8.69359553e+10 8.69359553e+10 8.69359553e+10\n",
      " 8.69359553e+10 8.69359553e+10 8.69359553e+10 8.69359553e+10\n",
      " 1.08669944e+11 1.08669944e+11 1.08669944e+11 1.08669944e+11\n",
      " 1.08669944e+11 1.08669944e+11 1.08669944e+11 1.08669944e+11\n",
      " 1.08669944e+11 1.08669944e+11]\n"
     ]
    }
   ],
   "source": [
    "em_r_U3,u_em_3kv = u_e_m_r(3e3, k_n ,aa1 , u_UA_3kv, u_k_n , u_aa1)\n",
    "print(u_em_3kv/em_r_U3)\n",
    "em_r_U4,u_em_4kv = u_e_m_r(4e3,k_n ,aa2 , u_UA_4kv, u_k_n , u_aa2)\n",
    "print(u_em_4kv/em_r_U4)\n",
    "em_r_U5,u_em_5kv = u_e_m_r(5e3, k_n ,aa3 , u_UA_5kv, u_k_n , u_aa2)\n",
    "print(u_em_5kv/em_r_U5)"
   ]
  },
  {
   "cell_type": "code",
   "execution_count": 64,
   "id": "d95cd1d1-bcf8-405e-b46b-275a4f5165c1",
   "metadata": {},
   "outputs": [
    {
     "name": "stdout",
     "output_type": "stream",
     "text": [
      "[9.99450168e-13 9.99450168e-13 9.99450168e-13 9.99450168e-13\n",
      " 9.99450168e-13 9.99450168e-13 9.99450168e-13 9.99450168e-13\n",
      " 9.99450168e-13 9.99450168e-13 7.49587626e-13 7.49587626e-13\n",
      " 7.49587626e-13 7.49587626e-13 7.49587626e-13 7.49587626e-13\n",
      " 7.49587626e-13 7.49587626e-13 7.49587626e-13 7.49587626e-13\n",
      " 5.99670101e-13 5.99670101e-13 5.99670101e-13 5.99670101e-13\n",
      " 5.99670101e-13 5.99670101e-13 5.99670101e-13 5.99670101e-13\n",
      " 5.99670101e-13 5.99670101e-13]\n",
      "[1.05655782e-12 1.05655782e-12 1.05655782e-12 1.05655782e-12\n",
      " 1.05655782e-12 1.05655782e-12 1.05655782e-12 1.05655782e-12\n",
      " 1.05655782e-12 1.05655782e-12 7.92418363e-13 7.92418363e-13\n",
      " 7.92418363e-13 7.92418363e-13 7.92418363e-13 7.92418363e-13\n",
      " 7.92418363e-13 7.92418363e-13 7.92418363e-13 7.92418363e-13\n",
      " 6.33934690e-13 6.33934690e-13 6.33934690e-13 6.33934690e-13\n",
      " 6.33934690e-13 6.33934690e-13 6.33934690e-13 6.33934690e-13\n",
      " 6.33934690e-13 6.33934690e-13]\n",
      "[1.28096953e-12 1.28096953e-12 1.28096953e-12 1.28096953e-12\n",
      " 1.28096953e-12 1.28096953e-12 1.28096953e-12 1.28096953e-12\n",
      " 1.28096953e-12 1.28096953e-12 9.60727149e-13 9.60727149e-13\n",
      " 9.60727149e-13 9.60727149e-13 9.60727149e-13 9.60727149e-13\n",
      " 9.60727149e-13 9.60727149e-13 9.60727149e-13 9.60727149e-13\n",
      " 7.68581719e-13 7.68581719e-13 7.68581719e-13 7.68581719e-13\n",
      " 7.68581719e-13 7.68581719e-13 7.68581719e-13 7.68581719e-13\n",
      " 7.68581719e-13 7.68581719e-13]\n"
     ]
    }
   ],
   "source": [
    "true_em = 1.76e11\n",
    "print(em_r_U3/true_em)\n",
    "print(em_r_U4/true_em)\n",
    "print(em_r_U5/true_em)"
   ]
  },
  {
   "cell_type": "markdown",
   "id": "358df7b6-e8a5-4c96-8037-71c2de1d918c",
   "metadata": {},
   "source": [
    "### relativer Fehler"
   ]
  },
  {
   "cell_type": "code",
   "execution_count": 65,
   "id": "a6ba94b3-8481-4164-a9f7-191d548152cd",
   "metadata": {},
   "outputs": [
    {
     "name": "stdout",
     "output_type": "stream",
     "text": [
      "relativer Fehler:\n",
      "für 3kv: 4.79%\n",
      "für 4kv: 7.1%\n",
      "für 5kv: 6.57%\n"
     ]
    }
   ],
   "source": [
    "em_3kv = 2* 3e3/(k_n*a3kv/100)**2\n",
    "em_4kv = 2* 4e3 /(k_n*a4kv/100)**2\n",
    "em_5kv = 2* 5e3 /(k_n*a5kv/100)**2\n",
    "\n",
    "print('relativer Fehler:')\n",
    "print(f'für 3kv: {round(u_em_3kv/em_3kv*100,2)}%')\n",
    "print(f'für 4kv: {round(u_em_4kv/em_4kv*100,2)}%')\n",
    "print(f'für 5kv: {round(u_em_5kv/em_5kv*100,2)}%')"
   ]
  },
  {
   "cell_type": "code",
   "execution_count": 66,
   "id": "da42d106-9cf3-42ad-aece-867189b71d03",
   "metadata": {},
   "outputs": [
    {
     "name": "stdout",
     "output_type": "stream",
     "text": [
      "171978581822.83752\n",
      "216910700996.03348\n",
      "223637927097.6636\n"
     ]
    }
   ],
   "source": [
    "print( em_3kv)\n",
    "\n",
    "print( em_4kv)\n",
    "print( em_5kv)"
   ]
  },
  {
   "cell_type": "markdown",
   "id": "5ea4d27a-281b-445b-888e-1bfbddfde1e7",
   "metadata": {},
   "source": [
    "### Plot"
   ]
  },
  {
   "cell_type": "code",
   "execution_count": 67,
   "id": "e199c8c2-8077-4757-b72d-53c7f3f4fc70",
   "metadata": {},
   "outputs": [
    {
     "data": {
      "image/png": "[encoded data removed]",
      "text/plain": [
       "<Figure size 640x480 with 1 Axes>"
      ]
     },
     "metadata": {},
     "output_type": "display_data"
    }
   ],
   "source": [
    "x_em = np.array([3, 4 ,5])\n",
    "y_em = np.array([em_3kv,em_4kv,em_5kv])\n",
    "\n",
    "xx_em = np.arange(2.8,5.21,0.2)\n",
    "yy_em_unb15 = np.ones(13) * 1.758820088e11\n",
    "yy_em_unb15_unt = np.ones(13) * 1.758820088e11-0.000000088e11\n",
    "yy_em_unb15_ob = np.ones(13) * 1.758820088e11+0.000000088e11\n",
    "\n",
    "yy_em_MNT16 = np.ones(13) * 1.758820024e11\n",
    "yy_em_MNT16_unt = np.ones(13) * 1.758820024e11-0.000000011e11\n",
    "yy_em_MNT16_ob = np.ones(13) * 1.758820024e11+0.000000011e11\n",
    "\n",
    "\n",
    "plt.errorbar(x_em, y_em, fmt='k.',yerr = [u_em_3kv,u_em_4kv,u_em_5kv],label=r'$e/m = \\frac{2}{a_{r(I)}^2\\cdot k^2}\\cdot U_A $')\n",
    "\n",
    "\n",
    "plt.plot(xx_em, yy_em_MNT16, 'r-', label='Vergleichswert aus MNT26')\n",
    "\n",
    "plt.xticks([3,4,5])\n",
    "plt.yticks(np.arange(1.6e11,3.1e11,0.35e11))\n",
    "plt.legend(loc=2)\n",
    "plt.xlabel(r'$U_A$ [kV]')\n",
    "plt.ylabel(r'$e/m$ [C/kg]')\n",
    "plt.show()\n",
    "# plt.savefig('em_r.pdf',dpi=600)"
   ]
  },
  {
   "cell_type": "markdown",
   "id": "58d66ba7-44ec-4da0-8085-943914e99789",
   "metadata": {},
   "source": [
    "# Aufgabe 7\n",
    "Für drei fest eingestellte Anodenspannungen $U_A$ von 3 kV, 4 kV und 5 kV ist jeweils die Kompensationsmethode\n",
    "einzusetzen und dafür die Abhängigkeit (9) in der abgewandelten Form\n",
    " $U_k(I) ~ I$ für mehrere Messwertpaare aufzunehmen, jeweils im Diagramm darzustellen und über\n",
    "eine geeignete Modellfunktion die spezifische Elektronenladung mit ihrer Unsicherheit zu bestimmen.\n",
    "(Beobachten Sie beim Experimentieren die Bahn des Elektronenstrahls auf dem\n",
    "Leuchtschirm und dokumentieren Sie ggf. überraschende Feststellungen! Zur Bestimmung des\n",
    "Plattenabstands , und seiner Unsicherheit $d$ ist es ohnehin sinnvoll, ein eigenes Foto aufzunehmen.)\n",
    "Die so gewonnenen Ergebnisse sind auf ihre innere Konsistenz zu prüfen und erneut\n",
    "mit dem Referenzwert der spezifischen Ladung zu vergleichen."
   ]
  },
  {
   "cell_type": "markdown",
   "id": "3bf1f745-d43b-4d9c-8ace-97cb88930a22",
   "metadata": {
    "jp-MarkdownHeadingCollapsed": true,
    "tags": []
   },
   "source": [
    "## Meine Vorgehensweise"
   ]
  },
  {
   "cell_type": "code",
   "execution_count": 68,
   "id": "db483b74-89ae-4408-9820-1f5f0dfc23b9",
   "metadata": {},
   "outputs": [
    {
     "data": {
      "text/html": [
       "<div>\n",
       "<style scoped>\n",
       "    .dataframe tbody tr th:only-of-type {\n",
       "        vertical-align: middle;\n",
       "    }\n",
       "\n",
       "    .dataframe tbody tr th {\n",
       "        vertical-align: top;\n",
       "    }\n",
       "\n",
       "    .dataframe thead th {\n",
       "        text-align: right;\n",
       "    }\n",
       "</style>\n",
       "<table border=\"1\" class=\"dataframe\">\n",
       "  <thead>\n",
       "    <tr style=\"text-align: right;\">\n",
       "      <th></th>\n",
       "      <th>I</th>\n",
       "      <th>U_k</th>\n",
       "    </tr>\n",
       "  </thead>\n",
       "  <tbody>\n",
       "    <tr>\n",
       "      <th>0</th>\n",
       "      <td>0.097</td>\n",
       "      <td>60.89</td>\n",
       "    </tr>\n",
       "    <tr>\n",
       "      <th>1</th>\n",
       "      <td>0.147</td>\n",
       "      <td>83.88</td>\n",
       "    </tr>\n",
       "    <tr>\n",
       "      <th>2</th>\n",
       "      <td>0.293</td>\n",
       "      <td>133.08</td>\n",
       "    </tr>\n",
       "    <tr>\n",
       "      <th>3</th>\n",
       "      <td>0.450</td>\n",
       "      <td>232.80</td>\n",
       "    </tr>\n",
       "    <tr>\n",
       "      <th>4</th>\n",
       "      <td>0.490</td>\n",
       "      <td>242.33</td>\n",
       "    </tr>\n",
       "  </tbody>\n",
       "</table>\n",
       "</div>"
      ],
      "text/plain": [
       "       I     U_k\n",
       "0  0.097   60.89\n",
       "1  0.147   83.88\n",
       "2  0.293  133.08\n",
       "3  0.450  232.80\n",
       "4  0.490  242.33"
      ]
     },
     "execution_count": 68,
     "metadata": {},
     "output_type": "execute_result"
    }
   ],
   "source": [
    "A7.head()"
   ]
  },
  {
   "cell_type": "markdown",
   "id": "93aac247-f7b9-466e-80ad-3d4768334be6",
   "metadata": {},
   "source": [
    "### Fehlerrechnung"
   ]
  },
  {
   "cell_type": "code",
   "execution_count": 69,
   "id": "69d08c5c-d07d-43a2-9361-200d4aafcaa5",
   "metadata": {},
   "outputs": [],
   "source": [
    "# Spannung\n",
    "u_err = np.array(A7['U_k'])*0.005  # siehe Conrad/ VC 650\n",
    "U_k = np.array(A7['U_k'])\n",
    "U_kerr = unp.uarray(U_k, u_err)\n",
    "\n",
    "# Strom 0.9%\n",
    "i_err = np.array(A7['I'])*0.009\n",
    "I7 = np.array(A7['I'])\n",
    "I7_err = unp.uarray(I7,i_err)"
   ]
  },
  {
   "cell_type": "code",
   "execution_count": 70,
   "id": "80b3d8b7-98f3-4dc0-a7f9-2b84860daf9c",
   "metadata": {},
   "outputs": [
    {
     "name": "stdout",
     "output_type": "stream",
     "text": [
      "[0.30445 0.4194  0.6654  1.164   1.21165 1.32165 1.58665 1.65205 1.82125\n",
      " 2.21   ]\n",
      "[0.3875  0.5975  0.9095  1.09355 1.26475 1.46625 1.931   2.0875  2.502\n",
      " 2.5245 ]\n",
      "[0.47475 0.69425 1.103   1.28575 1.4296  1.6672  2.1435  2.3055  2.548\n",
      " 2.4305 ]\n"
     ]
    }
   ],
   "source": [
    "uu_y3kv=u_err[:10]\n",
    "print(uu_y3kv)\n",
    "uu_y4kv = u_err[10:20]\n",
    "print(uu_y4kv)\n",
    "uu_y5kv = u_err[20:30]\n",
    "print(uu_y5kv)"
   ]
  },
  {
   "cell_type": "markdown",
   "id": "6473d462-45a9-40ab-8b3b-e7e46935496e",
   "metadata": {},
   "source": [
    "### Visualisierung"
   ]
  },
  {
   "cell_type": "code",
   "execution_count": 71,
   "id": "4652663c-d1da-4108-a430-09d4f2ff1bac",
   "metadata": {},
   "outputs": [
    {
     "data": {
      "image/png": "[encoded data removed]",
      "text/plain": [
       "<Figure size 640x480 with 1 Axes>"
      ]
     },
     "metadata": {},
     "output_type": "display_data"
    }
   ],
   "source": [
    "plt.errorbar(U_k[:10], I7[:10],fmt='k.', yerr=u_err[:10])\n",
    "plt.xlabel('I [A]')\n",
    "plt.ylabel('U [V]')\n",
    "plt.show()"
   ]
  },
  {
   "cell_type": "markdown",
   "id": "6bbd0b2d-2cd4-4ff2-b299-0a69455359a7",
   "metadata": {
    "tags": []
   },
   "source": [
    "## Kacpers Vorgehensweise"
   ]
  },
  {
   "cell_type": "code",
   "execution_count": 72,
   "id": "1d831b99-569e-40fa-9881-c3422a59918a",
   "metadata": {},
   "outputs": [
    {
     "name": "stdout",
     "output_type": "stream",
     "text": [
      "       x       y     u_x   u_y\n",
      "0  0.097   60.89  0.0001  0.03\n",
      "1  0.147   83.88  0.0001  0.04\n",
      "2  0.293  153.08  0.0001  0.08\n",
      "3  0.450  232.80  0.0010  0.12\n",
      "4  0.490  242.80  0.0010  0.12\n",
      "       x       y     u_x   u_y\n",
      "0  0.088   77.50  0.0001  0.04\n",
      "1  0.147  115.04  0.0001  0.06\n",
      "2  0.262  181.90  0.0001  0.09\n",
      "3  0.335  218.71  0.0001  0.11\n",
      "4  0.404  252.95  0.0010  0.13\n",
      "       x       y     u_x   u_y\n",
      "0  0.071   94.95  0.0001  0.05\n",
      "1  0.161  158.85  0.0001  0.08\n",
      "2  0.261  220.60  0.0001  0.11\n",
      "3  0.313  257.15  0.0001  0.13\n",
      "4  0.410  285.92  0.0010  0.14\n"
     ]
    }
   ],
   "source": [
    "U3kv = pd.read_csv('U_3kV.txt', sep='\\t')\n",
    "print(U3kv.head())\n",
    "U4kv = pd.read_csv('U_4kV.txt', sep='\\t')\n",
    "print(U4kv.head())\n",
    "U5kv = pd.read_csv('U_5kV.txt', sep='\\t')\n",
    "print(U5kv.head())"
   ]
  },
  {
   "cell_type": "code",
   "execution_count": 73,
   "id": "3b405bb7-b755-4ce0-a34c-d5d4759286df",
   "metadata": {},
   "outputs": [],
   "source": [
    "x3kv1 = U3kv['x']\n",
    "y3kv1 = U3kv['y']\n",
    "u_x3kv1  = U3kv['u_x']\n",
    "u_y3kv1 = U3kv['u_y']\n",
    "\n",
    "x4kv1 = U4kv['x']\n",
    "y4kv1 = U4kv['y']\n",
    "u_x4kv1  = U4kv['u_x']\n",
    "u_y4kv1 = U4kv['u_y']\n",
    "\n",
    "x5kv1 = U5kv['x']\n",
    "y5kv1 = U5kv['y']\n",
    "u_x5kv1  = U5kv['u_x']\n",
    "u_y5kv1 = U5kv['u_y']"
   ]
  },
  {
   "cell_type": "markdown",
   "id": "74cdeefb-50f2-4dc7-93b2-41f596bf9c35",
   "metadata": {},
   "source": [
    "### Visualisierung"
   ]
  },
  {
   "cell_type": "code",
   "execution_count": 74,
   "id": "17cc0efb-dac2-4194-9658-5d1542749125",
   "metadata": {},
   "outputs": [
    {
     "data": {
      "image/png": "[encoded data removed]",
      "text/plain": [
       "<Figure size 640x480 with 1 Axes>"
      ]
     },
     "metadata": {},
     "output_type": "display_data"
    }
   ],
   "source": [
    "plt.errorbar(x3kv1[ :], y3kv1[ :], xerr = u_x3kv1[ :], yerr = u_y3kv1[ :],fmt='k.', label=r'Messdaten, $U_A = 3$kV')\n",
    "plt.errorbar(x4kv1[ :], y4kv1[ :], xerr = u_x4kv1[ :], yerr = u_y4kv1[ :],fmt='b.', label=r'Messdaten, $U_A = 4$kV')\n",
    "plt.errorbar(x5kv1[ :], y5kv1[ :], xerr = u_x5kv1[ :], yerr = u_y5kv1[ :],fmt='r.', label=r'Messdaten, $U_A = 5$kV')\n",
    "plt.xlabel(r'I [A]')\n",
    "plt.ylabel('U [V]')\n",
    "plt.legend()\n",
    "plt.show()"
   ]
  },
  {
   "cell_type": "code",
   "execution_count": 75,
   "id": "5016d828-ad20-47fb-9c74-09b1a9d9ea9a",
   "metadata": {},
   "outputs": [],
   "source": [
    "# plt.errorbar(x3kv1, y3kv1, xerr = u_x3kv1, yerr = u_y3kv,fmt='k.', label=r'Messdaten, $U_A = 3$kV')\n",
    "# plt.errorbar(x4kv1, y4kv1, xerr = u_x4kv1, yerr = uu_y4kv,fmt='b.', label=r'Messdaten, $U_A = 4$kV')\n",
    "# plt.errorbar(x5kv1, y5kv1, xerr = u_x5kv1, yerr = uu_y5kv,fmt='r.', label=r'Messdaten, $U_A = 5$kV')\n",
    "# plt.xlabel(r'I [A]')\n",
    "# plt.ylabel('U [A]')\n",
    "# plt.legend()\n",
    "# plt.show()"
   ]
  },
  {
   "cell_type": "markdown",
   "id": "2b8d9850-5c48-4b97-8917-33d25c842f44",
   "metadata": {},
   "source": [
    "### Regression"
   ]
  },
  {
   "cell_type": "code",
   "execution_count": 76,
   "id": "ac37eb31-e263-4582-b9cc-0d76e07dbb5b",
   "metadata": {},
   "outputs": [],
   "source": [
    "pop, cov = curve_fit(reg, x3kv1, y3kv1, sigma=u_y3kv1)\n",
    "a3kv1, b3kv1 = pop\n",
    "da3kv1, db3kv1 = np.sqrt(np.diag(cov))\n",
    "\n",
    "pop, cov = curve_fit(reg, x4kv1, y4kv1, sigma=u_y4kv1)\n",
    "a4kv1, b4kv1 = pop\n",
    "da4kv1, db4kv1 = np.sqrt(np.diag(cov))\n",
    "\n",
    "pop, cov = curve_fit(reg, x5kv1, y5kv1, sigma=u_y5kv1)\n",
    "a5kv1, b5kv1 = pop\n",
    "da5kv1, db5kv1 = np.sqrt(np.diag(cov))"
   ]
  },
  {
   "cell_type": "markdown",
   "id": "fc46a984-4fa4-4d4d-a251-d2c5365f5111",
   "metadata": {},
   "source": [
    "#### Regression mit Statsmodels"
   ]
  },
  {
   "cell_type": "code",
   "execution_count": 77,
   "id": "efd5044d-7b43-4a13-a5a5-6851848577e1",
   "metadata": {},
   "outputs": [
    {
     "name": "stdout",
     "output_type": "stream",
     "text": [
      "\n",
      "Lineare Regression\n",
      "\n",
      "                            WLS Regression Results                            \n",
      "==============================================================================\n",
      "Dep. Variable:                      y   R-squared:                       0.997\n",
      "Model:                            WLS   Adj. R-squared:                  0.996\n",
      "Method:                 Least Squares   F-statistic:                     2391.\n",
      "Date:                Sat, 01 Mar 2025   Prob (F-statistic):           3.38e-11\n",
      "Time:                        16:56:58   Log-Likelihood:                -33.196\n",
      "No. Observations:                  10   AIC:                             70.39\n",
      "Df Residuals:                       8   BIC:                             71.00\n",
      "Df Model:                           1                                         \n",
      "Covariance Type:            nonrobust                                         \n",
      "==============================================================================\n",
      "                 coef    std err          t      P>|t|      [0.025      0.975]\n",
      "------------------------------------------------------------------------------\n",
      "const         25.9088      5.143      5.038      0.001      14.050      37.768\n",
      "x            433.5317      8.865     48.902      0.000     413.088     453.975\n",
      "==============================================================================\n",
      "Omnibus:                        1.547   Durbin-Watson:                   1.224\n",
      "Prob(Omnibus):                  0.461   Jarque-Bera (JB):                0.883\n",
      "Skew:                           0.369   Prob(JB):                        0.643\n",
      "Kurtosis:                       1.746   Cond. No.                         4.80\n",
      "==============================================================================\n",
      "\n",
      "Notes:\n",
      "[1] Standard Errors assume that the covariance matrix of the errors is correctly specified.\n"
     ]
    },
    {
     "name": "stderr",
     "output_type": "stream",
     "text": [
      "c:\\Users\\benjf\\anaconda3\\envs\\projects\\Lib\\site-packages\\statsmodels\\base\\model.py:130: ValueWarning: unknown kwargs ['sigma']\n",
      "  warnings.warn(msg, ValueWarning)\n",
      "c:\\Users\\benjf\\anaconda3\\envs\\projects\\Lib\\site-packages\\scipy\\stats\\_axis_nan_policy.py:430: UserWarning: `kurtosistest` p-value may be inaccurate with fewer than 20 observations; only n=10 observations were given.\n",
      "  return hypotest_fun_in(*args, **kwds)\n"
     ]
    }
   ],
   "source": [
    "y=y3kv1\n",
    "x_zunahme=sm.add_constant(x3kv1)\n",
    "results=sm.WLS(y,x_zunahme,sigma=u_y3kv1).fit()#,sigma=yerr\n",
    "print('''\n",
    "Lineare Regression\n",
    "''')\n",
    "print(results.summary())"
   ]
  },
  {
   "cell_type": "code",
   "execution_count": 78,
   "id": "6ccd415d-3f2b-437d-bd2d-90ad0a1cddc4",
   "metadata": {},
   "outputs": [
    {
     "name": "stdout",
     "output_type": "stream",
     "text": [
      "\n",
      "Lineare Regression\n",
      "\n",
      "                            WLS Regression Results                            \n",
      "==============================================================================\n",
      "Dep. Variable:                      y   R-squared:                       0.980\n",
      "Model:                            WLS   Adj. R-squared:                  0.977\n",
      "Method:                 Least Squares   F-statistic:                     386.6\n",
      "Date:                Sat, 01 Mar 2025   Prob (F-statistic):           4.66e-08\n",
      "Time:                        16:56:58   Log-Likelihood:                -44.451\n",
      "No. Observations:                  10   AIC:                             92.90\n",
      "Df Residuals:                       8   BIC:                             93.51\n",
      "Df Model:                           1                                         \n",
      "Covariance Type:            nonrobust                                         \n",
      "==============================================================================\n",
      "                 coef    std err          t      P>|t|      [0.025      0.975]\n",
      "------------------------------------------------------------------------------\n",
      "const         52.7742     14.309      3.688      0.006      19.778      85.771\n",
      "x            495.5799     25.206     19.661      0.000     437.455     553.705\n",
      "==============================================================================\n",
      "Omnibus:                        9.415   Durbin-Watson:                   1.375\n",
      "Prob(Omnibus):                  0.009   Jarque-Bera (JB):                3.834\n",
      "Skew:                           1.239   Prob(JB):                        0.147\n",
      "Kurtosis:                       4.749   Cond. No.                         4.34\n",
      "==============================================================================\n",
      "\n",
      "Notes:\n",
      "[1] Standard Errors assume that the covariance matrix of the errors is correctly specified.\n"
     ]
    },
    {
     "name": "stderr",
     "output_type": "stream",
     "text": [
      "c:\\Users\\benjf\\anaconda3\\envs\\projects\\Lib\\site-packages\\statsmodels\\base\\model.py:130: ValueWarning: unknown kwargs ['sigma']\n",
      "  warnings.warn(msg, ValueWarning)\n",
      "c:\\Users\\benjf\\anaconda3\\envs\\projects\\Lib\\site-packages\\scipy\\stats\\_axis_nan_policy.py:430: UserWarning: `kurtosistest` p-value may be inaccurate with fewer than 20 observations; only n=10 observations were given.\n",
      "  return hypotest_fun_in(*args, **kwds)\n"
     ]
    }
   ],
   "source": [
    "y=y4kv1\n",
    "x_zunahme=sm.add_constant(x4kv1)\n",
    "results=sm.WLS(y,x_zunahme,sigma=u_y4kv1).fit()#,sigma=yerr\n",
    "print('''\n",
    "Lineare Regression\n",
    "''')\n",
    "print(results.summary())"
   ]
  },
  {
   "cell_type": "code",
   "execution_count": 79,
   "id": "dd824418-fc06-4e94-9ffc-5595b373dd13",
   "metadata": {},
   "outputs": [
    {
     "name": "stdout",
     "output_type": "stream",
     "text": [
      "\n",
      "Lineare Regression\n",
      "\n",
      "                            WLS Regression Results                            \n",
      "==============================================================================\n",
      "Dep. Variable:                      y   R-squared:                       0.996\n",
      "Model:                            WLS   Adj. R-squared:                  0.996\n",
      "Method:                 Least Squares   F-statistic:                     2007.\n",
      "Date:                Sat, 01 Mar 2025   Prob (F-statistic):           6.80e-11\n",
      "Time:                        16:56:58   Log-Likelihood:                -35.746\n",
      "No. Observations:                  10   AIC:                             75.49\n",
      "Df Residuals:                       8   BIC:                             76.10\n",
      "Df Model:                           1                                         \n",
      "Covariance Type:            nonrobust                                         \n",
      "==============================================================================\n",
      "                 coef    std err          t      P>|t|      [0.025      0.975]\n",
      "------------------------------------------------------------------------------\n",
      "const         67.6136      6.522     10.367      0.000      52.574      82.653\n",
      "x            562.2196     12.548     44.805      0.000     533.283     591.156\n",
      "==============================================================================\n",
      "Omnibus:                        1.215   Durbin-Watson:                   1.975\n",
      "Prob(Omnibus):                  0.545   Jarque-Bera (JB):                0.696\n",
      "Skew:                          -0.139   Prob(JB):                        0.706\n",
      "Kurtosis:                       1.738   Cond. No.                         5.02\n",
      "==============================================================================\n",
      "\n",
      "Notes:\n",
      "[1] Standard Errors assume that the covariance matrix of the errors is correctly specified.\n"
     ]
    },
    {
     "name": "stderr",
     "output_type": "stream",
     "text": [
      "c:\\Users\\benjf\\anaconda3\\envs\\projects\\Lib\\site-packages\\statsmodels\\base\\model.py:130: ValueWarning: unknown kwargs ['sigma']\n",
      "  warnings.warn(msg, ValueWarning)\n",
      "c:\\Users\\benjf\\anaconda3\\envs\\projects\\Lib\\site-packages\\scipy\\stats\\_axis_nan_policy.py:430: UserWarning: `kurtosistest` p-value may be inaccurate with fewer than 20 observations; only n=10 observations were given.\n",
      "  return hypotest_fun_in(*args, **kwds)\n"
     ]
    }
   ],
   "source": [
    "y=y5kv1\n",
    "x_zunahme=sm.add_constant(x5kv1)\n",
    "results=sm.WLS(y,x_zunahme,sigma=u_y5kv1).fit()#,sigma=yerr\n",
    "print('''\n",
    "Lineare Regression\n",
    "''')\n",
    "print(results.summary())"
   ]
  },
  {
   "cell_type": "markdown",
   "id": "78d692a5-9fe1-4b5a-a6e5-3400bedc17b2",
   "metadata": {},
   "source": [
    "#### chi^2"
   ]
  },
  {
   "cell_type": "code",
   "execution_count": 80,
   "id": "5f50307d-78e5-4131-8749-02eed6470c1f",
   "metadata": {},
   "outputs": [
    {
     "name": "stdout",
     "output_type": "stream",
     "text": [
      "(np.float64(26480.2), np.float64(3310.0), np.float64(1.033))\n",
      "(np.float64(138485.1), np.float64(17310.6), np.float64(1.076))\n",
      "(np.float64(54599.9), np.float64(6825.0), np.float64(1.043))\n"
     ]
    }
   ],
   "source": [
    "U1= chi_sq(x3kv1,y3kv1,  a3kv1,b3kv1, u_y3kv1)\n",
    "print(U1)\n",
    "U2= chi_sq(x4kv1,y4kv1,  a4kv1,b4kv1, u_y4kv1)\n",
    "print(U2)\n",
    "U3= chi_sq(x5kv1,y5kv1,  a5kv1,b5kv1, u_y5kv1)\n",
    "print(U3)"
   ]
  },
  {
   "cell_type": "markdown",
   "id": "2974b42e-c634-4fb7-8138-26bdcbf56a9b",
   "metadata": {
    "tags": []
   },
   "source": [
    "### Plot"
   ]
  },
  {
   "cell_type": "code",
   "execution_count": 81,
   "id": "e61886a3-35f2-4fb3-9a82-3526b3eee4ba",
   "metadata": {},
   "outputs": [],
   "source": [
    "xA7 = np.arange(0,1.1,0.1)\n",
    "y1A7 = reg(xA7, a3kv1,b3kv1)\n",
    "y2A7 = reg(xA7, a4kv1,b4kv1)\n",
    "y3A7 = reg(xA7, a5kv1,b5kv1)"
   ]
  },
  {
   "cell_type": "code",
   "execution_count": 82,
   "id": "4e58eb3c-9370-4e1e-90aa-ae15298d07d8",
   "metadata": {},
   "outputs": [
    {
     "name": "stderr",
     "output_type": "stream",
     "text": [
      "<>:3: SyntaxWarning: invalid escape sequence '\\p'\n",
      "<>:4: SyntaxWarning: invalid escape sequence '\\p'\n",
      "<>:5: SyntaxWarning: invalid escape sequence '\\c'\n",
      "<>:3: SyntaxWarning: invalid escape sequence '\\p'\n",
      "<>:4: SyntaxWarning: invalid escape sequence '\\p'\n",
      "<>:5: SyntaxWarning: invalid escape sequence '\\c'\n",
      "C:\\Users\\benjf\\AppData\\Local\\Temp\\ipykernel_15100\\2544461242.py:3: SyntaxWarning: invalid escape sequence '\\p'\n",
      "  plt.errorbar([],[],fmt='w.', yerr =[],label=f'$a= {round(a5kv1,2)}\\pm{round(da5kv1,2)}$')\n",
      "C:\\Users\\benjf\\AppData\\Local\\Temp\\ipykernel_15100\\2544461242.py:4: SyntaxWarning: invalid escape sequence '\\p'\n",
      "  plt.errorbar([],[],fmt='w.',yerr =[],label=f'$b= {round(b5kv1,1)}\\pm{round(db5kv1,1)}$')\n",
      "C:\\Users\\benjf\\AppData\\Local\\Temp\\ipykernel_15100\\2544461242.py:5: SyntaxWarning: invalid escape sequence '\\c'\n",
      "  plt.errorbar([],[],fmt='w.',yerr =[],label=f'$\\chi_{nu}^{2}={round(U1[1],1)}$')\n"
     ]
    },
    {
     "data": {
      "image/png": "[encoded data removed]",
      "text/plain": [
       "<Figure size 640x480 with 1 Axes>"
      ]
     },
     "metadata": {},
     "output_type": "display_data"
    }
   ],
   "source": [
    "plt.errorbar(x3kv1[ :], y3kv1[ :], xerr = u_x3kv1[ :], yerr = u_y3kv1[ :],fmt='k.', label=r'Messdaten')\n",
    "plt.plot(xA7, y1A7, 'b', label=r'Fit: $U(I) = a \\cdot I + b$')\n",
    "plt.errorbar([],[],fmt='w.', yerr =[],label=f'$a= {round(a5kv1,2)}\\pm{round(da5kv1,2)}$')\n",
    "plt.errorbar([],[],fmt='w.',yerr =[],label=f'$b= {round(b5kv1,1)}\\pm{round(db5kv1,1)}$')\n",
    "plt.errorbar([],[],fmt='w.',yerr =[],label=f'$\\chi_{nu}^{2}={round(U1[1],1)}$')\n",
    "plt.errorbar([],[],fmt='w.',yerr =[],label=f'$U_A = 3$kV')\n",
    "plt.xlabel(r'I [A]')\n",
    "plt.ylabel('U [V]')\n",
    "plt.legend(loc=2)\n",
    "plt.show()"
   ]
  },
  {
   "cell_type": "code",
   "execution_count": 83,
   "id": "d260b455-7d48-4bd1-bf0d-007f34c6544a",
   "metadata": {},
   "outputs": [],
   "source": [
    "A = 'A'\n",
    "V = 'V'"
   ]
  },
  {
   "cell_type": "code",
   "execution_count": 84,
   "id": "8835b933-3794-4d88-8667-1da210c02caa",
   "metadata": {},
   "outputs": [
    {
     "data": {
      "image/png": "[encoded data removed]",
      "text/plain": [
       "<Figure size 640x480 with 1 Axes>"
      ]
     },
     "metadata": {},
     "output_type": "display_data"
    }
   ],
   "source": [
    "fig=plt.figure()\n",
    "ax=fig.add_subplot(111)\n",
    "ax.errorbar(x3kv1[ :], y3kv1[ :], xerr = u_x3kv1[ :], yerr = u_y3kv1[ :],fmt='k.', label=r'Messdaten')\n",
    "ax.plot(xA7, y1A7, 'b', label=r'Fit: $U(I) = a \\cdot I + b$')\n",
    "\n",
    "# Für die Parameter\n",
    "par1, = ax.plot([],[],' ')\n",
    "par2, = ax.plot([],[],' ' )\n",
    "par3, = ax.plot([],[],' ')\n",
    "par4, = ax.plot([],[],' ' )\n",
    "par5, = ax.plot([],[],' ' )\n",
    "\n",
    "leg1= ax.legend(loc=2)\n",
    "chi1=r'$\\chi_{\\nu}^{2}$'+f'$={U1[1]}$'\n",
    "\n",
    "ax.set_xlabel('I [A]')\n",
    "ax.set_ylabel(r'U [V]')\n",
    "leg2=ax.legend([par1,par2,par3,par4,par5],\n",
    "               [fr'$a=({round(a3kv1,0)}\\pm {round(da3kv1,0)})$ V/A ',\n",
    "                fr'$b =({round(b3kv1,1)}\\pm {round(db3kv1,1)})$ V',\n",
    "               chi1,\n",
    "               fr'$R^{2}=0.997$',\n",
    "               '$U = 3$ kV'],\n",
    "              loc=4)\n",
    "ax.add_artist(leg1)\n",
    "plt.xticks(np.arange(0,1.1, 0.25))\n",
    "plt.yticks(np.arange(0, 501, 125))\n",
    "plt.show()\n",
    "# plt.savefig('U(I)-3kV.pdf',dpi=600)"
   ]
  },
  {
   "cell_type": "code",
   "execution_count": 85,
   "id": "d674fe14-d0e2-437f-9d8d-018d2475f239",
   "metadata": {},
   "outputs": [
    {
     "data": {
      "image/png": "[encoded data removed]",
      "text/plain": [
       "<Figure size 640x480 with 1 Axes>"
      ]
     },
     "metadata": {},
     "output_type": "display_data"
    }
   ],
   "source": [
    "fig=plt.figure()\n",
    "ax=fig.add_subplot(111)\n",
    "ax.errorbar(x4kv1[ :], y4kv1[ :], xerr = u_x4kv1[ :], yerr = u_y4kv1[ :],fmt='k.', label=r'Messdaten')\n",
    "ax.plot(xA7, y2A7, 'b', label=r'Fit: $U(I) = a \\cdot I + b$')\n",
    "\n",
    "# Für die Parameter\n",
    "par1, = ax.plot([],[],' ')\n",
    "par2, = ax.plot([],[],' ' )\n",
    "par3, = ax.plot([],[],' ')\n",
    "par4, = ax.plot([],[],' ' )\n",
    "par5, = ax.plot([],[],' ' )\n",
    "\n",
    "leg1= ax.legend(loc=2)\n",
    "chi1=r'$\\chi_{\\nu}^{2}$'+f'$={U2[1]}$'\n",
    "\n",
    "ax.set_xlabel('I [A]')\n",
    "ax.set_ylabel(r'U [V]')\n",
    "leg2=ax.legend([par1,par2,par3,par4,par5],\n",
    "               [fr'$a=({round(a4kv1,0)}\\pm {round(da4kv1,0)})$ V/A',\n",
    "                fr'$b =({round(b4kv1,0)}\\pm {round(db4kv1,0)})$ V',\n",
    "               chi1,\n",
    "               fr'$R^{2}=0.980$',\n",
    "               r'$U = 4$kV'],\n",
    "              loc=4)\n",
    "ax.add_artist(leg1)\n",
    "plt.xticks(np.arange(0,1.1, 0.25))\n",
    "plt.yticks(np.arange(0, 501, 125))\n",
    "plt.show()\n",
    "# plt.savefig('U(I)-4kV.pdf',dpi=600)"
   ]
  },
  {
   "cell_type": "code",
   "execution_count": 86,
   "id": "fd6c66a7-d72f-42af-b218-81c3fa8f2dd5",
   "metadata": {},
   "outputs": [
    {
     "data": {
      "image/png": "[encoded data removed]",
      "text/plain": [
       "<Figure size 640x480 with 1 Axes>"
      ]
     },
     "metadata": {},
     "output_type": "display_data"
    }
   ],
   "source": [
    "fig=plt.figure()\n",
    "ax=fig.add_subplot(111)\n",
    "ax.errorbar(x5kv1[ :], y5kv1[ :], xerr = u_x5kv1[ :], yerr = u_y5kv1[ :],fmt='k.', label=r'Messdaten')\n",
    "ax.plot(xA7, y3A7, 'b', label=r'Fit: $U(I) = a \\cdot I + b$')\n",
    "\n",
    "# Für die Parameter\n",
    "par1, = ax.plot([],[],' ')\n",
    "par2, = ax.plot([],[],' ' )\n",
    "par3, = ax.plot([],[],' ')\n",
    "par4, = ax.plot([],[],' ' )\n",
    "par5, = ax.plot([],[],' ' )\n",
    "\n",
    "leg1= ax.legend(loc=2)\n",
    "chi1=r'$\\chi_{\\nu}^{2}$'+f'$={U3[1]}$'\n",
    "\n",
    "ax.set_xlabel('I [A]')\n",
    "ax.set_ylabel(r'U [V]')\n",
    "leg2=ax.legend([par1,par2,par3,par4,par5],\n",
    "               [fr'$a=({round(a5kv1,0)}\\pm {round(da5kv1,0)})$ V/A',\n",
    "                fr'$b =({round(b5kv1,0)}\\pm {round(db5kv1,0)})$ V',\n",
    "               chi1,\n",
    "               fr'$R^{2}=0.980$',\n",
    "               r'$U = 5$kV'],\n",
    "              loc=4)\n",
    "ax.add_artist(leg1)\n",
    "plt.xticks(np.arange(0,1.1, 0.25))\n",
    "plt.yticks(np.arange(0, 501, 125))\n",
    "plt.show()\n",
    "# plt.savefig('U(I)-5kV.pdf',dpi=600)"
   ]
  },
  {
   "cell_type": "markdown",
   "id": "94ea59df-4a4b-48a1-835d-610b8ae2bc44",
   "metadata": {
    "tags": []
   },
   "source": [
    "## e/m"
   ]
  },
  {
   "cell_type": "markdown",
   "id": "98fd7769-eed4-49f6-980a-8fad4c91a48e",
   "metadata": {},
   "source": [
    "$$ \n",
    "U_k (B) = \\sqrt{2 \\frac{e}{m} U_A} d \\cdot B \\\\ \n",
    "U_k (I) = \\sqrt{2 \\frac{e}{m} U_A} \\cdot d \\cdot k \\cdot I\\\\\n",
    "\\Rightarrow a_{U_k} =\\sqrt{2 \\frac{e}{m} U_A} \\cdot d \\cdot k\\\\\n",
    "\\Leftrightarrow a_{U_k}^2 = 2 \\frac{e}{m} U_A \\cdot d^2 \\cdot k^2\\\\\n",
    "\\Rightarrow \\frac{e}{m} = \\frac{a_{U_k}^2}{2 U_A \\cdot d^2 \\cdot k^2}\n",
    "$$"
   ]
  },
  {
   "cell_type": "markdown",
   "id": "fc576c54-02ad-491c-94a7-f52076e15558",
   "metadata": {},
   "source": [
    "partielle Ableitungen von em "
   ]
  },
  {
   "cell_type": "markdown",
   "id": "e831fbf3-5844-452f-933c-9a29df7addc3",
   "metadata": {},
   "source": [
    "$$ \\partial_k em = 4 U_A \\frac{d^2\\cdot k}{a_{U_k}^2} = \\frac{2d^2}{a_{U_k}^2} 2U_A \\cdot k\\\\\n",
    "\\partial_{U_A} em = 2 \\frac{d^2\\cdot k^2}{a_{U_k}^2}\\\\\n",
    "\\partial_{U_A} em = - 4 U_A \\frac{d^2\\cdot k^2}{a_{U_k}^3}$$"
   ]
  },
  {
   "cell_type": "markdown",
   "id": "8cd6b7c7-1d97-4ad3-9970-cfba8a1afc16",
   "metadata": {},
   "source": [
    "$$ u_em = \\frac{2 d^2}{a^2_{U_A}} \\cdot \\sqrt{4 U_A^2 k^2 u_k^2 + k^4 \\cdot u_{U_A}^2 + 4 U_A^2 k^4 \\frac{u_a^2}{a_{U_A}^6}}$$"
   ]
  },
  {
   "cell_type": "code",
   "execution_count": 87,
   "id": "61575019-0081-4437-b334-688691618227",
   "metadata": {},
   "outputs": [
    {
     "name": "stdout",
     "output_type": "stream",
     "text": [
      "1.1772513898287424\n",
      "0.061651042793419104\n",
      "1.2522839021741312\n",
      "0.07791016887014901\n",
      "1.1930912434412884\n",
      "0.06654615472274525\n"
     ]
    }
   ],
   "source": [
    "em_U1, u_em_U1 =  u_em_Uk(3e3, k, a3kv1, 8/1000, 3e3*0.025, u_k, da3kv1)\n",
    "em_U2, u_em_U2 =  u_em_Uk(4e3, k, a4kv1, 8/1000, 4e3*0.025, u_k, da4kv1)\n",
    "em_U3, u_em_U3 =  u_em_Uk(5e3, k, a5kv1, 8/1000, 5e3*0.025, u_k, da5kv1)\n",
    "print(em_U1/1e11)\n",
    "print(u_em_U1/1e11)\n",
    "print(em_U2/1e11)\n",
    "print(u_em_U2/1e11)\n",
    "print(em_U3/1e11)\n",
    "print(u_em_U3/1e11)"
   ]
  },
  {
   "cell_type": "markdown",
   "id": "76a6e101-36e8-491b-98c4-d2697b958e93",
   "metadata": {},
   "source": [
    "### relativer Fehler"
   ]
  },
  {
   "cell_type": "code",
   "execution_count": 88,
   "id": "9ba190c9-91fd-45ea-83d9-5cdd8073d138",
   "metadata": {},
   "outputs": [
    {
     "name": "stdout",
     "output_type": "stream",
     "text": [
      "e/m für U3kV\n",
      "5.24 %\n",
      "e/m für U4kV\n",
      "6.22 %\n",
      "e/m für U5kV\n",
      "5.58 %\n"
     ]
    }
   ],
   "source": [
    "print('e/m für U3kV')\n",
    "print(round(u_em_U1/em_U1*100,2),'%')\n",
    "print('e/m für U4kV')\n",
    "print(round(u_em_U2/em_U2*100,2),'%')\n",
    "print('e/m für U5kV')\n",
    "print(round(u_em_U3/em_U3*100,2),'%')"
   ]
  },
  {
   "cell_type": "markdown",
   "id": "8ed3d259-ede3-40f9-b8eb-1cc199c00ca5",
   "metadata": {},
   "source": [
    "### Plot"
   ]
  },
  {
   "cell_type": "code",
   "execution_count": 89,
   "id": "dc17b62d-2898-402b-86f8-8c4e88168c23",
   "metadata": {},
   "outputs": [
    {
     "data": {
      "text/plain": [
       "Text(0.5, 0, '$U_A$ [kV]')"
      ]
     },
     "execution_count": 89,
     "metadata": {},
     "output_type": "execute_result"
    }
   ],
   "source": [
    "x_em1 = np.array([3, 4 ,5])\n",
    "y_em1 = np.array([em_U1,em_U2,em_U3])\n",
    "\n",
    "xx_em1 = np.arange(2.8,5.21,0.2)\n",
    "\n",
    "yy_em_MNT161 = np.ones(13) * 1.758820024e11\n",
    "# yy_em_MNT16_unt = np.ones(13) * 1.758820024e11-0.000000011e11\n",
    "# yy_em_MNT16_ob = np.ones(13) * 1.758820024e11+0.000000011e11\n",
    "\n",
    "\n",
    "plt.errorbar(x_em1, y_em1, fmt='k.',yerr = [u_em_U1,u_em_U2,u_em_U3],label=r'$e/m = \\frac{a_{U(I)}^2}{2\\cdot k^2\\cdot d^2 \\cdot U_A}  $')\n",
    "\n",
    "\n",
    "plt.plot(xx_em1, yy_em_MNT161, 'r-', label='Vergleichswert aus MNT26')\n",
    "\n",
    "plt.xticks([3,4,5])\n",
    "plt.yticks(np.arange(0.8e11,1.81e11,0.25e11))\n",
    "plt.legend(loc=7)\n",
    "plt.xlabel(r'$U_A$ [kV]')\n",
    "# plt.ylabel(r'$e/m$ [C/kg]')\n",
    "# plt.savefig('em_Uk.pdf',dpi=600)"
   ]
  },
  {
   "cell_type": "markdown",
   "id": "ff34290a-505e-4464-9048-0facdb724ac7",
   "metadata": {},
   "source": [
    "# Aufgabe 8\n",
    "Aus den Ergebnissen von Aufgabe 7 ist für alle verwendeten Anodenspannungen  $U_A$ jeweils die\n",
    "Geschwindigkeit $v$ der Elektronen mit ihrer Unsicherheit abzuschätzen und dazu auch die Größe\n",
    "der sog. relativistischen Korrektur. Ist sie relevant?"
   ]
  },
  {
   "cell_type": "markdown",
   "id": "fbe8add2-e27b-4729-a6dd-bf510a4aad77",
   "metadata": {},
   "source": [
    "Nach dem Energieerhaltungssatz (8) können wir die Geschwindigkeit wie folgt abschätzen\n",
    "$$ v = \\sqrt{2 \\frac{e}{m}U_A} $$"
   ]
  },
  {
   "cell_type": "code",
   "execution_count": 90,
   "id": "76b15b1c-d837-4d82-a73e-ef7a4a58e36e",
   "metadata": {},
   "outputs": [
    {
     "name": "stdout",
     "output_type": "stream",
     "text": [
      "26577261.595153954\n",
      "31651652.74893722\n",
      "34541152.896816984\n"
     ]
    }
   ],
   "source": [
    "v1 = np.sqrt(2*3e3 * em_U1)\n",
    "print(v1)\n",
    "v2 = np.sqrt(2*4e3 * em_U2)\n",
    "print(v2)\n",
    "v3 = np.sqrt(2*5e3 * em_U3)\n",
    "print(v3)\n",
    "v_real1 = np.sqrt(2*3e3 * 1.758820024e11)\n",
    "v_real2 = np.sqrt(2*4e3 * 1.758820024e11)\n",
    "v_real3 = np.sqrt(2*5e3 * 1.758820024e11)"
   ]
  },
  {
   "cell_type": "code",
   "execution_count": 91,
   "id": "25c5e952-67d0-4bd0-8d00-8ddfbf36d280",
   "metadata": {},
   "outputs": [
    {
     "name": "stdout",
     "output_type": "stream",
     "text": [
      "36392414.230954185\n",
      "50045657.19768613\n",
      "60654023.71825689\n"
     ]
    }
   ],
   "source": [
    "u_v1 = np.sqrt(2*em_U1*(0.025*3e3)**2+ 2*3e3*0.06**2)\n",
    "print(u_v1)\n",
    "u_v2 = np.sqrt(2) * np.sqrt(em_U2*(0.025*4e3)**2+ 4e3*0.08**2)\n",
    "print(u_v2)\n",
    "u_v3 = np.sqrt(2) * np.sqrt(em_U1*(0.025*5e3)**2+ 5e3*0.07**2)\n",
    "print(u_v3)"
   ]
  },
  {
   "cell_type": "code",
   "execution_count": 92,
   "id": "1aa710ca-3155-428b-be3c-4f81249e5534",
   "metadata": {},
   "outputs": [
    {
     "name": "stdout",
     "output_type": "stream",
     "text": [
      "(3+/-4)e+07\n",
      "(3+/-5)e+07\n",
      "(3+/-6)e+07\n"
     ]
    }
   ],
   "source": [
    "print(ufloat(v1,u_v1))\n",
    "print(ufloat(v2,u_v2))\n",
    "print(ufloat(v3,u_v3))"
   ]
  },
  {
   "cell_type": "code",
   "execution_count": 93,
   "id": "68ac07d8-019a-4b8c-9777-8adecef3b3de",
   "metadata": {},
   "outputs": [
    {
     "name": "stdout",
     "output_type": "stream",
     "text": [
      "1.008+/-0.022\n",
      "1.01+/-0.04\n",
      "1.01+/-0.05\n"
     ]
    }
   ],
   "source": [
    "av1 = ufloat(v1,u_v1)\n",
    "av2 = ufloat(v2,u_v2)\n",
    "av3 = ufloat(v3,u_v3)\n",
    "x1 = 1/(1-av1**2/(299792458)**2)\n",
    "print(x1)\n",
    "x2 = 1/(1-av2**2/(299792458)**2)\n",
    "print(x2)\n",
    "x3 = 1/(1-av3**2/(299792458)**2)\n",
    "print(x3)"
   ]
  },
  {
   "cell_type": "markdown",
   "id": "1bfbf88f-9ffe-4376-822c-1806d68de3d1",
   "metadata": {},
   "source": [
    "### Plot"
   ]
  },
  {
   "cell_type": "code",
   "execution_count": 94,
   "id": "29642baf-d359-4c81-bc0f-6b641a315871",
   "metadata": {},
   "outputs": [
    {
     "data": {
      "image/png": "[encoded data removed]",
      "text/plain": [
       "<Figure size 640x480 with 1 Axes>"
      ]
     },
     "metadata": {},
     "output_type": "display_data"
    }
   ],
   "source": [
    "xx_8 = np.array([3e3, 4e3,5e3])\n",
    "yy_ber = np.array([v1, v2,v3])\n",
    "yy_real = np.array([v_real1, v_real2, v_real3])\n",
    "plt.plot(xx_8,yy_ber,'ko',label='gemessen')\n",
    "plt.plot(xx_8,yy_real,'ro', label='berechnet')\n",
    "plt.legend()\n",
    "plt.xlabel('U [A]')\n",
    "plt.ylabel('v [km/s]')\n",
    "plt.show()"
   ]
  },
  {
   "cell_type": "markdown",
   "id": "0c1e5d20-aa07-40a4-bfce-5f6971d494b6",
   "metadata": {},
   "source": [
    "## relativistische Korrektur"
   ]
  },
  {
   "cell_type": "code",
   "execution_count": 95,
   "id": "fc0d78de-faf9-4720-903b-9662c04bf1d0",
   "metadata": {},
   "outputs": [],
   "source": [
    "c = 3e8"
   ]
  },
  {
   "cell_type": "code",
   "execution_count": 96,
   "id": "9cab98ba-9a4a-4c9a-8db9-d39158b42fcb",
   "metadata": {},
   "outputs": [
    {
     "name": "stdout",
     "output_type": "stream",
     "text": [
      "8.87 %\n",
      "10.56 %\n",
      "11.52 %\n"
     ]
    }
   ],
   "source": [
    "print(round(v1/299792458*100,2),'%')\n",
    "print(round(v2/299792458*100,2),'%')\n",
    "print(round(v3/299792458*100,2),'%')"
   ]
  },
  {
   "cell_type": "code",
   "execution_count": 97,
   "id": "f9cd4ec6-4ab9-474d-be81-19007414c83c",
   "metadata": {},
   "outputs": [
    {
     "data": {
      "text/plain": [
       "([<matplotlib.axis.YTick at 0x1c595e27e60>,\n",
       "  <matplotlib.axis.YTick at 0x1c595e24080>,\n",
       "  <matplotlib.axis.YTick at 0x1c595db93a0>,\n",
       "  <matplotlib.axis.YTick at 0x1c595dd85c0>,\n",
       "  <matplotlib.axis.YTick at 0x1c595dba7e0>],\n",
       " [Text(0, 7.0, '$\\\\mathdefault{7.00}$'),\n",
       "  Text(0, 8.75, '$\\\\mathdefault{8.75}$'),\n",
       "  Text(0, 10.5, '$\\\\mathdefault{10.50}$'),\n",
       "  Text(0, 12.25, '$\\\\mathdefault{12.25}$'),\n",
       "  Text(0, 14.0, '$\\\\mathdefault{14.00}$')])"
      ]
     },
     "execution_count": 97,
     "metadata": {},
     "output_type": "execute_result"
    }
   ],
   "source": [
    "xx_8 = np.array([3, 4,5])\n",
    "yy_berc = np.array([v1, v2,v3])/299792458 * 100\n",
    "yy_realc = np.array([v_real1, v_real2, v_real3])/299792458 *100\n",
    "plt.plot(xx_8,yy_berc,'ko',label='gemessen')\n",
    "plt.plot(xx_8,yy_realc,'ro', label='berechnet')\n",
    "plt.legend()\n",
    "plt.xlabel('U [kV]')\n",
    "plt.ylabel(r'relativistische Korrektur [$\\%$]')\n",
    "plt.xticks([3,4,5])\n",
    "plt.yticks(np.arange(7,14.1,1.75))"
   ]
  },
  {
   "cell_type": "markdown",
   "id": "fec2a698-528c-4a26-af8e-6ad4361c792b",
   "metadata": {},
   "source": [
    "# Aufgabe 9\n",
    "Beide zur Bestimmung der spezifischen Elektronenladung eingesetzte Methoden sind miteinander\n",
    "kritisch zu vergleichen und dabei auftretende Messabweichungen bzw. Unsicherheiten mit\n",
    "ihrer Wirkung auf das Endergebnis zu betrachten und zu bewerten. Welche Bedingungen und\n",
    "Größen erweisen sich jeweils als kritisch für das Experiment? Welche Vor- und Nachteile lassen\n",
    "sich für die beiden Verfahren feststellen? Was könnte wie verbessert werden?"
   ]
  },
  {
   "cell_type": "code",
   "execution_count": null,
   "id": "c123ab0a-b2b6-4fcc-b508-a0287653dc0f",
   "metadata": {},
   "outputs": [],
   "source": []
  },
  {
   "cell_type": "code",
   "execution_count": null,
   "id": "9c59a972-5179-47ea-89ba-bb4a4c0815c4",
   "metadata": {},
   "outputs": [],
   "source": []
  }
 ],
 "metadata": {
  "kernelspec": {
   "display_name": "projects",
   "language": "python",
   "name": "python3"
  },
  "language_info": {
   "codemirror_mode": {
    "name": "ipython",
    "version": 3
   },
   "file_extension": ".py",
   "mimetype": "text/x-python",
   "name": "python",
   "nbconvert_exporter": "python",
   "pygments_lexer": "ipython3",
   "version": "3.12.8"
  }
 },
 "nbformat": 4,
 "nbformat_minor": 5
}
