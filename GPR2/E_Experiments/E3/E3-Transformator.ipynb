{
 "cells": [
  {
   "cell_type": "markdown",
   "id": "24097d3e-264b-4703-b628-9d62b6439f02",
   "metadata": {},
   "source": [
    "# Importe"
   ]
  },
  {
   "cell_type": "code",
   "execution_count": null,
   "id": "676f48b8-1d11-4245-8ae8-2cf89851ee42",
   "metadata": {},
   "outputs": [],
   "source": [
    "import matplotlib.pyplot as plt\n",
    "import pandas as pd\n",
    "import numpy as np\n",
    "from scipy.optimize import curve_fit\n",
    "from sklearn.metrics import r2_score\n",
    "import statsmodels.api as sm\n",
    "from uncertainties import ufloat, unumpy as unp\n",
    "import uncertainties\n",
    "from uncertainties.unumpy import (nominal_values as n,std_devs as s)\n",
    "\n",
    "\n",
    "plt.style.use('classic')\n",
    "plt.rc('text',usetex=True)\n",
    "plt.rc('axes', labelsize=20) # Schriftgröße der x- und y-Beschriftungen"
   ]
  },
  {
   "cell_type": "markdown",
   "id": "7bb71251-e3f9-4680-9f11-41c90eb8044d",
   "metadata": {},
   "source": [
    "# Daten laden"
   ]
  },
  {
   "cell_type": "code",
   "execution_count": 3,
   "id": "c17beee4-1684-4399-bd4d-92d30abac62b",
   "metadata": {},
   "outputs": [],
   "source": [
    "A1_df = pd.read_csv('A1.txt',sep='\\t')\n",
    "A2_df = pd.read_csv('A2.txt',sep='\\t')\n",
    "A3_df = pd.read_csv('A3.txt',sep='\\t')"
   ]
  },
  {
   "cell_type": "markdown",
   "id": "466bcfca-5a15-4e35-8e11-95da2213d4b4",
   "metadata": {},
   "source": [
    "# Eigene Funktionen definieren"
   ]
  },
  {
   "cell_type": "code",
   "execution_count": 4,
   "id": "e85379ed-571f-492d-9e88-f6a793ea26f3",
   "metadata": {},
   "outputs": [],
   "source": [
    "def reg(x,a,b):\n",
    "    regg = a*x+b\n",
    "    return regg\n",
    "def reg2(x,a,b):\n",
    "    regg = 1/(a*x-b)\n",
    "    return regg\n",
    "def logist(x,a,b,S,D):\n",
    "    regg = S/(1+np.exp(a*x+b))+D\n",
    "    return regg"
   ]
  },
  {
   "cell_type": "markdown",
   "id": "06dde3ca-ceb9-408e-9b5c-a6890c3c15a6",
   "metadata": {},
   "source": [
    "# Aufgabe 1"
   ]
  },
  {
   "cell_type": "markdown",
   "id": "ac449000-3ad2-4b7b-a276-a8be22207c96",
   "metadata": {},
   "source": [
    "## Daten Übersicht"
   ]
  },
  {
   "cell_type": "code",
   "execution_count": 5,
   "id": "02788b78-1e28-40ef-8367-da4b3b0700e3",
   "metadata": {},
   "outputs": [
    {
     "data": {
      "text/html": [
       "<div>\n",
       "<style scoped>\n",
       "    .dataframe tbody tr th:only-of-type {\n",
       "        vertical-align: middle;\n",
       "    }\n",
       "\n",
       "    .dataframe tbody tr th {\n",
       "        vertical-align: top;\n",
       "    }\n",
       "\n",
       "    .dataframe thead th {\n",
       "        text-align: right;\n",
       "    }\n",
       "</style>\n",
       "<table border=\"1\" class=\"dataframe\">\n",
       "  <thead>\n",
       "    <tr style=\"text-align: right;\">\n",
       "      <th></th>\n",
       "      <th>Up</th>\n",
       "      <th>Us</th>\n",
       "    </tr>\n",
       "  </thead>\n",
       "  <tbody>\n",
       "    <tr>\n",
       "      <th>0</th>\n",
       "      <td>2.40</td>\n",
       "      <td>0.20</td>\n",
       "    </tr>\n",
       "    <tr>\n",
       "      <th>1</th>\n",
       "      <td>3.20</td>\n",
       "      <td>0.50</td>\n",
       "    </tr>\n",
       "    <tr>\n",
       "      <th>2</th>\n",
       "      <td>4.00</td>\n",
       "      <td>0.80</td>\n",
       "    </tr>\n",
       "    <tr>\n",
       "      <th>3</th>\n",
       "      <td>4.90</td>\n",
       "      <td>1.00</td>\n",
       "    </tr>\n",
       "    <tr>\n",
       "      <th>4</th>\n",
       "      <td>6.15</td>\n",
       "      <td>1.35</td>\n",
       "    </tr>\n",
       "  </tbody>\n",
       "</table>\n",
       "</div>"
      ],
      "text/plain": [
       "     Up    Us\n",
       "0  2.40  0.20\n",
       "1  3.20  0.50\n",
       "2  4.00  0.80\n",
       "3  4.90  1.00\n",
       "4  6.15  1.35"
      ]
     },
     "execution_count": 5,
     "metadata": {},
     "output_type": "execute_result"
    }
   ],
   "source": [
    "A1_df.head()"
   ]
  },
  {
   "cell_type": "code",
   "execution_count": 6,
   "id": "46e15c45-4301-422b-afd0-aa8c898b337c",
   "metadata": {},
   "outputs": [
    {
     "name": "stdout",
     "output_type": "stream",
     "text": [
      "[0.2+/-0.003 0.5+/-0.0075 0.8+/-0.012 1.0+/-0.015 1.35+/-0.02025\n",
      " 1.65+/-0.024749999999999998 1.9+/-0.028499999999999998 2.2+/-0.033\n",
      " 2.95+/-0.04425 3.4+/-0.051 3.9+/-0.058499999999999996 4.2+/-0.063\n",
      " 4.7+/-0.0705 5.0+/-0.075 5.55+/-0.08324999999999999 6.15+/-0.09225]\n"
     ]
    },
    {
     "data": {
      "text/plain": [
       "numpy.ndarray"
      ]
     },
     "execution_count": 6,
     "metadata": {},
     "output_type": "execute_result"
    }
   ],
   "source": [
    "Up_A1_err = unp.uarray(A1_df['Up'],0.015*A1_df['Up'])\n",
    "# print(Up_A1_err)\n",
    "Us_A1_err = unp.uarray(A1_df['Us'],0.015*A1_df['Us'])\n",
    "print(Us_A1_err)\n",
    "type(Us_A1_err)"
   ]
  },
  {
   "cell_type": "markdown",
   "id": "d9f5791d-0c73-4509-81a0-1e43eb318693",
   "metadata": {},
   "source": [
    "### Übersetzungsverhältnis\n",
    "$$ \\frac{n_{s}}{n_{p}}  = - \\frac{U_{s}}{u_{p}}$$"
   ]
  },
  {
   "cell_type": "code",
   "execution_count": null,
   "id": "2b577083-e5e6-45e6-9052-c2382f43be7e",
   "metadata": {},
   "outputs": [],
   "source": [
    "Us = np.array(A1_df['Us'])\n",
    "Up = np.array(A1_df['Up'])\n",
    "u_Us = 0.01 * Us\n",
    "u_Up = 0.01 * Up"
   ]
  },
  {
   "cell_type": "code",
   "execution_count": 8,
   "id": "b817ad91-be09-4a2b-9761-e895ef1f3847",
   "metadata": {},
   "outputs": [
    {
     "name": "stdout",
     "output_type": "stream",
     "text": [
      "[0.00117851 0.00220971 0.00282843 0.00288615 0.00310437 0.00321856\n",
      " 0.00327684 0.00340029 0.00344788 0.00348429 0.00351301 0.00349394\n",
      " 0.00353553 0.00353553 0.00354351 0.00354996]\n",
      "0.0031379078906301227\n"
     ]
    }
   ],
   "source": [
    "u_nsnp = np.sqrt(u_Us**2/Up**2 + Us**2/Up**4*u_Up**2)\n",
    "print(u_nsnp)\n",
    "print(u_nsnp.mean())"
   ]
  },
  {
   "cell_type": "code",
   "execution_count": 9,
   "id": "ebc8e48e-f819-44ae-a63b-86c2e7bce43e",
   "metadata": {},
   "outputs": [
    {
     "name": "stdout",
     "output_type": "stream",
     "text": [
      "[0.08333333 0.15625    0.2        0.20408163 0.2195122  0.22758621\n",
      " 0.23170732 0.24043716 0.24380165 0.24637681 0.24840764 0.24705882\n",
      " 0.25       0.25       0.25056433 0.25102041]\n",
      "0.22188359482033354\n"
     ]
    }
   ],
   "source": [
    "nsnp = Us / Up\n",
    "print(nsnp)\n",
    "print(nsnp.mean())"
   ]
  },
  {
   "cell_type": "code",
   "execution_count": 10,
   "id": "27b07508-5c3a-45b8-a32e-5cb187f5aee8",
   "metadata": {},
   "outputs": [
    {
     "data": {
      "text/plain": [
       "0.22188359482033354+/-0.0011992425412235303"
      ]
     },
     "execution_count": 10,
     "metadata": {},
     "output_type": "execute_result"
    }
   ],
   "source": [
    "n_s_n_p = Us_A1_err/Up_A1_err\n",
    "n_s_n_p.mean()"
   ]
  },
  {
   "cell_type": "markdown",
   "id": "ba8373a3-2600-4806-ba85-ab1f4e8876ea",
   "metadata": {},
   "source": [
    "### Regression"
   ]
  },
  {
   "cell_type": "code",
   "execution_count": 11,
   "id": "49baec2c-7334-4ef8-ad8e-db2eaabc6a15",
   "metadata": {},
   "outputs": [
    {
     "name": "stdout",
     "output_type": "stream",
     "text": [
      "(-0+/-5)e+14\n",
      "(0+/-8)e+13\n"
     ]
    },
    {
     "data": {
      "text/plain": [
       "-36960718.18969339+/-512644095942200.3"
      ]
     },
     "execution_count": 11,
     "metadata": {},
     "output_type": "execute_result"
    }
   ],
   "source": [
    "pop, cov = curve_fit(reg2,n(n_s_n_p), n(Us_A1_err),sigma=s(n_s_n_p))\n",
    "a_ue,b_ue = pop\n",
    "da_ue,db_ue = np.sqrt(np.diag(cov))\n",
    "print(ufloat(a_ue,da_ue))\n",
    "print(ufloat(b_ue,db_ue))\n",
    "ufloat(a_ue,da_ue)"
   ]
  },
  {
   "cell_type": "markdown",
   "id": "f52f056b-6c32-4bd6-b365-505a3d20f27b",
   "metadata": {},
   "source": [
    "### Plot"
   ]
  },
  {
   "cell_type": "code",
   "execution_count": 12,
   "id": "0475acc5-3133-43e2-9b76-b9130ee8fbd9",
   "metadata": {},
   "outputs": [],
   "source": [
    "xx=np.arange(0,7,0.1)\n",
    "yy = reg2(xx,a_ue,b_ue)"
   ]
  },
  {
   "cell_type": "code",
   "execution_count": 13,
   "id": "5876d147-3be2-486a-978c-a515e174352c",
   "metadata": {},
   "outputs": [
    {
     "data": {
      "image/png": "[encoded data removed]",
      "text/plain": [
       "<Figure size 640x480 with 1 Axes>"
      ]
     },
     "metadata": {},
     "output_type": "display_data"
    }
   ],
   "source": [
    "plt.errorbar(n(Us_A1_err),n(n_s_n_p),yerr=s(n_s_n_p),fmt='.r',label=r'$\\frac{n_{s}}{n_{p}}=-\\frac{U_{s}}{U_{p}}$')\n",
    "plt.plot(xx,yy,color='k',label=r'Fit: $f(U_{s})= \\frac{1}{a\\cdot U_{s} + b}$')\n",
    "plt.ylabel(r'Übersetzungsverhältnis $\\frac{n_{s}}{n_{p}}$')\n",
    "plt.xlabel(r'Sekundärstrom $U_{s}$')\n",
    "plt.legend()\n",
    "plt.show()"
   ]
  },
  {
   "cell_type": "markdown",
   "id": "5975c4a4-4843-4d3b-8886-97ec41a68469",
   "metadata": {},
   "source": [
    "## Visualisierung"
   ]
  },
  {
   "cell_type": "code",
   "execution_count": 14,
   "id": "60d048b1-074f-4c4b-bda0-d83dd4b20040",
   "metadata": {},
   "outputs": [
    {
     "data": {
      "image/png": "[encoded data removed]",
      "text/plain": [
       "<Figure size 640x480 with 1 Axes>"
      ]
     },
     "metadata": {},
     "output_type": "display_data"
    }
   ],
   "source": [
    "plt.errorbar(A1_df['Up'],A1_df['Us'],fmt='.',color='red',yerr=A1_df['Us']*0.03,label='Messpunkte')#\n",
    "plt.xlabel(r'Primärspannung $U_p$ [V]')\n",
    "plt.ylabel(r'Sekundärspannung $U_s$ [V]')\n",
    "plt.legend()\n",
    "plt.show()"
   ]
  },
  {
   "cell_type": "markdown",
   "id": "53824d97-822e-4f21-8aa8-ebc55e94e2d2",
   "metadata": {},
   "source": [
    "### Fehlerrechnung"
   ]
  },
  {
   "cell_type": "code",
   "execution_count": 15,
   "id": "4bd4e14b-24ea-42f4-9971-b0a8b0c29583",
   "metadata": {},
   "outputs": [],
   "source": [
    "# Frequenz: 50Hz\n",
    "# Unsicherheit für Spannung: 1% + 2d\n",
    "# Unsicherheit für Strom: 1.5% + 2d\n",
    "u_Us = A1_df['Us'] * 0.01\n",
    "u_Up = A1_df['Up'] * 0.01"
   ]
  },
  {
   "cell_type": "markdown",
   "id": "cf9f3955-56c5-4732-ab06-05215cf93690",
   "metadata": {},
   "source": [
    "### Lineare Regression"
   ]
  },
  {
   "cell_type": "code",
   "execution_count": 16,
   "id": "3bf113f2-ae53-4173-a617-dd8f12519b71",
   "metadata": {},
   "outputs": [
    {
     "name": "stdout",
     "output_type": "stream",
     "text": [
      "a: 0.284+/-0.006\n",
      "b: -0.463+/-0.022\n"
     ]
    }
   ],
   "source": [
    "pop, cov = curve_fit(reg,A1_df['Up'],A1_df['Us'],sigma=u_Us)\n",
    "a1,b1 = pop\n",
    "da1,db1 = np.sqrt(np.diag(cov))\n",
    "print(f'a: {ufloat(a1,da1) }')\n",
    "print(f'b: {ufloat(b1,db1)}')"
   ]
  },
  {
   "cell_type": "code",
   "execution_count": null,
   "id": "25df5a25-3cd5-42d8-8e87-9a2c06e3f866",
   "metadata": {},
   "outputs": [
    {
     "name": "stdout",
     "output_type": "stream",
     "text": [
      "\n",
      "Lineare Regression\n",
      "\n",
      "                            WLS Regression Results                            \n",
      "==============================================================================\n",
      "Dep. Variable:                     Us   R-squared:                       0.999\n",
      "Model:                            WLS   Adj. R-squared:                  0.999\n",
      "Method:                 Least Squares   F-statistic:                 2.056e+04\n",
      "Date:                Sat, 01 Mar 2025   Prob (F-statistic):           1.41e-23\n",
      "Time:                        16:29:41   Log-Likelihood:                 25.814\n",
      "No. Observations:                  16   AIC:                            -47.63\n",
      "Df Residuals:                      14   BIC:                            -46.08\n",
      "Df Model:                           1                                         \n",
      "Covariance Type:            nonrobust                                         \n",
      "==============================================================================\n",
      "                 coef    std err          t      P>|t|      [0.025      0.975]\n",
      "------------------------------------------------------------------------------\n",
      "const         -0.3013      0.025    -11.853      0.000      -0.356      -0.247\n",
      "Up             0.2656      0.002    143.401      0.000       0.262       0.270\n",
      "==============================================================================\n",
      "Omnibus:                        9.206   Durbin-Watson:                   0.661\n",
      "Prob(Omnibus):                  0.010   Jarque-Bera (JB):                5.733\n",
      "Skew:                          -1.247   Prob(JB):                       0.0569\n",
      "Kurtosis:                       4.543   Cond. No.                         27.2\n",
      "==============================================================================\n",
      "\n",
      "Notes:\n",
      "[1] Standard Errors assume that the covariance matrix of the errors is correctly specified.\n"
     ]
    },
    {
     "name": "stderr",
     "output_type": "stream",
     "text": [
      "c:\\Users\\benjf\\anaconda3\\envs\\projects\\Lib\\site-packages\\statsmodels\\base\\model.py:130: ValueWarning: unknown kwargs ['sigma']\n",
      "  warnings.warn(msg, ValueWarning)\n",
      "c:\\Users\\benjf\\anaconda3\\envs\\projects\\Lib\\site-packages\\scipy\\stats\\_axis_nan_policy.py:430: UserWarning: `kurtosistest` p-value may be inaccurate with fewer than 20 observations; only n=16 observations were given.\n",
      "  return hypotest_fun_in(*args, **kwds)\n"
     ]
    }
   ],
   "source": [
    "y=A1_df['Us']\n",
    "x_zunahme=sm.add_constant(A1_df['Up'])\n",
    "results=sm.WLS(y,x_zunahme,sigma=u_Us).fit()#,sigma=yerr\n",
    "print('''\n",
    "Lineare Regression\n",
    "''')\n",
    "print(results.summary())"
   ]
  },
  {
   "cell_type": "markdown",
   "id": "055c8267-56b8-4832-98c1-5898255935a0",
   "metadata": {},
   "source": [
    "#### chi1"
   ]
  },
  {
   "cell_type": "code",
   "execution_count": 18,
   "id": "bc0306b9-76cc-4e5f-83c4-ab1ae83fe075",
   "metadata": {},
   "outputs": [
    {
     "data": {
      "text/plain": [
       "np.float64(333.5673464049263)"
      ]
     },
     "execution_count": 18,
     "metadata": {},
     "output_type": "execute_result"
    }
   ],
   "source": [
    "chi_1_1 = np.array(A1_df['Us']-reg(A1_df['Up'],a1,b1))**2/np.array(u_Us)**2\n",
    "chi_1_1 = chi_1_1.sum()/2\n",
    "chi_1_1"
   ]
  },
  {
   "cell_type": "code",
   "execution_count": 19,
   "id": "960fabfb-e1b7-4bcd-9754-da3ea9eb82d9",
   "metadata": {},
   "outputs": [
    {
     "name": "stdout",
     "output_type": "stream",
     "text": [
      "a: 0.2636+/-0.0015\n",
      "b: -0.257+/-0.015\n"
     ]
    }
   ],
   "source": [
    "pop, cov = curve_fit(reg,A1_df['Up'][4:],A1_df['Us'][4:],sigma=u_Us[4:])\n",
    "a1,b1 = pop\n",
    "da1,db1 = np.sqrt(np.diag(cov))\n",
    "print(f'a: {ufloat(a1,da1) }')\n",
    "print(f'b: {ufloat(b1,db1)}')"
   ]
  },
  {
   "cell_type": "markdown",
   "id": "d2428e33-9377-4ddc-96ec-ae35e83209fa",
   "metadata": {},
   "source": [
    "#### mit Statsmodels:"
   ]
  },
  {
   "cell_type": "code",
   "execution_count": 20,
   "id": "2618cc51-71ee-422f-b0e8-843715020a68",
   "metadata": {},
   "outputs": [
    {
     "name": "stdout",
     "output_type": "stream",
     "text": [
      "\n",
      "Lineare Regression\n",
      "\n",
      "                            WLS Regression Results                            \n",
      "==============================================================================\n",
      "Dep. Variable:                     Us   R-squared:                       1.000\n",
      "Model:                            WLS   Adj. R-squared:                  1.000\n",
      "Method:                 Least Squares   F-statistic:                 5.398e+04\n",
      "Date:                Sat, 01 Mar 2025   Prob (F-statistic):           5.37e-20\n",
      "Time:                        16:29:45   Log-Likelihood:                 29.432\n",
      "No. Observations:                  12   AIC:                            -54.86\n",
      "Df Residuals:                      10   BIC:                            -53.89\n",
      "Df Model:                           1                                         \n",
      "Covariance Type:            nonrobust                                         \n",
      "==============================================================================\n",
      "                 coef    std err          t      P>|t|      [0.025      0.975]\n",
      "------------------------------------------------------------------------------\n",
      "const         -0.2257      0.018    -12.785      0.000      -0.265      -0.186\n",
      "Up             0.2612      0.001    232.329      0.000       0.259       0.264\n",
      "==============================================================================\n",
      "Omnibus:                        2.254   Durbin-Watson:                   1.208\n",
      "Prob(Omnibus):                  0.324   Jarque-Bera (JB):                0.970\n",
      "Skew:                           0.187   Prob(JB):                        0.616\n",
      "Kurtosis:                       1.658   Cond. No.                         42.2\n",
      "==============================================================================\n",
      "\n",
      "Notes:\n",
      "[1] Standard Errors assume that the covariance matrix of the errors is correctly specified.\n"
     ]
    },
    {
     "name": "stderr",
     "output_type": "stream",
     "text": [
      "c:\\Users\\benjf\\anaconda3\\envs\\projects\\Lib\\site-packages\\statsmodels\\base\\model.py:130: ValueWarning: unknown kwargs ['sigma']\n",
      "  warnings.warn(msg, ValueWarning)\n",
      "c:\\Users\\benjf\\anaconda3\\envs\\projects\\Lib\\site-packages\\scipy\\stats\\_axis_nan_policy.py:430: UserWarning: `kurtosistest` p-value may be inaccurate with fewer than 20 observations; only n=12 observations were given.\n",
      "  return hypotest_fun_in(*args, **kwds)\n"
     ]
    }
   ],
   "source": [
    "y=A1_df['Us'][4:]\n",
    "x_zunahme=sm.add_constant(A1_df['Up'][4:])\n",
    "results=sm.WLS(y,x_zunahme,sigma=u_Us[4:]).fit()#,sigma=yerr\n",
    "print('''\n",
    "Lineare Regression\n",
    "''')\n",
    "print(results.summary())"
   ]
  },
  {
   "cell_type": "markdown",
   "id": "b25be48e-5a49-460e-bc3f-f1d89b2523c9",
   "metadata": {},
   "source": [
    "#### chi2"
   ]
  },
  {
   "cell_type": "code",
   "execution_count": 21,
   "id": "b37d9dba-9816-4e7c-8faf-c226cc0c2cdf",
   "metadata": {},
   "outputs": [
    {
     "data": {
      "text/plain": [
       "np.float64(3.8737588964990146)"
      ]
     },
     "execution_count": 21,
     "metadata": {},
     "output_type": "execute_result"
    }
   ],
   "source": [
    "chi_1_2 = np.array(A1_df['Us'][4:]-reg(A1_df['Up'][4:],a1,b1))**2/np.array(u_Us[4:])**2\n",
    "chi_1_2 = chi_1_2.sum()/2\n",
    "chi_1_2"
   ]
  },
  {
   "cell_type": "markdown",
   "id": "a380e553-a44a-48e3-bea5-a915187416f2",
   "metadata": {
    "tags": []
   },
   "source": [
    "### Plot"
   ]
  },
  {
   "cell_type": "code",
   "execution_count": 22,
   "id": "0c82d495-2346-45a6-88e6-0b45f7a6dc1f",
   "metadata": {},
   "outputs": [],
   "source": [
    "ff = np.arange(0,25.5,2.5)\n",
    "yf = reg(ff,a1,b1)"
   ]
  },
  {
   "cell_type": "code",
   "execution_count": 23,
   "id": "5b4bd064-795e-4421-a2f6-ed1890b4c4b6",
   "metadata": {},
   "outputs": [
    {
     "data": {
      "image/png": "[encoded data removed]",
      "text/plain": [
       "<Figure size 640x480 with 1 Axes>"
      ]
     },
     "metadata": {},
     "output_type": "display_data"
    }
   ],
   "source": [
    "plt.errorbar(A1_df['Up'],A1_df['Us'],fmt='.',color='red',yerr=u_Us,label='Messpunkte')#xerr= u_Up,\n",
    "plt.plot(ff,yf,label=r'Fit: $U_{s}(U_{p}) = a \\cdot U_{p} +b$')\n",
    "plt.xlabel(r'Primärspannung $U_p$ [V]')\n",
    "plt.ylabel(r'Sekundärspannung $U_s$ [V]')\n",
    "plt.legend()\n",
    "plt.show()"
   ]
  },
  {
   "cell_type": "markdown",
   "id": "84ead2d1-9926-46af-bd17-833181bbada1",
   "metadata": {},
   "source": [
    "## Übersetzungsverhältnis aus Steigung"
   ]
  },
  {
   "cell_type": "code",
   "execution_count": null,
   "id": "f64f531d-5c7a-4684-be98-c8dd9ed3837a",
   "metadata": {},
   "outputs": [
    {
     "data": {
      "text/plain": [
       "0.2612+/-0.001"
      ]
     },
     "execution_count": 25,
     "metadata": {},
     "output_type": "execute_result"
    }
   ],
   "source": [
    "a_err = ufloat(0.2612,0.001)    # + ufloat(0.2257, 0.018)/ufloat(np.array(A1_df['Up'].mean()), 0.01*np.array(A1_df['Up'].mean()))\n",
    "a_err"
   ]
  },
  {
   "cell_type": "markdown",
   "id": "6fe9ef9e-5b74-4892-8512-2e15ede29d47",
   "metadata": {},
   "source": [
    "# Aufgabe 2"
   ]
  },
  {
   "cell_type": "markdown",
   "id": "b8f0910d-c233-4baf-a46b-fbb65c889860",
   "metadata": {},
   "source": [
    "## Datenübersicht"
   ]
  },
  {
   "cell_type": "code",
   "execution_count": 26,
   "id": "25786f31-7c69-4193-9aeb-095230a4c80f",
   "metadata": {},
   "outputs": [
    {
     "data": {
      "text/html": [
       "<div>\n",
       "<style scoped>\n",
       "    .dataframe tbody tr th:only-of-type {\n",
       "        vertical-align: middle;\n",
       "    }\n",
       "\n",
       "    .dataframe tbody tr th {\n",
       "        vertical-align: top;\n",
       "    }\n",
       "\n",
       "    .dataframe thead th {\n",
       "        text-align: right;\n",
       "    }\n",
       "</style>\n",
       "<table border=\"1\" class=\"dataframe\">\n",
       "  <thead>\n",
       "    <tr style=\"text-align: right;\">\n",
       "      <th></th>\n",
       "      <th>P</th>\n",
       "      <th>Ip**</th>\n",
       "      <th>Up</th>\n",
       "    </tr>\n",
       "  </thead>\n",
       "  <tbody>\n",
       "    <tr>\n",
       "      <th>0</th>\n",
       "      <td>4.25</td>\n",
       "      <td>17.73</td>\n",
       "      <td>4.9</td>\n",
       "    </tr>\n",
       "    <tr>\n",
       "      <th>1</th>\n",
       "      <td>7.70</td>\n",
       "      <td>22.33</td>\n",
       "      <td>6.9</td>\n",
       "    </tr>\n",
       "    <tr>\n",
       "      <th>2</th>\n",
       "      <td>9.45</td>\n",
       "      <td>24.54</td>\n",
       "      <td>7.8</td>\n",
       "    </tr>\n",
       "    <tr>\n",
       "      <th>3</th>\n",
       "      <td>11.40</td>\n",
       "      <td>26.81</td>\n",
       "      <td>8.7</td>\n",
       "    </tr>\n",
       "    <tr>\n",
       "      <th>4</th>\n",
       "      <td>0.17</td>\n",
       "      <td>33.80</td>\n",
       "      <td>11.2</td>\n",
       "    </tr>\n",
       "  </tbody>\n",
       "</table>\n",
       "</div>"
      ],
      "text/plain": [
       "       P   Ip**    Up\n",
       "0   4.25  17.73   4.9\n",
       "1   7.70  22.33   6.9\n",
       "2   9.45  24.54   7.8\n",
       "3  11.40  26.81   8.7\n",
       "4   0.17  33.80  11.2"
      ]
     },
     "execution_count": 26,
     "metadata": {},
     "output_type": "execute_result"
    }
   ],
   "source": [
    "A2_df.head()"
   ]
  },
  {
   "cell_type": "markdown",
   "id": "9829ebf6-9775-4bb3-b25e-ec24e8132889",
   "metadata": {
    "tags": []
   },
   "source": [
    "## Visualisierung Phasenverschiebung"
   ]
  },
  {
   "cell_type": "code",
   "execution_count": 27,
   "id": "e32858e9-c28d-4880-8a04-7f6e21008797",
   "metadata": {},
   "outputs": [],
   "source": [
    "A2_Ip = A2_df['Ip**']*1e-3\n",
    "IPA2 = np.ones((len(A2_df['Ip**']),len(A2_df['Ip**'])))\n",
    "for i in range(len(A2_df['Ip**'])):\n",
    "    IPA2[i] = IPA2[i] * A2_Ip[i]\n"
   ]
  },
  {
   "cell_type": "code",
   "execution_count": 28,
   "id": "f37e2cd1-0105-48ea-9e3b-b57544a0f14c",
   "metadata": {},
   "outputs": [
    {
     "data": {
      "text/plain": [
       "array([[0.01773, 0.01773, 0.01773, 0.01773, 0.01773, 0.01773, 0.01773,\n",
       "        0.01773, 0.01773, 0.01773, 0.01773],\n",
       "       [0.02233, 0.02233, 0.02233, 0.02233, 0.02233, 0.02233, 0.02233,\n",
       "        0.02233, 0.02233, 0.02233, 0.02233],\n",
       "       [0.02454, 0.02454, 0.02454, 0.02454, 0.02454, 0.02454, 0.02454,\n",
       "        0.02454, 0.02454, 0.02454, 0.02454],\n",
       "       [0.02681, 0.02681, 0.02681, 0.02681, 0.02681, 0.02681, 0.02681,\n",
       "        0.02681, 0.02681, 0.02681, 0.02681],\n",
       "       [0.0338 , 0.0338 , 0.0338 , 0.0338 , 0.0338 , 0.0338 , 0.0338 ,\n",
       "        0.0338 , 0.0338 , 0.0338 , 0.0338 ],\n",
       "       [0.03768, 0.03768, 0.03768, 0.03768, 0.03768, 0.03768, 0.03768,\n",
       "        0.03768, 0.03768, 0.03768, 0.03768],\n",
       "       [0.0418 , 0.0418 , 0.0418 , 0.0418 , 0.0418 , 0.0418 , 0.0418 ,\n",
       "        0.0418 , 0.0418 , 0.0418 , 0.0418 ],\n",
       "       [0.0637 , 0.0637 , 0.0637 , 0.0637 , 0.0637 , 0.0637 , 0.0637 ,\n",
       "        0.0637 , 0.0637 , 0.0637 , 0.0637 ],\n",
       "       [0.0883 , 0.0883 , 0.0883 , 0.0883 , 0.0883 , 0.0883 , 0.0883 ,\n",
       "        0.0883 , 0.0883 , 0.0883 , 0.0883 ],\n",
       "       [0.1119 , 0.1119 , 0.1119 , 0.1119 , 0.1119 , 0.1119 , 0.1119 ,\n",
       "        0.1119 , 0.1119 , 0.1119 , 0.1119 ],\n",
       "       [0.2292 , 0.2292 , 0.2292 , 0.2292 , 0.2292 , 0.2292 , 0.2292 ,\n",
       "        0.2292 , 0.2292 , 0.2292 , 0.2292 ]])"
      ]
     },
     "execution_count": 28,
     "metadata": {},
     "output_type": "execute_result"
    }
   ],
   "source": [
    "IPA2"
   ]
  },
  {
   "cell_type": "code",
   "execution_count": 29,
   "id": "805ab3d4-4127-4a08-b311-513ffb094286",
   "metadata": {},
   "outputs": [
    {
     "name": "stderr",
     "output_type": "stream",
     "text": [
      "C:\\Users\\benjf\\AppData\\Local\\Temp\\ipykernel_22900\\694375513.py:3: RuntimeWarning: invalid value encountered in arccos\n",
      "  Phi_A2[i] = np.arccos(A2_df['P'][i]/(IPA2[i] * A2_df['Up'][i]))\n"
     ]
    }
   ],
   "source": [
    "Phi_A2= np.ones((len(A2_Ip),len(A2_Ip)))\n",
    "for i in range(len(A2_Ip)):\n",
    "    Phi_A2[i] = np.arccos(A2_df['P'][i]/(IPA2[i] * A2_df['Up'][i]))\n"
   ]
  },
  {
   "cell_type": "code",
   "execution_count": 30,
   "id": "808ed6df-bd4a-45db-9009-13d6bb0f6a9b",
   "metadata": {},
   "outputs": [
    {
     "data": {
      "text/plain": [
       "array([[       nan,        nan,        nan,        nan,        nan,\n",
       "               nan,        nan,        nan,        nan,        nan,\n",
       "               nan],\n",
       "       [       nan,        nan,        nan,        nan,        nan,\n",
       "               nan,        nan,        nan,        nan,        nan,\n",
       "               nan],\n",
       "       [       nan,        nan,        nan,        nan,        nan,\n",
       "               nan,        nan,        nan,        nan,        nan,\n",
       "               nan],\n",
       "       [       nan,        nan,        nan,        nan,        nan,\n",
       "               nan,        nan,        nan,        nan,        nan,\n",
       "               nan],\n",
       "       [1.10507194, 1.10507194, 1.10507194, 1.10507194, 1.10507194,\n",
       "        1.10507194, 1.10507194, 1.10507194, 1.10507194, 1.10507194,\n",
       "        1.10507194],\n",
       "       [1.10703506, 1.10703506, 1.10703506, 1.10703506, 1.10703506,\n",
       "        1.10703506, 1.10703506, 1.10703506, 1.10703506, 1.10703506,\n",
       "        1.10703506],\n",
       "       [1.12757705, 1.12757705, 1.12757705, 1.12757705, 1.12757705,\n",
       "        1.12757705, 1.12757705, 1.12757705, 1.12757705, 1.12757705,\n",
       "        1.12757705],\n",
       "       [1.21092106, 1.21092106, 1.21092106, 1.21092106, 1.21092106,\n",
       "        1.21092106, 1.21092106, 1.21092106, 1.21092106, 1.21092106,\n",
       "        1.21092106],\n",
       "       [1.27454796, 1.27454796, 1.27454796, 1.27454796, 1.27454796,\n",
       "        1.27454796, 1.27454796, 1.27454796, 1.27454796, 1.27454796,\n",
       "        1.27454796],\n",
       "       [1.31933293, 1.31933293, 1.31933293, 1.31933293, 1.31933293,\n",
       "        1.31933293, 1.31933293, 1.31933293, 1.31933293, 1.31933293,\n",
       "        1.31933293],\n",
       "       [1.55621092, 1.55621092, 1.55621092, 1.55621092, 1.55621092,\n",
       "        1.55621092, 1.55621092, 1.55621092, 1.55621092, 1.55621092,\n",
       "        1.55621092]])"
      ]
     },
     "execution_count": 30,
     "metadata": {},
     "output_type": "execute_result"
    }
   ],
   "source": [
    "Phi_A2"
   ]
  },
  {
   "cell_type": "code",
   "execution_count": 31,
   "id": "d4cdf10e-f0fe-40d8-b2aa-09d7c75eef74",
   "metadata": {},
   "outputs": [
    {
     "data": {
      "image/png": "[encoded data removed]",
      "text/plain": [
       "<Figure size 640x480 with 1 Axes>"
      ]
     },
     "metadata": {},
     "output_type": "display_data"
    }
   ],
   "source": [
    "plt.plot(A2_df['P'],Phi_A2[4],'r.',label=r'$\\varphi$ in Abhängigkeit von P')\n",
    "plt.plot(A2_df['P'],Phi_A2[5],'b.',label=r'$\\varphi$ in Abhängigkeit von P')\n",
    "plt.plot(A2_df['P'],Phi_A2[6],'g.',label=r'$\\varphi$ in Abhängigkeit von P')\n",
    "plt.plot(A2_df['P'],Phi_A2[7],'y.',label=r'$\\varphi$ in Abhängigkeit von P')\n",
    "plt.plot(A2_df['P'],Phi_A2[8],'k.',label=r'$\\varphi$ in Abhängigkeit von P')\n",
    "plt.plot(A2_df['P'],Phi_A2[9],'r.',label=r'$\\varphi$ in Abhängigkeit von P')\n",
    "plt.plot(A2_df['P'],Phi_A2[10],'r.',label=r'$\\varphi$ in Abhängigkeit von P')\n",
    "plt.xlabel('Leistung')\n",
    "plt.ylabel('Phasenverchiebung')\n",
    "plt.legend()\n",
    "plt.show()"
   ]
  },
  {
   "cell_type": "markdown",
   "id": "83dd6cb6-2b52-4b2f-aca6-24c38e197a39",
   "metadata": {},
   "source": [
    "# Aufgabe 3"
   ]
  },
  {
   "cell_type": "code",
   "execution_count": 32,
   "id": "b799836c-f93e-4edc-85b5-12a663a9f19e",
   "metadata": {},
   "outputs": [
    {
     "data": {
      "text/html": [
       "<div>\n",
       "<style scoped>\n",
       "    .dataframe tbody tr th:only-of-type {\n",
       "        vertical-align: middle;\n",
       "    }\n",
       "\n",
       "    .dataframe tbody tr th {\n",
       "        vertical-align: top;\n",
       "    }\n",
       "\n",
       "    .dataframe thead th {\n",
       "        text-align: right;\n",
       "    }\n",
       "</style>\n",
       "<table border=\"1\" class=\"dataframe\">\n",
       "  <thead>\n",
       "    <tr style=\"text-align: right;\">\n",
       "      <th></th>\n",
       "      <th>P</th>\n",
       "      <th>Up</th>\n",
       "      <th>Ip**</th>\n",
       "      <th>Us</th>\n",
       "      <th>Is</th>\n",
       "    </tr>\n",
       "  </thead>\n",
       "  <tbody>\n",
       "    <tr>\n",
       "      <th>0</th>\n",
       "      <td>-0.15</td>\n",
       "      <td>1.6</td>\n",
       "      <td>8.00</td>\n",
       "      <td>0.0</td>\n",
       "      <td>5</td>\n",
       "    </tr>\n",
       "    <tr>\n",
       "      <th>1</th>\n",
       "      <td>22.40</td>\n",
       "      <td>9.0</td>\n",
       "      <td>34.95</td>\n",
       "      <td>2.1</td>\n",
       "      <td>41</td>\n",
       "    </tr>\n",
       "    <tr>\n",
       "      <th>2</th>\n",
       "      <td>31.60</td>\n",
       "      <td>10.8</td>\n",
       "      <td>41.10</td>\n",
       "      <td>2.6</td>\n",
       "      <td>50</td>\n",
       "    </tr>\n",
       "    <tr>\n",
       "      <th>3</th>\n",
       "      <td>42.50</td>\n",
       "      <td>12.2</td>\n",
       "      <td>46.30</td>\n",
       "      <td>2.9</td>\n",
       "      <td>56</td>\n",
       "    </tr>\n",
       "    <tr>\n",
       "      <th>4</th>\n",
       "      <td>0.47</td>\n",
       "      <td>13.5</td>\n",
       "      <td>51.40</td>\n",
       "      <td>3.3</td>\n",
       "      <td>62</td>\n",
       "    </tr>\n",
       "  </tbody>\n",
       "</table>\n",
       "</div>"
      ],
      "text/plain": [
       "       P    Up   Ip**   Us  Is\n",
       "0  -0.15   1.6   8.00  0.0   5\n",
       "1  22.40   9.0  34.95  2.1  41\n",
       "2  31.60  10.8  41.10  2.6  50\n",
       "3  42.50  12.2  46.30  2.9  56\n",
       "4   0.47  13.5  51.40  3.3  62"
      ]
     },
     "execution_count": 32,
     "metadata": {},
     "output_type": "execute_result"
    }
   ],
   "source": [
    "A3_df.head()"
   ]
  },
  {
   "cell_type": "code",
   "execution_count": 33,
   "id": "310fcafa-c333-4d54-9ef8-76c6e9500856",
   "metadata": {},
   "outputs": [],
   "source": [
    "Pp = A3_df['P']\n",
    "Up = A3_df['Up']\n",
    "Ip_st = A3_df['Ip**']*1e-3\n",
    "Us = A3_df['Us']\n",
    "Is = A3_df['Is']*1e-3"
   ]
  },
  {
   "cell_type": "markdown",
   "id": "b87208a1-ceee-4400-8231-82b8642b28de",
   "metadata": {},
   "source": [
    "## Berechnung der Phasenverschiebung \n",
    "$$ P_{p} = U_{p} \\cdot I_{p}^{**} \\cos(\\varphi) $$"
   ]
  },
  {
   "cell_type": "code",
   "execution_count": 34,
   "id": "2cfe913b-84a5-4251-b743-9650db737409",
   "metadata": {},
   "outputs": [
    {
     "data": {
      "text/plain": [
       "array([-11.71875   ,  71.21284375,  71.19041182,  75.23988245,\n",
       "         0.67733103,   0.64116418,   0.59921533,   0.57951445,\n",
       "         0.56132954,   0.52547273,   0.41936714])"
      ]
     },
     "execution_count": 34,
     "metadata": {},
     "output_type": "execute_result"
    }
   ],
   "source": [
    "cos_phi = np.array(Pp/(Up*Ip_st))\n",
    "cos_phi"
   ]
  },
  {
   "cell_type": "code",
   "execution_count": 35,
   "id": "76d1443f-d49d-41c8-93d4-9b97d9dd0aff",
   "metadata": {},
   "outputs": [
    {
     "name": "stderr",
     "output_type": "stream",
     "text": [
      "C:\\Users\\benjf\\AppData\\Local\\Temp\\ipykernel_22900\\3726694062.py:1: RuntimeWarning: invalid value encountered in arccos\n",
      "  phi = np.arccos(cos_phi)\n"
     ]
    },
    {
     "data": {
      "text/plain": [
       "array([       nan,        nan,        nan,        nan, 0.82666769,\n",
       "       0.87478198, 0.9282757 , 0.95266356, 0.97480488, 1.01752569,\n",
       "       1.13804825])"
      ]
     },
     "execution_count": 35,
     "metadata": {},
     "output_type": "execute_result"
    }
   ],
   "source": [
    "phi = np.arccos(cos_phi)\n",
    "phi"
   ]
  },
  {
   "cell_type": "code",
   "execution_count": 36,
   "id": "2127073e-a93a-4b0f-9813-51d00ed54551",
   "metadata": {},
   "outputs": [
    {
     "name": "stdout",
     "output_type": "stream",
     "text": [
      "7\n"
     ]
    }
   ],
   "source": [
    "phi_v2 = phi[4:]\n",
    "print(len(phi_v2))"
   ]
  },
  {
   "cell_type": "code",
   "execution_count": null,
   "id": "1ad13833-f30a-4e37-b2ce-d85ae18642a2",
   "metadata": {},
   "outputs": [
    {
     "data": {
      "text/plain": [
       "array([0.062, 0.078, 0.088, 0.095, 0.101, 0.111, 0.141])"
      ]
     },
     "execution_count": 37,
     "metadata": {},
     "output_type": "execute_result"
    }
   ],
   "source": [
    "Pp_v2 = np.array(Pp[4:])\n",
    "Up_v2 = np.array(Up[4:])\n",
    "Ip_st_v2 =np.array(Ip_st[4:])\n",
    "Us_v2 = np.array(Us[4:])\n",
    "Is_v2 = np.array(Is[4:])\n",
    "Is_v2"
   ]
  },
  {
   "cell_type": "markdown",
   "id": "4b763ec2-bdfc-4872-99cf-688d9217f5cf",
   "metadata": {},
   "source": [
    "## Berechnung der Sekundärleistung\n",
    "$$ P_{s} =  U_{s} \\cdot I_{s}$$"
   ]
  },
  {
   "cell_type": "code",
   "execution_count": 38,
   "id": "fa7f01be-247a-4aa1-b7e2-8712691b2b09",
   "metadata": {},
   "outputs": [
    {
     "data": {
      "text/plain": [
       "array([0.2046, 0.3198, 0.4136, 0.475 , 0.5454, 0.6549, 1.0575])"
      ]
     },
     "execution_count": 38,
     "metadata": {},
     "output_type": "execute_result"
    }
   ],
   "source": [
    "Ps_v2 = Us_v2 * Is_v2\n",
    "Ps_v2"
   ]
  },
  {
   "cell_type": "markdown",
   "id": "95d97b4f-41c8-4b47-8975-850d4bde95be",
   "metadata": {},
   "source": [
    "## Wirkungsgrad\n",
    " $$ \\eta = \\frac{P_{s}}{P_{p}} $$"
   ]
  },
  {
   "cell_type": "code",
   "execution_count": 39,
   "id": "40a3d06a-7a5d-4b76-b2ee-daeaa8b72d87",
   "metadata": {},
   "outputs": [
    {
     "data": {
      "text/plain": [
       "array([0.43531915, 0.4491573 , 0.46212291, 0.46116505, 0.47633188,\n",
       "       0.4869145 , 0.48068182])"
      ]
     },
     "execution_count": 39,
     "metadata": {},
     "output_type": "execute_result"
    }
   ],
   "source": [
    "wg_v2 = Ps_v2 / Pp_v2\n",
    "wg_v2"
   ]
  },
  {
   "cell_type": "code",
   "execution_count": 40,
   "id": "e7cdb92f-1944-4a19-890e-caee3f78dff4",
   "metadata": {},
   "outputs": [],
   "source": [
    "u_Ps_v2 = 0.01 * Ps_v2\n",
    "u_Pp_v2 = 0.01 * Pp_v2"
   ]
  },
  {
   "cell_type": "code",
   "execution_count": 41,
   "id": "8945eb6c-25a0-4810-a18b-c830667f70a1",
   "metadata": {},
   "outputs": [],
   "source": [
    "Ps_err = unp.uarray(Ps_v2, u_Ps_v2)\n",
    "Pp_err = unp.uarray(Pp_v2, u_Pp_v2)"
   ]
  },
  {
   "cell_type": "code",
   "execution_count": 42,
   "id": "675c2d4a-e067-41d3-b073-35e1426f9099",
   "metadata": {},
   "outputs": [
    {
     "data": {
      "text/plain": [
       "array([0.4353191489361702+/-0.006156342443862452,\n",
       "       0.4491573033707865+/-0.006352043500658929,\n",
       "       0.4621229050279329+/-0.006535404797737565,\n",
       "       0.4611650485436893+/-0.006521858661429322,\n",
       "       0.4763318777292577+/-0.006736350016753591,\n",
       "       0.486914498141264+/-0.006886010869874647,\n",
       "       0.4806818181818182+/-0.006797867464588855], dtype=object)"
      ]
     },
     "execution_count": 42,
     "metadata": {},
     "output_type": "execute_result"
    }
   ],
   "source": [
    "Ps_err/Pp_err"
   ]
  },
  {
   "cell_type": "code",
   "execution_count": 43,
   "id": "800e7f91-ffd9-45d2-880b-a8e42b1e132c",
   "metadata": {},
   "outputs": [
    {
     "data": {
      "text/plain": [
       "np.float64(0.006569411107843623)"
      ]
     },
     "execution_count": 43,
     "metadata": {},
     "output_type": "execute_result"
    }
   ],
   "source": [
    "u_wg =  np.sqrt(1/Pp_v2**2 *u_Ps_v2**2+ Ps_v2**2/Pp_v2**4*u_Pp_v2**2)\n",
    "u_wg.mean()"
   ]
  },
  {
   "cell_type": "markdown",
   "id": "101cb916-334b-41e1-b32f-4ecb7d69290e",
   "metadata": {},
   "source": [
    "## Übertragungsfunktion"
   ]
  },
  {
   "cell_type": "code",
   "execution_count": 44,
   "id": "088d3c84-9591-447b-8484-dbf228840e1a",
   "metadata": {},
   "outputs": [
    {
     "data": {
      "text/plain": [
       "np.float64(0.2460232163195202)"
      ]
     },
     "execution_count": 44,
     "metadata": {},
     "output_type": "execute_result"
    }
   ],
   "source": [
    "ubb = Us_v2/Up_v2\n",
    "ubb.mean()"
   ]
  },
  {
   "cell_type": "markdown",
   "id": "72512bb8-22c0-48db-a5dd-8e5e67dd6216",
   "metadata": {},
   "source": [
    "# Aufgabe 4"
   ]
  },
  {
   "cell_type": "markdown",
   "id": "4efe594c-3d1c-4262-a00c-050608bd76c5",
   "metadata": {},
   "source": [
    "## Primärstrom in Abhängigkeit vom Sekundärstrom"
   ]
  },
  {
   "cell_type": "code",
   "execution_count": 45,
   "id": "60d05f55-0d09-4236-9015-b901f85cbda7",
   "metadata": {},
   "outputs": [
    {
     "data": {
      "text/plain": [
       "Text(0.5, 0, 'Sekundärstrom')"
      ]
     },
     "execution_count": 45,
     "metadata": {},
     "output_type": "execute_result"
    }
   ],
   "source": [
    "plt.errorbar(Is_v2, Ip_st_v2,yerr = Ip_st_v2*0.01,fmt= '.')\n",
    "plt.ylabel('Primärstrom')\n",
    "plt.xlabel('Sekundärstrom')"
   ]
  },
  {
   "cell_type": "markdown",
   "id": "61f5c9ff-4c1f-4166-93aa-d54974fba5fe",
   "metadata": {},
   "source": [
    "## Wirkungsgrad in Abhängigkeit vom Sekundärstrom"
   ]
  },
  {
   "cell_type": "code",
   "execution_count": 46,
   "id": "f5961414-d2a9-4d1a-9f3f-81d6c8f790d3",
   "metadata": {},
   "outputs": [
    {
     "name": "stdout",
     "output_type": "stream",
     "text": [
      "[0.43531915 0.4491573  0.46212291 0.46116505 0.47633188 0.4869145\n",
      " 0.48068182]\n"
     ]
    }
   ],
   "source": [
    "print(wg_v2)"
   ]
  },
  {
   "cell_type": "code",
   "execution_count": null,
   "id": "37734adb-725f-458d-91f1-e472a39d5d9b",
   "metadata": {},
   "outputs": [],
   "source": []
  },
  {
   "cell_type": "code",
   "execution_count": 47,
   "id": "04461670-145f-494f-bffd-2968efe6b406",
   "metadata": {},
   "outputs": [
    {
     "data": {
      "image/png": "[encoded data removed]",
      "text/plain": [
       "<Figure size 640x480 with 1 Axes>"
      ]
     },
     "metadata": {},
     "output_type": "display_data"
    }
   ],
   "source": [
    "plt.errorbar(Is_v2, wg_v2, fmt='.',yerr= u_wg)\n",
    "plt.ylabel(r'Wirkleistung $\\eta$')\n",
    "plt.xlabel(r'Sekundärstrom $U_{s}$')\n",
    "plt.show()"
   ]
  },
  {
   "cell_type": "markdown",
   "id": "c9104042-ec8c-49f4-98e1-1e2aecfd58a7",
   "metadata": {},
   "source": [
    "### Regression\n",
    "$$ y = \\frac{S}{1+e^{a \\cdot x -b}} $$"
   ]
  },
  {
   "cell_type": "code",
   "execution_count": 48,
   "id": "a03c9b31-5d6f-4b66-ae56-ffa832a60c6d",
   "metadata": {},
   "outputs": [
    {
     "name": "stdout",
     "output_type": "stream",
     "text": [
      "-100.70930068453012 8.749611400719393\n"
     ]
    }
   ],
   "source": [
    "S_err = ufloat(0.49, 0.01*0.49)\n",
    "S = 0.49\n",
    "\n",
    "pop,cov = curve_fit(logist,Is_v2,wg_v2,sigma= u_wg)\n",
    "a,b,s,d = pop#\n",
    "da,db,ds,dd= np.sqrt(np.diag(cov))#\n",
    "print(a,b)"
   ]
  },
  {
   "cell_type": "code",
   "execution_count": 49,
   "id": "0064874d-0e7b-4f1a-a75a-fcdd21dda963",
   "metadata": {},
   "outputs": [],
   "source": [
    "xx = np.arange(0.05,0.166,(0.166-0.05)/30)\n",
    "yy = logist(xx,a,b,s,d)"
   ]
  },
  {
   "cell_type": "code",
   "execution_count": 50,
   "id": "ca58dd92-bfcd-4925-b7df-22a44522e39b",
   "metadata": {},
   "outputs": [
    {
     "data": {
      "image/png": "[encoded data removed]",
      "text/plain": [
       "<Figure size 640x480 with 1 Axes>"
      ]
     },
     "metadata": {},
     "output_type": "display_data"
    }
   ],
   "source": [
    "plt.errorbar(Is_v2, wg_v2, fmt='.',yerr= u_wg,label='Messpunkte')\n",
    "plt.plot(xx,yy,label=r'Fit: $\\eta = \\frac{S}{1+e^{a\\cdot U_s + b}}+D$')\n",
    "plt.ylabel(r'Wirkleistung $\\eta$')\n",
    "plt.legend(loc=2)\n",
    "plt.xlabel(r'Sekundärstrom $U_{s}$')\n",
    "plt.show()"
   ]
  },
  {
   "cell_type": "markdown",
   "id": "e407aa49-8be5-46ca-ab3d-da9129039d52",
   "metadata": {},
   "source": [
    "## Phasenverschiebung in Abhängigkeit vom Sekundärstrom"
   ]
  },
  {
   "cell_type": "code",
   "execution_count": 51,
   "id": "7bbf5b27-a5af-4eba-80e7-a64a9bac7ee7",
   "metadata": {},
   "outputs": [
    {
     "data": {
      "image/png": "[encoded data removed]",
      "text/plain": [
       "<Figure size 640x480 with 1 Axes>"
      ]
     },
     "metadata": {},
     "output_type": "display_data"
    }
   ],
   "source": [
    "plt.plot(Is_v2, phi_v2, '.')\n",
    "plt.ylabel('Phasenverschiebung')\n",
    "plt.xlabel('Sekundärstrom')\n",
    "plt.show()"
   ]
  },
  {
   "cell_type": "markdown",
   "id": "cc3f2f0e-4317-4e78-b185-6c6e281711c5",
   "metadata": {},
   "source": [
    "# New: Aufgabe 3 Phasenverschiebung:"
   ]
  },
  {
   "cell_type": "code",
   "execution_count": 52,
   "id": "799b5679-5d87-4c13-86cb-383af69b821d",
   "metadata": {},
   "outputs": [
    {
     "data": {
      "text/html": [
       "<div>\n",
       "<style scoped>\n",
       "    .dataframe tbody tr th:only-of-type {\n",
       "        vertical-align: middle;\n",
       "    }\n",
       "\n",
       "    .dataframe tbody tr th {\n",
       "        vertical-align: top;\n",
       "    }\n",
       "\n",
       "    .dataframe thead th {\n",
       "        text-align: right;\n",
       "    }\n",
       "</style>\n",
       "<table border=\"1\" class=\"dataframe\">\n",
       "  <thead>\n",
       "    <tr style=\"text-align: right;\">\n",
       "      <th></th>\n",
       "      <th>P</th>\n",
       "      <th>Up</th>\n",
       "      <th>Ip**</th>\n",
       "      <th>Us</th>\n",
       "      <th>Is</th>\n",
       "    </tr>\n",
       "  </thead>\n",
       "  <tbody>\n",
       "    <tr>\n",
       "      <th>0</th>\n",
       "      <td>-0.15</td>\n",
       "      <td>1.6</td>\n",
       "      <td>8.00</td>\n",
       "      <td>0.0</td>\n",
       "      <td>5</td>\n",
       "    </tr>\n",
       "    <tr>\n",
       "      <th>1</th>\n",
       "      <td>22.40</td>\n",
       "      <td>9.0</td>\n",
       "      <td>34.95</td>\n",
       "      <td>2.1</td>\n",
       "      <td>41</td>\n",
       "    </tr>\n",
       "    <tr>\n",
       "      <th>2</th>\n",
       "      <td>31.60</td>\n",
       "      <td>10.8</td>\n",
       "      <td>41.10</td>\n",
       "      <td>2.6</td>\n",
       "      <td>50</td>\n",
       "    </tr>\n",
       "    <tr>\n",
       "      <th>3</th>\n",
       "      <td>42.50</td>\n",
       "      <td>12.2</td>\n",
       "      <td>46.30</td>\n",
       "      <td>2.9</td>\n",
       "      <td>56</td>\n",
       "    </tr>\n",
       "    <tr>\n",
       "      <th>4</th>\n",
       "      <td>0.47</td>\n",
       "      <td>13.5</td>\n",
       "      <td>51.40</td>\n",
       "      <td>3.3</td>\n",
       "      <td>62</td>\n",
       "    </tr>\n",
       "  </tbody>\n",
       "</table>\n",
       "</div>"
      ],
      "text/plain": [
       "       P    Up   Ip**   Us  Is\n",
       "0  -0.15   1.6   8.00  0.0   5\n",
       "1  22.40   9.0  34.95  2.1  41\n",
       "2  31.60  10.8  41.10  2.6  50\n",
       "3  42.50  12.2  46.30  2.9  56\n",
       "4   0.47  13.5  51.40  3.3  62"
      ]
     },
     "execution_count": 52,
     "metadata": {},
     "output_type": "execute_result"
    }
   ],
   "source": [
    "A3_df.head()"
   ]
  },
  {
   "cell_type": "markdown",
   "id": "cfea408d-06b8-436c-9016-b837bf8f5cac",
   "metadata": {},
   "source": [
    "## Berechnung der Phasenverschiebung \n",
    "$$ P_{p} = U_{p} \\cdot I_{p}^{**} \\cos(\\varphi) $$"
   ]
  },
  {
   "cell_type": "code",
   "execution_count": 53,
   "id": "ca827cc2-20a0-43ed-ba66-ff807afdb8d9",
   "metadata": {},
   "outputs": [
    {
     "name": "stdout",
     "output_type": "stream",
     "text": [
      "11\n"
     ]
    }
   ],
   "source": [
    "up = np.array(A3_df['Up'])\n",
    "print(len(up))\n",
    "Up_arr =  np.ones((len(up),len(up)))"
   ]
  },
  {
   "cell_type": "code",
   "execution_count": 54,
   "id": "0b93315d-8828-455a-b0ac-2d4f5e4dfa9d",
   "metadata": {},
   "outputs": [],
   "source": [
    "for i in range(11):\n",
    "    Up_arr[i] = Up_arr[i] * up[i]"
   ]
  },
  {
   "cell_type": "code",
   "execution_count": 55,
   "id": "aa8d436c-f312-4837-aef9-5aabeb6660b6",
   "metadata": {},
   "outputs": [
    {
     "data": {
      "text/plain": [
       "array([1.6, 1.6, 1.6, 1.6, 1.6, 1.6, 1.6, 1.6, 1.6, 1.6, 1.6])"
      ]
     },
     "execution_count": 55,
     "metadata": {},
     "output_type": "execute_result"
    }
   ],
   "source": [
    "Up_arr[0]"
   ]
  },
  {
   "cell_type": "code",
   "execution_count": 56,
   "id": "17402e7d-02c8-47d4-b4d3-d0bf449f82fb",
   "metadata": {},
   "outputs": [],
   "source": [
    "Pp = np.array(A3_df['P'])\n",
    "Ip_st = np.array(A3_df['Ip**']*1e-3)\n",
    "Us = np.array(A3_df['Us'])\n",
    "Is = np.array(A3_df['Is']*1e-3)"
   ]
  },
  {
   "cell_type": "code",
   "execution_count": 57,
   "id": "c60bf003-1d74-48c4-ae9c-d5d0ba52b1ec",
   "metadata": {},
   "outputs": [],
   "source": [
    "cos_phi_arr = np.array(Pp/(Up_arr*Ip_st))\n",
    "# cos_phi_arr"
   ]
  },
  {
   "cell_type": "code",
   "execution_count": 58,
   "id": "f17043d4-e6a7-40f1-a31b-516d6c27b152",
   "metadata": {},
   "outputs": [
    {
     "name": "stderr",
     "output_type": "stream",
     "text": [
      "C:\\Users\\benjf\\AppData\\Local\\Temp\\ipykernel_22900\\2452064656.py:1: RuntimeWarning: invalid value encountered in arccos\n",
      "  phi_arr = np.arccos(cos_phi_arr)\n"
     ]
    }
   ],
   "source": [
    "phi_arr = np.arccos(cos_phi_arr)\n",
    "# phi_arr"
   ]
  },
  {
   "cell_type": "markdown",
   "id": "52db8b09-e98b-4d18-9a56-36a8019622b3",
   "metadata": {},
   "source": [
    "## Plot: Phasenverschiebung in Abhängigkeit vom Sekundärstrom"
   ]
  },
  {
   "cell_type": "code",
   "execution_count": null,
   "id": "184ce8ca-3736-4e3d-9e0b-c32984953ece",
   "metadata": {},
   "outputs": [
    {
     "name": "stdout",
     "output_type": "stream",
     "text": [
      "-100.70930068453012 8.749611400719393 0.05235347175219003 0.43223248804799724\n"
     ]
    }
   ],
   "source": [
    "def reg3(x,a,b,c):\n",
    "    regg = 1/(a*x+b)+c\n",
    "    return regg\n",
    "\n",
    "# pop, cov = curve_fit(reg3, np.array(Ip_st), np.array(phi_arr[10]),sigma = np.array(up[10]))\n",
    "a,b,c,d = pop\n",
    "print(a,b,c,d)"
   ]
  },
  {
   "cell_type": "code",
   "execution_count": 62,
   "id": "c307bcb5-46d1-4a4c-8e8b-0e089c2341c0",
   "metadata": {},
   "outputs": [
    {
     "data": {
      "image/png": "[encoded data removed]",
      "text/plain": [
       "<Figure size 640x480 with 1 Axes>"
      ]
     },
     "metadata": {},
     "output_type": "display_data"
    }
   ],
   "source": [
    "# plt.plot(Ip_st, phi_arr[0], 'k',label='Plot 1')\n",
    "# #plt.plot(Ip_st, phi_arr[0], 'ro')\n",
    "# plt.plot(Ip_st, phi_arr[1], 'b',label='Plot 2')\n",
    "# plt.plot(Ip_st, phi_arr[1], 'ro')\n",
    "plt.plot(Ip_st, phi_arr[2], 'r',label=fr'$U_p={up[2]}$')\n",
    "plt.plot(Ip_st, phi_arr[2], 'bo')\n",
    "plt.plot(Ip_st, phi_arr[3], 'g',label=fr'$U_p={up[3]}$')\n",
    "plt.plot(Ip_st, phi_arr[3], 'ro')\n",
    "plt.plot(Ip_st, phi_arr[4], 'y',label=fr'$U_p={up[4]}$')\n",
    "plt.plot(Ip_st, phi_arr[4], 'ro')\n",
    "plt.plot(Ip_st, phi_arr[5], 'k',label=fr'$U_p={up[5]}$')\n",
    "plt.plot(Ip_st, phi_arr[5], 'ro')\n",
    "plt.plot(Ip_st, phi_arr[6], 'b',label=fr'$U_p={up[6]}$')\n",
    "plt.plot(Ip_st, phi_arr[6], 'ro')\n",
    "plt.plot(Ip_st, phi_arr[7], 'r',label=fr'$U_p={up[7]}$')\n",
    "plt.plot(Ip_st, phi_arr[7], 'bo')\n",
    "plt.plot(Ip_st, phi_arr[8], 'g',label=fr'$U_p={up[8]}$')\n",
    "plt.plot(Ip_st, phi_arr[8], 'ro')\n",
    "plt.plot(Ip_st, phi_arr[9], 'y',label=fr'$U_p={up[9]}$')\n",
    "plt.plot(Ip_st, phi_arr[9], 'ro')\n",
    "plt.plot(Ip_st, phi_arr[10], 'k',label=fr'$U_p={up[10]}$')\n",
    "plt.plot(Ip_st, phi_arr[10], 'ro')\n",
    "plt.ylabel('Phasenverschiebung')\n",
    "plt.xlabel('Sekundärstrom')\n",
    "plt.legend()\n",
    "plt.show()"
   ]
  },
  {
   "cell_type": "markdown",
   "id": "21a060b6-3b01-40c7-b1e4-f2f6c93c85b4",
   "metadata": {},
   "source": [
    "Unter der Annhame, dass die Einzelwerte von $U_{p}$ konstant in Bezug auf die restliche Messung sind. Dies führt zu der obigen Grafik. Die ersten 4-5 Plots sind zu vernachlässigen, aufgrund der geringeren Datenpunktmenge und des Verlaufs. Das Fehlen von Datenpunkten ist damit zu erklären dass der Term  \n",
    "$$ \\frac{P_{p}}{ U_{p} \\cdot I_{p}^{**}}$$ ausßerhalb des Definitionsbereich $[-1,1]$ vom $\\arccos$ liegen und somit nicht berechnet werden können.  \n",
    "Die Annahme ist an sich nicht korrekt, weil wir während der Messung die Spannung nicht konstant gehalten haben, sondern verändert haben und den Verbraucher konstant gehalten haben. Das heißt, wir haben eine Phasenverschiebung unter konstatem Verbraucher und konstanter Spannung. Die Messung müsste nochmal wiederholt werden, um die Verläufe in der obigen Grafik zu validieren."
   ]
  },
  {
   "cell_type": "code",
   "execution_count": null,
   "id": "f4efb006-ea32-4c94-8538-88533170fd70",
   "metadata": {},
   "outputs": [],
   "source": []
  }
 ],
 "metadata": {
  "kernelspec": {
   "display_name": "projects",
   "language": "python",
   "name": "python3"
  },
  "language_info": {
   "codemirror_mode": {
    "name": "ipython",
    "version": 3
   },
   "file_extension": ".py",
   "mimetype": "text/x-python",
   "name": "python",
   "nbconvert_exporter": "python",
   "pygments_lexer": "ipython3",
   "version": "3.12.8"
  },
  "toc-showmarkdowntxt": true
 },
 "nbformat": 4,
 "nbformat_minor": 5
}
