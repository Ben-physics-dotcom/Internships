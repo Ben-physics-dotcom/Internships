{
 "cells": [
  {
   "cell_type": "markdown",
   "id": "9181dd88",
   "metadata": {},
   "source": [
    "# Importe"
   ]
  },
  {
   "cell_type": "code",
   "execution_count": 1,
   "id": "f770280f",
   "metadata": {},
   "outputs": [],
   "source": [
    "import matplotlib.pyplot as plt\n",
    "import pandas as pd\n",
    "import numpy as np\n",
    "from scipy.optimize import curve_fit\n",
    "\n",
    "plt.style.use('classic')\n",
    "plt.rc('text',usetex=True) \n",
    "#plt.rc ('axes', labelsize = 20) # Schriftgröße der x- und y-Beschriftungen"
   ]
  },
  {
   "cell_type": "markdown",
   "id": "3dd72c90",
   "metadata": {},
   "source": [
    "# Selbstdefinierte Funktionen"
   ]
  },
  {
   "cell_type": "code",
   "execution_count": 2,
   "id": "43c47d71",
   "metadata": {},
   "outputs": [],
   "source": [
    "# lineare Regression\n",
    "def reg(x,a,b):\n",
    "    regg = a * x + b\n",
    "    return regg\n",
    "\n",
    "# U_ss in U_s umrechnen\n",
    "def us(x):\n",
    "    f = x/(2)\n",
    "    return f\n",
    "\n",
    "def Z_1(U1,U2,R):            # Gleichung (21), Versuchsskript\n",
    "    k = R * (U1-U2)/U2\n",
    "    return k\n",
    "\n",
    "def Z_2(x,a,b):\n",
    "    k = np.sqrt((x*a)**2 + b**2)\n",
    "    return k\n",
    "\n",
    "def reg2(x,a,b):   # siehe Louis Protokoll.\n",
    "    f = 1/(a*x+b)\n",
    "    return f"
   ]
  },
  {
   "cell_type": "code",
   "execution_count": null,
   "id": "9cfeeb1d",
   "metadata": {},
   "outputs": [],
   "source": []
  },
  {
   "cell_type": "markdown",
   "id": "5b60b315",
   "metadata": {},
   "source": [
    "# Daten laden"
   ]
  },
  {
   "cell_type": "code",
   "execution_count": 1,
   "id": "d1b39e3f",
   "metadata": {},
   "outputs": [],
   "source": [
    "# help(pd.DataFrame)"
   ]
  },
  {
   "cell_type": "code",
   "execution_count": 3,
   "id": "e4af8358",
   "metadata": {},
   "outputs": [],
   "source": [
    "A1_df = pd.read_csv('A1.txt',sep='\\t')\n",
    "A3_df = pd.read_csv('A3_Eigene_Werte.txt',sep='\\t')\n",
    "A5_df = pd.read_csv('A5_Eigene_Werte.txt',sep='\\t')\n",
    "A2_df = pd.read_csv('A2.txt',sep='\\t')\n",
    "A9_df = pd.read_csv('A9.txt',sep='\\t')\n",
    "A10_df = pd.read_csv('A10.txt',sep='\\t')\n",
    "A12_df = pd.read_csv('A12.txt',sep='\\t')"
   ]
  },
  {
   "cell_type": "code",
   "execution_count": 4,
   "id": "5fa1b77e",
   "metadata": {},
   "outputs": [
    {
     "name": "stdout",
     "output_type": "stream",
     "text": [
      "Daten A1\n"
     ]
    },
    {
     "data": {
      "text/html": [
       "<div>\n",
       "<style scoped>\n",
       "    .dataframe tbody tr th:only-of-type {\n",
       "        vertical-align: middle;\n",
       "    }\n",
       "\n",
       "    .dataframe tbody tr th {\n",
       "        vertical-align: top;\n",
       "    }\n",
       "\n",
       "    .dataframe thead th {\n",
       "        text-align: right;\n",
       "    }\n",
       "</style>\n",
       "<table border=\"1\" class=\"dataframe\">\n",
       "  <thead>\n",
       "    <tr style=\"text-align: right;\">\n",
       "      <th></th>\n",
       "      <th>Signal</th>\n",
       "      <th>Frequenz(Hz)</th>\n",
       "      <th>U_ss</th>\n",
       "      <th>U_eff</th>\n",
       "    </tr>\n",
       "  </thead>\n",
       "  <tbody>\n",
       "    <tr>\n",
       "      <th>0</th>\n",
       "      <td>sinus</td>\n",
       "      <td>1422.0</td>\n",
       "      <td>22.0</td>\n",
       "      <td>NaN</td>\n",
       "    </tr>\n",
       "    <tr>\n",
       "      <th>1</th>\n",
       "      <td>sinus</td>\n",
       "      <td>538.5</td>\n",
       "      <td>23.0</td>\n",
       "      <td>NaN</td>\n",
       "    </tr>\n",
       "    <tr>\n",
       "      <th>2</th>\n",
       "      <td>Dreieck</td>\n",
       "      <td>16596.0</td>\n",
       "      <td>23.0</td>\n",
       "      <td>NaN</td>\n",
       "    </tr>\n",
       "    <tr>\n",
       "      <th>3</th>\n",
       "      <td>Rechteck</td>\n",
       "      <td>16597.0</td>\n",
       "      <td>23.0</td>\n",
       "      <td>NaN</td>\n",
       "    </tr>\n",
       "    <tr>\n",
       "      <th>4</th>\n",
       "      <td>sinus</td>\n",
       "      <td>1430.0</td>\n",
       "      <td>NaN</td>\n",
       "      <td>7.42</td>\n",
       "    </tr>\n",
       "  </tbody>\n",
       "</table>\n",
       "</div>"
      ],
      "text/plain": [
       "     Signal  Frequenz(Hz)  U_ss  U_eff\n",
       "0     sinus        1422.0  22.0    NaN\n",
       "1     sinus         538.5  23.0    NaN\n",
       "2   Dreieck       16596.0  23.0    NaN\n",
       "3  Rechteck       16597.0  23.0    NaN\n",
       "4     sinus        1430.0   NaN   7.42"
      ]
     },
     "execution_count": 4,
     "metadata": {},
     "output_type": "execute_result"
    }
   ],
   "source": [
    "print('Daten A1')\n",
    "A1_df.head()\n"
   ]
  },
  {
   "cell_type": "code",
   "execution_count": 5,
   "id": "6e171765",
   "metadata": {},
   "outputs": [
    {
     "name": "stdout",
     "output_type": "stream",
     "text": [
      "\n",
      " Daten A2\n"
     ]
    },
    {
     "data": {
      "text/html": [
       "<div>\n",
       "<style scoped>\n",
       "    .dataframe tbody tr th:only-of-type {\n",
       "        vertical-align: middle;\n",
       "    }\n",
       "\n",
       "    .dataframe tbody tr th {\n",
       "        vertical-align: top;\n",
       "    }\n",
       "\n",
       "    .dataframe thead th {\n",
       "        text-align: right;\n",
       "    }\n",
       "</style>\n",
       "<table border=\"1\" class=\"dataframe\">\n",
       "  <thead>\n",
       "    <tr style=\"text-align: right;\">\n",
       "      <th></th>\n",
       "      <th>Kapazität</th>\n",
       "      <th>Widerstand u_k</th>\n",
       "      <th>u_w</th>\n",
       "    </tr>\n",
       "  </thead>\n",
       "  <tbody>\n",
       "    <tr>\n",
       "      <th>98.5</th>\n",
       "      <td>149.9</td>\n",
       "      <td>2.955</td>\n",
       "      <td>11.99</td>\n",
       "    </tr>\n",
       "  </tbody>\n",
       "</table>\n",
       "</div>"
      ],
      "text/plain": [
       "      Kapazität  Widerstand u_k    u_w\n",
       "98.5      149.9           2.955  11.99"
      ]
     },
     "execution_count": 5,
     "metadata": {},
     "output_type": "execute_result"
    }
   ],
   "source": [
    "print('\\n Daten A2')\n",
    "A2_df.head()\n"
   ]
  },
  {
   "cell_type": "code",
   "execution_count": 6,
   "id": "99f35eb9",
   "metadata": {},
   "outputs": [
    {
     "name": "stdout",
     "output_type": "stream",
     "text": [
      "\n",
      " Daten A3\n"
     ]
    },
    {
     "data": {
      "text/html": [
       "<div>\n",
       "<style scoped>\n",
       "    .dataframe tbody tr th:only-of-type {\n",
       "        vertical-align: middle;\n",
       "    }\n",
       "\n",
       "    .dataframe tbody tr th {\n",
       "        vertical-align: top;\n",
       "    }\n",
       "\n",
       "    .dataframe thead th {\n",
       "        text-align: right;\n",
       "    }\n",
       "</style>\n",
       "<table border=\"1\" class=\"dataframe\">\n",
       "  <thead>\n",
       "    <tr style=\"text-align: right;\">\n",
       "      <th></th>\n",
       "      <th>Nr</th>\n",
       "      <th>Frequenz</th>\n",
       "      <th>U_ss_K1</th>\n",
       "      <th>U_ss_K2</th>\n",
       "    </tr>\n",
       "  </thead>\n",
       "  <tbody>\n",
       "    <tr>\n",
       "      <th>0</th>\n",
       "      <td>1</td>\n",
       "      <td>1053</td>\n",
       "      <td>14</td>\n",
       "      <td>14.00</td>\n",
       "    </tr>\n",
       "    <tr>\n",
       "      <th>1</th>\n",
       "      <td>2</td>\n",
       "      <td>1884</td>\n",
       "      <td>14</td>\n",
       "      <td>13.80</td>\n",
       "    </tr>\n",
       "    <tr>\n",
       "      <th>2</th>\n",
       "      <td>3</td>\n",
       "      <td>3010</td>\n",
       "      <td>14</td>\n",
       "      <td>14.00</td>\n",
       "    </tr>\n",
       "    <tr>\n",
       "      <th>3</th>\n",
       "      <td>4</td>\n",
       "      <td>3974</td>\n",
       "      <td>14</td>\n",
       "      <td>14.25</td>\n",
       "    </tr>\n",
       "    <tr>\n",
       "      <th>4</th>\n",
       "      <td>5</td>\n",
       "      <td>5152</td>\n",
       "      <td>14</td>\n",
       "      <td>14.05</td>\n",
       "    </tr>\n",
       "  </tbody>\n",
       "</table>\n",
       "</div>"
      ],
      "text/plain": [
       "   Nr  Frequenz  U_ss_K1  U_ss_K2\n",
       "0   1      1053       14    14.00\n",
       "1   2      1884       14    13.80\n",
       "2   3      3010       14    14.00\n",
       "3   4      3974       14    14.25\n",
       "4   5      5152       14    14.05"
      ]
     },
     "execution_count": 6,
     "metadata": {},
     "output_type": "execute_result"
    }
   ],
   "source": [
    "print('\\n Daten A3')\n",
    "A3_df.head()\n"
   ]
  },
  {
   "cell_type": "code",
   "execution_count": 7,
   "id": "2bc8b090",
   "metadata": {
    "scrolled": true
   },
   "outputs": [
    {
     "name": "stdout",
     "output_type": "stream",
     "text": [
      "\n",
      " Daten A5\n"
     ]
    },
    {
     "data": {
      "text/html": [
       "<div>\n",
       "<style scoped>\n",
       "    .dataframe tbody tr th:only-of-type {\n",
       "        vertical-align: middle;\n",
       "    }\n",
       "\n",
       "    .dataframe tbody tr th {\n",
       "        vertical-align: top;\n",
       "    }\n",
       "\n",
       "    .dataframe thead th {\n",
       "        text-align: right;\n",
       "    }\n",
       "</style>\n",
       "<table border=\"1\" class=\"dataframe\">\n",
       "  <thead>\n",
       "    <tr style=\"text-align: right;\">\n",
       "      <th></th>\n",
       "      <th>Nr</th>\n",
       "      <th>Frequenz</th>\n",
       "      <th>U_2</th>\n",
       "      <th>U_1</th>\n",
       "      <th>T_1/2(ms)</th>\n",
       "      <th>t_D(ms)</th>\n",
       "    </tr>\n",
       "  </thead>\n",
       "  <tbody>\n",
       "    <tr>\n",
       "      <th>0</th>\n",
       "      <td>1</td>\n",
       "      <td>31.55</td>\n",
       "      <td>22.50</td>\n",
       "      <td>21.50</td>\n",
       "      <td>15.0</td>\n",
       "      <td>15.0</td>\n",
       "    </tr>\n",
       "    <tr>\n",
       "      <th>1</th>\n",
       "      <td>2</td>\n",
       "      <td>41.73</td>\n",
       "      <td>22.50</td>\n",
       "      <td>23.00</td>\n",
       "      <td>12.0</td>\n",
       "      <td>12.0</td>\n",
       "    </tr>\n",
       "    <tr>\n",
       "      <th>2</th>\n",
       "      <td>3</td>\n",
       "      <td>52.50</td>\n",
       "      <td>22.50</td>\n",
       "      <td>22.75</td>\n",
       "      <td>9.0</td>\n",
       "      <td>9.0</td>\n",
       "    </tr>\n",
       "    <tr>\n",
       "      <th>3</th>\n",
       "      <td>4</td>\n",
       "      <td>60.60</td>\n",
       "      <td>22.25</td>\n",
       "      <td>22.50</td>\n",
       "      <td>8.0</td>\n",
       "      <td>8.0</td>\n",
       "    </tr>\n",
       "    <tr>\n",
       "      <th>4</th>\n",
       "      <td>5</td>\n",
       "      <td>70.20</td>\n",
       "      <td>22.50</td>\n",
       "      <td>23.00</td>\n",
       "      <td>7.2</td>\n",
       "      <td>7.2</td>\n",
       "    </tr>\n",
       "  </tbody>\n",
       "</table>\n",
       "</div>"
      ],
      "text/plain": [
       "   Nr  Frequenz    U_2    U_1  T_1/2(ms)  t_D(ms)\n",
       "0   1     31.55  22.50  21.50       15.0     15.0\n",
       "1   2     41.73  22.50  23.00       12.0     12.0\n",
       "2   3     52.50  22.50  22.75        9.0      9.0\n",
       "3   4     60.60  22.25  22.50        8.0      8.0\n",
       "4   5     70.20  22.50  23.00        7.2      7.2"
      ]
     },
     "execution_count": 7,
     "metadata": {},
     "output_type": "execute_result"
    }
   ],
   "source": [
    "print('\\n Daten A5')\n",
    "A5_df.head()\n"
   ]
  },
  {
   "cell_type": "code",
   "execution_count": 8,
   "id": "7ce7c9f2",
   "metadata": {
    "scrolled": true
   },
   "outputs": [
    {
     "name": "stdout",
     "output_type": "stream",
     "text": [
      "\n",
      " Daten A9\n"
     ]
    },
    {
     "data": {
      "text/html": [
       "<div>\n",
       "<style scoped>\n",
       "    .dataframe tbody tr th:only-of-type {\n",
       "        vertical-align: middle;\n",
       "    }\n",
       "\n",
       "    .dataframe tbody tr th {\n",
       "        vertical-align: top;\n",
       "    }\n",
       "\n",
       "    .dataframe thead th {\n",
       "        text-align: right;\n",
       "    }\n",
       "</style>\n",
       "<table border=\"1\" class=\"dataframe\">\n",
       "  <thead>\n",
       "    <tr style=\"text-align: right;\">\n",
       "      <th></th>\n",
       "      <th>Nr Resonanzfreqzenz</th>\n",
       "    </tr>\n",
       "  </thead>\n",
       "  <tbody>\n",
       "    <tr>\n",
       "      <th>1</th>\n",
       "      <td>729.7</td>\n",
       "    </tr>\n",
       "    <tr>\n",
       "      <th>2</th>\n",
       "      <td>776.5</td>\n",
       "    </tr>\n",
       "    <tr>\n",
       "      <th>3</th>\n",
       "      <td>678.0</td>\n",
       "    </tr>\n",
       "    <tr>\n",
       "      <th>4</th>\n",
       "      <td>702.9</td>\n",
       "    </tr>\n",
       "    <tr>\n",
       "      <th>5</th>\n",
       "      <td>632.4</td>\n",
       "    </tr>\n",
       "  </tbody>\n",
       "</table>\n",
       "</div>"
      ],
      "text/plain": [
       "   Nr Resonanzfreqzenz\n",
       "1                729.7\n",
       "2                776.5\n",
       "3                678.0\n",
       "4                702.9\n",
       "5                632.4"
      ]
     },
     "execution_count": 8,
     "metadata": {},
     "output_type": "execute_result"
    }
   ],
   "source": [
    "print('\\n Daten A9')\n",
    "A9_df.head()\n"
   ]
  },
  {
   "cell_type": "code",
   "execution_count": 9,
   "id": "ee9650ed",
   "metadata": {},
   "outputs": [
    {
     "name": "stdout",
     "output_type": "stream",
     "text": [
      "\n",
      " Daten A10\n"
     ]
    },
    {
     "data": {
      "text/html": [
       "<div>\n",
       "<style scoped>\n",
       "    .dataframe tbody tr th:only-of-type {\n",
       "        vertical-align: middle;\n",
       "    }\n",
       "\n",
       "    .dataframe tbody tr th {\n",
       "        vertical-align: top;\n",
       "    }\n",
       "\n",
       "    .dataframe thead th {\n",
       "        text-align: right;\n",
       "    }\n",
       "</style>\n",
       "<table border=\"1\" class=\"dataframe\">\n",
       "  <thead>\n",
       "    <tr style=\"text-align: right;\">\n",
       "      <th></th>\n",
       "      <th>Name</th>\n",
       "      <th>Messwert</th>\n",
       "    </tr>\n",
       "  </thead>\n",
       "  <tbody>\n",
       "    <tr>\n",
       "      <th>0</th>\n",
       "      <td>U_G</td>\n",
       "      <td>6.705</td>\n",
       "    </tr>\n",
       "    <tr>\n",
       "      <th>1</th>\n",
       "      <td>U_S</td>\n",
       "      <td>55.300</td>\n",
       "    </tr>\n",
       "    <tr>\n",
       "      <th>2</th>\n",
       "      <td>U_Pw</td>\n",
       "      <td>0.241</td>\n",
       "    </tr>\n",
       "    <tr>\n",
       "      <th>3</th>\n",
       "      <td>U_K</td>\n",
       "      <td>54.800</td>\n",
       "    </tr>\n",
       "    <tr>\n",
       "      <th>4</th>\n",
       "      <td>U_SK</td>\n",
       "      <td>6.475</td>\n",
       "    </tr>\n",
       "  </tbody>\n",
       "</table>\n",
       "</div>"
      ],
      "text/plain": [
       "   Name  Messwert\n",
       "0   U_G     6.705\n",
       "1   U_S    55.300\n",
       "2  U_Pw     0.241\n",
       "3   U_K    54.800\n",
       "4  U_SK     6.475"
      ]
     },
     "execution_count": 9,
     "metadata": {},
     "output_type": "execute_result"
    }
   ],
   "source": [
    "print('\\n Daten A10')\n",
    "A10_df.head()\n"
   ]
  },
  {
   "cell_type": "code",
   "execution_count": 10,
   "id": "622189bb",
   "metadata": {
    "scrolled": true
   },
   "outputs": [
    {
     "name": "stdout",
     "output_type": "stream",
     "text": [
      "\n",
      " Daten A12\n"
     ]
    },
    {
     "data": {
      "text/html": [
       "<div>\n",
       "<style scoped>\n",
       "    .dataframe tbody tr th:only-of-type {\n",
       "        vertical-align: middle;\n",
       "    }\n",
       "\n",
       "    .dataframe tbody tr th {\n",
       "        vertical-align: top;\n",
       "    }\n",
       "\n",
       "    .dataframe thead th {\n",
       "        text-align: right;\n",
       "    }\n",
       "</style>\n",
       "<table border=\"1\" class=\"dataframe\">\n",
       "  <thead>\n",
       "    <tr style=\"text-align: right;\">\n",
       "      <th></th>\n",
       "      <th>Nr</th>\n",
       "      <th>Frequenz</th>\n",
       "      <th>U_2(mV)</th>\n",
       "      <th>U_1(V)</th>\n",
       "      <th>t_D(ms)</th>\n",
       "    </tr>\n",
       "  </thead>\n",
       "  <tbody>\n",
       "    <tr>\n",
       "      <th>0</th>\n",
       "      <td>1</td>\n",
       "      <td>211.80</td>\n",
       "      <td>36</td>\n",
       "      <td>22.5</td>\n",
       "      <td>1.200</td>\n",
       "    </tr>\n",
       "    <tr>\n",
       "      <th>1</th>\n",
       "      <td>2</td>\n",
       "      <td>303.50</td>\n",
       "      <td>52</td>\n",
       "      <td>23.0</td>\n",
       "      <td>0.800</td>\n",
       "    </tr>\n",
       "    <tr>\n",
       "      <th>2</th>\n",
       "      <td>3</td>\n",
       "      <td>398.25</td>\n",
       "      <td>84</td>\n",
       "      <td>22.5</td>\n",
       "      <td>0.550</td>\n",
       "    </tr>\n",
       "    <tr>\n",
       "      <th>3</th>\n",
       "      <td>4</td>\n",
       "      <td>508.50</td>\n",
       "      <td>150</td>\n",
       "      <td>22.5</td>\n",
       "      <td>0.475</td>\n",
       "    </tr>\n",
       "    <tr>\n",
       "      <th>4</th>\n",
       "      <td>5</td>\n",
       "      <td>608.50</td>\n",
       "      <td>315</td>\n",
       "      <td>22.0</td>\n",
       "      <td>0.300</td>\n",
       "    </tr>\n",
       "  </tbody>\n",
       "</table>\n",
       "</div>"
      ],
      "text/plain": [
       "   Nr  Frequenz  U_2(mV)  U_1(V)  t_D(ms)\n",
       "0   1    211.80       36    22.5    1.200\n",
       "1   2    303.50       52    23.0    0.800\n",
       "2   3    398.25       84    22.5    0.550\n",
       "3   4    508.50      150    22.5    0.475\n",
       "4   5    608.50      315    22.0    0.300"
      ]
     },
     "execution_count": 10,
     "metadata": {},
     "output_type": "execute_result"
    }
   ],
   "source": [
    "print('\\n Daten A12')\n",
    "A12_df.head()"
   ]
  },
  {
   "cell_type": "markdown",
   "id": "a7d6bbac",
   "metadata": {
    "tags": []
   },
   "source": [
    "# Aufgabe 1"
   ]
  },
  {
   "cell_type": "code",
   "execution_count": 11,
   "id": "d15c2552",
   "metadata": {},
   "outputs": [
    {
     "data": {
      "text/html": [
       "<div>\n",
       "<style scoped>\n",
       "    .dataframe tbody tr th:only-of-type {\n",
       "        vertical-align: middle;\n",
       "    }\n",
       "\n",
       "    .dataframe tbody tr th {\n",
       "        vertical-align: top;\n",
       "    }\n",
       "\n",
       "    .dataframe thead th {\n",
       "        text-align: right;\n",
       "    }\n",
       "</style>\n",
       "<table border=\"1\" class=\"dataframe\">\n",
       "  <thead>\n",
       "    <tr style=\"text-align: right;\">\n",
       "      <th></th>\n",
       "      <th>Signal</th>\n",
       "      <th>Frequenz(Hz)</th>\n",
       "      <th>U_ss</th>\n",
       "      <th>U_eff</th>\n",
       "    </tr>\n",
       "  </thead>\n",
       "  <tbody>\n",
       "    <tr>\n",
       "      <th>0</th>\n",
       "      <td>sinus</td>\n",
       "      <td>1422.0</td>\n",
       "      <td>22.0</td>\n",
       "      <td>NaN</td>\n",
       "    </tr>\n",
       "    <tr>\n",
       "      <th>1</th>\n",
       "      <td>sinus</td>\n",
       "      <td>538.5</td>\n",
       "      <td>23.0</td>\n",
       "      <td>NaN</td>\n",
       "    </tr>\n",
       "    <tr>\n",
       "      <th>2</th>\n",
       "      <td>Dreieck</td>\n",
       "      <td>16596.0</td>\n",
       "      <td>23.0</td>\n",
       "      <td>NaN</td>\n",
       "    </tr>\n",
       "    <tr>\n",
       "      <th>3</th>\n",
       "      <td>Rechteck</td>\n",
       "      <td>16597.0</td>\n",
       "      <td>23.0</td>\n",
       "      <td>NaN</td>\n",
       "    </tr>\n",
       "    <tr>\n",
       "      <th>4</th>\n",
       "      <td>sinus</td>\n",
       "      <td>1430.0</td>\n",
       "      <td>NaN</td>\n",
       "      <td>7.420</td>\n",
       "    </tr>\n",
       "    <tr>\n",
       "      <th>5</th>\n",
       "      <td>sinus</td>\n",
       "      <td>540.0</td>\n",
       "      <td>NaN</td>\n",
       "      <td>7.940</td>\n",
       "    </tr>\n",
       "    <tr>\n",
       "      <th>6</th>\n",
       "      <td>Dreieck</td>\n",
       "      <td>1660.0</td>\n",
       "      <td>NaN</td>\n",
       "      <td>6.465</td>\n",
       "    </tr>\n",
       "    <tr>\n",
       "      <th>7</th>\n",
       "      <td>Rechteck</td>\n",
       "      <td>1660.0</td>\n",
       "      <td>NaN</td>\n",
       "      <td>11.769</td>\n",
       "    </tr>\n",
       "  </tbody>\n",
       "</table>\n",
       "</div>"
      ],
      "text/plain": [
       "     Signal  Frequenz(Hz)  U_ss   U_eff\n",
       "0     sinus        1422.0  22.0     NaN\n",
       "1     sinus         538.5  23.0     NaN\n",
       "2   Dreieck       16596.0  23.0     NaN\n",
       "3  Rechteck       16597.0  23.0     NaN\n",
       "4     sinus        1430.0   NaN   7.420\n",
       "5     sinus         540.0   NaN   7.940\n",
       "6   Dreieck        1660.0   NaN   6.465\n",
       "7  Rechteck        1660.0   NaN  11.769"
      ]
     },
     "execution_count": 11,
     "metadata": {},
     "output_type": "execute_result"
    }
   ],
   "source": [
    "A1_df"
   ]
  },
  {
   "cell_type": "code",
   "execution_count": 12,
   "id": "2ff71aac",
   "metadata": {
    "scrolled": true
   },
   "outputs": [
    {
     "name": "stdout",
     "output_type": "stream",
     "text": [
      "0       sinus\n",
      "1       sinus\n",
      "2     Dreieck\n",
      "3    Rechteck\n",
      "Name: Signal, dtype: object\n",
      "\n",
      " Oszillator \n",
      "              Freq  U_ss\n",
      "sinus      1422.0  22.0\n",
      "sinus       538.5  23.0\n",
      "Dreieck   16596.0  23.0\n",
      "Rechteck  16597.0  23.0\n",
      "\n",
      " Multimeter\n",
      "             Freq   U_eff\n",
      "sinus     1430.0   7.420\n",
      "sinus      540.0   7.940\n",
      "Dreieck   1660.0   6.465\n",
      "Rechteck  1660.0  11.769\n"
     ]
    }
   ],
   "source": [
    "Signal= A1_df['Signal']\n",
    "A1_Osz1 = pd.Series(A1_df['Frequenz(Hz)'][0:4])\n",
    "#print(A1_Osz1)\n",
    "A1_Osz2 = pd.Series(A1_df['U_ss'][0:4])\n",
    "#print(A1_Osz2)\n",
    "print(Signal[0:4])\n",
    "A1_Osz = pd.DataFrame({'Freq': list(A1_Osz1), \n",
    "                       'U_ss':list(A1_Osz2)},\n",
    "                      index=['sinus','sinus','Dreieck','Rechteck'])#\n",
    "print('\\n','Oszillator','\\n',A1_Osz)\n",
    "\n",
    "A1_Mul = pd.DataFrame({'Freq': list(A1_df['Frequenz(Hz)'][4:8]),\n",
    "                     'U_eff':list(A1_df['U_eff'][4:8])},\n",
    "                    index=['sinus','sinus','Dreieck','Rechteck'])\n",
    "print('\\n','Multimeter\\n',A1_Mul)"
   ]
  },
  {
   "cell_type": "code",
   "execution_count": 13,
   "id": "3349c5bc",
   "metadata": {},
   "outputs": [
    {
     "name": "stdout",
     "output_type": "stream",
     "text": [
      "sinus        7.778175\n",
      "sinus        8.131728\n",
      "Dreieck      6.639528\n",
      "Rechteck    11.500000\n",
      "Name: U_ss, dtype: float64\n",
      "\n",
      "\n",
      "sinus        7.420\n",
      "sinus        7.940\n",
      "Dreieck      6.465\n",
      "Rechteck    11.769\n",
      "Name: U_eff, dtype: float64\n",
      "\n",
      "\n",
      "sinus      -0.358175\n",
      "sinus      -0.191728\n",
      "Dreieck    -0.174528\n",
      "Rechteck    0.269000\n",
      "dtype: float64\n"
     ]
    }
   ],
   "source": [
    "U_s = us(A1_Osz['U_ss'])\n",
    "faktor= [1/np.sqrt(2),1/np.sqrt(2),1/np.sqrt(3),1]\n",
    "U_eff = U_s * faktor\n",
    "print(U_eff)\n",
    "print('\\n')\n",
    "print(A1_Mul['U_eff'])\n",
    "print('\\n')\n",
    "diff = A1_Mul['U_eff']-U_eff\n",
    "print(diff)"
   ]
  },
  {
   "cell_type": "markdown",
   "id": "962461a6",
   "metadata": {},
   "source": [
    "# Aufgabe 2"
   ]
  },
  {
   "cell_type": "code",
   "execution_count": 14,
   "id": "1bb7ebff",
   "metadata": {},
   "outputs": [
    {
     "name": "stdout",
     "output_type": "stream",
     "text": [
      "Kapazität: 9.85e-08+-2.955e-08\n",
      "Ohmscher Widerstand Spule: 149.9+-1.2\n"
     ]
    }
   ],
   "source": [
    "# Kapazität Aufgabe 2\n",
    "C_A_2 = 98.5e-9 \n",
    "err_c = 98.5e-9 * 0.3\n",
    "print(f\"Kapazität: {C_A_2}+-{err_c}\")\n",
    "\n",
    "# Ohmscher Widerstand Spule\n",
    "R_L = 149.90\n",
    "err_R_L = 149.90 * 0.8 /100 \n",
    "print(f\"Ohmscher Widerstand Spule: {R_L}+-{round(err_R_L,1)}\")"
   ]
  },
  {
   "cell_type": "code",
   "execution_count": 15,
   "id": "bd7c7083",
   "metadata": {},
   "outputs": [
    {
     "name": "stdout",
     "output_type": "stream",
     "text": [
      "1e-07\n",
      "0.0\n"
     ]
    }
   ],
   "source": [
    "print(round(98.5e-9,7))\n",
    "print(round(err_c,7))"
   ]
  },
  {
   "cell_type": "markdown",
   "id": "1e25e143",
   "metadata": {},
   "source": [
    "# Aufgabe 3"
   ]
  },
  {
   "cell_type": "code",
   "execution_count": 16,
   "id": "abe43d4a",
   "metadata": {
    "scrolled": true
   },
   "outputs": [
    {
     "data": {
      "text/html": [
       "<div>\n",
       "<style scoped>\n",
       "    .dataframe tbody tr th:only-of-type {\n",
       "        vertical-align: middle;\n",
       "    }\n",
       "\n",
       "    .dataframe tbody tr th {\n",
       "        vertical-align: top;\n",
       "    }\n",
       "\n",
       "    .dataframe thead th {\n",
       "        text-align: right;\n",
       "    }\n",
       "</style>\n",
       "<table border=\"1\" class=\"dataframe\">\n",
       "  <thead>\n",
       "    <tr style=\"text-align: right;\">\n",
       "      <th></th>\n",
       "      <th>Nr</th>\n",
       "      <th>Frequenz</th>\n",
       "      <th>U_ss_K1</th>\n",
       "      <th>U_ss_K2</th>\n",
       "    </tr>\n",
       "  </thead>\n",
       "  <tbody>\n",
       "    <tr>\n",
       "      <th>0</th>\n",
       "      <td>1</td>\n",
       "      <td>1053</td>\n",
       "      <td>14</td>\n",
       "      <td>14.00</td>\n",
       "    </tr>\n",
       "    <tr>\n",
       "      <th>1</th>\n",
       "      <td>2</td>\n",
       "      <td>1884</td>\n",
       "      <td>14</td>\n",
       "      <td>13.80</td>\n",
       "    </tr>\n",
       "    <tr>\n",
       "      <th>2</th>\n",
       "      <td>3</td>\n",
       "      <td>3010</td>\n",
       "      <td>14</td>\n",
       "      <td>14.00</td>\n",
       "    </tr>\n",
       "    <tr>\n",
       "      <th>3</th>\n",
       "      <td>4</td>\n",
       "      <td>3974</td>\n",
       "      <td>14</td>\n",
       "      <td>14.25</td>\n",
       "    </tr>\n",
       "    <tr>\n",
       "      <th>4</th>\n",
       "      <td>5</td>\n",
       "      <td>5152</td>\n",
       "      <td>14</td>\n",
       "      <td>14.05</td>\n",
       "    </tr>\n",
       "    <tr>\n",
       "      <th>5</th>\n",
       "      <td>6</td>\n",
       "      <td>5855</td>\n",
       "      <td>14</td>\n",
       "      <td>14.00</td>\n",
       "    </tr>\n",
       "  </tbody>\n",
       "</table>\n",
       "</div>"
      ],
      "text/plain": [
       "   Nr  Frequenz  U_ss_K1  U_ss_K2\n",
       "0   1      1053       14    14.00\n",
       "1   2      1884       14    13.80\n",
       "2   3      3010       14    14.00\n",
       "3   4      3974       14    14.25\n",
       "4   5      5152       14    14.05\n",
       "5   6      5855       14    14.00"
      ]
     },
     "execution_count": 16,
     "metadata": {},
     "output_type": "execute_result"
    }
   ],
   "source": [
    "A3_df"
   ]
  },
  {
   "cell_type": "code",
   "execution_count": 17,
   "id": "97fe1447",
   "metadata": {},
   "outputs": [],
   "source": [
    "U_2 = np.array(A3_df['U_ss_K1'])\n",
    "U_1 = np.array(A3_df['U_ss_K2'])\n",
    "f = np.array(A3_df['Frequenz'])\n",
    "R_p = 10e3*np.ones(6)"
   ]
  },
  {
   "cell_type": "code",
   "execution_count": 18,
   "id": "824f5ad0",
   "metadata": {},
   "outputs": [
    {
     "name": "stdout",
     "output_type": "stream",
     "text": [
      "6\n",
      "6\n",
      "6\n"
     ]
    }
   ],
   "source": [
    "print(len(U_2))\n",
    "print(len(U_1))\n",
    "print(len(R_p))"
   ]
  },
  {
   "cell_type": "code",
   "execution_count": 19,
   "id": "f9ef9fac",
   "metadata": {},
   "outputs": [
    {
     "data": {
      "text/plain": [
       "array([   0.        , -142.85714286,    0.        ,  178.57142857,\n",
       "         35.71428571,    0.        ])"
      ]
     },
     "execution_count": 19,
     "metadata": {},
     "output_type": "execute_result"
    }
   ],
   "source": [
    "Z = Z_1(U_1,U_2,R_p)\n",
    "Z"
   ]
  },
  {
   "cell_type": "code",
   "execution_count": 20,
   "id": "96fa1e39",
   "metadata": {},
   "outputs": [
    {
     "data": {
      "image/png": "[encoded data removed]",
      "text/plain": [
       "<Figure size 640x480 with 1 Axes>"
      ]
     },
     "metadata": {},
     "output_type": "display_data"
    }
   ],
   "source": [
    "plt.plot(f,Z,'o')\n",
    "plt.xlabel(r'Frequenz')\n",
    "plt.show()"
   ]
  },
  {
   "cell_type": "code",
   "execution_count": 21,
   "id": "f827a56d",
   "metadata": {},
   "outputs": [
    {
     "name": "stdout",
     "output_type": "stream",
     "text": [
      "[1053 1884 3010 3974 5152 5855]\n",
      "[   0.         -142.85714286    0.          178.57142857   35.71428571\n",
      "    0.        ]\n"
     ]
    }
   ],
   "source": [
    "xa3 = np.ones(6)\n",
    "for i in range(6):\n",
    "    xa3[i] = float(f[i])\n",
    "\n",
    "\n",
    "ya3 = Z\n",
    "print(f) \n",
    "print(ya3)"
   ]
  },
  {
   "cell_type": "markdown",
   "id": "57bf31d7",
   "metadata": {},
   "source": [
    "## Regression"
   ]
  },
  {
   "cell_type": "code",
   "execution_count": 22,
   "id": "9c13101b",
   "metadata": {},
   "outputs": [
    {
     "name": "stderr",
     "output_type": "stream",
     "text": [
      "C:\\Users\\Ben Fliegener\\Miniconda3\\lib\\site-packages\\scipy\\optimize\\minpack.py:829: OptimizeWarning: Covariance of the parameters could not be estimated\n",
      "  category=OptimizeWarning)\n"
     ]
    }
   ],
   "source": [
    "pop,cov = curve_fit(Z_2,xa3,ya3)\n",
    "a3,b3 = pop\n",
    "# da3,db3 = np.diagonal(np.sqrt(cov))"
   ]
  },
  {
   "cell_type": "code",
   "execution_count": 23,
   "id": "774a74fe",
   "metadata": {
    "scrolled": true
   },
   "outputs": [
    {
     "name": "stdout",
     "output_type": "stream",
     "text": [
      "0.006913143590865492\n",
      "0.0003718132502354767\n"
     ]
    }
   ],
   "source": [
    "print(a3)\n",
    "print(b3)"
   ]
  },
  {
   "cell_type": "code",
   "execution_count": 24,
   "id": "3cbb4d9b",
   "metadata": {},
   "outputs": [],
   "source": [
    "pop, cov = curve_fit(reg2,xa3,ya3)\n",
    "a3_2,b3_2= pop"
   ]
  },
  {
   "cell_type": "code",
   "execution_count": 25,
   "id": "a4294661",
   "metadata": {},
   "outputs": [
    {
     "name": "stdout",
     "output_type": "stream",
     "text": [
      "[   0  100  200  300  400  500  600  700  800  900 1000 1100 1200 1300\n",
      " 1400 1500 1600 1700 1800 1900 2000 2100 2200 2300 2400 2500 2600 2700\n",
      " 2800 2900 3000 3100 3200 3300 3400 3500 3600 3700 3800 3900 4000 4100\n",
      " 4200 4300 4400 4500 4600 4700 4800 4900 5000 5100 5200 5300 5400 5500\n",
      " 5600 5700 5800 5900]\n",
      "[-1.56407873e-03  1.05701713e-04  5.11233769e-05  3.37149167e-05\n",
      "  2.51506522e-05  2.00560209e-05  1.66777080e-05  1.42734358e-05\n",
      "  1.24750258e-05  1.10790933e-05  9.96412596e-06  9.05305329e-06\n",
      "  8.29463133e-06  7.65346062e-06  7.10430177e-06  6.62867442e-06\n",
      "  6.21273664e-06  5.84591562e-06  5.51999633e-06  5.22849902e-06\n",
      "  4.96624399e-06  4.72904115e-06  4.51346444e-06  4.31668526e-06\n",
      "  4.13634771e-06  3.97047379e-06  3.81739055e-06  3.67567345e-06\n",
      "  3.54410194e-06  3.42162418e-06  3.30732886e-06  3.20042253e-06\n",
      "  3.10021109e-06  3.00608474e-06  2.91750556e-06  2.83399722e-06\n",
      "  2.75513641e-06  2.68054564e-06  2.60988726e-06  2.54285828e-06\n",
      "  2.47918606e-06  2.41862460e-06  2.36095137e-06  2.30596458e-06\n",
      "  2.25348078e-06  2.20333289e-06  2.15536834e-06  2.10944759e-06\n",
      "  2.06544273e-06  2.02323631e-06  1.98272029e-06  1.94379511e-06\n",
      "  1.90636887e-06  1.87035663e-06  1.83567975e-06  1.80226530e-06\n",
      "  1.77004557e-06  1.73895761e-06  1.70894282e-06  1.67994658e-06]\n"
     ]
    }
   ],
   "source": [
    "x_plot = np.arange(0,6000,100)\n",
    "print(x_plot)\n",
    "y_plot = Z_2(x_plot,a3,b3)\n",
    "y_plot_2 = reg2(x_plot,a3_2,b3_2)\n",
    "print(y_plot_2)"
   ]
  },
  {
   "cell_type": "code",
   "execution_count": 26,
   "id": "78067081",
   "metadata": {},
   "outputs": [
    {
     "data": {
      "image/png": "[encoded data removed]",
      "text/plain": [
       "<Figure size 640x480 with 1 Axes>"
      ]
     },
     "metadata": {},
     "output_type": "display_data"
    }
   ],
   "source": [
    "plt.plot(f,Z,'ro',label='Datenpunkte')\n",
    "#plt.plot(x_plot,y_plot,'b--',label='Fitkurve')\n",
    "plt.plot(x_plot,y_plot_2,'--',color='green',label=r'Fit: $Z(f) = \\frac{1}{a\\cdot f +b}$')\n",
    "plt.xlabel(r'Frequenz')\n",
    "plt.ylabel(r'$|Z|$')\n",
    "plt.legend()\n",
    "plt.show()"
   ]
  },
  {
   "cell_type": "markdown",
   "id": "662ffbef",
   "metadata": {},
   "source": [
    "# Aufgabe 4"
   ]
  },
  {
   "cell_type": "code",
   "execution_count": null,
   "id": "ed22d6b6",
   "metadata": {},
   "outputs": [],
   "source": []
  },
  {
   "cell_type": "markdown",
   "id": "08afd952",
   "metadata": {},
   "source": [
    "# Aufgabe 5"
   ]
  },
  {
   "cell_type": "code",
   "execution_count": null,
   "id": "8b4f39ee",
   "metadata": {},
   "outputs": [],
   "source": []
  },
  {
   "cell_type": "markdown",
   "id": "1ca3925c",
   "metadata": {},
   "source": [
    "# Aufgabe 6"
   ]
  },
  {
   "cell_type": "code",
   "execution_count": null,
   "id": "3668debd",
   "metadata": {},
   "outputs": [],
   "source": []
  },
  {
   "cell_type": "markdown",
   "id": "307aa5c1",
   "metadata": {},
   "source": [
    "# Aufgabe 7"
   ]
  },
  {
   "cell_type": "code",
   "execution_count": null,
   "id": "d0783706",
   "metadata": {},
   "outputs": [],
   "source": []
  },
  {
   "cell_type": "markdown",
   "id": "3ada1dc3",
   "metadata": {},
   "source": [
    "# Aufgabe 8"
   ]
  },
  {
   "cell_type": "code",
   "execution_count": null,
   "id": "ab91b22c",
   "metadata": {},
   "outputs": [],
   "source": []
  },
  {
   "cell_type": "markdown",
   "id": "ae225689",
   "metadata": {},
   "source": [
    "# Aufgabe 9"
   ]
  },
  {
   "cell_type": "code",
   "execution_count": null,
   "id": "c2685dd5",
   "metadata": {},
   "outputs": [],
   "source": []
  },
  {
   "cell_type": "markdown",
   "id": "95589a64",
   "metadata": {},
   "source": [
    "# Aufgabe 10"
   ]
  },
  {
   "cell_type": "code",
   "execution_count": null,
   "id": "9429d802",
   "metadata": {},
   "outputs": [],
   "source": []
  },
  {
   "cell_type": "markdown",
   "id": "b89305a4",
   "metadata": {},
   "source": [
    "# Aufgabe 11"
   ]
  },
  {
   "cell_type": "code",
   "execution_count": null,
   "id": "a1bdb171",
   "metadata": {},
   "outputs": [],
   "source": []
  },
  {
   "cell_type": "markdown",
   "id": "cbcf75d4",
   "metadata": {},
   "source": [
    "# Aufgabe 12"
   ]
  },
  {
   "cell_type": "code",
   "execution_count": null,
   "id": "5b6ef05c",
   "metadata": {},
   "outputs": [],
   "source": []
  },
  {
   "cell_type": "markdown",
   "id": "bab78ca8",
   "metadata": {},
   "source": [
    "# Aufgabe 13"
   ]
  },
  {
   "cell_type": "code",
   "execution_count": null,
   "id": "d637698f",
   "metadata": {},
   "outputs": [],
   "source": []
  }
 ],
 "metadata": {
  "kernelspec": {
   "display_name": "Python 3",
   "language": "python",
   "name": "python3"
  },
  "language_info": {
   "codemirror_mode": {
    "name": "ipython",
    "version": 3
   },
   "file_extension": ".py",
   "mimetype": "text/x-python",
   "name": "python",
   "nbconvert_exporter": "python",
   "pygments_lexer": "ipython3",
   "version": "3.7.10"
  }
 },
 "nbformat": 4,
 "nbformat_minor": 5
}
