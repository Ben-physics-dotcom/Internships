{
 "cells": [
  {
   "cell_type": "markdown",
   "id": "18c586f2-cdd1-4ddd-849a-a2b8e03e231a",
   "metadata": {
    "tags": []
   },
   "source": [
    "# Importe"
   ]
  },
  {
   "cell_type": "code",
   "execution_count": 2,
   "id": "a4577ce2-968e-41e7-a89e-52e7512e6c90",
   "metadata": {
    "tags": []
   },
   "outputs": [],
   "source": [
    "import matplotlib.pyplot as plt\n",
    "import pandas as pd\n",
    "import numpy as np\n",
    "from scipy.optimize import curve_fit\n",
    "from sklearn.metrics import r2_score\n",
    "import statsmodels.api as sm\n",
    "from uncertainties import ufloat, unumpy as unp\n",
    "import uncertainties\n",
    "\n",
    "\n",
    "plt.style.use('classic')\n",
    "plt.rc('text',usetex=True)\n",
    "# plt.rc ('axes', labelsize = 20) # Schriftgröße der x- und y-Beschriftungen"
   ]
  },
  {
   "cell_type": "markdown",
   "id": "9793f9ef-ea22-487f-bb89-1d1a19122a15",
   "metadata": {
    "tags": []
   },
   "source": [
    "# Selbstdefinierte Funktionen"
   ]
  },
  {
   "cell_type": "code",
   "execution_count": null,
   "id": "36b50f29-4bdf-4090-b784-f8d25d654763",
   "metadata": {},
   "outputs": [],
   "source": [
    "# lineare Regression\n",
    "def reg(x,a,b):\n",
    "    regg = a * x + b\n",
    "    return regg\n",
    "\n",
    "def reg2(x,a,b):\n",
    "    regg = 1/(a*x+b)\n",
    "    return regg\n",
    "\n",
    "# U_ss in U_s umrechnen\n",
    "def us(x):\n",
    "    f = x/(2)\n",
    "    return f\n",
    "\n",
    "# Gleichung (21), Versuchsskript\n",
    "def Z_1(U1,U2,R):\n",
    "    k = R * (U1-U2)/U2\n",
    "    return k\n",
    "\n",
    "def Z_2(x,a,b):\n",
    "    k = np.sqrt((x*a)**2 + b**2)\n",
    "    return k\n",
    "\n",
    "# Chi^2\n",
    "def chi_square(y,f_y,y_err):\n",
    "    # Arrays-artige einfügen\n",
    "    chi = (y-f_y)**2/y_err**2\n",
    "    chi_2 = chi.sum()\n",
    "    return chi_2\n",
    "\n",
    "def chi_red(chi,f):\n",
    "    # f: Freiheitsgrade\n",
    "    # chi: chi^2\n",
    "    c = chi-f\n",
    "    return c"
   ]
  },
  {
   "cell_type": "markdown",
   "id": "cf6cb69d-a731-465d-a00d-92ad3153313e",
   "metadata": {
    "tags": []
   },
   "source": [
    "# Daten laden"
   ]
  },
  {
   "cell_type": "code",
   "execution_count": 4,
   "id": "7f6b4194-ccfe-45e3-8d9e-b22be3640d24",
   "metadata": {
    "tags": [
     "Daten"
    ]
   },
   "outputs": [],
   "source": [
    "A1_df = pd.read_csv('A1.txt',sep='\\t')\n",
    "A3_df = pd.read_csv('A3_Eigene_Werte.txt',sep='\\t')\n",
    "A5_df = pd.read_csv('A5_Eigene_Werte.txt',sep='\\t')\n",
    "A2_df = pd.read_csv('A2.txt',sep='\\t')\n",
    "A9_df = pd.read_csv('A9.txt',sep='\\t')\n",
    "A10_df = pd.read_csv('A10.txt',sep='\\t')\n",
    "A12_df = pd.read_csv('A12.txt',sep='\\t')"
   ]
  },
  {
   "cell_type": "code",
   "execution_count": 5,
   "id": "6140dae8-cfca-4e30-914f-c4086dffd5d0",
   "metadata": {},
   "outputs": [
    {
     "data": {
      "text/html": [
       "<div>\n",
       "<style scoped>\n",
       "    .dataframe tbody tr th:only-of-type {\n",
       "        vertical-align: middle;\n",
       "    }\n",
       "\n",
       "    .dataframe tbody tr th {\n",
       "        vertical-align: top;\n",
       "    }\n",
       "\n",
       "    .dataframe thead th {\n",
       "        text-align: right;\n",
       "    }\n",
       "</style>\n",
       "<table border=\"1\" class=\"dataframe\">\n",
       "  <thead>\n",
       "    <tr style=\"text-align: right;\">\n",
       "      <th></th>\n",
       "      <th>Signal</th>\n",
       "      <th>Frequenz(Hz)</th>\n",
       "      <th>U_ss</th>\n",
       "      <th>U_eff</th>\n",
       "    </tr>\n",
       "  </thead>\n",
       "  <tbody>\n",
       "    <tr>\n",
       "      <th>0</th>\n",
       "      <td>sinus</td>\n",
       "      <td>1422.0</td>\n",
       "      <td>22.0</td>\n",
       "      <td>NaN</td>\n",
       "    </tr>\n",
       "    <tr>\n",
       "      <th>1</th>\n",
       "      <td>sinus</td>\n",
       "      <td>538.5</td>\n",
       "      <td>23.0</td>\n",
       "      <td>NaN</td>\n",
       "    </tr>\n",
       "    <tr>\n",
       "      <th>2</th>\n",
       "      <td>Dreieck</td>\n",
       "      <td>16596.0</td>\n",
       "      <td>23.0</td>\n",
       "      <td>NaN</td>\n",
       "    </tr>\n",
       "    <tr>\n",
       "      <th>3</th>\n",
       "      <td>Rechteck</td>\n",
       "      <td>16597.0</td>\n",
       "      <td>23.0</td>\n",
       "      <td>NaN</td>\n",
       "    </tr>\n",
       "    <tr>\n",
       "      <th>4</th>\n",
       "      <td>sinus</td>\n",
       "      <td>1430.0</td>\n",
       "      <td>NaN</td>\n",
       "      <td>7.42</td>\n",
       "    </tr>\n",
       "  </tbody>\n",
       "</table>\n",
       "</div>"
      ],
      "text/plain": [
       "     Signal  Frequenz(Hz)  U_ss  U_eff\n",
       "0     sinus        1422.0  22.0    NaN\n",
       "1     sinus         538.5  23.0    NaN\n",
       "2   Dreieck       16596.0  23.0    NaN\n",
       "3  Rechteck       16597.0  23.0    NaN\n",
       "4     sinus        1430.0   NaN   7.42"
      ]
     },
     "execution_count": 5,
     "metadata": {},
     "output_type": "execute_result"
    }
   ],
   "source": [
    "# Test\n",
    "A1_df.head()"
   ]
  },
  {
   "cell_type": "markdown",
   "id": "3760ecfe-8604-419b-b6b8-d6cae3a3d9a2",
   "metadata": {
    "tags": []
   },
   "source": [
    "# Aufgabe 1"
   ]
  },
  {
   "cell_type": "code",
   "execution_count": 6,
   "id": "9ac8eedc-ffce-463a-b7e5-06ac371b8d47",
   "metadata": {},
   "outputs": [
    {
     "data": {
      "text/html": [
       "<div>\n",
       "<style scoped>\n",
       "    .dataframe tbody tr th:only-of-type {\n",
       "        vertical-align: middle;\n",
       "    }\n",
       "\n",
       "    .dataframe tbody tr th {\n",
       "        vertical-align: top;\n",
       "    }\n",
       "\n",
       "    .dataframe thead th {\n",
       "        text-align: right;\n",
       "    }\n",
       "</style>\n",
       "<table border=\"1\" class=\"dataframe\">\n",
       "  <thead>\n",
       "    <tr style=\"text-align: right;\">\n",
       "      <th></th>\n",
       "      <th>Signal</th>\n",
       "      <th>Frequenz(Hz)</th>\n",
       "      <th>U_ss</th>\n",
       "      <th>U_eff</th>\n",
       "    </tr>\n",
       "  </thead>\n",
       "  <tbody>\n",
       "    <tr>\n",
       "      <th>0</th>\n",
       "      <td>sinus</td>\n",
       "      <td>1422.0</td>\n",
       "      <td>22.0</td>\n",
       "      <td>NaN</td>\n",
       "    </tr>\n",
       "    <tr>\n",
       "      <th>1</th>\n",
       "      <td>sinus</td>\n",
       "      <td>538.5</td>\n",
       "      <td>23.0</td>\n",
       "      <td>NaN</td>\n",
       "    </tr>\n",
       "    <tr>\n",
       "      <th>2</th>\n",
       "      <td>Dreieck</td>\n",
       "      <td>16596.0</td>\n",
       "      <td>23.0</td>\n",
       "      <td>NaN</td>\n",
       "    </tr>\n",
       "    <tr>\n",
       "      <th>3</th>\n",
       "      <td>Rechteck</td>\n",
       "      <td>16597.0</td>\n",
       "      <td>23.0</td>\n",
       "      <td>NaN</td>\n",
       "    </tr>\n",
       "    <tr>\n",
       "      <th>4</th>\n",
       "      <td>sinus</td>\n",
       "      <td>1430.0</td>\n",
       "      <td>NaN</td>\n",
       "      <td>7.42</td>\n",
       "    </tr>\n",
       "  </tbody>\n",
       "</table>\n",
       "</div>"
      ],
      "text/plain": [
       "     Signal  Frequenz(Hz)  U_ss  U_eff\n",
       "0     sinus        1422.0  22.0    NaN\n",
       "1     sinus         538.5  23.0    NaN\n",
       "2   Dreieck       16596.0  23.0    NaN\n",
       "3  Rechteck       16597.0  23.0    NaN\n",
       "4     sinus        1430.0   NaN   7.42"
      ]
     },
     "execution_count": 6,
     "metadata": {},
     "output_type": "execute_result"
    }
   ],
   "source": [
    "# Daten:\n",
    "A1_df.head()"
   ]
  },
  {
   "cell_type": "code",
   "execution_count": 7,
   "id": "718c410d-c78d-481d-b523-b9267c13aa8d",
   "metadata": {},
   "outputs": [
    {
     "name": "stdout",
     "output_type": "stream",
     "text": [
      "0       sinus\n",
      "1       sinus\n",
      "2     Dreieck\n",
      "3    Rechteck\n",
      "Name: Signal, dtype: object\n",
      "\n",
      " Oszillator \n",
      "              Freq  U_ss\n",
      "sinus      1422.0  22.0\n",
      "sinus       538.5  23.0\n",
      "Dreieck   16596.0  23.0\n",
      "Rechteck  16597.0  23.0\n",
      "\n",
      " Multimeter\n",
      "             Freq   U_eff\n",
      "sinus     1430.0   7.420\n",
      "sinus      540.0   7.940\n",
      "Dreieck   1660.0   6.465\n",
      "Rechteck  1660.0  11.769\n"
     ]
    }
   ],
   "source": [
    "Signal= A1_df['Signal']\n",
    "A1_Osz1 = pd.Series(A1_df['Frequenz(Hz)'][0:4])\n",
    "#print(A1_Osz1)\n",
    "A1_Osz2 = pd.Series(A1_df['U_ss'][0:4])\n",
    "#print(A1_Osz2)\n",
    "print(Signal[0:4])\n",
    "A1_Osz = pd.DataFrame({'Freq': list(A1_Osz1),\n",
    "                       'U_ss':list(A1_Osz2)},\n",
    "                      index=['sinus','sinus','Dreieck','Rechteck'])#\n",
    "print('\\n','Oszillator','\\n',A1_Osz)\n",
    "\n",
    "A1_Mul = pd.DataFrame({'Freq': list(A1_df['Frequenz(Hz)'][4:8]),\n",
    "                     'U_eff':list(A1_df['U_eff'][4:8])},\n",
    "                    index=['sinus','sinus','Dreieck','Rechteck'])\n",
    "print('\\n','Multimeter\\n',A1_Mul)"
   ]
  },
  {
   "cell_type": "code",
   "execution_count": 8,
   "id": "df98f8aa-6ed7-4d2a-8eb4-7fd9c8b23c43",
   "metadata": {},
   "outputs": [
    {
     "name": "stdout",
     "output_type": "stream",
     "text": [
      "sinus        7.778175\n",
      "sinus        8.131728\n",
      "Dreieck      6.639528\n",
      "Rechteck    11.500000\n",
      "Name: U_ss, dtype: float64\n",
      "\n",
      "\n",
      "sinus        7.420\n",
      "sinus        7.940\n",
      "Dreieck      6.465\n",
      "Rechteck    11.769\n",
      "Name: U_eff, dtype: float64\n",
      "\n",
      "\n",
      "sinus      -0.358175\n",
      "sinus      -0.191728\n",
      "Dreieck    -0.174528\n",
      "Rechteck    0.269000\n",
      "dtype: float64\n"
     ]
    }
   ],
   "source": [
    "U_s = us(A1_Osz['U_ss'])\n",
    "faktor= [1/np.sqrt(2),1/np.sqrt(2),1/np.sqrt(3),1]\n",
    "U_eff = U_s * faktor\n",
    "print(U_eff)\n",
    "print('\\n')\n",
    "print(A1_Mul['U_eff'])\n",
    "print('\\n')\n",
    "diff = A1_Mul['U_eff']-U_eff\n",
    "print(diff)"
   ]
  },
  {
   "cell_type": "markdown",
   "id": "cea3e2bb-015f-400f-9ed6-77e38a28264c",
   "metadata": {
    "tags": []
   },
   "source": [
    "# Aufgabe 2"
   ]
  },
  {
   "cell_type": "code",
   "execution_count": 9,
   "id": "168c169a-0d2c-4f7b-87d6-a592e34870d2",
   "metadata": {},
   "outputs": [
    {
     "name": "stdout",
     "output_type": "stream",
     "text": [
      "Kapazität: 9.85e-08+-2.955e-08\n",
      "Ohmscher Widerstand Spule: 149.9+-1.2\n"
     ]
    }
   ],
   "source": [
    "# Kapazität Aufgabe 2\n",
    "C_A_2 = 98.5e-9\n",
    "err_c = 98.5e-9 * 0.3\n",
    "print(f\"Kapazität: {C_A_2}+-{err_c}\")\n",
    "\n",
    "# Ohmscher Widerstand Spule\n",
    "R_L = 149.90\n",
    "err_R_L = 149.90 * 0.8 /100\n",
    "print(f\"Ohmscher Widerstand Spule: {R_L}+-{round(err_R_L,1)}\")"
   ]
  },
  {
   "cell_type": "markdown",
   "id": "826de131-04d2-45f1-8129-9621dba67f1f",
   "metadata": {},
   "source": [
    "Aufrunden auf die siebte Nachkommastelle"
   ]
  },
  {
   "cell_type": "code",
   "execution_count": 10,
   "id": "67c08707-2b6e-4729-8f8a-fa1104ee19be",
   "metadata": {},
   "outputs": [
    {
     "name": "stdout",
     "output_type": "stream",
     "text": [
      "1e-07\n",
      "0.0\n"
     ]
    }
   ],
   "source": [
    "print(round(98.5e-9,7))\n",
    "print(round(err_c,7))"
   ]
  },
  {
   "cell_type": "markdown",
   "id": "a6b87d2e-d241-4db9-bbe0-e706f73338fa",
   "metadata": {
    "tags": []
   },
   "source": [
    "# Aufgabe 3/4"
   ]
  },
  {
   "cell_type": "markdown",
   "id": "f6924994-2a35-4c6c-87bc-4e3cf781664f",
   "metadata": {
    "tags": []
   },
   "source": [
    "## Datenladen und Ploten"
   ]
  },
  {
   "cell_type": "code",
   "execution_count": 11,
   "id": "8f94dd87-a6d1-4451-9264-672a07a36ddb",
   "metadata": {},
   "outputs": [
    {
     "data": {
      "text/html": [
       "<div>\n",
       "<style scoped>\n",
       "    .dataframe tbody tr th:only-of-type {\n",
       "        vertical-align: middle;\n",
       "    }\n",
       "\n",
       "    .dataframe tbody tr th {\n",
       "        vertical-align: top;\n",
       "    }\n",
       "\n",
       "    .dataframe thead th {\n",
       "        text-align: right;\n",
       "    }\n",
       "</style>\n",
       "<table border=\"1\" class=\"dataframe\">\n",
       "  <thead>\n",
       "    <tr style=\"text-align: right;\">\n",
       "      <th></th>\n",
       "      <th>Nr</th>\n",
       "      <th>Frequenz</th>\n",
       "      <th>U_ss_K1</th>\n",
       "      <th>U_ss_K2</th>\n",
       "    </tr>\n",
       "  </thead>\n",
       "  <tbody>\n",
       "    <tr>\n",
       "      <th>0</th>\n",
       "      <td>1</td>\n",
       "      <td>1053</td>\n",
       "      <td>14</td>\n",
       "      <td>14.00</td>\n",
       "    </tr>\n",
       "    <tr>\n",
       "      <th>1</th>\n",
       "      <td>2</td>\n",
       "      <td>1884</td>\n",
       "      <td>14</td>\n",
       "      <td>13.80</td>\n",
       "    </tr>\n",
       "    <tr>\n",
       "      <th>2</th>\n",
       "      <td>3</td>\n",
       "      <td>3010</td>\n",
       "      <td>14</td>\n",
       "      <td>14.00</td>\n",
       "    </tr>\n",
       "    <tr>\n",
       "      <th>3</th>\n",
       "      <td>4</td>\n",
       "      <td>3974</td>\n",
       "      <td>14</td>\n",
       "      <td>14.25</td>\n",
       "    </tr>\n",
       "    <tr>\n",
       "      <th>4</th>\n",
       "      <td>5</td>\n",
       "      <td>5152</td>\n",
       "      <td>14</td>\n",
       "      <td>14.05</td>\n",
       "    </tr>\n",
       "    <tr>\n",
       "      <th>5</th>\n",
       "      <td>6</td>\n",
       "      <td>5855</td>\n",
       "      <td>14</td>\n",
       "      <td>14.00</td>\n",
       "    </tr>\n",
       "  </tbody>\n",
       "</table>\n",
       "</div>"
      ],
      "text/plain": [
       "   Nr  Frequenz  U_ss_K1  U_ss_K2\n",
       "0   1      1053       14    14.00\n",
       "1   2      1884       14    13.80\n",
       "2   3      3010       14    14.00\n",
       "3   4      3974       14    14.25\n",
       "4   5      5152       14    14.05\n",
       "5   6      5855       14    14.00"
      ]
     },
     "execution_count": 11,
     "metadata": {},
     "output_type": "execute_result"
    }
   ],
   "source": [
    "A3_df"
   ]
  },
  {
   "cell_type": "code",
   "execution_count": 12,
   "id": "b23838e3-f110-4466-99b8-fa7fb2a85dbe",
   "metadata": {},
   "outputs": [],
   "source": [
    "U_2 = np.array(A3_df['U_ss_K1'])\n",
    "U_1 = np.array(A3_df['U_ss_K2'])\n",
    "f = np.array(A3_df['Frequenz'])\n",
    "R_p = 10e3*np.ones(6)"
   ]
  },
  {
   "cell_type": "code",
   "execution_count": 13,
   "id": "573913d6-7aae-4c3b-999c-30d6deab3aa1",
   "metadata": {},
   "outputs": [
    {
     "name": "stdout",
     "output_type": "stream",
     "text": [
      "[10000. 10000. 10000. 10000. 10000. 10000.]\n"
     ]
    }
   ],
   "source": [
    "print(R_p)"
   ]
  },
  {
   "cell_type": "code",
   "execution_count": 14,
   "id": "70397225-a41e-482c-b395-1791046fc8bd",
   "metadata": {},
   "outputs": [
    {
     "name": "stdout",
     "output_type": "stream",
     "text": [
      "6\n",
      "6\n",
      "6\n"
     ]
    }
   ],
   "source": [
    "print(len(U_2))\n",
    "print(len(U_1))\n",
    "print(len(R_p))"
   ]
  },
  {
   "cell_type": "code",
   "execution_count": 15,
   "id": "c6f5e921-867d-42c7-b4a7-ce2c4f32424e",
   "metadata": {},
   "outputs": [
    {
     "data": {
      "text/plain": [
       "array([   0.        , -142.85714286,    0.        ,  178.57142857,\n",
       "         35.71428571,    0.        ])"
      ]
     },
     "execution_count": 15,
     "metadata": {},
     "output_type": "execute_result"
    }
   ],
   "source": [
    "Z = Z_1(U_1,U_2,R_p)\n",
    "Z"
   ]
  },
  {
   "cell_type": "code",
   "execution_count": 16,
   "id": "b94fdbf6-0d49-495e-8177-bd71daeea6b2",
   "metadata": {},
   "outputs": [
    {
     "data": {
      "text/plain": [
       "array([ 0.        , -0.14285714,  0.        ,  0.17857143,  0.03571429,\n",
       "        0.        ])"
      ]
     },
     "execution_count": 16,
     "metadata": {},
     "output_type": "execute_result"
    }
   ],
   "source": [
    "Zz = Z_1(U_1,U_2,R_p/1e3)\n",
    "Zz"
   ]
  },
  {
   "cell_type": "code",
   "execution_count": 17,
   "id": "768ebb19-4d61-4dc7-abb0-93a60df7c600",
   "metadata": {},
   "outputs": [
    {
     "data": {
      "image/png": "[encoded data removed]",
      "text/plain": [
       "<Figure size 640x480 with 1 Axes>"
      ]
     },
     "metadata": {},
     "output_type": "display_data"
    }
   ],
   "source": [
    "plt.plot(f,Z,'o')\n",
    "plt.xlabel(r'Frequenz')\n",
    "plt.show()"
   ]
  },
  {
   "cell_type": "code",
   "execution_count": null,
   "id": "98336dda-0bd4-4faa-ae78-180c835dca31",
   "metadata": {},
   "outputs": [],
   "source": []
  },
  {
   "cell_type": "code",
   "execution_count": 18,
   "id": "5d21039e-b712-4161-ab57-0e406f8ec910",
   "metadata": {},
   "outputs": [
    {
     "name": "stdout",
     "output_type": "stream",
     "text": [
      "[1053 1884 3010 3974 5152 5855]\n",
      "[   0.         -142.85714286    0.          178.57142857   35.71428571\n",
      "    0.        ]\n"
     ]
    }
   ],
   "source": [
    "xa3 = np.ones(6)\n",
    "for i in range(6):\n",
    "    xa3[i] = float(f[i])\n",
    "\n",
    "\n",
    "ya3 = Z\n",
    "print(f)\n",
    "print(ya3)"
   ]
  },
  {
   "cell_type": "code",
   "execution_count": 19,
   "id": "3cdf5952-f363-4407-9a93-0b5162bbaaf0",
   "metadata": {},
   "outputs": [
    {
     "name": "stdout",
     "output_type": "stream",
     "text": [
      "0.006914633987691402\n",
      "-0.0002465503970657967\n"
     ]
    }
   ],
   "source": [
    "pop,cov = curve_fit(Z_2,xa3,ya3)\n",
    "a3,b3 = pop\n",
    "# da3,db3 = np.diagonal(np.sqrt(cov))\n",
    "\n",
    "print(a3)\n",
    "print(b3)"
   ]
  },
  {
   "cell_type": "code",
   "execution_count": 20,
   "id": "20bf9aa2-4e79-4ced-984b-c7c25ba788f6",
   "metadata": {},
   "outputs": [],
   "source": [
    "pop, cov = curve_fit(reg2,xa3,ya3)\n",
    "a3_2,b3_2= pop"
   ]
  },
  {
   "cell_type": "code",
   "execution_count": 21,
   "id": "eb1b8944-d2df-487c-b4f7-86f33dac97b5",
   "metadata": {},
   "outputs": [],
   "source": [
    "x_plot = np.arange(0,10e2,100)\n",
    "# print(x_plot)\n",
    "y_plot = Z_2(x_plot,a3,b3)\n",
    "y_plot_2 = reg2(x_plot,a3_2,b3_2)\n",
    "#print(y_plot_2)"
   ]
  },
  {
   "cell_type": "code",
   "execution_count": 22,
   "id": "6b257729-e36d-4985-9430-ca8f87a73361",
   "metadata": {},
   "outputs": [
    {
     "data": {
      "image/png": "[encoded data removed]",
      "text/plain": [
       "<Figure size 640x480 with 1 Axes>"
      ]
     },
     "metadata": {},
     "output_type": "display_data"
    }
   ],
   "source": [
    "plt.plot(f,Z,'ro',label='Datenpunkte')\n",
    "#plt.plot(x_plot,y_plot,'b--',label='Fitkurve')\n",
    "plt.plot(x_plot,y_plot_2,'--',color='green',label=r'Fit: $Z(f) = \\frac{1}{a\\cdot f +b}$')\n",
    "plt.xlabel(r'Frequenz')\n",
    "plt.ylabel(r'$|Z|$')\n",
    "plt.legend()\n",
    "plt.show()"
   ]
  },
  {
   "cell_type": "markdown",
   "id": "a0d13d7c-dc7d-4f57-b046-075d0365db5c",
   "metadata": {
    "tags": []
   },
   "source": [
    "## Test"
   ]
  },
  {
   "cell_type": "code",
   "execution_count": 23,
   "id": "1fe31cb0-bea2-4ee6-823b-11b42f95280e",
   "metadata": {},
   "outputs": [
    {
     "name": "stderr",
     "output_type": "stream",
     "text": [
      "C:\\Users\\benjf\\AppData\\Local\\Temp\\ipykernel_37020\\4128341487.py:2: RuntimeWarning: divide by zero encountered in divide\n",
      "  Z_test= np.sqrt(10e3**2 + (1/(2*np.pi*C_A_2*f_test))**2)\n"
     ]
    }
   ],
   "source": [
    "f_test = np.arange(-6000, 6000, 600)\n",
    "Z_test= np.sqrt(10e3**2 + (1/(2*np.pi*C_A_2*f_test))**2)"
   ]
  },
  {
   "cell_type": "code",
   "execution_count": 24,
   "id": "e3ab1030-4068-4405-87b4-0016baaa61f5",
   "metadata": {},
   "outputs": [
    {
     "name": "stdout",
     "output_type": "stream",
     "text": [
      "a^{2}\n"
     ]
    }
   ],
   "source": [
    "print(r\"a^{2}\")"
   ]
  },
  {
   "cell_type": "code",
   "execution_count": 25,
   "id": "5d904d2a-8fbc-4a97-9227-74272110b175",
   "metadata": {},
   "outputs": [
    {
     "name": "stdout",
     "output_type": "stream",
     "text": [
      "$|Z|=\\sqrt{R_{p}^{2}+ \\left(\\frac{1}{2 \\pi C f_{test}}\\right)^{2}}$ \n",
      "\n"
     ]
    },
    {
     "data": {
      "image/png": "[encoded data removed]",
      "text/plain": [
       "<Figure size 640x480 with 1 Axes>"
      ]
     },
     "metadata": {},
     "output_type": "display_data"
    }
   ],
   "source": [
    "# Funktion:\n",
    "print(r'$|Z|=\\sqrt{R_{p}^{2}+ \\left(\\frac{1}{2 \\pi C f_{test}}\\right)^{2}}$','\\n')\n",
    "plt.plot(f_test,Z_test,'b--',label='(15), siehe Skript')\n",
    "#\n",
    "plt.plot(f,Z,'ro',label='Datenpunkte')\n",
    "plt.legend()\n",
    "plt.show()"
   ]
  },
  {
   "cell_type": "markdown",
   "id": "676a589f-8dfa-4fbc-bd52-30d9af5e706f",
   "metadata": {},
   "source": [
    "## Simulierte Daten von Kacper mit unseren Gemessenen Daten:"
   ]
  },
  {
   "cell_type": "code",
   "execution_count": 26,
   "id": "b1b5f68a-eaa2-4aa4-91ac-15f6171f6216",
   "metadata": {},
   "outputs": [],
   "source": [
    "f_sim = np.array([1.05, 1.88, 3.01,3.97, 5.15, 5.86])*1000\n",
    "U1_sim = np.array([13.92,13.92,13.91,13.91,13.91,13.92])\n",
    "U2_sim = np.array([13.45,13.73, 13.83, 13.87, 13.88,13.89])\n",
    "# print(len(U1_sim))\n",
    "# print(len(U2_sim))\n",
    "# print(1/U2_sim**2)\n",
    "Umkehr_U2_sim = 2/U2_sim"
   ]
  },
  {
   "cell_type": "code",
   "execution_count": 27,
   "id": "902e08fc-033c-4613-9eab-6e743a4e90f8",
   "metadata": {
    "tags": []
   },
   "outputs": [
    {
     "data": {
      "text/plain": [
       "array([349.44237918, 138.38310269,  57.84526392,  28.83922134,\n",
       "        21.61383285,  21.59827214])"
      ]
     },
     "execution_count": 27,
     "metadata": {},
     "output_type": "execute_result"
    }
   ],
   "source": [
    "Z_sim = Z_1(U1_sim,U2_sim,R_p)\n",
    "Z_sim"
   ]
  },
  {
   "cell_type": "markdown",
   "id": "f456a97a-16ae-48f0-867d-eaa52d199f1f",
   "metadata": {},
   "source": [
    "### Fehlerberechnung"
   ]
  },
  {
   "cell_type": "code",
   "execution_count": 28,
   "id": "fdb356b8-34d5-44cf-8ecf-4e4bf703bb7a",
   "metadata": {
    "tags": []
   },
   "outputs": [
    {
     "name": "stdout",
     "output_type": "stream",
     "text": [
      "[100. 100. 100. 100. 100. 100.]\n",
      "[34.24249916 33.39774061 33.10734443 33.00808611 32.98375428 32.98538518]\n"
     ]
    }
   ],
   "source": [
    "# |z| Fehler berechnen\n",
    "\n",
    "u_U_sim= 0.0025 * np.ones(6)\n",
    "# print(U_sim_err)\n",
    "\n",
    "u_R_p = R_p * 0.01  # 4 Ziffern, siehe Blatt <<Technische Daten>>\n",
    "print(u_R_p)\n",
    "# print(R_p)\n",
    "\n",
    "u_Z_sim = np.sqrt((U1_sim/U2_sim-1)**2 * u_R_p**2\n",
    "                  + R_p**2 * u_U_sim**2 * (U1_sim**2 / U2_sim**2\n",
    "                                           + ( U1_sim /U2_sim-Umkehr_U2_sim)**2))\n",
    "print(u_Z_sim)"
   ]
  },
  {
   "cell_type": "code",
   "execution_count": 29,
   "id": "af370cce-b3e7-4cc1-8523-70a7a72c8291",
   "metadata": {},
   "outputs": [
    {
     "name": "stdout",
     "output_type": "stream",
     "text": [
      "[3292.69444903 3242.33822154 3292.69444903 3355.64698817 3305.28432427\n",
      " 3292.69444903]\n"
     ]
    }
   ],
   "source": [
    "u_U = 0.05 * 5 * np.ones(6)\n",
    "# print(U_1)\n",
    "# print(U_2)\n",
    "# print(Z)\n",
    "u_z = np.sqrt((U_1/U_2-1)**2 * u_R_p**2\n",
    "                  + R_p**2 * u_U**2 * (U_1**2 / U_2**2\n",
    "                                           + ( U_1 /U_2-2/U_2)**2))\n",
    "print(u_z)"
   ]
  },
  {
   "cell_type": "markdown",
   "id": "2044313f-9b92-4c69-aa59-c49a583b5b7b",
   "metadata": {},
   "source": [
    "### Regression"
   ]
  },
  {
   "cell_type": "code",
   "execution_count": 30,
   "id": "a6390f9f-73e3-4b7d-944c-a4ce4739af93",
   "metadata": {},
   "outputs": [
    {
     "name": "stdout",
     "output_type": "stream",
     "text": [
      "a = (3.7+/-1.0)e-06\n",
      "b = 0.000111+/-0.000028\n"
     ]
    }
   ],
   "source": [
    "# Simulierte Daten\n",
    "pop,cov = curve_fit(reg2,Z_sim,f_sim,sigma=u_Z_sim)\n",
    "a_sim,b_sim = pop\n",
    "da_sim,db_sim=np.sqrt(np.diag(cov))\n",
    "print(f'a = {ufloat(a_sim,da_sim)}')\n",
    "print(f'b = {ufloat(b_sim,db_sim)}')"
   ]
  },
  {
   "cell_type": "code",
   "execution_count": 31,
   "id": "6b2fb294-8910-4c02-9622-3bc7a4b00039",
   "metadata": {},
   "outputs": [
    {
     "name": "stdout",
     "output_type": "stream",
     "text": [
      "6\n",
      "6\n",
      "[3292.69444903 3242.33822154 3292.69444903 3355.64698817 3305.28432427\n",
      " 3292.69444903]\n",
      "[   0.         -142.85714286    0.          178.57142857   35.71428571\n",
      "    0.        ]\n",
      "[1053 1884 3010 3974 5152 5855]\n"
     ]
    }
   ],
   "source": [
    "print(len(u_z))\n",
    "print(len(f))\n",
    "print(u_z)\n",
    "print(Z)\n",
    "print(f)"
   ]
  },
  {
   "cell_type": "code",
   "execution_count": 32,
   "id": "500ea5cb-b8dc-4379-85f9-ff41ba2b0186",
   "metadata": {},
   "outputs": [
    {
     "name": "stdout",
     "output_type": "stream",
     "text": [
      "[[inf inf]\n",
      " [inf inf]]\n",
      "a = -58007.94149045738+/-inf\n",
      "b = 0.00030248033877797924+/-inf\n"
     ]
    },
    {
     "name": "stderr",
     "output_type": "stream",
     "text": [
      "C:\\Users\\benjf\\AppData\\Local\\Temp\\ipykernel_37020\\4270350319.py:2: OptimizeWarning: Covariance of the parameters could not be estimated\n",
      "  pop,cov = curve_fit(reg2,Z,f,sigma=u_z)#\n"
     ]
    }
   ],
   "source": [
    "# Gemessene Daten:\n",
    "pop,cov = curve_fit(reg2,Z,f,sigma=u_z)#\n",
    "a_mes,b_mes = pop\n",
    "da_mes,db_mes=np.sqrt(np.diag(cov))\n",
    "print(cov)\n",
    "print(f'a = {ufloat(a_mes,da_mes)}')\n",
    "print(f'b = {ufloat(b_mes,db_mes)}')"
   ]
  },
  {
   "cell_type": "markdown",
   "id": "cd614dea-fd57-484e-9664-ae8c3899d5a2",
   "metadata": {},
   "source": [
    "#### Logarithmisierung"
   ]
  },
  {
   "cell_type": "code",
   "execution_count": 33,
   "id": "e40bacdb-a305-4fd7-8c08-7988fbe87f67",
   "metadata": {},
   "outputs": [
    {
     "name": "stdout",
     "output_type": "stream",
     "text": [
      "[ 1.00000000e-15 -1.42857143e+02  1.00000000e-15  1.78571429e+02\n",
      "  3.57142857e+01  1.00000000e-15]\n"
     ]
    }
   ],
   "source": [
    "Z22 = Z\n",
    "for i in range(len(Z)):\n",
    "    if Z22[i] ==0:\n",
    "        Z22[i] = 1e-15\n",
    "print(Z22)"
   ]
  },
  {
   "cell_type": "code",
   "execution_count": 34,
   "id": "59400479-b1f1-4c99-8b07-fb1e2bde4974",
   "metadata": {},
   "outputs": [
    {
     "name": "stdout",
     "output_type": "stream",
     "text": [
      "[ 1.00000000e-15 -1.42857143e+02  1.00000000e-15  1.78571429e+02\n",
      "  3.57142857e+01  1.00000000e-15]\n",
      "[1053 1884 3010 3974 5152 5855]\n",
      "[3292.69444903 3242.33822154 3292.69444903 3355.64698817 3305.28432427\n",
      " 3292.69444903]\n",
      "[-34.53877639   4.96184513 -34.53877639   5.18498868   3.57555077\n",
      " -34.53877639]\n"
     ]
    }
   ],
   "source": [
    "# logarithmisierung\n",
    "Z_log = np.log(abs(Z22))\n",
    "f_log = np.log(f)\n",
    "u_z_log = np.log(u_z)\n",
    "print(Z)\n",
    "print(f)\n",
    "print(u_z)\n",
    "print(Z_log)"
   ]
  },
  {
   "cell_type": "code",
   "execution_count": 35,
   "id": "9b21e97c-a3fe-45a5-9482-07b18624317f",
   "metadata": {},
   "outputs": [
    {
     "name": "stdout",
     "output_type": "stream",
     "text": [
      "[[0.00022322 0.00334572]\n",
      " [0.00334572 0.13557494]]\n",
      "a = 0.006+/-0.015\n",
      "b = 8.1+/-0.4\n"
     ]
    }
   ],
   "source": [
    "pop,cov = curve_fit(reg,Z_log,f_log,sigma=u_z_log)#\n",
    "a_mes_log,b_mes_log = pop\n",
    "da_mes_log,db_mes_log=np.sqrt(np.diag(cov))\n",
    "print(cov)\n",
    "print(f'a = {ufloat(a_mes_log,da_mes_log)}')\n",
    "print(f'b = {ufloat(b_mes_log,db_mes_log)}')"
   ]
  },
  {
   "cell_type": "code",
   "execution_count": 36,
   "id": "73b292f5-ac4d-4fd1-8b76-f967c9152564",
   "metadata": {},
   "outputs": [
    {
     "data": {
      "image/png": "[encoded data removed]",
      "text/plain": [
       "<Figure size 640x480 with 1 Axes>"
      ]
     },
     "metadata": {},
     "output_type": "display_data"
    }
   ],
   "source": [
    "plt.errorbar(f_log,Z_log,fmt='.',yerr=u_z_log,label='Messdaten')\n",
    "plt.plot(f_log,reg(f_log,a_mes_log,b_mes_log),label='Fit')\n",
    "plt.legend()\n",
    "plt.show()"
   ]
  },
  {
   "cell_type": "markdown",
   "id": "f301f455-9825-4d59-8334-4058956297c6",
   "metadata": {},
   "source": [
    "$\\textbf{Interpretation}$:  \n",
    "Das b aus der Regression können wir ignorieren, das es sehr nah an 0 liegt."
   ]
  },
  {
   "cell_type": "markdown",
   "id": "4281a83b-dcf6-48e0-9a29-e221e88421f8",
   "metadata": {},
   "source": [
    "### $\\chi^2$"
   ]
  },
  {
   "cell_type": "code",
   "execution_count": 37,
   "id": "03993867-fb22-4d06-8c6d-4e741acd5589",
   "metadata": {},
   "outputs": [
    {
     "name": "stdout",
     "output_type": "stream",
     "text": [
      "das chi Quadrat ist: 11.77\n",
      "das reduzierte chi Quadrat ist: 9.77\n"
     ]
    }
   ],
   "source": [
    "# Simulierte Daten\n",
    "chi_sim = chi_square(Z_sim,reg2(f_sim,a_sim,b_sim),u_Z_sim)\n",
    "chi_sim\n",
    "print(f'das chi Quadrat ist: {round(chi_sim,2)}')\n",
    "print(f'das reduzierte chi Quadrat ist: {round(chi_sim-2,2)}')"
   ]
  },
  {
   "cell_type": "markdown",
   "id": "9566f202-fbde-45c2-b8dc-dc5c9bf15c9d",
   "metadata": {},
   "source": [
    "$\\textbf{Interpretation}$:  \n",
    "Die Ablesefehler sind zu klein gewählt worden."
   ]
  },
  {
   "cell_type": "code",
   "execution_count": 38,
   "id": "d94851a1-a77d-45db-9d46-7f0b5d5f37e6",
   "metadata": {},
   "outputs": [
    {
     "name": "stdout",
     "output_type": "stream",
     "text": [
      "$chi^2$: 0.0\n",
      "reduziertes $chi^2_{\\mu}$: -2.0\n"
     ]
    }
   ],
   "source": [
    "# Gemessene Daten:\n",
    "chi_mes = round(chi_square(Z,reg2(f,a_mes,b_mes),u_z),2)\n",
    "print(fr'$chi^2$: {chi_mes}')\n",
    "print(r'reduziertes $chi^2_{\\mu}$:',f'{round(chi_mes-2,2)}')"
   ]
  },
  {
   "cell_type": "markdown",
   "id": "f69c71e1-bed6-4c9d-a968-7dfde2974cf9",
   "metadata": {},
   "source": [
    "$\\textbf{Interpretation}$:  \n",
    "Die Ablesefehler sind zu groß abgeschätzt worden. "
   ]
  },
  {
   "cell_type": "markdown",
   "id": "f2c0311e-8a08-4d57-9e30-1557dda4eb8d",
   "metadata": {
    "tags": []
   },
   "source": [
    "### $R^2$"
   ]
  },
  {
   "cell_type": "code",
   "execution_count": 39,
   "id": "1dd2edcc-622f-4895-96b4-e2b634c545a0",
   "metadata": {},
   "outputs": [
    {
     "name": "stdout",
     "output_type": "stream",
     "text": [
      "$R^2$ für die Simulierten Daten\n",
      "0.8370603734300366\n",
      "\n",
      "$R^2$ für die gemessenen Daten\n",
      "-0.016129032242396146\n"
     ]
    }
   ],
   "source": [
    "# mit from sklearn.metrics import r2_score für simulierte Daten:\n",
    "r_quad_sim = r2_score(Z_sim, reg2(f_sim,a_sim,b_sim))\n",
    "print(r'$R^2$ für die Simulierten Daten')\n",
    "print(r_quad_sim)\n",
    "\n",
    "# mit from sklearn.metrics import r2_score für gemessene Daten:\n",
    "r_quad_mes = r2_score(Z, reg2(f,a_mes,b_mes))\n",
    "print()\n",
    "print(r'$R^2$ für die gemessenen Daten')\n",
    "print(r_quad_mes)"
   ]
  },
  {
   "cell_type": "code",
   "execution_count": 40,
   "id": "bb799e0f-254f-4b07-8733-dda4fafaf104",
   "metadata": {},
   "outputs": [
    {
     "name": "stdout",
     "output_type": "stream",
     "text": [
      "\n",
      "Lineare Regression\n",
      "\n",
      "                            OLS Regression Results                            \n",
      "==============================================================================\n",
      "Dep. Variable:                      y   R-squared:                       0.695\n",
      "Model:                            OLS   Adj. R-squared:                  0.619\n",
      "Method:                 Least Squares   F-statistic:                     9.135\n",
      "Date:                Sat, 01 Mar 2025   Prob (F-statistic):             0.0391\n",
      "Time:                        16:34:48   Log-Likelihood:                -33.543\n",
      "No. Observations:                   6   AIC:                             71.09\n",
      "Df Residuals:                       4   BIC:                             70.67\n",
      "Df Model:                           1                                         \n",
      "Covariance Type:            nonrobust                                         \n",
      "==============================================================================\n",
      "                 coef    std err          t      P>|t|      [0.025      0.975]\n",
      "------------------------------------------------------------------------------\n",
      "const        303.6265     73.881      4.110      0.015      98.500     508.753\n",
      "x1            -0.0576      0.019     -3.022      0.039      -0.110      -0.005\n",
      "==============================================================================\n",
      "Omnibus:                          nan   Durbin-Watson:                   1.307\n",
      "Prob(Omnibus):                    nan   Jarque-Bera (JB):                0.611\n",
      "Skew:                           0.431   Prob(JB):                        0.737\n",
      "Kurtosis:                       1.697   Cond. No.                     8.84e+03\n",
      "==============================================================================\n",
      "\n",
      "Notes:\n",
      "[1] Standard Errors assume that the covariance matrix of the errors is correctly specified.\n",
      "[2] The condition number is large, 8.84e+03. This might indicate that there are\n",
      "strong multicollinearity or other numerical problems.\n"
     ]
    },
    {
     "name": "stderr",
     "output_type": "stream",
     "text": [
      "c:\\Users\\benjf\\anaconda3\\envs\\projects\\Lib\\site-packages\\statsmodels\\stats\\stattools.py:74: ValueWarning: omni_normtest is not valid with less than 8 observations; 6 samples were given.\n",
      "  warn(\"omni_normtest is not valid with less than 8 observations; %i \"\n"
     ]
    }
   ],
   "source": [
    "# mit Statsmodels für simulierte Daten\n",
    "y=Z_sim\n",
    "x_zunahme=sm.add_constant(f_sim)\n",
    "results_sim=sm.OLS(y,x_zunahme).fit()#,sigma=yerr\n",
    "print('''\n",
    "Lineare Regression\n",
    "''')\n",
    "print(results_sim.summary())"
   ]
  },
  {
   "cell_type": "code",
   "execution_count": 41,
   "id": "e4b92204-c37e-4f93-a2e9-a9f9d87e813e",
   "metadata": {},
   "outputs": [
    {
     "name": "stdout",
     "output_type": "stream",
     "text": [
      "\n",
      "Lineare Regression\n",
      "\n",
      "                            OLS Regression Results                            \n",
      "==============================================================================\n",
      "Dep. Variable:                      y   R-squared:                       0.154\n",
      "Model:                            OLS   Adj. R-squared:                 -0.057\n",
      "Method:                 Least Squares   F-statistic:                    0.7289\n",
      "Date:                Sat, 01 Mar 2025   Prob (F-statistic):              0.441\n",
      "Time:                        16:34:48   Log-Likelihood:                -35.254\n",
      "No. Observations:                   6   AIC:                             74.51\n",
      "Df Residuals:                       4   BIC:                             74.09\n",
      "Df Model:                           1                                         \n",
      "Covariance Type:            nonrobust                                         \n",
      "==============================================================================\n",
      "                 coef    std err          t      P>|t|      [0.025      0.975]\n",
      "------------------------------------------------------------------------------\n",
      "const        -63.6070     98.393     -0.646      0.553    -336.789     209.575\n",
      "x1             0.0216      0.025      0.854      0.441      -0.049       0.092\n",
      "==============================================================================\n",
      "Omnibus:                          nan   Durbin-Watson:                   2.146\n",
      "Prob(Omnibus):                    nan   Jarque-Bera (JB):                0.311\n",
      "Skew:                           0.492   Prob(JB):                        0.856\n",
      "Kurtosis:                       2.476   Cond. No.                     8.86e+03\n",
      "==============================================================================\n",
      "\n",
      "Notes:\n",
      "[1] Standard Errors assume that the covariance matrix of the errors is correctly specified.\n",
      "[2] The condition number is large, 8.86e+03. This might indicate that there are\n",
      "strong multicollinearity or other numerical problems.\n"
     ]
    },
    {
     "name": "stderr",
     "output_type": "stream",
     "text": [
      "c:\\Users\\benjf\\anaconda3\\envs\\projects\\Lib\\site-packages\\statsmodels\\stats\\stattools.py:74: ValueWarning: omni_normtest is not valid with less than 8 observations; 6 samples were given.\n",
      "  warn(\"omni_normtest is not valid with less than 8 observations; %i \"\n"
     ]
    }
   ],
   "source": [
    "# mit Statsmodels für simulierte Daten\n",
    "y=Z\n",
    "x_zunahme=sm.add_constant(f)\n",
    "results_mes=sm.OLS(y,x_zunahme).fit()#,sigma=u_z\n",
    "print('''\n",
    "Lineare Regression\n",
    "''')\n",
    "print(results_mes.summary())"
   ]
  },
  {
   "cell_type": "markdown",
   "id": "090d3d81-2948-40bd-83b7-2327942b3fef",
   "metadata": {},
   "source": [
    "### Plot"
   ]
  },
  {
   "cell_type": "code",
   "execution_count": 42,
   "id": "7dd9309a-1875-4d6c-b473-503eac28ffce",
   "metadata": {},
   "outputs": [],
   "source": [
    "ff_sim = np.arange(800,6000,100)\n",
    "Zz_sim = reg2(ff_sim,a_sim,b_sim)\n",
    "Zz = reg2(ff_sim,a_mes,b_mes)"
   ]
  },
  {
   "cell_type": "code",
   "execution_count": 43,
   "id": "8f9a4113-f504-4b78-ab35-3b1079db2328",
   "metadata": {},
   "outputs": [
    {
     "data": {
      "image/png": "[encoded data removed]",
      "text/plain": [
       "<Figure size 640x480 with 1 Axes>"
      ]
     },
     "metadata": {},
     "output_type": "display_data"
    }
   ],
   "source": [
    "plt.errorbar(f_sim,Z_sim,yerr=u_Z_sim,fmt='.',color='red',label='Simulierte Daten')\n",
    "\n",
    "plt.plot(ff_sim,Zz_sim,label=r'Sim. Daten Fit: $|Z| = \\frac{1}{a\\cdot f + b}$')\n",
    "plt.xlabel(r'Frequenz $f$ [Hz]')\n",
    "plt.ylabel(r'Scheinwiderstand $|Z|(f)$ [$\\Omega$]')\n",
    "plt.legend()\n",
    "plt.show()"
   ]
  },
  {
   "cell_type": "code",
   "execution_count": 44,
   "id": "ed0a5e8f-43e2-4cb6-a30e-7e8f2f750101",
   "metadata": {},
   "outputs": [
    {
     "data": {
      "image/png": "[encoded data removed]",
      "text/plain": [
       "<Figure size 640x480 with 1 Axes>"
      ]
     },
     "metadata": {},
     "output_type": "display_data"
    }
   ],
   "source": [
    "plt.errorbar(f, Z,yerr=u_z, fmt='o',color='g', label='Messpunkte')\n",
    "plt.plot(ff_sim,Zz,label=r'Fit: $|Z| = \\frac{1}{a\\cdot f + b}$')\n",
    "plt.xlabel(r'Frequenz $f$ [Hz]')\n",
    "plt.ylabel(r'Scheinwiderstand $|Z|(f)$ [$\\Omega$]')\n",
    "plt.legend()\n",
    "plt.show()"
   ]
  },
  {
   "cell_type": "markdown",
   "id": "4279e38a-cdb2-47ff-966e-3abd5ed75673",
   "metadata": {},
   "source": [
    "### Residuen"
   ]
  },
  {
   "cell_type": "code",
   "execution_count": 45,
   "id": "54490927-8b8f-4179-9ead-4ed3a1e2e9b6",
   "metadata": {},
   "outputs": [
    {
     "name": "stdout",
     "output_type": "stream",
     "text": [
      "[ 1.90873247 -0.86831844 -1.00899586 -0.644083    0.22081343  0.9751549 ]\n"
     ]
    }
   ],
   "source": [
    "# für simulierte Daten:\n",
    "influence_sim = results_sim.get_influence()\n",
    "\n",
    "# standardisierte Residuen erhalten\n",
    "standardized_residuals_sim = influence_sim.resid_studentized_internal\n",
    "\n",
    "# standardisierte Residuen anzeigen\n",
    "print(standardized_residuals_sim)"
   ]
  },
  {
   "cell_type": "code",
   "execution_count": 46,
   "id": "5243a300-acc5-499e-aa66-9634b1058866",
   "metadata": {},
   "outputs": [
    {
     "data": {
      "image/png": "[encoded data removed]",
      "text/plain": [
       "<Figure size 640x480 with 1 Axes>"
      ]
     },
     "metadata": {},
     "output_type": "display_data"
    }
   ],
   "source": [
    "plt.plot(f_sim, standardized_residuals_sim,'o')\n",
    "plt.xlabel('Frequenz')\n",
    "plt.ylabel('Standardisierte Residuen')\n",
    "plt.axhline(y=0, color='black', linestyle='--', linewidth=1)\n",
    "plt.show()"
   ]
  },
  {
   "cell_type": "code",
   "execution_count": 47,
   "id": "6c8319e4-2005-4aec-b5b5-053a307b7f9b",
   "metadata": {},
   "outputs": [
    {
     "name": "stdout",
     "output_type": "stream",
     "text": [
      "[ 0.55139077 -1.37364392 -0.01627789  1.63337358 -0.14094438 -0.83729543]\n"
     ]
    }
   ],
   "source": [
    "# für gemessene Daten:\n",
    "influence_mes = results_mes.get_influence()\n",
    "\n",
    "# standardisierte Residuen erhalten\n",
    "standardized_residuals_mes = influence_mes.resid_studentized_internal\n",
    "\n",
    "# standardisierte Residuen anzeigen\n",
    "print(standardized_residuals_mes)"
   ]
  },
  {
   "cell_type": "code",
   "execution_count": 48,
   "id": "3111bfb1-17af-4fef-9603-7f3addf0fa1c",
   "metadata": {},
   "outputs": [
    {
     "data": {
      "image/png": "[encoded data removed]",
      "text/plain": [
       "<Figure size 640x480 with 1 Axes>"
      ]
     },
     "metadata": {},
     "output_type": "display_data"
    }
   ],
   "source": [
    "plt.plot(f_sim, standardized_residuals_mes,'o')\n",
    "plt.xlabel('Frequenz')\n",
    "plt.ylabel('Standardisierte Residuen')\n",
    "plt.axhline(y=0, color='black', linestyle='--', linewidth=1)\n",
    "plt.show()"
   ]
  },
  {
   "cell_type": "markdown",
   "id": "5add42a3-7db6-43ae-a2c4-dcb14c70a773",
   "metadata": {
    "tags": []
   },
   "source": [
    "## Berechnung von C aus Regression:  \n",
    "Das b in der Regressionsformal ignorieren wir. Begründung steht weiter in der Interpretation der Regressionsparameter\n",
    "$$ |Z| = \\frac{1}{a\\cdot f} \\\\ |Z| = \\frac{1}{2 \\cdot \\pi\\cdot f\\cdot C} \\\\ \\Rightarrow C = \\frac{a}{2\\pi}$$"
   ]
  },
  {
   "cell_type": "code",
   "execution_count": 49,
   "id": "1d9ff7dd-931a-4b4c-be32-f52185cbc33c",
   "metadata": {},
   "outputs": [
    {
     "name": "stdout",
     "output_type": "stream",
     "text": [
      "5.82084569640125e-07\n",
      "-9232.250626791738\n"
     ]
    }
   ],
   "source": [
    "# für die simulierten Daten:\n",
    "C_sim = a_sim/(2*np.pi)\n",
    "C_mes = a_mes/(2* np.pi)\n",
    "print(C_sim)\n",
    "print(C_mes)"
   ]
  },
  {
   "cell_type": "code",
   "execution_count": 50,
   "id": "b0128a92-e4ca-4b7a-baa2-74840c8e76ba",
   "metadata": {},
   "outputs": [],
   "source": [
    "# mit Fehler:\n"
   ]
  },
  {
   "cell_type": "markdown",
   "id": "4bfd6b6f-1be0-49c8-aae1-714ec19f0e05",
   "metadata": {
    "tags": []
   },
   "source": [
    "# Aufgabe 5/6"
   ]
  },
  {
   "cell_type": "code",
   "execution_count": 51,
   "id": "80530a9a-14ed-4656-88e0-fb3b5d3f423b",
   "metadata": {},
   "outputs": [
    {
     "data": {
      "text/html": [
       "<div>\n",
       "<style scoped>\n",
       "    .dataframe tbody tr th:only-of-type {\n",
       "        vertical-align: middle;\n",
       "    }\n",
       "\n",
       "    .dataframe tbody tr th {\n",
       "        vertical-align: top;\n",
       "    }\n",
       "\n",
       "    .dataframe thead th {\n",
       "        text-align: right;\n",
       "    }\n",
       "</style>\n",
       "<table border=\"1\" class=\"dataframe\">\n",
       "  <thead>\n",
       "    <tr style=\"text-align: right;\">\n",
       "      <th></th>\n",
       "      <th>Nr</th>\n",
       "      <th>Frequenz</th>\n",
       "      <th>U_2</th>\n",
       "      <th>U_1</th>\n",
       "      <th>T_1/2(ms)</th>\n",
       "      <th>t_D(ms)</th>\n",
       "    </tr>\n",
       "  </thead>\n",
       "  <tbody>\n",
       "    <tr>\n",
       "      <th>0</th>\n",
       "      <td>1</td>\n",
       "      <td>31.55</td>\n",
       "      <td>22.50</td>\n",
       "      <td>21.50</td>\n",
       "      <td>15.0</td>\n",
       "      <td>15.0</td>\n",
       "    </tr>\n",
       "    <tr>\n",
       "      <th>1</th>\n",
       "      <td>2</td>\n",
       "      <td>41.73</td>\n",
       "      <td>22.50</td>\n",
       "      <td>23.00</td>\n",
       "      <td>12.0</td>\n",
       "      <td>12.0</td>\n",
       "    </tr>\n",
       "    <tr>\n",
       "      <th>2</th>\n",
       "      <td>3</td>\n",
       "      <td>52.50</td>\n",
       "      <td>22.50</td>\n",
       "      <td>22.75</td>\n",
       "      <td>9.0</td>\n",
       "      <td>9.0</td>\n",
       "    </tr>\n",
       "    <tr>\n",
       "      <th>3</th>\n",
       "      <td>4</td>\n",
       "      <td>60.60</td>\n",
       "      <td>22.25</td>\n",
       "      <td>22.50</td>\n",
       "      <td>8.0</td>\n",
       "      <td>8.0</td>\n",
       "    </tr>\n",
       "    <tr>\n",
       "      <th>4</th>\n",
       "      <td>5</td>\n",
       "      <td>70.20</td>\n",
       "      <td>22.50</td>\n",
       "      <td>23.00</td>\n",
       "      <td>7.2</td>\n",
       "      <td>7.2</td>\n",
       "    </tr>\n",
       "  </tbody>\n",
       "</table>\n",
       "</div>"
      ],
      "text/plain": [
       "   Nr  Frequenz    U_2    U_1  T_1/2(ms)  t_D(ms)\n",
       "0   1     31.55  22.50  21.50       15.0     15.0\n",
       "1   2     41.73  22.50  23.00       12.0     12.0\n",
       "2   3     52.50  22.50  22.75        9.0      9.0\n",
       "3   4     60.60  22.25  22.50        8.0      8.0\n",
       "4   5     70.20  22.50  23.00        7.2      7.2"
      ]
     },
     "execution_count": 51,
     "metadata": {},
     "output_type": "execute_result"
    }
   ],
   "source": [
    "A5_df.head()"
   ]
  },
  {
   "cell_type": "markdown",
   "id": "14e5c7c7-107f-4649-ad99-3fc333494ed9",
   "metadata": {},
   "source": [
    "## DataFrame in Arrays umwandeln"
   ]
  },
  {
   "cell_type": "code",
   "execution_count": 52,
   "id": "3954962b-825c-4cf5-bd40-576fef7e0087",
   "metadata": {},
   "outputs": [
    {
     "name": "stdout",
     "output_type": "stream",
     "text": [
      "[-444.44444444  222.22222222  111.11111111  112.35955056  222.22222222\n",
      "  111.11111111  454.54545455  111.11111111  112.35955056  224.71910112]\n"
     ]
    }
   ],
   "source": [
    "U1_A6 = np.array(A5_df['U_1'])\n",
    "U2_A6 = np.array(A5_df['U_2'])\n",
    "f_A6= np.array(A5_df['Frequenz'])\n",
    "R_p = 10e3*np.ones(10)\n",
    "\n",
    "# Scheinwiderstand\n",
    "Z_A6 = R_p * (U1_A6-U2_A6)/U2_A6\n",
    "print(Z_A6)\n",
    "\n",
    "# Phasenverschiebung\n",
    "t_D =  np.array(A5_df['t_D(ms)'])*1e-3\n",
    "T_halb = np.array(A5_df['T_1/2(ms)'])*1e-3"
   ]
  },
  {
   "cell_type": "markdown",
   "id": "27ddc5ac-5381-4876-b189-2730fd4255f4",
   "metadata": {},
   "source": [
    "## Visualisierung"
   ]
  },
  {
   "cell_type": "code",
   "execution_count": 53,
   "id": "8082f17d-86d9-4b48-b9ca-3da50aa851ff",
   "metadata": {},
   "outputs": [
    {
     "data": {
      "image/png": "[encoded data removed]",
      "text/plain": [
       "<Figure size 640x480 with 1 Axes>"
      ]
     },
     "metadata": {},
     "output_type": "display_data"
    }
   ],
   "source": [
    "plt.plot(f_A6, Z_A6,'.')\n",
    "plt.show()"
   ]
  },
  {
   "cell_type": "markdown",
   "id": "f9b5da1c-8cac-445c-bc63-abe9f13cf11c",
   "metadata": {},
   "source": [
    "## Fehlerrechnung"
   ]
  },
  {
   "cell_type": "code",
   "execution_count": 54,
   "id": "740a7fbf-29c1-461a-be67-fdce9c5bd8c6",
   "metadata": {},
   "outputs": [
    {
     "name": "stdout",
     "output_type": "stream",
     "text": [
      "[3225.09756767 3460.53660293 3421.29334436 3420.05215203 3460.53660293\n",
      " 3421.29334436 3539.18735128 3421.29334436 3420.05215203 3459.73538996]\n"
     ]
    }
   ],
   "source": [
    "u_U = 0.05 * 5 * np.ones(10)\n",
    "u_R_p =  R_p * 0.01\n",
    "# print(U_1)\n",
    "# print(U_2)\n",
    "# print(Z)\n",
    "u_z = np.sqrt((U1_A6/U2_A6-1)**2 * u_R_p**2\n",
    "                  + R_p**2 * u_U**2 * (U1_A6**2 / U2_A6**2\n",
    "                                           + ( U1_A6 /U2_A6-2/U2_A6)**2))\n",
    "print(u_z)"
   ]
  },
  {
   "cell_type": "markdown",
   "id": "9ed13a21-b301-46ea-933c-49cd5fc9237b",
   "metadata": {},
   "source": [
    "## Regression"
   ]
  },
  {
   "cell_type": "code",
   "execution_count": 55,
   "id": "8ec092b4-e354-4d40-a83b-2113bff4e49b",
   "metadata": {},
   "outputs": [
    {
     "name": "stdout",
     "output_type": "stream",
     "text": [
      "a = 0.22+/-0.24\n",
      "b = (1.5+/-0.6)e+02\n"
     ]
    }
   ],
   "source": [
    "pop,cov = curve_fit(reg,Z_A6,f_A6,sigma=u_z)\n",
    "a,b = pop\n",
    "da_A6, db_A6= np.sqrt(np.diag(cov))\n",
    "print(f'a = {ufloat(a,da_A6)}')\n",
    "print(f'b = {ufloat(b,db_A6)}')"
   ]
  },
  {
   "cell_type": "markdown",
   "id": "521a17b6-11fb-4e74-8561-170e7333e1fc",
   "metadata": {},
   "source": [
    "### Visualisierung der Regression"
   ]
  },
  {
   "cell_type": "code",
   "execution_count": 56,
   "id": "bb31ea10-d5d2-43f0-85a1-2d23e64bffee",
   "metadata": {},
   "outputs": [],
   "source": [
    "ff6 = np.arange(0,551,50)\n",
    "Z_reg6 = reg(ff6,a,b,)"
   ]
  },
  {
   "cell_type": "code",
   "execution_count": 57,
   "id": "7fb2e1c5-15fb-4b55-88d6-b1323a058350",
   "metadata": {},
   "outputs": [
    {
     "data": {
      "image/png": "[encoded data removed]",
      "text/plain": [
       "<Figure size 640x480 with 1 Axes>"
      ]
     },
     "metadata": {},
     "output_type": "display_data"
    }
   ],
   "source": [
    "#plt.errorbar(f_A6, Z_A6,fmt='.',yerr=u_z,label='Messpunkt')\n",
    "plt.plot(f_A6, Z_A6,'r.',label='Messpunkt')\n",
    "plt.plot(ff6, Z_reg6,label=r'Fit: $|Z(f)| = a \\cdot f +b$')\n",
    "plt.xlabel(r'Frequenz $f$ [Hz]')\n",
    "plt.ylabel(r'Scheinwiderstand $|Z|(f)$ [$\\Omega$]')\n",
    "plt.legend()\n",
    "plt.show()"
   ]
  },
  {
   "cell_type": "markdown",
   "id": "11970255-15f0-4afb-99dc-9b5ef5699393",
   "metadata": {},
   "source": [
    "## $\\chi^2$"
   ]
  },
  {
   "cell_type": "code",
   "execution_count": 58,
   "id": "2cbb6a83-35f9-4eae-ac55-23860b0f074d",
   "metadata": {},
   "outputs": [
    {
     "name": "stdout",
     "output_type": "stream",
     "text": [
      "das chi Quadrat ist: 0.04\n",
      "das reduzierte chi Quadrat ist: -1.96\n"
     ]
    }
   ],
   "source": [
    "chi_A6 = chi_square(Z_A6,reg(f_A6,a,b),u_z)\n",
    "chi_A6\n",
    "print(f'das chi Quadrat ist: {round(chi_A6,2)}')\n",
    "print(f'das reduzierte chi Quadrat ist: {round(chi_A6-2,2)}')"
   ]
  },
  {
   "cell_type": "markdown",
   "id": "9d69920a-0d19-446b-b42f-24c819bbae2c",
   "metadata": {},
   "source": [
    "## $R^2$"
   ]
  },
  {
   "cell_type": "code",
   "execution_count": 59,
   "id": "d587714d-770e-4b2e-9943-a53e7bd74fe5",
   "metadata": {},
   "outputs": [
    {
     "name": "stdout",
     "output_type": "stream",
     "text": [
      "\n",
      "Lineare Regression\n",
      "\n",
      "                            OLS Regression Results                            \n",
      "==============================================================================\n",
      "Dep. Variable:                      y   R-squared:                       0.079\n",
      "Model:                            OLS   Adj. R-squared:                 -0.036\n",
      "Method:                 Least Squares   F-statistic:                    0.6891\n",
      "Date:                Sat, 01 Mar 2025   Prob (F-statistic):              0.431\n",
      "Time:                        16:35:29   Log-Likelihood:                -67.486\n",
      "No. Observations:                  10   AIC:                             139.0\n",
      "Df Residuals:                       8   BIC:                             139.6\n",
      "Df Model:                           1                                         \n",
      "Covariance Type:            nonrobust                                         \n",
      "==============================================================================\n",
      "                 coef    std err          t      P>|t|      [0.025      0.975]\n",
      "------------------------------------------------------------------------------\n",
      "const         57.4556    108.158      0.531      0.610    -191.957     306.868\n",
      "x1             0.3764      0.453      0.830      0.431      -0.669       1.422\n",
      "==============================================================================\n",
      "Omnibus:                        7.918   Durbin-Watson:                   1.707\n",
      "Prob(Omnibus):                  0.019   Jarque-Bera (JB):                2.963\n",
      "Skew:                          -1.104   Prob(JB):                        0.227\n",
      "Kurtosis:                       4.495   Cond. No.                         354.\n",
      "==============================================================================\n",
      "\n",
      "Notes:\n",
      "[1] Standard Errors assume that the covariance matrix of the errors is correctly specified.\n"
     ]
    },
    {
     "name": "stderr",
     "output_type": "stream",
     "text": [
      "c:\\Users\\benjf\\anaconda3\\envs\\projects\\Lib\\site-packages\\scipy\\stats\\_axis_nan_policy.py:430: UserWarning: `kurtosistest` p-value may be inaccurate with fewer than 20 observations; only n=10 observations were given.\n",
      "  return hypotest_fun_in(*args, **kwds)\n"
     ]
    }
   ],
   "source": [
    "y=Z_A6\n",
    "x_zunahme=sm.add_constant(f_A6)\n",
    "results_A6=sm.OLS(y,x_zunahme).fit()#,sigma=yerr\n",
    "print('''\n",
    "Lineare Regression\n",
    "''')\n",
    "print(results_A6.summary())"
   ]
  },
  {
   "cell_type": "markdown",
   "id": "399c4593-c286-4edc-a671-cd735ea1b1fe",
   "metadata": {},
   "source": [
    "## Resultate von $\\chi^2$ und $R^2$"
   ]
  },
  {
   "cell_type": "code",
   "execution_count": 60,
   "id": "6c817690-e63a-4e42-b834-b4f289a34e2f",
   "metadata": {},
   "outputs": [
    {
     "data": {
      "text/html": [
       "<div>\n",
       "<style scoped>\n",
       "    .dataframe tbody tr th:only-of-type {\n",
       "        vertical-align: middle;\n",
       "    }\n",
       "\n",
       "    .dataframe tbody tr th {\n",
       "        vertical-align: top;\n",
       "    }\n",
       "\n",
       "    .dataframe thead th {\n",
       "        text-align: right;\n",
       "    }\n",
       "</style>\n",
       "<table border=\"1\" class=\"dataframe\">\n",
       "  <thead>\n",
       "    <tr style=\"text-align: right;\">\n",
       "      <th></th>\n",
       "      <th>Name</th>\n",
       "      <th>Werte</th>\n",
       "    </tr>\n",
       "  </thead>\n",
       "  <tbody>\n",
       "    <tr>\n",
       "      <th>0</th>\n",
       "      <td>$chi^2$</td>\n",
       "      <td>-1.956113</td>\n",
       "    </tr>\n",
       "    <tr>\n",
       "      <th>1</th>\n",
       "      <td>$R^2$</td>\n",
       "      <td>0.079000</td>\n",
       "    </tr>\n",
       "  </tbody>\n",
       "</table>\n",
       "</div>"
      ],
      "text/plain": [
       "      Name     Werte\n",
       "0  $chi^2$ -1.956113\n",
       "1    $R^2$  0.079000"
      ]
     },
     "execution_count": 60,
     "metadata": {},
     "output_type": "execute_result"
    }
   ],
   "source": [
    "text = [r'$chi^2$', r'$R^2$']\n",
    "zahlen = [chi_A6-2, 0.079]\n",
    "df_res = pd.DataFrame({'Name':text,\n",
    "                      'Werte': zahlen})\n",
    "df_res"
   ]
  },
  {
   "cell_type": "markdown",
   "id": "fe805153-b095-4fff-a7c2-6407f1c5a85c",
   "metadata": {},
   "source": [
    "## Residuen"
   ]
  },
  {
   "cell_type": "code",
   "execution_count": 61,
   "id": "3d923452-3646-4f9f-aeed-84250cce510c",
   "metadata": {},
   "outputs": [
    {
     "name": "stdout",
     "output_type": "stream",
     "text": [
      "[-2.45996449  0.70898351  0.16019378  0.15101734  0.64779911  0.0757042\n",
      "  1.47731699 -0.282577   -0.51511723 -0.12592205]\n"
     ]
    }
   ],
   "source": [
    "# für simulierte Daten:\n",
    "influence_A6 = results_A6.get_influence()\n",
    "\n",
    "# standardisierte Residuen erhalten\n",
    "standardized_residuals_A6 = influence_A6.resid_studentized_internal\n",
    "\n",
    "# standardisierte Residuen anzeigen\n",
    "print(standardized_residuals_A6)"
   ]
  },
  {
   "cell_type": "code",
   "execution_count": 62,
   "id": "08bea094-51c5-486e-a2e2-3a2d9905a64d",
   "metadata": {},
   "outputs": [
    {
     "data": {
      "image/png": "[encoded data removed]",
      "text/plain": [
       "<Figure size 640x480 with 1 Axes>"
      ]
     },
     "metadata": {},
     "output_type": "display_data"
    }
   ],
   "source": [
    "plt.plot(f_A6, standardized_residuals_A6,'o')\n",
    "plt.xlabel('Frequenz')\n",
    "plt.ylabel('Standardisierte Residuen')\n",
    "plt.axhline(y=0, color='black', linestyle='--', linewidth=1)\n",
    "plt.show()"
   ]
  },
  {
   "cell_type": "markdown",
   "id": "56ec4bce-4356-4504-bdcd-8983efc292cd",
   "metadata": {},
   "source": [
    "## Berechnung der Induktivität aus Regression\n",
    "$$ |Z| = a\\cdot f + b\\\\ |Z|= 2 \\pi L \\\\ \\Rightarrow L = \\frac{af+b}{2 \\pi f}$$"
   ]
  },
  {
   "cell_type": "code",
   "execution_count": 63,
   "id": "c421d5dd-f815-4fde-83a6-3ae2d7d8a934",
   "metadata": {},
   "outputs": [
    {
     "data": {
      "text/plain": [
       "np.float64(3.397)"
      ]
     },
     "execution_count": 63,
     "metadata": {},
     "output_type": "execute_result"
    }
   ],
   "source": [
    "f_A6\n",
    "# L_A6 =  reg(f_A6,a,b,)/(2* np.pi f)\n",
    "L_A6 = a /(2*np.pi) + b/(2*np.pi* f_A6)\n",
    "L_A6 = round(L_A6.sum(),4)\n",
    "L_A6"
   ]
  },
  {
   "cell_type": "markdown",
   "id": "6826eeac-2710-4f67-84d3-01838c78a453",
   "metadata": {},
   "source": [
    "Berechnung vom Fehler von L\n",
    "$$\\mu_L = \\frac{1}{2\\pi}\\sqrt{u_a^2 + \\frac{u_b^2}{f^2}+ \\frac{u_f^2}{f^4}} $$"
   ]
  },
  {
   "cell_type": "code",
   "execution_count": 64,
   "id": "a80047a7-2c2d-4a93-9f6f-cc6c42e39529",
   "metadata": {},
   "outputs": [
    {
     "name": "stdout",
     "output_type": "stream",
     "text": [
      "10\n"
     ]
    }
   ],
   "source": [
    "print(len(f_A6))"
   ]
  },
  {
   "cell_type": "code",
   "execution_count": 65,
   "id": "5229d288-43b0-4751-80b2-bfeb13adce05",
   "metadata": {},
   "outputs": [
    {
     "name": "stdout",
     "output_type": "stream",
     "text": [
      "[0.4732 0.6259 0.7875 0.909  1.053  1.4865 2.9496 4.5195 6.1275 7.4835]\n",
      "[0.2441 0.2441 0.2441 0.2441 0.2441 0.2441 0.2441 0.2441 0.2441 0.2441]\n",
      "[60.9639 60.9639 60.9639 60.9639 60.9639 60.9639 60.9639 60.9639 60.9639\n",
      " 60.9639]\n"
     ]
    }
   ],
   "source": [
    "u_a = da_A6 * np.ones(10)\n",
    "u_b = db_A6 * np.ones(10)\n",
    "f_err = 0.015\n",
    "u_f = f_A6 *f_err         # 1.5% + 5 Ziffern\n",
    "for i in range(len(u_f)):\n",
    "    u_a[i] = round(u_a[i],4)\n",
    "    u_b[i] = round(u_b[i],4)\n",
    "    u_f[i] = round(u_f[i],4)\n",
    "print(u_f)\n",
    "print(u_a)\n",
    "print(u_b)\n",
    "a_A6 = a*np.ones(10)\n",
    "b_A6 = b * np.ones(10)"
   ]
  },
  {
   "cell_type": "code",
   "execution_count": 66,
   "id": "31593d29-5233-490b-975b-3fc7b2b6dbf7",
   "metadata": {},
   "outputs": [
    {
     "data": {
      "text/plain": [
       "np.float64(0.135)"
      ]
     },
     "execution_count": 66,
     "metadata": {},
     "output_type": "execute_result"
    }
   ],
   "source": [
    "u_L = 1 /(2*np.pi) * np.sqrt(u_a**2+ u_b**2/f_A6**2+ u_f**2 /f_A6**4)\n",
    "u_L = round(u_L.mean(),4)\n",
    "u_L"
   ]
  },
  {
   "cell_type": "code",
   "execution_count": 67,
   "id": "9246037b-76f9-4bd4-8990-114ac4b4ae38",
   "metadata": {},
   "outputs": [
    {
     "data": {
      "text/plain": [
       "3.397+/-0.135"
      ]
     },
     "execution_count": 67,
     "metadata": {},
     "output_type": "execute_result"
    }
   ],
   "source": [
    "L_err = ufloat(L_A6,u_L)\n",
    "L_err"
   ]
  },
  {
   "cell_type": "markdown",
   "id": "afad0daa-0fe5-424f-92bf-3f6709b649b7",
   "metadata": {},
   "source": [
    "## Phasenverschiebung\n",
    "$$ \\varphi = \\frac{t_D}{T_{1/2}} \\cdot \\pi$$"
   ]
  },
  {
   "cell_type": "code",
   "execution_count": 68,
   "id": "512f477f-30fe-4082-b765-f50b1f5be799",
   "metadata": {},
   "outputs": [],
   "source": [
    "phi = t_D/T_halb * np.pi"
   ]
  },
  {
   "cell_type": "markdown",
   "id": "7c065d38-68ca-40cd-8d73-675c4cb588e3",
   "metadata": {},
   "source": [
    "### Fehlerrechnung von $\\varphi$"
   ]
  },
  {
   "cell_type": "code",
   "execution_count": 69,
   "id": "5f39095d-b69f-4622-9d50-209f5a32bbc8",
   "metadata": {},
   "outputs": [
    {
     "name": "stdout",
     "output_type": "stream",
     "text": [
      "[ 31.55  41.73  52.5   60.6   70.2   99.1  196.64 301.3  408.5  498.9 ]\n",
      "[1.         1.         1.         1.         1.         1.\n",
      " 1.         1.11111111 1.         1.        ]\n"
     ]
    }
   ],
   "source": [
    "err = np.array([0.25,0.25,0.25,0.1,0.1,0.1,0.025,0.025,0.025,0.025])*1e-3\n",
    "u_tD = t_D * err\n",
    "u_T = T_halb * err\n",
    "\n",
    "phi_err = np.pi * np.sqrt(t_D**2 / T_halb**4 * u_T**2 + u_tD**2 /T_halb**2)\n",
    "# print(u_tD)\n",
    "# print(u_T)\n",
    "# print(phi_err)\n",
    "# print()\n",
    "# print(t_D)\n",
    "# print(T_halb)\n",
    "print(f_A6)\n",
    "print(t_D/T_halb)"
   ]
  },
  {
   "cell_type": "markdown",
   "id": "5f0a5a12-9e01-4ddb-8e69-7b4e42f37b4b",
   "metadata": {},
   "source": [
    "### Visualisierung"
   ]
  },
  {
   "cell_type": "code",
   "execution_count": 70,
   "id": "47422575-4675-441e-b002-dcc847016401",
   "metadata": {},
   "outputs": [
    {
     "data": {
      "image/png": "[encoded data removed]",
      "text/plain": [
       "<Figure size 640x480 with 1 Axes>"
      ]
     },
     "metadata": {},
     "output_type": "display_data"
    }
   ],
   "source": [
    "plt.errorbar(f_A6, phi, yerr=phi_err, fmt='r.',label='Messdaten')\n",
    "plt.xlabel(r'Frequenz $f$')\n",
    "plt.ylabel(r'Phasenverschiebung $\\varphi(f)$')\n",
    "plt.xticks(ticks=np.arange(0,551,110))\n",
    "plt.legend()\n",
    "plt.show()"
   ]
  },
  {
   "cell_type": "markdown",
   "id": "d38886e8-1fb9-4899-9e5d-84ac6324049b",
   "metadata": {},
   "source": [
    "### "
   ]
  },
  {
   "cell_type": "markdown",
   "id": "7da1e2f8-1aa6-49fe-b18d-c196fa662246",
   "metadata": {
    "tags": []
   },
   "source": [
    "# Aufgabe 7"
   ]
  },
  {
   "cell_type": "code",
   "execution_count": null,
   "id": "39e7e1a8-0511-4946-bdfe-42d6e435fa75",
   "metadata": {},
   "outputs": [],
   "source": []
  },
  {
   "cell_type": "markdown",
   "id": "27414bf0-017c-4ee5-8f67-cf5710c12a3b",
   "metadata": {
    "tags": []
   },
   "source": [
    "# Aufgabe 8"
   ]
  },
  {
   "cell_type": "code",
   "execution_count": null,
   "id": "55f28c44-c6eb-4fcd-beb9-e12ce620d834",
   "metadata": {},
   "outputs": [],
   "source": []
  },
  {
   "cell_type": "markdown",
   "id": "22942629-e247-47ba-b48d-ed0704b59b6f",
   "metadata": {
    "tags": []
   },
   "source": [
    "# Aufgabe 9"
   ]
  },
  {
   "cell_type": "code",
   "execution_count": 71,
   "id": "f014a083-ccdb-4124-a246-03c36b0d596f",
   "metadata": {},
   "outputs": [
    {
     "data": {
      "text/html": [
       "<div>\n",
       "<style scoped>\n",
       "    .dataframe tbody tr th:only-of-type {\n",
       "        vertical-align: middle;\n",
       "    }\n",
       "\n",
       "    .dataframe tbody tr th {\n",
       "        vertical-align: top;\n",
       "    }\n",
       "\n",
       "    .dataframe thead th {\n",
       "        text-align: right;\n",
       "    }\n",
       "</style>\n",
       "<table border=\"1\" class=\"dataframe\">\n",
       "  <thead>\n",
       "    <tr style=\"text-align: right;\">\n",
       "      <th></th>\n",
       "      <th>Nr Resonanzfreqzenz</th>\n",
       "    </tr>\n",
       "  </thead>\n",
       "  <tbody>\n",
       "    <tr>\n",
       "      <th>1</th>\n",
       "      <td>729.7</td>\n",
       "    </tr>\n",
       "    <tr>\n",
       "      <th>2</th>\n",
       "      <td>776.5</td>\n",
       "    </tr>\n",
       "    <tr>\n",
       "      <th>3</th>\n",
       "      <td>678.0</td>\n",
       "    </tr>\n",
       "    <tr>\n",
       "      <th>4</th>\n",
       "      <td>702.9</td>\n",
       "    </tr>\n",
       "    <tr>\n",
       "      <th>5</th>\n",
       "      <td>632.4</td>\n",
       "    </tr>\n",
       "    <tr>\n",
       "      <th>6</th>\n",
       "      <td>620.0</td>\n",
       "    </tr>\n",
       "  </tbody>\n",
       "</table>\n",
       "</div>"
      ],
      "text/plain": [
       "   Nr Resonanzfreqzenz\n",
       "1                729.7\n",
       "2                776.5\n",
       "3                678.0\n",
       "4                702.9\n",
       "5                632.4\n",
       "6                620.0"
      ]
     },
     "execution_count": 71,
     "metadata": {},
     "output_type": "execute_result"
    }
   ],
   "source": [
    "A9_df"
   ]
  },
  {
   "cell_type": "code",
   "execution_count": 72,
   "id": "82bc7f04-7a4e-4689-88aa-54426ee5a997",
   "metadata": {},
   "outputs": [
    {
     "data": {
      "text/plain": [
       "674.0+/-25.0"
      ]
     },
     "execution_count": 72,
     "metadata": {},
     "output_type": "execute_result"
    }
   ],
   "source": [
    "f_A9 = A9_df['Nr Resonanzfreqzenz']\n",
    "f_A9_mean=round(f_A9.mean(),2)\n",
    "# Fehlerberechnung:\n",
    "u_f_A9 = (f_A9 * f_err)**2 # Quadratsumme:\n",
    "u_f9= round(np.sqrt(u_f_A9.sum()),2)\n",
    "\n",
    "g1 = f_A9/u_f_A9**2\n",
    "g2 = 1/u_f_A9**2\n",
    "\n",
    "f_m = g1.sum()/g2.sum()\n",
    "# print(f_m)\n",
    "g3 = (f_m - f_A9)**2\n",
    "u_m = np.sqrt(1/(len(f_A9)*(len(f_A9)-1))* g3.sum())\n",
    "# print(u_m)\n",
    "f_m_err = ufloat(round(f_m,0) ,round(u_m,0))\n",
    "f_m_err"
   ]
  },
  {
   "cell_type": "code",
   "execution_count": 73,
   "id": "0da0e90a-2c22-469d-ae0e-da68be32f081",
   "metadata": {},
   "outputs": [
    {
     "data": {
      "text/plain": [
       "689.92+/-25.43"
      ]
     },
     "execution_count": 73,
     "metadata": {},
     "output_type": "execute_result"
    }
   ],
   "source": [
    "f9_err = ufloat(f_A9_mean,u_f9)\n",
    "f9_err"
   ]
  },
  {
   "cell_type": "markdown",
   "id": "7b410476-e32d-47d0-9402-06d030e78cb5",
   "metadata": {
    "tags": []
   },
   "source": [
    "# Aufgabe 10"
   ]
  },
  {
   "cell_type": "code",
   "execution_count": 74,
   "id": "23866c44-935a-482f-8323-f2c328732b09",
   "metadata": {},
   "outputs": [
    {
     "data": {
      "text/html": [
       "<div>\n",
       "<style scoped>\n",
       "    .dataframe tbody tr th:only-of-type {\n",
       "        vertical-align: middle;\n",
       "    }\n",
       "\n",
       "    .dataframe tbody tr th {\n",
       "        vertical-align: top;\n",
       "    }\n",
       "\n",
       "    .dataframe thead th {\n",
       "        text-align: right;\n",
       "    }\n",
       "</style>\n",
       "<table border=\"1\" class=\"dataframe\">\n",
       "  <thead>\n",
       "    <tr style=\"text-align: right;\">\n",
       "      <th></th>\n",
       "      <th>Name</th>\n",
       "      <th>Messwert</th>\n",
       "    </tr>\n",
       "  </thead>\n",
       "  <tbody>\n",
       "    <tr>\n",
       "      <th>0</th>\n",
       "      <td>U_G</td>\n",
       "      <td>6.705</td>\n",
       "    </tr>\n",
       "    <tr>\n",
       "      <th>1</th>\n",
       "      <td>U_S</td>\n",
       "      <td>55.300</td>\n",
       "    </tr>\n",
       "    <tr>\n",
       "      <th>2</th>\n",
       "      <td>U_Pw</td>\n",
       "      <td>0.241</td>\n",
       "    </tr>\n",
       "    <tr>\n",
       "      <th>3</th>\n",
       "      <td>U_K</td>\n",
       "      <td>54.800</td>\n",
       "    </tr>\n",
       "    <tr>\n",
       "      <th>4</th>\n",
       "      <td>U_SK</td>\n",
       "      <td>6.475</td>\n",
       "    </tr>\n",
       "  </tbody>\n",
       "</table>\n",
       "</div>"
      ],
      "text/plain": [
       "   Name  Messwert\n",
       "0   U_G     6.705\n",
       "1   U_S    55.300\n",
       "2  U_Pw     0.241\n",
       "3   U_K    54.800\n",
       "4  U_SK     6.475"
      ]
     },
     "execution_count": 74,
     "metadata": {},
     "output_type": "execute_result"
    }
   ],
   "source": [
    "A10_df"
   ]
  },
  {
   "cell_type": "markdown",
   "id": "3997cef3-61c8-40ca-b338-7249dd12d057",
   "metadata": {
    "tags": []
   },
   "source": [
    "# Aufgabe 11"
   ]
  },
  {
   "cell_type": "code",
   "execution_count": null,
   "id": "678d6ebe-6507-4151-8024-d132e9b45e90",
   "metadata": {},
   "outputs": [],
   "source": []
  },
  {
   "cell_type": "markdown",
   "id": "5873b865-0aa4-4709-93bc-532117d9cd8c",
   "metadata": {
    "tags": []
   },
   "source": [
    "# Aufgabe 12"
   ]
  },
  {
   "cell_type": "code",
   "execution_count": 75,
   "id": "2f2314f5-119f-467e-91da-9bd2257c432c",
   "metadata": {},
   "outputs": [
    {
     "data": {
      "text/html": [
       "<div>\n",
       "<style scoped>\n",
       "    .dataframe tbody tr th:only-of-type {\n",
       "        vertical-align: middle;\n",
       "    }\n",
       "\n",
       "    .dataframe tbody tr th {\n",
       "        vertical-align: top;\n",
       "    }\n",
       "\n",
       "    .dataframe thead th {\n",
       "        text-align: right;\n",
       "    }\n",
       "</style>\n",
       "<table border=\"1\" class=\"dataframe\">\n",
       "  <thead>\n",
       "    <tr style=\"text-align: right;\">\n",
       "      <th></th>\n",
       "      <th>Nr</th>\n",
       "      <th>Frequenz</th>\n",
       "      <th>U_2(mV)</th>\n",
       "      <th>U_1(V)</th>\n",
       "      <th>t_D(ms)</th>\n",
       "    </tr>\n",
       "  </thead>\n",
       "  <tbody>\n",
       "    <tr>\n",
       "      <th>0</th>\n",
       "      <td>1</td>\n",
       "      <td>211.80</td>\n",
       "      <td>36</td>\n",
       "      <td>22.5</td>\n",
       "      <td>1.200</td>\n",
       "    </tr>\n",
       "    <tr>\n",
       "      <th>1</th>\n",
       "      <td>2</td>\n",
       "      <td>303.50</td>\n",
       "      <td>52</td>\n",
       "      <td>23.0</td>\n",
       "      <td>0.800</td>\n",
       "    </tr>\n",
       "    <tr>\n",
       "      <th>2</th>\n",
       "      <td>3</td>\n",
       "      <td>398.25</td>\n",
       "      <td>84</td>\n",
       "      <td>22.5</td>\n",
       "      <td>0.550</td>\n",
       "    </tr>\n",
       "    <tr>\n",
       "      <th>3</th>\n",
       "      <td>4</td>\n",
       "      <td>508.50</td>\n",
       "      <td>150</td>\n",
       "      <td>22.5</td>\n",
       "      <td>0.475</td>\n",
       "    </tr>\n",
       "    <tr>\n",
       "      <th>4</th>\n",
       "      <td>5</td>\n",
       "      <td>608.50</td>\n",
       "      <td>315</td>\n",
       "      <td>22.0</td>\n",
       "      <td>0.300</td>\n",
       "    </tr>\n",
       "  </tbody>\n",
       "</table>\n",
       "</div>"
      ],
      "text/plain": [
       "   Nr  Frequenz  U_2(mV)  U_1(V)  t_D(ms)\n",
       "0   1    211.80       36    22.5    1.200\n",
       "1   2    303.50       52    23.0    0.800\n",
       "2   3    398.25       84    22.5    0.550\n",
       "3   4    508.50      150    22.5    0.475\n",
       "4   5    608.50      315    22.0    0.300"
      ]
     },
     "execution_count": 75,
     "metadata": {},
     "output_type": "execute_result"
    }
   ],
   "source": [
    "A12_df.head()"
   ]
  },
  {
   "cell_type": "code",
   "execution_count": 76,
   "id": "bfe6a1a6-1a6e-4161-a312-d4de71f5ba17",
   "metadata": {},
   "outputs": [],
   "source": [
    "U_212 = np.array(A12_df['U_2(mV)'])*1e-3\n",
    "U_112 = np.array(A12_df['U_1(V)'])\n",
    "Rp = 10\n",
    "Z12 = Rp*(U_112-U_212)/U_212\n",
    "f12 = np.array(A12_df['Frequenz'])"
   ]
  },
  {
   "cell_type": "markdown",
   "id": "2d510318-2649-4815-9f86-ac8f28a60bfe",
   "metadata": {},
   "source": [
    "## Visualisierung"
   ]
  },
  {
   "cell_type": "code",
   "execution_count": 77,
   "id": "7ec6d686-e52a-4237-a89e-839597b889d7",
   "metadata": {},
   "outputs": [
    {
     "data": {
      "image/png": "[encoded data removed]",
      "text/plain": [
       "<Figure size 640x480 with 1 Axes>"
      ]
     },
     "metadata": {},
     "output_type": "display_data"
    }
   ],
   "source": [
    "plt.plot(f12,Z12,'r.')\n",
    "plt.show()"
   ]
  },
  {
   "cell_type": "markdown",
   "id": "e2505094-a2d5-4e8a-b7e6-ab022df5250a",
   "metadata": {
    "tags": []
   },
   "source": [
    "# Aufgabe 13"
   ]
  },
  {
   "cell_type": "code",
   "execution_count": 78,
   "id": "c776ac60-a505-4a2a-b4a6-7ada8f132314",
   "metadata": {},
   "outputs": [],
   "source": [
    "def reg3(x,a,b,c):\n",
    "    regg = (a**2 + (2*np.pi*x*b-1/(2*np.pi*x*c))**2)**0.5\n",
    "    return regg"
   ]
  },
  {
   "cell_type": "markdown",
   "id": "63efd239-5900-46d5-a0c0-09a7de552f48",
   "metadata": {},
   "source": [
    "## Regression"
   ]
  },
  {
   "cell_type": "code",
   "execution_count": 79,
   "id": "aec7c8f1-d281-482f-879a-753c976891ba",
   "metadata": {},
   "outputs": [],
   "source": [
    "# pop, cov = curve_fit(reg3,f12,Z12,bounds=(0,[np.inf,1,150e-9]))\n",
    "# a12,b12,c12 = pop\n",
    "# da12,db12,dc12 = np.sqrt(np.diag(cov))\n",
    "# print(f'a: {ufloat(a12,da12)}')\n",
    "# print(f'b: {ufloat(b12,db12)}')\n",
    "# print(f'c: {ufloat(c12,dc12)}')"
   ]
  },
  {
   "cell_type": "markdown",
   "id": "a2707b10-dca4-407a-9a3c-daef874934da",
   "metadata": {},
   "source": [
    "## Fehlerberechnung"
   ]
  },
  {
   "cell_type": "code",
   "execution_count": 80,
   "id": "0ff88e92-53df-4cfc-a6bb-682e3049813e",
   "metadata": {},
   "outputs": [
    {
     "name": "stdout",
     "output_type": "stream",
     "text": [
      "[0.0018  0.0026  0.0042  0.0075  0.01575 0.0325  0.017   0.00925 0.006\n",
      " 0.00475 0.00425 0.0034  0.0028  0.028   0.0335  0.032   0.031  ]\n"
     ]
    }
   ],
   "source": [
    "u_U112 =  0.05  * U_112#0.25 * np.ones(len(U_2_5))\n",
    "u_U212 = 0.05 * U_212\n",
    "u_f12 = f12 * 0.015\n",
    "Rp12 = 10\n",
    "u_Rp12 = Rp12* 0.008\n",
    "print(u_U212)"
   ]
  },
  {
   "cell_type": "code",
   "execution_count": 81,
   "id": "2e40d976-7122-4bc9-acd2-eff097346de1",
   "metadata": {},
   "outputs": [],
   "source": [
    "c = Z12**2 * (u_Rp12/Rp12)**2\n",
    "d = Rp12**2/U_212**2 * (u_U112**2 + u_U212**2 *(U_112/U_212)**2)\n",
    "u_Z12= np.sqrt(d+c)"
   ]
  },
  {
   "cell_type": "markdown",
   "id": "249afec0-da03-432a-b488-373e8932ddc9",
   "metadata": {},
   "source": [
    "## Regression 2"
   ]
  },
  {
   "cell_type": "code",
   "execution_count": 82,
   "id": "006f8a5f-fe60-4017-a673-443f1895c86b",
   "metadata": {},
   "outputs": [
    {
     "name": "stdout",
     "output_type": "stream",
     "text": [
      "a: 278+/-6\n",
      "b: 0.502+/-0.005\n",
      "c: (1.026+/-0.012)e-07\n"
     ]
    }
   ],
   "source": [
    "pop, cov = curve_fit(reg3,f12,Z12,p0=[a>0,0.7,25e-9],sigma=u_Z12)\n",
    "a12v,b12v,c12v = pop\n",
    "da12v,db12v,dc12v = np.sqrt(np.diag(cov))\n",
    "print(f'a: {ufloat(a12v,da12v)}')\n",
    "print(f'b: {ufloat(b12v,db12v)}')\n",
    "print(f'c: {ufloat(c12v,dc12v)}')"
   ]
  },
  {
   "cell_type": "markdown",
   "id": "0c2b9bb6-4665-4dba-99a5-12e574259bc1",
   "metadata": {
    "tags": []
   },
   "source": [
    "## Visualisierung"
   ]
  },
  {
   "cell_type": "code",
   "execution_count": 83,
   "id": "854ddafc-e0cc-43b7-9b5e-7d486d326524",
   "metadata": {},
   "outputs": [],
   "source": [
    "ff12 = np.arange(150,1651,500)\n",
    "ZZ12 = reg3(ff12,a12v,b12v,c12v)"
   ]
  },
  {
   "cell_type": "code",
   "execution_count": 85,
   "id": "b4e67e27-7ecc-43de-bf92-31a838457828",
   "metadata": {},
   "outputs": [
    {
     "data": {
      "image/png": "[encoded data removed]",
      "text/plain": [
       "<Figure size 640x480 with 1 Axes>"
      ]
     },
     "metadata": {},
     "output_type": "display_data"
    }
   ],
   "source": [
    "plt.errorbar(f12,Z12,fmt='.',color='red',yerr=u_Z12,label='Messdaten')\n",
    "plt.plot(ff12,ZZ12,color='green',label=r'Fit: $|Z|(f)= \\sqrt{a^{2}+(2\\pi f b - \\frac{1}{2\\pi f c})^{2}}$' )\n",
    "plt.xticks(ticks= np.arange(0,1801,600))\n",
    "plt.yticks(ticks=np.arange(0,10001,2500))\n",
    "\n",
    "plt.xlabel(r'Frequenz $f$ [Hz]')\n",
    "plt.ylabel(r'Scheinwiderstand $|Z|(f)$ [$\\Omega$]')#\n",
    "plt.legend()\n",
    "plt.show()\n",
    "# plt.savefig('A13_E4.png',dpi=400)"
   ]
  },
  {
   "cell_type": "markdown",
   "id": "d2ce05e2-f173-4f50-896f-dd376ac456fe",
   "metadata": {},
   "source": [
    "## $\\chi^2$"
   ]
  },
  {
   "cell_type": "code",
   "execution_count": 86,
   "id": "c5a5ae1e-228d-4358-bfb0-166d6ccdbc17",
   "metadata": {},
   "outputs": [
    {
     "data": {
      "text/plain": [
       "np.float64(1.1320428928851587)"
      ]
     },
     "execution_count": 86,
     "metadata": {},
     "output_type": "execute_result"
    }
   ],
   "source": [
    "chi12= (Z12-reg3(f12,a12v,b12v,c12v))**2/u_Z12**2\n",
    "chi12_red = chi12.sum()/3\n",
    "chi12_red"
   ]
  },
  {
   "cell_type": "markdown",
   "id": "6c87391a-c39d-48d9-b212-2e42825d501b",
   "metadata": {},
   "source": [
    "## Resduen"
   ]
  },
  {
   "cell_type": "code",
   "execution_count": 87,
   "id": "f8f76e74-28a7-42e6-83d7-c6e1a938f203",
   "metadata": {},
   "outputs": [
    {
     "data": {
      "image/png": "[encoded data removed]",
      "text/plain": [
       "<Figure size 640x480 with 1 Axes>"
      ]
     },
     "metadata": {},
     "output_type": "display_data"
    }
   ],
   "source": [
    "xx = np.arange(150, 1651,500)\n",
    "yy = xx * 0\n",
    "y12 = Z12-reg3(f12,a12v,b12v,c12v)\n",
    "plt.plot(f12,y12,'.')\n",
    "plt.plot(xx,yy,'k-')\n",
    "plt.xticks(ticks=np.arange(150, 1651,500))\n",
    "plt.yticks(ticks = np.arange(-450,301,150))\n",
    "plt.xlabel('Frequenz')\n",
    "plt.ylabel('Residuen')\n",
    "plt.show()\n",
    "plt.savefig('A13_Residuen.png',dpi=400)"
   ]
  },
  {
   "cell_type": "markdown",
   "id": "c8ac7c37-a771-49ea-b303-f4b9d1b9c5f5",
   "metadata": {},
   "source": [
    "# Aufgabe 3/4 \n",
    "Daten von Andre"
   ]
  },
  {
   "cell_type": "code",
   "execution_count": 88,
   "id": "07aa80ef-9418-472a-a7c4-bd2621729935",
   "metadata": {},
   "outputs": [],
   "source": [
    "Frequenz_A3=[1001,2000,3009,4000,5012,6009.6,6999,8000,9005,10001]       #in kHz\n",
    "\n",
    "\n",
    "Uss_C_A3=[22,22,22,22,22,22,21,21,21,20]                       #in V\n",
    "Uss_R_A3=[0.15,0.3,0.45,0.6,0.72,0.85,1,1.1,1.25,1.35]         #in V\n",
    "Phase_A3_tdif=[0.25,0.12,0.08,0.06,0.05,0.025,0.036,0.03,0.028,0.024]    #in ms\n",
    "phase_T_halbe_a3_mess=[0.45, 0.22, 0.2, 0.1, 0.08, 0.04, 0.065, 0.05, 0.063, 0.055]\n",
    "Rp = 10* np.ones(len(Uss_C_A3))"
   ]
  },
  {
   "cell_type": "code",
   "execution_count": null,
   "id": "cc2d87ff-6731-4bcb-9468-3e05229160c2",
   "metadata": {},
   "outputs": [],
   "source": []
  },
  {
   "cell_type": "code",
   "execution_count": 89,
   "id": "c84f0378-d1ac-4526-a137-91007860435c",
   "metadata": {},
   "outputs": [],
   "source": [
    "U_2= np.array(Uss_R_A3)\n",
    "U_1 = np.array(Uss_C_A3)\n",
    "f3 = np.array(Frequenz_A3)\n",
    "tD3 =  np.array(Phase_A3_tdif)\n",
    "T_halb3 = np.array(phase_T_halbe_a3_mess)"
   ]
  },
  {
   "cell_type": "code",
   "execution_count": 90,
   "id": "94585007-294b-471e-ac76-efb280812ef9",
   "metadata": {},
   "outputs": [
    {
     "data": {
      "text/plain": [
       "array([1456.66666667,  723.33333333,  478.88888889,  356.66666667,\n",
       "        295.55555556,  248.82352941,  200.        ,  180.90909091,\n",
       "        158.        ,  138.14814815])"
      ]
     },
     "execution_count": 90,
     "metadata": {},
     "output_type": "execute_result"
    }
   ],
   "source": [
    "Z3 = Z_1(U_1,U_2,  Rp)\n",
    "Z3"
   ]
  },
  {
   "cell_type": "markdown",
   "id": "e9a5c011-129e-490e-b32a-ab49fb77b215",
   "metadata": {},
   "source": [
    "## Feblerrechnung"
   ]
  },
  {
   "cell_type": "markdown",
   "id": "a8656382-a464-4330-8194-ad33ff36dd41",
   "metadata": {},
   "source": [
    "Fehler:  \n",
    "$U_1 =  3.5\\% + 10 \\text{Ziffern}$ vom Blatt Technische Daten  \n",
    "$U_2 = 3.5\\% + 10 \\text{Ziffern}$ vom Blatt Technische Daten  \n",
    "$f3 = 1.5\\% + 5$ Ziffern vom Blatt Technische Daten  \n",
    "$t_D$ und $T_{1/2}$ werden jeweils mit $10\\%$ abgeschätzt  \n",
    "$0.8\\% + 4$ Ziffern für den ohmschen Widerstand $R_p$ vom Blatt Technische Daten  "
   ]
  },
  {
   "cell_type": "code",
   "execution_count": 91,
   "id": "56d695bd-6353-4499-8694-b991ba7fd823",
   "metadata": {},
   "outputs": [
    {
     "name": "stdout",
     "output_type": "stream",
     "text": [
      "[0.00525 0.0105  0.01575 0.021   0.0252  0.02975 0.035   0.0385  0.04375\n",
      " 0.04725]\n"
     ]
    }
   ],
   "source": [
    "u_U1 = 0.25 * np.ones(len(Uss_C_A3))\n",
    "u_U2 = 0.035 * U_2\n",
    "u_f3 = f3 * 0.015\n",
    "u_tD3  = tD3 * 0.1\n",
    "u_T_halb = T_halb3 * 0.1\n",
    "u_Rp = Rp* 0.008\n",
    "print(u_U2)"
   ]
  },
  {
   "cell_type": "markdown",
   "id": "8d8351a7-99be-47c2-a278-2ebe8fff9fc7",
   "metadata": {},
   "source": [
    "### Fehlerrechnung von $|Z|(f)$\n",
    "$$ u_z = \\sqrt{(\\partial_R |Z|)^2 u_R^2 + (\\partial_{U_1} |Z|)^2 u_{U_1}^2 + (\\partial_{U_2} |Z|)^2 u_{U_2}^2} $$"
   ]
  },
  {
   "cell_type": "code",
   "execution_count": 92,
   "id": "d50f4399-6d79-4a88-a206-0c26384741cd",
   "metadata": {},
   "outputs": [
    {
     "name": "stdout",
     "output_type": "stream",
     "text": [
      "[55.21493518 27.59905312 18.39379606 13.79119526 11.48991152  9.73012047\n",
      "  7.9266954   7.20462225  6.3381461   5.61577555]\n"
     ]
    }
   ],
   "source": [
    "c = Z3**2 * (u_Rp/Rp)**2\n",
    "d = Rp**2/U_2**2 * (u_U1**2 + u_U2**2 *(U_1/U_2)**2)\n",
    "u_Z3_v2= np.sqrt(d+c)\n",
    "u_Z3 = np.sqrt(((U_1-U_2)**2/(U_2**2)*u_Rp**2+R_p**2 *u_U1**2 / U_2**4\n",
    "                +  R_p**2 *((U_1-1-U_2)/U_2**2)**2*u_U1**2)) #\n",
    "\n",
    "\n",
    "print(u_Z3_v2)"
   ]
  },
  {
   "cell_type": "markdown",
   "id": "7953ca00-7300-47f1-9078-eb3952a2c80e",
   "metadata": {},
   "source": [
    "## Visualisierung"
   ]
  },
  {
   "cell_type": "code",
   "execution_count": 93,
   "id": "07bd55a6-7158-4116-968e-3d21a37572e4",
   "metadata": {},
   "outputs": [
    {
     "data": {
      "image/png": "[encoded data removed]",
      "text/plain": [
       "<Figure size 640x480 with 1 Axes>"
      ]
     },
     "metadata": {},
     "output_type": "display_data"
    }
   ],
   "source": [
    "plt.errorbar(f3, Z3,fmt='.',color='red',yerr=u_Z3_v2,label='Messpunkte')#yerr=u_Z3,\n",
    "plt.xticks(ticks=np.arange(500,11001,(11001-501)/3))\n",
    "plt.yticks(ticks=np.arange(0,1801,600))\n",
    "plt.legend()\n",
    "plt.show()"
   ]
  },
  {
   "cell_type": "markdown",
   "id": "b8732ac0-5865-4344-8155-8a1041f99d3d",
   "metadata": {
    "tags": []
   },
   "source": [
    "## Regression"
   ]
  },
  {
   "cell_type": "code",
   "execution_count": 94,
   "id": "55584e50-9502-43b5-a3f9-0532f95781ae",
   "metadata": {},
   "outputs": [],
   "source": [
    "#help(curve_fit)"
   ]
  },
  {
   "cell_type": "code",
   "execution_count": 95,
   "id": "8dfee72d-5e8c-48ec-aa0d-52f12ec5d5b6",
   "metadata": {},
   "outputs": [
    {
     "name": "stdout",
     "output_type": "stream",
     "text": [
      "[[ 6.31729211e-17 -1.15289114e-13]\n",
      " [-1.15289114e-13  3.77966349e-10]]\n",
      "a = (7.00+/-0.08)e-07\n",
      "b = (-1.6+/-1.9)e-05\n"
     ]
    }
   ],
   "source": [
    "pop3,cov3 = curve_fit(reg2,f3,Z3,sigma=u_Z3_v2)\n",
    "a3,b3 = pop3\n",
    "print(cov3)\n",
    "da3,db3=np.sqrt(np.diag(cov3))\n",
    "print(f'a = {ufloat(round(a3,9),round(da3,9))}')\n",
    "print(f'b = {ufloat(b3,db3)}')"
   ]
  },
  {
   "cell_type": "markdown",
   "id": "0be82499-e179-4ad5-9dd2-c684385fac70",
   "metadata": {},
   "source": [
    "### Visualisierung"
   ]
  },
  {
   "cell_type": "code",
   "execution_count": 96,
   "id": "31920524-1312-4bd4-a1de-0d574443fd3e",
   "metadata": {},
   "outputs": [],
   "source": [
    "fff = np.arange(900, 11000,100)\n",
    "Z_fit = reg2(fff,a3,0)"
   ]
  },
  {
   "cell_type": "code",
   "execution_count": 98,
   "id": "cc6f79c2-7588-402f-a29b-e0409e87c838",
   "metadata": {},
   "outputs": [
    {
     "data": {
      "image/png": "[encoded data removed]",
      "text/plain": [
       "<Figure size 640x480 with 1 Axes>"
      ]
     },
     "metadata": {},
     "output_type": "display_data"
    }
   ],
   "source": [
    "plt.errorbar(f3, Z3,fmt='.',color='red',yerr=u_Z3_v2,label='Messpunkte')\n",
    "plt.plot(fff,Z_fit,label=r'Fit: $|Z|(f) = \\frac{1}{a\\cdot f+b}$')\n",
    "plt.xlabel(r'Frequenz $f$ [Hz]')\n",
    "plt.ylabel(r'Scheinwiderstand $|Z|(f)$ [$\\Omega$]')#\n",
    "plt.xticks(ticks=np.arange(500,11001,(11001-501)/3))\n",
    "plt.yticks(ticks=np.arange(0,1801,600))\n",
    "plt.legend()\n",
    "plt.show()\n",
    "# plt.savefig('A4_E4.png',dpi=400)"
   ]
  },
  {
   "cell_type": "markdown",
   "id": "e376246e-8be6-41bf-b97e-909cbf8c68b2",
   "metadata": {},
   "source": [
    "## $\\chi^2$ "
   ]
  },
  {
   "cell_type": "code",
   "execution_count": 99,
   "id": "64671227-2b25-4d0e-a3b7-514c98280556",
   "metadata": {},
   "outputs": [
    {
     "name": "stdout",
     "output_type": "stream",
     "text": [
      "1.813565225056944\n"
     ]
    }
   ],
   "source": [
    "# reduziertes chi^2\n",
    "chi3_red = chi_square(Z3,reg2(f3,a3,0),u_Z3_v2)/2\n",
    "print(chi3_red)\n",
    "# test3 = (Z3-reg2(f3,a3,b3))**2/reg2(f3,a3,b3)**2 # Formel aus Das Taschenbuch der Mathematik\n",
    "# test3 = test3.sum()#-2\n",
    "# print(test3)"
   ]
  },
  {
   "cell_type": "markdown",
   "id": "b6f0298b-07ae-462b-a36c-6abe72ff123d",
   "metadata": {},
   "source": [
    "## $R^2$"
   ]
  },
  {
   "cell_type": "code",
   "execution_count": 100,
   "id": "92dfaa23-2fab-4239-af9e-bd093984184b",
   "metadata": {},
   "outputs": [
    {
     "name": "stdout",
     "output_type": "stream",
     "text": [
      "0.6117258647200047\n"
     ]
    }
   ],
   "source": [
    "X = sm.add_constant(f3)\n",
    "model3 = sm.OLS(Z3, X).fit()\n",
    "\n",
    "# angepasstes R-Quadrat anzeigen\n",
    "print(model3.rsquared_adj)"
   ]
  },
  {
   "cell_type": "markdown",
   "id": "0eea5f17-9b2e-454f-8043-31859aabc599",
   "metadata": {},
   "source": [
    "## Residuen"
   ]
  },
  {
   "cell_type": "code",
   "execution_count": 101,
   "id": "894e4fa8-04af-458d-88e9-9c1a80eca040",
   "metadata": {},
   "outputs": [
    {
     "name": "stdout",
     "output_type": "stream",
     "text": [
      "[ 2.67897455 -0.36250461 -0.93739447 -0.97525096 -0.75948711 -0.50345813\n",
      " -0.26338123  0.11849741  0.51663641  0.98411127]\n"
     ]
    }
   ],
   "source": [
    "# für simulierte Daten:\n",
    "influence_A3 = model3.get_influence()\n",
    "\n",
    "# standardisierte Residuen erhalten\n",
    "standardized_residuals_A3 = influence_A3.resid_studentized_internal\n",
    "\n",
    "# standardisierte Residuen anzeigen\n",
    "print(standardized_residuals_A3)"
   ]
  },
  {
   "cell_type": "code",
   "execution_count": 102,
   "id": "c9d83e3e-484f-4f4a-b729-75c829491ed8",
   "metadata": {},
   "outputs": [
    {
     "data": {
      "image/png": "[encoded data removed]",
      "text/plain": [
       "<Figure size 640x480 with 1 Axes>"
      ]
     },
     "metadata": {},
     "output_type": "display_data"
    }
   ],
   "source": [
    "res3 = Z3- reg2(f3,a3,b3)\n",
    "plt.plot(f3, res3,'o')\n",
    "plt.xlabel('Frequenz')\n",
    "plt.ylabel('Standardisierte Residuen')\n",
    "plt.axhline(y=0, color='black', linestyle='-', linewidth=1)\n",
    "plt.xticks(ticks=np.arange(0,12001,3000))\n",
    "plt.yticks(ticks= np.arange(-6,12.1,6))\n",
    "plt.show()\n",
    "# plt.savefig('Residuen_A4.png',dpi=400)"
   ]
  },
  {
   "cell_type": "markdown",
   "id": "e128a5ec-727f-4f1e-b9da-4e95c37cccc8",
   "metadata": {},
   "source": [
    "## Berechnung von C"
   ]
  },
  {
   "cell_type": "code",
   "execution_count": 103,
   "id": "0ab4e9e4-47ef-4e65-b22d-14c9a6ff47c7",
   "metadata": {},
   "outputs": [
    {
     "data": {
      "text/plain": [
       "1.11e-07+/-1.3e-09"
      ]
     },
     "execution_count": 103,
     "metadata": {},
     "output_type": "execute_result"
    }
   ],
   "source": [
    "C_err = ufloat(round(a3/(2*np.pi),9),round(da3/(2*np.pi),10))\n",
    "C_err"
   ]
  },
  {
   "cell_type": "markdown",
   "id": "3f9856c4-7f38-436a-9fcd-c7fa73a042ec",
   "metadata": {},
   "source": [
    "# A5/A6"
   ]
  },
  {
   "cell_type": "code",
   "execution_count": 104,
   "id": "0aaa584b-6138-48fc-9693-2862c39a1426",
   "metadata": {},
   "outputs": [],
   "source": [
    "Frequenz_A5=[30,40,50,60,70,80,90,100,200,300,400,500]       #in Hz\n",
    "\n",
    "Uss_L_A5=[18,19,19,20,20,20,21,21,22,22,22,23]                       #in V\n",
    "Uss_R_A5=[0.9,0.86,0.8,0.76,0.7,0.66,0.6,0.56,0.32,0.23,0.17,0.14]         #in V\n",
    "Phase_A5_tdif=[2.5,2,2,2,1.25,1.4,1.4,1.4,1,0.6,0.4,0.38]\n",
    "Phase_A5_T12=[12.50, 8.30, 8.00, 6.50, 4.20, 3.80, 3.80, 3.70, 2.25, 1.40, 0.90, 0.75]"
   ]
  },
  {
   "cell_type": "code",
   "execution_count": 105,
   "id": "ab39f834-1c38-4573-9292-58adf3d19c1a",
   "metadata": {},
   "outputs": [],
   "source": [
    "U_2_5= np.array(Uss_R_A5)\n",
    "U_1_5 = np.array(Uss_L_A5)\n",
    "f5 = np.array(Frequenz_A5)\n",
    "tD5 =  np.array(Phase_A5_tdif)\n",
    "T_halb5 = np.array(Phase_A5_T12)\n",
    "Rp =  10* np.ones(len(U_1_5))"
   ]
  },
  {
   "cell_type": "code",
   "execution_count": 106,
   "id": "cb4fd23c-08cb-4b9d-aa5c-24030e38ade7",
   "metadata": {},
   "outputs": [
    {
     "data": {
      "text/plain": [
       "array([ 190.        ,  210.93023256,  227.5       ,  253.15789474,\n",
       "        275.71428571,  293.03030303,  340.        ,  365.        ,\n",
       "        677.5       ,  946.52173913, 1284.11764706, 1632.85714286])"
      ]
     },
     "execution_count": 106,
     "metadata": {},
     "output_type": "execute_result"
    }
   ],
   "source": [
    "Z5 = Z_1(U_1_5,U_2_5,  Rp)\n",
    "Z5"
   ]
  },
  {
   "cell_type": "markdown",
   "id": "74300f83-833f-49a8-845d-05bea54faaf6",
   "metadata": {},
   "source": [
    "## Fehlerrechnung"
   ]
  },
  {
   "cell_type": "code",
   "execution_count": 107,
   "id": "abb03ad7-9a42-4fc4-9850-7f87dbef0892",
   "metadata": {},
   "outputs": [
    {
     "name": "stdout",
     "output_type": "stream",
     "text": [
      "[0.045  0.043  0.04   0.038  0.035  0.033  0.03   0.028  0.016  0.0115\n",
      " 0.0085 0.007 ]\n"
     ]
    }
   ],
   "source": [
    "u_U15 =  0.05  * U_1_5#0.25 * np.ones(len(U_2_5))\n",
    "u_U25 = 0.05 * U_2_5\n",
    "u_f5 = f5 * 0.015\n",
    "u_tD5  = tD5 * 0.1\n",
    "u_T_halb5 = T_halb5 * 0.1\n",
    "u_Rp = Rp* 0.008\n",
    "print(u_U25)"
   ]
  },
  {
   "cell_type": "code",
   "execution_count": 108,
   "id": "1762294a-37f3-41a9-aa4d-9ec3243063af",
   "metadata": {},
   "outputs": [],
   "source": [
    "c = Z5**2 * (u_Rp/Rp)**2\n",
    "d = Rp**2/U_2_5**2 * (u_U15**2 + u_U25**2 *(U_1_5/U_2_5)**2)\n",
    "u_Z5= np.sqrt(d+c)"
   ]
  },
  {
   "cell_type": "markdown",
   "id": "53c84dcb-e76a-4c37-a629-cb1169323e26",
   "metadata": {},
   "source": [
    "## Visualisierung"
   ]
  },
  {
   "cell_type": "code",
   "execution_count": 109,
   "id": "80f2a779-6e6b-4d97-b1d0-c6fb7717c18c",
   "metadata": {},
   "outputs": [
    {
     "data": {
      "image/png": "[encoded data removed]",
      "text/plain": [
       "<Figure size 640x480 with 1 Axes>"
      ]
     },
     "metadata": {},
     "output_type": "display_data"
    }
   ],
   "source": [
    "plt.errorbar(f5,Z5,yerr= u_Z5, fmt='.',color='red',label='Messpunkte')\n",
    "plt.xlabel(r'Frequenz $f$ [Hz]')\n",
    "plt.ylabel(r'Scheinwiderstand $|Z|(f)$ [$\\Omega$]')#\n",
    "plt.xticks(ticks=np.arange(0,601,200))\n",
    "plt.yticks(ticks=np.arange(0,1801,600))\n",
    "plt.legend(loc=2)\n",
    "plt.show()"
   ]
  },
  {
   "cell_type": "markdown",
   "id": "1f86de7a-b9ef-4fb4-a54f-6f7276769c52",
   "metadata": {},
   "source": [
    "## Regression"
   ]
  },
  {
   "cell_type": "code",
   "execution_count": 110,
   "id": "7839cc37-4836-4308-8476-2c80a56c3098",
   "metadata": {},
   "outputs": [
    {
     "name": "stdout",
     "output_type": "stream",
     "text": [
      "[[ 6.31729211e-17 -1.15289114e-13]\n",
      " [-1.15289114e-13  3.77966349e-10]]\n",
      "a = 2.89+/-0.09\n",
      "b = 86+/-7\n"
     ]
    }
   ],
   "source": [
    "pop5,cov5 = curve_fit(reg,f5,Z5,sigma=u_Z5)\n",
    "a5,b5 = pop5\n",
    "print(cov3)\n",
    "da5,db5=np.sqrt(np.diag(cov5))\n",
    "print(f'a = {ufloat(a5,da5)}')\n",
    "print(f'b = {ufloat(b5,db5)}')"
   ]
  },
  {
   "cell_type": "markdown",
   "id": "733a0148-124e-4238-8ed9-ea214900b66e",
   "metadata": {
    "tags": []
   },
   "source": [
    "### Plot"
   ]
  },
  {
   "cell_type": "code",
   "execution_count": 111,
   "id": "60df20cf-b7c9-46aa-b709-0776337aab12",
   "metadata": {},
   "outputs": [],
   "source": [
    "ff5 = np.arange(10,550,10)\n",
    "ZZ5 = reg(ff5,a5,b5)"
   ]
  },
  {
   "cell_type": "code",
   "execution_count": 112,
   "id": "b5907570-cbdd-4f49-9d0e-75a16c708a1e",
   "metadata": {},
   "outputs": [
    {
     "data": {
      "image/png": "[encoded data removed]",
      "text/plain": [
       "<Figure size 640x480 with 1 Axes>"
      ]
     },
     "metadata": {},
     "output_type": "display_data"
    }
   ],
   "source": [
    "plt.errorbar(f5,Z5,yerr= u_Z5, fmt='.',color='red',label='Messpunkte')\n",
    "plt.plot(ff5,ZZ5,label='Fit')\n",
    "plt.xlabel(r'Frequenz $f$ [Hz]')\n",
    "plt.ylabel(r'Scheinwiderstand $|Z|(f)$ [$\\Omega$]')#\n",
    "plt.xticks(ticks=np.arange(0,601,200))\n",
    "plt.yticks(ticks=np.arange(0,1801,600))\n",
    "plt.legend(loc='upper left')\n",
    "plt.show()\n",
    "plt.savefig('A6_E4.png',dpi=400)"
   ]
  },
  {
   "cell_type": "markdown",
   "id": "af1c08ee-fdd4-4826-ad22-d76c6077e0c9",
   "metadata": {},
   "source": [
    "## $R^2$"
   ]
  },
  {
   "cell_type": "code",
   "execution_count": 113,
   "id": "aab8b0ee-a63a-4e8a-b136-53023e19dee3",
   "metadata": {},
   "outputs": [
    {
     "name": "stdout",
     "output_type": "stream",
     "text": [
      "0.997946170982064\n"
     ]
    }
   ],
   "source": [
    "X = sm.add_constant(f5)\n",
    "model5 = sm.OLS(Z5, X).fit()\n",
    "\n",
    "# angepasstes R-Quadrat anzeigen\n",
    "R_quad_5= model5.rsquared_adj\n",
    "print(R_quad_5)"
   ]
  },
  {
   "cell_type": "markdown",
   "id": "07ba4b93-b0c0-4def-bd1f-246db58d6348",
   "metadata": {},
   "source": [
    "## $\\chi^2$"
   ]
  },
  {
   "cell_type": "code",
   "execution_count": 114,
   "id": "c5da5896-4e69-4fe3-8421-c8e3aec19913",
   "metadata": {},
   "outputs": [
    {
     "name": "stdout",
     "output_type": "stream",
     "text": [
      "2.434252949383963\n"
     ]
    }
   ],
   "source": [
    "chi5_red = chi_square(Z5,reg(f5,a5,b5),u_Z5)/2\n",
    "print(chi5_red)"
   ]
  },
  {
   "cell_type": "code",
   "execution_count": 115,
   "id": "589a3bd7-0efe-4962-80f8-464b34117d47",
   "metadata": {},
   "outputs": [
    {
     "data": {
      "text/plain": [
       "np.float64(2.434252949383963)"
      ]
     },
     "execution_count": 115,
     "metadata": {},
     "output_type": "execute_result"
    }
   ],
   "source": [
    "test= (Z5-reg(f5,a5,b5))**2/u_Z5**2\n",
    "test = test.sum()/2\n",
    "test"
   ]
  },
  {
   "cell_type": "markdown",
   "id": "75cd9fb1-d3a8-42bc-b31d-77aa01aab52e",
   "metadata": {},
   "source": [
    "## Residuen"
   ]
  },
  {
   "cell_type": "code",
   "execution_count": 116,
   "id": "5075dce2-906a-45dc-aa89-ff2838c4bea1",
   "metadata": {},
   "outputs": [
    {
     "name": "stdout",
     "output_type": "stream",
     "text": [
      "[ 1.47939788  0.99364479  0.29889905  0.05562071 -0.33682415 -0.98109593\n",
      " -0.18519482 -0.45525588 -0.14095541 -1.99448868 -0.45550219  2.25755814]\n"
     ]
    }
   ],
   "source": [
    "# für simulierte Daten:\n",
    "influence_A5 = model5.get_influence()\n",
    "\n",
    "# standardisierte Residuen erhalten\n",
    "standardized_residuals_A5 = influence_A5.resid_studentized_internal\n",
    "\n",
    "# standardisierte Residuen anzeigen\n",
    "print(standardized_residuals_A5)"
   ]
  },
  {
   "cell_type": "code",
   "execution_count": 117,
   "id": "079e9cd3-cb74-4bd7-9ee7-017b42b377ee",
   "metadata": {},
   "outputs": [
    {
     "data": {
      "image/png": "[encoded data removed]",
      "text/plain": [
       "<Figure size 640x480 with 1 Axes>"
      ]
     },
     "metadata": {},
     "output_type": "display_data"
    }
   ],
   "source": [
    "res5 = Z5-reg(f5,a5,b5)\n",
    "xx = np.arange(0,550,10)\n",
    "yy = 0 * xx\n",
    "plt.plot(xx,yy,'k-')\n",
    "plt.plot(f5, res5,'o')\n",
    "plt.xticks(ticks=np.arange(0,501,250))\n",
    "plt.yticks(ticks=np.arange(-40,121,40))\n",
    "plt.xlabel('Frequenz')\n",
    "plt.ylabel('Standardisierte Residuen')\n",
    "#plt.axhline(y=0, color='black', linestyle='-', linewidth=1)\n",
    "plt.show()\n",
    "plt.savefig('Residuen_A6.png',dpi=400)"
   ]
  },
  {
   "cell_type": "markdown",
   "id": "066213f5-94b5-4642-bd2d-6c95701353a2",
   "metadata": {},
   "source": [
    "## Bestimmung von L"
   ]
  },
  {
   "cell_type": "code",
   "execution_count": 118,
   "id": "34baf183-ea30-48e9-9591-fe5ff6dcf027",
   "metadata": {},
   "outputs": [
    {
     "data": {
      "text/plain": [
       "np.float64(0.178)"
      ]
     },
     "execution_count": 118,
     "metadata": {},
     "output_type": "execute_result"
    }
   ],
   "source": [
    "zusatzterm = b5/(2*np.pi*f5)\n",
    "zusatzterm = round(zusatzterm.mean(),3)\n",
    "zusatzterm"
   ]
  },
  {
   "cell_type": "code",
   "execution_count": 119,
   "id": "ed79eb5b-29ff-49b3-8fdb-4cdd5e0f2114",
   "metadata": {},
   "outputs": [
    {
     "data": {
      "text/plain": [
       "np.float64(0.015)"
      ]
     },
     "execution_count": 119,
     "metadata": {},
     "output_type": "execute_result"
    }
   ],
   "source": [
    "# Fehlerberechnung:\n",
    "u_zt = 1/(2*np.pi) * np.sqrt(db5**2/f5**2+(b5*u_f5/f5**2)**2)\n",
    "u_zt = round(u_zt.mean(),3)\n",
    "u_zt"
   ]
  },
  {
   "cell_type": "code",
   "execution_count": 120,
   "id": "42291455-655d-4da4-9218-31960980538b",
   "metadata": {},
   "outputs": [
    {
     "data": {
      "text/plain": [
       "0.6379157425769211+/-0.020807057006404086"
      ]
     },
     "execution_count": 120,
     "metadata": {},
     "output_type": "execute_result"
    }
   ],
   "source": [
    "L = ufloat(a5,da5)/(2*np.pi) + ufloat(zusatzterm,u_zt)\n",
    "L"
   ]
  },
  {
   "cell_type": "markdown",
   "id": "366a3177-a384-4b1c-9207-7649b771a181",
   "metadata": {},
   "source": [
    "## Phasenverschiebung"
   ]
  },
  {
   "cell_type": "code",
   "execution_count": 121,
   "id": "7f78648d-2430-4f1a-8864-8396dac221d5",
   "metadata": {},
   "outputs": [],
   "source": [
    "phi5 = np.pi * tD5/T_halb5"
   ]
  },
  {
   "cell_type": "markdown",
   "id": "6df383f5-cf58-4ade-916e-c9ab0eaee6ed",
   "metadata": {},
   "source": [
    "### Fehlerrechnung"
   ]
  },
  {
   "cell_type": "code",
   "execution_count": 122,
   "id": "c4092292-5d44-49e2-b2ef-f67a1a08f289",
   "metadata": {},
   "outputs": [
    {
     "data": {
      "text/plain": [
       "array([0.08885766, 0.10705742, 0.11107207, 0.13670409, 0.13222866,\n",
       "       0.16368516, 0.16368516, 0.16810908, 0.19746146, 0.19040927,\n",
       "       0.19746146, 0.22510607])"
      ]
     },
     "execution_count": 122,
     "metadata": {},
     "output_type": "execute_result"
    }
   ],
   "source": [
    "u_tD5  = tD5 * 0.1\n",
    "u_T_halb5 = T_halb5 * 0.1\n",
    "u_phi5 = np.pi*np.sqrt(u_tD5**2/T_halb5**2 + tD5**2/T_halb5**4 * u_T_halb5**2)\n",
    "u_phi5"
   ]
  },
  {
   "cell_type": "markdown",
   "id": "ec348be4-c750-4d13-8e11-df9d1d4d2fcd",
   "metadata": {},
   "source": [
    "### Visualisierung"
   ]
  },
  {
   "cell_type": "code",
   "execution_count": 123,
   "id": "3513f75f-ec66-4f09-b7d2-c2c9409bfcbc",
   "metadata": {},
   "outputs": [
    {
     "data": {
      "image/png": "[encoded data removed]",
      "text/plain": [
       "<Figure size 640x480 with 1 Axes>"
      ]
     },
     "metadata": {},
     "output_type": "display_data"
    }
   ],
   "source": [
    "plt.errorbar(np.log(f5),phi5,yerr = u_phi5,fmt='.',color='red',label='Messdaten')\n",
    "plt.legend(loc=2)\n",
    "plt.show()"
   ]
  },
  {
   "cell_type": "markdown",
   "id": "5a186322-5351-47df-a4e8-2789d59b5f35",
   "metadata": {},
   "source": [
    "# A7"
   ]
  },
  {
   "cell_type": "code",
   "execution_count": 124,
   "id": "fb9aff86-88ea-4dbb-baa1-c94ff67dd14b",
   "metadata": {},
   "outputs": [],
   "source": [
    "# help(uncertainties)"
   ]
  },
  {
   "cell_type": "code",
   "execution_count": 125,
   "id": "57b18230-0dd9-4107-a6a7-eed92a894604",
   "metadata": {},
   "outputs": [
    {
     "name": "stdout",
     "output_type": "stream",
     "text": [
      "0.638+/-0.021\n",
      "(1.110+/-0.013)e-07\n"
     ]
    }
   ],
   "source": [
    "print(L)\n",
    "print(C_err)"
   ]
  },
  {
   "cell_type": "code",
   "execution_count": 126,
   "id": "514c72e0-dd99-4c56-aa44-03acc87fdda4",
   "metadata": {},
   "outputs": [
    {
     "data": {
      "text/plain": [
       "np.float64(0.00026611651583469977)"
      ]
     },
     "execution_count": 126,
     "metadata": {},
     "output_type": "execute_result"
    }
   ],
   "source": [
    "np.sqrt(0.638*1.11e-7)"
   ]
  },
  {
   "cell_type": "code",
   "execution_count": 127,
   "id": "b9202881-3d58-494d-8dac-17100f6fc5d7",
   "metadata": {},
   "outputs": [
    {
     "data": {
      "text/plain": [
       "np.float64(1640.947140509967)"
      ]
     },
     "execution_count": 127,
     "metadata": {},
     "output_type": "execute_result"
    }
   ],
   "source": [
    "1/np.sqrt(0.638*5.8209e-7)"
   ]
  },
  {
   "cell_type": "code",
   "execution_count": 128,
   "id": "81ab9ae6-4ffb-4310-adac-ea1e492edc2e",
   "metadata": {},
   "outputs": [
    {
     "data": {
      "text/plain": [
       "3758.000648203194+/-65.11892875480434"
      ]
     },
     "execution_count": 128,
     "metadata": {},
     "output_type": "execute_result"
    }
   ],
   "source": [
    "om_res=1/(L*C_err)**0.5\n",
    "om_res"
   ]
  },
  {
   "cell_type": "code",
   "execution_count": 129,
   "id": "b39e9d86-2cb5-4d81-84d6-a67fa1e9aa47",
   "metadata": {},
   "outputs": [
    {
     "data": {
      "text/plain": [
       "0.0002660989429254431+/-4.6109832669602445e-06"
      ]
     },
     "execution_count": 129,
     "metadata": {},
     "output_type": "execute_result"
    }
   ],
   "source": [
    "(L*C_err)**0.5"
   ]
  },
  {
   "cell_type": "code",
   "execution_count": 130,
   "id": "bcf9d206-3f8e-4fa7-8c23-f3c462364a49",
   "metadata": {},
   "outputs": [
    {
     "data": {
      "text/plain": [
       "3758.0012544208184"
      ]
     },
     "execution_count": 130,
     "metadata": {},
     "output_type": "execute_result"
    }
   ],
   "source": [
    "1/0.0002660989"
   ]
  },
  {
   "cell_type": "code",
   "execution_count": 131,
   "id": "a9f81d33-d60f-44cb-888f-645f386ff793",
   "metadata": {},
   "outputs": [
    {
     "data": {
      "text/plain": [
       "598.1043793040851+/-10.363999400176075"
      ]
     },
     "execution_count": 131,
     "metadata": {},
     "output_type": "execute_result"
    }
   ],
   "source": [
    "## Resonanzfrequenz\n",
    "Res_fre = om_res/(2*np.pi)\n",
    "Res_fre"
   ]
  },
  {
   "cell_type": "markdown",
   "id": "25c90112-8401-43b8-b9de-0b5d9eea7a2e",
   "metadata": {},
   "source": [
    "# A8"
   ]
  },
  {
   "cell_type": "code",
   "execution_count": 129,
   "id": "5ff9a1d1-d277-4e3e-8956-a1af50ac59a0",
   "metadata": {},
   "outputs": [],
   "source": [
    "f_resA8 = 698.30"
   ]
  },
  {
   "cell_type": "code",
   "execution_count": null,
   "id": "7ad13fe3-2570-49ea-89d7-177620340154",
   "metadata": {},
   "outputs": [],
   "source": []
  }
 ],
 "metadata": {
  "kernelspec": {
   "display_name": "projects",
   "language": "python",
   "name": "python3"
  },
  "language_info": {
   "codemirror_mode": {
    "name": "ipython",
    "version": 3
   },
   "file_extension": ".py",
   "mimetype": "text/x-python",
   "name": "python",
   "nbconvert_exporter": "python",
   "pygments_lexer": "ipython3",
   "version": "3.12.8"
  }
 },
 "nbformat": 4,
 "nbformat_minor": 5
}
