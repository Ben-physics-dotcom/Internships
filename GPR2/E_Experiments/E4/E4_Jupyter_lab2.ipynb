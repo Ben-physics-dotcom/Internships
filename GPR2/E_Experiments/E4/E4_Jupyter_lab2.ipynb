{
 "cells": [
  {
   "cell_type": "markdown",
   "id": "1884e989",
   "metadata": {
    "tags": []
   },
   "source": [
    "# Importe"
   ]
  },
  {
   "cell_type": "code",
   "execution_count": 1,
   "id": "d5d327fa",
   "metadata": {
    "tags": []
   },
   "outputs": [
    {
     "ename": "ModuleNotFoundError",
     "evalue": "No module named 'lmfit'",
     "output_type": "error",
     "traceback": [
      "\u001b[1;31m---------------------------------------------------------------------------\u001b[0m",
      "\u001b[1;31mModuleNotFoundError\u001b[0m                       Traceback (most recent call last)",
      "\u001b[1;32m<ipython-input-1-3fde4b6a321e>\u001b[0m in \u001b[0;36m<module>\u001b[1;34m\u001b[0m\n\u001b[0;32m      6\u001b[0m \u001b[1;32mimport\u001b[0m \u001b[0mstatsmodels\u001b[0m\u001b[1;33m.\u001b[0m\u001b[0mapi\u001b[0m \u001b[1;32mas\u001b[0m \u001b[0msm\u001b[0m\u001b[1;33m\u001b[0m\u001b[1;33m\u001b[0m\u001b[0m\n\u001b[0;32m      7\u001b[0m \u001b[1;32mfrom\u001b[0m \u001b[0muncertainties\u001b[0m \u001b[1;32mimport\u001b[0m \u001b[0mufloat\u001b[0m\u001b[1;33m,\u001b[0m \u001b[0munumpy\u001b[0m \u001b[1;32mas\u001b[0m \u001b[0munp\u001b[0m\u001b[1;33m\u001b[0m\u001b[1;33m\u001b[0m\u001b[0m\n\u001b[1;32m----> 8\u001b[1;33m \u001b[1;32mfrom\u001b[0m \u001b[0mlmfit\u001b[0m\u001b[1;33m.\u001b[0m\u001b[0mmodels\u001b[0m \u001b[1;32mimport\u001b[0m \u001b[0mStepModel\u001b[0m\u001b[1;33m,\u001b[0m \u001b[0mLinearModel\u001b[0m\u001b[1;33m\u001b[0m\u001b[1;33m\u001b[0m\u001b[0m\n\u001b[0m\u001b[0;32m      9\u001b[0m \u001b[1;32mimport\u001b[0m \u001b[0msympy\u001b[0m \u001b[1;32mas\u001b[0m \u001b[0msym\u001b[0m\u001b[1;33m\u001b[0m\u001b[1;33m\u001b[0m\u001b[0m\n\u001b[0;32m     10\u001b[0m \u001b[1;32mfrom\u001b[0m \u001b[0mscipy\u001b[0m\u001b[1;33m.\u001b[0m\u001b[0mstats\u001b[0m \u001b[1;32mimport\u001b[0m \u001b[0mchisquare\u001b[0m\u001b[1;33m\u001b[0m\u001b[1;33m\u001b[0m\u001b[0m\n",
      "\u001b[1;31mModuleNotFoundError\u001b[0m: No module named 'lmfit'"
     ]
    }
   ],
   "source": [
    "import matplotlib.pyplot as plt\n",
    "import pandas as pd\n",
    "import numpy as np\n",
    "from scipy.optimize import curve_fit\n",
    "from sklearn.metrics import r2_score\n",
    "import statsmodels.api as sm\n",
    "from uncertainties import ufloat, unumpy as unp\n",
    "# from lmfit.models import StepModel, LinearModel\n",
    "import sympy as sym\n",
    "from scipy.stats import chisquare\n",
    "from scipy.stats import gaussian_kde\n",
    "\n",
    "\n",
    "plt.style.use('classic')\n",
    "plt.rc('text',usetex=True) \n",
    "# plt.rc ('axes', labelsize = 20) # Schriftgröße der x- und y-Beschriftungen"
   ]
  },
  {
   "cell_type": "markdown",
   "id": "dc3eda45",
   "metadata": {
    "tags": []
   },
   "source": [
    "# Selbstdefinierte Funktionen"
   ]
  },
  {
   "cell_type": "code",
   "execution_count": 133,
   "id": "bae0374c",
   "metadata": {},
   "outputs": [],
   "source": [
    "pi = 3.1415\n",
    "# lineare Regression\n",
    "def reg(x,a,b):\n",
    "    regg = a * x + b\n",
    "    return regg\n",
    "\n",
    "def reg2(x,a,b):   \n",
    "    regg = 1/(a*x+b)\n",
    "    return regg\n",
    "\n",
    "def reg3(x,a,b,c):\n",
    "    regg = (a**2 + (2*pi*b*x - 1/(2 * pi * c* x)) ** 2)**0.5\n",
    "    return regg\n",
    "# U_ss in U_s umrechnen\n",
    "def us(x):\n",
    "    f = x/(2)\n",
    "    return f\n",
    "\n",
    "# Gleichung (21), Versuchsskript\n",
    "def Z_1(U1,U2,R):            \n",
    "    k = R * (U1-U2)/U2\n",
    "    return k\n",
    "\n",
    "def Z_2(x,a,b):\n",
    "    k = np.sqrt((x*a)**2 + b**2)\n",
    "    return k\n",
    "\n",
    "# Chi^2\n",
    "def chi_square(y,f_y,y_err):\n",
    "    # Arrays-artige einfügen\n",
    "    chi = (y-f_y)**2/y_err**2\n",
    "    chi_2 = chi.sum()\n",
    "    return chi_2\n",
    "\n",
    "def chi_red(chi,f):\n",
    "    # f: Freiheitsgrade\n",
    "    # chi: chi^2\n",
    "    c = chi-v\n",
    "    return c"
   ]
  },
  {
   "cell_type": "markdown",
   "id": "ff0852d2",
   "metadata": {
    "tags": []
   },
   "source": [
    "# Daten laden"
   ]
  },
  {
   "cell_type": "code",
   "execution_count": 134,
   "id": "4d3022b2",
   "metadata": {
    "tags": [
     "Daten"
    ]
   },
   "outputs": [],
   "source": [
    "A1_df = pd.read_csv('A1.txt',sep='\\t')\n",
    "A3_df = pd.read_csv('A3_Eigene_Werte.txt',sep='\\t')\n",
    "A5_df = pd.read_csv('A5_Eigene_Werte.txt',sep='\\t')\n",
    "A2_df = pd.read_csv('A2.txt',sep='\\t')\n",
    "A9_df = pd.read_csv('A9.txt',sep='\\t')\n",
    "A10_df = pd.read_csv('A10.txt',sep='\\t')\n",
    "A12_df = pd.read_csv('A12.txt',sep='\\t')"
   ]
  },
  {
   "cell_type": "code",
   "execution_count": 7,
   "id": "b9e063c7",
   "metadata": {},
   "outputs": [
    {
     "data": {
      "text/html": [
       "<div>\n",
       "<style scoped>\n",
       "    .dataframe tbody tr th:only-of-type {\n",
       "        vertical-align: middle;\n",
       "    }\n",
       "\n",
       "    .dataframe tbody tr th {\n",
       "        vertical-align: top;\n",
       "    }\n",
       "\n",
       "    .dataframe thead th {\n",
       "        text-align: right;\n",
       "    }\n",
       "</style>\n",
       "<table border=\"1\" class=\"dataframe\">\n",
       "  <thead>\n",
       "    <tr style=\"text-align: right;\">\n",
       "      <th></th>\n",
       "      <th>Signal</th>\n",
       "      <th>Frequenz(Hz)</th>\n",
       "      <th>U_ss</th>\n",
       "      <th>U_eff</th>\n",
       "    </tr>\n",
       "  </thead>\n",
       "  <tbody>\n",
       "    <tr>\n",
       "      <th>0</th>\n",
       "      <td>sinus</td>\n",
       "      <td>1422.0</td>\n",
       "      <td>22.0</td>\n",
       "      <td>NaN</td>\n",
       "    </tr>\n",
       "    <tr>\n",
       "      <th>1</th>\n",
       "      <td>sinus</td>\n",
       "      <td>538.5</td>\n",
       "      <td>23.0</td>\n",
       "      <td>NaN</td>\n",
       "    </tr>\n",
       "    <tr>\n",
       "      <th>2</th>\n",
       "      <td>Dreieck</td>\n",
       "      <td>16596.0</td>\n",
       "      <td>23.0</td>\n",
       "      <td>NaN</td>\n",
       "    </tr>\n",
       "    <tr>\n",
       "      <th>3</th>\n",
       "      <td>Rechteck</td>\n",
       "      <td>16597.0</td>\n",
       "      <td>23.0</td>\n",
       "      <td>NaN</td>\n",
       "    </tr>\n",
       "    <tr>\n",
       "      <th>4</th>\n",
       "      <td>sinus</td>\n",
       "      <td>1430.0</td>\n",
       "      <td>NaN</td>\n",
       "      <td>7.42</td>\n",
       "    </tr>\n",
       "  </tbody>\n",
       "</table>\n",
       "</div>"
      ],
      "text/plain": [
       "     Signal  Frequenz(Hz)  U_ss  U_eff\n",
       "0     sinus        1422.0  22.0    NaN\n",
       "1     sinus         538.5  23.0    NaN\n",
       "2   Dreieck       16596.0  23.0    NaN\n",
       "3  Rechteck       16597.0  23.0    NaN\n",
       "4     sinus        1430.0   NaN   7.42"
      ]
     },
     "execution_count": 7,
     "metadata": {},
     "output_type": "execute_result"
    }
   ],
   "source": [
    "# Test\n",
    "A1_df.head()"
   ]
  },
  {
   "cell_type": "markdown",
   "id": "b4a51590",
   "metadata": {
    "tags": []
   },
   "source": [
    "# Aufgabe 1"
   ]
  },
  {
   "cell_type": "code",
   "execution_count": 8,
   "id": "ffdffc84",
   "metadata": {},
   "outputs": [
    {
     "data": {
      "text/html": [
       "<div>\n",
       "<style scoped>\n",
       "    .dataframe tbody tr th:only-of-type {\n",
       "        vertical-align: middle;\n",
       "    }\n",
       "\n",
       "    .dataframe tbody tr th {\n",
       "        vertical-align: top;\n",
       "    }\n",
       "\n",
       "    .dataframe thead th {\n",
       "        text-align: right;\n",
       "    }\n",
       "</style>\n",
       "<table border=\"1\" class=\"dataframe\">\n",
       "  <thead>\n",
       "    <tr style=\"text-align: right;\">\n",
       "      <th></th>\n",
       "      <th>Signal</th>\n",
       "      <th>Frequenz(Hz)</th>\n",
       "      <th>U_ss</th>\n",
       "      <th>U_eff</th>\n",
       "    </tr>\n",
       "  </thead>\n",
       "  <tbody>\n",
       "    <tr>\n",
       "      <th>0</th>\n",
       "      <td>sinus</td>\n",
       "      <td>1422.0</td>\n",
       "      <td>22.0</td>\n",
       "      <td>NaN</td>\n",
       "    </tr>\n",
       "    <tr>\n",
       "      <th>1</th>\n",
       "      <td>sinus</td>\n",
       "      <td>538.5</td>\n",
       "      <td>23.0</td>\n",
       "      <td>NaN</td>\n",
       "    </tr>\n",
       "    <tr>\n",
       "      <th>2</th>\n",
       "      <td>Dreieck</td>\n",
       "      <td>16596.0</td>\n",
       "      <td>23.0</td>\n",
       "      <td>NaN</td>\n",
       "    </tr>\n",
       "    <tr>\n",
       "      <th>3</th>\n",
       "      <td>Rechteck</td>\n",
       "      <td>16597.0</td>\n",
       "      <td>23.0</td>\n",
       "      <td>NaN</td>\n",
       "    </tr>\n",
       "    <tr>\n",
       "      <th>4</th>\n",
       "      <td>sinus</td>\n",
       "      <td>1430.0</td>\n",
       "      <td>NaN</td>\n",
       "      <td>7.42</td>\n",
       "    </tr>\n",
       "  </tbody>\n",
       "</table>\n",
       "</div>"
      ],
      "text/plain": [
       "     Signal  Frequenz(Hz)  U_ss  U_eff\n",
       "0     sinus        1422.0  22.0    NaN\n",
       "1     sinus         538.5  23.0    NaN\n",
       "2   Dreieck       16596.0  23.0    NaN\n",
       "3  Rechteck       16597.0  23.0    NaN\n",
       "4     sinus        1430.0   NaN   7.42"
      ]
     },
     "execution_count": 8,
     "metadata": {},
     "output_type": "execute_result"
    }
   ],
   "source": [
    "# Daten:\n",
    "A1_df.head()"
   ]
  },
  {
   "cell_type": "code",
   "execution_count": 9,
   "id": "80bf3057",
   "metadata": {},
   "outputs": [
    {
     "name": "stdout",
     "output_type": "stream",
     "text": [
      "0       sinus\n",
      "1       sinus\n",
      "2     Dreieck\n",
      "3    Rechteck\n",
      "Name: Signal, dtype: object\n",
      "\n",
      " Oszillator \n",
      "              Freq  U_ss\n",
      "sinus      1422.0  22.0\n",
      "sinus       538.5  23.0\n",
      "Dreieck   16596.0  23.0\n",
      "Rechteck  16597.0  23.0\n",
      "\n",
      " Multimeter\n",
      "             Freq   U_eff\n",
      "sinus     1430.0   7.420\n",
      "sinus      540.0   7.940\n",
      "Dreieck   1660.0   6.465\n",
      "Rechteck  1660.0  11.769\n"
     ]
    }
   ],
   "source": [
    "Signal= A1_df['Signal']\n",
    "A1_Osz1 = pd.Series(A1_df['Frequenz(Hz)'][0:4])\n",
    "#print(A1_Osz1)\n",
    "A1_Osz2 = pd.Series(A1_df['U_ss'][0:4])\n",
    "#print(A1_Osz2)\n",
    "print(Signal[0:4])\n",
    "A1_Osz = pd.DataFrame({'Freq': list(A1_Osz1), \n",
    "                       'U_ss':list(A1_Osz2)},\n",
    "                      index=['sinus','sinus','Dreieck','Rechteck'])#\n",
    "print('\\n','Oszillator','\\n',A1_Osz)\n",
    "\n",
    "A1_Mul = pd.DataFrame({'Freq': list(A1_df['Frequenz(Hz)'][4:8]),\n",
    "                     'U_eff':list(A1_df['U_eff'][4:8])},\n",
    "                    index=['sinus','sinus','Dreieck','Rechteck'])\n",
    "print('\\n','Multimeter\\n',A1_Mul)"
   ]
  },
  {
   "cell_type": "code",
   "execution_count": 12,
   "id": "aa7eb554",
   "metadata": {},
   "outputs": [
    {
     "name": "stdout",
     "output_type": "stream",
     "text": [
      "sinus        7.778175\n",
      "sinus        8.131728\n",
      "Dreieck      6.639528\n",
      "Rechteck    11.500000\n",
      "Name: U_ss, dtype: float64\n",
      "\n",
      "\n",
      "sinus        7.420\n",
      "sinus        7.940\n",
      "Dreieck      6.465\n",
      "Rechteck    11.769\n",
      "Name: U_eff, dtype: float64\n",
      "\n",
      "\n",
      "sinus      -0.358175\n",
      "sinus      -0.191728\n",
      "Dreieck    -0.174528\n",
      "Rechteck    0.269000\n",
      "dtype: float64\n"
     ]
    }
   ],
   "source": [
    "U_s = us(A1_Osz['U_ss'])\n",
    "faktor= [1/np.sqrt(2),1/np.sqrt(2),1/np.sqrt(3),1]\n",
    "U_eff = U_s * faktor\n",
    "print(U_eff)\n",
    "print('\\n')\n",
    "print(A1_Mul['U_eff'])\n",
    "print('\\n')\n",
    "diff = A1_Mul['U_eff']-U_eff\n",
    "print(diff)"
   ]
  },
  {
   "cell_type": "markdown",
   "id": "d04f0b71",
   "metadata": {
    "tags": []
   },
   "source": [
    "# Aufgabe 2"
   ]
  },
  {
   "cell_type": "code",
   "execution_count": 13,
   "id": "929572ee",
   "metadata": {},
   "outputs": [
    {
     "name": "stdout",
     "output_type": "stream",
     "text": [
      "Kapazität: 9.85e-08+-2.955e-08\n",
      "Ohmscher Widerstand Spule: 149.9+-1.2\n"
     ]
    }
   ],
   "source": [
    "# Kapazität Aufgabe 2\n",
    "C_A_2 = 98.5e-9 \n",
    "err_c = 98.5e-9 * 0.3\n",
    "print(f\"Kapazität: {C_A_2}+-{err_c}\")\n",
    "\n",
    "# Ohmscher Widerstand Spule\n",
    "R_L = 149.90\n",
    "err_R_L = 149.90 * 0.8 /100 \n",
    "print(f\"Ohmscher Widerstand Spule: {R_L}+-{round(err_R_L,1)}\")"
   ]
  },
  {
   "cell_type": "markdown",
   "id": "f5b4cddb",
   "metadata": {},
   "source": [
    "Aufrunden auf die siebte Nachkommastelle"
   ]
  },
  {
   "cell_type": "code",
   "execution_count": 14,
   "id": "473fb704",
   "metadata": {},
   "outputs": [
    {
     "name": "stdout",
     "output_type": "stream",
     "text": [
      "1e-07\n",
      "0.0\n"
     ]
    }
   ],
   "source": [
    "print(round(98.5e-9,7))\n",
    "print(round(err_c,7))"
   ]
  },
  {
   "cell_type": "markdown",
   "id": "165d76d2",
   "metadata": {
    "tags": []
   },
   "source": [
    "# Aufgabe 3/4"
   ]
  },
  {
   "cell_type": "markdown",
   "id": "783bb1d5",
   "metadata": {
    "tags": []
   },
   "source": [
    "## Datenladen und Ploten"
   ]
  },
  {
   "cell_type": "code",
   "execution_count": 15,
   "id": "6dc06245",
   "metadata": {},
   "outputs": [
    {
     "data": {
      "text/html": [
       "<div>\n",
       "<style scoped>\n",
       "    .dataframe tbody tr th:only-of-type {\n",
       "        vertical-align: middle;\n",
       "    }\n",
       "\n",
       "    .dataframe tbody tr th {\n",
       "        vertical-align: top;\n",
       "    }\n",
       "\n",
       "    .dataframe thead th {\n",
       "        text-align: right;\n",
       "    }\n",
       "</style>\n",
       "<table border=\"1\" class=\"dataframe\">\n",
       "  <thead>\n",
       "    <tr style=\"text-align: right;\">\n",
       "      <th></th>\n",
       "      <th>Nr</th>\n",
       "      <th>Frequenz</th>\n",
       "      <th>U_ss_K1</th>\n",
       "      <th>U_ss_K2</th>\n",
       "    </tr>\n",
       "  </thead>\n",
       "  <tbody>\n",
       "    <tr>\n",
       "      <th>0</th>\n",
       "      <td>1</td>\n",
       "      <td>1053</td>\n",
       "      <td>14</td>\n",
       "      <td>14.00</td>\n",
       "    </tr>\n",
       "    <tr>\n",
       "      <th>1</th>\n",
       "      <td>2</td>\n",
       "      <td>1884</td>\n",
       "      <td>14</td>\n",
       "      <td>13.80</td>\n",
       "    </tr>\n",
       "    <tr>\n",
       "      <th>2</th>\n",
       "      <td>3</td>\n",
       "      <td>3010</td>\n",
       "      <td>14</td>\n",
       "      <td>14.00</td>\n",
       "    </tr>\n",
       "    <tr>\n",
       "      <th>3</th>\n",
       "      <td>4</td>\n",
       "      <td>3974</td>\n",
       "      <td>14</td>\n",
       "      <td>14.25</td>\n",
       "    </tr>\n",
       "    <tr>\n",
       "      <th>4</th>\n",
       "      <td>5</td>\n",
       "      <td>5152</td>\n",
       "      <td>14</td>\n",
       "      <td>14.05</td>\n",
       "    </tr>\n",
       "    <tr>\n",
       "      <th>5</th>\n",
       "      <td>6</td>\n",
       "      <td>5855</td>\n",
       "      <td>14</td>\n",
       "      <td>14.00</td>\n",
       "    </tr>\n",
       "  </tbody>\n",
       "</table>\n",
       "</div>"
      ],
      "text/plain": [
       "   Nr  Frequenz  U_ss_K1  U_ss_K2\n",
       "0   1      1053       14    14.00\n",
       "1   2      1884       14    13.80\n",
       "2   3      3010       14    14.00\n",
       "3   4      3974       14    14.25\n",
       "4   5      5152       14    14.05\n",
       "5   6      5855       14    14.00"
      ]
     },
     "execution_count": 15,
     "metadata": {},
     "output_type": "execute_result"
    }
   ],
   "source": [
    "A3_df"
   ]
  },
  {
   "cell_type": "code",
   "execution_count": 16,
   "id": "ecb53439",
   "metadata": {},
   "outputs": [],
   "source": [
    "U_2 = np.array(A3_df['U_ss_K1'])\n",
    "U_1 = np.array(A3_df['U_ss_K2'])\n",
    "f = np.array(A3_df['Frequenz'])\n",
    "R_p = 10e3*np.ones(6)"
   ]
  },
  {
   "cell_type": "code",
   "execution_count": 17,
   "id": "4e6c87e5",
   "metadata": {},
   "outputs": [
    {
     "name": "stdout",
     "output_type": "stream",
     "text": [
      "[10000. 10000. 10000. 10000. 10000. 10000.]\n"
     ]
    }
   ],
   "source": [
    "print(R_p)"
   ]
  },
  {
   "cell_type": "code",
   "execution_count": 18,
   "id": "2457123e",
   "metadata": {},
   "outputs": [
    {
     "name": "stdout",
     "output_type": "stream",
     "text": [
      "6\n",
      "6\n",
      "6\n"
     ]
    }
   ],
   "source": [
    "print(len(U_2))\n",
    "print(len(U_1))\n",
    "print(len(R_p))"
   ]
  },
  {
   "cell_type": "code",
   "execution_count": 19,
   "id": "8931fa87",
   "metadata": {},
   "outputs": [
    {
     "data": {
      "text/plain": [
       "array([   0.        , -142.85714286,    0.        ,  178.57142857,\n",
       "         35.71428571,    0.        ])"
      ]
     },
     "execution_count": 19,
     "metadata": {},
     "output_type": "execute_result"
    }
   ],
   "source": [
    "Z = Z_1(U_1,U_2,R_p)\n",
    "Z"
   ]
  },
  {
   "cell_type": "code",
   "execution_count": 20,
   "id": "9c2898cc",
   "metadata": {},
   "outputs": [
    {
     "data": {
      "text/plain": [
       "array([ 0.        , -0.14285714,  0.        ,  0.17857143,  0.03571429,\n",
       "        0.        ])"
      ]
     },
     "execution_count": 20,
     "metadata": {},
     "output_type": "execute_result"
    }
   ],
   "source": [
    "Zz = Z_1(U_1,U_2,R_p/1e3)\n",
    "Zz"
   ]
  },
  {
   "cell_type": "code",
   "execution_count": 21,
   "id": "039d0f40",
   "metadata": {},
   "outputs": [
    {
     "data": {
      "image/png": "[encoded data removed]",
      "text/plain": [
       "<Figure size 432x288 with 1 Axes>"
      ]
     },
     "metadata": {
      "needs_background": "light"
     },
     "output_type": "display_data"
    }
   ],
   "source": [
    "plt.plot(f,Z,'o')\n",
    "plt.xlabel(r'Frequenz')\n",
    "plt.show()"
   ]
  },
  {
   "cell_type": "code",
   "execution_count": null,
   "id": "8b32ac50",
   "metadata": {},
   "outputs": [],
   "source": []
  },
  {
   "cell_type": "code",
   "execution_count": 22,
   "id": "9ebb4571",
   "metadata": {},
   "outputs": [
    {
     "name": "stdout",
     "output_type": "stream",
     "text": [
      "[1053 1884 3010 3974 5152 5855]\n",
      "[   0.         -142.85714286    0.          178.57142857   35.71428571\n",
      "    0.        ]\n"
     ]
    }
   ],
   "source": [
    "xa3 = np.ones(6)\n",
    "for i in range(6):\n",
    "    xa3[i] = float(f[i])\n",
    "\n",
    "\n",
    "ya3 = Z\n",
    "print(f) \n",
    "print(ya3)"
   ]
  },
  {
   "cell_type": "code",
   "execution_count": 23,
   "id": "0cb8c920",
   "metadata": {},
   "outputs": [
    {
     "name": "stdout",
     "output_type": "stream",
     "text": [
      "0.006913143590865492\n",
      "0.0003718132502354767\n"
     ]
    },
    {
     "name": "stderr",
     "output_type": "stream",
     "text": [
      "C:\\Users\\Ben Fliegener\\Miniconda3\\lib\\site-packages\\scipy\\optimize\\minpack.py:829: OptimizeWarning: Covariance of the parameters could not be estimated\n",
      "  category=OptimizeWarning)\n"
     ]
    }
   ],
   "source": [
    "pop,cov = curve_fit(Z_2,xa3,ya3)\n",
    "a3,b3 = pop\n",
    "# da3,db3 = np.diagonal(np.sqrt(cov))\n",
    "\n",
    "print(a3)\n",
    "print(b3)"
   ]
  },
  {
   "cell_type": "code",
   "execution_count": 24,
   "id": "fba6211c",
   "metadata": {},
   "outputs": [],
   "source": [
    "pop, cov = curve_fit(reg2,xa3,ya3)\n",
    "a3_2,b3_2= pop"
   ]
  },
  {
   "cell_type": "code",
   "execution_count": 25,
   "id": "ccd45feb",
   "metadata": {},
   "outputs": [],
   "source": [
    "x_plot = np.arange(0,10e2,100)\n",
    "# print(x_plot)\n",
    "y_plot = Z_2(x_plot,a3,b3)\n",
    "y_plot_2 = reg2(x_plot,a3_2,b3_2)\n",
    "#print(y_plot_2)"
   ]
  },
  {
   "cell_type": "code",
   "execution_count": 26,
   "id": "25f4b3d2",
   "metadata": {},
   "outputs": [
    {
     "data": {
      "image/png": "[encoded data removed]",
      "text/plain": [
       "<Figure size 432x288 with 1 Axes>"
      ]
     },
     "metadata": {
      "needs_background": "light"
     },
     "output_type": "display_data"
    }
   ],
   "source": [
    "plt.plot(f,Z,'ro',label='Datenpunkte')\n",
    "#plt.plot(x_plot,y_plot,'b--',label='Fitkurve')\n",
    "plt.plot(x_plot,y_plot_2,'--',color='green',label=r'Fit: $Z(f) = \\frac{1}{a\\cdot f +b}$')\n",
    "plt.xlabel(r'Frequenz')\n",
    "plt.ylabel(r'$|Z|$')\n",
    "plt.legend()\n",
    "plt.show()"
   ]
  },
  {
   "cell_type": "markdown",
   "id": "8afaf243",
   "metadata": {
    "tags": []
   },
   "source": [
    "## Test"
   ]
  },
  {
   "cell_type": "code",
   "execution_count": 27,
   "id": "bdb81914",
   "metadata": {},
   "outputs": [
    {
     "name": "stderr",
     "output_type": "stream",
     "text": [
      "C:\\Users\\Ben Fliegener\\Miniconda3\\lib\\site-packages\\ipykernel_launcher.py:2: RuntimeWarning: divide by zero encountered in true_divide\n",
      "  \n"
     ]
    }
   ],
   "source": [
    "f_test = np.arange(-6000, 6000, 600)\n",
    "Z_test= np.sqrt(10e3**2 + (1/(2*np.pi*C_A_2*f_test))**2)"
   ]
  },
  {
   "cell_type": "code",
   "execution_count": 28,
   "id": "5107c545",
   "metadata": {},
   "outputs": [
    {
     "name": "stdout",
     "output_type": "stream",
     "text": [
      "a^{2}\n"
     ]
    }
   ],
   "source": [
    "print(r\"a^{2}\")"
   ]
  },
  {
   "cell_type": "code",
   "execution_count": 29,
   "id": "da68f407",
   "metadata": {},
   "outputs": [
    {
     "name": "stdout",
     "output_type": "stream",
     "text": [
      "$|Z|=\\sqrt{R_{p}^{2}+ \\left(\\frac{1}{2 \\pi C f_{test}}\\right)^{2}}$ \n",
      "\n"
     ]
    },
    {
     "data": {
      "image/png": "[encoded data removed]",
      "text/plain": [
       "<Figure size 432x288 with 1 Axes>"
      ]
     },
     "metadata": {
      "needs_background": "light"
     },
     "output_type": "display_data"
    }
   ],
   "source": [
    "# Funktion: \n",
    "print(r'$|Z|=\\sqrt{R_{p}^{2}+ \\left(\\frac{1}{2 \\pi C f_{test}}\\right)^{2}}$','\\n')\n",
    "plt.plot(f_test,Z_test,'b--',label='(15), siehe Skript')\n",
    "# \n",
    "plt.plot(f,Z,'ro',label='Datenpunkte')\n",
    "plt.legend()\n",
    "plt.show()"
   ]
  },
  {
   "cell_type": "markdown",
   "id": "92daa723",
   "metadata": {},
   "source": [
    "## Simulierte Daten von Kacper mit unseren Gemessenen Daten:"
   ]
  },
  {
   "cell_type": "code",
   "execution_count": 30,
   "id": "b6161501",
   "metadata": {},
   "outputs": [],
   "source": [
    "f_sim = np.array([1.05, 1.88, 3.01,3.97, 5.15, 5.86])*1000\n",
    "U1_sim = np.array([13.92,13.92,13.91,13.91,13.91,13.92])\n",
    "U2_sim = np.array([13.45,13.73, 13.83, 13.87, 13.88,13.89])\n",
    "# print(len(U1_sim))\n",
    "# print(len(U2_sim))\n",
    "# print(1/U2_sim**2)\n",
    "Umkehr_U2_sim = 2/U2_sim"
   ]
  },
  {
   "cell_type": "code",
   "execution_count": 31,
   "id": "95c45d03",
   "metadata": {
    "tags": []
   },
   "outputs": [
    {
     "data": {
      "text/plain": [
       "array([349.44237918, 138.38310269,  57.84526392,  28.83922134,\n",
       "        21.61383285,  21.59827214])"
      ]
     },
     "execution_count": 31,
     "metadata": {},
     "output_type": "execute_result"
    }
   ],
   "source": [
    "Z_sim = Z_1(U1_sim,U2_sim,R_p)\n",
    "Z_sim"
   ]
  },
  {
   "cell_type": "markdown",
   "id": "74537e11",
   "metadata": {},
   "source": [
    "### Fehlerberechnung"
   ]
  },
  {
   "cell_type": "code",
   "execution_count": 35,
   "id": "91623575",
   "metadata": {
    "tags": []
   },
   "outputs": [
    {
     "name": "stdout",
     "output_type": "stream",
     "text": [
      "[100. 100. 100. 100. 100. 100.]\n",
      "[34.24249916 33.39774061 33.10734443 33.00808611 32.98375428 32.98538518]\n"
     ]
    }
   ],
   "source": [
    "# |z| Fehler berechnen\n",
    "\n",
    "u_U_sim= 0.0025 * np.ones(6) \n",
    "# print(U_sim_err)\n",
    "\n",
    "u_R_p = R_p * 0.01  # 4 Ziffern, siehe Blatt <<Technische Daten>>\n",
    "print(u_R_p)\n",
    "# print(R_p)\n",
    "\n",
    "u_Z_sim = np.sqrt((U1_sim/U2_sim-1)**2 * u_R_p**2 \n",
    "                  + R_p**2 * u_U_sim**2 * (U1_sim**2 / U2_sim**2  \n",
    "                                           + ( U1_sim /U2_sim-Umkehr_U2_sim)**2))\n",
    "print(u_Z_sim)"
   ]
  },
  {
   "cell_type": "code",
   "execution_count": 36,
   "id": "b95ad28f",
   "metadata": {},
   "outputs": [
    {
     "name": "stdout",
     "output_type": "stream",
     "text": [
      "[3292.69444903 3242.33822154 3292.69444903 3355.64698817 3305.28432427\n",
      " 3292.69444903]\n"
     ]
    }
   ],
   "source": [
    "u_U = 0.05 * 5 * np.ones(6)\n",
    "# print(U_1)\n",
    "# print(U_2)\n",
    "# print(Z)\n",
    "u_z = np.sqrt((U_1/U_2-1)**2 * u_R_p**2 \n",
    "                  + R_p**2 * u_U**2 * (U_1**2 / U_2**2  \n",
    "                                           + ( U_1 /U_2-2/U_2)**2))\n",
    "print(u_z)"
   ]
  },
  {
   "cell_type": "markdown",
   "id": "1591472a",
   "metadata": {},
   "source": [
    "### Regression"
   ]
  },
  {
   "cell_type": "code",
   "execution_count": 37,
   "id": "9e38a5c9",
   "metadata": {},
   "outputs": [
    {
     "name": "stdout",
     "output_type": "stream",
     "text": [
      "a = (3.7+/-1.0)e-06\n",
      "b = 0.000111+/-0.000028\n"
     ]
    }
   ],
   "source": [
    "# Simulierte Daten\n",
    "pop,cov = curve_fit(reg2,Z_sim,f_sim,sigma=u_Z_sim)\n",
    "a_sim,b_sim = pop\n",
    "da_sim,db_sim=np.sqrt(np.diag(cov))\n",
    "print(f'a = {ufloat(a_sim,da_sim)}')\n",
    "print(f'b = {ufloat(b_sim,db_sim)}')"
   ]
  },
  {
   "cell_type": "code",
   "execution_count": 38,
   "id": "6249174f",
   "metadata": {},
   "outputs": [
    {
     "name": "stdout",
     "output_type": "stream",
     "text": [
      "6\n",
      "6\n",
      "[3292.69444903 3242.33822154 3292.69444903 3355.64698817 3305.28432427\n",
      " 3292.69444903]\n",
      "[   0.         -142.85714286    0.          178.57142857   35.71428571\n",
      "    0.        ]\n",
      "[1053 1884 3010 3974 5152 5855]\n"
     ]
    }
   ],
   "source": [
    "print(len(u_z))\n",
    "print(len(f))\n",
    "print(u_z) \n",
    "print(Z)\n",
    "print(f)"
   ]
  },
  {
   "cell_type": "code",
   "execution_count": 39,
   "id": "667a9638",
   "metadata": {},
   "outputs": [
    {
     "name": "stdout",
     "output_type": "stream",
     "text": [
      "[[inf inf]\n",
      " [inf inf]]\n",
      "a = -58003.40613606437+/-inf\n",
      "b = 0.0003024803387361109+/-inf\n"
     ]
    },
    {
     "name": "stderr",
     "output_type": "stream",
     "text": [
      "C:\\Users\\Ben Fliegener\\Miniconda3\\lib\\site-packages\\scipy\\optimize\\minpack.py:829: OptimizeWarning: Covariance of the parameters could not be estimated\n",
      "  category=OptimizeWarning)\n"
     ]
    }
   ],
   "source": [
    "# Gemessene Daten:\n",
    "pop,cov = curve_fit(reg2,Z,f,sigma=u_z)#\n",
    "a_mes,b_mes = pop\n",
    "da_mes,db_mes=np.sqrt(np.diag(cov))\n",
    "print(cov)\n",
    "print(f'a = {ufloat(a_mes,da_mes)}')\n",
    "print(f'b = {ufloat(b_mes,db_mes)}')"
   ]
  },
  {
   "cell_type": "markdown",
   "id": "fc13dfd1",
   "metadata": {},
   "source": [
    "#### Logarithmisierung"
   ]
  },
  {
   "cell_type": "code",
   "execution_count": 40,
   "id": "65a22d25",
   "metadata": {},
   "outputs": [
    {
     "name": "stdout",
     "output_type": "stream",
     "text": [
      "[ 1.00000000e-15 -1.42857143e+02  1.00000000e-15  1.78571429e+02\n",
      "  3.57142857e+01  1.00000000e-15]\n"
     ]
    }
   ],
   "source": [
    "Z22 = Z\n",
    "for i in range(len(Z)):\n",
    "    if Z22[i] ==0:\n",
    "        Z22[i] = 1e-15\n",
    "print(Z22)"
   ]
  },
  {
   "cell_type": "code",
   "execution_count": 41,
   "id": "ed3ede31",
   "metadata": {},
   "outputs": [
    {
     "name": "stdout",
     "output_type": "stream",
     "text": [
      "[ 1.00000000e-15 -1.42857143e+02  1.00000000e-15  1.78571429e+02\n",
      "  3.57142857e+01  1.00000000e-15]\n",
      "[1053 1884 3010 3974 5152 5855]\n",
      "[3292.69444903 3242.33822154 3292.69444903 3355.64698817 3305.28432427\n",
      " 3292.69444903]\n",
      "[-34.53877639   4.96184513 -34.53877639   5.18498868   3.57555077\n",
      " -34.53877639]\n"
     ]
    }
   ],
   "source": [
    "# logarithmisierung\n",
    "Z_log = np.log(abs(Z22))\n",
    "f_log = np.log(f)\n",
    "u_z_log = np.log(u_z)\n",
    "print(Z)\n",
    "print(f)\n",
    "print(u_z)\n",
    "print(Z_log)"
   ]
  },
  {
   "cell_type": "code",
   "execution_count": 42,
   "id": "ab8d30d9",
   "metadata": {},
   "outputs": [
    {
     "name": "stdout",
     "output_type": "stream",
     "text": [
      "[[0.00022322 0.00334572]\n",
      " [0.00334572 0.13557494]]\n",
      "a = 0.006+/-0.015\n",
      "b = 8.1+/-0.4\n"
     ]
    }
   ],
   "source": [
    "pop,cov = curve_fit(reg,Z_log,f_log,sigma=u_z_log)#\n",
    "a_mes_log,b_mes_log = pop\n",
    "da_mes_log,db_mes_log=np.sqrt(np.diag(cov))\n",
    "print(cov)\n",
    "print(f'a = {ufloat(a_mes_log,da_mes_log)}')\n",
    "print(f'b = {ufloat(b_mes_log,db_mes_log)}')"
   ]
  },
  {
   "cell_type": "code",
   "execution_count": 43,
   "id": "37400503",
   "metadata": {},
   "outputs": [
    {
     "data": {
      "image/png": "[encoded data removed]",
      "text/plain": [
       "<Figure size 432x288 with 1 Axes>"
      ]
     },
     "metadata": {
      "needs_background": "light"
     },
     "output_type": "display_data"
    }
   ],
   "source": [
    "plt.errorbar(f_log,Z_log,fmt='.',yerr=u_z_log,label='Messdaten')\n",
    "plt.plot(f_log,reg(f_log,a_mes_log,b_mes_log),label='Fit')\n",
    "plt.legend()\n",
    "plt.show()"
   ]
  },
  {
   "cell_type": "markdown",
   "id": "d31ccee0",
   "metadata": {},
   "source": [
    "$\\textbf{Interpretation}$:  \n",
    "Das b aus der Regression können wir ignorieren, das es sehr nah an 0 liegt."
   ]
  },
  {
   "cell_type": "markdown",
   "id": "f874e03d",
   "metadata": {},
   "source": [
    "### $\\chi^2$"
   ]
  },
  {
   "cell_type": "code",
   "execution_count": 44,
   "id": "a084409d",
   "metadata": {},
   "outputs": [
    {
     "name": "stdout",
     "output_type": "stream",
     "text": [
      "das chi Quadrat ist: 11.77\n",
      "das reduzierte chi Quadrat ist: 9.77\n"
     ]
    }
   ],
   "source": [
    "# Simulierte Daten\n",
    "chi_sim = chi_square(Z_sim,reg2(f_sim,a_sim,b_sim),u_Z_sim)\n",
    "chi_sim\n",
    "print(f'das chi Quadrat ist: {round(chi_sim,2)}')\n",
    "print(f'das reduzierte chi Quadrat ist: {round(chi_sim-2,2)}')"
   ]
  },
  {
   "cell_type": "markdown",
   "id": "30a1fb3f",
   "metadata": {},
   "source": [
    "$\\textbf{Interpretation}$:  \n",
    "Die Ablesefehler sind zu klein gewählt worden."
   ]
  },
  {
   "cell_type": "code",
   "execution_count": 45,
   "id": "48f2e7ed",
   "metadata": {},
   "outputs": [
    {
     "name": "stdout",
     "output_type": "stream",
     "text": [
      "$chi^2$: 0.0\n",
      "reduziertes $chi^2_{\\mu}$: -2.0\n"
     ]
    }
   ],
   "source": [
    "# Gemessene Daten:\n",
    "chi_mes = round(chi_square(Z,reg2(f,a_mes,b_mes),u_z),2)\n",
    "print(fr'$chi^2$: {chi_mes}')\n",
    "print(r'reduziertes $chi^2_{\\mu}$:',f'{round(chi_mes-2,2)}')"
   ]
  },
  {
   "cell_type": "markdown",
   "id": "7bfe10e3",
   "metadata": {},
   "source": [
    "$\\textbf{Interpretation}$:  \n",
    "Die Ablesefehler sind zu groß abgeschätzt worden. "
   ]
  },
  {
   "cell_type": "markdown",
   "id": "fde6a866",
   "metadata": {
    "tags": []
   },
   "source": [
    "### $R^2$"
   ]
  },
  {
   "cell_type": "code",
   "execution_count": 46,
   "id": "ef17aebf",
   "metadata": {},
   "outputs": [
    {
     "name": "stdout",
     "output_type": "stream",
     "text": [
      "$R^2$ für die Simulierten Daten\n",
      "0.8370570317991064\n",
      "\n",
      "$R^2$ für die gemessenen Daten\n",
      "-0.016129032242395036\n"
     ]
    }
   ],
   "source": [
    "# mit from sklearn.metrics import r2_score für simulierte Daten:\n",
    "r_quad_sim = r2_score(Z_sim, reg2(f_sim,a_sim,b_sim))\n",
    "print(r'$R^2$ für die Simulierten Daten')\n",
    "print(r_quad_sim)\n",
    "\n",
    "# mit from sklearn.metrics import r2_score für gemessene Daten:\n",
    "r_quad_mes = r2_score(Z, reg2(f,a_mes,b_mes))\n",
    "print()\n",
    "print(r'$R^2$ für die gemessenen Daten')\n",
    "print(r_quad_mes)"
   ]
  },
  {
   "cell_type": "code",
   "execution_count": 47,
   "id": "000b50ce",
   "metadata": {},
   "outputs": [
    {
     "name": "stdout",
     "output_type": "stream",
     "text": [
      "\n",
      "Lineare Regression\n",
      "\n",
      "                            OLS Regression Results                            \n",
      "==============================================================================\n",
      "Dep. Variable:                      y   R-squared:                       0.695\n",
      "Model:                            OLS   Adj. R-squared:                  0.619\n",
      "Method:                 Least Squares   F-statistic:                     9.135\n",
      "Date:                Mon, 06 Dec 2021   Prob (F-statistic):             0.0391\n",
      "Time:                        20:20:29   Log-Likelihood:                -33.543\n",
      "No. Observations:                   6   AIC:                             71.09\n",
      "Df Residuals:                       4   BIC:                             70.67\n",
      "Df Model:                           1                                         \n",
      "Covariance Type:            nonrobust                                         \n",
      "==============================================================================\n",
      "                 coef    std err          t      P>|t|      [0.025      0.975]\n",
      "------------------------------------------------------------------------------\n",
      "const        303.6265     73.881      4.110      0.015      98.500     508.753\n",
      "x1            -0.0576      0.019     -3.022      0.039      -0.110      -0.005\n",
      "==============================================================================\n",
      "Omnibus:                          nan   Durbin-Watson:                   1.307\n",
      "Prob(Omnibus):                    nan   Jarque-Bera (JB):                0.611\n",
      "Skew:                           0.431   Prob(JB):                        0.737\n",
      "Kurtosis:                       1.697   Cond. No.                     8.84e+03\n",
      "==============================================================================\n",
      "\n",
      "Notes:\n",
      "[1] Standard Errors assume that the covariance matrix of the errors is correctly specified.\n",
      "[2] The condition number is large, 8.84e+03. This might indicate that there are\n",
      "strong multicollinearity or other numerical problems.\n"
     ]
    },
    {
     "name": "stderr",
     "output_type": "stream",
     "text": [
      "C:\\Users\\Ben Fliegener\\Miniconda3\\lib\\site-packages\\statsmodels\\stats\\stattools.py:75: ValueWarning: omni_normtest is not valid with less than 8 observations; 6 samples were given.\n",
      "  \"samples were given.\" % int(n), ValueWarning)\n"
     ]
    }
   ],
   "source": [
    "# mit Statsmodels für simulierte Daten\n",
    "y=Z_sim\n",
    "x_zunahme=sm.add_constant(f_sim)\n",
    "results_sim=sm.OLS(y,x_zunahme).fit()#,sigma=yerr\n",
    "print('''\n",
    "Lineare Regression\n",
    "''')\n",
    "print(results_sim.summary())"
   ]
  },
  {
   "cell_type": "code",
   "execution_count": 48,
   "id": "f9b43c45",
   "metadata": {},
   "outputs": [
    {
     "name": "stdout",
     "output_type": "stream",
     "text": [
      "\n",
      "Lineare Regression\n",
      "\n",
      "                            OLS Regression Results                            \n",
      "==============================================================================\n",
      "Dep. Variable:                      y   R-squared:                       0.154\n",
      "Model:                            OLS   Adj. R-squared:                 -0.057\n",
      "Method:                 Least Squares   F-statistic:                    0.7289\n",
      "Date:                Mon, 06 Dec 2021   Prob (F-statistic):              0.441\n",
      "Time:                        20:20:30   Log-Likelihood:                -35.254\n",
      "No. Observations:                   6   AIC:                             74.51\n",
      "Df Residuals:                       4   BIC:                             74.09\n",
      "Df Model:                           1                                         \n",
      "Covariance Type:            nonrobust                                         \n",
      "==============================================================================\n",
      "                 coef    std err          t      P>|t|      [0.025      0.975]\n",
      "------------------------------------------------------------------------------\n",
      "const        -63.6070     98.393     -0.646      0.553    -336.789     209.575\n",
      "x1             0.0216      0.025      0.854      0.441      -0.049       0.092\n",
      "==============================================================================\n",
      "Omnibus:                          nan   Durbin-Watson:                   2.146\n",
      "Prob(Omnibus):                    nan   Jarque-Bera (JB):                0.311\n",
      "Skew:                           0.492   Prob(JB):                        0.856\n",
      "Kurtosis:                       2.476   Cond. No.                     8.86e+03\n",
      "==============================================================================\n",
      "\n",
      "Notes:\n",
      "[1] Standard Errors assume that the covariance matrix of the errors is correctly specified.\n",
      "[2] The condition number is large, 8.86e+03. This might indicate that there are\n",
      "strong multicollinearity or other numerical problems.\n"
     ]
    },
    {
     "name": "stderr",
     "output_type": "stream",
     "text": [
      "C:\\Users\\Ben Fliegener\\Miniconda3\\lib\\site-packages\\statsmodels\\stats\\stattools.py:75: ValueWarning: omni_normtest is not valid with less than 8 observations; 6 samples were given.\n",
      "  \"samples were given.\" % int(n), ValueWarning)\n"
     ]
    }
   ],
   "source": [
    "# mit Statsmodels für simulierte Daten\n",
    "y=Z\n",
    "x_zunahme=sm.add_constant(f)\n",
    "results_mes=sm.OLS(y,x_zunahme).fit()#,sigma=u_z\n",
    "print('''\n",
    "Lineare Regression\n",
    "''')\n",
    "print(results_mes.summary())"
   ]
  },
  {
   "cell_type": "markdown",
   "id": "6d03780f",
   "metadata": {},
   "source": [
    "### Plot"
   ]
  },
  {
   "cell_type": "code",
   "execution_count": 49,
   "id": "8bcf359b",
   "metadata": {},
   "outputs": [],
   "source": [
    "ff_sim = np.arange(800,6000,100)\n",
    "Zz_sim = reg2(ff_sim,a_sim,b_sim)\n",
    "Zz = reg2(ff_sim,a_mes,b_mes)"
   ]
  },
  {
   "cell_type": "code",
   "execution_count": 50,
   "id": "442801e2",
   "metadata": {},
   "outputs": [
    {
     "data": {
      "image/png": "[encoded data removed]",
      "text/plain": [
       "<Figure size 432x288 with 1 Axes>"
      ]
     },
     "metadata": {
      "needs_background": "light"
     },
     "output_type": "display_data"
    }
   ],
   "source": [
    "plt.errorbar(f_sim,Z_sim,yerr=u_Z_sim,fmt='.',color='red',label='Simulierte Daten')\n",
    "\n",
    "plt.plot(ff_sim,Zz_sim,label=r'Sim. Daten Fit: $|Z| = \\frac{1}{a\\cdot f + b}$')\n",
    "plt.xlabel(r'Frequenz $f$ [Hz]')\n",
    "plt.ylabel(r'Scheinwiderstand $|Z|(f)$ [$\\Omega$]')\n",
    "plt.legend()\n",
    "plt.show()"
   ]
  },
  {
   "cell_type": "code",
   "execution_count": 51,
   "id": "c6a8a6dc",
   "metadata": {},
   "outputs": [
    {
     "data": {
      "image/png": "[encoded data removed]",
      "text/plain": [
       "<Figure size 432x288 with 1 Axes>"
      ]
     },
     "metadata": {
      "needs_background": "light"
     },
     "output_type": "display_data"
    }
   ],
   "source": [
    "plt.errorbar(f, Z,yerr=u_z, fmt='o',color='g', label='Messpunkte')\n",
    "plt.plot(ff_sim,Zz,label=r'Fit: $|Z| = \\frac{1}{a\\cdot f + b}$')\n",
    "plt.xlabel(r'Frequenz $f$ [Hz]')\n",
    "plt.ylabel(r'Scheinwiderstand $|Z|(f)$ [$\\Omega$]')\n",
    "plt.legend()\n",
    "plt.show()"
   ]
  },
  {
   "cell_type": "markdown",
   "id": "47439730",
   "metadata": {},
   "source": [
    "### Residuen"
   ]
  },
  {
   "cell_type": "code",
   "execution_count": 52,
   "id": "297e4bd1",
   "metadata": {},
   "outputs": [
    {
     "name": "stdout",
     "output_type": "stream",
     "text": [
      "[ 1.90873247 -0.86831844 -1.00899586 -0.644083    0.22081343  0.9751549 ]\n"
     ]
    }
   ],
   "source": [
    "# für simulierte Daten:\n",
    "influence_sim = results_sim.get_influence()\n",
    "\n",
    "# standardisierte Residuen erhalten\n",
    "standardized_residuals_sim = influence_sim.resid_studentized_internal\n",
    "\n",
    "# standardisierte Residuen anzeigen\n",
    "print(standardized_residuals_sim)"
   ]
  },
  {
   "cell_type": "code",
   "execution_count": 53,
   "id": "96e3c8b9",
   "metadata": {},
   "outputs": [
    {
     "data": {
      "image/png": "[encoded data removed]",
      "text/plain": [
       "<Figure size 432x288 with 1 Axes>"
      ]
     },
     "metadata": {
      "needs_background": "light"
     },
     "output_type": "display_data"
    }
   ],
   "source": [
    "plt.plot(f_sim, standardized_residuals_sim,'o')\n",
    "plt.xlabel('Frequenz')\n",
    "plt.ylabel('Standardisierte Residuen')\n",
    "plt.axhline(y=0, color='black', linestyle='--', linewidth=1)\n",
    "plt.show()"
   ]
  },
  {
   "cell_type": "code",
   "execution_count": 54,
   "id": "758ca1de",
   "metadata": {},
   "outputs": [
    {
     "name": "stdout",
     "output_type": "stream",
     "text": [
      "[ 0.55139077 -1.37364392 -0.01627789  1.63337358 -0.14094438 -0.83729543]\n"
     ]
    }
   ],
   "source": [
    "# für gemessene Daten:\n",
    "influence_mes = results_mes.get_influence()\n",
    "\n",
    "# standardisierte Residuen erhalten\n",
    "standardized_residuals_mes = influence_mes.resid_studentized_internal\n",
    "\n",
    "# standardisierte Residuen anzeigen\n",
    "print(standardized_residuals_mes)"
   ]
  },
  {
   "cell_type": "code",
   "execution_count": 55,
   "id": "5a7d00f7",
   "metadata": {},
   "outputs": [
    {
     "data": {
      "image/png": "[encoded data removed]",
      "text/plain": [
       "<Figure size 432x288 with 1 Axes>"
      ]
     },
     "metadata": {
      "needs_background": "light"
     },
     "output_type": "display_data"
    }
   ],
   "source": [
    "plt.plot(f_sim, standardized_residuals_mes,'o')\n",
    "plt.xlabel('Frequenz')\n",
    "plt.ylabel('Standardisierte Residuen')\n",
    "plt.axhline(y=0, color='black', linestyle='--', linewidth=1)\n",
    "plt.show()"
   ]
  },
  {
   "cell_type": "markdown",
   "id": "fc3fdba5",
   "metadata": {
    "tags": []
   },
   "source": [
    "## Berechnung von C aus Regression:  \n",
    "Das b in der Regressionsformal ignorieren wir. Begründung steht weiter in der Interpretation der Regressionsparameter\n",
    "$$ |Z| = \\frac{1}{a\\cdot f} \\\\ |Z| = \\frac{1}{2 \\cdot \\pi\\cdot f\\cdot C} \\\\ \\Rightarrow C = \\frac{a}{2\\pi}$$"
   ]
  },
  {
   "cell_type": "code",
   "execution_count": 56,
   "id": "831af0cb",
   "metadata": {},
   "outputs": [
    {
     "name": "stdout",
     "output_type": "stream",
     "text": [
      "5.820902507403893e-07\n",
      "-9231.528802721417\n"
     ]
    }
   ],
   "source": [
    "# für die simulierten Daten:\n",
    "C_sim = a_sim/(2*np.pi)\n",
    "C_mes = a_mes/(2* np.pi)\n",
    "print(C_sim)\n",
    "print(C_mes)"
   ]
  },
  {
   "cell_type": "code",
   "execution_count": 57,
   "id": "53d160d1",
   "metadata": {},
   "outputs": [],
   "source": [
    "# mit Fehler:\n"
   ]
  },
  {
   "cell_type": "markdown",
   "id": "ec493e1a",
   "metadata": {
    "tags": []
   },
   "source": [
    "# Aufgabe 5/6"
   ]
  },
  {
   "cell_type": "code",
   "execution_count": 58,
   "id": "fb14bd3f",
   "metadata": {},
   "outputs": [
    {
     "data": {
      "text/html": [
       "<div>\n",
       "<style scoped>\n",
       "    .dataframe tbody tr th:only-of-type {\n",
       "        vertical-align: middle;\n",
       "    }\n",
       "\n",
       "    .dataframe tbody tr th {\n",
       "        vertical-align: top;\n",
       "    }\n",
       "\n",
       "    .dataframe thead th {\n",
       "        text-align: right;\n",
       "    }\n",
       "</style>\n",
       "<table border=\"1\" class=\"dataframe\">\n",
       "  <thead>\n",
       "    <tr style=\"text-align: right;\">\n",
       "      <th></th>\n",
       "      <th>Nr</th>\n",
       "      <th>Frequenz</th>\n",
       "      <th>U_2</th>\n",
       "      <th>U_1</th>\n",
       "      <th>T_1/2(ms)</th>\n",
       "      <th>t_D(ms)</th>\n",
       "    </tr>\n",
       "  </thead>\n",
       "  <tbody>\n",
       "    <tr>\n",
       "      <th>0</th>\n",
       "      <td>1</td>\n",
       "      <td>31.55</td>\n",
       "      <td>22.50</td>\n",
       "      <td>21.50</td>\n",
       "      <td>15.0</td>\n",
       "      <td>15.0</td>\n",
       "    </tr>\n",
       "    <tr>\n",
       "      <th>1</th>\n",
       "      <td>2</td>\n",
       "      <td>41.73</td>\n",
       "      <td>22.50</td>\n",
       "      <td>23.00</td>\n",
       "      <td>12.0</td>\n",
       "      <td>12.0</td>\n",
       "    </tr>\n",
       "    <tr>\n",
       "      <th>2</th>\n",
       "      <td>3</td>\n",
       "      <td>52.50</td>\n",
       "      <td>22.50</td>\n",
       "      <td>22.75</td>\n",
       "      <td>9.0</td>\n",
       "      <td>9.0</td>\n",
       "    </tr>\n",
       "    <tr>\n",
       "      <th>3</th>\n",
       "      <td>4</td>\n",
       "      <td>60.60</td>\n",
       "      <td>22.25</td>\n",
       "      <td>22.50</td>\n",
       "      <td>8.0</td>\n",
       "      <td>8.0</td>\n",
       "    </tr>\n",
       "    <tr>\n",
       "      <th>4</th>\n",
       "      <td>5</td>\n",
       "      <td>70.20</td>\n",
       "      <td>22.50</td>\n",
       "      <td>23.00</td>\n",
       "      <td>7.2</td>\n",
       "      <td>7.2</td>\n",
       "    </tr>\n",
       "  </tbody>\n",
       "</table>\n",
       "</div>"
      ],
      "text/plain": [
       "   Nr  Frequenz    U_2    U_1  T_1/2(ms)  t_D(ms)\n",
       "0   1     31.55  22.50  21.50       15.0     15.0\n",
       "1   2     41.73  22.50  23.00       12.0     12.0\n",
       "2   3     52.50  22.50  22.75        9.0      9.0\n",
       "3   4     60.60  22.25  22.50        8.0      8.0\n",
       "4   5     70.20  22.50  23.00        7.2      7.2"
      ]
     },
     "execution_count": 58,
     "metadata": {},
     "output_type": "execute_result"
    }
   ],
   "source": [
    "A5_df.head()"
   ]
  },
  {
   "cell_type": "markdown",
   "id": "0c9e29c1",
   "metadata": {},
   "source": [
    "## DataFrame in Arrays umwandeln"
   ]
  },
  {
   "cell_type": "code",
   "execution_count": 59,
   "id": "79b05dfc",
   "metadata": {},
   "outputs": [
    {
     "name": "stdout",
     "output_type": "stream",
     "text": [
      "[-444.44444444  222.22222222  111.11111111  112.35955056  222.22222222\n",
      "  111.11111111  454.54545455  111.11111111  112.35955056  224.71910112]\n"
     ]
    }
   ],
   "source": [
    "U1_A6 = np.array(A5_df['U_1'])\n",
    "U2_A6 = np.array(A5_df['U_2'])\n",
    "f_A6= np.array(A5_df['Frequenz'])\n",
    "R_p = 10e3*np.ones(10)\n",
    "\n",
    "# Scheinwiderstand\n",
    "Z_A6 = R_p * (U1_A6-U2_A6)/U2_A6\n",
    "print(Z_A6)\n",
    "\n",
    "# Phasenverschiebung\n",
    "t_D =  np.array(A5_df['t_D(ms)'])*1e-3\n",
    "T_halb = np.array(A5_df['T_1/2(ms)'])*1e-3"
   ]
  },
  {
   "cell_type": "markdown",
   "id": "af56d43f",
   "metadata": {},
   "source": [
    "## Visualisierung"
   ]
  },
  {
   "cell_type": "code",
   "execution_count": 60,
   "id": "44b594e1",
   "metadata": {},
   "outputs": [
    {
     "data": {
      "image/png": "[encoded data removed]",
      "text/plain": [
       "<Figure size 432x288 with 1 Axes>"
      ]
     },
     "metadata": {
      "needs_background": "light"
     },
     "output_type": "display_data"
    }
   ],
   "source": [
    "plt.plot(f_A6, Z_A6,'.')\n",
    "plt.show()"
   ]
  },
  {
   "cell_type": "markdown",
   "id": "0231f91e",
   "metadata": {},
   "source": [
    "## Fehlerrechnung"
   ]
  },
  {
   "cell_type": "code",
   "execution_count": 61,
   "id": "010d7498",
   "metadata": {},
   "outputs": [
    {
     "name": "stdout",
     "output_type": "stream",
     "text": [
      "[3225.09756767 3460.53660293 3421.29334436 3420.05215203 3460.53660293\n",
      " 3421.29334436 3539.18735128 3421.29334436 3420.05215203 3459.73538996]\n"
     ]
    }
   ],
   "source": [
    "u_U = 0.05 * 5 * np.ones(10)\n",
    "u_R_p =  R_p * 0.01\n",
    "# print(U_1)\n",
    "# print(U_2)\n",
    "# print(Z)\n",
    "u_z = np.sqrt((U1_A6/U2_A6-1)**2 * u_R_p**2 \n",
    "                  + R_p**2 * u_U**2 * (U1_A6**2 / U2_A6**2  \n",
    "                                           + ( U1_A6 /U2_A6-2/U2_A6)**2))\n",
    "print(u_z)"
   ]
  },
  {
   "cell_type": "markdown",
   "id": "37c5c154",
   "metadata": {},
   "source": [
    "## Regression"
   ]
  },
  {
   "cell_type": "code",
   "execution_count": 62,
   "id": "e0ba76bb",
   "metadata": {},
   "outputs": [
    {
     "name": "stdout",
     "output_type": "stream",
     "text": [
      "a = 0.22+/-0.24\n",
      "b = (1.5+/-0.6)e+02\n"
     ]
    }
   ],
   "source": [
    "pop,cov = curve_fit(reg,Z_A6,f_A6,sigma=u_z)\n",
    "a,b = pop\n",
    "da_A6, db_A6= np.sqrt(np.diag(cov))\n",
    "print(f'a = {ufloat(a,da_A6)}')\n",
    "print(f'b = {ufloat(b,db_A6)}')"
   ]
  },
  {
   "cell_type": "markdown",
   "id": "ea49ee7b",
   "metadata": {},
   "source": [
    "### Visualisierung der Regression"
   ]
  },
  {
   "cell_type": "code",
   "execution_count": 63,
   "id": "abb82861",
   "metadata": {},
   "outputs": [],
   "source": [
    "ff6 = np.arange(0,551,50)\n",
    "Z_reg6 = reg(ff6,a,b,)"
   ]
  },
  {
   "cell_type": "code",
   "execution_count": 64,
   "id": "cf26d92e",
   "metadata": {},
   "outputs": [
    {
     "data": {
      "image/png": "[encoded data removed]",
      "text/plain": [
       "<Figure size 432x288 with 1 Axes>"
      ]
     },
     "metadata": {
      "needs_background": "light"
     },
     "output_type": "display_data"
    }
   ],
   "source": [
    "#plt.errorbar(f_A6, Z_A6,fmt='.',yerr=u_z,label='Messpunkt')\n",
    "plt.plot(f_A6, Z_A6,'r.',label='Messpunkt')\n",
    "plt.plot(ff6, Z_reg6,label=r'Fit: $|Z(f)| = a \\cdot f +b$')\n",
    "plt.xlabel(r'Frequenz $f$ [Hz]')\n",
    "plt.ylabel(r'Scheinwiderstand $|Z|(f)$ [$\\Omega$]')\n",
    "plt.legend()\n",
    "plt.show()"
   ]
  },
  {
   "cell_type": "markdown",
   "id": "31de2be8",
   "metadata": {},
   "source": [
    "## $\\chi^2$"
   ]
  },
  {
   "cell_type": "code",
   "execution_count": 65,
   "id": "b09b6b84",
   "metadata": {},
   "outputs": [
    {
     "name": "stdout",
     "output_type": "stream",
     "text": [
      "das chi Quadrat ist: 0.04\n",
      "das reduzierte chi Quadrat ist: -1.96\n"
     ]
    }
   ],
   "source": [
    "chi_A6 = chi_square(Z_A6,reg(f_A6,a,b),u_z)\n",
    "chi_A6\n",
    "print(f'das chi Quadrat ist: {round(chi_A6,2)}')\n",
    "print(f'das reduzierte chi Quadrat ist: {round(chi_A6-2,2)}')"
   ]
  },
  {
   "cell_type": "markdown",
   "id": "9ee20c44",
   "metadata": {},
   "source": [
    "## $R^2$"
   ]
  },
  {
   "cell_type": "code",
   "execution_count": 66,
   "id": "d528466b",
   "metadata": {},
   "outputs": [
    {
     "name": "stdout",
     "output_type": "stream",
     "text": [
      "\n",
      "Lineare Regression\n",
      "\n",
      "                            OLS Regression Results                            \n",
      "==============================================================================\n",
      "Dep. Variable:                      y   R-squared:                       0.079\n",
      "Model:                            OLS   Adj. R-squared:                 -0.036\n",
      "Method:                 Least Squares   F-statistic:                    0.6891\n",
      "Date:                Mon, 06 Dec 2021   Prob (F-statistic):              0.431\n",
      "Time:                        20:20:49   Log-Likelihood:                -67.486\n",
      "No. Observations:                  10   AIC:                             139.0\n",
      "Df Residuals:                       8   BIC:                             139.6\n",
      "Df Model:                           1                                         \n",
      "Covariance Type:            nonrobust                                         \n",
      "==============================================================================\n",
      "                 coef    std err          t      P>|t|      [0.025      0.975]\n",
      "------------------------------------------------------------------------------\n",
      "const         57.4556    108.158      0.531      0.610    -191.957     306.868\n",
      "x1             0.3764      0.453      0.830      0.431      -0.669       1.422\n",
      "==============================================================================\n",
      "Omnibus:                        7.918   Durbin-Watson:                   1.707\n",
      "Prob(Omnibus):                  0.019   Jarque-Bera (JB):                2.963\n",
      "Skew:                          -1.104   Prob(JB):                        0.227\n",
      "Kurtosis:                       4.495   Cond. No.                         354.\n",
      "==============================================================================\n",
      "\n",
      "Notes:\n",
      "[1] Standard Errors assume that the covariance matrix of the errors is correctly specified.\n"
     ]
    },
    {
     "name": "stderr",
     "output_type": "stream",
     "text": [
      "C:\\Users\\Ben Fliegener\\Miniconda3\\lib\\site-packages\\scipy\\stats\\stats.py:1604: UserWarning: kurtosistest only valid for n>=20 ... continuing anyway, n=10\n",
      "  \"anyway, n=%i\" % int(n))\n"
     ]
    }
   ],
   "source": [
    "y=Z_A6\n",
    "x_zunahme=sm.add_constant(f_A6)\n",
    "results_A6=sm.OLS(y,x_zunahme).fit()#,sigma=yerr\n",
    "print('''\n",
    "Lineare Regression\n",
    "''')\n",
    "print(results_A6.summary())"
   ]
  },
  {
   "cell_type": "markdown",
   "id": "6861c484",
   "metadata": {},
   "source": [
    "## Resultate von $\\chi^2$ und $R^2$"
   ]
  },
  {
   "cell_type": "code",
   "execution_count": 67,
   "id": "fb62a6f8",
   "metadata": {},
   "outputs": [
    {
     "data": {
      "text/html": [
       "<div>\n",
       "<style scoped>\n",
       "    .dataframe tbody tr th:only-of-type {\n",
       "        vertical-align: middle;\n",
       "    }\n",
       "\n",
       "    .dataframe tbody tr th {\n",
       "        vertical-align: top;\n",
       "    }\n",
       "\n",
       "    .dataframe thead th {\n",
       "        text-align: right;\n",
       "    }\n",
       "</style>\n",
       "<table border=\"1\" class=\"dataframe\">\n",
       "  <thead>\n",
       "    <tr style=\"text-align: right;\">\n",
       "      <th></th>\n",
       "      <th>Name</th>\n",
       "      <th>Werte</th>\n",
       "    </tr>\n",
       "  </thead>\n",
       "  <tbody>\n",
       "    <tr>\n",
       "      <th>0</th>\n",
       "      <td>$chi^2$</td>\n",
       "      <td>-1.956113</td>\n",
       "    </tr>\n",
       "    <tr>\n",
       "      <th>1</th>\n",
       "      <td>$R^2$</td>\n",
       "      <td>0.079000</td>\n",
       "    </tr>\n",
       "  </tbody>\n",
       "</table>\n",
       "</div>"
      ],
      "text/plain": [
       "      Name     Werte\n",
       "0  $chi^2$ -1.956113\n",
       "1    $R^2$  0.079000"
      ]
     },
     "execution_count": 67,
     "metadata": {},
     "output_type": "execute_result"
    }
   ],
   "source": [
    "text = [r'$chi^2$', r'$R^2$']\n",
    "zahlen = [chi_A6-2, 0.079]\n",
    "df_res = pd.DataFrame({'Name':text, \n",
    "                      'Werte': zahlen})\n",
    "df_res"
   ]
  },
  {
   "cell_type": "markdown",
   "id": "4360f160",
   "metadata": {},
   "source": [
    "## Residuen"
   ]
  },
  {
   "cell_type": "code",
   "execution_count": 68,
   "id": "7fa1b21f",
   "metadata": {},
   "outputs": [
    {
     "name": "stdout",
     "output_type": "stream",
     "text": [
      "[-2.45996449  0.70898351  0.16019378  0.15101734  0.64779911  0.0757042\n",
      "  1.47731699 -0.282577   -0.51511723 -0.12592205]\n"
     ]
    }
   ],
   "source": [
    "# für simulierte Daten:\n",
    "influence_A6 = results_A6.get_influence()\n",
    "\n",
    "# standardisierte Residuen erhalten\n",
    "standardized_residuals_A6 = influence_A6.resid_studentized_internal\n",
    "\n",
    "# standardisierte Residuen anzeigen\n",
    "print(standardized_residuals_A6)"
   ]
  },
  {
   "cell_type": "code",
   "execution_count": 69,
   "id": "6808a0b8",
   "metadata": {},
   "outputs": [
    {
     "data": {
      "image/png": "[encoded data removed]",
      "text/plain": [
       "<Figure size 432x288 with 1 Axes>"
      ]
     },
     "metadata": {
      "needs_background": "light"
     },
     "output_type": "display_data"
    }
   ],
   "source": [
    "plt.plot(f_A6, standardized_residuals_A6,'o')\n",
    "plt.xlabel('Frequenz')\n",
    "plt.ylabel('Standardisierte Residuen')\n",
    "plt.axhline(y=0, color='black', linestyle='--', linewidth=1)\n",
    "plt.show()"
   ]
  },
  {
   "cell_type": "markdown",
   "id": "8e307025",
   "metadata": {},
   "source": [
    "## Berechnung der Induktivität aus Regression\n",
    "$$ |Z| = a\\cdot f + b\\\\ |Z|= 2 \\pi L \\\\ \\Rightarrow L = \\frac{af+b}{2 \\pi f}$$"
   ]
  },
  {
   "cell_type": "code",
   "execution_count": 70,
   "id": "15b36838",
   "metadata": {},
   "outputs": [
    {
     "data": {
      "text/plain": [
       "3.397"
      ]
     },
     "execution_count": 70,
     "metadata": {},
     "output_type": "execute_result"
    }
   ],
   "source": [
    "f_A6\n",
    "# L_A6 =  reg(f_A6,a,b,)/(2* np.pi f)\n",
    "L_A6 = a /(2*np.pi) + b/(2*np.pi* f_A6)\n",
    "L_A6 = round(L_A6.sum(),4)\n",
    "L_A6"
   ]
  },
  {
   "cell_type": "markdown",
   "id": "f68253e3",
   "metadata": {},
   "source": [
    "Berechnung vom Fehler von L\n",
    "$$\\mu_L = \\frac{1}{2\\pi}\\sqrt{u_a^2 + \\frac{u_b^2}{f^2}+ \\frac{u_f^2}{f^4}} $$"
   ]
  },
  {
   "cell_type": "code",
   "execution_count": 71,
   "id": "bb5f6390",
   "metadata": {},
   "outputs": [
    {
     "name": "stdout",
     "output_type": "stream",
     "text": [
      "10\n"
     ]
    }
   ],
   "source": [
    "print(len(f_A6))"
   ]
  },
  {
   "cell_type": "code",
   "execution_count": 72,
   "id": "38761a68",
   "metadata": {},
   "outputs": [
    {
     "name": "stdout",
     "output_type": "stream",
     "text": [
      "[0.4732 0.6259 0.7875 0.909  1.053  1.4865 2.9496 4.5195 6.1275 7.4835]\n",
      "[0.2441 0.2441 0.2441 0.2441 0.2441 0.2441 0.2441 0.2441 0.2441 0.2441]\n",
      "[60.9639 60.9639 60.9639 60.9639 60.9639 60.9639 60.9639 60.9639 60.9639\n",
      " 60.9639]\n"
     ]
    }
   ],
   "source": [
    "u_a = da_A6 * np.ones(10)\n",
    "u_b = db_A6 * np.ones(10)\n",
    "f_err = 0.015\n",
    "u_f = f_A6 *f_err         # 1.5% + 5 Ziffern\n",
    "for i in range(len(u_f)):\n",
    "    u_a[i] = round(u_a[i],4)\n",
    "    u_b[i] = round(u_b[i],4)\n",
    "    u_f[i] = round(u_f[i],4)\n",
    "print(u_f) \n",
    "print(u_a) \n",
    "print(u_b) \n",
    "a_A6 = a*np.ones(10)\n",
    "b_A6 = b * np.ones(10)"
   ]
  },
  {
   "cell_type": "code",
   "execution_count": 73,
   "id": "10241d29",
   "metadata": {},
   "outputs": [
    {
     "data": {
      "text/plain": [
       "0.135"
      ]
     },
     "execution_count": 73,
     "metadata": {},
     "output_type": "execute_result"
    }
   ],
   "source": [
    "u_L = 1 /(2*np.pi) * np.sqrt(u_a**2+ u_b**2/f_A6**2+ u_f**2 /f_A6**4)\n",
    "u_L = round(u_L.mean(),4)\n",
    "u_L"
   ]
  },
  {
   "cell_type": "code",
   "execution_count": 74,
   "id": "531c2224",
   "metadata": {},
   "outputs": [
    {
     "data": {
      "text/plain": [
       "3.397+/-0.135"
      ]
     },
     "execution_count": 74,
     "metadata": {},
     "output_type": "execute_result"
    }
   ],
   "source": [
    "L_err = ufloat(L_A6,u_L)\n",
    "L_err"
   ]
  },
  {
   "cell_type": "markdown",
   "id": "828e45f5",
   "metadata": {},
   "source": [
    "## Phasenverschiebung\n",
    "$$ \\varphi = \\frac{t_D}{T_{1/2}} \\cdot \\pi$$"
   ]
  },
  {
   "cell_type": "code",
   "execution_count": 75,
   "id": "c0ced715",
   "metadata": {},
   "outputs": [],
   "source": [
    "phi = t_D/T_halb * np.pi"
   ]
  },
  {
   "cell_type": "markdown",
   "id": "4a853520",
   "metadata": {},
   "source": [
    "### Fehlerrechnung von $\\varphi$"
   ]
  },
  {
   "cell_type": "code",
   "execution_count": 76,
   "id": "c79921be",
   "metadata": {},
   "outputs": [
    {
     "name": "stdout",
     "output_type": "stream",
     "text": [
      "[ 31.55  41.73  52.5   60.6   70.2   99.1  196.64 301.3  408.5  498.9 ]\n",
      "[1.         1.         1.         1.         1.         1.\n",
      " 1.         1.11111111 1.         1.        ]\n"
     ]
    }
   ],
   "source": [
    "err = np.array([0.25,0.25,0.25,0.1,0.1,0.1,0.025,0.025,0.025,0.025])*1e-3\n",
    "u_tD = t_D * err\n",
    "u_T = T_halb * err\n",
    "\n",
    "phi_err = np.pi * np.sqrt(t_D**2 / T_halb**4 * u_T**2 + u_tD**2 /T_halb**2)\n",
    "# print(u_tD)\n",
    "# print(u_T)\n",
    "# print(phi_err)\n",
    "# print()\n",
    "# print(t_D) \n",
    "# print(T_halb)\n",
    "print(f_A6)\n",
    "print(t_D/T_halb)"
   ]
  },
  {
   "cell_type": "markdown",
   "id": "f31cac01",
   "metadata": {},
   "source": [
    "### Visualisierung"
   ]
  },
  {
   "cell_type": "code",
   "execution_count": 77,
   "id": "2a592941",
   "metadata": {},
   "outputs": [
    {
     "data": {
      "image/png": "[encoded data removed]",
      "text/plain": [
       "<Figure size 432x288 with 1 Axes>"
      ]
     },
     "metadata": {
      "needs_background": "light"
     },
     "output_type": "display_data"
    }
   ],
   "source": [
    "plt.errorbar(f_A6, phi, yerr=phi_err, fmt='r.',label='Messdaten')\n",
    "plt.xlabel(r'Frequenz $f$')\n",
    "plt.ylabel(r'Phasenverschiebung $\\varphi(f)$')\n",
    "plt.legend()\n",
    "plt.show()"
   ]
  },
  {
   "cell_type": "markdown",
   "id": "544f4a22",
   "metadata": {},
   "source": [
    "### "
   ]
  },
  {
   "cell_type": "markdown",
   "id": "ebe89b8f",
   "metadata": {
    "tags": []
   },
   "source": [
    "# Aufgabe 7"
   ]
  },
  {
   "cell_type": "code",
   "execution_count": null,
   "id": "5398d060",
   "metadata": {},
   "outputs": [],
   "source": []
  },
  {
   "cell_type": "markdown",
   "id": "103a8fe0",
   "metadata": {
    "tags": []
   },
   "source": [
    "# Aufgabe 8"
   ]
  },
  {
   "cell_type": "code",
   "execution_count": null,
   "id": "a2769ec7",
   "metadata": {},
   "outputs": [],
   "source": []
  },
  {
   "cell_type": "markdown",
   "id": "fed2b2fc",
   "metadata": {
    "tags": []
   },
   "source": [
    "# Aufgabe 9"
   ]
  },
  {
   "cell_type": "code",
   "execution_count": 78,
   "id": "2cd10842",
   "metadata": {},
   "outputs": [
    {
     "data": {
      "text/html": [
       "<div>\n",
       "<style scoped>\n",
       "    .dataframe tbody tr th:only-of-type {\n",
       "        vertical-align: middle;\n",
       "    }\n",
       "\n",
       "    .dataframe tbody tr th {\n",
       "        vertical-align: top;\n",
       "    }\n",
       "\n",
       "    .dataframe thead th {\n",
       "        text-align: right;\n",
       "    }\n",
       "</style>\n",
       "<table border=\"1\" class=\"dataframe\">\n",
       "  <thead>\n",
       "    <tr style=\"text-align: right;\">\n",
       "      <th></th>\n",
       "      <th>Nr Resonanzfreqzenz</th>\n",
       "    </tr>\n",
       "  </thead>\n",
       "  <tbody>\n",
       "    <tr>\n",
       "      <th>1</th>\n",
       "      <td>729.7</td>\n",
       "    </tr>\n",
       "    <tr>\n",
       "      <th>2</th>\n",
       "      <td>776.5</td>\n",
       "    </tr>\n",
       "    <tr>\n",
       "      <th>3</th>\n",
       "      <td>678.0</td>\n",
       "    </tr>\n",
       "    <tr>\n",
       "      <th>4</th>\n",
       "      <td>702.9</td>\n",
       "    </tr>\n",
       "    <tr>\n",
       "      <th>5</th>\n",
       "      <td>632.4</td>\n",
       "    </tr>\n",
       "    <tr>\n",
       "      <th>6</th>\n",
       "      <td>620.0</td>\n",
       "    </tr>\n",
       "  </tbody>\n",
       "</table>\n",
       "</div>"
      ],
      "text/plain": [
       "   Nr Resonanzfreqzenz\n",
       "1                729.7\n",
       "2                776.5\n",
       "3                678.0\n",
       "4                702.9\n",
       "5                632.4\n",
       "6                620.0"
      ]
     },
     "execution_count": 78,
     "metadata": {},
     "output_type": "execute_result"
    }
   ],
   "source": [
    "A9_df"
   ]
  },
  {
   "cell_type": "code",
   "execution_count": 79,
   "id": "1bb70cfd",
   "metadata": {},
   "outputs": [],
   "source": [
    "f_A9 = A9_df['Nr Resonanzfreqzenz']\n",
    "f_A9_mean=round(f_A9.mean(),2) \n",
    "# Fehlerberechnung:\n",
    "u_f_A9 = (f_A9 * f_err)**2 # Quadratsumme:\n",
    "u_f9= round(np.sqrt(u_f_A9.sum()),2)\n"
   ]
  },
  {
   "cell_type": "code",
   "execution_count": 80,
   "id": "8e394b4d",
   "metadata": {},
   "outputs": [
    {
     "data": {
      "text/plain": [
       "689.92+/-25.43"
      ]
     },
     "execution_count": 80,
     "metadata": {},
     "output_type": "execute_result"
    }
   ],
   "source": [
    "f9_err = ufloat(f_A9_mean,u_f9)\n",
    "f9_err"
   ]
  },
  {
   "cell_type": "markdown",
   "id": "4115fe96",
   "metadata": {
    "tags": []
   },
   "source": [
    "# Aufgabe 10"
   ]
  },
  {
   "cell_type": "code",
   "execution_count": 81,
   "id": "2bd9823b",
   "metadata": {},
   "outputs": [
    {
     "data": {
      "text/html": [
       "<div>\n",
       "<style scoped>\n",
       "    .dataframe tbody tr th:only-of-type {\n",
       "        vertical-align: middle;\n",
       "    }\n",
       "\n",
       "    .dataframe tbody tr th {\n",
       "        vertical-align: top;\n",
       "    }\n",
       "\n",
       "    .dataframe thead th {\n",
       "        text-align: right;\n",
       "    }\n",
       "</style>\n",
       "<table border=\"1\" class=\"dataframe\">\n",
       "  <thead>\n",
       "    <tr style=\"text-align: right;\">\n",
       "      <th></th>\n",
       "      <th>Name</th>\n",
       "      <th>Messwert</th>\n",
       "    </tr>\n",
       "  </thead>\n",
       "  <tbody>\n",
       "    <tr>\n",
       "      <th>0</th>\n",
       "      <td>U_G</td>\n",
       "      <td>6.705</td>\n",
       "    </tr>\n",
       "    <tr>\n",
       "      <th>1</th>\n",
       "      <td>U_S</td>\n",
       "      <td>55.300</td>\n",
       "    </tr>\n",
       "    <tr>\n",
       "      <th>2</th>\n",
       "      <td>U_Pw</td>\n",
       "      <td>0.241</td>\n",
       "    </tr>\n",
       "    <tr>\n",
       "      <th>3</th>\n",
       "      <td>U_K</td>\n",
       "      <td>54.800</td>\n",
       "    </tr>\n",
       "    <tr>\n",
       "      <th>4</th>\n",
       "      <td>U_SK</td>\n",
       "      <td>6.475</td>\n",
       "    </tr>\n",
       "  </tbody>\n",
       "</table>\n",
       "</div>"
      ],
      "text/plain": [
       "   Name  Messwert\n",
       "0   U_G     6.705\n",
       "1   U_S    55.300\n",
       "2  U_Pw     0.241\n",
       "3   U_K    54.800\n",
       "4  U_SK     6.475"
      ]
     },
     "execution_count": 81,
     "metadata": {},
     "output_type": "execute_result"
    }
   ],
   "source": [
    "A10_df"
   ]
  },
  {
   "cell_type": "markdown",
   "id": "5e96d7c3",
   "metadata": {
    "tags": []
   },
   "source": [
    "# Aufgabe 11"
   ]
  },
  {
   "cell_type": "code",
   "execution_count": null,
   "id": "a828eca0",
   "metadata": {},
   "outputs": [],
   "source": []
  },
  {
   "cell_type": "markdown",
   "id": "ad783b06",
   "metadata": {
    "tags": []
   },
   "source": [
    "# Aufgabe 12"
   ]
  },
  {
   "cell_type": "code",
   "execution_count": 82,
   "id": "09551fdc",
   "metadata": {},
   "outputs": [
    {
     "data": {
      "text/html": [
       "<div>\n",
       "<style scoped>\n",
       "    .dataframe tbody tr th:only-of-type {\n",
       "        vertical-align: middle;\n",
       "    }\n",
       "\n",
       "    .dataframe tbody tr th {\n",
       "        vertical-align: top;\n",
       "    }\n",
       "\n",
       "    .dataframe thead th {\n",
       "        text-align: right;\n",
       "    }\n",
       "</style>\n",
       "<table border=\"1\" class=\"dataframe\">\n",
       "  <thead>\n",
       "    <tr style=\"text-align: right;\">\n",
       "      <th></th>\n",
       "      <th>Nr</th>\n",
       "      <th>Frequenz</th>\n",
       "      <th>U_2(mV)</th>\n",
       "      <th>U_1(V)</th>\n",
       "      <th>t_D(ms)</th>\n",
       "    </tr>\n",
       "  </thead>\n",
       "  <tbody>\n",
       "    <tr>\n",
       "      <th>0</th>\n",
       "      <td>1</td>\n",
       "      <td>211.80</td>\n",
       "      <td>36</td>\n",
       "      <td>22.5</td>\n",
       "      <td>1.200</td>\n",
       "    </tr>\n",
       "    <tr>\n",
       "      <th>1</th>\n",
       "      <td>2</td>\n",
       "      <td>303.50</td>\n",
       "      <td>52</td>\n",
       "      <td>23.0</td>\n",
       "      <td>0.800</td>\n",
       "    </tr>\n",
       "    <tr>\n",
       "      <th>2</th>\n",
       "      <td>3</td>\n",
       "      <td>398.25</td>\n",
       "      <td>84</td>\n",
       "      <td>22.5</td>\n",
       "      <td>0.550</td>\n",
       "    </tr>\n",
       "    <tr>\n",
       "      <th>3</th>\n",
       "      <td>4</td>\n",
       "      <td>508.50</td>\n",
       "      <td>150</td>\n",
       "      <td>22.5</td>\n",
       "      <td>0.475</td>\n",
       "    </tr>\n",
       "    <tr>\n",
       "      <th>4</th>\n",
       "      <td>5</td>\n",
       "      <td>608.50</td>\n",
       "      <td>315</td>\n",
       "      <td>22.0</td>\n",
       "      <td>0.300</td>\n",
       "    </tr>\n",
       "  </tbody>\n",
       "</table>\n",
       "</div>"
      ],
      "text/plain": [
       "   Nr  Frequenz  U_2(mV)  U_1(V)  t_D(ms)\n",
       "0   1    211.80       36    22.5    1.200\n",
       "1   2    303.50       52    23.0    0.800\n",
       "2   3    398.25       84    22.5    0.550\n",
       "3   4    508.50      150    22.5    0.475\n",
       "4   5    608.50      315    22.0    0.300"
      ]
     },
     "execution_count": 82,
     "metadata": {},
     "output_type": "execute_result"
    }
   ],
   "source": [
    "A12_df.head()"
   ]
  },
  {
   "cell_type": "markdown",
   "id": "cbf713cf",
   "metadata": {
    "tags": []
   },
   "source": [
    "# Aufgabe 13"
   ]
  },
  {
   "cell_type": "code",
   "execution_count": 83,
   "id": "7c04b11a",
   "metadata": {},
   "outputs": [],
   "source": [
    "U1_A12 = np.array(A12_df['U_1(V)'])\n",
    "U2_A12 = 10 ** (-3) * np.array(A12_df['U_2(mV)'])\n",
    "f_A12= np.array(A12_df['Frequenz'])\n",
    "tD_A12 = 10 ** (-3) * np.array(A12_df['t_D(ms)'])\n",
    "\n",
    "U1_err = 0.25 * np.ones(17)\n",
    "U2_err = 10 ** (-3) * np.array([0.0005,0.0005,0.001,0.001,0.0025,0.005,0.005,0.0025,0.0025,0.0025,0.0025,0.001,0.001,0.005,0.005,0.005,0.005])\n",
    "tD_err = 10 ** (-3) * np.array([0.005,0.0025,0.0025,0.0025,0.0025,0.001,0.001,0.001,0.001,0.0005,0.0005,0.0005,0.001,0.001,0.001,0.001])\n",
    "Z12 = np.zeros(17)\n",
    "phi12 = np.zeros(17)\n",
    "\n",
    "for i in range(17):\n",
    "    Z12[i] = U1_A12[i] / U2_A12[i] - 1\n",
    "    phi12[i] = 1/2 * tD_A12[i] * f_A12[i]\n",
    "    \n",
    "Z12_err = np.array((11.12,6.42,4.36,1.94,0.97,0.45,1.20,2.14,4.35,6.77,8.4,6.01,8.45,0.55,0.13,0.45,0.48))\n",
    "\n",
    "phi12[i] = 1/2 * tD_A12[i] * f_A12[i]"
   ]
  },
  {
   "cell_type": "code",
   "execution_count": 84,
   "id": "74efc7a4",
   "metadata": {},
   "outputs": [
    {
     "data": {
      "image/png": "[encoded data removed]",
      "text/plain": [
       "<Figure size 432x288 with 1 Axes>"
      ]
     },
     "metadata": {
      "needs_background": "light"
     },
     "output_type": "display_data"
    }
   ],
   "source": [
    "plt.errorbar(f_A12, Z12,fmt='.',color='red',yerr=Z12_err,label='Messpunkte')#yerr=Z12_err,\n",
    "plt.legend()\n",
    "plt.show()\n"
   ]
  },
  {
   "cell_type": "code",
   "execution_count": 137,
   "id": "640b989e-8368-481d-8f23-5f978ef12596",
   "metadata": {},
   "outputs": [],
   "source": [
    "# help(curve_fit)\n"
   ]
  },
  {
   "cell_type": "markdown",
   "id": "51ee2741",
   "metadata": {},
   "source": [
    "### Regression\n"
   ]
  },
  {
   "cell_type": "code",
   "execution_count": 130,
   "id": "8cfb2694",
   "metadata": {},
   "outputs": [
    {
     "name": "stdout",
     "output_type": "stream",
     "text": [
      "a = (7.350577019524111+/-0)e-06\n",
      "b = (0+/-7)e+01\n",
      "c = (1.5+/-0.6)e-07\n"
     ]
    }
   ],
   "source": [
    "pop,cov = curve_fit(reg3,Z12,f_A12,sigma=Z12_err,bounds=(0,[np.inf,1,150e-9]))\n",
    "a,b,c = pop\n",
    "da_A12, db_A12, dc_A12 = np.sqrt(np.diag(cov))\n",
    "print(f'a = {ufloat(a,da_A12)}')\n",
    "print(f'b = {ufloat(b,db_A12)}')\n",
    "print(f'c = {ufloat(c,dc_A12)}')"
   ]
  },
  {
   "cell_type": "code",
   "execution_count": 140,
   "id": "0d4b4e57-b6b8-4aec-b55d-b45e673a8c4d",
   "metadata": {},
   "outputs": [],
   "source": [
    "L = 0.64\n",
    "u_L = 0.02\n",
    "\n",
    "C = 1.11e-7 \n",
    "u_C = 1.3e-9"
   ]
  },
  {
   "cell_type": "code",
   "execution_count": 143,
   "id": "4024efee",
   "metadata": {},
   "outputs": [
    {
     "ename": "NameError",
     "evalue": "name 'R_SP' is not defined",
     "output_type": "error",
     "traceback": [
      "\u001b[1;31m---------------------------------------------------------------------------\u001b[0m",
      "\u001b[1;31mNameError\u001b[0m                                 Traceback (most recent call last)",
      "\u001b[1;32m<ipython-input-143-3f5d0b672d69>\u001b[0m in \u001b[0;36m<module>\u001b[1;34m\u001b[0m\n\u001b[0;32m     29\u001b[0m \u001b[1;31m#L festlegen\u001b[0m\u001b[1;33m\u001b[0m\u001b[1;33m\u001b[0m\u001b[1;33m\u001b[0m\u001b[0m\n\u001b[0;32m     30\u001b[0m \u001b[0mV12_Z_fit_1\u001b[0m \u001b[1;33m=\u001b[0m \u001b[1;32mlambda\u001b[0m \u001b[0mx\u001b[0m\u001b[1;33m,\u001b[0m \u001b[0ma\u001b[0m\u001b[1;33m:\u001b[0m \u001b[0mnp\u001b[0m\u001b[1;33m.\u001b[0m\u001b[0msqrt\u001b[0m\u001b[1;33m(\u001b[0m\u001b[1;33m(\u001b[0m\u001b[0ma\u001b[0m \u001b[1;33m*\u001b[0m \u001b[0mx\u001b[0m\u001b[1;33m)\u001b[0m\u001b[1;33m**\u001b[0m\u001b[1;36m2\u001b[0m  \u001b[1;33m+\u001b[0m \u001b[1;33m(\u001b[0m\u001b[1;36m1\u001b[0m\u001b[1;33m/\u001b[0m\u001b[1;33m(\u001b[0m\u001b[0mC\u001b[0m\u001b[1;33m*\u001b[0m\u001b[0mnp\u001b[0m\u001b[1;33m.\u001b[0m\u001b[0mpi\u001b[0m\u001b[1;33m*\u001b[0m\u001b[1;36m2\u001b[0m \u001b[1;33m*\u001b[0m \u001b[0mx\u001b[0m\u001b[1;33m)\u001b[0m\u001b[1;33m)\u001b[0m\u001b[1;33m**\u001b[0m\u001b[1;36m2\u001b[0m \u001b[1;33m-\u001b[0m \u001b[1;36m2\u001b[0m\u001b[1;33m*\u001b[0m\u001b[0ma\u001b[0m\u001b[1;33m/\u001b[0m\u001b[1;33m(\u001b[0m\u001b[0mC\u001b[0m\u001b[1;33m*\u001b[0m\u001b[0mnp\u001b[0m\u001b[1;33m.\u001b[0m\u001b[0mpi\u001b[0m\u001b[1;33m*\u001b[0m\u001b[1;36m2\u001b[0m\u001b[1;33m)\u001b[0m \u001b[1;33m+\u001b[0m \u001b[0mR_SP\u001b[0m\u001b[1;33m**\u001b[0m\u001b[1;36m2\u001b[0m\u001b[1;33m)\u001b[0m\u001b[1;33m\u001b[0m\u001b[1;33m\u001b[0m\u001b[0m\n\u001b[1;32m---> 31\u001b[1;33m \u001b[0mg11\u001b[0m\u001b[1;33m,\u001b[0m\u001b[0mg11Cov\u001b[0m \u001b[1;33m=\u001b[0m \u001b[0mcurve_fit\u001b[0m\u001b[1;33m(\u001b[0m\u001b[0mV12_Z_fit_1\u001b[0m\u001b[1;33m,\u001b[0m \u001b[0mV12_f\u001b[0m\u001b[1;33m,\u001b[0m \u001b[0mV12_Z\u001b[0m\u001b[1;33m,\u001b[0m \u001b[0msigma\u001b[0m\u001b[1;33m=\u001b[0m\u001b[0mV12_U_Z\u001b[0m\u001b[1;33m)\u001b[0m\u001b[1;33m\u001b[0m\u001b[1;33m\u001b[0m\u001b[0m\n\u001b[0m\u001b[0;32m     32\u001b[0m \u001b[1;33m\u001b[0m\u001b[0m\n\u001b[0;32m     33\u001b[0m \u001b[0mV12_L\u001b[0m \u001b[1;33m=\u001b[0m \u001b[0mg11\u001b[0m\u001b[1;33m[\u001b[0m\u001b[1;36m0\u001b[0m\u001b[1;33m]\u001b[0m\u001b[1;33m/\u001b[0m\u001b[1;33m(\u001b[0m\u001b[1;36m2\u001b[0m \u001b[1;33m*\u001b[0m \u001b[0mnp\u001b[0m\u001b[1;33m.\u001b[0m\u001b[0mpi\u001b[0m\u001b[1;33m)\u001b[0m\u001b[1;33m\u001b[0m\u001b[1;33m\u001b[0m\u001b[0m\n",
      "\u001b[1;32m~\\Miniconda3\\lib\\site-packages\\scipy\\optimize\\minpack.py\u001b[0m in \u001b[0;36mcurve_fit\u001b[1;34m(f, xdata, ydata, p0, sigma, absolute_sigma, check_finite, bounds, method, jac, **kwargs)\u001b[0m\n\u001b[0;32m    782\u001b[0m         \u001b[1;31m# Remove full_output from kwargs, otherwise we're passing it in twice.\u001b[0m\u001b[1;33m\u001b[0m\u001b[1;33m\u001b[0m\u001b[1;33m\u001b[0m\u001b[0m\n\u001b[0;32m    783\u001b[0m         \u001b[0mreturn_full\u001b[0m \u001b[1;33m=\u001b[0m \u001b[0mkwargs\u001b[0m\u001b[1;33m.\u001b[0m\u001b[0mpop\u001b[0m\u001b[1;33m(\u001b[0m\u001b[1;34m'full_output'\u001b[0m\u001b[1;33m,\u001b[0m \u001b[1;32mFalse\u001b[0m\u001b[1;33m)\u001b[0m\u001b[1;33m\u001b[0m\u001b[1;33m\u001b[0m\u001b[0m\n\u001b[1;32m--> 784\u001b[1;33m         \u001b[0mres\u001b[0m \u001b[1;33m=\u001b[0m \u001b[0mleastsq\u001b[0m\u001b[1;33m(\u001b[0m\u001b[0mfunc\u001b[0m\u001b[1;33m,\u001b[0m \u001b[0mp0\u001b[0m\u001b[1;33m,\u001b[0m \u001b[0mDfun\u001b[0m\u001b[1;33m=\u001b[0m\u001b[0mjac\u001b[0m\u001b[1;33m,\u001b[0m \u001b[0mfull_output\u001b[0m\u001b[1;33m=\u001b[0m\u001b[1;36m1\u001b[0m\u001b[1;33m,\u001b[0m \u001b[1;33m**\u001b[0m\u001b[0mkwargs\u001b[0m\u001b[1;33m)\u001b[0m\u001b[1;33m\u001b[0m\u001b[1;33m\u001b[0m\u001b[0m\n\u001b[0m\u001b[0;32m    785\u001b[0m         \u001b[0mpopt\u001b[0m\u001b[1;33m,\u001b[0m \u001b[0mpcov\u001b[0m\u001b[1;33m,\u001b[0m \u001b[0minfodict\u001b[0m\u001b[1;33m,\u001b[0m \u001b[0merrmsg\u001b[0m\u001b[1;33m,\u001b[0m \u001b[0mier\u001b[0m \u001b[1;33m=\u001b[0m \u001b[0mres\u001b[0m\u001b[1;33m\u001b[0m\u001b[1;33m\u001b[0m\u001b[0m\n\u001b[0;32m    786\u001b[0m         \u001b[0mysize\u001b[0m \u001b[1;33m=\u001b[0m \u001b[0mlen\u001b[0m\u001b[1;33m(\u001b[0m\u001b[0minfodict\u001b[0m\u001b[1;33m[\u001b[0m\u001b[1;34m'fvec'\u001b[0m\u001b[1;33m]\u001b[0m\u001b[1;33m)\u001b[0m\u001b[1;33m\u001b[0m\u001b[1;33m\u001b[0m\u001b[0m\n",
      "\u001b[1;32m~\\Miniconda3\\lib\\site-packages\\scipy\\optimize\\minpack.py\u001b[0m in \u001b[0;36mleastsq\u001b[1;34m(func, x0, args, Dfun, full_output, col_deriv, ftol, xtol, gtol, maxfev, epsfcn, factor, diag)\u001b[0m\n\u001b[0;32m    408\u001b[0m     \u001b[1;32mif\u001b[0m \u001b[1;32mnot\u001b[0m \u001b[0misinstance\u001b[0m\u001b[1;33m(\u001b[0m\u001b[0margs\u001b[0m\u001b[1;33m,\u001b[0m \u001b[0mtuple\u001b[0m\u001b[1;33m)\u001b[0m\u001b[1;33m:\u001b[0m\u001b[1;33m\u001b[0m\u001b[1;33m\u001b[0m\u001b[0m\n\u001b[0;32m    409\u001b[0m         \u001b[0margs\u001b[0m \u001b[1;33m=\u001b[0m \u001b[1;33m(\u001b[0m\u001b[0margs\u001b[0m\u001b[1;33m,\u001b[0m\u001b[1;33m)\u001b[0m\u001b[1;33m\u001b[0m\u001b[1;33m\u001b[0m\u001b[0m\n\u001b[1;32m--> 410\u001b[1;33m     \u001b[0mshape\u001b[0m\u001b[1;33m,\u001b[0m \u001b[0mdtype\u001b[0m \u001b[1;33m=\u001b[0m \u001b[0m_check_func\u001b[0m\u001b[1;33m(\u001b[0m\u001b[1;34m'leastsq'\u001b[0m\u001b[1;33m,\u001b[0m \u001b[1;34m'func'\u001b[0m\u001b[1;33m,\u001b[0m \u001b[0mfunc\u001b[0m\u001b[1;33m,\u001b[0m \u001b[0mx0\u001b[0m\u001b[1;33m,\u001b[0m \u001b[0margs\u001b[0m\u001b[1;33m,\u001b[0m \u001b[0mn\u001b[0m\u001b[1;33m)\u001b[0m\u001b[1;33m\u001b[0m\u001b[1;33m\u001b[0m\u001b[0m\n\u001b[0m\u001b[0;32m    411\u001b[0m     \u001b[0mm\u001b[0m \u001b[1;33m=\u001b[0m \u001b[0mshape\u001b[0m\u001b[1;33m[\u001b[0m\u001b[1;36m0\u001b[0m\u001b[1;33m]\u001b[0m\u001b[1;33m\u001b[0m\u001b[1;33m\u001b[0m\u001b[0m\n\u001b[0;32m    412\u001b[0m \u001b[1;33m\u001b[0m\u001b[0m\n",
      "\u001b[1;32m~\\Miniconda3\\lib\\site-packages\\scipy\\optimize\\minpack.py\u001b[0m in \u001b[0;36m_check_func\u001b[1;34m(checker, argname, thefunc, x0, args, numinputs, output_shape)\u001b[0m\n\u001b[0;32m     22\u001b[0m def _check_func(checker, argname, thefunc, x0, args, numinputs,\n\u001b[0;32m     23\u001b[0m                 output_shape=None):\n\u001b[1;32m---> 24\u001b[1;33m     \u001b[0mres\u001b[0m \u001b[1;33m=\u001b[0m \u001b[0matleast_1d\u001b[0m\u001b[1;33m(\u001b[0m\u001b[0mthefunc\u001b[0m\u001b[1;33m(\u001b[0m\u001b[1;33m*\u001b[0m\u001b[1;33m(\u001b[0m\u001b[1;33m(\u001b[0m\u001b[0mx0\u001b[0m\u001b[1;33m[\u001b[0m\u001b[1;33m:\u001b[0m\u001b[0mnuminputs\u001b[0m\u001b[1;33m]\u001b[0m\u001b[1;33m,\u001b[0m\u001b[1;33m)\u001b[0m \u001b[1;33m+\u001b[0m \u001b[0margs\u001b[0m\u001b[1;33m)\u001b[0m\u001b[1;33m)\u001b[0m\u001b[1;33m)\u001b[0m\u001b[1;33m\u001b[0m\u001b[1;33m\u001b[0m\u001b[0m\n\u001b[0m\u001b[0;32m     25\u001b[0m     \u001b[1;32mif\u001b[0m \u001b[1;33m(\u001b[0m\u001b[0moutput_shape\u001b[0m \u001b[1;32mis\u001b[0m \u001b[1;32mnot\u001b[0m \u001b[1;32mNone\u001b[0m\u001b[1;33m)\u001b[0m \u001b[1;32mand\u001b[0m \u001b[1;33m(\u001b[0m\u001b[0mshape\u001b[0m\u001b[1;33m(\u001b[0m\u001b[0mres\u001b[0m\u001b[1;33m)\u001b[0m \u001b[1;33m!=\u001b[0m \u001b[0moutput_shape\u001b[0m\u001b[1;33m)\u001b[0m\u001b[1;33m:\u001b[0m\u001b[1;33m\u001b[0m\u001b[1;33m\u001b[0m\u001b[0m\n\u001b[0;32m     26\u001b[0m         \u001b[1;32mif\u001b[0m \u001b[1;33m(\u001b[0m\u001b[0moutput_shape\u001b[0m\u001b[1;33m[\u001b[0m\u001b[1;36m0\u001b[0m\u001b[1;33m]\u001b[0m \u001b[1;33m!=\u001b[0m \u001b[1;36m1\u001b[0m\u001b[1;33m)\u001b[0m\u001b[1;33m:\u001b[0m\u001b[1;33m\u001b[0m\u001b[1;33m\u001b[0m\u001b[0m\n",
      "\u001b[1;32m~\\Miniconda3\\lib\\site-packages\\scipy\\optimize\\minpack.py\u001b[0m in \u001b[0;36mfunc_wrapped\u001b[1;34m(params)\u001b[0m\n\u001b[0;32m    485\u001b[0m     \u001b[1;32melif\u001b[0m \u001b[0mtransform\u001b[0m\u001b[1;33m.\u001b[0m\u001b[0mndim\u001b[0m \u001b[1;33m==\u001b[0m \u001b[1;36m1\u001b[0m\u001b[1;33m:\u001b[0m\u001b[1;33m\u001b[0m\u001b[1;33m\u001b[0m\u001b[0m\n\u001b[0;32m    486\u001b[0m         \u001b[1;32mdef\u001b[0m \u001b[0mfunc_wrapped\u001b[0m\u001b[1;33m(\u001b[0m\u001b[0mparams\u001b[0m\u001b[1;33m)\u001b[0m\u001b[1;33m:\u001b[0m\u001b[1;33m\u001b[0m\u001b[1;33m\u001b[0m\u001b[0m\n\u001b[1;32m--> 487\u001b[1;33m             \u001b[1;32mreturn\u001b[0m \u001b[0mtransform\u001b[0m \u001b[1;33m*\u001b[0m \u001b[1;33m(\u001b[0m\u001b[0mfunc\u001b[0m\u001b[1;33m(\u001b[0m\u001b[0mxdata\u001b[0m\u001b[1;33m,\u001b[0m \u001b[1;33m*\u001b[0m\u001b[0mparams\u001b[0m\u001b[1;33m)\u001b[0m \u001b[1;33m-\u001b[0m \u001b[0mydata\u001b[0m\u001b[1;33m)\u001b[0m\u001b[1;33m\u001b[0m\u001b[1;33m\u001b[0m\u001b[0m\n\u001b[0m\u001b[0;32m    488\u001b[0m     \u001b[1;32melse\u001b[0m\u001b[1;33m:\u001b[0m\u001b[1;33m\u001b[0m\u001b[1;33m\u001b[0m\u001b[0m\n\u001b[0;32m    489\u001b[0m         \u001b[1;31m# Chisq = (y - yd)^T C^{-1} (y-yd)\u001b[0m\u001b[1;33m\u001b[0m\u001b[1;33m\u001b[0m\u001b[1;33m\u001b[0m\u001b[0m\n",
      "\u001b[1;32m<ipython-input-143-3f5d0b672d69>\u001b[0m in \u001b[0;36m<lambda>\u001b[1;34m(x, a)\u001b[0m\n\u001b[0;32m     28\u001b[0m \u001b[1;31m# Zur ermittlung des Fits wurden die Parameter nacheinander ermittelt\u001b[0m\u001b[1;33m\u001b[0m\u001b[1;33m\u001b[0m\u001b[1;33m\u001b[0m\u001b[0m\n\u001b[0;32m     29\u001b[0m \u001b[1;31m#L festlegen\u001b[0m\u001b[1;33m\u001b[0m\u001b[1;33m\u001b[0m\u001b[1;33m\u001b[0m\u001b[0m\n\u001b[1;32m---> 30\u001b[1;33m \u001b[0mV12_Z_fit_1\u001b[0m \u001b[1;33m=\u001b[0m \u001b[1;32mlambda\u001b[0m \u001b[0mx\u001b[0m\u001b[1;33m,\u001b[0m \u001b[0ma\u001b[0m\u001b[1;33m:\u001b[0m \u001b[0mnp\u001b[0m\u001b[1;33m.\u001b[0m\u001b[0msqrt\u001b[0m\u001b[1;33m(\u001b[0m\u001b[1;33m(\u001b[0m\u001b[0ma\u001b[0m \u001b[1;33m*\u001b[0m \u001b[0mx\u001b[0m\u001b[1;33m)\u001b[0m\u001b[1;33m**\u001b[0m\u001b[1;36m2\u001b[0m  \u001b[1;33m+\u001b[0m \u001b[1;33m(\u001b[0m\u001b[1;36m1\u001b[0m\u001b[1;33m/\u001b[0m\u001b[1;33m(\u001b[0m\u001b[0mC\u001b[0m\u001b[1;33m*\u001b[0m\u001b[0mnp\u001b[0m\u001b[1;33m.\u001b[0m\u001b[0mpi\u001b[0m\u001b[1;33m*\u001b[0m\u001b[1;36m2\u001b[0m \u001b[1;33m*\u001b[0m \u001b[0mx\u001b[0m\u001b[1;33m)\u001b[0m\u001b[1;33m)\u001b[0m\u001b[1;33m**\u001b[0m\u001b[1;36m2\u001b[0m \u001b[1;33m-\u001b[0m \u001b[1;36m2\u001b[0m\u001b[1;33m*\u001b[0m\u001b[0ma\u001b[0m\u001b[1;33m/\u001b[0m\u001b[1;33m(\u001b[0m\u001b[0mC\u001b[0m\u001b[1;33m*\u001b[0m\u001b[0mnp\u001b[0m\u001b[1;33m.\u001b[0m\u001b[0mpi\u001b[0m\u001b[1;33m*\u001b[0m\u001b[1;36m2\u001b[0m\u001b[1;33m)\u001b[0m \u001b[1;33m+\u001b[0m \u001b[0mR_SP\u001b[0m\u001b[1;33m**\u001b[0m\u001b[1;36m2\u001b[0m\u001b[1;33m)\u001b[0m\u001b[1;33m\u001b[0m\u001b[1;33m\u001b[0m\u001b[0m\n\u001b[0m\u001b[0;32m     31\u001b[0m \u001b[0mg11\u001b[0m\u001b[1;33m,\u001b[0m\u001b[0mg11Cov\u001b[0m \u001b[1;33m=\u001b[0m \u001b[0mcurve_fit\u001b[0m\u001b[1;33m(\u001b[0m\u001b[0mV12_Z_fit_1\u001b[0m\u001b[1;33m,\u001b[0m \u001b[0mV12_f\u001b[0m\u001b[1;33m,\u001b[0m \u001b[0mV12_Z\u001b[0m\u001b[1;33m,\u001b[0m \u001b[0msigma\u001b[0m\u001b[1;33m=\u001b[0m\u001b[0mV12_U_Z\u001b[0m\u001b[1;33m)\u001b[0m\u001b[1;33m\u001b[0m\u001b[1;33m\u001b[0m\u001b[0m\n\u001b[0;32m     32\u001b[0m \u001b[1;33m\u001b[0m\u001b[0m\n",
      "\u001b[1;31mNameError\u001b[0m: name 'R_SP' is not defined"
     ]
    }
   ],
   "source": [
    "V12_f = f_A12 #frequenz in Hz\n",
    "\n",
    "V12_USSI = U1_A12 #SSSpannung in V\n",
    "\n",
    "V12_USSII = U2_A12\n",
    "#Unsicherheiten:\n",
    "\n",
    "V12_U_USSI = np.full_like(V12_f,0.5)\n",
    "V12_U_USSII = np.full_like(V12_f,0.0005)\n",
    "R_P = 10e+4\n",
    "U_R_P = R_P *np.ones(17)\n",
    "# Fit\n",
    "#29er Arrays erstellen\n",
    "R_P_29 = np.full_like(V12_f, R_P)\n",
    "\n",
    "U_R_P_29 = np.full_like(V12_f, U_R_P)\n",
    "\n",
    "L_29 = np.full_like(V12_f, L)\n",
    "\n",
    "C_29 = np.full_like(V12_f, C)\n",
    "\n",
    "#Komplexer Wds\n",
    "V12_Z = R_P_29 * (V12_USSI - V12_USSII) / V12_USSII\n",
    "\n",
    "#Unsicherheit\n",
    "V12_U_Z = np.sqrt(((V12_USSI - V12_USSII) / V12_USSII * U_R_P_29)**2 + (R_P_29 / V12_USSII * V12_U_USSI)**2 + (R_P_29 * V12_USSI / (V12_USSII**2) * V12_U_USSII)**2)\n",
    "\n",
    "# Zur ermittlung des Fits wurden die Parameter nacheinander ermittelt\n",
    "#L festlegen\n",
    "V12_Z_fit_1 = lambda x, a: np.sqrt((a * x)**2  + (1/(C*np.pi*2 * x))**2 - 2*a/(C*np.pi*2) + R_SP**2)\n",
    "g11,g11Cov = curve_fit(V12_Z_fit_1, V12_f, V12_Z, sigma=V12_U_Z)\n",
    "\n",
    "V12_L = g11[0]/(2 * np.pi)\n",
    "V12_U_L = np.sqrt(g11Cov[0][0])/ (2* np.pi)\n",
    "print(\"Induktivität: \", V12_L, \"+-\", V12_U_L, \"H\")\n",
    "\n",
    "#C festlegen\n",
    "V12_Z_fit_2 = lambda x, a: np.sqrt((g11[0] * x)**2  + (1/(a * x))**2 - 2*g11[0]/a + R_SP**2)\n",
    "g12,g12Cov = curve_fit(V12_Z_fit_2, V12_f, V12_Z, sigma=V12_U_Z)\n",
    "\n",
    "V12_C = g12[0]/(2 * np.pi)\n",
    "V12_U_C = np.sqrt(g12Cov[0][0])/(2 * np.pi)\n",
    "print(\"Kapazität : \", V12_C, \"+-\", V12_U_C)\n",
    "\n",
    "#R und übrige Param festlegen\n",
    "V12_Z_fit_3 = lambda x, b, d, e: np.sqrt((g11[0] *x + b - 1/(g12[0] *x + d))**2 + e**2)\n",
    "g13,g13Cov =curve_fit(V12_Z_fit_3, V12_f, V12_Z, sigma=V12_U_Z)\n",
    "\n",
    "V12_RSP = g13[2]\n",
    "V12_U_RSP = np.sqrt(g13Cov[2][2])\n",
    "print(\"Spulenwds: \", V12_RSP, \"+-\", V12_U_RSP)\n",
    "print(\"a :\", g11[0], \"+-\", np.sqrt(g11Cov[0][0]))\n",
    "print(\"b :\", g13[0], \"+-\", np.sqrt(g13Cov[0][0]))\n",
    "print(\"c :\", g12[0], \"+-\", np.sqrt(g12Cov[0][0]))\n",
    "print(\"d :\", g13[1], \"+-\", np.sqrt(g13Cov[1][1]))\n",
    "print(\"e :\", g13[2], \"+-\", np.sqrt(g13Cov[2][2]))\n",
    "\n",
    "V12_Z_fit = lambda x, a, b, c, d, e : np.sqrt((a * x + b - 1/(c *x + d))**2 + e**2)\n",
    "\n",
    "plt.plot(V12_f, V12_Z, \"bo\")\n",
    "plt.plot(np.arange(60, 2001, 10), V12_Z_fit(np.arange(60, 2001, 10), g11[0], g13[0], g12[0], g13[1], g13[2]))\n",
    "plt.errorbar(V12_f, V12_Z, yerr=V12_U_Z, fmt=\".\")\n",
    "plt.legend((\"Messwerte\", \"Fit |Z(f)|\"))\n",
    "plt.xlabel(\"Frequenz in Hz\")\n",
    "plt.ylabel(\"Scheinwiderstand in Ohm\")"
   ]
  },
  {
   "cell_type": "code",
   "execution_count": null,
   "id": "4c080381",
   "metadata": {},
   "outputs": [],
   "source": []
  },
  {
   "cell_type": "code",
   "execution_count": 87,
   "id": "73c78ae0",
   "metadata": {},
   "outputs": [
    {
     "ename": "NameError",
     "evalue": "name 'out' is not defined",
     "output_type": "error",
     "traceback": [
      "\u001b[1;31m---------------------------------------------------------------------------\u001b[0m",
      "\u001b[1;31mNameError\u001b[0m                                 Traceback (most recent call last)",
      "\u001b[1;32m<ipython-input-87-667fc441b4ea>\u001b[0m in \u001b[0;36m<module>\u001b[1;34m\u001b[0m\n\u001b[0;32m      1\u001b[0m \u001b[0mplt\u001b[0m\u001b[1;33m.\u001b[0m\u001b[0mplot\u001b[0m\u001b[1;33m(\u001b[0m\u001b[0mf_A12\u001b[0m\u001b[1;33m,\u001b[0m \u001b[0mZ12\u001b[0m\u001b[1;33m,\u001b[0m \u001b[1;34m'.'\u001b[0m\u001b[1;33m)\u001b[0m\u001b[1;33m\u001b[0m\u001b[1;33m\u001b[0m\u001b[0m\n\u001b[1;32m----> 2\u001b[1;33m \u001b[0mplt\u001b[0m\u001b[1;33m.\u001b[0m\u001b[0mplot\u001b[0m\u001b[1;33m(\u001b[0m\u001b[0mf_A12\u001b[0m\u001b[1;33m,\u001b[0m \u001b[0mout\u001b[0m\u001b[1;33m.\u001b[0m\u001b[0mbest_fit\u001b[0m\u001b[1;33m,\u001b[0m \u001b[1;34m'r-'\u001b[0m\u001b[1;33m)\u001b[0m\u001b[1;33m\u001b[0m\u001b[1;33m\u001b[0m\u001b[0m\n\u001b[0m\u001b[0;32m      3\u001b[0m \u001b[0mplt\u001b[0m\u001b[1;33m.\u001b[0m\u001b[0mshow\u001b[0m\u001b[1;33m(\u001b[0m\u001b[1;33m)\u001b[0m\u001b[1;33m\u001b[0m\u001b[1;33m\u001b[0m\u001b[0m\n",
      "\u001b[1;31mNameError\u001b[0m: name 'out' is not defined"
     ]
    },
    {
     "data": {
      "image/png": "[encoded data removed]",
      "text/plain": [
       "<Figure size 432x288 with 1 Axes>"
      ]
     },
     "metadata": {
      "needs_background": "light"
     },
     "output_type": "display_data"
    }
   ],
   "source": [
    "plt.plot(f_A12, Z12, '.')\n",
    "plt.plot(f_A12, out.best_fit, 'r-')\n",
    "plt.show()"
   ]
  },
  {
   "cell_type": "code",
   "execution_count": 88,
   "id": "4f25c4e9-3d65-4329-ac8d-c4b77cabb184",
   "metadata": {},
   "outputs": [
    {
     "name": "stdout",
     "output_type": "stream",
     "text": [
      "Help on function curve_fit in module scipy.optimize.minpack:\n",
      "\n",
      "curve_fit(f, xdata, ydata, p0=None, sigma=None, absolute_sigma=False, check_finite=True, bounds=(-inf, inf), method=None, jac=None, **kwargs)\n",
      "    Use non-linear least squares to fit a function, f, to data.\n",
      "    \n",
      "    Assumes ``ydata = f(xdata, *params) + eps``.\n",
      "    \n",
      "    Parameters\n",
      "    ----------\n",
      "    f : callable\n",
      "        The model function, f(x, ...). It must take the independent\n",
      "        variable as the first argument and the parameters to fit as\n",
      "        separate remaining arguments.\n",
      "    xdata : array_like or object\n",
      "        The independent variable where the data is measured.\n",
      "        Should usually be an M-length sequence or an (k,M)-shaped array for\n",
      "        functions with k predictors, but can actually be any object.\n",
      "    ydata : array_like\n",
      "        The dependent data, a length M array - nominally ``f(xdata, ...)``.\n",
      "    p0 : array_like, optional\n",
      "        Initial guess for the parameters (length N). If None, then the\n",
      "        initial values will all be 1 (if the number of parameters for the\n",
      "        function can be determined using introspection, otherwise a\n",
      "        ValueError is raised).\n",
      "    sigma : None or M-length sequence or MxM array, optional\n",
      "        Determines the uncertainty in `ydata`. If we define residuals as\n",
      "        ``r = ydata - f(xdata, *popt)``, then the interpretation of `sigma`\n",
      "        depends on its number of dimensions:\n",
      "    \n",
      "            - A 1-D `sigma` should contain values of standard deviations of\n",
      "              errors in `ydata`. In this case, the optimized function is\n",
      "              ``chisq = sum((r / sigma) ** 2)``.\n",
      "    \n",
      "            - A 2-D `sigma` should contain the covariance matrix of\n",
      "              errors in `ydata`. In this case, the optimized function is\n",
      "              ``chisq = r.T @ inv(sigma) @ r``.\n",
      "    \n",
      "              .. versionadded:: 0.19\n",
      "    \n",
      "        None (default) is equivalent of 1-D `sigma` filled with ones.\n",
      "    absolute_sigma : bool, optional\n",
      "        If True, `sigma` is used in an absolute sense and the estimated parameter\n",
      "        covariance `pcov` reflects these absolute values.\n",
      "    \n",
      "        If False (default), only the relative magnitudes of the `sigma` values matter.\n",
      "        The returned parameter covariance matrix `pcov` is based on scaling\n",
      "        `sigma` by a constant factor. This constant is set by demanding that the\n",
      "        reduced `chisq` for the optimal parameters `popt` when using the\n",
      "        *scaled* `sigma` equals unity. In other words, `sigma` is scaled to\n",
      "        match the sample variance of the residuals after the fit. Default is False.\n",
      "        Mathematically,\n",
      "        ``pcov(absolute_sigma=False) = pcov(absolute_sigma=True) * chisq(popt)/(M-N)``\n",
      "    check_finite : bool, optional\n",
      "        If True, check that the input arrays do not contain nans of infs,\n",
      "        and raise a ValueError if they do. Setting this parameter to\n",
      "        False may silently produce nonsensical results if the input arrays\n",
      "        do contain nans. Default is True.\n",
      "    bounds : 2-tuple of array_like, optional\n",
      "        Lower and upper bounds on parameters. Defaults to no bounds.\n",
      "        Each element of the tuple must be either an array with the length equal\n",
      "        to the number of parameters, or a scalar (in which case the bound is\n",
      "        taken to be the same for all parameters). Use ``np.inf`` with an\n",
      "        appropriate sign to disable bounds on all or some parameters.\n",
      "    \n",
      "        .. versionadded:: 0.17\n",
      "    method : {'lm', 'trf', 'dogbox'}, optional\n",
      "        Method to use for optimization. See `least_squares` for more details.\n",
      "        Default is 'lm' for unconstrained problems and 'trf' if `bounds` are\n",
      "        provided. The method 'lm' won't work when the number of observations\n",
      "        is less than the number of variables, use 'trf' or 'dogbox' in this\n",
      "        case.\n",
      "    \n",
      "        .. versionadded:: 0.17\n",
      "    jac : callable, string or None, optional\n",
      "        Function with signature ``jac(x, ...)`` which computes the Jacobian\n",
      "        matrix of the model function with respect to parameters as a dense\n",
      "        array_like structure. It will be scaled according to provided `sigma`.\n",
      "        If None (default), the Jacobian will be estimated numerically.\n",
      "        String keywords for 'trf' and 'dogbox' methods can be used to select\n",
      "        a finite difference scheme, see `least_squares`.\n",
      "    \n",
      "        .. versionadded:: 0.18\n",
      "    kwargs\n",
      "        Keyword arguments passed to `leastsq` for ``method='lm'`` or\n",
      "        `least_squares` otherwise.\n",
      "    \n",
      "    Returns\n",
      "    -------\n",
      "    popt : array\n",
      "        Optimal values for the parameters so that the sum of the squared\n",
      "        residuals of ``f(xdata, *popt) - ydata`` is minimized.\n",
      "    pcov : 2-D array\n",
      "        The estimated covariance of popt. The diagonals provide the variance\n",
      "        of the parameter estimate. To compute one standard deviation errors\n",
      "        on the parameters use ``perr = np.sqrt(np.diag(pcov))``.\n",
      "    \n",
      "        How the `sigma` parameter affects the estimated covariance\n",
      "        depends on `absolute_sigma` argument, as described above.\n",
      "    \n",
      "        If the Jacobian matrix at the solution doesn't have a full rank, then\n",
      "        'lm' method returns a matrix filled with ``np.inf``, on the other hand\n",
      "        'trf'  and 'dogbox' methods use Moore-Penrose pseudoinverse to compute\n",
      "        the covariance matrix.\n",
      "    \n",
      "    Raises\n",
      "    ------\n",
      "    ValueError\n",
      "        if either `ydata` or `xdata` contain NaNs, or if incompatible options\n",
      "        are used.\n",
      "    \n",
      "    RuntimeError\n",
      "        if the least-squares minimization fails.\n",
      "    \n",
      "    OptimizeWarning\n",
      "        if covariance of the parameters can not be estimated.\n",
      "    \n",
      "    See Also\n",
      "    --------\n",
      "    least_squares : Minimize the sum of squares of nonlinear functions.\n",
      "    scipy.stats.linregress : Calculate a linear least squares regression for\n",
      "                             two sets of measurements.\n",
      "    \n",
      "    Notes\n",
      "    -----\n",
      "    With ``method='lm'``, the algorithm uses the Levenberg-Marquardt algorithm\n",
      "    through `leastsq`. Note that this algorithm can only deal with\n",
      "    unconstrained problems.\n",
      "    \n",
      "    Box constraints can be handled by methods 'trf' and 'dogbox'. Refer to\n",
      "    the docstring of `least_squares` for more information.\n",
      "    \n",
      "    Examples\n",
      "    --------\n",
      "    >>> import matplotlib.pyplot as plt\n",
      "    >>> from scipy.optimize import curve_fit\n",
      "    \n",
      "    >>> def func(x, a, b, c):\n",
      "    ...     return a * np.exp(-b * x) + c\n",
      "    \n",
      "    Define the data to be fit with some noise:\n",
      "    \n",
      "    >>> xdata = np.linspace(0, 4, 50)\n",
      "    >>> y = func(xdata, 2.5, 1.3, 0.5)\n",
      "    >>> np.random.seed(1729)\n",
      "    >>> y_noise = 0.2 * np.random.normal(size=xdata.size)\n",
      "    >>> ydata = y + y_noise\n",
      "    >>> plt.plot(xdata, ydata, 'b-', label='data')\n",
      "    \n",
      "    Fit for the parameters a, b, c of the function `func`:\n",
      "    \n",
      "    >>> popt, pcov = curve_fit(func, xdata, ydata)\n",
      "    >>> popt\n",
      "    array([ 2.55423706,  1.35190947,  0.47450618])\n",
      "    >>> plt.plot(xdata, func(xdata, *popt), 'r-',\n",
      "    ...          label='fit: a=%5.3f, b=%5.3f, c=%5.3f' % tuple(popt))\n",
      "    \n",
      "    Constrain the optimization to the region of ``0 <= a <= 3``,\n",
      "    ``0 <= b <= 1`` and ``0 <= c <= 0.5``:\n",
      "    \n",
      "    >>> popt, pcov = curve_fit(func, xdata, ydata, bounds=(0, [3., 1., 0.5]))\n",
      "    >>> popt\n",
      "    array([ 2.43708906,  1.        ,  0.35015434])\n",
      "    >>> plt.plot(xdata, func(xdata, *popt), 'g--',\n",
      "    ...          label='fit: a=%5.3f, b=%5.3f, c=%5.3f' % tuple(popt))\n",
      "    \n",
      "    >>> plt.xlabel('x')\n",
      "    >>> plt.ylabel('y')\n",
      "    >>> plt.legend()\n",
      "    >>> plt.show()\n",
      "\n"
     ]
    }
   ],
   "source": [
    "help(curve_fit)"
   ]
  },
  {
   "cell_type": "markdown",
   "id": "e8267e27",
   "metadata": {},
   "source": [
    "# Aufgabe 3/4 \n",
    "Daten von Andre"
   ]
  },
  {
   "cell_type": "code",
   "execution_count": 95,
   "id": "71ca4b4a",
   "metadata": {},
   "outputs": [],
   "source": [
    "Frequenz_A3=[1001,2000,3009,4000,5012,6009.6,6999,8000,9005,10001]       #in kHz\n",
    "\n",
    "\n",
    "Uss_C_A3=[22,22,22,22,22,22,21,21,21,20]                       #in V\n",
    "Uss_R_A3=[0.15,0.3,0.45,0.6,0.72,0.85,1,1.1,1.25,1.35]         #in V\n",
    "Phase_A3_tdif=[0.25,0.12,0.08,0.06,0.05,0.025,0.036,0.03,0.028,0.024]    #in ms\n",
    "phase_T_halbe_a3_mess=[0.45, 0.22, 0.2, 0.1, 0.08, 0.04, 0.065, 0.05, 0.063, 0.055]\n",
    "Rp = 10* np.ones(len(Uss_C_A3))"
   ]
  },
  {
   "cell_type": "code",
   "execution_count": 90,
   "id": "8a0fbc39",
   "metadata": {},
   "outputs": [],
   "source": [
    "U_2= np.array(Uss_R_A3)\n",
    "U_1 = np.array(Uss_C_A3)\n",
    "f3 = np.array(Frequenz_A3)\n",
    "tD3 =  np.array(Phase_A3_tdif)\n",
    "T_halb3 = np.array(phase_T_halbe_a3_mess)"
   ]
  },
  {
   "cell_type": "code",
   "execution_count": 96,
   "id": "85b4fb03",
   "metadata": {},
   "outputs": [
    {
     "data": {
      "text/plain": [
       "array([1456.66666667,  723.33333333,  478.88888889,  356.66666667,\n",
       "        295.55555556,  248.82352941,  200.        ,  180.90909091,\n",
       "        158.        ,  138.14814815])"
      ]
     },
     "execution_count": 96,
     "metadata": {},
     "output_type": "execute_result"
    }
   ],
   "source": [
    "Z3 = Z_1(U_1,U_2, Rp)\n",
    "Z3"
   ]
  },
  {
   "cell_type": "markdown",
   "id": "6f1fc411",
   "metadata": {},
   "source": [
    "## Feblerrechnung"
   ]
  },
  {
   "cell_type": "markdown",
   "id": "7e1093f9",
   "metadata": {},
   "source": [
    "Fehler:  \n",
    "$U_1 =  3.5\\% + 10 \\text{Ziffern}$ vom Blatt Technische Daten  \n",
    "$U_2 = 3.5\\% + 10 \\text{Ziffern}$ vom Blatt Technische Daten  \n",
    "$f3 = 1.5\\% + 5$ Ziffern vom Blatt Technische Daten  \n",
    "$t_D$ und $T_{1/2}$ werden jeweils mit $10\\%$ abgeschätzt  \n",
    "$0.8\\% + 4$ Ziffern für den ohmschen Widerstand $R_p$ vom Blatt Technische Daten  "
   ]
  },
  {
   "cell_type": "code",
   "execution_count": 98,
   "id": "8522f85f",
   "metadata": {},
   "outputs": [
    {
     "name": "stdout",
     "output_type": "stream",
     "text": [
      "[0.00525 0.0105  0.01575 0.021   0.0252  0.02975 0.035   0.0385  0.04375\n",
      " 0.04725]\n"
     ]
    }
   ],
   "source": [
    "u_U1 = 0.25 * np.ones(len(Uss_R_A3))\n",
    "u_U2 = 0.035 * U_2\n",
    "u_f3 = f3 * 0.015\n",
    "u_tD3  = tD3 * 0.1\n",
    "u_T_halb = T_halb3 * 0.1\n",
    "u_Rp = Rp* 0.008 \n",
    "print(u_U2)"
   ]
  },
  {
   "cell_type": "markdown",
   "id": "980b8cd9",
   "metadata": {},
   "source": [
    "### Fehlerrechnung von $|Z|(f)$\n",
    "$$ u_z = \\sqrt{(\\partial_R |Z|)^2 u_R^2 + (\\partial_{U_1} |Z|)^2 u_{U_1}^2 + (\\partial_{U_2} |Z|)^2 u_{U_2}^2} $$"
   ]
  },
  {
   "cell_type": "code",
   "execution_count": 99,
   "id": "d8a51ac4",
   "metadata": {},
   "outputs": [
    {
     "name": "stdout",
     "output_type": "stream",
     "text": [
      "[55.21493518 27.59905312 18.39379606 13.79119526 11.48991152  9.73012047\n",
      "  7.9266954   7.20462225  6.3381461   5.61577555]\n"
     ]
    }
   ],
   "source": [
    "c = Z3**2 * (u_Rp/Rp)**2\n",
    "d = Rp**2/U_2**2 * (u_U1**2 + u_U2**2 *(U_1/U_2)**2)\n",
    "u_Z3_v2= np.sqrt(d+c)\n",
    "u_Z3 = np.sqrt(((U_1-U_2)**2/(U_2**2)*u_Rp**2+R_p**2 *u_U1**2 / U_2**4  \n",
    "                +  R_p**2 *((U_1-1-U_2)/U_2**2)**2*u_U1**2)) #\n",
    "                \n",
    "                  \n",
    "print(u_Z3_v2)"
   ]
  },
  {
   "cell_type": "markdown",
   "id": "e319b691",
   "metadata": {},
   "source": [
    "## Visualisierung"
   ]
  },
  {
   "cell_type": "code",
   "execution_count": 100,
   "id": "ca8c9cbb",
   "metadata": {},
   "outputs": [
    {
     "data": {
      "image/png": "[encoded data removed]",
      "text/plain": [
       "<Figure size 432x288 with 1 Axes>"
      ]
     },
     "metadata": {
      "needs_background": "light"
     },
     "output_type": "display_data"
    }
   ],
   "source": [
    "plt.errorbar(f3, Z3,fmt='.',color='red',yerr=u_Z3_v2,label='Messpunkte')#yerr=u_Z3,\n",
    "plt.legend()\n",
    "plt.show()"
   ]
  },
  {
   "cell_type": "markdown",
   "id": "7d87ce21",
   "metadata": {
    "tags": []
   },
   "source": [
    "## Regression"
   ]
  },
  {
   "cell_type": "code",
   "execution_count": 101,
   "id": "617001bd",
   "metadata": {},
   "outputs": [],
   "source": [
    "#help(curve_fit)"
   ]
  },
  {
   "cell_type": "code",
   "execution_count": 102,
   "id": "a6bac11f",
   "metadata": {},
   "outputs": [
    {
     "name": "stdout",
     "output_type": "stream",
     "text": [
      "[[ 6.31729319e-17 -1.15289134e-13]\n",
      " [-1.15289134e-13  3.77966364e-10]]\n",
      "a = (7.00+/-0.08)e-07\n",
      "b = (-1.6+/-1.9)e-05\n"
     ]
    }
   ],
   "source": [
    "pop3,cov3 = curve_fit(reg2,f3,Z3,sigma=u_Z3_v2)\n",
    "a3,b3 = pop3\n",
    "print(cov3)\n",
    "da3,db3=np.sqrt(np.diag(cov3))\n",
    "print(f'a = {ufloat(a3,da3)}')\n",
    "print(f'b = {ufloat(b3,db3)}')"
   ]
  },
  {
   "cell_type": "markdown",
   "id": "0dfca8bb",
   "metadata": {},
   "source": [
    "### Visualisierung"
   ]
  },
  {
   "cell_type": "code",
   "execution_count": 103,
   "id": "2a450aeb",
   "metadata": {},
   "outputs": [],
   "source": [
    "fff = np.arange(900, 11000,100)\n",
    "Z_fit = reg2(fff,a3,b3)"
   ]
  },
  {
   "cell_type": "code",
   "execution_count": 104,
   "id": "2d3f30ad",
   "metadata": {},
   "outputs": [
    {
     "data": {
      "image/png": "[encoded data removed]",
      "text/plain": [
       "<Figure size 432x288 with 1 Axes>"
      ]
     },
     "metadata": {
      "needs_background": "light"
     },
     "output_type": "display_data"
    }
   ],
   "source": [
    "plt.errorbar(f3, Z3,fmt='.',color='red',yerr=u_Z3_v2,label='Messpunkte')\n",
    "plt.plot(fff,Z_fit,label=r'Fit: $|Z|(f) = \\frac{1}{a\\cdot f+b}$')\n",
    "plt.xlabel(r'Frequenz $f$ [Hz]')\n",
    "plt.ylabel(r'Scheinwiderstand $|Z|(f)$ [$\\Omega$]')#  \n",
    "plt.legend()\n",
    "plt.show()"
   ]
  },
  {
   "cell_type": "markdown",
   "id": "c2f307dc",
   "metadata": {},
   "source": [
    "## $\\chi^2$ "
   ]
  },
  {
   "cell_type": "code",
   "execution_count": 105,
   "id": "22d85783",
   "metadata": {},
   "outputs": [
    {
     "name": "stdout",
     "output_type": "stream",
     "text": [
      "1.034574491032342\n"
     ]
    }
   ],
   "source": [
    "# reduziertes chi^2\n",
    "chi3 = chi_square(Z3,reg2(f3,a3,b3),u_Z3_v2)-2\n",
    "print(chi3)\n",
    "# test3 = (Z3-reg2(f3,a3,b3))**2/reg2(f3,a3,b3)**2 # Formel aus Das Taschenbuch der Mathematik\n",
    "# test3 = test3.sum()#-2\n",
    "# print(test3)"
   ]
  },
  {
   "cell_type": "markdown",
   "id": "c780169f",
   "metadata": {},
   "source": [
    "## $R^2$"
   ]
  },
  {
   "cell_type": "code",
   "execution_count": 106,
   "id": "ac1ef0b1",
   "metadata": {},
   "outputs": [
    {
     "name": "stdout",
     "output_type": "stream",
     "text": [
      "0.6117258647200047\n"
     ]
    }
   ],
   "source": [
    "X = sm.add_constant(f3)\n",
    "model3 = sm.OLS(Z3, X).fit()\n",
    "\n",
    "# angepasstes R-Quadrat anzeigen\n",
    "print(model3.rsquared_adj)"
   ]
  },
  {
   "cell_type": "markdown",
   "id": "6da84019",
   "metadata": {},
   "source": [
    "## Residuen"
   ]
  },
  {
   "cell_type": "code",
   "execution_count": 107,
   "id": "20f6efa9",
   "metadata": {},
   "outputs": [
    {
     "name": "stdout",
     "output_type": "stream",
     "text": [
      "[ 2.67897455 -0.36250461 -0.93739447 -0.97525096 -0.75948711 -0.50345813\n",
      " -0.26338123  0.11849741  0.51663641  0.98411127]\n"
     ]
    }
   ],
   "source": [
    "# für simulierte Daten:\n",
    "influence_A3 = model3.get_influence()\n",
    "\n",
    "# standardisierte Residuen erhalten\n",
    "standardized_residuals_A3 = influence_A3.resid_studentized_internal\n",
    "\n",
    "# standardisierte Residuen anzeigen\n",
    "print(standardized_residuals_A3)"
   ]
  },
  {
   "cell_type": "code",
   "execution_count": 108,
   "id": "eaf87a18",
   "metadata": {},
   "outputs": [
    {
     "data": {
      "image/png": "[encoded data removed]",
      "text/plain": [
       "<Figure size 432x288 with 1 Axes>"
      ]
     },
     "metadata": {
      "needs_background": "light"
     },
     "output_type": "display_data"
    }
   ],
   "source": [
    "res3 = Z3- reg2(f3,a3,b3)\n",
    "plt.plot(f3, res3,'o')\n",
    "plt.xlabel('Frequenz')\n",
    "plt.ylabel('Standardisierte Residuen')\n",
    "plt.axhline(y=0, color='black', linestyle='-', linewidth=1)\n",
    "plt.show()"
   ]
  },
  {
   "cell_type": "markdown",
   "id": "29856137",
   "metadata": {},
   "source": [
    "# A5/A6"
   ]
  },
  {
   "cell_type": "code",
   "execution_count": 109,
   "id": "fbbdb71d",
   "metadata": {},
   "outputs": [],
   "source": [
    "Frequenz_A5=[30,40,50,60,70,80,90,100,200,300,400,500]       #in Hz\n",
    "\n",
    "Uss_L_A5=[18,19,19,20,20,20,21,21,22,22,22,23]                       #in V\n",
    "Uss_R_A5=[0.9,0.86,0.8,0.76,0.7,0.66,0.6,0.56,0.32,0.23,0.17,0.14]         #in V\n",
    "Phase_A5_tdif=[2.5,2,2,2,1.25,1.4,1.4,1.4,1,0.6,0.4,0.38]\n",
    "Phase_A5_T12=[12.50, 8.30, 8.00, 6.50, 4.20, 3.80, 3.80, 3.70, 2.25, 1.40, 0.90, 0.75]"
   ]
  },
  {
   "cell_type": "code",
   "execution_count": 110,
   "id": "34f81e8f",
   "metadata": {},
   "outputs": [],
   "source": [
    "U_2_5= np.array(Uss_R_A5)\n",
    "U_1_5 = np.array(Uss_L_A5)\n",
    "f5 = np.array(Frequenz_A5)\n",
    "tD5 =  np.array(Phase_A5_tdif)\n",
    "T_halb5 = np.array(Phase_A5_T12)\n",
    "Rp =  10* np.ones(len(U_1_5))"
   ]
  },
  {
   "cell_type": "code",
   "execution_count": 111,
   "id": "3b835506",
   "metadata": {},
   "outputs": [
    {
     "data": {
      "text/plain": [
       "array([ 190.        ,  210.93023256,  227.5       ,  253.15789474,\n",
       "        275.71428571,  293.03030303,  340.        ,  365.        ,\n",
       "        677.5       ,  946.52173913, 1284.11764706, 1632.85714286])"
      ]
     },
     "execution_count": 111,
     "metadata": {},
     "output_type": "execute_result"
    }
   ],
   "source": [
    "Z5 = Z_1(U_1_5,U_2_5,  Rp)\n",
    "Z5"
   ]
  },
  {
   "cell_type": "markdown",
   "id": "a9021665",
   "metadata": {},
   "source": [
    "## Fehlerrechnung"
   ]
  },
  {
   "cell_type": "code",
   "execution_count": 112,
   "id": "eb760830",
   "metadata": {},
   "outputs": [
    {
     "name": "stdout",
     "output_type": "stream",
     "text": [
      "[0.036  0.0344 0.032  0.0304 0.028  0.0264 0.024  0.0224 0.0128 0.0092\n",
      " 0.0068 0.0056]\n"
     ]
    }
   ],
   "source": [
    "u_U15 = 0.04 * U_1_5#0.25 * np.ones(len(U_2_5))\n",
    "u_U25 = 0.04 * U_2_5\n",
    "u_f5 = f5 * 0.015\n",
    "u_tD5  = tD5 * 0.1\n",
    "u_T_halb5 = T_halb5 * 0.1\n",
    "u_Rp = Rp* 0.01 \n",
    "print(u_U25)"
   ]
  },
  {
   "cell_type": "code",
   "execution_count": 113,
   "id": "a7338ebb",
   "metadata": {},
   "outputs": [],
   "source": [
    "c = Z5**2 * (u_Rp/Rp)**2\n",
    "d = Rp**2/U_2_5**2 * (u_U15**2 + u_U25**2 *(U_1_5/U_2_5)**2)\n",
    "u_Z5= np.sqrt(d+c)"
   ]
  },
  {
   "cell_type": "markdown",
   "id": "7909f2bc",
   "metadata": {},
   "source": [
    "## Visualisierung"
   ]
  },
  {
   "cell_type": "code",
   "execution_count": 114,
   "id": "c0b2854b",
   "metadata": {},
   "outputs": [
    {
     "data": {
      "image/png": "[encoded data removed]",
      "text/plain": [
       "<Figure size 432x288 with 1 Axes>"
      ]
     },
     "metadata": {
      "needs_background": "light"
     },
     "output_type": "display_data"
    }
   ],
   "source": [
    "plt.errorbar(f5,Z5,yerr= u_Z5, fmt='.',color='red',label='Messpunkte')\n",
    "plt.xlabel(r'Frequenz $f$ [Hz]')\n",
    "plt.ylabel(r'Scheinwiderstand $|Z|(f)$ [$\\Omega$]')#  \n",
    "plt.legend()\n",
    "plt.show()"
   ]
  },
  {
   "cell_type": "markdown",
   "id": "0ec23fc1",
   "metadata": {},
   "source": [
    "## Regression"
   ]
  },
  {
   "cell_type": "code",
   "execution_count": 115,
   "id": "a9a63fc0",
   "metadata": {},
   "outputs": [
    {
     "name": "stdout",
     "output_type": "stream",
     "text": [
      "[[ 6.31729319e-17 -1.15289134e-13]\n",
      " [-1.15289134e-13  3.77966364e-10]]\n",
      "a = 2.89+/-0.09\n",
      "b = 86+/-7\n"
     ]
    }
   ],
   "source": [
    "pop5,cov5 = curve_fit(reg,f5,Z5,sigma=u_Z5)\n",
    "a5,b5 = pop5\n",
    "print(cov3)\n",
    "da5,db5=np.sqrt(np.diag(cov5))\n",
    "print(f'a = {ufloat(a5,da5)}')\n",
    "print(f'b = {ufloat(b5,db5)}')"
   ]
  },
  {
   "cell_type": "markdown",
   "id": "39dc414a",
   "metadata": {
    "tags": []
   },
   "source": [
    "### Plot"
   ]
  },
  {
   "cell_type": "code",
   "execution_count": 116,
   "id": "4cf0f8be",
   "metadata": {},
   "outputs": [],
   "source": [
    "ff5 = np.arange(10,550,10)\n",
    "ZZ5 = reg(ff5,a5,b5)"
   ]
  },
  {
   "cell_type": "code",
   "execution_count": 117,
   "id": "d3adf82b",
   "metadata": {},
   "outputs": [
    {
     "data": {
      "image/png": "[encoded data removed]",
      "text/plain": [
       "<Figure size 432x288 with 1 Axes>"
      ]
     },
     "metadata": {
      "needs_background": "light"
     },
     "output_type": "display_data"
    }
   ],
   "source": [
    "plt.errorbar(f5,Z5,yerr= u_Z5, fmt='.',color='red',label='Messpunkte')\n",
    "plt.plot(ff5,ZZ5,label='Fit')\n",
    "plt.xlabel(r'Frequenz $f$ [Hz]')\n",
    "plt.ylabel(r'Scheinwiderstand $|Z|(f)$ [$\\Omega$]')#  \n",
    "plt.legend()\n",
    "plt.show()"
   ]
  },
  {
   "cell_type": "markdown",
   "id": "8590218d",
   "metadata": {},
   "source": [
    "## $R^2$"
   ]
  },
  {
   "cell_type": "code",
   "execution_count": 118,
   "id": "bf67a88c",
   "metadata": {},
   "outputs": [
    {
     "name": "stdout",
     "output_type": "stream",
     "text": [
      "0.997946170982064\n"
     ]
    }
   ],
   "source": [
    "X = sm.add_constant(f5)\n",
    "model5 = sm.OLS(Z5, X).fit()\n",
    "\n",
    "# angepasstes R-Quadrat anzeigen\n",
    "R_quad_5= model5.rsquared_adj\n",
    "print(R_quad_5)"
   ]
  },
  {
   "cell_type": "markdown",
   "id": "eb3066b3",
   "metadata": {},
   "source": [
    "## $\\chi^2$"
   ]
  },
  {
   "cell_type": "code",
   "execution_count": 119,
   "id": "79270887",
   "metadata": {},
   "outputs": [
    {
     "name": "stdout",
     "output_type": "stream",
     "text": [
      "5.479596144468922\n"
     ]
    }
   ],
   "source": [
    "chi5 = chi_square(Z5,reg(f5,a5,b5),u_Z5)-2\n",
    "print(chi5)"
   ]
  },
  {
   "cell_type": "code",
   "execution_count": 120,
   "id": "c8413f91",
   "metadata": {},
   "outputs": [
    {
     "data": {
      "text/plain": [
       "7.479596144468922"
      ]
     },
     "execution_count": 120,
     "metadata": {},
     "output_type": "execute_result"
    }
   ],
   "source": [
    "test= (Z5-reg(f5,a5,b5))**2/u_Z5**2\n",
    "test = test.sum()\n",
    "test"
   ]
  },
  {
   "cell_type": "markdown",
   "id": "a1a4009c",
   "metadata": {},
   "source": [
    "## Residuen"
   ]
  },
  {
   "cell_type": "code",
   "execution_count": 121,
   "id": "1bd8637e",
   "metadata": {},
   "outputs": [
    {
     "name": "stdout",
     "output_type": "stream",
     "text": [
      "[ 1.47939788  0.99364479  0.29889905  0.05562071 -0.33682415 -0.98109593\n",
      " -0.18519482 -0.45525588 -0.14095541 -1.99448868 -0.45550219  2.25755814]\n"
     ]
    }
   ],
   "source": [
    "# für simulierte Daten:\n",
    "influence_A5 = model5.get_influence()\n",
    "\n",
    "# standardisierte Residuen erhalten\n",
    "standardized_residuals_A5 = influence_A5.resid_studentized_internal\n",
    "\n",
    "# standardisierte Residuen anzeigen\n",
    "print(standardized_residuals_A5)"
   ]
  },
  {
   "cell_type": "code",
   "execution_count": 122,
   "id": "4a9d9b9b",
   "metadata": {},
   "outputs": [
    {
     "data": {
      "image/png": "[encoded data removed]",
      "text/plain": [
       "<Figure size 432x288 with 1 Axes>"
      ]
     },
     "metadata": {
      "needs_background": "light"
     },
     "output_type": "display_data"
    }
   ],
   "source": [
    "res5 = Z5-reg(f5,a5,b5)\n",
    "plt.plot(f5, res5,'o')\n",
    "plt.xlabel('Frequenz')\n",
    "plt.ylabel('Standardisierte Residuen')\n",
    "plt.axhline(y=0, color='black', linestyle='-', linewidth=1)\n",
    "plt.show()"
   ]
  },
  {
   "cell_type": "code",
   "execution_count": null,
   "id": "9bd341f0",
   "metadata": {},
   "outputs": [],
   "source": []
  }
 ],
 "metadata": {
  "kernelspec": {
   "display_name": "Python 3",
   "language": "python",
   "name": "python3"
  },
  "language_info": {
   "codemirror_mode": {
    "name": "ipython",
    "version": 3
   },
   "file_extension": ".py",
   "mimetype": "text/x-python",
   "name": "python",
   "nbconvert_exporter": "python",
   "pygments_lexer": "ipython3",
   "version": "3.7.10"
  }
 },
 "nbformat": 4,
 "nbformat_minor": 5
}
