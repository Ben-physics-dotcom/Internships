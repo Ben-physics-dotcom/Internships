{
 "cells": [
  {
   "cell_type": "markdown",
   "id": "1000d498-fe0a-4538-9335-af0183faa826",
   "metadata": {},
   "source": [
    "# Importe"
   ]
  },
  {
   "cell_type": "code",
   "execution_count": null,
   "id": "479d4a4b-d314-48b7-a848-0d019203a0a7",
   "metadata": {
    "tags": []
   },
   "outputs": [],
   "source": [
    "import matplotlib.pyplot as plt\n",
    "import pandas as pd\n",
    "import numpy as np\n",
    "from scipy.optimize import curve_fit\n",
    "from sklearn.metrics import r2_score\n",
    "import statsmodels.api as sm\n",
    "from uncertainties import ufloat, unumpy as unp\n",
    "import uncertainties\n",
    "from uncertainties.unumpy import (nominal_values as n,std_devs as s)\n",
    "import scipy.stats as stats\n",
    "# import tikzplotlib\n",
    "\n",
    "plt.style.use('classic')\n",
    "plt.rc('text',usetex=True)\n",
    "plt.rc('axes', labelsize = 15) # Schriftgröße der x- und y-Beschriftungen"
   ]
  },
  {
   "cell_type": "markdown",
   "id": "a9f784bf-5c7b-48de-9d06-cac16d17259e",
   "metadata": {},
   "source": [
    "# Eigene Funktionen"
   ]
  },
  {
   "cell_type": "code",
   "execution_count": null,
   "id": "34f7e148-a80f-42a5-a0cc-52fa96e82cb8",
   "metadata": {},
   "outputs": [],
   "source": [
    "def reg1(x,a,b):\n",
    "    f = a/x +b\n",
    "    return f\n",
    "def reg2(x,a,b):\n",
    "    f = a * x+b\n",
    "    return f\n",
    "\n",
    "def reg3(x,a,b,c):\n",
    "    f = a* np.exp(b*x)+c\n",
    "    return f"
   ]
  },
  {
   "cell_type": "markdown",
   "id": "40518236-ea26-41a4-9cbf-eaf1dc7c8437",
   "metadata": {},
   "source": [
    "# Daten laden"
   ]
  },
  {
   "cell_type": "code",
   "execution_count": null,
   "id": "69b72e85-8ae0-4067-ae45-023b58ca7e3b",
   "metadata": {},
   "outputs": [],
   "source": [
    "# Kapazität\n",
    "C = 10e-3\n",
    "\n",
    "# Fehler\n",
    "u_U1 = 2e-3 # mV\n",
    "u_U2_Ew_ohne = 0.05  # V\n",
    "u_U2 = 0.1"
   ]
  },
  {
   "cell_type": "code",
   "execution_count": 6,
   "id": "943b81e6-f051-427d-8222-097dab548f5a",
   "metadata": {},
   "outputs": [
    {
     "name": "stdout",
     "output_type": "stream",
     "text": [
      "      I  U1    U2    R\n",
      "0  54.3  36  0.60   11\n",
      "1  19.0  39  2.10  111\n",
      "2  11.5  39  2.40  211\n",
      "3   8.3  39  2.57  311\n",
      "4   6.5  39  2.66  411\n"
     ]
    }
   ],
   "source": [
    "Ew_o = pd.read_csv('Einweg_ohne.txt',sep='\\t')\n",
    "print(Ew_o.head())\n",
    "Ew_m = pd.read_csv('Einweg_mit.txt',sep='\\t')\n",
    "# print(Ew_m.head())\n",
    "Zw_o = pd.read_csv('Zweiweg_ohne.txt',sep='\\t')\n",
    "# print(Zw_o.head())\n",
    "Zw_m = pd.read_csv('Zweiweg_mit.txt',sep='\\t')\n",
    "# print(Zw_m.head())"
   ]
  },
  {
   "cell_type": "code",
   "execution_count": 7,
   "id": "0adceb7c-deb5-4e1c-9322-d01a507cb541",
   "metadata": {},
   "outputs": [],
   "source": [
    "# Fehlerrechnung Dekadenwiderstand: 0.02 Ohm + 0.003 * Messwert\n",
    "u_R1 = np.ones(10) # für Ew_m\n",
    "u_R2 = np.ones(10) # sonst\n",
    "u_r = np.sqrt((0.02+ 0.0003*1)**2+(0.02+ 0.003*10)**2)\n",
    "\n",
    "for i in range(10):\n",
    "    u_R2[i] = np.sqrt((0.02+ 0.0003*100*i)**2 + u_r**2)\n",
    "    if i ==0:\n",
    "        u_R1[i] = np.sqrt((0.02+ 0.0003*100*i)**2 + (0.02+ 0.0003*1)**2)\n",
    "    else:\n",
    "        u_R1[i] = np.sqrt((0.02+ 0.0003*100*i)**2 + u_r**2)"
   ]
  },
  {
   "cell_type": "markdown",
   "id": "c2d0b933-b77f-4db1-973e-93ac7ddb8d3b",
   "metadata": {},
   "source": [
    "# Datenanalyse"
   ]
  },
  {
   "cell_type": "code",
   "execution_count": 8,
   "id": "85b9ecae-5223-4c32-8f13-859637c4c0d5",
   "metadata": {},
   "outputs": [],
   "source": [
    "# Strom\n",
    "I_Ew_o = Ew_o['I']\n",
    "I_Ew_m = Ew_m['I']\n",
    "I_Zw_o = Zw_o['I']\n",
    "I_Zw_m = Zw_m['I']\n",
    "\n",
    "# Spannung\n",
    "U_Ew_o = Ew_o['U2']\n",
    "U_Ew_m = Ew_m['U2']\n",
    "U_Zw_o = Zw_o['U2']\n",
    "U_Zw_m = Zw_m['U2']"
   ]
  },
  {
   "cell_type": "markdown",
   "id": "e8949df1-695d-451b-bccd-5f1c10b9275b",
   "metadata": {},
   "source": [
    "## Visualisierung"
   ]
  },
  {
   "cell_type": "code",
   "execution_count": 9,
   "id": "cf8a78f7-a477-48c9-8feb-8cd5861e2798",
   "metadata": {},
   "outputs": [
    {
     "name": "stdout",
     "output_type": "stream",
     "text": [
      "10\n",
      "10\n"
     ]
    }
   ],
   "source": [
    "print(len(I_Ew_o))\n",
    "print(len(U_Ew_o))"
   ]
  },
  {
   "cell_type": "code",
   "execution_count": 11,
   "id": "3511988c-2b8f-4b95-88d5-cb6f6c0f2709",
   "metadata": {},
   "outputs": [
    {
     "data": {
      "image/png": "[encoded data removed]",
      "text/plain": [
       "<Figure size 640x480 with 1 Axes>"
      ]
     },
     "metadata": {},
     "output_type": "display_data"
    }
   ],
   "source": [
    "plt.plot(I_Ew_o,U_Ew_o,'r.',label='Ew o')\n",
    "plt.plot(I_Ew_m,U_Ew_m,'g.',label='Ew m')\n",
    "plt.plot(I_Zw_o,U_Zw_o,'k.',label='Zw o')\n",
    "plt.plot(I_Zw_m,U_Zw_m,'b.',label='Zw m')\n",
    "plt.legend()\n",
    "plt.show()"
   ]
  },
  {
   "cell_type": "markdown",
   "id": "7da3f308-22c2-4d98-b4e5-f7f5fde13cde",
   "metadata": {},
   "source": [
    "## Regression"
   ]
  },
  {
   "cell_type": "markdown",
   "id": "cbc90c89-df0e-40cd-9e48-d59cd9bed0fb",
   "metadata": {},
   "source": [
    "### mit scipy"
   ]
  },
  {
   "cell_type": "code",
   "execution_count": 12,
   "id": "63b8ee13-11f7-47df-8682-f362b0fe62bf",
   "metadata": {},
   "outputs": [
    {
     "name": "stdout",
     "output_type": "stream",
     "text": [
      "a1 und b1\n",
      "-0.04307+/-0.00034\n",
      "2.930+/-0.006 \n",
      "\n",
      "a2 und b2\n",
      "-0.0429+/-0.0009\n",
      "5.88+/-0.04 \n",
      "\n",
      "a3 und b3\n",
      "25.0+/-0.9\n",
      "0.80+/-0.11 \n",
      "\n",
      "a4 und b4\n",
      "43+/-8\n",
      "2.5+/-0.6 \n",
      "\n"
     ]
    }
   ],
   "source": [
    "# a/x verhältnis\n",
    "pop, cov = curve_fit(reg2,I_Ew_o,U_Ew_o,sigma = np.ones(10)*u_U2_Ew_ohne)\n",
    "a1, b1 = pop\n",
    "da1, db1 = np.sqrt(np.diag(cov))\n",
    "a1_err = ufloat(a1,da1)\n",
    "b1_err = ufloat(b1,db1)\n",
    "print('a1 und b1')\n",
    "print(ufloat(a1,da1))\n",
    "print(ufloat(b1,db1),'\\n')\n",
    "\n",
    "pop, cov = curve_fit(reg2,I_Zw_o,U_Zw_o,sigma = np.ones(10)*u_U2)\n",
    "a2, b2 = pop\n",
    "da2, db2 = np.sqrt(np.diag(cov))\n",
    "\n",
    "# a * x verhältnis\n",
    "pop, cov = curve_fit(reg1,I_Ew_m,U_Ew_m,sigma = np.ones(10)*u_U2)\n",
    "a3, b3 = pop\n",
    "da3, db3 = np.sqrt(np.diag(cov))\n",
    "\n",
    "pop, cov = curve_fit(reg1,I_Zw_m,U_Zw_m,sigma = np.ones(10)*u_U2)\n",
    "a4, b4 = pop\n",
    "da4, db4 = np.sqrt(np.diag(cov))\n",
    "\n",
    "a2_err = ufloat(a2,da2)\n",
    "b2_err = ufloat(b2,db2)\n",
    "print('a2 und b2')\n",
    "print(a2_err)\n",
    "print(b2_err,'\\n')\n",
    "a3_err = ufloat(a3,da3)\n",
    "b3_err = ufloat(b3,db3)\n",
    "print('a3 und b3')\n",
    "print(a3_err)\n",
    "print(b3_err,'\\n')\n",
    "a4_err = ufloat(a4,da4)\n",
    "b4_err = ufloat(b4,db4)\n",
    "print('a4 und b4')\n",
    "print(a4_err)\n",
    "print(b4_err,'\\n')"
   ]
  },
  {
   "cell_type": "code",
   "execution_count": 13,
   "id": "02343bf8-d18f-41ea-95a2-617386eb685d",
   "metadata": {},
   "outputs": [],
   "source": [
    "pop, cov = curve_fit(reg3,I_Ew_m,U_Ew_m,sigma = np.ones(10)*u_U2,maxfev=5000)\n",
    "a33, b33,c3  = pop\n",
    "da33, db33,dc3  = np.sqrt(np.diag(cov))\n",
    "\n",
    "pop, cov = curve_fit(reg3,I_Zw_m,U_Zw_m,sigma = np.ones(10)*u_U2,maxfev=5000)\n",
    "a44, b44 ,c4 = pop\n",
    "da44, db44,c4  = np.sqrt(np.diag(cov))"
   ]
  },
  {
   "cell_type": "code",
   "execution_count": 14,
   "id": "1dbb7283-6d65-4122-8194-576be190407b",
   "metadata": {},
   "outputs": [
    {
     "name": "stdout",
     "output_type": "stream",
     "text": [
      "10023.006414979489\n"
     ]
    }
   ],
   "source": [
    "print(c3)"
   ]
  },
  {
   "cell_type": "markdown",
   "id": "a2a08a57-84f5-42a9-b148-89b8c4131db5",
   "metadata": {},
   "source": [
    "### mit statsmodel"
   ]
  },
  {
   "cell_type": "code",
   "execution_count": null,
   "id": "7163b2d5-ce3b-494f-87fd-bb81cc3cdb72",
   "metadata": {},
   "outputs": [],
   "source": []
  },
  {
   "cell_type": "markdown",
   "id": "984c6c2e-636d-4cb8-b66b-c5065d29e7cf",
   "metadata": {
    "tags": []
   },
   "source": [
    "## Plot"
   ]
  },
  {
   "cell_type": "code",
   "execution_count": 15,
   "id": "adae4ee1-706e-4e14-9621-7532ef583275",
   "metadata": {},
   "outputs": [],
   "source": [
    "x = np.arange(1, 120, 1)\n",
    "xx = np.arange(5,120,1)\n",
    "y1 = reg2(np.arange(2,60,1), a1, b1)\n",
    "y2 = reg2(x,a2,b2)\n",
    "y3 = reg1(x,a3,b3)\n",
    "yy3 = reg1(np.arange(5,25,1),a3,b3)\n",
    "y4 = reg1(x,a4,b4)\n",
    "yy4 = reg1(xx,a4,b4)\n",
    "I = r'$\\textbf{I}$'\n",
    "A = 'A'\n",
    "V = 'V'\n",
    "v_a = r'V/A'"
   ]
  },
  {
   "cell_type": "code",
   "execution_count": 16,
   "id": "3bae273e-a9a0-4766-b5d6-dbc7eecc2abf",
   "metadata": {},
   "outputs": [
    {
     "name": "stdout",
     "output_type": "stream",
     "text": [
      "Ewo: y_error=0.05\n",
      "\n",
      "Ewm: y_error=0.1\n",
      "\n",
      "Zwo: y_error=0.1\n",
      "\n",
      "Zwm: y_error=0.1\n",
      "\n"
     ]
    }
   ],
   "source": [
    "print(f'Ewo: y_error={u_U2_Ew_ohne}\\n')\n",
    "print(f'Ewm: y_error={u_U2}\\n')\n",
    "print(f'Zwo: y_error={u_U2}\\n')\n",
    "print(f'Zwm: y_error={u_U2}\\n')"
   ]
  },
  {
   "cell_type": "code",
   "execution_count": 17,
   "id": "bb3186ab-eb4f-47ca-a215-8cb0b3267832",
   "metadata": {},
   "outputs": [
    {
     "data": {
      "text/plain": [
       "0.05"
      ]
     },
     "execution_count": 17,
     "metadata": {},
     "output_type": "execute_result"
    }
   ],
   "source": [
    "u_U2_Ew_ohne"
   ]
  },
  {
   "cell_type": "code",
   "execution_count": 21,
   "id": "02abda14-cc70-4c45-9d3d-b295384147e9",
   "metadata": {},
   "outputs": [
    {
     "name": "stderr",
     "output_type": "stream",
     "text": [
      "<>:11: SyntaxWarning: invalid escape sequence '\\m'\n",
      "<>:11: SyntaxWarning: invalid escape sequence '\\m'\n",
      "C:\\Users\\benjf\\AppData\\Local\\Temp\\ipykernel_30832\\3382790647.py:11: SyntaxWarning: invalid escape sequence '\\m'\n",
      "  plt.errorbar(I_Zw_m,U_Zw_m,fmt='b.',yerr=u_U2,label='Zweiweg mit $C=10\\mu$F, (Zwm)')\n"
     ]
    },
    {
     "data": {
      "image/png": "[encoded data removed]",
      "text/plain": [
       "<Figure size 640x480 with 1 Axes>"
      ]
     },
     "metadata": {},
     "output_type": "display_data"
    }
   ],
   "source": [
    "plt.errorbar(I_Ew_o,U_Ew_o,fmt='r.',yerr=u_U2_Ew_ohne,label=r'Einweg ohne $C=10\\mu$F, (Ewo)')\n",
    "plt.plot(np.arange(2,60,1),y1,'r',\n",
    "         label=r'Fit: $U(I) = a_1 \\cdot I+b_1$')\n",
    "plt.errorbar(I_Ew_m,U_Ew_m,fmt='g.',yerr=u_U2,label=r'Einweg mit $C=10\\mu$F, (Ewm)')\n",
    "# plt.plot(np.arange(5,25,1),yy3,'g',\n",
    "#         label=r'Fit: $U(I) =   \\frac{a_3 }{I}+b_3$')\n",
    "# plt.plot(np.arange(5,25,1),reg3(np.arange(5,25,1),a33,b33,c3))\n",
    "plt.errorbar(I_Zw_o,U_Zw_o,fmt='k.',yerr=u_U2,label=r'Zweiweg ohne $C=10\\mu$F, (Zwo)')\n",
    "plt.plot(x,y2,'k',\n",
    "         label=r'Fit: $U(I) =a_2  \\cdot I +b_2$')\n",
    "plt.errorbar(I_Zw_m,U_Zw_m,fmt='b.',yerr=u_U2,label='Zweiweg mit $C=10\\mu$F, (Zwm)')\n",
    "# plt.plot(xx,yy4,'b',\n",
    "#         label=r'Fit: $U(I) =  \\frac{a_4}{I}+b_4$')\n",
    "#plt.plot(xx,reg3(xx,a44,b4,c4))\n",
    "plt.legend()\n",
    "plt.xlabel(r'Strom $I$ [mA]')\n",
    "plt.ylabel(r'Spannung $U_2$ [V]')\n",
    "# plt.savefig('A5-checkliste-E5.pdf',dpi=600)\n",
    "# tikzplotlib.save('A5-Tex.tex')\n",
    "plt.show()"
   ]
  },
  {
   "cell_type": "code",
   "execution_count": 22,
   "id": "203f2419-b31f-4dc9-9050-f5616c0e0df6",
   "metadata": {},
   "outputs": [
    {
     "name": "stdout",
     "output_type": "stream",
     "text": [
      "Kurzschlussstrom EW \n",
      " -68.0+/-0.6\n",
      "Kurzschlussstrom ZW \n",
      " -137.0+/-3.2\n"
     ]
    }
   ],
   "source": [
    "# Kurzschlussstrom\n",
    "# print(a1)\n",
    "I_0_EWo = b1/a1\n",
    "u_I_0_EW0 =  np.sqrt(db1**2 / a1**2+ da1**2* b1**2/ a1**4)\n",
    "print('Kurzschlussstrom EW \\n', ufloat(I_0_EWo, u_I_0_EW0))\n",
    "I_0_Zwo = b2 / a2\n",
    "u_I_0_Zwo = np.sqrt(db2**2 / a2**2+ da2**2* b2**2/ a2**4)\n",
    "print('Kurzschlussstrom ZW \\n', ufloat(I_0_Zwo, u_I_0_Zwo))"
   ]
  },
  {
   "cell_type": "code",
   "execution_count": null,
   "id": "665530c6",
   "metadata": {},
   "outputs": [],
   "source": []
  },
  {
   "cell_type": "code",
   "execution_count": null,
   "id": "37e19233",
   "metadata": {},
   "outputs": [],
   "source": []
  },
  {
   "cell_type": "code",
   "execution_count": null,
   "id": "4a891525",
   "metadata": {},
   "outputs": [],
   "source": []
  },
  {
   "cell_type": "code",
   "execution_count": null,
   "id": "506f38dc",
   "metadata": {},
   "outputs": [],
   "source": []
  },
  {
   "cell_type": "code",
   "execution_count": null,
   "id": "b9c8551c",
   "metadata": {},
   "outputs": [],
   "source": []
  }
 ],
 "metadata": {
  "kernelspec": {
   "display_name": "projects",
   "language": "python",
   "name": "python3"
  },
  "language_info": {
   "codemirror_mode": {
    "name": "ipython",
    "version": 3
   },
   "file_extension": ".py",
   "mimetype": "text/x-python",
   "name": "python",
   "nbconvert_exporter": "python",
   "pygments_lexer": "ipython3",
   "version": "3.12.8"
  }
 },
 "nbformat": 4,
 "nbformat_minor": 5
}
