{
 "cells": [
  {
   "cell_type": "markdown",
   "id": "c95144f6-1b96-4c93-b79e-2868f714f7f1",
   "metadata": {},
   "source": [
    "# Importe"
   ]
  },
  {
   "cell_type": "code",
   "execution_count": 4,
   "id": "c9dbc7e6-6651-4e02-b586-d186da94b358",
   "metadata": {},
   "outputs": [],
   "source": [
    "import numpy as np\n",
    "import matplotlib.pyplot as plt\n",
    "import pandas as pd\n",
    "from uncertainties import ufloat\n",
    "from uncertainties import unumpy as unp"
   ]
  },
  {
   "cell_type": "markdown",
   "id": "c6eef869-d2d2-4f0f-91eb-21c16e13be69",
   "metadata": {},
   "source": [
    "# Daten"
   ]
  },
  {
   "cell_type": "markdown",
   "id": "a64d6c15-8f64-4443-af64-502a53835dac",
   "metadata": {
    "tags": []
   },
   "source": [
    "## Dicke der Linse"
   ]
  },
  {
   "cell_type": "code",
   "execution_count": 16,
   "id": "a84fa110-730c-4334-ac77-e5d11c2c64fd",
   "metadata": {},
   "outputs": [],
   "source": [
    "u_g_lineal = 0.5 #cm\n",
    "u_b_lineal = 0.2  # cm\n",
    "\n",
    "# Wölbung\n",
    "h1 = 0.55 # mm\n",
    "h1_err = ufloat(0.55,0.01) # mm\n",
    "h2 = h1 # mm\n",
    "h2_err = h1_err #mm\n",
    "r = 15 # mm\n",
    "n = 1.53"
   ]
  },
  {
   "cell_type": "markdown",
   "id": "a028de64-0dc2-41e9-8dcf-f0c0f26aafd0",
   "metadata": {
    "tags": []
   },
   "source": [
    "## Gesamtlänge"
   ]
  },
  {
   "cell_type": "code",
   "execution_count": 20,
   "id": "016fed54-6995-4b03-b8dc-c42ae7e98252",
   "metadata": {},
   "outputs": [],
   "source": [
    "# Besselmethode\n",
    "# in cm\n",
    "l1 = np.array([100.1,119.7,141.2,150,157.5,167.35])\n",
    "u_l1 = np.ones(6) * np.sqrt(0.5**2+0.1*2)\n",
    "l1_err = unp.uarray(l1,u_l1)"
   ]
  },
  {
   "cell_type": "code",
   "execution_count": 21,
   "id": "b36f3380-fd77-46cd-bcd0-7d45bdf71c6f",
   "metadata": {},
   "outputs": [],
   "source": [
    "# Methode nach Abbe\n",
    "# in cm\n",
    "l2_1 = np.array([100,109.9,120.1,130,60.2,80.1])\n",
    "l2_2 = np.array([80.1,90,100,115,130.5,160.1])\n",
    "l2_1_err = unp.uarray(l2_1,u_l1)\n",
    "l2_2_err = unp.uarray(l2_2,u_l1)"
   ]
  },
  {
   "cell_type": "markdown",
   "id": "acdf8a9d-ef2b-4f14-8e3f-36b5f79e908b",
   "metadata": {},
   "source": [
    "## Besselmethode"
   ]
  },
  {
   "cell_type": "code",
   "execution_count": 18,
   "id": "71317185-1133-4142-b9f1-efcfd3cd1e24",
   "metadata": {},
   "outputs": [],
   "source": [
    "# in cm\n",
    "u_e1 = np.array([.225,.1,.2,.2,.2,.2])\n",
    "u_e2 = np.array([.225,.15,.15,.1,.1,.25])\n",
    "e1 = np.array([19,18.7,18.25,18.2,18.15,18.1])\n",
    "e2 = np.array([93.5,113,134.8,145.2,151.3,161])\n"
   ]
  },
  {
   "cell_type": "markdown",
   "id": "ca7251c1-c669-496a-b66e-5affba0d5668",
   "metadata": {
    "jp-MarkdownHeadingCollapsed": true,
    "tags": []
   },
   "source": [
    "## Methode nach Abbe"
   ]
  },
  {
   "cell_type": "code",
   "execution_count": 15,
   "id": "0c56ccd9-6325-4abb-880b-2dd426de175e",
   "metadata": {},
   "outputs": [],
   "source": [
    "# in cm\n",
    "x_1 = np.array([12.9,12.75,12.6,12.6,13.8,13.1])\n",
    "l_1 = np.array([100,109.9,120.1,130,60.2,80.1])\n",
    "G = np.ones(6)*.5\n",
    "B_1 = np.array([4.84,5.2,5.74,6.2,2.44,3.63])\n",
    "\n",
    "x_2 = np.array([11.35,11.2,11.1,10.9,10.85,10.75])\n",
    "l_2 = np.array([80.1,90,100,115,130.5,160])\n",
    "B_2 = np.array([3.53,4.2,4.17,5.63,6.32,7.94])"
   ]
  },
  {
   "cell_type": "markdown",
   "id": "75e2e4dc-f50c-4435-b43e-59fae53582ff",
   "metadata": {},
   "source": [
    "# Datenanalyse"
   ]
  },
  {
   "cell_type": "markdown",
   "id": "89088cb1-ae2c-4347-b5a0-7a3eba1f86f4",
   "metadata": {},
   "source": [
    "## Besselmethode"
   ]
  },
  {
   "cell_type": "markdown",
   "id": "6003fd9b-7f44-4338-888b-6ad4ef3b9cdb",
   "metadata": {},
   "source": [
    "Funktionen:  \n",
    "$$ b_{1,2} = \\frac{l}{2}\\pm \\sqrt{\\frac{l^2}{4}-f\\cdot l}\\\\\n",
    "f = \\frac{l^2-e^2}{4l}$$"
   ]
  },
  {
   "cell_type": "code",
   "execution_count": 19,
   "id": "a0f16022-6051-40c6-bff4-183ade9bbf81",
   "metadata": {},
   "outputs": [],
   "source": [
    "e = e2-e1\n",
    "u_e = np.sqrt(u_e1**2+u_e2**2)"
   ]
  },
  {
   "cell_type": "code",
   "execution_count": 23,
   "id": "8f9da0e8-c007-40ac-9604-9971923f9b5f",
   "metadata": {},
   "outputs": [],
   "source": [
    "f  = (l1**2-e**2)/(4*l1)"
   ]
  },
  {
   "cell_type": "code",
   "execution_count": 25,
   "id": "3fca016d-4251-4533-b462-188111ce7cc3",
   "metadata": {},
   "outputs": [],
   "source": [
    "b1 = l1/2 + np.sqrt(l1**2/4-f*l1)\n",
    "b2 = l1/2 - np.sqrt(l1**2/4-f*l1)"
   ]
  },
  {
   "cell_type": "markdown",
   "id": "3dafec9f-0170-4a57-b4b0-a31cb901970e",
   "metadata": {},
   "source": [
    "### Visualisierung"
   ]
  },
  {
   "cell_type": "code",
   "execution_count": 32,
   "id": "27f643af-4012-40e4-99a9-d30996c8bba2",
   "metadata": {},
   "outputs": [
    {
     "data": {
      "image/png": "[encoded data removed]",
      "text/plain": [
       "<Figure size 432x288 with 1 Axes>"
      ]
     },
     "metadata": {
      "needs_background": "light"
     },
     "output_type": "display_data"
    }
   ],
   "source": [
    "plt.errorbar(e,f,fmt='.k',xerr=u_e,label='f(e)')\n",
    "plt.xlabel('e')\n",
    "plt.ylabel('f')\n",
    "plt.legend(loc=3)\n",
    "plt.show()"
   ]
  },
  {
   "cell_type": "code",
   "execution_count": 30,
   "id": "c0423b82-9b24-4ff3-bf56-3792e26a0c18",
   "metadata": {},
   "outputs": [
    {
     "data": {
      "image/png": "[encoded data removed]",
      "text/plain": [
       "<Figure size 432x288 with 1 Axes>"
      ]
     },
     "metadata": {
      "needs_background": "light"
     },
     "output_type": "display_data"
    }
   ],
   "source": [
    "plt.plot(f,b1,'r.',label='b1(f)')\n",
    "#plt.plot(f,b2,'g.',label='b2(f)')\n",
    "plt.xlabel('f')\n",
    "plt.ylabel('b')\n",
    "plt.legend()\n",
    "plt.show()"
   ]
  },
  {
   "cell_type": "code",
   "execution_count": 31,
   "id": "26112b38-3212-4360-a39f-3429a004de33",
   "metadata": {},
   "outputs": [
    {
     "data": {
      "image/png": "[encoded data removed]",
      "text/plain": [
       "<Figure size 432x288 with 1 Axes>"
      ]
     },
     "metadata": {
      "needs_background": "light"
     },
     "output_type": "display_data"
    }
   ],
   "source": [
    "# plt.plot(f,b1,'r.',label='b1(f)')\n",
    "plt.plot(f,b2,'g.',label='b2(f)')\n",
    "plt.xlabel('f')\n",
    "plt.ylabel('b')\n",
    "plt.legend()\n",
    "plt.show()"
   ]
  },
  {
   "cell_type": "markdown",
   "id": "9845b8a5-6bbb-4b53-b3da-957ce32cda9f",
   "metadata": {
    "jp-MarkdownHeadingCollapsed": true,
    "tags": []
   },
   "source": [
    "## Sphörometer"
   ]
  },
  {
   "cell_type": "code",
   "execution_count": null,
   "id": "34adc85d-f471-45f2-beda-8b5b24d3175c",
   "metadata": {},
   "outputs": [],
   "source": []
  },
  {
   "cell_type": "markdown",
   "id": "3676a04e-8680-47ab-9461-59231e945e37",
   "metadata": {
    "jp-MarkdownHeadingCollapsed": true,
    "tags": []
   },
   "source": [
    "## Methode nach Abbe"
   ]
  },
  {
   "cell_type": "code",
   "execution_count": null,
   "id": "5458b6f9-9142-4cea-b73f-090410b855bb",
   "metadata": {},
   "outputs": [],
   "source": []
  }
 ],
 "metadata": {
  "kernelspec": {
   "display_name": "Python 3",
   "language": "python",
   "name": "python3"
  },
  "language_info": {
   "codemirror_mode": {
    "name": "ipython",
    "version": 3
   },
   "file_extension": ".py",
   "mimetype": "text/x-python",
   "name": "python",
   "nbconvert_exporter": "python",
   "pygments_lexer": "ipython3",
   "version": "3.7.10"
  }
 },
 "nbformat": 4,
 "nbformat_minor": 5
}
