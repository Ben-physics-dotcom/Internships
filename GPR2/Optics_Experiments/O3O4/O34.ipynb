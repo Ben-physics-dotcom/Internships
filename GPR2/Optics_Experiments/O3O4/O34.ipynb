{
 "cells": [
  {
   "cell_type": "markdown",
   "id": "40ce714c-3591-4eb8-8417-1b31f391f2da",
   "metadata": {},
   "source": [
    "# Importe"
   ]
  },
  {
   "cell_type": "code",
   "execution_count": 1,
   "id": "9572b552-4f68-4c52-a1e6-51dc884d0ad5",
   "metadata": {},
   "outputs": [],
   "source": [
    "import matplotlib.pyplot as plt\n",
    "import pandas as pd\n",
    "import numpy as np\n",
    "from scipy.optimize import curve_fit\n",
    "from sklearn.metrics import r2_score\n",
    "import statsmodels.api as sm\n",
    "from uncertainties import ufloat, unumpy as unp\n",
    "import uncertainties \n",
    "from uncertainties.unumpy import (nominal_values as n,std_devs as s)\n",
    "\n",
    "\n",
    "plt.style.use('classic')\n",
    "plt.rc('text',usetex=True) \n",
    "plt.rc ('axes', labelsize = 20) # Schriftgröße der x- und y-Beschriftungen"
   ]
  },
  {
   "cell_type": "markdown",
   "id": "3989f9bb-8395-4f8f-8312-4ff3602f8a8a",
   "metadata": {},
   "source": [
    "# Definition eigener Funktionen"
   ]
  },
  {
   "cell_type": "code",
   "execution_count": 2,
   "id": "824a5a32-e199-45b5-8439-e6d708c30821",
   "metadata": {},
   "outputs": [],
   "source": [
    "def reg(x,a,b):\n",
    "    regg = a*x+b\n",
    "    return regg"
   ]
  },
  {
   "cell_type": "markdown",
   "id": "6e245149-9ff6-4458-95eb-e385544b5f61",
   "metadata": {},
   "source": [
    "# Daten laden"
   ]
  },
  {
   "cell_type": "code",
   "execution_count": null,
   "id": "d2c5798b-79f5-49e3-b09e-a921dc528de7",
   "metadata": {},
   "outputs": [],
   "source": []
  }
 ],
 "metadata": {
  "kernelspec": {
   "display_name": "Python 3",
   "language": "python",
   "name": "python3"
  },
  "language_info": {
   "codemirror_mode": {
    "name": "ipython",
    "version": 3
   },
   "file_extension": ".py",
   "mimetype": "text/x-python",
   "name": "python",
   "nbconvert_exporter": "python",
   "pygments_lexer": "ipython3",
   "version": "3.7.10"
  }
 },
 "nbformat": 4,
 "nbformat_minor": 5
}
